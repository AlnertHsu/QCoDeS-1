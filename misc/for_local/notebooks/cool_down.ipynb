{
 "cells": [
  {
   "cell_type": "markdown",
   "metadata": {},
   "source": [
    "# Initialization"
   ]
  },
  {
   "cell_type": "code",
   "execution_count": null,
   "metadata": {},
   "outputs": [],
   "source": [
    "%matplotlib inline\n",
    "import os, sys\n",
    "import matplotlib.pyplot as plt\n",
    "import numpy as np\n",
    "from pprint import pprint\n",
    "from tqdm.notebook import tqdm\n",
    "\n",
    "from time import sleep, monotonic, time\n",
    "import datetime as dt\n",
    "\n",
    "import qcodes as qc\n",
    "from qcodes import Parameter\n",
    "from qcodes import initialise_or_create_database_at\n",
    "from qcodes.dataset.plotting import plot_dataset, plot_by_id\n",
    "from qcodes.utils.metadata import diff_param_values\n",
    "from qcodes.instrument.specialized_parameters import ElapsedTimeParameter\n",
    "from qcodes.dataset.measurements import Measurement\n",
    "\n",
    "sys.path.append(\"C:/Users/TUD210595/Documents/LOCAL_Qcodes/scripts\")\n",
    "from sweeps import do1d, do2d, time_sweep, measure_until, do1d_until\n",
    "\n",
    "import warnings\n",
    "warnings.filterwarnings('ignore')"
   ]
  },
  {
   "cell_type": "markdown",
   "metadata": {},
   "source": [
    "To modify list of instruments, eddit file\n",
    "\"C:\\Users\\TUD210595\\Documents\\LOCAL_Qcodes\\scripts\\init_VectorJanis.py\""
   ]
  },
  {
   "cell_type": "code",
   "execution_count": null,
   "metadata": {},
   "outputs": [],
   "source": [
    "fridge_name = 'VectorJanis'\n",
    "%run C:\\Users\\TUD210595\\Documents\\LOCAL_Qcodes\\scripts\\init_fridge.py {fridge_name}"
   ]
  },
  {
   "cell_type": "markdown",
   "metadata": {},
   "source": [
    "Here are all the instruments we have:"
   ]
  },
  {
   "cell_type": "code",
   "execution_count": null,
   "metadata": {},
   "outputs": [],
   "source": [
    "station.components"
   ]
  },
  {
   "cell_type": "markdown",
   "metadata": {},
   "source": [
    "Zero dacs and lockin"
   ]
  },
  {
   "cell_type": "code",
   "execution_count": null,
   "metadata": {},
   "outputs": [],
   "source": [
    "ivvi.set_dacs_zero()\n",
    "lockin_1.amplitude(0.004)"
   ]
  },
  {
   "cell_type": "markdown",
   "metadata": {},
   "source": [
    "## DAC rates"
   ]
  },
  {
   "cell_type": "markdown",
   "metadata": {},
   "source": [
    "Change the dac rate (same idea as with qtlab, but two commands are used)"
   ]
  },
  {
   "cell_type": "code",
   "execution_count": null,
   "metadata": {},
   "outputs": [],
   "source": [
    "ivvi.dac1.step = 50\n",
    "ivvi.dac1.inter_delay = 0.05\n",
    "ivvi.dac2.step = 50\n",
    "ivvi.dac2.inter_delay = 0.05\n",
    "ivvi.dac3.step = 4\n",
    "ivvi.dac3.inter_delay = 0.05"
   ]
  },
  {
   "cell_type": "markdown",
   "metadata": {},
   "source": [
    "## Database initialisation"
   ]
  },
  {
   "cell_type": "markdown",
   "metadata": {},
   "source": [
    "Next, we create a qcodes database, or we can use the existing one"
   ]
  },
  {
   "cell_type": "code",
   "execution_count": null,
   "metadata": {},
   "outputs": [],
   "source": [
    "#useful if you want to name database with creation date\n",
    "date = str(dt.date.today())\n",
    "db_path = \"C:/Users/TUD210595/Documents/LOCAL_DATA/Ivan\"\n",
    "initialise_or_create_database_at(db_path + \"/\" + \"cool_down.db\" )"
   ]
  },
  {
   "cell_type": "markdown",
   "metadata": {},
   "source": [
    "# Scaled parameters"
   ]
  },
  {
   "cell_type": "markdown",
   "metadata": {},
   "source": [
    "It is more convenient to use meaningful parameters with correct units"
   ]
  },
  {
   "cell_type": "code",
   "execution_count": null,
   "metadata": {},
   "outputs": [],
   "source": [
    "from qcodes import ManualParameter, ScaledParameter"
   ]
  },
  {
   "cell_type": "markdown",
   "metadata": {},
   "source": [
    "## Defining scaled parameters. Run ONLY ONCE!"
   ]
  },
  {
   "cell_type": "code",
   "execution_count": null,
   "metadata": {},
   "outputs": [],
   "source": [
    "Irange = Parameter('Irange', label='current range', unit='', set_cmd=None, get_cmd=None)\n",
    "Vrange = Parameter('Vrange', label='voltage range', unit='', set_cmd=None, get_cmd=None)\n",
    "TGrange = Parameter('TGrange', label='Top gate range', unit='', set_cmd=None, get_cmd=None)\n",
    "\n",
    "#division paraemtrs required for simplier update: they used as an argument for scaled paraemtrs of sorce instruments\n",
    "\n",
    "Irange_division = Parameter('Irange_division', \n",
    "                            label='scaled current range', unit='', \n",
    "                            set_cmd=None, get_cmd=lambda : 1000 / Irange())\n",
    "\n",
    "Vrange_division = Parameter('Vrange_division', \n",
    "                            label='scaled voltage range', unit='', \n",
    "                            set_cmd=None, get_cmd=lambda : 1000 / Vrange())\n",
    "\n",
    "TGrange_division = Parameter('TGrange_division', \n",
    "                             label='scaled Top gate range', unit='', \n",
    "                             set_cmd=None, get_cmd=lambda : 1000 / TGrange())\n",
    "\n",
    "Irange_AC_division = Parameter('Irange_AC_division', \n",
    "                               label='scaled current range for lockin', unit='', \n",
    "                               set_cmd=None, get_cmd=lambda : 100 / Irange())\n",
    "\n",
    "Vrange_AC_division = Parameter('Vrange_AC_division', \n",
    "                               label='scaled voltage range for lockin', unit='', \n",
    "                               set_cmd=None, get_cmd=lambda : 100 / Vrange())\n",
    "\n",
    "Gain_K1 = Parameter('Gain_K1', label='Gain K1', unit='', set_cmd=None, get_cmd=None)\n",
    "Gain_K2 = Parameter('Gain_K2', label='Gain K2', unit='', set_cmd=None, get_cmd=None)\n",
    "Gain_L1 = Parameter('Gain_L1', label='Gain L1', unit='', set_cmd=None, get_cmd=None)\n",
    "# Gain_L2 = Parameter('Gain_L2', label='Gain L2', unit='', set_cmd=None, get_cmd=None)\n",
    "\n",
    "#Add components\n",
    "station.add_component(Irange)\n",
    "station.add_component(Vrange)\n",
    "station.add_component(TGrange)\n",
    "\n",
    "station.add_component(Irange_division)\n",
    "station.add_component(Vrange_division)\n",
    "station.add_component(TGrange_division)\n",
    "\n",
    "station.add_component(Irange_AC_division)\n",
    "station.add_component(Vrange_AC_division)\n",
    "                             \n",
    "station.add_component(Gain_K1)\n",
    "station.add_component(Gain_K2)\n",
    "station.add_component(Gain_L1)\n",
    "# station.add_component(Gain_L2)"
   ]
  },
  {
   "cell_type": "markdown",
   "metadata": {},
   "source": [
    "## IVVI rack parameters - UPDATE here DURING measuerements\n",
    "\n",
    "Also can be coppied to execute later"
   ]
  },
  {
   "cell_type": "code",
   "execution_count": null,
   "metadata": {},
   "outputs": [],
   "source": [
    "Irange.set(100e-9)\n",
    "Vrange.set(1e-3)\n",
    "TGrange.set(15)\n",
    "Gain_K1.set(1e2)\n",
    "Gain_K2.set(1e2)\n",
    "# Gain_K3.set(1e2)\n",
    "Gain_L1.set(Gain_K1())\n",
    "# Gain_L2.set(Gain_K2())\n",
    "\n",
    "#division parameters are updated automatically"
   ]
  },
  {
   "cell_type": "markdown",
   "metadata": {},
   "source": [
    "## DC parameters - assigning devices. RUN ONLY ONCE!\n",
    "Check that devicies are correct!"
   ]
  },
  {
   "cell_type": "code",
   "execution_count": null,
   "metadata": {},
   "outputs": [],
   "source": [
    "appl_current = ScaledParameter(ivvi.dac1, division = Irange_division, name = 'appl_current', unit = 'A')\n",
    "appl_voltage = ScaledParameter(ivvi.dac2, division = Vrange_division, name = 'appl_voltage', unit = 'V')\n",
    "appl_TG = ScaledParameter(ivvi.dac3, division = TGrange_division, name = 'appl_TG', unit = 'V')\n",
    "\n",
    "meas_voltage_K1 = ScaledParameter(keithley_1.amplitude, division = Gain_K1, name = 'meas_voltage_K1', unit = 'V')\n",
    "meas_voltage_K2 = ScaledParameter(keithley_2.amplitude, division = Gain_K2, name = 'meas_voltage_K2', unit = 'V')\n",
    "# meas_voltage_K3 = ScaledParameter(keithley_3.amplitude, division = Gain_K3, name = 'meas_voltage_K3', unit = 'V')\n",
    "meas_leakage = ScaledParameter(keithley_2.amplitude, division = Gain_K2, name = 'meas_leakage', unit = 'A')\n",
    "\n",
    "meas_current_K1 = ScaledParameter(keithley_1.amplitude, division = Gain_K1, name = 'meas_current_K1', unit = 'A')\n",
    "meas_current_K2 = ScaledParameter(keithley_2.amplitude, division = Gain_K2, name = 'meas_current_K2', unit = 'A')\n",
    "# meas_current_K3 = ScaledParameter(keithley_3.amplitude, division = Gain_K3, name = 'meas_current_K3', unit = 'A')\n",
    "\n",
    "station.add_component(appl_current)\n",
    "station.add_component(appl_voltage)\n",
    "station.add_component(appl_TG)\n",
    "station.add_component(meas_voltage_K1)\n",
    "station.add_component(meas_voltage_K2)\n",
    "# station.add_component(meas_voltage_K3)\n",
    "station.add_component(meas_leakage)\n",
    "station.add_component(meas_current_K1)\n",
    "station.add_component(meas_current_K2)\n",
    "# station.add_component(meas_current_K3)"
   ]
  },
  {
   "cell_type": "markdown",
   "metadata": {},
   "source": [
    "Reasining devices seems to be missing in public methods of ScaledParameter class... But you can try:"
   ]
  },
  {
   "cell_type": "code",
   "execution_count": null,
   "metadata": {},
   "outputs": [],
   "source": [
    "# appl_current._wrapped_parameter = ivvi.dac1"
   ]
  },
  {
   "cell_type": "markdown",
   "metadata": {},
   "source": [
    "## AC parameters"
   ]
  },
  {
   "cell_type": "code",
   "execution_count": null,
   "metadata": {},
   "outputs": [],
   "source": [
    "appl_current_AC = ScaledParameter(lockin_1.amplitude, division = Irange_AC_division, name = 'appl_current_AC', unit = 'A')\n",
    "appl_voltage_AC = ScaledParameter(lockin_1.amplitude, division = Vrange_AC_division, name = 'appl_voltage_AC', unit = 'V')\n",
    "\n",
    "station.add_component(appl_current_AC)\n",
    "station.add_component(appl_voltage_AC)\n",
    "\n",
    "meas_voltage_AC_L1 = ScaledParameter(lockin_1.X, division = Gain_L1, name = 'meas_voltage_Lockin1', unit = 'V')\n",
    "\n",
    "meas_current_AC_L1 = ScaledParameter(lockin_1.X, division = Gain_L1, name = 'meas_current_Lockin1', unit = 'A')\n",
    "\n",
    "station.add_component(meas_voltage_AC_L1)\n",
    "station.add_component(meas_current_AC_L1)"
   ]
  },
  {
   "cell_type": "markdown",
   "metadata": {},
   "source": [
    "## Another useful example: magnet using dac (Janis)"
   ]
  },
  {
   "cell_type": "markdown",
   "metadata": {},
   "source": [
    ">2231.2 G per A => 0.22312 T per A<br>\n",
    "I source 10mA per V => 1e-5 A per 1mV<br>\n",
    "result: 0.22312 T/A * 1e-5 A/mV"
   ]
  },
  {
   "cell_type": "code",
   "execution_count": null,
   "metadata": {},
   "outputs": [],
   "source": [
    "#magnetic_field = ScaledParameter(ivvi.dac3, gain = 0.22312e-5, name = 'magnetic_field_dac', unit = 'T')\n",
    "#station.add_component(magnetic_field)"
   ]
  },
  {
   "cell_type": "markdown",
   "metadata": {},
   "source": [
    "# Fidge controll. Condensing. Magnet"
   ]
  },
  {
   "cell_type": "code",
   "execution_count": null,
   "metadata": {},
   "outputs": [],
   "source": [
    "ivvi.set_dacs_zero()\n",
    "lockin_1.amplitude(0.004)"
   ]
  },
  {
   "cell_type": "code",
   "execution_count": null,
   "metadata": {},
   "outputs": [],
   "source": [
    "lakeshore.output_1.output_range('off')\n",
    "# lakeshore.output_1.setpoint(45.0)\n",
    "# lakeshore.output_1.input_channel('A')\n",
    "# lakeshore.output_1.output_range('2.5W')"
   ]
  },
  {
   "cell_type": "code",
   "execution_count": null,
   "metadata": {},
   "outputs": [],
   "source": [
    "print('Temps: A= {:.2f}, B = {:.4f}, C ={:.4f}'.format(lakeshore.A.temperature(), lakeshore.B.temperature(), lakeshore.C.temperature()) )"
   ]
  },
  {
   "cell_type": "code",
   "execution_count": null,
   "metadata": {},
   "outputs": [],
   "source": [
    "level_meter.print_readable_snapshot(update=True)"
   ]
  },
  {
   "cell_type": "code",
   "execution_count": null,
   "metadata": {},
   "outputs": [],
   "source": [
    "# level_meter.sample_mode('Continuous')\n",
    "# level_meter.sample_mode('Sample/Hold')"
   ]
  },
  {
   "cell_type": "code",
   "execution_count": null,
   "metadata": {},
   "outputs": [],
   "source": [
    "while True:\n",
    "    print('A= {:.2f}, B = {:.4f}, C ={:.4f}, power = {:.2f}'.format(lakeshore.A.temperature(), lakeshore.B.temperature(), lakeshore.C.temperature(), lakeshore.output_1.output()), end = '\\r')\n",
    "    sleep(1)"
   ]
  },
  {
   "cell_type": "code",
   "execution_count": null,
   "metadata": {},
   "outputs": [],
   "source": [
    "while True:\n",
    "    print('He Level = {:.2f}'.format(level_meter.lastval()), end = '\\r')\n",
    "    sleep(1)"
   ]
  },
  {
   "cell_type": "code",
   "execution_count": null,
   "metadata": {},
   "outputs": [],
   "source": [
    "cryomag.print_readable_snapshot(update = True)"
   ]
  },
  {
   "cell_type": "code",
   "execution_count": null,
   "metadata": {},
   "outputs": [],
   "source": [
    "cryomag.channel_A.heater('off')\n",
    "cryomag.channel_B.heater('off')"
   ]
  },
  {
   "cell_type": "code",
   "execution_count": null,
   "metadata": {},
   "outputs": [],
   "source": [
    "print('feild 4T magnet = {:.4f} T'.format(cryomag.channel_A.field()) )\n",
    "print('tolerance for set field 4T magnet = {:.1f} mT'.format(cryomag.channel_A.tolerance()) )\n",
    "\n",
    "print('feild 9T magnet = {:.4f} T'.format(cryomag.channel_B.field()) )\n",
    "print('tolerance for set field 9T magnet = {:.1f} mT'.format(cryomag.channel_B.tolerance()) )"
   ]
  },
  {
   "cell_type": "markdown",
   "metadata": {},
   "source": [
    "# Standard sweeps: measuring without setting value"
   ]
  },
  {
   "cell_type": "markdown",
   "metadata": {},
   "source": [
    "## Measured values versus non-setable parameter"
   ]
  },
  {
   "cell_type": "code",
   "execution_count": null,
   "metadata": {},
   "outputs": [],
   "source": [
    "time = ElapsedTimeParameter('time')\n",
    "\n",
    "def time_limit(time, measured_values):\n",
    "    return time() > 6"
   ]
  },
  {
   "cell_type": "code",
   "execution_count": null,
   "metadata": {},
   "outputs": [],
   "source": [
    "exp = qc.new_experiment('V_vs_time', sample_name='simulator_100_Ohm')\n",
    "current(10e-6)\n",
    "current_AC(1e-6)\n",
    "time.reset_clock()\n",
    "dataid = measure_until(time, time_limit, 1, voltage_DC, voltage_AC)"
   ]
  },
  {
   "cell_type": "code",
   "execution_count": null,
   "metadata": {},
   "outputs": [],
   "source": [
    "plot_by_id(dataid)"
   ]
  },
  {
   "cell_type": "markdown",
   "metadata": {},
   "source": [
    "## Useful for temperature scans and magnet sweeps:"
   ]
  },
  {
   "cell_type": "code",
   "execution_count": null,
   "metadata": {},
   "outputs": [],
   "source": [
    "keithley_1.amplitude()"
   ]
  },
  {
   "cell_type": "code",
   "execution_count": null,
   "metadata": {},
   "outputs": [],
   "source": [
    "time = ElapsedTimeParameter('time')\n",
    "\n",
    "def time_limit(time, measured_values):\n",
    "    return time() > 7 * 60 * 60"
   ]
  },
  {
   "cell_type": "code",
   "execution_count": null,
   "metadata": {},
   "outputs": [],
   "source": [
    "exp = qc.new_experiment('R_vs_time', sample_name='Fridge')\n",
    "time.reset_clock()\n",
    "dataid = measure_until(time, time_limit, 10, keithley_1.amplitude)"
   ]
  },
  {
   "cell_type": "code",
   "execution_count": null,
   "metadata": {},
   "outputs": [],
   "source": []
  },
  {
   "cell_type": "code",
   "execution_count": null,
   "metadata": {},
   "outputs": [],
   "source": [
    "def temp_limit(temp, measured_values):\n",
    "    return temp() <\n",
    "\n",
    "exp = qc.new_experiment('V_vs_temp_CD', sample_name='simulator_100_Ohm')\n",
    "current(10e-6)\n",
    "current_AC(1e-6)\n",
    "dataid = measure_until(lakeshore.A.temperature, temp_limit, 1, voltage_DC, voltage_AC)"
   ]
  },
  {
   "cell_type": "code",
   "execution_count": null,
   "metadata": {},
   "outputs": [],
   "source": [
    "def resistance_limit(time, measured_values):\n",
    "    return measured_values[0].get() > -0.94e-3\n",
    "\n",
    "exp = qc.new_experiment('V_vs_time', sample_name='simulator_100_Ohm')\n",
    "current(10e-6)\n",
    "current_AC(1e-6)\n",
    "time = ElapsedTimeParameter('time')\n",
    "time.reset_clock()\n",
    "dataid = measure_until(time, voltage_limit, 1, voltage_DC, voltage_AC)"
   ]
  },
  {
   "cell_type": "code",
   "execution_count": null,
   "metadata": {},
   "outputs": [],
   "source": [
    "plot_by_id(dataid)"
   ]
  }
 ],
 "metadata": {
  "kernelspec": {
   "display_name": "Python 3",
   "language": "python",
   "name": "python3"
  },
  "language_info": {
   "codemirror_mode": {
    "name": "ipython",
    "version": 3
   },
   "file_extension": ".py",
   "mimetype": "text/x-python",
   "name": "python",
   "nbconvert_exporter": "python",
   "pygments_lexer": "ipython3",
   "version": "3.6.8"
  },
  "toc": {
   "base_numbering": 1,
   "nav_menu": {},
   "number_sections": true,
   "sideBar": true,
   "skip_h1_title": false,
   "title_cell": "Table of Contents",
   "title_sidebar": "Contents",
   "toc_cell": false,
   "toc_position": {
    "height": "542.4px",
    "left": "37px",
    "top": "66.8px",
    "width": "240px"
   },
   "toc_section_display": true,
   "toc_window_display": true
  }
 },
 "nbformat": 4,
 "nbformat_minor": 2
}
