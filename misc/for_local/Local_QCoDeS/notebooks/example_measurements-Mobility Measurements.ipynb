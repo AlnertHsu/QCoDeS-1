{
 "cells": [
  {
   "cell_type": "markdown",
   "metadata": {},
   "source": [
    "# Initialization"
   ]
  },
  {
   "cell_type": "code",
   "execution_count": 1,
   "metadata": {},
   "outputs": [],
   "source": [
    "%matplotlib inline\n",
    "import os, sys\n",
    "import matplotlib.pyplot as plt\n",
    "import numpy as np\n",
    "from pprint import pprint\n",
    "from tqdm.notebook import tqdm\n",
    "\n",
    "from time import sleep, monotonic, time\n",
    "import datetime as dt\n",
    "\n",
    "import qcodes as qc\n",
    "from qcodes import Parameter\n",
    "from qcodes import initialise_or_create_database_at\n",
    "from qcodes.dataset.plotting import plot_dataset, plot_by_id\n",
    "from qcodes.utils.metadata import diff_param_values\n",
    "from qcodes.instrument.specialized_parameters import ElapsedTimeParameter\n",
    "from qcodes.dataset.measurements import Measurement\n",
    "\n",
    "sys.path.append(\"C:/Users/TUD206951/Documents/Local_QCoDeS/scripts\")\n",
    "from sweeps import do1d, do2d, time_sweep, measure_until, do1d_until\n",
    "\n",
    "import warnings\n",
    "warnings.filterwarnings('ignore')"
   ]
  },
  {
   "cell_type": "markdown",
   "metadata": {},
   "source": [
    "To modify list of instruments, eddit file\n",
    "\"C:\\Users\\TUD206951\\Documents\\Local_QCoDeS\\scripts\\init_Gecko.py\""
   ]
  },
  {
   "cell_type": "code",
   "execution_count": 2,
   "metadata": {},
   "outputs": [
    {
     "name": "stdout",
     "output_type": "stream",
     "text": [
      "Connected to: KEITHLEY INSTRUMENTS INC. 2000 (serial:1330543, firmware:A20  /A02) in 0.26s\n"
     ]
    },
    {
     "name": "stderr",
     "output_type": "stream",
     "text": [
      "[keithley_1(Keithley_2000)] Snapshot: Could not update parameter: trigger_count\n"
     ]
    },
    {
     "name": "stdout",
     "output_type": "stream",
     "text": [
      "Connected to: KEITHLEY INSTRUMENTS INC. 2000 (serial:4107614, firmware:B01  /A02) in 0.08s\n"
     ]
    },
    {
     "name": "stderr",
     "output_type": "stream",
     "text": [
      "[keithley_2(Keithley_2000)] Snapshot: Could not update parameter: trigger_count\n"
     ]
    },
    {
     "name": "stdout",
     "output_type": "stream",
     "text": [
      "Connected to: Stanford_Research_Systems SR830 (serial:s/n47557, firmware:ver1.07) in 0.06s\n",
      "Connected to: Stanford_Research_Systems SR830 (serial:s/n43309, firmware:ver1.07) in 0.05s\n",
      "Connected to: LSCI 332S (serial:332557, firmware:112002) in 0.03s\n",
      "Initialized IVVI-rack in 0.02s\n"
     ]
    }
   ],
   "source": [
    "fridge_name = 'Gecko'\n",
    "%run C:\\Users\\TUD206951\\Documents\\Local_QCoDeS\\scripts\\init_fridge.py {fridge_name}"
   ]
  },
  {
   "cell_type": "markdown",
   "metadata": {},
   "source": [
    "Here are all the instruments we have:"
   ]
  },
  {
   "cell_type": "code",
   "execution_count": 3,
   "metadata": {},
   "outputs": [
    {
     "data": {
      "text/plain": [
       "{'keithley_1': <Keithley_2000: keithley_1>,\n",
       " 'keithley_2': <Keithley_2000: keithley_2>,\n",
       " 'lockin_1': <SR830: lockin_1>,\n",
       " 'lockin_2': <SR830: lockin_2>,\n",
       " 'lakeshore': <Model_332: lakeshore>,\n",
       " 'ivvi': <IVVI: ivvi>}"
      ]
     },
     "execution_count": 3,
     "metadata": {},
     "output_type": "execute_result"
    }
   ],
   "source": [
    "station.components"
   ]
  },
  {
   "cell_type": "markdown",
   "metadata": {},
   "source": [
    "Zero dacs and lockin"
   ]
  },
  {
   "cell_type": "code",
   "execution_count": 4,
   "metadata": {},
   "outputs": [],
   "source": [
    "ivvi.set_dacs_zero()\n",
    "lockin_1.amplitude(0.004)"
   ]
  },
  {
   "cell_type": "markdown",
   "metadata": {},
   "source": [
    "## DAC rates"
   ]
  },
  {
   "cell_type": "markdown",
   "metadata": {},
   "source": [
    "Change the dac rate (same idea as with qtlab, but two commands are used)"
   ]
  },
  {
   "cell_type": "code",
   "execution_count": 5,
   "metadata": {},
   "outputs": [],
   "source": [
    "ivvi.dac1.step = 50\n",
    "ivvi.dac1.inter_delay = 0.05\n",
    "ivvi.dac2.step = 50\n",
    "ivvi.dac2.inter_delay = 0.05\n",
    "ivvi.dac3.step = 4\n",
    "ivvi.dac3.inter_delay = 0.2"
   ]
  },
  {
   "cell_type": "markdown",
   "metadata": {},
   "source": [
    "## Database initialisation"
   ]
  },
  {
   "cell_type": "markdown",
   "metadata": {},
   "source": [
    "Next, we create a qcodes database, or we can use the existing one"
   ]
  },
  {
   "cell_type": "code",
   "execution_count": 6,
   "metadata": {},
   "outputs": [],
   "source": [
    "#useful if you want to name database with creation date\n",
    "date = str(dt.date.today())\n",
    "db_path = \"C:/Users/TUD206951/Documents/LOCAL_DATA/Alberto/PbTe_2GN\"\n",
    "initialise_or_create_database_at(db_path + \"/\" + \"PbTe_2GN.db\" )"
   ]
  },
  {
   "cell_type": "markdown",
   "metadata": {},
   "source": [
    "# Scaled parameters"
   ]
  },
  {
   "cell_type": "markdown",
   "metadata": {},
   "source": [
    "It is more convenient to use meaningful parameters with correct units"
   ]
  },
  {
   "cell_type": "code",
   "execution_count": 7,
   "metadata": {},
   "outputs": [],
   "source": [
    "from qcodes import ManualParameter, ScaledParameter"
   ]
  },
  {
   "cell_type": "markdown",
   "metadata": {},
   "source": [
    "## Defining scaled parameters. Run ONLY ONCE!"
   ]
  },
  {
   "cell_type": "code",
   "execution_count": 8,
   "metadata": {},
   "outputs": [
    {
     "data": {
      "text/plain": [
       "'Gain_L1'"
      ]
     },
     "execution_count": 8,
     "metadata": {},
     "output_type": "execute_result"
    }
   ],
   "source": [
    "Irange = Parameter('Irange', label='current range', unit='', set_cmd=None, get_cmd=None)\n",
    "Vrange = Parameter('Vrange', label='voltage range', unit='', set_cmd=None, get_cmd=None)\n",
    "TGrange = Parameter('TGrange', label='Top gate range', unit='', set_cmd=None, get_cmd=None)\n",
    "\n",
    "#division paraemtrs required for simplier update: they used as an argument for scaled paraemtrs of sorce instruments\n",
    "\n",
    "Irange_division = Parameter('Irange_division', \n",
    "                            label='scaled current range', unit='', \n",
    "                            set_cmd=None, get_cmd=lambda : 1000 / Irange())\n",
    "\n",
    "Vrange_division = Parameter('Vrange_division', \n",
    "                            label='scaled voltage range', unit='', \n",
    "                            set_cmd=None, get_cmd=lambda : 1000 / Vrange())\n",
    "\n",
    "TGrange_division = Parameter('TGrange_division', \n",
    "                             label='scaled Top gate range', unit='', \n",
    "                             set_cmd=None, get_cmd=lambda : 1000 / TGrange())\n",
    "\n",
    "Irange_AC_division = Parameter('Irange_AC_division', \n",
    "                               label='scaled current range for lockin', unit='', \n",
    "                               set_cmd=None, get_cmd=lambda : 100 / Irange())\n",
    "\n",
    "Vrange_AC_division = Parameter('Vrange_AC_division', \n",
    "                               label='scaled voltage range for lockin', unit='', \n",
    "                               set_cmd=None, get_cmd=lambda : 100 / Vrange())\n",
    "\n",
    "Gain_K1 = Parameter('Gain_K1', label='Gain K1', unit='', set_cmd=None, get_cmd=None)\n",
    "Gain_K2 = Parameter('Gain_K2', label='Gain K2', unit='', set_cmd=None, get_cmd=None)\n",
    "Gain_L1 = Parameter('Gain_L1', label='Gain L1', unit='', set_cmd=None, get_cmd=None)\n",
    "# Gain_L2 = Parameter('Gain_L2', label='Gain L2', unit='', set_cmd=None, get_cmd=None)\n",
    "\n",
    "#Add components\n",
    "station.add_component(Irange)\n",
    "station.add_component(Vrange)\n",
    "station.add_component(TGrange)\n",
    "\n",
    "station.add_component(Irange_division)\n",
    "station.add_component(Vrange_division)\n",
    "station.add_component(TGrange_division)\n",
    "\n",
    "station.add_component(Irange_AC_division)\n",
    "station.add_component(Vrange_AC_division)\n",
    "                             \n",
    "station.add_component(Gain_K1)\n",
    "station.add_component(Gain_K2)\n",
    "station.add_component(Gain_L1)\n",
    "# station.add_component(Gain_L2)"
   ]
  },
  {
   "cell_type": "markdown",
   "metadata": {},
   "source": [
    "## IVVI rack parameters - UPDATE here DURING measuerements\n",
    "\n",
    "Also can be coppied to execute later"
   ]
  },
  {
   "cell_type": "code",
   "execution_count": 96,
   "metadata": {},
   "outputs": [],
   "source": [
    "Irange.set(100e-9)\n",
    "Vrange.set(100e-3)\n",
    "TGrange.set(15)\n",
    "Gain_K1.set(1e6)\n",
    "Gain_K2.set(1e6)\n",
    "# Gain_K3.set(1e2)\n",
    "Gain_L1.set(Gain_K1())\n",
    "# Gain_L2.set(Gain_K2())\n",
    "\n",
    "#division parameters are updated automatically"
   ]
  },
  {
   "cell_type": "markdown",
   "metadata": {},
   "source": [
    "## DC parameters - assigning devices. RUN ONLY ONCE!\n",
    "Check that devicies are correct!"
   ]
  },
  {
   "cell_type": "code",
   "execution_count": 10,
   "metadata": {},
   "outputs": [
    {
     "data": {
      "text/plain": [
       "'meas_current_K2'"
      ]
     },
     "execution_count": 10,
     "metadata": {},
     "output_type": "execute_result"
    }
   ],
   "source": [
    "appl_current = ScaledParameter(ivvi.dac1, division = Irange_division, name = 'appl_current', unit = 'A')\n",
    "appl_voltage = ScaledParameter(ivvi.dac2, division = Vrange_division, name = 'appl_voltage', unit = 'V')\n",
    "appl_TG = ScaledParameter(ivvi.dac3, division = TGrange_division, name = 'appl_TG', unit = 'V')\n",
    "\n",
    "meas_voltage_K1 = ScaledParameter(keithley_1.amplitude, division = Gain_K1, name = 'meas_voltage_K1', unit = 'V')\n",
    "meas_voltage_K2 = ScaledParameter(keithley_2.amplitude, division = Gain_K2, name = 'meas_voltage_K2', unit = 'V')\n",
    "# meas_voltage_K3 = ScaledParameter(keithley_3.amplitude, division = Gain_K3, name = 'meas_voltage_K3', unit = 'V')\n",
    "meas_leakage = ScaledParameter(keithley_2.amplitude, division = Gain_K2, name = 'meas_leakage', unit = 'A')\n",
    "\n",
    "meas_current_K1 = ScaledParameter(keithley_1.amplitude, division = Gain_K1, name = 'meas_current_K1', unit = 'A')\n",
    "meas_current_K2 = ScaledParameter(keithley_2.amplitude, division = Gain_K2, name = 'meas_current_K2', unit = 'A')\n",
    "# meas_current_K3 = ScaledParameter(keithley_3.amplitude, division = Gain_K3, name = 'meas_current_K3', unit = 'A')\n",
    "\n",
    "station.add_component(appl_current)\n",
    "station.add_component(appl_voltage)\n",
    "station.add_component(appl_TG)\n",
    "station.add_component(meas_voltage_K1)\n",
    "station.add_component(meas_voltage_K2)\n",
    "# station.add_component(meas_voltage_K3)\n",
    "station.add_component(meas_leakage)\n",
    "station.add_component(meas_current_K1)\n",
    "station.add_component(meas_current_K2)\n",
    "# station.add_component(meas_current_K3)"
   ]
  },
  {
   "cell_type": "markdown",
   "metadata": {},
   "source": [
    "Reasining devices seems to be missing in public methods of ScaledParameter class... But you can try:"
   ]
  },
  {
   "cell_type": "code",
   "execution_count": 11,
   "metadata": {},
   "outputs": [],
   "source": [
    "# appl_current._wrapped_parameter = ivvi.dac1"
   ]
  },
  {
   "cell_type": "markdown",
   "metadata": {},
   "source": [
    "## AC parameters"
   ]
  },
  {
   "cell_type": "code",
   "execution_count": 12,
   "metadata": {},
   "outputs": [
    {
     "data": {
      "text/plain": [
       "'meas_current_Lockin1'"
      ]
     },
     "execution_count": 12,
     "metadata": {},
     "output_type": "execute_result"
    }
   ],
   "source": [
    "appl_current_AC = ScaledParameter(lockin_1.amplitude, division = Irange_AC_division, name = 'appl_current_AC', unit = 'A')\n",
    "appl_voltage_AC = ScaledParameter(lockin_1.amplitude, division = Vrange_AC_division, name = 'appl_voltage_AC', unit = 'V')\n",
    "\n",
    "station.add_component(appl_current_AC)\n",
    "station.add_component(appl_voltage_AC)\n",
    "\n",
    "meas_voltage_AC_L1 = ScaledParameter(lockin_1.X, division = Gain_L1, name = 'meas_voltage_Lockin1', unit = 'V')\n",
    "\n",
    "meas_current_AC_L1 = ScaledParameter(lockin_1.X, division = Gain_L1, name = 'meas_current_Lockin1', unit = 'A')\n",
    "\n",
    "station.add_component(meas_voltage_AC_L1)\n",
    "station.add_component(meas_current_AC_L1)"
   ]
  },
  {
   "cell_type": "markdown",
   "metadata": {},
   "source": [
    "## Another useful example: magnet using dac (Janis)"
   ]
  },
  {
   "cell_type": "markdown",
   "metadata": {},
   "source": [
    ">2231.2 G per A => 0.22312 T per A<br>\n",
    "I source 10mA per V => 1e-5 A per 1mV<br>\n",
    "result: 0.22312 T/A * 1e-5 A/mV"
   ]
  },
  {
   "cell_type": "code",
   "execution_count": 13,
   "metadata": {},
   "outputs": [],
   "source": [
    "#magnetic_field = ScaledParameter(ivvi.dac3, gain = 0.22312e-5, name = 'magnetic_field_dac', unit = 'T')\n",
    "#station.add_component(magnetic_field)"
   ]
  },
  {
   "cell_type": "markdown",
   "metadata": {},
   "source": [
    "# Fidge controll."
   ]
  },
  {
   "cell_type": "code",
   "execution_count": 14,
   "metadata": {},
   "outputs": [],
   "source": [
    "ivvi.set_dacs_zero()\n",
    "lockin_1.amplitude(0.004)"
   ]
  },
  {
   "cell_type": "code",
   "execution_count": null,
   "metadata": {},
   "outputs": [],
   "source": [
    "lakeshore.heater_output.setpoint(2)"
   ]
  },
  {
   "cell_type": "code",
   "execution_count": null,
   "metadata": {},
   "outputs": [],
   "source": [
    "print('Temps: A= {:.2f}'.format(lakeshore.A.temperature()) )"
   ]
  },
  {
   "cell_type": "markdown",
   "metadata": {},
   "source": [
    "# Standard sweeps: setting parameter"
   ]
  },
  {
   "cell_type": "markdown",
   "metadata": {},
   "source": [
    "## 1D sweeps"
   ]
  },
  {
   "cell_type": "code",
   "execution_count": 110,
   "metadata": {
    "scrolled": true
   },
   "outputs": [
    {
     "name": "stdout",
     "output_type": "stream",
     "text": [
      "Starting experimental run with id: 110. \n"
     ]
    },
    {
     "data": {
      "application/vnd.jupyter.widget-view+json": {
       "model_id": "ceaa610485734e2b901bdaa6c11c6b6f",
       "version_major": 2,
       "version_minor": 0
      },
      "text/plain": [
       "  0%|          | 0/200 [00:00<?, ?it/s]"
      ]
     },
     "metadata": {},
     "output_type": "display_data"
    }
   ],
   "source": [
    "# current_AC(1e-6)\n",
    "ivvi.set_dacs_zero()\n",
    "exp = qc.new_experiment('IV-curve', sample_name='L9-L10 conduction test')\n",
    "dataid = do1d(appl_voltage, 0, 0.1e-3, 200, 0.2, meas_current_K1)\n",
    "#sweep current from -10uA to 10uA 100 points with 0.2sec delay\n",
    "#records voltage on keithley and lockin\n",
    "ivvi.set_dacs_zero()"
   ]
  },
  {
   "cell_type": "code",
   "execution_count": 85,
   "metadata": {},
   "outputs": [],
   "source": [
    "ivvi.set_dacs_zero()"
   ]
  },
  {
   "cell_type": "markdown",
   "metadata": {},
   "source": [
    "### Plotting"
   ]
  },
  {
   "cell_type": "code",
   "execution_count": null,
   "metadata": {},
   "outputs": [],
   "source": [
    "plot_by_id(dataid)"
   ]
  },
  {
   "cell_type": "markdown",
   "metadata": {},
   "source": [
    "### Plotting later using list of experiments"
   ]
  },
  {
   "cell_type": "code",
   "execution_count": null,
   "metadata": {},
   "outputs": [],
   "source": [
    "qc.experiments()"
   ]
  },
  {
   "cell_type": "code",
   "execution_count": null,
   "metadata": {
    "scrolled": true
   },
   "outputs": [],
   "source": [
    "dataset = qc.load_by_id(1)\n",
    "plot_dataset(dataset)"
   ]
  },
  {
   "cell_type": "markdown",
   "metadata": {},
   "source": [
    "## 2D sweeps"
   ]
  },
  {
   "cell_type": "code",
   "execution_count": null,
   "metadata": {},
   "outputs": [],
   "source": [
    "exp = qc.new_experiment('IV-curve_vs_dac5', sample_name='simulator_100_Ohm')\n",
    "dataid = do2d(ivvi.dac5, -1, 1, 3, 5, current, -10e-6, 10e-6, 100, 0.2, voltage_DC)\n",
    "#sweep current from -10uA to 10uA 100 points with 0.2sec delay\n",
    "#records voltage on keithley and lockin\n",
    "ivvi.set_dacs_zero()"
   ]
  },
  {
   "cell_type": "code",
   "execution_count": null,
   "metadata": {},
   "outputs": [],
   "source": [
    "plot_by_id(dataid)"
   ]
  },
  {
   "cell_type": "code",
   "execution_count": null,
   "metadata": {},
   "outputs": [],
   "source": [
    "cmap = plt.get_cmap('hot')\n",
    "plot_by_id(dataid, cmap = cmap)\n",
    "plt.savefig('../plots/iv_vs_dac5.pdf')"
   ]
  },
  {
   "cell_type": "markdown",
   "metadata": {},
   "source": [
    "# Standard sweeps: measuring without setting value"
   ]
  },
  {
   "cell_type": "markdown",
   "metadata": {},
   "source": [
    "## Measured values versus non-setable parameter"
   ]
  },
  {
   "cell_type": "code",
   "execution_count": null,
   "metadata": {},
   "outputs": [],
   "source": [
    "time = ElapsedTimeParameter('time')\n",
    "\n",
    "def time_limit(time, measured_values):\n",
    "    return time() > 6"
   ]
  },
  {
   "cell_type": "code",
   "execution_count": null,
   "metadata": {},
   "outputs": [],
   "source": [
    "exp = qc.new_experiment('V_vs_time', sample_name='simulator_100_Ohm')\n",
    "current(10e-6)\n",
    "current_AC(1e-6)\n",
    "time.reset_clock()\n",
    "dataid = measure_until(time, time_limit, 1, voltage_DC, voltage_AC)"
   ]
  },
  {
   "cell_type": "code",
   "execution_count": null,
   "metadata": {},
   "outputs": [],
   "source": [
    "plot_by_id(dataid)"
   ]
  },
  {
   "cell_type": "markdown",
   "metadata": {},
   "source": [
    "## Useful for temperature scans and magnet sweeps:"
   ]
  },
  {
   "cell_type": "code",
   "execution_count": null,
   "metadata": {},
   "outputs": [],
   "source": [
    "def temp_limit(temp, measured_values):\n",
    "    return temp() < 0.4\n",
    "\n",
    "exp = qc.new_experiment('V_vs_temp_CD', sample_name='simulator_100_Ohm')\n",
    "current(10e-6)\n",
    "current_AC(1e-6)\n",
    "dataid = measure_until(lakeshore.A.temperature, temp_limit, 1, voltage_DC, voltage_AC)"
   ]
  },
  {
   "cell_type": "markdown",
   "metadata": {},
   "source": [
    "### Exit based on measured value"
   ]
  },
  {
   "cell_type": "code",
   "execution_count": null,
   "metadata": {},
   "outputs": [],
   "source": [
    "def voltage_limit(time, measured_values):\n",
    "    return measured_values[0].get() > -0.94e-3\n",
    "\n",
    "exp = qc.new_experiment('V_vs_time', sample_name='simulator_100_Ohm')\n",
    "current(10e-6)\n",
    "current_AC(1e-6)\n",
    "time = ElapsedTimeParameter('time')\n",
    "time.reset_clock()\n",
    "dataid = measure_until(time, voltage_limit, 1, voltage_DC, voltage_AC)"
   ]
  },
  {
   "cell_type": "code",
   "execution_count": null,
   "metadata": {},
   "outputs": [],
   "source": [
    "ivvi.dac3(-1300)"
   ]
  },
  {
   "cell_type": "code",
   "execution_count": null,
   "metadata": {},
   "outputs": [],
   "source": [
    "plot_by_id(dataid)"
   ]
  },
  {
   "cell_type": "markdown",
   "metadata": {},
   "source": [
    "## 1D scan vs non-setable parameter"
   ]
  },
  {
   "cell_type": "code",
   "execution_count": null,
   "metadata": {},
   "outputs": [],
   "source": [
    "time = ElapsedTimeParameter('time')\n",
    "\n",
    "#note that here exit_condition takes two independent parameters and only then measured parameters\n",
    "def time_limit(time, current, measured_values):\n",
    "    return time() > 30\n",
    "\n",
    "exp = qc.new_experiment('IV_vs_time', sample_name='simulator_100_Ohm')\n",
    "current_AC(0.04e-6)\n",
    "time.reset_clock()\n",
    "dataid = do1d_until(time, time_limit, 1, current, -10e-6, 10e-6, 100, 0.2, voltage_DC)"
   ]
  },
  {
   "cell_type": "code",
   "execution_count": null,
   "metadata": {},
   "outputs": [],
   "source": [
    "cmap = plt.get_cmap('hot')\n",
    "plot_by_id(dataid, cmap = cmap)"
   ]
  },
  {
   "cell_type": "markdown",
   "metadata": {},
   "source": [
    "# Custom sweeps"
   ]
  },
  {
   "cell_type": "markdown",
   "metadata": {},
   "source": [
    "## Gate sweep controlling the leakage"
   ]
  },
  {
   "cell_type": "code",
   "execution_count": 116,
   "metadata": {
    "scrolled": false
   },
   "outputs": [
    {
     "name": "stdout",
     "output_type": "stream",
     "text": [
      "Starting experimental run with id: 114. \n"
     ]
    },
    {
     "data": {
      "application/vnd.jupyter.widget-view+json": {
       "model_id": "ea1354a7a1c447a0b7cb6fb831891f87",
       "version_major": 2,
       "version_minor": 0
      },
      "text/plain": [
       "  0%|          | 0/500 [00:00<?, ?it/s]"
      ]
     },
     "metadata": {},
     "output_type": "display_data"
    },
    {
     "data": {
      "text/plain": [
       "([<AxesSubplot:title={'center':'Run #114, Experiment V_vs_Vgate (NW22_50mV)'}, xlabel='appl_TG (V)', ylabel='meas_current_K1 (pA)'>,\n",
       "  <AxesSubplot:title={'center':'Run #114, Experiment V_vs_Vgate (NW22_50mV)'}, xlabel='appl_TG (V)', ylabel='meas_leakage (nA)'>],\n",
       " [None, None])"
      ]
     },
     "execution_count": 116,
     "metadata": {},
     "output_type": "execute_result"
    },
    {
     "data": {
      "image/png": "[encoded data removed]",
      "text/plain": [
       "<Figure size 432x288 with 1 Axes>"
      ]
     },
     "metadata": {
      "needs_background": "light"
     },
     "output_type": "display_data"
    },
    {
     "data": {
      "image/png": "[encoded data removed]",
      "text/plain": [
       "<Figure size 432x288 with 1 Axes>"
      ]
     },
     "metadata": {
      "needs_background": "light"
     },
     "output_type": "display_data"
    }
   ],
   "source": [
    "exp = qc.new_experiment('V_vs_Vgate', sample_name='NW22_50mV')\n",
    "appl_voltage(50e-3)\n",
    "\n",
    "start_gate = 0\n",
    "stop_gate = 15\n",
    "num_points = 500\n",
    "leak_threshold = 15.0e-9\n",
    "\n",
    "#Register independent parameters\n",
    "meas = Measurement()\n",
    "meas.register_parameter(appl_TG)\n",
    "appl_TG.post_delay = 0.1\n",
    "\n",
    "#Register dependent parametrs\n",
    "param_meas = [meas_current_K1, meas_leakage]\n",
    "output = []\n",
    "for parameter in param_meas:\n",
    "    meas.register_parameter(parameter, setpoints=(appl_TG,))\n",
    "    output.append([parameter, None])\n",
    "\n",
    "#Add action at the end\n",
    "# meas.add_after_run(ivvi.set_dacs_zero, ())\n",
    "\n",
    "appl_TG(start_gate)\n",
    "#Start measuremnts\n",
    "with meas.run() as datasaver:\n",
    "    for set_point in tqdm(np.linspace(start_gate, stop_gate, num_points)):\n",
    "        appl_TG(set_point)\n",
    "        sleep(0.5)\n",
    "        if np.abs(meas_leakage()) > leak_threshold:\n",
    "            print('Leakage detected!')\n",
    "            print('Detected current: {}A'.format(meas_leakage()))\n",
    "            break\n",
    "        for i, parameter in enumerate(param_meas):\n",
    "            output[i][1] = np.abs(parameter.get())\n",
    "        datasaver.add_result((appl_TG, appl_TG()),\n",
    "                             *output)\n",
    "dataid = datasaver.run_id  # convenient to have for plotting\n",
    "plot_by_id(dataid)"
   ]
  },
  {
   "cell_type": "code",
   "execution_count": 29,
   "metadata": {},
   "outputs": [],
   "source": [
    "appl_voltage(1e-3)"
   ]
  },
  {
   "cell_type": "code",
   "execution_count": 117,
   "metadata": {},
   "outputs": [],
   "source": [
    "ivvi.set_dacs_zero()"
   ]
  },
  {
   "cell_type": "markdown",
   "metadata": {},
   "source": [
    "## Bias sweep controlling the leakage"
   ]
  },
  {
   "cell_type": "code",
   "execution_count": 114,
   "metadata": {},
   "outputs": [
    {
     "name": "stdout",
     "output_type": "stream",
     "text": [
      "Starting experimental run with id: 113. \n"
     ]
    },
    {
     "data": {
      "application/vnd.jupyter.widget-view+json": {
       "model_id": "fcc1dc270e7748009942335081bd89db",
       "version_major": 2,
       "version_minor": 0
      },
      "text/plain": [
       "  0%|          | 0/500 [00:00<?, ?it/s]"
      ]
     },
     "metadata": {},
     "output_type": "display_data"
    },
    {
     "data": {
      "text/plain": [
       "([<AxesSubplot:title={'center':'Run #113, Experiment V_vs_Vbias (NW17_15V)'}, xlabel='appl_voltage (mV)', ylabel='meas_current_K1 (pA)'>,\n",
       "  <AxesSubplot:title={'center':'Run #113, Experiment V_vs_Vbias (NW17_15V)'}, xlabel='appl_voltage (mV)', ylabel='meas_leakage (nA)'>],\n",
       " [None, None])"
      ]
     },
     "execution_count": 114,
     "metadata": {},
     "output_type": "execute_result"
    },
    {
     "data": {
      "image/png": "[encoded data removed]",
      "text/plain": [
       "<Figure size 432x288 with 1 Axes>"
      ]
     },
     "metadata": {
      "needs_background": "light"
     },
     "output_type": "display_data"
    },
    {
     "data": {
      "image/png": "[encoded data removed]",
      "text/plain": [
       "<Figure size 432x288 with 1 Axes>"
      ]
     },
     "metadata": {
      "needs_background": "light"
     },
     "output_type": "display_data"
    }
   ],
   "source": [
    "exp = qc.new_experiment('V_vs_Vbias', sample_name='NW17_15V')\n",
    "\n",
    "appl_voltage(0)\n",
    "sleep(5)\n",
    "\n",
    "start_bias = 50e-3\n",
    "stop_bias= 100e-3\n",
    "num_points = 500\n",
    "leak_threshold = 15.0e-9\n",
    "\n",
    "#Register independent parameters\n",
    "meas = Measurement()\n",
    "meas.register_parameter(appl_voltage)\n",
    "appl_voltage.post_delay = 0.1\n",
    "\n",
    "#Register dependent parametrs\n",
    "param_meas = [meas_current_K1, meas_leakage]\n",
    "output = []\n",
    "for parameter in param_meas:\n",
    "    meas.register_parameter(parameter, setpoints=(appl_voltage,))\n",
    "    output.append([parameter, None])\n",
    "\n",
    "#Add action at the end\n",
    "# meas.add_after_run(ivvi.set_dacs_zero, ())\n",
    "\n",
    "\n",
    "#Start measuremnts\n",
    "with meas.run() as datasaver:\n",
    "    for set_point in tqdm(np.linspace(start_bias, stop_bias, num_points)):\n",
    "        appl_voltage(set_point)\n",
    "        sleep(0.1)\n",
    "        if np.abs(meas_leakage()) > leak_threshold:\n",
    "            print('Leakage detected!')\n",
    "            print('Detected current: {}A'.format(meas_leakage()))\n",
    "            break\n",
    "        for i, parameter in enumerate(param_meas):\n",
    "            output[i][1] = parameter.get()\n",
    "        datasaver.add_result((appl_voltage, appl_voltage()),\n",
    "                             *output)\n",
    "dataid = datasaver.run_id  # convenient to have for plotting\n",
    "plot_by_id(dataid)"
   ]
  },
  {
   "cell_type": "code",
   "execution_count": 115,
   "metadata": {},
   "outputs": [],
   "source": [
    "ivvi.set_dacs_zero()\n"
   ]
  },
  {
   "cell_type": "markdown",
   "metadata": {},
   "source": [
    "# Snapshots"
   ]
  },
  {
   "cell_type": "code",
   "execution_count": null,
   "metadata": {},
   "outputs": [],
   "source": [
    "dataset = qc.load_by_id(1)\n",
    "dataset.snapshot['station']"
   ]
  },
  {
   "cell_type": "code",
   "execution_count": null,
   "metadata": {},
   "outputs": [],
   "source": [
    "dataset.snapshot['station']['parameters']['current_AC']"
   ]
  },
  {
   "cell_type": "code",
   "execution_count": null,
   "metadata": {},
   "outputs": [],
   "source": [
    "dataset.snapshot['station']['instruments']['ivvi']"
   ]
  },
  {
   "cell_type": "code",
   "execution_count": null,
   "metadata": {},
   "outputs": [],
   "source": [
    "pprint(diff_param_values(qc.load_by_id(1).snapshot, qc.load_by_id(2).snapshot).changed)"
   ]
  }
 ],
 "metadata": {
  "kernelspec": {
   "display_name": "Python 3",
   "language": "python",
   "name": "python3"
  },
  "language_info": {
   "codemirror_mode": {
    "name": "ipython",
    "version": 3
   },
   "file_extension": ".py",
   "mimetype": "text/x-python",
   "name": "python",
   "nbconvert_exporter": "python",
   "pygments_lexer": "ipython3",
   "version": "3.9.2"
  },
  "toc": {
   "base_numbering": 1,
   "nav_menu": {},
   "number_sections": true,
   "sideBar": true,
   "skip_h1_title": false,
   "title_cell": "Table of Contents",
   "title_sidebar": "Contents",
   "toc_cell": false,
   "toc_position": {
    "height": "calc(100% - 180px)",
    "left": "10px",
    "top": "150px",
    "width": "240px"
   },
   "toc_section_display": true,
   "toc_window_display": true
  }
 },
 "nbformat": 4,
 "nbformat_minor": 2
}
