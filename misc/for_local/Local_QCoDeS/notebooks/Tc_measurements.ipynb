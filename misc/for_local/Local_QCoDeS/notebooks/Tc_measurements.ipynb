{
 "cells": [
  {
   "cell_type": "markdown",
   "metadata": {},
   "source": [
    "# Initialization"
   ]
  },
  {
   "cell_type": "markdown",
   "metadata": {},
   "source": [
    "## Import of useful modules:"
   ]
  },
  {
   "cell_type": "code",
   "execution_count": 1,
   "metadata": {},
   "outputs": [],
   "source": [
    "%matplotlib inline\n",
    "import os, sys\n",
    "import matplotlib.pyplot as plt\n",
    "import numpy as np\n",
    "from pprint import pprint\n",
    "from tqdm.notebook import tqdm\n",
    "\n",
    "from time import sleep, monotonic, time\n",
    "import datetime as dt\n",
    "\n",
    "import qcodes as qc\n",
    "from qcodes import Parameter\n",
    "from qcodes import initialise_or_create_database_at\n",
    "from qcodes.dataset.plotting import plot_dataset, plot_by_id\n",
    "from qcodes.utils.metadata import diff_param_values\n",
    "from qcodes.instrument.specialized_parameters import ElapsedTimeParameter\n",
    "from qcodes.dataset.measurements import Measurement\n",
    "\n",
    "sys.path.append(\"C:/Users/TUD206951/Documents/Local_QCoDeS/scripts\")\n",
    "from sweeps import do1d, do2d, time_sweep, measure_until, do1d_until\n",
    "\n",
    "import warnings\n",
    "warnings.filterwarnings('ignore')"
   ]
  },
  {
   "cell_type": "markdown",
   "metadata": {},
   "source": [
    "Next we initializee the instruments. Note that you need to provide the correct fridge name!"
   ]
  },
  {
   "cell_type": "code",
   "execution_count": 2,
   "metadata": {},
   "outputs": [
    {
     "name": "stdout",
     "output_type": "stream",
     "text": [
      "Connected to: KEITHLEY INSTRUMENTS INC. 2000 (serial:1330543, firmware:A20  /A02) in 0.30s\n"
     ]
    },
    {
     "name": "stderr",
     "output_type": "stream",
     "text": [
      "[keithley_1(Keithley_2000)] Snapshot: Could not update parameter: trigger_count\n"
     ]
    },
    {
     "name": "stdout",
     "output_type": "stream",
     "text": [
      "Connected to: KEITHLEY INSTRUMENTS INC. 2000 (serial:4107614, firmware:B01  /A02) in 0.07s\n"
     ]
    },
    {
     "name": "stderr",
     "output_type": "stream",
     "text": [
      "[keithley_2(Keithley_2000)] Snapshot: Could not update parameter: trigger_count\n"
     ]
    },
    {
     "name": "stdout",
     "output_type": "stream",
     "text": [
      "Connected to: Stanford_Research_Systems SR830 (serial:s/n47557, firmware:ver1.07) in 0.09s\n",
      "Connected to: Stanford_Research_Systems SR830 (serial:s/n43309, firmware:ver1.07) in 0.07s\n",
      "Connected to: LSCI 332S (serial:332557, firmware:112002) in 0.07s\n",
      "Initialized IVVI-rack in 0.03s\n"
     ]
    }
   ],
   "source": [
    "fridge_name = 'Gecko'\n",
    "%run C:\\Users\\TUD206951\\Documents\\Local_QCoDeS\\scripts\\init_fridge.py {fridge_name}"
   ]
  },
  {
   "cell_type": "markdown",
   "metadata": {},
   "source": [
    "Here are all the instruments we have:"
   ]
  },
  {
   "cell_type": "code",
   "execution_count": 3,
   "metadata": {},
   "outputs": [
    {
     "data": {
      "text/plain": [
       "{'keithley_1': <Keithley_2000: keithley_1>,\n",
       " 'keithley_2': <Keithley_2000: keithley_2>,\n",
       " 'lockin_1': <SR830: lockin_1>,\n",
       " 'lockin_2': <SR830: lockin_2>,\n",
       " 'lakeshore': <Model_332: lakeshore>,\n",
       " 'ivvi': <IVVI: ivvi>}"
      ]
     },
     "execution_count": 3,
     "metadata": {},
     "output_type": "execute_result"
    }
   ],
   "source": [
    "station.components"
   ]
  },
  {
   "cell_type": "markdown",
   "metadata": {},
   "source": [
    "Zero dacs and lockin"
   ]
  },
  {
   "cell_type": "code",
   "execution_count": 46,
   "metadata": {},
   "outputs": [],
   "source": [
    "ivvi.set_dacs_zero()\n",
    "lockin_1.amplitude(0.004)\n",
    "lockin_2.amplitude(0.004)"
   ]
  },
  {
   "cell_type": "markdown",
   "metadata": {},
   "source": [
    "Change the dac rate (same idea as with qtlab, but two commands are used)"
   ]
  },
  {
   "cell_type": "markdown",
   "metadata": {},
   "source": [
    "## DAC rates"
   ]
  },
  {
   "cell_type": "code",
   "execution_count": 4,
   "metadata": {},
   "outputs": [],
   "source": [
    "ivvi.dac1.step = 10\n",
    "ivvi.dac1.inter_delay = 0.01\n",
    "ivvi.dac2.step = 10\n",
    "ivvi.dac2.inter_delay = 0.01\n",
    "ivvi.dac3.step = 50\n",
    "ivvi.dac3.inter_delay = 0.01"
   ]
  },
  {
   "cell_type": "markdown",
   "metadata": {},
   "source": [
    "## Database initialisation"
   ]
  },
  {
   "cell_type": "code",
   "execution_count": 5,
   "metadata": {},
   "outputs": [],
   "source": [
    "date = str(dt.date.today())\n",
    "db_path = \"C:/Users/TUD206951/Documents/LOCAL_DATA/Ivan/NbTiN\"\n",
    "initialise_or_create_database_at(db_path + \"/\" + \"NbTiN\" + date + \".db\" )"
   ]
  },
  {
   "cell_type": "markdown",
   "metadata": {},
   "source": [
    "# Scaled parameters"
   ]
  },
  {
   "cell_type": "markdown",
   "metadata": {},
   "source": [
    "It is more convenient to use meaningful parameters with correct units"
   ]
  },
  {
   "cell_type": "code",
   "execution_count": 6,
   "metadata": {},
   "outputs": [],
   "source": [
    "from qcodes import ManualParameter, ScaledParameter"
   ]
  },
  {
   "cell_type": "markdown",
   "metadata": {},
   "source": [
    "## Defining scaled parameters"
   ]
  },
  {
   "cell_type": "code",
   "execution_count": 7,
   "metadata": {},
   "outputs": [
    {
     "data": {
      "text/plain": [
       "'Gain_L2'"
      ]
     },
     "execution_count": 7,
     "metadata": {},
     "output_type": "execute_result"
    }
   ],
   "source": [
    "Irange = Parameter('Irange', label='current range', unit='', set_cmd=None, get_cmd=None)\n",
    "\n",
    "#division paraemtrs required for simplier update: they used as an argument for scaled paraemtrs of sorce instruments\n",
    "\n",
    "Irange_division = Parameter('Irange_division', \n",
    "                            label='scaled current range', unit='', \n",
    "                            set_cmd=None, get_cmd=lambda : 1000 / Irange())\n",
    "\n",
    "\n",
    "Irange_AC_division = Parameter('Irange_AC_division', \n",
    "                               label='scaled current range for lockin', unit='', \n",
    "                               set_cmd=None, get_cmd=lambda : 100 / Irange())\n",
    "\n",
    "\n",
    "Gain_K1 = Parameter('Gain_K1', label='Gain K1', unit='', set_cmd=None, get_cmd=None)\n",
    "Gain_K2 = Parameter('Gain_K2', label='Gain K2', unit='', set_cmd=None, get_cmd=None)\n",
    "Gain_L1 = Parameter('Gain_L1', label='Gain L1', unit='', set_cmd=None, get_cmd=None)\n",
    "Gain_L2 = Parameter('Gain_L2', label='Gain L2', unit='', set_cmd=None, get_cmd=None)\n",
    "\n",
    "#Add components\n",
    "station.add_component(Irange)\n",
    "\n",
    "station.add_component(Irange_division)\n",
    "\n",
    "station.add_component(Irange_AC_division)\n",
    "                             \n",
    "station.add_component(Gain_K1)\n",
    "station.add_component(Gain_K2)\n",
    "station.add_component(Gain_L1)\n",
    "station.add_component(Gain_L2)"
   ]
  },
  {
   "cell_type": "markdown",
   "metadata": {},
   "source": [
    "## IVVI rack parameters - update here during measuerements\n",
    "\n",
    "Also can be coppied to execute later"
   ]
  },
  {
   "cell_type": "code",
   "execution_count": 8,
   "metadata": {},
   "outputs": [],
   "source": [
    "Irange.set(10e-6)\n",
    "Gain_K1.set(1e3)\n",
    "Gain_K2.set(1e3)\n",
    "# Gain_K3.set(1e2)\n",
    "Gain_L1.set(Gain_K1())\n",
    "Gain_L2.set(Gain_K2())\n",
    "\n",
    "#division parameters are updated automatically"
   ]
  },
  {
   "cell_type": "markdown",
   "metadata": {},
   "source": [
    "## DC parameters - assigning devices\n",
    "Check that devicies are correct!"
   ]
  },
  {
   "cell_type": "code",
   "execution_count": 9,
   "metadata": {},
   "outputs": [
    {
     "data": {
      "text/plain": [
       "'meas_voltage_K1'"
      ]
     },
     "execution_count": 9,
     "metadata": {},
     "output_type": "execute_result"
    }
   ],
   "source": [
    "appl_current_1 = ScaledParameter(ivvi.dac1, division = Irange_division, name = 'appl_current_1', unit = 'A')\n",
    "appl_current_2 = ScaledParameter(ivvi.dac2, division = Irange_division, name = 'appl_current_2', unit = 'A')\n",
    "appl_current_3 = ScaledParameter(ivvi.dac3, division = Irange_division, name = 'appl_current_3', unit = 'A')\n",
    "\n",
    "meas_voltage_K1 = ScaledParameter(keithley_1.amplitude, division = Gain_K1, name = 'meas_voltage_K1', unit = 'V')\n",
    "\n",
    "station.add_component(appl_current_1)\n",
    "station.add_component(appl_current_2)\n",
    "station.add_component(appl_current_3)\n",
    "station.add_component(meas_voltage_K1)"
   ]
  },
  {
   "cell_type": "markdown",
   "metadata": {},
   "source": [
    "## AC parameters"
   ]
  },
  {
   "cell_type": "code",
   "execution_count": 10,
   "metadata": {},
   "outputs": [
    {
     "data": {
      "text/plain": [
       "'meas_voltage_Lockin2'"
      ]
     },
     "execution_count": 10,
     "metadata": {},
     "output_type": "execute_result"
    }
   ],
   "source": [
    "appl_current_AC_1 = ScaledParameter(lockin_1.amplitude, division = Irange_AC_division, name = 'appl_current_1_AC', unit = 'A')\n",
    "appl_current_AC_2 = ScaledParameter(lockin_2.amplitude, division = Irange_AC_division, name = 'appl_current_2_AC', unit = 'A')\n",
    "\n",
    "station.add_component(appl_current_AC_1)\n",
    "station.add_component(appl_current_AC_2)\n",
    "\n",
    "meas_voltage_AC_L1 = ScaledParameter(lockin_1.X, division = Gain_L1, name = 'meas_voltage_Lockin1', unit = 'V')\n",
    "meas_voltage_AC_L2 = ScaledParameter(lockin_2.X, division = Gain_L2, name = 'meas_voltage_Lockin2', unit = 'V')\n",
    "\n",
    "station.add_component(meas_voltage_AC_L1)\n",
    "station.add_component(meas_voltage_AC_L2)"
   ]
  },
  {
   "cell_type": "markdown",
   "metadata": {},
   "source": [
    "### Also might be important to store lokin R!"
   ]
  },
  {
   "cell_type": "code",
   "execution_count": 11,
   "metadata": {},
   "outputs": [
    {
     "data": {
      "text/plain": [
       "'meas_voltage_R_Lockin2'"
      ]
     },
     "execution_count": 11,
     "metadata": {},
     "output_type": "execute_result"
    }
   ],
   "source": [
    "meas_voltage_AC_L1_R = ScaledParameter(lockin_1.R, division = Gain_L1, name = 'meas_voltage_R_Lockin1', unit = 'V')\n",
    "meas_voltage_AC_L2_R = ScaledParameter(lockin_2.R, division = Gain_L2, name = 'meas_voltage_R_Lockin2', unit = 'V')\n",
    "\n",
    "station.add_component(meas_voltage_AC_L1_R)\n",
    "station.add_component(meas_voltage_AC_L2_R)"
   ]
  },
  {
   "cell_type": "markdown",
   "metadata": {},
   "source": [
    "# Extract R"
   ]
  },
  {
   "cell_type": "code",
   "execution_count": 12,
   "metadata": {},
   "outputs": [],
   "source": [
    "def get_R_from_IV(dataid):\n",
    "    dataset = qc.load_by_id(dataid)\n",
    "\n",
    "    voltage = dataset.get_parameter_data()['meas_voltage_K1']['meas_voltage_K1']\n",
    "    current = dataset.get_parameter_data()['meas_voltage_K1']['appl_current_3']\n",
    "    fit_values = np.polyfit(current,voltage,1)\n",
    "    \n",
    "    return fit_values[0]"
   ]
  },
  {
   "cell_type": "markdown",
   "metadata": {},
   "source": [
    "# Fast IV to get R"
   ]
  },
  {
   "cell_type": "code",
   "execution_count": 21,
   "metadata": {},
   "outputs": [],
   "source": [
    "I_lim_r_IV = 1e-6\n",
    "N_point_r_IV = 20\n",
    "delay_r_IV = 0.02"
   ]
  },
  {
   "cell_type": "code",
   "execution_count": 26,
   "metadata": {},
   "outputs": [],
   "source": [
    "def get_R_from_IV_1():\n",
    "    I_vals = np.linspace(-I_lim_r_IV, I_lim_r_IV, N_point_r_IV)\n",
    "    V_vals_1 = np.zeros_like(I_vals)\n",
    "    appl_current_3.post_delay = delay_r_IV\n",
    "    appl_current_3(-I_lim_r_IV)\n",
    "    sleep(2*delay_r_IV)\n",
    "    for i, I_val in enumerate(I_vals):\n",
    "        appl_current_3(I_val)\n",
    "        V_vals_1[i] = meas_voltage_K1()\n",
    "        \n",
    "    fit_values_1 = np.polyfit(I_vals,V_vals_1,1)\n",
    "    appl_current_3(-I_lim_r_IV)\n",
    "    return fit_values_1[0]"
   ]
  },
  {
   "cell_type": "code",
   "execution_count": 28,
   "metadata": {},
   "outputs": [
    {
     "name": "stdout",
     "output_type": "stream",
     "text": [
      "23.147320297492872\n",
      "--- 1.3260653018951416 seconds ---\n"
     ]
    }
   ],
   "source": [
    "import time\n",
    "start_time = time.time()\n",
    "print(get_R_from_IV_1())\n",
    "print(\"--- %s seconds ---\" % (time.time() - start_time))"
   ]
  },
  {
   "cell_type": "code",
   "execution_count": 29,
   "metadata": {},
   "outputs": [],
   "source": [
    "r_from_IV = Parameter('r_from_IV', \n",
    "                       label='resistance from fast IV K1 fit', unit='Ohm', \n",
    "                       set_cmd=None, get_cmd=get_R_from_IV_1)"
   ]
  },
  {
   "cell_type": "markdown",
   "metadata": {},
   "source": [
    "# Standard sweeps: setting parameter"
   ]
  },
  {
   "cell_type": "markdown",
   "metadata": {},
   "source": [
    "## 1D sweeps"
   ]
  },
  {
   "cell_type": "code",
   "execution_count": null,
   "metadata": {
    "scrolled": true
   },
   "outputs": [],
   "source": [
    "appl_current_3(-1e-6)\n",
    "exp = qc.new_experiment('IV-curve at 300K', sample_name='simulator_100Ohm')\n",
    "dataid = do1d(appl_current_3, -1e-6, 1e-6, 100, 0.1, meas_voltage_K1)\n",
    "#sweep current from -10uA to 10uA 100 points with 0.2sec delay\n",
    "#records voltage on keithley and lockin\n",
    "ivvi.set_dacs_zero()"
   ]
  },
  {
   "cell_type": "code",
   "execution_count": null,
   "metadata": {},
   "outputs": [],
   "source": [
    "plot_by_id(dataid)"
   ]
  },
  {
   "cell_type": "code",
   "execution_count": 19,
   "metadata": {},
   "outputs": [
    {
     "data": {
      "text/plain": [
       "26.689"
      ]
     },
     "execution_count": 19,
     "metadata": {},
     "output_type": "execute_result"
    }
   ],
   "source": [
    "lakeshore.A.temperature()"
   ]
  },
  {
   "cell_type": "code",
   "execution_count": 38,
   "metadata": {},
   "outputs": [],
   "source": [
    "appl_current_AC_1(100e-9)"
   ]
  },
  {
   "cell_type": "code",
   "execution_count": 40,
   "metadata": {},
   "outputs": [
    {
     "data": {
      "text/plain": [
       "10.3737"
      ]
     },
     "execution_count": 40,
     "metadata": {},
     "output_type": "execute_result"
    }
   ],
   "source": [
    "meas_voltage_AC_L1()/appl_current_AC_1()"
   ]
  },
  {
   "cell_type": "code",
   "execution_count": 35,
   "metadata": {},
   "outputs": [],
   "source": [
    "lockin_1.amplitude(0.004)\n",
    "lockin_2.amplitude(0.004)"
   ]
  },
  {
   "cell_type": "code",
   "execution_count": 18,
   "metadata": {},
   "outputs": [],
   "source": [
    "appl_current_AC_2(100e-9)"
   ]
  },
  {
   "cell_type": "code",
   "execution_count": null,
   "metadata": {},
   "outputs": [],
   "source": [
    "meas_voltage_AC_L2()/appl_current_AC_2()"
   ]
  },
  {
   "cell_type": "code",
   "execution_count": null,
   "metadata": {},
   "outputs": [],
   "source": []
  },
  {
   "cell_type": "markdown",
   "metadata": {},
   "source": [
    "# Measurements during cool down and warm up"
   ]
  },
  {
   "cell_type": "code",
   "execution_count": 20,
   "metadata": {},
   "outputs": [
    {
     "name": "stdout",
     "output_type": "stream",
     "text": [
      "Starting experimental run with id: 6. \n"
     ]
    }
   ],
   "source": [
    "def temp_limit(temp, measured_values):\n",
    "    return temp() < 5\n",
    "\n",
    "exp = qc.new_experiment('R_vs_temp_CD', sample_name='L1=18, L2=19, rIV=21 + rline(3probe)')\n",
    "\n",
    "dataid = measure_until(lakeshore.A.temperature, temp_limit, 4, \n",
    "                       meas_voltage_AC_L1, meas_voltage_AC_L2, r_from_IV)"
   ]
  },
  {
   "cell_type": "code",
   "execution_count": null,
   "metadata": {},
   "outputs": [],
   "source": []
  },
  {
   "cell_type": "code",
   "execution_count": null,
   "metadata": {},
   "outputs": [],
   "source": [
    "def temp_limit(temp, measured_values):\n",
    "    return temp() > 290\n",
    "\n",
    "exp = qc.new_experiment('V_AC&R_vs_temp_WarmUp', sample_name='L1=18, L2=19, rIV=21 + rline(3probe)')\n",
    "# current(10e-6)\n",
    "# appl_current_AC(100e-9)\n",
    "dataid = measure_until(lakeshore.A.temperature, temp_limit, 3, \n",
    "                       meas_voltage_AC_L1, meas_voltage_AC_L2, r_from_IV)"
   ]
  },
  {
   "cell_type": "markdown",
   "metadata": {},
   "source": [
    "# Using heater"
   ]
  },
  {
   "cell_type": "code",
   "execution_count": 37,
   "metadata": {},
   "outputs": [],
   "source": [
    "lakeshore.heater_output.setpoint(13)"
   ]
  },
  {
   "cell_type": "code",
   "execution_count": 25,
   "metadata": {},
   "outputs": [
    {
     "name": "stderr",
     "output_type": "stream",
     "text": [
      "[keithley_1(Keithley_2000)] Snapshot: Could not update parameter: trigger_count\n",
      "[keithley_2(Keithley_2000)] Snapshot: Could not update parameter: trigger_count\n"
     ]
    },
    {
     "name": "stdout",
     "output_type": "stream",
     "text": [
      "Starting experimental run with id: 7. \n"
     ]
    }
   ],
   "source": [
    "# appl_current_AC(100e-9)\n",
    "station.snapshot(update=True);\n",
    "exp = qc.load_or_create_experiment(experiment_name='V_AC&R-vs-set_temp_up_slow', \n",
    "                                   sample_name='L1=18, L2=19, rIV=21 + rline(3probe)')\n",
    "\n",
    "start = 13\n",
    "stop = 17\n",
    "num_points = 121\n",
    "\n",
    "#Register independent parameters\n",
    "meas = Measurement()\n",
    "meas.register_parameter(lakeshore.A.temperature)\n",
    "\n",
    "#Register dependent parametrs\n",
    "param_meas = [meas_voltage_AC_L1, meas_voltage_AC_L2, r_from_IV]\n",
    "output = []\n",
    "for parameter in param_meas:\n",
    "    meas.register_parameter(parameter, setpoints=(lakeshore.A.temperature,))\n",
    "    output.append([parameter, None])\n",
    "\n",
    "#Start measuremnts\n",
    "with meas.run() as datasaver:\n",
    "    for set_point in np.linspace(start, stop, num_points):\n",
    "        #set temperature and wait\n",
    "        lakeshore.heater_output.setpoint(set_point)\n",
    "        sleep(10)\n",
    "        for i, parameter in enumerate(param_meas):\n",
    "            output[i][1] = parameter.get()\n",
    "        datasaver.add_result((lakeshore.A.temperature, lakeshore.A.temperature()),\n",
    "                             *output)\n",
    "dataid = datasaver.run_id  # convenient to have for plotting"
   ]
  },
  {
   "cell_type": "code",
   "execution_count": 41,
   "metadata": {},
   "outputs": [
    {
     "name": "stderr",
     "output_type": "stream",
     "text": [
      "[keithley_1(Keithley_2000)] Snapshot: Could not update parameter: trigger_count\n",
      "[keithley_2(Keithley_2000)] Snapshot: Could not update parameter: trigger_count\n"
     ]
    },
    {
     "name": "stdout",
     "output_type": "stream",
     "text": [
      "Starting experimental run with id: 9. \n"
     ]
    }
   ],
   "source": [
    "# appl_current_AC(100e-9)\n",
    "station.snapshot(update=True);\n",
    "exp = qc.load_or_create_experiment(experiment_name='V_AC&R-vs-set_temp_up_slow', \n",
    "                                   sample_name='L1=21 + rline(3probe)')\n",
    "\n",
    "start = 13\n",
    "stop = 17\n",
    "num_points = 121\n",
    "\n",
    "#Register independent parameters\n",
    "meas = Measurement()\n",
    "meas.register_parameter(lakeshore.A.temperature)\n",
    "\n",
    "#Register dependent parametrs\n",
    "param_meas = [meas_voltage_AC_L1]\n",
    "output = []\n",
    "for parameter in param_meas:\n",
    "    meas.register_parameter(parameter, setpoints=(lakeshore.A.temperature,))\n",
    "    output.append([parameter, None])\n",
    "\n",
    "#Start measuremnts\n",
    "with meas.run() as datasaver:\n",
    "    for set_point in np.linspace(start, stop, num_points):\n",
    "        #set temperature and wait\n",
    "        lakeshore.heater_output.setpoint(set_point)\n",
    "        sleep(10)\n",
    "        for i, parameter in enumerate(param_meas):\n",
    "            output[i][1] = parameter.get()\n",
    "        datasaver.add_result((lakeshore.A.temperature, lakeshore.A.temperature()),\n",
    "                             *output)\n",
    "dataid = datasaver.run_id  # convenient to have for plotting"
   ]
  },
  {
   "cell_type": "code",
   "execution_count": 30,
   "metadata": {},
   "outputs": [
    {
     "name": "stderr",
     "output_type": "stream",
     "text": [
      "[keithley_1(Keithley_2000)] Snapshot: Could not update parameter: trigger_count\n",
      "[keithley_2(Keithley_2000)] Snapshot: Could not update parameter: trigger_count\n"
     ]
    },
    {
     "name": "stdout",
     "output_type": "stream",
     "text": [
      "Starting experimental run with id: 8. \n"
     ]
    },
    {
     "name": "stderr",
     "output_type": "stream",
     "text": [
      "An exception occured in measurement with guid: aaaaaaaa-0000-0000-0000-0178d5b4139d;\n",
      "Traceback:\n",
      "Traceback (most recent call last):\n",
      "  File \"<ipython-input-30-39c044ff6011>\", line 27, in <module>\n",
      "    sleep(15)\n",
      "KeyboardInterrupt\n",
      "\n"
     ]
    },
    {
     "ename": "KeyboardInterrupt",
     "evalue": "",
     "output_type": "error",
     "traceback": [
      "\u001b[1;31m---------------------------------------------------------------------------\u001b[0m",
      "\u001b[1;31mKeyboardInterrupt\u001b[0m                         Traceback (most recent call last)",
      "\u001b[1;32m<ipython-input-30-39c044ff6011>\u001b[0m in \u001b[0;36m<module>\u001b[1;34m\u001b[0m\n\u001b[0;32m     25\u001b[0m         \u001b[1;31m#set temperature and wait\u001b[0m\u001b[1;33m\u001b[0m\u001b[1;33m\u001b[0m\u001b[1;33m\u001b[0m\u001b[0m\n\u001b[0;32m     26\u001b[0m         \u001b[0mlakeshore\u001b[0m\u001b[1;33m.\u001b[0m\u001b[0mheater_output\u001b[0m\u001b[1;33m.\u001b[0m\u001b[0msetpoint\u001b[0m\u001b[1;33m(\u001b[0m\u001b[0mset_point\u001b[0m\u001b[1;33m)\u001b[0m\u001b[1;33m\u001b[0m\u001b[1;33m\u001b[0m\u001b[0m\n\u001b[1;32m---> 27\u001b[1;33m         \u001b[0msleep\u001b[0m\u001b[1;33m(\u001b[0m\u001b[1;36m15\u001b[0m\u001b[1;33m)\u001b[0m\u001b[1;33m\u001b[0m\u001b[1;33m\u001b[0m\u001b[0m\n\u001b[0m\u001b[0;32m     28\u001b[0m         \u001b[1;32mfor\u001b[0m \u001b[0mi\u001b[0m\u001b[1;33m,\u001b[0m \u001b[0mparameter\u001b[0m \u001b[1;32min\u001b[0m \u001b[0menumerate\u001b[0m\u001b[1;33m(\u001b[0m\u001b[0mparam_meas\u001b[0m\u001b[1;33m)\u001b[0m\u001b[1;33m:\u001b[0m\u001b[1;33m\u001b[0m\u001b[1;33m\u001b[0m\u001b[0m\n\u001b[0;32m     29\u001b[0m             \u001b[0moutput\u001b[0m\u001b[1;33m[\u001b[0m\u001b[0mi\u001b[0m\u001b[1;33m]\u001b[0m\u001b[1;33m[\u001b[0m\u001b[1;36m1\u001b[0m\u001b[1;33m]\u001b[0m \u001b[1;33m=\u001b[0m \u001b[0mparameter\u001b[0m\u001b[1;33m.\u001b[0m\u001b[0mget\u001b[0m\u001b[1;33m(\u001b[0m\u001b[1;33m)\u001b[0m\u001b[1;33m\u001b[0m\u001b[1;33m\u001b[0m\u001b[0m\n",
      "\u001b[1;31mKeyboardInterrupt\u001b[0m: "
     ]
    }
   ],
   "source": [
    "# appl_current_AC(100e-9)\n",
    "station.snapshot(update=True);\n",
    "exp = qc.load_or_create_experiment(\n",
    "    experiment_name='V_AC&R-vs-set_temp_down_slow', \n",
    "    sample_name='L1=18, L2=19, rIV=21 + rline(3probe)')\n",
    "\n",
    "start = 17\n",
    "stop = 13\n",
    "num_points = 121\n",
    "\n",
    "#Register independent parameters\n",
    "meas = Measurement()\n",
    "meas.register_parameter(lakeshore.A.temperature)\n",
    "\n",
    "#Register dependent parametrs\n",
    "param_meas = [meas_voltage_AC_L1, meas_voltage_AC_L2, r_from_IV]\n",
    "output = []\n",
    "for parameter in param_meas:\n",
    "    meas.register_parameter(parameter, setpoints=(lakeshore.A.temperature,))\n",
    "    output.append([parameter, None])\n",
    "\n",
    "#Start measuremnts\n",
    "with meas.run() as datasaver:\n",
    "    for set_point in np.linspace(start, stop, num_points):\n",
    "        #set temperature and wait\n",
    "        lakeshore.heater_output.setpoint(set_point)\n",
    "        sleep(15)\n",
    "        for i, parameter in enumerate(param_meas):\n",
    "            output[i][1] = parameter.get()\n",
    "        datasaver.add_result((lakeshore.A.temperature, lakeshore.A.temperature()),\n",
    "                             *output)\n",
    "dataid = datasaver.run_id  # convenient to have for plotting"
   ]
  },
  {
   "cell_type": "code",
   "execution_count": 42,
   "metadata": {},
   "outputs": [
    {
     "name": "stderr",
     "output_type": "stream",
     "text": [
      "[keithley_1(Keithley_2000)] Snapshot: Could not update parameter: trigger_count\n",
      "[keithley_2(Keithley_2000)] Snapshot: Could not update parameter: trigger_count\n"
     ]
    },
    {
     "name": "stdout",
     "output_type": "stream",
     "text": [
      "Starting experimental run with id: 10. \n"
     ]
    },
    {
     "name": "stderr",
     "output_type": "stream",
     "text": [
      "An exception occured in measurement with guid: aaaaaaaa-0000-0000-0000-0178d5ddc19e;\n",
      "Traceback:\n",
      "Traceback (most recent call last):\n",
      "  File \"<ipython-input-42-600132581354>\", line 26, in <module>\n",
      "    sleep(10)\n",
      "KeyboardInterrupt\n",
      "\n"
     ]
    },
    {
     "ename": "KeyboardInterrupt",
     "evalue": "",
     "output_type": "error",
     "traceback": [
      "\u001b[1;31m---------------------------------------------------------------------------\u001b[0m",
      "\u001b[1;31mKeyboardInterrupt\u001b[0m                         Traceback (most recent call last)",
      "\u001b[1;32m<ipython-input-42-600132581354>\u001b[0m in \u001b[0;36m<module>\u001b[1;34m\u001b[0m\n\u001b[0;32m     24\u001b[0m         \u001b[1;31m#set temperature and wait\u001b[0m\u001b[1;33m\u001b[0m\u001b[1;33m\u001b[0m\u001b[1;33m\u001b[0m\u001b[0m\n\u001b[0;32m     25\u001b[0m         \u001b[0mlakeshore\u001b[0m\u001b[1;33m.\u001b[0m\u001b[0mheater_output\u001b[0m\u001b[1;33m.\u001b[0m\u001b[0msetpoint\u001b[0m\u001b[1;33m(\u001b[0m\u001b[0mset_point\u001b[0m\u001b[1;33m)\u001b[0m\u001b[1;33m\u001b[0m\u001b[1;33m\u001b[0m\u001b[0m\n\u001b[1;32m---> 26\u001b[1;33m         \u001b[0msleep\u001b[0m\u001b[1;33m(\u001b[0m\u001b[1;36m10\u001b[0m\u001b[1;33m)\u001b[0m\u001b[1;33m\u001b[0m\u001b[1;33m\u001b[0m\u001b[0m\n\u001b[0m\u001b[0;32m     27\u001b[0m         \u001b[1;32mfor\u001b[0m \u001b[0mi\u001b[0m\u001b[1;33m,\u001b[0m \u001b[0mparameter\u001b[0m \u001b[1;32min\u001b[0m \u001b[0menumerate\u001b[0m\u001b[1;33m(\u001b[0m\u001b[0mparam_meas\u001b[0m\u001b[1;33m)\u001b[0m\u001b[1;33m:\u001b[0m\u001b[1;33m\u001b[0m\u001b[1;33m\u001b[0m\u001b[0m\n\u001b[0;32m     28\u001b[0m             \u001b[0moutput\u001b[0m\u001b[1;33m[\u001b[0m\u001b[0mi\u001b[0m\u001b[1;33m]\u001b[0m\u001b[1;33m[\u001b[0m\u001b[1;36m1\u001b[0m\u001b[1;33m]\u001b[0m \u001b[1;33m=\u001b[0m \u001b[0mparameter\u001b[0m\u001b[1;33m.\u001b[0m\u001b[0mget\u001b[0m\u001b[1;33m(\u001b[0m\u001b[1;33m)\u001b[0m\u001b[1;33m\u001b[0m\u001b[1;33m\u001b[0m\u001b[0m\n",
      "\u001b[1;31mKeyboardInterrupt\u001b[0m: "
     ]
    }
   ],
   "source": [
    "# appl_current_AC(100e-9)\n",
    "station.snapshot(update=True);\n",
    "exp = qc.load_or_create_experiment(experiment_name='V_AC&R-vs-set_temp_down_slow', \n",
    "                                   sample_name='L1=21 + rline(3probe)')\n",
    "\n",
    "start = 17\n",
    "stop = 13\n",
    "num_points = 121\n",
    "\n",
    "#Register independent parameters\n",
    "meas = Measurement()\n",
    "meas.register_parameter(lakeshore.A.temperature)\n",
    "\n",
    "#Register dependent parametrs\n",
    "param_meas = [meas_voltage_AC_L1]\n",
    "output = []\n",
    "for parameter in param_meas:\n",
    "    meas.register_parameter(parameter, setpoints=(lakeshore.A.temperature,))\n",
    "    output.append([parameter, None])\n",
    "\n",
    "#Start measuremnts\n",
    "with meas.run() as datasaver:\n",
    "    for set_point in np.linspace(start, stop, num_points):\n",
    "        #set temperature and wait\n",
    "        lakeshore.heater_output.setpoint(set_point)\n",
    "        sleep(10)\n",
    "        for i, parameter in enumerate(param_meas):\n",
    "            output[i][1] = parameter.get()\n",
    "        datasaver.add_result((lakeshore.A.temperature, lakeshore.A.temperature()),\n",
    "                             *output)\n",
    "dataid = datasaver.run_id  # convenient to have for plotting"
   ]
  },
  {
   "cell_type": "code",
   "execution_count": 43,
   "metadata": {},
   "outputs": [],
   "source": [
    "lakeshore.heater_output.setpoint(2)"
   ]
  },
  {
   "cell_type": "code",
   "execution_count": null,
   "metadata": {},
   "outputs": [],
   "source": []
  },
  {
   "cell_type": "code",
   "execution_count": 45,
   "metadata": {},
   "outputs": [
    {
     "data": {
      "text/plain": [
       "([<AxesSubplot:title={'center':'Run #10, Experiment V_AC&R-vs-set_temp_down_slow (L1=21 + rline(3probe))'}, xlabel='Temperature (K)', ylabel='meas_voltage_Lockin1 (μV)'>],\n",
       " [None])"
      ]
     },
     "execution_count": 45,
     "metadata": {},
     "output_type": "execute_result"
    },
    {
     "data": {
      "image/png": "[encoded data removed]",
      "text/plain": [
       "<Figure size 432x288 with 1 Axes>"
      ]
     },
     "metadata": {
      "needs_background": "light"
     },
     "output_type": "display_data"
    }
   ],
   "source": [
    "plot_by_id(10)"
   ]
  },
  {
   "cell_type": "markdown",
   "metadata": {},
   "source": [
    "# Analysis"
   ]
  },
  {
   "cell_type": "code",
   "execution_count": 47,
   "metadata": {},
   "outputs": [],
   "source": [
    "import matplotlib"
   ]
  },
  {
   "cell_type": "code",
   "execution_count": 48,
   "metadata": {},
   "outputs": [],
   "source": [
    "matplotlib.rcParams.update({'font.size': 16})\n",
    "matplotlib.rc('xtick', labelsize=15) \n",
    "matplotlib.rc('ytick', labelsize=15) "
   ]
  },
  {
   "cell_type": "code",
   "execution_count": 53,
   "metadata": {},
   "outputs": [],
   "source": []
  },
  {
   "cell_type": "code",
   "execution_count": 59,
   "metadata": {},
   "outputs": [],
   "source": [
    "dataset = qc.load_by_id(7)\n",
    "current_AC = dataset.snapshot['station']['parameters']['appl_current_1_AC']['value']\n",
    "\n",
    "voltage_18_up = dataset.get_parameter_data()['meas_voltage_Lockin1']['meas_voltage_Lockin1']\n",
    "temp_18_up = dataset.get_parameter_data()['meas_voltage_Lockin1']['lakeshore_A_temperature']\n",
    "R_18_up = voltage_18_up / current_AC\n",
    "\n",
    "voltage_19_up = dataset.get_parameter_data()['meas_voltage_Lockin2']['meas_voltage_Lockin2']\n",
    "temp_19_up = dataset.get_parameter_data()['meas_voltage_Lockin2']['lakeshore_A_temperature']\n",
    "R_19_up = voltage_19_up / current_AC"
   ]
  },
  {
   "cell_type": "code",
   "execution_count": 60,
   "metadata": {},
   "outputs": [],
   "source": [
    "dataset = qc.load_by_id(9)\n",
    "current_AC = dataset.snapshot['station']['parameters']['appl_current_1_AC']['value']\n",
    "\n",
    "voltage_21_up = dataset.get_parameter_data()['meas_voltage_Lockin1']['meas_voltage_Lockin1']\n",
    "temp_21_up = dataset.get_parameter_data()['meas_voltage_Lockin1']['lakeshore_A_temperature']\n",
    "R_21_up = voltage_21_up / current_AC"
   ]
  },
  {
   "cell_type": "code",
   "execution_count": 61,
   "metadata": {},
   "outputs": [],
   "source": [
    "dataset = qc.load_by_id(8)\n",
    "current_AC = dataset.snapshot['station']['parameters']['appl_current_1_AC']['value']\n",
    "\n",
    "voltage_18_down = dataset.get_parameter_data()['meas_voltage_Lockin1']['meas_voltage_Lockin1']\n",
    "temp_18_down = dataset.get_parameter_data()['meas_voltage_Lockin1']['lakeshore_A_temperature']\n",
    "R_18_down = voltage_18_down / current_AC\n",
    "\n",
    "voltage_19_down = dataset.get_parameter_data()['meas_voltage_Lockin2']['meas_voltage_Lockin2']\n",
    "temp_19_down = dataset.get_parameter_data()['meas_voltage_Lockin2']['lakeshore_A_temperature']\n",
    "R_19_down = voltage_19_down / current_AC"
   ]
  },
  {
   "cell_type": "code",
   "execution_count": 62,
   "metadata": {},
   "outputs": [],
   "source": [
    "dataset = qc.load_by_id(10)\n",
    "current_AC = dataset.snapshot['station']['parameters']['appl_current_1_AC']['value']\n",
    "\n",
    "voltage_21_down = dataset.get_parameter_data()['meas_voltage_Lockin1']['meas_voltage_Lockin1']\n",
    "temp_21_down = dataset.get_parameter_data()['meas_voltage_Lockin1']['lakeshore_A_temperature']\n",
    "R_21_down = voltage_21_down / current_AC"
   ]
  },
  {
   "cell_type": "code",
   "execution_count": 70,
   "metadata": {},
   "outputs": [
    {
     "data": {
      "image/png": "[encoded data removed]",
      "text/plain": [
       "<Figure size 720x432 with 1 Axes>"
      ]
     },
     "metadata": {
      "needs_background": "light"
     },
     "output_type": "display_data"
    }
   ],
   "source": [
    "fig, ax = plt.subplots(1, figsize = (10,6))\n",
    "ax.plot(temp_18_up, R_18_up/np.max(R_18_up), label = 'up')\n",
    "ax.plot(temp_18_down, R_18_down/np.max(R_18_up), label = 'down')\n",
    "\n",
    "# ax.axvline(9.45, color = 'gray', linestyle =':', linewidth = 3, label = '9.45K')\n",
    "\n",
    "ax.legend(fontsize = 16)\n",
    "ax.set_xlim(14, 17)\n",
    "ax.set_xlabel('T(K)')\n",
    "ax.set_ylabel(r'R/R$_{max}$')\n",
    "plt.title('NbTiN 18.11.08', fontsize = 16)\n",
    "plt.savefig('C:/Users/TUD206951/Documents/LOCAL_DATA/Ivan/NbTiN/plots/R18_vs_temp.png')"
   ]
  },
  {
   "cell_type": "code",
   "execution_count": 71,
   "metadata": {},
   "outputs": [
    {
     "data": {
      "image/png": "[encoded data removed]",
      "text/plain": [
       "<Figure size 720x432 with 1 Axes>"
      ]
     },
     "metadata": {
      "needs_background": "light"
     },
     "output_type": "display_data"
    }
   ],
   "source": [
    "fig, ax = plt.subplots(1, figsize = (10,6))\n",
    "ax.plot(temp_19_up, R_19_up/np.max(R_19_up), label = 'up')\n",
    "ax.plot(temp_19_down, R_19_down/np.max(R_19_up), label = 'down')\n",
    "\n",
    "# ax.axvline(9.45, color = 'gray', linestyle =':', linewidth = 3, label = '9.45K')\n",
    "\n",
    "ax.legend(fontsize = 16)\n",
    "ax.set_xlim(14, 17)\n",
    "ax.set_xlabel('T(K)')\n",
    "ax.set_ylabel(r'R/R$_{max}$')\n",
    "plt.title('NbTiN 19.07.22', fontsize = 16)\n",
    "plt.savefig('C:/Users/TUD206951/Documents/LOCAL_DATA/Ivan/NbTiN/plots/R19_vs_temp.png')"
   ]
  },
  {
   "cell_type": "code",
   "execution_count": 72,
   "metadata": {},
   "outputs": [
    {
     "data": {
      "text/plain": [
       "13.15784"
      ]
     },
     "execution_count": 72,
     "metadata": {},
     "output_type": "execute_result"
    }
   ],
   "source": [
    "R_line = np.average(R_21_up[temp_21_up<15])\n",
    "R_line"
   ]
  },
  {
   "cell_type": "code",
   "execution_count": 73,
   "metadata": {},
   "outputs": [
    {
     "data": {
      "image/png": "[encoded data removed]",
      "text/plain": [
       "<Figure size 720x432 with 1 Axes>"
      ]
     },
     "metadata": {
      "needs_background": "light"
     },
     "output_type": "display_data"
    }
   ],
   "source": [
    "fig, ax = plt.subplots(1, figsize = (10,6))\n",
    "ax.plot(temp_21_up, (R_21_up-R_line)/np.max(R_21_up-R_line), label = 'up')\n",
    "ax.plot(temp_21_down, (R_21_down-R_line)/np.max(R_21_up-R_line), label = 'down')\n",
    "\n",
    "# ax.axvline(9.45, color = 'gray', linestyle =':', linewidth = 3, label = '9.45K')\n",
    "\n",
    "ax.legend(fontsize = 16)\n",
    "ax.set_xlim(14, 17)\n",
    "ax.set_xlabel('T(K)')\n",
    "ax.set_ylabel(r'R/R$_{max}$')\n",
    "plt.title('NbTiN 21.03.02, R_line substracted', fontsize = 16)\n",
    "plt.savefig('C:/Users/TUD206951/Documents/LOCAL_DATA/Ivan/NbTiN/plots/R21_vs_temp.png')"
   ]
  },
  {
   "cell_type": "code",
   "execution_count": null,
   "metadata": {},
   "outputs": [],
   "source": []
  },
  {
   "cell_type": "code",
   "execution_count": 86,
   "metadata": {},
   "outputs": [
    {
     "data": {
      "image/png": "[encoded data removed]",
      "text/plain": [
       "<Figure size 720x432 with 1 Axes>"
      ]
     },
     "metadata": {
      "needs_background": "light"
     },
     "output_type": "display_data"
    }
   ],
   "source": [
    "fig, ax = plt.subplots(1, figsize = (10,6))\n",
    "\n",
    "ax.plot(temp_18_up, R_18_up/np.max(R_18_up), label = '18.11.08', linewidth = 3)\n",
    "ax.plot(temp_19_up, R_19_up/np.max(R_19_up), label = '19.07.22', linewidth = 3)\n",
    "ax.plot(temp_21_up, (R_21_up-R_line)/np.max(R_21_up-R_line), label = '21.03.02', linewidth = 3)\n",
    "\n",
    "# ax.axvline(9.45, color = 'gray', linestyle =':', linewidth = 3, label = '9.45K')\n",
    "\n",
    "ax.legend(fontsize = 16)\n",
    "ax.set_xlim(15, 16)\n",
    "ax.set_xlabel('T(K)')\n",
    "ax.set_ylabel(r'R/R$_{max}$')\n",
    "plt.minorticks_on()\n",
    "plt.grid()\n",
    "plt.grid(b=True, which='minor')\n",
    "plt.title('NbTiN, temp up scan', fontsize = 16)\n",
    "plt.savefig('C:/Users/TUD206951/Documents/LOCAL_DATA/Ivan/NbTiN/plots/R_all_up_vs_temp.png')"
   ]
  },
  {
   "cell_type": "code",
   "execution_count": 87,
   "metadata": {},
   "outputs": [
    {
     "data": {
      "image/png": "[encoded data removed]",
      "text/plain": [
       "<Figure size 720x432 with 1 Axes>"
      ]
     },
     "metadata": {
      "needs_background": "light"
     },
     "output_type": "display_data"
    }
   ],
   "source": [
    "fig, ax = plt.subplots(1, figsize = (10,6))\n",
    "\n",
    "ax.plot(temp_18_down, R_18_down/np.max(R_18_down), label = '18.11.08', linewidth = 3)\n",
    "ax.plot(temp_19_down, R_19_down/np.max(R_19_down), label = '19.07.22', linewidth = 3)\n",
    "ax.plot(temp_21_down, (R_21_down-R_line)/np.max(R_21_down-R_line), label = '21.03.02', linewidth = 3)\n",
    "\n",
    "# ax.axvline(9.45, color = 'gray', linestyle =':', linewidth = 3, label = '9.45K')\n",
    "\n",
    "ax.legend(fontsize = 16)\n",
    "ax.set_xlim(15, 16)\n",
    "ax.set_xlabel('T(K)')\n",
    "ax.set_ylabel(r'R/R$_{max}$')\n",
    "plt.minorticks_on()\n",
    "plt.grid()\n",
    "plt.grid(b=True, which='minor')\n",
    "plt.title('NbTiN, temp down scan', fontsize = 16)\n",
    "plt.savefig('C:/Users/TUD206951/Documents/LOCAL_DATA/Ivan/NbTiN/plots/R_all_down_vs_temp.png')"
   ]
  },
  {
   "cell_type": "code",
   "execution_count": 93,
   "metadata": {},
   "outputs": [
    {
     "data": {
      "image/png": "[encoded data removed]",
      "text/plain": [
       "<Figure size 720x432 with 1 Axes>"
      ]
     },
     "metadata": {
      "needs_background": "light"
     },
     "output_type": "display_data"
    }
   ],
   "source": [
    "fig, ax = plt.subplots(1, figsize = (10,6))\n",
    "\n",
    "ax.plot(temp_18_up, R_18_up/np.max(R_18_up), label = '18.11.08', linewidth = 3, c='blue')\n",
    "ax.plot(temp_19_up, R_19_up/np.max(R_19_up), label = '19.07.22', linewidth = 3, c='orange')\n",
    "ax.plot(temp_21_up, (R_21_up-R_line)/np.max(R_21_up-R_line), label = '21.03.02', linewidth = 3, c='green')\n",
    "\n",
    "ax.plot(temp_18_down, R_18_down/np.max(R_18_down), linewidth = 2, c='blue', ls='--')\n",
    "ax.plot(temp_19_down, R_19_down/np.max(R_19_down), linewidth = 2, c='orange', ls='--')\n",
    "ax.plot(temp_21_down, (R_21_down-R_line)/np.max(R_21_down-R_line), linewidth = 2, c='green', ls='--')\n",
    "\n",
    "# ax.axvline(9.45, color = 'gray', linestyle =':', linewidth = 3, label = '9.45K')\n",
    "\n",
    "ax.legend(fontsize = 16)\n",
    "ax.set_xlim(15, 16)\n",
    "ax.set_xlabel('T(K)')\n",
    "ax.set_ylabel(r'R/R$_{max}$')\n",
    "plt.minorticks_on()\n",
    "plt.grid()\n",
    "plt.grid(b=True, which='minor')\n",
    "plt.title('NbTiN, temp up and down (--) scan\\nlabel=yy.mm.dd', fontsize = 16)\n",
    "plt.savefig('C:/Users/TUD206951/Documents/LOCAL_DATA/Ivan/NbTiN/plots/R_all_both_vs_temp.png')"
   ]
  },
  {
   "cell_type": "code",
   "execution_count": null,
   "metadata": {},
   "outputs": [],
   "source": []
  }
 ],
 "metadata": {
  "kernelspec": {
   "display_name": "Python 3",
   "language": "python",
   "name": "python3"
  },
  "language_info": {
   "codemirror_mode": {
    "name": "ipython",
    "version": 3
   },
   "file_extension": ".py",
   "mimetype": "text/x-python",
   "name": "python",
   "nbconvert_exporter": "python",
   "pygments_lexer": "ipython3",
   "version": "3.9.2"
  },
  "toc": {
   "base_numbering": 1,
   "nav_menu": {},
   "number_sections": true,
   "sideBar": true,
   "skip_h1_title": false,
   "title_cell": "Table of Contents",
   "title_sidebar": "Contents",
   "toc_cell": false,
   "toc_position": {
    "height": "calc(100% - 180px)",
    "left": "10px",
    "top": "150px",
    "width": "240px"
   },
   "toc_section_display": true,
   "toc_window_display": true
  }
 },
 "nbformat": 4,
 "nbformat_minor": 2
}
