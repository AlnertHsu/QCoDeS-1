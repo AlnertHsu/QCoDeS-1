{
 "cells": [
  {
   "cell_type": "markdown",
   "metadata": {},
   "source": [
    "# Introduction"
   ]
  },
  {
   "cell_type": "markdown",
   "metadata": {},
   "source": [
    "This notebook illustrates the basics of how to use `plottr` -- in particular, the `inspectr` and `autoplot` tools -- to live plot data in a qcodes database."
   ]
  },
  {
   "cell_type": "markdown",
   "metadata": {},
   "source": [
    "## Basic notebook setup"
   ]
  },
  {
   "cell_type": "code",
   "execution_count": null,
   "metadata": {
    "ExecuteTime": {
     "end_time": "2019-05-07T06:57:34.632640Z",
     "start_time": "2019-05-07T06:57:34.606712Z"
    }
   },
   "outputs": [],
   "source": [
    "%gui qt\n",
    "\n",
    "DBPATH = './qcodes_liveplot_demo.db'\n",
    "\n",
    "import qcodes as qc\n",
    "\n",
    "qc.config.core.db_location = DBPATH\n",
    "qc.initialise_database()"
   ]
  },
  {
   "cell_type": "markdown",
   "metadata": {},
   "source": [
    "# Launching inspectr"
   ]
  },
  {
   "cell_type": "markdown",
   "metadata": {},
   "source": [
    "Next, we need to run the inspectr tool from the command line in a separate process. From within the plottr root directory, run \n",
    "\n",
    "``\n",
    "$ python apps/inspectr.py --dbpath=./doc/examples/qcodes_liveplot_demo.db\n",
    "``"
   ]
  },
  {
   "cell_type": "markdown",
   "metadata": {},
   "source": [
    "We should now have two windows open; no data is yet shown if we started with a fresh .db file. \n",
    "Now, before populating the database, let's enable automatic monitoring of the dataset. To do that, enter a refresh interval (given in seconds) in the inspectr window toolbar, and enable the auto-plot option."
   ]
  },
  {
   "cell_type": "markdown",
   "metadata": {},
   "source": [
    "# Dummy experiments"
   ]
  },
  {
   "cell_type": "markdown",
   "metadata": {},
   "source": [
    "Below are a few dummy qcodes experiments that should hopefully illustrate how the live plotter behaves. Run them while the inspectr is open, and monitoring is active (or not -- you can also refresh manually by pressing 'R'; this works for both inspectr and the autoplotter). "
   ]
  },
  {
   "cell_type": "markdown",
   "metadata": {
    "ExecuteTime": {
     "end_time": "2018-12-31T12:47:55.343906Z",
     "start_time": "2018-12-31T12:47:55.309855Z"
    }
   },
   "source": [
    "## Qcodes imports (and other relevant stuff)"
   ]
  },
  {
   "cell_type": "code",
   "execution_count": null,
   "metadata": {
    "ExecuteTime": {
     "end_time": "2019-05-13T12:16:36.430546Z",
     "start_time": "2019-05-13T12:16:26.671614Z"
    }
   },
   "outputs": [],
   "source": [
    "import time\n",
    "import numpy as np\n",
    "import lmfit\n",
    "from qcodes import load_or_create_experiment, Measurement, Parameter"
   ]
  },
  {
   "cell_type": "markdown",
   "metadata": {},
   "source": [
    "## A very simple 1D sweep"
   ]
  },
  {
   "cell_type": "code",
   "execution_count": null,
   "metadata": {
    "ExecuteTime": {
     "end_time": "2019-01-29T22:41:12.251621Z",
     "start_time": "2019-01-29T22:41:12.246635Z"
    }
   },
   "outputs": [],
   "source": [
    "xvals = np.linspace(0, 10, 101)\n",
    "yvals = np.sin(xvals)\n",
    "y2vals = np.cos(xvals)\n",
    "\n",
    "def simple_1d_sweep():\n",
    "    for x, y, y2 in zip(xvals, yvals, y2vals):\n",
    "        yield x, y, y2\n",
    "        \n",
    "x = Parameter('x')\n",
    "y = Parameter('y')\n",
    "y2 = Parameter('y2')\n",
    "\n",
    "station = qc.Station(x, y, y2)"
   ]
  },
  {
   "cell_type": "code",
   "execution_count": null,
   "metadata": {
    "ExecuteTime": {
     "end_time": "2019-01-29T22:42:08.163848Z",
     "start_time": "2019-01-29T22:41:13.906794Z"
    }
   },
   "outputs": [],
   "source": [
    "exp = load_or_create_experiment('simple_1d_sweep', sample_name='no sample')\n",
    "\n",
    "meas = Measurement(exp, station)\n",
    "meas.register_parameter(x)\n",
    "meas.register_parameter(y, setpoints=(x,))\n",
    "meas.register_parameter(y2, setpoints=(x,))\n",
    "meas.write_period = 2\n",
    "\n",
    "with meas.run() as datasaver:\n",
    "    for xval, yval, y2val in simple_1d_sweep():\n",
    "        datasaver.add_result(\n",
    "            (x, xval),\n",
    "            (y, yval),\n",
    "            (y2, y2val),\n",
    "        )\n",
    "        time.sleep(0.2)"
   ]
  },
  {
   "cell_type": "markdown",
   "metadata": {},
   "source": [
    "## A simple 2D sweep"
   ]
  },
  {
   "cell_type": "code",
   "execution_count": null,
   "metadata": {
    "ExecuteTime": {
     "end_time": "2019-01-29T22:42:22.035442Z",
     "start_time": "2019-01-29T22:42:22.029458Z"
    }
   },
   "outputs": [],
   "source": [
    "xvals = np.linspace(-5, 5, 51)\n",
    "yvals = np.linspace(-5, 5, 51)\n",
    "xx, yy = np.meshgrid(xvals, yvals, indexing='ij')\n",
    "zz = np.cos(xx) * np.cos(yy)\n",
    "\n",
    "def simple_2d_sweep():\n",
    "    for i, x in enumerate(xvals):\n",
    "        yield x, yy[i, :], zz[i, :]\n",
    "        \n",
    "x = Parameter('x')\n",
    "y = Parameter('y')\n",
    "z = Parameter('z')\n",
    "\n",
    "station = qc.Station(x, y, z)"
   ]
  },
  {
   "cell_type": "code",
   "execution_count": null,
   "metadata": {
    "ExecuteTime": {
     "end_time": "2019-01-29T22:42:35.803916Z",
     "start_time": "2019-01-29T22:42:23.945335Z"
    }
   },
   "outputs": [],
   "source": [
    "exp = load_or_create_experiment('simple_2d_sweep', sample_name='no sample')\n",
    "\n",
    "meas = Measurement(exp, station)\n",
    "meas.register_parameter(x)\n",
    "meas.register_parameter(y, paramtype='array')\n",
    "meas.register_parameter(z, setpoints=(x, y), paramtype='array')\n",
    "meas.write_period = 2\n",
    "\n",
    "with meas.run() as datasaver:\n",
    "    for xval, yval, zval in simple_2d_sweep():\n",
    "        datasaver.add_result(\n",
    "            (x, xval),\n",
    "            (y, yval),\n",
    "            (z, zval),\n",
    "        )\n",
    "        time.sleep(0.2)"
   ]
  },
  {
   "cell_type": "code",
   "execution_count": null,
   "metadata": {
    "ExecuteTime": {
     "end_time": "2019-01-04T21:30:48.912932Z",
     "start_time": "2019-01-04T21:30:48.797246Z"
    }
   },
   "outputs": [],
   "source": []
  },
  {
   "cell_type": "markdown",
   "metadata": {},
   "source": [
    "## Another simple 2D sweep"
   ]
  },
  {
   "cell_type": "markdown",
   "metadata": {},
   "source": [
    "This is handy to use with the autonode examples. Autonode is a deocorator that enables fairly easy creation of new processing tools ('nodes') that can be integrated into plottr. As an example, we look at a simple node that just fits a 1d data set with a sine function. It's only user input is the initial guess of the frequency.\n",
    "For the implementation, see the ``autonode_app.py`` file in the ``doc/examples`` folder.\n",
    "(Note: you need `lmfit` installed for this one).\n",
    "\n",
    "To see what it does, start the example below -- it's purposefully set to a very slow repetition rate. Then note down the runId that's displayed, and from this directory run:\n",
    "\n",
    "``\n",
    "$ python autonode.py ./qcodes_liveplot_demo.db <runid>\n",
    "``\n",
    "\n",
    "You can of course kill it anytime you're getting bored."
   ]
  },
  {
   "cell_type": "code",
   "execution_count": null,
   "metadata": {
    "ExecuteTime": {
     "end_time": "2019-05-07T07:11:12.279800Z",
     "start_time": "2019-05-07T07:08:57.417582Z"
    }
   },
   "outputs": [],
   "source": [
    "# set up dummy data\n",
    "xvals = np.linspace(-5, 5, 51)\n",
    "yvals = np.arange(100.)\n",
    "xx, yy = np.meshgrid(xvals, yvals, indexing='ij')\n",
    "zz = np.sin(xx) + np.random.normal(scale=1, size=xx.shape)\n",
    "\n",
    "def simple_2d_sweep():\n",
    "    for i, y in enumerate(yvals):\n",
    "        yield xx[:, i], y, zz[:, i]\n",
    "        \n",
    "x = Parameter('x')\n",
    "y = Parameter('y')\n",
    "z = Parameter('z')\n",
    "station = qc.Station(x, y, z)\n",
    "\n",
    "# ... and run\n",
    "exp = load_or_create_experiment('another_simple_2d_sweep', sample_name='no sample')\n",
    "\n",
    "meas = Measurement(exp, station)\n",
    "meas.register_parameter(x, paramtype='array')\n",
    "meas.register_parameter(y)\n",
    "meas.register_parameter(z, setpoints=(x, y), paramtype='array')\n",
    "meas.write_period = 2\n",
    "\n",
    "with meas.run() as datasaver:\n",
    "    for xval, yval, zval in simple_2d_sweep():\n",
    "        datasaver.add_result(\n",
    "            (x, xval),\n",
    "            (y, yval),\n",
    "            (z, zval),\n",
    "        )\n",
    "        time.sleep(2)"
   ]
  },
  {
   "cell_type": "code",
   "execution_count": null,
   "metadata": {},
   "outputs": [],
   "source": []
  }
 ],
 "metadata": {
  "kernelspec": {
   "display_name": "Python 3",
   "language": "python",
   "name": "python3"
  },
  "language_info": {
   "codemirror_mode": {
    "name": "ipython",
    "version": 3
   },
   "file_extension": ".py",
   "mimetype": "text/x-python",
   "name": "python",
   "nbconvert_exporter": "python",
   "pygments_lexer": "ipython3",
   "version": "3.6.7"
  },
  "toc": {
   "base_numbering": 1,
   "nav_menu": {},
   "number_sections": true,
   "sideBar": true,
   "skip_h1_title": false,
   "title_cell": "Table of Contents",
   "title_sidebar": "Contents",
   "toc_cell": false,
   "toc_position": {},
   "toc_section_display": true,
   "toc_window_display": true
  },
  "varInspector": {
   "cols": {
    "lenName": 16,
    "lenType": 16,
    "lenVar": 40
   },
   "kernels_config": {
    "python": {
     "delete_cmd_postfix": "",
     "delete_cmd_prefix": "del ",
     "library": "var_list.py",
     "varRefreshCmd": "print(var_dic_list())"
    },
    "r": {
     "delete_cmd_postfix": ") ",
     "delete_cmd_prefix": "rm(",
     "library": "var_list.r",
     "varRefreshCmd": "cat(var_dic_list()) "
    }
   },
   "types_to_exclude": [
    "module",
    "function",
    "builtin_function_or_method",
    "instance",
    "_Feature"
   ],
   "window_display": false
  }
 },
 "nbformat": 4,
 "nbformat_minor": 2
}
