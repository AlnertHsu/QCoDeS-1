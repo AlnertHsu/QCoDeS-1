{
 "cells": [
  {
   "cell_type": "markdown",
   "id": "337c588f",
   "metadata": {},
   "source": [
    "# 1. Loading modules"
   ]
  },
  {
   "cell_type": "code",
   "execution_count": 9,
   "id": "ac5b7d58",
   "metadata": {},
   "outputs": [],
   "source": [
    "%matplotlib inline\n",
    "import time\n",
    "import numpy as np\n",
    "from scipy import optimize\n",
    "from scipy.interpolate import interp1d\n",
    "from scipy.interpolate import *\n",
    "from scipy.fftpack import fft\n",
    "import matplotlib.pyplot as plt\n",
    "from matplotlib import colormaps\n",
    "list(colormaps)\n",
    "import pandas as pd\n",
    "from pprint import pprint\n",
    "import os, sys\n",
    "#from time import sleep, monotonic\n",
    "from tqdm.notebook import tqdm\n",
    "from scipy.signal import find_peaks\n",
    "from scipy.signal import savgol_filter\n",
    "from scipy.optimize import curve_fit\n",
    "import matplotlib.pyplot as plt\n",
    "\n",
    "import qcodes as qc\n",
    "from qcodes import Parameter\n",
    "from qcodes import initialise_or_create_database_at\n",
    "from qcodes import load_or_create_experiment\n",
    "from qcodes.dataset.plotting import plot_dataset, plot_by_id\n",
    "from qcodes.utils.metadata import diff_param_values\n",
    "from qcodes.instrument.specialized_parameters import ElapsedTimeParameter\n",
    "\n",
    "import pyppt as ppt"
   ]
  },
  {
   "cell_type": "code",
   "execution_count": 13,
   "id": "1faa7542",
   "metadata": {},
   "outputs": [],
   "source": [
    "dirpath = os.getcwd()\n",
    "# sample_name = dirpath.split('\\\\')[-2]\n",
    "# wafer_name = dirpath.split('\\\\')[-3]\n",
    "db_path = dirpath.rsplit('\\\\',0)[0]"
   ]
  },
  {
   "cell_type": "code",
   "execution_count": 14,
   "id": "6bad43d1",
   "metadata": {},
   "outputs": [
    {
     "name": "stdout",
     "output_type": "stream",
     "text": [
      "E:\\SynologyDrive\\00 Users\\Yeep\\01 Fabrication\\03_Samples\\07 MoS2 project\\002\\08 Fridge\\MOS2_002\\MOS2_002_2023-11-30_01.db\n",
      "E:\\SynologyDrive\\00 Users\\Yeep\\01 Fabrication\\03_Samples\\07 MoS2 project\\002\\08 Fridge\\MOS2_002\\MOS2_002_2023-11-30_01.db-shm\n",
      "E:\\SynologyDrive\\00 Users\\Yeep\\01 Fabrication\\03_Samples\\07 MoS2 project\\002\\08 Fridge\\MOS2_002\\MOS2_002_2023-11-30_01.db-wal\n",
      "E:\\SynologyDrive\\00 Users\\Yeep\\01 Fabrication\\03_Samples\\07 MoS2 project\\002\\08 Fridge\\MOS2_002\\MOS2_002_2023-11-30_01_DESKTOP-FDFT7A9_Dec-04-184207-2023_Conflict.db-shm\n",
      "E:\\SynologyDrive\\00 Users\\Yeep\\01 Fabrication\\03_Samples\\07 MoS2 project\\002\\08 Fridge\\MOS2_002\\MOS2_002_2023-11-30_01_DESKTOP-FDFT7A9_Dec-04-184207-2023_Conflict.db-wal\n",
      "E:\\SynologyDrive\\00 Users\\Yeep\\01 Fabrication\\03_Samples\\07 MoS2 project\\002\\08 Fridge\\MOS2_002\\MOS2_002_2023-11-30_01_DESKTOP-FDFT7A9_Dec-04-184208-2023_Conflict.db\n",
      "E:\\SynologyDrive\\00 Users\\Yeep\\01 Fabrication\\03_Samples\\07 MoS2 project\\002\\08 Fridge\\MOS2_002\\YY011_2nd_2023-11-21_01.db\n"
     ]
    }
   ],
   "source": [
    "files = []\n",
    "# r=root, d=directories, f = files\n",
    "for r, d, f in os.walk(db_path):\n",
    "    for file in f:\n",
    "        if '.db' in file:\n",
    "            files.append(os.path.join(r, file))\n",
    "\n",
    "for f in files:\n",
    "    print(f)"
   ]
  },
  {
   "cell_type": "code",
   "execution_count": 2,
   "id": "621f0ed4",
   "metadata": {},
   "outputs": [],
   "source": [
    "# db_path = os.path.join(db_path, 'MOS2_002_2023-11-30_01.db')\n",
    "initialise_or_create_database_at(r\"C:\\qcodes\\personal_scripts\\data\\qcodes_personal_scripts_2024-05-17_01.db\")"
   ]
  },
  {
   "cell_type": "markdown",
   "id": "fa6a6d23",
   "metadata": {},
   "source": [
    "# 2. Experiments List"
   ]
  },
  {
   "cell_type": "code",
   "execution_count": 3,
   "id": "e9e3d730",
   "metadata": {},
   "outputs": [
    {
     "data": {
      "text/plain": [
       "[I-V#1M Ohms#1@C:\\qcodes\\personal_scripts\\data\\qcodes_personal_scripts_2024-05-17_01.db\n",
       " --------------------------------------------------------------------------------------\n",
       " 1-results-1-appl_current,meas_voltage_K2-101,\n",
       " I-V#1M Ohms#2@C:\\qcodes\\personal_scripts\\data\\qcodes_personal_scripts_2024-05-17_01.db\n",
       " --------------------------------------------------------------------------------------\n",
       " 2-results-1-appl_current,meas_voltage_K2-101,\n",
       " V-I#1M Ohms#3@C:\\qcodes\\personal_scripts\\data\\qcodes_personal_scripts_2024-05-17_01.db\n",
       " --------------------------------------------------------------------------------------\n",
       " 3-results-1-appl_voltage,meas_current_K2-101,\n",
       " V-I#1M Ohms#4@C:\\qcodes\\personal_scripts\\data\\qcodes_personal_scripts_2024-05-17_01.db\n",
       " --------------------------------------------------------------------------------------\n",
       " 4-results-1-appl_voltage,meas_current_K2-101,\n",
       " V-I#1M Ohms#5@C:\\qcodes\\personal_scripts\\data\\qcodes_personal_scripts_2024-05-17_01.db\n",
       " --------------------------------------------------------------------------------------\n",
       " 5-results-1-appl_voltage,meas_current_K2-101,\n",
       " V-I#1M Ohms#6@C:\\qcodes\\personal_scripts\\data\\qcodes_personal_scripts_2024-05-17_01.db\n",
       " --------------------------------------------------------------------------------------\n",
       " 6-results-1-appl_voltage,meas_current_K2-101,\n",
       " V-I#MoS2_006_10_11#7@C:\\qcodes\\personal_scripts\\data\\qcodes_personal_scripts_2024-05-17_01.db\n",
       " ---------------------------------------------------------------------------------------------\n",
       " 7-results-1-appl_voltage,meas_current_K2-101,\n",
       " V-I#MoS2_006_10_11#8@C:\\qcodes\\personal_scripts\\data\\qcodes_personal_scripts_2024-05-17_01.db\n",
       " ---------------------------------------------------------------------------------------------\n",
       " 8-results-1-appl_voltage,meas_current_K2-101,\n",
       " V-I#MoS2_006_10_11#9@C:\\qcodes\\personal_scripts\\data\\qcodes_personal_scripts_2024-05-17_01.db\n",
       " ---------------------------------------------------------------------------------------------\n",
       " 9-results-1-appl_voltage,meas_current_K2-101,\n",
       " V-I#MoS2_006_10_11#10@C:\\qcodes\\personal_scripts\\data\\qcodes_personal_scripts_2024-05-17_01.db\n",
       " ----------------------------------------------------------------------------------------------\n",
       " 10-results-1-appl_voltage,meas_current_K2-101,\n",
       " V-I#MoS2_006_10_11#11@C:\\qcodes\\personal_scripts\\data\\qcodes_personal_scripts_2024-05-17_01.db\n",
       " ----------------------------------------------------------------------------------------------\n",
       " 11-results-1-appl_voltage,meas_current_K2-101,\n",
       " V-I#MoS2_006_10_11#12@C:\\qcodes\\personal_scripts\\data\\qcodes_personal_scripts_2024-05-17_01.db\n",
       " ----------------------------------------------------------------------------------------------\n",
       " 12-results-1-appl_voltage,meas_current_K2-101,\n",
       " V-I#MoS2_006_10_11#13@C:\\qcodes\\personal_scripts\\data\\qcodes_personal_scripts_2024-05-17_01.db\n",
       " ----------------------------------------------------------------------------------------------\n",
       " 13-results-1-appl_voltage,meas_current_K2-101,\n",
       " V-I#MoS2_006_10_11#14@C:\\qcodes\\personal_scripts\\data\\qcodes_personal_scripts_2024-05-17_01.db\n",
       " ----------------------------------------------------------------------------------------------\n",
       " 14-results-1-appl_voltage,meas_current_K2-101,\n",
       " V-I#MoS2_006_10_11#15@C:\\qcodes\\personal_scripts\\data\\qcodes_personal_scripts_2024-05-17_01.db\n",
       " ----------------------------------------------------------------------------------------------\n",
       " 15-results-1-appl_voltage,meas_current_K2-101,\n",
       " V-I#MoS2_006_10_11#16@C:\\qcodes\\personal_scripts\\data\\qcodes_personal_scripts_2024-05-17_01.db\n",
       " ----------------------------------------------------------------------------------------------\n",
       " 16-results-1-appl_voltage,meas_current_K2-101,\n",
       " V-I#MoS2_006_10_11#17@C:\\qcodes\\personal_scripts\\data\\qcodes_personal_scripts_2024-05-17_01.db\n",
       " ----------------------------------------------------------------------------------------------\n",
       " 17-results-1-appl_voltage,meas_current_K2-101,\n",
       " V-I#MoS2_006_10_11#18@C:\\qcodes\\personal_scripts\\data\\qcodes_personal_scripts_2024-05-17_01.db\n",
       " ----------------------------------------------------------------------------------------------\n",
       " 18-results-1-appl_voltage,meas_current_K2-101,\n",
       " V-I#MoS2_006_10_11#19@C:\\qcodes\\personal_scripts\\data\\qcodes_personal_scripts_2024-05-17_01.db\n",
       " ----------------------------------------------------------------------------------------------\n",
       " 19-results-1-appl_voltage,meas_current_K2-101,\n",
       " V-I#MoS2_006_10_11#20@C:\\qcodes\\personal_scripts\\data\\qcodes_personal_scripts_2024-05-17_01.db\n",
       " ----------------------------------------------------------------------------------------------\n",
       " 20-results-1-appl_voltage,meas_current_K2-101,\n",
       " V-I#MoS2_006_10_11#21@C:\\qcodes\\personal_scripts\\data\\qcodes_personal_scripts_2024-05-17_01.db\n",
       " ----------------------------------------------------------------------------------------------\n",
       " 21-results-1-appl_voltage,meas_current_K2-101,\n",
       " V-I#MoS2_006_10_11#22@C:\\qcodes\\personal_scripts\\data\\qcodes_personal_scripts_2024-05-17_01.db\n",
       " ----------------------------------------------------------------------------------------------\n",
       " 22-results-1-appl_voltage,meas_current_K2-201,\n",
       " V-I#MoS2_006_10_11#23@C:\\qcodes\\personal_scripts\\data\\qcodes_personal_scripts_2024-05-17_01.db\n",
       " ----------------------------------------------------------------------------------------------\n",
       " 23-results-1-appl_voltage,meas_current_K2-201,\n",
       " V-I#MoS2_006_10_11#24@C:\\qcodes\\personal_scripts\\data\\qcodes_personal_scripts_2024-05-17_01.db\n",
       " ----------------------------------------------------------------------------------------------\n",
       " 24-results-1-appl_voltage,meas_current_K2-201,\n",
       " V-I#MoS2_006_35_38#25@C:\\qcodes\\personal_scripts\\data\\qcodes_personal_scripts_2024-05-17_01.db\n",
       " ----------------------------------------------------------------------------------------------\n",
       " 25-results-1-appl_voltage,meas_current_K2-201,\n",
       " V-I#MoS2_006_35_38#26@C:\\qcodes\\personal_scripts\\data\\qcodes_personal_scripts_2024-05-17_01.db\n",
       " ----------------------------------------------------------------------------------------------\n",
       " 26-results-1-appl_voltage,meas_current_K2-201,\n",
       " V vs I#MoS2_006_35_38#27@C:\\qcodes\\personal_scripts\\data\\qcodes_personal_scripts_2024-05-17_01.db\n",
       " -------------------------------------------------------------------------------------------------\n",
       " 27-results-1-appl_voltage,meas_current_K2-101,\n",
       " V vs I#MoS2_006_35_38#28@C:\\qcodes\\personal_scripts\\data\\qcodes_personal_scripts_2024-05-17_01.db\n",
       " -------------------------------------------------------------------------------------------------\n",
       " 28-results-1-appl_voltage,meas_current_K2-101,\n",
       " V vs I#MoS2_006_35_38#29@C:\\qcodes\\personal_scripts\\data\\qcodes_personal_scripts_2024-05-17_01.db\n",
       " -------------------------------------------------------------------------------------------------\n",
       " 29-results-1-appl_voltage,meas_current_K2-101,\n",
       " V vs I#MoS2_006_35_38#30@C:\\qcodes\\personal_scripts\\data\\qcodes_personal_scripts_2024-05-17_01.db\n",
       " -------------------------------------------------------------------------------------------------\n",
       " 30-results-1-appl_voltage,meas_current_K2-101,\n",
       " V vs I#MoS2_006_35_38#31@C:\\qcodes\\personal_scripts\\data\\qcodes_personal_scripts_2024-05-17_01.db\n",
       " -------------------------------------------------------------------------------------------------\n",
       " 31-results-1-appl_voltage,meas_current_K2-101,\n",
       " V vs I#VI_MoS2_006_35_38_v_-1_1#32@C:\\qcodes\\personal_scripts\\data\\qcodes_personal_scripts_2024-05-17_01.db\n",
       " -----------------------------------------------------------------------------------------------------------\n",
       " 32-results-1-appl_voltage,meas_current_K2-101,\n",
       " V vs I#VI_MoS2_006_35_38, G_19=10V v_1_-1#33@C:\\qcodes\\personal_scripts\\data\\qcodes_personal_scripts_2024-05-17_01.db\n",
       " ---------------------------------------------------------------------------------------------------------------------\n",
       " 33-results-1-appl_voltage,meas_current_K2-101,\n",
       " VI_vs_BVgate#VI_vs_BVgate_MoS2_2d_35_38_v_0_20#34@C:\\qcodes\\personal_scripts\\data\\qcodes_personal_scripts_2024-05-17_01.db\n",
       " --------------------------------------------------------------------------------------------------------------------------\n",
       " 34-results-1-appl_TG,appl_voltage,meas_current_K2-2121,\n",
       " VI_vs_BVgate#VI_vs_BVgate_MoS2_2d_35_38_v_0_20#35@C:\\qcodes\\personal_scripts\\data\\qcodes_personal_scripts_2024-05-17_01.db\n",
       " --------------------------------------------------------------------------------------------------------------------------\n",
       " 35-results-1-appl_TG,appl_voltage,meas_current_K2-3301]"
      ]
     },
     "execution_count": 3,
     "metadata": {},
     "output_type": "execute_result"
    }
   ],
   "source": [
    "qc.experiments()"
   ]
  },
  {
   "cell_type": "code",
   "execution_count": 4,
   "id": "9f61c4ec",
   "metadata": {},
   "outputs": [],
   "source": [
    "def get_R_from_IV(dataid):\n",
    "    dataset = qc.load_by_id(dataid)\n",
    "\n",
    "    voltage = dataset.get_parameter_data()['meas_voltage_K2']['meas_voltage_K2'] #['meas_voltage_K1']['meas_voltage_K1']\n",
    "    current = dataset.get_parameter_data()['meas_voltage_K2']['appl_current'] #['meas_voltage_K1']['appl_current']\n",
    "    fit_values = np.polyfit(current,voltage,1)\n",
    "    \n",
    "    return fit_values[0]"
   ]
  },
  {
   "cell_type": "markdown",
   "id": "a6fdd1ba",
   "metadata": {},
   "source": [
    "# Analysis"
   ]
  },
  {
   "cell_type": "markdown",
   "id": "31c81794",
   "metadata": {},
   "source": [
    "## 1D"
   ]
  },
  {
   "cell_type": "code",
   "execution_count": 10,
   "id": "9f5c5a3e",
   "metadata": {},
   "outputs": [
    {
     "name": "stderr",
     "output_type": "stream",
     "text": [
      "Trying to mark a run completed that was already completed.\n"
     ]
    },
    {
     "data": {
      "text/plain": [
       "([<Axes: title={'center': 'Run #31, Experiment V vs I (MoS2_006_35_38)'}, xlabel='appl_voltage (mV)', ylabel='meas_current_K2 (pA)'>],\n",
       " [None])"
      ]
     },
     "execution_count": 10,
     "metadata": {},
     "output_type": "execute_result"
    },
    {
     "data": {
      "image/png": "[encoded data removed]",
      "text/plain": [
       "<Figure size 640x480 with 1 Axes>"
      ]
     },
     "metadata": {},
     "output_type": "display_data"
    }
   ],
   "source": [
    "#only one curve\n",
    "dataset = qc.load_by_id(31)\n",
    "\n",
    "# plot_dataset(dataset, fig_index=2)  # Use fig_index=2 to display Figure 3\n",
    "plot_dataset(dataset)"
   ]
  },
  {
   "cell_type": "code",
   "execution_count": 8,
   "id": "45a797cd",
   "metadata": {},
   "outputs": [
    {
     "name": "stderr",
     "output_type": "stream",
     "text": [
      "Trying to mark a run completed that was already completed.\n"
     ]
    },
    {
     "data": {
      "application/javascript": "/* Put everything inside the global mpl namespace */\n/* global mpl */\nwindow.mpl = {};\n\nmpl.get_websocket_type = function () {\n    if (typeof WebSocket !== 'undefined') {\n        return WebSocket;\n    } else if (typeof MozWebSocket !== 'undefined') {\n        return MozWebSocket;\n    } else {\n        alert(\n            'Your browser does not have WebSocket support. ' +\n                'Please try Chrome, Safari or Firefox ≥ 6. ' +\n                'Firefox 4 and 5 are also supported but you ' +\n                'have to enable WebSockets in about:config.'\n        );\n    }\n};\n\nmpl.figure = function (figure_id, websocket, ondownload, parent_element) {\n    this.id = figure_id;\n\n    this.ws = websocket;\n\n    this.supports_binary = this.ws.binaryType !== undefined;\n\n    if (!this.supports_binary) {\n        var warnings = document.getElementById('mpl-warnings');\n        if (warnings) {\n            warnings.style.display = 'block';\n            warnings.textContent =\n                'This browser does not support binary websocket messages. ' +\n                'Performance may be slow.';\n        }\n    }\n\n    this.imageObj = new Image();\n\n    this.context = undefined;\n    this.message = undefined;\n    this.canvas = undefined;\n    this.rubberband_canvas = undefined;\n    this.rubberband_context = undefined;\n    this.format_dropdown = undefined;\n\n    this.image_mode = 'full';\n\n    this.root = document.createElement('div');\n    this.root.setAttribute('style', 'display: inline-block');\n    this._root_extra_style(this.root);\n\n    parent_element.appendChild(this.root);\n\n    this._init_header(this);\n    this._init_canvas(this);\n    this._init_toolbar(this);\n\n    var fig = this;\n\n    this.waiting = false;\n\n    this.ws.onopen = function () {\n        fig.send_message('supports_binary', { value: fig.supports_binary });\n        fig.send_message('send_image_mode', {});\n        if (fig.ratio !== 1) {\n            fig.send_message('set_device_pixel_ratio', {\n                device_pixel_ratio: fig.ratio,\n            });\n        }\n        fig.send_message('refresh', {});\n    };\n\n    this.imageObj.onload = function () {\n        if (fig.image_mode === 'full') {\n            // Full images could contain transparency (where diff images\n            // almost always do), so we need to clear the canvas so that\n            // there is no ghosting.\n            fig.context.clearRect(0, 0, fig.canvas.width, fig.canvas.height);\n        }\n        fig.context.drawImage(fig.imageObj, 0, 0);\n    };\n\n    this.imageObj.onunload = function () {\n        fig.ws.close();\n    };\n\n    this.ws.onmessage = this._make_on_message_function(this);\n\n    this.ondownload = ondownload;\n};\n\nmpl.figure.prototype._init_header = function () {\n    var titlebar = document.createElement('div');\n    titlebar.classList =\n        'ui-dialog-titlebar ui-widget-header ui-corner-all ui-helper-clearfix';\n    var titletext = document.createElement('div');\n    titletext.classList = 'ui-dialog-title';\n    titletext.setAttribute(\n        'style',\n        'width: 100%; text-align: center; padding: 3px;'\n    );\n    titlebar.appendChild(titletext);\n    this.root.appendChild(titlebar);\n    this.header = titletext;\n};\n\nmpl.figure.prototype._canvas_extra_style = function (_canvas_div) {};\n\nmpl.figure.prototype._root_extra_style = function (_canvas_div) {};\n\nmpl.figure.prototype._init_canvas = function () {\n    var fig = this;\n\n    var canvas_div = (this.canvas_div = document.createElement('div'));\n    canvas_div.setAttribute('tabindex', '0');\n    canvas_div.setAttribute(\n        'style',\n        'border: 1px solid #ddd;' +\n            'box-sizing: content-box;' +\n            'clear: both;' +\n            'min-height: 1px;' +\n            'min-width: 1px;' +\n            'outline: 0;' +\n            'overflow: hidden;' +\n            'position: relative;' +\n            'resize: both;' +\n            'z-index: 2;'\n    );\n\n    function on_keyboard_event_closure(name) {\n        return function (event) {\n            return fig.key_event(event, name);\n        };\n    }\n\n    canvas_div.addEventListener(\n        'keydown',\n        on_keyboard_event_closure('key_press')\n    );\n    canvas_div.addEventListener(\n        'keyup',\n        on_keyboard_event_closure('key_release')\n    );\n\n    this._canvas_extra_style(canvas_div);\n    this.root.appendChild(canvas_div);\n\n    var canvas = (this.canvas = document.createElement('canvas'));\n    canvas.classList.add('mpl-canvas');\n    canvas.setAttribute(\n        'style',\n        'box-sizing: content-box;' +\n            'pointer-events: none;' +\n            'position: relative;' +\n            'z-index: 0;'\n    );\n\n    this.context = canvas.getContext('2d');\n\n    var backingStore =\n        this.context.backingStorePixelRatio ||\n        this.context.webkitBackingStorePixelRatio ||\n        this.context.mozBackingStorePixelRatio ||\n        this.context.msBackingStorePixelRatio ||\n        this.context.oBackingStorePixelRatio ||\n        this.context.backingStorePixelRatio ||\n        1;\n\n    this.ratio = (window.devicePixelRatio || 1) / backingStore;\n\n    var rubberband_canvas = (this.rubberband_canvas = document.createElement(\n        'canvas'\n    ));\n    rubberband_canvas.setAttribute(\n        'style',\n        'box-sizing: content-box;' +\n            'left: 0;' +\n            'pointer-events: none;' +\n            'position: absolute;' +\n            'top: 0;' +\n            'z-index: 1;'\n    );\n\n    // Apply a ponyfill if ResizeObserver is not implemented by browser.\n    if (this.ResizeObserver === undefined) {\n        if (window.ResizeObserver !== undefined) {\n            this.ResizeObserver = window.ResizeObserver;\n        } else {\n            var obs = _JSXTOOLS_RESIZE_OBSERVER({});\n            this.ResizeObserver = obs.ResizeObserver;\n        }\n    }\n\n    this.resizeObserverInstance = new this.ResizeObserver(function (entries) {\n        var nentries = entries.length;\n        for (var i = 0; i < nentries; i++) {\n            var entry = entries[i];\n            var width, height;\n            if (entry.contentBoxSize) {\n                if (entry.contentBoxSize instanceof Array) {\n                    // Chrome 84 implements new version of spec.\n                    width = entry.contentBoxSize[0].inlineSize;\n                    height = entry.contentBoxSize[0].blockSize;\n                } else {\n                    // Firefox implements old version of spec.\n                    width = entry.contentBoxSize.inlineSize;\n                    height = entry.contentBoxSize.blockSize;\n                }\n            } else {\n                // Chrome <84 implements even older version of spec.\n                width = entry.contentRect.width;\n                height = entry.contentRect.height;\n            }\n\n            // Keep the size of the canvas and rubber band canvas in sync with\n            // the canvas container.\n            if (entry.devicePixelContentBoxSize) {\n                // Chrome 84 implements new version of spec.\n                canvas.setAttribute(\n                    'width',\n                    entry.devicePixelContentBoxSize[0].inlineSize\n                );\n                canvas.setAttribute(\n                    'height',\n                    entry.devicePixelContentBoxSize[0].blockSize\n                );\n            } else {\n                canvas.setAttribute('width', width * fig.ratio);\n                canvas.setAttribute('height', height * fig.ratio);\n            }\n            /* This rescales the canvas back to display pixels, so that it\n             * appears correct on HiDPI screens. */\n            canvas.style.width = width + 'px';\n            canvas.style.height = height + 'px';\n\n            rubberband_canvas.setAttribute('width', width);\n            rubberband_canvas.setAttribute('height', height);\n\n            // And update the size in Python. We ignore the initial 0/0 size\n            // that occurs as the element is placed into the DOM, which should\n            // otherwise not happen due to the minimum size styling.\n            if (fig.ws.readyState == 1 && width != 0 && height != 0) {\n                fig.request_resize(width, height);\n            }\n        }\n    });\n    this.resizeObserverInstance.observe(canvas_div);\n\n    function on_mouse_event_closure(name) {\n        /* User Agent sniffing is bad, but WebKit is busted:\n         * https://bugs.webkit.org/show_bug.cgi?id=144526\n         * https://bugs.webkit.org/show_bug.cgi?id=181818\n         * The worst that happens here is that they get an extra browser\n         * selection when dragging, if this check fails to catch them.\n         */\n        var UA = navigator.userAgent;\n        var isWebKit = /AppleWebKit/.test(UA) && !/Chrome/.test(UA);\n        if(isWebKit) {\n            return function (event) {\n                /* This prevents the web browser from automatically changing to\n                 * the text insertion cursor when the button is pressed. We\n                 * want to control all of the cursor setting manually through\n                 * the 'cursor' event from matplotlib */\n                event.preventDefault()\n                return fig.mouse_event(event, name);\n            };\n        } else {\n            return function (event) {\n                return fig.mouse_event(event, name);\n            };\n        }\n    }\n\n    canvas_div.addEventListener(\n        'mousedown',\n        on_mouse_event_closure('button_press')\n    );\n    canvas_div.addEventListener(\n        'mouseup',\n        on_mouse_event_closure('button_release')\n    );\n    canvas_div.addEventListener(\n        'dblclick',\n        on_mouse_event_closure('dblclick')\n    );\n    // Throttle sequential mouse events to 1 every 20ms.\n    canvas_div.addEventListener(\n        'mousemove',\n        on_mouse_event_closure('motion_notify')\n    );\n\n    canvas_div.addEventListener(\n        'mouseenter',\n        on_mouse_event_closure('figure_enter')\n    );\n    canvas_div.addEventListener(\n        'mouseleave',\n        on_mouse_event_closure('figure_leave')\n    );\n\n    canvas_div.addEventListener('wheel', function (event) {\n        if (event.deltaY < 0) {\n            event.step = 1;\n        } else {\n            event.step = -1;\n        }\n        on_mouse_event_closure('scroll')(event);\n    });\n\n    canvas_div.appendChild(canvas);\n    canvas_div.appendChild(rubberband_canvas);\n\n    this.rubberband_context = rubberband_canvas.getContext('2d');\n    this.rubberband_context.strokeStyle = '#000000';\n\n    this._resize_canvas = function (width, height, forward) {\n        if (forward) {\n            canvas_div.style.width = width + 'px';\n            canvas_div.style.height = height + 'px';\n        }\n    };\n\n    // Disable right mouse context menu.\n    canvas_div.addEventListener('contextmenu', function (_e) {\n        event.preventDefault();\n        return false;\n    });\n\n    function set_focus() {\n        canvas.focus();\n        canvas_div.focus();\n    }\n\n    window.setTimeout(set_focus, 100);\n};\n\nmpl.figure.prototype._init_toolbar = function () {\n    var fig = this;\n\n    var toolbar = document.createElement('div');\n    toolbar.classList = 'mpl-toolbar';\n    this.root.appendChild(toolbar);\n\n    function on_click_closure(name) {\n        return function (_event) {\n            return fig.toolbar_button_onclick(name);\n        };\n    }\n\n    function on_mouseover_closure(tooltip) {\n        return function (event) {\n            if (!event.currentTarget.disabled) {\n                return fig.toolbar_button_onmouseover(tooltip);\n            }\n        };\n    }\n\n    fig.buttons = {};\n    var buttonGroup = document.createElement('div');\n    buttonGroup.classList = 'mpl-button-group';\n    for (var toolbar_ind in mpl.toolbar_items) {\n        var name = mpl.toolbar_items[toolbar_ind][0];\n        var tooltip = mpl.toolbar_items[toolbar_ind][1];\n        var image = mpl.toolbar_items[toolbar_ind][2];\n        var method_name = mpl.toolbar_items[toolbar_ind][3];\n\n        if (!name) {\n            /* Instead of a spacer, we start a new button group. */\n            if (buttonGroup.hasChildNodes()) {\n                toolbar.appendChild(buttonGroup);\n            }\n            buttonGroup = document.createElement('div');\n            buttonGroup.classList = 'mpl-button-group';\n            continue;\n        }\n\n        var button = (fig.buttons[name] = document.createElement('button'));\n        button.classList = 'mpl-widget';\n        button.setAttribute('role', 'button');\n        button.setAttribute('aria-disabled', 'false');\n        button.addEventListener('click', on_click_closure(method_name));\n        button.addEventListener('mouseover', on_mouseover_closure(tooltip));\n\n        var icon_img = document.createElement('img');\n        icon_img.src = '_images/' + image + '.png';\n        icon_img.srcset = '_images/' + image + '_large.png 2x';\n        icon_img.alt = tooltip;\n        button.appendChild(icon_img);\n\n        buttonGroup.appendChild(button);\n    }\n\n    if (buttonGroup.hasChildNodes()) {\n        toolbar.appendChild(buttonGroup);\n    }\n\n    var fmt_picker = document.createElement('select');\n    fmt_picker.classList = 'mpl-widget';\n    toolbar.appendChild(fmt_picker);\n    this.format_dropdown = fmt_picker;\n\n    for (var ind in mpl.extensions) {\n        var fmt = mpl.extensions[ind];\n        var option = document.createElement('option');\n        option.selected = fmt === mpl.default_extension;\n        option.innerHTML = fmt;\n        fmt_picker.appendChild(option);\n    }\n\n    var status_bar = document.createElement('span');\n    status_bar.classList = 'mpl-message';\n    toolbar.appendChild(status_bar);\n    this.message = status_bar;\n};\n\nmpl.figure.prototype.request_resize = function (x_pixels, y_pixels) {\n    // Request matplotlib to resize the figure. Matplotlib will then trigger a resize in the client,\n    // which will in turn request a refresh of the image.\n    this.send_message('resize', { width: x_pixels, height: y_pixels });\n};\n\nmpl.figure.prototype.send_message = function (type, properties) {\n    properties['type'] = type;\n    properties['figure_id'] = this.id;\n    this.ws.send(JSON.stringify(properties));\n};\n\nmpl.figure.prototype.send_draw_message = function () {\n    if (!this.waiting) {\n        this.waiting = true;\n        this.ws.send(JSON.stringify({ type: 'draw', figure_id: this.id }));\n    }\n};\n\nmpl.figure.prototype.handle_save = function (fig, _msg) {\n    var format_dropdown = fig.format_dropdown;\n    var format = format_dropdown.options[format_dropdown.selectedIndex].value;\n    fig.ondownload(fig, format);\n};\n\nmpl.figure.prototype.handle_resize = function (fig, msg) {\n    var size = msg['size'];\n    if (size[0] !== fig.canvas.width || size[1] !== fig.canvas.height) {\n        fig._resize_canvas(size[0], size[1], msg['forward']);\n        fig.send_message('refresh', {});\n    }\n};\n\nmpl.figure.prototype.handle_rubberband = function (fig, msg) {\n    var x0 = msg['x0'] / fig.ratio;\n    var y0 = (fig.canvas.height - msg['y0']) / fig.ratio;\n    var x1 = msg['x1'] / fig.ratio;\n    var y1 = (fig.canvas.height - msg['y1']) / fig.ratio;\n    x0 = Math.floor(x0) + 0.5;\n    y0 = Math.floor(y0) + 0.5;\n    x1 = Math.floor(x1) + 0.5;\n    y1 = Math.floor(y1) + 0.5;\n    var min_x = Math.min(x0, x1);\n    var min_y = Math.min(y0, y1);\n    var width = Math.abs(x1 - x0);\n    var height = Math.abs(y1 - y0);\n\n    fig.rubberband_context.clearRect(\n        0,\n        0,\n        fig.canvas.width / fig.ratio,\n        fig.canvas.height / fig.ratio\n    );\n\n    fig.rubberband_context.strokeRect(min_x, min_y, width, height);\n};\n\nmpl.figure.prototype.handle_figure_label = function (fig, msg) {\n    // Updates the figure title.\n    fig.header.textContent = msg['label'];\n};\n\nmpl.figure.prototype.handle_cursor = function (fig, msg) {\n    fig.canvas_div.style.cursor = msg['cursor'];\n};\n\nmpl.figure.prototype.handle_message = function (fig, msg) {\n    fig.message.textContent = msg['message'];\n};\n\nmpl.figure.prototype.handle_draw = function (fig, _msg) {\n    // Request the server to send over a new figure.\n    fig.send_draw_message();\n};\n\nmpl.figure.prototype.handle_image_mode = function (fig, msg) {\n    fig.image_mode = msg['mode'];\n};\n\nmpl.figure.prototype.handle_history_buttons = function (fig, msg) {\n    for (var key in msg) {\n        if (!(key in fig.buttons)) {\n            continue;\n        }\n        fig.buttons[key].disabled = !msg[key];\n        fig.buttons[key].setAttribute('aria-disabled', !msg[key]);\n    }\n};\n\nmpl.figure.prototype.handle_navigate_mode = function (fig, msg) {\n    if (msg['mode'] === 'PAN') {\n        fig.buttons['Pan'].classList.add('active');\n        fig.buttons['Zoom'].classList.remove('active');\n    } else if (msg['mode'] === 'ZOOM') {\n        fig.buttons['Pan'].classList.remove('active');\n        fig.buttons['Zoom'].classList.add('active');\n    } else {\n        fig.buttons['Pan'].classList.remove('active');\n        fig.buttons['Zoom'].classList.remove('active');\n    }\n};\n\nmpl.figure.prototype.updated_canvas_event = function () {\n    // Called whenever the canvas gets updated.\n    this.send_message('ack', {});\n};\n\n// A function to construct a web socket function for onmessage handling.\n// Called in the figure constructor.\nmpl.figure.prototype._make_on_message_function = function (fig) {\n    return function socket_on_message(evt) {\n        if (evt.data instanceof Blob) {\n            var img = evt.data;\n            if (img.type !== 'image/png') {\n                /* FIXME: We get \"Resource interpreted as Image but\n                 * transferred with MIME type text/plain:\" errors on\n                 * Chrome.  But how to set the MIME type?  It doesn't seem\n                 * to be part of the websocket stream */\n                img.type = 'image/png';\n            }\n\n            /* Free the memory for the previous frames */\n            if (fig.imageObj.src) {\n                (window.URL || window.webkitURL).revokeObjectURL(\n                    fig.imageObj.src\n                );\n            }\n\n            fig.imageObj.src = (window.URL || window.webkitURL).createObjectURL(\n                img\n            );\n            fig.updated_canvas_event();\n            fig.waiting = false;\n            return;\n        } else if (\n            typeof evt.data === 'string' &&\n            evt.data.slice(0, 21) === 'data:image/png;base64'\n        ) {\n            fig.imageObj.src = evt.data;\n            fig.updated_canvas_event();\n            fig.waiting = false;\n            return;\n        }\n\n        var msg = JSON.parse(evt.data);\n        var msg_type = msg['type'];\n\n        // Call the  \"handle_{type}\" callback, which takes\n        // the figure and JSON message as its only arguments.\n        try {\n            var callback = fig['handle_' + msg_type];\n        } catch (e) {\n            console.log(\n                \"No handler for the '\" + msg_type + \"' message type: \",\n                msg\n            );\n            return;\n        }\n\n        if (callback) {\n            try {\n                // console.log(\"Handling '\" + msg_type + \"' message: \", msg);\n                callback(fig, msg);\n            } catch (e) {\n                console.log(\n                    \"Exception inside the 'handler_\" + msg_type + \"' callback:\",\n                    e,\n                    e.stack,\n                    msg\n                );\n            }\n        }\n    };\n};\n\nfunction getModifiers(event) {\n    var mods = [];\n    if (event.ctrlKey) {\n        mods.push('ctrl');\n    }\n    if (event.altKey) {\n        mods.push('alt');\n    }\n    if (event.shiftKey) {\n        mods.push('shift');\n    }\n    if (event.metaKey) {\n        mods.push('meta');\n    }\n    return mods;\n}\n\n/*\n * return a copy of an object with only non-object keys\n * we need this to avoid circular references\n * https://stackoverflow.com/a/24161582/3208463\n */\nfunction simpleKeys(original) {\n    return Object.keys(original).reduce(function (obj, key) {\n        if (typeof original[key] !== 'object') {\n            obj[key] = original[key];\n        }\n        return obj;\n    }, {});\n}\n\nmpl.figure.prototype.mouse_event = function (event, name) {\n    if (name === 'button_press') {\n        this.canvas.focus();\n        this.canvas_div.focus();\n    }\n\n    // from https://stackoverflow.com/q/1114465\n    var boundingRect = this.canvas.getBoundingClientRect();\n    var x = (event.clientX - boundingRect.left) * this.ratio;\n    var y = (event.clientY - boundingRect.top) * this.ratio;\n\n    this.send_message(name, {\n        x: x,\n        y: y,\n        button: event.button,\n        step: event.step,\n        modifiers: getModifiers(event),\n        guiEvent: simpleKeys(event),\n    });\n\n    return false;\n};\n\nmpl.figure.prototype._key_event_extra = function (_event, _name) {\n    // Handle any extra behaviour associated with a key event\n};\n\nmpl.figure.prototype.key_event = function (event, name) {\n    // Prevent repeat events\n    if (name === 'key_press') {\n        if (event.key === this._key) {\n            return;\n        } else {\n            this._key = event.key;\n        }\n    }\n    if (name === 'key_release') {\n        this._key = null;\n    }\n\n    var value = '';\n    if (event.ctrlKey && event.key !== 'Control') {\n        value += 'ctrl+';\n    }\n    else if (event.altKey && event.key !== 'Alt') {\n        value += 'alt+';\n    }\n    else if (event.shiftKey && event.key !== 'Shift') {\n        value += 'shift+';\n    }\n\n    value += 'k' + event.key;\n\n    this._key_event_extra(event, name);\n\n    this.send_message(name, { key: value, guiEvent: simpleKeys(event) });\n    return false;\n};\n\nmpl.figure.prototype.toolbar_button_onclick = function (name) {\n    if (name === 'download') {\n        this.handle_save(this, null);\n    } else {\n        this.send_message('toolbar_button', { name: name });\n    }\n};\n\nmpl.figure.prototype.toolbar_button_onmouseover = function (tooltip) {\n    this.message.textContent = tooltip;\n};\n\n///////////////// REMAINING CONTENT GENERATED BY embed_js.py /////////////////\n// prettier-ignore\nvar _JSXTOOLS_RESIZE_OBSERVER=function(A){var t,i=new WeakMap,n=new WeakMap,a=new WeakMap,r=new WeakMap,o=new Set;function s(e){if(!(this instanceof s))throw new TypeError(\"Constructor requires 'new' operator\");i.set(this,e)}function h(){throw new TypeError(\"Function is not a constructor\")}function c(e,t,i,n){e=0 in arguments?Number(arguments[0]):0,t=1 in arguments?Number(arguments[1]):0,i=2 in arguments?Number(arguments[2]):0,n=3 in arguments?Number(arguments[3]):0,this.right=(this.x=this.left=e)+(this.width=i),this.bottom=(this.y=this.top=t)+(this.height=n),Object.freeze(this)}function d(){t=requestAnimationFrame(d);var s=new WeakMap,p=new Set;o.forEach((function(t){r.get(t).forEach((function(i){var r=t instanceof window.SVGElement,o=a.get(t),d=r?0:parseFloat(o.paddingTop),f=r?0:parseFloat(o.paddingRight),l=r?0:parseFloat(o.paddingBottom),u=r?0:parseFloat(o.paddingLeft),g=r?0:parseFloat(o.borderTopWidth),m=r?0:parseFloat(o.borderRightWidth),w=r?0:parseFloat(o.borderBottomWidth),b=u+f,F=d+l,v=(r?0:parseFloat(o.borderLeftWidth))+m,W=g+w,y=r?0:t.offsetHeight-W-t.clientHeight,E=r?0:t.offsetWidth-v-t.clientWidth,R=b+v,z=F+W,M=r?t.width:parseFloat(o.width)-R-E,O=r?t.height:parseFloat(o.height)-z-y;if(n.has(t)){var k=n.get(t);if(k[0]===M&&k[1]===O)return}n.set(t,[M,O]);var S=Object.create(h.prototype);S.target=t,S.contentRect=new c(u,d,M,O),s.has(i)||(s.set(i,[]),p.add(i)),s.get(i).push(S)}))})),p.forEach((function(e){i.get(e).call(e,s.get(e),e)}))}return s.prototype.observe=function(i){if(i instanceof window.Element){r.has(i)||(r.set(i,new Set),o.add(i),a.set(i,window.getComputedStyle(i)));var n=r.get(i);n.has(this)||n.add(this),cancelAnimationFrame(t),t=requestAnimationFrame(d)}},s.prototype.unobserve=function(i){if(i instanceof window.Element&&r.has(i)){var n=r.get(i);n.has(this)&&(n.delete(this),n.size||(r.delete(i),o.delete(i))),n.size||r.delete(i),o.size||cancelAnimationFrame(t)}},A.DOMRectReadOnly=c,A.ResizeObserver=s,A.ResizeObserverEntry=h,A}; // eslint-disable-line\nmpl.toolbar_items = [[\"Home\", \"Reset original view\", \"fa fa-home\", \"home\"], [\"Back\", \"Back to previous view\", \"fa fa-arrow-left\", \"back\"], [\"Forward\", \"Forward to next view\", \"fa fa-arrow-right\", \"forward\"], [\"\", \"\", \"\", \"\"], [\"Pan\", \"Left button pans, Right button zooms\\nx/y fixes axis, CTRL fixes aspect\", \"fa fa-arrows\", \"pan\"], [\"Zoom\", \"Zoom to rectangle\\nx/y fixes axis\", \"fa fa-square-o\", \"zoom\"], [\"\", \"\", \"\", \"\"], [\"Download\", \"Download plot\", \"fa fa-floppy-o\", \"download\"]];\n\nmpl.extensions = [\"eps\", \"jpeg\", \"pgf\", \"pdf\", \"png\", \"ps\", \"raw\", \"svg\", \"tif\", \"webp\"];\n\nmpl.default_extension = \"png\";/* global mpl */\n\nvar comm_websocket_adapter = function (comm) {\n    // Create a \"websocket\"-like object which calls the given IPython comm\n    // object with the appropriate methods. Currently this is a non binary\n    // socket, so there is still some room for performance tuning.\n    var ws = {};\n\n    ws.binaryType = comm.kernel.ws.binaryType;\n    ws.readyState = comm.kernel.ws.readyState;\n    function updateReadyState(_event) {\n        if (comm.kernel.ws) {\n            ws.readyState = comm.kernel.ws.readyState;\n        } else {\n            ws.readyState = 3; // Closed state.\n        }\n    }\n    comm.kernel.ws.addEventListener('open', updateReadyState);\n    comm.kernel.ws.addEventListener('close', updateReadyState);\n    comm.kernel.ws.addEventListener('error', updateReadyState);\n\n    ws.close = function () {\n        comm.close();\n    };\n    ws.send = function (m) {\n        //console.log('sending', m);\n        comm.send(m);\n    };\n    // Register the callback with on_msg.\n    comm.on_msg(function (msg) {\n        //console.log('receiving', msg['content']['data'], msg);\n        var data = msg['content']['data'];\n        if (data['blob'] !== undefined) {\n            data = {\n                data: new Blob(msg['buffers'], { type: data['blob'] }),\n            };\n        }\n        // Pass the mpl event to the overridden (by mpl) onmessage function.\n        ws.onmessage(data);\n    });\n    return ws;\n};\n\nmpl.mpl_figure_comm = function (comm, msg) {\n    // This is the function which gets called when the mpl process\n    // starts-up an IPython Comm through the \"matplotlib\" channel.\n\n    var id = msg.content.data.id;\n    // Get hold of the div created by the display call when the Comm\n    // socket was opened in Python.\n    var element = document.getElementById(id);\n    var ws_proxy = comm_websocket_adapter(comm);\n\n    function ondownload(figure, _format) {\n        window.open(figure.canvas.toDataURL());\n    }\n\n    var fig = new mpl.figure(id, ws_proxy, ondownload, element);\n\n    // Call onopen now - mpl needs it, as it is assuming we've passed it a real\n    // web socket which is closed, not our websocket->open comm proxy.\n    ws_proxy.onopen();\n\n    fig.parent_element = element;\n    fig.cell_info = mpl.find_output_cell(\"<div id='\" + id + \"'></div>\");\n    if (!fig.cell_info) {\n        console.error('Failed to find cell for figure', id, fig);\n        return;\n    }\n    fig.cell_info[0].output_area.element.on(\n        'cleared',\n        { fig: fig },\n        fig._remove_fig_handler\n    );\n};\n\nmpl.figure.prototype.handle_close = function (fig, msg) {\n    var width = fig.canvas.width / fig.ratio;\n    fig.cell_info[0].output_area.element.off(\n        'cleared',\n        fig._remove_fig_handler\n    );\n    fig.resizeObserverInstance.unobserve(fig.canvas_div);\n\n    // Update the output cell to use the data from the current canvas.\n    fig.push_to_output();\n    var dataURL = fig.canvas.toDataURL();\n    // Re-enable the keyboard manager in IPython - without this line, in FF,\n    // the notebook keyboard shortcuts fail.\n    IPython.keyboard_manager.enable();\n    fig.parent_element.innerHTML =\n        '<img src=\"' + dataURL + '\" width=\"' + width + '\">';\n    fig.close_ws(fig, msg);\n};\n\nmpl.figure.prototype.close_ws = function (fig, msg) {\n    fig.send_message('closing', msg);\n    // fig.ws.close()\n};\n\nmpl.figure.prototype.push_to_output = function (_remove_interactive) {\n    // Turn the data on the canvas into data in the output cell.\n    var width = this.canvas.width / this.ratio;\n    var dataURL = this.canvas.toDataURL();\n    this.cell_info[1]['text/html'] =\n        '<img src=\"' + dataURL + '\" width=\"' + width + '\">';\n};\n\nmpl.figure.prototype.updated_canvas_event = function () {\n    // Tell IPython that the notebook contents must change.\n    IPython.notebook.set_dirty(true);\n    this.send_message('ack', {});\n    var fig = this;\n    // Wait a second, then push the new image to the DOM so\n    // that it is saved nicely (might be nice to debounce this).\n    setTimeout(function () {\n        fig.push_to_output();\n    }, 1000);\n};\n\nmpl.figure.prototype._init_toolbar = function () {\n    var fig = this;\n\n    var toolbar = document.createElement('div');\n    toolbar.classList = 'btn-toolbar';\n    this.root.appendChild(toolbar);\n\n    function on_click_closure(name) {\n        return function (_event) {\n            return fig.toolbar_button_onclick(name);\n        };\n    }\n\n    function on_mouseover_closure(tooltip) {\n        return function (event) {\n            if (!event.currentTarget.disabled) {\n                return fig.toolbar_button_onmouseover(tooltip);\n            }\n        };\n    }\n\n    fig.buttons = {};\n    var buttonGroup = document.createElement('div');\n    buttonGroup.classList = 'btn-group';\n    var button;\n    for (var toolbar_ind in mpl.toolbar_items) {\n        var name = mpl.toolbar_items[toolbar_ind][0];\n        var tooltip = mpl.toolbar_items[toolbar_ind][1];\n        var image = mpl.toolbar_items[toolbar_ind][2];\n        var method_name = mpl.toolbar_items[toolbar_ind][3];\n\n        if (!name) {\n            /* Instead of a spacer, we start a new button group. */\n            if (buttonGroup.hasChildNodes()) {\n                toolbar.appendChild(buttonGroup);\n            }\n            buttonGroup = document.createElement('div');\n            buttonGroup.classList = 'btn-group';\n            continue;\n        }\n\n        button = fig.buttons[name] = document.createElement('button');\n        button.classList = 'btn btn-default';\n        button.href = '#';\n        button.title = name;\n        button.innerHTML = '<i class=\"fa ' + image + ' fa-lg\"></i>';\n        button.addEventListener('click', on_click_closure(method_name));\n        button.addEventListener('mouseover', on_mouseover_closure(tooltip));\n        buttonGroup.appendChild(button);\n    }\n\n    if (buttonGroup.hasChildNodes()) {\n        toolbar.appendChild(buttonGroup);\n    }\n\n    // Add the status bar.\n    var status_bar = document.createElement('span');\n    status_bar.classList = 'mpl-message pull-right';\n    toolbar.appendChild(status_bar);\n    this.message = status_bar;\n\n    // Add the close button to the window.\n    var buttongrp = document.createElement('div');\n    buttongrp.classList = 'btn-group inline pull-right';\n    button = document.createElement('button');\n    button.classList = 'btn btn-mini btn-primary';\n    button.href = '#';\n    button.title = 'Stop Interaction';\n    button.innerHTML = '<i class=\"fa fa-power-off icon-remove icon-large\"></i>';\n    button.addEventListener('click', function (_evt) {\n        fig.handle_close(fig, {});\n    });\n    button.addEventListener(\n        'mouseover',\n        on_mouseover_closure('Stop Interaction')\n    );\n    buttongrp.appendChild(button);\n    var titlebar = this.root.querySelector('.ui-dialog-titlebar');\n    titlebar.insertBefore(buttongrp, titlebar.firstChild);\n};\n\nmpl.figure.prototype._remove_fig_handler = function (event) {\n    var fig = event.data.fig;\n    if (event.target !== this) {\n        // Ignore bubbled events from children.\n        return;\n    }\n    fig.close_ws(fig, {});\n};\n\nmpl.figure.prototype._root_extra_style = function (el) {\n    el.style.boxSizing = 'content-box'; // override notebook setting of border-box.\n};\n\nmpl.figure.prototype._canvas_extra_style = function (el) {\n    // this is important to make the div 'focusable\n    el.setAttribute('tabindex', 0);\n    // reach out to IPython and tell the keyboard manager to turn it's self\n    // off when our div gets focus\n\n    // location in version 3\n    if (IPython.notebook.keyboard_manager) {\n        IPython.notebook.keyboard_manager.register_events(el);\n    } else {\n        // location in version 2\n        IPython.keyboard_manager.register_events(el);\n    }\n};\n\nmpl.figure.prototype._key_event_extra = function (event, _name) {\n    // Check for shift+enter\n    if (event.shiftKey && event.which === 13) {\n        this.canvas_div.blur();\n        // select the cell after this one\n        var index = IPython.notebook.find_cell_index(this.cell_info[0]);\n        IPython.notebook.select(index + 1);\n    }\n};\n\nmpl.figure.prototype.handle_save = function (fig, _msg) {\n    fig.ondownload(fig, null);\n};\n\nmpl.find_output_cell = function (html_output) {\n    // Return the cell and output element which can be found *uniquely* in the notebook.\n    // Note - this is a bit hacky, but it is done because the \"notebook_saving.Notebook\"\n    // IPython event is triggered only after the cells have been serialised, which for\n    // our purposes (turning an active figure into a static one), is too late.\n    var cells = IPython.notebook.get_cells();\n    var ncells = cells.length;\n    for (var i = 0; i < ncells; i++) {\n        var cell = cells[i];\n        if (cell.cell_type === 'code') {\n            for (var j = 0; j < cell.output_area.outputs.length; j++) {\n                var data = cell.output_area.outputs[j];\n                if (data.data) {\n                    // IPython >= 3 moved mimebundle to data attribute of output\n                    data = data.data;\n                }\n                if (data['text/html'] === html_output) {\n                    return [cell, data, j];\n                }\n            }\n        }\n    }\n};\n\n// Register the function which deals with the matplotlib target/channel.\n// The kernel may be null if the page has been refreshed.\nif (IPython.notebook.kernel !== null) {\n    IPython.notebook.kernel.comm_manager.register_target(\n        'matplotlib',\n        mpl.mpl_figure_comm\n    );\n}\n",
      "text/plain": [
       "<IPython.core.display.Javascript object>"
      ]
     },
     "metadata": {},
     "output_type": "display_data"
    },
    {
     "data": {
      "text/html": [
       "<div id='2e3f9fc1-a5ed-4bf7-ad34-e10ecd26daac'></div>"
      ],
      "text/plain": [
       "<IPython.core.display.HTML object>"
      ]
     },
     "metadata": {},
     "output_type": "display_data"
    },
    {
     "data": {
      "text/plain": [
       "([<Axes: title={'center': 'Run #31, Experiment V vs I (MoS2_006_35_38)'}, xlabel='appl_voltage (mV)', ylabel='meas_current_K2 (pA)'>],\n",
       " [None])"
      ]
     },
     "execution_count": 8,
     "metadata": {},
     "output_type": "execute_result"
    }
   ],
   "source": [
    "plot_by_id(31)\n",
    "\n",
    "# print(get_R_from_IV(dataid))\n",
    "# print(get_R_from_IV_2(dataid))"
   ]
  },
  {
   "cell_type": "code",
   "execution_count": null,
   "id": "7c24f7dd",
   "metadata": {
    "scrolled": true
   },
   "outputs": [],
   "source": [
    "runid=9\n",
    "print(get_R_from_IV(runid))"
   ]
  },
  {
   "cell_type": "markdown",
   "id": "7082a174",
   "metadata": {},
   "source": [
    "## diff"
   ]
  },
  {
   "cell_type": "markdown",
   "id": "b9ddcfd6",
   "metadata": {},
   "source": [
    "### PD"
   ]
  },
  {
   "cell_type": "code",
   "execution_count": null,
   "id": "c8f27e6d",
   "metadata": {},
   "outputs": [],
   "source": [
    "runid=139\n",
    "dataset = qc.load_by_id(runid)"
   ]
  },
  {
   "cell_type": "code",
   "execution_count": null,
   "id": "3cf60aa3",
   "metadata": {},
   "outputs": [],
   "source": [
    "# Keithley1 = dataset.get_parameter_data()['meas_voltage_K1']['meas_voltage_K1']\n",
    "Keithley2 = dataset.get_parameter_data()['meas_voltage_K2']['meas_voltage_K2']\n",
    "# lockin_1_X = dataset.get_parameter_data()['meas_voltage_ac_L1']['meas_voltage_ac_L1']\n",
    "# lockin_2_X = dataset.get_parameter_data()['meas_voltage_ac_L2']['meas_voltage_ac_L2']\n",
    "# crymag_field = dataset.get_parameter_data()['meas_voltage_K1']['magnet_x_ramp'] ##correction in perpendiculr direction\n",
    "# By_field =dataset.get_parameter_data()['meas_voltage_K1']['y_field'] ##correction in perpendiculr direction\n",
    "#Bx_field =dataset.get_parameter_data()['meas_voltage_K2']['x_field'] ##correction in perpendiculr direction\n",
    "# Power_dependence = dataset.get_parameter_data()['meas_current_K2']['SGS_power']\n",
    "#Power_dependence =dataset.get_\n",
    "I = dataset.get_parameter_data()['meas_voltage_K2']['appl_voltage']\n",
    "Vg= dataset.get_parameter_data()['meas_voltage_K2']['appl_TG']\n",
    "# Iac = dataset.snapshot['station']['parameters']['appl_current_AC_L1']['raw_value']"
   ]
  },
  {
   "cell_type": "code",
   "execution_count": null,
   "id": "370e1f7f",
   "metadata": {},
   "outputs": [],
   "source": [
    "# s=len(Vg)\n",
    "s=len(I)\n",
    "#print(s)\n",
    "N=1\n",
    "for i in range(s):\n",
    "#     if By_field[i]!=By_field[i+1]:\n",
    "#     if Power_dependence[i]!=Power_dependence[i+1]:\n",
    "    if Vg[i]!=Vg[i+1]:\n",
    "        break \n",
    "    else:\n",
    "        N=N+1\n",
    "        print('size of the gate array',N, end='\\r')\n",
    "\n",
    "NI=N\n",
    "# NB=s//N\n",
    "\n",
    "NVg=s//N\n",
    "# print('size of the field array', NB)\n",
    "print('size of the gate array', NVg)\n",
    "print('size of the current', NI)"
   ]
  },
  {
   "cell_type": "code",
   "execution_count": null,
   "id": "1e8dc456",
   "metadata": {},
   "outputs": [],
   "source": [
    "# #DC Bias vs. field \n",
    "# R_DC1 = Keithley2/(I[2]-I[1])\n",
    "# R_DC1 = R_DC1.reshape(NB,NI)\n",
    "# R_DC1 = R_DC1.reshape(NVg,NI)\n",
    "# R_DC1_d = np.diff(R_DC1, axis = 1)\n",
    "# R_DC2 = Keithley2/(I[2]-I[1])A\n",
    "# R_DC1_d = R_DC1_d.reshape(NB,NI)\n",
    "# R_DC2 = R_DC2.reshape(NVg,NI)\n",
    "# R_DC2 = np.diff(R_DC2, axis = 1)\n",
    "# R_DC1=R_DC1.transpose()\n",
    "# I=I.reshape(NB,NI)\n",
    "I=I.reshape(NVg,NI)\n",
    "# I=I.transpose()\n",
    "# By_field =By_field.reshape(NB,NI)\n",
    "#Bx_field =Bx_field.reshape(NB,NI)\n",
    "# Power_dependence =Power_dependence.reshape(NB,NI)\n",
    "V = Keithley2.reshape(NVg,NI)\n",
    "Vg = Vg.reshape(NVg,NI)\n",
    "# crymag_field=crymag_field.transpose()"
   ]
  },
  {
   "cell_type": "markdown",
   "id": "fae1b525",
   "metadata": {},
   "source": [
    "#### 對I作圖"
   ]
  },
  {
   "cell_type": "markdown",
   "id": "fa43e474",
   "metadata": {},
   "source": [
    "## Run 77 VI of device...."
   ]
  },
  {
   "cell_type": "code",
   "execution_count": null,
   "id": "44f88155",
   "metadata": {},
   "outputs": [],
   "source": [
    "plt.figure(figsize=(5, 3))\n",
    "# plt.subplot(131)\n",
    "# plt.plot(I[N,:]/1e-6, Keithley[N,:]/1e-3)\n",
    "plt.plot(Keithley2, I, label='VI')\n",
    "\n",
    "plt.show()"
   ]
  },
  {
   "cell_type": "code",
   "execution_count": null,
   "id": "e63da160",
   "metadata": {},
   "outputs": [],
   "source": [
    "plt.figure(figsize=(5, 3))\n",
    "# plt.subplot(131)\n",
    "# plt.plot(I[N,:]/1e-6, Keithley[N,:]/1e-3)\n",
    "plt.plot(V[1,:], I[1,:], label='VI')\n",
    "\n",
    "plt.show()"
   ]
  },
  {
   "cell_type": "code",
   "execution_count": null,
   "id": "d435eb6b",
   "metadata": {},
   "outputs": [],
   "source": [
    "fig, (ax0) = plt.subplots(ncols=1, figsize=(8,6))\n",
    "fig.subplots_adjust(hspace=55)\n",
    "cmap = plt.get_cmap('hot')\n",
    "\n",
    "# Arange=0\n",
    "# Brange=600\n",
    "im = ax0.pcolormesh(np.transpose(V), np.transpose(Vg), np.transpose(I), cmap = cmap)#, vmax=80,vmin=0)\n",
    "fig.colorbar(im, ax=ax0)\n",
    "# ax0.set_title('id=run140')\n",
    "# ax0.set(xlabel='Power (dBm)', ylabel='I ($\\mu$A)') \n",
    "\n",
    "\n",
    "fig.tight_layout()\n",
    "#plt.grid()\n",
    "plt.show()\n",
    "# ppt.add_figure('Center')"
   ]
  },
  {
   "cell_type": "code",
   "execution_count": null,
   "id": "28bdf22d",
   "metadata": {
    "scrolled": true
   },
   "outputs": [],
   "source": [
    "fig, (ax0) = plt.subplots(ncols=1, figsize=(8,6))\n",
    "fig.subplots_adjust(hspace=55)\n",
    "cmap = plt.get_cmap('hot')\n",
    "\n",
    "Arange=0\n",
    "Brange=600\n",
    "im = ax0.pcolormesh(Power_dependence[Arange:Brange,0:NI-1], I[Arange:Brange,0:NI-1]/1e-6, R_DC1_d[Arange:Brange,0:NI-1], cmap = cmap, vmax=80,vmin=0)\n",
    "fig.colorbar(im, ax=ax0)\n",
    "# ax0.set_title('id=run140')\n",
    "ax0.set(xlabel='Power (dBm)', ylabel='I ($\\mu$A)') \n",
    "\n",
    "\n",
    "fig.tight_layout()\n",
    "#plt.grid()\n",
    "plt.show()\n",
    "# ppt.add_figure('Center')"
   ]
  },
  {
   "cell_type": "markdown",
   "id": "ebcd2117",
   "metadata": {},
   "source": [
    "#### 對V作圖"
   ]
  },
  {
   "cell_type": "code",
   "execution_count": null,
   "id": "726a90d5",
   "metadata": {
    "scrolled": true
   },
   "outputs": [],
   "source": [
    "fig, (ax0) = plt.subplots(ncols=1, figsize=(8,7))\n",
    "fig.subplots_adjust(hspace=55)\n",
    "cmap = plt.get_cmap('hot')\n",
    "\n",
    "Arange=0\n",
    "Brange=800\n",
    "im = ax0.pcolormesh(Power_dependence[Arange:Brange,0:NI-1], Keithley2[Arange:Brange,0:NI-1]/1e-6, R_DC1_d[Arange:Brange,0:NI-1], cmap = cmap, vmax=80,vmin=0)\n",
    "fig.colorbar(im, ax=ax0)\n",
    "# ax0.set_title('id=run140')\n",
    "ax0.set(xlabel='Power (dBm)', ylabel='V ($\\mu$V)') \n",
    "\n",
    "\n",
    "fig.tight_layout()\n",
    "#plt.grid()\n",
    "plt.show()\n",
    "# ppt.add_figure('Center')"
   ]
  },
  {
   "cell_type": "markdown",
   "id": "d1f1b8df",
   "metadata": {},
   "source": [
    "### Bx"
   ]
  },
  {
   "cell_type": "code",
   "execution_count": null,
   "id": "67e7646e",
   "metadata": {},
   "outputs": [],
   "source": [
    "#only one curve\n",
    "dataset = qc.load_by_id(66)\n",
    "\n",
    "# plot_dataset(dataset, fig_index=2)  # Use fig_index=2 to display Figure 3\n",
    "plot_dataset(dataset)"
   ]
  },
  {
   "cell_type": "code",
   "execution_count": null,
   "id": "0b6ff15c",
   "metadata": {},
   "outputs": [],
   "source": [
    "# Keithley1 = dataset.get_parameter_data()['meas_voltage_K1']['meas_voltage_K1']\n",
    "Keithley2 = dataset.get_parameter_data()['meas_voltage_K2']['meas_voltage_K2']\n",
    "# lockin_1_X = dataset.get_parameter_data()['meas_voltage_ac_L1']['meas_voltage_ac_L1']\n",
    "# lockin_2_X = dataset.get_parameter_data()['meas_voltage_ac_L2']['meas_voltage_ac_L2']\n",
    "# crymag_field = dataset.get_parameter_data()['meas_voltage_K1']['magnet_x_ramp'] ##correction in perpendiculr direction\n",
    "#By_field =dataset.get_parameter_data()['meas_voltage_K2']['y_field'] ##correction in perpendiculr direction\n",
    "Bx_field =dataset.get_parameter_data()['meas_voltage_K2']['x_field'] ##correction in perpendiculr direction\n",
    "#Power_dependence = dataset.get_parameter_data()['meas_voltage_K2']['SGS_power']\n",
    "#Power_dependence =dataset.get_\n",
    "I = dataset.get_parameter_data()['meas_voltage_K2']['appl_current']\n",
    "# Iac = dataset.snapshot['station']['parameters']['appl_current_AC_L1']['raw_value']"
   ]
  },
  {
   "cell_type": "code",
   "execution_count": null,
   "id": "070c1bc3",
   "metadata": {},
   "outputs": [],
   "source": [
    "# s=len(Vg)\n",
    "s=len(I)\n",
    "#print(s)\n",
    "N=1\n",
    "for i in range(s):\n",
    "#     if By_field[i]!=By_field[i+1]:\n",
    "    if Bx_field[i]!=Bx_field[i+1]:\n",
    "#     if Vg[i]!=Vg[i+1]:\n",
    "        break \n",
    "    else:\n",
    "        N=N+1\n",
    "        print('size of the gate array',N, end='\\r')\n",
    "\n",
    "NI=N\n",
    "NB=s//N\n",
    "# NVg=s//N\n",
    "print('size of the field array', NB)\n",
    "# print('size of the gate array', NVg)\n",
    "print('size of the current', NI)"
   ]
  },
  {
   "cell_type": "code",
   "execution_count": null,
   "id": "6a121f52",
   "metadata": {},
   "outputs": [],
   "source": [
    "#DC Bias vs. field \n",
    "R_DC1 = Keithley2/(I[2]-I[1])\n",
    "R_DC1 = R_DC1.reshape(NB,NI)\n",
    "# R_DC1 = R_DC1.reshape(NVg,NI)\n",
    "R_DC1_d = np.diff(R_DC1, axis = 1)\n",
    "# R_DC2 = Keithley2/(I[2]-I[1])A\n",
    "# R_DC1_d = R_DC1_d.reshape(NB,NI)\n",
    "# R_DC2 = R_DC2.reshape(NVg,NI)\n",
    "# R_DC2 = np.diff(R_DC2, axis = 1)\n",
    "# R_DC1=R_DC1.transpose()\n",
    "I=I.reshape(NB,NI)\n",
    "# I=I.reshape(NVg,NI)\n",
    "# I=I.transpose()\n",
    "# By_field =By_field.reshape(NB,NI)\n",
    "Bx_field =Bx_field.reshape(NB,NI)\n",
    "#Power_dependence =Power_dependence.reshape(NB,NI)\n",
    "Keithley2 = Keithley2.reshape(NB,NI)\n",
    "# Vg = Vg.reshape(NVg,NI)\n",
    "# crymag_field=crymag_field.transpose()"
   ]
  },
  {
   "cell_type": "code",
   "execution_count": null,
   "id": "775ca0b8",
   "metadata": {},
   "outputs": [],
   "source": [
    "fig, (ax0) = plt.subplots(ncols=1, figsize=(8,6))\n",
    "fig.subplots_adjust(hspace=55)\n",
    "cmap = plt.get_cmap('hot')\n",
    "\n",
    "Arange=0\n",
    "Brange=8000\n",
    "\n",
    "im = ax0.pcolormesh(Bx_field[Arange:Brange,0:NI-1]/1e-3+17.24, I[Arange:Brange,0:NI-1]/1e-6, R_DC1_d[Arange:Brange,0:NI-1], cmap = cmap, vmax=110,vmin=0)\n",
    "fig.colorbar(im, ax=ax0)\n",
    "# ax0.set_title('id=run140')\n",
    "ax0.set(xlabel='By (mT)', ylabel='I (uA)') \n",
    "\n",
    "\n",
    "fig.tight_layout()\n",
    "#plt.grid()\n",
    "plt.show()\n",
    "# ppt.add_figure('Center')"
   ]
  },
  {
   "cell_type": "markdown",
   "id": "f5924f73",
   "metadata": {},
   "source": [
    "### By"
   ]
  },
  {
   "cell_type": "code",
   "execution_count": null,
   "id": "066982d6",
   "metadata": {},
   "outputs": [],
   "source": [
    "#only one curve\n",
    "dataset = qc.load_by_id(19)\n",
    "\n",
    "# plot_dataset(dataset, fig_index=2)  # Use fig_index=2 to display Figure 3\n",
    "plot_dataset(dataset)"
   ]
  },
  {
   "cell_type": "code",
   "execution_count": null,
   "id": "de8f9f9f",
   "metadata": {},
   "outputs": [],
   "source": [
    "# Keithley1 = dataset.get_parameter_data()['meas_voltage_K1']['meas_voltage_K1']\n",
    "Keithley2 = dataset.get_parameter_data()['meas_voltage_K2']['meas_voltage_K2']\n",
    "# lockin_1_X = dataset.get_parameter_data()['meas_voltage_ac_L1']['meas_voltage_ac_L1']\n",
    "# lockin_2_X = dataset.get_parameter_data()['meas_voltage_ac_L2']['meas_voltage_ac_L2']\n",
    "# crymag_field = dataset.get_parameter_data()['meas_voltage_K1']['magnet_x_ramp'] ##correction in perpendiculr direction\n",
    "By_field =dataset.get_parameter_data()['meas_voltage_K2']['y_field'] ##correction in perpendiculr direction\n",
    "#Bx_field =dataset.get_parameter_data()['meas_voltage_K2']['x_field'] ##correction in perpendiculr direction\n",
    "#Power_dependence = dataset.get_parameter_data()['meas_voltage_K2']['SGS_power']\n",
    "#Power_dependence =dataset.get_\n",
    "I = dataset.get_parameter_data()['meas_voltage_K2']['appl_current']\n",
    "# Iac = dataset.snapshot['station']['parameters']['appl_current_AC_L1']['raw_value']"
   ]
  },
  {
   "cell_type": "code",
   "execution_count": null,
   "id": "45cc76e2",
   "metadata": {},
   "outputs": [],
   "source": [
    "# s=len(Vg)\n",
    "s=len(I)\n",
    "#print(s)\n",
    "N=1\n",
    "for i in range(s):\n",
    "#     if By_field[i]!=By_field[i+1]:\n",
    "    if By_field[i]!=By_field[i+1]:\n",
    "#     if Vg[i]!=Vg[i+1]:\n",
    "        break \n",
    "    else:\n",
    "        N=N+1\n",
    "        print('size of the gate array',N, end='\\r')\n",
    "\n",
    "NI=N\n",
    "NB=s//N\n",
    "# NVg=s//N\n",
    "print('size of the field array', NB)\n",
    "# print('size of the gate array', NVg)\n",
    "print('size of the current', NI)"
   ]
  },
  {
   "cell_type": "code",
   "execution_count": null,
   "id": "55cbedd2",
   "metadata": {},
   "outputs": [],
   "source": [
    "#DC Bias vs. field \n",
    "R_DC1 = Keithley2/(I[2]-I[1])\n",
    "R_DC1 = R_DC1.reshape(NB,NI)\n",
    "# R_DC1 = R_DC1.reshape(NVg,NI)\n",
    "R_DC1_d = np.diff(R_DC1, axis = 1)\n",
    "# R_DC2 = Keithley2/(I[2]-I[1])A\n",
    "# R_DC1_d = R_DC1_d.reshape(NB,NI)\n",
    "# R_DC2 = R_DC2.reshape(NVg,NI)\n",
    "# R_DC2 = np.diff(R_DC2, axis = 1)\n",
    "# R_DC1=R_DC1.transpose()\n",
    "I=I.reshape(NB,NI)\n",
    "# I=I.reshape(NVg,NI)\n",
    "# I=I.transpose()\n",
    "By_field =By_field.reshape(NB,NI)\n",
    "#Bx_field =Bx_field.reshape(NB,NI)\n",
    "#Power_dependence =Power_dependence.reshape(NB,NI)\n",
    "Keithley2 = Keithley2.reshape(NB,NI)\n",
    "# Vg = Vg.reshape(NVg,NI)\n",
    "# crymag_field=crymag_field.transpose()"
   ]
  },
  {
   "cell_type": "code",
   "execution_count": null,
   "id": "a3a40335",
   "metadata": {},
   "outputs": [],
   "source": [
    "fig, (ax0) = plt.subplots(ncols=1, figsize=(9,7))\n",
    "fig.subplots_adjust(hspace=55)\n",
    "cmap = plt.get_cmap('hot')\n",
    "\n",
    "Arange=0\n",
    "Brange=2000\n",
    "im = ax0.pcolormesh(By_field[Arange:Brange,0:NI-1]/1e-3+0.065, I[Arange:Brange,0:NI-1]/1e-6, R_DC1_d[Arange:Brange,0:NI-1], cmap = cmap, vmax=80,vmin=0)\n",
    "fig.colorbar(im, ax=ax0)\n",
    "# ax0.set_title('id=run140')\n",
    "ax0.set(xlabel='Bx (mT)', ylabel='I (uA)') \n",
    "\n",
    "\n",
    "fig.tight_layout()\n",
    "#plt.grid()\n",
    "plt.show()\n",
    "# ppt.add_figure('Center')"
   ]
  },
  {
   "cell_type": "markdown",
   "id": "62db130b",
   "metadata": {},
   "source": [
    "## Change colormap"
   ]
  },
  {
   "cell_type": "code",
   "execution_count": null,
   "id": "26bdb891",
   "metadata": {},
   "outputs": [],
   "source": [
    "import matplotlib.pyplot as plt\n",
    "import numpy as np\n",
    "\n",
    "\n",
    "# 假設 qc.load_by_id(73) 返回一個 DataSet 對象\n",
    "dataset = qc.load_by_id(92)\n",
    "\n",
    "\n",
    "cmap = plt.get_cmap('bwr')\n",
    "\n",
    "\n",
    "# Plot the dataset with the specified colormap\n",
    "axs, cbs = plot_dataset(dataset, cmap=cmap)\n",
    "\n",
    "# 顯示圖形\n",
    "plt.show()\n"
   ]
  },
  {
   "cell_type": "code",
   "execution_count": null,
   "id": "a63496e4",
   "metadata": {},
   "outputs": [],
   "source": [
    "import matplotlib.pyplot as plt\n",
    "from matplotlib.colors import LinearSegmentedColormap\n",
    "import numpy as np\n",
    "\n",
    "# 假设 qc.load_by_id(73) 返回一个 DataSet 对象\n",
    "dataset = qc.load_by_id(92)\n",
    "\n",
    "# 创建自定义的颜色映射\n",
    "colors = [(0, 'yellow'),(0.15, 'red'),(0.5, 'black'),(0.85, 'red'),(1, 'yellow')]  # 中间段为紫色，更宽\n",
    "cmap = LinearSegmentedColormap.from_list('custom', colors, N=256)\n",
    "\n",
    "# Plot the dataset with the specified colormap\n",
    "axs, cbs = plot_dataset(dataset, cmap=cmap)\n",
    "\n",
    "# 显示图形\n",
    "plt.show()\n"
   ]
  },
  {
   "cell_type": "code",
   "execution_count": null,
   "id": "8447d9f8",
   "metadata": {},
   "outputs": [],
   "source": [
    "import matplotlib.pyplot as plt\n",
    "from matplotlib.colors import LinearSegmentedColormap\n",
    "import numpy as np\n",
    "\n",
    "# 假设 qc.load_by_id(73) 返回一个 DataSet 对象\n",
    "dataset = qc.load_by_id(23)\n",
    "\n",
    "# 创建自定义的颜色映射\n",
    "colors = [(0, 'yellow'),(0.15, 'red'),(0.4, 'black'),(0.5, 'black'),(0.6, 'black'),(0.85, 'red'),(1, 'yellow')]  # 中间段为紫色，更宽\n",
    "cmap = LinearSegmentedColormap.from_list('custom', colors, N=256)\n",
    "\n",
    "# Plot the dataset with the specified colormap\n",
    "axs, cbs = plot_dataset(dataset, cmap=cmap)\n",
    "\n",
    "# 显示图形\n",
    "plt.show()"
   ]
  },
  {
   "cell_type": "code",
   "execution_count": null,
   "id": "47dea907",
   "metadata": {},
   "outputs": [],
   "source": [
    "import matplotlib.pyplot as plt\n",
    "from matplotlib.colors import LinearSegmentedColormap\n",
    "import numpy as np\n",
    "\n",
    "# 假设 qc.load_by_id(73) 返回一个 DataSet 对象\n",
    "dataset = qc.load_by_id(237)\n",
    "\n",
    "# 创建自定义的颜色映射\n",
    "colors = [(0, 'black'),(0.5, 'pink'),(1, 'black')]  # 中间段为紫色，更宽\n",
    "cmap = LinearSegmentedColormap.from_list('custom', colors, N=256)\n",
    "\n",
    "# Plot the dataset with the specified colormap\n",
    "axs, cbs = plot_dataset(dataset, cmap=cmap)\n",
    "\n",
    "# 显示图形\n",
    "plt.show()"
   ]
  },
  {
   "cell_type": "markdown",
   "id": "8345f287",
   "metadata": {},
   "source": [
    "##  疊圖 "
   ]
  },
  {
   "cell_type": "code",
   "execution_count": null,
   "id": "d5c7b888",
   "metadata": {},
   "outputs": [],
   "source": [
    "dataset = qc.load_by_id(144)\n",
    "X1 =  dataset.get_parameter_data()['meas_voltage_K2']['appl_current'] \n",
    "Y1 =  dataset.get_parameter_data()['meas_voltage_K2']['meas_voltage_K2']\n",
    "#Keithley1_73 = dataset.get_parameter_data()['meas_voltage_K2']['meas_voltage_K2']\n",
    "#lockin_1_X_73 = dataset.get_parameter_data()['meas_voltage_Lockin1']['meas_voltage_Lockin1']\n",
    "#I_73 = dataset.get_parameter_data()['meas_voltage_K2']['appl_current']\n",
    "#Iac_73 = dataset.snapshot['station']['parameters']['appl_current_AC']['raw_value']\n",
    "\n",
    "dataset = qc.load_by_id(145)\n",
    "X2 =  dataset.get_parameter_data()['meas_voltage_K2']['appl_current'] \n",
    "Y2 =  dataset.get_parameter_data()['meas_voltage_K2']['meas_voltage_K2']\n",
    "\n",
    "dataset = qc.load_by_id(146)\n",
    "X3 =  dataset.get_parameter_data()['meas_voltage_K2']['appl_current'] \n",
    "Y3 =  dataset.get_parameter_data()['meas_voltage_K2']['meas_voltage_K2']\n",
    "\n",
    "dataset = qc.load_by_id(147)\n",
    "X4 =  dataset.get_parameter_data()['meas_voltage_K2']['appl_current'] \n",
    "Y4 =  dataset.get_parameter_data()['meas_voltage_K2']['meas_voltage_K2']\n",
    "\n",
    "dataset = qc.load_by_id(148)\n",
    "X5 =  dataset.get_parameter_data()['meas_voltage_K2']['appl_current'] \n",
    "Y5 =  dataset.get_parameter_data()['meas_voltage_K2']['meas_voltage_K2']\n",
    "\n",
    "\n",
    "dataset = qc.load_by_id(149)\n",
    "X6 =  dataset.get_parameter_data()['meas_voltage_K2']['appl_current'] \n",
    "Y6 =  dataset.get_parameter_data()['meas_voltage_K2']['meas_voltage_K2']\n",
    "\n",
    "\n",
    "dataset = qc.load_by_id(150)\n",
    "X7 =  dataset.get_parameter_data()['meas_voltage_K2']['appl_current'] \n",
    "Y7 =  dataset.get_parameter_data()['meas_voltage_K2']['meas_voltage_K2']\n",
    "\n",
    "\n",
    "dataset = qc.load_by_id(151)\n",
    "X8 =  dataset.get_parameter_data()['meas_voltage_K2']['appl_current'] \n",
    "Y8 =  dataset.get_parameter_data()['meas_voltage_K2']['meas_voltage_K2']\n",
    "\n",
    "\n",
    "\n",
    "\n",
    "# X3_data = X3['appl_current']['appl_current']\n",
    "# Y3_data = Y3['meas_voltage_K2']['meas_voltage_K2']"
   ]
  },
  {
   "cell_type": "markdown",
   "id": "f1ef3de4",
   "metadata": {},
   "source": [
    "##### a) 空白背景"
   ]
  },
  {
   "cell_type": "code",
   "execution_count": null,
   "id": "c0fdcb67",
   "metadata": {
    "scrolled": true
   },
   "outputs": [],
   "source": [
    "plt.figure(figsize=(5, 3))\n",
    "N=50\n",
    "# plt.subplot(131)\n",
    "# plt.plot(I[N,:]/1e-6, Keithley[N,:]/1e-3)\n",
    "plt.plot(5.5381*X1/1e-5,(Y1/1e-6), label='5.5381 GHz')\n",
    "# plt.plot(Keithley1_73/1e-6,I_73/1e-9, label='12.43 GHz')\n",
    "plt.plot(4.303*X2/1e-5,Y2/1e-6, label='4.303 GHz')\n",
    "#plt.plot(Y2/1e-6,X2/1e-9, label='2.63 GHz')\n",
    "plt.plot(5.3986*X3/1e-5,Y3/1e-6, label='5.3986 GHz')\n",
    "# plt.plot(Y3/1e-6, X3/1e-9, label='4.82 GHz')\n",
    "plt.plot(5.876*X4/1e-5,Y4/1e-6, label='5.876 GHz')\n",
    "#plt.plot(Y2/1e-6,X2/1e-9, label='2.63 GHz')\n",
    "plt.plot(6.155*X5/1e-5,Y4/1e-6, label='6.155 GHz')\n",
    "#plt.plot(Y2/1e-6,X2/1e-9, label='2.63 GHz')\n",
    "plt.plot(7.4105*X6/1e-5,Y4/1e-6, label='7.410 GHz')\n",
    "#plt.plot(Y2/1e-6,X2/1e-9, label='2.63 GHz')\n",
    "plt.plot(7.769*X7/1e-5,Y4/1e-6, label='7.769 GHz')\n",
    "#plt.plot(Y2/1e-6,X2/1e-9, label='2.63 GHz')\n",
    "plt.plot(8.167*X8/1e-5,Y4/1e-6, label='8.167 GHz')\n",
    "#plt.plot(Y2/1e-6,X2/1e-9, label='2.63 GHz')\n",
    "\n",
    "\n",
    "plt.xlabel('I ($\\mu$A)')\n",
    "plt.ylabel('V ($\\mu$V)')\n",
    "\n",
    "plt.legend()\n",
    "plt.suptitle('Power 25dB, V$_g$ =0 V')\n",
    "# legend()\n",
    "# DCoff=np.mean(Keithley[N,0:30])\n",
    "#plt.plot(t,x[t], \"o\")\n",
    "# plt.plot(-y_Smooth)\n",
    "# plt.plot(dips, -y_Smooth[dips], \"x\")\n",
    "# plt.add_figure('topleft')\n",
    "# print(DCoff)"
   ]
  },
  {
   "cell_type": "markdown",
   "id": "66443290",
   "metadata": {},
   "source": [
    "##### b) 格線背景"
   ]
  },
  {
   "cell_type": "code",
   "execution_count": null,
   "id": "367525ae",
   "metadata": {},
   "outputs": [],
   "source": [
    "plt.figure(figsize=(5, 3))\n",
    "N=50,\n",
    "# plt.subplot(131)\n",
    "# plt.plot(I[N,:]/1e-6, Keithley[N,:]/1e-3)\n",
    "plt.plot(3.387*X1/1e-5,(1.5*Y1/1e-5), label='3.387 GHz')\n",
    "# plt.plot(Keithley1_73/1e-6,I_73/1e-9, label='12.43 GHz')\n",
    "plt.plot(8.89842*X2/1e-5,1.5*Y2/1e-5, label='8.89842 GHz')\n",
    "# plt.plot(Y2/1e-6,X2/1e-9, label='2.63 GHz')\n",
    "plt.plot(6.4942*X3/1e-5,1.5*Y3/1e-5, label='6.4942 GHz')\n",
    "# plt.plot(Y3/1e-6, X3/1e-9, label='4.82 GHz')\n",
    "\n",
    "# 添加网格线\n",
    "plt.grid(True)\n",
    "\n",
    "plt.xlabel('I ($\\mu$A)')\n",
    "plt.ylabel('V ($\\\\frac{\\hbar\\\\omega}{2e}$)')\n",
    "\n",
    "\n",
    "plt.legend()\n",
    "#plt.suptitle('Power 0 dB, V$_g$ = 0 V')\n",
    "plt.show()"
   ]
  },
  {
   "cell_type": "markdown",
   "id": "c658e487",
   "metadata": {},
   "source": [
    "# 4. Field vs IV"
   ]
  },
  {
   "cell_type": "code",
   "execution_count": null,
   "id": "bca881f0",
   "metadata": {},
   "outputs": [],
   "source": [
    "dataset = qc.load_by_id(73)\n",
    "#plot_dataset(dataset)\n",
    "#plt.show()"
   ]
  },
  {
   "cell_type": "markdown",
   "id": "aecd20ec",
   "metadata": {},
   "source": [
    "# Test Code"
   ]
  },
  {
   "cell_type": "code",
   "execution_count": null,
   "id": "0dadfd90",
   "metadata": {},
   "outputs": [],
   "source": [
    "dataset = qc.load_by_id(237)\n",
    "\n",
    "# 对电流-电压曲线进行微分\n",
    "voltage= dataset.get_parameter_data()['meas_voltage_K2']['meas_voltage_K2'] #['meas_voltage_K1']['meas_voltage_K1']\n",
    "current = dataset.get_parameter_data()['meas_voltage_K2']['appl_current'] #['meas_voltage_K1']['appl_current']\n",
    "\n",
    "differential = np.diff(voltage) / np.diff(current)\n",
    "\n",
    "# 绘制微分后的数据\n",
    "plt.plot(current[:-1], differential)\n",
    "plt.xlabel('Power (dB)')\n",
    "plt.ylabel('dV/dI')\n",
    "plt.title('dV/dI vs ')\n",
    "plt.show()"
   ]
  },
  {
   "cell_type": "code",
   "execution_count": null,
   "id": "fc3bae2f",
   "metadata": {},
   "outputs": [],
   "source": [
    "# Get the colormap you want to use\n",
    "cmap = plt.get_cmap('bwr')\n",
    "\n",
    "# Plot the dataset with the specified colormap\n",
    "axs, cbs = plot_dataset(dataset, cmap=cmap)"
   ]
  },
  {
   "cell_type": "code",
   "execution_count": null,
   "id": "5caec0d6",
   "metadata": {},
   "outputs": [],
   "source": [
    "import matplotlib.pyplot as plt\n",
    "import numpy as np\n",
    "\n",
    "# 创建一个示例图像\n",
    "data = np.random.random((10, 10))\n",
    "\n",
    "# 绘制图像\n",
    "img = plt.imshow(data, cmap='hot', vmin=0, vmax=1)\n",
    "\n",
    "# 创建colorbar\n",
    "cbar = plt.colorbar(img)\n",
    "\n",
    "# 设置colorbar的范围\n",
    "cbar.set_ticks([0.2, 0.5, 0.8])  # 设置刻度位置\n",
    "cbar.set_ticklabels(['Low', 'Medium', 'High'])  # 设置刻度标签\n",
    "\n",
    "# 显示图像\n",
    "plt.show()\n",
    "\n"
   ]
  },
  {
   "cell_type": "code",
   "execution_count": null,
   "id": "5ab8379c",
   "metadata": {},
   "outputs": [],
   "source": [
    "import matplotlib.pyplot as plt\n",
    "from matplotlib.colors import LinearSegmentedColormap\n",
    "import numpy as np\n",
    "\n",
    "# 创建一个示例图像\n",
    "data = np.random.random((10, 10))\n",
    "\n",
    "# 创建自定义的颜色映射\n",
    "colors = [(0, 'blue'), (0.5, 'black'), (1, 'red')]  # 中间段为黑色\n",
    "cmap = LinearSegmentedColormap.from_list('custom', colors, N=256)\n",
    "\n",
    "# 绘制图像\n",
    "img = plt.imshow(data, cmap=cmap, vmin=0, vmax=1)\n",
    "\n",
    "# 创建colorbar\n",
    "cbar = plt.colorbar(img)\n",
    "\n",
    "# 显示图像\n",
    "plt.show()\n",
    "\n"
   ]
  },
  {
   "cell_type": "code",
   "execution_count": null,
   "id": "6f0de8b5",
   "metadata": {},
   "outputs": [],
   "source": [
    "import matplotlib.pyplot as plt\n",
    "\n",
    "# 使用Viridis颜色映射\n",
    "viridis_cmap = plt.get_cmap('viridis')\n",
    "\n",
    "# 获取Viridis颜色映射中绿色的RGB值\n",
    "green_color = viridis_cmap(0.5)[:3]\n",
    "\n",
    "# 打印结果\n",
    "print(\"Viridis颜色映射中绿色的RGB值:\", green_color)\n"
   ]
  },
  {
   "cell_type": "code",
   "execution_count": null,
   "id": "9017658c",
   "metadata": {},
   "outputs": [],
   "source": [
    "dataset = qc.load_by_id(146)\n",
    "X1 =  dataset.get_parameter_data()['meas_voltage_K2']['appl_current'] \n",
    "Y1 =  dataset.get_parameter_data()['meas_voltage_K2']['meas_voltage_K2']\n",
    "\n",
    "\n",
    "cmap = plt.get_cmap('bwr')\n",
    "\n",
    "# Plot the dataset with the specified colormap\n",
    "axs, cbs = plot_dataset(dataset, cmap=cmap)\n",
    "\n",
    "plt.xlabel('I ($\\mu$A)')\n",
    "plt.ylabel('V ($\\mu$V)')\n",
    "\n",
    "\n",
    "plt.suptitle('Power 25dB, V$_g$ =0 V')"
   ]
  },
  {
   "cell_type": "code",
   "execution_count": null,
   "id": "d0d4d1b6",
   "metadata": {},
   "outputs": [],
   "source": [
    "SGS.off()\n",
    "SGS.power(10)\n",
    "SGS.frequency(2.92047e9)\n",
    "SGS.on()\n",
    "keithley_2.averaging_count(5)\n",
    "keithley_2.averaging_enabled(True)\n",
    "keithley_24.output(1)\n",
    "\n",
    "magnet_x.field(15e-3)\n",
    "sleep(5)\n",
    "appl_current(-1e-6)\n",
    "#appl_TG(-30)\n",
    "sleep(2)\n",
    "\n",
    "# station.snapshot(update=True);\n",
    "exp = qc.new_experiment('IV vs power dependence', sample_name='IV vs PD_10_15mT')\n",
    "\n",
    "#do1d(param_set, start, stop, num_points, delay, *param_meas)\n",
    "\n",
    "dataid = do2d(SGS.power,-15, 20, 101, 1, appl_current,-1e-6 ,1e-6, 101, 0.05, meas_voltage_K2)\n",
    "# dataid = do1d(appl_current, 6e-6 , -6e-6, 251, 0.01, meas_voltage_K1)\n",
    "# ivvi.set_dacs_zero()\n",
    "\n",
    "SGS.off()\n",
    "appl_current(0)\n",
    "keithley_24.output()\n",
    "plot_by_id(dataid)\n",
    "\n",
    "# print(get_R_from_IV(dataid))\n",
    "print(get_R_from_IV_2(dataid))"
   ]
  },
  {
   "cell_type": "code",
   "execution_count": null,
   "id": "9107a277",
   "metadata": {},
   "outputs": [],
   "source": [
    "SGS.off()\n",
    "SGS.power(10)\n",
    "SGS.frequency(2.92047e9)\n",
    "SGS.on()\n",
    "keithley_2.averaging_count(5)\n",
    "keithley_2.averaging_enabled(True)\n",
    "keithley_24.output(1)\n",
    "\n",
    "magnet_x.field(15e-3)\n",
    "sleep(5)\n",
    "appl_current(-1e-6)\n",
    "#appl_TG(-30)\n",
    "sleep(2)\n",
    "\n",
    "# station.snapshot(update=True);\n",
    "exp = qc.new_experiment('IV vs power dependence', sample_name='IV vs PD_10_15mT')\n",
    "\n",
    "#do1d(param_set, start, stop, num_points, delay, *param_meas)\n",
    "\n",
    "dataid = do2d(SGS.power,-15, 20, 101, 1, appl_current,-1e-6 ,1e-6, 101, 0.05, meas_voltage_K2)\n",
    "# dataid = do1d(appl_current, 6e-6 , -6e-6, 251, 0.01, meas_voltage_K1)\n",
    "# ivvi.set_dacs_zero()\n",
    "\n",
    "SGS.off()\n",
    "appl_current(0)\n",
    "keithley_24.output()\n",
    "plot_by_id(dataid)\n",
    "\n",
    "# print(get_R_from_IV(dataid))\n",
    "print(get_R_from_IV_2(dataid))"
   ]
  },
  {
   "cell_type": "code",
   "execution_count": null,
   "id": "f9edcb8f",
   "metadata": {},
   "outputs": [],
   "source": [
    "import matplotlib.pyplot as plt\n",
    "\n",
    "# 提取数据，这里假设 dataid 是某个数据集的标识符\n",
    "voltage_data = get_data_from_id(360, 'meas_voltage_K2')  # 请替换 'meas_voltage_K2' 为你的实际数据列名\n",
    "power_data = get_data_from_id(360, 'SGS_power')  # 请替换 'SGS_power' 为你的实际数据列名\n",
    "\n",
    "# 绘制 Voltage 对 Power 曲线\n",
    "plt.plot(power_data, voltage_data, marker='o', linestyle='-')\n",
    "plt.xlabel('Power (units)')\n",
    "plt.ylabel('Voltage (units)')\n",
    "plt.title('Voltage vs Power Dependence')\n",
    "\n",
    "# 显示图表\n",
    "plt.show()\n"
   ]
  },
  {
   "cell_type": "code",
   "execution_count": null,
   "id": "f481e532",
   "metadata": {},
   "outputs": [],
   "source": [
    "V = dataset.get_parameter_data()['meas_voltage_K2']['meas_voltage_K2']\n",
    "I = dataset.get_parameter_data()['meas_voltage_K2']['appl_current']\n",
    "R = np.diff(V) / np.diff(I)\n",
    "P = dataset.get_parameter_data()['meas_voltage_K2']['SGS_power']\n",
    "# B = dataset.get_parameter_data()['meas_voltage_K2']['x_field']\n",
    "V = pd.DataFrame(V, columns=['Voltage_K2'])\n",
    "I = pd.DataFrame(I, columns=['Current'])\n",
    "R = pd.DataFrame(R, columns=['Risistance'])\n",
    "P = pd.DataFrame(P, columns=['Power'])\n",
    "# B = pd.DataFrame(B, columns=['B Field'])\n",
    "R_append = pd.concat([R, pd.DataFrame([None])], ignore_index=True).iloc[:, :-1]\n",
    "R_array = np.transpose(R_append.values.reshape(701,101))\n",
    "print(len(V))\n",
    "print(len(I))\n",
    "print(len(R))\n",
    "print(len(P))\n",
    "print(len(R_array))"
   ]
  },
  {
   "cell_type": "code",
   "execution_count": null,
   "id": "ca81daec",
   "metadata": {},
   "outputs": [],
   "source": [
    "# s = len(Vg)\n",
    "s = len(I)\n",
    "# print(s)\n",
    "N = 1\n",
    "for i in range(s - 1):\n",
    "    if Power_dependence[i] != Power_dependence[i + 1]:\n",
    "        break\n",
    "    else:\n",
    "        N = N + 1\n",
    "        print('size of the gate array', N, end='\\r')\n",
    "\n",
    "NI = N\n",
    "NB = s // N\n",
    "# NVg = s // N\n",
    "print('size of the field array', NB)\n",
    "# print('size of the gate array', NVg)\n",
    "print('size of the current', NI)\n",
    "\n",
    "# 提取数据列\n",
    "voltage_data = Vg[:N]  # 假设 Vg 是 Voltage 的数据列，如果不是，请替换为正确的列名\n",
    "power_data = Power_dependence[:N]  # 假设 Power_dependence 是 Power 的数据列，如果不是，请替换为正确的列名\n",
    "\n",
    "# 绘制 Voltage 对 Power 曲线\n",
    "plt.plot(power_data, voltage_data, marker='o', linestyle='-')\n",
    "plt.xlabel('Power (units)')\n",
    "plt.ylabel('Voltage (units)')\n",
    "plt.title('Voltage vs Power Dependence')\n",
    "\n",
    "# 显示图表\n",
    "plt.show()\n"
   ]
  },
  {
   "cell_type": "code",
   "execution_count": null,
   "id": "ddaf0bb2",
   "metadata": {},
   "outputs": [],
   "source": []
  }
 ],
 "metadata": {
  "kernelspec": {
   "display_name": "Python 3 (ipykernel)",
   "language": "python",
   "name": "python3"
  },
  "language_info": {
   "codemirror_mode": {
    "name": "ipython",
    "version": 3
   },
   "file_extension": ".py",
   "mimetype": "text/x-python",
   "name": "python",
   "nbconvert_exporter": "python",
   "pygments_lexer": "ipython3",
   "version": "3.11.3"
  },
  "toc": {
   "base_numbering": 1,
   "nav_menu": {},
   "number_sections": true,
   "sideBar": true,
   "skip_h1_title": false,
   "title_cell": "Table of Contents",
   "title_sidebar": "Contents",
   "toc_cell": false,
   "toc_position": {
    "height": "calc(100% - 180px)",
    "left": "10px",
    "top": "150px",
    "width": "307.2px"
   },
   "toc_section_display": true,
   "toc_window_display": true
  }
 },
 "nbformat": 4,
 "nbformat_minor": 5
}
