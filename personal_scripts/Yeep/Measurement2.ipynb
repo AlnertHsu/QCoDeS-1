{
 "cells": [
  {
   "cell_type": "markdown",
   "id": "256e0f19",
   "metadata": {},
   "source": [
    "# Initialization"
   ]
  },
  {
   "cell_type": "markdown",
   "id": "9d160fe4",
   "metadata": {},
   "source": [
    "###### Inport modules"
   ]
  },
  {
   "cell_type": "code",
   "execution_count": 2,
   "id": "87cd7482",
   "metadata": {},
   "outputs": [],
   "source": [
    "%matplotlib inline\n",
    "import os, sys\n",
    "import matplotlib.pyplot as plt\n",
    "import numpy as np\n",
    "from pprint import pprint\n",
    "from tqdm.notebook import tqdm\n",
    "\n",
    "from time import sleep, monotonic, time\n",
    "\n",
    "\n",
    "import qcodes as qc\n",
    "from qcodes import Parameter\n",
    "\n",
    "from qcodes.dataset.plotting import plot_dataset, plot_by_id\n",
    "from qcodes.utils.metadata import diff_param_values\n",
    "from qcodes.instrument.specialized_parameters import ElapsedTimeParameter\n",
    "from qcodes.dataset.measurements import Measurement\n",
    "\n",
    "# sys.path.append('M:\\\\tnw\\\\ns\\\\qt\\\\2D Topo\\\\code\\\\qcodes')\n",
    "sys.path.append('C:\\\\qcodes')\n",
    "from sweeps import do1d, do2d, time_sweep, measure_until, do1d_until\n",
    "\n",
    "import warnings\n",
    "warnings.filterwarnings('ignore')"
   ]
  },
  {
   "cell_type": "code",
   "execution_count": 3,
   "id": "5c62f513",
   "metadata": {},
   "outputs": [
    {
     "name": "stderr",
     "output_type": "stream",
     "text": [
      "[keithley_24(Keithley2400)] Snapshot: Could not update parameter: volt\n",
      "[keithley_24(Keithley2400)] Snapshot: Could not update parameter: curr\n"
     ]
    },
    {
     "name": "stdout",
     "output_type": "stream",
     "text": [
      "Connected to: KEITHLEY INSTRUMENTS DMM6500 (serial:04518052, firmware:1.7.7b) in 0.13s\n",
      "Connected to: KEITHLEY INSTRUMENTS INC. 2440 (serial:1225508, firmware:C30   Mar 17 2006 09:29:29/A02  /B/A) in 0.03s\n"
     ]
    },
    {
     "name": "stderr",
     "output_type": "stream",
     "text": [
      "[keithley_24(Keithley2400)] Snapshot: Could not update parameter: resistance\n",
      "[keithley_19(Keithley2400)] Snapshot: Could not update parameter: volt\n",
      "[keithley_19(Keithley2400)] Snapshot: Could not update parameter: curr\n",
      "[keithley_19(Keithley2400)] Snapshot: Could not update parameter: resistance\n"
     ]
    },
    {
     "name": "stdout",
     "output_type": "stream",
     "text": [
      "Connected to: KEITHLEY INSTRUMENTS INC. 2400 (serial:0957985, firmware:C32   Oct  4 2010 14:20:11/A02  /K/M) in 0.03s\n"
     ]
    }
   ],
   "source": [
    "fridge_name = 'BF1'\n",
    "# %run ..\\..\\..\\..\\..\\code\\qcodes\\init_fridge.py {fridge_name}\n",
    "%run C:\\\\qcodes\\\\init_fridge.py {fridge_name}"
   ]
  },
  {
   "cell_type": "code",
   "execution_count": 4,
   "id": "c9e134aa",
   "metadata": {},
   "outputs": [
    {
     "name": "stdout",
     "output_type": "stream",
     "text": [
      "{'components': {},\n",
      " 'config': None,\n",
      " 'instruments': {'keithley1': {'__class__': 'qcodes.instrument_drivers.tektronix.Keithley_6500.Keithley_6500',\n",
      "                               'address': 'GPIB0::6::INSTR',\n",
      "                               'functions': {},\n",
      "                               'label': 'keithley1',\n",
      "                               'name': 'keithley1',\n",
      "                               'parameters': {'IDN': {'__class__': 'qcodes.parameters.parameter.Parameter',\n",
      "                                                      'full_name': 'keithley1_IDN',\n",
      "                                                      'instrument': 'qcodes.instrument_drivers.tektronix.Keithley_6500.Keithley_6500',\n",
      "                                                      'instrument_name': 'keithley1',\n",
      "                                                      'inter_delay': 0,\n",
      "                                                      'label': 'IDN',\n",
      "                                                      'name': 'IDN',\n",
      "                                                      'post_delay': 0,\n",
      "                                                      'raw_value': {'firmware': '1.7.7b',\n",
      "                                                                    'model': 'DMM6500',\n",
      "                                                                    'serial': '04518052',\n",
      "                                                                    'vendor': 'KEITHLEY '\n",
      "                                                                              'INSTRUMENTS'},\n",
      "                                                      'ts': '2024-05-17 '\n",
      "                                                            '13:56:11',\n",
      "                                                      'unit': '',\n",
      "                                                      'vals': '<Anything>',\n",
      "                                                      'value': {'firmware': '1.7.7b',\n",
      "                                                                'model': 'DMM6500',\n",
      "                                                                'serial': '04518052',\n",
      "                                                                'vendor': 'KEITHLEY '\n",
      "                                                                          'INSTRUMENTS'}},\n",
      "                                              'amplitude': {'__class__': 'qcodes.parameters.parameter.Parameter',\n",
      "                                                            'full_name': 'keithley1_amplitude',\n",
      "                                                            'instrument': 'qcodes.instrument_drivers.tektronix.Keithley_6500.Keithley_6500',\n",
      "                                                            'instrument_name': 'keithley1',\n",
      "                                                            'inter_delay': 0,\n",
      "                                                            'label': 'amplitude',\n",
      "                                                            'name': 'amplitude',\n",
      "                                                            'post_delay': 0,\n",
      "                                                            'raw_value': 6.434086e-05,\n",
      "                                                            'ts': '2024-05-17 '\n",
      "                                                                  '13:56:11',\n",
      "                                                            'unit': 'a.u.',\n",
      "                                                            'value': 6.434086e-05},\n",
      "                                              'auto_range_enabled': {'__class__': 'qcodes.parameters.parameter.Parameter',\n",
      "                                                                     'full_name': 'keithley1_auto_range_enabled',\n",
      "                                                                     'instrument': 'qcodes.instrument_drivers.tektronix.Keithley_6500.Keithley_6500',\n",
      "                                                                     'instrument_name': 'keithley1',\n",
      "                                                                     'inter_delay': 0,\n",
      "                                                                     'label': 'auto_range_enabled',\n",
      "                                                                     'name': 'auto_range_enabled',\n",
      "                                                                     'post_delay': 0,\n",
      "                                                                     'raw_value': True,\n",
      "                                                                     'ts': '2024-05-17 '\n",
      "                                                                           '13:56:11',\n",
      "                                                                     'unit': '',\n",
      "                                                                     'vals': '<Boolean>',\n",
      "                                                                     'value': True},\n",
      "                                              'averaging_count': {'__class__': 'qcodes.parameters.parameter.Parameter',\n",
      "                                                                  'full_name': 'keithley1_averaging_count',\n",
      "                                                                  'instrument': 'qcodes.instrument_drivers.tektronix.Keithley_6500.Keithley_6500',\n",
      "                                                                  'instrument_name': 'keithley1',\n",
      "                                                                  'inter_delay': 0,\n",
      "                                                                  'label': 'averaging_count',\n",
      "                                                                  'name': 'averaging_count',\n",
      "                                                                  'post_delay': 0,\n",
      "                                                                  'raw_value': 10,\n",
      "                                                                  'ts': '2024-05-17 '\n",
      "                                                                        '13:56:11',\n",
      "                                                                  'unit': '',\n",
      "                                                                  'vals': '<Ints '\n",
      "                                                                          '1<=v<=100>',\n",
      "                                                                  'value': 10},\n",
      "                                              'averaging_enabled': {'__class__': 'qcodes.parameters.parameter.Parameter',\n",
      "                                                                    'full_name': 'keithley1_averaging_enabled',\n",
      "                                                                    'instrument': 'qcodes.instrument_drivers.tektronix.Keithley_6500.Keithley_6500',\n",
      "                                                                    'instrument_name': 'keithley1',\n",
      "                                                                    'inter_delay': 0,\n",
      "                                                                    'label': 'averaging_enabled',\n",
      "                                                                    'name': 'averaging_enabled',\n",
      "                                                                    'post_delay': 0,\n",
      "                                                                    'raw_value': True,\n",
      "                                                                    'ts': '2024-05-17 '\n",
      "                                                                          '13:56:11',\n",
      "                                                                    'unit': '',\n",
      "                                                                    'vals': '<Boolean>',\n",
      "                                                                    'value': True},\n",
      "                                              'averaging_type': {'__class__': 'qcodes.parameters.parameter.Parameter',\n",
      "                                                                 'full_name': 'keithley1_averaging_type',\n",
      "                                                                 'instrument': 'qcodes.instrument_drivers.tektronix.Keithley_6500.Keithley_6500',\n",
      "                                                                 'instrument_name': 'keithley1',\n",
      "                                                                 'inter_delay': 0,\n",
      "                                                                 'label': 'averaging_type',\n",
      "                                                                 'name': 'averaging_type',\n",
      "                                                                 'post_delay': 0,\n",
      "                                                                 'raw_value': 'repeat',\n",
      "                                                                 'ts': '2024-05-17 '\n",
      "                                                                       '13:56:11',\n",
      "                                                                 'unit': '',\n",
      "                                                                 'vals': '<Enum: '\n",
      "                                                                         \"{'repeat', \"\n",
      "                                                                         \"'moving'}>\",\n",
      "                                                                 'value': 'repeat'},\n",
      "                                              'digits': {'__class__': 'qcodes.parameters.parameter.Parameter',\n",
      "                                                         'full_name': 'keithley1_digits',\n",
      "                                                         'instrument': 'qcodes.instrument_drivers.tektronix.Keithley_6500.Keithley_6500',\n",
      "                                                         'instrument_name': 'keithley1',\n",
      "                                                         'inter_delay': 0,\n",
      "                                                         'label': 'digits',\n",
      "                                                         'name': 'digits',\n",
      "                                                         'post_delay': 0,\n",
      "                                                         'raw_value': '6',\n",
      "                                                         'ts': '2024-05-17 '\n",
      "                                                               '13:56:11',\n",
      "                                                         'unit': '',\n",
      "                                                         'vals': '<Ints '\n",
      "                                                                 '4<=v<=7>',\n",
      "                                                         'value': 6},\n",
      "                                              'display_backlight': {'__class__': 'qcodes.parameters.parameter.Parameter',\n",
      "                                                                    'full_name': 'keithley1_display_backlight',\n",
      "                                                                    'instrument': 'qcodes.instrument_drivers.tektronix.Keithley_6500.Keithley_6500',\n",
      "                                                                    'instrument_name': 'keithley1',\n",
      "                                                                    'inter_delay': 0,\n",
      "                                                                    'label': 'display_backlight',\n",
      "                                                                    'name': 'display_backlight',\n",
      "                                                                    'post_delay': 0,\n",
      "                                                                    'raw_value': 'ON50',\n",
      "                                                                    'ts': '2024-05-17 '\n",
      "                                                                          '13:56:11',\n",
      "                                                                    'unit': '',\n",
      "                                                                    'val_mapping': {'Blackout': 'BLACkout',\n",
      "                                                                                    'Off': 'OFF',\n",
      "                                                                                    'On 100': 'ON100',\n",
      "                                                                                    'On 25': 'ON25',\n",
      "                                                                                    'On 50': 'ON50',\n",
      "                                                                                    'On 75': 'ON75'},\n",
      "                                                                    'vals': '<Enum: '\n",
      "                                                                            \"{'Off', \"\n",
      "                                                                            \"'On \"\n",
      "                                                                            \"25', \"\n",
      "                                                                            \"'On \"\n",
      "                                                                            \"75', \"\n",
      "                                                                            \"'Blackout', \"\n",
      "                                                                            \"'On \"\n",
      "                                                                            \"100', \"\n",
      "                                                                            \"'On \"\n",
      "                                                                            \"50'}>\",\n",
      "                                                                    'value': 'On '\n",
      "                                                                             '50'},\n",
      "                                              'mode': {'__class__': 'qcodes.parameters.parameter.Parameter',\n",
      "                                                       'full_name': 'keithley1_mode',\n",
      "                                                       'instrument': 'qcodes.instrument_drivers.tektronix.Keithley_6500.Keithley_6500',\n",
      "                                                       'instrument_name': 'keithley1',\n",
      "                                                       'inter_delay': 0,\n",
      "                                                       'label': 'mode',\n",
      "                                                       'name': 'mode',\n",
      "                                                       'post_delay': 0,\n",
      "                                                       'raw_value': 'VOLT:DC',\n",
      "                                                       'ts': '2024-05-17 '\n",
      "                                                             '13:56:11',\n",
      "                                                       'unit': '',\n",
      "                                                       'val_mapping': {'2w resistance': 'RES',\n",
      "                                                                       '4w resistance': 'FRES',\n",
      "                                                                       'ac current': 'CURR:AC',\n",
      "                                                                       'ac voltage': 'VOLT:AC',\n",
      "                                                                       'dc current': 'CURR:DC',\n",
      "                                                                       'dc voltage': 'VOLT:DC',\n",
      "                                                                       'frequency': 'FREQ',\n",
      "                                                                       'temperature': 'TEMP'},\n",
      "                                                       'vals': \"<Enum: {'dc \"\n",
      "                                                               \"current', \"\n",
      "                                                               \"'frequency', \"\n",
      "                                                               \"'ac voltage', \"\n",
      "                                                               \"'temperature', \"\n",
      "                                                               \"'ac current', \"\n",
      "                                                               \"'2w \"\n",
      "                                                               \"resistance', \"\n",
      "                                                               \"'dc voltage', \"\n",
      "                                                               \"'4w \"\n",
      "                                                               \"resistance'}>\",\n",
      "                                                       'value': 'dc voltage'},\n",
      "                                              'nplc': {'__class__': 'qcodes.parameters.parameter.Parameter',\n",
      "                                                       'full_name': 'keithley1_nplc',\n",
      "                                                       'instrument': 'qcodes.instrument_drivers.tektronix.Keithley_6500.Keithley_6500',\n",
      "                                                       'instrument_name': 'keithley1',\n",
      "                                                       'inter_delay': 0,\n",
      "                                                       'label': 'nplc',\n",
      "                                                       'name': 'nplc',\n",
      "                                                       'post_delay': 0,\n",
      "                                                       'raw_value': 1.0,\n",
      "                                                       'ts': '2024-05-17 '\n",
      "                                                             '13:56:11',\n",
      "                                                       'unit': '',\n",
      "                                                       'vals': '<Numbers '\n",
      "                                                               '0.01<=v<=10>',\n",
      "                                                       'value': 1.0},\n",
      "                                              'range': {'__class__': 'qcodes.parameters.parameter.Parameter',\n",
      "                                                        'full_name': 'keithley1_range',\n",
      "                                                        'instrument': 'qcodes.instrument_drivers.tektronix.Keithley_6500.Keithley_6500',\n",
      "                                                        'instrument_name': 'keithley1',\n",
      "                                                        'inter_delay': 0,\n",
      "                                                        'label': 'range',\n",
      "                                                        'name': 'range',\n",
      "                                                        'post_delay': 0,\n",
      "                                                        'raw_value': 0.1,\n",
      "                                                        'ts': '2024-05-17 '\n",
      "                                                              '13:56:11',\n",
      "                                                        'unit': '',\n",
      "                                                        'vals': '<Numbers>',\n",
      "                                                        'value': 0.1},\n",
      "                                              'timeout': {'__class__': 'qcodes.parameters.parameter.Parameter',\n",
      "                                                          'full_name': 'keithley1_timeout',\n",
      "                                                          'instrument': 'qcodes.instrument_drivers.tektronix.Keithley_6500.Keithley_6500',\n",
      "                                                          'instrument_name': 'keithley1',\n",
      "                                                          'inter_delay': 0,\n",
      "                                                          'label': 'timeout',\n",
      "                                                          'name': 'timeout',\n",
      "                                                          'post_delay': 0,\n",
      "                                                          'raw_value': 10.0,\n",
      "                                                          'ts': '2024-05-17 '\n",
      "                                                                '13:56:11',\n",
      "                                                          'unit': 's',\n",
      "                                                          'vals': '<MultiType: '\n",
      "                                                                  'Numbers '\n",
      "                                                                  'v>=0, Enum: '\n",
      "                                                                  '{None}>',\n",
      "                                                          'value': 10.0},\n",
      "                                              'trigger1_delay': {'__class__': 'qcodes.parameters.parameter.Parameter',\n",
      "                                                                 'full_name': 'keithley1_trigger1_delay',\n",
      "                                                                 'instrument': 'qcodes.instrument_drivers.tektronix.Keithley_6500.Keithley_6500',\n",
      "                                                                 'instrument_name': 'keithley1',\n",
      "                                                                 'inter_delay': 0,\n",
      "                                                                 'label': 'trigger1_delay',\n",
      "                                                                 'name': 'trigger1_delay',\n",
      "                                                                 'post_delay': 0,\n",
      "                                                                 'raw_value': '1E-05',\n",
      "                                                                 'ts': '2024-05-17 '\n",
      "                                                                       '13:56:11',\n",
      "                                                                 'unit': 's',\n",
      "                                                                 'vals': '<Numbers '\n",
      "                                                                         '0<=v<=999999.999>',\n",
      "                                                                 'value': 1e-05},\n",
      "                                              'trigger1_source': {'__class__': 'qcodes.parameters.parameter.Parameter',\n",
      "                                                                  'full_name': 'keithley1_trigger1_source',\n",
      "                                                                  'instrument': 'qcodes.instrument_drivers.tektronix.Keithley_6500.Keithley_6500',\n",
      "                                                                  'instrument_name': 'keithley1',\n",
      "                                                                  'inter_delay': 0,\n",
      "                                                                  'label': 'trigger1_source',\n",
      "                                                                  'name': 'trigger1_source',\n",
      "                                                                  'post_delay': 0,\n",
      "                                                                  'raw_value': 'NONE',\n",
      "                                                                  'ts': '2024-05-17 '\n",
      "                                                                        '13:56:11',\n",
      "                                                                  'unit': '',\n",
      "                                                                  'val_mapping': {'bus': 'COMM',\n",
      "                                                                                  'external': 'EXT',\n",
      "                                                                                  'front-panel': 'DISP',\n",
      "                                                                                  'immediate': 'NONE',\n",
      "                                                                                  'notify1': 'NOT1',\n",
      "                                                                                  'notify2': 'NOT2',\n",
      "                                                                                  'notify3': 'NOT3',\n",
      "                                                                                  'timer1': 'TIM1',\n",
      "                                                                                  'timer2': 'TIM2',\n",
      "                                                                                  'timer3': 'TIM3',\n",
      "                                                                                  'timer4': 'TIM4'},\n",
      "                                                                  'vals': '<Enum: '\n",
      "                                                                          \"{'notify3', \"\n",
      "                                                                          \"'immediate', \"\n",
      "                                                                          \"'timer4', \"\n",
      "                                                                          \"'external', \"\n",
      "                                                                          \"'bus', \"\n",
      "                                                                          \"'timer1', \"\n",
      "                                                                          \"'notify1', \"\n",
      "                                                                          \"'timer3', \"\n",
      "                                                                          \"'front-panel', \"\n",
      "                                                                          \"'notify2', \"\n",
      "                                                                          \"'timer2'}>\",\n",
      "                                                                  'value': 'immediate'},\n",
      "                                              'trigger2_delay': {'__class__': 'qcodes.parameters.parameter.Parameter',\n",
      "                                                                 'full_name': 'keithley1_trigger2_delay',\n",
      "                                                                 'instrument': 'qcodes.instrument_drivers.tektronix.Keithley_6500.Keithley_6500',\n",
      "                                                                 'instrument_name': 'keithley1',\n",
      "                                                                 'inter_delay': 0,\n",
      "                                                                 'label': 'trigger2_delay',\n",
      "                                                                 'name': 'trigger2_delay',\n",
      "                                                                 'post_delay': 0,\n",
      "                                                                 'raw_value': '1E-05',\n",
      "                                                                 'ts': '2024-05-17 '\n",
      "                                                                       '13:56:11',\n",
      "                                                                 'unit': 's',\n",
      "                                                                 'vals': '<Numbers '\n",
      "                                                                         '0<=v<=999999.999>',\n",
      "                                                                 'value': 1e-05},\n",
      "                                              'trigger2_source': {'__class__': 'qcodes.parameters.parameter.Parameter',\n",
      "                                                                  'full_name': 'keithley1_trigger2_source',\n",
      "                                                                  'instrument': 'qcodes.instrument_drivers.tektronix.Keithley_6500.Keithley_6500',\n",
      "                                                                  'instrument_name': 'keithley1',\n",
      "                                                                  'inter_delay': 0,\n",
      "                                                                  'label': 'trigger2_source',\n",
      "                                                                  'name': 'trigger2_source',\n",
      "                                                                  'post_delay': 0,\n",
      "                                                                  'raw_value': 'NONE',\n",
      "                                                                  'ts': '2024-05-17 '\n",
      "                                                                        '13:56:11',\n",
      "                                                                  'unit': '',\n",
      "                                                                  'val_mapping': {'bus': 'COMM',\n",
      "                                                                                  'external': 'EXT',\n",
      "                                                                                  'front-panel': 'DISP',\n",
      "                                                                                  'immediate': 'NONE',\n",
      "                                                                                  'notify1': 'NOT1',\n",
      "                                                                                  'notify2': 'NOT2',\n",
      "                                                                                  'notify3': 'NOT3',\n",
      "                                                                                  'timer1': 'TIM1',\n",
      "                                                                                  'timer2': 'TIM2',\n",
      "                                                                                  'timer3': 'TIM3',\n",
      "                                                                                  'timer4': 'TIM4'},\n",
      "                                                                  'vals': '<Enum: '\n",
      "                                                                          \"{'notify3', \"\n",
      "                                                                          \"'immediate', \"\n",
      "                                                                          \"'timer4', \"\n",
      "                                                                          \"'external', \"\n",
      "                                                                          \"'bus', \"\n",
      "                                                                          \"'timer1', \"\n",
      "                                                                          \"'notify1', \"\n",
      "                                                                          \"'timer3', \"\n",
      "                                                                          \"'front-panel', \"\n",
      "                                                                          \"'notify2', \"\n",
      "                                                                          \"'timer2'}>\",\n",
      "                                                                  'value': 'immediate'},\n",
      "                                              'trigger3_delay': {'__class__': 'qcodes.parameters.parameter.Parameter',\n",
      "                                                                 'full_name': 'keithley1_trigger3_delay',\n",
      "                                                                 'instrument': 'qcodes.instrument_drivers.tektronix.Keithley_6500.Keithley_6500',\n",
      "                                                                 'instrument_name': 'keithley1',\n",
      "                                                                 'inter_delay': 0,\n",
      "                                                                 'label': 'trigger3_delay',\n",
      "                                                                 'name': 'trigger3_delay',\n",
      "                                                                 'post_delay': 0,\n",
      "                                                                 'raw_value': '1E-05',\n",
      "                                                                 'ts': '2024-05-17 '\n",
      "                                                                       '13:56:11',\n",
      "                                                                 'unit': 's',\n",
      "                                                                 'vals': '<Numbers '\n",
      "                                                                         '0<=v<=999999.999>',\n",
      "                                                                 'value': 1e-05},\n",
      "                                              'trigger3_source': {'__class__': 'qcodes.parameters.parameter.Parameter',\n",
      "                                                                  'full_name': 'keithley1_trigger3_source',\n",
      "                                                                  'instrument': 'qcodes.instrument_drivers.tektronix.Keithley_6500.Keithley_6500',\n",
      "                                                                  'instrument_name': 'keithley1',\n",
      "                                                                  'inter_delay': 0,\n",
      "                                                                  'label': 'trigger3_source',\n",
      "                                                                  'name': 'trigger3_source',\n",
      "                                                                  'post_delay': 0,\n",
      "                                                                  'raw_value': 'NONE',\n",
      "                                                                  'ts': '2024-05-17 '\n",
      "                                                                        '13:56:11',\n",
      "                                                                  'unit': '',\n",
      "                                                                  'val_mapping': {'bus': 'COMM',\n",
      "                                                                                  'external': 'EXT',\n",
      "                                                                                  'front-panel': 'DISP',\n",
      "                                                                                  'immediate': 'NONE',\n",
      "                                                                                  'notify1': 'NOT1',\n",
      "                                                                                  'notify2': 'NOT2',\n",
      "                                                                                  'notify3': 'NOT3',\n",
      "                                                                                  'timer1': 'TIM1',\n",
      "                                                                                  'timer2': 'TIM2',\n",
      "                                                                                  'timer3': 'TIM3',\n",
      "                                                                                  'timer4': 'TIM4'},\n",
      "                                                                  'vals': '<Enum: '\n",
      "                                                                          \"{'notify3', \"\n",
      "                                                                          \"'immediate', \"\n",
      "                                                                          \"'timer4', \"\n",
      "                                                                          \"'external', \"\n",
      "                                                                          \"'bus', \"\n",
      "                                                                          \"'timer1', \"\n",
      "                                                                          \"'notify1', \"\n",
      "                                                                          \"'timer3', \"\n",
      "                                                                          \"'front-panel', \"\n",
      "                                                                          \"'notify2', \"\n",
      "                                                                          \"'timer2'}>\",\n",
      "                                                                  'value': 'immediate'},\n",
      "                                              'trigger4_delay': {'__class__': 'qcodes.parameters.parameter.Parameter',\n",
      "                                                                 'full_name': 'keithley1_trigger4_delay',\n",
      "                                                                 'instrument': 'qcodes.instrument_drivers.tektronix.Keithley_6500.Keithley_6500',\n",
      "                                                                 'instrument_name': 'keithley1',\n",
      "                                                                 'inter_delay': 0,\n",
      "                                                                 'label': 'trigger4_delay',\n",
      "                                                                 'name': 'trigger4_delay',\n",
      "                                                                 'post_delay': 0,\n",
      "                                                                 'raw_value': '1E-05',\n",
      "                                                                 'ts': '2024-05-17 '\n",
      "                                                                       '13:56:11',\n",
      "                                                                 'unit': 's',\n",
      "                                                                 'vals': '<Numbers '\n",
      "                                                                         '0<=v<=999999.999>',\n",
      "                                                                 'value': 1e-05},\n",
      "                                              'trigger4_source': {'__class__': 'qcodes.parameters.parameter.Parameter',\n",
      "                                                                  'full_name': 'keithley1_trigger4_source',\n",
      "                                                                  'instrument': 'qcodes.instrument_drivers.tektronix.Keithley_6500.Keithley_6500',\n",
      "                                                                  'instrument_name': 'keithley1',\n",
      "                                                                  'inter_delay': 0,\n",
      "                                                                  'label': 'trigger4_source',\n",
      "                                                                  'name': 'trigger4_source',\n",
      "                                                                  'post_delay': 0,\n",
      "                                                                  'raw_value': 'NONE',\n",
      "                                                                  'ts': '2024-05-17 '\n",
      "                                                                        '13:56:11',\n",
      "                                                                  'unit': '',\n",
      "                                                                  'val_mapping': {'bus': 'COMM',\n",
      "                                                                                  'external': 'EXT',\n",
      "                                                                                  'front-panel': 'DISP',\n",
      "                                                                                  'immediate': 'NONE',\n",
      "                                                                                  'notify1': 'NOT1',\n",
      "                                                                                  'notify2': 'NOT2',\n",
      "                                                                                  'notify3': 'NOT3',\n",
      "                                                                                  'timer1': 'TIM1',\n",
      "                                                                                  'timer2': 'TIM2',\n",
      "                                                                                  'timer3': 'TIM3',\n",
      "                                                                                  'timer4': 'TIM4'},\n",
      "                                                                  'vals': '<Enum: '\n",
      "                                                                          \"{'notify3', \"\n",
      "                                                                          \"'immediate', \"\n",
      "                                                                          \"'timer4', \"\n",
      "                                                                          \"'external', \"\n",
      "                                                                          \"'bus', \"\n",
      "                                                                          \"'timer1', \"\n",
      "                                                                          \"'notify1', \"\n",
      "                                                                          \"'timer3', \"\n",
      "                                                                          \"'front-panel', \"\n",
      "                                                                          \"'notify2', \"\n",
      "                                                                          \"'timer2'}>\",\n",
      "                                                                  'value': 'immediate'},\n",
      "                                              'trigger_count': {'__class__': 'qcodes.parameters.parameter.Parameter',\n",
      "                                                                'full_name': 'keithley1_trigger_count',\n",
      "                                                                'instrument': 'qcodes.instrument_drivers.tektronix.Keithley_6500.Keithley_6500',\n",
      "                                                                'instrument_name': 'keithley1',\n",
      "                                                                'inter_delay': 0,\n",
      "                                                                'label': 'trigger_count',\n",
      "                                                                'name': 'trigger_count',\n",
      "                                                                'post_delay': 0,\n",
      "                                                                'raw_value': '1',\n",
      "                                                                'ts': '2024-05-17 '\n",
      "                                                                      '13:56:11',\n",
      "                                                                'unit': '',\n",
      "                                                                'vals': '<MultiType: '\n",
      "                                                                        'Ints '\n",
      "                                                                        '1<=v<=9999, '\n",
      "                                                                        'Enum: '\n",
      "                                                                        \"{'inf', \"\n",
      "                                                                        \"'default', \"\n",
      "                                                                        \"'maximum', \"\n",
      "                                                                        \"'minimum'}>\",\n",
      "                                                                'value': 1},\n",
      "                                              'trigger_timer': {'__class__': 'qcodes.parameters.parameter.Parameter',\n",
      "                                                                'full_name': 'keithley1_trigger_timer',\n",
      "                                                                'instrument': 'qcodes.instrument_drivers.tektronix.Keithley_6500.Keithley_6500',\n",
      "                                                                'instrument_name': 'keithley1',\n",
      "                                                                'inter_delay': 0,\n",
      "                                                                'label': 'trigger_timer',\n",
      "                                                                'name': 'trigger_timer',\n",
      "                                                                'post_delay': 0,\n",
      "                                                                'raw_value': '0',\n",
      "                                                                'ts': '2024-05-17 '\n",
      "                                                                      '13:56:11',\n",
      "                                                                'unit': 's',\n",
      "                                                                'vals': '<Numbers '\n",
      "                                                                        '0<=v<=999999.999>',\n",
      "                                                                'value': 0.0}},\n",
      "                               'read_terminator': '\\n',\n",
      "                               'submodules': {},\n",
      "                               'terminator': '\\n',\n",
      "                               'timeout': 10.0,\n",
      "                               'write_terminator': '\\n'},\n",
      "                 'keithley_19': {'__class__': 'qcodes.instrument_drivers.Keithley.Keithley_2400.Keithley2400',\n",
      "                                 'address': 'GPIB0::19::INSTR',\n",
      "                                 'functions': {},\n",
      "                                 'label': 'keithley_19',\n",
      "                                 'name': 'keithley_19',\n",
      "                                 'parameters': {'IDN': {'__class__': 'qcodes.parameters.parameter.Parameter',\n",
      "                                                        'full_name': 'keithley_19_IDN',\n",
      "                                                        'instrument': 'qcodes.instrument_drivers.Keithley.Keithley_2400.Keithley2400',\n",
      "                                                        'instrument_name': 'keithley_19',\n",
      "                                                        'inter_delay': 0,\n",
      "                                                        'label': 'IDN',\n",
      "                                                        'name': 'IDN',\n",
      "                                                        'post_delay': 0,\n",
      "                                                        'raw_value': {'firmware': 'C32   '\n",
      "                                                                                  'Oct  '\n",
      "                                                                                  '4 '\n",
      "                                                                                  '2010 '\n",
      "                                                                                  '14:20:11/A02  '\n",
      "                                                                                  '/K/M',\n",
      "                                                                      'model': '2400',\n",
      "                                                                      'serial': '0957985',\n",
      "                                                                      'vendor': 'KEITHLEY '\n",
      "                                                                                'INSTRUMENTS '\n",
      "                                                                                'INC.'},\n",
      "                                                        'ts': '2024-05-17 '\n",
      "                                                              '13:56:11',\n",
      "                                                        'unit': '',\n",
      "                                                        'vals': '<Anything>',\n",
      "                                                        'value': {'firmware': 'C32   '\n",
      "                                                                              'Oct  '\n",
      "                                                                              '4 '\n",
      "                                                                              '2010 '\n",
      "                                                                              '14:20:11/A02  '\n",
      "                                                                              '/K/M',\n",
      "                                                                  'model': '2400',\n",
      "                                                                  'serial': '0957985',\n",
      "                                                                  'vendor': 'KEITHLEY '\n",
      "                                                                            'INSTRUMENTS '\n",
      "                                                                            'INC.'}},\n",
      "                                                'compliancei': {'__class__': 'qcodes.parameters.parameter.Parameter',\n",
      "                                                                'full_name': 'keithley_19_compliancei',\n",
      "                                                                'instrument': 'qcodes.instrument_drivers.Keithley.Keithley_2400.Keithley2400',\n",
      "                                                                'instrument_name': 'keithley_19',\n",
      "                                                                'inter_delay': 0,\n",
      "                                                                'label': 'Current '\n",
      "                                                                         'Compliance',\n",
      "                                                                'name': 'compliancei',\n",
      "                                                                'post_delay': 0,\n",
      "                                                                'raw_value': '1.050000E-04',\n",
      "                                                                'ts': '2024-05-17 '\n",
      "                                                                      '13:56:11',\n",
      "                                                                'unit': '',\n",
      "                                                                'value': 0.000105},\n",
      "                                                'compliancev': {'__class__': 'qcodes.parameters.parameter.Parameter',\n",
      "                                                                'full_name': 'keithley_19_compliancev',\n",
      "                                                                'instrument': 'qcodes.instrument_drivers.Keithley.Keithley_2400.Keithley2400',\n",
      "                                                                'instrument_name': 'keithley_19',\n",
      "                                                                'inter_delay': 0,\n",
      "                                                                'label': 'Voltage '\n",
      "                                                                         'Compliance',\n",
      "                                                                'name': 'compliancev',\n",
      "                                                                'post_delay': 0,\n",
      "                                                                'raw_value': '2.100000E+01',\n",
      "                                                                'ts': '2024-05-17 '\n",
      "                                                                      '13:56:11',\n",
      "                                                                'unit': '',\n",
      "                                                                'value': 21.0},\n",
      "                                                'curr': {'__class__': 'qcodes.parameters.parameter.Parameter',\n",
      "                                                         'full_name': 'keithley_19_curr',\n",
      "                                                         'instrument': 'qcodes.instrument_drivers.Keithley.Keithley_2400.Keithley2400',\n",
      "                                                         'instrument_name': 'keithley_19',\n",
      "                                                         'inter_delay': 0,\n",
      "                                                         'label': 'Current',\n",
      "                                                         'name': 'curr',\n",
      "                                                         'post_delay': 0,\n",
      "                                                         'raw_value': None,\n",
      "                                                         'ts': None,\n",
      "                                                         'unit': 'A',\n",
      "                                                         'value': None},\n",
      "                                                'mode': {'__class__': 'qcodes.parameters.parameter.Parameter',\n",
      "                                                         'full_name': 'keithley_19_mode',\n",
      "                                                         'instrument': 'qcodes.instrument_drivers.Keithley.Keithley_2400.Keithley2400',\n",
      "                                                         'instrument_name': 'keithley_19',\n",
      "                                                         'inter_delay': 0,\n",
      "                                                         'label': 'Mode',\n",
      "                                                         'name': 'mode',\n",
      "                                                         'post_delay': 0,\n",
      "                                                         'raw_value': 'VOLT',\n",
      "                                                         'ts': '2024-05-17 '\n",
      "                                                               '13:56:11',\n",
      "                                                         'unit': '',\n",
      "                                                         'vals': '<Enum: '\n",
      "                                                                 \"{'CURR', \"\n",
      "                                                                 \"'VOLT'}>\",\n",
      "                                                         'value': 'VOLT'},\n",
      "                                                'nplci': {'__class__': 'qcodes.parameters.parameter.Parameter',\n",
      "                                                          'full_name': 'keithley_19_nplci',\n",
      "                                                          'instrument': 'qcodes.instrument_drivers.Keithley.Keithley_2400.Keithley2400',\n",
      "                                                          'instrument_name': 'keithley_19',\n",
      "                                                          'inter_delay': 0,\n",
      "                                                          'label': 'Current '\n",
      "                                                                   'integration '\n",
      "                                                                   'time',\n",
      "                                                          'name': 'nplci',\n",
      "                                                          'post_delay': 0,\n",
      "                                                          'raw_value': '1.00',\n",
      "                                                          'ts': '2024-05-17 '\n",
      "                                                                '13:56:11',\n",
      "                                                          'unit': '',\n",
      "                                                          'value': 1.0},\n",
      "                                                'nplcv': {'__class__': 'qcodes.parameters.parameter.Parameter',\n",
      "                                                          'full_name': 'keithley_19_nplcv',\n",
      "                                                          'instrument': 'qcodes.instrument_drivers.Keithley.Keithley_2400.Keithley2400',\n",
      "                                                          'instrument_name': 'keithley_19',\n",
      "                                                          'inter_delay': 0,\n",
      "                                                          'label': 'Voltage '\n",
      "                                                                   'integration '\n",
      "                                                                   'time',\n",
      "                                                          'name': 'nplcv',\n",
      "                                                          'post_delay': 0,\n",
      "                                                          'raw_value': '1.00',\n",
      "                                                          'ts': '2024-05-17 '\n",
      "                                                                '13:56:11',\n",
      "                                                          'unit': '',\n",
      "                                                          'value': 1.0},\n",
      "                                                'output': {'__class__': 'qcodes.parameters.parameter.Parameter',\n",
      "                                                           'full_name': 'keithley_19_output',\n",
      "                                                           'instrument': 'qcodes.instrument_drivers.Keithley.Keithley_2400.Keithley2400',\n",
      "                                                           'instrument_name': 'keithley_19',\n",
      "                                                           'inter_delay': 0,\n",
      "                                                           'label': 'output',\n",
      "                                                           'name': 'output',\n",
      "                                                           'post_delay': 0,\n",
      "                                                           'raw_value': '0',\n",
      "                                                           'ts': '2024-05-17 '\n",
      "                                                                 '13:56:11',\n",
      "                                                           'unit': '',\n",
      "                                                           'val_mapping': OrderedDict([('On',\n",
      "                                                                                        '1'),\n",
      "                                                                                       ('ON',\n",
      "                                                                                        '1'),\n",
      "                                                                                       ('on',\n",
      "                                                                                        '1'),\n",
      "                                                                                       ('1',\n",
      "                                                                                        '1'),\n",
      "                                                                                       (True,\n",
      "                                                                                        '1'),\n",
      "                                                                                       ('Off',\n",
      "                                                                                        '0'),\n",
      "                                                                                       ('OFF',\n",
      "                                                                                        '0'),\n",
      "                                                                                       ('off',\n",
      "                                                                                        '0'),\n",
      "                                                                                       ('0',\n",
      "                                                                                        '0'),\n",
      "                                                                                       (False,\n",
      "                                                                                        '0')]),\n",
      "                                                           'vals': '<Enum: '\n",
      "                                                                   '{False, '\n",
      "                                                                   'True, '\n",
      "                                                                   \"'Off', \"\n",
      "                                                                   \"'On', \"\n",
      "                                                                   \"'off', \"\n",
      "                                                                   \"'0', \"\n",
      "                                                                   \"'OFF', \"\n",
      "                                                                   \"'1', 'ON', \"\n",
      "                                                                   \"'on'}>\",\n",
      "                                                           'value': False},\n",
      "                                                'rangei': {'__class__': 'qcodes.parameters.parameter.Parameter',\n",
      "                                                           'full_name': 'keithley_19_rangei',\n",
      "                                                           'instrument': 'qcodes.instrument_drivers.Keithley.Keithley_2400.Keithley2400',\n",
      "                                                           'instrument_name': 'keithley_19',\n",
      "                                                           'inter_delay': 0,\n",
      "                                                           'label': 'Current '\n",
      "                                                                    'range',\n",
      "                                                           'name': 'rangei',\n",
      "                                                           'post_delay': 0,\n",
      "                                                           'raw_value': '1.050000E-04',\n",
      "                                                           'ts': '2024-05-17 '\n",
      "                                                                 '13:56:11',\n",
      "                                                           'unit': '',\n",
      "                                                           'value': 0.000105},\n",
      "                                                'rangev': {'__class__': 'qcodes.parameters.parameter.Parameter',\n",
      "                                                           'full_name': 'keithley_19_rangev',\n",
      "                                                           'instrument': 'qcodes.instrument_drivers.Keithley.Keithley_2400.Keithley2400',\n",
      "                                                           'instrument_name': 'keithley_19',\n",
      "                                                           'inter_delay': 0,\n",
      "                                                           'label': 'Voltage '\n",
      "                                                                    'range',\n",
      "                                                           'name': 'rangev',\n",
      "                                                           'post_delay': 0,\n",
      "                                                           'raw_value': '21.00',\n",
      "                                                           'ts': '2024-05-17 '\n",
      "                                                                 '13:56:11',\n",
      "                                                           'unit': '',\n",
      "                                                           'value': 21.0},\n",
      "                                                'resistance': {'__class__': 'qcodes.parameters.parameter.Parameter',\n",
      "                                                               'full_name': 'keithley_19_resistance',\n",
      "                                                               'instrument': 'qcodes.instrument_drivers.Keithley.Keithley_2400.Keithley2400',\n",
      "                                                               'instrument_name': 'keithley_19',\n",
      "                                                               'inter_delay': 0,\n",
      "                                                               'label': 'Resistance',\n",
      "                                                               'name': 'resistance',\n",
      "                                                               'post_delay': 0,\n",
      "                                                               'raw_value': None,\n",
      "                                                               'ts': None,\n",
      "                                                               'unit': 'Ohm',\n",
      "                                                               'value': None},\n",
      "                                                'sense': {'__class__': 'qcodes.parameters.parameter.Parameter',\n",
      "                                                          'full_name': 'keithley_19_sense',\n",
      "                                                          'instrument': 'qcodes.instrument_drivers.Keithley.Keithley_2400.Keithley2400',\n",
      "                                                          'instrument_name': 'keithley_19',\n",
      "                                                          'inter_delay': 0,\n",
      "                                                          'label': 'Sense mode',\n",
      "                                                          'name': 'sense',\n",
      "                                                          'post_delay': 0,\n",
      "                                                          'raw_value': '\"CURR:DC\"',\n",
      "                                                          'ts': '2024-05-17 '\n",
      "                                                                '13:56:11',\n",
      "                                                          'unit': '',\n",
      "                                                          'vals': '<Strings>',\n",
      "                                                          'value': '\"CURR:DC\"'},\n",
      "                                                'timeout': {'__class__': 'qcodes.parameters.parameter.Parameter',\n",
      "                                                            'full_name': 'keithley_19_timeout',\n",
      "                                                            'instrument': 'qcodes.instrument_drivers.Keithley.Keithley_2400.Keithley2400',\n",
      "                                                            'instrument_name': 'keithley_19',\n",
      "                                                            'inter_delay': 0,\n",
      "                                                            'label': 'timeout',\n",
      "                                                            'name': 'timeout',\n",
      "                                                            'post_delay': 0,\n",
      "                                                            'raw_value': 10.0,\n",
      "                                                            'ts': '2024-05-17 '\n",
      "                                                                  '13:56:11',\n",
      "                                                            'unit': 's',\n",
      "                                                            'vals': '<MultiType: '\n",
      "                                                                    'Numbers '\n",
      "                                                                    'v>=0, '\n",
      "                                                                    'Enum: '\n",
      "                                                                    '{None}>',\n",
      "                                                            'value': 10.0},\n",
      "                                                'volt': {'__class__': 'qcodes.parameters.parameter.Parameter',\n",
      "                                                         'full_name': 'keithley_19_volt',\n",
      "                                                         'instrument': 'qcodes.instrument_drivers.Keithley.Keithley_2400.Keithley2400',\n",
      "                                                         'instrument_name': 'keithley_19',\n",
      "                                                         'inter_delay': 0,\n",
      "                                                         'label': 'Voltage',\n",
      "                                                         'name': 'volt',\n",
      "                                                         'post_delay': 0,\n",
      "                                                         'raw_value': None,\n",
      "                                                         'ts': None,\n",
      "                                                         'unit': 'V',\n",
      "                                                         'value': None}},\n",
      "                                 'read_terminator': '\\n',\n",
      "                                 'submodules': {},\n",
      "                                 'terminator': '\\n',\n",
      "                                 'timeout': 10.0,\n",
      "                                 'write_terminator': '\\n'},\n",
      "                 'keithley_24': {'__class__': 'qcodes.instrument_drivers.Keithley.Keithley_2400.Keithley2400',\n",
      "                                 'address': 'GPIB0::22::INSTR',\n",
      "                                 'functions': {},\n",
      "                                 'label': 'keithley_24',\n",
      "                                 'name': 'keithley_24',\n",
      "                                 'parameters': {'IDN': {'__class__': 'qcodes.parameters.parameter.Parameter',\n",
      "                                                        'full_name': 'keithley_24_IDN',\n",
      "                                                        'instrument': 'qcodes.instrument_drivers.Keithley.Keithley_2400.Keithley2400',\n",
      "                                                        'instrument_name': 'keithley_24',\n",
      "                                                        'inter_delay': 0,\n",
      "                                                        'label': 'IDN',\n",
      "                                                        'name': 'IDN',\n",
      "                                                        'post_delay': 0,\n",
      "                                                        'raw_value': {'firmware': 'C30   '\n",
      "                                                                                  'Mar '\n",
      "                                                                                  '17 '\n",
      "                                                                                  '2006 '\n",
      "                                                                                  '09:29:29/A02  '\n",
      "                                                                                  '/B/A',\n",
      "                                                                      'model': '2440',\n",
      "                                                                      'serial': '1225508',\n",
      "                                                                      'vendor': 'KEITHLEY '\n",
      "                                                                                'INSTRUMENTS '\n",
      "                                                                                'INC.'},\n",
      "                                                        'ts': '2024-05-17 '\n",
      "                                                              '13:56:11',\n",
      "                                                        'unit': '',\n",
      "                                                        'vals': '<Anything>',\n",
      "                                                        'value': {'firmware': 'C30   '\n",
      "                                                                              'Mar '\n",
      "                                                                              '17 '\n",
      "                                                                              '2006 '\n",
      "                                                                              '09:29:29/A02  '\n",
      "                                                                              '/B/A',\n",
      "                                                                  'model': '2440',\n",
      "                                                                  'serial': '1225508',\n",
      "                                                                  'vendor': 'KEITHLEY '\n",
      "                                                                            'INSTRUMENTS '\n",
      "                                                                            'INC.'}},\n",
      "                                                'compliancei': {'__class__': 'qcodes.parameters.parameter.Parameter',\n",
      "                                                                'full_name': 'keithley_24_compliancei',\n",
      "                                                                'instrument': 'qcodes.instrument_drivers.Keithley.Keithley_2400.Keithley2400',\n",
      "                                                                'instrument_name': 'keithley_24',\n",
      "                                                                'inter_delay': 0,\n",
      "                                                                'label': 'Current '\n",
      "                                                                         'Compliance',\n",
      "                                                                'name': 'compliancei',\n",
      "                                                                'post_delay': 0,\n",
      "                                                                'raw_value': '1.050000E-04',\n",
      "                                                                'ts': '2024-05-17 '\n",
      "                                                                      '13:56:11',\n",
      "                                                                'unit': '',\n",
      "                                                                'value': 0.000105},\n",
      "                                                'compliancev': {'__class__': 'qcodes.parameters.parameter.Parameter',\n",
      "                                                                'full_name': 'keithley_24_compliancev',\n",
      "                                                                'instrument': 'qcodes.instrument_drivers.Keithley.Keithley_2400.Keithley2400',\n",
      "                                                                'instrument_name': 'keithley_24',\n",
      "                                                                'inter_delay': 0,\n",
      "                                                                'label': 'Voltage '\n",
      "                                                                         'Compliance',\n",
      "                                                                'name': 'compliancev',\n",
      "                                                                'post_delay': 0,\n",
      "                                                                'raw_value': '1.050000E+01',\n",
      "                                                                'ts': '2024-05-17 '\n",
      "                                                                      '13:56:11',\n",
      "                                                                'unit': '',\n",
      "                                                                'value': 10.5},\n",
      "                                                'curr': {'__class__': 'qcodes.parameters.parameter.Parameter',\n",
      "                                                         'full_name': 'keithley_24_curr',\n",
      "                                                         'instrument': 'qcodes.instrument_drivers.Keithley.Keithley_2400.Keithley2400',\n",
      "                                                         'instrument_name': 'keithley_24',\n",
      "                                                         'inter_delay': 0,\n",
      "                                                         'label': 'Current',\n",
      "                                                         'name': 'curr',\n",
      "                                                         'post_delay': 0,\n",
      "                                                         'raw_value': None,\n",
      "                                                         'ts': None,\n",
      "                                                         'unit': 'A',\n",
      "                                                         'value': None},\n",
      "                                                'mode': {'__class__': 'qcodes.parameters.parameter.Parameter',\n",
      "                                                         'full_name': 'keithley_24_mode',\n",
      "                                                         'instrument': 'qcodes.instrument_drivers.Keithley.Keithley_2400.Keithley2400',\n",
      "                                                         'instrument_name': 'keithley_24',\n",
      "                                                         'inter_delay': 0,\n",
      "                                                         'label': 'Mode',\n",
      "                                                         'name': 'mode',\n",
      "                                                         'post_delay': 0,\n",
      "                                                         'raw_value': 'VOLT',\n",
      "                                                         'ts': '2024-05-17 '\n",
      "                                                               '13:56:11',\n",
      "                                                         'unit': '',\n",
      "                                                         'vals': '<Enum: '\n",
      "                                                                 \"{'CURR', \"\n",
      "                                                                 \"'VOLT'}>\",\n",
      "                                                         'value': 'VOLT'},\n",
      "                                                'nplci': {'__class__': 'qcodes.parameters.parameter.Parameter',\n",
      "                                                          'full_name': 'keithley_24_nplci',\n",
      "                                                          'instrument': 'qcodes.instrument_drivers.Keithley.Keithley_2400.Keithley2400',\n",
      "                                                          'instrument_name': 'keithley_24',\n",
      "                                                          'inter_delay': 0,\n",
      "                                                          'label': 'Current '\n",
      "                                                                   'integration '\n",
      "                                                                   'time',\n",
      "                                                          'name': 'nplci',\n",
      "                                                          'post_delay': 0,\n",
      "                                                          'raw_value': '1.00',\n",
      "                                                          'ts': '2024-05-17 '\n",
      "                                                                '13:56:11',\n",
      "                                                          'unit': '',\n",
      "                                                          'value': 1.0},\n",
      "                                                'nplcv': {'__class__': 'qcodes.parameters.parameter.Parameter',\n",
      "                                                          'full_name': 'keithley_24_nplcv',\n",
      "                                                          'instrument': 'qcodes.instrument_drivers.Keithley.Keithley_2400.Keithley2400',\n",
      "                                                          'instrument_name': 'keithley_24',\n",
      "                                                          'inter_delay': 0,\n",
      "                                                          'label': 'Voltage '\n",
      "                                                                   'integration '\n",
      "                                                                   'time',\n",
      "                                                          'name': 'nplcv',\n",
      "                                                          'post_delay': 0,\n",
      "                                                          'raw_value': '1.00',\n",
      "                                                          'ts': '2024-05-17 '\n",
      "                                                                '13:56:11',\n",
      "                                                          'unit': '',\n",
      "                                                          'value': 1.0},\n",
      "                                                'output': {'__class__': 'qcodes.parameters.parameter.Parameter',\n",
      "                                                           'full_name': 'keithley_24_output',\n",
      "                                                           'instrument': 'qcodes.instrument_drivers.Keithley.Keithley_2400.Keithley2400',\n",
      "                                                           'instrument_name': 'keithley_24',\n",
      "                                                           'inter_delay': 0,\n",
      "                                                           'label': 'output',\n",
      "                                                           'name': 'output',\n",
      "                                                           'post_delay': 0,\n",
      "                                                           'raw_value': '0',\n",
      "                                                           'ts': '2024-05-17 '\n",
      "                                                                 '13:56:11',\n",
      "                                                           'unit': '',\n",
      "                                                           'val_mapping': OrderedDict([('On',\n",
      "                                                                                        '1'),\n",
      "                                                                                       ('ON',\n",
      "                                                                                        '1'),\n",
      "                                                                                       ('on',\n",
      "                                                                                        '1'),\n",
      "                                                                                       ('1',\n",
      "                                                                                        '1'),\n",
      "                                                                                       (True,\n",
      "                                                                                        '1'),\n",
      "                                                                                       ('Off',\n",
      "                                                                                        '0'),\n",
      "                                                                                       ('OFF',\n",
      "                                                                                        '0'),\n",
      "                                                                                       ('off',\n",
      "                                                                                        '0'),\n",
      "                                                                                       ('0',\n",
      "                                                                                        '0'),\n",
      "                                                                                       (False,\n",
      "                                                                                        '0')]),\n",
      "                                                           'vals': '<Enum: '\n",
      "                                                                   '{False, '\n",
      "                                                                   'True, '\n",
      "                                                                   \"'Off', \"\n",
      "                                                                   \"'On', \"\n",
      "                                                                   \"'off', \"\n",
      "                                                                   \"'0', \"\n",
      "                                                                   \"'OFF', \"\n",
      "                                                                   \"'1', 'ON', \"\n",
      "                                                                   \"'on'}>\",\n",
      "                                                           'value': False},\n",
      "                                                'rangei': {'__class__': 'qcodes.parameters.parameter.Parameter',\n",
      "                                                           'full_name': 'keithley_24_rangei',\n",
      "                                                           'instrument': 'qcodes.instrument_drivers.Keithley.Keithley_2400.Keithley2400',\n",
      "                                                           'instrument_name': 'keithley_24',\n",
      "                                                           'inter_delay': 0,\n",
      "                                                           'label': 'Current '\n",
      "                                                                    'range',\n",
      "                                                           'name': 'rangei',\n",
      "                                                           'post_delay': 0,\n",
      "                                                           'raw_value': '1.050000E-04',\n",
      "                                                           'ts': '2024-05-17 '\n",
      "                                                                 '13:56:11',\n",
      "                                                           'unit': '',\n",
      "                                                           'value': 0.000105},\n",
      "                                                'rangev': {'__class__': 'qcodes.parameters.parameter.Parameter',\n",
      "                                                           'full_name': 'keithley_24_rangev',\n",
      "                                                           'instrument': 'qcodes.instrument_drivers.Keithley.Keithley_2400.Keithley2400',\n",
      "                                                           'instrument_name': 'keithley_24',\n",
      "                                                           'inter_delay': 0,\n",
      "                                                           'label': 'Voltage '\n",
      "                                                                    'range',\n",
      "                                                           'name': 'rangev',\n",
      "                                                           'post_delay': 0,\n",
      "                                                           'raw_value': '10.50',\n",
      "                                                           'ts': '2024-05-17 '\n",
      "                                                                 '13:56:11',\n",
      "                                                           'unit': '',\n",
      "                                                           'value': 10.5},\n",
      "                                                'resistance': {'__class__': 'qcodes.parameters.parameter.Parameter',\n",
      "                                                               'full_name': 'keithley_24_resistance',\n",
      "                                                               'instrument': 'qcodes.instrument_drivers.Keithley.Keithley_2400.Keithley2400',\n",
      "                                                               'instrument_name': 'keithley_24',\n",
      "                                                               'inter_delay': 0,\n",
      "                                                               'label': 'Resistance',\n",
      "                                                               'name': 'resistance',\n",
      "                                                               'post_delay': 0,\n",
      "                                                               'raw_value': None,\n",
      "                                                               'ts': None,\n",
      "                                                               'unit': 'Ohm',\n",
      "                                                               'value': None},\n",
      "                                                'sense': {'__class__': 'qcodes.parameters.parameter.Parameter',\n",
      "                                                          'full_name': 'keithley_24_sense',\n",
      "                                                          'instrument': 'qcodes.instrument_drivers.Keithley.Keithley_2400.Keithley2400',\n",
      "                                                          'instrument_name': 'keithley_24',\n",
      "                                                          'inter_delay': 0,\n",
      "                                                          'label': 'Sense mode',\n",
      "                                                          'name': 'sense',\n",
      "                                                          'post_delay': 0,\n",
      "                                                          'raw_value': '\"CURR:DC\"',\n",
      "                                                          'ts': '2024-05-17 '\n",
      "                                                                '13:56:11',\n",
      "                                                          'unit': '',\n",
      "                                                          'vals': '<Strings>',\n",
      "                                                          'value': '\"CURR:DC\"'},\n",
      "                                                'timeout': {'__class__': 'qcodes.parameters.parameter.Parameter',\n",
      "                                                            'full_name': 'keithley_24_timeout',\n",
      "                                                            'instrument': 'qcodes.instrument_drivers.Keithley.Keithley_2400.Keithley2400',\n",
      "                                                            'instrument_name': 'keithley_24',\n",
      "                                                            'inter_delay': 0,\n",
      "                                                            'label': 'timeout',\n",
      "                                                            'name': 'timeout',\n",
      "                                                            'post_delay': 0,\n",
      "                                                            'raw_value': 10.0,\n",
      "                                                            'ts': '2024-05-17 '\n",
      "                                                                  '13:56:11',\n",
      "                                                            'unit': 's',\n",
      "                                                            'vals': '<MultiType: '\n",
      "                                                                    'Numbers '\n",
      "                                                                    'v>=0, '\n",
      "                                                                    'Enum: '\n",
      "                                                                    '{None}>',\n",
      "                                                            'value': 10.0},\n",
      "                                                'volt': {'__class__': 'qcodes.parameters.parameter.Parameter',\n",
      "                                                         'full_name': 'keithley_24_volt',\n",
      "                                                         'instrument': 'qcodes.instrument_drivers.Keithley.Keithley_2400.Keithley2400',\n",
      "                                                         'instrument_name': 'keithley_24',\n",
      "                                                         'inter_delay': 0,\n",
      "                                                         'label': 'Voltage',\n",
      "                                                         'name': 'volt',\n",
      "                                                         'post_delay': 0,\n",
      "                                                         'raw_value': None,\n",
      "                                                         'ts': None,\n",
      "                                                         'unit': 'V',\n",
      "                                                         'value': None}},\n",
      "                                 'read_terminator': '\\n',\n",
      "                                 'submodules': {},\n",
      "                                 'terminator': '\\n',\n",
      "                                 'timeout': 10.0,\n",
      "                                 'write_terminator': '\\n'}},\n",
      " 'parameters': {}}\n"
     ]
    }
   ],
   "source": [
    "snapshot_of_station = station.snapshot()\n",
    "pprint(snapshot_of_station)"
   ]
  },
  {
   "cell_type": "markdown",
   "id": "4757b159",
   "metadata": {},
   "source": [
    "## DAC Kei 2440"
   ]
  },
  {
   "cell_type": "markdown",
   "id": "797b994c",
   "metadata": {},
   "source": [
    "### sensitive check"
   ]
  },
  {
   "cell_type": "code",
   "execution_count": 5,
   "id": "f387f69b",
   "metadata": {},
   "outputs": [],
   "source": [
    "keithley_24.mode('VOLT') # 'VOLT' or 'CURR'"
   ]
  },
  {
   "cell_type": "code",
   "execution_count": 6,
   "id": "09a8a36e",
   "metadata": {},
   "outputs": [
    {
     "name": "stdout",
     "output_type": "stream",
     "text": [
      "6.382627e-05\n"
     ]
    }
   ],
   "source": [
    "keithley_24.output(1) # output on, 1 for on and 0 for off  \n",
    "keithley_24.rangev(2) # 200 mV, 2 V, 10 V and 40 V \n",
    "keithley_24.volt(-0.1)\n",
    "keithley_24.compliancei(100e-3)\n",
    "# keithley_24.output(0) #output off\n",
    "sleep(1)\n",
    "v_read=keithley1.amplitude()\n",
    "print(v_read)"
   ]
  },
  {
   "cell_type": "code",
   "execution_count": 7,
   "id": "fa57130c",
   "metadata": {},
   "outputs": [],
   "source": [
    "keithley_24.volt(0)\n",
    "keithley_24.output(0) #output off"
   ]
  },
  {
   "cell_type": "code",
   "execution_count": 8,
   "id": "9efee8f3",
   "metadata": {},
   "outputs": [
    {
     "data": {
      "text/plain": [
       "2.1"
      ]
     },
     "execution_count": 8,
     "metadata": {},
     "output_type": "execute_result"
    }
   ],
   "source": [
    "keithley_24.rangev(2)\n",
    "keithley_24.rangev()"
   ]
  },
  {
   "cell_type": "code",
   "execution_count": 9,
   "id": "8b25a389",
   "metadata": {},
   "outputs": [
    {
     "data": {
      "text/plain": [
       "2.1"
      ]
     },
     "execution_count": 9,
     "metadata": {},
     "output_type": "execute_result"
    }
   ],
   "source": [
    "keithley_24.rangev()"
   ]
  },
  {
   "cell_type": "markdown",
   "id": "105706bc",
   "metadata": {},
   "source": [
    "## TG 2400"
   ]
  },
  {
   "cell_type": "code",
   "execution_count": 10,
   "id": "cdc19f1b",
   "metadata": {},
   "outputs": [
    {
     "name": "stdout",
     "output_type": "stream",
     "text": [
      "6.27356e-05\n"
     ]
    }
   ],
   "source": [
    "keithley_19.output(1) # output on\n",
    "keithley_19.rangev(22) # 200 mV, 2 V, 20 V and 200 V \n",
    "keithley_19.volt(0)\n",
    "keithley_19.compliancei(100e-3)\n",
    "# keithley_24.output(0) #output off\n",
    "sleep(1)\n",
    "v_read=keithley1.amplitude()\n",
    "print(v_read)"
   ]
  },
  {
   "cell_type": "code",
   "execution_count": 11,
   "id": "e971a620",
   "metadata": {},
   "outputs": [],
   "source": [
    "keithley_19.volt(1)\n",
    "keithley_19.output(0) #output off"
   ]
  },
  {
   "cell_type": "code",
   "execution_count": 32,
   "id": "e284050c",
   "metadata": {},
   "outputs": [
    {
     "data": {
      "text/plain": [
       "21.0"
      ]
     },
     "execution_count": 32,
     "metadata": {},
     "output_type": "execute_result"
    }
   ],
   "source": [
    "keithley_19.rangev(10)\n",
    "keithley_19.rangev()"
   ]
  },
  {
   "cell_type": "markdown",
   "id": "c676ccb5",
   "metadata": {},
   "source": [
    "##  Database initialisation"
   ]
  },
  {
   "cell_type": "code",
   "execution_count": 13,
   "id": "7b665bc4",
   "metadata": {},
   "outputs": [
    {
     "name": "stdout",
     "output_type": "stream",
     "text": [
      "Using existing database file:\n",
      "c:\\qcodes\\personal_scripts\\data\\qcodes_personal_scripts_2024-05-17_01.db\n"
     ]
    }
   ],
   "source": [
    "reuse = True\n",
    "%run ..\\..\\init_database.py {reuse}"
   ]
  },
  {
   "cell_type": "markdown",
   "id": "6a8a2beb",
   "metadata": {},
   "source": [
    "\n",
    "# Scaled parameters"
   ]
  },
  {
   "cell_type": "code",
   "execution_count": 14,
   "id": "e3b44b31",
   "metadata": {},
   "outputs": [],
   "source": [
    "from qcodes import ManualParameter, ScaledParameter"
   ]
  },
  {
   "cell_type": "markdown",
   "id": "ea4ff57a",
   "metadata": {},
   "source": [
    "## Defining scaled parameters"
   ]
  },
  {
   "cell_type": "code",
   "execution_count": 15,
   "id": "c8ca5b97",
   "metadata": {},
   "outputs": [
    {
     "data": {
      "text/plain": [
       "'Gain_L2'"
      ]
     },
     "execution_count": 15,
     "metadata": {},
     "output_type": "execute_result"
    }
   ],
   "source": [
    "Irange = Parameter('Irange', label='current range', unit='', set_cmd=None, get_cmd=None)\n",
    "Vrange = Parameter('Vrange', label='voltage range', unit='', set_cmd=None, get_cmd=None)\n",
    "TGrange = Parameter('TGrange', label='Top gate range', unit='', set_cmd=None, get_cmd=None)\n",
    "\n",
    "#division paraemtrs required for simplier update: they used as an argument for scaled paraemtrs of sorce instruments\n",
    "\n",
    "# Irange_division = Parameter('Irange_division', \n",
    "#                             label='scaled current range', unit='', \n",
    "#                             set_cmd=None, get_cmd=lambda : 100 / Irange())\n",
    "\n",
    "Irange_division = Parameter('Irange_division', \n",
    "                            label='scaled current range', unit='', \n",
    "                            set_cmd=None, get_cmd=lambda : 1 / Irange())\n",
    "\n",
    "Vrange_division = Parameter('Vrange_division', \n",
    "                            label='scaled voltage range', unit='', \n",
    "                            set_cmd=None, get_cmd=lambda : 1 / Vrange())\n",
    "\n",
    "TGrange_division = Parameter('TGrange_division', \n",
    "                             label='scaled Top gate range', unit='', \n",
    "                             set_cmd=None, get_cmd=lambda : 1 / TGrange())\n",
    "\n",
    "Irange_AC_division = Parameter('Irange_AC_division', \n",
    "                               label='scaled current range for lockin', unit='', \n",
    "                               set_cmd=None, get_cmd=lambda : 100 / Irange())\n",
    "\n",
    "Vrange_AC_division = Parameter('Vrange_AC_division', \n",
    "                               label='scaled voltage range for lockin', unit='', \n",
    "                               set_cmd=None, get_cmd=lambda : 100 / Vrange())\n",
    "\n",
    "Gain_K1 = Parameter('Gain_K1', label='Gain K1', unit='', set_cmd=None, get_cmd=None)\n",
    "Gain_K2 = Parameter('Gain_K2', label='Gain K2', unit='', set_cmd=None, get_cmd=None)\n",
    "Gain_L1 = Parameter('Gain_L1', label='Gain L1', unit='', set_cmd=None, get_cmd=None)\n",
    "Gain_L2 = Parameter('Gain_L2', label='Gain L2', unit='', set_cmd=None, get_cmd=None)\n",
    "\n",
    "#Add components\n",
    "station.add_component(Irange)\n",
    "station.add_component(Vrange)\n",
    "station.add_component(TGrange)\n",
    "\n",
    "station.add_component(Irange_division)\n",
    "station.add_component(Vrange_division)\n",
    "station.add_component(TGrange_division)\n",
    "\n",
    "station.add_component(Irange_AC_division)\n",
    "station.add_component(Vrange_AC_division)\n",
    "                             \n",
    "station.add_component(Gain_K1)\n",
    "station.add_component(Gain_K2)\n",
    "station.add_component(Gain_L1)\n",
    "station.add_component(Gain_L2)"
   ]
  },
  {
   "cell_type": "markdown",
   "id": "6d7ecebe",
   "metadata": {},
   "source": [
    "## Parameters - update here during measuerements"
   ]
  },
  {
   "cell_type": "code",
   "execution_count": 16,
   "id": "b0b09fcc",
   "metadata": {},
   "outputs": [],
   "source": [
    "Irange.set(1e-6)\n",
    "Vrange.set(1) ## need to be sync with K213 range\n",
    "TGrange.set(1)\n",
    "Gain_K1.set(1e6)\n",
    "Gain_K2.set(1e6)\n",
    "# Gain_K3.set(1e2)\n",
    "Gain_L1.set(Gain_K1())\n",
    "Gain_L2.set(Gain_K2())\n",
    "#division parameters are updated automatically"
   ]
  },
  {
   "cell_type": "markdown",
   "id": "cbe7bfa7",
   "metadata": {},
   "source": [
    "## DC parameters"
   ]
  },
  {
   "cell_type": "code",
   "execution_count": 17,
   "id": "6a8c7deb",
   "metadata": {},
   "outputs": [
    {
     "data": {
      "text/plain": [
       "'meas_current_K2'"
      ]
     },
     "execution_count": 17,
     "metadata": {},
     "output_type": "execute_result"
    }
   ],
   "source": [
    "# appl_current = ScaledParameter(ivvi.dac1, division = Irange_division, name = 'appl_current', unit = 'A')\n",
    "appl_current = ScaledParameter(keithley_24.volt, division = Irange_division, name = 'appl_current', unit = 'A')\n",
    "# for K213\n",
    "# appl_current = ScaledParameter(K213.voltage1, division = Irange_division, name = 'appl_current', unit = 'A')\n",
    "appl_voltage = ScaledParameter(keithley_24.volt, division = Vrange_division, name = 'appl_voltage', unit = 'V')\n",
    "appl_TG = ScaledParameter(keithley_19.volt, division = TGrange_division, name = 'appl_TG', unit = 'V')\n",
    "\n",
    "# meas_voltage_K1 = ScaledParameter(keithley_1.amplitude, division = Gain_K1, name = 'meas_voltage_K1', unit = 'V')\n",
    "meas_voltage_K2 = ScaledParameter(keithley1.amplitude, division = Gain_K2, name = 'meas_voltage_K2', unit = 'V')\n",
    "\n",
    "#meas_leakage = ScaledParameter(keithley_2.amplitude, division = Gain_K2, name = 'meas_leakage', unit = 'A')\n",
    "\n",
    "# meas_current_K1 = ScaledParameter(keithley_1.amplitude, division = Gain_K1, name = 'meas_current_K1', unit = 'A')\n",
    "meas_current_K2 = ScaledParameter(keithley1.amplitude, division = Gain_K2, name = 'meas_current_K2', unit = 'A')\n",
    "\n",
    "station.add_component(appl_current)\n",
    "station.add_component(appl_voltage)\n",
    "station.add_component(appl_TG)\n",
    "# station.add_component(meas_voltage_K1)\n",
    "station.add_component(meas_voltage_K2)\n",
    "#station.add_component(meas_leakage)\n",
    "# station.add_component(meas_current_K1)\n",
    "station.add_component(meas_current_K2)"
   ]
  },
  {
   "cell_type": "markdown",
   "id": "3a1ea7ec",
   "metadata": {},
   "source": [
    "# Zero Everything"
   ]
  },
  {
   "cell_type": "code",
   "execution_count": 44,
   "id": "3851dc82",
   "metadata": {},
   "outputs": [],
   "source": [
    "keithley_24.output(0)\n",
    "keithley_19.output(0)\n",
    "appl_current(0)\n",
    "sleep(1)\n",
    "# meas_voltage_K2()"
   ]
  },
  {
   "cell_type": "markdown",
   "id": "a23afd58",
   "metadata": {},
   "source": [
    "##  AC parameters"
   ]
  },
  {
   "cell_type": "code",
   "execution_count": null,
   "id": "769f6a51",
   "metadata": {},
   "outputs": [],
   "source": [
    "appl_current_AC = ScaledParameter(lockin_1.amplitude, division = Irange_AC_division, name = 'appl_current_AC', unit = 'A')\n",
    "appl_voltage_AC = ScaledParameter(lockin_1.amplitude, division = Vrange_AC_division, name = 'appl_voltage_AC', unit = 'V')\n",
    "\n",
    "station.add_component(appl_current_AC)\n",
    "station.add_component(appl_voltage_AC)\n",
    "\n",
    "meas_voltage_AC_L1 = ScaledParameter(lockin_1.X, division = Gain_L1, name = 'meas_voltage_Lockin1', unit = 'V')\n",
    "meas_current_AC_L1 = ScaledParameter(lockin_1.X, division = Gain_L1, name = 'meas_current_Lockin1', unit = 'A')\n",
    "meas_phase_AC_L1 = ScaledParameter(lockin_1.P, division = 1, name = 'meas_phase_Lockin1', unit = 'degree')\n",
    "\n",
    "\n",
    "# meas_voltage_AC_L2 = ScaledParameter(lockin_2.X, division = Gain_L2, name = 'meas_voltage_Lockin2', unit = 'V')\n",
    "# meas_current_AC_L2 = ScaledParameter(lockin_2.X, division = Gain_L2, name = 'meas_current_Lockin2', unit = 'A')\n",
    "# meas_phase_AC_L2 = ScaledParameter(lockin_2.P, division = 1, name = 'meas_phase_Lockin1', unit = 'degree')\n",
    "\n",
    "station.add_component(meas_voltage_AC_L1)\n",
    "station.add_component(meas_current_AC_L1)\n",
    "station.add_component(meas_phase_AC_L1)\n",
    "\n",
    "# station.add_component(meas_voltage_AC_L2)\n",
    "# station.add_component(meas_current_AC_L2)\n",
    "\n",
    "meas_voltage_AC_L1_R = ScaledParameter(lockin_1.R, division = Gain_L1, name = 'meas_voltage_R_Lockin1', unit = 'V')\n",
    "# meas_voltage_AC_L2_R = ScaledParameter(lockin_2.R, division = Gain_L2, name = 'meas_voltage_R_Lockin2', unit = 'V')\n",
    "\n",
    "station.add_component(meas_voltage_AC_L1_R)\n",
    "# station.add_component(meas_voltage_AC_L2_R)"
   ]
  },
  {
   "cell_type": "code",
   "execution_count": null,
   "id": "bcd10ed7",
   "metadata": {},
   "outputs": [],
   "source": [
    "meas_voltage_AC_L1_P = ScaledParameter(lockin_1.P, division = 1, name = 'meas_voltage_Lockin1_P', unit = 'degree')\n",
    "meas_current_AC_L1_P = ScaledParameter(lockin_1.P, division = 1, name = 'meas_current_Lockin1_P', unit = 'degree')\n",
    "\n",
    "# meas_voltage_AC_L2_P = ScaledParameter(lockin_2.P, division = 1, name = 'meas_voltage_Lockin2_P', unit = 'degree')\n",
    "# meas_current_AC_L2_P = ScaledParameter(lockin_2.P, division = 1, name = 'meas_current_Lockin2_P', unit = 'degree')\n",
    "\n",
    "station.add_component(meas_voltage_AC_L1_P)\n",
    "station.add_component(meas_current_AC_L1_P)\n",
    "\n",
    "# station.add_component(meas_voltage_AC_L2_P)\n",
    "# station.add_component(meas_current_AC_L2_P)"
   ]
  },
  {
   "cell_type": "markdown",
   "id": "8d9d6239",
   "metadata": {},
   "source": [
    "## Another useful example: magnet using dac (Janis)"
   ]
  },
  {
   "cell_type": "markdown",
   "id": "92e1f309",
   "metadata": {},
   "source": [
    ">2231.2 G per A => 0.22312 T per A<br>\n",
    "I source 10mA per V => 1e-5 A per 1mV<br>\n",
    "result: 0.22312 T/A * 1e-5 A/mV"
   ]
  },
  {
   "cell_type": "code",
   "execution_count": 22,
   "id": "6b2b657a",
   "metadata": {},
   "outputs": [],
   "source": [
    "def get_R_from_IV(dataid):\n",
    "    dataset = qc.load_by_id(dataid)\n",
    "\n",
    "    voltage = dataset.get_parameter_data()['meas_voltage_K2']['meas_voltage_K2']\n",
    "    current = dataset.get_parameter_data()['meas_voltage_K2']['appl_current']\n",
    "    fit_values = np.polyfit(current,voltage,1)\n",
    "    \n",
    "    return fit_values[0]\n",
    "\n",
    "def get_R_from_IV_2(dataid):\n",
    "    dataset = qc.load_by_id(dataid)\n",
    "\n",
    "    voltage = dataset.get_parameter_data()['meas_voltage_K2']['meas_voltage_K2']\n",
    "    current = dataset.get_parameter_data()['meas_voltage_K2']['appl_current']\n",
    "    fit_values = np.polyfit(current,voltage,1)\n",
    "    \n",
    "    return fit_values[0]"
   ]
  },
  {
   "cell_type": "code",
   "execution_count": 23,
   "id": "051cc7f1",
   "metadata": {},
   "outputs": [],
   "source": [
    "def get_R_from_VI(dataid):\n",
    "    dataset = qc.load_by_id(dataid)\n",
    "\n",
    "    current = dataset.get_parameter_data()['meas_current_K2']['meas_current_K2']\n",
    "    voltage = dataset.get_parameter_data()['meas_current_K2']['appl_voltage']\n",
    "    fit_values = np.polyfit(current,voltage,1)\n",
    "    \n",
    "    return fit_values[0]\n",
    "\n",
    "def get_R_from_VI_2(dataid):\n",
    "    dataset = qc.load_by_id(dataid)\n",
    "\n",
    "    current = dataset.get_parameter_data()['meas_current_K2']['meas_current_K2']\n",
    "    voltage = dataset.get_parameter_data()['meas_current_K2']['appl_voltage']\n",
    "    fit_values = np.polyfit(current,voltage,1)\n",
    "    \n",
    "    return fit_values[0]"
   ]
  },
  {
   "cell_type": "markdown",
   "id": "6fc71cd6",
   "metadata": {},
   "source": [
    "# Simple VIs"
   ]
  },
  {
   "cell_type": "markdown",
   "id": "f16e13c8",
   "metadata": {},
   "source": [
    "## VI"
   ]
  },
  {
   "cell_type": "code",
   "execution_count": 26,
   "id": "b9a4978d",
   "metadata": {},
   "outputs": [
    {
     "name": "stdout",
     "output_type": "stream",
     "text": [
      "Starting experimental run with id: 32. \n"
     ]
    },
    {
     "data": {
      "application/vnd.jupyter.widget-view+json": {
       "model_id": "c2489d6808734c8787f658f2f2e6c522",
       "version_major": 2,
       "version_minor": 0
      },
      "text/plain": [
       "  0%|          | 0/101 [00:00<?, ?it/s]"
      ]
     },
     "metadata": {},
     "output_type": "display_data"
    },
    {
     "name": "stderr",
     "output_type": "stream",
     "text": [
      "Trying to mark a run completed that was already completed.\n"
     ]
    },
    {
     "name": "stdout",
     "output_type": "stream",
     "text": [
      "39927933529.24469\n"
     ]
    },
    {
     "data": {
      "image/png": "[encoded data removed]",
      "text/plain": [
       "<Figure size 640x480 with 1 Axes>"
      ]
     },
     "metadata": {},
     "output_type": "display_data"
    }
   ],
   "source": [
    "keithley_24.output(1)\n",
    "appl_voltage(-1)\n",
    "sleep(5)\n",
    "# station.snapshot(update=True);\n",
    "exp = qc.new_experiment('V vs I', sample_name='VI_MoS2_006_35_38_v_-1_1')\n",
    "#d_o1d(param_set, start, stop, num_points, delay, *param_meas)\n",
    "\n",
    "dataid = do1d(appl_voltage,-1 ,1, 101, 0.1, meas_current_K2)\n",
    "# dataid = do1d(appl_current, 6e-6 , -6e-6, 251, 0.01, meas_voltage_K1)\n",
    "# ivvi.set_dacs_zero()\n",
    "\n",
    "appl_voltage(0)\n",
    "plot_by_id(dataid)\n",
    "print(get_R_from_VI(dataid))\n",
    "#print(get_R_from_IV_2(dataid))\n",
    "keithley_24.output(0)"
   ]
  },
  {
   "cell_type": "code",
   "execution_count": 27,
   "id": "8f0a7cf2",
   "metadata": {},
   "outputs": [
    {
     "data": {
      "text/plain": [
       "39927.93352924469"
      ]
     },
     "execution_count": 27,
     "metadata": {},
     "output_type": "execute_result"
    }
   ],
   "source": [
    "get_R_from_VI(32)/1e6"
   ]
  },
  {
   "cell_type": "markdown",
   "id": "ad9c5f81",
   "metadata": {},
   "source": [
    "## 加TG (1D)"
   ]
  },
  {
   "cell_type": "code",
   "execution_count": 47,
   "id": "1a59e959",
   "metadata": {},
   "outputs": [
    {
     "name": "stdout",
     "output_type": "stream",
     "text": [
      "Starting experimental run with id: 40. \n"
     ]
    },
    {
     "data": {
      "application/vnd.jupyter.widget-view+json": {
       "model_id": "5ab960b91f72427f9965217db82372aa",
       "version_major": 2,
       "version_minor": 0
      },
      "text/plain": [
       "  0%|          | 0/100 [00:00<?, ?it/s]"
      ]
     },
     "metadata": {},
     "output_type": "display_data"
    },
    {
     "name": "stderr",
     "output_type": "stream",
     "text": [
      "Trying to mark a run completed that was already completed.\n"
     ]
    },
    {
     "name": "stdout",
     "output_type": "stream",
     "text": [
      "74738412.80674565\n"
     ]
    },
    {
     "data": {
      "image/png": "[encoded data removed]",
      "text/plain": [
       "<Figure size 640x480 with 1 Axes>"
      ]
     },
     "metadata": {},
     "output_type": "display_data"
    }
   ],
   "source": [
    "keithley_24.output(1)\n",
    "keithley_19.output(1)\n",
    "appl_voltage(1)\n",
    "sleep(5)\n",
    "appl_TG(5)\n",
    "sleep(5)\n",
    "# appl_TG(10)\n",
    "# sleep(5)\n",
    "# appl_TG(15)\n",
    "# sleep(5)\n",
    "# appl_TG(20)\n",
    "# sleep(5)\n",
    "# appl_TG(25)\n",
    "# sleep(5)\n",
    "# appl_TG(30)\n",
    "# sleep(5)\n",
    "# appl_TG(35)\n",
    "# sleep(5)\n",
    "# appl_TG(40)\n",
    "# sleep(5)\n",
    "\n",
    "\n",
    "# station.snapshot(update=True);\n",
    "exp = qc.new_experiment('V vs I', sample_name='VI_MoS2_006_35_38, G_19=5V v_0.5_0')\n",
    "#d_o1d(param_set, start, stop, num_points, delay, *param_meas)\n",
    "\n",
    "dataid = do1d(appl_voltage,0.5 ,0, 100, 0.1, meas_current_K2)\n",
    "# dataid = do1d(appl_current, 6e-6 , -6e-6, 251, 0.01, meas_voltage_K1)\n",
    "# ivvi.set_dacs_zero()\n",
    "\n",
    "appl_TG(0)\n",
    "appl_voltage(0)\n",
    "plot_by_id(dataid)\n",
    "print(get_R_from_VI(dataid))\n",
    "#print(get_R_from_IV_2(dataid))\n",
    "keithley_24.output(0)\n",
    "keithley_19.output(0)"
   ]
  },
  {
   "cell_type": "code",
   "execution_count": null,
   "id": "89ce3bd0",
   "metadata": {},
   "outputs": [],
   "source": [
    "get_R_from_VI(100)/1e6"
   ]
  },
  {
   "cell_type": "markdown",
   "id": "885e5c90",
   "metadata": {},
   "source": [
    "# Simple IVs"
   ]
  },
  {
   "cell_type": "markdown",
   "id": "cdb6884c",
   "metadata": {},
   "source": [
    "## IV"
   ]
  },
  {
   "cell_type": "code",
   "execution_count": null,
   "id": "526687d1",
   "metadata": {},
   "outputs": [],
   "source": [
    "magnet_y.field()"
   ]
  },
  {
   "cell_type": "code",
   "execution_count": null,
   "id": "8666f593",
   "metadata": {},
   "outputs": [],
   "source": [
    "sleep(1)\n"
   ]
  },
  {
   "cell_type": "code",
   "execution_count": null,
   "id": "8ef87d04",
   "metadata": {},
   "outputs": [],
   "source": [
    "keithley_24.output(1)\n",
    "appl_voltage(-0.1)\n",
    "appl_TG(5)\n",
    "sleep(5)\n",
    "appl_TG(10)\n",
    "sleep(5)\n",
    "appl_TG(15)\n",
    "sleep(5)\n",
    "appl_TG(20)\n",
    "sleep(5)\n",
    "# station.snapshot(update=True);\n",
    "exp = qc.new_experiment('V vs I', sample_name='VI_36-37, G-19=1V')\n",
    "#d_o1d(param_set, start, stop, num_points, delay, *param_meas)\n",
    "\n",
    "dataid = do1d(appl_voltage,-0.1 ,0.1, 101, 0.05, meas_current_K2)\n",
    "# dataid = do1d(appl_current, 6e-6 , -6e-6, 251, 0.01, meas_voltage_K1)\n",
    "# ivvi.set_dacs_zero()\n",
    "\n",
    "appl_voltage(0)\n",
    "plot_by_id(dataid)\n",
    "print(get_R_from_VI(dataid))\n",
    "#print(get_R_from_IV_2(dataid))\n",
    "keithley_24.output(0)"
   ]
  },
  {
   "cell_type": "code",
   "execution_count": null,
   "id": "4ce7045d",
   "metadata": {},
   "outputs": [],
   "source": [
    "keithley_24.output(1)\n",
    "appl_current(0.0e-6)\n",
    "keithley_24.output(0)\n",
    "#appl_current(0e-6)"
   ]
  },
  {
   "cell_type": "code",
   "execution_count": null,
   "id": "9f4da299",
   "metadata": {},
   "outputs": [],
   "source": [
    "runid=349\n",
    "print(get_R_from_IV_2(runid))"
   ]
  },
  {
   "cell_type": "markdown",
   "id": "3196b90e",
   "metadata": {},
   "source": [
    "## 加TG (1D)"
   ]
  },
  {
   "cell_type": "code",
   "execution_count": 43,
   "id": "08a5e298",
   "metadata": {},
   "outputs": [],
   "source": [
    "keithley_19.output(1)\n",
    "appl_TG(0)"
   ]
  },
  {
   "cell_type": "code",
   "execution_count": null,
   "id": "a6f95af5",
   "metadata": {},
   "outputs": [],
   "source": [
    "keithley_19.output(1)\n",
    "keithley_24.output(1)\n",
    "appl_TG(30)\n",
    "sleep(3)\n",
    "appl_current(-1.5e-6)\n",
    "sleep(1)\n",
    "\n",
    "# station.snapshot(update=True);\n",
    "exp = qc.new_experiment('IV', sample_name='35_J2')\n",
    "\n",
    "#do1d(param_set, start, stop, num_points, delay, *param_meas)\n",
    "dataid = do1d(appl_current, -1.5e-6 ,1.5e-6, 101, 0.05, meas_voltage_K2)\n",
    "# dataid = do1d(appl_current, 6e-6 , -6e-6, 251, 0.01, meas_voltage_K1)\n",
    "# ivvi.set_dacs_zero()\n",
    "\n",
    "keithley_19.output(0)\n",
    "keithley_24.output(0)\n",
    "appl_current(0)\n",
    "plot_by_id(dataid)\n",
    "#print(get_R_from_IV(dataid))\n",
    "# print(get_R_from_IV_2(dataid))\n"
   ]
  },
  {
   "cell_type": "markdown",
   "id": "05b0d19b",
   "metadata": {},
   "source": [
    "## 歸零\n"
   ]
  },
  {
   "cell_type": "code",
   "execution_count": null,
   "id": "d8154670",
   "metadata": {},
   "outputs": [],
   "source": [
    "#keithley_19.output(1)\n",
    "keithley_24.output(1)\n",
    "\n",
    "appl_current(0)\n",
    "sleep(1)\n",
    "appl_TG(0)\n",
    "sleep(5)\n",
    "\n",
    "#keithley_19.output(0)\n",
    "keithley_24.output(0)"
   ]
  },
  {
   "cell_type": "markdown",
   "id": "91795bf5",
   "metadata": {},
   "source": [
    "# Magnetic field"
   ]
  },
  {
   "cell_type": "markdown",
   "id": "c1b88abd",
   "metadata": {},
   "source": [
    "## IV vs Bx"
   ]
  },
  {
   "cell_type": "code",
   "execution_count": null,
   "id": "77c31bf1",
   "metadata": {},
   "outputs": [],
   "source": [
    "keithley_24.rangev()"
   ]
  },
  {
   "cell_type": "code",
   "execution_count": null,
   "id": "ea5d8a7d",
   "metadata": {},
   "outputs": [],
   "source": [
    "keithley_24.volt(0)\n",
    "keithley_24.output(1) #output off\n",
    "sleep(1)\n",
    "appl_current(1.5e-6)\n",
    "sleep(2)\n",
    "meas_voltage_K2()"
   ]
  },
  {
   "cell_type": "code",
   "execution_count": null,
   "id": "a7146905",
   "metadata": {
    "scrolled": true
   },
   "outputs": [],
   "source": [
    "keithley_24.output(1)\n",
    "sleep(2)\n",
    "magnet_x.field(-5e-3)\n",
    "appl_current(-0.8e-6)\n",
    "sleep(5)\n",
    "\n",
    "# station.snapshot(update=True);\n",
    "\n",
    "exp = qc.new_experiment('IV vs Bx', sample_name='IV_Bx_-5to-30mT')\n",
    "\n",
    "dataid = do2d(magnet_x.field, -5e-3, -30e-3, 4001, 1, appl_current, -0.8e-6 ,1e-6, 101, 0.01, meas_voltage_K2)\n",
    "\n",
    "appl_current(0)\n",
    "# magnet_x.field(0)\n",
    "\n",
    "plot_by_id(dataid)\n",
    "\n",
    "keithley_24.output(0)\n",
    "#keithley_24.output(0)\n",
    "#appl_current(0e-6)"
   ]
  },
  {
   "cell_type": "code",
   "execution_count": null,
   "id": "fef193a7",
   "metadata": {},
   "outputs": [],
   "source": [
    "magnet_x.field(-20e-3)\n",
    "sleep(5)\n",
    "\n",
    "magnet_x.field(-17.24e-3)\n",
    "sleep(5)"
   ]
  },
  {
   "cell_type": "markdown",
   "id": "6a6f3c0d",
   "metadata": {},
   "source": [
    "## IV vs By"
   ]
  },
  {
   "cell_type": "code",
   "execution_count": null,
   "id": "3bb422e0",
   "metadata": {
    "scrolled": true
   },
   "outputs": [],
   "source": [
    "keithley_24.output(1)\n",
    "sleep(2)\n",
    "magnet_y.field(3e-3)\n",
    "sleep(3)\n",
    "appl_current(-2e-7)\n",
    "sleep(5)\n",
    "\n",
    "# station.snapshot(update=True);\n",
    "\n",
    "exp = qc.new_experiment('IV vs By', sample_name='IV_By_3mT')\n",
    "\n",
    "dataid = do2d(magnet_y.field, 3e-3, 1e-3, 200 , 1, appl_current, -2e-7 ,2e-7, 101, 0.01, meas_voltage_K2)\n",
    "\n",
    "appl_current(0)\n",
    "keithley_24.output(0)\n",
    "# magnet_y.field(0)\n",
    "\n",
    "plot_by_id(dataid)"
   ]
  },
  {
   "cell_type": "code",
   "execution_count": null,
   "id": "3e408864",
   "metadata": {},
   "outputs": [],
   "source": [
    "magnet_y.field(-1e-3)\n",
    "sleep(5)\n",
    "magnet_y.field(-80e-6)\n",
    "sleep(5)"
   ]
  },
  {
   "cell_type": "markdown",
   "id": "02c81568",
   "metadata": {},
   "source": [
    "## IV w/ Bx"
   ]
  },
  {
   "cell_type": "code",
   "execution_count": null,
   "id": "b5229271",
   "metadata": {},
   "outputs": [],
   "source": [
    "keithley_24.output(1)\n",
    "sleep(2)\n",
    "magnet_x.field(0.23e-3)\n",
    "appl_current(-0.5e-6)\n",
    "sleep(10)\n",
    "\n",
    "# station.snapshot(update=True);\n",
    "exp = qc.new_experiment('I vs V', sample_name='IV_w/_Bx')\n",
    "\n",
    "#do1d(param_set, start, stop, num_points, delay, *param_meas)\n",
    "dataid = do1d(appl_current, -0.5e-6 ,0.5e-6, 101, 0.05, meas_voltage_K2)\n",
    "# dataid = do1d(appl_current, 6e-6 , -6e-6, 251, 0.01, meas_voltage_K1)\n",
    "# ivvi.set_dacs_zero()\n",
    "\n",
    "appl_current(0)\n",
    "plot_by_id(dataid)\n",
    "# print(get_R_from_IV(dataid))\n",
    "#print(get_R_from_IV_2(dataid))\n",
    "\n",
    "keithley_24.output(0)"
   ]
  },
  {
   "cell_type": "markdown",
   "id": "27ac85cd",
   "metadata": {},
   "source": [
    "## IV w/ By"
   ]
  },
  {
   "cell_type": "code",
   "execution_count": null,
   "id": "b7c3a84d",
   "metadata": {},
   "outputs": [],
   "source": [
    "keithley_24.output(1)\n",
    "sleep(2)\n",
    "magnet_y.field(2e-3)\n",
    "appl_current(-1.5e-5)\n",
    "sleep(60)\n",
    "\n",
    "# station.snapshot(update=True);\n",
    "exp = qc.new_experiment('I vs V', sample_name='IV_w/_By')\n",
    "\n",
    "#do1d(param_set, start, stop, num_points, delay, *param_meas)\n",
    "dataid = do1d(appl_current, -2.5e-6 ,2.5e-6, 501, 0.05, meas_voltage_K2)\n",
    "# dataid = do1d(appl_current, 6e-6 , -6e-6, 251, 0.01, meas_voltage_K1)\n",
    "# ivvi.set_dacs_zero()\n",
    "\n",
    "appl_current(0)\n",
    "plot_by_id(dataid)\n",
    "# print(get_R_from_IV(dataid))\n",
    "#print(get_R_from_IV_2(dataid))\n",
    "\n",
    "keithley_24.output(0)"
   ]
  },
  {
   "cell_type": "markdown",
   "id": "d0274abc",
   "metadata": {},
   "source": [
    "# Zero everything"
   ]
  },
  {
   "cell_type": "code",
   "execution_count": null,
   "id": "a0cc99f2",
   "metadata": {},
   "outputs": [],
   "source": [
    "appl_current(0)\n",
    "#appl_TG(0)\n",
    "magnet_y.field(0)\n",
    "sleep(2)\n",
    "magnet_x.field(0)\n",
    "sleep(2)\n",
    "#appl_voltage_AC(0.004)\n",
    "#SGS.off()\n",
    "keithley_24.output(0)"
   ]
  },
  {
   "cell_type": "markdown",
   "id": "6610bce1",
   "metadata": {},
   "source": [
    "# Gate simple sweeps"
   ]
  },
  {
   "cell_type": "markdown",
   "id": "c010fbad",
   "metadata": {},
   "source": [
    "## 加TG (2D)"
   ]
  },
  {
   "cell_type": "code",
   "execution_count": 48,
   "id": "6d7e9bf6",
   "metadata": {},
   "outputs": [],
   "source": [
    "appl_current(0)\n",
    "sleep(1)\n",
    "appl_TG(0)\n",
    "sleep(5)"
   ]
  },
  {
   "cell_type": "code",
   "execution_count": null,
   "id": "be01663b",
   "metadata": {},
   "outputs": [],
   "source": [
    "magnet_x.field(-0.044e-3)\n",
    "sleep(10)\n",
    "magnet_y.field(-6.016e-3)\n",
    "sleep(10)"
   ]
  },
  {
   "cell_type": "code",
   "execution_count": 49,
   "id": "5397630e",
   "metadata": {
    "scrolled": true
   },
   "outputs": [
    {
     "name": "stdout",
     "output_type": "stream",
     "text": [
      "Starting experimental run with id: 41. \n"
     ]
    },
    {
     "data": {
      "application/vnd.jupyter.widget-view+json": {
       "model_id": "a2269a1a6fa04bada467b0cd86774d39",
       "version_major": 2,
       "version_minor": 0
      },
      "text/plain": [
       "first parameter:   0%|          | 0/101 [00:00<?, ?it/s]"
      ]
     },
     "metadata": {},
     "output_type": "display_data"
    },
    {
     "data": {
      "application/vnd.jupyter.widget-view+json": {
       "model_id": "f9813aed9cf74ec38850c41d89ca48ee",
       "version_major": 2,
       "version_minor": 0
      },
      "text/plain": [
       "nested  parameter:   0%|          | 0/101 [00:00<?, ?it/s]"
      ]
     },
     "metadata": {},
     "output_type": "display_data"
    },
    {
     "data": {
      "application/vnd.jupyter.widget-view+json": {
       "model_id": "3a06b8e63e8a4a709e95fc55a71438d1",
       "version_major": 2,
       "version_minor": 0
      },
      "text/plain": [
       "nested  parameter:   0%|          | 0/101 [00:00<?, ?it/s]"
      ]
     },
     "metadata": {},
     "output_type": "display_data"
    },
    {
     "data": {
      "application/vnd.jupyter.widget-view+json": {
       "model_id": "d04b9c73b5014b9893084f24aae2ec9c",
       "version_major": 2,
       "version_minor": 0
      },
      "text/plain": [
       "nested  parameter:   0%|          | 0/101 [00:00<?, ?it/s]"
      ]
     },
     "metadata": {},
     "output_type": "display_data"
    },
    {
     "data": {
      "application/vnd.jupyter.widget-view+json": {
       "model_id": "1be7dbf159a74046b8af80f39908ee7a",
       "version_major": 2,
       "version_minor": 0
      },
      "text/plain": [
       "nested  parameter:   0%|          | 0/101 [00:00<?, ?it/s]"
      ]
     },
     "metadata": {},
     "output_type": "display_data"
    },
    {
     "data": {
      "application/vnd.jupyter.widget-view+json": {
       "model_id": "fa89a9f111824855b10db90ef7b57c84",
       "version_major": 2,
       "version_minor": 0
      },
      "text/plain": [
       "nested  parameter:   0%|          | 0/101 [00:00<?, ?it/s]"
      ]
     },
     "metadata": {},
     "output_type": "display_data"
    },
    {
     "data": {
      "application/vnd.jupyter.widget-view+json": {
       "model_id": "e0d44c8bceed43d9b9676d754c4a659d",
       "version_major": 2,
       "version_minor": 0
      },
      "text/plain": [
       "nested  parameter:   0%|          | 0/101 [00:00<?, ?it/s]"
      ]
     },
     "metadata": {},
     "output_type": "display_data"
    },
    {
     "data": {
      "application/vnd.jupyter.widget-view+json": {
       "model_id": "1da75a5176e44bd7bcbb7dec4245e5f5",
       "version_major": 2,
       "version_minor": 0
      },
      "text/plain": [
       "nested  parameter:   0%|          | 0/101 [00:00<?, ?it/s]"
      ]
     },
     "metadata": {},
     "output_type": "display_data"
    },
    {
     "data": {
      "application/vnd.jupyter.widget-view+json": {
       "model_id": "de7b011f9d654c3c99150d1292865508",
       "version_major": 2,
       "version_minor": 0
      },
      "text/plain": [
       "nested  parameter:   0%|          | 0/101 [00:00<?, ?it/s]"
      ]
     },
     "metadata": {},
     "output_type": "display_data"
    },
    {
     "data": {
      "application/vnd.jupyter.widget-view+json": {
       "model_id": "4676d371b88c41309d840f4c6ac7d95d",
       "version_major": 2,
       "version_minor": 0
      },
      "text/plain": [
       "nested  parameter:   0%|          | 0/101 [00:00<?, ?it/s]"
      ]
     },
     "metadata": {},
     "output_type": "display_data"
    },
    {
     "data": {
      "application/vnd.jupyter.widget-view+json": {
       "model_id": "38c458d69554483c95fdc9fc1bcbc1c5",
       "version_major": 2,
       "version_minor": 0
      },
      "text/plain": [
       "nested  parameter:   0%|          | 0/101 [00:00<?, ?it/s]"
      ]
     },
     "metadata": {},
     "output_type": "display_data"
    },
    {
     "data": {
      "application/vnd.jupyter.widget-view+json": {
       "model_id": "f87e5f97a51a48a1977155534f974bd1",
       "version_major": 2,
       "version_minor": 0
      },
      "text/plain": [
       "nested  parameter:   0%|          | 0/101 [00:00<?, ?it/s]"
      ]
     },
     "metadata": {},
     "output_type": "display_data"
    },
    {
     "data": {
      "application/vnd.jupyter.widget-view+json": {
       "model_id": "da37142954924e968a59289ee4bb13b4",
       "version_major": 2,
       "version_minor": 0
      },
      "text/plain": [
       "nested  parameter:   0%|          | 0/101 [00:00<?, ?it/s]"
      ]
     },
     "metadata": {},
     "output_type": "display_data"
    },
    {
     "data": {
      "application/vnd.jupyter.widget-view+json": {
       "model_id": "8b54ee8f30da4473ac41d7aae3827991",
       "version_major": 2,
       "version_minor": 0
      },
      "text/plain": [
       "nested  parameter:   0%|          | 0/101 [00:00<?, ?it/s]"
      ]
     },
     "metadata": {},
     "output_type": "display_data"
    },
    {
     "data": {
      "application/vnd.jupyter.widget-view+json": {
       "model_id": "3027cafa5c9e4458ac13406415f9c98a",
       "version_major": 2,
       "version_minor": 0
      },
      "text/plain": [
       "nested  parameter:   0%|          | 0/101 [00:00<?, ?it/s]"
      ]
     },
     "metadata": {},
     "output_type": "display_data"
    },
    {
     "data": {
      "application/vnd.jupyter.widget-view+json": {
       "model_id": "e73ca80c9d144aadbc798606587be698",
       "version_major": 2,
       "version_minor": 0
      },
      "text/plain": [
       "nested  parameter:   0%|          | 0/101 [00:00<?, ?it/s]"
      ]
     },
     "metadata": {},
     "output_type": "display_data"
    },
    {
     "data": {
      "application/vnd.jupyter.widget-view+json": {
       "model_id": "deb5fbab343944dc8c828cc5c04ecdd5",
       "version_major": 2,
       "version_minor": 0
      },
      "text/plain": [
       "nested  parameter:   0%|          | 0/101 [00:00<?, ?it/s]"
      ]
     },
     "metadata": {},
     "output_type": "display_data"
    },
    {
     "data": {
      "application/vnd.jupyter.widget-view+json": {
       "model_id": "954037bac54f4cb5a16113fc22835a7c",
       "version_major": 2,
       "version_minor": 0
      },
      "text/plain": [
       "nested  parameter:   0%|          | 0/101 [00:00<?, ?it/s]"
      ]
     },
     "metadata": {},
     "output_type": "display_data"
    },
    {
     "data": {
      "application/vnd.jupyter.widget-view+json": {
       "model_id": "9b52ead554584c5096fece8855f1c038",
       "version_major": 2,
       "version_minor": 0
      },
      "text/plain": [
       "nested  parameter:   0%|          | 0/101 [00:00<?, ?it/s]"
      ]
     },
     "metadata": {},
     "output_type": "display_data"
    },
    {
     "data": {
      "application/vnd.jupyter.widget-view+json": {
       "model_id": "bc07cde7e63542418364d9dc34f28463",
       "version_major": 2,
       "version_minor": 0
      },
      "text/plain": [
       "nested  parameter:   0%|          | 0/101 [00:00<?, ?it/s]"
      ]
     },
     "metadata": {},
     "output_type": "display_data"
    },
    {
     "data": {
      "application/vnd.jupyter.widget-view+json": {
       "model_id": "0c58208722f04f3a9f772ca5c6b0bf83",
       "version_major": 2,
       "version_minor": 0
      },
      "text/plain": [
       "nested  parameter:   0%|          | 0/101 [00:00<?, ?it/s]"
      ]
     },
     "metadata": {},
     "output_type": "display_data"
    },
    {
     "data": {
      "application/vnd.jupyter.widget-view+json": {
       "model_id": "1ed345f7a8ba4db88071252808999f53",
       "version_major": 2,
       "version_minor": 0
      },
      "text/plain": [
       "nested  parameter:   0%|          | 0/101 [00:00<?, ?it/s]"
      ]
     },
     "metadata": {},
     "output_type": "display_data"
    },
    {
     "data": {
      "application/vnd.jupyter.widget-view+json": {
       "model_id": "6a0fc693adaf40799cef032ea09db35d",
       "version_major": 2,
       "version_minor": 0
      },
      "text/plain": [
       "nested  parameter:   0%|          | 0/101 [00:00<?, ?it/s]"
      ]
     },
     "metadata": {},
     "output_type": "display_data"
    },
    {
     "data": {
      "application/vnd.jupyter.widget-view+json": {
       "model_id": "072ea32f6fbb49409dab29e785d804ff",
       "version_major": 2,
       "version_minor": 0
      },
      "text/plain": [
       "nested  parameter:   0%|          | 0/101 [00:00<?, ?it/s]"
      ]
     },
     "metadata": {},
     "output_type": "display_data"
    },
    {
     "data": {
      "application/vnd.jupyter.widget-view+json": {
       "model_id": "b97e7def73cc448a9e2281290e5900c4",
       "version_major": 2,
       "version_minor": 0
      },
      "text/plain": [
       "nested  parameter:   0%|          | 0/101 [00:00<?, ?it/s]"
      ]
     },
     "metadata": {},
     "output_type": "display_data"
    },
    {
     "data": {
      "application/vnd.jupyter.widget-view+json": {
       "model_id": "aff00f8129a14c55b95940aec3e318bb",
       "version_major": 2,
       "version_minor": 0
      },
      "text/plain": [
       "nested  parameter:   0%|          | 0/101 [00:00<?, ?it/s]"
      ]
     },
     "metadata": {},
     "output_type": "display_data"
    },
    {
     "data": {
      "application/vnd.jupyter.widget-view+json": {
       "model_id": "97430cc5caf64d12b498b01bcb608f17",
       "version_major": 2,
       "version_minor": 0
      },
      "text/plain": [
       "nested  parameter:   0%|          | 0/101 [00:00<?, ?it/s]"
      ]
     },
     "metadata": {},
     "output_type": "display_data"
    },
    {
     "data": {
      "application/vnd.jupyter.widget-view+json": {
       "model_id": "c5d2a5ab7eb44502843e3477b87aaf1e",
       "version_major": 2,
       "version_minor": 0
      },
      "text/plain": [
       "nested  parameter:   0%|          | 0/101 [00:00<?, ?it/s]"
      ]
     },
     "metadata": {},
     "output_type": "display_data"
    },
    {
     "data": {
      "application/vnd.jupyter.widget-view+json": {
       "model_id": "29065e1a4af84970a46adda49e31ee55",
       "version_major": 2,
       "version_minor": 0
      },
      "text/plain": [
       "nested  parameter:   0%|          | 0/101 [00:00<?, ?it/s]"
      ]
     },
     "metadata": {},
     "output_type": "display_data"
    },
    {
     "data": {
      "application/vnd.jupyter.widget-view+json": {
       "model_id": "8605fd4637d1475e81078cb85b587079",
       "version_major": 2,
       "version_minor": 0
      },
      "text/plain": [
       "nested  parameter:   0%|          | 0/101 [00:00<?, ?it/s]"
      ]
     },
     "metadata": {},
     "output_type": "display_data"
    },
    {
     "data": {
      "application/vnd.jupyter.widget-view+json": {
       "model_id": "ae4589a8c54942d0b526837d6f344069",
       "version_major": 2,
       "version_minor": 0
      },
      "text/plain": [
       "nested  parameter:   0%|          | 0/101 [00:00<?, ?it/s]"
      ]
     },
     "metadata": {},
     "output_type": "display_data"
    },
    {
     "data": {
      "application/vnd.jupyter.widget-view+json": {
       "model_id": "48a1dbc0377648fcb163fbbaa966e95f",
       "version_major": 2,
       "version_minor": 0
      },
      "text/plain": [
       "nested  parameter:   0%|          | 0/101 [00:00<?, ?it/s]"
      ]
     },
     "metadata": {},
     "output_type": "display_data"
    },
    {
     "data": {
      "application/vnd.jupyter.widget-view+json": {
       "model_id": "11ae20c0f1d249efafa13a018164d478",
       "version_major": 2,
       "version_minor": 0
      },
      "text/plain": [
       "nested  parameter:   0%|          | 0/101 [00:00<?, ?it/s]"
      ]
     },
     "metadata": {},
     "output_type": "display_data"
    },
    {
     "data": {
      "application/vnd.jupyter.widget-view+json": {
       "model_id": "324b83f5c1704ecb9e5a06dfd615dc51",
       "version_major": 2,
       "version_minor": 0
      },
      "text/plain": [
       "nested  parameter:   0%|          | 0/101 [00:00<?, ?it/s]"
      ]
     },
     "metadata": {},
     "output_type": "display_data"
    },
    {
     "data": {
      "application/vnd.jupyter.widget-view+json": {
       "model_id": "f8f1e6524fe04e8c9ccaa2fbdbbdd95f",
       "version_major": 2,
       "version_minor": 0
      },
      "text/plain": [
       "nested  parameter:   0%|          | 0/101 [00:00<?, ?it/s]"
      ]
     },
     "metadata": {},
     "output_type": "display_data"
    },
    {
     "data": {
      "application/vnd.jupyter.widget-view+json": {
       "model_id": "632e587ea4c049d7858a45da6ca85bad",
       "version_major": 2,
       "version_minor": 0
      },
      "text/plain": [
       "nested  parameter:   0%|          | 0/101 [00:00<?, ?it/s]"
      ]
     },
     "metadata": {},
     "output_type": "display_data"
    },
    {
     "data": {
      "application/vnd.jupyter.widget-view+json": {
       "model_id": "82fcf92dcb64482ca7188790bf8e4162",
       "version_major": 2,
       "version_minor": 0
      },
      "text/plain": [
       "nested  parameter:   0%|          | 0/101 [00:00<?, ?it/s]"
      ]
     },
     "metadata": {},
     "output_type": "display_data"
    },
    {
     "data": {
      "application/vnd.jupyter.widget-view+json": {
       "model_id": "a297ed6f0b37411dbbd123e8156e0ff2",
       "version_major": 2,
       "version_minor": 0
      },
      "text/plain": [
       "nested  parameter:   0%|          | 0/101 [00:00<?, ?it/s]"
      ]
     },
     "metadata": {},
     "output_type": "display_data"
    },
    {
     "data": {
      "application/vnd.jupyter.widget-view+json": {
       "model_id": "40a6dce2d7dd4324813c31e3e8c341b4",
       "version_major": 2,
       "version_minor": 0
      },
      "text/plain": [
       "nested  parameter:   0%|          | 0/101 [00:00<?, ?it/s]"
      ]
     },
     "metadata": {},
     "output_type": "display_data"
    },
    {
     "data": {
      "application/vnd.jupyter.widget-view+json": {
       "model_id": "798a9baa1de340e990b05fd0f6310ee4",
       "version_major": 2,
       "version_minor": 0
      },
      "text/plain": [
       "nested  parameter:   0%|          | 0/101 [00:00<?, ?it/s]"
      ]
     },
     "metadata": {},
     "output_type": "display_data"
    },
    {
     "data": {
      "application/vnd.jupyter.widget-view+json": {
       "model_id": "f810384ce29246eaa2a37664c9008a21",
       "version_major": 2,
       "version_minor": 0
      },
      "text/plain": [
       "nested  parameter:   0%|          | 0/101 [00:00<?, ?it/s]"
      ]
     },
     "metadata": {},
     "output_type": "display_data"
    },
    {
     "data": {
      "application/vnd.jupyter.widget-view+json": {
       "model_id": "824b70e2fead4352bf2d0ef2f478015e",
       "version_major": 2,
       "version_minor": 0
      },
      "text/plain": [
       "nested  parameter:   0%|          | 0/101 [00:00<?, ?it/s]"
      ]
     },
     "metadata": {},
     "output_type": "display_data"
    },
    {
     "data": {
      "application/vnd.jupyter.widget-view+json": {
       "model_id": "c46de298b07545438609d355caad8d3d",
       "version_major": 2,
       "version_minor": 0
      },
      "text/plain": [
       "nested  parameter:   0%|          | 0/101 [00:00<?, ?it/s]"
      ]
     },
     "metadata": {},
     "output_type": "display_data"
    },
    {
     "data": {
      "application/vnd.jupyter.widget-view+json": {
       "model_id": "bf1a719ab075407db877e679ebca305d",
       "version_major": 2,
       "version_minor": 0
      },
      "text/plain": [
       "nested  parameter:   0%|          | 0/101 [00:00<?, ?it/s]"
      ]
     },
     "metadata": {},
     "output_type": "display_data"
    },
    {
     "data": {
      "application/vnd.jupyter.widget-view+json": {
       "model_id": "58965da301204c6a9657f866ca824b6b",
       "version_major": 2,
       "version_minor": 0
      },
      "text/plain": [
       "nested  parameter:   0%|          | 0/101 [00:00<?, ?it/s]"
      ]
     },
     "metadata": {},
     "output_type": "display_data"
    },
    {
     "data": {
      "application/vnd.jupyter.widget-view+json": {
       "model_id": "cd2987d29c504eb5aba48a8926cf423e",
       "version_major": 2,
       "version_minor": 0
      },
      "text/plain": [
       "nested  parameter:   0%|          | 0/101 [00:00<?, ?it/s]"
      ]
     },
     "metadata": {},
     "output_type": "display_data"
    },
    {
     "data": {
      "application/vnd.jupyter.widget-view+json": {
       "model_id": "521b98ee910c47c0880b9448ebebc325",
       "version_major": 2,
       "version_minor": 0
      },
      "text/plain": [
       "nested  parameter:   0%|          | 0/101 [00:00<?, ?it/s]"
      ]
     },
     "metadata": {},
     "output_type": "display_data"
    },
    {
     "data": {
      "application/vnd.jupyter.widget-view+json": {
       "model_id": "05d8877c2fb04bc2ae44fbbb786c560f",
       "version_major": 2,
       "version_minor": 0
      },
      "text/plain": [
       "nested  parameter:   0%|          | 0/101 [00:00<?, ?it/s]"
      ]
     },
     "metadata": {},
     "output_type": "display_data"
    },
    {
     "data": {
      "application/vnd.jupyter.widget-view+json": {
       "model_id": "23b89248a3234d0da82ec50cee15c039",
       "version_major": 2,
       "version_minor": 0
      },
      "text/plain": [
       "nested  parameter:   0%|          | 0/101 [00:00<?, ?it/s]"
      ]
     },
     "metadata": {},
     "output_type": "display_data"
    },
    {
     "data": {
      "application/vnd.jupyter.widget-view+json": {
       "model_id": "8537537ea9634e1282deae225acfe1a8",
       "version_major": 2,
       "version_minor": 0
      },
      "text/plain": [
       "nested  parameter:   0%|          | 0/101 [00:00<?, ?it/s]"
      ]
     },
     "metadata": {},
     "output_type": "display_data"
    },
    {
     "data": {
      "application/vnd.jupyter.widget-view+json": {
       "model_id": "9d838421ca364c7abae39b16030c40c6",
       "version_major": 2,
       "version_minor": 0
      },
      "text/plain": [
       "nested  parameter:   0%|          | 0/101 [00:00<?, ?it/s]"
      ]
     },
     "metadata": {},
     "output_type": "display_data"
    },
    {
     "data": {
      "application/vnd.jupyter.widget-view+json": {
       "model_id": "5a0e6ed92c9846e48f10e881f1e15f3e",
       "version_major": 2,
       "version_minor": 0
      },
      "text/plain": [
       "nested  parameter:   0%|          | 0/101 [00:00<?, ?it/s]"
      ]
     },
     "metadata": {},
     "output_type": "display_data"
    },
    {
     "data": {
      "application/vnd.jupyter.widget-view+json": {
       "model_id": "4b1c0cd0e4e14cc3bb955eb0d4057fa6",
       "version_major": 2,
       "version_minor": 0
      },
      "text/plain": [
       "nested  parameter:   0%|          | 0/101 [00:00<?, ?it/s]"
      ]
     },
     "metadata": {},
     "output_type": "display_data"
    },
    {
     "data": {
      "application/vnd.jupyter.widget-view+json": {
       "model_id": "23ea5bc5c634471cbf5cf35a2939f708",
       "version_major": 2,
       "version_minor": 0
      },
      "text/plain": [
       "nested  parameter:   0%|          | 0/101 [00:00<?, ?it/s]"
      ]
     },
     "metadata": {},
     "output_type": "display_data"
    },
    {
     "data": {
      "application/vnd.jupyter.widget-view+json": {
       "model_id": "f78c01a8a87d4207a0671e658a745bde",
       "version_major": 2,
       "version_minor": 0
      },
      "text/plain": [
       "nested  parameter:   0%|          | 0/101 [00:00<?, ?it/s]"
      ]
     },
     "metadata": {},
     "output_type": "display_data"
    },
    {
     "data": {
      "application/vnd.jupyter.widget-view+json": {
       "model_id": "8eff466efaef41a69451de232bbd78c6",
       "version_major": 2,
       "version_minor": 0
      },
      "text/plain": [
       "nested  parameter:   0%|          | 0/101 [00:00<?, ?it/s]"
      ]
     },
     "metadata": {},
     "output_type": "display_data"
    },
    {
     "data": {
      "application/vnd.jupyter.widget-view+json": {
       "model_id": "0017ae54dcc14511813952a928b7162a",
       "version_major": 2,
       "version_minor": 0
      },
      "text/plain": [
       "nested  parameter:   0%|          | 0/101 [00:00<?, ?it/s]"
      ]
     },
     "metadata": {},
     "output_type": "display_data"
    },
    {
     "data": {
      "application/vnd.jupyter.widget-view+json": {
       "model_id": "33273134fdf24003bd50ea519f0836d0",
       "version_major": 2,
       "version_minor": 0
      },
      "text/plain": [
       "nested  parameter:   0%|          | 0/101 [00:00<?, ?it/s]"
      ]
     },
     "metadata": {},
     "output_type": "display_data"
    },
    {
     "data": {
      "application/vnd.jupyter.widget-view+json": {
       "model_id": "56abbdb62b784069ac6d73b75a40e68b",
       "version_major": 2,
       "version_minor": 0
      },
      "text/plain": [
       "nested  parameter:   0%|          | 0/101 [00:00<?, ?it/s]"
      ]
     },
     "metadata": {},
     "output_type": "display_data"
    },
    {
     "data": {
      "application/vnd.jupyter.widget-view+json": {
       "model_id": "5fa2c41dd1a54cc3b90c7a750ef7943c",
       "version_major": 2,
       "version_minor": 0
      },
      "text/plain": [
       "nested  parameter:   0%|          | 0/101 [00:00<?, ?it/s]"
      ]
     },
     "metadata": {},
     "output_type": "display_data"
    },
    {
     "data": {
      "application/vnd.jupyter.widget-view+json": {
       "model_id": "1d1aa898469a4c1d821016be4710c21e",
       "version_major": 2,
       "version_minor": 0
      },
      "text/plain": [
       "nested  parameter:   0%|          | 0/101 [00:00<?, ?it/s]"
      ]
     },
     "metadata": {},
     "output_type": "display_data"
    },
    {
     "data": {
      "application/vnd.jupyter.widget-view+json": {
       "model_id": "0d4fdc6bee9d49a09eeaa10d8732308e",
       "version_major": 2,
       "version_minor": 0
      },
      "text/plain": [
       "nested  parameter:   0%|          | 0/101 [00:00<?, ?it/s]"
      ]
     },
     "metadata": {},
     "output_type": "display_data"
    },
    {
     "data": {
      "application/vnd.jupyter.widget-view+json": {
       "model_id": "a0eb10937a51405999505ba29807b804",
       "version_major": 2,
       "version_minor": 0
      },
      "text/plain": [
       "nested  parameter:   0%|          | 0/101 [00:00<?, ?it/s]"
      ]
     },
     "metadata": {},
     "output_type": "display_data"
    },
    {
     "data": {
      "application/vnd.jupyter.widget-view+json": {
       "model_id": "f96f5b16fc024139a900b8c270380970",
       "version_major": 2,
       "version_minor": 0
      },
      "text/plain": [
       "nested  parameter:   0%|          | 0/101 [00:00<?, ?it/s]"
      ]
     },
     "metadata": {},
     "output_type": "display_data"
    },
    {
     "data": {
      "application/vnd.jupyter.widget-view+json": {
       "model_id": "00561f40f44847b6854623033df73ac3",
       "version_major": 2,
       "version_minor": 0
      },
      "text/plain": [
       "nested  parameter:   0%|          | 0/101 [00:00<?, ?it/s]"
      ]
     },
     "metadata": {},
     "output_type": "display_data"
    },
    {
     "data": {
      "application/vnd.jupyter.widget-view+json": {
       "model_id": "b78d401bb97244e2b4f90bd5084cc2b6",
       "version_major": 2,
       "version_minor": 0
      },
      "text/plain": [
       "nested  parameter:   0%|          | 0/101 [00:00<?, ?it/s]"
      ]
     },
     "metadata": {},
     "output_type": "display_data"
    },
    {
     "data": {
      "application/vnd.jupyter.widget-view+json": {
       "model_id": "465a9b1369034b6fb902c7984ddfbd4c",
       "version_major": 2,
       "version_minor": 0
      },
      "text/plain": [
       "nested  parameter:   0%|          | 0/101 [00:00<?, ?it/s]"
      ]
     },
     "metadata": {},
     "output_type": "display_data"
    },
    {
     "data": {
      "application/vnd.jupyter.widget-view+json": {
       "model_id": "ec476fa6de794d31b33d82a697aa1b82",
       "version_major": 2,
       "version_minor": 0
      },
      "text/plain": [
       "nested  parameter:   0%|          | 0/101 [00:00<?, ?it/s]"
      ]
     },
     "metadata": {},
     "output_type": "display_data"
    },
    {
     "data": {
      "application/vnd.jupyter.widget-view+json": {
       "model_id": "ae402ffaaeb84ec6874f214fb6ae720f",
       "version_major": 2,
       "version_minor": 0
      },
      "text/plain": [
       "nested  parameter:   0%|          | 0/101 [00:00<?, ?it/s]"
      ]
     },
     "metadata": {},
     "output_type": "display_data"
    },
    {
     "data": {
      "application/vnd.jupyter.widget-view+json": {
       "model_id": "5bab1c4409ca41feac12616ed6b10217",
       "version_major": 2,
       "version_minor": 0
      },
      "text/plain": [
       "nested  parameter:   0%|          | 0/101 [00:00<?, ?it/s]"
      ]
     },
     "metadata": {},
     "output_type": "display_data"
    },
    {
     "data": {
      "application/vnd.jupyter.widget-view+json": {
       "model_id": "49888435e981402da2f9d8e909126579",
       "version_major": 2,
       "version_minor": 0
      },
      "text/plain": [
       "nested  parameter:   0%|          | 0/101 [00:00<?, ?it/s]"
      ]
     },
     "metadata": {},
     "output_type": "display_data"
    },
    {
     "data": {
      "application/vnd.jupyter.widget-view+json": {
       "model_id": "4e68a841bb914c19980e3efade0e464c",
       "version_major": 2,
       "version_minor": 0
      },
      "text/plain": [
       "nested  parameter:   0%|          | 0/101 [00:00<?, ?it/s]"
      ]
     },
     "metadata": {},
     "output_type": "display_data"
    },
    {
     "data": {
      "application/vnd.jupyter.widget-view+json": {
       "model_id": "ddab97bf93c0429d9bda1d80dd63fe02",
       "version_major": 2,
       "version_minor": 0
      },
      "text/plain": [
       "nested  parameter:   0%|          | 0/101 [00:00<?, ?it/s]"
      ]
     },
     "metadata": {},
     "output_type": "display_data"
    },
    {
     "data": {
      "application/vnd.jupyter.widget-view+json": {
       "model_id": "dafc444c18164ec5a5eb33c1609f5f92",
       "version_major": 2,
       "version_minor": 0
      },
      "text/plain": [
       "nested  parameter:   0%|          | 0/101 [00:00<?, ?it/s]"
      ]
     },
     "metadata": {},
     "output_type": "display_data"
    },
    {
     "data": {
      "application/vnd.jupyter.widget-view+json": {
       "model_id": "8f60649047fd46b18f80ec74869eb478",
       "version_major": 2,
       "version_minor": 0
      },
      "text/plain": [
       "nested  parameter:   0%|          | 0/101 [00:00<?, ?it/s]"
      ]
     },
     "metadata": {},
     "output_type": "display_data"
    },
    {
     "data": {
      "application/vnd.jupyter.widget-view+json": {
       "model_id": "38a7559709e847bd9c340ec7b7b9bbd7",
       "version_major": 2,
       "version_minor": 0
      },
      "text/plain": [
       "nested  parameter:   0%|          | 0/101 [00:00<?, ?it/s]"
      ]
     },
     "metadata": {},
     "output_type": "display_data"
    },
    {
     "data": {
      "application/vnd.jupyter.widget-view+json": {
       "model_id": "5489a778b28d4c1088cb62ffb047e184",
       "version_major": 2,
       "version_minor": 0
      },
      "text/plain": [
       "nested  parameter:   0%|          | 0/101 [00:00<?, ?it/s]"
      ]
     },
     "metadata": {},
     "output_type": "display_data"
    },
    {
     "data": {
      "application/vnd.jupyter.widget-view+json": {
       "model_id": "57acd182098d45cb9aa0859f43275dce",
       "version_major": 2,
       "version_minor": 0
      },
      "text/plain": [
       "nested  parameter:   0%|          | 0/101 [00:00<?, ?it/s]"
      ]
     },
     "metadata": {},
     "output_type": "display_data"
    },
    {
     "data": {
      "application/vnd.jupyter.widget-view+json": {
       "model_id": "cf6eefaa310940c8bc8ad172bfa5a035",
       "version_major": 2,
       "version_minor": 0
      },
      "text/plain": [
       "nested  parameter:   0%|          | 0/101 [00:00<?, ?it/s]"
      ]
     },
     "metadata": {},
     "output_type": "display_data"
    },
    {
     "data": {
      "application/vnd.jupyter.widget-view+json": {
       "model_id": "12b71a7c2d854be8b58ec75c511e57f6",
       "version_major": 2,
       "version_minor": 0
      },
      "text/plain": [
       "nested  parameter:   0%|          | 0/101 [00:00<?, ?it/s]"
      ]
     },
     "metadata": {},
     "output_type": "display_data"
    },
    {
     "data": {
      "application/vnd.jupyter.widget-view+json": {
       "model_id": "751d02b19ec24ef8a5d42d097720d2b5",
       "version_major": 2,
       "version_minor": 0
      },
      "text/plain": [
       "nested  parameter:   0%|          | 0/101 [00:00<?, ?it/s]"
      ]
     },
     "metadata": {},
     "output_type": "display_data"
    },
    {
     "data": {
      "application/vnd.jupyter.widget-view+json": {
       "model_id": "ea07ce0eac1f4d2689eb2559d951d386",
       "version_major": 2,
       "version_minor": 0
      },
      "text/plain": [
       "nested  parameter:   0%|          | 0/101 [00:00<?, ?it/s]"
      ]
     },
     "metadata": {},
     "output_type": "display_data"
    },
    {
     "data": {
      "application/vnd.jupyter.widget-view+json": {
       "model_id": "96eae1b3f124480ca6818304aa6909a6",
       "version_major": 2,
       "version_minor": 0
      },
      "text/plain": [
       "nested  parameter:   0%|          | 0/101 [00:00<?, ?it/s]"
      ]
     },
     "metadata": {},
     "output_type": "display_data"
    },
    {
     "data": {
      "application/vnd.jupyter.widget-view+json": {
       "model_id": "3d0a87897c6840c99b7ed3d5cc38f0d2",
       "version_major": 2,
       "version_minor": 0
      },
      "text/plain": [
       "nested  parameter:   0%|          | 0/101 [00:00<?, ?it/s]"
      ]
     },
     "metadata": {},
     "output_type": "display_data"
    },
    {
     "data": {
      "application/vnd.jupyter.widget-view+json": {
       "model_id": "fb69faf7106a4949ac37c98f0832c11d",
       "version_major": 2,
       "version_minor": 0
      },
      "text/plain": [
       "nested  parameter:   0%|          | 0/101 [00:00<?, ?it/s]"
      ]
     },
     "metadata": {},
     "output_type": "display_data"
    },
    {
     "data": {
      "application/vnd.jupyter.widget-view+json": {
       "model_id": "dec9c89202394696ac92d54aa61b15b6",
       "version_major": 2,
       "version_minor": 0
      },
      "text/plain": [
       "nested  parameter:   0%|          | 0/101 [00:00<?, ?it/s]"
      ]
     },
     "metadata": {},
     "output_type": "display_data"
    },
    {
     "data": {
      "application/vnd.jupyter.widget-view+json": {
       "model_id": "feda20bfcf014baab7c51c13a98ebc3b",
       "version_major": 2,
       "version_minor": 0
      },
      "text/plain": [
       "nested  parameter:   0%|          | 0/101 [00:00<?, ?it/s]"
      ]
     },
     "metadata": {},
     "output_type": "display_data"
    },
    {
     "data": {
      "application/vnd.jupyter.widget-view+json": {
       "model_id": "b1db2e922742415ea25815ff2b897054",
       "version_major": 2,
       "version_minor": 0
      },
      "text/plain": [
       "nested  parameter:   0%|          | 0/101 [00:00<?, ?it/s]"
      ]
     },
     "metadata": {},
     "output_type": "display_data"
    },
    {
     "data": {
      "application/vnd.jupyter.widget-view+json": {
       "model_id": "e1b66ef228374eaf9cb08353335638cd",
       "version_major": 2,
       "version_minor": 0
      },
      "text/plain": [
       "nested  parameter:   0%|          | 0/101 [00:00<?, ?it/s]"
      ]
     },
     "metadata": {},
     "output_type": "display_data"
    },
    {
     "data": {
      "application/vnd.jupyter.widget-view+json": {
       "model_id": "e853c742d770492f835510314fb239e2",
       "version_major": 2,
       "version_minor": 0
      },
      "text/plain": [
       "nested  parameter:   0%|          | 0/101 [00:00<?, ?it/s]"
      ]
     },
     "metadata": {},
     "output_type": "display_data"
    },
    {
     "data": {
      "application/vnd.jupyter.widget-view+json": {
       "model_id": "2ab5db33b5204aa4bbed3c0eb08fef83",
       "version_major": 2,
       "version_minor": 0
      },
      "text/plain": [
       "nested  parameter:   0%|          | 0/101 [00:00<?, ?it/s]"
      ]
     },
     "metadata": {},
     "output_type": "display_data"
    },
    {
     "data": {
      "application/vnd.jupyter.widget-view+json": {
       "model_id": "d970989c7ef84da2856e6aa20eab8cda",
       "version_major": 2,
       "version_minor": 0
      },
      "text/plain": [
       "nested  parameter:   0%|          | 0/101 [00:00<?, ?it/s]"
      ]
     },
     "metadata": {},
     "output_type": "display_data"
    },
    {
     "data": {
      "application/vnd.jupyter.widget-view+json": {
       "model_id": "6fe6a969035849c388481d1ec56d7a4e",
       "version_major": 2,
       "version_minor": 0
      },
      "text/plain": [
       "nested  parameter:   0%|          | 0/101 [00:00<?, ?it/s]"
      ]
     },
     "metadata": {},
     "output_type": "display_data"
    },
    {
     "data": {
      "application/vnd.jupyter.widget-view+json": {
       "model_id": "25f768ed2f5749dba3245b9c25e6ae1e",
       "version_major": 2,
       "version_minor": 0
      },
      "text/plain": [
       "nested  parameter:   0%|          | 0/101 [00:00<?, ?it/s]"
      ]
     },
     "metadata": {},
     "output_type": "display_data"
    },
    {
     "data": {
      "application/vnd.jupyter.widget-view+json": {
       "model_id": "0f7427e8f95c40d7bc7e0763c573dd07",
       "version_major": 2,
       "version_minor": 0
      },
      "text/plain": [
       "nested  parameter:   0%|          | 0/101 [00:00<?, ?it/s]"
      ]
     },
     "metadata": {},
     "output_type": "display_data"
    },
    {
     "data": {
      "application/vnd.jupyter.widget-view+json": {
       "model_id": "122f3ac7273c4f069661dc80b08b693c",
       "version_major": 2,
       "version_minor": 0
      },
      "text/plain": [
       "nested  parameter:   0%|          | 0/101 [00:00<?, ?it/s]"
      ]
     },
     "metadata": {},
     "output_type": "display_data"
    },
    {
     "data": {
      "application/vnd.jupyter.widget-view+json": {
       "model_id": "ed1889ce471f46e7ac08cb473d663f59",
       "version_major": 2,
       "version_minor": 0
      },
      "text/plain": [
       "nested  parameter:   0%|          | 0/101 [00:00<?, ?it/s]"
      ]
     },
     "metadata": {},
     "output_type": "display_data"
    },
    {
     "data": {
      "application/vnd.jupyter.widget-view+json": {
       "model_id": "66073f0f63b54839b791f25b96f40501",
       "version_major": 2,
       "version_minor": 0
      },
      "text/plain": [
       "nested  parameter:   0%|          | 0/101 [00:00<?, ?it/s]"
      ]
     },
     "metadata": {},
     "output_type": "display_data"
    },
    {
     "data": {
      "application/vnd.jupyter.widget-view+json": {
       "model_id": "234cbad539a74a6e82e76eaf24c09346",
       "version_major": 2,
       "version_minor": 0
      },
      "text/plain": [
       "nested  parameter:   0%|          | 0/101 [00:00<?, ?it/s]"
      ]
     },
     "metadata": {},
     "output_type": "display_data"
    },
    {
     "data": {
      "application/vnd.jupyter.widget-view+json": {
       "model_id": "847a89a2871a4e49b3d820a7b5879a87",
       "version_major": 2,
       "version_minor": 0
      },
      "text/plain": [
       "nested  parameter:   0%|          | 0/101 [00:00<?, ?it/s]"
      ]
     },
     "metadata": {},
     "output_type": "display_data"
    },
    {
     "data": {
      "application/vnd.jupyter.widget-view+json": {
       "model_id": "8909dae535a947729a430b4027912e19",
       "version_major": 2,
       "version_minor": 0
      },
      "text/plain": [
       "nested  parameter:   0%|          | 0/101 [00:00<?, ?it/s]"
      ]
     },
     "metadata": {},
     "output_type": "display_data"
    },
    {
     "data": {
      "application/vnd.jupyter.widget-view+json": {
       "model_id": "1216fd7aa6b24356a03570c96c670eb6",
       "version_major": 2,
       "version_minor": 0
      },
      "text/plain": [
       "nested  parameter:   0%|          | 0/101 [00:00<?, ?it/s]"
      ]
     },
     "metadata": {},
     "output_type": "display_data"
    },
    {
     "name": "stderr",
     "output_type": "stream",
     "text": [
      "Trying to mark a run completed that was already completed.\n"
     ]
    },
    {
     "data": {
      "text/plain": [
       "([<Axes: title={'center': 'Run #41, Experiment VI_vs_BVgate\\n(VI_vs_BVgate_MoS2_2d_35_38_BG_5V_v_0_0.5)'}, xlabel='appl_TG (V)', ylabel='appl_voltage (mV)'>],\n",
       " [<matplotlib.colorbar.Colorbar at 0x1b1060c5890>])"
      ]
     },
     "execution_count": 49,
     "metadata": {},
     "output_type": "execute_result"
    },
    {
     "data": {
      "image/png": "[encoded data removed]",
      "text/plain": [
       "<Figure size 640x480 with 2 Axes>"
      ]
     },
     "metadata": {},
     "output_type": "display_data"
    }
   ],
   "source": [
    "keithley_19.output(1)\n",
    "keithley_24.output(1)\n",
    "\n",
    "appl_voltage(-1)\n",
    "sleep(5)\n",
    "# appl_TG(5)\n",
    "# sleep(5)\n",
    "# appl_TG(10)\n",
    "# # sleep(5)\n",
    "# appl_TG(15)\n",
    "# sleep(5)\n",
    "# appl_TG(20)\n",
    "# sleep(5)\n",
    "\n",
    "\n",
    "exp = qc.new_experiment('VI_vs_BVgate', sample_name='VI_vs_BVgate_MoS2_2d_35_38_BG_5V_v_0_0.5')\n",
    "dataid = do2d(appl_TG, 0, 10, 101, 1, appl_voltage, 0, 0.5, 101, 0.05, meas_current_K2)\n",
    "\n",
    "appl_TG(0)\n",
    "sleep(5)\n",
    "appl_voltage(0)\n",
    "sleep(5)\n",
    "\n",
    "keithley_19.output(0)\n",
    "keithley_24.output(0)\n",
    "\n",
    "plot_by_id(dataid)"
   ]
  },
  {
   "cell_type": "markdown",
   "id": "5375fb6f",
   "metadata": {},
   "source": [
    "# RF"
   ]
  },
  {
   "cell_type": "markdown",
   "id": "596beaf8",
   "metadata": {},
   "source": [
    "## I vs RF_f"
   ]
  },
  {
   "cell_type": "markdown",
   "id": "a6df9a13",
   "metadata": {},
   "source": [
    "### sensitive check"
   ]
  },
  {
   "cell_type": "code",
   "execution_count": null,
   "id": "017ed644",
   "metadata": {},
   "outputs": [],
   "source": [
    "SGS.power()\n"
   ]
  },
  {
   "cell_type": "code",
   "execution_count": null,
   "id": "e0b8db4e",
   "metadata": {},
   "outputs": [],
   "source": [
    "SGS.on()"
   ]
  },
  {
   "cell_type": "code",
   "execution_count": null,
   "id": "cc145b47",
   "metadata": {},
   "outputs": [],
   "source": [
    "SGS.off()"
   ]
  },
  {
   "cell_type": "code",
   "execution_count": null,
   "id": "6141349d",
   "metadata": {},
   "outputs": [],
   "source": [
    "magnet_x.field(0.4e-3)\n",
    "sleep(10)\n",
    "magnet_y.field(2.53e-3)\n",
    "sleep(10)"
   ]
  },
  {
   "cell_type": "markdown",
   "id": "2d27c6f3",
   "metadata": {},
   "source": [
    "### I vs RF_f (1D)"
   ]
  },
  {
   "cell_type": "code",
   "execution_count": null,
   "id": "c3ec00d7",
   "metadata": {
    "scrolled": false
   },
   "outputs": [],
   "source": [
    "SGS.off()\n",
    "exp = qc.new_experiment('I vs RF_f', sample_name='IvsRF_f')\n",
    "SGS.power(25)\n",
    "SGS.frequency(1.8e9)\n",
    "SGS.on()\n",
    "sleep(1)\n",
    "keithley_2.averaging_count(5)\n",
    "keithley_2.averaging_enabled(False)\n",
    "keithley_24.output(1)\n",
    "\n",
    "appl_current(0.1e-6)\n",
    "#appl_TG(10)\n",
    "# magnet_x.field(0.4e-3)\n",
    "# magnet_y.field(2.53e-3)\n",
    "\n",
    "dataid = do1d(SGS.frequency, 1.8e9, 2.5e9, 5000, 0.1, meas_voltage_K2)\n",
    "appl_current(0)\n",
    "SGS.off()\n",
    "keithley_24.output(0)\n",
    "plot_by_id(dataid)"
   ]
  },
  {
   "cell_type": "markdown",
   "id": "3e250e53",
   "metadata": {},
   "source": [
    "### I vs RF_f (2D)"
   ]
  },
  {
   "cell_type": "code",
   "execution_count": null,
   "id": "9f9dbd53",
   "metadata": {},
   "outputs": [],
   "source": [
    "SGS.off()\n",
    "SGS.power(0)\n",
    "SGS.frequency(0.1e9)\n",
    "SGS.on()\n",
    "keithley_2.averaging_count(1)\n",
    "keithley_2.averaging_enabled(False)\n",
    "keithley_24.output(1)\n",
    "\n",
    "appl_current(-1.5e-6)\n",
    "#appl_TG(-10)\n",
    "# magnet_x.field(0.4e-3)\n",
    "# magnet_y.field(2.53e-3)\n",
    "# sleep(1)\n",
    "\n",
    "# station.snapshot(update=True);\n",
    "exp = qc.new_experiment('IV vs RF_f', sample_name='IV vs RF_f_J3_2D')\n",
    "\n",
    "#do1d(param_set, start, stop, num_points, delay, *param_meas)\n",
    "dataid = do2d(SGS.frequency, 0.1e9, 20e9, 1000, 0.1, appl_current,-1.5e-6 ,1.5e-6, 101, 0.01, meas_voltage_K2)\n",
    "# dataid = do1d(appl_current, 6e-6 , -6e-6, 251, 0.01, meas_voltage_K1)\n",
    "# ivvi.set_dacs_zero()\n",
    "keithley_24.output(0)\n",
    "SGS.off()\n",
    "appl_current(0)\n",
    "plot_by_id(dataid)\n",
    "# print(get_R_from_IV(dataid))\n",
    "#print(get_R_from_IV_2(dataid))\n"
   ]
  },
  {
   "cell_type": "markdown",
   "id": "9d4c84a8",
   "metadata": {},
   "source": [
    "## Bx vs RF_f"
   ]
  },
  {
   "cell_type": "code",
   "execution_count": null,
   "id": "51fe069b",
   "metadata": {},
   "outputs": [],
   "source": [
    "SGS.off()\n",
    "SGS.power(0)\n",
    "SGS.frequency(3.87e9)\n",
    "SGS.on()\n",
    "keithley_2.averaging_count(5)\n",
    "keithley_2.averaging_enabled(False)\n",
    "keithley_24.output(1)\n",
    "\n",
    "appl_current(-1.2e-6)\n",
    "#appl_TG(-10)\n",
    "magnet_y.field(-10e-3)\n",
    "\n",
    "#magnet_y.field(1.41e-3)\n",
    "# sleep(1)\n",
    "\n",
    "# station.snapshot(update=True);\n",
    "exp = qc.new_experiment('Bx vs RF_f', sample_name='By vs RF_f_J2_3.87_-10dB')\n",
    "\n",
    "#do1d(param_set, start, stop, num_points, delay, *param_meas)\"\"\n",
    "dataid = do2d(magnet_y.field, -10e-3, 10e-3,701, 1, appl_current,-1.2e-6 ,1.2e-6, 101, 0.05,  meas_voltage_K2)\n",
    "# dataid = do1d(appl_current, 6e-6 , -6e-6, 251, 0.01, meas_voltage_K1)\n",
    "# ivvi.set_dacs_zero()\n",
    "keithley_24.output(0)\n",
    "SGS.off()\n",
    "appl_current(0)\n",
    "plot_by_id(dataid)\n",
    "# print(get_R_from_IV(dataid))\n",
    "#print(get_R_from_IV_2(dataid))"
   ]
  },
  {
   "cell_type": "code",
   "execution_count": null,
   "id": "28992f6f",
   "metadata": {},
   "outputs": [],
   "source": [
    "appl_current(0)\n",
    "#appl_TG(0)\n",
    "magnet_y.field(0)\n",
    "sleep(2)\n",
    "magnet_x.field(0)\n",
    "sleep(2)\n",
    "#appl_voltage_AC(0.004)\n",
    "SGS.off()"
   ]
  },
  {
   "cell_type": "markdown",
   "id": "65c9a40a",
   "metadata": {},
   "source": [
    "## IV vs RF_f"
   ]
  },
  {
   "cell_type": "markdown",
   "id": "b285efb3",
   "metadata": {},
   "source": [
    "### Shapiro steps "
   ]
  },
  {
   "cell_type": "markdown",
   "id": "4a6d60cb",
   "metadata": {},
   "source": [
    "#### 1 line"
   ]
  },
  {
   "cell_type": "code",
   "execution_count": null,
   "id": "3a180ee1",
   "metadata": {
    "scrolled": false
   },
   "outputs": [],
   "source": [
    "SGS.off()\n",
    "SGS.power(-20)\n",
    "SGS.frequency(5.5381e9)\n",
    "SGS.on()\n",
    "keithley_2.averaging_count(5)\n",
    "keithley_2.averaging_enabled(False)\n",
    "keithley_24.output(1)\n",
    "\n",
    "appl_current(-1e-6)\n",
    "#appl_TG(-10)\n",
    "#magnet_x.field(0.23e-3)\n",
    "#magnet_y.field(1.41e-3)\n",
    "# sleep(1)\n",
    "\n",
    "# station.snapshot(update=True);\n",
    "exp = qc.new_experiment('IV vs RF_f', sample_name='IV vs RF_f_5.538_-20dB')\n",
    "\n",
    "#do1d(param_set, start, stop, num_points, delay, *param_meas)\"\"\n",
    "dataid = do1d(appl_current,-1e-6 ,1e-6, 101, 0.05,  meas_voltage_K2)\n",
    "# dataid = do1d(appl_current, 6e-6 , -6e-6, 251, 0.01, meas_voltage_K1)\n",
    "# ivvi.set_dacs_zero()\n",
    "keithley_24.output(0)\n",
    "SGS.off()\n",
    "appl_current(0)\n",
    "plot_by_id(dataid)\n",
    "# print(get_R_from_IV(dataid))\n",
    "#print(get_R_from_IV_2(dataid))"
   ]
  },
  {
   "cell_type": "code",
   "execution_count": null,
   "id": "ec8af32e",
   "metadata": {},
   "outputs": [],
   "source": [
    "appl_current(0)\n",
    "#appl_TG(0)\n",
    "magnet_y.field(0)\n",
    "sleep(10)\n",
    "magnet_x.field(0)\n",
    "sleep(10)\n",
    "#appl_voltage_AC(0.004)\n",
    "SGS.off()"
   ]
  },
  {
   "cell_type": "markdown",
   "id": "57a8ac5d",
   "metadata": {},
   "source": [
    "#### multi-line"
   ]
  },
  {
   "cell_type": "code",
   "execution_count": null,
   "id": "05ada56a",
   "metadata": {},
   "outputs": [],
   "source": [
    "def run_1d_measurement(frequency, exp_name_suffix):\n",
    "    SGS.off()\n",
    "    SGS.power(0)\n",
    "    SGS.frequency(frequency)\n",
    "    SGS.on()\n",
    "\n",
    "    keithley_2.averaging_count(5)\n",
    "    keithley_2.averaging_enabled(False)\n",
    "    keithley_24.output(1)\n",
    "\n",
    "    appl_current(-2e-6)\n",
    "\n",
    "    exp = qc.new_experiment('IV vs RF_f', sample_name=f'IV vs RF_f_{frequency}_0dB')\n",
    "\n",
    "    dataid = do1d(appl_current, -1.5e-6, 1.5e-6, 101, 0.05, meas_voltage_K2)\n",
    "\n",
    "    keithley_24.output(0)\n",
    "    SGS.off()\n",
    "    appl_current(0)\n",
    "\n",
    "    plot_by_id(dataid)\n",
    "\n",
    "# 指定不同的頻率進行 1D 測量\n",
    "frequencies = [5.876e9, 6.155e9, 7.410e9, 7.769e9, 8.167e9, 5.538e9, 5.398e9, 4.303e9]  # 添加更多頻率\n",
    "for frequency in frequencies:\n",
    "    run_1d_measurement(frequency, '')\n",
    "\n"
   ]
  },
  {
   "cell_type": "code",
   "execution_count": null,
   "id": "5488e4c5",
   "metadata": {},
   "outputs": [],
   "source": [
    "appl_current(0)\n",
    "#appl_TG(0)\n",
    "magnet_y.field(0)\n",
    "sleep(10)\n",
    "magnet_x.field(0)\n",
    "sleep(10)\n",
    "#appl_voltage_AC(0.004)\n",
    "SGS.off()"
   ]
  },
  {
   "cell_type": "markdown",
   "id": "04e50dcd",
   "metadata": {},
   "source": [
    "## IV vs Power Dependence"
   ]
  },
  {
   "cell_type": "markdown",
   "id": "c822ccb3",
   "metadata": {},
   "source": [
    "### 1 frequency"
   ]
  },
  {
   "cell_type": "code",
   "execution_count": null,
   "id": "f0984a37",
   "metadata": {
    "scrolled": false
   },
   "outputs": [],
   "source": [
    "SGS.off()\n",
    "SGS.power(-20)\n",
    "SGS.frequency(6.155e9)\n",
    "SGS.on()\n",
    "keithley_2.averaging_count(5)\n",
    "keithley_2.averaging_enabled(True)\n",
    "keithley_24.output(1)\n",
    "\n",
    "sleep(5)\n",
    "#magnet_x.field(15e-3)\n",
    "#sleep(5)\n",
    "appl_current(-1e-6)\n",
    "#appl_TG(-30)\n",
    "sleep(2)\n",
    "\n",
    "# station.snapshot(update=True);\n",
    "exp = qc.new_experiment('IV vs power dependence', sample_name='IV vs PD_6.155')\n",
    "\n",
    "#do1d(param_set, start, stop, num_points, delay, *param_meas)\n",
    "\n",
    "dataid = do2d(SGS.power,-12, 18, 201, 1, appl_current,-2.5e-6 ,2.5e-6, 101, 0.01, meas_voltage_K2)\n",
    "# dataid = do1d(appl_current, 6e-6 , -6e-6, 251, 0.01, meas_voltage_K1)\n",
    "# ivvi.set_dacs_zero()\n",
    "\n",
    "SGS.off()\n",
    "sleep(5)\n",
    "plot_by_id(dataid)\n",
    "\n",
    "\n",
    "SGS.power(-20)\n",
    "SGS.frequency(7.410e9)\n",
    "SGS.on()\n",
    "keithley_2.averaging_count(5)\n",
    "keithley_2.averaging_enabled(True)\n",
    "keithley_24.output(1)\n",
    "\n",
    "sleep(5)\n",
    "#magnet_x.field(15e-3)\n",
    "#sleep(5)\n",
    "appl_current(-1e-6)\n",
    "#appl_TG(-30)\n",
    "sleep(2)\n",
    "\n",
    "# station.snapshot(update=True);\n",
    "exp = qc.new_experiment('IV vs power dependence', sample_name='IV vs PD_7.410')\n",
    "\n",
    "#do1d(param_set, start, stop, num_points, delay, *param_meas)\n",
    "\n",
    "dataid = do2d(SGS.power,-12, 18, 201, 1, appl_current,-2e-6 ,2e-6, 101, 0.01, meas_voltage_K2)\n",
    "# dataid = do1d(appl_current, 6e-6 , -6e-6, 251, 0.01, meas_voltage_K1)\n",
    "# ivvi.set_dacs_zero()\n",
    "\n",
    "SGS.off()\n",
    "sleep(5)\n",
    "plot_by_id(dataid)\n",
    "\n",
    "\n",
    "SGS.power(-20)\n",
    "SGS.frequency(7.769e9)\n",
    "SGS.on()\n",
    "keithley_2.averaging_count(5)\n",
    "keithley_2.averaging_enabled(True)\n",
    "keithley_24.output(1)\n",
    "\n",
    "sleep(5)\n",
    "#magnet_x.field(15e-3)\n",
    "#sleep(5)\n",
    "appl_current(-1e-6)\n",
    "#appl_TG(-30)\n",
    "sleep(2)\n",
    "\n",
    "# station.snapshot(update=True);\n",
    "exp = qc.new_experiment('IV vs power dependence', sample_name='IV vs PD_7.769')\n",
    "\n",
    "#do1d(param_set, start, stop, num_points, delay, *param_meas)\n",
    "\n",
    "dataid = do2d(SGS.power,-12, 18, 201, 1, appl_current,-2e-6 ,2e-6, 101, 0.01, meas_voltage_K2)\n",
    "# dataid = do1d(appl_current, 6e-6 , -6e-6, 251, 0.01, meas_voltage_K1)\n",
    "# ivvi.set_dacs_zero()\n",
    "\n",
    "SGS.off()\n",
    "sleep(5)\n",
    "plot_by_id(dataid)\n",
    "\n",
    "\n",
    "SGS.power(-20)\n",
    "SGS.frequency(8.167e9)\n",
    "SGS.on()\n",
    "keithley_2.averaging_count(5)\n",
    "keithley_2.averaging_enabled(True)\n",
    "keithley_24.output(1)\n",
    "\n",
    "sleep(5)\n",
    "#magnet_x.field(15e-3)\n",
    "#sleep(5)\n",
    "appl_current(-1e-6)\n",
    "#appl_TG(-30)\n",
    "sleep(2)\n",
    "\n",
    "# station.snapshot(update=True);\n",
    "exp = qc.new_experiment('IV vs power dependence', sample_name='IV vs PD_8.167')\n",
    "\n",
    "#do1d(param_set, start, stop, num_points, delay, *param_meas)\n",
    "\n",
    "dataid = do2d(SGS.power,-10, 18, 201, 1, appl_current,-2e-6 ,2e-6, 101, 0.01, meas_voltage_K2)\n",
    "# dataid = do1d(appl_current, 6e-6 , -6e-6, 251, 0.01, meas_voltage_K1)\n",
    "# ivvi.set_dacs_zero()\n",
    "\n",
    "SGS.off()\n",
    "\n",
    "\n",
    "appl_current(0)\n",
    "keithley_24.output()\n",
    "sleep(10)\n",
    "plot_by_id(dataid)\n",
    "# print(get_R_from_IV(dataid))\n",
    "print(get_R_from_IV_2(dataid))"
   ]
  },
  {
   "cell_type": "code",
   "execution_count": null,
   "id": "6ea1f17b",
   "metadata": {},
   "outputs": [],
   "source": [
    "SGS.off()\n",
    "SGS.power(-20)\n",
    "SGS.frequency(5.398e9)\n",
    "SGS.on()\n",
    "keithley_2.averaging_count(5)\n",
    "keithley_2.averaging_enabled(True)\n",
    "keithley_24.output(1)\n",
    "\n",
    "magnet_x.field(5e-3)\n",
    "sleep(5)\n",
    "appl_current(-1e-6)\n",
    "#appl_TG(-30)\n",
    "sleep(2)\n",
    "\n",
    "# station.snapshot(update=True);\n",
    "exp = qc.new_experiment('IV vs power dependence', sample_name='IV vs PD_5.398_5mT')\n",
    "\n",
    "#do1d(param_set, start, stop, num_points, delay, *param_meas)\n",
    "\n",
    "dataid = do2d(SGS.power,-20, 25, 101, 1, appl_current,-1e-6 ,1e-6, 101, 0.05, meas_voltage_K2)\n",
    "# dataid = do1d(appl_current, 6e-6 , -6e-6, 251, 0.01, meas_voltage_K1)\n",
    "# ivvi.set_dacs_zero()\n",
    "\n",
    "SGS.off()\n",
    "plot_by_id(dataid)\n",
    "sleep(10)\n",
    "\n",
    "\n",
    "SGS.power(-20)\n",
    "SGS.frequency(8.167e9)\n",
    "SGS.on()\n",
    "keithley_2.averaging_count(5)\n",
    "keithley_2.averaging_enabled(True)\n",
    "keithley_24.output(1)\n",
    "\n",
    "magnet_x.field(5e-3)\n",
    "sleep(5)\n",
    "appl_current(-1e-6)\n",
    "#appl_TG(-30)\n",
    "sleep(2)\n",
    "\n",
    "# station.snapshot(update=True);\n",
    "exp = qc.new_experiment('IV vs power dependence', sample_name='IV vs PD_8.167_5mT')\n",
    "\n",
    "#do1d(param_set, start, stop, num_points, delay, *param_meas)\n",
    "\n",
    "dataid = do2d(SGS.power,-20, 25, 101, 1, appl_current,-1e-6 ,1e-6, 101, 0.05, meas_voltage_K2)\n",
    "# dataid = do1d(appl_current, 6e-6 , -6e-6, 251, 0.01, meas_voltage_K1)\n",
    "# ivvi.set_dacs_zero()\n",
    "\n",
    "\n",
    "SGS.off()\n",
    "plot_by_id(dataid)\n",
    "sleep(10)\n",
    "\n",
    "SGS.power(-20)\n",
    "SGS.frequency(4.303e9)\n",
    "SGS.on()\n",
    "keithley_2.averaging_count(5)\n",
    "keithley_2.averaging_enabled(True)\n",
    "keithley_24.output(1)\n",
    "\n",
    "magnet_x.field(5e-3)\n",
    "sleep(5)\n",
    "appl_current(-1e-6)\n",
    "#appl_TG(-30)\n",
    "sleep(2)\n",
    "\n",
    "# station.snapshot(update=True);\n",
    "exp = qc.new_experiment('IV vs power dependence', sample_name='IV vs PD_4.303_5mT')\n",
    "\n",
    "#do1d(param_set, start, stop, num_points, delay, *param_meas)\n",
    "\n",
    "dataid = do2d(SGS.power,-20, 25, 101, 1, appl_current,-1e-6 ,1e-6, 101, 0.05, meas_voltage_K2)\n",
    "# dataid = do1d(appl_current, 6e-6 , -6e-6, 251, 0.01, meas_voltage_K1)\n",
    "# ivvi.set_dacs_zero()\n",
    "\n",
    "\n",
    "SGS.off()\n",
    "sleep(10)\n",
    "\n",
    "appl_current(0)\n",
    "keithley_24.output()\n",
    "plot_by_id(dataid)\n",
    "\n",
    "# print(get_R_from_IV(dataid))\n",
    "print(get_R_from_IV_2(dataid))"
   ]
  },
  {
   "cell_type": "markdown",
   "id": "13e12840",
   "metadata": {},
   "source": [
    "### multi-frequency"
   ]
  },
  {
   "cell_type": "code",
   "execution_count": null,
   "id": "07a6f51c",
   "metadata": {},
   "outputs": [],
   "source": [
    "def run_measurement(power, frequency, exp_name_suffix):\n",
    "    SGS.power(power)\n",
    "    SGS.frequency(frequency)\n",
    "    SGS.on()\n",
    "\n",
    "    keithley_2.averaging_count(5)\n",
    "    keithley_2.averaging_enabled(True)\n",
    "    keithley_24.output(1)\n",
    "\n",
    "    sleep(5)\n",
    "\n",
    "    appl_current(-1e-6)\n",
    "    sleep(2)\n",
    "\n",
    "    exp = qc.new_experiment('IV vs power dependence', sample_name=f'IV vs PD_{frequency}')\n",
    "\n",
    "    dataid = do2d(SGS.power, -20, 13, 201, 1, appl_current, -2e-6, 2e-6, 101, 0.01, meas_voltage_K2)\n",
    "\n",
    "    SGS.off()\n",
    "    sleep(5)\n",
    "\n",
    "    plot_by_id(dataid)\n",
    "\n",
    "    appl_current(0)\n",
    "    keithley_24.output()\n",
    "    sleep(10)\n",
    "\n",
    "    plot_by_id(dataid)\n",
    "    print(get_R_from_IV_2(dataid))\n",
    "\n",
    "\n",
    "# 使用不同頻率運行測量\n",
    "run_measurement(-20, 7.769e9, '7.769')\n",
    "run_measurement(-20, 8.167e9, '8.167')\n"
   ]
  },
  {
   "cell_type": "code",
   "execution_count": null,
   "id": "9db010ab",
   "metadata": {},
   "outputs": [],
   "source": [
    "## SGS.off()\n",
    "SGS.power(-20)\n",
    "SGS.frequency(5.e9)\n",
    "SGS.on()\n",
    "keithley_2.averaging_count(5)\n",
    "keithley_2.averaging_enabled(True)\n",
    "keithley_24.output(1)\n",
    "\n",
    "magnet_x.field(10e-3)\n",
    "sleep(5)\n",
    "appl_current(-1e-6)\n",
    "#appl_TG(-30)\n",
    "sleep(2)\n",
    "\n",
    "# station.snapshot(update=True);\n",
    "exp = qc.new_experiment('IV vs power dependence', sample_name='IV vs PD_5.398_10mT')\n",
    "\n",
    "#do1d(param_set, start, stop, num_points, delay, *param_meas)\n",
    "\n",
    "dataid = do2d(SGS.power,-20, 25, 101, 1, appl_current,-1e-6 ,1e-6, 101, 0.05, meas_voltage_K2)\n",
    "# dataid = do1d(appl_current, 6e-6 , -6e-6, 251, 0.01, meas_voltage_K1)\n",
    "# ivvi.set_dacs_zero()\n",
    "\n",
    "SGS.off()\n",
    "plot_by_id(dataid)\n",
    "sleep(10)\n",
    "\n",
    "\n",
    "SGS.power(-20)\n",
    "SGS.frequency(8.167e9)\n",
    "SGS.on()\n",
    "keithley_2.averaging_count(5)\n",
    "keithley_2.averaging_enabled(True)\n",
    "keithley_24.output(1)\n",
    "\n",
    "magnet_x.field(10e-3)\n",
    "sleep(5)\n",
    "appl_current(-1e-6)\n",
    "#appl_TG(-30)\n",
    "sleep(2)\n",
    "\n",
    "# station.snapshot(update=True);\n",
    "exp = qc.new_experiment('IV vs power dependence', sample_name='IV vs PD_8.167_10mT')\n",
    "\n",
    "#do1d(param_set, start, stop, num_points, delay, *param_meas)\n",
    "\n",
    "dataid = do2d(SGS.power,-20, 25, 101, 1, appl_current,-1e-6 ,1e-6, 101, 0.05, meas_voltage_K2)\n",
    "# dataid = do1d(appl_current, 6e-6 , -6e-6, 251, 0.01, meas_voltage_K1)\n",
    "# ivvi.set_dacs_zero()\n",
    "\n",
    "\n",
    "SGS.off()\n",
    "plot_by_id(dataid)\n",
    "sleep(10)\n",
    "\n",
    "SGS.power(-20)\n",
    "SGS.frequency(4.303e9)\n",
    "SGS.on()\n",
    "keithley_2.averaging_count(5)\n",
    "keithley_2.averaging_enabled(True)\n",
    "keithley_24.output(1)\n",
    "\n",
    "magnet_x.field(10e-3)\n",
    "sleep(5)\n",
    "appl_current(-1e-6)\n",
    "#appl_TG(-30)\n",
    "sleep(2)\n",
    "\n",
    "# station.snapshot(update=True);\n",
    "exp = qc.new_experiment('IV vs power dependence', sample_name='IV vs PD_4.303_10mT')\n",
    "\n",
    "#do1d(param_set, start, stop, num_points, delay, *param_meas)\n",
    "\n",
    "dataid = do2d(SGS.power,-20, 25, 101, 1, appl_current,-1e-6 ,1e-6, 101, 0.01, meas_voltage_K2)\n",
    "# dataid = do1d(appl_current, 6e-6 , -6e-6, 251, 0.01, meas_voltage_K1)\n",
    "# ivvi.set_dacs_zero()\n",
    "\n",
    "\n",
    "SGS.off()\n",
    "sleep(10)\n",
    "\n",
    "appl_current(0)\n",
    "keithley_24.output()\n",
    "plot_by_id(dataid)\n",
    "\n",
    "# print(get_R_from_IV(dataid))\n",
    "print(get_R_from_IV_2(dataid))"
   ]
  },
  {
   "cell_type": "markdown",
   "id": "5c2101a5",
   "metadata": {},
   "source": [
    "## IV vs Vgate"
   ]
  },
  {
   "cell_type": "code",
   "execution_count": null,
   "id": "48eb3a89",
   "metadata": {},
   "outputs": [],
   "source": [
    "appl_current(0)\n",
    "appl_TG(0)\n",
    "magnet_y.field(0)\n",
    "sleep(10)\n",
    "magnet_x.field(0)\n",
    "sleep(10)\n",
    "appl_voltage_AC(0.004)\n",
    "SGS.off()"
   ]
  },
  {
   "cell_type": "code",
   "execution_count": null,
   "id": "5deaef19",
   "metadata": {},
   "outputs": [],
   "source": [
    "SGS.off()\n",
    "SGS.power(25)\n",
    "SGS.frequency(4.83e9)\n",
    "SGS.on()\n",
    "keithley_2.averaging_count(5)\n",
    "keithley_2.averaging_enabled(True)\n",
    "appl_current(-0.4e-7)\n",
    "appl_current_AC(0.1e-10)\n",
    "\n",
    "appl_TG(-10)\n",
    "sleep(1)\n",
    "\n",
    "# station.snapshot(update=True);\n",
    "exp = qc.new_experiment('IV vs Vgate', sample_name='IV vs Vg')\n",
    "\n",
    "dataid = do2d(appl_TG, -10, 10, 751, 0.5, appl_current, -0.4e-7, 0.4e-7, 101, 0.01, meas_voltage_AC_L1, meas_voltage_AC_L1_P, meas_voltage_K2)\n",
    "# dataid = do1d(appl_current, 6e-6 , -6e-6, 251, 0.01, meas_voltage_K1)\n",
    "# ivvi.set_dacs_zero()\n",
    "SGS.off()\n",
    "appl_current(0)\n",
    "plot_by_id(dataid)\n",
    "# print(get_R_from_IV(dataid))\n",
    "#print(get_R_from_IV_2(dataid))"
   ]
  },
  {
   "cell_type": "code",
   "execution_count": null,
   "id": "6bbd39fb",
   "metadata": {},
   "outputs": [],
   "source": [
    "appl_current(0)\n",
    "appl_TG(0)\n",
    "magnet_y.field(0)\n",
    "sleep(10)\n",
    "magnet_x.field(0)\n",
    "sleep(10)\n",
    "appl_voltage_AC(0.004)\n",
    "SGS.off()"
   ]
  },
  {
   "cell_type": "code",
   "execution_count": null,
   "id": "00d4b770",
   "metadata": {},
   "outputs": [],
   "source": [
    "import matplotlib.pyplot as plt\n",
    "import numpy as np\n",
    "\n",
    "# Constants\n",
    "k = 8.617333262145e-5  # Boltzmann constant in eV/K\n",
    "E_a = 0.5  # Example value for the activation energy in eV\n",
    "p_0 = 1.0  # Example value for p0\n",
    "\n",
    "# Create an array of temperatures from 100 to 1000 K\n",
    "temperatures = np.linspace(100, 1000, 50)\n",
    "\n",
    "# Calculate 1/T\n",
    "inverse_temperatures = 1 / temperatures\n",
    "\n",
    "# Calculate ln(p)\n",
    "ln_p = np.log(p_0) - (E_a / k) * inverse_temperatures\n",
    "\n",
    "# Plotting\n",
    "plt.figure(figsize=(8, 6))\n",
    "plt.plot(inverse_temperatures, ln_p, marker='o', linestyle='-')\n",
    "plt.xlabel('1/T (1/K)')\n",
    "plt.ylabel('ln(p)')\n",
    "plt.title('ln(p) vs 1/T for Hole Concentration')\n",
    "plt.grid(True)\n",
    "plt.show()\n"
   ]
  },
  {
   "cell_type": "code",
   "execution_count": null,
   "id": "f610e7bc",
   "metadata": {},
   "outputs": [],
   "source": []
  }
 ],
 "metadata": {
  "kernelspec": {
   "display_name": "Python 3 (ipykernel)",
   "language": "python",
   "name": "python3"
  },
  "language_info": {
   "codemirror_mode": {
    "name": "ipython",
    "version": 3
   },
   "file_extension": ".py",
   "mimetype": "text/x-python",
   "name": "python",
   "nbconvert_exporter": "python",
   "pygments_lexer": "ipython3",
   "version": "3.11.3"
  },
  "toc": {
   "base_numbering": 1,
   "nav_menu": {},
   "number_sections": true,
   "sideBar": true,
   "skip_h1_title": false,
   "title_cell": "Table of Contents",
   "title_sidebar": "Contents",
   "toc_cell": false,
   "toc_position": {
    "height": "calc(100% - 180px)",
    "left": "10px",
    "top": "150px",
    "width": "261.4px"
   },
   "toc_section_display": true,
   "toc_window_display": true
  }
 },
 "nbformat": 4,
 "nbformat_minor": 5
}
