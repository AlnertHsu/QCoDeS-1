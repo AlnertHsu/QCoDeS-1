{
 "cells": [
  {
   "cell_type": "markdown",
   "metadata": {},
   "source": [
    "# Initialization"
   ]
  },
  {
   "cell_type": "markdown",
   "metadata": {},
   "source": [
    "## Import of useful modules:"
   ]
  },
  {
   "cell_type": "code",
   "execution_count": 1,
   "metadata": {},
   "outputs": [],
   "source": [
    "%matplotlib inline\n",
    "import os, sys\n",
    "import matplotlib.pyplot as plt\n",
    "import numpy as np\n",
    "from pprint import pprint\n",
    "from tqdm.notebook import tqdm\n",
    "\n",
    "from time import sleep, monotonic, time\n",
    "\n",
    "\n",
    "import qcodes as qc\n",
    "from qcodes import Parameter\n",
    "from qcodes.dataset.plotting import plot_dataset, plot_by_id\n",
    "from qcodes.utils.metadata import diff_param_values\n",
    "from qcodes.instrument.specialized_parameters import ElapsedTimeParameter\n",
    "from qcodes.dataset.measurements import Measurement\n",
    "\n",
    "# sys.path.append('M:\\\\tnw\\\\ns\\\\qt\\\\2D Topo\\\\code\\\\qcodes')\n",
    "sys.path.append('C:\\\\qcodes')\n",
    "from sweeps import do1d, do2d, time_sweep, measure_until, do1d_until\n",
    "\n",
    "import warnings\n",
    "warnings.filterwarnings('ignore')"
   ]
  },
  {
   "cell_type": "code",
   "execution_count": 2,
   "metadata": {},
   "outputs": [
    {
     "name": "stdout",
     "output_type": "stream",
     "text": [
      "Connected to: KEITHLEY INSTRUMENTS DMM6500 (serial:04518052, firmware:1.7.7b) in 0.72s\n",
      "Connected to: Stanford_Research_Systems SR860 (serial:004608, firmware:V1.51) in 0.04s\n"
     ]
    }
   ],
   "source": [
    "fridge_name = 'BF1'\n",
    "# %run ..\\..\\..\\..\\..\\code\\qcodes\\init_fridge.py {fridge_name}\n",
    "%run C:\\\\qcodes\\init_fridge.py {fridge_name}\n",
    "# %run ..\\init_fridge.py {fridge_name}"
   ]
  },
  {
   "cell_type": "markdown",
   "metadata": {},
   "source": [
    "Zero dacs and lockin"
   ]
  },
  {
   "cell_type": "code",
   "execution_count": 3,
   "metadata": {},
   "outputs": [
    {
     "name": "stdout",
     "output_type": "stream",
     "text": [
      "Lockin_1 amplitude 0.0 Amp.\n",
      "Lockin_1 sine AC RMS 0.0 Amp.\n",
      "Lockin_1 sensitivity 0.01 Amp.\n"
     ]
    }
   ],
   "source": [
    "lockin_1.amplitude(0e-8)\n",
    "lockin_1.sine_outdc(0e-5)\n",
    "lockin_1_amplitude = lockin_1.amplitude()\n",
    "lockin_1_sine_outdc = lockin_1.sine_outdc()\n",
    "lockin_1_sensitivity = lockin_1.sensitivity()\n",
    "print(f\"Lockin_1 amplitude {lockin_1_amplitude} Amp.\")\n",
    "print(f\"Lockin_1 sine AC RMS {lockin_1_sine_outdc} Amp.\")\n",
    "print(f\"Lockin_1 sensitivity {lockin_1_sensitivity} Amp.\")\n"
   ]
  },
  {
   "cell_type": "code",
   "execution_count": 3,
   "metadata": {},
   "outputs": [],
   "source": [
    "# ivvi.set_dacs_zero()\n",
    "lockin_1.amplitude(0)\n",
    "lockin_1.sine_outdc(0)"
   ]
  },
  {
   "cell_type": "code",
   "execution_count": null,
   "metadata": {
    "slideshow": {
     "slide_type": ""
    },
    "tags": []
   },
   "outputs": [],
   "source": [
    "step=10\n",
    "for i in range (step):\n",
    "    print(keithley_2.amplitude())\n",
    "    sleep(1)"
   ]
  },
  {
   "cell_type": "code",
   "execution_count": null,
   "metadata": {},
   "outputs": [],
   "source": [
    "K213.voltage1(0)\n",
    "# K213.voltage2(0)\n",
    "# K213.voltage3(0.1)\n",
    "# K213.voltage4(0.1)\n",
    "# snapshot_of_station = station.snapshot()\n",
    "# pprint(snapshot_of_station)"
   ]
  },
  {
   "cell_type": "code",
   "execution_count": null,
   "metadata": {},
   "outputs": [],
   "source": [
    "station.snapshot(update=True);"
   ]
  },
  {
   "cell_type": "code",
   "execution_count": null,
   "metadata": {},
   "outputs": [],
   "source": [
    "snapshot_of_station = station.snapshot()\n",
    "print(snapshot_of_station)"
   ]
  },
  {
   "cell_type": "code",
   "execution_count": null,
   "metadata": {},
   "outputs": [],
   "source": [
    "keithley_24.output(1)\n",
    "keithley_24.rangev(42)\n",
    "keithley_24.volt(0)\n",
    "# keithley_24.output(0)\n",
    "# sleep(1)\n",
    "v_read=keithley_2.amplitude()\n",
    "print(v_read)"
   ]
  },
  {
   "cell_type": "markdown",
   "metadata": {},
   "source": [
    "## DAC rates"
   ]
  },
  {
   "cell_type": "code",
   "execution_count": null,
   "metadata": {},
   "outputs": [],
   "source": [
    "# ivvi.dac1.step = 50\n",
    "# ivvi.dac1.inter_delay = 0.05\n",
    "# ivvi.dac2.step = 50\n",
    "# ivvi.dac2.inter_delay = 0.05\n",
    "# ivvi.dac3.step = 1\n",
    "# ivvi.dac3.inter_delay = 0.2"
   ]
  },
  {
   "cell_type": "markdown",
   "metadata": {},
   "source": [
    "## Database initialisation"
   ]
  },
  {
   "cell_type": "markdown",
   "metadata": {},
   "source": [
    "Next, we create a qcodes database. If you want to use an existing one, set reuse 'True'. Database is created in the \"data\" folder. Sample folder is the same as for this script"
   ]
  },
  {
   "cell_type": "code",
   "execution_count": 4,
   "metadata": {},
   "outputs": [
    {
     "name": "stdout",
     "output_type": "stream",
     "text": [
      "Creating a new database file:\n",
      "c:\\qcodes\\personal_scripts\\data\\qcodes_personal_scripts_2024-05-10_01.db\n"
     ]
    }
   ],
   "source": [
    "reuse = False\n",
    "%run C:\\\\qcodes\\init_database.py {reuse}"
   ]
  },
  {
   "cell_type": "markdown",
   "metadata": {},
   "source": [
    "\n",
    "# Scaled parameters"
   ]
  },
  {
   "cell_type": "markdown",
   "metadata": {},
   "source": [
    "It is more convenient to use meaningful parameters with correct units"
   ]
  },
  {
   "cell_type": "code",
   "execution_count": 5,
   "metadata": {},
   "outputs": [],
   "source": [
    "from qcodes import ManualParameter, ScaledParameter"
   ]
  },
  {
   "cell_type": "markdown",
   "metadata": {},
   "source": [
    "## Defining scaled parameters"
   ]
  },
  {
   "cell_type": "code",
   "execution_count": 6,
   "metadata": {},
   "outputs": [
    {
     "data": {
      "text/plain": [
       "'Gain_L2'"
      ]
     },
     "execution_count": 6,
     "metadata": {},
     "output_type": "execute_result"
    }
   ],
   "source": [
    "Irange = Parameter('Irange', label='current range', unit='', set_cmd=None, get_cmd=None)\n",
    "Vrange = Parameter('Vrange', label='voltage range', unit='', set_cmd=None, get_cmd=None)\n",
    "TGrange = Parameter('TGrange', label='Top gate range', unit='', set_cmd=None, get_cmd=None)\n",
    "\n",
    "#division paraemtrs required for simplier update: they used as an argument for scaled paraemtrs of sorce instruments\n",
    "\n",
    "Irange_division = Parameter('Irange_division', \n",
    "                            label='scaled current range', unit='', \n",
    "                            set_cmd=None, get_cmd=lambda : 1 / Irange())\n",
    "\n",
    "Vrange_division = Parameter('Vrange_division', \n",
    "                            label='scaled voltage range', unit='', \n",
    "                            set_cmd=None, get_cmd=lambda : 1 / Vrange())\n",
    "\n",
    "TGrange_division = Parameter('TGrange_division', \n",
    "                             label='scaled Top gate range', unit='', \n",
    "                             set_cmd=None, get_cmd=lambda : 1/ TGrange())\n",
    "\n",
    "Irange_AC_division = Parameter('Irange_AC_division', \n",
    "                               label='scaled current range for lockin', unit='', \n",
    "                               set_cmd=None, get_cmd=lambda : 1 / Irange())\n",
    "\n",
    "Vrange_AC_division = Parameter('Vrange_AC_division', \n",
    "                               label='scaled voltage range for lockin', unit='', \n",
    "                               set_cmd=None, get_cmd=lambda : 1 / Vrange())\n",
    "\n",
    "Gain_K1 = Parameter('Gain_K1', label='Gain K1', unit='', set_cmd=None, get_cmd=None)\n",
    "Gain_K2 = Parameter('Gain_K2', label='Gain K2', unit='', set_cmd=None, get_cmd=None)\n",
    "Gain_L1 = Parameter('Gain_L1', label='Gain L1', unit='', set_cmd=None, get_cmd=None)\n",
    "Gain_L2 = Parameter('Gain_L2', label='Gain L2', unit='', set_cmd=None, get_cmd=None)\n",
    "\n",
    "#Add components\n",
    "station.add_component(Irange)\n",
    "station.add_component(Vrange)\n",
    "station.add_component(TGrange)\n",
    "\n",
    "station.add_component(Irange_division)\n",
    "station.add_component(Vrange_division)\n",
    "station.add_component(TGrange_division)\n",
    "\n",
    "station.add_component(Irange_AC_division)\n",
    "station.add_component(Vrange_AC_division)\n",
    "                             \n",
    "station.add_component(Gain_K1)\n",
    "station.add_component(Gain_K2)\n",
    "station.add_component(Gain_L1)\n",
    "station.add_component(Gain_L2)"
   ]
  },
  {
   "cell_type": "markdown",
   "metadata": {},
   "source": [
    "## IVVI rack parameters - update here during measuerements"
   ]
  },
  {
   "cell_type": "code",
   "execution_count": 7,
   "metadata": {},
   "outputs": [],
   "source": [
    "Irange.set(1e-6)\n",
    "Vrange.set(10e-3)\n",
    "TGrange.set(15)\n",
    "Gain_K1.set(1e2)\n",
    "Gain_K2.set(1e2)\n",
    "# Gain_K3.set(1e2)\n",
    "Gain_L1.set(Gain_K1())\n",
    "Gain_L2.set(Gain_K2())\n",
    "#division parameters are updated automatically"
   ]
  },
  {
   "cell_type": "markdown",
   "metadata": {},
   "source": [
    "## DC parameters\n",
    "Check that devicies are correct!"
   ]
  },
  {
   "cell_type": "code",
   "execution_count": 8,
   "metadata": {},
   "outputs": [
    {
     "data": {
      "text/plain": [
       "'meas_current_K1'"
      ]
     },
     "execution_count": 8,
     "metadata": {},
     "output_type": "execute_result"
    }
   ],
   "source": [
    "# appl_current = ScaledParameter(ivvi.dac1, division = Irange_division, name = 'appl_current', unit = 'A')\n",
    "appl_current = ScaledParameter(lockin_1.sine_outdc, division = Irange_division, name = 'appl_current', unit = 'A')\n",
    "appl_voltage = ScaledParameter(lockin_1.sine_outdc, division = Vrange_division, name = 'appl_voltage', unit = 'V')\n",
    "# appl_TG = ScaledParameter(ivvi.dac3, division = TGrange_division, name = 'appl_TG', unit = 'V')\n",
    "\n",
    "meas_voltage_K1 = ScaledParameter(keithley1.amplitude, division = Gain_K1, name = 'meas_voltage_K1', unit = 'V')\n",
    "# meas_voltage_K2 = ScaledParameter(keithley_2.amplitude, division = Gain_K2, name = 'meas_voltage_K2', unit = 'V')\n",
    "\n",
    "# meas_leakage = ScaledParameter(keithley_2.amplitude, division = Gain_K2, name = 'meas_leakage', unit = 'A')\n",
    "\n",
    "meas_current_K1 = ScaledParameter(keithley1.amplitude, division = Gain_K1, name = 'meas_current_K1', unit = 'A')\n",
    "# meas_current_K2 = ScaledParameter(keithley_2.amplitude, division = Gain_K2, name = 'meas_current_K2', unit = 'A')\n",
    "\n",
    "station.add_component(appl_current)\n",
    "station.add_component(appl_voltage)\n",
    "# station.add_component(appl_TG)\n",
    "station.add_component(meas_voltage_K1)\n",
    "# station.add_component(meas_voltage_K2)\n",
    "# station.add_component(meas_leakage)\n",
    "station.add_component(meas_current_K1)\n",
    "# station.add_component(meas_current_K2)"
   ]
  },
  {
   "cell_type": "markdown",
   "metadata": {},
   "source": [
    "## AC parameters"
   ]
  },
  {
   "cell_type": "code",
   "execution_count": 9,
   "metadata": {},
   "outputs": [
    {
     "data": {
      "text/plain": [
       "'meas_voltage_R_Lockin1'"
      ]
     },
     "execution_count": 9,
     "metadata": {},
     "output_type": "execute_result"
    }
   ],
   "source": [
    "appl_current_AC = ScaledParameter(lockin_1.amplitude, \n",
    "                                  division = Irange_AC_division, name = 'appl_current_AC', unit = 'A')\n",
    "\n",
    "appl_voltage_AC = ScaledParameter(lockin_1.amplitude, \n",
    "                                  division = Vrange_AC_division, name = 'appl_voltage_AC', unit = 'V')\n",
    "\n",
    "station.add_component(appl_current_AC)\n",
    "station.add_component(appl_voltage_AC)\n",
    "\n",
    "meas_voltage_AC_L1 = ScaledParameter(lockin_1.X, division = Gain_L1, name = 'meas_voltage_Lockin1', unit = 'V')\n",
    "meas_current_AC_L1 = ScaledParameter(lockin_1.X, division = Gain_L1, name = 'meas_current_Lockin1', unit = 'A')\n",
    "\n",
    "# meas_voltage_AC_L2 = ScaledParameter(lockin_2.X, division = Gain_L2, name = 'meas_voltage_Lockin2', unit = 'V')\n",
    "# meas_current_AC_L2 = ScaledParameter(lockin_2.X, division = Gain_L2, name = 'meas_current_Lockin2', unit = 'A')\n",
    "\n",
    "station.add_component(meas_voltage_AC_L1)\n",
    "station.add_component(meas_current_AC_L1)\n",
    "\n",
    "# station.add_component(meas_voltage_AC_L2)\n",
    "# station.add_component(meas_current_AC_L2)\n",
    "\n",
    "meas_voltage_AC_L1_R = ScaledParameter(lockin_1.R, division = Gain_L1, name = 'meas_voltage_R_Lockin1', unit = 'V')\n",
    "# meas_voltage_AC_L2_R = ScaledParameter(lockin_2.R, division = Gain_L2, name = 'meas_voltage_R_Lockin2', unit = 'V')\n",
    "\n",
    "station.add_component(meas_voltage_AC_L1_R)\n",
    "# station.add_component(meas_voltage_AC_L2_R)"
   ]
  },
  {
   "cell_type": "markdown",
   "metadata": {},
   "source": [
    "## Another useful example: magnet using dac (Janis)"
   ]
  },
  {
   "cell_type": "markdown",
   "metadata": {},
   "source": [
    ">2231.2 G per A => 0.22312 T per A<br>\n",
    "I source 10mA per V => 1e-5 A per 1mV<br>\n",
    "result: 0.22312 T/A * 1e-5 A/mV"
   ]
  },
  {
   "cell_type": "code",
   "execution_count": null,
   "metadata": {},
   "outputs": [],
   "source": [
    "#check Janis and VectorJanis!\n",
    "#magnetic_field = ScaledParameter(ivvi.dac3, gain = 0.22312e-5, name = 'magnetic_field_dac', unit = 'T')\n",
    "#station.add_component(magnetic_field)"
   ]
  },
  {
   "cell_type": "code",
   "execution_count": 10,
   "metadata": {},
   "outputs": [],
   "source": [
    "def get_R_from_IV(dataid):\n",
    "    dataset = qc.load_by_id(dataid)\n",
    "\n",
    "    voltage = dataset.get_parameter_data()['meas_voltage_K1']['meas_voltage_K1']\n",
    "    current = dataset.get_parameter_data()['meas_voltage_K1']['appl_current']\n",
    "    fit_values = np.polyfit(current,voltage,1)\n",
    "    \n",
    "    return fit_values[0]\n",
    "\n",
    "def get_R_from_IV_2(dataid):\n",
    "    dataset = qc.load_by_id(dataid)\n",
    "\n",
    "    voltage = dataset.get_parameter_data()['meas_voltage_K2']['meas_voltage_K2']\n",
    "    current = dataset.get_parameter_data()['meas_voltage_K2']['appl_current']\n",
    "    fit_values = np.polyfit(current,voltage,1)\n",
    "    \n",
    "    return fit_values[0]"
   ]
  },
  {
   "cell_type": "markdown",
   "metadata": {},
   "source": [
    "# Fridge"
   ]
  },
  {
   "cell_type": "markdown",
   "metadata": {},
   "source": [
    "# Parameter to get R from fast IV"
   ]
  },
  {
   "cell_type": "code",
   "execution_count": null,
   "metadata": {},
   "outputs": [],
   "source": [
    "I_lim_r_IV = 5e-9\n",
    "N_point_r_IV = 40\n",
    "delay_r_IV = 0.02"
   ]
  },
  {
   "cell_type": "code",
   "execution_count": 11,
   "metadata": {},
   "outputs": [],
   "source": [
    "R_val_2 = None\n",
    "\n",
    "def get_R_from_IV_1():\n",
    "    global R_val_2\n",
    "    I_vals = np.linspace(-I_lim_r_IV, I_lim_r_IV, N_point_r_IV)\n",
    "    V_vals_1 = np.zeros_like(I_vals)\n",
    "    V_vals_2 = np.zeros_like(I_vals)\n",
    "    appl_current.post_delay = delay_r_IV\n",
    "    \n",
    "    for i, I_val in enumerate(I_vals):\n",
    "        appl_current(I_val)\n",
    "        V_vals_1[i] = meas_voltage_K1()\n",
    "        V_vals_2[i] = meas_voltage_K2()\n",
    "        \n",
    "    fit_values_1 = np.polyfit(I_vals,V_vals_1,1)\n",
    "    fit_values_2 = np.polyfit(I_vals,V_vals_2,1)\n",
    "    \n",
    "    R_val_2 = fit_values_2[0]\n",
    "    \n",
    "    return fit_values_1[0]\n",
    "\n",
    "def get_R_from_IV_2():\n",
    "    global R_val_2\n",
    "    if R_val_2:\n",
    "        last_val = R_val_2\n",
    "        R_val_2 = None\n",
    "    else:\n",
    "        get_R_from_IV_1()\n",
    "        last_val = R_val_2\n",
    "        R_val_2 = None\n",
    "    \n",
    "    return last_val"
   ]
  },
  {
   "cell_type": "code",
   "execution_count": 49,
   "metadata": {},
   "outputs": [
    {
     "ename": "NameError",
     "evalue": "name 'I_lim_r_IV' is not defined",
     "output_type": "error",
     "traceback": [
      "\u001b[1;31m---------------------------------------------------------------------------\u001b[0m",
      "\u001b[1;31mNameError\u001b[0m                                 Traceback (most recent call last)",
      "Cell \u001b[1;32mIn[49], line 3\u001b[0m\n\u001b[0;32m      1\u001b[0m \u001b[38;5;28;01mimport\u001b[39;00m \u001b[38;5;21;01mtime\u001b[39;00m\n\u001b[0;32m      2\u001b[0m start_time \u001b[38;5;241m=\u001b[39m time\u001b[38;5;241m.\u001b[39mtime()\n\u001b[1;32m----> 3\u001b[0m \u001b[43mget_R_from_IV_1\u001b[49m\u001b[43m(\u001b[49m\u001b[43m)\u001b[49m\n\u001b[0;32m      4\u001b[0m \u001b[38;5;28mprint\u001b[39m(\u001b[38;5;124m\"\u001b[39m\u001b[38;5;124m--- \u001b[39m\u001b[38;5;132;01m%s\u001b[39;00m\u001b[38;5;124m seconds ---\u001b[39m\u001b[38;5;124m\"\u001b[39m \u001b[38;5;241m%\u001b[39m (time\u001b[38;5;241m.\u001b[39mtime() \u001b[38;5;241m-\u001b[39m start_time))\n",
      "Cell \u001b[1;32mIn[46], line 5\u001b[0m, in \u001b[0;36mget_R_from_IV_1\u001b[1;34m()\u001b[0m\n\u001b[0;32m      3\u001b[0m \u001b[38;5;28;01mdef\u001b[39;00m \u001b[38;5;21mget_R_from_IV_1\u001b[39m():\n\u001b[0;32m      4\u001b[0m     \u001b[38;5;28;01mglobal\u001b[39;00m R_val_2\n\u001b[1;32m----> 5\u001b[0m     I_vals \u001b[38;5;241m=\u001b[39m np\u001b[38;5;241m.\u001b[39mlinspace(\u001b[38;5;241m-\u001b[39m\u001b[43mI_lim_r_IV\u001b[49m, I_lim_r_IV, N_point_r_IV)\n\u001b[0;32m      6\u001b[0m     V_vals_1 \u001b[38;5;241m=\u001b[39m np\u001b[38;5;241m.\u001b[39mzeros_like(I_vals)\n\u001b[0;32m      7\u001b[0m     V_vals_2 \u001b[38;5;241m=\u001b[39m np\u001b[38;5;241m.\u001b[39mzeros_like(I_vals)\n",
      "\u001b[1;31mNameError\u001b[0m: name 'I_lim_r_IV' is not defined"
     ]
    }
   ],
   "source": [
    "import time\n",
    "start_time = time.time()\n",
    "get_R_from_IV_1()\n",
    "print(\"--- %s seconds ---\" % (time.time() - start_time))"
   ]
  },
  {
   "cell_type": "code",
   "execution_count": 48,
   "metadata": {},
   "outputs": [],
   "source": [
    "r_from_IV_1 = Parameter('r_from_IV_1', \n",
    "                       label='resistance from fast IV K1 fit', unit='Ohm', \n",
    "                       set_cmd=None, get_cmd=get_R_from_IV_1)\n",
    "\n",
    "r_from_IV_2 = Parameter('r_from_IV_2', \n",
    "                       label='resistance from fast IV K2 fit', unit='Ohm', \n",
    "                       set_cmd=None, get_cmd=get_R_from_IV_2)"
   ]
  },
  {
   "cell_type": "markdown",
   "metadata": {},
   "source": [
    "# Simple IVs"
   ]
  },
  {
   "cell_type": "code",
   "execution_count": 24,
   "metadata": {},
   "outputs": [],
   "source": [
    "lockin_1.sensitivity(0.001)"
   ]
  },
  {
   "cell_type": "code",
   "execution_count": 44,
   "metadata": {},
   "outputs": [],
   "source": [
    "lockin_1.sensitivity(1)"
   ]
  },
  {
   "cell_type": "code",
   "execution_count": 108,
   "metadata": {},
   "outputs": [],
   "source": [
    "appl_current(0.11e-6)"
   ]
  },
  {
   "cell_type": "code",
   "execution_count": 96,
   "metadata": {},
   "outputs": [],
   "source": [
    "appl_current(0)"
   ]
  },
  {
   "cell_type": "code",
   "execution_count": 97,
   "metadata": {},
   "outputs": [],
   "source": [
    "appl_current_AC(0e-9)"
   ]
  },
  {
   "cell_type": "code",
   "execution_count": 90,
   "metadata": {},
   "outputs": [],
   "source": [
    "lockin_1.auto_range()"
   ]
  },
  {
   "cell_type": "code",
   "execution_count": 72,
   "metadata": {},
   "outputs": [
    {
     "data": {
      "text/plain": [
       "0.3"
      ]
     },
     "execution_count": 72,
     "metadata": {},
     "output_type": "execute_result"
    }
   ],
   "source": [
    "lockin_1.input_range()"
   ]
  },
  {
   "cell_type": "code",
   "execution_count": 102,
   "metadata": {},
   "outputs": [
    {
     "data": {
      "text/plain": [
       "-1.883852e-05"
      ]
     },
     "execution_count": 102,
     "metadata": {},
     "output_type": "execute_result"
    }
   ],
   "source": [
    "meas_voltage_K1()"
   ]
  },
  {
   "cell_type": "code",
   "execution_count": 20,
   "metadata": {},
   "outputs": [
    {
     "name": "stderr",
     "output_type": "stream",
     "text": [
      "There is (are) already experiment(s) with the name of IV and sample name of Dio03_26_27_19_19 Ohms in the database.\n"
     ]
    },
    {
     "name": "stdout",
     "output_type": "stream",
     "text": [
      "Starting experimental run with id: 9. \n"
     ]
    },
    {
     "data": {
      "application/vnd.jupyter.widget-view+json": {
       "model_id": "8f3e927151b84fed9f5382c2cc43f7be",
       "version_major": 2,
       "version_minor": 0
      },
      "text/plain": [
       "  0%|          | 0/101 [00:00<?, ?it/s]"
      ]
     },
     "metadata": {},
     "output_type": "display_data"
    },
    {
     "name": "stderr",
     "output_type": "stream",
     "text": [
      "Trying to mark a run completed that was already completed.\n"
     ]
    },
    {
     "name": "stdout",
     "output_type": "stream",
     "text": [
      "Lockin_1 sensitivity 0.01 Volt.\n",
      "R = 2098.130691327898 Ohms\n"
     ]
    },
    {
     "data": {
      "image/png": "[encoded data removed]",
      "text/plain": [
       "<Figure size 640x480 with 1 Axes>"
      ]
     },
     "metadata": {},
     "output_type": "display_data"
    },
    {
     "data": {
      "image/png": "[encoded data removed]",
      "text/plain": [
       "<Figure size 640x480 with 1 Axes>"
      ]
     },
     "metadata": {},
     "output_type": "display_data"
    }
   ],
   "source": [
    "# sleep(10)\n",
    "current_range = 1e-6\n",
    "lockin_1_sensitivity = lockin_1.sensitivity()\n",
    "appl_current(-current_range)\n",
    "appl_current_AC(50e-9)\n",
    "sleep(2)\n",
    "station.snapshot(update=True);\n",
    "exp = qc.new_experiment('IV', sample_name=f'Dio03_26_27_19_19 Ohms')\n",
    "dataid = do1d(appl_current, -current_range, current_range, 101, 0.1,  meas_voltage_K1, meas_voltage_AC_L1)\n",
    "# ivvi.set_dacs_zero()\n",
    "appl_current(0)\n",
    "appl_current_AC(0)\n",
    "plot_by_id(dataid)\n",
    "print(f\"Lockin_1 sensitivity {lockin_1_sensitivity} Volt.\")\n",
    "print(f\"R = {get_R_from_IV(dataid)} Ohms\")\n",
    "# print(get_R_from_IV_2(dataid))"
   ]
  },
  {
   "cell_type": "code",
   "execution_count": 109,
   "metadata": {},
   "outputs": [
    {
     "name": "stderr",
     "output_type": "stream",
     "text": [
      "Trying to mark a run completed that was already completed.\n"
     ]
    },
    {
     "name": "stdout",
     "output_type": "stream",
     "text": [
      "1049.8759882923705\n"
     ]
    },
    {
     "data": {
      "image/png": "[encoded data removed]",
      "text/plain": [
       "<Figure size 640x480 with 1 Axes>"
      ]
     },
     "metadata": {},
     "output_type": "display_data"
    },
    {
     "data": {
      "image/png": "[encoded data removed]",
      "text/plain": [
       "<Figure size 640x480 with 1 Axes>"
      ]
     },
     "metadata": {},
     "output_type": "display_data"
    }
   ],
   "source": [
    "id = 36\n",
    "plot_by_id(id)\n",
    "print(get_R_from_IV(id))"
   ]
  },
  {
   "cell_type": "code",
   "execution_count": 14,
   "metadata": {},
   "outputs": [
    {
     "data": {
      "text/plain": [
       "<qcodes.parameters.function.Function at 0x20e0d77d790>"
      ]
     },
     "execution_count": 14,
     "metadata": {},
     "output_type": "execute_result"
    }
   ],
   "source": [
    "lockin_1.auto_range\n",
    "lockin_1.auto_scale"
   ]
  },
  {
   "cell_type": "code",
   "execution_count": 41,
   "metadata": {},
   "outputs": [
    {
     "name": "stdout",
     "output_type": "stream",
     "text": [
      "954.2877751892828\n"
     ]
    }
   ],
   "source": [
    "print(get_R_from_IV(dataid))\n",
    "# print(get_R_from_IV_2(dataid))"
   ]
  },
  {
   "cell_type": "code",
   "execution_count": null,
   "metadata": {
    "scrolled": true
   },
   "outputs": [],
   "source": [
    "appl_current_AC(10e-9)\n",
    "appl_current(-1e-6)\n",
    "sleep(10)\n",
    "station.snapshot(update=True);\n",
    "exp = qc.new_experiment('IV + AC', sample_name='TL1_fL_finger')\n",
    "dataid = do1d(appl_current, -1e-6, 1e-6, 501, 3, \n",
    "              meas_voltage_K1, meas_voltage_AC_L1, lockin_1.P, \n",
    "              meas_voltage_K2, meas_voltage_AC_L2, lockin_2.P)\n",
    "# plot_by_id(dataid)\n",
    "ivvi.set_dacs_zero()\n",
    "lockin_1.amplitude(0.004)"
   ]
  },
  {
   "cell_type": "markdown",
   "metadata": {},
   "source": [
    "# Zero Everything"
   ]
  },
  {
   "cell_type": "code",
   "execution_count": 21,
   "metadata": {},
   "outputs": [
    {
     "ename": "SyntaxError",
     "evalue": "invalid syntax (624518687.py, line 4)",
     "output_type": "error",
     "traceback": [
      "\u001b[1;36m  Cell \u001b[1;32mIn[21], line 4\u001b[1;36m\u001b[0m\n\u001b[1;33m    lockin_1.\u001b[0m\n\u001b[1;37m             ^\u001b[0m\n\u001b[1;31mSyntaxError\u001b[0m\u001b[1;31m:\u001b[0m invalid syntax\n"
     ]
    }
   ],
   "source": [
    "appl_current(0e-6)\n",
    "appl_current_AC(0e-6)\n",
    "lockin_1.amplitude()\n",
    "lockin_1.sine_outdc()\n",
    "\n",
    "# ivvi.print_readable_snapshot(update=True)"
   ]
  },
  {
   "cell_type": "markdown",
   "metadata": {},
   "source": [
    "# Gate simple sweeps"
   ]
  },
  {
   "cell_type": "code",
   "execution_count": null,
   "metadata": {},
   "outputs": [],
   "source": [
    "exp = qc.new_experiment('I_vs_Vtg', sample_name='BL1')\n",
    "\n",
    "appl_voltage(1e-3)\n",
    "\n",
    "start_gate = 0.0\n",
    "stop_gate = 0.45\n",
    "num_points = 500\n",
    "leak_threshold = 1e-9\n",
    "\n",
    "#Register independent parameters\n",
    "meas = Measurement()\n",
    "meas.register_parameter(appl_TG)\n",
    "appl_TG.post_delay = 0.05\n",
    "\n",
    "#Register dependent parametrs\n",
    "param_meas = [meas_current_K1, meas_leakage]\n",
    "output = []\n",
    "for parameter in param_meas:\n",
    "    meas.register_parameter(parameter, setpoints=(appl_TG,))\n",
    "    output.append([parameter, None])\n",
    "\n",
    "#Add action at the end\n",
    "meas.add_after_run(ivvi.set_dacs_zero, ())\n",
    "\n",
    "appl_TG(start_gate)\n",
    "sleep(2)\n",
    "\n",
    "#Start measuremnts\n",
    "with meas.run() as datasaver:\n",
    "    for set_point in tqdm(np.linspace(start_gate, stop_gate, num_points)):\n",
    "        appl_TG(set_point)\n",
    "        sleep(0.05)\n",
    "        if np.abs(meas_leakage()) > leak_threshold:\n",
    "            print('Leakage detected!')\n",
    "            break\n",
    "        sleep(0.05)\n",
    "        for i, parameter in enumerate(param_meas):\n",
    "            output[i][1] = parameter.get()\n",
    "        datasaver.add_result((appl_TG, appl_TG()),\n",
    "                             *output)\n",
    "dataid = datasaver.run_id  # convenient to have for plotting"
   ]
  },
  {
   "cell_type": "code",
   "execution_count": null,
   "metadata": {},
   "outputs": [],
   "source": [
    "appl_TG(0)"
   ]
  },
  {
   "cell_type": "code",
   "execution_count": null,
   "metadata": {},
   "outputs": [],
   "source": [
    "plot_by_id(dataid)"
   ]
  },
  {
   "cell_type": "code",
   "execution_count": null,
   "metadata": {},
   "outputs": [],
   "source": [
    "appl_voltage(1e-3)\n",
    "appl_TG(0)\n",
    "sleep(2)\n",
    "station.snapshot(update=True);\n",
    "exp = qc.new_experiment('I_vs_Vgate_up', sample_name='JJ1_JJ5')\n",
    "dataid1 = do1d(appl_TG, 0, 0.4, 400, 0.1, meas_current_K1)\n",
    "# plot_by_id(dataid1)\n",
    "\n",
    "# station.snapshot(update=True);\n",
    "exp = qc.new_experiment('I_vs_Vgate_down', sample_name='JJ1_JJ5')\n",
    "dataid2 = do1d(appl_TG, 0.4, 0.0, 400, 0.1, meas_current_K1)\n",
    "# plot_by_id(dataid2)\n",
    "\n",
    "ivvi.set_dacs_zero()"
   ]
  },
  {
   "cell_type": "code",
   "execution_count": null,
   "metadata": {
    "scrolled": true
   },
   "outputs": [],
   "source": [
    "fig, ax = plt.subplots(1)\n",
    "axes, cbaxes = plot_by_id(dataid1, axes=[ax], label = 'up')\n",
    "axes, cbaxes = plot_by_id(dataid2, axes=[ax], label = 'down')\n",
    "plt.legend(fontsize = 14)\n",
    "plt.savefig('../plots/JJ1_JJ5_hyst1.png')"
   ]
  },
  {
   "cell_type": "markdown",
   "metadata": {},
   "source": [
    "# JJ measurement"
   ]
  },
  {
   "cell_type": "code",
   "execution_count": null,
   "metadata": {},
   "outputs": [],
   "source": [
    "appl_TG(0.35)\n",
    "cryomag.channel_A.field(-5e-3)"
   ]
  },
  {
   "cell_type": "code",
   "execution_count": null,
   "metadata": {},
   "outputs": [],
   "source": [
    "appl_TG(0.35)\n",
    "cryomag.channel_A.field(-5e-3)\n",
    "appl_current(-0.5e-6)\n",
    "sleep(5)\n",
    "\n",
    "station.snapshot(update=True);\n",
    "\n",
    "exp = qc.new_experiment('IV vs B', sample_name='JJ1_JJ1(K1)_JJ2(K2)')\n",
    "\n",
    "dataid = do2d(cryomag.channel_A.field, -5e-3, 5e-3, 201, 2, appl_current, -0.5e-6, 0.5e-6, 501, 0.01, meas_voltage_K1, meas_voltage_K2)\n",
    "\n",
    "appl_current(0)\n",
    "cryomag.channel_A.field(0)\n",
    "\n",
    "plot_by_id(dataid)"
   ]
  },
  {
   "cell_type": "code",
   "execution_count": null,
   "metadata": {},
   "outputs": [],
   "source": [
    "appl_TG(0.35)\n",
    "cryomag.channel_A.field(-20e-3)\n",
    "appl_current(-0.5e-6)\n",
    "sleep(60)\n",
    "\n",
    "station.snapshot(update=True);\n",
    "\n",
    "exp = qc.new_experiment('IV vs B larger range', sample_name='JJ1_JJ1(K1)_JJ2(K2)')\n",
    "\n",
    "dataid = do2d(cryomag.channel_A.field, -20e-3, 20e-3, 401, 4, appl_current, -0.5e-6, 0.5e-6, 501, 0.01, meas_voltage_K1, meas_voltage_K2)\n",
    "\n",
    "appl_current(0)\n",
    "cryomag.channel_A.field(0)\n",
    "\n",
    "plot_by_id(dataid)"
   ]
  },
  {
   "cell_type": "code",
   "execution_count": null,
   "metadata": {},
   "outputs": [],
   "source": [
    "appl_TG(0.35)\n",
    "cryomag.channel_A.field(-5e-3)\n",
    "appl_current(-0.5e-6)\n",
    "sleep(60)\n",
    "\n",
    "station.snapshot(update=True);\n",
    "\n",
    "exp = qc.new_experiment('IV vs B small range', sample_name='JJ1_JJ1(K1)_JJ2(K2)')\n",
    "\n",
    "dataid = do2d(cryomag.channel_A.field, -5e-3, 5e-3, 401, 4, appl_current, -0.5e-6, 0.5e-6, 801, 0.01, meas_voltage_K1, meas_voltage_K2)\n",
    "\n",
    "appl_current(0)\n",
    "cryomag.channel_A.field(0)\n",
    "\n",
    "plot_by_id(dataid)"
   ]
  },
  {
   "cell_type": "code",
   "execution_count": null,
   "metadata": {},
   "outputs": [],
   "source": [
    "cryomag.channel_A.field(-0.3e-3)"
   ]
  },
  {
   "cell_type": "code",
   "execution_count": null,
   "metadata": {},
   "outputs": [],
   "source": []
  },
  {
   "cell_type": "code",
   "execution_count": null,
   "metadata": {},
   "outputs": [],
   "source": [
    "appl_TG(0.2)\n",
    "appl_current(-0.5e-6)\n",
    "sleep(60)\n",
    "\n",
    "station.snapshot(update=True);\n",
    "\n",
    "exp = qc.new_experiment('IV vs Vg', sample_name='JJ1_JJ1(K1)_JJ2(K2)')\n",
    "\n",
    "dataid = do2d(appl_TG, 0.2, 0.4, 21, 3, appl_current, -0.5e-6, 0.5e-6, 801, 0.01, meas_voltage_K1, meas_voltage_K2)\n",
    "\n",
    "appl_current(0)\n",
    "appl_TG(0.35)\n",
    "\n",
    "plot_by_id(dataid)"
   ]
  },
  {
   "cell_type": "markdown",
   "metadata": {},
   "source": [
    "# JJ measurements for MAR"
   ]
  },
  {
   "cell_type": "code",
   "execution_count": null,
   "metadata": {},
   "outputs": [],
   "source": [
    "cryomag.channel_A.field()"
   ]
  },
  {
   "cell_type": "code",
   "execution_count": null,
   "metadata": {},
   "outputs": [],
   "source": [
    "appl_TG(0.4)"
   ]
  },
  {
   "cell_type": "code",
   "execution_count": null,
   "metadata": {},
   "outputs": [],
   "source": [
    "lockin_1.amplitude(0.004)\n",
    "appl_current(-20e-6)\n",
    "sleep(1)\n",
    "station.snapshot(update=True);\n",
    "\n",
    "exp = qc.new_experiment('IV', sample_name='JJ1_JJ_1')\n",
    "dataid = do1d(appl_current, -20e-6, 20e-6, 501, 0.01, meas_voltage_K1)\n",
    "# ivvi.set_dacs_zero()\n",
    "appl_current(0)\n",
    "plot_by_id(dataid)"
   ]
  },
  {
   "cell_type": "code",
   "execution_count": null,
   "metadata": {},
   "outputs": [],
   "source": [
    "#determine lockin sensitivity\n",
    "R = 500 #Ohms\n",
    "I_AC = 100e-9\n",
    "V_real = R * I_AC\n",
    "V_lockin = R * I_AC * Gain_L1()\n",
    "print(V_lockin)"
   ]
  },
  {
   "cell_type": "code",
   "execution_count": null,
   "metadata": {},
   "outputs": [],
   "source": [
    "lockin_1.sensitivity(0.01)"
   ]
  },
  {
   "cell_type": "code",
   "execution_count": null,
   "metadata": {},
   "outputs": [],
   "source": [
    "lockin_1.sensitivity.vals"
   ]
  },
  {
   "cell_type": "code",
   "execution_count": null,
   "metadata": {},
   "outputs": [],
   "source": [
    "2000 / 60"
   ]
  },
  {
   "cell_type": "code",
   "execution_count": null,
   "metadata": {},
   "outputs": [],
   "source": [
    "appl_current(-20e-6)\n",
    "appl_current_AC(100e-9)"
   ]
  },
  {
   "cell_type": "code",
   "execution_count": null,
   "metadata": {},
   "outputs": [],
   "source": [
    "keithley_1.amplitude()"
   ]
  },
  {
   "cell_type": "code",
   "execution_count": null,
   "metadata": {},
   "outputs": [],
   "source": [
    "appl_current_AC(100e-9)\n",
    "appl_current(-20e-6)\n",
    "sleep(10)\n",
    "station.snapshot(update=True);\n",
    "exp = qc.new_experiment('IV + AC', sample_name='JJ1_JJ_3')\n",
    "dataid = do1d(appl_current, -20e-6, 20e-6, 2001, 1, meas_voltage_K1, meas_voltage_AC_L1, meas_voltage_AC_L1_R)\n",
    "# ivvi.set_dacs_zero()\n",
    "appl_current(0)\n",
    "lockin_1.amplitude(0.004)\n",
    "plot_by_id(dataid)"
   ]
  },
  {
   "cell_type": "code",
   "execution_count": null,
   "metadata": {},
   "outputs": [],
   "source": [
    "appl_current(0)\n",
    "lockin_1.amplitude(0.004)"
   ]
  },
  {
   "cell_type": "markdown",
   "metadata": {},
   "source": [
    "# Hall measurements"
   ]
  },
  {
   "cell_type": "code",
   "execution_count": null,
   "metadata": {},
   "outputs": [],
   "source": [
    "appl_gate_1(1)\n",
    "appl_TG(0.4)"
   ]
  },
  {
   "cell_type": "code",
   "execution_count": null,
   "metadata": {},
   "outputs": [],
   "source": [
    "appl_TG(0.4)"
   ]
  },
  {
   "cell_type": "code",
   "execution_count": null,
   "metadata": {},
   "outputs": [],
   "source": [
    "appl_gate_1(1)\n",
    "appl_TG(0.4)\n",
    "appl_current(100e-9)\n",
    "sleep(30)\n",
    "\n",
    "\n",
    "station.snapshot(update=True);\n",
    "\n",
    "exp = qc.new_experiment('Vu_vs_gate_field, Vsplit = 0.4', sample_name='TR1_left_half')\n",
    "\n",
    "dataid = do2d(cryomag.channel_B.field, 0, 5, 41, 10, appl_gate_1, 1, 1.75, 120, 1, meas_voltage_K1)\n",
    "\n",
    "appl_current(0)\n",
    "# appl_TG(0)\n",
    "# appl_gate_1(0)\n",
    "plot_by_id(dataid)"
   ]
  },
  {
   "cell_type": "code",
   "execution_count": null,
   "metadata": {},
   "outputs": [],
   "source": [
    "appl_gate_1(1.1)"
   ]
  },
  {
   "cell_type": "code",
   "execution_count": null,
   "metadata": {},
   "outputs": [],
   "source": [
    "appl_gate_1(1.1)\n",
    "appl_TG(0.4)\n",
    "appl_current_AC(5e-9)\n",
    "appl_current(0)\n",
    "sleep(30)\n",
    "\n",
    "\n",
    "station.snapshot(update=True);\n",
    "\n",
    "exp = qc.new_experiment('ACVd_vs_gate B=5T, Vsplit = 0.4', sample_name='TR1_left_half')\n",
    "\n",
    "dataid = do1d(appl_gate_1, 1.1, 1.75, 120, 3, meas_voltage_AC_L1, meas_voltage_AC_L1_R)\n",
    "lockin_1.amplitude(0.004)\n",
    "appl_current(0)\n",
    "# appl_TG(0)\n",
    "# appl_gate_1(0)\n",
    "plot_by_id(dataid)"
   ]
  },
  {
   "cell_type": "code",
   "execution_count": null,
   "metadata": {},
   "outputs": [],
   "source": [
    "appl_gate_1(1.1)\n",
    "appl_TG(0.4)\n",
    "lockin_1.amplitude(0.004)\n",
    "appl_current(0)\n",
    "sleep(10)\n",
    "\n",
    "\n",
    "station.snapshot(update=True);\n",
    "\n",
    "exp = qc.new_experiment('fast_DC_Vd_vs_gate B=5T, Vsplit = 0.4', sample_name='TR1_left_half')\n",
    "\n",
    "dataid = do1d(appl_gate_1, 1.1, 1.75, 120, 1, r_from_IV_1)\n",
    "lockin_1.amplitude(0.004)\n",
    "appl_current(0)\n",
    "# appl_TG(0)\n",
    "# appl_gate_1(0)\n",
    "plot_by_id(dataid)"
   ]
  },
  {
   "cell_type": "code",
   "execution_count": null,
   "metadata": {},
   "outputs": [],
   "source": [
    "lockin_1.amplitude(0.004)"
   ]
  },
  {
   "cell_type": "code",
   "execution_count": null,
   "metadata": {},
   "outputs": [],
   "source": [
    "appl_gate_1(1.1)\n",
    "appl_TG(0.4)\n",
    "appl_current_AC(5e-9)\n",
    "appl_current(0)\n",
    "sleep(30)\n",
    "\n",
    "\n",
    "station.snapshot(update=True);\n",
    "\n",
    "exp = qc.new_experiment('ACVd_vs_gate_vs_B, Vsplit = 0.4', sample_name='TR1_left_half')\n",
    "\n",
    "dataid = do2d(cryomag.channel_B.field, 5, 4, 11, 5, appl_gate_1, 1.1, 1.75, 120, 3, meas_voltage_AC_L1, meas_voltage_AC_L1_R)\n",
    "lockin_1.amplitude(0.004)\n",
    "appl_current(0)\n",
    "# appl_TG(0)\n",
    "# appl_gate_1(0)\n",
    "plot_by_id(dataid)"
   ]
  },
  {
   "cell_type": "code",
   "execution_count": null,
   "metadata": {},
   "outputs": [],
   "source": [
    "14e3 * 300e-9 *1e3"
   ]
  },
  {
   "cell_type": "code",
   "execution_count": null,
   "metadata": {},
   "outputs": [],
   "source": [
    "lockin_1.amplitude(0.004)\n",
    "appl_gate_1(1.1)\n",
    "appl_TG(0.4)\n",
    "\n",
    "for B_field in [3,4,5,6]:\n",
    "    appl_gate_1(1.1)\n",
    "    cryomag.channel_B.field(B_field)\n",
    "    appl_current(-300e-9)\n",
    "    sleep(60)\n",
    "    \n",
    "    station.snapshot(update=True);\n",
    "\n",
    "    exp = qc.new_experiment('Vd_vs_I_gate, Vsplit = 0.4, B={}'.format(B_field), sample_name='TR1_left_half')\n",
    "\n",
    "    dataid = do2d( appl_gate_1, 1.1, 1.75, 120, 3, appl_current, -300e-9, 300e-9, 1201, 0.05, meas_voltage_K1)\n",
    "    \n",
    "    plot_by_id(dataid)"
   ]
  },
  {
   "cell_type": "code",
   "execution_count": null,
   "metadata": {
    "scrolled": true
   },
   "outputs": [],
   "source": [
    "#Extra experiment at B=3.5\n",
    "lockin_1.amplitude(0.004)\n",
    "appl_gate_1(1.1)\n",
    "appl_TG(0.4)\n",
    "\n",
    "for B_field in [3.5]:\n",
    "    appl_gate_1(1.1)\n",
    "    cryomag.channel_B.field(B_field)\n",
    "    appl_current(-300e-9)\n",
    "    sleep(60)\n",
    "    \n",
    "    station.snapshot(update=True);\n",
    "\n",
    "    exp = qc.new_experiment('Vd_vs_I_gate, Vsplit = 0.4, B={}'.format(B_field), sample_name='TR1_left_half')\n",
    "\n",
    "    dataid = do2d( appl_gate_1, 1.1, 1.75, 120, 3, appl_current, -300e-9, 300e-9, 1201, 0.05, meas_voltage_K1)\n",
    "    \n",
    "    plot_by_id(dataid)"
   ]
  },
  {
   "cell_type": "code",
   "execution_count": null,
   "metadata": {},
   "outputs": [],
   "source": [
    "# Pinch off measurement\n",
    "\n",
    "lockin_1.amplitude(0.004)\n",
    "appl_gate_1(1.1)\n",
    "appl_TG(0.4)\n",
    "\n",
    "for B_field in [3,4,5,6]:\n",
    "    appl_gate_1(1.1)\n",
    "    cryomag.channel_B.field(B_field)\n",
    "    appl_current(-300e-9)\n",
    "    sleep(60)\n",
    "    \n",
    "    station.snapshot(update=True);\n",
    "\n",
    "    exp = qc.new_experiment('Vd_vs_I_gate, Vsplit = 0.4, B={}'.format(B_field), sample_name='TR1_left_half')\n",
    "\n",
    "    dataid = do2d( appl_gate_1, 1.1, 1.75, 120, 3, appl_current, -300e-9, 300e-9, 1201, 0.05, meas_voltage_K1)\n",
    "    \n",
    "    plot_by_id(dataid)"
   ]
  },
  {
   "cell_type": "code",
   "execution_count": null,
   "metadata": {},
   "outputs": [],
   "source": [
    "appl_current(0)"
   ]
  },
  {
   "cell_type": "markdown",
   "metadata": {},
   "source": [
    "# Split-gate in QH"
   ]
  },
  {
   "cell_type": "code",
   "execution_count": null,
   "metadata": {},
   "outputs": [],
   "source": [
    "appl_gate_1(1.3) #nu=1 at 6T\n",
    "appl_TG(0.4) #split-gate\n",
    "appl_voltage(1e-3)\n",
    "\n",
    "station.snapshot(update=True);\n",
    "\n",
    "exp = qc.new_experiment('I,Vd_vs_splitgate, B={}'.format(6), sample_name='TR1_left_half')\n",
    "\n",
    "dataid = do1d(appl_TG, 0.4, -0.5, 200, 1, meas_voltage_K1, meas_current_K2)\n",
    "\n",
    "appl_voltage(0)\n",
    "appl_TG(0)\n",
    "plot_by_id(dataid)"
   ]
  },
  {
   "cell_type": "code",
   "execution_count": null,
   "metadata": {},
   "outputs": [],
   "source": [
    "appl_voltage_AC(1e-6) #1uV\n",
    "appl_gate_1(1.3) #nu=1 at 6T\n",
    "appl_TG(0.4) #split-gate\n",
    "appl_voltage(0)\n",
    "\n",
    "station.snapshot(update=True);\n",
    "\n",
    "exp = qc.new_experiment('I,Vd_vs_splitgate, B={}'.format(6), sample_name='TR1_left_half')\n",
    "\n",
    "dataid = do1d(appl_TG, 0.4, -0.1, 120, 3, meas_voltage_AC_L1, meas_current_AC_L2)\n",
    "\n",
    "lockin_1.amplitude(0.004)\n",
    "appl_TG(0)\n",
    "plot_by_id(dataid)"
   ]
  },
  {
   "cell_type": "code",
   "execution_count": null,
   "metadata": {},
   "outputs": [],
   "source": [
    "appl_voltage_AC(1e-6) #1uV\n",
    "appl_gate_1(1.3) #nu=1 at 6T\n",
    "appl_TG(0.4) #split-gate\n",
    "appl_voltage(0)\n",
    "\n",
    "station.snapshot(update=True);\n",
    "\n",
    "exp = qc.new_experiment('I,Vd_vs_splitgate, B={}'.format(6), sample_name='TR1_left_half')\n",
    "\n",
    "dataid = do1d(appl_TG, 0.4, -0.1, 300, 3, meas_voltage_AC_L1, meas_current_AC_L2)\n",
    "\n",
    "lockin_1.amplitude(0.004)\n",
    "appl_TG(0)\n",
    "plot_by_id(dataid)"
   ]
  },
  {
   "cell_type": "code",
   "execution_count": null,
   "metadata": {},
   "outputs": [],
   "source": [
    "appl_voltage_AC(5e-6) #5uV\n",
    "appl_gate_1(1.3) #nu=1 at 6T\n",
    "appl_TG(0.4) #split-gate\n",
    "appl_voltage(0)\n",
    "\n",
    "station.snapshot(update=True);\n",
    "\n",
    "exp = qc.new_experiment('I,Vd_vs_splitgate, B={}'.format(6), sample_name='TR1_left_half')\n",
    "\n",
    "dataid = do1d(appl_TG, 0.4, -0.1, 300, 3, meas_voltage_AC_L1, meas_current_AC_L2)\n",
    "\n",
    "lockin_1.amplitude(0.004)\n",
    "appl_TG(0)\n",
    "plot_by_id(dataid)"
   ]
  },
  {
   "cell_type": "code",
   "execution_count": null,
   "metadata": {},
   "outputs": [],
   "source": [
    "appl_voltage_AC(10e-6) #10uV\n",
    "appl_gate_1(1.3) #nu=1 at 6T\n",
    "appl_TG(0.4) #split-gate\n",
    "appl_voltage(0)\n",
    "\n",
    "station.snapshot(update=True);\n",
    "\n",
    "exp = qc.new_experiment('I,Vd_vs_splitgate, B={}'.format(6), sample_name='TR1_left_half')\n",
    "\n",
    "dataid = do1d(appl_TG, 0.4, -0.1, 300, 3, meas_voltage_AC_L1, meas_current_AC_L2)\n",
    "\n",
    "lockin_1.amplitude(0.004)\n",
    "appl_TG(0)\n",
    "plot_by_id(dataid)"
   ]
  },
  {
   "cell_type": "code",
   "execution_count": null,
   "metadata": {},
   "outputs": [],
   "source": [
    "appl_voltage_AC(5e-6) #5uV\n",
    "appl_gate_1(1.1)\n",
    "appl_TG(0.4) #split-gate\n",
    "appl_voltage(0)\n",
    "\n",
    "station.snapshot(update=True);\n",
    "\n",
    "exp = qc.new_experiment('I,Vd_vs_TG,splitgate, B={}'.format(6), sample_name='TR1_left_half')\n",
    "\n",
    "dataid = do2d(appl_gate_1, 1.1, 1.75, 21, 3, appl_TG, 0.4, -0.1, 300, 3, meas_voltage_AC_L1, meas_current_AC_L2)\n",
    "\n",
    "lockin_1.amplitude(0.004)\n",
    "appl_TG(0)\n",
    "appl_gate_1(1.4)\n",
    "plot_by_id(dataid)"
   ]
  },
  {
   "cell_type": "code",
   "execution_count": null,
   "metadata": {},
   "outputs": [],
   "source": [
    "lockin_1.amplitude(0.004)\n",
    "appl_TG(0)\n",
    "appl_gate_1(1.4)"
   ]
  },
  {
   "cell_type": "code",
   "execution_count": null,
   "metadata": {},
   "outputs": [],
   "source": [
    "temp = lakeshore.C.temperature()\n",
    "while temp > 0.35:\n",
    "    print('Waiting for base temp! current temp is {:.2f}K'.format(temp), end = '\\r')\n",
    "    sleep(1)\n",
    "    temp = lakeshore.C.temperature()"
   ]
  },
  {
   "cell_type": "code",
   "execution_count": null,
   "metadata": {},
   "outputs": [],
   "source": [
    "cryomag.B.field(5)"
   ]
  },
  {
   "cell_type": "code",
   "execution_count": null,
   "metadata": {},
   "outputs": [],
   "source": [
    "for top_gate_val in np.linspace(1.7, 1.2, 6):\n",
    "    appl_gate_1(top_gate_val)\n",
    "    appl_TG(0.5) #split-gate\n",
    "    appl_voltage(-4e-3)\n",
    "    \n",
    "    sleep(60)\n",
    "\n",
    "    station.snapshot(update=True);\n",
    "\n",
    "    exp = qc.new_experiment('I,Vd_vs_Vbias,splitgate, Vtg={}'.format(top_gate_val), sample_name='TR1_left_half')\n",
    "\n",
    "    dataid = do2d(appl_TG, 0.5, -0.4, 101, 2, appl_voltage, -4e-3, 4e-3, 1201, 0.01, meas_voltage_K1, meas_current_K2)\n",
    "    \n",
    "    appl_voltage(0)\n",
    "    appl_TG(0)"
   ]
  },
  {
   "cell_type": "code",
   "execution_count": null,
   "metadata": {},
   "outputs": [],
   "source": [
    "appl_voltage(0)\n",
    "appl_TG(0)"
   ]
  },
  {
   "cell_type": "markdown",
   "metadata": {},
   "source": [
    "# JJ at high field"
   ]
  },
  {
   "cell_type": "code",
   "execution_count": null,
   "metadata": {},
   "outputs": [],
   "source": [
    "appl_gate_1(0.4)"
   ]
  },
  {
   "cell_type": "code",
   "execution_count": null,
   "metadata": {},
   "outputs": [],
   "source": [
    "station.snapshot(update=True);\n",
    "exp = qc.new_experiment('IV B aprox 5T, TG=0.4V', sample_name='TR1_JJ')\n",
    "dataid = do1d(appl_current, -10e-9, 10e-9, 101, 0.1, meas_voltage_K1)\n",
    "# ivvi.set_dacs_zero()\n",
    "appl_current(0)\n",
    "plot_by_id(dataid)"
   ]
  },
  {
   "cell_type": "code",
   "execution_count": null,
   "metadata": {},
   "outputs": [],
   "source": [
    "temp = lakeshore.C.temperature()\n",
    "while temp > 0.35:\n",
    "    print('Waiting for base temp! current temp is {:.2f}K'.format(temp), end = '\\r')\n",
    "    sleep(1)\n",
    "    temp = lakeshore.C.temperature()"
   ]
  },
  {
   "cell_type": "code",
   "execution_count": null,
   "metadata": {},
   "outputs": [],
   "source": [
    "appl_gate_1(0.3)\n",
    "appl_current_AC(1e-9)\n",
    "appl_current(0)\n",
    "sleep(60)\n",
    "\n",
    "\n",
    "station.snapshot(update=True);\n",
    "\n",
    "exp = qc.new_experiment('ACVd_vs_gate B=5T, Vsplit = 0.4', sample_name='TR1_left_half')\n",
    "\n",
    "dataid = do2d(cryomag.channel_B.field, 6, 1, 51, 5, appl_gate_1, 0.3, 1.7, 141, 3, meas_voltage_AC_L1, meas_voltage_AC_L1_R)\n",
    "\n",
    "lockin_1.amplitude(0.004)\n",
    "appl_current(0)\n",
    "\n",
    "cryomag.channel_B.field(0)\n",
    "\n",
    "appl_gate_1(0.3)\n",
    "plot_by_id(dataid)"
   ]
  },
  {
   "cell_type": "code",
   "execution_count": null,
   "metadata": {},
   "outputs": [],
   "source": [
    "cryomag.channel_B.field(3)"
   ]
  },
  {
   "cell_type": "code",
   "execution_count": null,
   "metadata": {},
   "outputs": [],
   "source": [
    "for Bval in [6, 5, 4, 3]:\n",
    "\n",
    "    cryomag.channel_B.field(Bval)\n",
    "\n",
    "    appl_gate_1(0.4)\n",
    "    appl_current_AC(1e-9)\n",
    "    appl_current(-200e-9)\n",
    "    sleep(60)\n",
    "\n",
    "\n",
    "    station.snapshot(update=True);\n",
    "\n",
    "    exp = qc.new_experiment('AC IV vs Vg, B = {:.2f}'.format(Bval), sample_name='TR1_JJ')\n",
    "\n",
    "    dataid = do2d(appl_gate_1, 0.4, 1.7, 40, 3, appl_current, -200e-9, 200e-9, 21, 3,\n",
    "                  meas_voltage_K1, meas_voltage_AC_L1, meas_voltage_AC_L1_R)\n",
    "\n",
    "    appl_current(0)\n",
    "    appl_gate_1(0.4)\n",
    "    \n",
    "lockin_1.amplitude(0.004)\n",
    "appl_gate_1(0.4)\n",
    "cryomag.channel_B.field(0)"
   ]
  },
  {
   "cell_type": "code",
   "execution_count": null,
   "metadata": {},
   "outputs": [],
   "source": []
  },
  {
   "cell_type": "markdown",
   "metadata": {},
   "source": [
    "# Temp dependence"
   ]
  },
  {
   "cell_type": "code",
   "execution_count": null,
   "metadata": {},
   "outputs": [],
   "source": [
    "# lakeshore.output_1.output_range('off')\n",
    "lakeshore.output_1.setpoint(45.0)\n",
    "# lakeshore.output_1.input_channel('A')\n",
    "lakeshore.output_1.output_range('2.5W')"
   ]
  },
  {
   "cell_type": "code",
   "execution_count": null,
   "metadata": {},
   "outputs": [],
   "source": [
    "print('Temps: A= {:.2f}, B = {:.4f}, C ={:.4f}'.format(lakeshore.A.temperature(), lakeshore.B.temperature(), lakeshore.C.temperature()) )"
   ]
  },
  {
   "cell_type": "code",
   "execution_count": null,
   "metadata": {},
   "outputs": [],
   "source": [
    "lockin_1.time_constant(1)\n",
    "sleep(1)\n",
    "appl_current_AC(2.5e-9)\n",
    "appl_current(-8e-6)\n",
    "sleep(9)\n",
    "\n",
    "lakeshore.output_1.setpoint(0.3)\n",
    "lakeshore.output_1.output_range('25mW')\n",
    "\n",
    "sleep(6)\n",
    "\n",
    "for set_temp in [0.3, 0.35, 0.4, 0.5, 0.6]:\n",
    "    lakeshore.output_1.setpoint(set_temp)\n",
    "    sleep(5)\n",
    "    lakeshore.output_1.wait_until_set_point_reached(wait_cycle_time = 2, tolerance = 20e-3, wait_equilibration_time = 20)\n",
    "    \n",
    "    exp = qc.new_experiment('IV + AC across finger zero field T={}K'.format(set_temp), sample_name='TR1_fR')\n",
    "    \n",
    "    dataid = do1d(appl_current, -8e-6, 8e-6, 400, 2, meas_voltage_K1, meas_voltage_AC_L1, meas_voltage_AC_L1_R, lockin_1.P, lakeshore.C.temperature)\n",
    "    \n",
    "    appl_current(-8e-6)\n",
    "    sleep(5)\n",
    "    \n",
    "    \n",
    "lockin_1.amplitude(0.004)\n",
    "appl_current(0.0)\n",
    "lakeshore.output_1.setpoint(0)\n",
    "lakeshore.output_1.output_range('off')"
   ]
  },
  {
   "cell_type": "code",
   "execution_count": null,
   "metadata": {},
   "outputs": [],
   "source": [
    "lakeshore.C.temperature()"
   ]
  },
  {
   "cell_type": "code",
   "execution_count": null,
   "metadata": {},
   "outputs": [],
   "source": [
    "# time = ElapsedTimeParameter('time')\n",
    "\n",
    "#note that here exit_condition takes two independent parameters and only then measured parameters\n",
    "def temp_limit(temp, current, measured_values):\n",
    "    return temp() < 0.33\n",
    "\n",
    "appl_TG(2.0)\n",
    "sleep(5)\n",
    "appl_TG(1.2)\n",
    "sleep(5)\n",
    "    \n",
    "gate_val = 1.5\n",
    "appl_TG(gate_val)\n",
    "appl_current(-300e-9)\n",
    "sleep(10)\n",
    "\n",
    "B_val = cryomag.channel_B.field()\n",
    "\n",
    "station.snapshot(update=True);\n",
    "exp = qc.new_experiment('IV_vs_temp_CD Vg = {}, B = {:.1f}'.format(gate_val, B_val), sample_name='TR2_fL')\n",
    "\n",
    "dataid = do1d_until(lakeshore.C.temperature, temp_limit, 20, appl_current, -300e-9, 300e-9, 400, 0.05, \n",
    "                    meas_voltage_K1, meas_voltage_K2)\n",
    "\n",
    "appl_current(0)"
   ]
  },
  {
   "cell_type": "code",
   "execution_count": null,
   "metadata": {},
   "outputs": [],
   "source": [
    "def temp_limit(temp, current, measured_values):\n",
    "    return temp() < 0.33\n"
   ]
  },
  {
   "cell_type": "code",
   "execution_count": null,
   "metadata": {},
   "outputs": [],
   "source": [
    "for B_val, gate_val in zip([3, 4, 5, 5, 6, 6],[1.6, 1.8, 1.44, 2, 1.5, 1.6]):\n",
    "    appl_TG(2.0)\n",
    "    sleep(5)\n",
    "    appl_TG(1.2)\n",
    "    sleep(5)\n",
    "    appl_TG(gate_val)\n",
    "    cryomag.channel_B.field(B_val)\n",
    "    \n",
    "    lakeshore.output_1.output_range('2.5W')\n",
    "    \n",
    "    while lakeshore.A.temperature() < 44.5:\n",
    "        sleep(5)\n",
    "    \n",
    "    sleep(60*4)\n",
    "    lakeshore.output_1.output_range('off')\n",
    "    sleep(60*4)\n",
    "    \n",
    "    if level_meter.lastval() < 14.5:\n",
    "        print('He level critical!')\n",
    "        cryomag.channel_B.write('SWEEP ZERO')\n",
    "        break\n",
    "    \n",
    "    temp = lakeshore.C.temperature()\n",
    "    while temp > 2.5:\n",
    "        sleep(10)\n",
    "        temp = lakeshore.C.temperature()\n",
    "    \n",
    "    appl_current(-400e-9)\n",
    "    sleep(5)\n",
    "\n",
    "    station.snapshot(update=True);\n",
    "    exp = qc.new_experiment('IV_vs_temp_CD Vg = {}, B = {:.1f}'.format(gate_val, B_val), sample_name='TR2_N_4probes')\n",
    "\n",
    "    dataid = do1d_until(lakeshore.C.temperature, temp_limit, 20, appl_current, -400e-9, 400e-9, 400, 0.05, \n",
    "                        meas_voltage_K1, meas_voltage_K2)\n",
    "\n",
    "    appl_current(0)\n",
    "    appl_TG(1.3)\n",
    "    \n",
    "# cryomag.channel_B.write('SWEEP ZERO')"
   ]
  },
  {
   "cell_type": "code",
   "execution_count": null,
   "metadata": {},
   "outputs": [],
   "source": [
    "lockin_1.amplitude(0.004)\n",
    "\n",
    "for B_val in [6, 5]:\n",
    "    \n",
    "    cryomag.channel_B.field(B_val)\n",
    "    \n",
    "    lakeshore.output_1.output_range('2.5W')\n",
    "    \n",
    "    while lakeshore.A.temperature() < 44.5:\n",
    "        sleep(5)\n",
    "    \n",
    "    sleep(60*4)\n",
    "    lakeshore.output_1.output_range('off')\n",
    "    sleep(60*3)\n",
    "    \n",
    "    appl_TG(2.0)\n",
    "    sleep(5)\n",
    "    appl_TG(1.3)\n",
    "\n",
    "    station.snapshot(update=True);\n",
    "    exp = qc.new_experiment('DC_fit_vs_Vg_vs_temp_CD zero bias B = {:.1f}'.format(B_val), sample_name='TR2_fB')\n",
    "\n",
    "    dataid = do1d_until(lakeshore.C.temperature, temp_limit, 5, appl_TG, 1.3, 2, 41, 3, \n",
    "                        r_from_IV_1, r_from_IV_2)\n",
    "    appl_TG(1.3)\n",
    "    \n",
    "appl_current(0)"
   ]
  },
  {
   "cell_type": "code",
   "execution_count": null,
   "metadata": {},
   "outputs": [],
   "source": [
    "appl_current_AC(5e-9)\n",
    "appl_current(0)\n",
    "\n",
    "for B_val in [5, 4, 3]:\n",
    "    \n",
    "    cryomag.channel_B.field(B_val)\n",
    "    \n",
    "    lakeshore.output_1.output_range('2.5W')\n",
    "    \n",
    "    while lakeshore.A.temperature() < 44.5:\n",
    "        sleep(5)\n",
    "    \n",
    "    sleep(60*4)\n",
    "    lakeshore.output_1.output_range('off')\n",
    "    sleep(60*3)\n",
    "    \n",
    "    appl_TG(2.0)\n",
    "    sleep(5)\n",
    "    appl_TG(1.3)\n",
    "    \n",
    "    if level_meter.lastval() < 14.5:\n",
    "        print('He level critical!')\n",
    "        cryomag.channel_B.write('SWEEP ZERO')\n",
    "        break\n",
    "        \n",
    "\n",
    "    station.snapshot(update=True);\n",
    "    exp = qc.new_experiment('AC_vs_Vg_vs_temp_CD zero bias B = {:.1f}'.format(B_val), sample_name='TR2_fB')\n",
    "\n",
    "    dataid = do1d_until(lakeshore.C.temperature, temp_limit, 5, appl_TG, 1.3, 2, 41, 3, \n",
    "                        meas_voltage_AC_L1, meas_voltage_AC_L2, meas_voltage_AC_L1_R, meas_voltage_AC_L2_R,\n",
    "                        lockin_1.P, lockin_2.P)\n",
    "    appl_TG(1.3)\n",
    "    \n",
    "# cryomag.channel_B.write('SWEEP ZERO')\n",
    "lockin_1.amplitude(0.004)\n",
    "station.snapshot(update=True);"
   ]
  },
  {
   "cell_type": "code",
   "execution_count": null,
   "metadata": {},
   "outputs": [],
   "source": []
  },
  {
   "cell_type": "code",
   "execution_count": null,
   "metadata": {},
   "outputs": [],
   "source": [
    "cryomag.channel_B.field(0)"
   ]
  },
  {
   "cell_type": "code",
   "execution_count": null,
   "metadata": {},
   "outputs": [],
   "source": [
    "cryomag.channel_B.write('SWEEP ZERO')"
   ]
  },
  {
   "cell_type": "code",
   "execution_count": null,
   "metadata": {},
   "outputs": [],
   "source": [
    "station.snapshot(update=True);"
   ]
  },
  {
   "cell_type": "code",
   "execution_count": null,
   "metadata": {},
   "outputs": [],
   "source": [
    "appl_current(0)"
   ]
  },
  {
   "cell_type": "code",
   "execution_count": null,
   "metadata": {},
   "outputs": [],
   "source": []
  },
  {
   "cell_type": "markdown",
   "metadata": {},
   "source": [
    "# Test cells"
   ]
  },
  {
   "cell_type": "code",
   "execution_count": null,
   "metadata": {},
   "outputs": [],
   "source": [
    "appl_voltage(0)\n",
    "station.snapshot(update=True);\n",
    "exp = qc.new_experiment('wire resistant', sample_name='wire')\n",
    "dataid = do1d(appl_voltage, -3e-3, 3e-3, 101, 0.1, meas_current_K2)\n",
    "# ivvi.set_dacs_zero()\n",
    "\n",
    "plot_by_id(dataid)"
   ]
  },
  {
   "cell_type": "code",
   "execution_count": null,
   "metadata": {},
   "outputs": [],
   "source": [
    "dataid = 153\n",
    "dataset = qc.load_by_id(dataid)"
   ]
  },
  {
   "cell_type": "code",
   "execution_count": null,
   "metadata": {},
   "outputs": [],
   "source": [
    "dataset.get_parameter_data().keys()"
   ]
  },
  {
   "cell_type": "code",
   "execution_count": null,
   "metadata": {},
   "outputs": [],
   "source": [
    "voltage = dataset.get_parameter_data()['meas_current_K2']['appl_voltage']\n",
    "current = dataset.get_parameter_data()['meas_current_K2']['meas_current_K2']\n",
    "\n",
    "fit=np.polyfit(current,voltage,1)\n",
    "fit"
   ]
  },
  {
   "cell_type": "code",
   "execution_count": null,
   "metadata": {},
   "outputs": [],
   "source": []
  }
 ],
 "metadata": {
  "kernelspec": {
   "display_name": "Python 3 (ipykernel)",
   "language": "python",
   "name": "python3"
  },
  "language_info": {
   "codemirror_mode": {
    "name": "ipython",
    "version": 3
   },
   "file_extension": ".py",
   "mimetype": "text/x-python",
   "name": "python",
   "nbconvert_exporter": "python",
   "pygments_lexer": "ipython3",
   "version": "3.11.3"
  },
  "toc": {
   "base_numbering": 1,
   "nav_menu": {},
   "number_sections": true,
   "sideBar": true,
   "skip_h1_title": false,
   "title_cell": "Table of Contents",
   "title_sidebar": "Contents",
   "toc_cell": false,
   "toc_position": {
    "height": "calc(100% - 180px)",
    "left": "10px",
    "top": "150px",
    "width": "240px"
   },
   "toc_section_display": true,
   "toc_window_display": true
  }
 },
 "nbformat": 4,
 "nbformat_minor": 4
}
