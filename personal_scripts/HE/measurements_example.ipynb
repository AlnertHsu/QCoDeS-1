{
 "cells": [
  {
   "cell_type": "markdown",
   "metadata": {},
   "source": [
    "# Initialization"
   ]
  },
  {
   "cell_type": "markdown",
   "metadata": {},
   "source": [
    "## Import of useful modules:"
   ]
  },
  {
   "cell_type": "code",
   "execution_count": 1,
   "metadata": {},
   "outputs": [],
   "source": [
    "%matplotlib inline\n",
    "import os, sys\n",
    "import matplotlib.pyplot as plt\n",
    "import numpy as np\n",
    "from pprint import pprint\n",
    "from tqdm.notebook import tqdm\n",
    "\n",
    "from time import sleep, monotonic, time\n",
    "\n",
    "\n",
    "import qcodes as qc\n",
    "from qcodes import Parameter\n",
    "from qcodes.dataset.plotting import plot_dataset, plot_by_id\n",
    "from qcodes.utils.metadata import diff_param_values\n",
    "from qcodes.instrument.specialized_parameters import ElapsedTimeParameter\n",
    "from qcodes.dataset.measurements import Measurement\n",
    "\n",
    "# sys.path.append('M:\\\\tnw\\\\ns\\\\qt\\\\2D Topo\\\\code\\\\qcodes')\n",
    "sys.path.append('C:\\\\qcodes')\n",
    "from sweeps import do1d, do2d, time_sweep, measure_until, do1d_until\n",
    "\n",
    "import warnings\n",
    "warnings.filterwarnings('ignore')"
   ]
  },
  {
   "cell_type": "code",
   "execution_count": 3,
   "metadata": {},
   "outputs": [
    {
     "name": "stdout",
     "output_type": "stream",
     "text": [
      "Connected to: Stanford_Research_Systems SR860 (serial:004608, firmware:V1.51) in 0.05s\n"
     ]
    }
   ],
   "source": [
    "fridge_name = 'BF1'\n",
    "# %run ..\\..\\..\\..\\..\\code\\qcodes\\init_fridge.py {fridge_name}\n",
    "%run C:\\qcodes\\init_fridge.py {fridge_name}"
   ]
  },
  {
   "cell_type": "markdown",
   "metadata": {},
   "source": [
    "## Zero dacs and lockin"
   ]
  },
  {
   "cell_type": "code",
   "execution_count": 4,
   "metadata": {
    "scrolled": true
   },
   "outputs": [],
   "source": [
    "# ivvi.set_dacs_zero()\n",
    "lockin_1.amplitude(1)\n"
   ]
  },
  {
   "cell_type": "code",
   "execution_count": 5,
   "metadata": {},
   "outputs": [],
   "source": [
    "\n",
    "import numpy as np\n",
    "import matplotlib.pyplot as plt\n",
    "from matplotlib.font_manager import FontProperties\n",
    "from collections import OrderedDict\n",
    "from scipy.interpolate import make_interp_spline\n",
    "plt.rcParams['font.sans-serif'] = ['DFKai-SB'] \n",
    "plt.rcParams['axes.unicode_minus'] = False\n",
    "linestyles_dict = OrderedDict(\n",
    "    [('solid',               (0, ())),\n",
    "     ('loosely dotted',      (0, (1, 10))),\n",
    "     ('dotted',              (0, (1, 5))),\n",
    "     ('densely dotted',      (0, (1, 1))),\n",
    "\n",
    "     ('loosely dashed',      (0, (5, 10))),\n",
    "     ('dashed',              (0, (5, 5))),\n",
    "     ('densely dashed',      (0, (5, 1))),\n",
    "\n",
    "     ('loosely dashdotted',  (0, (3, 10, 1, 10))),\n",
    "     ('dashdotted',          (0, (3, 5, 1, 5))),\n",
    "     ('densely dashdotted',  (0, (3, 1, 1, 1))),\n",
    "\n",
    "     ('loosely dashdotdotted', (0, (3, 10, 1, 10, 1, 10))),\n",
    "     ('dashdotdotted',         (0, (3, 5, 1, 5, 1, 5))),\n",
    "     ('densely dashdotdotted', (0, (3, 1, 1, 1, 1, 1)))])"
   ]
  },
  {
   "cell_type": "code",
   "execution_count": 6,
   "metadata": {},
   "outputs": [],
   "source": [
    "import pandas as pd\n",
    "# from openpyxl import Workbook"
   ]
  },
  {
   "cell_type": "code",
   "execution_count": 7,
   "metadata": {},
   "outputs": [],
   "source": [
    "set_resistance = 10e6\n",
    "set_V_amp = lockin_1.amplitude()\n",
    "set_current = set_V_amp/set_resistance\n"
   ]
  },
  {
   "cell_type": "code",
   "execution_count": 8,
   "metadata": {},
   "outputs": [],
   "source": [
    "def mes_Vdb_to_f_value(step_fre, set_sat_f, set_end_f):\n",
    "    t =lockin_1.time_constant( ) #set sleep times\n",
    "    tim_fre = int((set_end_f-set_sat_f-1)/step_fre)\n",
    "    fre_x = np.zeros(step_fre+1)\n",
    "    V_sap_y = np.zeros(step_fre+1)\n",
    "    R_sap_y = np.zeros(step_fre+1)\n",
    "    idex = 0\n",
    "    lockin_1.frequency(1)\n",
    "    sleep(1)\n",
    "    for i in range(set_sat_f, set_end_f, tim_fre):\n",
    "        if i == 1:\n",
    "            idex += 1\n",
    "            \n",
    "        elif i>1 and i< int(5e5):\n",
    "            if idex < len(fre_x):\n",
    "                fre_x[idex] = i+idex-1\n",
    "                lockin_1.frequency(i+idex-1)\n",
    "        \n",
    "                V_sap_y[idex] = lockin_1.R()\n",
    "                sleep(t)\n",
    "                idex += 1\n",
    "            \n",
    "        else:\n",
    "            print(\"f >500 KHz\")\n",
    "            break\n",
    "    dbm_V = 20*np.log10(V_sap_y)\n",
    "    dbm_V[0] = 0\n",
    "    dbm_V[1] = 0\n",
    "    # for i in range(0, 10):\n",
    "    #     if  dbm_V[i] > 0:\n",
    "    #         dbm_V[i] = dbm_V[i+1]\n",
    "    return fre_x, dbm_V"
   ]
  },
  {
   "cell_type": "code",
   "execution_count": 9,
   "metadata": {},
   "outputs": [],
   "source": [
    "def mes_V_to_f_value(step_fre, set_sat_f, set_end_f):\n",
    "    t =lockin_1.time_constant( ) #set sleep times\n",
    "    tim_fre = int((set_end_f-set_sat_f-1)/step_fre)\n",
    "    fre_x = np.zeros(step_fre+1)\n",
    "    V_sap_y = np.zeros(step_fre+1)\n",
    "    R_sap_y = np.zeros(step_fre+1)\n",
    "    idex = 0\n",
    "    lockin_1.frequency(1)\n",
    "    sleep(1)\n",
    "    for i in range(set_sat_f, set_end_f, tim_fre):\n",
    "        if i == 1:\n",
    "            idex += 1\n",
    "            \n",
    "        elif i>1 and i< int(5e5):\n",
    "            if idex < len(fre_x):\n",
    "                fre_x[idex] = i+idex-1\n",
    "                lockin_1.frequency(i+idex-1)\n",
    "        \n",
    "                V_sap_y[idex] = lockin_1.R()\n",
    "                sleep(t)\n",
    "                idex += 1\n",
    "            \n",
    "        else:\n",
    "            print(\"f >500 KHz\")\n",
    "            break\n",
    "\n",
    "    return fre_x, V_sap_y"
   ]
  },
  {
   "cell_type": "code",
   "execution_count": 10,
   "metadata": {},
   "outputs": [],
   "source": [
    "# find -3dBm frequency\n",
    "def closest_value(list_a, k):\n",
    "    arr = list_a\n",
    "    ids = (np.abs(arr - k)).argmin()\n",
    "    return arr[ids] , ids"
   ]
  },
  {
   "cell_type": "code",
   "execution_count": 51,
   "metadata": {},
   "outputs": [
    {
     "name": "stdout",
     "output_type": "stream",
     "text": [
      "10080.0\n"
     ]
    }
   ],
   "source": [
    "# mes 10 time to avg\n",
    "set_sat_f = int(1)\n",
    "set_end_f = int(8e4) # max frequency 5e5\n",
    "step_fre = 1000 # set point you want\n",
    "\n",
    "\n",
    "\n",
    "\n",
    "# avg_fre = np.zeros(10)\n",
    "\n",
    "\n",
    "# for i in range (1,11):\n",
    "    \n",
    "#     V_TO_f = mes_Vdb_to_f_value(step_fre, set_sat_f, set_end_f)\n",
    "#     dBm3_fre = closest_value(V_TO_f[1], k)\n",
    "#     avg_fre[i-1] = V_TO_f[0].tolist()[dBm3_fre[1]]\n",
    "# print(np.average(avg_fre))\n",
    "\n",
    "V_TO_f = mes_Vdb_to_f_value(step_fre, set_sat_f, set_end_f)\n",
    "# set -3dBm V\n",
    "k = -3\n",
    "\n",
    "dBm3_fre = closest_value(V_TO_f[1], k)\n",
    "print(V_TO_f[0].tolist()[dBm3_fre[1]])\n",
    "# print(dBm3_fre)"
   ]
  },
  {
   "cell_type": "code",
   "execution_count": 66,
   "metadata": {},
   "outputs": [],
   "source": [
    "set_sat_f = int(1)\n",
    "set_end_f = int(8e4) # max frequency 5e5\n",
    "step_fre = 2000 # set point you want\n",
    "k = -3"
   ]
  },
  {
   "cell_type": "code",
   "execution_count": 16,
   "metadata": {},
   "outputs": [
    {
     "name": "stdout",
     "output_type": "stream",
     "text": [
      "16000.0\n"
     ]
    }
   ],
   "source": [
    "# for low pass\n",
    "low_V_f = mes_Vdb_to_f_value(step_fre, set_sat_f, set_end_f)\n",
    "low_dBm3 = closest_value(low_V_f[1], k)\n",
    "print(low_V_f[0].tolist()[low_dBm3[1]])"
   ]
  },
  {
   "cell_type": "code",
   "execution_count": 20,
   "metadata": {},
   "outputs": [
    {
     "name": "stdout",
     "output_type": "stream",
     "text": [
      "12160.0\n"
     ]
    }
   ],
   "source": [
    "# for low pass ---- 100ohm ---- 100nF\n",
    "low_V_f_100 = mes_Vdb_to_f_value(step_fre, set_sat_f, set_end_f)\n",
    "low_dBm3_100 = closest_value(low_V_f_100[1], k)\n",
    "print(low_V_f_100[0].tolist()[low_dBm3_100[1]])"
   ]
  },
  {
   "cell_type": "code",
   "execution_count": 31,
   "metadata": {},
   "outputs": [
    {
     "name": "stdout",
     "output_type": "stream",
     "text": [
      "15640.0\n"
     ]
    }
   ],
   "source": [
    "# for T pass\n",
    "T_V_f = mes_Vdb_to_f_value(step_fre, set_sat_f, set_end_f)\n",
    "T_dBm3 = closest_value(T_V_f[1], k)\n",
    "print(T_V_f[0].tolist()[T_dBm3[1]])"
   ]
  },
  {
   "cell_type": "code",
   "execution_count": 33,
   "metadata": {},
   "outputs": [
    {
     "name": "stdout",
     "output_type": "stream",
     "text": [
      "11240.0\n"
     ]
    }
   ],
   "source": [
    "# for T pass ---- 100ohm ---- 100nF\n",
    "T_V_f_100 = mes_Vdb_to_f_value(step_fre, set_sat_f, set_end_f)\n",
    "T_dBm3_100 = closest_value(T_V_f_100[1], k)\n",
    "print(T_V_f_100[0].tolist()[T_dBm3_100[1]])"
   ]
  },
  {
   "cell_type": "code",
   "execution_count": 36,
   "metadata": {},
   "outputs": [
    {
     "name": "stdout",
     "output_type": "stream",
     "text": [
      "15320.0\n"
     ]
    }
   ],
   "source": [
    "# for pi pass\n",
    "pi_V_f = mes_Vdb_to_f_value(step_fre, set_sat_f, set_end_f)\n",
    "pi_dBm3 = closest_value(pi_V_f[1], k)\n",
    "print(pi_V_f[0].tolist()[pi_dBm3[1]])"
   ]
  },
  {
   "cell_type": "code",
   "execution_count": 71,
   "metadata": {},
   "outputs": [
    {
     "name": "stdout",
     "output_type": "stream",
     "text": [
      "9960.0\n"
     ]
    }
   ],
   "source": [
    "# for pi pass ---- 100ohm ---- 100nF\n",
    "pi_V_f_100 = mes_Vdb_to_f_value(step_fre, set_sat_f, set_end_f)\n",
    "pi_dBm3_100 = closest_value(pi_V_f_100[1], k)\n",
    "print(pi_V_f_100[0].tolist()[pi_dBm3_100[1]])\n",
    "avg_fre = np.zeros(10)\n",
    "\n",
    "\n",
    "# for i in range (1,11):\n",
    "    \n",
    "#     pi_V_f_100 = mes_Vdb_to_f_value(step_fre, set_sat_f, set_end_f)\n",
    "#     pi_dBm3_100 = closest_value(pi_V_f_100[1], k)\n",
    "#     avg_fre[i-1] = pi_V_f_100[0].tolist()[pi_dBm3_100[1]]\n",
    "# print(np.average(avg_fre))\n"
   ]
  },
  {
   "cell_type": "code",
   "execution_count": 57,
   "metadata": {},
   "outputs": [],
   "source": [
    "columns = ['x',\n",
    "            'low_V_f',\n",
    "           'low_V_f_100',\n",
    "           'T_V_f',\n",
    "           'T_V_f_100',\n",
    "           'pi_V_f',\n",
    "           'pi_V_f_100'\n",
    "          ]"
   ]
  },
  {
   "cell_type": "code",
   "execution_count": 65,
   "metadata": {},
   "outputs": [
    {
     "data": {
      "text/plain": [
       "1001"
      ]
     },
     "execution_count": 65,
     "metadata": {},
     "output_type": "execute_result"
    }
   ],
   "source": [
    "len(pi_V_f_100[1])"
   ]
  },
  {
   "cell_type": "code",
   "execution_count": 72,
   "metadata": {},
   "outputs": [
    {
     "data": {
      "text/html": [
       "<div>\n",
       "<style scoped>\n",
       "    .dataframe tbody tr th:only-of-type {\n",
       "        vertical-align: middle;\n",
       "    }\n",
       "\n",
       "    .dataframe tbody tr th {\n",
       "        vertical-align: top;\n",
       "    }\n",
       "\n",
       "    .dataframe thead th {\n",
       "        text-align: right;\n",
       "    }\n",
       "</style>\n",
       "<table border=\"1\" class=\"dataframe\">\n",
       "  <thead>\n",
       "    <tr style=\"text-align: right;\">\n",
       "      <th></th>\n",
       "      <th>x</th>\n",
       "      <th>low_V_f</th>\n",
       "      <th>low_V_f_100</th>\n",
       "      <th>T_V_f</th>\n",
       "      <th>T_V_f_100</th>\n",
       "      <th>pi_V_f</th>\n",
       "      <th>pi_V_f_100</th>\n",
       "    </tr>\n",
       "  </thead>\n",
       "  <tbody>\n",
       "    <tr>\n",
       "      <th>0</th>\n",
       "      <td>0.0</td>\n",
       "      <td>0.000000</td>\n",
       "      <td>0.000000</td>\n",
       "      <td>0.000000</td>\n",
       "      <td>0.000000</td>\n",
       "      <td>0.000000</td>\n",
       "      <td>0.000000</td>\n",
       "    </tr>\n",
       "    <tr>\n",
       "      <th>1</th>\n",
       "      <td>40.0</td>\n",
       "      <td>0.000000</td>\n",
       "      <td>0.000000</td>\n",
       "      <td>0.000000</td>\n",
       "      <td>0.000000</td>\n",
       "      <td>0.000000</td>\n",
       "      <td>0.000000</td>\n",
       "    </tr>\n",
       "    <tr>\n",
       "      <th>2</th>\n",
       "      <td>80.0</td>\n",
       "      <td>0.101933</td>\n",
       "      <td>0.040104</td>\n",
       "      <td>-0.794416</td>\n",
       "      <td>-0.215920</td>\n",
       "      <td>0.048818</td>\n",
       "      <td>0.359682</td>\n",
       "    </tr>\n",
       "    <tr>\n",
       "      <th>3</th>\n",
       "      <td>120.0</td>\n",
       "      <td>-0.069578</td>\n",
       "      <td>0.097356</td>\n",
       "      <td>-0.530484</td>\n",
       "      <td>0.119693</td>\n",
       "      <td>0.351025</td>\n",
       "      <td>-0.136523</td>\n",
       "    </tr>\n",
       "    <tr>\n",
       "      <th>4</th>\n",
       "      <td>160.0</td>\n",
       "      <td>0.273147</td>\n",
       "      <td>0.043411</td>\n",
       "      <td>-0.182153</td>\n",
       "      <td>0.029019</td>\n",
       "      <td>0.046201</td>\n",
       "      <td>0.036630</td>\n",
       "    </tr>\n",
       "    <tr>\n",
       "      <th>...</th>\n",
       "      <td>...</td>\n",
       "      <td>...</td>\n",
       "      <td>...</td>\n",
       "      <td>...</td>\n",
       "      <td>...</td>\n",
       "      <td>...</td>\n",
       "      <td>...</td>\n",
       "    </tr>\n",
       "    <tr>\n",
       "      <th>1996</th>\n",
       "      <td>79840.0</td>\n",
       "      <td>-13.972291</td>\n",
       "      <td>-14.934244</td>\n",
       "      <td>-14.245367</td>\n",
       "      <td>-15.480185</td>\n",
       "      <td>-14.549243</td>\n",
       "      <td>-19.952332</td>\n",
       "    </tr>\n",
       "    <tr>\n",
       "      <th>1997</th>\n",
       "      <td>79880.0</td>\n",
       "      <td>-13.976519</td>\n",
       "      <td>-14.938033</td>\n",
       "      <td>-14.249850</td>\n",
       "      <td>-15.484321</td>\n",
       "      <td>-14.552882</td>\n",
       "      <td>-19.958882</td>\n",
       "    </tr>\n",
       "    <tr>\n",
       "      <th>1998</th>\n",
       "      <td>79920.0</td>\n",
       "      <td>-13.979736</td>\n",
       "      <td>-14.942346</td>\n",
       "      <td>-14.254237</td>\n",
       "      <td>-15.488476</td>\n",
       "      <td>-14.557104</td>\n",
       "      <td>-19.965177</td>\n",
       "    </tr>\n",
       "    <tr>\n",
       "      <th>1999</th>\n",
       "      <td>79960.0</td>\n",
       "      <td>-13.984141</td>\n",
       "      <td>-14.946565</td>\n",
       "      <td>-14.258049</td>\n",
       "      <td>-15.492457</td>\n",
       "      <td>-14.561529</td>\n",
       "      <td>-19.971692</td>\n",
       "    </tr>\n",
       "    <tr>\n",
       "      <th>2000</th>\n",
       "      <td>80000.0</td>\n",
       "      <td>-13.988055</td>\n",
       "      <td>-14.950673</td>\n",
       "      <td>-14.262035</td>\n",
       "      <td>-15.496030</td>\n",
       "      <td>-14.566121</td>\n",
       "      <td>-19.978182</td>\n",
       "    </tr>\n",
       "  </tbody>\n",
       "</table>\n",
       "<p>2001 rows × 7 columns</p>\n",
       "</div>"
      ],
      "text/plain": [
       "            x    low_V_f  low_V_f_100      T_V_f  T_V_f_100     pi_V_f  \\\n",
       "0         0.0   0.000000     0.000000   0.000000   0.000000   0.000000   \n",
       "1        40.0   0.000000     0.000000   0.000000   0.000000   0.000000   \n",
       "2        80.0   0.101933     0.040104  -0.794416  -0.215920   0.048818   \n",
       "3       120.0  -0.069578     0.097356  -0.530484   0.119693   0.351025   \n",
       "4       160.0   0.273147     0.043411  -0.182153   0.029019   0.046201   \n",
       "...       ...        ...          ...        ...        ...        ...   \n",
       "1996  79840.0 -13.972291   -14.934244 -14.245367 -15.480185 -14.549243   \n",
       "1997  79880.0 -13.976519   -14.938033 -14.249850 -15.484321 -14.552882   \n",
       "1998  79920.0 -13.979736   -14.942346 -14.254237 -15.488476 -14.557104   \n",
       "1999  79960.0 -13.984141   -14.946565 -14.258049 -15.492457 -14.561529   \n",
       "2000  80000.0 -13.988055   -14.950673 -14.262035 -15.496030 -14.566121   \n",
       "\n",
       "      pi_V_f_100  \n",
       "0       0.000000  \n",
       "1       0.000000  \n",
       "2       0.359682  \n",
       "3      -0.136523  \n",
       "4       0.036630  \n",
       "...          ...  \n",
       "1996  -19.952332  \n",
       "1997  -19.958882  \n",
       "1998  -19.965177  \n",
       "1999  -19.971692  \n",
       "2000  -19.978182  \n",
       "\n",
       "[2001 rows x 7 columns]"
      ]
     },
     "execution_count": 72,
     "metadata": {},
     "output_type": "execute_result"
    }
   ],
   "source": [
    "df = pd.DataFrame(list(zip(low_V_f[0],\n",
    "                           low_V_f[1],\n",
    "                           low_V_f_100[1],\n",
    "                           T_V_f[1],\n",
    "                           T_V_f_100[1],\n",
    "                           pi_V_f[1],\n",
    "                           pi_V_f_100[1]\n",
    "                            )), columns=columns)\n",
    "\n",
    "df.to_csv(r'out4.csv')\n",
    "df"
   ]
  },
  {
   "cell_type": "code",
   "execution_count": 47,
   "metadata": {},
   "outputs": [
    {
     "data": {
      "image/png": "[encoded data removed]",
      "text/plain": [
       "<Figure size 640x480 with 1 Axes>"
      ]
     },
     "metadata": {},
     "output_type": "display_data"
    }
   ],
   "source": [
    "\n",
    "\n",
    "fig, ax= plt.subplots()\n",
    "\n",
    "ax.set(xlabel = 'frequency(HZ)', ylabel = 'dB', \n",
    "       title = \"voltage attenuation versus frequency \")  \n",
    "ax.title.set_size(20)\n",
    "ax.xaxis.label.set_size(16)\n",
    "ax.yaxis.label.set_size(16)\n",
    "ax.set_ylim(int(pi_V_f[1].min())-0.5, int(pi_V_f[1].max())+0.5)\n",
    "# plt.yticks(np.linspace(int(pi_V_f[1].min())-1, 0, -int(pi_V_f[1].min())+2))\n",
    "\n",
    "plt.yticks(np.linspace(-15, 0, 6))\n",
    "# for low pass\n",
    "\n",
    "ax.scatter(low_V_f[0],\n",
    "            low_V_f[1],\n",
    "            c = \"k\",                                  \n",
    "            s = 1,                                  \n",
    "            alpha = 1,\n",
    "            label =r\" $low$ pass filter $1k\\Omega$ and$\\ 10nF $\",\n",
    "            marker = \"o\")\n",
    "# for T pass\n",
    "\n",
    "ax.scatter(T_V_f[0],\n",
    "            T_V_f[1],\n",
    "            c = \"r\",                                  \n",
    "            s = 1,                                  \n",
    "            alpha = 1,\n",
    "            label =r\" $T$ pass filter $1k\\Omega$ and$\\ 10nF $\",\n",
    "            marker = \"x\")\n",
    "\n",
    "# for pi pass\n",
    "\n",
    "ax.scatter(pi_V_f[0],\n",
    "            pi_V_f[1],\n",
    "            c = \"g\",                                  \n",
    "            s = 1,                                  \n",
    "            alpha = 1,\n",
    "            label =r\" $\\pi$ pass filter $1k\\Omega$ and$\\ 10nF $\",\n",
    "            marker = \"*\")\n",
    "\n",
    "\n",
    "plt.grid(color = 'gray', linestyle = '--', linewidth = 0.5)\n",
    "plt.legend()\n",
    "plt.savefig('C:\\\\qcodes\\\\personal_scripts\\\\HE\\\\filter\\only_filter\\\\aa.png', \n",
    "            dpi=200, \n",
    "            format='png')\n",
    "plt.show()"
   ]
  },
  {
   "cell_type": "code",
   "execution_count": 69,
   "metadata": {
    "scrolled": true
   },
   "outputs": [
    {
     "data": {
      "image/png": "[encoded data removed]",
      "text/plain": [
       "<Figure size 640x480 with 1 Axes>"
      ]
     },
     "metadata": {},
     "output_type": "display_data"
    }
   ],
   "source": [
    "fig, ax= plt.subplots()\n",
    "\n",
    "ax.set(xlabel = 'frequency(HZ)', ylabel = 'dB', \n",
    "       title = \"voltage attenuation versus frequency \")  \n",
    "ax.title.set_size(20)\n",
    "ax.xaxis.label.set_size(16)\n",
    "ax.yaxis.label.set_size(16)\n",
    "ax.set_ylim(int(pi_V_f[1].min())-0.5, int(pi_V_f[1].max())+0.5)\n",
    "# plt.yticks(np.linspace(int(pi_V_f[1].min())-1, 0, -int(pi_V_f[1].min())+2))\n",
    "\n",
    "plt.yticks(np.linspace(-16, 0, 5))\n",
    "# for low pass\n",
    "\n",
    "ax.scatter(low_V_f_100[0],\n",
    "            low_V_f_100[1],\n",
    "            c = \"k\",                                  \n",
    "            s = 1,                                  \n",
    "            alpha = 1,\n",
    "            label =r\" $low$ pass filter $100\\Omega$ and$\\ 100nF $\",\n",
    "            marker = \"o\")\n",
    "# for T pass\n",
    "\n",
    "ax.scatter(T_V_f_100[0],\n",
    "            T_V_f_100[1],\n",
    "            c = \"r\",                                  \n",
    "            s = 1,                                  \n",
    "            alpha = 1,\n",
    "            label =r\" $T$ pass filter $100\\Omega$ and$\\ 100nF $\",\n",
    "            marker = \"x\")\n",
    "\n",
    "# for pi pass\n",
    "\n",
    "ax.scatter(pi_V_f_100[0],\n",
    "            pi_V_f_100[1],\n",
    "            c = \"g\",                                  \n",
    "            s = 1,                                  \n",
    "            alpha = 1,\n",
    "            label =r\" $\\pi$ pass filter $100\\Omega$ and$\\ 100nF $\",\n",
    "            marker = \"*\")\n",
    "\n",
    "\n",
    "plt.grid(color = 'gray', linestyle = '--', linewidth = 0.5)\n",
    "plt.legend()\n",
    "# plt.savefig('C:\\\\qcodes\\\\personal_scripts\\\\HE\\\\filter\\only_filter\\\\aaa.png', \n",
    "#             dpi=200, \n",
    "#             format='png')\n",
    "plt.show()"
   ]
  },
  {
   "cell_type": "code",
   "execution_count": 288,
   "metadata": {},
   "outputs": [],
   "source": [
    "#for R\n",
    "set_sat_f = int(1)\n",
    "set_end_f = int(5e5) # max frequency 5e5\n",
    "step_fre = 10000 # set point you want\n",
    "# v_i = lockin_1.amplitude()\n",
    "\n",
    "set_resistance = 10e6\n",
    "set_V_amp = lockin_1.amplitude()\n",
    "set_current = set_V_amp/set_resistance"
   ]
  },
  {
   "cell_type": "code",
   "execution_count": 10,
   "metadata": {},
   "outputs": [
    {
     "data": {
      "text/plain": [
       "1.0"
      ]
     },
     "execution_count": 10,
     "metadata": {},
     "output_type": "execute_result"
    }
   ],
   "source": [
    "lockin_1.amplitude()"
   ]
  },
  {
   "cell_type": "code",
   "execution_count": null,
   "metadata": {},
   "outputs": [],
   "source": [
    "#for R\n",
    "\n",
    "v_o = mes_V_to_f_value(step_fre, set_sat_f, set_end_f)\n",
    "R_s = v_o[1]/set_current"
   ]
  },
  {
   "cell_type": "code",
   "execution_count": 52,
   "metadata": {},
   "outputs": [],
   "source": [
    "#for low pass 10ohm --1k ver 10nF\n",
    "\n",
    "# low_10_1 = mes_V_to_f_value(step_fre, set_sat_f, set_end_f)\n",
    "# R_low_10_1 = low_10_1[1]/set_current"
   ]
  },
  {
   "cell_type": "code",
   "execution_count": 79,
   "metadata": {},
   "outputs": [],
   "source": [
    "#for low pass 100ohm --1k ver 10nF\n",
    "\n",
    "# low_100_1 = mes_V_to_f_value(step_fre, set_sat_f, set_end_f)\n",
    "# R_low_100_1 = low_100_1[1]/set_current"
   ]
  },
  {
   "cell_type": "code",
   "execution_count": 73,
   "metadata": {},
   "outputs": [],
   "source": [
    "#for low pass 10Mohm --1k ver 10nF\n",
    "\n",
    "# low_10M_1 = mes_V_to_f_value(step_fre, set_sat_f, set_end_f)\n",
    "# R_low_10M_1 = low_10M_1[1]/set_current"
   ]
  },
  {
   "cell_type": "code",
   "execution_count": 85,
   "metadata": {},
   "outputs": [],
   "source": [
    "#for low pass 10ohm --100 ver 100nF\n",
    "\n",
    "# low_10_100 = mes_V_to_f_value(step_fre, set_sat_f, set_end_f)\n",
    "# R_low_10_100 = low_10_100[1]/set_current"
   ]
  },
  {
   "cell_type": "code",
   "execution_count": 88,
   "metadata": {},
   "outputs": [],
   "source": [
    "#for low pass 100ohm --100 ver 100nF\n",
    "\n",
    "# low_100_100 = mes_V_to_f_value(step_fre, set_sat_f, set_end_f)\n",
    "# R_low_100_100 = low_100_100[1]/set_current"
   ]
  },
  {
   "cell_type": "code",
   "execution_count": 94,
   "metadata": {},
   "outputs": [],
   "source": [
    "#for low pass 10Mohm --100 ver 100nF\n",
    "\n",
    "# low_10M_100 = mes_V_to_f_value(step_fre, set_sat_f, set_end_f)\n",
    "# R_low_10M_100 = low_10M_100[1]/set_current"
   ]
  },
  {
   "cell_type": "code",
   "execution_count": 96,
   "metadata": {},
   "outputs": [],
   "source": [
    "#for T pass 10ohm --1k ver 10nF\n",
    "\n",
    "# T_10_1 = mes_V_to_f_value(step_fre, set_sat_f, set_end_f)\n",
    "# R_T_10_1 = T_10_1[1]/set_current"
   ]
  },
  {
   "cell_type": "code",
   "execution_count": 107,
   "metadata": {},
   "outputs": [],
   "source": [
    "#for T pass 100ohm --1k ver 10nF\n",
    "\n",
    "# T_100_1 = mes_V_to_f_value(step_fre, set_sat_f, set_end_f)\n",
    "# R_T_100_1 = T_100_1[1]/set_current"
   ]
  },
  {
   "cell_type": "code",
   "execution_count": 109,
   "metadata": {},
   "outputs": [],
   "source": [
    "#for T pass 10Mohm --1k ver 10nF\n",
    "\n",
    "# T_10M_1 = mes_V_to_f_value(step_fre, set_sat_f, set_end_f)\n",
    "# R_T_10M_1 = T_10M_1[1]/set_current"
   ]
  },
  {
   "cell_type": "code",
   "execution_count": 111,
   "metadata": {},
   "outputs": [],
   "source": [
    "#for T pass 10ohm --100 ver 100nF\n",
    "\n",
    "# T_10_100 = mes_V_to_f_value(step_fre, set_sat_f, set_end_f)\n",
    "# R_T_10_100 = T_10_100[1]/set_current"
   ]
  },
  {
   "cell_type": "code",
   "execution_count": 115,
   "metadata": {},
   "outputs": [],
   "source": [
    "#for T pass 100ohm --100 ver 100nF\n",
    "\n",
    "# T_100_100 = mes_V_to_f_value(step_fre, set_sat_f, set_end_f)\n",
    "# R_T_100_100 = T_100_100[1]/set_current"
   ]
  },
  {
   "cell_type": "code",
   "execution_count": 118,
   "metadata": {},
   "outputs": [],
   "source": [
    "#for T pass 10Mohm --100 ver 100nF\n",
    "\n",
    "# T_10M_100 = mes_V_to_f_value(step_fre, set_sat_f, set_end_f)\n",
    "# R_T_10M_100 =T_10M_100[1]/set_current"
   ]
  },
  {
   "cell_type": "code",
   "execution_count": 152,
   "metadata": {},
   "outputs": [],
   "source": [
    "#for pi pass 10ohm --1k ver 10nF\n",
    "\n",
    "# pi_10_1 = mes_V_to_f_value(step_fre, set_sat_f, set_end_f)\n",
    "# R_pi_10_1 = pi_10_1[1]/set_current"
   ]
  },
  {
   "cell_type": "code",
   "execution_count": 156,
   "metadata": {},
   "outputs": [],
   "source": [
    "#for pi pass 100ohm --1k ver 10nF\n",
    "\n",
    "# pi_100_1 = mes_V_to_f_value(step_fre, set_sat_f, set_end_f)\n",
    "# R_pi_100_1 = pi_100_1[1]/set_current"
   ]
  },
  {
   "cell_type": "code",
   "execution_count": 165,
   "metadata": {},
   "outputs": [],
   "source": [
    "#for pi pass 10Mohm --1k ver 10nF\n",
    "\n",
    "# pi_10M_1 = mes_V_to_f_value(step_fre, set_sat_f, set_end_f)\n",
    "# R_pi_10M_1 = pi_10M_1[1]/set_current"
   ]
  },
  {
   "cell_type": "code",
   "execution_count": 176,
   "metadata": {},
   "outputs": [],
   "source": [
    "#for pi pass 10ohm --100 ver 100nF\n",
    "\n",
    "# pi_10_100 = mes_V_to_f_value(step_fre, set_sat_f, set_end_f)\n",
    "# R_pi_10_100 =pi_10_100[1]/set_current"
   ]
  },
  {
   "cell_type": "code",
   "execution_count": 178,
   "metadata": {},
   "outputs": [],
   "source": [
    "#for pi pass 100ohm --100 ver 100nF\n",
    "\n",
    "# pi_100_100 = mes_V_to_f_value(step_fre, set_sat_f, set_end_f)\n",
    "# R_pi_100_100 = pi_100_100[1]/set_current"
   ]
  },
  {
   "cell_type": "code",
   "execution_count": 180,
   "metadata": {},
   "outputs": [],
   "source": [
    "#for pi pass 10Mohm --100 ver 100nF\n",
    "\n",
    "# pi_10M_100 = mes_V_to_f_value(step_fre, set_sat_f, set_end_f)\n",
    "# R_pi_10M_100 =pi_10M_100[1]/set_current"
   ]
  },
  {
   "cell_type": "code",
   "execution_count": 188,
   "metadata": {},
   "outputs": [],
   "source": [
    "columns = ['R_low_10_1', 'R_low_100_1', 'R_low_10M_1', 'R_low_10_100', 'R_low_100_100', 'R_low_10M_100', 'R_T_10_1', 'R_T_100_1', 'R_T_10M_1', 'R_T_10_100', 'R_T_100_100','R_T_10M_100','R_pi_10_1','R_pi_100_1','R_pi_10M_1','R_pi_10_100','R_pi_100_100','R_pi_10M_100']"
   ]
  },
  {
   "cell_type": "code",
   "execution_count": 189,
   "metadata": {
    "scrolled": true
   },
   "outputs": [],
   "source": [
    "df = pd.DataFrame(list(zip(R_low_10_1,\n",
    "                           R_low_100_1,\n",
    "                           R_low_10M_1,\n",
    "                           R_low_10_100,\n",
    "                           R_low_100_100,\n",
    "                            R_low_10M_100,\n",
    "                            R_T_10_1,\n",
    "                            R_T_100_1,\n",
    "                            R_T_10M_1,\n",
    "                            R_T_10_100,\n",
    "                            R_T_100_100,\n",
    "                            R_T_10M_100,\n",
    "                           R_pi_10_1,\n",
    "                            R_pi_100_1,\n",
    "                            R_pi_10M_1,\n",
    "                            R_pi_10_100,\n",
    "                           R_pi_100_100,\n",
    "                            R_pi_10M_100  \n",
    "                            )), columns=columns)\n",
    "\n",
    "\n",
    "# \n",
    "                           \n",
    "df.to_csv('out2.csv') "
   ]
  },
  {
   "cell_type": "code",
   "execution_count": 187,
   "metadata": {},
   "outputs": [
    {
     "data": {
      "image/png": "[encoded data removed]",
      "text/plain": [
       "<Figure size 640x480 with 1 Axes>"
      ]
     },
     "metadata": {},
     "output_type": "display_data"
    }
   ],
   "source": [
    "fig, ax= plt.subplots()\n",
    "\n",
    "ax.set(xlabel = 'frequency(kHZ)', ylabel = r'R $\\Omega$', \n",
    "       title = \"電阻隨頻率變化散步圖 \")  \n",
    "# ax.set_xlim(0, 20)\n",
    "\n",
    "ax.set_ylim(0, 250)\n",
    "ax.scatter(pi_10M_100[0]/1e3,\n",
    "            R_pi_10M_100,\n",
    "            c = \"k\",                                  \n",
    "            s = 1,                                  \n",
    "            alpha = 1,\n",
    "            label = r\"R $\\Omega$\",\n",
    "            marker = \"o\")\n",
    "\n",
    "\n",
    "\n",
    "plt.grid(color = 'gray', linestyle = '--', linewidth = 0.5)\n",
    "plt.legend()\n",
    "plt.show()\n"
   ]
  },
  {
   "cell_type": "code",
   "execution_count": 204,
   "metadata": {},
   "outputs": [],
   "source": [
    "#for smooth curve\n",
    "a = low_10_1[0]/1e3\n",
    "X_Y_Spline_1 = make_interp_spline(a, R_low_10_1)\n",
    "low_10_1_ = np.linspace(a.min(), a.max(), 500)\n",
    "R_low_10_1_  = X_Y_Spline_1(low_10_1_)"
   ]
  },
  {
   "cell_type": "code",
   "execution_count": 236,
   "metadata": {},
   "outputs": [
    {
     "data": {
      "image/png": "[encoded data removed]",
      "text/plain": [
       "<Figure size 640x480 with 1 Axes>"
      ]
     },
     "metadata": {},
     "output_type": "display_data"
    }
   ],
   "source": [
    "fig, ax= plt.subplots()\n",
    "\n",
    "ax.set(xlabel = 'frequency(kHZ)', ylabel = 'dB', \n",
    "       title = r\"10 $\\Omega$ resistance measurement \")  \n",
    "ax.title.set_size(20)\n",
    "ax.xaxis.label.set_size(16)\n",
    "ax.yaxis.label.set_size(16)\n",
    "ax.set_ylim(0, 30)\n",
    "ax.set_xlim(0, 80)\n",
    "\n",
    "# for low pass\n",
    "\n",
    "ax.scatter(low_10_1[0]/1e3,\n",
    "            R_low_10_1,\n",
    "            c = \"k\",                                  \n",
    "            s = 1,                                  \n",
    "            alpha = 1,\n",
    "            label =r\" $low$ pass filter $1k\\Omega$ and$\\ 10nF $\",\n",
    "            marker = \"o\")\n",
    "\n",
    "\n",
    "# for T pass\n",
    "\n",
    "ax.scatter(T_10_1[0]/1e3,\n",
    "            R_T_10_1,\n",
    "            c = \"r\",                                  \n",
    "            s = 1,                                  \n",
    "            alpha = 1,\n",
    "            label =r\" $T$ pass filter $1k\\Omega$ and$\\ 10nF $\",\n",
    "            marker = \"x\")\n",
    "\n",
    "# for pi pass\n",
    "\n",
    "ax.scatter(pi_10_1[0]/1e3,\n",
    "            R_pi_10_1,\n",
    "            c = \"g\",                                  \n",
    "            s = 1,                                  \n",
    "            alpha = 1,\n",
    "            label =r\" $\\pi$ pass filter $1k\\Omega$ and$\\ 10nF $\",\n",
    "            marker = \"*\")\n",
    "\n",
    "\n",
    "plt.grid(color = 'gray', linestyle = '--', linewidth = 0.5)\n",
    "plt.legend()\n",
    "# plt.savefig('C:\\\\qcodes\\\\personal_scripts\\\\HE\\\\4_wire_mes\\only_filter\\\\1k_to_10n_4.png', \n",
    "#             dpi=2000, \n",
    "#             format='png')\n",
    "plt.show()"
   ]
  },
  {
   "cell_type": "code",
   "execution_count": 287,
   "metadata": {},
   "outputs": [
    {
     "data": {
      "image/png": "[encoded data removed]",
      "text/plain": [
       "<Figure size 640x480 with 2 Axes>"
      ]
     },
     "metadata": {},
     "output_type": "display_data"
    }
   ],
   "source": [
    "fig, (ax1,ax2)= plt.subplots(1,2, sharey='row')\n",
    "\n",
    "fig.suptitle(r\"10 $\\Omega$ resistance measurement \", fontsize = 'xx-large')\n",
    "\n",
    "ax1.set_title(r'$1k\\Omega$ and$\\ 10nF $')\n",
    "ax1.xaxis.label.set_size(16)\n",
    "ax1.yaxis.label.set_size(16)\n",
    "ax1.set_ylim(0, 25)\n",
    "ax1.set_xlim(0, 20)\n",
    "\n",
    "ax2.set_title(r'$100\\Omega$ and$\\ 100nF $')\n",
    "ax2.xaxis.label.set_size(16)\n",
    "ax2.yaxis.label.set_size(16)\n",
    "ax2.set_xlim(0, 20)\n",
    "\n",
    "\n",
    "fig.supxlabel(r'frequency(kHZ)')\n",
    "fig.supylabel(r'R ($\\Omega$)')\n",
    "\n",
    "# for low pass\n",
    "\n",
    "ax1.scatter(low_10_1[0]/1e3,\n",
    "            R_low_10_1,\n",
    "            c = \"k\",                                  \n",
    "            s = 1,                                  \n",
    "            alpha = 1,\n",
    "            label =r\" $low$ pass filter\",\n",
    "            marker = \"o\")\n",
    "\n",
    "\n",
    "# for T pass\n",
    "\n",
    "ax1.scatter(T_10_1[0]/1e3,\n",
    "            R_T_10_1,\n",
    "            c = \"r\",                                  \n",
    "            s = 1,                                  \n",
    "            alpha = 1,\n",
    "            label =r\" $T$ pass filter\",\n",
    "            marker = \"x\")\n",
    "\n",
    "# for pi pass\n",
    "\n",
    "ax1.scatter(pi_10_1[0]/1e3,\n",
    "            R_pi_10_1,\n",
    "            c = \"g\",                                  \n",
    "            s = 1,                                  \n",
    "            alpha = 1,\n",
    "            label =r\" $\\pi$ pass filter\",\n",
    "            marker = \"*\")\n",
    "\n",
    "# for 100 ohm, 100nF\n",
    "\n",
    "# for low pass\n",
    "\n",
    "ax2.scatter(low_10_100[0]/1e3,\n",
    "            R_low_10_100,\n",
    "            c = \"k\",                                  \n",
    "            s = 1,                                  \n",
    "            alpha = 1,\n",
    "            \n",
    "            marker = \"o\")\n",
    "\n",
    "\n",
    "# for T pass\n",
    "\n",
    "ax2.scatter(T_10_100[0]/1e3,\n",
    "            R_T_10_100,\n",
    "            c = \"r\",                                  \n",
    "            s = 1,                                  \n",
    "            alpha = 1,\n",
    "           \n",
    "            marker = \"x\")\n",
    "\n",
    "# for pi pass\n",
    "\n",
    "ax2.scatter(pi_10_100[0]/1e3,\n",
    "            R_pi_10_100,\n",
    "            c = \"g\",                                  \n",
    "            s = 1,                                  \n",
    "            alpha = 1,\n",
    "           \n",
    "            marker = \"*\")\n",
    "\n",
    "ax1.grid(color = 'gray', linestyle = '--', linewidth = 0.5)\n",
    "ax2.grid(color = 'gray', linestyle = '--', linewidth = 0.5)\n",
    "fig.legend(bbox_to_anchor=(1.05, 1.0), loc='upper left')\n",
    "lg = fig.legend(bbox_to_anchor=(1.05, 1.0), loc='upper left')\n",
    "plt.tight_layout()\n",
    "plt.savefig('C:\\\\qcodes\\\\personal_scripts\\\\HE\\\\4_wire_mes\\\\10_ohm3.png', \n",
    "            dpi=2000, \n",
    "            bbox_extra_artists=(lg,),\n",
    "            format='png')\n",
    "plt.show()"
   ]
  },
  {
   "cell_type": "code",
   "execution_count": 281,
   "metadata": {},
   "outputs": [
    {
     "data": {
      "image/png": "[encoded data removed]",
      "text/plain": [
       "<Figure size 640x480 with 2 Axes>"
      ]
     },
     "metadata": {},
     "output_type": "display_data"
    }
   ],
   "source": [
    "fig, (ax1,ax2)= plt.subplots(1,2, sharey='row')\n",
    "\n",
    "fig.suptitle(r\"100 $\\Omega$ resistance measurement \", fontsize = 'xx-large')\n",
    "\n",
    "ax1.set_title(r'$1k\\Omega$ and$\\ 10nF $')\n",
    "ax1.xaxis.label.set_size(16)\n",
    "ax1.yaxis.label.set_size(16)\n",
    "# ax1.set_ylim(0, 150)\n",
    "ax1.set_xlim(0, 20)\n",
    "\n",
    "ax2.set_title(r'$100\\Omega$ and$\\ 100nF $')\n",
    "ax2.xaxis.label.set_size(16)\n",
    "ax2.yaxis.label.set_size(16)\n",
    "ax2.set_xlim(0, 20)\n",
    "\n",
    "\n",
    "fig.supxlabel(r'frequency(kHZ)')\n",
    "fig.supylabel(r'R ($\\Omega$)')\n",
    "\n",
    "# for low pass\n",
    "\n",
    "ax1.scatter(low_100_1[0]/1e3,\n",
    "            R_low_100_1,\n",
    "            c = \"k\",                                  \n",
    "            s = 1,                                  \n",
    "            alpha = 1,\n",
    "            label =r\" $low$ pass filter\",\n",
    "            marker = \"o\")\n",
    "\n",
    "\n",
    "# for T pass\n",
    "\n",
    "ax1.scatter(T_100_1[0]/1e3,\n",
    "            R_T_100_1,\n",
    "            c = \"r\",                                  \n",
    "            s = 1,                                  \n",
    "            alpha = 1,\n",
    "            label =r\" $T$ pass filter\",\n",
    "            marker = \"x\")\n",
    "\n",
    "# for pi pass\n",
    "\n",
    "ax1.scatter(pi_100_1[0]/1e3,\n",
    "            R_pi_100_1,\n",
    "            c = \"g\",                                  \n",
    "            s = 1,                                  \n",
    "            alpha = 1,\n",
    "            label =r\" $\\pi$ pass filter\",\n",
    "            marker = \"*\")\n",
    "\n",
    "# for 100 ohm, 100nF\n",
    "\n",
    "# for low pass\n",
    "\n",
    "ax2.scatter(low_100_100[0]/1e3,\n",
    "            R_low_100_100,\n",
    "            c = \"k\",                                  \n",
    "            s = 1,                                  \n",
    "            alpha = 1,\n",
    "            \n",
    "            marker = \"o\")\n",
    "\n",
    "\n",
    "# for T pass\n",
    "\n",
    "ax2.scatter(T_100_100[0]/1e3,\n",
    "            R_T_100_100,\n",
    "            c = \"r\",                                  \n",
    "            s = 1,                                  \n",
    "            alpha = 1,\n",
    "           \n",
    "            marker = \"x\")\n",
    "\n",
    "# for pi pass\n",
    "\n",
    "ax2.scatter(pi_100_100[0]/1e3,\n",
    "            R_pi_100_100,\n",
    "            c = \"g\",                                  \n",
    "            s = 1,                                  \n",
    "            alpha = 1,\n",
    "           \n",
    "            marker = \"*\")\n",
    "\n",
    "ax1.grid(color = 'gray', linestyle = '--', linewidth = 0.5)\n",
    "ax2.grid(color = 'gray', linestyle = '--', linewidth = 0.5)\n",
    "fig.legend(bbox_to_anchor=(1.05, 1.0), loc='upper left')\n",
    "plt.tight_layout()\n",
    "plt.savefig('C:\\\\qcodes\\\\personal_scripts\\\\HE\\\\4_wire_mes\\\\100_ohm3.png', \n",
    "            dpi=2000, \n",
    "            format='png')\n",
    "plt.show()"
   ]
  },
  {
   "cell_type": "code",
   "execution_count": 280,
   "metadata": {},
   "outputs": [
    {
     "data": {
      "image/png": "[encoded data removed]",
      "text/plain": [
       "<Figure size 640x480 with 2 Axes>"
      ]
     },
     "metadata": {},
     "output_type": "display_data"
    }
   ],
   "source": [
    "fig, (ax1,ax2)= plt.subplots(1,2, sharey='row')\n",
    "\n",
    "fig.suptitle(r\"10M $\\Omega$ resistance measurement \", fontsize = 'xx-large')\n",
    "\n",
    "ax1.set_title(r'$1k\\Omega$ and$\\ 10nF $')\n",
    "ax1.xaxis.label.set_size(16)\n",
    "ax1.yaxis.label.set_size(16)\n",
    "ax1.set_ylim(0, 10e4)\n",
    "ax1.set_xlim(0, 20)\n",
    "\n",
    "ax2.set_title(r'$100\\Omega$ and$\\ 100nF $')\n",
    "ax2.xaxis.label.set_size(16)\n",
    "ax2.yaxis.label.set_size(16)\n",
    "ax2.set_xlim(0, 20)\n",
    "\n",
    "\n",
    "fig.supxlabel(r'frequency(kHZ)')\n",
    "fig.supylabel(r'R ($\\Omega$)')\n",
    "\n",
    "# for low pass\n",
    "\n",
    "ax1.scatter(low_10M_1[0]/1e3,\n",
    "            R_low_10M_1,\n",
    "            c = \"k\",                                  \n",
    "            s = 1,                                  \n",
    "            alpha = 1,\n",
    "            label =r\" $low$ pass filter\",\n",
    "            marker = \"o\")\n",
    "\n",
    "\n",
    "# for T pass\n",
    "\n",
    "ax1.scatter(T_10M_1[0]/1e3,\n",
    "            R_T_10M_1,\n",
    "            c = \"r\",                                  \n",
    "            s = 1,                                  \n",
    "            alpha = 1,\n",
    "            label =r\" $T$ pass filter\",\n",
    "            marker = \"x\")\n",
    "\n",
    "# for pi pass\n",
    "\n",
    "ax1.scatter(pi_10M_1[0]/1e3,\n",
    "            R_pi_10M_1,\n",
    "            c = \"g\",                                  \n",
    "            s = 1,                                  \n",
    "            alpha = 1,\n",
    "            label =r\" $\\pi$ pass filter\",\n",
    "            marker = \"*\")\n",
    "\n",
    "# for 100 ohm, 100nF\n",
    "\n",
    "# for low pass\n",
    "\n",
    "ax2.scatter(low_10M_100[0]/1e3,\n",
    "            R_low_10M_100,\n",
    "            c = \"k\",                                  \n",
    "            s = 1,                                  \n",
    "            alpha = 1,\n",
    "            \n",
    "            marker = \"o\")\n",
    "\n",
    "\n",
    "# for T pass\n",
    "\n",
    "ax2.scatter(T_10M_100[0]/1e3,\n",
    "            R_T_10M_100,\n",
    "            c = \"r\",                                  \n",
    "            s = 1,                                  \n",
    "            alpha = 1,\n",
    "           \n",
    "            marker = \"x\")\n",
    "\n",
    "# for pi pass\n",
    "\n",
    "ax2.scatter(pi_10M_100[0]/1e3,\n",
    "            R_pi_10M_100,\n",
    "            c = \"g\",                                  \n",
    "            s = 1,                                  \n",
    "            alpha = 1,\n",
    "           \n",
    "            marker = \"*\")\n",
    "\n",
    "ax1.grid(color = 'gray', linestyle = '--', linewidth = 0.5)\n",
    "ax2.grid(color = 'gray', linestyle = '--', linewidth = 0.5)\n",
    "fig.legend(bbox_to_anchor=(1.05, 1.0), loc='upper left')\n",
    "lg = fig.legend(bbox_to_anchor=(1.05, 1.0), loc='upper left')\n",
    "plt.tight_layout()\n",
    "plt.savefig('C:\\\\qcodes\\\\personal_scripts\\\\HE\\\\4_wire_mes\\\\10M_ohm3.png', \n",
    "            dpi=2000, \n",
    "            bbox_extra_artists=(lg,),\n",
    "            format='png')\n",
    "plt.show()"
   ]
  },
  {
   "cell_type": "code",
   "execution_count": null,
   "metadata": {},
   "outputs": [],
   "source": [
    "np.argmax(R_sap_y)\n",
    "print(fre_x[320])"
   ]
  },
  {
   "cell_type": "code",
   "execution_count": null,
   "metadata": {},
   "outputs": [],
   "source": [
    "print(lockin_1.X(), lockin_1.Y(),lockin_1.R(), lockin_1.P())"
   ]
  },
  {
   "cell_type": "code",
   "execution_count": null,
   "metadata": {
    "editable": true,
    "slideshow": {
     "slide_type": ""
    },
    "tags": []
   },
   "outputs": [],
   "source": [
    "step=10\n",
    "for i in range (step):\n",
    "    print(keithley_2.amplitude())\n",
    "    sleep(1)"
   ]
  },
  {
   "cell_type": "code",
   "execution_count": null,
   "metadata": {},
   "outputs": [],
   "source": [
    "K213.voltage1(0)\n",
    "# K213.voltage2(0)\n",
    "# K213.voltage3(0.1)\n",
    "# K213.voltage4(0.1)\n",
    "# snapshot_of_station = station.snapshot()\n",
    "# pprint(snapshot_of_station)"
   ]
  },
  {
   "cell_type": "code",
   "execution_count": null,
   "metadata": {},
   "outputs": [],
   "source": [
    "station.snapshot(update=True);"
   ]
  },
  {
   "cell_type": "code",
   "execution_count": null,
   "metadata": {},
   "outputs": [],
   "source": [
    "snapshot_of_station = station.snapshot()\n",
    "print(snapshot_of_station)"
   ]
  },
  {
   "cell_type": "code",
   "execution_count": null,
   "metadata": {},
   "outputs": [],
   "source": [
    "hghfgggghtdh2421b yfy1"
   ]
  },
  {
   "cell_type": "markdown",
   "metadata": {},
   "source": [
    "## DAC rates"
   ]
  },
  {
   "cell_type": "code",
   "execution_count": null,
   "metadata": {},
   "outputs": [],
   "source": [
    "# ivvi.dac1.step = 50\n",
    "# ivvi.dac1.inter_delay = 0.05\n",
    "# ivvi.dac2.step = 50\n",
    "# ivvi.dac2.inter_delay = 0.05\n",
    "# ivvi.dac3.step = 1\n",
    "# ivvi.dac3.inter_delay = 0.2"
   ]
  },
  {
   "cell_type": "markdown",
   "metadata": {},
   "source": [
    "## Database initialisation"
   ]
  },
  {
   "cell_type": "markdown",
   "metadata": {},
   "source": [
    "Next, we create a qcodes database. If you want to use an existing one, set reuse 'True'. Database is created in the \"data\" folder. Sample folder is the same as for this script"
   ]
  },
  {
   "cell_type": "code",
   "execution_count": null,
   "metadata": {},
   "outputs": [],
   "source": [
    "reuse = True\n",
    "%run C:\\\\qcodes\\init_database.py {reuse}"
   ]
  },
  {
   "cell_type": "markdown",
   "metadata": {},
   "source": [
    "\n",
    "# Scaled parameters"
   ]
  },
  {
   "cell_type": "markdown",
   "metadata": {},
   "source": [
    "It is more convenient to use meaningful parameters with correct units"
   ]
  },
  {
   "cell_type": "code",
   "execution_count": null,
   "metadata": {},
   "outputs": [],
   "source": [
    "from qcodes import ManualParameter, ScaledParameter"
   ]
  },
  {
   "cell_type": "markdown",
   "metadata": {},
   "source": [
    "## Defining scaled parameters"
   ]
  },
  {
   "cell_type": "code",
   "execution_count": null,
   "metadata": {},
   "outputs": [],
   "source": [
    "Irange = Parameter('Irange', label='current range', unit='', set_cmd=None, get_cmd=None)\n",
    "Vrange = Parameter('Vrange', label='voltage range', unit='', set_cmd=None, get_cmd=None)\n",
    "TGrange = Parameter('TGrange', label='Top gate range', unit='', set_cmd=None, get_cmd=None)\n",
    "\n",
    "#division paraemtrs required for simplier update: they used as an argument for scaled paraemtrs of sorce instruments\n",
    "\n",
    "Irange_division = Parameter('Irange_division', \n",
    "                            label='scaled current range', unit='', \n",
    "                            set_cmd=None, get_cmd=lambda : 1000 / Irange())\n",
    "\n",
    "Vrange_division = Parameter('Vrange_division', \n",
    "                            label='scaled voltage range', unit='', \n",
    "                            set_cmd=None, get_cmd=lambda : 1000 / Vrange())\n",
    "\n",
    "TGrange_division = Parameter('TGrange_division', \n",
    "                             label='scaled Top gate range', unit='', \n",
    "                             set_cmd=None, get_cmd=lambda : 1000 / TGrange())\n",
    "\n",
    "Irange_AC_division = Parameter('Irange_AC_division', \n",
    "                               label='scaled current range for lockin', unit='', \n",
    "                               set_cmd=None, get_cmd=lambda : 100 / Irange())\n",
    "\n",
    "Vrange_AC_division = Parameter('Vrange_AC_division', \n",
    "                               label='scaled voltage range for lockin', unit='', \n",
    "                               set_cmd=None, get_cmd=lambda : 100 / Vrange())\n",
    "\n",
    "Gain_K1 = Parameter('Gain_K1', label='Gain K1', unit='', set_cmd=None, get_cmd=None)\n",
    "Gain_K2 = Parameter('Gain_K2', label='Gain K2', unit='', set_cmd=None, get_cmd=None)\n",
    "Gain_L1 = Parameter('Gain_L1', label='Gain L1', unit='', set_cmd=None, get_cmd=None)\n",
    "Gain_L2 = Parameter('Gain_L2', label='Gain L2', unit='', set_cmd=None, get_cmd=None)\n",
    "\n",
    "#Add components\n",
    "station.add_component(Irange)\n",
    "station.add_component(Vrange)\n",
    "station.add_component(TGrange)\n",
    "\n",
    "station.add_component(Irange_division)\n",
    "station.add_component(Vrange_division)\n",
    "station.add_component(TGrange_division)\n",
    "\n",
    "station.add_component(Irange_AC_division)\n",
    "station.add_component(Vrange_AC_division)\n",
    "                             \n",
    "station.add_component(Gain_K1)\n",
    "station.add_component(Gain_K2)\n",
    "station.add_component(Gain_L1)\n",
    "station.add_component(Gain_L2)"
   ]
  },
  {
   "cell_type": "markdown",
   "metadata": {},
   "source": [
    "## IVVI rack parameters - update here during measuerements"
   ]
  },
  {
   "cell_type": "code",
   "execution_count": null,
   "metadata": {},
   "outputs": [],
   "source": [
    "set_resistance = 10e6\n",
    "set_V_amp = lockin_1.amplitude()\n",
    "set_current = set_V_amp/set_resistance\n",
    "\n",
    "Irange.set(set_current)\n",
    "Vrange.set(10e-3)\n",
    "TGrange.set(15)\n",
    "Gain_K1.set(1)\n",
    "Gain_K2.set(1)\n",
    "# Gain_K3.set(1e2)\n",
    "Gain_L1.set(Gain_K1())\n",
    "Gain_L2.set(Gain_K2())\n",
    "#division parameters are updated automatically\n"
   ]
  },
  {
   "cell_type": "markdown",
   "metadata": {},
   "source": [
    "## DC parameters\n",
    "Check that devicies are correct!"
   ]
  },
  {
   "cell_type": "code",
   "execution_count": null,
   "metadata": {},
   "outputs": [],
   "source": [
    "# appl_current = ScaledParameter(ivvi.dac1, division = Irange_division, name = 'appl_current', unit = 'A')\n",
    "appl_current = ScaledParameter(K213.voltage, division = Irange_division, name = 'appl_current', unit = 'A')\n",
    "appl_voltage = ScaledParameter(ivvi.dac2, division = Vrange_division, name = 'appl_voltage', unit = 'V')\n",
    "appl_TG = ScaledParameter(ivvi.dac3, division = TGrange_division, name = 'appl_TG', unit = 'V')\n",
    "\n",
    "meas_voltage_K1 = ScaledParameter(keithley_1.amplitude, division = Gain_K1, name = 'meas_voltage_K1', unit = 'V')\n",
    "meas_voltage_K2 = ScaledParameter(keithley_2.amplitude, division = Gain_K2, name = 'meas_voltage_K2', unit = 'V')\n",
    "\n",
    "meas_leakage = ScaledParameter(keithley_2.amplitude, division = Gain_K2, name = 'meas_leakage', unit = 'A')\n",
    "\n",
    "meas_current_K1 = ScaledParameter(keithley_1.amplitude, division = Gain_K1, name = 'meas_current_K1', unit = 'A')\n",
    "meas_current_K2 = ScaledParameter(keithley_2.amplitude, division = Gain_K2, name = 'meas_current_K2', unit = 'A')\n",
    "\n",
    "station.add_component(appl_current)\n",
    "station.add_component(appl_voltage)\n",
    "station.add_component(appl_TG)\n",
    "station.add_component(meas_voltage_K1)\n",
    "station.add_component(meas_voltage_K2)\n",
    "station.add_component(meas_leakage)\n",
    "station.add_component(meas_current_K1)\n",
    "station.add_component(meas_current_K2)"
   ]
  },
  {
   "cell_type": "markdown",
   "metadata": {},
   "source": [
    "## AC parameters"
   ]
  },
  {
   "cell_type": "code",
   "execution_count": null,
   "metadata": {
    "scrolled": true
   },
   "outputs": [],
   "source": [
    "appl_current_AC = ScaledParameter(lockin_1.amplitude, \n",
    "                                  division = Irange_AC_division, name = 'appl_current_AC', unit = 'A')\n",
    "\n",
    "appl_voltage_AC = ScaledParameter(lockin_1.amplitude, \n",
    "                                  division = Vrange_AC_division, name = 'appl_voltage_AC', unit = 'V')\n",
    "\n",
    "station.add_component(appl_current_AC)\n",
    "station.add_component(appl_voltage_AC)\n",
    "\n",
    "meas_voltage_AC_L1 = ScaledParameter(lockin_1.X, division = Gain_L1, name = 'meas_voltage_Lockin1', unit = 'V')\n",
    "meas_current_AC_L1 = ScaledParameter(lockin_1.X, division = Gain_L1, name = 'meas_current_Lockin1', unit = 'A')\n",
    "\n",
    "# meas_voltage_AC_L2 = ScaledParameter(lockin_2.X, division = Gain_L2, name = 'meas_voltage_Lockin2', unit = 'V')\n",
    "# meas_current_AC_L2 = ScaledParameter(lockin_2.X, division = Gain_L2, name = 'meas_current_Lockin2', unit = 'A')\n",
    "\n",
    "station.add_component(meas_voltage_AC_L1)\n",
    "station.add_component(meas_current_AC_L1)\n",
    "\n",
    "# station.add_component(meas_voltage_AC_L2)\n",
    "# station.add_component(meas_current_AC_L2)\n",
    "\n",
    "meas_voltage_AC_L1_R = ScaledParameter(lockin_1.R, division = Gain_L1, name = 'meas_voltage_R_Lockin1', unit = 'V')\n",
    "# meas_voltage_AC_L2_R = ScaledParameter(lockin_2.R, division = Gain_L2, name = 'meas_voltage_R_Lockin2', unit = 'V')\n",
    "\n",
    "station.add_component(meas_voltage_AC_L1_R)\n",
    "# station.add_component(meas_voltage_AC_L2_R)"
   ]
  },
  {
   "cell_type": "code",
   "execution_count": null,
   "metadata": {
    "scrolled": true
   },
   "outputs": [],
   "source": [
    "appl_frequency = ScaledParameter(lockin_1.frequency, \n",
    "                                  division = 1, name = 'appl_frequency', unit = 'Hz')\n",
    "\n",
    "station.add_component(appl_frequency)"
   ]
  },
  {
   "cell_type": "code",
   "execution_count": null,
   "metadata": {},
   "outputs": [],
   "source": []
  },
  {
   "cell_type": "markdown",
   "metadata": {
    "jp-MarkdownHeadingCollapsed": true
   },
   "source": [
    "## Another useful example: magnet using dac (Janis)"
   ]
  },
  {
   "cell_type": "markdown",
   "metadata": {},
   "source": [
    ">2231.2 G per A => 0.22312 T per A<br>\n",
    "I source 10mA per V => 1e-5 A per 1mV<br>\n",
    "result: 0.22312 T/A * 1e-5 A/mV"
   ]
  },
  {
   "cell_type": "code",
   "execution_count": null,
   "metadata": {},
   "outputs": [],
   "source": [
    "#check Janis and VectorJanis!\n",
    "#magnetic_field = ScaledParameter(ivvi.dac3, gain = 0.22312e-5, name = 'magnetic_field_dac', unit = 'T')\n",
    "#station.add_component(magnetic_field)"
   ]
  },
  {
   "cell_type": "code",
   "execution_count": null,
   "metadata": {},
   "outputs": [],
   "source": [
    "def get_R_from_IV(dataid):\n",
    "    dataset = qc.load_by_id(dataid)\n",
    "\n",
    "    voltage = dataset.get_parameter_data()['meas_voltage_K1']['meas_voltage_K1']\n",
    "    current = dataset.get_parameter_data()['meas_voltage_K1']['appl_current']\n",
    "    fit_values = np.polyfit(current,voltage,1)\n",
    "    \n",
    "    return fit_values[0]\n",
    "\n",
    "def get_R_from_IV_2(dataid):\n",
    "    dataset = qc.load_by_id(dataid)\n",
    "\n",
    "    voltage = dataset.get_parameter_data()['meas_voltage_K2']['meas_voltage_K2']\n",
    "    current = dataset.get_parameter_data()['meas_voltage_K2']['appl_current']\n",
    "    fit_values = np.polyfit(current,voltage,1)\n",
    "    \n",
    "    return fit_values[0]"
   ]
  },
  {
   "cell_type": "markdown",
   "metadata": {},
   "source": [
    "# Parameter to get R from fast IV"
   ]
  },
  {
   "cell_type": "code",
   "execution_count": null,
   "metadata": {},
   "outputs": [],
   "source": [
    "I_lim_r_IV = set_current\n",
    "N_point_r_IV = 40\n",
    "delay_r_IV = 0.02"
   ]
  },
  {
   "cell_type": "code",
   "execution_count": null,
   "metadata": {},
   "outputs": [],
   "source": [
    "R_val_2 = None\n",
    "\n",
    "def get_R_from_IV_1():\n",
    "    global R_val_2\n",
    "    I_vals = np.linspace(-I_lim_r_IV, I_lim_r_IV, N_point_r_IV)\n",
    "    V_vals_1 = np.zeros_like(I_vals)\n",
    "    V_vals_2 = np.zeros_like(I_vals)\n",
    "    appl_current_AC.post_delay = delay_r_IV\n",
    "    \n",
    "    for i, I_val in enumerate(I_vals):\n",
    "        appl_current_AC(I_val)\n",
    "        V_vals_1[i] = meas_voltage_K1()\n",
    "        V_vals_2[i] = meas_voltage_K2()\n",
    "        \n",
    "    fit_values_1 = np.polyfit(I_vals,V_vals_1,1)\n",
    "    fit_values_2 = np.polyfit(I_vals,V_vals_2,1)\n",
    "    \n",
    "    R_val_2 = fit_values_2[0]\n",
    "    \n",
    "    return fit_values_1[0]\n",
    "\n",
    "def get_R_from_IV_2():\n",
    "    global R_val_2\n",
    "    if R_val_2:\n",
    "        last_val = R_val_2\n",
    "        R_val_2 = None\n",
    "    else:\n",
    "        get_R_from_IV_1()\n",
    "        last_val = R_val_2\n",
    "        R_val_2 = None\n",
    "    \n",
    "    return last_val"
   ]
  },
  {
   "cell_type": "code",
   "execution_count": null,
   "metadata": {},
   "outputs": [],
   "source": [
    "import time\n",
    "start_time = time.time()\n",
    "get_R_from_IV_1()\n",
    "print(\"--- %s seconds ---\" % (time.time() - start_time))"
   ]
  },
  {
   "cell_type": "code",
   "execution_count": null,
   "metadata": {},
   "outputs": [],
   "source": [
    "r_from_IV_1 = Parameter('r_from_IV_1', \n",
    "                       label='resistance from fast IV K1 fit', unit='Ohm', \n",
    "                       set_cmd=None, get_cmd=get_R_from_IV_1)\n",
    "\n",
    "r_from_IV_2 = Parameter('r_from_IV_2', \n",
    "                       label='resistance from fast IV K2 fit', unit='Ohm', \n",
    "                       set_cmd=None, get_cmd=get_R_from_IV_2)"
   ]
  },
  {
   "cell_type": "markdown",
   "metadata": {},
   "source": [
    "# Fridge measurements"
   ]
  },
  {
   "cell_type": "code",
   "execution_count": null,
   "metadata": {},
   "outputs": [],
   "source": [
    "time = ElapsedTimeParameter('time')\n",
    "\n",
    "def He_limit(time, measured_values):\n",
    "    return measured_values[0].get() > 31"
   ]
  },
  {
   "cell_type": "code",
   "execution_count": null,
   "metadata": {},
   "outputs": [],
   "source": [
    "time = ElapsedTimeParameter('time')\n",
    "\n",
    "def temp_limit(time, measured_values):\n",
    "    return measured_values[2].get() < 0.31"
   ]
  },
  {
   "cell_type": "code",
   "execution_count": null,
   "metadata": {},
   "outputs": [],
   "source": [
    "exp = qc.new_experiment('cool_down_to_base_vs_time', sample_name='fridge VJ')\n",
    "time.reset_clock()\n",
    "dataid = measure_until(time, temp_limit, 3, lakeshore.A.temperature, lakeshore.B.temperature, lakeshore.C.temperature)"
   ]
  },
  {
   "cell_type": "code",
   "execution_count": null,
   "metadata": {},
   "outputs": [],
   "source": [
    "plot_by_id(3)"
   ]
  },
  {
   "cell_type": "code",
   "execution_count": null,
   "metadata": {},
   "outputs": [],
   "source": [
    "time = ElapsedTimeParameter('time')\n",
    "\n",
    "def time_limit_3_days(time, measured_values):\n",
    "    return time() > 60 * 60 * 24 * 3"
   ]
  },
  {
   "cell_type": "code",
   "execution_count": null,
   "metadata": {},
   "outputs": [],
   "source": [
    "exp = qc.new_experiment('fridge at base', sample_name='fridge VJ')\n",
    "time.reset_clock()\n",
    "dataid = measure_until(time, time_limit_3_days, 60 * 5, \n",
    "                       lakeshore.A.temperature, lakeshore.B.temperature, lakeshore.C.temperature, \n",
    "                       level_meter.lastval )"
   ]
  },
  {
   "cell_type": "markdown",
   "metadata": {},
   "source": [
    "# Simple IVs"
   ]
  },
  {
   "cell_type": "code",
   "execution_count": null,
   "metadata": {},
   "outputs": [],
   "source": [
    "# cryomag.channel_B.field(0)\n",
    "# magnetic_field_yoko(-1.07e-3)\n",
    "# magnetic_field_yoko(0)"
   ]
  },
  {
   "cell_type": "code",
   "execution_count": null,
   "metadata": {},
   "outputs": [],
   "source": [
    "R=lockin_1.X()/(lockin_1.amplitude()/1e7)\n",
    "print(R)"
   ]
  },
  {
   "cell_type": "code",
   "execution_count": null,
   "metadata": {},
   "outputs": [],
   "source": [
    "appl_frequency"
   ]
  },
  {
   "cell_type": "code",
   "execution_count": null,
   "metadata": {},
   "outputs": [],
   "source": [
    "# appl_TG(0.7)\n",
    "# sleep(10)\n",
    "appl_current(-0.5e-6)\n",
    "sleep(1)\n",
    "station.snapshot(update=True);\n",
    "exp = qc.new_experiment('IV', sample_name='JJ1_JJ1(K1)_JJ2(K2)')\n",
    "dataid = do1d(appl_current, -0.5e-6, 0.5e-6, 1001, 0.02, meas_voltage_K1, meas_voltage_K2)\n",
    "# ivvi.set_dacs_zero()\n",
    "appl_current(0)\n",
    "plot_by_id(dataid)\n",
    "# print(get_R_from_IV(dataid))\n",
    "# print(get_R_from_IV_2(dataid))"
   ]
  },
  {
   "cell_type": "code",
   "execution_count": null,
   "metadata": {},
   "outputs": [],
   "source": [
    "print(get_R_from_IV(dataid))\n",
    "print(get_R_from_IV_2(dataid))"
   ]
  },
  {
   "cell_type": "code",
   "execution_count": null,
   "metadata": {
    "scrolled": true
   },
   "outputs": [],
   "source": [
    "appl_current_AC(10e-9)\n",
    "appl_current(-1e-6)\n",
    "sleep(10)\n",
    "station.snapshot(update=True);\n",
    "exp = qc.new_experiment('IV + AC', sample_name='TL1_fL_finger')\n",
    "dataid = do1d(appl_current, -1e-6, 1e-6, 501, 3, \n",
    "              meas_voltage_K1, meas_voltage_AC_L1, lockin_1.P, \n",
    "              meas_voltage_K2, meas_voltage_AC_L2, lockin_2.P)\n",
    "# plot_by_id(dataid)\n",
    "ivvi.set_dacs_zero()\n",
    "lockin_1.amplitude(0.004)"
   ]
  },
  {
   "cell_type": "markdown",
   "metadata": {},
   "source": [
    "# Zero Everything"
   ]
  },
  {
   "cell_type": "code",
   "execution_count": null,
   "metadata": {},
   "outputs": [],
   "source": [
    "ivvi.set_dacs_zero()\n",
    "lockin_1.amplitude(0.004)\n",
    "# ivvi.print_readable_snapshot(update=True)"
   ]
  },
  {
   "cell_type": "markdown",
   "metadata": {},
   "source": [
    "# Gate simple sweeps"
   ]
  },
  {
   "cell_type": "code",
   "execution_count": null,
   "metadata": {},
   "outputs": [],
   "source": [
    "exp = qc.new_experiment('I_vs_Vtg', sample_name='BL1')\n",
    "\n",
    "appl_voltage(1e-3)\n",
    "\n",
    "start_gate = 0.0\n",
    "stop_gate = 0.45\n",
    "num_points = 500\n",
    "leak_threshold = 1e-9\n",
    "\n",
    "#Register independent parameters\n",
    "meas = Measurement()\n",
    "meas.register_parameter(appl_TG)\n",
    "appl_TG.post_delay = 0.05\n",
    "\n",
    "#Register dependent parametrs\n",
    "param_meas = [meas_current_K1, meas_leakage]\n",
    "output = []\n",
    "for parameter in param_meas:\n",
    "    meas.register_parameter(parameter, setpoints=(appl_TG,))\n",
    "    output.append([parameter, None])\n",
    "\n",
    "#Add action at the end\n",
    "meas.add_after_run(ivvi.set_dacs_zero, ())\n",
    "\n",
    "appl_TG(start_gate)\n",
    "sleep(2)\n",
    "\n",
    "#Start measuremnts\n",
    "with meas.run() as datasaver:\n",
    "    for set_point in tqdm(np.linspace(start_gate, stop_gate, num_points)):\n",
    "        appl_TG(set_point)\n",
    "        sleep(0.05)\n",
    "        if np.abs(meas_leakage()) > leak_threshold:\n",
    "            print('Leakage detected!')\n",
    "            break\n",
    "        sleep(0.05)\n",
    "        for i, parameter in enumerate(param_meas):\n",
    "            output[i][1] = parameter.get()\n",
    "        datasaver.add_result((appl_TG, appl_TG()),\n",
    "                             *output)\n",
    "dataid = datasaver.run_id  # convenient to have for plotting"
   ]
  },
  {
   "cell_type": "code",
   "execution_count": null,
   "metadata": {},
   "outputs": [],
   "source": [
    "appl_TG(0)"
   ]
  },
  {
   "cell_type": "code",
   "execution_count": null,
   "metadata": {},
   "outputs": [],
   "source": [
    "plot_by_id(dataid)"
   ]
  },
  {
   "cell_type": "code",
   "execution_count": null,
   "metadata": {},
   "outputs": [],
   "source": [
    "appl_voltage(1e-3)\n",
    "appl_TG(0)\n",
    "sleep(2)\n",
    "station.snapshot(update=True);\n",
    "exp = qc.new_experiment('I_vs_Vgate_up', sample_name='JJ1_JJ5')\n",
    "dataid1 = do1d(appl_TG, 0, 0.4, 400, 0.1, meas_current_K1)\n",
    "# plot_by_id(dataid1)\n",
    "\n",
    "# station.snapshot(update=True);\n",
    "exp = qc.new_experiment('I_vs_Vgate_down', sample_name='JJ1_JJ5')\n",
    "dataid2 = do1d(appl_TG, 0.4, 0.0, 400, 0.1, meas_current_K1)\n",
    "# plot_by_id(dataid2)\n",
    "\n",
    "ivvi.set_dacs_zero()"
   ]
  },
  {
   "cell_type": "code",
   "execution_count": null,
   "metadata": {
    "scrolled": true
   },
   "outputs": [],
   "source": [
    "fig, ax = plt.subplots(1)\n",
    "axes, cbaxes = plot_by_id(dataid1, axes=[ax], label = 'up')\n",
    "axes, cbaxes = plot_by_id(dataid2, axes=[ax], label = 'down')\n",
    "plt.legend(fontsize = 14)\n",
    "plt.savefig('../plots/JJ1_JJ5_hyst1.png')"
   ]
  },
  {
   "cell_type": "markdown",
   "metadata": {},
   "source": [
    "# JJ measurement"
   ]
  },
  {
   "cell_type": "code",
   "execution_count": null,
   "metadata": {},
   "outputs": [],
   "source": [
    "appl_TG(0.35)\n",
    "cryomag.channel_A.field(-5e-3)"
   ]
  },
  {
   "cell_type": "code",
   "execution_count": null,
   "metadata": {},
   "outputs": [],
   "source": [
    "appl_TG(0.35)\n",
    "cryomag.channel_A.field(-5e-3)\n",
    "appl_current(-0.5e-6)\n",
    "sleep(5)\n",
    "\n",
    "station.snapshot(update=True);\n",
    "\n",
    "exp = qc.new_experiment('IV vs B', sample_name='JJ1_JJ1(K1)_JJ2(K2)')\n",
    "\n",
    "dataid = do2d(cryomag.channel_A.field, -5e-3, 5e-3, 201, 2, appl_current, -0.5e-6, 0.5e-6, 501, 0.01, meas_voltage_K1, meas_voltage_K2)\n",
    "\n",
    "appl_current(0)\n",
    "cryomag.channel_A.field(0)\n",
    "\n",
    "plot_by_id(dataid)"
   ]
  },
  {
   "cell_type": "code",
   "execution_count": null,
   "metadata": {},
   "outputs": [],
   "source": [
    "appl_TG(0.35)\n",
    "cryomag.channel_A.field(-20e-3)\n",
    "appl_current(-0.5e-6)\n",
    "sleep(60)\n",
    "\n",
    "station.snapshot(update=True);\n",
    "\n",
    "exp = qc.new_experiment('IV vs B larger range', sample_name='JJ1_JJ1(K1)_JJ2(K2)')\n",
    "\n",
    "dataid = do2d(cryomag.channel_A.field, -20e-3, 20e-3, 401, 4, appl_current, -0.5e-6, 0.5e-6, 501, 0.01, meas_voltage_K1, meas_voltage_K2)\n",
    "\n",
    "appl_current(0)\n",
    "cryomag.channel_A.field(0)\n",
    "\n",
    "plot_by_id(dataid)"
   ]
  },
  {
   "cell_type": "code",
   "execution_count": null,
   "metadata": {},
   "outputs": [],
   "source": [
    "appl_TG(0.35)\n",
    "cryomag.channel_A.field(-5e-3)\n",
    "appl_current(-0.5e-6)\n",
    "sleep(60)\n",
    "\n",
    "station.snapshot(update=True);\n",
    "\n",
    "exp = qc.new_experiment('IV vs B small range', sample_name='JJ1_JJ1(K1)_JJ2(K2)')\n",
    "\n",
    "dataid = do2d(cryomag.channel_A.field, -5e-3, 5e-3, 401, 4, appl_current, -0.5e-6, 0.5e-6, 801, 0.01, meas_voltage_K1, meas_voltage_K2)\n",
    "\n",
    "appl_current(0)\n",
    "cryomag.channel_A.field(0)\n",
    "\n",
    "plot_by_id(dataid)"
   ]
  },
  {
   "cell_type": "code",
   "execution_count": null,
   "metadata": {},
   "outputs": [],
   "source": [
    "cryomag.channel_A.field(-0.3e-3)"
   ]
  },
  {
   "cell_type": "code",
   "execution_count": null,
   "metadata": {},
   "outputs": [],
   "source": []
  },
  {
   "cell_type": "code",
   "execution_count": null,
   "metadata": {},
   "outputs": [],
   "source": [
    "appl_TG(0.2)\n",
    "appl_current(-0.5e-6)\n",
    "sleep(60)\n",
    "\n",
    "station.snapshot(update=True);\n",
    "\n",
    "exp = qc.new_experiment('IV vs Vg', sample_name='JJ1_JJ1(K1)_JJ2(K2)')\n",
    "\n",
    "dataid = do2d(appl_TG, 0.2, 0.4, 21, 3, appl_current, -0.5e-6, 0.5e-6, 801, 0.01, meas_voltage_K1, meas_voltage_K2)\n",
    "\n",
    "appl_current(0)\n",
    "appl_TG(0.35)\n",
    "\n",
    "plot_by_id(dataid)"
   ]
  },
  {
   "cell_type": "markdown",
   "metadata": {},
   "source": [
    "# JJ measurements for MAR"
   ]
  },
  {
   "cell_type": "code",
   "execution_count": null,
   "metadata": {},
   "outputs": [],
   "source": [
    "cryomag.channel_A.field()"
   ]
  },
  {
   "cell_type": "code",
   "execution_count": null,
   "metadata": {},
   "outputs": [],
   "source": [
    "appl_TG(0.4)"
   ]
  },
  {
   "cell_type": "code",
   "execution_count": null,
   "metadata": {},
   "outputs": [],
   "source": [
    "lockin_1.amplitude(0.004)\n",
    "appl_current(-20e-6)\n",
    "sleep(1)\n",
    "station.snapshot(update=True);\n",
    "\n",
    "exp = qc.new_experiment('IV', sample_name='JJ1_JJ_1')\n",
    "dataid = do1d(appl_current, -20e-6, 20e-6, 501, 0.01, meas_voltage_K1)\n",
    "# ivvi.set_dacs_zero()\n",
    "appl_current(0)\n",
    "plot_by_id(dataid)"
   ]
  },
  {
   "cell_type": "code",
   "execution_count": null,
   "metadata": {},
   "outputs": [],
   "source": [
    "#determine lockin sensitivity\n",
    "R = 500 #Ohms\n",
    "I_AC = 100e-9\n",
    "V_real = R * I_AC\n",
    "V_lockin = R * I_AC * Gain_L1()\n",
    "print(V_lockin)"
   ]
  },
  {
   "cell_type": "code",
   "execution_count": null,
   "metadata": {},
   "outputs": [],
   "source": [
    "lockin_1.sensitivity(0.01)"
   ]
  },
  {
   "cell_type": "code",
   "execution_count": null,
   "metadata": {},
   "outputs": [],
   "source": [
    "lockin_1.sensitivity.vals"
   ]
  },
  {
   "cell_type": "code",
   "execution_count": null,
   "metadata": {},
   "outputs": [],
   "source": [
    "2000 / 60"
   ]
  },
  {
   "cell_type": "code",
   "execution_count": null,
   "metadata": {},
   "outputs": [],
   "source": [
    "appl_current(-20e-6)\n",
    "appl_current_AC(100e-9)"
   ]
  },
  {
   "cell_type": "code",
   "execution_count": null,
   "metadata": {},
   "outputs": [],
   "source": [
    "keithley_1.amplitude()"
   ]
  },
  {
   "cell_type": "code",
   "execution_count": null,
   "metadata": {},
   "outputs": [],
   "source": [
    "appl_current_AC(100e-9)\n",
    "appl_current(-20e-6)\n",
    "sleep(10)\n",
    "station.snapshot(update=True);\n",
    "exp = qc.new_experiment('IV + AC', sample_name='JJ1_JJ_3')\n",
    "dataid = do1d(appl_current, -20e-6, 20e-6, 2001, 1, meas_voltage_K1, meas_voltage_AC_L1, meas_voltage_AC_L1_R)\n",
    "# ivvi.set_dacs_zero()\n",
    "appl_current(0)\n",
    "lockin_1.amplitude(0.004)\n",
    "plot_by_id(dataid)"
   ]
  },
  {
   "cell_type": "code",
   "execution_count": null,
   "metadata": {},
   "outputs": [],
   "source": [
    "appl_current(0)\n",
    "lockin_1.amplitude(0.004)"
   ]
  },
  {
   "cell_type": "markdown",
   "metadata": {},
   "source": [
    "# Hall measurements"
   ]
  },
  {
   "cell_type": "code",
   "execution_count": null,
   "metadata": {},
   "outputs": [],
   "source": [
    "appl_gate_1(1)\n",
    "appl_TG(0.4)"
   ]
  },
  {
   "cell_type": "code",
   "execution_count": null,
   "metadata": {},
   "outputs": [],
   "source": [
    "appl_TG(0.4)"
   ]
  },
  {
   "cell_type": "code",
   "execution_count": null,
   "metadata": {},
   "outputs": [],
   "source": [
    "appl_gate_1(1)\n",
    "appl_TG(0.4)\n",
    "appl_current(100e-9)\n",
    "sleep(30)\n",
    "\n",
    "\n",
    "station.snapshot(update=True);\n",
    "\n",
    "exp = qc.new_experiment('Vu_vs_gate_field, Vsplit = 0.4', sample_name='TR1_left_half')\n",
    "\n",
    "dataid = do2d(cryomag.channel_B.field, 0, 5, 41, 10, appl_gate_1, 1, 1.75, 120, 1, meas_voltage_K1)\n",
    "\n",
    "appl_current(0)\n",
    "# appl_TG(0)\n",
    "# appl_gate_1(0)\n",
    "plot_by_id(dataid)"
   ]
  },
  {
   "cell_type": "code",
   "execution_count": null,
   "metadata": {},
   "outputs": [],
   "source": [
    "appl_gate_1(1.1)"
   ]
  },
  {
   "cell_type": "code",
   "execution_count": null,
   "metadata": {},
   "outputs": [],
   "source": [
    "appl_gate_1(1.1)\n",
    "appl_TG(0.4)\n",
    "appl_current_AC(5e-9)\n",
    "appl_current(0)\n",
    "sleep(30)\n",
    "\n",
    "\n",
    "station.snapshot(update=True);\n",
    "\n",
    "exp = qc.new_experiment('ACVd_vs_gate B=5T, Vsplit = 0.4', sample_name='TR1_left_half')\n",
    "\n",
    "dataid = do1d(appl_gate_1, 1.1, 1.75, 120, 3, meas_voltage_AC_L1, meas_voltage_AC_L1_R)\n",
    "lockin_1.amplitude(0.004)\n",
    "appl_current(0)\n",
    "# appl_TG(0)\n",
    "# appl_gate_1(0)\n",
    "plot_by_id(dataid)"
   ]
  },
  {
   "cell_type": "code",
   "execution_count": null,
   "metadata": {},
   "outputs": [],
   "source": [
    "appl_gate_1(1.1)\n",
    "appl_TG(0.4)\n",
    "lockin_1.amplitude(0.004)\n",
    "appl_current(0)\n",
    "sleep(10)\n",
    "\n",
    "\n",
    "station.snapshot(update=True);\n",
    "\n",
    "exp = qc.new_experiment('fast_DC_Vd_vs_gate B=5T, Vsplit = 0.4', sample_name='TR1_left_half')\n",
    "\n",
    "dataid = do1d(appl_gate_1, 1.1, 1.75, 120, 1, r_from_IV_1)\n",
    "lockin_1.amplitude(0.004)\n",
    "appl_current(0)\n",
    "# appl_TG(0)\n",
    "# appl_gate_1(0)\n",
    "plot_by_id(dataid)"
   ]
  },
  {
   "cell_type": "code",
   "execution_count": null,
   "metadata": {},
   "outputs": [],
   "source": [
    "lockin_1.amplitude(0.004)"
   ]
  },
  {
   "cell_type": "code",
   "execution_count": null,
   "metadata": {},
   "outputs": [],
   "source": [
    "appl_gate_1(1.1)\n",
    "appl_TG(0.4)\n",
    "appl_current_AC(5e-9)\n",
    "appl_current(0)\n",
    "sleep(30)\n",
    "\n",
    "\n",
    "station.snapshot(update=True);\n",
    "\n",
    "exp = qc.new_experiment('ACVd_vs_gate_vs_B, Vsplit = 0.4', sample_name='TR1_left_half')\n",
    "\n",
    "dataid = do2d(cryomag.channel_B.field, 5, 4, 11, 5, appl_gate_1, 1.1, 1.75, 120, 3, meas_voltage_AC_L1, meas_voltage_AC_L1_R)\n",
    "lockin_1.amplitude(0.004)\n",
    "appl_current(0)\n",
    "# appl_TG(0)\n",
    "# appl_gate_1(0)\n",
    "plot_by_id(dataid)"
   ]
  },
  {
   "cell_type": "code",
   "execution_count": null,
   "metadata": {},
   "outputs": [],
   "source": [
    "14e3 * 300e-9 *1e3"
   ]
  },
  {
   "cell_type": "code",
   "execution_count": null,
   "metadata": {},
   "outputs": [],
   "source": [
    "lockin_1.amplitude(0.004)\n",
    "appl_gate_1(1.1)\n",
    "appl_TG(0.4)\n",
    "\n",
    "for B_field in [3,4,5,6]:\n",
    "    appl_gate_1(1.1)\n",
    "    cryomag.channel_B.field(B_field)\n",
    "    appl_current(-300e-9)\n",
    "    sleep(60)\n",
    "    \n",
    "    station.snapshot(update=True);\n",
    "\n",
    "    exp = qc.new_experiment('Vd_vs_I_gate, Vsplit = 0.4, B={}'.format(B_field), sample_name='TR1_left_half')\n",
    "\n",
    "    dataid = do2d( appl_gate_1, 1.1, 1.75, 120, 3, appl_current, -300e-9, 300e-9, 1201, 0.05, meas_voltage_K1)\n",
    "    \n",
    "    plot_by_id(dataid)"
   ]
  },
  {
   "cell_type": "code",
   "execution_count": null,
   "metadata": {
    "scrolled": true
   },
   "outputs": [],
   "source": [
    "#Extra experiment at B=3.5\n",
    "lockin_1.amplitude(0.004)\n",
    "appl_gate_1(1.1)\n",
    "appl_TG(0.4)\n",
    "\n",
    "for B_field in [3.5]:\n",
    "    appl_gate_1(1.1)\n",
    "    cryomag.channel_B.field(B_field)\n",
    "    appl_current(-300e-9)\n",
    "    sleep(60)\n",
    "    \n",
    "    station.snapshot(update=True);\n",
    "\n",
    "    exp = qc.new_experiment('Vd_vs_I_gate, Vsplit = 0.4, B={}'.format(B_field), sample_name='TR1_left_half')\n",
    "\n",
    "    dataid = do2d( appl_gate_1, 1.1, 1.75, 120, 3, appl_current, -300e-9, 300e-9, 1201, 0.05, meas_voltage_K1)\n",
    "    \n",
    "    plot_by_id(dataid)"
   ]
  },
  {
   "cell_type": "code",
   "execution_count": null,
   "metadata": {},
   "outputs": [],
   "source": [
    "# Pinch off measurement\n",
    "\n",
    "lockin_1.amplitude(0.004)\n",
    "appl_gate_1(1.1)\n",
    "appl_TG(0.4)\n",
    "\n",
    "for B_field in [3,4,5,6]:\n",
    "    appl_gate_1(1.1)\n",
    "    cryomag.channel_B.field(B_field)\n",
    "    appl_current(-300e-9)\n",
    "    sleep(60)\n",
    "    \n",
    "    station.snapshot(update=True);\n",
    "\n",
    "    exp = qc.new_experiment('Vd_vs_I_gate, Vsplit = 0.4, B={}'.format(B_field), sample_name='TR1_left_half')\n",
    "\n",
    "    dataid = do2d( appl_gate_1, 1.1, 1.75, 120, 3, appl_current, -300e-9, 300e-9, 1201, 0.05, meas_voltage_K1)\n",
    "    \n",
    "    plot_by_id(dataid)"
   ]
  },
  {
   "cell_type": "code",
   "execution_count": null,
   "metadata": {},
   "outputs": [],
   "source": [
    "appl_current(0)"
   ]
  },
  {
   "cell_type": "markdown",
   "metadata": {},
   "source": [
    "# Split-gate in QH"
   ]
  },
  {
   "cell_type": "code",
   "execution_count": null,
   "metadata": {},
   "outputs": [],
   "source": [
    "appl_gate_1(1.3) #nu=1 at 6T\n",
    "appl_TG(0.4) #split-gate\n",
    "appl_voltage(1e-3)\n",
    "\n",
    "station.snapshot(update=True);\n",
    "\n",
    "exp = qc.new_experiment('I,Vd_vs_splitgate, B={}'.format(6), sample_name='TR1_left_half')\n",
    "\n",
    "dataid = do1d(appl_TG, 0.4, -0.5, 200, 1, meas_voltage_K1, meas_current_K2)\n",
    "\n",
    "appl_voltage(0)\n",
    "appl_TG(0)\n",
    "plot_by_id(dataid)"
   ]
  },
  {
   "cell_type": "code",
   "execution_count": null,
   "metadata": {},
   "outputs": [],
   "source": [
    "appl_voltage_AC(1e-6) #1uV\n",
    "appl_gate_1(1.3) #nu=1 at 6T\n",
    "appl_TG(0.4) #split-gate\n",
    "appl_voltage(0)\n",
    "\n",
    "station.snapshot(update=True);\n",
    "\n",
    "exp = qc.new_experiment('I,Vd_vs_splitgate, B={}'.format(6), sample_name='TR1_left_half')\n",
    "\n",
    "dataid = do1d(appl_TG, 0.4, -0.1, 120, 3, meas_voltage_AC_L1, meas_current_AC_L2)\n",
    "\n",
    "lockin_1.amplitude(0.004)\n",
    "appl_TG(0)\n",
    "plot_by_id(dataid)"
   ]
  },
  {
   "cell_type": "code",
   "execution_count": null,
   "metadata": {},
   "outputs": [],
   "source": [
    "appl_voltage_AC(1e-6) #1uV\n",
    "appl_gate_1(1.3) #nu=1 at 6T\n",
    "appl_TG(0.4) #split-gate\n",
    "appl_voltage(0)\n",
    "\n",
    "station.snapshot(update=True);\n",
    "\n",
    "exp = qc.new_experiment('I,Vd_vs_splitgate, B={}'.format(6), sample_name='TR1_left_half')\n",
    "\n",
    "dataid = do1d(appl_TG, 0.4, -0.1, 300, 3, meas_voltage_AC_L1, meas_current_AC_L2)\n",
    "\n",
    "lockin_1.amplitude(0.004)\n",
    "appl_TG(0)\n",
    "plot_by_id(dataid)"
   ]
  },
  {
   "cell_type": "code",
   "execution_count": null,
   "metadata": {},
   "outputs": [],
   "source": [
    "appl_voltage_AC(5e-6) #5uV\n",
    "appl_gate_1(1.3) #nu=1 at 6T\n",
    "appl_TG(0.4) #split-gate\n",
    "appl_voltage(0)\n",
    "\n",
    "station.snapshot(update=True);\n",
    "\n",
    "exp = qc.new_experiment('I,Vd_vs_splitgate, B={}'.format(6), sample_name='TR1_left_half')\n",
    "\n",
    "dataid = do1d(appl_TG, 0.4, -0.1, 300, 3, meas_voltage_AC_L1, meas_current_AC_L2)\n",
    "\n",
    "lockin_1.amplitude(0.004)\n",
    "appl_TG(0)\n",
    "plot_by_id(dataid)"
   ]
  },
  {
   "cell_type": "code",
   "execution_count": null,
   "metadata": {},
   "outputs": [],
   "source": [
    "appl_voltage_AC(10e-6) #10uV\n",
    "appl_gate_1(1.3) #nu=1 at 6T\n",
    "appl_TG(0.4) #split-gate\n",
    "appl_voltage(0)\n",
    "\n",
    "station.snapshot(update=True);\n",
    "\n",
    "exp = qc.new_experiment('I,Vd_vs_splitgate, B={}'.format(6), sample_name='TR1_left_half')\n",
    "\n",
    "dataid = do1d(appl_TG, 0.4, -0.1, 300, 3, meas_voltage_AC_L1, meas_current_AC_L2)\n",
    "\n",
    "lockin_1.amplitude(0.004)\n",
    "appl_TG(0)\n",
    "plot_by_id(dataid)"
   ]
  },
  {
   "cell_type": "code",
   "execution_count": null,
   "metadata": {},
   "outputs": [],
   "source": [
    "appl_voltage_AC(5e-6) #5uV\n",
    "appl_gate_1(1.1)\n",
    "appl_TG(0.4) #split-gate\n",
    "appl_voltage(0)\n",
    "\n",
    "station.snapshot(update=True);\n",
    "\n",
    "exp = qc.new_experiment('I,Vd_vs_TG,splitgate, B={}'.format(6), sample_name='TR1_left_half')\n",
    "\n",
    "dataid = do2d(appl_gate_1, 1.1, 1.75, 21, 3, appl_TG, 0.4, -0.1, 300, 3, meas_voltage_AC_L1, meas_current_AC_L2)\n",
    "\n",
    "lockin_1.amplitude(0.004)\n",
    "appl_TG(0)\n",
    "appl_gate_1(1.4)\n",
    "plot_by_id(dataid)"
   ]
  },
  {
   "cell_type": "code",
   "execution_count": null,
   "metadata": {},
   "outputs": [],
   "source": [
    "lockin_1.amplitude(0.004)\n",
    "appl_TG(0)\n",
    "appl_gate_1(1.4)"
   ]
  },
  {
   "cell_type": "code",
   "execution_count": null,
   "metadata": {},
   "outputs": [],
   "source": [
    "temp = lakeshore.C.temperature()\n",
    "while temp > 0.35:\n",
    "    print('Waiting for base temp! current temp is {:.2f}K'.format(temp), end = '\\r')\n",
    "    sleep(1)\n",
    "    temp = lakeshore.C.temperature()"
   ]
  },
  {
   "cell_type": "code",
   "execution_count": null,
   "metadata": {},
   "outputs": [],
   "source": [
    "cryomag.B.field(5)"
   ]
  },
  {
   "cell_type": "code",
   "execution_count": null,
   "metadata": {},
   "outputs": [],
   "source": [
    "for top_gate_val in np.linspace(1.7, 1.2, 6):\n",
    "    appl_gate_1(top_gate_val)\n",
    "    appl_TG(0.5) #split-gate\n",
    "    appl_voltage(-4e-3)\n",
    "    \n",
    "    sleep(60)\n",
    "\n",
    "    station.snapshot(update=True);\n",
    "\n",
    "    exp = qc.new_experiment('I,Vd_vs_Vbias,splitgate, Vtg={}'.format(top_gate_val), sample_name='TR1_left_half')\n",
    "\n",
    "    dataid = do2d(appl_TG, 0.5, -0.4, 101, 2, appl_voltage, -4e-3, 4e-3, 1201, 0.01, meas_voltage_K1, meas_current_K2)\n",
    "    \n",
    "    appl_voltage(0)\n",
    "    appl_TG(0)"
   ]
  },
  {
   "cell_type": "code",
   "execution_count": null,
   "metadata": {},
   "outputs": [],
   "source": [
    "appl_voltage(0)\n",
    "appl_TG(0)"
   ]
  },
  {
   "cell_type": "markdown",
   "metadata": {},
   "source": [
    "# JJ at high field"
   ]
  },
  {
   "cell_type": "code",
   "execution_count": null,
   "metadata": {},
   "outputs": [],
   "source": [
    "appl_gate_1(0.4)"
   ]
  },
  {
   "cell_type": "code",
   "execution_count": null,
   "metadata": {},
   "outputs": [],
   "source": [
    "station.snapshot(update=True);\n",
    "exp = qc.new_experiment('IV B aprox 5T, TG=0.4V', sample_name='TR1_JJ')\n",
    "dataid = do1d(appl_current, -10e-9, 10e-9, 101, 0.1, meas_voltage_K1)\n",
    "# ivvi.set_dacs_zero()\n",
    "appl_current(0)\n",
    "plot_by_id(dataid)"
   ]
  },
  {
   "cell_type": "code",
   "execution_count": null,
   "metadata": {},
   "outputs": [],
   "source": [
    "temp = lakeshore.C.temperature()\n",
    "while temp > 0.35:\n",
    "    print('Waiting for base temp! current temp is {:.2f}K'.format(temp), end = '\\r')\n",
    "    sleep(1)\n",
    "    temp = lakeshore.C.temperature()"
   ]
  },
  {
   "cell_type": "code",
   "execution_count": null,
   "metadata": {},
   "outputs": [],
   "source": [
    "appl_gate_1(0.3)\n",
    "appl_current_AC(1e-9)\n",
    "appl_current(0)\n",
    "sleep(60)\n",
    "\n",
    "\n",
    "station.snapshot(update=True);\n",
    "\n",
    "exp = qc.new_experiment('ACVd_vs_gate B=5T, Vsplit = 0.4', sample_name='TR1_left_half')\n",
    "\n",
    "dataid = do2d(cryomag.channel_B.field, 6, 1, 51, 5, appl_gate_1, 0.3, 1.7, 141, 3, meas_voltage_AC_L1, meas_voltage_AC_L1_R)\n",
    "\n",
    "lockin_1.amplitude(0.004)\n",
    "appl_current(0)\n",
    "\n",
    "cryomag.channel_B.field(0)\n",
    "\n",
    "appl_gate_1(0.3)\n",
    "plot_by_id(dataid)"
   ]
  },
  {
   "cell_type": "code",
   "execution_count": null,
   "metadata": {},
   "outputs": [],
   "source": [
    "cryomag.channel_B.field(3)"
   ]
  },
  {
   "cell_type": "code",
   "execution_count": null,
   "metadata": {},
   "outputs": [],
   "source": [
    "for Bval in [6, 5, 4, 3]:\n",
    "\n",
    "    cryomag.channel_B.field(Bval)\n",
    "\n",
    "    appl_gate_1(0.4)\n",
    "    appl_current_AC(1e-9)\n",
    "    appl_current(-200e-9)\n",
    "    sleep(60)\n",
    "\n",
    "\n",
    "    station.snapshot(update=True);\n",
    "\n",
    "    exp = qc.new_experiment('AC IV vs Vg, B = {:.2f}'.format(Bval), sample_name='TR1_JJ')\n",
    "\n",
    "    dataid = do2d(appl_gate_1, 0.4, 1.7, 40, 3, appl_current, -200e-9, 200e-9, 21, 3,\n",
    "                  meas_voltage_K1, meas_voltage_AC_L1, meas_voltage_AC_L1_R)\n",
    "\n",
    "    appl_current(0)\n",
    "    appl_gate_1(0.4)\n",
    "    \n",
    "lockin_1.amplitude(0.004)\n",
    "appl_gate_1(0.4)\n",
    "cryomag.channel_B.field(0)"
   ]
  },
  {
   "cell_type": "code",
   "execution_count": null,
   "metadata": {},
   "outputs": [],
   "source": []
  },
  {
   "cell_type": "markdown",
   "metadata": {},
   "source": [
    "# Temp dependence"
   ]
  },
  {
   "cell_type": "code",
   "execution_count": null,
   "metadata": {},
   "outputs": [],
   "source": [
    "# lakeshore.output_1.output_range('off')\n",
    "lakeshore.output_1.setpoint(45.0)\n",
    "# lakeshore.output_1.input_channel('A')\n",
    "lakeshore.output_1.output_range('2.5W')"
   ]
  },
  {
   "cell_type": "code",
   "execution_count": null,
   "metadata": {},
   "outputs": [],
   "source": [
    "print('Temps: A= {:.2f}, B = {:.4f}, C ={:.4f}'.format(lakeshore.A.temperature(), lakeshore.B.temperature(), lakeshore.C.temperature()) )"
   ]
  },
  {
   "cell_type": "code",
   "execution_count": null,
   "metadata": {},
   "outputs": [],
   "source": [
    "lockin_1.time_constant(1)\n",
    "sleep(1)\n",
    "appl_current_AC(2.5e-9)\n",
    "appl_current(-8e-6)\n",
    "sleep(9)\n",
    "\n",
    "lakeshore.output_1.setpoint(0.3)\n",
    "lakeshore.output_1.output_range('25mW')\n",
    "\n",
    "sleep(6)\n",
    "\n",
    "for set_temp in [0.3, 0.35, 0.4, 0.5, 0.6]:\n",
    "    lakeshore.output_1.setpoint(set_temp)\n",
    "    sleep(5)\n",
    "    lakeshore.output_1.wait_until_set_point_reached(wait_cycle_time = 2, tolerance = 20e-3, wait_equilibration_time = 20)\n",
    "    \n",
    "    exp = qc.new_experiment('IV + AC across finger zero field T={}K'.format(set_temp), sample_name='TR1_fR')\n",
    "    \n",
    "    dataid = do1d(appl_current, -8e-6, 8e-6, 400, 2, meas_voltage_K1, meas_voltage_AC_L1, meas_voltage_AC_L1_R, lockin_1.P, lakeshore.C.temperature)\n",
    "    \n",
    "    appl_current(-8e-6)\n",
    "    sleep(5)\n",
    "    \n",
    "    \n",
    "lockin_1.amplitude(0.004)\n",
    "appl_current(0.0)\n",
    "lakeshore.output_1.setpoint(0)\n",
    "lakeshore.output_1.output_range('off')"
   ]
  },
  {
   "cell_type": "code",
   "execution_count": null,
   "metadata": {},
   "outputs": [],
   "source": [
    "lakeshore.C.temperature()"
   ]
  },
  {
   "cell_type": "code",
   "execution_count": null,
   "metadata": {},
   "outputs": [],
   "source": [
    "# time = ElapsedTimeParameter('time')\n",
    "\n",
    "#note that here exit_condition takes two independent parameters and only then measured parameters\n",
    "def temp_limit(temp, current, measured_values):\n",
    "    return temp() < 0.33\n",
    "\n",
    "appl_TG(2.0)\n",
    "sleep(5)\n",
    "appl_TG(1.2)\n",
    "sleep(5)\n",
    "    \n",
    "gate_val = 1.5\n",
    "appl_TG(gate_val)\n",
    "appl_current(-300e-9)\n",
    "sleep(10)\n",
    "\n",
    "B_val = cryomag.channel_B.field()\n",
    "\n",
    "station.snapshot(update=True);\n",
    "exp = qc.new_experiment('IV_vs_temp_CD Vg = {}, B = {:.1f}'.format(gate_val, B_val), sample_name='TR2_fL')\n",
    "\n",
    "dataid = do1d_until(lakeshore.C.temperature, temp_limit, 20, appl_current, -300e-9, 300e-9, 400, 0.05, \n",
    "                    meas_voltage_K1, meas_voltage_K2)\n",
    "\n",
    "appl_current(0)"
   ]
  },
  {
   "cell_type": "code",
   "execution_count": null,
   "metadata": {},
   "outputs": [],
   "source": [
    "def temp_limit(temp, current, measured_values):\n",
    "    return temp() < 0.33\n"
   ]
  },
  {
   "cell_type": "code",
   "execution_count": null,
   "metadata": {},
   "outputs": [],
   "source": [
    "for B_val, gate_val in zip([3, 4, 5, 5, 6, 6],[1.6, 1.8, 1.44, 2, 1.5, 1.6]):\n",
    "    appl_TG(2.0)\n",
    "    sleep(5)\n",
    "    appl_TG(1.2)\n",
    "    sleep(5)\n",
    "    appl_TG(gate_val)\n",
    "    cryomag.channel_B.field(B_val)\n",
    "    \n",
    "    lakeshore.output_1.output_range('2.5W')\n",
    "    \n",
    "    while lakeshore.A.temperature() < 44.5:\n",
    "        sleep(5)\n",
    "    \n",
    "    sleep(60*4)\n",
    "    lakeshore.output_1.output_range('off')\n",
    "    sleep(60*4)\n",
    "    \n",
    "    if level_meter.lastval() < 14.5:\n",
    "        print('He level critical!')\n",
    "        cryomag.channel_B.write('SWEEP ZERO')\n",
    "        break\n",
    "    \n",
    "    temp = lakeshore.C.temperature()\n",
    "    while temp > 2.5:\n",
    "        sleep(10)\n",
    "        temp = lakeshore.C.temperature()\n",
    "    \n",
    "    appl_current(-400e-9)\n",
    "    sleep(5)\n",
    "\n",
    "    station.snapshot(update=True);\n",
    "    exp = qc.new_experiment('IV_vs_temp_CD Vg = {}, B = {:.1f}'.format(gate_val, B_val), sample_name='TR2_N_4probes')\n",
    "\n",
    "    dataid = do1d_until(lakeshore.C.temperature, temp_limit, 20, appl_current, -400e-9, 400e-9, 400, 0.05, \n",
    "                        meas_voltage_K1, meas_voltage_K2)\n",
    "\n",
    "    appl_current(0)\n",
    "    appl_TG(1.3)\n",
    "    \n",
    "# cryomag.channel_B.write('SWEEP ZERO')"
   ]
  },
  {
   "cell_type": "code",
   "execution_count": null,
   "metadata": {},
   "outputs": [],
   "source": [
    "lockin_1.amplitude(0.004)\n",
    "\n",
    "for B_val in [6, 5]:\n",
    "    \n",
    "    cryomag.channel_B.field(B_val)\n",
    "    \n",
    "    lakeshore.output_1.output_range('2.5W')\n",
    "    \n",
    "    while lakeshore.A.temperature() < 44.5:\n",
    "        sleep(5)\n",
    "    \n",
    "    sleep(60*4)\n",
    "    lakeshore.output_1.output_range('off')\n",
    "    sleep(60*3)\n",
    "    \n",
    "    appl_TG(2.0)\n",
    "    sleep(5)\n",
    "    appl_TG(1.3)\n",
    "\n",
    "    station.snapshot(update=True);\n",
    "    exp = qc.new_experiment('DC_fit_vs_Vg_vs_temp_CD zero bias B = {:.1f}'.format(B_val), sample_name='TR2_fB')\n",
    "\n",
    "    dataid = do1d_until(lakeshore.C.temperature, temp_limit, 5, appl_TG, 1.3, 2, 41, 3, \n",
    "                        r_from_IV_1, r_from_IV_2)\n",
    "    appl_TG(1.3)\n",
    "    \n",
    "appl_current(0)"
   ]
  },
  {
   "cell_type": "code",
   "execution_count": null,
   "metadata": {},
   "outputs": [],
   "source": [
    "appl_current_AC(5e-9)\n",
    "appl_current(0)\n",
    "\n",
    "for B_val in [5, 4, 3]:\n",
    "    \n",
    "    cryomag.channel_B.field(B_val)\n",
    "    \n",
    "    lakeshore.output_1.output_range('2.5W')\n",
    "    \n",
    "    while lakeshore.A.temperature() < 44.5:\n",
    "        sleep(5)\n",
    "    \n",
    "    sleep(60*4)\n",
    "    lakeshore.output_1.output_range('off')\n",
    "    sleep(60*3)\n",
    "    \n",
    "    appl_TG(2.0)\n",
    "    sleep(5)\n",
    "    appl_TG(1.3)\n",
    "    \n",
    "    if level_meter.lastval() < 14.5:\n",
    "        print('He level critical!')\n",
    "        cryomag.channel_B.write('SWEEP ZERO')\n",
    "        break\n",
    "        \n",
    "\n",
    "    station.snapshot(update=True);\n",
    "    exp = qc.new_experiment('AC_vs_Vg_vs_temp_CD zero bias B = {:.1f}'.format(B_val), sample_name='TR2_fB')\n",
    "\n",
    "    dataid = do1d_until(lakeshore.C.temperature, temp_limit, 5, appl_TG, 1.3, 2, 41, 3, \n",
    "                        meas_voltage_AC_L1, meas_voltage_AC_L2, meas_voltage_AC_L1_R, meas_voltage_AC_L2_R,\n",
    "                        lockin_1.P, lockin_2.P)\n",
    "    appl_TG(1.3)\n",
    "    \n",
    "# cryomag.channel_B.write('SWEEP ZERO')\n",
    "lockin_1.amplitude(0.004)\n",
    "station.snapshot(update=True);"
   ]
  },
  {
   "cell_type": "code",
   "execution_count": null,
   "metadata": {},
   "outputs": [],
   "source": []
  },
  {
   "cell_type": "code",
   "execution_count": null,
   "metadata": {},
   "outputs": [],
   "source": [
    "cryomag.channel_B.field(0)"
   ]
  },
  {
   "cell_type": "code",
   "execution_count": null,
   "metadata": {},
   "outputs": [],
   "source": [
    "cryomag.channel_B.write('SWEEP ZERO')"
   ]
  },
  {
   "cell_type": "code",
   "execution_count": null,
   "metadata": {},
   "outputs": [],
   "source": [
    "station.snapshot(update=True);"
   ]
  },
  {
   "cell_type": "code",
   "execution_count": null,
   "metadata": {},
   "outputs": [],
   "source": [
    "appl_current(0)"
   ]
  },
  {
   "cell_type": "code",
   "execution_count": null,
   "metadata": {},
   "outputs": [],
   "source": []
  },
  {
   "cell_type": "markdown",
   "metadata": {},
   "source": [
    "# Test cells"
   ]
  },
  {
   "cell_type": "code",
   "execution_count": null,
   "metadata": {},
   "outputs": [],
   "source": [
    "appl_voltage(0)\n",
    "station.snapshot(update=True);\n",
    "exp = qc.new_experiment('wire resistant', sample_name='wire')\n",
    "dataid = do1d(appl_voltage, -3e-3, 3e-3, 101, 0.1, meas_current_K2)\n",
    "# ivvi.set_dacs_zero()\n",
    "\n",
    "plot_by_id(dataid)"
   ]
  },
  {
   "cell_type": "code",
   "execution_count": null,
   "metadata": {},
   "outputs": [],
   "source": [
    "dataid = 153\n",
    "dataset = qc.load_by_id(dataid)"
   ]
  },
  {
   "cell_type": "code",
   "execution_count": null,
   "metadata": {},
   "outputs": [],
   "source": [
    "dataset.get_parameter_data().keys()"
   ]
  },
  {
   "cell_type": "code",
   "execution_count": null,
   "metadata": {},
   "outputs": [],
   "source": [
    "voltage = dataset.get_parameter_data()['meas_current_K2']['appl_voltage']\n",
    "current = dataset.get_parameter_data()['meas_current_K2']['meas_current_K2']\n",
    "\n",
    "fit=np.polyfit(current,voltage,1)\n",
    "fit"
   ]
  },
  {
   "cell_type": "code",
   "execution_count": null,
   "metadata": {},
   "outputs": [],
   "source": []
  }
 ],
 "metadata": {
  "kernelspec": {
   "display_name": "Python 3 (ipykernel)",
   "language": "python",
   "name": "python3"
  },
  "language_info": {
   "codemirror_mode": {
    "name": "ipython",
    "version": 3
   },
   "file_extension": ".py",
   "mimetype": "text/x-python",
   "name": "python",
   "nbconvert_exporter": "python",
   "pygments_lexer": "ipython3",
   "version": "3.11.3"
  },
  "toc": {
   "base_numbering": 1,
   "nav_menu": {},
   "number_sections": true,
   "sideBar": true,
   "skip_h1_title": false,
   "title_cell": "Table of Contents",
   "title_sidebar": "Contents",
   "toc_cell": false,
   "toc_position": {
    "height": "calc(100% - 180px)",
    "left": "10px",
    "top": "150px",
    "width": "240px"
   },
   "toc_section_display": true,
   "toc_window_display": true
  }
 },
 "nbformat": 4,
 "nbformat_minor": 4
}
