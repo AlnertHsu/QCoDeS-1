{
 "cells": [
  {
   "cell_type": "code",
   "execution_count": null,
   "metadata": {},
   "outputs": [],
   "source": [
    "%matplotlib inline\n",
    "import time\n",
    "import numpy as np\n",
    "from scipy import optimize\n",
    "from scipy.interpolate import interp1d\n",
    "from scipy.signal import find_peaks\n",
    "from scipy.interpolate import *\n",
    "from scipy.fftpack import fft\n",
    "import matplotlib.pyplot as plt\n",
    "import pandas as pd\n",
    "from pprint import pprint\n",
    "import os, sys\n",
    "from time import sleep, monotonic\n",
    "from scipy.ndimage import gaussian_filter\n",
    "\n",
    "import qcodes as qc\n",
    "from qcodes import Parameter\n",
    "from qcodes import initialise_or_create_database_at\n",
    "from qcodes import load_or_create_experiment\n",
    "from qcodes.dataset.plotting import plot_dataset, plot_by_id\n",
    "from qcodes.utils.metadata import diff_param_values\n",
    "from qcodes.instrument.specialized_parameters import ElapsedTimeParameter\n",
    "\n",
    "sys.path.append('M:\\\\tnw\\\\ns\\\\qt\\\\2D Topo\\\\code\\\\qcodes')"
   ]
  },
  {
   "cell_type": "code",
   "execution_count": null,
   "metadata": {},
   "outputs": [],
   "source": [
    "%matplotlib widget"
   ]
  },
  {
   "cell_type": "code",
   "execution_count": null,
   "metadata": {},
   "outputs": [],
   "source": [
    "import matplotlib\n",
    "import matplotlib.ticker as ticker"
   ]
  },
  {
   "cell_type": "code",
   "execution_count": null,
   "metadata": {},
   "outputs": [],
   "source": [
    "matplotlib.rcParams.update({'font.size': 16})\n",
    "matplotlib.rc('xtick', labelsize=15) \n",
    "matplotlib.rc('ytick', labelsize=15) "
   ]
  },
  {
   "cell_type": "markdown",
   "metadata": {},
   "source": [
    "# Smooth dirivative"
   ]
  },
  {
   "cell_type": "code",
   "execution_count": null,
   "metadata": {},
   "outputs": [],
   "source": [
    "def smooth_dir(parametr, N_points = 5):\n",
    "    \n",
    "    #parametr => current_DC\n",
    "    #Ny => Ngate\n",
    "    #Nx => Nvolt\n",
    "    \n",
    "    Ny = parametr.shape[0]\n",
    "    Nx = parametr.shape[1]\n",
    "    \n",
    "    d_parameter = np.zeros_like(parametr)\n",
    "    \n",
    "    for y_idx in range(Ny): #for each gate value\n",
    "        for x_idx in range (Nx): #for each voltage point\n",
    "            vals_to_fit = parametr[y_idx, max(0,x_idx-N_points):min(Nx, x_idx+N_points)] #select current values to fit\n",
    "            x_axes = np.arange(vals_to_fit.size) #array from 0 to 2*Npoints+1 of integers (fitting length)\n",
    "            fit_vals = np.polyfit(x_axes, vals_to_fit, 1) #directly use x_axes, because we take derivative with step\n",
    "            d_parameter[y_idx, x_idx] = fit_vals[0] #derivative with respect to index\n",
    "            \n",
    "    return d_parameter"
   ]
  },
  {
   "cell_type": "code",
   "execution_count": null,
   "metadata": {},
   "outputs": [],
   "source": [
    "def smooth_dir_1D(parametr, N_points = 5):\n",
    "    \n",
    "    #parametr => current_DC\n",
    "    #Ny => Ngate\n",
    "    #Nx => Nvolt\n",
    "    \n",
    "#     Ny = parametr.shape[0]\n",
    "    Nx = parametr.size\n",
    "    \n",
    "    d_parameter = np.zeros_like(parametr)\n",
    "    for x_idx in range (Nx): #for each voltage point\n",
    "        vals_to_fit = parametr[max(0,x_idx-N_points):min(Nx, x_idx+N_points)] #select current values to fit\n",
    "        x_axes = np.arange(vals_to_fit.size) #array from 0 to 2*Npoints+1 of integers (fitting length)\n",
    "        fit_vals = np.polyfit(x_axes, vals_to_fit, 1) #directly use x_axes, because we take derivative with step\n",
    "        d_parameter[x_idx] = fit_vals[0] #derivative with respect to index\n",
    "            \n",
    "    return d_parameter"
   ]
  },
  {
   "cell_type": "markdown",
   "metadata": {},
   "source": [
    "# Ivan JJ"
   ]
  },
  {
   "cell_type": "code",
   "execution_count": null,
   "metadata": {},
   "outputs": [],
   "source": [
    "# qc.experiments()"
   ]
  },
  {
   "cell_type": "code",
   "execution_count": null,
   "metadata": {},
   "outputs": [],
   "source": [
    "dataset = qc.load_by_id(23)\n",
    "print(dataset.exp_name)\n",
    "cmap = plt.get_cmap('hot')\n",
    "axes = plot_dataset(dataset, cmap = cmap)\n",
    "axes\n",
    "#plt.savefig('../plots/TL2_JJL_IV_1.png')"
   ]
  },
  {
   "cell_type": "markdown",
   "metadata": {},
   "source": [
    "## Get R from slop"
   ]
  },
  {
   "cell_type": "code",
   "execution_count": null,
   "metadata": {},
   "outputs": [],
   "source": [
    "dataset = qc.load_by_id(32)\n",
    "voltage = dataset.get_parameter_data()['meas_voltage_K1']['meas_voltage_K1']\n",
    "current = dataset.get_parameter_data()['meas_voltage_K1']['appl_current']\n",
    "fit_values = np.polyfit(current,voltage,1)\n",
    "print(np.abs(fit_values[0]))"
   ]
  },
  {
   "cell_type": "code",
   "execution_count": null,
   "metadata": {},
   "outputs": [],
   "source": [
    "dataset = qc.load_by_id(9)\n",
    "dataset.get_parameter_data()['meas_voltage_K1'].keys()"
   ]
  },
  {
   "cell_type": "markdown",
   "metadata": {},
   "source": [
    "## IV vs time"
   ]
  },
  {
   "cell_type": "code",
   "execution_count": null,
   "metadata": {},
   "outputs": [],
   "source": [
    "dataset = qc.load_by_id(9)\n",
    "voltage = dataset.get_parameter_data()['meas_voltage_K1']['meas_voltage_K1']\n",
    "current = dataset.get_parameter_data()['meas_voltage_K1']['appl_current']\n",
    "time = dataset.get_parameter_data()['meas_voltage_K1']['time']\n",
    "\n",
    "N_time = np.size(np.unique(time))\n",
    "N_current = np.size(np.unique(current))\n",
    "\n",
    "if np.size(voltage) < N_time * N_current:\n",
    "    print('Interupted scan! Last sweep is disregarded')\n",
    "    N_time = N_time - 1\n",
    "    voltage = voltage[0:N_time * N_current]\n",
    "    current = current[0:N_time * N_current]\n",
    "    time = time[0:N_time * N_current]\n",
    "    \n",
    "\n",
    "voltage = -1*voltage.reshape(N_time, N_current)\n",
    "current = current.reshape(N_time, N_current)\n",
    "time = time.reshape(N_time, N_current)\n",
    "\n",
    "dif_voltage = np.diff(voltage, axis = 1)\n",
    "dif_current = np.diff(current, axis = 1)\n",
    "R = dif_voltage/dif_current\n",
    "difdif_voltage = np.diff(dif_voltage, axis = 1)\n",
    "R_filt = gaussian_filter( R, sigma=(0.1,1))"
   ]
  },
  {
   "cell_type": "code",
   "execution_count": null,
   "metadata": {},
   "outputs": [],
   "source": [
    "fig, ax = plt.subplots()\n",
    "\n",
    "cmap = plt.get_cmap('hot')\n",
    "im = ax.pcolormesh(time/60, 1e9 * current, R_filt, cmap = cmap, vmin = 0)\n",
    "fig.colorbar(im,ax=ax)\n",
    "#ax.set_ylim(-100, 100)\n",
    "#ax.set_xlim(-2, 2)\n",
    "ax.set_ylabel(r'Current (nA)')\n",
    "ax.set_xlabel(r'Time (min)')\n",
    "#plt.savefig('../plots/R(I,B)_J1.png')\n",
    "plt.show()"
   ]
  },
  {
   "cell_type": "markdown",
   "metadata": {},
   "source": [
    "## IV vs gate"
   ]
  },
  {
   "cell_type": "code",
   "execution_count": null,
   "metadata": {},
   "outputs": [],
   "source": [
    "dataset = qc.load_by_id(28)\n",
    "voltage = dataset.get_parameter_data()['meas_voltage_K2']['meas_voltage_K2']\n",
    "current = dataset.get_parameter_data()['meas_voltage_K1']['appl_current']\n",
    "v_gate = dataset.get_parameter_data()['meas_voltage_K1']['appl_TG']\n",
    "\n",
    "N_gate = np.size(np.unique(v_gate))\n",
    "N_current = np.size(np.unique(current))\n",
    "\n",
    "if np.size(voltage) < N_gate * N_current:\n",
    "    N_gate = N_gate - 1\n",
    "    voltage = voltage[0:N_gate * N_current]\n",
    "    current = current[0:N_gate * N_current]\n",
    "    v_gate = v_gate[0:N_gate * N_current]\n",
    "    \n",
    "\n",
    "voltage = voltage.reshape(N_gate, N_current)\n",
    "current = current.reshape(N_gate, N_current)\n",
    "v_gate = v_gate.reshape(N_gate, N_current)\n",
    "\n",
    "dif_voltage = np.diff(voltage, axis = 1)\n",
    "dif_current = np.diff(current, axis = 1)\n",
    "R = dif_voltage/dif_current\n",
    "difdif_voltage = np.diff(dif_voltage, axis = 1)\n",
    "R_filt = gaussian_filter( R, sigma=(0.1,2))\n",
    "\n",
    "I_step = current[0,1] - current[0,0]\n",
    "R_sm = smooth_dir(voltage, N_points=6) / I_step #scale the derivative"
   ]
  },
  {
   "cell_type": "code",
   "execution_count": null,
   "metadata": {},
   "outputs": [],
   "source": [
    "fig, ax = plt.subplots()\n",
    "\n",
    "cmap = plt.get_cmap('hot')\n",
    "im = ax.pcolormesh(v_gate, 1e9 * current, R_sm, cmap = cmap, vmin=0,vmax=600)\n",
    "cbar = fig.colorbar(im,ax=ax)\n",
    "# ax.set_ylim(-190, 190)\n",
    "# ax.set_xlim(-10, 10)\n",
    "ax.set_ylabel(r'Current (nA)')\n",
    "ax.set_xlabel(r'V gate (V)')\n",
    "cbar.set_label(r'Resistance ($\\Omega$)', rotation=90)\n",
    "plt.title('JJ1_JJ_2')\n",
    "plt.savefig('../plots/R(I,Vg)_JJ1_JJ_2.png')\n",
    "plt.show()"
   ]
  },
  {
   "cell_type": "markdown",
   "metadata": {},
   "source": [
    "## IV vs B"
   ]
  },
  {
   "cell_type": "code",
   "execution_count": null,
   "metadata": {},
   "outputs": [],
   "source": [
    "dataset = qc.load_by_id(25)\n",
    "dataset.get_parameter_data()['meas_voltage_K2'].keys()"
   ]
  },
  {
   "cell_type": "code",
   "execution_count": null,
   "metadata": {},
   "outputs": [],
   "source": [
    "dataset = qc.load_by_id(27)\n",
    "voltage = dataset.get_parameter_data()['meas_voltage_K1']['meas_voltage_K1']\n",
    "current = dataset.get_parameter_data()['meas_voltage_K1']['appl_current']\n",
    "field = dataset.get_parameter_data()['meas_voltage_K1']['cryomag_A_field']\n",
    "\n",
    "N_field = np.size(np.unique(field))\n",
    "N_current = np.size(np.unique(current))\n",
    "\n",
    "if np.size(voltage) < N_field * N_current:\n",
    "    N_field = N_field - 1\n",
    "    voltage = voltage[0:N_field * N_current]\n",
    "    current = current[0:N_field * N_current]\n",
    "    field = field[0:N_field * N_current]\n",
    "    \n",
    "\n",
    "voltage = voltage.reshape(N_field, N_current)\n",
    "current = current.reshape(N_field, N_current)\n",
    "field = field.reshape(N_field, N_current)\n",
    "\n",
    "dif_voltage = np.diff(voltage, axis = 1)\n",
    "dif_current = np.diff(current, axis = 1)\n",
    "R = dif_voltage/dif_current\n",
    "difdif_voltage = np.diff(dif_voltage, axis = 1)\n",
    "R_filt = gaussian_filter( R, sigma=(0,1))\n",
    "\n",
    "I_step = current[0,1] - current[0,0]\n",
    "R_sm = smooth_dir(voltage, N_points=6) / I_step #scale the derivative"
   ]
  },
  {
   "cell_type": "code",
   "execution_count": null,
   "metadata": {},
   "outputs": [],
   "source": []
  },
  {
   "cell_type": "code",
   "execution_count": null,
   "metadata": {},
   "outputs": [],
   "source": [
    "fig, ax = plt.subplots()\n",
    "\n",
    "cmap = plt.get_cmap('hot')\n",
    "\n",
    "pixel_width = field[1,0]-field[0,0]\n",
    "pixel_height = current[0,1]-current[0,0]\n",
    "\n",
    "im = ax.pcolormesh(1e3*(field-pixel_width/2), 1e9 * (current-pixel_height/2), \n",
    "                   R_sm, cmap = cmap, vmin=0,vmax=500)\n",
    "fig.colorbar(im,ax=ax)\n",
    "# ax.set_ylim(-190, 190)\\\n",
    "# ax.set_xlim(-2, 2)\n",
    "ax.set_ylabel(r'Current (nA)')\n",
    "ax.set_xlabel(r'Field (mT)')\n",
    "plt.title('JJ1_JJ_1')\n",
    "plt.savefig('../plots/R(I,B)_JJ1_JJ_1_b.png')\n",
    "plt.show()"
   ]
  },
  {
   "cell_type": "markdown",
   "metadata": {},
   "source": [
    "## Finding Ic and offset"
   ]
  },
  {
   "cell_type": "code",
   "execution_count": null,
   "metadata": {},
   "outputs": [],
   "source": [
    "difdif_voltage = gaussian_filter( np.diff( gaussian_filter(R_filt, sigma=(0.1,1)), axis = 1), sigma=(0.1,2))\n",
    "\n",
    "#shape matching due to derivative\n",
    "field_cut = 1e3 * field[:,0:-2]\n",
    "current_cut = 1e9 * current[:,0:-2]\n",
    "\n",
    "\n",
    "#row and coulumn masks\n",
    "mask_B =  (( field_cut > -1 ) & ( field_cut < 0.5 ) )[:,1]\n",
    "mask_I = (( current_cut > -300 ) & ( current_cut < 10 ) )[1,:]\n",
    "\n",
    "field_masked = field_cut[:,mask_I]\n",
    "field_masked = field_masked[mask_B,:]\n",
    "\n",
    "current_masked = current_cut[:,mask_I]\n",
    "current_masked = current_masked[mask_B,:]\n",
    "\n",
    "difdif_voltage_masked = difdif_voltage[:,mask_I]\n",
    "difdif_voltage_masked = difdif_voltage_masked[mask_B,:]\n",
    "\n",
    "R_filt_cut = R_filt[:,0:-1]\n",
    "R_filt_masked = R_filt_cut[:,mask_I]\n",
    "R_filt_masked = R_filt_masked[mask_B,:]"
   ]
  },
  {
   "cell_type": "markdown",
   "metadata": {},
   "source": [
    "### Peaks extraction in $\\frac{d^2 V}{dI^2}$"
   ]
  },
  {
   "cell_type": "code",
   "execution_count": null,
   "metadata": {},
   "outputs": [],
   "source": [
    "B_vals = field_masked[:,1]\n",
    "I_vals = current_masked[1,:]\n",
    "peak_positions = np.zeros_like(B_vals)\n",
    "\n",
    "for B_idx, B in enumerate(B_vals):\n",
    "    d2V_dI2 = -1*difdif_voltage_masked[B_idx, 10:-1]\n",
    "    I_vals_cut = I_vals[10:-1]\n",
    "    prominance = 1000\n",
    "    peaks = find_peaks(d2V_dI2, prominence=prominance)\n",
    "    while np.size(peaks[0])==0:\n",
    "#         print('no peaks')\n",
    "        prominance -=2\n",
    "        peaks = find_peaks(d2V_dI2, prominence=prominance)\n",
    "#     print(peaks[0])\n",
    "    \n",
    "#     if np.size(peaks[0]) > 1:\n",
    "#         fig, ax = plt.subplots()\n",
    "#         ax.plot(I_vals_cut, d2V_dI2)\n",
    "#         ax.scatter(I_vals_cut[peaks[0]], d2V_dI2[peaks[0]])\n",
    "#         plt.show()\n",
    "#         break\n",
    "        \n",
    "    if np.size(peaks[0]) > 1:\n",
    "        peak_positions[B_idx] =  I_vals_cut[peaks[0][np.argmax(peaks[1]['prominences'])]]\n",
    "    else:\n",
    "        peak_positions[B_idx] =  I_vals_cut[peaks[0]] if len(peaks[0])>0 else 0\n",
    "        \n",
    "#     if np.abs(peak_positions[B_idx]) > 200:\n",
    "#         fig, ax = plt.subplots()\n",
    "#         ax.plot(I_vals_cut, d2V_dI2)\n",
    "#         ax.scatter(I_vals_cut[peaks[0]], d2V_dI2[peaks[0]])\n",
    "#         plt.show()\n",
    "#         break\n",
    "        \n",
    "    \n",
    "#     fig, ax = plt.subplots()\n",
    "#     ax.plot(I_vals_cut, d2V_dI2)\n",
    "#     ax.scatter(I_vals_cut[peaks[0]], d2V_dI2[peaks[0]])\n",
    "#     plt.show()\n",
    "#     break"
   ]
  },
  {
   "cell_type": "code",
   "execution_count": null,
   "metadata": {},
   "outputs": [],
   "source": []
  },
  {
   "cell_type": "code",
   "execution_count": null,
   "metadata": {},
   "outputs": [],
   "source": [
    "fig, ax = plt.subplots()\n",
    "\n",
    "cmap = plt.get_cmap('hot')\n",
    "pixel_width = field_masked[1,0]-field_masked[0,0]\n",
    "pixel_height = current_masked[0,1]-current_masked[0,0]\n",
    "\n",
    "im = ax.pcolor(field_masked - pixel_width/2, current_masked - pixel_height/2, R_filt_masked, cmap = cmap, vmin= 0, vmax = 300)\n",
    "fig.colorbar(im,ax=ax)\n",
    "ax.scatter(B_vals, peak_positions)\n",
    "ax.set_ylim(-250, 0)\n",
    "#ax.set_xlim(-0.6, -0.1)\n",
    "ax.set_ylabel(r'Current (nA)')\n",
    "ax.set_xlabel(r'Field (mT)')\n",
    "ax.axvline(-0.3)\n",
    "plt.show()"
   ]
  },
  {
   "cell_type": "code",
   "execution_count": null,
   "metadata": {},
   "outputs": [],
   "source": [
    "fig, ax = plt.subplots()\n",
    "\n",
    "cmap = plt.get_cmap('hot')\n",
    "\n",
    "pixel_width = field[1,0]-field[0,0]\n",
    "pixel_height = current[0,1]-current[0,0]\n",
    "\n",
    "im = ax.pcolormesh(1e3*(field-pixel_width/2), 1e9 * (current-pixel_height/2), \n",
    "                   R_filt, cmap = cmap, vmin=0,vmax=500)\n",
    "fig.colorbar(im,ax=ax)\n",
    "# ax.set_ylim(-190, 190)\\\n",
    "# ax.set_xlim(-2, 2)\n",
    "\n",
    "ax.plot(B_vals, peak_positions, linewidth = 3, color = 'magenta')\n",
    "\n",
    "ax.set_ylabel(r'Current (nA)')\n",
    "ax.set_xlabel(r'Field (mT)')\n",
    "plt.title('BL3_JJ_2')\n",
    "# plt.savefig('../plots/R(I,B)_BL3_JJ_2.png')\n",
    "plt.show()"
   ]
  },
  {
   "cell_type": "code",
   "execution_count": null,
   "metadata": {},
   "outputs": [],
   "source": [
    "fig, ax = plt.subplots()\n",
    "\n",
    "ax.plot(B_vals, -peak_positions, linewidth = 4, color = 'magenta')\n",
    "\n",
    "\n",
    "plt.show()"
   ]
  },
  {
   "cell_type": "markdown",
   "metadata": {},
   "source": [
    "## MAR data"
   ]
  },
  {
   "cell_type": "code",
   "execution_count": null,
   "metadata": {},
   "outputs": [],
   "source": [
    "dataset = qc.load_by_id(36)\n",
    "voltage = dataset.get_parameter_data()['meas_voltage_K1']['meas_voltage_K1']\n",
    "current = dataset.get_parameter_data()['meas_voltage_K1']['appl_current']\n",
    "\n",
    "lockin = dataset.get_parameter_data()['meas_voltage_R_Lockin1']['meas_voltage_R_Lockin1']\n",
    "current_AC = dataset.snapshot['station']['parameters']['appl_current_AC']['value']\n",
    "\n",
    "R_AC = lockin/current_AC"
   ]
  },
  {
   "cell_type": "code",
   "execution_count": null,
   "metadata": {},
   "outputs": [],
   "source": [
    "fig, ax = plt.subplots(constrained_layout = True)\n",
    "# ax.plot(1e3*voltage[0:-1], R_filt)\n",
    "# ax.plot(1e3*voltage, R_filt)\n",
    "ax.plot(1e3*voltage, gaussian_filter(R_AC, sigma=(1)))\n",
    "\n",
    "ax.set_ylim(200, 280)\n",
    "# ax.set_ylim(210, 250)\n",
    "# ax.set_xlim(-2, 2)\n",
    "ax.set_ylabel(r'$\\frac{d \\: \\mathrm{V}}{d \\: \\mathrm{I}}$ ($\\Omega$)', fontsize = 15)\n",
    "ax.set_xlabel(r'Voltage (mV)', fontsize = 12)\n",
    "plt.title('JJ1_JJ_3, $\\mathrm{I}_\\mathrm{AC} = 100 nA$')\n",
    "# plt.legend()\n",
    "plt.savefig('../plots/JJ1_JJ_3_MAR.png')"
   ]
  },
  {
   "cell_type": "code",
   "execution_count": null,
   "metadata": {},
   "outputs": [],
   "source": [
    "I_range = 15e-6\n",
    "\n",
    "I_to_fit_l = current[current < -I_range]\n",
    "V_to_fit_l = voltage[current < -I_range]\n",
    "\n",
    "I_to_fit_r = current[current > I_range]\n",
    "V_to_fit_r = voltage[current > I_range]\n",
    "\n",
    "fit_vals_l = np.polyfit(I_to_fit_l, V_to_fit_l, 1)\n",
    "fit_vals_r = np.polyfit(I_to_fit_r, V_to_fit_r, 1)\n",
    "\n",
    "R_N = (fit_vals_l[0] + fit_vals_r[0])/2\n",
    "\n",
    "I_exs_l = -fit_vals_l[1] / fit_vals_l[0]\n",
    "I_exs_r = -fit_vals_r[1] / fit_vals_r[0]\n",
    "\n",
    "I_exs = (I_exs_r - I_exs_l)/2"
   ]
  },
  {
   "cell_type": "code",
   "execution_count": null,
   "metadata": {},
   "outputs": [],
   "source": [
    "print(I_exs * R_N * 1e3)\n",
    "print(I_exs * R_N * 1e3 / 0.49)"
   ]
  },
  {
   "cell_type": "code",
   "execution_count": null,
   "metadata": {},
   "outputs": [],
   "source": [
    "fig, ax = plt.subplots(figsize=(6,4), constrained_layout = True)\n",
    "# ax.plot(1e3*voltage[0:-1], R_filt)\n",
    "# ax.plot(1e3*voltage, R_filt)\n",
    "ax.plot(1e6*current, 1e3*gaussian_filter(voltage, sigma=(1)))\n",
    "\n",
    "ax.plot(1e6*current, 1e3*(current*fit_vals_l[0]+fit_vals_l[1]), linestyle = ':', color= 'black',linewidth = 0.9)\n",
    "\n",
    "ax.axhline(0, linestyle = '-', color= 'black',linewidth = 0.7)\n",
    "\n",
    "ax.set_xlabel(r'I ($\\mu$A)', fontsize = 16)\n",
    "ax.set_ylabel(r'V (mV)', fontsize = 16)\n",
    "\n",
    "# plt.title('')\n",
    "\n",
    "ax.set_ylim(-5, 5)\n",
    "# ax.set_xlim(-15, 15)\n",
    "\n",
    "# # inset axes....\n",
    "# axins = ax.inset_axes([0.05, 0.65, 0.3, 0.3])\n",
    "# axins.plot(1e6*current, 1e3*gaussian_filter(voltage, sigma=(1)))\n",
    "# # sub region of the original image\n",
    "# x1, x2, y1, y2 = -0.3, 0.3, -0.1, 0.1\n",
    "# axins.set_xlim(x1, x2)\n",
    "# axins.set_ylim(y1, y2)\n",
    "# # axins.set_xticklabels('')\n",
    "# axins.set_yticklabels('')\n",
    "# plt.setp(axins.get_xticklabels(), fontsize=10)\n",
    "\n",
    "# ax.indicate_inset_zoom(axins)\n",
    "\n",
    "ax.annotate(r'$I_{exc}$='+'{:.1f}'.format(1e6*I_exs)+r'$\\mu$A', xy=(1e6*I_exs_l, 0),  xycoords='data',\n",
    "            xytext=(1e6*I_exs_l, -3), textcoords='data',\n",
    "            arrowprops=dict(facecolor='black', width=0.1, headwidth = 6),\n",
    "            horizontalalignment='right', verticalalignment='top',fontsize = 14\n",
    "            )\n",
    "\n",
    "ax.text(3, -2, r'$\\frac{I_{exc}R_N}{\\Delta} = 0.62 $', {'color': 'C0', 'fontsize': 16})\n",
    "ax.text(3, -3, r'$Z = 0.71 $', {'color': 'C0', 'fontsize': 16})\n",
    "plt.savefig('../plots/JJ1_JJ_3_MAR_1.png', transparency = True)"
   ]
  },
  {
   "cell_type": "code",
   "execution_count": null,
   "metadata": {},
   "outputs": [],
   "source": [
    "fig, ax = plt.subplots(figsize=(6,4), constrained_layout = True)\n",
    "# ax.plot(1e3*voltage[0:-1], R_filt)\n",
    "# ax.plot(1e3*voltage, R_filt)\n",
    "ax.plot(1e3*voltage, gaussian_filter(R_AC, sigma=(1)), color = 'orange' )\n",
    "\n",
    "# ax.axhline(0, linestyle = '-', color= 'black',linewidth = 0.7)\n",
    "\n",
    "ax.set_ylabel(r'dV/dI ($\\Omega$)', fontsize = 16)\n",
    "ax.set_xlabel(r'V (mV)', fontsize = 16)\n",
    "\n",
    "# plt.title('')\n",
    "\n",
    "\n",
    "\n",
    "ax.annotate(r'$2\\Delta$', xy=(1, 225),  xycoords='data',\n",
    "            xytext=(1.5, 215), textcoords='data',\n",
    "            arrowprops=dict(facecolor='black', width=0.1, headwidth = 6),\n",
    "            horizontalalignment='right', verticalalignment='top',fontsize = 14\n",
    "            )\n",
    "\n",
    "ax.yaxis.set_ticks([270, 320, 370])\n",
    "\n",
    "delta = 0.49\n",
    "ax.axvline(2*delta)\n",
    "ax.axvline(2*delta/2)\n",
    "ax.axvline(2*delta/3)\n",
    "# ax.axvline(2*delta/4)\n",
    "\n",
    "ax.axvline(-2*delta)\n",
    "ax.axvline(-2*delta/2)\n",
    "ax.axvline(-2*delta/3)\n",
    "# ax.axvline(-2*delta/4)\n",
    "\n",
    "ax.set_ylim(200, 280)\n",
    "ax.set_xlim(-2, 2)\n",
    "plt.savefig('../plots/JJ1_JJ_3_MAR_2.png', transparency = True)"
   ]
  },
  {
   "cell_type": "code",
   "execution_count": null,
   "metadata": {},
   "outputs": [],
   "source": []
  },
  {
   "cell_type": "code",
   "execution_count": null,
   "metadata": {},
   "outputs": [],
   "source": [
    "fig, ax = plt.subplots()\n",
    "# ax.plot(1e3*voltage[0:-1], R_filt)\n",
    "# ax.plot(1e3*voltage, R_filt)\n",
    "ax.plot(1e3*voltage, gaussian_filter(R_AC, sigma=(1)), label = 'lockin R')\n",
    "\n",
    "ax.set_ylim(260, 380)\n",
    "# ax.set_ylim(210, 250)\n",
    "# ax.set_xlim(-2, 2)\n",
    "ax.set_ylabel(r'$\\frac{d \\: \\mathrm{V}}{d \\: \\mathrm{I}}$ ($\\Omega$)', fontsize = 15)\n",
    "ax.set_xlabel(r'Voltage (mV)', fontsize = 12)\n",
    "plt.legend()\n",
    "plt.title('BL3_JJ_2, $\\mathrm{I}_\\mathrm{AC} = 10 nA$')\n",
    "plt.savefig('../plots/BL3_JJ_2_MAR.png')"
   ]
  },
  {
   "cell_type": "code",
   "execution_count": null,
   "metadata": {},
   "outputs": [],
   "source": [
    "fig, ax = plt.subplots()\n",
    "\n",
    "voltage = voltage[R_AC>10]\n",
    "R_AC = R_AC[R_AC>10]\n",
    "\n",
    "ax.plot(1e3*voltage, gaussian_filter(1e3/R_AC, sigma=(1)), label = 'lockin R')\n",
    "\n",
    "# ax.set_ylim(210, 300)\n",
    "ax.set_ylim(3.2, 3.8)\n",
    "ax.set_xlim(-1.5, 1.5)\n",
    "ax.set_ylabel(r'$\\frac{d \\: \\mathrm{I}}{d \\: \\mathrm{V}}$ (mS)', fontsize = 15)\n",
    "ax.set_xlabel(r'Voltage (mV)', fontsize = 12)\n",
    "plt.title('BL3_JJ_2, $\\mathrm{I}_\\mathrm{AC} = 10 nA$')\n",
    "plt.legend()\n",
    "plt.savefig('../plots/BL3_JJ_2_MAR_2.png')"
   ]
  },
  {
   "cell_type": "markdown",
   "metadata": {},
   "source": [
    "### MAR vs gate"
   ]
  },
  {
   "cell_type": "code",
   "execution_count": null,
   "metadata": {},
   "outputs": [],
   "source": [
    "dataset = qc.load_by_id(101)\n",
    "dataset.get_parameter_data().keys()"
   ]
  },
  {
   "cell_type": "code",
   "execution_count": null,
   "metadata": {},
   "outputs": [],
   "source": [
    "dataset = qc.load_by_id(101)\n",
    "\n",
    "JJ_id = 2\n",
    "\n",
    "voltage = dataset.get_parameter_data()['meas_voltage_K{}'.format(JJ_id)]['meas_voltage_K{}'.format(JJ_id)]\n",
    "current = dataset.get_parameter_data()['meas_voltage_K{}'.format(JJ_id)]['appl_current']\n",
    "Vgate = dataset.get_parameter_data()['meas_voltage_K{}'.format(JJ_id)]['appl_TG']\n",
    "V_lockin = dataset.get_parameter_data()['meas_voltage_R_Lockin{}'.format(JJ_id)]['meas_voltage_R_Lockin{}'.format(JJ_id)]\n",
    "\n",
    "current_AC = dataset.snapshot['station']['parameters']['appl_current_AC']['value']\n",
    "\n",
    "\n",
    "N_gate = np.size(np.unique(Vgate))\n",
    "N_current = np.size(np.unique(current))\n",
    "\n",
    "if np.size(voltage) < N_gate * N_current:\n",
    "    N_gate = N_gate - 1\n",
    "    voltage = voltage[0:N_gate * N_current]\n",
    "    current = current[0:N_gate * N_current]\n",
    "    Vgate = Vgate[0:N_gate * N_current]\n",
    "    V_lockin = V_lockin[0:N_gate * N_current]\n",
    "    \n",
    "\n",
    "voltage = voltage.reshape(N_gate, N_current)\n",
    "current = current.reshape(N_gate, N_current)\n",
    "Vgate = Vgate.reshape(N_gate, N_current)\n",
    "V_lockin = V_lockin.reshape(N_gate, N_current)\n",
    "\n",
    "R_lockin = V_lockin / current_AC"
   ]
  },
  {
   "cell_type": "code",
   "execution_count": null,
   "metadata": {},
   "outputs": [],
   "source": [
    "R_lockin_filt = gaussian_filter(R_lockin, sigma=(1))"
   ]
  },
  {
   "cell_type": "code",
   "execution_count": null,
   "metadata": {},
   "outputs": [],
   "source": [
    "fig, ax = plt.subplots()\n",
    "\n",
    "cmap = plt.get_cmap('hot')\n",
    "\n",
    "pixel_width = Vgate[1,0]-Vgate[0,0]\n",
    "\n",
    "im = ax.pcolormesh(Vgate-pixel_width/2, 1e3*voltage, \n",
    "                   R_lockin_filt, cmap = cmap, vmin=270,vmax=390)\n",
    "fig.colorbar(im,ax=ax)\n",
    "# ax.set_ylim(-190, 190)\\\n",
    "ax.set_ylim(-2, 2)\n",
    "ax.set_ylabel(r'Voltage (mV)')\n",
    "ax.set_xlabel(r'Gate (V)')\n",
    "plt.title('BL3_JJ_{}'.format(JJ_id))\n",
    "plt.savefig('../plots/BL3_JJ_{}_MAR_Gate_1.png'.format(JJ_id))\n",
    "plt.show()"
   ]
  },
  {
   "cell_type": "code",
   "execution_count": null,
   "metadata": {},
   "outputs": [],
   "source": [
    "fig, ax = plt.subplots()\n",
    "\n",
    "Gate_id = 0\n",
    "ax.plot(1e3*voltage[Gate_id,:], R_lockin_filt[Gate_id,:], label = 'Vgate = {:.2f}'.format(Vgate[Gate_id,0]))\n",
    "\n",
    "Gate_id = 1\n",
    "ax.plot(1e3*voltage[Gate_id,:], R_lockin_filt[Gate_id,:], label = 'Vgate = {:.2f}'.format(Vgate[Gate_id,0]))\n",
    "\n",
    "Gate_id = 3\n",
    "ax.plot(1e3*voltage[Gate_id,:], R_lockin_filt[Gate_id,:], label = 'Vgate = {:.2f}'.format(Vgate[Gate_id,0]))\n",
    "\n",
    "ax.set_xlabel(r'Voltage (mV)')\n",
    "ax.set_ylabel(r'Resistance $(\\Omega)$')\n",
    "\n",
    "ax.set_ylim(275, 315)\n",
    "ax.set_xlim(-1.2, 1.2)\n",
    "plt.legend()\n",
    "plt.title('BL3_JJ_{}'.format(JJ_id))\n",
    "plt.savefig('../plots/BL3_JJ_{}_MAR_Gate_3.png'.format(JJ_id))\n",
    "plt.show()"
   ]
  },
  {
   "cell_type": "code",
   "execution_count": null,
   "metadata": {},
   "outputs": [],
   "source": [
    "dataset = qc.load_by_id(101)\n",
    "\n",
    "JJ_id = 1\n",
    "\n",
    "voltage = dataset.get_parameter_data()['meas_voltage_K{}'.format(JJ_id)]['meas_voltage_K{}'.format(JJ_id)]\n",
    "current = dataset.get_parameter_data()['meas_voltage_K{}'.format(JJ_id)]['appl_current']\n",
    "Vgate = dataset.get_parameter_data()['meas_voltage_K{}'.format(JJ_id)]['appl_TG']\n",
    "V_lockin = dataset.get_parameter_data()['meas_voltage_R_Lockin{}'.format(JJ_id)]['meas_voltage_R_Lockin{}'.format(JJ_id)]\n",
    "\n",
    "current_AC = dataset.snapshot['station']['parameters']['appl_current_AC']['value']\n",
    "\n",
    "\n",
    "N_gate = np.size(np.unique(Vgate))\n",
    "N_current = np.size(np.unique(current))\n",
    "\n",
    "if np.size(voltage) < N_gate * N_current:\n",
    "    N_gate = N_gate - 1\n",
    "    voltage = voltage[0:N_gate * N_current]\n",
    "    current = current[0:N_gate * N_current]\n",
    "    Vgate = Vgate[0:N_gate * N_current]\n",
    "    V_lockin = V_lockin[0:N_gate * N_current]\n",
    "    \n",
    "\n",
    "voltage = voltage.reshape(N_gate, N_current)\n",
    "current = current.reshape(N_gate, N_current)\n",
    "Vgate = Vgate.reshape(N_gate, N_current)\n",
    "V_lockin = V_lockin.reshape(N_gate, N_current)\n",
    "\n",
    "R_lockin = V_lockin / current_AC"
   ]
  },
  {
   "cell_type": "code",
   "execution_count": null,
   "metadata": {},
   "outputs": [],
   "source": [
    "R_lockin_filt = gaussian_filter(R_lockin, sigma=(1))"
   ]
  },
  {
   "cell_type": "code",
   "execution_count": null,
   "metadata": {},
   "outputs": [],
   "source": [
    "fig, ax = plt.subplots()\n",
    "\n",
    "cmap = plt.get_cmap('hot')\n",
    "\n",
    "pixel_width = Vgate[1,0]-Vgate[0,0]\n",
    "\n",
    "im = ax.pcolormesh(Vgate-pixel_width/2, 1e3*voltage, \n",
    "                   R_lockin_filt, cmap = cmap, vmin=210,vmax=320)\n",
    "fig.colorbar(im,ax=ax)\n",
    "# ax.set_ylim(-190, 190)\\\n",
    "ax.set_ylim(-2, 2)\n",
    "ax.set_ylabel(r'Voltage (mV)')\n",
    "ax.set_xlabel(r'Gate (V)')\n",
    "plt.title('BL3_JJ_{}'.format(JJ_id))\n",
    "plt.savefig('../plots/BL3_JJ_{}_MAR_Gate_1.png'.format(JJ_id))\n",
    "plt.show()"
   ]
  },
  {
   "cell_type": "code",
   "execution_count": null,
   "metadata": {},
   "outputs": [],
   "source": [
    "fig, ax = plt.subplots()\n",
    "\n",
    "Gate_id = 0\n",
    "ax.plot(1e3*voltage[Gate_id,:], R_lockin_filt[Gate_id,:], label = 'Vgate = {:.2f}'.format(Vgate[Gate_id,0]))\n",
    "\n",
    "Gate_id = 1\n",
    "ax.plot(1e3*voltage[Gate_id,:], R_lockin_filt[Gate_id,:], label = 'Vgate = {:.2f}'.format(Vgate[Gate_id,0]))\n",
    "\n",
    "Gate_id = 3\n",
    "ax.plot(1e3*voltage[Gate_id,:], R_lockin_filt[Gate_id,:], label = 'Vgate = {:.2f}'.format(Vgate[Gate_id,0]))\n",
    "\n",
    "ax.set_xlabel(r'Voltage (mV)')\n",
    "ax.set_ylabel(r'Resistance $(\\Omega)$')\n",
    "\n",
    "ax.set_ylim(210, 250)\n",
    "ax.set_xlim(-1.2, 1.2)\n",
    "plt.legend()\n",
    "plt.title('BL3_JJ_{}'.format(JJ_id))\n",
    "plt.savefig('../plots/BL3_JJ_{}_MAR_Gate_3.png'.format(JJ_id))\n",
    "plt.show()"
   ]
  },
  {
   "cell_type": "code",
   "execution_count": null,
   "metadata": {},
   "outputs": [],
   "source": []
  },
  {
   "cell_type": "code",
   "execution_count": null,
   "metadata": {},
   "outputs": [],
   "source": []
  },
  {
   "cell_type": "code",
   "execution_count": null,
   "metadata": {},
   "outputs": [],
   "source": []
  },
  {
   "cell_type": "code",
   "execution_count": null,
   "metadata": {},
   "outputs": [],
   "source": []
  },
  {
   "cell_type": "code",
   "execution_count": null,
   "metadata": {},
   "outputs": [],
   "source": []
  },
  {
   "cell_type": "code",
   "execution_count": null,
   "metadata": {},
   "outputs": [],
   "source": []
  },
  {
   "cell_type": "code",
   "execution_count": null,
   "metadata": {},
   "outputs": [],
   "source": [
    "import matplotlib.image as mpimg\n",
    "from matplotlib import rc\n",
    "import matplotlib.ticker as ticker\n",
    "import matplotlib.colors as colors\n",
    "from mpl_toolkits.axes_grid1.inset_locator import inset_axes"
   ]
  },
  {
   "cell_type": "code",
   "execution_count": null,
   "metadata": {},
   "outputs": [],
   "source": [
    "from matplotlib.colors import BoundaryNorm\n",
    "from matplotlib.ticker import MaxNLocator"
   ]
  },
  {
   "cell_type": "code",
   "execution_count": null,
   "metadata": {},
   "outputs": [],
   "source": [
    "SMALL_SIZE = 6\n",
    "MEDIUM_SIZE = 8\n",
    "BIGGER_SIZE = 13\n",
    "\n",
    "plt.rc('font', size=SMALL_SIZE)          # controls default text sizes\n",
    "plt.rc('axes', titlesize=14)     # fontsize of the axes title\n",
    "plt.rc('axes', labelsize=14)    # fontsize of the x and y labels\n",
    "plt.rc('xtick', labelsize=BIGGER_SIZE)    # fontsize of the tick labels\n",
    "plt.rc('ytick', labelsize=BIGGER_SIZE)    # fontsize of the tick labels\n",
    "plt.rc('legend', fontsize=SMALL_SIZE)    # legend fontsize\n",
    "plt.rc('figure', titlesize=BIGGER_SIZE)  # fontsize of the figure title"
   ]
  },
  {
   "cell_type": "code",
   "execution_count": null,
   "metadata": {
    "scrolled": true
   },
   "outputs": [],
   "source": [
    "fig, ax = plt.subplots(figsize=(6, 4))\n",
    "\n",
    "cmap = plt.get_cmap('hot')\n",
    "levels = MaxNLocator(nbins=15).tick_values(0, 2e-6)\n",
    "norm = BoundaryNorm(levels, ncolors=cmap.N, clip=True)\n",
    "\n",
    "im = ax.pcolormesh(field*1e3, current*1e9, dif_voltage, cmap = cmap,  norm=norm)\n",
    "fig.colorbar(im,ax=ax)\n",
    "#plt.grid()\n",
    "ax.set_ylabel(r'current (nA)')\n",
    "ax.set_xlabel(r'field (mT)')\n",
    "plt.tight_layout()\n",
    "#plt.savefig('../plots/fraunhofer_TL3.png')\n",
    "plt.show()"
   ]
  },
  {
   "cell_type": "code",
   "execution_count": null,
   "metadata": {},
   "outputs": [],
   "source": [
    "from scipy.ndimage import gaussian_filter"
   ]
  },
  {
   "cell_type": "code",
   "execution_count": null,
   "metadata": {},
   "outputs": [],
   "source": [
    "dif_voltage_filt = gaussian_filter( dif_voltage, sigma=(0.1,2))\n",
    "dif_current_filt = gaussian_filter( dif_current, sigma=(0.1,2))"
   ]
  },
  {
   "cell_type": "code",
   "execution_count": null,
   "metadata": {
    "scrolled": true
   },
   "outputs": [],
   "source": [
    "fig, ax = plt.subplots(figsize=(7, 4))\n",
    "\n",
    "cmap = plt.get_cmap('hot')\n",
    "levels = MaxNLocator(nbins=15).tick_values(0, 2e3)\n",
    "norm = BoundaryNorm(levels, ncolors=cmap.N, clip=True)\n",
    "\n",
    "im = ax.pcolormesh((field+0.3e-3)*1e3, current*1e9, dif_voltage_filt/dif_current_filt, cmap = cmap,  norm=norm)\n",
    "cbar = fig.colorbar(im,ax=ax)\n",
    "cbar.set_label('Resistance ($\\Omega$)', rotation=90)\n",
    "#plt.grid()\n",
    "ax.set_ylabel(r'Current (nA)')\n",
    "ax.set_xlabel(r'Magnetic field (mT)')\n",
    "plt.tight_layout()\n",
    "\n",
    "\n",
    "pi = 3.14159\n",
    "offsetfield = 0.3e-3\n",
    "fluxq = 2.068e-15\n",
    "surfacearea = 2.25e-12\n",
    "surfacearea2 = 2e-12\n",
    "testcurrent = abs(np.sinc((field+offsetfield)*surfacearea/fluxq))\n",
    "plt.plot((field+offsetfield)*1e3,70*testcurrent)\n",
    "testcurrent2 = abs(np.sinc((field+offsetfield)*surfacearea2/fluxq))\n",
    "plt.plot((field+offsetfield)*1e3,70*testcurrent2,'y')\n",
    "plt.savefig('../plots/fraunhofer_TL3_filt5.pdf')\n",
    "plt.show()\n"
   ]
  },
  {
   "cell_type": "code",
   "execution_count": null,
   "metadata": {
    "scrolled": false
   },
   "outputs": [],
   "source": [
    "pi = 3.14159\n",
    "fluxq = 2.068e-15\n",
    "surfacearea = 2e-12\n",
    "testcurrent = abs(np.sinc(field*surfacearea/fluxq))\n",
    "plt.plot(field,200*testcurrent)\n",
    "plt.show()"
   ]
  },
  {
   "cell_type": "code",
   "execution_count": null,
   "metadata": {},
   "outputs": [],
   "source": [
    "math.pi"
   ]
  },
  {
   "cell_type": "code",
   "execution_count": null,
   "metadata": {},
   "outputs": [],
   "source": [
    "max = dif_voltage.max()"
   ]
  },
  {
   "cell_type": "code",
   "execution_count": null,
   "metadata": {},
   "outputs": [],
   "source": [
    "max"
   ]
  },
  {
   "cell_type": "markdown",
   "metadata": {},
   "source": [
    "dif_voltage.max()"
   ]
  },
  {
   "cell_type": "code",
   "execution_count": null,
   "metadata": {},
   "outputs": [],
   "source": [
    "np.where(dif_voltage == max)"
   ]
  },
  {
   "cell_type": "code",
   "execution_count": null,
   "metadata": {},
   "outputs": [],
   "source": [
    "field[41,0]*1000"
   ]
  },
  {
   "cell_type": "code",
   "execution_count": null,
   "metadata": {},
   "outputs": [],
   "source": [
    "dataset = qc.load_by_id(23)\n",
    "dataset.exp_name"
   ]
  },
  {
   "cell_type": "code",
   "execution_count": null,
   "metadata": {},
   "outputs": [],
   "source": [
    "axes, cbaxes = plot_dataset(dataset)"
   ]
  },
  {
   "cell_type": "code",
   "execution_count": null,
   "metadata": {},
   "outputs": [],
   "source": [
    "voltage_DC = dataset.get_parameter_data()['voltage_DC']['voltage_DC']\n",
    "current_DC = dataset.get_parameter_data()['voltage_DC']['current']"
   ]
  },
  {
   "cell_type": "code",
   "execution_count": null,
   "metadata": {},
   "outputs": [],
   "source": [
    "voltage_AC = dataset.get_parameter_data()['voltage_AC']['voltage_AC']"
   ]
  },
  {
   "cell_type": "code",
   "execution_count": null,
   "metadata": {},
   "outputs": [],
   "source": [
    "fig, ax = plt.subplots(figsize=(12, 8))\n",
    "ax.plot(voltage_DC[:1999], np.diff(current_DC[0:2000]) / np.diff(voltage_DC[0:2000]) )\n",
    "#ax.set_xlim(6,12)\n",
    "ax.set_ylim(-0.5, 0.5)\n",
    "plt.show()"
   ]
  },
  {
   "cell_type": "code",
   "execution_count": null,
   "metadata": {},
   "outputs": [],
   "source": [
    "fig, ax = plt.subplots(figsize=(12, 8))\n",
    "ax.plot(voltage_DC[:], gaussian_filter(voltage_AC[:], sigma=(2)) )\n",
    "ax.set_xlim(-4e-3,-0.0e-3)\n",
    "ax.set_ylim(4e-6, 6e-6)\n",
    "delta = -1.3e-3\n",
    "ax.axvline(delta)\n",
    "ax.axvline(delta/2)\n",
    "#ax.axvline(delta/3)\n",
    "plt.show()"
   ]
  },
  {
   "cell_type": "code",
   "execution_count": null,
   "metadata": {},
   "outputs": [],
   "source": [
    "fig, ax = plt.subplots(figsize=(12, 8))\n",
    "ax.plot(current_DC, voltage_DC)\n",
    "ax.set_xlim(-300e-9,300e-9)\n",
    "ax.set_ylim(-0.15e-3, 0.2e-3)\n",
    "plt.show()"
   ]
  },
  {
   "cell_type": "code",
   "execution_count": null,
   "metadata": {},
   "outputs": [],
   "source": [
    "def fit_within_range(x,y,x_min,x_max):\n",
    "    x_fit = x[(x>x_min)&(x<x_max)]\n",
    "    y_fit = y[(x>x_min)&(x<x_max)]\n",
    "    fit_values = np.polyfit(x_fit,y_fit,1)\n",
    "    return fit_values"
   ]
  },
  {
   "cell_type": "code",
   "execution_count": null,
   "metadata": {},
   "outputs": [],
   "source": [
    "fit_lim_left = [-3e-6, -2e-6]\n",
    "fit_lim_right = [2e-6, 3e-6]"
   ]
  },
  {
   "cell_type": "code",
   "execution_count": null,
   "metadata": {},
   "outputs": [],
   "source": [
    "a_l, b_l = fit_within_range(current_DC, voltage_DC, fit_lim_left[0], fit_lim_left[1])"
   ]
  },
  {
   "cell_type": "code",
   "execution_count": null,
   "metadata": {},
   "outputs": [],
   "source": [
    "a_r, b_r = fit_within_range(current_DC, voltage_DC, fit_lim_right[0], fit_lim_right[1])"
   ]
  },
  {
   "cell_type": "code",
   "execution_count": null,
   "metadata": {},
   "outputs": [],
   "source": [
    "fig, ax = plt.subplots(figsize=(12, 8))\n",
    "ax.plot(current_DC, voltage_DC)\n",
    "ax.plot(current_DC, current_DC*a_l + b_l)\n",
    "ax.plot(current_DC, current_DC*a_r + b_r)\n",
    "ax.set_xlim(-400e-9,400e-9)\n",
    "ax.set_ylim(-0.2e-3, 0.3e-3)\n",
    "plt.show()"
   ]
  },
  {
   "cell_type": "code",
   "execution_count": null,
   "metadata": {},
   "outputs": [],
   "source": [
    "excess_current = -(b_l/a_l - b_r/a_r)/2"
   ]
  },
  {
   "cell_type": "code",
   "execution_count": null,
   "metadata": {},
   "outputs": [],
   "source": [
    "excess_current #in Amps"
   ]
  },
  {
   "cell_type": "code",
   "execution_count": null,
   "metadata": {},
   "outputs": [],
   "source": [
    "a_l, b_l"
   ]
  },
  {
   "cell_type": "code",
   "execution_count": null,
   "metadata": {},
   "outputs": [],
   "source": [
    "a_r, b_r"
   ]
  },
  {
   "cell_type": "code",
   "execution_count": null,
   "metadata": {},
   "outputs": [],
   "source": []
  },
  {
   "cell_type": "code",
   "execution_count": null,
   "metadata": {},
   "outputs": [],
   "source": []
  },
  {
   "cell_type": "code",
   "execution_count": null,
   "metadata": {},
   "outputs": [],
   "source": []
  },
  {
   "cell_type": "code",
   "execution_count": null,
   "metadata": {},
   "outputs": [],
   "source": []
  },
  {
   "cell_type": "code",
   "execution_count": null,
   "metadata": {},
   "outputs": [],
   "source": []
  },
  {
   "cell_type": "code",
   "execution_count": null,
   "metadata": {},
   "outputs": [],
   "source": []
  },
  {
   "cell_type": "code",
   "execution_count": null,
   "metadata": {},
   "outputs": [],
   "source": [
    "dataset = qc.load_by_id(27)\n",
    "voltage = dataset.get_parameter_data()['meas_voltage_K1']['meas_voltage_K1']\n",
    "current = dataset.get_parameter_data()['meas_voltage_K1']['appl_current']\n",
    "field = dataset.get_parameter_data()['meas_voltage_K1']['cryomag_A_field']\n",
    "\n",
    "N_field = np.size(np.unique(field))\n",
    "N_current = np.size(np.unique(current))\n",
    "\n",
    "if np.size(voltage) < N_field * N_current:\n",
    "    N_field = N_field - 1\n",
    "    voltage = voltage[0:N_field * N_current]\n",
    "    current = current[0:N_field * N_current]\n",
    "    field = field[0:N_field * N_current]\n",
    "    \n",
    "\n",
    "voltage = voltage.reshape(N_field, N_current)\n",
    "current = current.reshape(N_field, N_current)\n",
    "field = field.reshape(N_field, N_current)\n",
    "\n",
    "dif_voltage = np.diff(voltage, axis = 1)\n",
    "dif_current = np.diff(current, axis = 1)\n",
    "R = dif_voltage/dif_current\n",
    "difdif_voltage = np.diff(dif_voltage, axis = 1)\n",
    "R_filt = gaussian_filter( R, sigma=(0,1))\n",
    "\n",
    "I_step = current[0,1] - current[0,0]\n",
    "R_sm = smooth_dir(voltage, N_points=6) / I_step #scale the derivative"
   ]
  },
  {
   "cell_type": "code",
   "execution_count": null,
   "metadata": {},
   "outputs": [],
   "source": [
    "fig, ax = plt.subplots()\n",
    "\n",
    "cmap = plt.get_cmap('hot')\n",
    "\n",
    "pixel_width = field[1,0]-field[0,0]\n",
    "pixel_height = current[0,1]-current[0,0]\n",
    "\n",
    "im = ax.pcolormesh(1e3*(field-pixel_width/2), 1e9 * (current-pixel_height/2), \n",
    "                   R_sm, cmap = cmap, vmin=0,vmax=500)\n",
    "fig.colorbar(im,ax=ax)\n",
    "# ax.set_ylim(-190, 190)\\\n",
    "# ax.set_xlim(-2, 2)\n",
    "ax.set_ylabel(r'Current (nA)')\n",
    "ax.set_xlabel(r'Field (mT)')\n",
    "plt.title('JJ1_JJ_1')\n",
    "# plt.savefig('../plots/R(I,B)_JJ1_JJ_1_b.png')\n",
    "plt.show()"
   ]
  },
  {
   "cell_type": "code",
   "execution_count": null,
   "metadata": {},
   "outputs": [],
   "source": [
    "import matplotlib.image as mpimg\n",
    "from matplotlib import rc\n",
    "import matplotlib.ticker as ticker\n",
    "from matplotlib.colors import Normalize\n",
    "import matplotlib.colors as colors"
   ]
  },
  {
   "cell_type": "code",
   "execution_count": null,
   "metadata": {},
   "outputs": [],
   "source": [
    "import matplotlib"
   ]
  },
  {
   "cell_type": "code",
   "execution_count": null,
   "metadata": {},
   "outputs": [],
   "source": [
    "SMALL_SIZE = 6\n",
    "MEDIUM_SIZE = 8\n",
    "BIGGER_SIZE = 10\n",
    "\n",
    "plt.rc('font', size=SMALL_SIZE)          # controls default text sizes\n",
    "plt.rc('axes', titlesize=10)     # fontsize of the axes title\n",
    "plt.rc('axes', labelsize=14)    # fontsize of the x and y labels\n",
    "plt.rc('xtick', labelsize=10)    # fontsize of the tick labels\n",
    "plt.rc('ytick', labelsize=10)    # fontsize of the tick labels\n",
    "plt.rc('legend', fontsize=SMALL_SIZE)    # legend fontsize\n",
    "plt.rc('figure', titlesize=BIGGER_SIZE)  # fontsize of the figure title\n",
    "\n",
    "matplotlib.rcParams['pdf.fonttype'] = 42\n",
    "matplotlib.rcParams['ps.fonttype'] = 42\n",
    "\n",
    "class MidpointNormalize(colors.Normalize):\n",
    "\t\"\"\"\n",
    "\tNormalise the colorbar so that diverging bars work there way either side from a prescribed midpoint value)\n",
    "\n",
    "\te.g. im=ax1.imshow(array, norm=MidpointNormalize(midpoint=0.,vmin=-100, vmax=100))\n",
    "\t\"\"\"\n",
    "\tdef __init__(self, vmin=None, vmax=None, midpoint=None, clip=False):\n",
    "\t\tself.midpoint = midpoint\n",
    "\t\tcolors.Normalize.__init__(self, vmin, vmax, clip)\n",
    "\n",
    "\tdef __call__(self, value, clip=None):\n",
    "\t\t# I'm ignoring masked values and all kinds of edge cases to make a\n",
    "\t\t# simple example...\n",
    "\t\tx, y = [self.vmin, self.midpoint, self.vmax], [0, 0.5, 1]\n",
    "\t\treturn np.ma.masked_array(np.interp(value, x, y), np.isnan(value))"
   ]
  },
  {
   "cell_type": "code",
   "execution_count": null,
   "metadata": {},
   "outputs": [],
   "source": [
    "fig, ax = plt.subplots(figsize=(5, 3))\n",
    "\n",
    "cmap = plt.get_cmap('summer')\n",
    "\n",
    "pixel_width = field[1,0]-field[0,0]\n",
    "pixel_height = current[0,1]-current[0,0]\n",
    "\n",
    "im = ax.pcolormesh(1e3*(field-pixel_width/2), 1e9 * (current-pixel_height/2), \n",
    "                   R_sm, cmap = cmap, vmin=0,vmax=400)\n",
    "# fig.colorbar(im,ax=ax)\n",
    "# ax.set_ylim(-190, 190)\\\n",
    "ax.set_xlim(-3, 3)\n",
    "ax.set_ylabel(r'Current (nA)')\n",
    "ax.set_xlabel(r'Field (mT)')\n",
    "\n",
    "axins = ax.inset_axes([0.5, 1.05, 0.5, 0.05])\n",
    "\n",
    "cbar = plt.colorbar(im,\n",
    "cax=axins,\n",
    "orientation='horizontal',\n",
    "ticks = [0, 400],\n",
    "use_gridspec=True\n",
    "#drawedges=True\n",
    ")\n",
    "cbar.ax.xaxis.set_label_position('top')\n",
    "cbar.ax.xaxis.tick_top()\n",
    "axins.set_xlabel(r'dV/dI($\\Omega$)', fontsize = 10)\n",
    "# cbar.ax.xaxis.set_major_formatter(ticker.FormatStrFormatter('%0.3f'))\n",
    "axins.tick_params(labelsize = 8)\n",
    "# plt.title('JJ1_JJ_1')\n",
    "cbar.outline.set_linewidth(1)\n",
    "# ax.set_ylim(-2, 2)\n",
    "# ax.set_xlim(-250, -75)\n",
    "\n",
    "# start, end = ax.get_xlim()\n",
    "# ax.xaxis.set_ticks(np.arange(start, end, 50))\n",
    "# start, end = ax.get_ylim()\n",
    "# ax.yaxis.set_ticks(np.arange(start, end+1, 1))\n",
    "\n",
    "plt.tight_layout()\n",
    "# plt.savefig('s5_6.pdf', format='pdf', transparent=True)\n",
    "plt.savefig('../plots/R(I,B)_JJ1.png', format='png', transparent=True, dpi=300)\n",
    "\n",
    "plt.show()"
   ]
  },
  {
   "cell_type": "markdown",
   "metadata": {},
   "source": [
    "# Plots for report\n"
   ]
  },
  {
   "cell_type": "markdown",
   "metadata": {},
   "source": [
    "## TLMs\n"
   ]
  },
  {
   "cell_type": "code",
   "execution_count": null,
   "metadata": {},
   "outputs": [],
   "source": [
    "# Data for plotting\n",
    "\n",
    "# M06-20-17.2 21\n",
    "lengths21 = np.array([16, 33/3, 9, 6, 6])\n",
    "r_s21 = np.array([3076, 7698/3, 1968, 1857, 2118])\n",
    "\n",
    "# M06-20-17.2 31\n",
    "lengths31 = np.array([12, 21/2, 9, 6])\n",
    "r_s31 = np.array([566, 944/2, 417, 338])\n",
    "\n",
    "#M07-10-19.1-3 41\n",
    "lenghts41 = np.array([16,12,12,9,9,6,6,3])\n",
    "r_s41 = np.array([642, 476, 479, 372, 364, 258, 261, 140])\n",
    "\n",
    "#M06-18-19.1 33\n",
    "lengths33 = np.array([28/2,12,9,9,6,6,3])\n",
    "r_s33 = np.array([681/2, 299, 235, 233, 162, 159, 99])\n",
    "\n",
    "\n",
    "np.savez('TLM_Rs_vs_lengths')"
   ]
  },
  {
   "cell_type": "code",
   "execution_count": null,
   "metadata": {},
   "outputs": [],
   "source": [
    "lengths = lengths21\n",
    "r_s = r_s21\n",
    "\n",
    "fit_values = np.polyfit(lengths,r_s,1)\n",
    "    \n",
    "x_s = np.linspace(-1, 17, 100)\n",
    "fig, ax = plt.subplots(1, figsize = (10,6))\n",
    "ax.scatter(lengths, r_s,color = 'black',label='R from IV')\n",
    "ax.plot(x_s, x_s*fit_values[0] + fit_values[1], label = 'fit')\n",
    "ax.legend()\n",
    "ax.set_ylabel('R ($\\Omega$)')\n",
    "ax.set_xlabel('2DEG length ($\\mu m$)')\n",
    "ax.set_title('M07-10-19.1-3 41')\n",
    "ax.set_xlim(0, 17)\n",
    "ax.set_ylim(0, 4000)\n",
    "# plt.savefig('../plots/R_vs_length_fit_41.png')"
   ]
  },
  {
   "cell_type": "markdown",
   "metadata": {},
   "source": [
    "## JJs"
   ]
  },
  {
   "cell_type": "markdown",
   "metadata": {},
   "source": [
    "### load data"
   ]
  },
  {
   "cell_type": "code",
   "execution_count": null,
   "metadata": {},
   "outputs": [],
   "source": [
    "# for samving images\n",
    "save_dir = 'M:/tnw/ns/qt/2D Topo/code/personal_scripts/Mark/'\n",
    "# load data\n",
    "files = []\n",
    "dirpath = 'M:\\\\tnw\\\\ns\\\\qt\\\\2D Topo\\\\samples\\\\InSbAs_epiAl\\\\M07-10-19.1_3\\\\11'\n",
    "sample_name = dirpath.split('\\\\')[-1]\n",
    "wafer_name = dirpath.split('\\\\')[-2]\n",
    "db_path = dirpath + '\\\\data'\n",
    "\n",
    "# r=root, d=directories, f = files\n",
    "for r, d, f in os.walk(db_path):\n",
    "    for file in f:\n",
    "        if '.db' in file:\n",
    "            files.append(os.path.join(r, file))\n",
    "\n",
    "for f in files:\n",
    "    print(f)"
   ]
  },
  {
   "cell_type": "code",
   "execution_count": null,
   "metadata": {},
   "outputs": [],
   "source": [
    "db_path = os.path.join(db_path, 'M07-10-19.1_3_11_2021-04-19_01.db')\n",
    "initialise_or_create_database_at(db_path)"
   ]
  },
  {
   "cell_type": "code",
   "execution_count": null,
   "metadata": {},
   "outputs": [],
   "source": [
    "qc.experiments()"
   ]
  },
  {
   "cell_type": "markdown",
   "metadata": {},
   "source": [
    "### IV + MAR"
   ]
  },
  {
   "cell_type": "code",
   "execution_count": null,
   "metadata": {},
   "outputs": [],
   "source": [
    "dataset = qc.load_by_id(64)\n",
    "voltage = dataset.get_parameter_data()['meas_voltage_K1']['meas_voltage_K1']\n",
    "voltage_AC = dataset.get_parameter_data()['meas_voltage_Lockin2']['meas_voltage_Lockin2']\n",
    "current = dataset.get_parameter_data()['meas_voltage_K1']['appl_current']\n",
    "\n",
    "# lockin = dataset.get_parameter_data()['meas_voltage_R_Lockin1']['meas_voltage_R_Lockin1']\n",
    "current_AC = dataset.snapshot['station']['parameters']['appl_current_AC']['value']\n",
    "# current_AC = 1e-9\n",
    "R_AC = voltage_AC/current_AC\n",
    "R_ACf = gaussian_filter(R_AC,sigma=1)\n",
    "\n",
    "JJ = 'JJTRb' #to denote device and contacts\n",
    "np.savez(save_dir + 'IV_+Iexc_({})_{}'.format(wafer_name + '_' + sample_name, JJ))\n"
   ]
  },
  {
   "cell_type": "code",
   "execution_count": null,
   "metadata": {},
   "outputs": [],
   "source": [
    "voltage_AC"
   ]
  },
  {
   "cell_type": "code",
   "execution_count": null,
   "metadata": {},
   "outputs": [],
   "source": [
    "# save_dir + 'IV_+Iexc_({})_{}.png'.format(wafer_name + '_' + sample_name, JJ)"
   ]
  },
  {
   "cell_type": "code",
   "execution_count": null,
   "metadata": {},
   "outputs": [],
   "source": [
    "#IC\n",
    "Imax = np.size(current)\n",
    "for i in range(round(Imax/2),Imax):\n",
    "    if R_AC[i] > 0.01:\n",
    "        Ic = current[i]\n",
    "        break\n",
    "Voffset = voltage[round(Imax/2)]\n",
    "\n",
    "voltage_cor = voltage - Voffset\n",
    "\n",
    "# excess current\n",
    "I_range = 20e-6\n",
    "\n",
    "I_to_fit_l = current[current < -I_range]\n",
    "V_to_fit_l = voltage_cor[current < -I_range]\n",
    "\n",
    "I_to_fit_r = current[current > I_range]\n",
    "V_to_fit_r = voltage_cor[current > I_range]\n",
    "\n",
    "fit_vals_l = np.polyfit(I_to_fit_l, V_to_fit_l, 1)\n",
    "fit_vals_r = np.polyfit(I_to_fit_r, V_to_fit_r, 1)\n",
    "\n",
    "R_N = (fit_vals_l[0] + fit_vals_r[0])/2\n",
    "\n",
    "I_exs_l = -fit_vals_l[1] / fit_vals_l[0]\n",
    "I_exs_r = -fit_vals_r[1] / fit_vals_r[0]\n",
    "\n",
    "I_exs = (I_exs_r - I_exs_l)/2"
   ]
  },
  {
   "cell_type": "code",
   "execution_count": null,
   "metadata": {},
   "outputs": [],
   "source": [
    "R_AC[round(Imax/2)]"
   ]
  },
  {
   "cell_type": "code",
   "execution_count": null,
   "metadata": {},
   "outputs": [],
   "source": [
    "fig, ax = plt.subplots(constrained_layout = False)\n",
    "ax.plot(1e6*current, 1e3*voltage)"
   ]
  },
  {
   "cell_type": "code",
   "execution_count": null,
   "metadata": {},
   "outputs": [],
   "source": [
    "fig, ax = plt.subplots(constrained_layout = False)\n",
    "ax.plot(1e6*current, 1e3*voltage)\n",
    "ax.plot(1e6*current, 1e3*(current*fit_vals_l[0]+fit_vals_l[1]), linestyle = ':', color= 'black',linewidth = 0.9)\n",
    "ax.axhline(0, linestyle = '-', color= 'black',linewidth = 0.7)\n",
    "\n",
    "ax.annotate(r'$I_{exc}$='+'{:.1f}'.format(1e6*I_exs)+r'$\\mu$A', xy=(1e6*I_exs_l, 0),  xycoords='data',\n",
    "            xytext=(1e6*I_exs_l, -1), textcoords='data',\n",
    "            arrowprops=dict(facecolor='black', width=0.1, headwidth = 6),\n",
    "            horizontalalignment='right', verticalalignment='top',fontsize = 14\n",
    "            )\n",
    "\n",
    "# ax.text(3, -2, r'$\\frac{I_{exc}R_N}{\\Delta} = 0.62 $', {'color': 'C0', 'fontsize': 16})\n",
    "# ax.text(3, -3, r'$Z = 0.71 $', {'color': 'C0', 'fontsize': 16})\n",
    "\n",
    "# ax.set_ylim(200, 280)\n",
    "# ax.set_ylim(210, 250)\n",
    "# ax.set_xlim(-2, 2)\n",
    "# ax.set_ylabel(r'$\\frac{d \\: \\mathrm{V}}{d \\: \\mathrm{I}}$ ($\\Omega$)', fontsize = 15)\n",
    "ax.set_ylabel('V (mV)')\n",
    "ax.set_xlabel(r'current ($\\mu A$)', fontsize = 12)\n",
    "plt.title(wafer_name +  ' ' + sample_name + ' '+ JJ)\n",
    "# plt.legend()\n",
    "plt.savefig(save_dir + 'plots/' + 'IV_+Iexc_({})_{}.png'.format(wafer_name + '_' + sample_name, JJ))\n",
    "\n",
    "fig, ax = plt.subplots(constrained_layout = False)\n",
    "ax.plot(1e6*current, 1e3*voltage)\n",
    "ax.plot(1e6*current, 1e3*voltage_cor)\n",
    "ax.axhline(0, linestyle = '-', color= 'black',linewidth = 0.7)\n",
    "\n",
    "\n",
    "ax.annotate(r'$I_{c}$='+'{:.1f}'.format(1e6*Ic)+r'$\\mu$A', xy=(1e6*Ic, Voffset*1e3),  xycoords='data',\n",
    "            xytext=(1e6*Ic, Voffset*1e3 - 0.2), textcoords='data',\n",
    "            arrowprops=dict(facecolor='black', width=0.1, headwidth = 6),\n",
    "            horizontalalignment='right', verticalalignment='top',fontsize = 14\n",
    "            )\n",
    "\n",
    "ax.set_ylim(-0.5, 0.5)\n",
    "ax.set_xlim(-5, 5)\n",
    "ax.set_ylabel('V (mV)')\n",
    "ax.set_xlabel(r'current ($\\mu A$)', fontsize = 12)\n",
    "plt.title(wafer_name +  ' ' + sample_name + ' ' + JJ)\n",
    "plt.savefig(save_dir + 'plots/' + 'IV_+Ic_({})_{}.png'.format(wafer_name + '_' + sample_name, JJ))\n",
    "\n",
    "fig, ax = plt.subplots(constrained_layout = False)\n",
    "ax.plot(1e6*current, R_ACf)\n",
    "# ax.plot(1e3*voltage, R_ACf)\n",
    "ax.axhline(0, linestyle = '-', color= 'black',linewidth = 0.7)\n",
    "ax.tick_params(axis='x', labelsize=12)\n",
    "ax.tick_params(axis='y', labelsize=12)\n",
    "# ax.set_ylim(0, 0.5)\n",
    "# ax.set_xlim(-10, 10)\n",
    "ax.set_ylabel(r'$\\frac{dV}{dI}$ ($\\Omega$)', fontsize = 12)\n",
    "ax.set_xlabel(r'$I_{bias}$ ($\\mu A$)', fontsize = 12)\n",
    "# ax.set_xlabel(r'$V_{dc}$ ($mV$)', fontsize = 12)\n",
    "# plt.title(wafer_name +  ' ' + sample_name+ ' ' + JJ)\n",
    "# plt.savefig(save_dir + 'plots/' + 'dVdI_vsI_({})_{}_for_rapport.png'.format(wafer_name + '_' + sample_name, JJ),bbox_inches='tight')\n",
    "\n",
    "\n",
    "\n",
    "fig, ax = plt.subplots(constrained_layout = False)\n",
    "ax.plot(1e3*voltage, R_ACf)\n",
    "ax.axhline(0, linestyle = '-', color= 'black',linewidth = 0.7)\n",
    "ax.set_ylim(50,100)\n",
    "ax.set_xlim(0, 1.5)\n",
    "ax.set_ylabel('dV/dI ($\\Omega$)')\n",
    "ax.set_xlabel(r'Vdc ($mV$)', fontsize = 12)\n",
    "# plt.title(wafer_name +  ' ' + sample_name + ' ' + JJ)\n",
    "# plt.savefig(save_dir + 'plots/' + 'dVdI_+MAR_({})_{}_for_report.png'.format(wafer_name + '_' + sample_name, JJ),bbox_inches='tight')\n",
    "\n"
   ]
  },
  {
   "cell_type": "markdown",
   "metadata": {},
   "source": [
    "### dV/dI vs B"
   ]
  },
  {
   "cell_type": "code",
   "execution_count": null,
   "metadata": {},
   "outputs": [],
   "source": [
    "dataset = qc.load_by_id(29)\n",
    "voltage = dataset.get_parameter_data()['meas_voltage_K1']['meas_voltage_K1']\n",
    "# voltage_AC = dataset.get_parameter_data()['meas_voltage_Lockin1']['meas_voltage_Lockin1']\n",
    "current = dataset.get_parameter_data()['meas_voltage_K1']['appl_current']\n",
    "field = dataset.get_parameter_data()['meas_voltage_K1']['cryomag_B_field']\n",
    "#cryomag_field for janis, cryomag_B_field for vec janis, magnetic_field_yoko for yoko, z_field for fristi\n",
    "\n",
    "\n",
    "N_field = np.size(np.unique(field))\n",
    "N_current = np.size(np.unique(current))\n",
    "\n",
    "if np.size(voltage) < N_field * N_current:\n",
    "    N_field = N_field - 1\n",
    "    voltage = voltage[0:N_field * N_current]\n",
    "    current = current[0:N_field * N_current]\n",
    "    field = field[0:N_field * N_current]\n",
    "    \n",
    "\n",
    "voltage = voltage.reshape(N_field, N_current)\n",
    "current = current.reshape(N_field, N_current)\n",
    "field = field.reshape(N_field, N_current)\n",
    "\n",
    "dI = current[0,1] - current[0,0]\n",
    "dR = smooth_dir(voltage,N_points = 2)/dI\n",
    "\n",
    "# current_AC = dataset.snapshot['station']['parameters']['appl_current_AC']['value']\n",
    "# current_AC = 1e-9\n",
    "# R_AC = voltage_AC/current_AC\n",
    "\n",
    "# np.savez('/plots/dVdI_vs_B_{}_{}'.format(wafer_name + sample_name, JJ))\n",
    "\n"
   ]
  },
  {
   "cell_type": "code",
   "execution_count": null,
   "metadata": {},
   "outputs": [],
   "source": [
    "JJ = 'JJa'"
   ]
  },
  {
   "cell_type": "code",
   "execution_count": null,
   "metadata": {},
   "outputs": [],
   "source": [
    "fig, ax = plt.subplots()\n",
    "\n",
    "cmap = plt.get_cmap('hot')\n",
    "\n",
    "pixel_width = field[1,0]-field[0,0]\n",
    "pixel_height = current[0,1]-current[0,0]\n",
    "\n",
    "im = ax.pcolormesh(1e3*field, 1e9 * current, \n",
    "                   dR, cmap = cmap, shading = 'nearest'\n",
    "                   ,vmin=0,vmax=300\n",
    "                  )\n",
    "cbar = fig.colorbar(im,ax=ax)\n",
    "# ax.set_ylim(-190, 190)\\\n",
    "# ax.set_xlim(-2, 2)\n",
    "ax.set_ylabel(r'$I_{bias}$ (nA)')\n",
    "ax.set_xlabel(r'B (mT)')\n",
    "cbar.set_label(r'$\\frac{dV}{dI}$ ($\\Omega$)', rotation=90)\n",
    "\n",
    "# plt.title(wafer_name +  ' ' + sample_name + ' ' + JJ)\n",
    "plt.savefig(save_dir + '/plots/dVdI_vs_B_({})_{}.png'.format(wafer_name + '_' + sample_name, JJ),bbox_inches='tight')\n",
    "plt.show()"
   ]
  },
  {
   "cell_type": "markdown",
   "metadata": {},
   "source": [
    "### dV/dI vs TG"
   ]
  },
  {
   "cell_type": "code",
   "execution_count": null,
   "metadata": {},
   "outputs": [],
   "source": [
    "dataset = qc.load_by_id(72)\n",
    "voltage = dataset.get_parameter_data()['meas_voltage_K1']['meas_voltage_K1']\n",
    "# voltage_AC = dataset.get_parameter_data()['meas_voltage_Lockin1']['meas_voltage_Lockin1']\n",
    "current = dataset.get_parameter_data()['meas_voltage_K1']['appl_current']\n",
    "TG = dataset.get_parameter_data()['meas_voltage_K1']['appl_TG']\n",
    "\n",
    "xas = TG\n",
    "yas = current\n",
    "\n",
    "N_xas = np.size(np.unique(xas))\n",
    "N_yas = np.size(np.unique(yas))\n",
    "\n",
    "if np.size(voltage) < N_xas * N_yas:\n",
    "    N_field = N_xas - 1\n",
    "    voltage = voltage[0:N_xas * N_yas]\n",
    "    current = current[0:N_xas * N_yas]\n",
    "    field = field[0:N_xas * N_yas]\n",
    "    \n",
    "\n",
    "voltage = voltage.reshape(N_xas, N_yas)\n",
    "xas = xas.reshape(N_xas, N_yas)\n",
    "yas = yas.reshape(N_xas, N_yas)\n",
    "\n",
    "TG = xas\n",
    "current = yas\n",
    "\n",
    "dI = current[0,1] - current[0,0]\n",
    "dR = smooth_dir(voltage,N_points = 2)/dI\n",
    "\n",
    "# current_AC = dataset.snapshot['station']['parameters']['appl_current_AC']['value']\n",
    "# current_AC = 1e-9\n",
    "# R_AC = voltage_AC/current_AC\n",
    "\n",
    "\n",
    "np.savez('/plots/dVdI_vs_TG_{}_{}'.format(wafer_name + sample_name, JJ))\n"
   ]
  },
  {
   "cell_type": "code",
   "execution_count": null,
   "metadata": {},
   "outputs": [],
   "source": [
    "fig, ax = plt.subplots()\n",
    "\n",
    "cmap = plt.get_cmap('hot')\n",
    "im = ax.pcolormesh(TG, 1e9 * current, dR, cmap = cmap, shading = 'nearest'\n",
    "                   , vmin=0,vmax=300\n",
    "                  )\n",
    "cbar = fig.colorbar(im,ax=ax)\n",
    "# ax.set_ylim(-190, 190)\n",
    "# ax.set_xlim(-10, 10)\n",
    "ax.set_ylabel(r'Current (nA)')\n",
    "ax.set_xlabel(r'V gate (V)')\n",
    "cbar.set_label(r'dV/dI ($\\Omega$)', rotation=90)\n",
    "plt.title(wafer_name +  ' ' + sample_name + ' ' + JJ)\n",
    "plt.savefig(save_dir + '/plots/dVdI_vs_TG_({})_{}.png'.format(wafer_name + '_' + sample_name, JJ))\n",
    "plt.show()"
   ]
  },
  {
   "cell_type": "markdown",
   "metadata": {},
   "source": [
    "## HB"
   ]
  },
  {
   "cell_type": "code",
   "execution_count": null,
   "metadata": {},
   "outputs": [],
   "source": [
    "# for samving images\n",
    "save_dir = 'M:/tnw/ns/qt/2D Topo/code/personal_scripts/Mark/'\n",
    "# load data\n",
    "files = []\n",
    "dirpath = 'M:\\\\tnw\\\\ns\\\\qt\\\\2D Topo\\\\samples\\\\InSbAs_epiAl\\\\M08-22-19.1_3\\\\22'\n",
    "sample_name = dirpath.split('\\\\')[-1]\n",
    "wafer_name = dirpath.split('\\\\')[-2]\n",
    "db_path = dirpath + '\\\\data'\n",
    "\n",
    "# r=root, d=directories, f = files\n",
    "for r, d, f in os.walk(db_path):\n",
    "    for file in f:\n",
    "        if '.db' in file:\n",
    "            files.append(os.path.join(r, file))\n",
    "\n",
    "for f in files:\n",
    "    print(f)"
   ]
  },
  {
   "cell_type": "code",
   "execution_count": null,
   "metadata": {},
   "outputs": [],
   "source": [
    "db_path = os.path.join(db_path, 'M08-22-19.1_3_22_2021-08-26_01.db')\n",
    "initialise_or_create_database_at(db_path)"
   ]
  },
  {
   "cell_type": "code",
   "execution_count": null,
   "metadata": {},
   "outputs": [],
   "source": [
    "qc.experiments()"
   ]
  },
  {
   "cell_type": "markdown",
   "metadata": {},
   "source": [
    "### Mobility density"
   ]
  },
  {
   "cell_type": "code",
   "execution_count": null,
   "metadata": {},
   "outputs": [],
   "source": [
    "electron_charge = 1.60217662e-19\n",
    "R_K = 25812.8"
   ]
  },
  {
   "cell_type": "code",
   "execution_count": null,
   "metadata": {},
   "outputs": [],
   "source": [
    "dataset = qc.load_by_id(40)\n",
    "# voltage = dataset.get_parameter_data()['meas_voltage_K1']['meas_voltage_K1']\n",
    "voltage1_AC = dataset.get_parameter_data()['meas_voltage_Lockin1']['meas_voltage_Lockin1']\n",
    "voltage2_AC = dataset.get_parameter_data()['meas_voltage_Lockin2']['meas_voltage_Lockin2']\n",
    "field = dataset.get_parameter_data()['meas_voltage_Lockin1']['z_field']\n",
    "#cryomag_field for janis, magnetic_field_yoko for yoko, z_field for fristi\n",
    "\n",
    "TG = dataset.get_parameter_data()['meas_voltage_Lockin1']['appl_TG']\n",
    "\n",
    "current_AC = dataset.snapshot['station']['parameters']['appl_current_AC']['value']\n",
    "xas = field # slow parameter\n",
    "yas = TG #sweep parameter\n",
    "\n",
    "N_xas = np.size(np.unique(xas))\n",
    "N_yas = np.size(np.unique(yas))\n",
    "\n",
    "# if np.size(voltage) < N_xas * N_yas:\n",
    "#     N_field = N_xas - 1\n",
    "#     voltage = voltage[0:N_xas * N_yas]\n",
    "#     current = current[0:N_xas * N_yas]\n",
    "#     field = field[0:N_xas * N_yas]\n",
    "    \n",
    "\n",
    "voltage1_AC = voltage1_AC.reshape(N_xas, N_yas)\n",
    "voltage2_AC = voltage2_AC.reshape(N_xas, N_yas)\n",
    "xas = xas.reshape(N_xas, N_yas)\n",
    "yas = yas.reshape(N_xas, N_yas)\n",
    "\n",
    "N_field = N_xas\n",
    "N_gate = N_yas\n",
    "field = xas\n",
    "v_gate = yas\n",
    "\n",
    "\n",
    "Rxy = voltage1_AC/current_AC\n",
    "Rxx = -voltage2_AC/current_AC\n",
    "\n",
    "# np.savez(save_dir + 'Fan_diagram_{}_{}'.format(wafer_name + sample_name, HB))"
   ]
  },
  {
   "cell_type": "code",
   "execution_count": null,
   "metadata": {},
   "outputs": [],
   "source": [
    "Rxx = voltage1_AC/current_AC\n",
    "Rxy = -voltage2_AC/current_AC"
   ]
  },
  {
   "cell_type": "code",
   "execution_count": null,
   "metadata": {},
   "outputs": [],
   "source": [
    "def fit_within_range(x,y,x_min,x_max):\n",
    "    x_fit = x[(x>x_min)&(x<x_max)]\n",
    "    y_fit = y[(x>x_min)&(x<x_max)]\n",
    "    fit_values = np.polyfit(x_fit,y_fit,1)\n",
    "    return fit_values"
   ]
  },
  {
   "cell_type": "code",
   "execution_count": null,
   "metadata": {},
   "outputs": [],
   "source": [
    "gate_vals = v_gate[1,:]\n",
    "n_vals = np.zeros_like(gate_vals)\n",
    "\n",
    "for gate_idx in np.arange(0,N_gate):\n",
    "    a, b = fit_within_range(field[:,gate_idx], Rxy[:,gate_idx], -0.5, 0.5)\n",
    "    n_vals[gate_idx] = 1 / (electron_charge * a)\n",
    "    \n",
    "gate_vals = gate_vals[3:]\n",
    "n_vals = n_vals[3:]"
   ]
  },
  {
   "cell_type": "code",
   "execution_count": null,
   "metadata": {},
   "outputs": [],
   "source": [
    "from scipy.interpolate import interp1d\n",
    "\n",
    "# density_func = interp1d(gate_vals, n_vals, kind='linear', fill_value=\"extrapolate\")\n",
    "density_func = np.poly1d(np.polyfit(gate_vals, n_vals, 3))\n",
    "density_inverse_function = np.poly1d(np.polyfit(n_vals, gate_vals, 3))\n",
    "density_func2 = np.poly1d(np.polyfit(gate_vals, n_vals*1e-4, 3))\n",
    "density_inverse_function2 = np.poly1d(np.polyfit(n_vals*1e-4, gate_vals, 3))"
   ]
  },
  {
   "cell_type": "code",
   "execution_count": null,
   "metadata": {},
   "outputs": [],
   "source": [
    "plt.rc('axes', titlesize=14)\n",
    "plt.rc('axes', labelsize=14)\n",
    "plt.rc('xtick', labelsize=14)\n",
    "plt.rc('ytick', labelsize=14)\n",
    "plt.rc('legend', fontsize=14)\n",
    "plt.rc('figure', titlesize=14)\n",
    "\n",
    "fig, ax = plt.subplots(figsize=(8,6))\n",
    "ax.scatter(gate_vals[::3], n_vals[::3]*1e-4, label = 'exp data')\n",
    "gates_new = np.linspace(-2, 0.6, 40)\n",
    "ax.plot(gates_new, density_func(gates_new)*1e-4, color = 'purple', label = 'qubic fit')\n",
    "# densities_new = 1e15 * np.linspace(1, 3.2, 40)\n",
    "# ax.plot(density_inverse_function(densities_new), densities_new, color = 'orange', label = 'inverse qubic fit')\n",
    "ax.legend()\n",
    "ax.set_xlabel(r'Gate (V)')\n",
    "ax.set_ylabel(r'Density $(\\mathrm{cm}^{-2})$')\n",
    "plt.title('BR HB density vs gate from AC Hall, exp {}\\n{}'.format(dataset.run_id, dataset.path_to_db.split('\\\\')[-1]))\n",
    "# plt.savefig('../plots/BR_density_gate_AC_Hall.png')\n",
    "plt.show()"
   ]
  },
  {
   "cell_type": "markdown",
   "metadata": {},
   "source": [
    "### Fan diagram"
   ]
  },
  {
   "cell_type": "code",
   "execution_count": null,
   "metadata": {},
   "outputs": [],
   "source": [
    "HB = 'HB2'"
   ]
  },
  {
   "cell_type": "code",
   "execution_count": null,
   "metadata": {},
   "outputs": [],
   "source": [
    "dataset = qc.load_by_id(198)\n",
    "dataset.snapshot['station']['parameters']"
   ]
  },
  {
   "cell_type": "code",
   "execution_count": null,
   "metadata": {},
   "outputs": [],
   "source": [
    "dataset = qc.load_by_id(58)\n",
    "# voltage = dataset.get_parameter_data()['meas_voltage_K1']['meas_voltage_K1']\n",
    "voltage1_AC = dataset.get_parameter_data()['meas_voltage_Lockin1']['meas_voltage_Lockin1']\n",
    "voltage2_AC = dataset.get_parameter_data()['meas_voltage_Lockin2']['meas_voltage_Lockin2']\n",
    "field = dataset.get_parameter_data()['meas_voltage_Lockin1']['z_field']\n",
    "#cryomag_field for janis, magnetic_field_yoko for yoko, z_field for fristi\n",
    "\n",
    "TG = dataset.get_parameter_data()['meas_voltage_Lockin1']['appl_TG']\n",
    "\n",
    "current_AC = dataset.snapshot['station']['parameters']['appl_current_AC']['value']\n",
    "xas = field # slow parameter\n",
    "yas = TG #sweep parameter\n",
    "\n",
    "N_xas = np.size(np.unique(xas))\n",
    "N_yas = np.size(np.unique(yas))\n",
    "\n",
    "if np.size(voltage1_AC) < N_xas * N_yas:\n",
    "    N_field = N_xas - 1\n",
    "    voltage1_AC = voltage1_AC[0:N_xas * N_yas]\n",
    "    voltage2_AC = voltage2_AC[0:N_xas * N_yas]\n",
    "#     current = current[0:N_xas * N_yas]\n",
    "    TG = TG[0:N_xas * N_yas]\n",
    "    field = field[0:N_xas * N_yas]\n",
    "    \n",
    "\n",
    "voltage1_AC = voltage1_AC.reshape(N_xas, N_yas)\n",
    "voltage2_AC = voltage2_AC.reshape(N_xas, N_yas)\n",
    "xas = xas.reshape(N_xas, N_yas)\n",
    "yas = yas.reshape(N_xas, N_yas)\n",
    "\n",
    "field = xas\n",
    "TG = yas\n",
    "\n",
    "\n",
    "R1_AC = voltage1_AC/current_AC\n",
    "R2_AC = voltage2_AC/current_AC\n",
    "\n",
    "# np.savez('M:/tnw/ns/qt/2D Topo/code/personal_scripts/Mark/Fan_diagram_{}_HB2'.format(wafer_name + sample_name), R1_AC = Rxx, R2_AC = Rxy, density_func2 = density_func2, density_inverse_function2 = density_inverse_function2, TG = TG, field = field )"
   ]
  },
  {
   "cell_type": "code",
   "execution_count": null,
   "metadata": {},
   "outputs": [],
   "source": [
    "# # #load npz file instead of database\n",
    "# HB = 'HB2'\n",
    "# wafer_n = 'M07-10-19.1_3'\n",
    "# sample_n = '23'\n",
    "# npzfile = np.load(save_dir + 'Fan_diagram_{}_{}.npz'.format(wafer_n + sample_n, HB))\n",
    "# wafer_name = wafer_n\n",
    "# sample_name = sample_n\n",
    "\n",
    "# R1_AC = npzfile['R1_AC']\n",
    "# R2_AC = npzfile['R2_AC']\n",
    "# TG = npzfile['TG']\n",
    "# field = npzfile['field']\n",
    "# density_func2 = np.poly1d(npzfile['density_func2'])\n",
    "# density_inverse_fuction2= np.poly1d(npzfile['density_inverse_function2'])"
   ]
  },
  {
   "cell_type": "code",
   "execution_count": null,
   "metadata": {},
   "outputs": [],
   "source": [
    "matplotlib.rc('xtick', labelsize=20) \n",
    "matplotlib.rc('ytick', labelsize=20) "
   ]
  },
  {
   "cell_type": "code",
   "execution_count": null,
   "metadata": {},
   "outputs": [],
   "source": [
    "HB = 'HB1'"
   ]
  },
  {
   "cell_type": "code",
   "execution_count": null,
   "metadata": {},
   "outputs": [],
   "source": [
    "fig, ax = plt.subplots(figsize = [12, 6])\n",
    "\n",
    "cmap = plt.get_cmap('hot')\n",
    "im = ax.pcolormesh(TG, field, gaussian_filter(R2_AC,sigma = 1), cmap = cmap, shading = 'nearest'\n",
    "                   , vmin=0,vmax=6000\n",
    "                  )\n",
    "cbar = fig.colorbar(im,ax=ax)\n",
    "\n",
    "# ax.set_ylim(-190, 190)\n",
    "# ax.set_xlim(-10, 10)\n",
    "ax.set_xlabel(r'gate (V)',fontsize = 20)\n",
    "ax.set_ylabel(r'field (T)', fontsize = 20)\n",
    "secax = ax.secondary_xaxis('top', functions=(density_func2,density_inverse_function2))\n",
    "secax.set_xlabel(r'elctron density $(cm^{-2})$',fontsize =20)\n",
    "cbar.set_label(r'dV/dI ($\\Omega$)', rotation=90, fontsize = 20)\n",
    "# plt.title(wafer_name +  ' ' + sample_name + ' ' + HB)\n",
    "bbox_inches='tight'\n",
    "plt.savefig(save_dir + 'plots/' + 'Fan_diagram_collect1_({})_{}.png'.format(wafer_name + '_' + sample_name, HB),bbox_inches='tight')\n",
    "plt.show()"
   ]
  },
  {
   "cell_type": "code",
   "execution_count": null,
   "metadata": {},
   "outputs": [],
   "source": [
    "fig, ax = plt.subplots(figsize = [8, 4])\n",
    "\n",
    "cmap = plt.get_cmap('turbo')\n",
    "im = ax.pcolormesh(TG, field, R_K/R1_AC, cmap = cmap, shading = 'nearest'\n",
    "                   , vmin=0,vmax=10\n",
    "                  )\n",
    "cbar = fig.colorbar(im,ax=ax)\n",
    "# ax.set_ylim(-190, 190)\n",
    "# ax.set_xlim(-10, 10)\n",
    "ax.set_xlabel(r'gate (V)')\n",
    "ax.set_ylabel(r'field (T)')\n",
    "secax = ax.secondary_xaxis('top', functions=(density_func2,density_inverse_function2))\n",
    "\n",
    "# secax.set_xlabel(r'elctron density $(cm^{-2})$')\n",
    "\n",
    "cbar.set_label(r'dV/dI $(\\frac{h}{e^2})$', rotation=90)\n",
    "# plt.title(wafer_name +  ' ' + sample_name + ' ' + HB)\n",
    "bbox_inches='tight'\n",
    "# plt.savefig(save_dir + 'plots/' + 'Fan_diagram_WB_Rxy_({})_{}.png'.format(wafer_name + '_' + sample_name, HB),bbox_inches='tight')\n",
    "plt.show()\n",
    "\n",
    "fig, ax = plt.subplots(figsize = [8, 4])\n",
    "\n",
    "cmap = plt.get_cmap('hot')\n",
    "im = ax.pcolormesh(TG, field, gaussian_filter(R2_AC,sigma = 1), cmap = cmap, shading = 'nearest'\n",
    "                   , vmin=0,vmax=6000\n",
    "                  )\n",
    "cbar = fig.colorbar(im,ax=ax)\n",
    "# ax.set_ylim(-190, 190)\n",
    "# ax.set_xlim(-10, 10)\n",
    "ax.set_xlabel(r'gate (V)')\n",
    "ax.set_ylabel(r'field (T)')\n",
    "secax = ax.secondary_xaxis('top', functions=(density_func2,density_inverse_function2))\n",
    "secax.set_xlabel(r'elctron density $(cm^{-2})$')\n",
    "cbar.set_label(r'dV/dI ($\\Omega$)', rotation=90)\n",
    "# plt.title(wafer_name +  ' ' + sample_name + ' ' + HB)\n",
    "bbox_inches='tight'\n",
    "# plt.savefig(save_dir + 'plots/' + 'Fan_diagram_WB_Rxx_({})_{}.png'.format(wafer_name + '_' + sample_name, HB),bbox_inches='tight')\n",
    "plt.show()"
   ]
  },
  {
   "cell_type": "code",
   "execution_count": null,
   "metadata": {},
   "outputs": [],
   "source": [
    "HB2"
   ]
  },
  {
   "cell_type": "code",
   "execution_count": null,
   "metadata": {},
   "outputs": [],
   "source": [
    "3e-6*R_K/2"
   ]
  },
  {
   "cell_type": "code",
   "execution_count": null,
   "metadata": {},
   "outputs": [],
   "source": [
    "# Linecut\n",
    "B = 7\n",
    "i = np.argmin(abs(field[:,1] - B))\n",
    "fig, ax = plt.subplots(figsize = [6,3],constrained_layout = True)\n",
    "ax.plot(TG[i,:],R_K/R1_AC[i,:])\n",
    "ax.axhline(1, linestyle = '-', color= 'black',linewidth = 0.7)\n",
    "ax.axhline(2, linestyle = '-', color= 'black',linewidth = 0.7)\n",
    "ax.axhline(3, linestyle = '-', color= 'black',linewidth = 0.7)\n",
    "ax.axhline(4, linestyle = '-', color= 'black',linewidth = 0.7)\n",
    "\n",
    "\n",
    "fig, ax = plt.subplots(figsize = [6,3],constrained_layout = True)\n",
    "R2_AC_F = gaussian_filter(R2_AC,sigma = 1.4)\n",
    "ax.plot(TG[i,:],-R2_AC_F[i,:],linewidth = 2,color = 'black')\n",
    "ax.set_xlabel('$V_{gate}(V)$')\n",
    "ax.set_ylabel('$dV/dI (\\Omega)$')\n",
    "plt.savefig(save_dir + 'plots/' + 'Rxx_fan_cut_({})_{}.png'.format(wafer_name + '_' + sample_name, HB))\n",
    "\n"
   ]
  },
  {
   "cell_type": "markdown",
   "metadata": {},
   "source": [
    "### Andreev Enhancement"
   ]
  },
  {
   "cell_type": "code",
   "execution_count": null,
   "metadata": {},
   "outputs": [],
   "source": [
    "# AE vs Gate\n",
    "dataset = qc.load_by_id(15)\n",
    "voltage = dataset.get_parameter_data()['meas_voltage_K1']['meas_voltage_K1']\n",
    "voltage_AC = dataset.get_parameter_data()['meas_voltage_Lockin1']['meas_voltage_Lockin1']\n",
    "current = dataset.get_parameter_data()['meas_voltage_K1']['appl_current']\n",
    "TG = dataset.get_parameter_data()['meas_voltage_K1']['appl_TG']\n",
    "\n",
    "xas = TG\n",
    "yas = current\n",
    "\n",
    "N_xas = np.size(np.unique(xas))\n",
    "N_yas = np.size(np.unique(yas))\n",
    "\n",
    "if np.size(voltage) < N_xas * N_yas:\n",
    "    N_field = N_xas - 1\n",
    "    voltage = voltage[0:N_xas * N_yas]\n",
    "    current = current[0:N_xas * N_yas]\n",
    "    field = field[0:N_xas * N_yas]\n",
    "    \n",
    "\n",
    "voltage = voltage.reshape(N_xas, N_yas)\n",
    "voltage_AC = voltage_AC.reshape(N_xas,N_yas)\n",
    "xas = xas.reshape(N_xas, N_yas)\n",
    "yas = yas.reshape(N_xas, N_yas)\n",
    "\n",
    "TG = xas\n",
    "current = yas\n",
    "\n",
    "dI = current[0,1] - current[0,0]\n",
    "dR = smooth_dir(voltage,N_points = 2)/dI\n",
    "\n",
    "current_AC = dataset.snapshot['station']['parameters']['appl_current_AC']['value']\n",
    "# current_AC = 1e-9\n",
    "\n",
    "R_AC = gaussian_filter(voltage_AC/current_AC, sigma=(3.5))\n",
    "G_AC = 1/R_AC\n",
    "\n",
    "# np.savez(save_dir + 'dVdI_vs_TG_{}_{}'.format(wafer_name + sample_name, HB))\n"
   ]
  },
  {
   "cell_type": "code",
   "execution_count": null,
   "metadata": {},
   "outputs": [],
   "source": [
    "fig, ax = plt.subplots()\n",
    "\n",
    "cmap = plt.get_cmap('inferno')\n",
    "im = ax.pcolormesh( voltage, TG, R_AC, cmap = cmap, shading = 'nearest'\n",
    "#                    , vmin=0,vmax=300\n",
    "                  )\n",
    "cbar = fig.colorbar(im,ax=ax)\n",
    "# ax.set_ylim(-190, 190)\n",
    "# ax.set_xlim(-10, 10)\n",
    "# ax.set_xlabel(r'Current ($\\mu A$)')\n",
    "ax.set_xlabel(r'Vdc ($V$)')\n",
    "ax.set_ylabel(r'V gate (V)')\n",
    "cbar.set_label(r'dV/dI ($\\Omega$)', rotation=90)\n",
    "plt.title(wafer_name +  ' ' + sample_name + ' ' + HB)\n",
    "# plt.savefig(save_dir + '/plots/dVdI_vs_TG_({})_{}.png'.format(wafer_name + '_' + sample_name, HB))\n",
    "plt.show()"
   ]
  },
  {
   "cell_type": "code",
   "execution_count": null,
   "metadata": {},
   "outputs": [],
   "source": [
    "np.argmin(TG)"
   ]
  },
  {
   "cell_type": "code",
   "execution_count": null,
   "metadata": {},
   "outputs": [],
   "source": [
    "fig, ax = plt.subplots(constrained_layout = False)\n",
    "n,n2 = np.shape(R_AC)\n",
    "colors = plt.cm.copper(np.linspace(0,1,n))\n",
    "for i in range(1,n):\n",
    "    ax.plot(1e6*np.transpose(current[i,:]), np.transpose(R_AC[i,:]),color = colors[i,:])\n",
    "\n",
    "tg = 0\n",
    "fig, ax = plt.subplots(constrained_layout = False)\n",
    "i0 = np.argmin(abs(TG[:,1 - tg]))\n",
    "\n",
    "ax.plot(1e6*np.transpose(current[i0,:]), np.transpose(R_AC[i0,:]),color = 'black')\n",
    "ax.set_title('TG = 0')\n",
    "\n",
    "fig, ax = plt.subplots(constrained_layout = False)\n",
    "ax.plot(1e6*np.transpose(current[i0,:]), 1000*np.transpose(G_AC[i0,:]),color = 'black')\n",
    "ax.set_title('TG = 0')\n",
    "ax.set_ylabel('G (mS)')\n",
    "ax.set_xlim(-5,5)\n",
    "ax.set_ylim(3.25,4)\n",
    "\n",
    "Gmax =np.max(G_AC[i0,:]*1e3)\n",
    "Gn = 3.58\n",
    "Genh= (Gmax-Gn)/Gn*100\n",
    "ax.axhline(Gn, linestyle = '--', color= 'black',linewidth = 0.7)\n",
    "ax.axhline(Gmax, linestyle = '--', color= 'black',linewidth = 0.7)\n",
    "ax.text(1.5,3.8, r'$ Genh = {:.2f}\\% $'.format(Genh), {'color': 'black', 'fontsize': 16})\n",
    "\n",
    "\n"
   ]
  },
  {
   "cell_type": "code",
   "execution_count": null,
   "metadata": {},
   "outputs": [],
   "source": [
    "np.shape(colors)"
   ]
  },
  {
   "cell_type": "code",
   "execution_count": null,
   "metadata": {},
   "outputs": [],
   "source": [
    "############################################################################################################################"
   ]
  },
  {
   "cell_type": "code",
   "execution_count": null,
   "metadata": {},
   "outputs": [],
   "source": [
    "############################################################################################################################"
   ]
  },
  {
   "cell_type": "code",
   "execution_count": null,
   "metadata": {},
   "outputs": [],
   "source": [
    "dataset = qc.load_by_id(15)\n",
    "voltage = dataset.get_parameter_data()['meas_voltage_K1']['meas_voltage_K1']\n",
    "voltage_AC = dataset.get_parameter_data()['meas_voltage_Lockin1']['meas_voltage_Lockin1']\n",
    "current = dataset.get_parameter_data()['meas_voltage_K1']['appl_current']\n",
    "\n",
    "# lockin = dataset.get_parameter_data()['meas_voltage_R_Lockin1']['meas_voltage_R_Lockin1']\n",
    "current_AC = dataset.snapshot['station']['parameters']['appl_current_AC']['value']\n",
    "# current_AC = 1e-9\n",
    "R_AC = voltage_AC/current_AC\n",
    "R_cor = gaussian_filter(R_AC,sigma = 0.6) - 267\n",
    "Vdc = gaussian_filter(voltage - 267*current, sigma = 0.6)\n",
    "G = 1/R_cor\n",
    "Gn = G[np.size(current)-1]\n",
    "# np.savez(save_dir + 'Andreev_enhancement({})_{}.p¿ng'.format(wafer_name + '_' + sample_name, HB))"
   ]
  },
  {
   "cell_type": "code",
   "execution_count": null,
   "metadata": {},
   "outputs": [],
   "source": [
    "fig, ax = plt.subplots(constrained_layout = False,figsize = [8,4])\n",
    "ax.plot(current*1e6, R_AC, linewidth = 2, color = 'blue')\n",
    "ax.plot(current*1e6, R_cor, linewidth = 2, color = 'black')\n",
    "\n",
    "# ax.plot(1e6*current, 1e3*(current*fit_vals_l[0]+fit_vals_l[1]), linestyle = ':', color= 'black',linewidth = 0.9)\n",
    "# ax.axhline(0, linestyle = '-', color= 'black',linewidth = 0.7)\n",
    "\n",
    "\n",
    "# ax.set_ylim(210, 250)\n",
    "# ax.set_xlim(-2, 2)\n",
    "ax.set_ylabel(r'$dV/dI$ $(\\Omega)$', fontsize = 20)\n",
    "ax.set_xlabel(r'current ($\\mu A$)', fontsize = 20)\n",
    "# plt.title(wafer_name +  ' ' + sample_name + ' '+ HB)\n",
    "# plt.legend()\n",
    "plt.savefig(save_dir + '/plots/dVdI_AE_({})_{}.png'.format(wafer_name + '_' + sample_name, HB),bbox_inches='tight')\n",
    "\n",
    "fig, ax = plt.subplots(constrained_layout = False,figsize = [8,4])\n",
    "ax.plot(Vdc*1e3+0.1, G*1e3, linewidth = 2, color = 'black')\n",
    "# ax.plot(1e6*current, 1e3*(current*fit_vals_l[0]+fit_vals_l[1]), linestyle = ':', color= 'black',linewidth = 0.9)\n",
    "# ax.axvline(0.135, linestyle = '-', color= 'black',linewidth = 1)\n",
    "# ax.axvline(-0.135, linestyle = '-', color= 'black',linewidth = 1)\n",
    "\n",
    "\n",
    "# ax.set_ylim(210, 250)\n",
    "# ax.set_xlim(-2, 2)\n",
    "ax.set_ylabel(r'G $(mS)$', fontsize = 20)\n",
    "ax.set_xlabel(r'$V^*_{DC}$ $(mV)$', fontsize = 20)\n",
    "# plt.title(wafer_name +  ' ' + sample_name + ' '+ HB)\n",
    "# plt.legend()\n",
    "plt.savefig(save_dir + '/plots/dIdV_AE_({})_{}.png'.format(wafer_name + '_' + sample_name, HB),bbox_inches='tight')\n"
   ]
  },
  {
   "cell_type": "markdown",
   "metadata": {},
   "source": [
    "### Single Lockin Rxx/Rxy"
   ]
  },
  {
   "cell_type": "code",
   "execution_count": null,
   "metadata": {},
   "outputs": [],
   "source": [
    "dataID = 7\n",
    "dataset = qc.load_by_id(dataID)\n",
    "voltage1 = dataset.get_parameter_data()['meas_voltage_K1']['meas_voltage_K1']\n",
    "voltage1_AC = dataset.get_parameter_data()['meas_voltage_Lockin1']['meas_voltage_Lockin1']\n",
    "voltage2 = dataset.get_parameter_data()['meas_voltage_K2']['meas_voltage_K2']\n",
    "voltage2_AC = dataset.get_parameter_data()['meas_voltage_Lockin2']['meas_voltage_Lockin2']\n",
    "TG = dataset.get_parameter_data()['meas_voltage_K1']['appl_TG_dac10']\n",
    "\n",
    "bias = current_AC = dataset.snapshot['station']['parameters']['appl_current']['value']\n",
    "current_AC = dataset.snapshot['station']['parameters']['appl_current_AC']['value']\n",
    "# current_AC = 1e-9\n",
    "R_AC1 = voltage1_AC/current_AC\n",
    "R_AC1f = gaussian_filter(R_AC1,sigma=2)\n",
    "R_AC2 = voltage2_AC/current_AC\n",
    "R_AC2f = gaussian_filter(R_AC2,sigma=2)\n",
    "\n",
    "HB = 'TR' #to denote device and contacts\n",
    "# np.savez(save_dir + 'IV_+AC_Rxx_Rxy_({})_{}'.format(wafer_name + '_' + sample_name, JJ))\n"
   ]
  },
  {
   "cell_type": "code",
   "execution_count": null,
   "metadata": {},
   "outputs": [],
   "source": [
    "# voltage1_AC"
   ]
  },
  {
   "cell_type": "code",
   "execution_count": null,
   "metadata": {},
   "outputs": [],
   "source": [
    "fig, ax = plt.subplots(constrained_layout = False)\n",
    "ax.plot(TG, R_AC1)\n",
    "\n",
    "plt.title(wafer_name +  ' ' + sample_name + ' ' + HB)\n",
    "\n",
    "ax.set_ylabel(r'R')\n",
    "ax.set_xlabel(r'V gate (V)')\n",
    "\n",
    "fig, ax = plt.subplots(constrained_layout = False)\n",
    "ax.plot(TG, R_K/R_AC2)\n",
    "ax.axhline(1, linestyle = '-', color= 'black',linewidth = 0.7)\n",
    "ax.axhline(2, linestyle = '-', color= 'black',linewidth = 0.7)\n",
    "ax.axhline(3, linestyle = '-', color= 'black',linewidth = 0.7)\n",
    "ax.axhline(4, linestyle = '-', color= 'black',linewidth = 0.7)\n",
    "\n",
    "ax.set_ylabel(r'R')\n",
    "ax.set_xlabel(r'V gate (V)')"
   ]
  },
  {
   "cell_type": "markdown",
   "metadata": {},
   "source": [
    "### SG vs TG"
   ]
  },
  {
   "cell_type": "code",
   "execution_count": null,
   "metadata": {},
   "outputs": [],
   "source": [
    "dataID = 138\n",
    "dataset = qc.load_by_id(dataID)\n",
    "voltage1 = dataset.get_parameter_data()['meas_voltage_K1']['meas_voltage_K1']\n",
    "voltage2 = dataset.get_parameter_data()['meas_voltage_K2']['meas_voltage_K2']\n",
    "voltage1_AC = dataset.get_parameter_data()['meas_voltage_Lockin1']['meas_voltage_Lockin1']\n",
    "voltage2_AC = dataset.get_parameter_data()['meas_voltage_Lockin2']['meas_voltage_Lockin2']\n",
    "\n",
    "SG1 = dataset.get_parameter_data()['meas_voltage_K1']['split_gate_R']\n",
    "TG = dataset.get_parameter_data()['meas_voltage_K1']['top_gate']\n",
    "current_AC = dataset.snapshot['station']['parameters']['appl_current_AC']['value']\n",
    "\n",
    "#anti clip\n",
    "Nv = np.size(voltage1)\n",
    "for i in range(0,Nv):\n",
    "    if voltage1[i] >= 10e-3:\n",
    "        voltage1[i] = np.sign(i - Nv)*10e-3\n",
    "    if voltage2[i] >= 10e-3:\n",
    "        voltage2[i] = np.sign(i - Nv)*10e-3\n",
    "\n",
    "\n",
    "voltage1 = np.array(voltage1,dtype=np.float)\n",
    "voltage2 = np.array(voltage2,dtype=np.float)\n",
    "\n",
    "\n",
    "yas = TG\n",
    "xas = SG1\n",
    "\n",
    "N_xas = np.size(np.unique(xas))\n",
    "N_yas = np.size(np.unique(yas))\n",
    "\n",
    "if np.size(voltage1) < N_xas * N_yas:\n",
    "    N_field = N_xas - 1\n",
    "    voltage1 = voltage1[0:N_xas * N_yas]\n",
    "    voltage2 = voltage2[0:N_xas * N_yas]    \n",
    "    current = current[0:N_xas * N_yas]\n",
    "    field = field[0:N_xas * N_yas]\n",
    "    \n",
    "\n",
    "voltage1_AC = voltage1_AC.reshape(N_xas, N_yas)\n",
    "voltage2_AC = voltage2_AC.reshape(N_xas, N_yas)\n",
    "voltage1 = voltage1.reshape(N_xas, N_yas)\n",
    "voltage2 = voltage2.reshape(N_xas, N_yas)\n",
    "xas = xas.reshape(N_xas, N_yas)\n",
    "yas = yas.reshape(N_xas, N_yas)\n",
    "\n",
    "TG = yas\n",
    "SG1 = xas\n",
    "\n",
    "dR1_AC = voltage1_AC/current_AC\n",
    "dR2_AC = voltage2_AC/current_AC\n",
    "\n",
    "\n",
    "# np.savez('/plots/dVdI_vs_TG_{}_{}'.format(wafer_name + sample_name, JJ))\n"
   ]
  },
  {
   "cell_type": "code",
   "execution_count": null,
   "metadata": {},
   "outputs": [],
   "source": [
    "dR1_AC_f = -gaussian_filter(dR1_AC,0.8)\n",
    "dR2_AC_f = gaussian_filter(dR2_AC,2)\n"
   ]
  },
  {
   "cell_type": "code",
   "execution_count": null,
   "metadata": {},
   "outputs": [],
   "source": [
    "nu = 4\n",
    "fig, ax = plt.subplots(figsize = [5, 4])\n",
    "plt.tight_layout()\n",
    "cmap = plt.get_cmap('seismic')\n",
    "im = ax.pcolormesh(TG, SG, dR1_AC_f, cmap = cmap, shading = 'nearest'\n",
    "                   , vmin=-600,vmax=600\n",
    "                  )\n",
    "cbar = fig.colorbar(im,ax=ax)\n",
    "# ax.set_ylim(-190, 190)\n",
    "# ax.set_xlim(-10, 10)\n",
    "ax.set_xlabel(r'Top Gate (V)',fontsize = 20)\n",
    "ax.set_ylabel(r'Split Gate $(V)$',fontsize = 20)\n",
    "cbar.set_label(r'dV/dI ($\\Omega$)', rotation=90, fontsize = 20)\n",
    "# secax = ax.secondary_xaxis('top', functions=(timesXY,inv_timesXY))\n",
    "# secax.set_xlabel(r'I $\\times$ Rxy $(mV)$')\n",
    "\n",
    "plt.savefig(save_dir + '/plots/SG_TG_lockin({})_{}.png'.format(wafer_name + '_' + sample_name, HB),bbox_inches='tight')\n",
    "plt.show()\n",
    "\n",
    "fig, ax = plt.subplots(figsize = [8,6])\n",
    "plt.tight_layout()\n",
    "cmap = plt.get_cmap('seismic')\n",
    "im = ax.pcolormesh(TG, SG, dR2_AC, cmap = cmap, shading = 'nearest'\n",
    "                   , vmin=-50,vmax=50\n",
    "                  )\n",
    "cbar = fig.colorbar(im,ax=ax)\n",
    "# ax.set_ylim(-190, 190)\n",
    "# ax.set_xlim(-10, 10)\n",
    "# secax = ax.secondary_xaxis('top', functions=(timesXY,inv_timesXY))\n",
    "# secax.set_xlabel(r'I $\\times$ Rxy $(mV)$')\n",
    "ax.set_xlabel(r'Top Gate (V)',fontsize = 20)\n",
    "ax.set_ylabel(r'Split Gate $(V)$',fontsize = 20)\n",
    "cbar.set_label(r'dV/dI ($\\Omega$)', rotation=90, fontsize = 20)\n",
    "\n",
    "# cbar.set_label(r'dV/dI ($h/e^{2}$)', rotation=90)\n",
    "plt.title('$V_2$')\n",
    "# plt.title(wafer_name +  ' ' + sample_name + ' ' + HB)\n",
    "# plt.savefig(save_dir + '/plots/dVdI_vs_TG_Oscillations_Lockin_LeftSN_({})_{}.png'.format(wafer_name + '_' + sample_name, HB),bbox_inches='tight')"
   ]
  },
  {
   "cell_type": "code",
   "execution_count": null,
   "metadata": {},
   "outputs": [],
   "source": [
    "# bias cut\n",
    "tg = -0.975\n",
    "i = np.argmin(abs(TG[1,:] - tg))\n",
    "fig, ax = plt.subplots(figsize = [8,4],constrained_layout = False)\n",
    "ax.plot(SG1[:,i], dR1_AC_f[:,i],color = 'black')\n",
    "ax.plot(SG[:,i], dR1[:,i],color = 'blue')\n",
    "# plt.title(wafer_name +  ' ' + sample_name + ' ' + HB)\n",
    "\n",
    "ax.set_ylabel(r'dV/dI $(\\Omega)$',fontsize = 22)\n",
    "ax.set_xlabel(r'Split Gate $(V)$',fontsize = 22)\n",
    "# secax = ax.secondary_xaxis('top', functions=(timesXY,inv_timesXY))\n",
    "# secax.set_xlabel(r'I $\\times$ Rxy $(mV)$',fontsize = 22)\n",
    "# ax.legend(['TG= {:.4f}'.format(TG[i,1])])\n",
    "ax.legend(['Lockin','dV/dI from DC'])\n",
    "# plt.title('$V_1$ ')\n",
    "plt.savefig(save_dir + '/plots/SG_Lockin_vs_dc({})_{}.png'.format(wafer_name + '_' + sample_name, HB),bbox_inches='tight')\n",
    "\n"
   ]
  },
  {
   "cell_type": "markdown",
   "metadata": {},
   "source": [
    "### Lockin vs TG"
   ]
  },
  {
   "cell_type": "code",
   "execution_count": null,
   "metadata": {},
   "outputs": [],
   "source": [
    "dataID = 176\n",
    "dataset = qc.load_by_id(dataID)\n",
    "voltage1 = dataset.get_parameter_data()['meas_voltage_K1']['meas_voltage_K1']\n",
    "voltage2 = dataset.get_parameter_data()['meas_voltage_K2']['meas_voltage_K2']\n",
    "voltage1_AC = dataset.get_parameter_data()['meas_voltage_Lockin1']['meas_voltage_Lockin1']\n",
    "voltage2_AC = dataset.get_parameter_data()['meas_voltage_Lockin2']['meas_voltage_Lockin2']\n",
    "\n",
    "current = dataset.get_parameter_data()['meas_voltage_K1']['appl_current']\n",
    "TG = dataset.get_parameter_data()['meas_voltage_K1']['appl_TG_dac10']\n",
    "current_AC = dataset.snapshot['station']['parameters']['appl_current_AC']['value']\n",
    "\n",
    "#anti clip\n",
    "Nv = np.size(voltage1)\n",
    "for i in range(0,Nv):\n",
    "    if voltage1[i] >= 10e-3:\n",
    "        voltage1[i] = np.sign(i - Nv)*10e-3\n",
    "    if voltage2[i] >= 10e-3:\n",
    "        voltage2[i] = np.sign(i - Nv)*10e-3\n",
    "\n",
    "\n",
    "voltage1 = np.array(voltage1,dtype=np.float)\n",
    "voltage2 = np.array(voltage2,dtype=np.float)\n",
    "\n",
    "\n",
    "xas = TG\n",
    "yas = current\n",
    "\n",
    "N_xas = np.size(np.unique(xas))\n",
    "N_yas = np.size(np.unique(yas))\n",
    "\n",
    "if np.size(voltage1) < N_xas * N_yas:\n",
    "    N_field = N_xas - 1\n",
    "    voltage1 = voltage1[0:N_xas * N_yas]\n",
    "    voltage2 = voltage2[0:N_xas * N_yas]    \n",
    "    current = current[0:N_xas * N_yas]\n",
    "    field = field[0:N_xas * N_yas]\n",
    "    \n",
    "\n",
    "voltage1_AC = voltage1_AC.reshape(N_xas, N_yas)\n",
    "voltage2_AC = voltage2_AC.reshape(N_xas, N_yas)\n",
    "voltage1 = voltage1.reshape(N_xas, N_yas)\n",
    "voltage2 = voltage2.reshape(N_xas, N_yas)\n",
    "xas = xas.reshape(N_xas, N_yas)\n",
    "yas = yas.reshape(N_xas, N_yas)\n",
    "\n",
    "TG = xas\n",
    "current = yas\n",
    "\n",
    "dR1_AC = voltage1_AC/current_AC\n",
    "dR2_AC = voltage2_AC/current_AC\n",
    "dR1_AC_f = gaussian_filter(dR1_AC,0.5)\n",
    "\n",
    "\n",
    "# np.savez('/plots/dVdI_vs_TG_{}_{}'.format(wafer_name + sample_name, JJ))\n"
   ]
  },
  {
   "cell_type": "code",
   "execution_count": null,
   "metadata": {},
   "outputs": [],
   "source": [
    "np.shape(dR1_AC)\n",
    "HB = 'HB2'"
   ]
  },
  {
   "cell_type": "code",
   "execution_count": null,
   "metadata": {},
   "outputs": [],
   "source": [
    "dR1_AC_f = gaussian_filter(dR1_AC,0.5)\n",
    "dR2_AC_f = gaussian_filter(dR2_AC,0.5)"
   ]
  },
  {
   "cell_type": "code",
   "execution_count": null,
   "metadata": {},
   "outputs": [],
   "source": [
    "def timesXY(I):\n",
    "    V = 1e3*(I*1e-6)*R_K/nu\n",
    "    return V\n",
    "def inv_timesXY(V):\n",
    "    I = (V/1e3)*nu/R_K*1e6\n",
    "    return I\n",
    "nu = 2"
   ]
  },
  {
   "cell_type": "code",
   "execution_count": null,
   "metadata": {},
   "outputs": [],
   "source": [
    "nu = 4\n",
    "fig, ax = plt.subplots(figsize = [8, 6])\n",
    "plt.tight_layout()\n",
    "cmap = plt.get_cmap('seismic')\n",
    "im = ax.pcolormesh(1e9 * current, TG, dR1_AC_f, cmap = cmap, shading = 'nearest'\n",
    "                   , vmin=-100,vmax=100\n",
    "                  )\n",
    "cbar = fig.colorbar(im,ax=ax)\n",
    "# ax.set_ylim(-190, 190)\n",
    "# ax.set_xlim(-10, 10)\n",
    "ax.set_xlabel(r'Current (nA)')\n",
    "ax.set_ylabel(r'V gate (V)')\n",
    "secax = ax.secondary_xaxis('top', functions=(timesXY,inv_timesXY))\n",
    "secax.set_xlabel(r'I $\\times$ Rxy $(mV)$')\n",
    "cbar.set_label(r'dV/dI ($\\Omega$)', rotation=90)\n",
    "# plt.title(wafer_name +  ' ' + sample_name + ' ' + HB)\n",
    "plt.title('$V_1$')\n",
    "\n",
    "# plt.savefig(save_dir + '/plots/dVdI_vs_TG_Oscillations_Lockin_BottomSN({})_{}.png'.format(wafer_name + '_' + sample_name, HB),bbox_inches='tight')\n",
    "plt.show()\n",
    "\n",
    "fig, ax = plt.subplots(figsize = [8,6])\n",
    "plt.tight_layout()\n",
    "cmap = plt.get_cmap('seismic')\n",
    "im = ax.pcolormesh(1e9 * current, TG, dR2_AC_f, cmap = cmap, shading = 'nearest'\n",
    "                   , vmin=-50,vmax=50\n",
    "                  )\n",
    "cbar = fig.colorbar(im,ax=ax)\n",
    "# ax.set_ylim(-190, 190)\n",
    "# ax.set_xlim(-10, 10)\n",
    "secax = ax.secondary_xaxis('top', functions=(timesXY,inv_timesXY))\n",
    "secax.set_xlabel(r'I $\\times$ Rxy $(mV)$')\n",
    "ax.set_xlabel(r'Current (nA)')\n",
    "ax.set_ylabel(r'V gate (V)')\n",
    "cbar.set_label(r'dV/dI ($\\Omega$)', rotation=90)\n",
    "\n",
    "# cbar.set_label(r'dV/dI ($h/e^{2}$)', rotation=90)\n",
    "plt.title('$V_2$')\n",
    "# plt.title(wafer_name +  ' ' + sample_name + ' ' + HB)\n",
    "# plt.savefig(save_dir + '/plots/dVdI_vs_TG_Oscillations_Lockin_LeftSN_({})_{}.png'.format(wafer_name + '_' + sample_name, HB),bbox_inches='tight')"
   ]
  },
  {
   "cell_type": "code",
   "execution_count": null,
   "metadata": {},
   "outputs": [],
   "source": [
    "# bias cut\n",
    "tg = -1.135\n",
    "i = np.argmin(abs(TG[:,1] - tg))\n",
    "i= i\n",
    "fig, ax = plt.subplots(figsize = [6,3],constrained_layout = False)\n",
    "ax.plot(1e9*current[i,:], dR1_AC_f[i,:])\n",
    "\n",
    "# plt.title(wafer_name +  ' ' + sample_name + ' ' + HB)\n",
    "\n",
    "ax.set_ylabel(r'dV/dI $(\\Omega)$')\n",
    "ax.set_xlabel(r'current $(nA)$')\n",
    "secax = ax.secondary_xaxis('top', functions=(timesXY,inv_timesXY))\n",
    "secax.set_xlabel(r'I $\\times$ Rxy $(mV)$')\n",
    "ax.legend(['TG= {:.3f}'.format(TG[i,1])])\n",
    "plt.title('$V_1$ ')\n",
    "\n",
    "plt.savefig(save_dir + '/plots/Linecut_V1_Lockin_vs_bias_Oscillations_LeftSN_({})_{}.png'.format(wafer_name + '_' + sample_name, HB),bbox_inches='tight')\n",
    "\n",
    "fig, ax = plt.subplots(figsize = [6,3],constrained_layout = False)\n",
    "ax.plot(1e9*current[i,:], dR2_AC_f[i,:])\n",
    "\n",
    "# plt.title(wafer_name +  ' ' + sample_name + ' ' + HB)\n",
    "\n",
    "ax.set_ylabel(r'dV/dI $(\\Omega)$')\n",
    "ax.set_xlabel(r'current $(nA)$')\n",
    "secax = ax.secondary_xaxis('top', functions=(timesXY,inv_timesXY))\n",
    "secax.set_xlabel(r'I $\\times$ Rxy $(mV)$')\n",
    "plt.title('$V_2$')\n",
    "ax.legend(['TG= {:.3f}'.format(TG[i,1])])\n",
    "plt.savefig(save_dir + '/plots/Linecut_V2_Lockin_vs_bias_Oscillations_LeftSN_({})_{}.png'.format(wafer_name + '_' + sample_name, HB),bbox_inches='tight')\n",
    "\n",
    "\n",
    "\n",
    "\n",
    "\n",
    "\n",
    "# fig, ax = plt.subplots(figsize = [6,3],constrained_layout = False)\n",
    "# ax.plot(1e9*current[i,:], voltage1[i,:]*1e3)\n",
    "\n",
    "# # plt.title(wafer_name +  ' ' + sample_name + ' ' + HB)\n",
    "\n",
    "# ax.set_ylabel(r'Vdc (mV)')\n",
    "# ax.set_xlabel(r'V gate (V)')\n",
    "# secax = ax.secondary_xaxis('top', functions=(timesXY,inv_timesXY))\n",
    "# secax.set_xlabel(r'I $\\times$ Rxy $(mV)$')"
   ]
  },
  {
   "cell_type": "code",
   "execution_count": null,
   "metadata": {},
   "outputs": [],
   "source": [
    "TG[1,2]\n"
   ]
  },
  {
   "cell_type": "markdown",
   "metadata": {},
   "source": [
    "### Lockin Field Gate sweep"
   ]
  },
  {
   "cell_type": "code",
   "execution_count": null,
   "metadata": {},
   "outputs": [],
   "source": [
    "dataID = 217\n",
    "dataset = qc.load_by_id(dataID)\n",
    "# voltage1 = dataset.get_parameter_data()['meas_voltage_K1']['meas_voltage_K1']\n",
    "# voltage2 = dataset.get_parameter_data()['meas_voltage_K2']['meas_voltage_K2']\n",
    "voltage1_AC = dataset.get_parameter_data()['meas_voltage_Lockin1']['meas_voltage_Lockin1']\n",
    "voltage2_AC = dataset.get_parameter_data()['meas_voltage_Lockin2']['meas_voltage_Lockin2']\n",
    "\n",
    "field = dataset.get_parameter_data()['meas_voltage_Lockin1']['z_field']\n",
    "TG = dataset.get_parameter_data()['meas_voltage_Lockin1']['appl_TG_dac10']\n",
    "current_AC = dataset.snapshot['station']['parameters']['appl_current_AC']['value']\n",
    "\n",
    "\n",
    "# voltage1 = np.array(voltage1,dtype=np.float)\n",
    "# voltage2 = np.array(voltage2,dtype=np.float)\n",
    "\n",
    "\n",
    "xas = field\n",
    "yas = TG\n",
    "\n",
    "N_xas = np.size(np.unique(xas))\n",
    "N_yas = np.size(np.unique(yas))\n",
    "\n",
    "# if np.size(voltage1) < N_xas * N_yas:\n",
    "#     N_field = N_xas - 1\n",
    "# #     voltage1 = voltage1[0:N_xas * N_yas]\n",
    "# #     voltage2 = voltage2[0:N_xas * N_yas]    \n",
    "# #     current = current[0:N_xas * N_yas]\n",
    "#     TG = TG[0:N_xas * N_yas]\n",
    "#     field = field[0:N_xas * N_yas]\n",
    "    \n",
    "\n",
    "voltage1_AC = voltage1_AC.reshape(N_xas, N_yas)\n",
    "voltage2_AC = voltage2_AC.reshape(N_xas, N_yas)\n",
    "# voltage1 = voltage1.reshape(N_xas, N_yas)\n",
    "# voltage2 = voltage2.reshape(N_xas, N_yas)\n",
    "xas = xas.reshape(N_xas, N_yas)\n",
    "yas = yas.reshape(N_xas, N_yas)\n",
    "\n",
    "TG = yas\n",
    "field = xas\n",
    "\n",
    "dR1_AC = voltage1_AC/current_AC\n",
    "dR2_AC = voltage2_AC/current_AC\n",
    "dR1_AC_f = gaussian_filter(dR1_AC,0.7)\n",
    "dR2_AC_f = gaussian_filter(dR2_AC,0.7)\n",
    "\n",
    "\n",
    "# np.savez('/plots/dVdI_vs_TG_{}_{}'.format(wafer_name + sample_name, JJ))\n"
   ]
  },
  {
   "cell_type": "code",
   "execution_count": null,
   "metadata": {},
   "outputs": [],
   "source": [
    "# nu = 4\n",
    "fig, axs = plt.subplots(1,2,figsize = [12, 6])\n",
    "# plt.tight_layout()\n",
    "ax = axs[0]\n",
    "cmap = plt.get_cmap('seismic')\n",
    "im = ax.pcolormesh(TG,field,dR1_AC_f, cmap = cmap, shading = 'nearest'\n",
    "                   , vmin=-30,vmax=30\n",
    "                  )\n",
    "# ax.set_ylim(-190, 190)\n",
    "# ax.set_xlim(-10, 10)\n",
    "ax.set_ylabel(r'B (T)')\n",
    "ax.set_xlabel(r'TG (V) ')\n",
    "\n",
    "cbar.set_label(r'dV/dI ($\\Omega$)', rotation=90)\n",
    "# plt.title(wafer_name +  ' ' + sample_name + ' ' + HB)\n",
    "ax.set_title('$V_1$')\n",
    "\n",
    "ax = axs[1]\n",
    "cmap = plt.get_cmap('seismic')\n",
    "im = ax.pcolormesh(TG,field,dR2_AC_f, cmap = cmap, shading = 'nearest'\n",
    "                   , vmin=-30,vmax=30\n",
    "                  )\n",
    "# ax.set_ylim(-190, 190)\n",
    "# ax.set_xlim(-10, 10)\n",
    "ax.set_xlabel(r'TG (V) ')\n",
    "# ax.set_ylabel(r'B (T)')\n",
    "cbar = fig.colorbar(im,ax=ax)\n",
    "cbar.set_label(r'dV/dI ($\\Omega$)', rotation=90)\n",
    "# plt.title(wafer_name +  ' ' + sample_name + ' ' + HB)\n",
    "ax.set_title('$V_2$')\n",
    "\n",
    "\n",
    "plt.savefig(save_dir + '/plots/dVdI_vs_B,TG_Oscillations_Lockin({})_{}.png'.format(wafer_name + '_' + sample_name, HB),bbox_inches='tight')\n",
    "plt.show()\n"
   ]
  },
  {
   "cell_type": "markdown",
   "metadata": {},
   "source": [
    "### Bias vs Field"
   ]
  },
  {
   "cell_type": "code",
   "execution_count": null,
   "metadata": {},
   "outputs": [],
   "source": [
    "dataID = 96\n",
    "dataset = qc.load_by_id(dataID)\n",
    "voltage1 = dataset.get_parameter_data()['meas_voltage_K1']['meas_voltage_K1']\n",
    "voltage2 = dataset.get_parameter_data()['meas_voltage_K2']['meas_voltage_K2']\n",
    "# voltage1_AC = dataset.get_parameter_data()['meas_voltage_Lockin1']['meas_voltage_Lockin1']\n",
    "# voltage2_AC = dataset.get_parameter_data()['meas_voltage_Lockin2']['meas_voltage_Lockin2']\n",
    "\n",
    "field = dataset.get_parameter_data()['meas_voltage_K1']['z_field']\n",
    "current = dataset.get_parameter_data()['meas_voltage_K1']['appl_current']\n",
    "\n",
    "TG = dataset.snapshot['station']['parameters']['top_gate']['value']\n",
    "# current_AC = dataset.snapshot['station']['parameters']['appl_current_AC']['value']\n",
    "\n",
    "\n",
    "# voltage1 = np.array(voltage1,dtype=np.float)\n",
    "# voltage2 = np.array(voltage2,dtype=np.float)\n",
    "\n",
    "\n",
    "xas = field\n",
    "yas = current\n",
    "\n",
    "N_xas = np.size(np.unique(xas))\n",
    "N_yas = np.size(np.unique(yas))\n",
    "\n",
    "# if np.size(voltage1) < N_xas * N_yas:\n",
    "#     N_field = N_xas - 1\n",
    "# #     voltage1 = voltage1[0:N_xas * N_yas]\n",
    "# #     voltage2 = voltage2[0:N_xas * N_yas]    \n",
    "# #     current = current[0:N_xas * N_yas]\n",
    "#     TG = TG[0:N_xas * N_yas]\n",
    "#     field = field[0:N_xas * N_yas]\n",
    "    \n",
    "\n",
    "# voltage1_AC = voltage1_AC.reshape(N_xas, N_yas)\n",
    "# voltage2_AC = voltage2_AC.reshape(N_xas, N_yas)\n",
    "voltage1 = voltage1.reshape(N_xas, N_yas)\n",
    "voltage2 = voltage2.reshape(N_xas, N_yas)\n",
    "xas = xas.reshape(N_xas, N_yas)\n",
    "yas = yas.reshape(N_xas, N_yas)\n",
    "\n",
    "current = yas\n",
    "field = xas\n",
    "\n",
    "\n",
    "dI = current[0,1] - current[0,0]\n",
    "dR1 = smooth_dir(voltage1,N_points = 6)/dI\n",
    "dR2 = smooth_dir(voltage2,N_points = 6)/dI\n",
    "\n",
    "# dR1_AC = voltage1_AC/current_AC\n",
    "# dR2_AC = voltage2_AC/current_AC\n",
    "# dR1_AC_f = gaussian_filter(dR1_AC,0.7)\n",
    "# dR2_AC_f = gaussian_filter(dR2_AC,0.7)\n",
    "\n",
    "\n",
    "# np.savez('/plots/dVdI_vs_TG_{}_{}'.format(wafer_name + sample_name, JJ))\n"
   ]
  },
  {
   "cell_type": "code",
   "execution_count": null,
   "metadata": {},
   "outputs": [],
   "source": [
    "# fig, ax = plt.subplots()\n",
    "# plt.tight_layout()\n",
    "# cmap = plt.get_cmap('hot')\n",
    "# im = ax.pcolormesh(field, 1e9 * current, dR1, cmap = cmap, shading = 'nearest'\n",
    "#                    , vmin=0,vmax=5\n",
    "#                   )\n",
    "# cbar = fig.colorbar(im,ax=ax)\n",
    "# # ax.set_ylim(-190, 190)\n",
    "# # ax.set_xlim(-10, 10)\n",
    "# ax.set_ylabel(r'Current (nA)')\n",
    "# ax.set_xlabel(r'V gate (V)')\n",
    "# cbar.set_label(r'dV/dI ($\\Omega$)', rotation=90)\n",
    "# plt.title(wafer_name +  ' ' + sample_name + ' ' + HB)\n",
    "# # plt.savefig(save_dir + '/plots/dVdI_vs_TG_({})_{}.png'.format(wafer_name + '_' + sample_name, JJ))\n",
    "# plt.show()\n",
    "\n",
    "fig, ax = plt.subplots()\n",
    "plt.tight_layout()\n",
    "cmap = plt.get_cmap('seismic')\n",
    "im = ax.pcolormesh(1e9 * current, field, -dR2, cmap = cmap, shading = 'nearest'\n",
    "                   , vmin=-40,vmax=40\n",
    "                  )\n",
    "cbar = fig.colorbar(im,ax=ax)\n",
    "# ax.set_ylim(-190, 190)\n",
    "# ax.set_xlim(-10, 10)\n",
    "ax.set_xlabel(r'Current (nA)')\n",
    "ax.set_ylabel(r'B $(T)$')\n",
    "# cbar.set_label(r'dV/dI ($h/e^{2}$)', rotation=90)\n",
    "cbar.set_label(r'dV/dI ($\\Omega$)', rotation=90)\n",
    "# plt.title(wafer_name +  ' ' + sample_name + ' ' + HB)\n",
    "plt.savefig(save_dir + '/plots/dVdI_vs_I,B_({})_{}.png'.format(wafer_name + '_' + sample_name, HB),bbox_inches='tight')\n",
    "plt.show()"
   ]
  },
  {
   "cell_type": "markdown",
   "metadata": {},
   "source": [
    "### dV/dI vs TG"
   ]
  },
  {
   "cell_type": "code",
   "execution_count": null,
   "metadata": {},
   "outputs": [],
   "source": [
    "dataID = 78\n",
    "dataset = qc.load_by_id(dataID)\n",
    "voltage1 = dataset.get_parameter_data()['meas_voltage_K1']['meas_voltage_K1']\n",
    "voltage2 = dataset.get_parameter_data()['meas_voltage_K2']['meas_voltage_K2']\n",
    "# voltage_AC = dataset.get_parameter_data()['meas_voltage_Lockin1']['meas_voltage_Lockin1']\n",
    "current = dataset.get_parameter_data()['meas_voltage_K1']['appl_current']\n",
    "TG = dataset.get_parameter_data()['meas_voltage_K1']['appl_TG_dac10']\n",
    "# TG = dataset.get_parameter_data()['meas_voltage_K1']['delta_top_gate']\n",
    "# TGS =  dataset.snapshot['station']['parameters']['top_gate']['value']\n",
    "\n",
    "\n",
    "#anti clip\n",
    "Nv = np.size(voltage1)\n",
    "for i in range(0,Nv):\n",
    "    if voltage1[i] >= 10e-3:\n",
    "        voltage1[i] = np.sign(i - Nv)*10e-3\n",
    "    if voltage2[i] >= 10e-3:\n",
    "        voltage2[i] = np.sign(i - Nv)*10e-3\n",
    "\n",
    "\n",
    "voltage1 = np.array(voltage1,dtype=np.float)\n",
    "voltage2 = np.array(voltage2,dtype=np.float)\n",
    "\n",
    "\n",
    "xas = TG\n",
    "yas = current\n",
    "\n",
    "N_xas = np.size(np.unique(xas))\n",
    "N_yas = np.size(np.unique(yas))\n",
    "\n",
    "if np.size(voltage1) < N_xas * N_yas:\n",
    "    N_field = N_xas - 1\n",
    "    voltage1 = voltage1[0:N_xas * N_yas]\n",
    "    voltage2 = voltage2[0:N_xas * N_yas]    \n",
    "    current = current[0:N_xas * N_yas]\n",
    "    field = field[0:N_xas * N_yas]\n",
    "    \n",
    "\n",
    "voltage1 = voltage1.reshape(N_xas, N_yas)\n",
    "voltage2 = voltage2.reshape(N_xas, N_yas)\n",
    "xas = xas.reshape(N_xas, N_yas)\n",
    "yas = yas.reshape(N_xas, N_yas)\n",
    "\n",
    "TG = xas\n",
    "current = yas\n",
    "\n",
    "# dI = current[0,1] - current[0,0]\n",
    "# dR1 = smooth_dir(voltage1,N_points = 8)/dI\n",
    "# dR2 = smooth_dir(voltage2,N_points = 8)/dI\n",
    "\n",
    "\n",
    "# current_AC = dataset.snapshot['station']['parameters']['appl_current_AC']['value']\n",
    "# current_AC = 1e-9\n",
    "# R_AC = voltage_AC/current_AC\n",
    "\n",
    "\n",
    "# np.savez('/plots/dVdI_vs_TG_{}_{}'.format(wafer_name + sample_name, JJ))\n"
   ]
  },
  {
   "cell_type": "code",
   "execution_count": null,
   "metadata": {},
   "outputs": [],
   "source": [
    "dI = current[0,1] - current[0,0]\n",
    "dR1 = smooth_dir(voltage1,N_points = 12)/dI\n",
    "dR2 = smooth_dir(voltage2,N_points = 12)/dI"
   ]
  },
  {
   "cell_type": "code",
   "execution_count": null,
   "metadata": {},
   "outputs": [],
   "source": [
    "HB = 'HB2'"
   ]
  },
  {
   "cell_type": "code",
   "execution_count": null,
   "metadata": {},
   "outputs": [],
   "source": [
    "dR1_f = gaussian_filter(dR1,sigma = 0.5)\n"
   ]
  },
  {
   "cell_type": "code",
   "execution_count": null,
   "metadata": {},
   "outputs": [],
   "source": [
    "np.shape(voltage1)\n",
    "np.shape(np.ones([81,301]))"
   ]
  },
  {
   "cell_type": "code",
   "execution_count": null,
   "metadata": {},
   "outputs": [],
   "source": [
    "np.shape(np.matmul(np.reshape(voltage1[:,0],[81,1]),np.ones([1,81])))\n",
    "# np.reshape(voltage1[:,0],[81,1])\n",
    "# np.shape(np.ones([0,81]))"
   ]
  },
  {
   "cell_type": "code",
   "execution_count": null,
   "metadata": {},
   "outputs": [],
   "source": [
    "voltage1_cor = voltage1 - np.matmul(np.reshape(voltage1[:,0],[81,1]),np.ones([1,301]))\n",
    "voltage1_cor_fil = gaussian_filter(voltage1_cor,sigma = 0.5) "
   ]
  },
  {
   "cell_type": "code",
   "execution_count": null,
   "metadata": {},
   "outputs": [],
   "source": [
    "fig, ax = plt.subplots(figsize = [7, 4])\n",
    "# fig, ax = plt.subplots()\n",
    "plt.tight_layout()\n",
    "cmap = plt.get_cmap('seismic')\n",
    "im = ax.pcolormesh(1e9 * current,TG,voltage1_cor_fil/(current+1e-9), cmap = cmap, shading = 'nearest'\n",
    "                   , vmin=-10,vmax=10\n",
    "                  )\n",
    "cbar = fig.colorbar(im,ax=ax)\n",
    "matplotlib.rc('xtick', labelsize=18) \n",
    "matplotlib.rc('ytick', labelsize=18) \n",
    "\n",
    "# ax.set_ylim(-190, 190)\n",
    "# ax.set_xlim(0, 500)\n",
    "# x1 = [771.4, -1.5999683]\n",
    "# x2 = [490.8, -1.6009090]\n",
    "# slope:\n",
    "# ax.plot([x1[0], x2[0]],[x1[1],x2[1]], linewidth = 2, color = 'black')\n",
    "# slope= (x1[1] - x2[1])/((x1[0] - x2[0])*1e-9)\n",
    "\n",
    "ax.set_xlabel(r'Current (nA)',fontsize = 20)\n",
    "ax.set_ylabel(r'$V_{gate}$ $(V)$',fontsize = 20)\n",
    "# plt.title('slope = {:.2f} (kV/A)'.format(slope * 1e-3),fontsize = 20)\n",
    "cbar.set_label(r'R ($\\Omega$)', rotation=90, fontsize = 20)\n",
    "\n",
    "# cbar.set_label(r'dV/dI ($h/e^{2}$)', rotation=90)\n",
    "# plt.title(wafer_name +  ' ' + sample_name + ' ' + HB)\n",
    "# plt.savefig(save_dir + '/plots/R_single_osc({})_{}.png'.format(wafer_name + '_' + sample_name, HB),bbox_inches='tight')\n",
    "plt.show()\n"
   ]
  },
  {
   "cell_type": "code",
   "execution_count": null,
   "metadata": {},
   "outputs": [],
   "source": [
    "fig, ax = plt.subplots(figsize = [7, 4])\n",
    "# fig, ax = plt.subplots()\n",
    "plt.tight_layout()\n",
    "cmap = plt.get_cmap('seismic')\n",
    "im = ax.pcolormesh(1e9 * current,TG,voltage1_cor_fil*1e6, cmap = cmap, shading = 'nearest'\n",
    "                   , vmin=-2,vmax=2\n",
    "                  )\n",
    "cbar = fig.colorbar(im,ax=ax)\n",
    "matplotlib.rc('xtick', labelsize=18) \n",
    "matplotlib.rc('ytick', labelsize=18) \n",
    "\n",
    "# ax.set_ylim(-190, 190)\n",
    "# ax.set_xlim(0, 500)\n",
    "# x1 = [771.4, -1.5999683]\n",
    "# x2 = [490.8, -1.6009090]\n",
    "# slope:\n",
    "# ax.plot([x1[0], x2[0]],[x1[1],x2[1]], linewidth = 2, color = 'black')\n",
    "# slope= (x1[1] - x2[1])/((x1[0] - x2[0])*1e-9)\n",
    "\n",
    "ax.set_xlabel(r'Current (nA)',fontsize = 20)\n",
    "ax.set_ylabel(r'$V_{gate}$ $(V)$',fontsize = 20)\n",
    "# plt.title('slope = {:.2f} (kV/A)'.format(slope * 1e-3),fontsize = 20)\n",
    "cbar.set_label(r'V ($\\mu V$)', rotation=90, fontsize = 20)\n",
    "\n",
    "# cbar.set_label(r'dV/dI ($h/e^{2}$)', rotation=90)\n",
    "# plt.title(wafer_name +  ' ' + sample_name + ' ' + HB)\n",
    "# plt.savefig(save_dir + '/plots/V_single_osc({})_{}.png'.format(wafer_name + '_' + sample_name, HB),bbox_inches='tight')\n",
    "plt.show()\n"
   ]
  },
  {
   "cell_type": "code",
   "execution_count": null,
   "metadata": {},
   "outputs": [],
   "source": [
    "# bias cut\n",
    "tg = -1.55\n",
    "i = np.argmin(abs(TG[:,1] - tg))\n",
    "fig, ax = plt.subplots(figsize = [8,4],constrained_layout = False)\n",
    "ax.plot(1e9*current[i,:], voltage1_cor_fil[i,:]*1e6,color = 'black')\n",
    "\n",
    "# plt.title(wafer_name +  ' ' + sample_name + ' ' + HB)\n",
    "\n",
    "ax.set_ylabel(r'V $(\\mu V)$',fontsize = 22)\n",
    "ax.set_xlabel(r'current $(nA)$',fontsize = 22)\n",
    "secax = ax.secondary_xaxis('top', functions=(timesXY,inv_timesXY))\n",
    "secax.set_xlabel(r'I $\\times$ Rxy $(mV)$',fontsize = 22)\n",
    "ax.legend(['TG= {:.4f}'.format(TG[i,1])])\n",
    "# plt.title('$V_1$ ')\n",
    "# plt.savefig(save_dir + '/plots/Osc1_linecut({})_{}.png'.format(wafer_name + '_' + sample_name, HB),bbox_inches='tight')\n",
    "\n"
   ]
  },
  {
   "cell_type": "code",
   "execution_count": null,
   "metadata": {},
   "outputs": [],
   "source": [
    "fig, ax = plt.subplots(figsize = [7, 4])\n",
    "# fig, ax = plt.subplots()\n",
    "plt.tight_layout()\n",
    "cmap = plt.get_cmap('RdPu')\n",
    "im = ax.pcolormesh(1e9 * current,TG,gaussian_filter(dR2,sigma=0.3), cmap = cmap, shading = 'nearest'\n",
    "                   , vmin=0,vmax=2000\n",
    "                  )\n",
    "cbar = fig.colorbar(im,ax=ax)\n",
    "matplotlib.rc('xtick', labelsize=18) \n",
    "matplotlib.rc('ytick', labelsize=18) \n",
    "\n",
    "ax.set_ylim(-1.1, -0.3)\n",
    "# ax.set_xlim(0, 500)\n",
    "# x1 = [771.4, -1.5999683]\n",
    "# x2 = [490.8, -1.6009090]\n",
    "# slope:\n",
    "# ax.plot([x1[0], x2[0]],[x1[1],x2[1]], linewidth = 2, color = 'black')\n",
    "# slope= (x1[1] - x2[1])/((x1[0] - x2[0])*1e-9)\n",
    "\n",
    "ax.set_xlabel(r'Current (nA)',fontsize = 20)\n",
    "ax.set_ylabel(r'$V_{gate}$ $(V)$',fontsize = 20)\n",
    "# plt.title('slope = {:.2f} (kV/A)'.format(slope * 1e-3),fontsize = 20)\n",
    "cbar.set_label(r'dV/dI ($\\Omega$)', rotation=90, fontsize = 20)\n",
    "\n",
    "# cbar.set_label(r'dV/dI ($h/e^{2}$)', rotation=90)\n",
    "# plt.title(wafer_name +  ' ' + sample_name + ' ' + HB)\n",
    "plt.savefig(save_dir + '/plots/dVdI_LS_Large_B=5({})_{}.png'.format(wafer_name + '_' + sample_name, HB),bbox_inches='tight')\n",
    "plt.show()\n"
   ]
  },
  {
   "cell_type": "code",
   "execution_count": null,
   "metadata": {},
   "outputs": [],
   "source": [
    "fig, ax = plt.subplots(figsize = [7, 4])\n",
    "# fig, ax = plt.subplots()\n",
    "plt.tight_layout()\n",
    "cmap = plt.get_cmap('seismic')\n",
    "im = ax.pcolormesh(1e9 * current, TGS + TG,dR1, cmap = cmap, shading = 'nearest'\n",
    "                   , vmin=-20,vmax=20\n",
    "                  )\n",
    "cbar = fig.colorbar(im,ax=ax)\n",
    "# ax.set_ylim(-190, 190)\n",
    "# ax.set_xlim(0, 500)\n",
    "# x1 = [489.6, -1.5999992]\n",
    "# x2 = [437.6, -1.60084928]\n",
    "# slope:\n",
    "# ax.plot([x1[0], x2[0]],[x1[1],x2[1]], linewidth = 2, color = 'black')\n",
    "# slope= (x1[1] - x2[1])/((x1[0] - x2[0])*1e-9)\n",
    "\n",
    "ax.set_xlabel(r'Current (nA)',fontsize = 20)\n",
    "ax.set_ylabel(r'$V_{gate}$ $(V)$',fontsize = 20)\n",
    "plt.title('slope = {:.2f} (kV/A)'.format(slope * 1e-3),fontsize = 20)\n",
    "cbar.set_label(r'dV/dI ($\\Omega$)', rotation=90, fontsize = 20)\n",
    "\n",
    "# cbar.set_label(r'dV/dI ($h/e^{2}$)', rotation=90)\n",
    "# plt.title(wafer_name +  ' ' + sample_name + ' ' + HB)\n",
    "# plt.savefig(save_dir + '/plots/dV1dI_conf_G2_({})_{}.png'.format(wafer_name + '_' + sample_name, HB),bbox_inches='tight')\n",
    "plt.show()\n"
   ]
  },
  {
   "cell_type": "code",
   "execution_count": null,
   "metadata": {},
   "outputs": [],
   "source": [
    "def timesXY(I):\n",
    "    V = 1e3*(I*1e-9)*R_K/nu\n",
    "    return V\n",
    "def inv_timesXY(V):\n",
    "    I = (V/1e3)*nu/R_K*1e9\n",
    "    return I\n",
    "nu = 2"
   ]
  },
  {
   "cell_type": "code",
   "execution_count": null,
   "metadata": {},
   "outputs": [],
   "source": [
    "TGS+TG[:,i]"
   ]
  },
  {
   "cell_type": "code",
   "execution_count": null,
   "metadata": {},
   "outputs": [],
   "source": [
    "i = np.argmin(abs(TGS+TG[:,i] - tg))\n",
    "i"
   ]
  },
  {
   "cell_type": "code",
   "execution_count": null,
   "metadata": {},
   "outputs": [],
   "source": [
    "v2_f = -gaussian_filter(voltage2[i,:],sigma = 1)\n",
    "voff = v2_f[round(N_yas/2)]"
   ]
  },
  {
   "cell_type": "code",
   "execution_count": null,
   "metadata": {},
   "outputs": [],
   "source": [
    "# bias cut\n",
    "tg = -1.0614\n",
    "i = np.argmin(abs(TGS+TG[:,1] - tg))\n",
    "fig, ax = plt.subplots(figsize = [8,4],constrained_layout = False)\n",
    "ax.plot(1e9*current[i,:], v2_f - voff,color = 'black')\n",
    "\n",
    "# plt.title(wafer_name +  ' ' + sample_name + ' ' + HB)\n",
    "\n",
    "ax.set_ylabel(r'dV/dI $(\\Omega)$',fontsize = 22)\n",
    "ax.set_xlabel(r'current $(nA)$',fontsize = 22)\n",
    "secax = ax.secondary_xaxis('top', functions=(timesXY,inv_timesXY))\n",
    "secax.set_xlabel(r'I $\\times$ Rxy $(mV)$',fontsize = 22)\n",
    "ax.legend(['TG= {:.4f}'.format(TGS + TG[i,1])])\n",
    "# plt.title('$V_1$ ')\n",
    "# plt.savefig(save_dir + '/plots/Osc1_linecut({})_{}.png'.format(wafer_name + '_' + sample_name, HB),bbox_inches='tight')\n",
    "\n"
   ]
  },
  {
   "cell_type": "code",
   "execution_count": null,
   "metadata": {
    "scrolled": true
   },
   "outputs": [],
   "source": [
    "\n",
    "\n",
    "\n",
    "fig, ax = plt.subplots() # figsize = [4, 6]\n",
    "plt.tight_layout()\n",
    "cmap = plt.get_cmap('seismic')\n",
    "im = ax.pcolormesh(1e9 * current,TG,  gaussian_filter(dR1,sigma=0.6), cmap = cmap, shading = 'nearest'\n",
    "                   , vmin=-40,vmax=40\n",
    "                  )\n",
    "cbar = fig.colorbar(im,ax=ax)\n",
    "# x1 = [514, -1.598]\n",
    "# x2 = [385, -1.599966]\n",
    "\n",
    "# # slope:\n",
    "# ax.plot([x1[0], x2[0]],[x1[1],x2[1]], linewidth = 2, color = 'black')\n",
    "# slope= (x1[1] - x2[1])/((x1[0] - x2[0])*1e-9)\n",
    "\n",
    "\n",
    "\n",
    "# ax.set_ylim(-2, -1)\n",
    "# ax.set_xlim(0, 500)\n",
    "ax.set_xlabel(r'Current (nA)')\n",
    "ax.set_ylabel(r'$V_{gate}$ $(V)$')\n",
    "cbar.set_label(r'dV/dI ($\\Omega$)', rotation=90)\n",
    "# plt.title('slope = {:.2f} (kV/A)'.format(slope * 1e-3))\n",
    "# plt.title('B = 5.5T')\n",
    "# plt.title(wafer_name +  ' ' + sample_name + ' ' + HB)\n",
    "# plt.savefig(save_dir + '/plots/dV1dI_sym_v_=ASYM2_({})_{}.png'.format(wafer_name + '_' + sample_name, HB),bbox_inches='tight')\n",
    "plt.show()\n",
    "\n",
    "\n"
   ]
  },
  {
   "cell_type": "markdown",
   "metadata": {},
   "source": [
    "## single dR from IV "
   ]
  },
  {
   "cell_type": "code",
   "execution_count": null,
   "metadata": {},
   "outputs": [],
   "source": [
    "def timesXY(I):\n",
    "    V = 1e3*(I*1e-6)*R_K/nu\n",
    "    return V\n",
    "def inv_timesXY(V):\n",
    "    I = (V/1e3)*nu/R_K*1e6\n",
    "    return I\n",
    "nu = 2"
   ]
  },
  {
   "cell_type": "code",
   "execution_count": null,
   "metadata": {},
   "outputs": [],
   "source": [
    "3e-6*R_K/2"
   ]
  },
  {
   "cell_type": "code",
   "execution_count": null,
   "metadata": {},
   "outputs": [],
   "source": [
    "dataID = 345\n",
    "dataset = qc.load_by_id(dataID)\n",
    "voltage1 = dataset.get_parameter_data()['meas_voltage_K1']['meas_voltage_K1']\n",
    "# voltage1_AC = dataset.get_parameter_data()['meas_voltage_K1']['meas_voltage_']\n",
    "# voltage2 = dataset.get_parameter_data()['meas_voltage_K2']['meas_voltage_K2']\n",
    "current = dataset.get_parameter_data()['meas_voltage_K1']['appl_current']\n",
    "\n",
    "dI = current[1] - current[0]\n",
    "dR1 = smooth_dir_1D(voltage1,N_points = 36)/dI\n",
    "# dR2 = smooth_dir_1D(voltage2,N_points = 8)/dI\n",
    "\n",
    "fig, ax = plt.subplots(figsize = [12,6],constrained_layout = False)\n",
    "# ax.plot(1e9*current, 1e3*voltage1)\n",
    "ax.set_xlabel('Current $\\mu A$')\n",
    "ax.set_ylabel('dV/dI $(\\Omega)$')\n",
    "secax = ax.secondary_xaxis('top', functions=(timesXY,inv_timesXY))\n",
    "secax.set_xlabel(r'I $\\times$ Rxy $(mV)$')\n",
    "ax.plot(1e6*current, dR1, color= 'black',linewidth = 1.5)\n",
    "\n",
    "plt.savefig(save_dir + '/plots/dVdI_large_range_({})_{}.png'.format(wafer_name + '_' + sample_name, HB),bbox_inches='tight')\n"
   ]
  },
  {
   "cell_type": "markdown",
   "metadata": {},
   "source": [
    "## dV/dI vs temperature (M06-18-19.1 33)"
   ]
  },
  {
   "cell_type": "code",
   "execution_count": null,
   "metadata": {},
   "outputs": [],
   "source": [
    "dataID = 383\n",
    "dataset = qc.load_by_id(dataID)\n",
    "voltage1 = dataset.get_parameter_data()['meas_voltage_K1']['meas_voltage_K1']\n",
    "voltage2 = dataset.get_parameter_data()['meas_voltage_K2']['meas_voltage_K2']\n",
    "# voltage_AC = dataset.get_parameter_data()['meas_voltage_Lockin1']['meas_voltage_Lockin1']\n",
    "current = dataset.get_parameter_data()['meas_voltage_K1']['appl_current']\n",
    "# TG = dataset.get_parameter_data()['meas_voltage_K1']['appl_TG_dac10']\n",
    "temp = dataset.get_parameter_data()['meas_voltage_K1']['lakeshore_C_temperature']\n",
    "TG =  dataset.snapshot['station']['parameters']['appl_TG']['value']\n",
    "\n",
    "\n",
    "# #anti clip\n",
    "# Nv = np.size(voltage1)\n",
    "# for i in range(0,Nv):\n",
    "#     if voltage1[i] >= 10e-3:\n",
    "#         voltage1[i] = np.sign(i - Nv)*10e-3\n",
    "#     if voltage2[i] >= 10e-3:\n",
    "#         voltage2[i] = np.sign(i - Nv)*10e-3\n",
    "\n",
    "\n",
    "# voltage1 = np.array(voltage1,dtype=np.float)\n",
    "# voltage2 = np.array(voltage2,dtype=np.float)\n",
    "\n",
    "\n",
    "xas = temp\n",
    "yas = current\n",
    "\n",
    "N_xas = np.size(np.unique(xas))\n",
    "N_yas = np.size(np.unique(yas))\n",
    "\n",
    "if np.size(voltage1) < N_xas * N_yas:\n",
    "    N_field = N_xas - 1\n",
    "    voltage1 = voltage1[0:N_xas * N_yas]\n",
    "    voltage2 = voltage2[0:N_xas * N_yas]    \n",
    "    current = current[0:N_xas * N_yas]\n",
    "    field = field[0:N_xas * N_yas]\n",
    "    \n",
    "\n",
    "voltage1 = voltage1.reshape(N_xas, N_yas)\n",
    "voltage2 = voltage2.reshape(N_xas, N_yas)\n",
    "xas = xas.reshape(N_xas, N_yas)\n",
    "yas = yas.reshape(N_xas, N_yas)\n",
    "\n",
    "temp = xas\n",
    "current = yas\n",
    "\n",
    "\n",
    "\n",
    "# current_AC = dataset.snapshot['station']['parameters']['appl_current_AC']['value']\n",
    "# current_AC = 1e-9\n",
    "# R_AC = voltage_AC/current_AC\n",
    "\n",
    "\n",
    "# np.savez('/plots/dVdI_vs_TG_{}_{}'.format(wafer_name + sample_name, JJ))\n"
   ]
  },
  {
   "cell_type": "code",
   "execution_count": null,
   "metadata": {},
   "outputs": [],
   "source": [
    "dI = current[0,1] - current[0,0]\n",
    "dR1 = smooth_dir(voltage1,N_points = 48)/dI\n",
    "dR2 = smooth_dir(voltage2,N_points = 48)/dI\n"
   ]
  },
  {
   "cell_type": "code",
   "execution_count": null,
   "metadata": {},
   "outputs": [],
   "source": [
    "fig, ax = plt.subplots()\n",
    "plt.tight_layout()\n",
    "cmap = plt.get_cmap('seismic')\n",
    "im = ax.pcolormesh(1e9 * current,temp,  gaussian_filter(dR1,sigma = 0.5), cmap = cmap, shading = 'nearest'\n",
    "                   , vmin=-10,vmax=10\n",
    "                  )\n",
    "cbar = fig.colorbar(im,ax=ax)\n",
    "# x1 = [514, -1.598]\n",
    "# x2 = [385, -1.599966]\n",
    "# # slope:\n",
    "# ax.plot([x1[0], x2[0]],[x1[1],x2[1]], linewidth = 2, color = 'black')\n",
    "# slope= (x1[1] - x2[1])/((x1[0] - x2[0])*1e-9)\n",
    "ax.set_ylim(0.260, 1)\n",
    "# ax.set_xlim(-10, 10)\n",
    "ax.set_xlabel(r'Current (nA)')\n",
    "ax.set_ylabel(r'$V_{SG}$ $(V)$')\n",
    "cbar.set_label(r'dV/dI ($\\Omega$)', rotation=90)\n",
    "# plt.title('slope = {:.2f} (kV/A)'.format(slope * 1e-3))\n",
    "# plt.title(wafer_name +  ' ' + sample_name + ' ' + HB)\n",
    "# plt.savefig(save_dir + '/plots/dV1dI_vs_Split_Gates_regular_({})_{}.png'.format(wafer_name + '_' + sample_name, HB),bbox_inches='tight')\n",
    "plt.show()\n",
    "\n",
    "\n",
    "fig, ax = plt.subplots()\n",
    "plt.tight_layout()\n",
    "cmap = plt.get_cmap('seismic')\n",
    "im = ax.pcolormesh(1e9 * current,temp,  gaussian_filter(dR2,sigma = 0.5), cmap = cmap, shading = 'nearest'\n",
    "#                    , vmin=-20,vmax=20\n",
    "                  )\n",
    "cbar = fig.colorbar(im,ax=ax)\n",
    "# x1 = [514, -1.598]\n",
    "# x2 = [385, -1.599966]\n",
    "# # slope:\n",
    "# ax.plot([x1[0], x2[0]],[x1[1],x2[1]], linewidth = 2, color = 'black')\n",
    "# slope= (x1[1] - x2[1])/((x1[0] - x2[0])*1e-9)\n",
    "# ax.set_ylim(-190, 190)\n",
    "# ax.set_xlim(-10, 10)\n",
    "ax.set_xlabel(r'Current (nA)')\n",
    "ax.set_ylabel(r'$V_{SG}$ $(V)$')\n",
    "cbar.set_label(r'dV/dI ($\\Omega$)', rotation=90)\n",
    "# plt.title('slope = {:.2f} (kV/A)'.format(slope * 1e-3))\n",
    "# plt.title(wafer_name +  ' ' + sample_name + ' ' + HB)\n",
    "# plt.savefig(save_dir + '/plots/dV1dI_vs_Split_Gates_regular_({})_{}.png'.format(wafer_name + '_' + sample_name, HB),bbox_inches='tight')\n",
    "plt.show()\n"
   ]
  },
  {
   "cell_type": "code",
   "execution_count": null,
   "metadata": {},
   "outputs": [],
   "source": [
    "curi = np.argmin(abs(current[1,:]*1e9 + 48))\n",
    "curi\n",
    "Rpeak = np.zeros(N_xas)\n",
    "valip = np.zeros(N_xas)\n",
    "rng = 100\n",
    "for i in range(0,N_xas):\n",
    "    valip[i] = curi - rng + np.argmax((dR1[i,curi-rng:curi+rng]))\n",
    "    \n",
    "for i in range(0,N_xas):\n",
    "#     Rpeak[i] = dR1[i,xp[i]]\n",
    "    Rpeak[i] = np.max((dR1[i,curi-rng:curi+rng]))\n",
    "#     xp[i] = np.argmax((dR1[i,curi-20:curi+20]))\n",
    "    \n",
    "\n",
    "fig, ax = plt.subplots(figsize = [12,6],constrained_layout = False)\n",
    "\n",
    "ax.scatter(np.transpose(temp[:,curi])*1e9,Rpeak,color = 'black')\n",
    "ax.set_xlabel('Temperature $(K)$',fontsize = 24)\n",
    "ax.set_ylabel('$R_{peak}$')\n",
    "ax.set"
   ]
  },
  {
   "cell_type": "code",
   "execution_count": null,
   "metadata": {},
   "outputs": [],
   "source": [
    "curi = np.argmin(abs(current[1,:]*1e9 - 23))\n",
    "curi\n",
    "Rval = np.zeros(N_xas)\n",
    "valiv = np.zeros(N_xas)\n",
    "rng = 100\n",
    "for i in range(0,N_xas):\n",
    "    valiv[i] = curi - rng + np.argmin((dR1[i,curi-rng:curi+rng]))\n",
    "    \n",
    "for i in range(0,N_xas):\n",
    "#     Rpeak[i] = dR1[i,xp[i]]\n",
    "    Rval[i] = np.min((dR1[i,curi-rng:curi+rng]))\n",
    "#     xp[i] = np.argmax((dR1[i,curi-20:curi+20]))\n",
    "    \n",
    "\n",
    "fig, ax = plt.subplots(figsize = [12,6],constrained_layout = False)\n",
    "\n",
    "ax.scatter(np.transpose(temp[:,curi])*1e9,Rval,color = 'black')\n",
    "ax.set_xlabel('Temperature $(K)$',fontsize = 24)\n",
    "ax.set_ylabel('$R_{peak}$')\n",
    "ax.set"
   ]
  },
  {
   "cell_type": "code",
   "execution_count": null,
   "metadata": {},
   "outputs": [],
   "source": [
    "fig, ax = plt.subplots(figsize = [12,6],constrained_layout = False)\n",
    "\n",
    "ax.scatter(np.transpose(temp[:,curi])*1e9,Rval/np.min(Rval),color = 'black')\n",
    "ax.scatter(np.transpose(temp[:,curi])*1e9,Rpeak/np.max(Rpeak),color = 'blue')\n",
    "ax.set_xlabel('Temperature $(K)$',fontsize = 20)\n",
    "ax.legend(['Positive peak','Negative peak'],fontsize = 20)\n",
    "ax.set_ylabel('$R_{peak}/R_{max_peak}$',fontsize = 20)\n",
    "\n",
    "plt.savefig(save_dir + '/plots/Temp_dependence2_peaks_({})_{}.png'.format(wafer_name + '_' + sample_name, HB),bbox_inches='tight')\n",
    "\n"
   ]
  },
  {
   "cell_type": "code",
   "execution_count": null,
   "metadata": {},
   "outputs": [],
   "source": [
    "curi = np.argmin(abs(current[1,:]*1e9 - 48))\n",
    "curi"
   ]
  },
  {
   "cell_type": "code",
   "execution_count": null,
   "metadata": {},
   "outputs": [],
   "source": [
    "np.shape(current)"
   ]
  },
  {
   "cell_type": "code",
   "execution_count": null,
   "metadata": {},
   "outputs": [],
   "source": [
    "vali = np.zeros(N_xas)\n",
    "rng = 20\n",
    "for i in range(0,N_xas):\n",
    "    vali[i] = curi - rng + np.argmax((dR1[i,curi-rng:curi+rng]))"
   ]
  },
  {
   "cell_type": "code",
   "execution_count": null,
   "metadata": {},
   "outputs": [],
   "source": [
    "np.shape(vali)\n",
    "# np.shape(temp[:,1])"
   ]
  },
  {
   "cell_type": "code",
   "execution_count": null,
   "metadata": {},
   "outputs": [],
   "source": [
    "fig, ax = plt.subplots(figsize=(4, 8))\n",
    "plt.tight_layout()\n",
    "cmap = plt.get_cmap('seismic')\n",
    "im = ax.pcolormesh(1e9 * current,temp,  gaussian_filter(dR1,sigma = 0.5), cmap = cmap, shading = 'nearest'\n",
    "                   , vmin=-10,vmax=10\n",
    "                  )\n",
    "for ii in range(0,N_xas):\n",
    "    iiiv = int(valiv[ii])\n",
    "    iiip= int(valip[ii])\n",
    "    ax.scatter(current[1,iiiv]*1e9,temp[ii,1], color = 'black', s = 20, marker = 'x')\n",
    "    ax.scatter(current[1,iiip]*1e9,temp[ii,1], color = 'black', s = 20,  marker = 'x')\n",
    "\n",
    "    \n",
    "cbar = fig.colorbar(im,ax=ax)\n",
    "# x1 = [514, -1.598]\n",
    "# x2 = [385, -1.599966]\n",
    "# # slope:\n",
    "# ax.plot([x1[0], x2[0]],[x1[1],x2[1]], linewidth = 2, color = 'black')\n",
    "# slope= (x1[1] - x2[1])/((x1[0] - x2[0])*1e-9)\n",
    "ax.set_ylim(0.260, 1)\n",
    "# ax.set_xlim(-10, 10)\n",
    "ax.set_xlabel(r'Current (nA)',fontsize = 20)\n",
    "ax.set_ylabel(r'$V_{SG}$ $(V)$',fontsize = 20)\n",
    "cbar.set_label(r'dV/dI ($\\Omega$)', rotation=90,fontsize = 20)\n",
    "# plt.title('slope = {:.2f} (kV/A)'.format(slope * 1e-3))\n",
    "# plt.title(wafer_name +  ' ' + sample_name + ' ' + HB)\n",
    "plt.savefig(save_dir + '/plots/Temp_dependence1_({})_{}.png'.format(wafer_name + '_' + sample_name, HB),bbox_inches='tight')\n",
    "plt.show()\n",
    "\n"
   ]
  },
  {
   "cell_type": "markdown",
   "metadata": {},
   "source": [
    "## Temp depencence (M07-10-19.1_3 23)"
   ]
  },
  {
   "cell_type": "code",
   "execution_count": null,
   "metadata": {},
   "outputs": [],
   "source": [
    "dataID = 106\n",
    "dataset = qc.load_by_id(dataID)\n",
    "voltage1 = dataset.get_parameter_data()['meas_voltage_K1']['meas_voltage_K1']\n",
    "voltage2 = dataset.get_parameter_data()['meas_voltage_K2']['meas_voltage_K2']\n",
    "# voltage_AC = dataset.get_parameter_data()['meas_voltage_Lockin1']['meas_voltage_Lockin1']\n",
    "current = dataset.get_parameter_data()['meas_voltage_K1']['appl_current']\n",
    "# TG = dataset.get_parameter_data()['meas_voltage_K1']['appl_TG_dac10']\n",
    "time = dataset.get_parameter_data()['meas_voltage_K1']['time']\n",
    "# TG =  dataset.snapshot['station']['parameters']['appl_TG']['value']\n",
    "\n",
    "\n",
    "# #anti clip\n",
    "# Nv = np.size(voltage1)\n",
    "# for i in range(0,Nv):\n",
    "#     if voltage1[i] >= 10e-3:\n",
    "#         voltage1[i] = np.sign(i - Nv)*10e-3\n",
    "#     if voltage2[i] >= 10e-3:\n",
    "#         voltage2[i] = np.sign(i - Nv)*10e-3\n",
    "\n",
    "\n",
    "# voltage1 = np.array(voltage1,dtype=np.float)\n",
    "# voltage2 = np.array(voltage2,dtype=np.float)\n",
    "\n",
    "\n",
    "xas = time\n",
    "yas = current\n",
    "\n",
    "N_xas = np.size(np.unique(xas))\n",
    "N_yas = np.size(np.unique(yas))\n",
    "\n",
    "if np.size(voltage1) < N_xas * N_yas:\n",
    "    N_field = N_xas - 1\n",
    "    voltage1 = voltage1[0:N_xas * N_yas]\n",
    "    voltage2 = voltage2[0:N_xas * N_yas]    \n",
    "    current = current[0:N_xas * N_yas]\n",
    "    field = field[0:N_xas * N_yas]\n",
    "    \n",
    "\n",
    "voltage1 = voltage1.reshape(N_xas, N_yas)\n",
    "voltage2 = voltage2.reshape(N_xas, N_yas)\n",
    "xas = xas.reshape(N_xas, N_yas)\n",
    "yas = yas.reshape(N_xas, N_yas)\n",
    "\n",
    "time = xas\n",
    "current = yas\n",
    "\n",
    "\n",
    "\n",
    "# current_AC = dataset.snapshot['station']['parameters']['appl_current_AC']['value']\n",
    "# current_AC = 1e-9\n",
    "# R_AC = voltage_AC/current_AC\n",
    "\n",
    "\n",
    "# np.savez('/plots/dVdI_vs_TG_{}_{}'.format(wafer_name + sample_name, JJ))\n"
   ]
  },
  {
   "cell_type": "code",
   "execution_count": null,
   "metadata": {},
   "outputs": [],
   "source": [
    "dI = current[0,1] - current[0,0]\n",
    "dR1 = smooth_dir(voltage1,N_points = 6)/dI\n",
    "dR2 = smooth_dir(voltage2,N_points = 6)/dI\n"
   ]
  },
  {
   "cell_type": "code",
   "execution_count": null,
   "metadata": {},
   "outputs": [],
   "source": [
    "temp = np.load(save_dir + '/temp.npy')"
   ]
  },
  {
   "cell_type": "code",
   "execution_count": null,
   "metadata": {},
   "outputs": [],
   "source": [
    "\n",
    "fig, ax = plt.subplots(figsize = (16,4))\n",
    "plt.tight_layout()\n",
    "cmap = plt.get_cmap('seismic')\n",
    "im = ax.pcolormesh(1e9 * current,temp, dR2, cmap = cmap, shading = 'nearest'\n",
    "                   , vmin=-40,vmax=40\n",
    "                  )\n",
    "cbar = fig.colorbar(im,ax=ax)\n",
    "# x1 = [514, -1.598]\n",
    "# # slope:\n",
    "# ax.plot([x1[0], x2[0]],[x1[1],x2[1]], linewidth = 2, color = 'black')\n",
    "# slope= (x1[1] - x2[1])/((x1[0] - x2[0])*1e-9)\n",
    "ax.set_ylim(24, 100)\n",
    "ax.set_xlim(-550, 809)\n",
    "ax.set_xlabel(r'Current (nA)',fontsize = 20)\n",
    "ax.set_ylabel(r'Temperature $(mK)$',fontsize = 20)\n",
    "cbar.set_label(r'dV/dI ($\\Omega$)', rotation=90,fontsize = 20)\n",
    "# plt.title('slope = {:.2f} (kV/A)'.format(slope * 1e-3))\n",
    "# plt.title(wafer_name +  ' ' + sample_name + ' ' + HB)\n",
    "plt.savefig(save_dir + '/plots/Temp_dependence_Ivan_zoom_({})_{}.png'.format(wafer_name + '_' + sample_name, HB),bbox_inches='tight')\n",
    "plt.show()\n"
   ]
  },
  {
   "cell_type": "code",
   "execution_count": null,
   "metadata": {},
   "outputs": [],
   "source": [
    "npi = [-537, -381, 295, 357, 585, 730]\n",
    "ppi = [-515, -358, -227, 330, 631, 777]"
   ]
  },
  {
   "cell_type": "code",
   "execution_count": null,
   "metadata": {},
   "outputs": [],
   "source": [
    "# np.shape(temp)\n",
    "current[1,curi]\n",
    "dR2[24,curi]"
   ]
  },
  {
   "cell_type": "code",
   "execution_count": null,
   "metadata": {},
   "outputs": [],
   "source": [
    "c = 0\n",
    "Rval = np.zeros([N_xas,np.size(npi)])\n",
    "valiv = np.zeros([N_xas,np.size(npi)])\n",
    "for ii in npi:\n",
    "    curi = np.argmin(abs(current[1,:]*1e9 - ii))\n",
    "#     print(curi)\n",
    "    rng = 5\n",
    "    for i in range(0,N_xas):\n",
    "        valiv[i,c] = curi - rng + np.argmin((dR2[i,curi-rng:curi+rng]))\n",
    "\n",
    "    for i in range(0,N_xas):\n",
    "    #     Rpeak[i] = dR1[i,xp[i]]\n",
    "        Rval[i,c] = np.min((dR2[i,curi-rng:curi+rng]))\n",
    "    #     xp[i] = np.argmax((dR1[i,curi-20:curi+20]))\n",
    "    c = c + 1\n",
    "\n",
    "\n",
    "fig, ax = plt.subplots(figsize = [12,6],constrained_layout = False)\n",
    "# ax.scatter(np.transpose(temp[:,curi]),Rval[:,3])\n",
    "for i in range(0,c-1):\n",
    "    ax.scatter(np.transpose(temp[:,curi]),Rval[:,i])\n",
    "ax.set_xlabel('Temperature $(K)$',fontsize = 24)\n",
    "ax.set_ylabel('$R_{peak}$')\n"
   ]
  },
  {
   "cell_type": "code",
   "execution_count": null,
   "metadata": {},
   "outputs": [],
   "source": [
    "c = 0\n",
    "Rpeak = np.zeros([N_xas,np.size(npi)])\n",
    "valip = np.zeros([N_xas,np.size(npi)])\n",
    "for ii in ppi:\n",
    "    curi = np.argmin(abs(current[1,:]*1e9 - ii))\n",
    "#     print(curi)\n",
    "    rng = 20\n",
    "    for i in range(0,N_xas):\n",
    "        valip[i,c] = curi - rng + np.argmax((dR2[i,curi-rng:curi+rng]))\n",
    "\n",
    "    for i in range(0,N_xas):\n",
    "    #     Rpeak[i] = dR1[i,xp[i]]\n",
    "        Rpeak[i,c] = np.max((dR2[i,curi-rng:curi+rng]))\n",
    "    #     xp[i] = np.argmax((dR1[i,curi-20:curi+20]))\n",
    "    c = c + 1\n",
    "\n",
    "\n",
    "fig, ax = plt.subplots(figsize = [12,6],constrained_layout = False)\n",
    "# ax.scatter(np.transpose(temp[:,curi]),Rval[:,3])\n",
    "for i in range(0,c-1):\n",
    "    ax.scatter(np.transpose(temp[:,curi]),Rpeak[:,i])\n",
    "ax.set_xlabel('Temperature $(K)$',fontsize = 24)\n",
    "ax.set_ylabel('$R_{peak}$')"
   ]
  },
  {
   "cell_type": "code",
   "execution_count": null,
   "metadata": {},
   "outputs": [],
   "source": [
    "Kb = 1.380e-23\n",
    "500 *Kb/electron_charge"
   ]
  },
  {
   "cell_type": "code",
   "execution_count": null,
   "metadata": {},
   "outputs": [],
   "source": [
    "def temp_to_eV(temp):\n",
    "    Eev = 1000*Kb*temp/electron_charge\n",
    "    return Eev\n",
    "def inv_temp_to_eV(E):\n",
    "    temp = 0.001*electron_charge*E/Kb\n",
    "    return temp\n"
   ]
  },
  {
   "cell_type": "code",
   "execution_count": null,
   "metadata": {},
   "outputs": [],
   "source": [
    "fig, ax = plt.subplots(figsize = [12,6],constrained_layout = False)\n",
    "# ax.scatter(np.transpose(temp[:,curi]),Rval[:,3])\n",
    "ax.set_xlabel('Temperature $(K)$',fontsize = 20)\n",
    "ax.set_ylabel('$R_{peak}$',fontsize = 20)\n",
    "secax = ax.secondary_xaxis('top', functions=(temp_to_eV,inv_temp_to_eV))\n",
    "secax.set_xlabel(r'$E_{thermal}$ $(meV)$',fontsize = 20)\n",
    "for i in range(0,c-1):\n",
    "    ax.scatter(np.transpose(temp[:,curi]),Rpeak[:,i], color = 'red')\n",
    "    ax.scatter(np.transpose(temp[:,curi]),Rval[:,i], color = 'blue')\n",
    "xx= np.linspace(34,600)\n",
    "yy= 13*np.exp(-(xx-34)/200)\n",
    "ax.plot(xx,yy)\n",
    "xx= np.linspace(34,600)\n",
    "yy= -21*np.exp(-(xx-34)/250)\n",
    "ax.plot(xx,yy)\n",
    "\n",
    "# plt.savefig(save_dir + '/plots/Temp_dependence_Ivan_peaks_({})_{}.png'.format(wafer_name + '_' + sample_name, HB),bbox_inches='tight')\n",
    "\n",
    "\n",
    "fig, ax = plt.subplots(figsize = [12,6],constrained_layout = False)\n",
    "# ax.scatter(np.transpose(temp[:,curi]),Rval[:,3])\n",
    "ax.set_xlabel('Temperature $(K)$',fontsize = 20)\n",
    "ax.set_ylabel('$R_{peak}$',fontsize = 20)\n",
    "\n",
    "secax = ax.secondary_xaxis('top', functions=(temp_to_eV,inv_temp_to_eV))\n",
    "secax.set_xlabel(r'$E_{thermal}$ $(meV)$',fontsize = 20)\n",
    "for i in range(0,c-1):\n",
    "    ax.scatter(np.transpose(temp[:,curi]),Rpeak[:,i], color = 'red')\n",
    "    ax.scatter(np.transpose(temp[:,curi]),-Rval[:,i]-2.5, color = 'blue')\n",
    "xx= np.linspace(34,500)\n",
    "yy= 15*np.exp(-(xx-34)/200)\n",
    "ax.plot(xx,yy)\n",
    "\n",
    "    \n",
    "\n",
    "\n",
    "fig, ax = plt.subplots(figsize = [12,6],constrained_layout = False)\n",
    "# ax.scatter(np.transpose(temp[:,curi]),Rval[:,3])\n",
    "for i in range(0,c-1):\n",
    "    ax.scatter(np.transpose(np.log(temp[:,curi])),Rpeak[:,i]/np.max(Rpeak[:,i]))\n",
    "    ax.scatter(np.transpose(np.log(temp[:,curi])),Rval[:,i]/np.min(Rval[:,i]))\n",
    "#     ax.scatter(np.transpose(temp[:,curi]),np.log(Rpeak[:,i]/np.max(Rpeak[:,i])), color = 'black')\n",
    "#     ax.scatter(np.transpose(temp[:,curi]),np.log(Rval[:,i]/np.min(Rval[:,i])), color = 'black')\n",
    "\n",
    "ax.set_xlabel('Temperature $(K)$',fontsize = 24)\n",
    "ax.set_ylabel('$R_{peak}$')"
   ]
  },
  {
   "cell_type": "code",
   "execution_count": null,
   "metadata": {},
   "outputs": [],
   "source": [
    "curi = np.argmin(abs(current[1,:]*1e9 - 632))\n",
    "curi\n",
    "Rpeak = np.zeros(N_xas)\n",
    "valip = np.zeros(N_xas)\n",
    "rng = 100\n",
    "for i in range(0,N_xas):\n",
    "    valip[i] = curi - rng + np.argmax((dR2[i,curi-rng:curi+rng]))\n",
    "    \n",
    "for i in range(0,N_xas):\n",
    "#     Rpeak[i] = dR1[i,xp[i]]\n",
    "    Rpeak[i] = np.max((dR2[i,curi-rng:curi+rng]))\n",
    "#     xp[i] = np.argmax((dR1[i,curi-20:curi+20]))\n",
    "    \n",
    "\n",
    "fig, ax = plt.subplots(figsize = [12,6],constrained_layout = False)\n",
    "\n",
    "ax.scatter(np.transpose(temp[:,curi])*1e9,Rpeak,color = 'black')\n",
    "ax.set_xlabel('Temperature $(K)$',fontsize = 24)\n",
    "ax.set_ylabel('$R_{peak}$')\n",
    "ax.set"
   ]
  },
  {
   "cell_type": "code",
   "execution_count": null,
   "metadata": {},
   "outputs": [],
   "source": []
  },
  {
   "cell_type": "code",
   "execution_count": null,
   "metadata": {},
   "outputs": [],
   "source": []
  },
  {
   "cell_type": "code",
   "execution_count": null,
   "metadata": {},
   "outputs": [],
   "source": []
  },
  {
   "cell_type": "code",
   "execution_count": null,
   "metadata": {},
   "outputs": [],
   "source": []
  },
  {
   "cell_type": "code",
   "execution_count": null,
   "metadata": {},
   "outputs": [],
   "source": []
  },
  {
   "cell_type": "code",
   "execution_count": null,
   "metadata": {},
   "outputs": [],
   "source": []
  },
  {
   "cell_type": "code",
   "execution_count": null,
   "metadata": {},
   "outputs": [],
   "source": [
    "n=11\n",
    "subset = np.linspace(1,0.29,n)\n",
    "subs_i = np.zeros_like(subset)\n",
    "for i in range(np.size(subset)):\n",
    "    subs_i[i] = np.argmin(abs(temp[:,1]- subset[i]))\n",
    "\n",
    "matplotlib.rcParams.update({'font.size': 16})\n",
    "matplotlib.rc('xtick', labelsize=20) \n",
    "matplotlib.rc('ytick', labelsize=20) \n",
    "colors = plt.cm.coolwarm_r(np.linspace(0,1,n))\n",
    "\n",
    "fig, ax = plt.subplots(figsize = [12,6],constrained_layout = False)\n",
    "ax.set_xlabel('Current $n A$',fontsize = 24)\n",
    "ax.set_ylabel('dV/dI $(\\Omega)$',fontsize = 24)\n",
    "# secax = ax.secondary_xaxis('top', functions=(timesXY,inv_timesXY))\n",
    "# secax.set_xlabel(r'I $\\times$ Rxy $(mV)$')\n",
    "# subs_i = [0,10,20]\n",
    "c = 0;\n",
    "leg = [\"\" for x in range(n)]\n",
    "for i in subs_i:\n",
    "    ii = int(i)\n",
    "    ax.plot(np.transpose(current[1,:])*1e9,np.transpose(dR1[ii,:]), linewidth = 1.5,color = colors[c])\n",
    "    leg[c] ='{:.3f}K'.format(temp[ii,1])\n",
    "    c = c + 1\n",
    "#     ax.plot(current[1,:]*1e9,dR1[1,:], linewidth = 1.5,color = colors[i])\n",
    "ax.set_xlim(-200,300)\n",
    "ax.set_ylim(-5,10)\n",
    "ax.legend(leg)\n",
    "plt.savefig(save_dir + '/plots/dVdI_temp_dependence_({})_{}.png'.format(wafer_name + '_' + sample_name, HB),bbox_inches='tight')\n"
   ]
  },
  {
   "cell_type": "code",
   "execution_count": null,
   "metadata": {},
   "outputs": [],
   "source": [
    "# quick peak analysis\n",
    "R = np.array([8.82, 6.92, 5.52, 4.52, 3.77, 2.18, 0.88, 0.6, 1, 0.13])/8.82\n",
    "T = np.array([1.041, 0.952, 0.862, 0.768, 0.675, 0.585, 0.502, 0.437, 0.355,0.290])\n",
    "T = np.flip(T)\n",
    "fig, ax = plt.subplots(figsize = [12,6],constrained_layout = False)\n",
    "ax.scatter(1/T,R)\n",
    "fit = np.polyfit(1/T,R,1)\n",
    "xf = np.array([0, 3.6])\n",
    "ax.plot(xf, fit[0]*xf+fit[1])"
   ]
  },
  {
   "cell_type": "code",
   "execution_count": null,
   "metadata": {},
   "outputs": [],
   "source": [
    "fit = np.polyfit(1/T,R,1)\n",
    "fit"
   ]
  },
  {
   "cell_type": "markdown",
   "metadata": {},
   "source": [
    "## dV/dI vs SG"
   ]
  },
  {
   "cell_type": "code",
   "execution_count": null,
   "metadata": {},
   "outputs": [],
   "source": [
    "dataID = 140\n",
    "dataset = qc.load_by_id(dataID)\n",
    "voltage1 = dataset.get_parameter_data()['meas_voltage_K1']['meas_voltage_K1']\n",
    "voltage2 = dataset.get_parameter_data()['meas_voltage_K2']['meas_voltage_K2']\n",
    "# voltage_AC = dataset.get_parameter_data()['meas_voltage_Lockin1']['meas_voltage_Lockin1']\n",
    "current = dataset.get_parameter_data()['meas_voltage_K1']['appl_current']\n",
    "# TG = dataset.get_parameter_data()['meas_voltage_K1']['appl_TG_dac10']\n",
    "SG = dataset.get_parameter_data()['meas_voltage_K1']['split_gate_R']\n",
    "TGS =  dataset.snapshot['station']['parameters']['top_gate']['value']\n",
    "\n",
    "\n",
    "#anti clip\n",
    "Nv = np.size(voltage1)\n",
    "for i in range(0,Nv):\n",
    "    if voltage1[i] >= 10e-3:\n",
    "        voltage1[i] = np.sign(i - Nv)*10e-3\n",
    "    if voltage2[i] >= 10e-3:\n",
    "        voltage2[i] = np.sign(i - Nv)*10e-3\n",
    "\n",
    "\n",
    "voltage1 = np.array(voltage1,dtype=np.float)\n",
    "voltage2 = np.array(voltage2,dtype=np.float)\n",
    "\n",
    "\n",
    "xas = SG\n",
    "yas = current\n",
    "\n",
    "N_xas = np.size(np.unique(xas))\n",
    "N_yas = np.size(np.unique(yas))\n",
    "\n",
    "if np.size(voltage1) < N_xas * N_yas:\n",
    "    N_field = N_xas - 1\n",
    "    voltage1 = voltage1[0:N_xas * N_yas]\n",
    "    voltage2 = voltage2[0:N_xas * N_yas]    \n",
    "    current = current[0:N_xas * N_yas]\n",
    "    field = field[0:N_xas * N_yas]\n",
    "    \n",
    "\n",
    "voltage1 = voltage1.reshape(N_xas, N_yas)\n",
    "voltage2 = voltage2.reshape(N_xas, N_yas)\n",
    "xas = xas.reshape(N_xas, N_yas)\n",
    "yas = yas.reshape(N_xas, N_yas)\n",
    "\n",
    "SG = xas\n",
    "current = yas\n",
    "\n",
    "# dI = current[0,1] - current[0,0]\n",
    "# dR1 = smooth_dir(voltage1,N_points = 8)/dI\n",
    "# dR2 = smooth_dir(voltage2,N_points = 8)/dI\n",
    "\n",
    "\n",
    "# current_AC = dataset.snapshot['station']['parameters']['appl_current_AC']['value']\n",
    "# current_AC = 1e-9\n",
    "# R_AC = voltage_AC/current_AC\n",
    "\n",
    "\n",
    "# np.savez('/plots/dVdI_vs_TG_{}_{}'.format(wafer_name + sample_name, JJ))\n"
   ]
  },
  {
   "cell_type": "code",
   "execution_count": null,
   "metadata": {},
   "outputs": [],
   "source": [
    "dI = current[0,1] - current[0,0]\n",
    "dR1 = -smooth_dir(voltage1,N_points = 24)/dI\n",
    "dR2 = smooth_dir(voltage2,N_points = 48)/dI"
   ]
  },
  {
   "cell_type": "code",
   "execution_count": null,
   "metadata": {},
   "outputs": [],
   "source": [
    "tg = 0\n",
    "i = np.argmin(abs(current[1,:] - tg))\n",
    "fig, ax = plt.subplots(figsize = [8,4],constrained_layout = False)\n",
    "ax.plot(SG[:,i], dR1[:,i],color = 'black')\n",
    "\n",
    "# plt.title(wafer_name +  ' ' + sample_name + ' ' + HB)\n",
    "ax.set_ylim([-20,20])\n",
    "ax.set_ylabel(r'dV/dI $(\\Omega)$',fontsize = 22)\n",
    "ax.set_xlabel(r'SG $(V)$',fontsize = 22)\n",
    "# secax = ax.secondary_xaxis('top', functions=(timesXY,inv_timesXY))\n",
    "# secax.set_xlabel(r'I $\\times$ Rxy $(mV)$',fontsize = 22)\n",
    "# ax.legend(['TG= {:.4f}'.format(TG[i,1])])\n",
    "# plt.title('$V_1$ ')\n",
    "# plt.savefig(save_dir + '/plots/Osc1_linecut({})_{}.png'.format(wafer_name + '_' + sample_name, HB),bbox_inches='tight')\n",
    "\n"
   ]
  },
  {
   "cell_type": "code",
   "execution_count": null,
   "metadata": {},
   "outputs": [],
   "source": [
    "fig, ax = plt.subplots()\n",
    "plt.tight_layout()\n",
    "cmap = plt.get_cmap('seismic')\n",
    "im = ax.pcolormesh(1e9 * current,SG,  gaussian_filter(dR1,sigma = 0.5), cmap = cmap, shading = 'nearest'\n",
    "                   , vmin=-20,vmax=20\n",
    "                  )\n",
    "cbar = fig.colorbar(im,ax=ax)\n",
    "# x1 = [514, -1.598]\n",
    "# x2 = [385, -1.599966]\n",
    "# # slope:\n",
    "# ax.plot([x1[0], x2[0]],[x1[1],x2[1]], linewidth = 2, color = 'black')\n",
    "# slope= (x1[1] - x2[1])/((x1[0] - x2[0])*1e-9)\n",
    "\n",
    "\n",
    "\n",
    "# ax.set_ylim(-190, 190)\n",
    "# ax.set_xlim(-10, 10)\n",
    "ax.set_xlabel(r'Current (nA)')\n",
    "ax.set_ylabel(r'$V_{SG}$ $(V)$')\n",
    "cbar.set_label(r'dV/dI ($\\Omega$)', rotation=90)\n",
    "# plt.title('slope = {:.2f} (kV/A)'.format(slope * 1e-3))\n",
    "# plt.title(wafer_name +  ' ' + sample_name + ' ' + HB)\n",
    "# plt.savefig(save_dir + '/plots/dV1dI_vs_Split_Gates_regular_({})_{}.png'.format(wafer_name + '_' + sample_name, HB),bbox_inches='tight')\n",
    "plt.show()\n",
    "\n",
    "fig, ax = plt.subplots()\n",
    "plt.tight_layout()\n",
    "cmap = plt.get_cmap('seismic')\n",
    "im = ax.pcolormesh(1e9 * current, SG, gaussian_filter(dR2,sigma = 0.5), cmap = cmap, shading = 'nearest'\n",
    "                   , vmin=-20,vmax=20\n",
    "                  )\n",
    "cbar = fig.colorbar(im,ax=ax)\n",
    "# ax.set_ylim(-190, 190)\n",
    "# ax.set_xlim(-10, 10)\n",
    "# x1 = [282, -1.5984]\n",
    "# x2 = [-267, -1.5998]\n",
    "# # slope:\n",
    "# ax.plot([x1[0], x2[0]],[x1[1],x2[1]], linewidth = 2, color = 'black')\n",
    "# slope= (x1[1] - x2[1])/((x1[0] - x2[0])*1e-9)\n",
    "\n",
    "ax.set_xlabel(r'Current (nA)')\n",
    "ax.set_ylabel(r'$V_{SG}$ $(V)$')\n",
    "# plt.title('slope = {:.2f} (kV/A)'.format(slope * 1e-3))\n",
    "cbar.set_label(r'dV/dI ($\\Omega$)', rotation=90)\n",
    "\n",
    "# cbar.set_label(r'dV/dI ($h/e^{2}$)', rotation=90)\n",
    "# plt.title(wafer_name +  ' ' + sample_name + ' ' + HB)\n",
    "# plt.savefig(save_dir + '/plots/dV2dI_vs_Split_Gates_regular_({})_{}.png'.format(wafer_name + '_' + sample_name, HB),bbox_inches='tight')\n",
    "plt.show()"
   ]
  },
  {
   "cell_type": "markdown",
   "metadata": {},
   "source": [
    "## dV/dI vs TG Osc Slope"
   ]
  },
  {
   "cell_type": "code",
   "execution_count": null,
   "metadata": {},
   "outputs": [],
   "source": [
    "# for samving images\n",
    "save_dir = 'M:/tnw/ns/qt/2D Topo/code/personal_scripts/Mark/'\n",
    "# load data\n",
    "files = []\n",
    "dirpath = 'M:\\\\tnw\\\\ns\\\\qt\\\\2D Topo\\\\samples\\\\InSbAs_epiAl\\\\M08-22-19.1_3\\\\22'\n",
    "sample_name = dirpath.split('\\\\')[-1]\n",
    "wafer_name = dirpath.split('\\\\')[-2]\n",
    "db_path = dirpath + '\\\\data'\n",
    "\n",
    "# r=root, d=directories, f = files\n",
    "for r, d, f in os.walk(db_path):\n",
    "    for file in f:\n",
    "        if '.db' in file:\n",
    "            files.append(os.path.join(r, file))\n",
    "\n",
    "for f in files:\n",
    "    print(f)"
   ]
  },
  {
   "cell_type": "code",
   "execution_count": null,
   "metadata": {},
   "outputs": [],
   "source": [
    "db_path = os.path.join(db_path, 'M08-22-19.1_3_22_2021-08-26_01.db')\n",
    "initialise_or_create_database_at(db_path)"
   ]
  },
  {
   "cell_type": "code",
   "execution_count": null,
   "metadata": {},
   "outputs": [],
   "source": [
    "dataID = 64\n",
    "dataset = qc.load_by_id(dataID)\n",
    "voltage1 = dataset.get_parameter_data()['meas_voltage_K1']['meas_voltage_K1']\n",
    "voltage2 = dataset.get_parameter_data()['meas_voltage_K2']['meas_voltage_K2']\n",
    "# voltage_AC = dataset.get_parameter_data()['meas_voltage_Lockin1']['meas_voltage_Lockin1']\n",
    "current = dataset.get_parameter_data()['meas_voltage_K1']['appl_current']\n",
    "TG = dataset.get_parameter_data()['meas_voltage_K1']['delta_top_gate']\n",
    "\n",
    "\n",
    "TG_start = dataset.snapshot['station']['parameters']['top_gate']['value']\n",
    "\n",
    "#anti clip\n",
    "Nv = np.size(voltage1)\n",
    "for i in range(0,Nv):\n",
    "    if voltage1[i] >= 10e-3:\n",
    "        voltage1[i] = np.sign(i - Nv)*10e-3\n",
    "    if voltage2[i] >= 10e-3:\n",
    "        voltage2[i] = np.sign(i - Nv)*10e-3\n",
    "\n",
    "\n",
    "voltage1 = np.array(voltage1,dtype=np.float)\n",
    "voltage2 = np.array(voltage2,dtype=np.float)\n",
    "\n",
    "\n",
    "xas = TG\n",
    "yas = current\n",
    "\n",
    "N_xas = np.size(np.unique(xas))\n",
    "N_yas = np.size(np.unique(yas))\n",
    "\n",
    "if np.size(voltage1) < N_xas * N_yas:\n",
    "    N_field = N_xas - 1\n",
    "    voltage1 = voltage1[0:N_xas * N_yas]\n",
    "    voltage2 = voltage2[0:N_xas * N_yas]    \n",
    "    current = current[0:N_xas * N_yas]\n",
    "    field = field[0:N_xas * N_yas]\n",
    "    \n",
    "\n",
    "voltage1 = voltage1.reshape(N_xas, N_yas)\n",
    "voltage2 = voltage2.reshape(N_xas, N_yas)\n",
    "xas = xas.reshape(N_xas, N_yas)\n",
    "yas = yas.reshape(N_xas, N_yas)\n",
    "\n",
    "TG = xas\n",
    "current = yas\n",
    "\n",
    "dI = current[0,1] - current[0,0]\n",
    "dR1 = smooth_dir(voltage1,N_points = 6)/dI\n",
    "dR2 = smooth_dir(voltage2,N_points = 6)/dI\n",
    "\n",
    "\n",
    "# current_AC = dataset.snapshot['station']['parameters']['appl_current_AC']['value']\n",
    "# current_AC = 1e-9\n",
    "# R_AC = voltage_AC/current_AC\n",
    "\n",
    "\n",
    "# np.savez('/plots/dVdI_vs_TG_{}_{}'.format(wafer_name + sample_name, JJ))\n"
   ]
  },
  {
   "cell_type": "code",
   "execution_count": null,
   "metadata": {},
   "outputs": [],
   "source": [
    "HB='HB2'"
   ]
  },
  {
   "cell_type": "code",
   "execution_count": null,
   "metadata": {},
   "outputs": [],
   "source": [
    "\n",
    "fig, ax = plt.subplots()\n",
    "\n",
    "cmap = plt.get_cmap('seismic')\n",
    "im = ax.pcolormesh(1e9 * current, TG_start + TG, dR1, cmap = cmap, shading = 'nearest'\n",
    "                   , vmin=-200\n",
    "                   ,vmax=200\n",
    "                  )\n",
    "cbar = fig.colorbar(im,ax=ax)\n",
    "# ax.set_ylim(-190, 190)\n",
    "# ax.set_xlim(-10, 10)\n",
    "ax.set_xlabel(r'Current (nA)')\n",
    "ax.set_ylabel(r'V gate (V)')\n",
    "cbar.set_label(r'dV/dI ($\\Omega$)', rotation=90)\n",
    "# plt.title(wafer_name +  ' ' + sample_name + ' ' + HB)\n",
    "\n",
    "\n",
    "\n",
    "#for exp 62\n",
    "# x1 = [261,-1.2003756]\n",
    "# x2 = [202.4, -1.2019034]\n",
    "# nu = 4\n",
    "\n",
    "#for exp 63\n",
    "# x1 = [-59.4,-1.150141]\n",
    "# x2 = [-324.2, -1.153879]\n",
    "# nu = 5\n",
    "\n",
    "# for exp 64\n",
    "x1 = [350.3, -1.013831]\n",
    "x2 = [176.2,-1.015430]\n",
    "nu = 6\n",
    "\n",
    "# secax = ax.secondary_xaxis('top', functions=(timesXY,inv_timesXY))\n",
    "# secax.set_xlabel(r'I $\\times$ Rxy $(mV)$')\n",
    "\n",
    "# ($\\\\nu = {}$)\n",
    "ax.plot([x1[0], x2[0]],[x1[1],x2[1]], linewidth = 3, color = 'black')\n",
    "slope= (x1[1] - x2[1])/((x1[0] - x2[0])*1e-9)\n",
    "\n",
    "plt.title('$V_1$ \\n slope = {:.0f} $(V/A)$'.format(slope))\n",
    "plt.savefig(save_dir + '/plots/slope/dV1dI_vs_TG_nu={}_({})_{}.png'.format(nu,wafer_name + '_' + sample_name, HB),bbox_inches='tight')\n",
    "\n",
    "plt.show()"
   ]
  },
  {
   "cell_type": "code",
   "execution_count": null,
   "metadata": {},
   "outputs": [],
   "source": [
    "slope"
   ]
  },
  {
   "cell_type": "code",
   "execution_count": null,
   "metadata": {},
   "outputs": [],
   "source": [
    "fig, ax = plt.subplots()\n",
    "\n",
    "cmap = plt.get_cmap('seismic')\n",
    "im = ax.pcolormesh(1e9 * current,TG_start +  TG, dR2, cmap = cmap, shading = 'nearest'\n",
    "                   , vmin=-100,vmax=100\n",
    "                  )\n",
    "cbar = fig.colorbar(im,ax=ax)\n",
    "# ax.set_ylim(-190, 190)\n",
    "# ax.set_xlim(-10, 10)\n",
    "ax.set_xlabel(r'Current (nA)')\n",
    "ax.set_ylabel(r'V gate (V)')\n",
    "cbar.set_label(r'dV/dI ($\\Omega$)', rotation=90)\n",
    "# plt.title(wafer_name +  ' ' + sample_name + ' ' + HB)\n",
    "\n",
    "\n",
    "\n",
    "# #for exp 62\n",
    "# x1 = [180.3, -1.200155]\n",
    "# x2 = [115.4, -1.2018672]\n",
    "# nu = 4\n",
    "\n",
    "#for exp 63\n",
    "# x1 = [327.4,-1.150119]\n",
    "# x2 = [183.3,-1.152250]\n",
    "# nu = 5\n",
    "\n",
    "# #for exp 64\n",
    "x1 = [323.7, -1.013425]\n",
    "x2 = [152, -1.015161]\n",
    "nu = 6\n",
    "# secax = ax.secondary_xaxis('top', functions=(timesXY,inv_timesXY))\n",
    "# secax.set_xlabel(r'I $\\times$ Rxy $(mV)$')\n",
    "\n",
    "\n",
    "ax.plot([x1[0], x2[0]],[x1[1],x2[1]], linewidth = 3, color = 'black')\n",
    "slope= (x1[1] - x2[1])/((x1[0] - x2[0])*1e-9)\n",
    "# ($\\\\nu = {}$)\n",
    "plt.title('$V_2$ \\n slope = {:.0f} $(V/A)$'.format(slope))\n",
    "plt.savefig(save_dir + '/plots/slope/dV2dI_vs_TG_nu={}_({})_{}.png'.format(nu,wafer_name + '_' + sample_name, HB),bbox_inches='tight')\n",
    "plt.show()"
   ]
  },
  {
   "cell_type": "code",
   "execution_count": null,
   "metadata": {},
   "outputs": [],
   "source": []
  }
 ],
 "metadata": {
  "kernelspec": {
   "display_name": "Python 3",
   "language": "python",
   "name": "python3"
  },
  "language_info": {
   "codemirror_mode": {
    "name": "ipython",
    "version": 3
   },
   "file_extension": ".py",
   "mimetype": "text/x-python",
   "name": "python",
   "nbconvert_exporter": "python",
   "pygments_lexer": "ipython3",
   "version": "3.7.9"
  },
  "toc": {
   "base_numbering": 1,
   "nav_menu": {},
   "number_sections": true,
   "sideBar": true,
   "skip_h1_title": false,
   "title_cell": "Table of Contents",
   "title_sidebar": "Contents",
   "toc_cell": false,
   "toc_position": {
    "height": "calc(100% - 180px)",
    "left": "10px",
    "top": "150px",
    "width": "307.188px"
   },
   "toc_section_display": true,
   "toc_window_display": true
  }
 },
 "nbformat": 4,
 "nbformat_minor": 2
}
