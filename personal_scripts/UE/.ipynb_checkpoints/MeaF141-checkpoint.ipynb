{
 "cells": [
  {
   "cell_type": "markdown",
   "id": "256e0f19",
   "metadata": {},
   "source": [
    "# Initialization"
   ]
  },
  {
   "cell_type": "markdown",
   "id": "9d160fe4",
   "metadata": {},
   "source": [
    "###### Inport modules"
   ]
  },
  {
   "cell_type": "code",
   "execution_count": 1,
   "id": "87cd7482",
   "metadata": {},
   "outputs": [],
   "source": [
    "%matplotlib inline\n",
    "import os, sys\n",
    "import matplotlib.pyplot as plt\n",
    "import numpy as np\n",
    "from pprint import pprint\n",
    "from tqdm.notebook import tqdm\n",
    "\n",
    "from time import sleep, monotonic, time\n",
    "\n",
    "\n",
    "import qcodes as qc\n",
    "from qcodes import Parameter\n",
    "\n",
    "from qcodes.dataset.plotting import plot_dataset, plot_by_id\n",
    "from qcodes.utils.metadata import diff_param_values\n",
    "from qcodes.instrument.specialized_parameters import ElapsedTimeParameter\n",
    "from qcodes.dataset.measurements import Measurement\n",
    "\n",
    "# sys.path.append('M:\\\\tnw\\\\ns\\\\qt\\\\2D Topo\\\\code\\\\qcodes')\n",
    "sys.path.append('C:\\\\qcodes')\n",
    "from sweeps import do1d, do2d, time_sweep, measure_until, do1d_until\n",
    "\n",
    "import warnings\n",
    "warnings.filterwarnings('ignore')"
   ]
  },
  {
   "cell_type": "code",
   "execution_count": 2,
   "id": "5c62f513",
   "metadata": {},
   "outputs": [
    {
     "name": "stderr",
     "output_type": "stream",
     "text": [
      "[keithley_24(Keithley2400)] Snapshot: Could not update parameter: volt\n",
      "[keithley_24(Keithley2400)] Snapshot: Could not update parameter: curr\n"
     ]
    },
    {
     "name": "stdout",
     "output_type": "stream",
     "text": [
      "Connected to: KEITHLEY INSTRUMENTS DMM6500 (serial:04518052, firmware:1.7.7b) in 0.12s\n",
      "Connected to: KEITHLEY INSTRUMENTS INC. 2440 (serial:1225508, firmware:C30   Mar 17 2006 09:29:29/A02  /B/A) in 0.03s\n"
     ]
    },
    {
     "name": "stderr",
     "output_type": "stream",
     "text": [
      "[keithley_24(Keithley2400)] Snapshot: Could not update parameter: resistance\n"
     ]
    },
    {
     "ename": "VisaIOError",
     "evalue": "VI_ERROR_NLISTENERS (-1073807265): No listeners condition is detected (both NRFD and NDAC are deasserted).",
     "output_type": "error",
     "traceback": [
      "\u001b[1;31m---------------------------------------------------------------------------\u001b[0m",
      "\u001b[1;31mVisaIOError\u001b[0m                               Traceback (most recent call last)",
      "File \u001b[1;32mC:\\qcodes\\init_fridge.py:33\u001b[0m\n\u001b[0;32m     29\u001b[0m     exec(\u001b[38;5;28mopen\u001b[39m(\u001b[38;5;124m'\u001b[39m\u001b[38;5;124m../../../../../code/fridge_specific/init_CF1400.py\u001b[39m\u001b[38;5;124m'\u001b[39m)\u001b[38;5;241m.\u001b[39mread())\n\u001b[0;32m     30\u001b[0m \u001b[38;5;28;01melif\u001b[39;00m fridge_name \u001b[38;5;241m==\u001b[39m \u001b[38;5;124m'\u001b[39m\u001b[38;5;124mBF1\u001b[39m\u001b[38;5;124m'\u001b[39m:\n\u001b[0;32m     31\u001b[0m \u001b[38;5;66;03m#     exec(open('../fridge_specific/init_BF1.py').read())\u001b[39;00m\n\u001b[1;32m---> 33\u001b[0m     \u001b[43mexec\u001b[49m\u001b[43m(\u001b[49m\u001b[38;5;28;43mopen\u001b[39;49m\u001b[43m(\u001b[49m\u001b[38;5;124;43m'\u001b[39;49m\u001b[38;5;124;43mC:\u001b[39;49m\u001b[38;5;130;43;01m\\\\\u001b[39;49;00m\u001b[38;5;124;43mqcodes\u001b[39;49m\u001b[38;5;130;43;01m\\\\\u001b[39;49;00m\u001b[38;5;124;43mfridge_specific\u001b[39;49m\u001b[38;5;130;43;01m\\\\\u001b[39;49;00m\u001b[38;5;124;43minit_BF1.py\u001b[39;49m\u001b[38;5;124;43m'\u001b[39;49m\u001b[43m)\u001b[49m\u001b[38;5;241;43m.\u001b[39;49m\u001b[43mread\u001b[49m\u001b[43m(\u001b[49m\u001b[43m)\u001b[49m\u001b[43m)\u001b[49m  \n\u001b[0;32m     35\u001b[0m \u001b[38;5;28;01melse\u001b[39;00m:\n\u001b[0;32m     36\u001b[0m     \u001b[38;5;28mprint\u001b[39m(\u001b[38;5;124m'\u001b[39m\u001b[38;5;124mWrong fridge name!\u001b[39m\u001b[38;5;124m'\u001b[39m)\n",
      "File \u001b[1;32m<string>:26\u001b[0m\n",
      "File \u001b[1;32m~\\anaconda3\\envs\\qcodes\\Lib\\site-packages\\qcodes\\instrument\\instrument_meta.py:36\u001b[0m, in \u001b[0;36mInstrumentMeta.__call__\u001b[1;34m(cls, *args, **kwargs)\u001b[0m\n\u001b[0;32m     31\u001b[0m \u001b[38;5;28;01mdef\u001b[39;00m \u001b[38;5;21m__call__\u001b[39m(\u001b[38;5;28mcls\u001b[39m, \u001b[38;5;241m*\u001b[39margs: Any, \u001b[38;5;241m*\u001b[39m\u001b[38;5;241m*\u001b[39mkwargs: Any) \u001b[38;5;241m-\u001b[39m\u001b[38;5;241m>\u001b[39m Any:\n\u001b[0;32m     32\u001b[0m \u001b[38;5;250m    \u001b[39m\u001b[38;5;124;03m\"\"\"\u001b[39;00m\n\u001b[0;32m     33\u001b[0m \u001b[38;5;124;03m    Overloads `type.__call__` to add code that runs only if __init__ completes\u001b[39;00m\n\u001b[0;32m     34\u001b[0m \u001b[38;5;124;03m    successfully.\u001b[39;00m\n\u001b[0;32m     35\u001b[0m \u001b[38;5;124;03m    \"\"\"\u001b[39;00m\n\u001b[1;32m---> 36\u001b[0m     new_inst \u001b[38;5;241m=\u001b[39m \u001b[38;5;28;43msuper\u001b[39;49m\u001b[43m(\u001b[49m\u001b[43m)\u001b[49m\u001b[38;5;241;43m.\u001b[39;49m\u001b[38;5;21;43m__call__\u001b[39;49m\u001b[43m(\u001b[49m\u001b[38;5;241;43m*\u001b[39;49m\u001b[43margs\u001b[49m\u001b[43m,\u001b[49m\u001b[43m \u001b[49m\u001b[38;5;241;43m*\u001b[39;49m\u001b[38;5;241;43m*\u001b[39;49m\u001b[43mkwargs\u001b[49m\u001b[43m)\u001b[49m\n\u001b[0;32m     37\u001b[0m     is_abstract \u001b[38;5;241m=\u001b[39m new_inst\u001b[38;5;241m.\u001b[39m_is_abstract()\n\u001b[0;32m     38\u001b[0m     \u001b[38;5;28;01mif\u001b[39;00m is_abstract:\n",
      "File \u001b[1;32m~\\anaconda3\\envs\\qcodes\\Lib\\site-packages\\qcodes\\instrument_drivers\\Keithley\\Keithley_2400.py:14\u001b[0m, in \u001b[0;36mKeithley2400.__init__\u001b[1;34m(self, name, address, **kwargs)\u001b[0m\n\u001b[0;32m     13\u001b[0m \u001b[38;5;28;01mdef\u001b[39;00m \u001b[38;5;21m__init__\u001b[39m(\u001b[38;5;28mself\u001b[39m, name: \u001b[38;5;28mstr\u001b[39m, address: \u001b[38;5;28mstr\u001b[39m, \u001b[38;5;241m*\u001b[39m\u001b[38;5;241m*\u001b[39mkwargs: Any):\n\u001b[1;32m---> 14\u001b[0m     \u001b[38;5;28;43msuper\u001b[39;49m\u001b[43m(\u001b[49m\u001b[43m)\u001b[49m\u001b[38;5;241;43m.\u001b[39;49m\u001b[38;5;21;43m__init__\u001b[39;49m\u001b[43m(\u001b[49m\u001b[43mname\u001b[49m\u001b[43m,\u001b[49m\u001b[43m \u001b[49m\u001b[43maddress\u001b[49m\u001b[43m,\u001b[49m\u001b[43m \u001b[49m\u001b[43mterminator\u001b[49m\u001b[38;5;241;43m=\u001b[39;49m\u001b[38;5;124;43m\"\u001b[39;49m\u001b[38;5;130;43;01m\\n\u001b[39;49;00m\u001b[38;5;124;43m\"\u001b[39;49m\u001b[43m,\u001b[49m\u001b[43m \u001b[49m\u001b[38;5;241;43m*\u001b[39;49m\u001b[38;5;241;43m*\u001b[39;49m\u001b[43mkwargs\u001b[49m\u001b[43m)\u001b[49m\n\u001b[0;32m     16\u001b[0m     \u001b[38;5;28mself\u001b[39m\u001b[38;5;241m.\u001b[39madd_parameter(\n\u001b[0;32m     17\u001b[0m         \u001b[38;5;124m\"\u001b[39m\u001b[38;5;124mrangev\u001b[39m\u001b[38;5;124m\"\u001b[39m,\n\u001b[0;32m     18\u001b[0m         get_cmd\u001b[38;5;241m=\u001b[39m\u001b[38;5;124m\"\u001b[39m\u001b[38;5;124mSENS:VOLT:RANG?\u001b[39m\u001b[38;5;124m\"\u001b[39m,\n\u001b[1;32m   (...)\u001b[0m\n\u001b[0;32m     21\u001b[0m         label\u001b[38;5;241m=\u001b[39m\u001b[38;5;124m\"\u001b[39m\u001b[38;5;124mVoltage range\u001b[39m\u001b[38;5;124m\"\u001b[39m,\n\u001b[0;32m     22\u001b[0m     )\n\u001b[0;32m     24\u001b[0m     \u001b[38;5;28mself\u001b[39m\u001b[38;5;241m.\u001b[39madd_parameter(\n\u001b[0;32m     25\u001b[0m         \u001b[38;5;124m\"\u001b[39m\u001b[38;5;124mrangei\u001b[39m\u001b[38;5;124m\"\u001b[39m,\n\u001b[0;32m     26\u001b[0m         get_cmd\u001b[38;5;241m=\u001b[39m\u001b[38;5;124m\"\u001b[39m\u001b[38;5;124mSENS:CURR:RANG?\u001b[39m\u001b[38;5;124m\"\u001b[39m,\n\u001b[1;32m   (...)\u001b[0m\n\u001b[0;32m     29\u001b[0m         label\u001b[38;5;241m=\u001b[39m\u001b[38;5;124m\"\u001b[39m\u001b[38;5;124mCurrent range\u001b[39m\u001b[38;5;124m\"\u001b[39m,\n\u001b[0;32m     30\u001b[0m     )\n",
      "File \u001b[1;32m~\\anaconda3\\envs\\qcodes\\Lib\\site-packages\\qcodes\\instrument\\visa.py:124\u001b[0m, in \u001b[0;36mVisaInstrument.__init__\u001b[1;34m(self, name, address, timeout, terminator, device_clear, visalib, pyvisa_sim_file, **kwargs)\u001b[0m\n\u001b[0;32m    121\u001b[0m \u001b[38;5;28mself\u001b[39m\u001b[38;5;241m.\u001b[39m_address \u001b[38;5;241m=\u001b[39m address\n\u001b[0;32m    123\u001b[0m \u001b[38;5;28;01mif\u001b[39;00m device_clear:\n\u001b[1;32m--> 124\u001b[0m     \u001b[38;5;28;43mself\u001b[39;49m\u001b[38;5;241;43m.\u001b[39;49m\u001b[43mdevice_clear\u001b[49m\u001b[43m(\u001b[49m\u001b[43m)\u001b[49m\n\u001b[0;32m    126\u001b[0m \u001b[38;5;28mself\u001b[39m\u001b[38;5;241m.\u001b[39mset_terminator(terminator)\n\u001b[0;32m    127\u001b[0m \u001b[38;5;28mself\u001b[39m\u001b[38;5;241m.\u001b[39mtimeout\u001b[38;5;241m.\u001b[39mset(timeout)\n",
      "File \u001b[1;32m~\\anaconda3\\envs\\qcodes\\Lib\\site-packages\\qcodes\\instrument\\visa.py:202\u001b[0m, in \u001b[0;36mVisaInstrument.device_clear\u001b[1;34m(self)\u001b[0m\n\u001b[0;32m    200\u001b[0m     \u001b[38;5;28mself\u001b[39m\u001b[38;5;241m.\u001b[39mvisa_handle\u001b[38;5;241m.\u001b[39mflush(flush_operation)\n\u001b[0;32m    201\u001b[0m \u001b[38;5;28;01melse\u001b[39;00m:\n\u001b[1;32m--> 202\u001b[0m     \u001b[38;5;28;43mself\u001b[39;49m\u001b[38;5;241;43m.\u001b[39;49m\u001b[43mvisa_handle\u001b[49m\u001b[38;5;241;43m.\u001b[39;49m\u001b[43mclear\u001b[49m\u001b[43m(\u001b[49m\u001b[43m)\u001b[49m\n",
      "File \u001b[1;32m~\\anaconda3\\envs\\qcodes\\Lib\\site-packages\\pyvisa\\resources\\resource.py:382\u001b[0m, in \u001b[0;36mResource.clear\u001b[1;34m(self)\u001b[0m\n\u001b[0;32m    380\u001b[0m \u001b[38;5;28;01mdef\u001b[39;00m \u001b[38;5;21mclear\u001b[39m(\u001b[38;5;28mself\u001b[39m) \u001b[38;5;241m-\u001b[39m\u001b[38;5;241m>\u001b[39m \u001b[38;5;28;01mNone\u001b[39;00m:\n\u001b[0;32m    381\u001b[0m \u001b[38;5;250m    \u001b[39m\u001b[38;5;124;03m\"\"\"Clear this resource.\"\"\"\u001b[39;00m\n\u001b[1;32m--> 382\u001b[0m     \u001b[38;5;28;43mself\u001b[39;49m\u001b[38;5;241;43m.\u001b[39;49m\u001b[43mvisalib\u001b[49m\u001b[38;5;241;43m.\u001b[39;49m\u001b[43mclear\u001b[49m\u001b[43m(\u001b[49m\u001b[38;5;28;43mself\u001b[39;49m\u001b[38;5;241;43m.\u001b[39;49m\u001b[43msession\u001b[49m\u001b[43m)\u001b[49m\n",
      "File \u001b[1;32m~\\anaconda3\\envs\\qcodes\\Lib\\site-packages\\pyvisa\\ctwrapper\\functions.py:616\u001b[0m, in \u001b[0;36mclear\u001b[1;34m(library, session)\u001b[0m\n\u001b[0;32m    598\u001b[0m \u001b[38;5;28;01mdef\u001b[39;00m \u001b[38;5;21mclear\u001b[39m(library, session):\n\u001b[0;32m    599\u001b[0m \u001b[38;5;250m    \u001b[39m\u001b[38;5;124;03m\"\"\"Clears a device.\u001b[39;00m\n\u001b[0;32m    600\u001b[0m \n\u001b[0;32m    601\u001b[0m \u001b[38;5;124;03m    Corresponds to viClear function of the VISA library.\u001b[39;00m\n\u001b[1;32m   (...)\u001b[0m\n\u001b[0;32m    614\u001b[0m \n\u001b[0;32m    615\u001b[0m \u001b[38;5;124;03m    \"\"\"\u001b[39;00m\n\u001b[1;32m--> 616\u001b[0m     \u001b[38;5;28;01mreturn\u001b[39;00m \u001b[43mlibrary\u001b[49m\u001b[38;5;241;43m.\u001b[39;49m\u001b[43mviClear\u001b[49m\u001b[43m(\u001b[49m\u001b[43msession\u001b[49m\u001b[43m)\u001b[49m\n",
      "File \u001b[1;32m~\\anaconda3\\envs\\qcodes\\Lib\\site-packages\\pyvisa\\ctwrapper\\highlevel.py:226\u001b[0m, in \u001b[0;36mIVIVisaLibrary._return_handler\u001b[1;34m(self, ret_value, func, arguments)\u001b[0m\n\u001b[0;32m    223\u001b[0m         \u001b[38;5;66;03m# Set session back to a safe value\u001b[39;00m\n\u001b[0;32m    224\u001b[0m         session \u001b[38;5;241m=\u001b[39m \u001b[38;5;28;01mNone\u001b[39;00m\n\u001b[1;32m--> 226\u001b[0m \u001b[38;5;28;01mreturn\u001b[39;00m \u001b[38;5;28;43mself\u001b[39;49m\u001b[38;5;241;43m.\u001b[39;49m\u001b[43mhandle_return_value\u001b[49m\u001b[43m(\u001b[49m\u001b[43msession\u001b[49m\u001b[43m,\u001b[49m\u001b[43m \u001b[49m\u001b[43mret_value\u001b[49m\u001b[43m)\u001b[49m\n",
      "File \u001b[1;32m~\\anaconda3\\envs\\qcodes\\Lib\\site-packages\\pyvisa\\highlevel.py:251\u001b[0m, in \u001b[0;36mVisaLibraryBase.handle_return_value\u001b[1;34m(self, session, status_code)\u001b[0m\n\u001b[0;32m    248\u001b[0m     \u001b[38;5;28mself\u001b[39m\u001b[38;5;241m.\u001b[39m_last_status_in_session[session] \u001b[38;5;241m=\u001b[39m rv\n\u001b[0;32m    250\u001b[0m \u001b[38;5;28;01mif\u001b[39;00m rv \u001b[38;5;241m<\u001b[39m \u001b[38;5;241m0\u001b[39m:\n\u001b[1;32m--> 251\u001b[0m     \u001b[38;5;28;01mraise\u001b[39;00m errors\u001b[38;5;241m.\u001b[39mVisaIOError(rv)\n\u001b[0;32m    253\u001b[0m \u001b[38;5;28;01mif\u001b[39;00m rv \u001b[38;5;129;01min\u001b[39;00m \u001b[38;5;28mself\u001b[39m\u001b[38;5;241m.\u001b[39missue_warning_on:\n\u001b[0;32m    254\u001b[0m     \u001b[38;5;28;01mif\u001b[39;00m session \u001b[38;5;129;01mand\u001b[39;00m rv \u001b[38;5;129;01mnot\u001b[39;00m \u001b[38;5;129;01min\u001b[39;00m \u001b[38;5;28mself\u001b[39m\u001b[38;5;241m.\u001b[39m_ignore_warning_in_session[session]:\n",
      "\u001b[1;31mVisaIOError\u001b[0m: VI_ERROR_NLISTENERS (-1073807265): No listeners condition is detected (both NRFD and NDAC are deasserted)."
     ]
    }
   ],
   "source": [
    "fridge_name = 'BF1'\n",
    "# %run ..\\..\\..\\..\\..\\code\\qcodes\\init_fridge.py {fridge_name}\n",
    "# %run ..\\..\\init_fridge.py {fridge_name}\n",
    "%run C:\\\\qcodes\\\\init_fridge.py {fridge_name}"
   ]
  },
  {
   "cell_type": "code",
   "execution_count": null,
   "id": "c9e134aa",
   "metadata": {},
   "outputs": [],
   "source": [
    "snapshot_of_station = station.snapshot()\n",
    "pprint(snapshot_of_station)"
   ]
  },
  {
   "cell_type": "markdown",
   "id": "9e1db472",
   "metadata": {},
   "source": [
    "##  DAC range(K213)"
   ]
  },
  {
   "cell_type": "code",
   "execution_count": null,
   "id": "cee9db4c",
   "metadata": {},
   "outputs": [],
   "source": [
    "keithley_1.averaging_enabled(False)"
   ]
  },
  {
   "cell_type": "code",
   "execution_count": null,
   "id": "eb813da1",
   "metadata": {},
   "outputs": [],
   "source": [
    "magnet_y.current_limit()"
   ]
  },
  {
   "cell_type": "code",
   "execution_count": null,
   "id": "0c30f03c",
   "metadata": {},
   "outputs": [],
   "source": [
    "K213.voltage1(0)\n",
    "K213.voltage2(0)\n",
    "K213.voltage3(0)\n",
    "K213.voltage4(0)\n",
    "#you can choose the DAC range by setting to a specific value\n",
    "K213.vrange1(3) #0(0V), 1(1V), 2(5V), 3(10V)\n",
    "K213.vrange2(3) #0(0V), 1(1V), 2(5V), 3(10V)\n",
    "K213.vrange3(3) #0(0V), 1(1V), 2(5V), 3(10V)\n",
    "K213.vrange4(3) #0(0V), 1(1V), 2(5V), 3(10V)"
   ]
  },
  {
   "cell_type": "code",
   "execution_count": null,
   "id": "9022993f",
   "metadata": {},
   "outputs": [],
   "source": [
    "K213.voltage1(1e-3)"
   ]
  },
  {
   "cell_type": "markdown",
   "id": "4757b159",
   "metadata": {},
   "source": [
    "## DAC Kei 2440"
   ]
  },
  {
   "cell_type": "markdown",
   "id": "797b994c",
   "metadata": {},
   "source": [
    "### sensitive check"
   ]
  },
  {
   "cell_type": "code",
   "execution_count": null,
   "id": "f387f69b",
   "metadata": {},
   "outputs": [],
   "source": [
    "keithley_24.mode()"
   ]
  },
  {
   "cell_type": "code",
   "execution_count": null,
   "id": "09a8a36e",
   "metadata": {},
   "outputs": [],
   "source": [
    "keithley_24.output(1) # output on\n",
    "keithley_24.rangev(2)\n",
    "keithley_24.volt(0)\n",
    "keithley_24.compliancei(100e-3)\n",
    "# keithley_24.output(0) #output off\n",
    "sleep(1)\n",
    "v_read=keithley1.amplitude()\n",
    "print(v_read)"
   ]
  },
  {
   "cell_type": "code",
   "execution_count": null,
   "id": "fa57130c",
   "metadata": {},
   "outputs": [],
   "source": [
    "keithley_24.volt(0)\n",
    "keithley_24.output(0) #output off"
   ]
  },
  {
   "cell_type": "code",
   "execution_count": null,
   "id": "9efee8f3",
   "metadata": {},
   "outputs": [],
   "source": [
    "keithley_24.rangev(2)\n",
    "keithley_24.rangev()"
   ]
  },
  {
   "cell_type": "code",
   "execution_count": null,
   "id": "8b25a389",
   "metadata": {},
   "outputs": [],
   "source": [
    "keithley_24.rangev()"
   ]
  },
  {
   "cell_type": "markdown",
   "id": "105706bc",
   "metadata": {},
   "source": [
    "## TG 2400"
   ]
  },
  {
   "cell_type": "code",
   "execution_count": null,
   "id": "cdc19f1b",
   "metadata": {},
   "outputs": [],
   "source": [
    "keithley_19.output(1) # output on\n",
    "keithley_19.rangev(22)\n",
    "keithley_19.volt(0)\n",
    "keithley_19.compliancei(100e-3)\n",
    "# keithley_24.output(0) #output off\n",
    "sleep(1)\n",
    "v_read=keithley1.amplitude()\n",
    "print(v_read)"
   ]
  },
  {
   "cell_type": "code",
   "execution_count": null,
   "id": "e971a620",
   "metadata": {},
   "outputs": [],
   "source": [
    "keithley_19.volt(1)\n",
    "keithley_19.output(0) #output off"
   ]
  },
  {
   "cell_type": "code",
   "execution_count": null,
   "id": "e284050c",
   "metadata": {},
   "outputs": [],
   "source": [
    "keithley_19.rangev(22)\n",
    "keithley_19.rangev()"
   ]
  },
  {
   "cell_type": "markdown",
   "id": "c676ccb5",
   "metadata": {},
   "source": [
    "##  Database initialisation"
   ]
  },
  {
   "cell_type": "code",
   "execution_count": null,
   "id": "7b665bc4",
   "metadata": {},
   "outputs": [],
   "source": [
    "reuse = True\n",
    "%run ..\\..\\init_database.py {reuse}"
   ]
  },
  {
   "cell_type": "markdown",
   "id": "6a8a2beb",
   "metadata": {},
   "source": [
    "\n",
    "# Scaled parameters"
   ]
  },
  {
   "cell_type": "code",
   "execution_count": null,
   "id": "e3b44b31",
   "metadata": {},
   "outputs": [],
   "source": [
    "from qcodes import ManualParameter, ScaledParameter"
   ]
  },
  {
   "cell_type": "markdown",
   "id": "ea4ff57a",
   "metadata": {},
   "source": [
    "## Defining scaled parameters"
   ]
  },
  {
   "cell_type": "code",
   "execution_count": null,
   "id": "c8ca5b97",
   "metadata": {},
   "outputs": [],
   "source": [
    "Irange = Parameter('Irange', label='current range', unit='', set_cmd=None, get_cmd=None)\n",
    "Vrange = Parameter('Vrange', label='voltage range', unit='', set_cmd=None, get_cmd=None)\n",
    "TGrange = Parameter('TGrange', label='Top gate range', unit='', set_cmd=None, get_cmd=None)\n",
    "\n",
    "#division paraemtrs required for simplier update: they used as an argument for scaled paraemtrs of sorce instruments\n",
    "\n",
    "# Irange_division = Parameter('Irange_division', \n",
    "#                             label='scaled current range', unit='', \n",
    "#                             set_cmd=None, get_cmd=lambda : 100 / Irange())\n",
    "\n",
    "Irange_division = Parameter('Irange_division', \n",
    "                            label='scaled current range', unit='', \n",
    "                            set_cmd=None, get_cmd=lambda : 1 / Irange())\n",
    "\n",
    "Vrange_division = Parameter('Vrange_division', \n",
    "                            label='scaled voltage range', unit='', \n",
    "                            set_cmd=None, get_cmd=lambda : 100 / Vrange())\n",
    "\n",
    "TGrange_division = Parameter('TGrange_division', \n",
    "                             label='scaled Top gate range', unit='', \n",
    "                             set_cmd=None, get_cmd=lambda : 1 / TGrange())\n",
    "\n",
    "Irange_AC_division = Parameter('Irange_AC_division', \n",
    "                               label='scaled current range for lockin', unit='', \n",
    "                               set_cmd=None, get_cmd=lambda : 1000 / Irange())\n",
    "\n",
    "Vrange_AC_division = Parameter('Vrange_AC_division', \n",
    "                               label='scaled voltage range for lockin', unit='', \n",
    "                               set_cmd=None, get_cmd=lambda : 1000 / Vrange())\n",
    "\n",
    "Gain_K1 = Parameter('Gain_K1', label='Gain K1', unit='', set_cmd=None, get_cmd=None)\n",
    "Gain_K2 = Parameter('Gain_K2', label='Gain K2', unit='', set_cmd=None, get_cmd=None)\n",
    "Gain_L1 = Parameter('Gain_L1', label='Gain L1', unit='', set_cmd=None, get_cmd=None)\n",
    "Gain_L2 = Parameter('Gain_L2', label='Gain L2', unit='', set_cmd=None, get_cmd=None)\n",
    "\n",
    "#Add components\n",
    "station.add_component(Irange)\n",
    "station.add_component(Vrange)\n",
    "station.add_component(TGrange)\n",
    "\n",
    "station.add_component(Irange_division)\n",
    "station.add_component(Vrange_division)\n",
    "station.add_component(TGrange_division)\n",
    "\n",
    "station.add_component(Irange_AC_division)\n",
    "station.add_component(Vrange_AC_division)\n",
    "                             \n",
    "station.add_component(Gain_K1)\n",
    "station.add_component(Gain_K2)\n",
    "station.add_component(Gain_L1)\n",
    "station.add_component(Gain_L2)"
   ]
  },
  {
   "cell_type": "markdown",
   "id": "6d7ecebe",
   "metadata": {},
   "source": [
    "## Parameters - update here during measuerements"
   ]
  },
  {
   "cell_type": "code",
   "execution_count": null,
   "id": "b0b09fcc",
   "metadata": {},
   "outputs": [],
   "source": [
    "Irange.set(1e-6)\n",
    "Vrange.set(2) ## need to be sync with K213 range\n",
    "TGrange.set(1)\n",
    "Gain_K1.set(100)\n",
    "Gain_K2.set(100)\n",
    "# Gain_K3.set(1e2)\n",
    "Gain_L1.set(Gain_K1())\n",
    "Gain_L2.set(Gain_K2())\n",
    "#division parameters are updated automatically"
   ]
  },
  {
   "cell_type": "markdown",
   "id": "cbe7bfa7",
   "metadata": {},
   "source": [
    "## DC parameters"
   ]
  },
  {
   "cell_type": "code",
   "execution_count": null,
   "id": "6a8c7deb",
   "metadata": {},
   "outputs": [],
   "source": [
    "# appl_current = ScaledParameter(ivvi.dac1, division = Irange_division, name = 'appl_current', unit = 'A')\n",
    "appl_current = ScaledParameter(keithley_24.volt, division = Irange_division, name = 'appl_current', unit = 'A')\n",
    "# for K213\n",
    "# appl_current = ScaledParameter(K213.voltage1, division = Irange_division, name = 'appl_current', unit = 'A')\n",
    "# appl_voltage = ScaledParameter(K213.voltage2, division = Vrange_division, name = 'appl_voltage', unit = 'V')\n",
    "appl_TG = ScaledParameter(keithley_19.volt, division = TGrange_division, name = 'appl_TG', unit = 'V')\n",
    "\n",
    "# meas_voltage_K1 = ScaledParameter(keithley_1.amplitude, division = Gain_K1, name = 'meas_voltage_K1', unit = 'V')\n",
    "meas_voltage_K2 = ScaledParameter(keithley1.amplitude, division = Gain_K2, name = 'meas_voltage_K2', unit = 'V')\n",
    "\n",
    "#meas_leakage = ScaledParameter(keithley_2.amplitude, division = Gain_K2, name = 'meas_leakage', unit = 'A')\n",
    "\n",
    "# meas_current_K1 = ScaledParameter(keithley_1.amplitude, division = Gain_K1, name = 'meas_current_K1', unit = 'A')\n",
    "meas_current_K2 = ScaledParameter(keithley1.amplitude, division = Gain_K2, name = 'meas_current_K2', unit = 'A')\n",
    "\n",
    "station.add_component(appl_current)\n",
    "# station.add_component(appl_voltage)\n",
    "station.add_component(appl_TG)\n",
    "#station.add_component(meas_voltage_K1)\n",
    "station.add_component(meas_voltage_K2)\n",
    "#station.add_component(meas_leakage)\n",
    "# station.add_component(meas_current_K1)\n",
    "station.add_component(meas_current_K2)"
   ]
  },
  {
   "cell_type": "code",
   "execution_count": null,
   "id": "3851dc82",
   "metadata": {},
   "outputs": [],
   "source": [
    "keithley_24.output(0)\n",
    "appl_current(0)\n",
    "sleep(1)\n",
    "# meas_voltage_K2()"
   ]
  },
  {
   "cell_type": "markdown",
   "id": "a23afd58",
   "metadata": {},
   "source": [
    "##  AC parameters"
   ]
  },
  {
   "cell_type": "code",
   "execution_count": null,
   "id": "769f6a51",
   "metadata": {},
   "outputs": [],
   "source": [
    "appl_current_AC = ScaledParameter(lockin_1.amplitude, division = Irange_AC_division, name = 'appl_current_AC', unit = 'A')\n",
    "appl_voltage_AC = ScaledParameter(lockin_1.amplitude, division = Vrange_AC_division, name = 'appl_voltage_AC', unit = 'V')\n",
    "\n",
    "station.add_component(appl_current_AC)\n",
    "station.add_component(appl_voltage_AC)\n",
    "\n",
    "meas_voltage_AC_L1 = ScaledParameter(lockin_1.X, division = Gain_L1, name = 'meas_voltage_Lockin1', unit = 'V')\n",
    "meas_current_AC_L1 = ScaledParameter(lockin_1.X, division = Gain_L1, name = 'meas_current_Lockin1', unit = 'A')\n",
    "meas_phase_AC_L1 = ScaledParameter(lockin_1.P, division = 1, name = 'meas_phase_Lockin1', unit = 'degree')\n",
    "\n",
    "\n",
    "# meas_voltage_AC_L2 = ScaledParameter(lockin_2.X, division = Gain_L2, name = 'meas_voltage_Lockin2', unit = 'V')\n",
    "# meas_current_AC_L2 = ScaledParameter(lockin_2.X, division = Gain_L2, name = 'meas_current_Lockin2', unit = 'A')\n",
    "# meas_phase_AC_L2 = ScaledParameter(lockin_2.P, division = 1, name = 'meas_phase_Lockin1', unit = 'degree')\n",
    "\n",
    "station.add_component(meas_voltage_AC_L1)\n",
    "station.add_component(meas_current_AC_L1)\n",
    "station.add_component(meas_phase_AC_L1)\n",
    "\n",
    "# station.add_component(meas_voltage_AC_L2)\n",
    "# station.add_component(meas_current_AC_L2)\n",
    "\n",
    "meas_voltage_AC_L1_R = ScaledParameter(lockin_1.R, division = Gain_L1, name = 'meas_voltage_R_Lockin1', unit = 'V')\n",
    "# meas_voltage_AC_L2_R = ScaledParameter(lockin_2.R, division = Gain_L2, name = 'meas_voltage_R_Lockin2', unit = 'V')\n",
    "\n",
    "station.add_component(meas_voltage_AC_L1_R)\n",
    "# station.add_component(meas_voltage_AC_L2_R)"
   ]
  },
  {
   "cell_type": "code",
   "execution_count": null,
   "id": "bcd10ed7",
   "metadata": {},
   "outputs": [],
   "source": [
    "meas_voltage_AC_L1_P = ScaledParameter(lockin_1.P, division = 1, name = 'meas_voltage_Lockin1_P', unit = 'degree')\n",
    "meas_current_AC_L1_P = ScaledParameter(lockin_1.P, division = 1, name = 'meas_current_Lockin1_P', unit = 'degree')\n",
    "\n",
    "# meas_voltage_AC_L2_P = ScaledParameter(lockin_2.P, division = 1, name = 'meas_voltage_Lockin2_P', unit = 'degree')\n",
    "# meas_current_AC_L2_P = ScaledParameter(lockin_2.P, division = 1, name = 'meas_current_Lockin2_P', unit = 'degree')\n",
    "\n",
    "station.add_component(meas_voltage_AC_L1_P)\n",
    "station.add_component(meas_current_AC_L1_P)\n",
    "\n",
    "# station.add_component(meas_voltage_AC_L2_P)\n",
    "# station.add_component(meas_current_AC_L2_P)"
   ]
  },
  {
   "cell_type": "markdown",
   "id": "8d9d6239",
   "metadata": {},
   "source": [
    "## Another useful example: magnet using dac (Janis)"
   ]
  },
  {
   "cell_type": "markdown",
   "id": "92e1f309",
   "metadata": {},
   "source": [
    ">2231.2 G per A => 0.22312 T per A<br>\n",
    "I source 10mA per V => 1e-5 A per 1mV<br>\n",
    "result: 0.22312 T/A * 1e-5 A/mV"
   ]
  },
  {
   "cell_type": "code",
   "execution_count": null,
   "id": "6b2b657a",
   "metadata": {},
   "outputs": [],
   "source": [
    "def get_R_from_IV(dataid):\n",
    "    dataset = qc.load_by_id(dataid)\n",
    "\n",
    "    voltage = dataset.get_parameter_data()['meas_voltage_K2']['meas_voltage_K2']\n",
    "    current = dataset.get_parameter_data()['meas_voltage_K2']['appl_current']\n",
    "    fit_values = np.polyfit(current,voltage,1)\n",
    "    \n",
    "    return fit_values[0]\n",
    "\n",
    "def get_R_from_IV_2(dataid):\n",
    "    dataset = qc.load_by_id(dataid)\n",
    "\n",
    "    voltage = dataset.get_parameter_data()['meas_voltage_K2']['meas_voltage_K2']\n",
    "    current = dataset.get_parameter_data()['meas_voltage_K2']['appl_current']\n",
    "    fit_values = np.polyfit(current,voltage,1)\n",
    "    \n",
    "    return fit_values[0]"
   ]
  },
  {
   "cell_type": "markdown",
   "id": "885e5c90",
   "metadata": {},
   "source": [
    "# Simple IVs"
   ]
  },
  {
   "cell_type": "markdown",
   "id": "cdb6884c",
   "metadata": {},
   "source": [
    "## IV"
   ]
  },
  {
   "cell_type": "code",
   "execution_count": null,
   "id": "526687d1",
   "metadata": {},
   "outputs": [],
   "source": [
    "#magnet_y.field()"
   ]
  },
  {
   "cell_type": "code",
   "execution_count": null,
   "id": "8666f593",
   "metadata": {},
   "outputs": [],
   "source": [
    "keithley_24.output(1)\n",
    "appl_current(-1e-6)\n",
    "sleep(5)\n",
    "# station.snapshot(update=True);\n",
    "exp = qc.new_experiment('I vs V', sample_name='IV_29_30_39_38')\n",
    "#d_o1d(param_set, start, stop, num_points, delay, *param_meas)\n",
    "\n",
    "dataid = do1d(appl_current,-1e-6 ,1e-6, 101, 0.05, meas_voltage_K2)\n",
    "# dataid = do1d(appl_current, 6e-6 , -6e-6, 251, 0.01, meas_voltage_K1)\n",
    "# ivvi.set_dacs_zero()\n",
    "\n",
    "appl_current(0)\n",
    "plot_by_id(dataid)\n",
    "# print(get_R_from_IV(dataid))\n",
    "#print(get_R_from_IV_2(dataid))\n",
    "\n",
    "\n",
    "keithley_24.output(0)\n",
    "print(get_R_from_IV_2(dataid))"
   ]
  },
  {
   "cell_type": "code",
   "execution_count": null,
   "id": "4ce7045d",
   "metadata": {},
   "outputs": [],
   "source": [
    "keithley_24.output(1)\n",
    "appl_current(0.0e-6)\n",
    "keithley_24.output(0)\n",
    "#appl_current(0e-6)"
   ]
  },
  {
   "cell_type": "code",
   "execution_count": null,
   "id": "9f4da299",
   "metadata": {},
   "outputs": [],
   "source": [
    "runid=8\n",
    "print(get_R_from_IV_2(runid))"
   ]
  },
  {
   "cell_type": "markdown",
   "id": "3196b90e",
   "metadata": {},
   "source": [
    "## 加TG (1D)"
   ]
  },
  {
   "cell_type": "code",
   "execution_count": null,
   "id": "08a5e298",
   "metadata": {},
   "outputs": [],
   "source": [
    "keithley_19.output(1)\n",
    "appl_TG(0)"
   ]
  },
  {
   "cell_type": "code",
   "execution_count": null,
   "id": "a6f95af5",
   "metadata": {},
   "outputs": [],
   "source": [
    "keithley_19.output(1)\n",
    "keithley_24.output(1)\n",
    "appl_TG(40)\n",
    "sleep(3)\n",
    "appl_current(-1e-6)\n",
    "sleep(1)\n",
    "\n",
    "# station.snapshot(update=True);\n",
    "exp = qc.new_experiment('IV', sample_name='40_IV_26_14_29_30_TG_32')\n",
    "\n",
    "#do1d(param_set, start, stop, num_points, delay, *param_meas)\n",
    "dataid = do1d(appl_current, -1e-6 ,1e-6, 101, 0.05, meas_voltage_K2)\n",
    "# dataid = do1d(appl_current, 6e-6 , -6e-6, 251, 0.01, meas_voltage_K1)\n",
    "# ivvi.set_dacs_zero()\n",
    "\n",
    "keithley_19.output(0)\n",
    "keithley_24.output(0)\n",
    "appl_current(0)\n",
    "plot_by_id(dataid)\n",
    "#print(get_R_from_IV(dataid))\n",
    "# print(get_R_from_IV_2(dataid))\n"
   ]
  },
  {
   "cell_type": "markdown",
   "id": "05b0d19b",
   "metadata": {},
   "source": [
    "## 歸零\n"
   ]
  },
  {
   "cell_type": "code",
   "execution_count": null,
   "id": "d8154670",
   "metadata": {},
   "outputs": [],
   "source": [
    "#keithley_19.output(1)\n",
    "keithley_24.output(1)\n",
    "\n",
    "appl_current(0)\n",
    "sleep(1)\n",
    "#appl_TG(0)\n",
    "sleep(5)\n",
    "\n",
    "#keithley_19.output(0)\n",
    "keithley_24.output(0)"
   ]
  },
  {
   "cell_type": "markdown",
   "id": "91795bf5",
   "metadata": {},
   "source": [
    "# Magnetic field"
   ]
  },
  {
   "cell_type": "markdown",
   "id": "c1b88abd",
   "metadata": {},
   "source": [
    "## IV vs Bx"
   ]
  },
  {
   "cell_type": "code",
   "execution_count": null,
   "id": "77c31bf1",
   "metadata": {},
   "outputs": [],
   "source": [
    "keithley_24.rangev()"
   ]
  },
  {
   "cell_type": "code",
   "execution_count": null,
   "id": "ea5d8a7d",
   "metadata": {},
   "outputs": [],
   "source": [
    "keithley_24.volt(0)\n",
    "keithley_24.output(1) #output off\n",
    "sleep(1)\n",
    "appl_current(1.5e-6)\n",
    "sleep(2)\n",
    "meas_voltage_K2()"
   ]
  },
  {
   "cell_type": "code",
   "execution_count": null,
   "id": "a7146905",
   "metadata": {
    "scrolled": true
   },
   "outputs": [],
   "source": [
    "keithley_24.output(1)\n",
    "sleep(2)\n",
    "magnet_x.field(-5e-3)\n",
    "appl_current(-0.8e-6)\n",
    "sleep(5)\n",
    "\n",
    "# station.snapshot(update=True);\n",
    "\n",
    "exp = qc.new_experiment('IV vs Bx', sample_name='IV_Bx_-5to-30mT')\n",
    "\n",
    "dataid = do2d(magnet_x.field, -5e-3, -30e-3, 4001, 1, appl_current, -0.8e-6 ,1e-6, 101, 0.01, meas_voltage_K2)\n",
    "\n",
    "appl_current(0)\n",
    "# magnet_x.field(0)\n",
    "\n",
    "plot_by_id(dataid)\n",
    "\n",
    "keithley_24.output(0)\n",
    "#keithley_24.output(0)\n",
    "#appl_current(0e-6)"
   ]
  },
  {
   "cell_type": "code",
   "execution_count": null,
   "id": "fef193a7",
   "metadata": {},
   "outputs": [],
   "source": [
    "magnet_x.field(-20e-3)\n",
    "sleep(5)\n",
    "\n",
    "magnet_x.field(-17.24e-3)\n",
    "sleep(5)"
   ]
  },
  {
   "cell_type": "markdown",
   "id": "6a6f3c0d",
   "metadata": {},
   "source": [
    "## IV vs By"
   ]
  },
  {
   "cell_type": "code",
   "execution_count": null,
   "id": "3bb422e0",
   "metadata": {
    "scrolled": true
   },
   "outputs": [],
   "source": [
    "keithley_24.output(1)\n",
    "sleep(2)\n",
    "magnet_y.field(3e-3)\n",
    "sleep(3)\n",
    "appl_current(-2e-7)\n",
    "sleep(5)\n",
    "\n",
    "# station.snapshot(update=True);\n",
    "\n",
    "exp = qc.new_experiment('IV vs By', sample_name='IV_By_3mT')\n",
    "\n",
    "dataid = do2d(magnet_y.field, 3e-3, 1e-3, 200 , 1, appl_current, -2e-7 ,2e-7, 101, 0.01, meas_voltage_K2)\n",
    "\n",
    "appl_current(0)\n",
    "keithley_24.output(0)\n",
    "# magnet_y.field(0)\n",
    "\n",
    "plot_by_id(dataid)"
   ]
  },
  {
   "cell_type": "code",
   "execution_count": null,
   "id": "3e408864",
   "metadata": {},
   "outputs": [],
   "source": [
    "magnet_y.field(-1e-3)\n",
    "sleep(5)\n",
    "magnet_y.field(-80e-6)\n",
    "sleep(5)"
   ]
  },
  {
   "cell_type": "markdown",
   "id": "02c81568",
   "metadata": {},
   "source": [
    "## IV w/ Bx"
   ]
  },
  {
   "cell_type": "code",
   "execution_count": null,
   "id": "b5229271",
   "metadata": {},
   "outputs": [],
   "source": [
    "keithley_24.output(1)\n",
    "sleep(2)\n",
    "magnet_x.field(0.23e-3)\n",
    "appl_current(-0.5e-6)\n",
    "sleep(10)\n",
    "\n",
    "# station.snapshot(update=True);\n",
    "exp = qc.new_experiment('I vs V', sample_name='IV_w/_Bx')\n",
    "\n",
    "#do1d(param_set, start, stop, num_points, delay, *param_meas)\n",
    "dataid = do1d(appl_current, -0.5e-6 ,0.5e-6, 101, 0.05, meas_voltage_K2)\n",
    "# dataid = do1d(appl_current, 6e-6 , -6e-6, 251, 0.01, meas_voltage_K1)\n",
    "# ivvi.set_dacs_zero()\n",
    "\n",
    "appl_current(0)\n",
    "plot_by_id(dataid)\n",
    "# print(get_R_from_IV(dataid))\n",
    "#print(get_R_from_IV_2(dataid))\n",
    "\n",
    "keithley_24.output(0)"
   ]
  },
  {
   "cell_type": "markdown",
   "id": "27ac85cd",
   "metadata": {},
   "source": [
    "## IV w/ By"
   ]
  },
  {
   "cell_type": "code",
   "execution_count": null,
   "id": "b7c3a84d",
   "metadata": {},
   "outputs": [],
   "source": [
    "keithley_24.output(1)\n",
    "sleep(2)\n",
    "magnet_y.field(2e-3)\n",
    "appl_current(-1.5e-5)\n",
    "sleep(60)\n",
    "\n",
    "# station.snapshot(update=True);\n",
    "exp = qc.new_experiment('I vs V', sample_name='IV_w/_By')\n",
    "\n",
    "#do1d(param_set, start, stop, num_points, delay, *param_meas)\n",
    "dataid = do1d(appl_current, -2.5e-6 ,2.5e-6, 501, 0.05, meas_voltage_K2)\n",
    "# dataid = do1d(appl_current, 6e-6 , -6e-6, 251, 0.01, meas_voltage_K1)\n",
    "# ivvi.set_dacs_zero()\n",
    "\n",
    "appl_current(0)\n",
    "plot_by_id(dataid)\n",
    "# print(get_R_from_IV(dataid))\n",
    "#print(get_R_from_IV_2(dataid))\n",
    "\n",
    "keithley_24.output(0)"
   ]
  },
  {
   "cell_type": "markdown",
   "id": "d0274abc",
   "metadata": {},
   "source": [
    "# Zero everything"
   ]
  },
  {
   "cell_type": "code",
   "execution_count": null,
   "id": "a0cc99f2",
   "metadata": {},
   "outputs": [],
   "source": [
    "appl_current(0)\n",
    "appl_TG(0)\n",
    "#magnet_y.field(0)\n",
    "sleep(2)\n",
    "#magnet_x.field(0)\n",
    "#sleep(2)\n",
    "#appl_voltage_AC(0.004)\n",
    "#SGS.off()\n",
    "keithley_24.output(0)"
   ]
  },
  {
   "cell_type": "markdown",
   "id": "6610bce1",
   "metadata": {},
   "source": [
    "# Gate simple sweeps"
   ]
  },
  {
   "cell_type": "code",
   "execution_count": null,
   "id": "94cd2c0e",
   "metadata": {},
   "outputs": [],
   "source": [
    "keithley_19.output(1)\n",
    "keithley_24.output(1)\n",
    "appl_TG(-80)\n",
    "sleep(3)\n",
    "appl_current(1e-6)\n",
    "sleep(1)\n",
    "\n",
    "# station.snapshot(update=True);\n",
    "exp = qc.new_experiment('I vs Vg', sample_name='IVg_29_30_39_38_TG32')\n",
    "#d_o1d(param_set, start, stop, num_points, delay, *param_meas)\n",
    "\n",
    "dataid = do1d(appl_TG,-80,80, 201, 0.2, meas_voltage_K2)\n",
    "# dataid = do1d(appl_current, 6e-6 , -6e-6, 251, 0.01, meas_voltage_K1)\n",
    "# ivvi.set_dacs_zero()\n",
    "\n",
    "keithley_19.output(0)\n",
    "keithley_24.output(0)\n",
    "appl_current(0)\n",
    "plot_by_id(dataid)\n",
    "keithley_24.output(0)\n",
    "#print(get_R_from_IV_2(dataid))"
   ]
  },
  {
   "cell_type": "markdown",
   "id": "bf064d51",
   "metadata": {},
   "source": []
  },
  {
   "cell_type": "markdown",
   "id": "c010fbad",
   "metadata": {},
   "source": [
    "## 加TG (2D)"
   ]
  },
  {
   "cell_type": "code",
   "execution_count": null,
   "id": "6d7e9bf6",
   "metadata": {},
   "outputs": [],
   "source": [
    "appl_current(0)\n",
    "sleep(1)\n",
    "appl_TG(0)\n",
    "sleep(5)"
   ]
  },
  {
   "cell_type": "code",
   "execution_count": null,
   "id": "be01663b",
   "metadata": {},
   "outputs": [],
   "source": [
    "magnet_x.field(-0.044e-3)\n",
    "sleep(10)\n",
    "magnet_y.field(-6.016e-3)\n",
    "sleep(10)"
   ]
  },
  {
   "cell_type": "code",
   "execution_count": null,
   "id": "5397630e",
   "metadata": {},
   "outputs": [],
   "source": [
    "keithley_19.output(1)\n",
    "keithley_24.output(1)\n",
    "appl_TG(-10)\n",
    "sleep(5)\n",
    "appl_current(-1e-6)\n",
    "sleep(1)\n",
    "\n",
    "exp = qc.new_experiment('I_vs_Vgate_up', sample_name='-10to50_IV_26_14_29_30_TG_32')\n",
    "dataid = do2d(appl_TG, -10, 50, 101, 0.5, appl_current, -1e-6, 1e-6, 101, 0.1, meas_voltage_K2)\n",
    "\n",
    "appl_TG(0)\n",
    "sleep(5)\n",
    "appl_current(0e-7)\n",
    "sleep(5)\n",
    "\n",
    "keithley_19.output(0)\n",
    "keithley_24.output(0)\n",
    "\n",
    "plot_by_id(dataid)"
   ]
  },
  {
   "cell_type": "markdown",
   "id": "5375fb6f",
   "metadata": {},
   "source": [
    "# RF"
   ]
  },
  {
   "cell_type": "markdown",
   "id": "596beaf8",
   "metadata": {},
   "source": [
    "## I vs RF_f"
   ]
  },
  {
   "cell_type": "markdown",
   "id": "a6df9a13",
   "metadata": {},
   "source": [
    "### sensitive check"
   ]
  },
  {
   "cell_type": "code",
   "execution_count": null,
   "id": "017ed644",
   "metadata": {},
   "outputs": [],
   "source": [
    "SGS.power()\n"
   ]
  },
  {
   "cell_type": "code",
   "execution_count": null,
   "id": "e0b8db4e",
   "metadata": {},
   "outputs": [],
   "source": [
    "SGS.on()"
   ]
  },
  {
   "cell_type": "code",
   "execution_count": null,
   "id": "cc145b47",
   "metadata": {},
   "outputs": [],
   "source": [
    "SGS.off()"
   ]
  },
  {
   "cell_type": "code",
   "execution_count": null,
   "id": "6141349d",
   "metadata": {},
   "outputs": [],
   "source": [
    "magnet_x.field(0.4e-3)\n",
    "sleep(10)\n",
    "magnet_y.field(2.53e-3)\n",
    "sleep(10)"
   ]
  },
  {
   "cell_type": "markdown",
   "id": "2d27c6f3",
   "metadata": {},
   "source": [
    "### I vs RF_f (1D)"
   ]
  },
  {
   "cell_type": "code",
   "execution_count": null,
   "id": "c3ec00d7",
   "metadata": {
    "scrolled": false
   },
   "outputs": [],
   "source": [
    "SGS.off()\n",
    "exp = qc.new_experiment('I vs RF_f', sample_name='IvsRF_f')\n",
    "SGS.power(25)\n",
    "SGS.frequency(1.8e9)\n",
    "SGS.on()\n",
    "sleep(1)\n",
    "keithley_2.averaging_count(5)\n",
    "keithley_2.averaging_enabled(False)\n",
    "keithley_24.output(1)\n",
    "\n",
    "appl_current(0.1e-6)\n",
    "#appl_TG(10)\n",
    "# magnet_x.field(0.4e-3)\n",
    "# magnet_y.field(2.53e-3)\n",
    "\n",
    "dataid = do1d(SGS.frequency, 1.8e9, 2.5e9, 5000, 0.1, meas_voltage_K2)\n",
    "appl_current(0)\n",
    "SGS.off()\n",
    "keithley_24.output(0)\n",
    "plot_by_id(dataid)"
   ]
  },
  {
   "cell_type": "markdown",
   "id": "3e250e53",
   "metadata": {},
   "source": [
    "### I vs RF_f (2D)"
   ]
  },
  {
   "cell_type": "code",
   "execution_count": null,
   "id": "9f9dbd53",
   "metadata": {},
   "outputs": [],
   "source": [
    "SGS.off()\n",
    "SGS.power(0)\n",
    "SGS.frequency(0.1e9)\n",
    "SGS.on()\n",
    "keithley_2.averaging_count(1)\n",
    "keithley_2.averaging_enabled(False)\n",
    "keithley_24.output(1)\n",
    "\n",
    "appl_current(-1.5e-6)\n",
    "#appl_TG(-10)\n",
    "# magnet_x.field(0.4e-3)\n",
    "# magnet_y.field(2.53e-3)\n",
    "# sleep(1)\n",
    "\n",
    "# station.snapshot(update=True);\n",
    "exp = qc.new_experiment('IV vs RF_f', sample_name='IV vs RF_f_J3_2D')\n",
    "\n",
    "#do1d(param_set, start, stop, num_points, delay, *param_meas)\n",
    "dataid = do2d(SGS.frequency, 0.1e9, 20e9, 1000, 0.1, appl_current,-1.5e-6 ,1.5e-6, 101, 0.01, meas_voltage_K2)\n",
    "# dataid = do1d(appl_current, 6e-6 , -6e-6, 251, 0.01, meas_voltage_K1)\n",
    "# ivvi.set_dacs_zero()\n",
    "keithley_24.output(0)\n",
    "SGS.off()\n",
    "appl_current(0)\n",
    "plot_by_id(dataid)\n",
    "# print(get_R_from_IV(dataid))\n",
    "#print(get_R_from_IV_2(dataid))\n"
   ]
  },
  {
   "cell_type": "markdown",
   "id": "9d4c84a8",
   "metadata": {},
   "source": [
    "## Bx vs RF_f"
   ]
  },
  {
   "cell_type": "code",
   "execution_count": null,
   "id": "51fe069b",
   "metadata": {},
   "outputs": [],
   "source": [
    "SGS.off()\n",
    "SGS.power(0)\n",
    "SGS.frequency(3.87e9)\n",
    "SGS.on()\n",
    "keithley_2.averaging_count(5)\n",
    "keithley_2.averaging_enabled(False)\n",
    "keithley_24.output(1)\n",
    "\n",
    "appl_current(-1.2e-6)\n",
    "#appl_TG(-10)\n",
    "magnet_y.field(-10e-3)\n",
    "\n",
    "#magnet_y.field(1.41e-3)\n",
    "# sleep(1)\n",
    "\n",
    "# station.snapshot(update=True);\n",
    "exp = qc.new_experiment('Bx vs RF_f', sample_name='By vs RF_f_J2_3.87_-10dB')\n",
    "\n",
    "#do1d(param_set, start, stop, num_points, delay, *param_meas)\"\"\n",
    "dataid = do2d(magnet_y.field, -10e-3, 10e-3,701, 1, appl_current,-1.2e-6 ,1.2e-6, 101, 0.05,  meas_voltage_K2)\n",
    "# dataid = do1d(appl_current, 6e-6 , -6e-6, 251, 0.01, meas_voltage_K1)\n",
    "# ivvi.set_dacs_zero()\n",
    "keithley_24.output(0)\n",
    "SGS.off()\n",
    "appl_current(0)\n",
    "plot_by_id(dataid)\n",
    "# print(get_R_from_IV(dataid))\n",
    "#print(get_R_from_IV_2(dataid))"
   ]
  },
  {
   "cell_type": "code",
   "execution_count": null,
   "id": "28992f6f",
   "metadata": {},
   "outputs": [],
   "source": [
    "appl_current(0)\n",
    "#appl_TG(0)\n",
    "magnet_y.field(0)\n",
    "sleep(2)\n",
    "magnet_x.field(0)\n",
    "sleep(2)\n",
    "#appl_voltage_AC(0.004)\n",
    "SGS.off()"
   ]
  },
  {
   "cell_type": "markdown",
   "id": "65c9a40a",
   "metadata": {},
   "source": [
    "## IV vs RF_f"
   ]
  },
  {
   "cell_type": "markdown",
   "id": "b285efb3",
   "metadata": {},
   "source": [
    "### Shapiro steps "
   ]
  },
  {
   "cell_type": "markdown",
   "id": "4a6d60cb",
   "metadata": {},
   "source": [
    "#### 1 line"
   ]
  },
  {
   "cell_type": "code",
   "execution_count": null,
   "id": "3a180ee1",
   "metadata": {
    "scrolled": false
   },
   "outputs": [],
   "source": [
    "SGS.off()\n",
    "SGS.power(-20)\n",
    "SGS.frequency(5.5381e9)\n",
    "SGS.on()\n",
    "keithley_2.averaging_count(5)\n",
    "keithley_2.averaging_enabled(False)\n",
    "keithley_24.output(1)\n",
    "\n",
    "appl_current(-1e-6)\n",
    "#appl_TG(-10)\n",
    "#magnet_x.field(0.23e-3)\n",
    "#magnet_y.field(1.41e-3)\n",
    "# sleep(1)\n",
    "\n",
    "# station.snapshot(update=True);\n",
    "exp = qc.new_experiment('IV vs RF_f', sample_name='IV vs RF_f_5.538_-20dB')\n",
    "\n",
    "#do1d(param_set, start, stop, num_points, delay, *param_meas)\"\"\n",
    "dataid = do1d(appl_current,-1e-6 ,1e-6, 101, 0.05,  meas_voltage_K2)\n",
    "# dataid = do1d(appl_current, 6e-6 , -6e-6, 251, 0.01, meas_voltage_K1)\n",
    "# ivvi.set_dacs_zero()\n",
    "keithley_24.output(0)\n",
    "SGS.off()\n",
    "appl_current(0)\n",
    "plot_by_id(dataid)\n",
    "# print(get_R_from_IV(dataid))\n",
    "#print(get_R_from_IV_2(dataid))"
   ]
  },
  {
   "cell_type": "code",
   "execution_count": null,
   "id": "ec8af32e",
   "metadata": {},
   "outputs": [],
   "source": [
    "appl_current(0)\n",
    "#appl_TG(0)\n",
    "magnet_y.field(0)\n",
    "sleep(10)\n",
    "magnet_x.field(0)\n",
    "sleep(10)\n",
    "#appl_voltage_AC(0.004)\n",
    "SGS.off()"
   ]
  },
  {
   "cell_type": "markdown",
   "id": "57a8ac5d",
   "metadata": {},
   "source": [
    "#### multi-line"
   ]
  },
  {
   "cell_type": "code",
   "execution_count": null,
   "id": "05ada56a",
   "metadata": {},
   "outputs": [],
   "source": [
    "def run_1d_measurement(frequency, exp_name_suffix):\n",
    "    SGS.off()\n",
    "    SGS.power(0)\n",
    "    SGS.frequency(frequency)\n",
    "    SGS.on()\n",
    "\n",
    "    keithley_2.averaging_count(5)\n",
    "    keithley_2.averaging_enabled(False)\n",
    "    keithley_24.output(1)\n",
    "\n",
    "    appl_current(-2e-6)\n",
    "\n",
    "    exp = qc.new_experiment('IV vs RF_f', sample_name=f'IV vs RF_f_{frequency}_0dB')\n",
    "\n",
    "    dataid = do1d(appl_current, -1.5e-6, 1.5e-6, 101, 0.05, meas_voltage_K2)\n",
    "\n",
    "    keithley_24.output(0)\n",
    "    SGS.off()\n",
    "    appl_current(0)\n",
    "\n",
    "    plot_by_id(dataid)\n",
    "\n",
    "# 指定不同的頻率進行 1D 測量\n",
    "frequencies = [5.876e9, 6.155e9, 7.410e9, 7.769e9, 8.167e9, 5.538e9, 5.398e9, 4.303e9]  # 添加更多頻率\n",
    "for frequency in frequencies:\n",
    "    run_1d_measurement(frequency, '')\n",
    "\n"
   ]
  },
  {
   "cell_type": "code",
   "execution_count": null,
   "id": "5488e4c5",
   "metadata": {},
   "outputs": [],
   "source": [
    "appl_current(0)\n",
    "#appl_TG(0)\n",
    "magnet_y.field(0)\n",
    "sleep(10)\n",
    "magnet_x.field(0)\n",
    "sleep(10)\n",
    "#appl_voltage_AC(0.004)\n",
    "SGS.off()"
   ]
  },
  {
   "cell_type": "markdown",
   "id": "04e50dcd",
   "metadata": {},
   "source": [
    "## IV vs Power Dependence"
   ]
  },
  {
   "cell_type": "markdown",
   "id": "c822ccb3",
   "metadata": {},
   "source": [
    "### 1 frequency"
   ]
  },
  {
   "cell_type": "code",
   "execution_count": null,
   "id": "f0984a37",
   "metadata": {
    "scrolled": false
   },
   "outputs": [],
   "source": [
    "SGS.off()\n",
    "SGS.power(-20)\n",
    "SGS.frequency(6.155e9)\n",
    "SGS.on()\n",
    "keithley_2.averaging_count(5)\n",
    "keithley_2.averaging_enabled(True)\n",
    "keithley_24.output(1)\n",
    "\n",
    "sleep(5)\n",
    "#magnet_x.field(15e-3)\n",
    "#sleep(5)\n",
    "appl_current(-1e-6)\n",
    "#appl_TG(-30)\n",
    "sleep(2)\n",
    "\n",
    "# station.snapshot(update=True);\n",
    "exp = qc.new_experiment('IV vs power dependence', sample_name='IV vs PD_6.155')\n",
    "\n",
    "#do1d(param_set, start, stop, num_points, delay, *param_meas)\n",
    "\n",
    "dataid = do2d(SGS.power,-12, 18, 201, 1, appl_current,-2.5e-6 ,2.5e-6, 101, 0.01, meas_voltage_K2)\n",
    "# dataid = do1d(appl_current, 6e-6 , -6e-6, 251, 0.01, meas_voltage_K1)\n",
    "# ivvi.set_dacs_zero()\n",
    "\n",
    "SGS.off()\n",
    "sleep(5)\n",
    "plot_by_id(dataid)\n",
    "\n",
    "\n",
    "SGS.power(-20)\n",
    "SGS.frequency(7.410e9)\n",
    "SGS.on()\n",
    "keithley_2.averaging_count(5)\n",
    "keithley_2.averaging_enabled(True)\n",
    "keithley_24.output(1)\n",
    "\n",
    "sleep(5)\n",
    "#magnet_x.field(15e-3)\n",
    "#sleep(5)\n",
    "appl_current(-1e-6)\n",
    "#appl_TG(-30)\n",
    "sleep(2)\n",
    "\n",
    "# station.snapshot(update=True);\n",
    "exp = qc.new_experiment('IV vs power dependence', sample_name='IV vs PD_7.410')\n",
    "\n",
    "#do1d(param_set, start, stop, num_points, delay, *param_meas)\n",
    "\n",
    "dataid = do2d(SGS.power,-12, 18, 201, 1, appl_current,-2e-6 ,2e-6, 101, 0.01, meas_voltage_K2)\n",
    "# dataid = do1d(appl_current, 6e-6 , -6e-6, 251, 0.01, meas_voltage_K1)\n",
    "# ivvi.set_dacs_zero()\n",
    "\n",
    "SGS.off()\n",
    "sleep(5)\n",
    "plot_by_id(dataid)\n",
    "\n",
    "\n",
    "SGS.power(-20)\n",
    "SGS.frequency(7.769e9)\n",
    "SGS.on()\n",
    "keithley_2.averaging_count(5)\n",
    "keithley_2.averaging_enabled(True)\n",
    "keithley_24.output(1)\n",
    "\n",
    "sleep(5)\n",
    "#magnet_x.field(15e-3)\n",
    "#sleep(5)\n",
    "appl_current(-1e-6)\n",
    "#appl_TG(-30)\n",
    "sleep(2)\n",
    "\n",
    "# station.snapshot(update=True);\n",
    "exp = qc.new_experiment('IV vs power dependence', sample_name='IV vs PD_7.769')\n",
    "\n",
    "#do1d(param_set, start, stop, num_points, delay, *param_meas)\n",
    "\n",
    "dataid = do2d(SGS.power,-12, 18, 201, 1, appl_current,-2e-6 ,2e-6, 101, 0.01, meas_voltage_K2)\n",
    "# dataid = do1d(appl_current, 6e-6 , -6e-6, 251, 0.01, meas_voltage_K1)\n",
    "# ivvi.set_dacs_zero()\n",
    "\n",
    "SGS.off()\n",
    "sleep(5)\n",
    "plot_by_id(dataid)\n",
    "\n",
    "\n",
    "SGS.power(-20)\n",
    "SGS.frequency(8.167e9)\n",
    "SGS.on()\n",
    "keithley_2.averaging_count(5)\n",
    "keithley_2.averaging_enabled(True)\n",
    "keithley_24.output(1)\n",
    "\n",
    "sleep(5)\n",
    "#magnet_x.field(15e-3)\n",
    "#sleep(5)\n",
    "appl_current(-1e-6)\n",
    "#appl_TG(-30)\n",
    "sleep(2)\n",
    "\n",
    "# station.snapshot(update=True);\n",
    "exp = qc.new_experiment('IV vs power dependence', sample_name='IV vs PD_8.167')\n",
    "\n",
    "#do1d(param_set, start, stop, num_points, delay, *param_meas)\n",
    "\n",
    "dataid = do2d(SGS.power,-10, 18, 201, 1, appl_current,-2e-6 ,2e-6, 101, 0.01, meas_voltage_K2)\n",
    "# dataid = do1d(appl_current, 6e-6 , -6e-6, 251, 0.01, meas_voltage_K1)\n",
    "# ivvi.set_dacs_zero()\n",
    "\n",
    "SGS.off()\n",
    "\n",
    "\n",
    "appl_current(0)\n",
    "keithley_24.output()\n",
    "sleep(10)\n",
    "plot_by_id(dataid)\n",
    "# print(get_R_from_IV(dataid))\n",
    "print(get_R_from_IV_2(dataid))"
   ]
  },
  {
   "cell_type": "code",
   "execution_count": null,
   "id": "6ea1f17b",
   "metadata": {},
   "outputs": [],
   "source": [
    "SGS.off()\n",
    "SGS.power(-20)\n",
    "SGS.frequency(5.398e9)\n",
    "SGS.on()\n",
    "keithley_2.averaging_count(5)\n",
    "keithley_2.averaging_enabled(True)\n",
    "keithley_24.output(1)\n",
    "\n",
    "magnet_x.field(5e-3)\n",
    "sleep(5)\n",
    "appl_current(-1e-6)\n",
    "#appl_TG(-30)\n",
    "sleep(2)\n",
    "\n",
    "# station.snapshot(update=True);\n",
    "exp = qc.new_experiment('IV vs power dependence', sample_name='IV vs PD_5.398_5mT')\n",
    "\n",
    "#do1d(param_set, start, stop, num_points, delay, *param_meas)\n",
    "\n",
    "dataid = do2d(SGS.power,-20, 25, 101, 1, appl_current,-1e-6 ,1e-6, 101, 0.05, meas_voltage_K2)\n",
    "# dataid = do1d(appl_current, 6e-6 , -6e-6, 251, 0.01, meas_voltage_K1)\n",
    "# ivvi.set_dacs_zero()\n",
    "\n",
    "SGS.off()\n",
    "plot_by_id(dataid)\n",
    "sleep(10)\n",
    "\n",
    "\n",
    "SGS.power(-20)\n",
    "SGS.frequency(8.167e9)\n",
    "SGS.on()\n",
    "keithley_2.averaging_count(5)\n",
    "keithley_2.averaging_enabled(True)\n",
    "keithley_24.output(1)\n",
    "\n",
    "magnet_x.field(5e-3)\n",
    "sleep(5)\n",
    "appl_current(-1e-6)\n",
    "#appl_TG(-30)\n",
    "sleep(2)\n",
    "\n",
    "# station.snapshot(update=True);\n",
    "exp = qc.new_experiment('IV vs power dependence', sample_name='IV vs PD_8.167_5mT')\n",
    "\n",
    "#do1d(param_set, start, stop, num_points, delay, *param_meas)\n",
    "\n",
    "dataid = do2d(SGS.power,-20, 25, 101, 1, appl_current,-1e-6 ,1e-6, 101, 0.05, meas_voltage_K2)\n",
    "# dataid = do1d(appl_current, 6e-6 , -6e-6, 251, 0.01, meas_voltage_K1)\n",
    "# ivvi.set_dacs_zero()\n",
    "\n",
    "\n",
    "SGS.off()\n",
    "plot_by_id(dataid)\n",
    "sleep(10)\n",
    "\n",
    "SGS.power(-20)\n",
    "SGS.frequency(4.303e9)\n",
    "SGS.on()\n",
    "keithley_2.averaging_count(5)\n",
    "keithley_2.averaging_enabled(True)\n",
    "keithley_24.output(1)\n",
    "\n",
    "magnet_x.field(5e-3)\n",
    "sleep(5)\n",
    "appl_current(-1e-6)\n",
    "#appl_TG(-30)\n",
    "sleep(2)\n",
    "\n",
    "# station.snapshot(update=True);\n",
    "exp = qc.new_experiment('IV vs power dependence', sample_name='IV vs PD_4.303_5mT')\n",
    "\n",
    "#do1d(param_set, start, stop, num_points, delay, *param_meas)\n",
    "\n",
    "dataid = do2d(SGS.power,-20, 25, 101, 1, appl_current,-1e-6 ,1e-6, 101, 0.05, meas_voltage_K2)\n",
    "# dataid = do1d(appl_current, 6e-6 , -6e-6, 251, 0.01, meas_voltage_K1)\n",
    "# ivvi.set_dacs_zero()\n",
    "\n",
    "\n",
    "SGS.off()\n",
    "sleep(10)\n",
    "\n",
    "appl_current(0)\n",
    "keithley_24.output()\n",
    "plot_by_id(dataid)\n",
    "\n",
    "# print(get_R_from_IV(dataid))\n",
    "print(get_R_from_IV_2(dataid))"
   ]
  },
  {
   "cell_type": "markdown",
   "id": "13e12840",
   "metadata": {},
   "source": [
    "### multi-frequency"
   ]
  },
  {
   "cell_type": "code",
   "execution_count": null,
   "id": "07a6f51c",
   "metadata": {},
   "outputs": [],
   "source": [
    "def run_measurement(power, frequency, exp_name_suffix):\n",
    "    SGS.power(power)\n",
    "    SGS.frequency(frequency)\n",
    "    SGS.on()\n",
    "\n",
    "    keithley_2.averaging_count(5)\n",
    "    keithley_2.averaging_enabled(True)\n",
    "    keithley_24.output(1)\n",
    "\n",
    "    sleep(5)\n",
    "\n",
    "    appl_current(-1e-6)\n",
    "    sleep(2)\n",
    "\n",
    "    exp = qc.new_experiment('IV vs power dependence', sample_name=f'IV vs PD_{frequency}')\n",
    "\n",
    "    dataid = do2d(SGS.power, -20, 13, 201, 1, appl_current, -2e-6, 2e-6, 101, 0.01, meas_voltage_K2)\n",
    "\n",
    "    SGS.off()\n",
    "    sleep(5)\n",
    "\n",
    "    plot_by_id(dataid)\n",
    "\n",
    "    appl_current(0)\n",
    "    keithley_24.output()\n",
    "    sleep(10)\n",
    "\n",
    "    plot_by_id(dataid)\n",
    "    print(get_R_from_IV_2(dataid))\n",
    "\n",
    "\n",
    "# 使用不同頻率運行測量\n",
    "run_measurement(-20, 7.769e9, '7.769')\n",
    "run_measurement(-20, 8.167e9, '8.167')\n"
   ]
  },
  {
   "cell_type": "code",
   "execution_count": null,
   "id": "9db010ab",
   "metadata": {},
   "outputs": [],
   "source": [
    "## SGS.off()\n",
    "SGS.power(-20)\n",
    "SGS.frequency(5.e9)\n",
    "SGS.on()\n",
    "keithley_2.averaging_count(5)\n",
    "keithley_2.averaging_enabled(True)\n",
    "keithley_24.output(1)\n",
    "\n",
    "magnet_x.field(10e-3)\n",
    "sleep(5)\n",
    "appl_current(-1e-6)\n",
    "#appl_TG(-30)\n",
    "sleep(2)\n",
    "\n",
    "# station.snapshot(update=True);\n",
    "exp = qc.new_experiment('IV vs power dependence', sample_name='IV vs PD_5.398_10mT')\n",
    "\n",
    "#do1d(param_set, start, stop, num_points, delay, *param_meas)\n",
    "\n",
    "dataid = do2d(SGS.power,-20, 25, 101, 1, appl_current,-1e-6 ,1e-6, 101, 0.05, meas_voltage_K2)\n",
    "# dataid = do1d(appl_current, 6e-6 , -6e-6, 251, 0.01, meas_voltage_K1)\n",
    "# ivvi.set_dacs_zero()\n",
    "\n",
    "SGS.off()\n",
    "plot_by_id(dataid)\n",
    "sleep(10)\n",
    "\n",
    "\n",
    "SGS.power(-20)\n",
    "SGS.frequency(8.167e9)\n",
    "SGS.on()\n",
    "keithley_2.averaging_count(5)\n",
    "keithley_2.averaging_enabled(True)\n",
    "keithley_24.output(1)\n",
    "\n",
    "magnet_x.field(10e-3)\n",
    "sleep(5)\n",
    "appl_current(-1e-6)\n",
    "#appl_TG(-30)\n",
    "sleep(2)\n",
    "\n",
    "# station.snapshot(update=True);\n",
    "exp = qc.new_experiment('IV vs power dependence', sample_name='IV vs PD_8.167_10mT')\n",
    "\n",
    "#do1d(param_set, start, stop, num_points, delay, *param_meas)\n",
    "\n",
    "dataid = do2d(SGS.power,-20, 25, 101, 1, appl_current,-1e-6 ,1e-6, 101, 0.05, meas_voltage_K2)\n",
    "# dataid = do1d(appl_current, 6e-6 , -6e-6, 251, 0.01, meas_voltage_K1)\n",
    "# ivvi.set_dacs_zero()\n",
    "\n",
    "\n",
    "SGS.off()\n",
    "plot_by_id(dataid)\n",
    "sleep(10)\n",
    "\n",
    "SGS.power(-20)\n",
    "SGS.frequency(4.303e9)\n",
    "SGS.on()\n",
    "keithley_2.averaging_count(5)\n",
    "keithley_2.averaging_enabled(True)\n",
    "keithley_24.output(1)\n",
    "\n",
    "magnet_x.field(10e-3)\n",
    "sleep(5)\n",
    "appl_current(-1e-6)\n",
    "#appl_TG(-30)\n",
    "sleep(2)\n",
    "\n",
    "# station.snapshot(update=True);\n",
    "exp = qc.new_experiment('IV vs power dependence', sample_name='IV vs PD_4.303_10mT')\n",
    "\n",
    "#do1d(param_set, start, stop, num_points, delay, *param_meas)\n",
    "\n",
    "dataid = do2d(SGS.power,-20, 25, 101, 1, appl_current,-1e-6 ,1e-6, 101, 0.01, meas_voltage_K2)\n",
    "# dataid = do1d(appl_current, 6e-6 , -6e-6, 251, 0.01, meas_voltage_K1)\n",
    "# ivvi.set_dacs_zero()\n",
    "\n",
    "\n",
    "SGS.off()\n",
    "sleep(10)\n",
    "\n",
    "appl_current(0)\n",
    "keithley_24.output()\n",
    "plot_by_id(dataid)\n",
    "\n",
    "# print(get_R_from_IV(dataid))\n",
    "print(get_R_from_IV_2(dataid))"
   ]
  },
  {
   "cell_type": "markdown",
   "id": "5c2101a5",
   "metadata": {},
   "source": [
    "## IV vs Vgate"
   ]
  },
  {
   "cell_type": "code",
   "execution_count": null,
   "id": "48eb3a89",
   "metadata": {},
   "outputs": [],
   "source": [
    "appl_current(0)\n",
    "appl_TG(0)\n",
    "magnet_y.field(0)\n",
    "sleep(10)\n",
    "magnet_x.field(0)\n",
    "sleep(10)\n",
    "appl_voltage_AC(0.004)\n",
    "SGS.off()"
   ]
  },
  {
   "cell_type": "code",
   "execution_count": null,
   "id": "5deaef19",
   "metadata": {},
   "outputs": [],
   "source": [
    "SGS.off()\n",
    "SGS.power(25)\n",
    "SGS.frequency(4.83e9)\n",
    "SGS.on()\n",
    "keithley_2.averaging_count(5)\n",
    "keithley_2.averaging_enabled(True)\n",
    "appl_current(-0.4e-7)\n",
    "appl_current_AC(0.1e-10)\n",
    "\n",
    "appl_TG(-10)\n",
    "sleep(1)\n",
    "\n",
    "# station.snapshot(update=True);\n",
    "exp = qc.new_experiment('IV vs Vgate', sample_name='IV vs Vg')\n",
    "\n",
    "dataid = do2d(appl_TG, -10, 10, 751, 0.5, appl_current, -0.4e-7, 0.4e-7, 101, 0.01, meas_voltage_AC_L1, meas_voltage_AC_L1_P, meas_voltage_K2)\n",
    "# dataid = do1d(appl_current, 6e-6 , -6e-6, 251, 0.01, meas_voltage_K1)\n",
    "# ivvi.set_dacs_zero()\n",
    "SGS.off()\n",
    "appl_current(0)\n",
    "plot_by_id(dataid)\n",
    "# print(get_R_from_IV(dataid))\n",
    "#print(get_R_from_IV_2(dataid))"
   ]
  },
  {
   "cell_type": "code",
   "execution_count": null,
   "id": "6bbd39fb",
   "metadata": {},
   "outputs": [],
   "source": [
    "appl_current(0)\n",
    "appl_TG(0)\n",
    "magnet_y.field(0)\n",
    "sleep(10)\n",
    "magnet_x.field(0)\n",
    "sleep(10)\n",
    "appl_voltage_AC(0.004)\n",
    "SGS.off()"
   ]
  },
  {
   "cell_type": "code",
   "execution_count": null,
   "id": "00d4b770",
   "metadata": {},
   "outputs": [],
   "source": [
    "import matplotlib.pyplot as plt\n",
    "import numpy as np\n",
    "\n",
    "# Constants\n",
    "k = 8.617333262145e-5  # Boltzmann constant in eV/K\n",
    "E_a = 0.5  # Example value for the activation energy in eV\n",
    "p_0 = 1.0  # Example value for p0\n",
    "\n",
    "# Create an array of temperatures from 100 to 1000 K\n",
    "temperatures = np.linspace(100, 1000, 50)\n",
    "\n",
    "# Calculate 1/T\n",
    "inverse_temperatures = 1 / temperatures\n",
    "\n",
    "# Calculate ln(p)\n",
    "ln_p = np.log(p_0) - (E_a / k) * inverse_temperatures\n",
    "\n",
    "# Plotting\n",
    "plt.figure(figsize=(8, 6))\n",
    "plt.plot(inverse_temperatures, ln_p, marker='o', linestyle='-')\n",
    "plt.xlabel('1/T (1/K)')\n",
    "plt.ylabel('ln(p)')\n",
    "plt.title('ln(p) vs 1/T for Hole Concentration')\n",
    "plt.grid(True)\n",
    "plt.show()\n"
   ]
  },
  {
   "cell_type": "code",
   "execution_count": null,
   "id": "f610e7bc",
   "metadata": {},
   "outputs": [],
   "source": []
  }
 ],
 "metadata": {
  "kernelspec": {
   "display_name": "Python 3 (ipykernel)",
   "language": "python",
   "name": "python3"
  },
  "language_info": {
   "codemirror_mode": {
    "name": "ipython",
    "version": 3
   },
   "file_extension": ".py",
   "mimetype": "text/x-python",
   "name": "python",
   "nbconvert_exporter": "python",
   "pygments_lexer": "ipython3",
   "version": "3.11.3"
  },
  "toc": {
   "base_numbering": 1,
   "nav_menu": {},
   "number_sections": true,
   "sideBar": true,
   "skip_h1_title": false,
   "title_cell": "Table of Contents",
   "title_sidebar": "Contents",
   "toc_cell": false,
   "toc_position": {
    "height": "calc(100% - 180px)",
    "left": "10px",
    "top": "150px",
    "width": "261.392px"
   },
   "toc_section_display": true,
   "toc_window_display": true
  }
 },
 "nbformat": 4,
 "nbformat_minor": 5
}
