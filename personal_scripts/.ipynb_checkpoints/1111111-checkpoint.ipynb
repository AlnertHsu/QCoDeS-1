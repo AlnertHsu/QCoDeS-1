{
 "cells": [
  {
   "cell_type": "markdown",
   "metadata": {},
   "source": [
    "# Import of useful modules:"
   ]
  },
  {
   "cell_type": "code",
   "execution_count": 1,
   "metadata": {},
   "outputs": [],
   "source": [
    "%matplotlib inline\n",
    "import os, sys\n",
    "import matplotlib.pyplot as plt\n",
    "import numpy as np\n",
    "from pprint import pprint\n",
    "from tqdm.notebook import tqdm\n",
    "\n",
    "from time import sleep, monotonic, time\n",
    "\n",
    "\n",
    "import qcodes as qc\n",
    "from qcodes import Parameter\n",
    "from qcodes.dataset.plotting import plot_dataset, plot_by_id\n",
    "from qcodes.utils.metadata import diff_param_values\n",
    "from qcodes.instrument.specialized_parameters import ElapsedTimeParameter\n",
    "from qcodes.dataset.measurements import Measurement\n",
    "from qcodes.loops import Loop\n",
    "\n",
    "\n",
    "# sys.path.append('M:\\\\tnw\\\\ns\\\\qt\\\\2D Topo\\\\code\\\\qcodes')\n",
    "sys.path.append('C:\\\\qcodes')\n",
    "from sweeps import do1d, do2d, time_sweep, measure_until, do1d_until\n",
    "\n",
    "import warnings\n",
    "warnings.filterwarnings('ignore')"
   ]
  },
  {
   "cell_type": "code",
   "execution_count": 2,
   "metadata": {
    "scrolled": true
   },
   "outputs": [
    {
     "name": "stdout",
     "output_type": "stream",
     "text": [
      "Connected to: KEITHLEY INSTRUMENTS DMM6500 (serial:04518052, firmware:1.7.7b) in 0.11s\n",
      "Connected to: KEITHLEY INSTRUMENTS DMM6500 (serial:04518181, firmware:1.7.7b) in 0.02s\n",
      "Connected to: Stanford_Research_Systems SR860 (serial:004608, firmware:V1.51) in 0.05s\n"
     ]
    }
   ],
   "source": [
    "fridge_name = 'BF1'\n",
    "# %run ..\\..\\..\\..\\..\\code\\qcodes\\init_fridge.py {fridge_name}\n",
    "%run ..\\init_fridge.py {fridge_name}"
   ]
  },
  {
   "cell_type": "code",
   "execution_count": 36,
   "metadata": {},
   "outputs": [],
   "source": [
    "K213.voltage1(0)"
   ]
  },
  {
   "cell_type": "code",
   "execution_count": null,
   "metadata": {
    "scrolled": true
   },
   "outputs": [],
   "source": [
    "snapshot_of_station = station.snapshot()\n",
    "pprint(snapshot_of_station)"
   ]
  },
  {
   "cell_type": "markdown",
   "metadata": {},
   "source": [
    "# K213DC measurements"
   ]
  },
  {
   "cell_type": "markdown",
   "metadata": {},
   "source": [
    "## Linear increasing Voltage "
   ]
  },
  {
   "cell_type": "code",
   "execution_count": null,
   "metadata": {
    "code_folding": [],
    "scrolled": true
   },
   "outputs": [],
   "source": [
    "K213_V, keithley_R0, keithley_R1, keithley_R2, keithley_R3 = [], [], [], [], []\n",
    "\n",
    "N=100\n",
    "Max_V=0.01\n",
    "start = time()\n",
    "\n",
    "K213.autorange1(0)\n",
    "K213.voltage1(0)\n",
    "\n",
    "K213.vrange1(0)\n",
    "for i in range(-N,N,1):\n",
    "    v = Max_V*i/N\n",
    "    K213_V.append(v)\n",
    "    K213.voltage1(v)\n",
    "    keithley_R0.append(keithley_1.amplitude())\n",
    "    if 10*i%N==0:\n",
    "        print('Measure range 0V of %s points with elapsed time %ss' %(i, np.floor(time()-start)))\n",
    "    \n",
    "K213.vrange1(1)\n",
    "for i in range(-N,N,1):\n",
    "    v = Max_V*i/N\n",
    "    K213.voltage1(v)\n",
    "    keithley_R1.append(keithley_1.amplitude())\n",
    "    if 100*i%N==0:\n",
    "        print('Measure range 1V of %s points with elapsed time %ss' %(i, np.floor(time()-start)))\n",
    "        \n",
    "K213.vrange1(2)\n",
    "for i in range(-N,N,1):\n",
    "    v = Max_V*i/N    \n",
    "    K213.voltage1(v)\n",
    "    keithley_R2.append(keithley_1.amplitude())\n",
    "    if 100*i%N==0:\n",
    "        print('Measure range 5V of %s points with elapsed time %ss' %(i,np.floor(time()-start)))\n",
    "        \n",
    "K213.vrange1(3)\n",
    "for i in range(-N,N,1):\n",
    "    v = Max_V*i/N\n",
    "    K213.voltage1(v)\n",
    "    keithley_R3.append(keithley_1.amplitude())\n",
    "    if 100*i%N==0:\n",
    "        print('Measure range 10V of %s points with elapsed time %ss' %(i, np.floor(time()-start)))\n",
    "        \n",
    "print('finished')"
   ]
  },
  {
   "cell_type": "code",
   "execution_count": null,
   "metadata": {},
   "outputs": [],
   "source": [
    "#Plotting\n",
    "\n",
    "\n",
    "plt.plot(K213_V, keithley_R0, label = 'range 0V') \n",
    "plt.plot(K213_V, keithley_R1, label = 'range 1V') \n",
    "plt.plot(K213_V, keithley_R2, label = 'range 5V')\n",
    "plt.plot(K213_V, keithley_R3, label = 'range 10V')\n",
    "\n",
    "plt.title('Maximum voltage %sV with %s points' %(Max_V,2*N))\n",
    "plt.xlabel('K213 channel 1 supply voltage')\n",
    "plt.ylabel('keithley 1 measured voltage')\n",
    "plt.legend()\n",
    "plt.show()"
   ]
  },
  {
   "cell_type": "markdown",
   "metadata": {},
   "source": [
    "## Constant Voltage (single port different range)"
   ]
  },
  {
   "cell_type": "code",
   "execution_count": null,
   "metadata": {},
   "outputs": [],
   "source": [
    "#Turn off AC voltage source\n",
    "lockin_2.amplitude(0)"
   ]
  },
  {
   "cell_type": "code",
   "execution_count": null,
   "metadata": {
    "code_folding": [],
    "scrolled": true
   },
   "outputs": [],
   "source": [
    "K213_V, keithley_R0, keithley_R1, keithley_R2, keithley_R3 = [], [], [], [], []\n",
    "N=100000\n",
    "v=0.1\n",
    "\n",
    "K213.autorange1(0)\n",
    "start = time()\n",
    "\n",
    "K213.vrange1(0)\n",
    "K213.voltage1(v)\n",
    "sleep(.1)\n",
    "for i in range(0,N,1):\n",
    "    K213_V.append(i)\n",
    "    keithley_R0.append(keithley_1.amplitude())\n",
    "    if 100*i%N==0:\n",
    "        print('Measured range 0V %s points, with elapsed time %ss' %(i,time()-start))\n",
    "        \n",
    "K213.vrange1(1)\n",
    "K213.voltage1(v)\n",
    "sleep(.1)\n",
    "for i in range(0,N,1):\n",
    "    keithley_R1.append(keithley_1.amplitude())\n",
    "    if 100*i%N==0:\n",
    "        print('Measured range 1V %s points, with elapsed time %ss' %(i,time()-start))\n",
    "        \n",
    "K213.vrange1(2)\n",
    "K213.voltage1(v)\n",
    "sleep(.1)\n",
    "for i in range(0,N,1):    \n",
    "    keithley_R2.append(keithley_1.amplitude())\n",
    "    if 100*i%N==0:\n",
    "        print('Measured range 5V %s points, with elapsed time %ss' %(i,time()-start))\n",
    "        \n",
    "K213.vrange1(3)\n",
    "K213.voltage1(v)\n",
    "sleep(.1)\n",
    "for i in range(0,N,1):\n",
    "    keithley_R3.append(keithley_1.amplitude())\n",
    "    if 100*i%N==0:\n",
    "        print('Measured range 10V %s points, with elapsed time %ss' %(i,time()-start))\n",
    "        \n",
    "print('finished')"
   ]
  },
  {
   "cell_type": "code",
   "execution_count": null,
   "metadata": {
    "scrolled": true
   },
   "outputs": [],
   "source": [
    "#Plotting\n",
    "\n",
    "plt.plot(K213_V, keithley_R0, alpha = 0.6, label = 'range=0V') \n",
    "plt.plot(K213_V, keithley_R1, alpha = 0.6, label = 'range=1V') \n",
    "plt.plot(K213_V, keithley_R2, alpha = 0.6, label = 'range=5V')\n",
    "plt.plot(K213_V, keithley_R3, alpha = 0.6, label = 'range=10V')\n",
    "\n",
    "plt.title('K213 port1 apply voltage = ' + str(v) + 'V')\n",
    "plt.xlabel('points')\n",
    "plt.ylabel('keithley 1 measured voltage')\n",
    "plt.ticklabel_format(style='sci', axis='y', scilimits=(0,0)) #set x-axis scale\n",
    "# plt.ylim([9.05e-5,9.20e-5])\n",
    "plt.legend()\n",
    "plt.show()"
   ]
  },
  {
   "cell_type": "code",
   "execution_count": null,
   "metadata": {
    "scrolled": true
   },
   "outputs": [],
   "source": [
    "#Distribution Plotting\n",
    "\n",
    "fig, ax = plt.subplots(2,2, figsize=(10, 10))\n",
    "fig.suptitle('K213 port1 apply voltage %sV' %str(v))\n",
    "\n",
    "ax[0,0].hist(keithley_R0, 200, color='C0', alpha=0.7)\n",
    "ax[0,0].set_title('Range 0V')\n",
    "ax[0,1].hist(keithley_R1, 200, color='C1', alpha=0.7)\n",
    "ax[0,1].set_title('Range 1V')\n",
    "ax[1,0].hist(keithley_R2, 200, color='C2', alpha=0.7)\n",
    "ax[1,0].set_title('Range 5V')\n",
    "ax[1,1].hist(keithley_R3, 200, color='C3', alpha=0.7)\n",
    "ax[1,1].set_title('Range 10V')\n",
    "\n",
    "fig.show()\n",
    "    "
   ]
  },
  {
   "cell_type": "markdown",
   "metadata": {},
   "source": [
    "## Constant Voltage (different port comparison)"
   ]
  },
  {
   "cell_type": "code",
   "execution_count": null,
   "metadata": {},
   "outputs": [],
   "source": [
    "#Turn off AC voltage source\n",
    "lockin_2.amplitude(0)"
   ]
  },
  {
   "cell_type": "code",
   "execution_count": null,
   "metadata": {
    "scrolled": true
   },
   "outputs": [],
   "source": [
    "K213_V, keithley_P4R10 = [], []\n",
    "N=10000\n",
    "v=0.1\n",
    "\n",
    "K213.autorange4(0)\n",
    "start = time()\n",
    "\n",
    "K213.vrange4(3)\n",
    "K213.voltage4(v)\n",
    "sleep(.1)\n",
    "\n",
    "for i in range(0,N):\n",
    "    keithley_P4R10.append(keithley_1.amplitude())\n",
    "    if 10*i%N==0:\n",
    "        print('Measured range 1V %s points, with elapsed time %ss' %(i,np.floor(time()-start)))\n",
    "               \n",
    "print('finished')"
   ]
  },
  {
   "cell_type": "code",
   "execution_count": null,
   "metadata": {
    "scrolled": true
   },
   "outputs": [],
   "source": [
    "#Plotting\n",
    "\n",
    "plt.plot(K213_V, keithley_P1R1, alpha = 0.7, label = 'port1 range1V') \n",
    "\n",
    "plt.title('K213 apply %sV' %v)\n",
    "plt.xlabel('points')\n",
    "plt.ylabel('Measured voltage')\n",
    "plt.legend()\n",
    "plt.show()"
   ]
  },
  {
   "cell_type": "markdown",
   "metadata": {},
   "source": [
    "# Data Saving and Importing "
   ]
  },
  {
   "cell_type": "markdown",
   "metadata": {},
   "source": [
    "Check https://shengyu7697.github.io/python-read-text-file/"
   ]
  },
  {
   "cell_type": "markdown",
   "metadata": {},
   "source": [
    "## Saving float list to .txt"
   ]
  },
  {
   "cell_type": "code",
   "execution_count": null,
   "metadata": {},
   "outputs": [],
   "source": [
    "#Enter the name of a new .txt file\n",
    "txt = 'keithley_P4R10'  \n",
    "\n",
    "#Change the saving path of .txt file \n",
    "with open(r'C:\\Users\\admin\\SynologyDrive\\09 Data\\DC_Measurement_Test\\Data\\18\\%s.txt' % txt, 'w') as f:\n",
    "    #Enter the name of the list you want to save as .txt\n",
    "    for value in keithley_P4R10:  \n",
    "        f.write('%s, ' % value)\n",
    "    print('finished')\n"
   ]
  },
  {
   "cell_type": "markdown",
   "metadata": {},
   "source": [
    "## Multiple saving"
   ]
  },
  {
   "cell_type": "code",
   "execution_count": null,
   "metadata": {},
   "outputs": [],
   "source": [
    "#Enter the names of new .txt files\n",
    "names = ['K213_V', 'keithley_P1R10', 'keithley_P2R10']\n",
    "#Enter the names of lists want to save\n",
    "lists = [K213_V, keithley_P1R10, keithley_P2R10]\n",
    "\n",
    "#Change the saving path of .txt file \n",
    "for i in range(len(names)):\n",
    "    with open(r'C:\\Users\\admin\\SynologyDrive\\09 Data\\DC_Measurement_Test\\Data\\17\\%s.txt' % names[i], 'w') as f:\n",
    "        for value in lists[i]:\n",
    "            f.write('%s, ' % value)\n",
    "\n",
    "print('finished')"
   ]
  },
  {
   "cell_type": "markdown",
   "metadata": {},
   "source": [
    "## Importing .txt to float list"
   ]
  },
  {
   "cell_type": "code",
   "execution_count": null,
   "metadata": {
    "scrolled": true
   },
   "outputs": [],
   "source": [
    "#Enter the name of the source .txt file\n",
    "txt = 'keithley_R1_V1'\n",
    "\n",
    "#Change the source path of .txt file \n",
    "with open(r'D:/data/Test/111722_DC/%s.txt' % txt, 'r') as f:\n",
    "    x = []\n",
    "    lines = f.readlines()\n",
    "    s = lines[0].split(', ')\n",
    "    for i in range(len(s)-1):\n",
    "        x.append(float(s[i])) #Enter the name of the list\n",
    "\n",
    "#Enter the name of a new float list \n",
    "keithley_R1_V1 = x\n",
    "\n"
   ]
  },
  {
   "cell_type": "markdown",
   "metadata": {},
   "source": [
    "## Multiple importing"
   ]
  },
  {
   "cell_type": "code",
   "execution_count": null,
   "metadata": {},
   "outputs": [],
   "source": [
    "#Enter the names of the source .txt files\n",
    "names = ['time', 'P', 'R', 'X']\n",
    "lists = []\n",
    "\n",
    "#Change the source path of .txt files \n",
    "for i in range(len(names)):\n",
    "    with open(r'C:\\Users\\admin\\SynologyDrive\\09 Data\\DC_Measurement_Test\\Data\\06\\%s.txt' % names[i], 'r') as f:\n",
    "        x = []\n",
    "        lines = f.readlines()\n",
    "        s = lines[0].split(', ')\n",
    "        for j in range(len(s)-1):\n",
    "            x.append(float(s[j]))\n",
    "        lists.append(x)\n",
    "\n",
    "#Enter the name of the new float lists\n",
    "time, P, R, X = lists[0], lists[1], lists[2], lists[3]"
   ]
  },
  {
   "cell_type": "markdown",
   "metadata": {},
   "source": [
    "# SR860 AC test"
   ]
  },
  {
   "cell_type": "markdown",
   "metadata": {},
   "source": [
    "## Fixed voltage and frequency repeated measurement"
   ]
  },
  {
   "cell_type": "code",
   "execution_count": null,
   "metadata": {},
   "outputs": [],
   "source": [
    "#Turn off DC\n",
    "K213.voltage1(0)"
   ]
  },
  {
   "cell_type": "code",
   "execution_count": null,
   "metadata": {
    "scrolled": false
   },
   "outputs": [],
   "source": [
    "Time, SR860_R, SR860_X, SR860_Y, SR860_P= [], [], [], [], []\n",
    "N = 100\n",
    "v = .001\n",
    "f = 100\n",
    "\n",
    "lockin_2.amplitude(v)\n",
    "lockin_2.frequency(f)\n",
    "sleep(1)\n",
    "\n",
    "for i in range(N):\n",
    "    Time.append(i)\n",
    "    SR860_R.append(lockin_2.R())\n",
    "    SR860_X.append(lockin_2.X())\n",
    "    SR860_Y.append(lockin_2.Y())\n",
    "    SR860_P.append(lockin_2.P())\n",
    "    \n",
    "    if 10*i%N==0:\n",
    "        print(i)\n",
    "    \n",
    "print('finished')"
   ]
  },
  {
   "cell_type": "code",
   "execution_count": null,
   "metadata": {},
   "outputs": [],
   "source": [
    "plt.plot(Time, SR860_R, label='R')\n",
    "# plt.plot(Time, SR860_X, label='X')\n",
    "# plt.plot(Time, SR860_Y, label='Y')\n",
    "# plt.plot(Time, SR860_P, label='P')\n",
    "\n",
    "plt.title('SR860 apply AC voltage %sV with frequency %sHz' %(str(v), str(f)))\n",
    "plt.xlabel('time')\n",
    "plt.ylabel('SR860 measured voltage')\n",
    "# plt.ticklabel_format(style='sci', axis='y', scilimits=(0,0)) #set x-axis scale\n",
    "# plt.ylim([9.05e-5,9.20e-5])\n",
    "plt.legend()\n",
    "plt.show()"
   ]
  },
  {
   "cell_type": "code",
   "execution_count": null,
   "metadata": {},
   "outputs": [],
   "source": [
    "#Distribution Plotting\n",
    "\n",
    "print('mean_R = %s' %np.mean(SR860_R))\n",
    "print('deviation_R = %s' %np.std(SR860_R))\n",
    "print('mean_X = %s' %np.mean(SR860_X))\n",
    "print('deviation_X = %s' %np.std(SR860_X))\n",
    "print('mean_Y = %s' %np.mean(SR860_Y))\n",
    "print('deviation_Y = %s' %np.std(SR860_Y))\n",
    "print('mean_P = %s' %np.mean(SR860_P))\n",
    "print('deviation_P = %s' %np.std(SR860_P))\n",
    "\n",
    "plt.hist(SR860_R, 200, color = 'C0', alpha = 0.7, label = 'R')\n",
    "plt.hist(SR860_X, 200, color = 'C1', alpha = 0.7, label = 'X')\n",
    "plt.hist(SR860_Y, 200, color = 'C2', alpha = 0.7, label = 'Y')\n",
    "plt.hist(SR860_P, 200, color = 'C3', alpha = 0.7, label = 'P')\n",
    "\n",
    "plt.ticklabel_format(style='sci', axis='x', scilimits=(0,0)) #set x-axis scale\n",
    "plt.legend()\n",
    "plt.show()\n",
    "    "
   ]
  },
  {
   "cell_type": "markdown",
   "metadata": {},
   "source": [
    "## Fixed voltage versus linear changing frequency"
   ]
  },
  {
   "cell_type": "code",
   "execution_count": null,
   "metadata": {
    "scrolled": true
   },
   "outputs": [],
   "source": [
    "frequency, SR860_R, SR860_X, SR860_Y, SR860_P = [], [], [], [], []\n",
    "\n",
    "N = 100000\n",
    "f_max = 1000\n",
    "v = 0.001\n",
    "start = time()\n",
    "\n",
    "lockin_2.amplitude(v)\n",
    "\n",
    "for i in range(1,N+1):\n",
    "    f = f_max*i/N\n",
    "    lockin_2.frequency(f)\n",
    "    \n",
    "    frequency.append(f)\n",
    "    SR860_R.append(lockin_2.R())\n",
    "    SR860_X.append(lockin_2.X())\n",
    "    SR860_Y.append(lockin_2.Y())\n",
    "    SR860_P.append(lockin_2.P())\n",
    "    \n",
    "    if 10*i%N==0:\n",
    "        print('Measured %s points with elapsed time %ss' %(str(i), str(time()-start)))\n",
    "\n",
    "print('finished')"
   ]
  },
  {
   "cell_type": "code",
   "execution_count": null,
   "metadata": {},
   "outputs": [],
   "source": [
    "#Plotting\n",
    "fig, ax = plt.subplots(4,1, figsize=(15, 10), sharex=True)\n",
    "\n",
    "fig.suptitle('SR860 %sV with frequency range(1, %s)Hz' %(str(v), str(f_max)))\n",
    "\n",
    "ax[0].plot(frequency, SR860_R, label='R', linewidth=1)\n",
    "ax[0].set(ylabel='R', xlim=(0,1000), ylim=(0,2e-6))\n",
    "\n",
    "ax[1].plot(frequency, SR860_X, label='X', linewidth=1)\n",
    "ax[1].set(ylabel='X', ylim=(0,2e-6))\n",
    "\n",
    "ax[2].plot(frequency, SR860_Y, label='Y', linewidth=1)\n",
    "ax[2].set(ylabel='Y',ylim=(-1e-6,1e-6))\n",
    "\n",
    "ax[3].plot(frequency, SR860_P, label='P', linewidth=1)\n",
    "ax[3].set(ylabel='P')\n",
    "\n"
   ]
  },
  {
   "cell_type": "code",
   "execution_count": null,
   "metadata": {},
   "outputs": [],
   "source": [
    "#Save figure\n",
    "fig.savefig(r'C:\\Users\\admin\\SynologyDrive\\09 Data\\DC_Measurement_Test\\Data\\08\\Test1\\2.png')"
   ]
  },
  {
   "cell_type": "code",
   "execution_count": null,
   "metadata": {
    "scrolled": true
   },
   "outputs": [],
   "source": [
    "#repeated measurement for n times\n",
    "\n",
    "frequency, SR860_R, SR860_X, SR860_Y, SR860_P = [], [], [], [], []\n",
    "\n",
    "n = 10\n",
    "N = 100000\n",
    "f_min = 0\n",
    "f_max = 1000\n",
    "df = (f_max - f_min)/N\n",
    "v = 0.001\n",
    "start = time()\n",
    "\n",
    "lockin_2.frequency(f_min+df)\n",
    "sleep(0.1)\n",
    "\n",
    "for j in range(n):\n",
    "    lockin_2.amplitude(v)\n",
    "    for i in range(1,N):\n",
    "        f = f_min + i*df\n",
    "        lockin_2.frequency(f)\n",
    "        \n",
    "        frequency.append(f)\n",
    "        SR860_R.append(lockin_2.R())\n",
    "        SR860_X.append(lockin_2.X())\n",
    "        SR860_Y.append(lockin_2.Y())\n",
    "        SR860_P.append(lockin_2.P())\n",
    "\n",
    "        if 10*i%N==0:\n",
    "            print('Measured %s loops, %s points with elapsed time %ss' %(str(j), str(i), str(np.floor(time()-start))))\n",
    "\n",
    "print('finished')"
   ]
  },
  {
   "cell_type": "code",
   "execution_count": null,
   "metadata": {
    "scrolled": true
   },
   "outputs": [],
   "source": [
    "#Plotting\n",
    "\n",
    "plt.plot(frequency, SR860_R, label='R')\n",
    "plt.plot(frequency, SR860_X, label='X')\n",
    "plt.plot(frequency, SR860_Y, label='Y')\n",
    "# plt.plot(frequency, SR860_P, label='P')\n",
    "\n",
    "plt.title('SR860 %sV with frequency range(1, %s)Hz\\n' %(str(v), str(f_max)))\n",
    "plt.xlabel('frequency')\n",
    "plt.ylabel('SR860 measured voltage')\n",
    "# plt.ticklabel_format(style='sci', axis='y', scilimits=(0,0)) #set x-axis scale\n",
    "# plt.ylim([9.05e-5,9.20e-5])\n",
    "plt.legend()\n",
    "# plt.savefig(r'C:\\Users\\admin\\SynologyDrive\\09 Data\\DC_Measurement_Test\\Data\\08\\1.png')\n",
    "plt.show()\n",
    "\n",
    "\n",
    "\n"
   ]
  },
  {
   "cell_type": "code",
   "execution_count": null,
   "metadata": {},
   "outputs": [],
   "source": [
    "#Plotting\n",
    "fig, ax = plt.subplots(4,1, figsize=(15, 5), sharex=True)\n",
    "\n",
    "fig.suptitle('SR860 %sV with frequency range(1, %s)Hz \\n measured n=10 loops with each N=%s points' %(str(v), str(f_max), str(N)))\n",
    "\n",
    "for i in range(10):\n",
    "    ax[0].plot(frequency[i*N:(i+1)*N], SR860_R[i*N:(i+1)*N], color='C0', linewidth=.5)\n",
    "    ax[0].set(ylabel='R', xlim=(150,250), ylim=(-1e-6,3e-6))\n",
    "\n",
    "    ax[1].plot(frequency[i*N:(i+1)*N], SR860_X[i*N:(i+1)*N], color='C0', linewidth=.5)\n",
    "    ax[1].set(ylabel='X', ylim=(-1e-6,2e-6))\n",
    "\n",
    "    ax[2].plot(frequency[i*N:(i+1)*N], SR860_Y[i*N:(i+1)*N], color='C0', linewidth=.5)\n",
    "    ax[2].set(ylabel='Y', ylim=(-2e-6,2e-6))\n",
    "\n",
    "    ax[3].plot(frequency[i*N:(i+1)*N], SR860_P[i*N:(i+1)*N], color='C0', linewidth=.5)\n",
    "    ax[3].set(xlabel='frequency(Hz)',ylabel='P')\n",
    "    ax[3].locator_params(nbins=20, axis='x')\n"
   ]
  },
  {
   "cell_type": "markdown",
   "metadata": {},
   "source": [
    "# QCoDeS measurement Test"
   ]
  },
  {
   "cell_type": "code",
   "execution_count": null,
   "metadata": {
    "scrolled": true
   },
   "outputs": [],
   "source": [
    "# snapshot_of_station = station.snapshot()\n",
    "# pprint(snapshot_of_station)"
   ]
  },
  {
   "cell_type": "code",
   "execution_count": null,
   "metadata": {},
   "outputs": [],
   "source": [
    "t = ElapsedTimeParameter('t')\n",
    "\n",
    "V_appl = Parameter('V', label='V_appl', unit='V', set_cmd=K213.voltage1) \n",
    "\n",
    "#get_cmd=lambda: keithley_1.amplitude()*1000\n",
    "I_meas = Parameter('I', label='I_meas', unit='A', get_cmd=keithley_1.amplitude.get) "
   ]
  },
  {
   "cell_type": "code",
   "execution_count": null,
   "metadata": {},
   "outputs": [],
   "source": [
    "#Initialize states\n",
    "t.reset_clock()\n",
    "K213.voltage1(0)\n",
    "\n",
    "loop = Loop(V_appl.sweep(-1,1,0.01), delay = 0.001).each(V_appl, I_meas ,t)"
   ]
  },
  {
   "cell_type": "code",
   "execution_count": null,
   "metadata": {},
   "outputs": [],
   "source": [
    "loop.run()"
   ]
  },
  {
   "cell_type": "code",
   "execution_count": null,
   "metadata": {},
   "outputs": [],
   "source": [
    "#Plotting Loop Data\n",
    "%matplotlib inline\n",
    "\n"
   ]
  }
 ],
 "metadata": {
  "kernelspec": {
   "display_name": "Python 3 (ipykernel)",
   "language": "python",
   "name": "python3"
  },
  "language_info": {
   "codemirror_mode": {
    "name": "ipython",
    "version": 3
   },
   "file_extension": ".py",
   "mimetype": "text/x-python",
   "name": "python",
   "nbconvert_exporter": "python",
   "pygments_lexer": "ipython3",
   "version": "3.9.13"
  },
  "toc": {
   "base_numbering": 1,
   "nav_menu": {},
   "number_sections": true,
   "sideBar": true,
   "skip_h1_title": false,
   "title_cell": "Table of Contents",
   "title_sidebar": "Contents",
   "toc_cell": false,
   "toc_position": {
    "height": "calc(100% - 180px)",
    "left": "10px",
    "top": "150px",
    "width": "240px"
   },
   "toc_section_display": true,
   "toc_window_display": true
  }
 },
 "nbformat": 4,
 "nbformat_minor": 2
}
