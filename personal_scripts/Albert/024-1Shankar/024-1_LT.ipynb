{
 "cells": [
  {
   "cell_type": "code",
   "execution_count": 6,
   "metadata": {},
   "outputs": [
    {
     "name": "stdout",
     "output_type": "stream",
     "text": [
      "Imported all modules, QCoDeS version: 0.38.1 initialized\n"
     ]
    }
   ],
   "source": [
    "%matplotlib inline\n",
    "import os, sys\n",
    "import time\n",
    "import pyvisa\n",
    "import warnings\n",
    "import numpy as np\n",
    "import qcodes as qc\n",
    "import matplotlib.pyplot as plt\n",
    "\n",
    "def find_qcodes_local_dir():\n",
    "    dirpath = os.getcwd()\n",
    "    while True:\n",
    "        dirpath, folder_name = os.path.split(dirpath)\n",
    "        if folder_name == 'QCoDeS_local':\n",
    "            return os.path.join(dirpath, folder_name)\n",
    "        if not folder_name:  # Reached the root directory\n",
    "            return None\n",
    "qcodes_local_dir = find_qcodes_local_dir()\n",
    "sys.path.append(f'{qcodes_local_dir}')\n",
    "\n",
    "from tqdm import tqdm\n",
    "from pprint import pprint\n",
    "from time import sleep, monotonic, time\n",
    "from IPython.display import clear_output, display, HTML\n",
    "from qcodes.dataset.measurements import Measurement\n",
    "from qcodes.utils.metadata import diff_param_values\n",
    "from qcodes.dataset.plotting import plot_dataset, plot_by_id\n",
    "from qcodes import Parameter, ManualParameter, ScaledParameter\n",
    "from qcodes.instrument.specialized_parameters import ElapsedTimeParameter\n",
    "from qcodes import ManualParameter, ScaledParameter\n",
    "from sweeps_v2 import do1d, do2d, time_sweep, measure_until, do1d_until\n",
    "\n",
    "from Test.Analysis_functions_v3 import *\n",
    "\n",
    "print('Imported all modules, QCoDeS version:', qc.__version__, 'initialized')"
   ]
  },
  {
   "cell_type": "code",
   "execution_count": 2,
   "metadata": {},
   "outputs": [
    {
     "data": {
      "text/html": [
       "qcodes_local_path:<br><a href=\"file://C:\\Users\\admin\\Documents\\GitHub\\QCoDeS_local\" target=\"_blank\">C:\\Users\\admin\\Documents\\GitHub\\QCoDeS_local</a>"
      ],
      "text/plain": [
       "<IPython.core.display.HTML object>"
      ]
     },
     "metadata": {},
     "output_type": "display_data"
    },
    {
     "data": {
      "text/html": [
       "init_database_py_path:<br><a href=\"file://C:\\Users\\admin\\Documents\\GitHub\\QCoDeS_local\\init_database_v2.py\" target=\"_blank\">C:\\Users\\admin\\Documents\\GitHub\\QCoDeS_local\\init_database_v2.py</a>"
      ],
      "text/plain": [
       "<IPython.core.display.HTML object>"
      ]
     },
     "metadata": {},
     "output_type": "display_data"
    },
    {
     "data": {
      "text/html": [
       "init_fridge_py_path:<br><a href=\"file://C:\\Users\\admin\\Documents\\GitHub\\QCoDeS_local\\init_fridge_v2.py\" target=\"_blank\">C:\\Users\\admin\\Documents\\GitHub\\QCoDeS_local\\init_fridge_v2.py</a>"
      ],
      "text/plain": [
       "<IPython.core.display.HTML object>"
      ]
     },
     "metadata": {},
     "output_type": "display_data"
    },
    {
     "data": {
      "text/html": [
       "init_BF1_path:<br><a href=\"file://C:\\Users\\admin\\Documents\\GitHub\\QCoDeS_local\\fridge_specific\\init_BF1_v2.py\" target=\"_blank\">C:\\Users\\admin\\Documents\\GitHub\\QCoDeS_local\\fridge_specific\\init_BF1_v2.py</a>"
      ],
      "text/plain": [
       "<IPython.core.display.HTML object>"
      ]
     },
     "metadata": {},
     "output_type": "display_data"
    }
   ],
   "source": [
    "def get_qcodes_local_path(PC_name = \"116-1\"):\n",
    "    \"\"\"\n",
    "    根據選擇的代號獲取對應的路徑。\n",
    "\n",
    "    參數:\n",
    "    PC_name (str): 電腦的代號, P6F-1, P6f-2, 116-1, 116-2, Albert-Mac\n",
    "\n",
    "    返回:\n",
    "    str: 對應的路徑，如果代號不存在則返回 None\n",
    "\n",
    "    \"\"\"\n",
    "    # 定義代號到路徑的映射\n",
    "    qcodes_local_dir_dict = {\n",
    "        \"116-1\": \"C:\\\\Users\\\\admin\\\\Documents\\\\GitHub\\\\QCoDeS_local\",\n",
    "        \"116-2\": \"C:\\\\Users\\\\quant\\\\OneDrive\\\\Documents\\\\GitHub\\\\QCoDeS_local\",\n",
    "        \"P6F-1\": \"C:\\\\Users\\\\admin\\\\Documents\\\\GitHub\\\\QCoDeS_local\",\n",
    "        \"P6f-2\": \"C:\\\\Users\\\\Ke Lab\\\\Documents\\\\GitHub\\\\QCoDeS_local\",\n",
    "        \"Albert-Mac\": \"/Users/albert-mac/Code/GitHub/QCoDeS_local\"\n",
    "    }\n",
    "\n",
    "    # 報錯: 未找到對應的路徑\n",
    "    if PC_name not in qcodes_local_dir_dict:\n",
    "        raise ValueError(f\"未找到代號 {PC_name} 對應的路徑, 請輸入以下代號之一: {', '.join(qcodes_local_dir_dict.keys())}\")\n",
    "    \n",
    "    # 根據代號獲取對應的路徑\n",
    "    return qcodes_local_dir_dict.get(PC_name)\n",
    "\n",
    "def find_init_file(file_name, PC_name=\"116-1\"):\n",
    "    qcodes_local_path = get_qcodes_local_path(PC_name)\n",
    "    if qcodes_local_path:\n",
    "        for root, dirs, files in os.walk(qcodes_local_path):\n",
    "            if file_name in files:\n",
    "                return os.path.join(root, file_name)\n",
    "    return None\n",
    "\n",
    "\n",
    "def path_display(paths):\n",
    "    for name, file_path in paths.items():\n",
    "        if file_path:\n",
    "            display(HTML(f'{name}:<br><a href=\"file://{file_path}\" target=\"_blank\">{file_path}</a>'))\n",
    "        else:\n",
    "            print(f\"{name}: {file_path} not found\")\n",
    "\n",
    "# 使用字典來存放變數名及其值\n",
    "paths = {\n",
    "    'qcodes_local_path': get_qcodes_local_path(\"116-1\"),\n",
    "    'init_database_py_path': find_init_file('init_database_v2.py'),\n",
    "    'init_fridge_py_path': find_init_file('init_fridge_v2.py'),\n",
    "    'init_BF1_path': find_init_file('init_BF1_v2.py')\n",
    "}\n",
    "\n",
    "# 調用 path_display 函數\n",
    "path_display(paths)"
   ]
  },
  {
   "cell_type": "code",
   "execution_count": 3,
   "metadata": {},
   "outputs": [
    {
     "name": "stdout",
     "output_type": "stream",
     "text": [
      "Found init_BF1_v2.py at: c:\\Users\\admin\\Documents\\GitHub\\QCoDeS_local\\fridge_specific\\init_BF1_v2.py\n",
      "Device: TCPIP0::K-E5080B-02870::inst0::INSTR\n",
      "IDN: Keysight Technologies,E5080B,MY59202870,A.15.10.08\n",
      "\n",
      "Error connecting to ASRL1::INSTR: VI_ERROR_TMO (-1073807339): Timeout expired before operation completed.\n",
      "Device: GPIB0::7::INSTR\n",
      "IDN: KEITHLEY INSTRUMENTS,MODEL DMM6500,04518181,1.7.7b\n",
      "\n",
      "Connected to: KEITHLEY INSTRUMENTS DMM6500 (serial:04518181, firmware:1.7.7b) in 0.02s\n",
      "Added Keithley DMM6500 at GPIB0::7::INSTR to the station.\n",
      "Device: GPIB0::22::INSTR\n",
      "IDN: KEITHLEY INSTRUMENTS INC.,MODEL 2440,1225508,C30   Mar 17 2006 09:29:29/A02  /B/A\n",
      "\n",
      "Connected to: KEITHLEY INSTRUMENTS INC. 2440 (serial:1225508, firmware:C30   Mar 17 2006 09:29:29/A02  /B/A) in 0.03s\n"
     ]
    },
    {
     "name": "stderr",
     "output_type": "stream",
     "text": [
      "[K2440(Keithley2400)] Snapshot: Could not update parameter: volt\n",
      "[K2440(Keithley2400)] Snapshot: Could not update parameter: curr\n",
      "[K2440(Keithley2400)] Snapshot: Could not update parameter: resistance\n"
     ]
    },
    {
     "name": "stdout",
     "output_type": "stream",
     "text": [
      "Connected to: AMERICAN MAGNETICS INC. 430 (serial:430-22-114, firmware:3.15) in 2.03s\n",
      "Connected to: AMERICAN MAGNETICS INC. 430 (serial:430-22-113, firmware:3.15) in 1.20s\n",
      "Connected to: AMERICAN MAGNETICS INC. 430 (serial:430-22-111, firmware:3.15) in 1.04s\n",
      "z, IP: 169.254.115.3, Port: 7180\n",
      "y, IP: 169.254.115.2, Port: 7180\n",
      "x, IP: 169.254.115.1, Port: 7180\n"
     ]
    },
    {
     "name": "stderr",
     "output_type": "stream",
     "text": [
      "C:\\Users\\admin\\AppData\\Roaming\\Python\\Python39\\site-packages\\qcodes\\instrument\\instrument_base.py:543: UserWarning: Changed AMI430-3D to AMI430_3D for instrument identifier\n",
      "  warnings.warn(f\"Changed {name} to {new_name} for instrument identifier\")\n"
     ]
    },
    {
     "name": "stdout",
     "output_type": "stream",
     "text": [
      "Added z to the station.\n",
      "Added y to the station.\n",
      "Added x to the station.\n",
      "Added AMI430_3D to the station.\n",
      "\n",
      "Station list:\n",
      "{'AMI430_3D': <AMI430_3D: AMI430_3D>,\n",
      " 'DMM6500': <Keithley_6500: DMM6500>,\n",
      " 'K2440': <Keithley2400: K2440>,\n",
      " 'x': <AMI430: x>,\n",
      " 'y': <AMI430: y>,\n",
      " 'z': <AMI430: z>}\n"
     ]
    }
   ],
   "source": [
    "fridge_name = 'BF1'\n",
    "%run {paths[\"init_fridge_py_path\"]} {fridge_name}"
   ]
  },
  {
   "cell_type": "code",
   "execution_count": 4,
   "metadata": {},
   "outputs": [
    {
     "name": "stdout",
     "output_type": "stream",
     "text": [
      "Creating a new database file:\n",
      "c:\\Users\\admin\\Documents\\GitHub\\QCoDeS_local\\personal_scripts\\Albert\\024-1Shankar\\024-1Shankar_2024-08-26_01.db\n"
     ]
    }
   ],
   "source": [
    "reuse = True\n",
    "%run {paths[\"init_database_py_path\"]} {reuse}"
   ]
  },
  {
   "cell_type": "code",
   "execution_count": 7,
   "metadata": {},
   "outputs": [
    {
     "data": {
      "text/plain": [
       "'Gain_L2'"
      ]
     },
     "execution_count": 7,
     "metadata": {},
     "output_type": "execute_result"
    }
   ],
   "source": [
    "Irange = Parameter('Irange', label='current range', unit='', set_cmd=None, get_cmd=None)\n",
    "Vrange = Parameter('Vrange', label='voltage range', unit='', set_cmd=None, get_cmd=None)\n",
    "TGrange = Parameter('TGrange', label='Top gate range', unit='', set_cmd=None, get_cmd=None)\n",
    "\n",
    "#division paraemtrs required for simplier update: they used as an argument for scaled paraemtrs of sorce instruments\n",
    "\n",
    "Irange_division = Parameter('Irange_division', \n",
    "                            label='scaled current range', unit='', \n",
    "                            set_cmd=None, get_cmd=lambda : 1 / Irange())\n",
    "\n",
    "Vrange_division = Parameter('Vrange_division', \n",
    "                            label='scaled voltage range', unit='', \n",
    "                            set_cmd=None, get_cmd=lambda : 1 / Vrange())\n",
    "\n",
    "TGrange_division = Parameter('TGrange_division', \n",
    "                             label='scaled Top gate range', unit='', \n",
    "                             set_cmd=None, get_cmd=lambda : 1 / TGrange())\n",
    "\n",
    "Irange_AC_division = Parameter('Irange_AC_division', \n",
    "                               label='scaled current range for lockin', unit='', \n",
    "                               set_cmd=None, get_cmd=lambda : 1 / Irange())\n",
    "\n",
    "Vrange_AC_division = Parameter('Vrange_AC_division', \n",
    "                               label='scaled voltage range for lockin', unit='', \n",
    "                               set_cmd=None, get_cmd=lambda : 1 / Vrange())\n",
    "\n",
    "Gain_K1 = Parameter('Gain_K1', label='Gain K1', unit='', set_cmd=None, get_cmd=None)\n",
    "Gain_K2 = Parameter('Gain_K2', label='Gain K2', unit='', set_cmd=None, get_cmd=None)\n",
    "Gain_L1 = Parameter('Gain_L1', label='Gain L1', unit='', set_cmd=None, get_cmd=None)\n",
    "Gain_L2 = Parameter('Gain_L2', label='Gain L2', unit='', set_cmd=None, get_cmd=None)\n",
    "\n",
    "#Add components\n",
    "station.add_component(Irange)\n",
    "station.add_component(Vrange)\n",
    "station.add_component(TGrange)\n",
    "\n",
    "station.add_component(Irange_division)\n",
    "station.add_component(Vrange_division)\n",
    "station.add_component(TGrange_division)\n",
    "\n",
    "station.add_component(Irange_AC_division)\n",
    "station.add_component(Vrange_AC_division)\n",
    "                             \n",
    "station.add_component(Gain_K1)\n",
    "station.add_component(Gain_K2)\n",
    "station.add_component(Gain_L1)\n",
    "station.add_component(Gain_L2)"
   ]
  },
  {
   "cell_type": "code",
   "execution_count": 8,
   "metadata": {},
   "outputs": [],
   "source": [
    "Irange.set(1e-6) #Unit Amp V=IR, 1V= 1e-6 x 1MOhm=1e-7 x 10MOhm\n",
    "Vrange.set(10) ## need to be sync with K213 range #Unit Volt\n",
    "TGrange.set(1) #Unit Volt\n",
    "Gain_K1.set(100)\n",
    "Gain_K2.set(100)\n",
    "# Gain_K3.set(1e2)\n",
    "Gain_L1.set(Gain_K1())\n",
    "Gain_L2.set(Gain_K2())\n",
    "#division parameters are updated automatically"
   ]
  },
  {
   "cell_type": "code",
   "execution_count": 9,
   "metadata": {},
   "outputs": [
    {
     "data": {
      "text/plain": [
       "'meas_leakage'"
      ]
     },
     "execution_count": 9,
     "metadata": {},
     "output_type": "execute_result"
    }
   ],
   "source": [
    "appl_current = ScaledParameter(K2440.volt, division = Irange_division, name = 'appl_current', unit = 'A')\n",
    "meas_voltage_K2 = ScaledParameter(DMM6500.amplitude, division = Gain_K2, name = 'meas_voltage_K2', unit = 'V')\n",
    "meas_current_K2 = ScaledParameter(DMM6500.amplitude, division = Gain_K2, name = 'meas_current_K2', unit = 'A')\n",
    "meas_leakage = ScaledParameter(DMM6500.amplitude, division = Gain_K2, name = 'meas_leakage', unit = 'A')\n",
    "station.add_component(appl_current)\n",
    "station.add_component(meas_voltage_K2)\n",
    "station.add_component(meas_current_K2)\n",
    "station.add_component(meas_leakage)"
   ]
  },
  {
   "cell_type": "code",
   "execution_count": 10,
   "metadata": {},
   "outputs": [],
   "source": [
    "def get_R_from_IV(dataid):\n",
    "    dataset = qc.load_by_id(dataid)\n",
    "\n",
    "    voltage = dataset.get_parameter_data()['meas_voltage_K2']['meas_voltage_K2']\n",
    "    current = dataset.get_parameter_data()['meas_voltage_K2']['appl_current']\n",
    "    fit_values = np.polyfit(current,voltage,1)\n",
    "    \n",
    "    return fit_values[0]\n",
    "\n",
    "def get_R_from_IV_2(dataid):\n",
    "    dataset = qc.load_by_id(dataid)\n",
    "\n",
    "    voltage = dataset.get_parameter_data()['meas_voltage_K2']['meas_voltage_K2']\n",
    "    current = dataset.get_parameter_data()['meas_voltage_K2']['appl_current']\n",
    "    fit_values = np.polyfit(current,voltage,1)\n",
    "    \n",
    "    return fit_values[0]"
   ]
  },
  {
   "cell_type": "code",
   "execution_count": 25,
   "metadata": {},
   "outputs": [
    {
     "data": {
      "text/plain": [
       "10.5"
      ]
     },
     "execution_count": 25,
     "metadata": {},
     "output_type": "execute_result"
    }
   ],
   "source": [
    "K2440.rangev()\n",
    "# K2440.output(1)\n",
    "# K2440.volt()\n"
   ]
  },
  {
   "cell_type": "code",
   "execution_count": 33,
   "metadata": {},
   "outputs": [],
   "source": [
    "DMM6500.averaging_enabled(False)"
   ]
  },
  {
   "cell_type": "code",
   "execution_count": 29,
   "metadata": {},
   "outputs": [],
   "source": [
    "DMM6500.averaging_count(5)"
   ]
  },
  {
   "cell_type": "code",
   "execution_count": 18,
   "metadata": {},
   "outputs": [
    {
     "data": {
      "text/plain": [
       "0.059999388"
      ]
     },
     "execution_count": 18,
     "metadata": {},
     "output_type": "execute_result"
    }
   ],
   "source": [
    "magnet_x.field(60e-3)\n",
    "magnet_x.field()"
   ]
  },
  {
   "cell_type": "code",
   "execution_count": 20,
   "metadata": {},
   "outputs": [
    {
     "data": {
      "text/plain": [
       "0.050066584"
      ]
     },
     "execution_count": 20,
     "metadata": {},
     "output_type": "execute_result"
    }
   ],
   "source": [
    "magnet_x.field(50e-3)\n",
    "magnet_x.field()"
   ]
  },
  {
   "cell_type": "code",
   "execution_count": 34,
   "metadata": {},
   "outputs": [
    {
     "name": "stdout",
     "output_type": "stream",
     "text": [
      "Starting experimental run with id: 1. \n"
     ]
    },
    {
     "name": "stderr",
     "output_type": "stream",
     "text": [
      "100%|██████████| 101/101 [00:06<00:00, 16.00it/s]\n",
      "Trying to mark a run completed that was already completed.\n"
     ]
    },
    {
     "ename": "NameError",
     "evalue": "name 'IV' is not defined",
     "output_type": "error",
     "traceback": [
      "\u001b[1;31m---------------------------------------------------------------------------\u001b[0m",
      "\u001b[1;31mNameError\u001b[0m                                 Traceback (most recent call last)",
      "Cell \u001b[1;32mIn[34], line 7\u001b[0m\n\u001b[0;32m      5\u001b[0m K2440\u001b[38;5;241m.\u001b[39moutput(\u001b[38;5;241m0\u001b[39m)\n\u001b[0;32m      6\u001b[0m plot_by_id(dataid)\n\u001b[1;32m----> 7\u001b[0m \u001b[43mIV\u001b[49m(dataid)\n\u001b[0;32m      8\u001b[0m IV_diff(dataid)\n\u001b[0;32m      9\u001b[0m plot_IV_and_dVdI(dataid)\n",
      "\u001b[1;31mNameError\u001b[0m: name 'IV' is not defined"
     ]
    },
    {
     "data": {
      "image/png": "[encoded data removed]",
      "text/plain": [
       "<Figure size 640x480 with 1 Axes>"
      ]
     },
     "metadata": {},
     "output_type": "display_data"
    }
   ],
   "source": [
    "K2440.output(1)\n",
    "exp = qc.new_experiment('I-V', sample_name=f'')\n",
    "dataid = do1d(appl_current, -5e-6 ,5e-6, 101, 30e-3, meas_voltage_K2)\n",
    "appl_current(0)\n",
    "K2440.output(0)\n",
    "plot_by_id(dataid)\n",
    "# IV(dataid)\n",
    "# IV_diff(dataid)\n",
    "# plot_IV_and_dVdI(dataid)\n"
   ]
  },
  {
   "cell_type": "code",
   "execution_count": 35,
   "metadata": {},
   "outputs": [
    {
     "data": {
      "text/plain": [
       "1009.7675073756552"
      ]
     },
     "execution_count": 35,
     "metadata": {},
     "output_type": "execute_result"
    }
   ],
   "source": [
    "get_R_from_IV(dataid)"
   ]
  }
 ],
 "metadata": {
  "kernelspec": {
   "display_name": "qcodes",
   "language": "python",
   "name": "python3"
  },
  "language_info": {
   "codemirror_mode": {
    "name": "ipython",
    "version": 3
   },
   "file_extension": ".py",
   "mimetype": "text/x-python",
   "name": "python",
   "nbconvert_exporter": "python",
   "pygments_lexer": "ipython3",
   "version": "3.9.13"
  }
 },
 "nbformat": 4,
 "nbformat_minor": 2
}
