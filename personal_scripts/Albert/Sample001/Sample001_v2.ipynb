{
 "cells": [
  {
   "cell_type": "markdown",
   "metadata": {},
   "source": [
    "# 1.0 Initialization"
   ]
  },
  {
   "cell_type": "markdown",
   "metadata": {},
   "source": [
    "## 1.1 Inport modules"
   ]
  },
  {
   "cell_type": "code",
   "execution_count": 1,
   "metadata": {},
   "outputs": [],
   "source": [
    "%matplotlib ipympl\n",
    "import os, sys"
   ]
  },
  {
   "cell_type": "code",
   "execution_count": 3,
   "metadata": {},
   "outputs": [],
   "source": [
    "%matplotlib ipympl\n",
    "import os, sys\n",
    "def get_qcodes_local_path(selected_code = \"P6F-1\"):\n",
    "    \"\"\"\n",
    "    根據選擇的代號獲取對應的路徑。\n",
    "\n",
    "    參數:\n",
    "    selected_code (str): 電腦的代號, P6F-1, P6f-2, 116-1, 116-2, Albert-Mac\n",
    "\n",
    "    返回:\n",
    "    str: 對應的路徑，如果代號不存在則返回 None\n",
    "\n",
    "    已登錄路徑的電腦代號:\n",
    "    - 116-1: C:\\\\Users\\\\admin\\\\Documents\\\\GitHub\\\\QCoDeS_local\n",
    "    - 116-2: C:\\\\Users\\\\quant\\\\OneDrive\\\\Documents\\\\GitHub\\\\QCoDeS_local\n",
    "    - P6F-1: C:\\\\Users\\\\admin\\\\Documents\\\\GitHub\\\\QCoDeS_local\n",
    "    - P6f-2: C:\\\\Users\\\\Ke Lab\\\\Documents\\\\GitHub\\\\QCoDeS_local\n",
    "    - Albert-Mac: /Users/albert-mac/Code/GitHub/QCoDeS_local\n",
    "    \"\"\"\n",
    "    # 定義代號到路徑的映射\n",
    "    qcodes_local_dir_dict = {\n",
    "        \"116-1\": \"C:\\\\Users\\\\admin\\\\Documents\\\\GitHub\\\\QCoDeS_local\",\n",
    "        \"116-2\": \"C:\\\\Users\\\\quant\\\\OneDrive\\\\Documents\\\\GitHub\\\\QCoDeS_local\",\n",
    "        \"P6F-1\": \"C:\\\\Users\\\\admin\\\\Documents\\\\GitHub\\\\QCoDeS_local\",\n",
    "        \"P6f-2\": \"C:\\\\Users\\\\Ke Lab\\\\Documents\\\\GitHub\\\\QCoDeS_local\",\n",
    "        \"Albert-Mac\": \"/Users/albert-mac/Code/GitHub/QCoDeS_local\"\n",
    "    }\n",
    "\n",
    "    # 報錯: 未找到對應的路徑\n",
    "    if selected_code not in qcodes_local_dir_dict:\n",
    "        raise ValueError(f\"未找到代號 {selected_code} 對應的路徑, 請輸入以下代號之一: {', '.join(qcodes_local_dir_dict.keys())}\")\n",
    "    \n",
    "    # 根據代號獲取對應的路徑\n",
    "    return qcodes_local_dir_dict.get(selected_code)\n",
    "qcodes_local_path = get_qcodes_local_path(selected_code = \"Albert-Mac\")\n",
    "sys.path.append(f'{qcodes_local_path}')\n",
    "from Test.Analysis_functions_v3 import *"
   ]
  },
  {
   "cell_type": "code",
   "execution_count": 4,
   "metadata": {},
   "outputs": [
    {
     "data": {
      "text/plain": [
       "['/opt/anaconda3/envs/py3.11/lib/python311.zip',\n",
       " '/opt/anaconda3/envs/py3.11/lib/python3.11',\n",
       " '/opt/anaconda3/envs/py3.11/lib/python3.11/lib-dynload',\n",
       " '',\n",
       " '/opt/anaconda3/envs/py3.11/lib/python3.11/site-packages',\n",
       " '/Users/albert-mac/Code/GitHub/QCoDeS_local']"
      ]
     },
     "execution_count": 4,
     "metadata": {},
     "output_type": "execute_result"
    }
   ],
   "source": [
    "sys.path"
   ]
  },
  {
   "cell_type": "code",
   "execution_count": 6,
   "metadata": {},
   "outputs": [],
   "source": [
    "from Test.Analysis_functions_v3 import *"
   ]
  },
  {
   "cell_type": "code",
   "execution_count": 1,
   "metadata": {},
   "outputs": [
    {
     "name": "stdout",
     "output_type": "stream",
     "text": [
      "Imported all modules, QCoDeS version: 0.45.0 initialized\n"
     ]
    }
   ],
   "source": [
    "%matplotlib ipympl\n",
    "import os, sys\n",
    "import time\n",
    "import pyvisa\n",
    "import warnings\n",
    "import numpy as np\n",
    "import qcodes as qc\n",
    "import matplotlib.pyplot as plt\n",
    "\n",
    "def find_qcodes_local_dir():\n",
    "    dirpath = os.getcwd()\n",
    "    while True:\n",
    "        dirpath, folder_name = os.path.split(dirpath)\n",
    "        if folder_name == 'QCoDeS_local':\n",
    "            return os.path.join(dirpath, folder_name)\n",
    "        if not folder_name:  # Reached the root directory\n",
    "            return None\n",
    "qcodes_local_dir = find_qcodes_local_dir()\n",
    "sys.path.append(f'{qcodes_local_dir}')\n",
    "\n",
    "from tqdm import tqdm\n",
    "from pprint import pprint\n",
    "from time import sleep, monotonic, time\n",
    "from IPython.display import clear_output\n",
    "from qcodes.dataset.measurements import Measurement\n",
    "from qcodes.utils.metadata import diff_param_values\n",
    "from qcodes.dataset.plotting import plot_dataset, plot_by_id\n",
    "from qcodes import Parameter, ManualParameter, ScaledParameter\n",
    "from qcodes.instrument.specialized_parameters import ElapsedTimeParameter\n",
    "from sweeps_v2 import do1d, do2d, time_sweep, measure_until, do1d_until\n",
    "\n",
    "print('Imported all modules, QCoDeS version:', qc.__version__, 'initialized')"
   ]
  },
  {
   "cell_type": "code",
   "execution_count": 7,
   "metadata": {},
   "outputs": [],
   "source": [
    "from Test.Analysis_functions_v3 import *"
   ]
  },
  {
   "cell_type": "code",
   "execution_count": null,
   "metadata": {},
   "outputs": [],
   "source": []
  },
  {
   "cell_type": "code",
   "execution_count": null,
   "metadata": {},
   "outputs": [],
   "source": [
    "open_plottr()"
   ]
  },
  {
   "cell_type": "code",
   "execution_count": null,
   "metadata": {},
   "outputs": [],
   "source": [
    "qcodes_local_dir_list = [116-1 C:\\Users\\admin\\Documents\\GitHub\\QCoDeS_local\n",
    "116-2 C:\\Users\\quant\\OneDrive\\Documents\\GitHub\\QCoDeS_local\n",
    "P6F-1 C:\\Users\\admin\\Documents\\GitHub\\QCoDeS_local\n",
    "P6f-2 C:\\Users\\Ke Lab\\Documents\\GitHub\\QCoDeS_local\n",
    "Albert-Mac /Users/albert-mac/Code/GitHub/QCoDeS_local]"
   ]
  },
  {
   "cell_type": "code",
   "execution_count": null,
   "metadata": {},
   "outputs": [],
   "source": [
    "qcodes_local_dir_list = [\n",
    "    \"116-1 C:\\\\Users\\\\admin\\\\Documents\\\\GitHub\\\\QCoDeS_local\",\n",
    "    \"116-2 C:\\\\Users\\\\quant\\\\OneDrive\\\\Documents\\\\GitHub\\\\QCoDeS_local\",\n",
    "    \"P6F-1 C:\\\\Users\\\\admin\\\\Documents\\\\GitHub\\\\QCoDeS_local\",\n",
    "    \"P6f-2 C:\\\\Users\\\\Ke Lab\\\\Documents\\\\GitHub\\\\QCoDeS_local\",\n",
    "    \"Albert-Mac /Users/albert-mac/Code/GitHub/QCoDeS_local\"\n",
    "]"
   ]
  },
  {
   "cell_type": "code",
   "execution_count": 8,
   "metadata": {},
   "outputs": [
    {
     "name": "stdout",
     "output_type": "stream",
     "text": [
      "選擇的路徑是: C:\\Users\\admin\\Documents\\GitHub\\QCoDeS_local\n"
     ]
    }
   ],
   "source": [
    "# 定義代號到路徑的映射\n",
    "qcodes_local_dir_dict = {\n",
    "    \"116-1\": \"C:\\\\Users\\\\admin\\\\Documents\\\\GitHub\\\\QCoDeS_local\",\n",
    "    \"116-2\": \"C:\\\\Users\\\\quant\\\\OneDrive\\\\Documents\\\\GitHub\\\\QCoDeS_local\",\n",
    "    \"P6F-1\": \"C:\\\\Users\\\\admin\\\\Documents\\\\GitHub\\\\QCoDeS_local\",\n",
    "    \"P6f-2\": \"C:\\\\Users\\\\Ke Lab\\\\Documents\\\\GitHub\\\\QCoDeS_local\",\n",
    "    \"Albert-Mac\": \"/Users/albert-mac/Code/GitHub/QCoDeS_local\"\n",
    "}\n",
    "\n",
    "# 假設你有一個選擇的代號\n",
    "selected_code = \"P6F-1\"\n",
    "\n",
    "# 根據代號獲取對應的路徑\n",
    "selected_path = qcodes_local_dir_dict.get(selected_code)\n",
    "\n",
    "if selected_path:\n",
    "    print(f\"選擇的路徑是: {selected_path}\")\n",
    "else:\n",
    "    print(\"未找到對應的路徑\")"
   ]
  },
  {
   "cell_type": "code",
   "execution_count": null,
   "metadata": {},
   "outputs": [],
   "source": [
    "def get_qcodes_local_path(selected_code):\n",
    "    \"\"\"\n",
    "    根據選擇的代號獲取對應的路徑。\n",
    "\n",
    "    參數:\n",
    "    selected_code (str): 電腦的代號\n",
    "\n",
    "    返回:\n",
    "    str: 對應的路徑，如果代號不存在則返回 None\n",
    "    \"\"\"\n",
    "    # 定義代號到路徑的映射\n",
    "    qcodes_local_dir_dict = {\n",
    "        \"116-1\": \"C:\\\\Users\\\\admin\\\\Documents\\\\GitHub\\\\QCoDeS_local\",\n",
    "        \"116-2\": \"C:\\\\Users\\\\quant\\\\OneDrive\\\\Documents\\\\GitHub\\\\QCoDeS_local\",\n",
    "        \"P6F-1\": \"C:\\\\Users\\\\admin\\\\Documents\\\\GitHub\\\\QCoDeS_local\",\n",
    "        \"P6f-2\": \"C:\\\\Users\\\\Ke Lab\\\\Documents\\\\GitHub\\\\QCoDeS_local\",\n",
    "        \"Albert-Mac\": \"/Users/albert-mac/Code/GitHub/QCoDeS_local\"\n",
    "    }\n",
    "\n",
    "    # 根據代號獲取對應的路徑\n",
    "    return qcodes_local_dir_dict.get(selected_code)\n",
    "\n",
    "# 使用範例\n",
    "selected_code = \"P6F-1\"\n",
    "selected_path = get_qcodes_local_path(selected_code)\n",
    "\n",
    "if selected_path:\n",
    "    print(f\"選擇的路徑是: {selected_path}\")\n",
    "else:\n",
    "    print(\"未找到對應的路徑\")"
   ]
  },
  {
   "cell_type": "code",
   "execution_count": 14,
   "metadata": {},
   "outputs": [
    {
     "ename": "ValueError",
     "evalue": "未找到代號 P6F-3 對應的路徑, 請輸入以下代號之一: 116-1, 116-2, P6F-1, P6f-2, Albert-Mac",
     "output_type": "error",
     "traceback": [
      "\u001b[0;31m---------------------------------------------------------------------------\u001b[0m",
      "\u001b[0;31mValueError\u001b[0m                                Traceback (most recent call last)",
      "Cell \u001b[0;32mIn[14], line 36\u001b[0m\n\u001b[1;32m     34\u001b[0m \u001b[38;5;66;03m# 使用範例\u001b[39;00m\n\u001b[1;32m     35\u001b[0m selected_code \u001b[38;5;241m=\u001b[39m \u001b[38;5;124m\"\u001b[39m\u001b[38;5;124mP6F-1\u001b[39m\u001b[38;5;124m\"\u001b[39m\n\u001b[0;32m---> 36\u001b[0m selected_path \u001b[38;5;241m=\u001b[39m \u001b[43mget_qcodes_local_path\u001b[49m\u001b[43m(\u001b[49m\u001b[43mselected_code\u001b[49m\u001b[43m \u001b[49m\u001b[38;5;241;43m=\u001b[39;49m\u001b[43m \u001b[49m\u001b[38;5;124;43m\"\u001b[39;49m\u001b[38;5;124;43mP6F-3\u001b[39;49m\u001b[38;5;124;43m\"\u001b[39;49m\u001b[43m)\u001b[49m\n\u001b[1;32m     38\u001b[0m \u001b[38;5;28;01mif\u001b[39;00m selected_path:\n\u001b[1;32m     39\u001b[0m     \u001b[38;5;28mprint\u001b[39m(\u001b[38;5;124mf\u001b[39m\u001b[38;5;124m\"\u001b[39m\u001b[38;5;124m選擇的路徑是: \u001b[39m\u001b[38;5;132;01m{\u001b[39;00mselected_path\u001b[38;5;132;01m}\u001b[39;00m\u001b[38;5;124m\"\u001b[39m)\n",
      "Cell \u001b[0;32mIn[14], line 29\u001b[0m, in \u001b[0;36mget_qcodes_local_path\u001b[0;34m(selected_code)\u001b[0m\n\u001b[1;32m     27\u001b[0m \u001b[38;5;66;03m# 報錯: 未找到對應的路徑\u001b[39;00m\n\u001b[1;32m     28\u001b[0m \u001b[38;5;28;01mif\u001b[39;00m selected_code \u001b[38;5;129;01mnot\u001b[39;00m \u001b[38;5;129;01min\u001b[39;00m qcodes_local_dir_dict:\n\u001b[0;32m---> 29\u001b[0m     \u001b[38;5;28;01mraise\u001b[39;00m \u001b[38;5;167;01mValueError\u001b[39;00m(\u001b[38;5;124mf\u001b[39m\u001b[38;5;124m\"\u001b[39m\u001b[38;5;124m未找到代號 \u001b[39m\u001b[38;5;132;01m{\u001b[39;00mselected_code\u001b[38;5;132;01m}\u001b[39;00m\u001b[38;5;124m 對應的路徑, 請輸入以下代號之一: \u001b[39m\u001b[38;5;132;01m{\u001b[39;00m\u001b[38;5;124m'\u001b[39m\u001b[38;5;124m, \u001b[39m\u001b[38;5;124m'\u001b[39m\u001b[38;5;241m.\u001b[39mjoin(qcodes_local_dir_dict\u001b[38;5;241m.\u001b[39mkeys())\u001b[38;5;132;01m}\u001b[39;00m\u001b[38;5;124m\"\u001b[39m)\n\u001b[1;32m     31\u001b[0m \u001b[38;5;66;03m# 根據代號獲取對應的路徑\u001b[39;00m\n\u001b[1;32m     32\u001b[0m \u001b[38;5;28;01mreturn\u001b[39;00m qcodes_local_dir_dict\u001b[38;5;241m.\u001b[39mget(selected_code)\n",
      "\u001b[0;31mValueError\u001b[0m: 未找到代號 P6F-3 對應的路徑, 請輸入以下代號之一: 116-1, 116-2, P6F-1, P6f-2, Albert-Mac"
     ]
    }
   ],
   "source": [
    "def get_qcodes_local_path(selected_code = \"P6F-1\"):\n",
    "    \"\"\"\n",
    "    根據選擇的代號獲取對應的路徑。\n",
    "\n",
    "    參數:\n",
    "    selected_code (str): 電腦的代號, P6F-1, P6f-2, 116-1, 116-2, Albert-Mac\n",
    "\n",
    "    返回:\n",
    "    str: 對應的路徑，如果代號不存在則返回 None\n",
    "\n",
    "    已登錄路徑的電腦代號:\n",
    "    - 116-1: C:\\\\Users\\\\admin\\\\Documents\\\\GitHub\\\\QCoDeS_local\n",
    "    - 116-2: C:\\\\Users\\\\quant\\\\OneDrive\\\\Documents\\\\GitHub\\\\QCoDeS_local\n",
    "    - P6F-1: C:\\\\Users\\\\admin\\\\Documents\\\\GitHub\\\\QCoDeS_local\n",
    "    - P6f-2: C:\\\\Users\\\\Ke Lab\\\\Documents\\\\GitHub\\\\QCoDeS_local\n",
    "    - Albert-Mac: /Users/albert-mac/Code/GitHub/QCoDeS_local\n",
    "    \"\"\"\n",
    "    # 定義代號到路徑的映射\n",
    "    qcodes_local_dir_dict = {\n",
    "        \"116-1\": \"C:\\\\Users\\\\admin\\\\Documents\\\\GitHub\\\\QCoDeS_local\",\n",
    "        \"116-2\": \"C:\\\\Users\\\\quant\\\\OneDrive\\\\Documents\\\\GitHub\\\\QCoDeS_local\",\n",
    "        \"P6F-1\": \"C:\\\\Users\\\\admin\\\\Documents\\\\GitHub\\\\QCoDeS_local\",\n",
    "        \"P6f-2\": \"C:\\\\Users\\\\Ke Lab\\\\Documents\\\\GitHub\\\\QCoDeS_local\",\n",
    "        \"Albert-Mac\": \"/Users/albert-mac/Code/GitHub/QCoDeS_local\"\n",
    "    }\n",
    "\n",
    "    # 報錯: 未找到對應的路徑\n",
    "    if selected_code not in qcodes_local_dir_dict:\n",
    "        raise ValueError(f\"未找到代號 {selected_code} 對應的路徑, 請輸入以下代號之一: {', '.join(qcodes_local_dir_dict.keys())}\")\n",
    "    \n",
    "    # 根據代號獲取對應的路徑\n",
    "    return qcodes_local_dir_dict.get(selected_code)\n",
    "\n",
    "# 使用範例\n",
    "selected_path = get_qcodes_local_path(selected_code = \"P6F-1\")"
   ]
  },
  {
   "cell_type": "code",
   "execution_count": null,
   "metadata": {},
   "outputs": [],
   "source": []
  }
 ],
 "metadata": {
  "kernelspec": {
   "display_name": "py3.11",
   "language": "python",
   "name": "python3"
  },
  "language_info": {
   "codemirror_mode": {
    "name": "ipython",
    "version": 3
   },
   "file_extension": ".py",
   "mimetype": "text/x-python",
   "name": "python",
   "nbconvert_exporter": "python",
   "pygments_lexer": "ipython3",
   "version": "3.11.8"
  }
 },
 "nbformat": 4,
 "nbformat_minor": 2
}
