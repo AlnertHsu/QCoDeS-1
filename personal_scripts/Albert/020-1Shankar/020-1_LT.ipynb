{
 "cells": [
  {
   "cell_type": "markdown",
   "metadata": {},
   "source": [
    "# 1.0 Initialization"
   ]
  },
  {
   "cell_type": "markdown",
   "metadata": {},
   "source": [
    "## 1.1 Inport modules"
   ]
  },
  {
   "cell_type": "code",
   "execution_count": null,
   "metadata": {},
   "outputs": [],
   "source": [
    "%matplotlib ipympl\n",
    "import os, sys\n",
    "import time\n",
    "import pyvisa\n",
    "import warnings\n",
    "import numpy as np\n",
    "import qcodes as qc\n",
    "import matplotlib.pyplot as plt\n",
    "\n",
    "def find_qcodes_local_dir():\n",
    "    dirpath = os.getcwd()\n",
    "    while True:\n",
    "        dirpath, folder_name = os.path.split(dirpath)\n",
    "        if folder_name == 'QCoDeS_local':\n",
    "            return os.path.join(dirpath, folder_name)\n",
    "        if not folder_name:  # Reached the root directory\n",
    "            return None\n",
    "qcodes_local_dir = find_qcodes_local_dir()\n",
    "sys.path.append(f'{qcodes_local_dir}')\n",
    "\n",
    "from tqdm import tqdm\n",
    "from pprint import pprint\n",
    "from time import sleep, monotonic, time\n",
    "from IPython.display import clear_output, display, HTML\n",
    "from qcodes.dataset.measurements import Measurement\n",
    "from qcodes.utils.metadata import diff_param_values\n",
    "from qcodes.dataset.plotting import plot_dataset, plot_by_id\n",
    "from qcodes import Parameter, ManualParameter, ScaledParameter\n",
    "from qcodes.instrument.specialized_parameters import ElapsedTimeParameter\n",
    "from sweeps_v2 import do1d, do2d, time_sweep, measure_until, do1d_until\n",
    "\n",
    "print('Imported all modules, QCoDeS version:', qc.__version__, 'initialized')"
   ]
  },
  {
   "cell_type": "code",
   "execution_count": 46,
   "metadata": {},
   "outputs": [],
   "source": [
    "from Test.Analysis_functions_v3 import *"
   ]
  },
  {
   "cell_type": "code",
   "execution_count": null,
   "metadata": {},
   "outputs": [],
   "source": [
    "def get_qcodes_local_path(PC_name = \"116-1\"):\n",
    "    \"\"\"\n",
    "    根據選擇的代號獲取對應的路徑。\n",
    "\n",
    "    參數:\n",
    "    PC_name (str): 電腦的代號, P6F-1, P6f-2, 116-1, 116-2, Albert-Mac\n",
    "\n",
    "    返回:\n",
    "    str: 對應的路徑，如果代號不存在則返回 None\n",
    "\n",
    "    \"\"\"\n",
    "    # 定義代號到路徑的映射\n",
    "    qcodes_local_dir_dict = {\n",
    "        \"116-1\": \"C:\\\\Users\\\\admin\\\\Documents\\\\GitHub\\\\QCoDeS_local\",\n",
    "        \"116-2\": \"C:\\\\Users\\\\quant\\\\OneDrive\\\\Documents\\\\GitHub\\\\QCoDeS_local\",\n",
    "        \"P6F-1\": \"C:\\\\Users\\\\admin\\\\Documents\\\\GitHub\\\\QCoDeS_local\",\n",
    "        \"P6f-2\": \"C:\\\\Users\\\\Ke Lab\\\\Documents\\\\GitHub\\\\QCoDeS_local\",\n",
    "        \"Albert-Mac\": \"/Users/albert-mac/Code/GitHub/QCoDeS_local\"\n",
    "    }\n",
    "\n",
    "    # 報錯: 未找到對應的路徑\n",
    "    if PC_name not in qcodes_local_dir_dict:\n",
    "        raise ValueError(f\"未找到代號 {PC_name} 對應的路徑, 請輸入以下代號之一: {', '.join(qcodes_local_dir_dict.keys())}\")\n",
    "    \n",
    "    # 根據代號獲取對應的路徑\n",
    "    return qcodes_local_dir_dict.get(PC_name)\n",
    "\n",
    "def find_init_file(file_name, PC_name=\"116-1\"):\n",
    "    qcodes_local_path = get_qcodes_local_path(PC_name)\n",
    "    if qcodes_local_path:\n",
    "        for root, dirs, files in os.walk(qcodes_local_path):\n",
    "            if file_name in files:\n",
    "                return os.path.join(root, file_name)\n",
    "    return None\n",
    "\n",
    "\n",
    "def path_display(paths):\n",
    "    for name, file_path in paths.items():\n",
    "        if file_path:\n",
    "            display(HTML(f'{name}:<br><a href=\"file://{file_path}\" target=\"_blank\">{file_path}</a>'))\n",
    "        else:\n",
    "            print(f\"{name}: {file_path} not found\")\n",
    "\n",
    "# 使用字典來存放變數名及其值\n",
    "paths = {\n",
    "    'qcodes_local_path': get_qcodes_local_path(\"116-1\"),\n",
    "    'init_database_py_path': find_init_file('init_database_v2.py'),\n",
    "    'init_fridge_py_path': find_init_file('init_fridge_v2.py'),\n",
    "    'init_BF1_path': find_init_file('init_BF1_v2.py')\n",
    "}\n",
    "\n",
    "# 調用 path_display 函數\n",
    "path_display(paths)"
   ]
  },
  {
   "cell_type": "code",
   "execution_count": null,
   "metadata": {},
   "outputs": [],
   "source": [
    "fridge_name = 'BF1'\n",
    "%run {paths[\"init_fridge_py_path\"]} {fridge_name}"
   ]
  },
  {
   "cell_type": "code",
   "execution_count": null,
   "metadata": {},
   "outputs": [],
   "source": [
    "reuse = True\n",
    "%run {paths[\"init_database_py_path\"]} {reuse}"
   ]
  },
  {
   "cell_type": "code",
   "execution_count": null,
   "metadata": {},
   "outputs": [],
   "source": [
    "open_plottr(db_path)"
   ]
  },
  {
   "cell_type": "code",
   "execution_count": 10,
   "metadata": {},
   "outputs": [],
   "source": [
    "from qcodes import ManualParameter, ScaledParameter"
   ]
  },
  {
   "cell_type": "markdown",
   "metadata": {},
   "source": [
    "## Defining scaled parameters"
   ]
  },
  {
   "cell_type": "code",
   "execution_count": null,
   "metadata": {},
   "outputs": [],
   "source": [
    "Irange = Parameter('Irange', label='current range', unit='', set_cmd=None, get_cmd=None)\n",
    "Vrange = Parameter('Vrange', label='voltage range', unit='', set_cmd=None, get_cmd=None)\n",
    "TGrange = Parameter('TGrange', label='Top gate range', unit='', set_cmd=None, get_cmd=None)\n",
    "\n",
    "#division paraemtrs required for simplier update: they used as an argument for scaled paraemtrs of sorce instruments\n",
    "\n",
    "Irange_division = Parameter('Irange_division', \n",
    "                            label='scaled current range', unit='', \n",
    "                            set_cmd=None, get_cmd=lambda : 1 / Irange())\n",
    "\n",
    "Vrange_division = Parameter('Vrange_division', \n",
    "                            label='scaled voltage range', unit='', \n",
    "                            set_cmd=None, get_cmd=lambda : 1 / Vrange())\n",
    "\n",
    "TGrange_division = Parameter('TGrange_division', \n",
    "                             label='scaled Top gate range', unit='', \n",
    "                             set_cmd=None, get_cmd=lambda : 1 / TGrange())\n",
    "\n",
    "Irange_AC_division = Parameter('Irange_AC_division', \n",
    "                               label='scaled current range for lockin', unit='', \n",
    "                               set_cmd=None, get_cmd=lambda : 1 / Irange())\n",
    "\n",
    "Vrange_AC_division = Parameter('Vrange_AC_division', \n",
    "                               label='scaled voltage range for lockin', unit='', \n",
    "                               set_cmd=None, get_cmd=lambda : 1 / Vrange())\n",
    "\n",
    "Gain_K1 = Parameter('Gain_K1', label='Gain K1', unit='', set_cmd=None, get_cmd=None)\n",
    "Gain_K2 = Parameter('Gain_K2', label='Gain K2', unit='', set_cmd=None, get_cmd=None)\n",
    "Gain_L1 = Parameter('Gain_L1', label='Gain L1', unit='', set_cmd=None, get_cmd=None)\n",
    "Gain_L2 = Parameter('Gain_L2', label='Gain L2', unit='', set_cmd=None, get_cmd=None)\n",
    "\n",
    "#Add components\n",
    "station.add_component(Irange)\n",
    "station.add_component(Vrange)\n",
    "station.add_component(TGrange)\n",
    "\n",
    "station.add_component(Irange_division)\n",
    "station.add_component(Vrange_division)\n",
    "station.add_component(TGrange_division)\n",
    "\n",
    "station.add_component(Irange_AC_division)\n",
    "station.add_component(Vrange_AC_division)\n",
    "                             \n",
    "station.add_component(Gain_K1)\n",
    "station.add_component(Gain_K2)\n",
    "station.add_component(Gain_L1)\n",
    "station.add_component(Gain_L2)"
   ]
  },
  {
   "cell_type": "code",
   "execution_count": 152,
   "metadata": {},
   "outputs": [],
   "source": [
    "Irange.set(1e-6) #Unit Amp V=IR, 1V= 1e-6 x 1MOhm=1e-7 x 10MOhm\n",
    "Vrange.set(10) ## need to be sync with K213 range #Unit Volt\n",
    "TGrange.set(1) #Unit Volt\n",
    "Gain_K1.set(100)\n",
    "Gain_K2.set(100)\n",
    "# Gain_K3.set(1e2)\n",
    "Gain_L1.set(Gain_K1())\n",
    "Gain_L2.set(Gain_K2())\n",
    "#division parameters are updated automatically"
   ]
  },
  {
   "cell_type": "markdown",
   "metadata": {},
   "source": [
    "SR860.sine_outdc()"
   ]
  },
  {
   "cell_type": "code",
   "execution_count": null,
   "metadata": {},
   "outputs": [],
   "source": [
    "from qcodes.instrument_drivers.stanford_research.SR860 import SR860\n",
    "SR860_1 = SR860('SR860_1', 'GPIB0::5::INSTR')"
   ]
  },
  {
   "cell_type": "code",
   "execution_count": null,
   "metadata": {},
   "outputs": [],
   "source": [
    "station.add_component(SR860_1)"
   ]
  },
  {
   "cell_type": "code",
   "execution_count": null,
   "metadata": {},
   "outputs": [],
   "source": [
    "DMM6500.amplitude()"
   ]
  },
  {
   "cell_type": "code",
   "execution_count": null,
   "metadata": {},
   "outputs": [],
   "source": [
    "SR860_1.R()"
   ]
  },
  {
   "cell_type": "code",
   "execution_count": 28,
   "metadata": {},
   "outputs": [],
   "source": [
    "SR860_1.sine_outdc(0e-3)"
   ]
  },
  {
   "cell_type": "code",
   "execution_count": 135,
   "metadata": {},
   "outputs": [],
   "source": [
    "appl_current = ScaledParameter(SR860_1.sine_outdc, division = Irange_division, name = 'appl_current', unit = 'A')\n",
    "meas_voltage_K2 = ScaledParameter(DMM6500.amplitude, division = Gain_K2, name = 'meas_voltage_K2', unit = 'V')\n",
    "meas_current_K2 = ScaledParameter(DMM6500.amplitude, division = Gain_K2, name = 'meas_current_K2', unit = 'A')\n",
    "meas_leakage = ScaledParameter(DMM6500.amplitude, division = Gain_K2, name = 'meas_leakage', unit = 'A')\n",
    "appl_current_AC = ScaledParameter(SR860_1.amplitude, division = Irange_AC_division, name = 'appl_current_AC', unit = 'A')\n",
    "appl_voltage_AC = ScaledParameter(SR860_1.amplitude, division = Vrange_AC_division, name = 'appl_voltage_AC', unit = 'V')\n",
    "meas_voltage_AC_L1 = ScaledParameter(SR860_1.X, division = Gain_L1, name = 'meas_voltage_SR860_1', unit = 'V')\n",
    "meas_current_AC_L1 = ScaledParameter(SR860_1.X, division = Gain_L1, name = 'meas_current_SR860_1', unit = 'A')\n",
    "meas_phase_AC_L1 = ScaledParameter(SR860_1.P, division = 1, name = 'meas_phase_SR860_1', unit = 'degree')\n",
    "meas_voltage_AC_L1_R = ScaledParameter(SR860_1.R, division = Gain_L1, name = 'meas_voltage_R_SR860_1', unit = 'V')\n",
    "meas_voltage_AC_L1_P = ScaledParameter(SR860_1.P, division = 1, name = 'meas_voltage_SR860_1_P', unit = 'degree')\n",
    "meas_current_AC_L1_P = ScaledParameter(SR860_1.P, division = 1, name = 'meas_current_SR860_1_P', unit = 'degree')"
   ]
  },
  {
   "cell_type": "code",
   "execution_count": null,
   "metadata": {},
   "outputs": [],
   "source": [
    "\n",
    "appl_current = ScaledParameter(SR860_1.sine_outdc, division = Irange_division, name = 'appl_current', unit = 'A')\n",
    "meas_voltage_K2 = ScaledParameter(DMM6500.amplitude, division = Gain_K2, name = 'meas_voltage_K2', unit = 'V')\n",
    "meas_current_K2 = ScaledParameter(DMM6500.amplitude, division = Gain_K2, name = 'meas_current_K2', unit = 'A')\n",
    "meas_leakage = ScaledParameter(DMM6500.amplitude, division = Gain_K2, name = 'meas_leakage', unit = 'A')\n",
    "\n",
    "station.add_component(appl_current)\n",
    "station.add_component(meas_voltage_K2)\n",
    "station.add_component(meas_current_K2)\n",
    "station.add_component(meas_leakage)"
   ]
  },
  {
   "cell_type": "code",
   "execution_count": null,
   "metadata": {},
   "outputs": [],
   "source": [
    "appl_current_AC = ScaledParameter(SR860_1.amplitude, division = Irange_AC_division, name = 'appl_current_AC', unit = 'A')\n",
    "appl_voltage_AC = ScaledParameter(SR860_1.amplitude, division = Vrange_AC_division, name = 'appl_voltage_AC', unit = 'V')\n",
    "meas_voltage_AC_L1 = ScaledParameter(SR860_1.X, division = Gain_L1, name = 'meas_voltage_SR860_1', unit = 'V')\n",
    "meas_current_AC_L1 = ScaledParameter(SR860_1.X, division = Gain_L1, name = 'meas_current_SR860_1', unit = 'A')\n",
    "meas_phase_AC_L1 = ScaledParameter(SR860_1.P, division = 1, name = 'meas_phase_SR860_1', unit = 'degree')\n",
    "meas_voltage_AC_L1_R = ScaledParameter(SR860_1.R, division = Gain_L1, name = 'meas_voltage_R_SR860_1', unit = 'V')\n",
    "\n",
    "\n",
    "station.add_component(appl_current_AC)\n",
    "station.add_component(appl_voltage_AC)\n",
    "station.add_component(meas_voltage_AC_L1)\n",
    "station.add_component(meas_current_AC_L1)\n",
    "station.add_component(meas_phase_AC_L1)\n",
    "station.add_component(meas_voltage_AC_L1_R)"
   ]
  },
  {
   "cell_type": "code",
   "execution_count": null,
   "metadata": {},
   "outputs": [],
   "source": [
    "meas_voltage_AC_L1_P = ScaledParameter(SR860_1.P, division = 1, name = 'meas_voltage_SR860_1_P', unit = 'degree')\n",
    "meas_current_AC_L1_P = ScaledParameter(SR860_1.P, division = 1, name = 'meas_current_SR860_1_P', unit = 'degree')\n",
    "station.add_component(meas_voltage_AC_L1_P)\n",
    "station.add_component(meas_current_AC_L1_P)"
   ]
  },
  {
   "cell_type": "code",
   "execution_count": 23,
   "metadata": {},
   "outputs": [],
   "source": [
    "def get_R_from_IV(dataid):\n",
    "    dataset = qc.load_by_id(dataid)\n",
    "\n",
    "    voltage = dataset.get_parameter_data()['meas_voltage_K2']['meas_voltage_K2']\n",
    "    current = dataset.get_parameter_data()['meas_voltage_K2']['appl_current']\n",
    "    fit_values = np.polyfit(current,voltage,1)\n",
    "    \n",
    "    return fit_values[0]\n",
    "\n",
    "def get_R_from_IV_2(dataid):\n",
    "    dataset = qc.load_by_id(dataid)\n",
    "\n",
    "    voltage = dataset.get_parameter_data()['meas_voltage_K2']['meas_voltage_K2']\n",
    "    current = dataset.get_parameter_data()['meas_voltage_K2']['appl_current']\n",
    "    fit_values = np.polyfit(current,voltage,1)\n",
    "    \n",
    "    return fit_values[0]"
   ]
  },
  {
   "cell_type": "code",
   "execution_count": 33,
   "metadata": {},
   "outputs": [],
   "source": [
    "appl_current(-2e-6)\n",
    "appl_current_AC(2e-8)"
   ]
  },
  {
   "cell_type": "code",
   "execution_count": 170,
   "metadata": {},
   "outputs": [],
   "source": [
    "appl_current(3e-6)"
   ]
  },
  {
   "cell_type": "code",
   "execution_count": 171,
   "metadata": {},
   "outputs": [
    {
     "data": {
      "text/plain": [
       "5.868028e-05"
      ]
     },
     "execution_count": 171,
     "metadata": {},
     "output_type": "execute_result"
    }
   ],
   "source": [
    "meas_voltage_K2()"
   ]
  },
  {
   "cell_type": "code",
   "execution_count": 168,
   "metadata": {},
   "outputs": [
    {
     "data": {
      "text/plain": [
       "'appl_frequency_AC'"
      ]
     },
     "execution_count": 168,
     "metadata": {},
     "output_type": "execute_result"
    }
   ],
   "source": [
    "appl_frequency_AC = ScaledParameter(SR860_1.frequency, division = 1, name = 'appl_frequency_AC', unit = 'Hz')\n",
    "station.add_component(appl_frequency_AC)"
   ]
  },
  {
   "cell_type": "code",
   "execution_count": 172,
   "metadata": {},
   "outputs": [
    {
     "name": "stderr",
     "output_type": "stream",
     "text": [
      "There is (are) already experiment(s) with the name of I-V and sample name of 020-1_21-20-30-31 in the database.\n"
     ]
    },
    {
     "name": "stdout",
     "output_type": "stream",
     "text": [
      "Starting experimental run with id: 54. \n"
     ]
    },
    {
     "name": "stderr",
     "output_type": "stream",
     "text": [
      " 94%|█████████▍| 8495/9001 [27:41<01:38,  5.11it/s]\n",
      "An exception occured in measurement with guid: f252c3f6-0000-0000-0000-019189a1e21d;\n",
      "Traceback:\n",
      "Traceback (most recent call last):\n",
      "  File \"c:\\Users\\admin\\Documents\\GitHub\\QCoDeS_local\\sweeps_v2.py\", line 23, in do1d\n",
      "    output[i][1] = parameter.get()\n",
      "  File \"C:\\Users\\admin\\AppData\\Roaming\\Python\\Python39\\site-packages\\qcodes\\parameters\\parameter_base.py\", line 583, in get_wrapper\n",
      "    raise e\n",
      "  File \"C:\\Users\\admin\\AppData\\Roaming\\Python\\Python39\\site-packages\\qcodes\\parameters\\parameter_base.py\", line 570, in get_wrapper\n",
      "    raw_value = get_function(*args, **kwargs)\n",
      "  File \"C:\\Users\\admin\\AppData\\Roaming\\Python\\Python39\\site-packages\\qcodes\\parameters\\scaled_paramter.py\", line 171, in get_raw\n",
      "    wrapped_value = cast(float, self._wrapped_parameter())\n",
      "  File \"C:\\Users\\admin\\AppData\\Roaming\\Python\\Python39\\site-packages\\qcodes\\parameters\\parameter_base.py\", line 368, in __call__\n",
      "    return self.get()\n",
      "  File \"C:\\Users\\admin\\AppData\\Roaming\\Python\\Python39\\site-packages\\qcodes\\parameters\\parameter_base.py\", line 583, in get_wrapper\n",
      "    raise e\n",
      "  File \"C:\\Users\\admin\\AppData\\Roaming\\Python\\Python39\\site-packages\\qcodes\\parameters\\parameter_base.py\", line 570, in get_wrapper\n",
      "    raw_value = get_function(*args, **kwargs)\n",
      "  File \"C:\\Users\\admin\\AppData\\Roaming\\Python\\Python39\\site-packages\\qcodes\\parameters\\command.py\", line 209, in __call__\n",
      "    return self.exec_function(*args)\n",
      "  File \"C:\\Users\\admin\\AppData\\Roaming\\Python\\Python39\\site-packages\\qcodes\\parameters\\command.py\", line 157, in call_by_str\n",
      "    return self.exec_str(self.cmd_str.format(*args))\n",
      "  File \"C:\\Users\\admin\\AppData\\Roaming\\Python\\Python39\\site-packages\\qcodes\\instrument\\instrument.py\", line 424, in ask\n",
      "    raise e\n",
      "  File \"C:\\Users\\admin\\AppData\\Roaming\\Python\\Python39\\site-packages\\qcodes\\instrument\\instrument.py\", line 417, in ask\n",
      "    answer = self.ask_raw(cmd)\n",
      "  File \"C:\\Users\\admin\\AppData\\Roaming\\Python\\Python39\\site-packages\\qcodes\\instrument\\visa.py\", line 265, in ask_raw\n",
      "    response = self.visa_handle.query(cmd)\n",
      "  File \"C:\\Users\\admin\\AppData\\Roaming\\Python\\Python39\\site-packages\\pyvisa\\resources\\messagebased.py\", line 642, in query\n",
      "    self.write(message)\n",
      "  File \"C:\\Users\\admin\\AppData\\Roaming\\Python\\Python39\\site-packages\\pyvisa\\resources\\messagebased.py\", line 197, in write\n",
      "    count = self.write_raw(message.encode(enco))\n",
      "  File \"C:\\Users\\admin\\AppData\\Roaming\\Python\\Python39\\site-packages\\pyvisa\\resources\\messagebased.py\", line 157, in write_raw\n",
      "    return self.visalib.write(self.session, message)[0]\n",
      "  File \"C:\\Users\\admin\\AppData\\Roaming\\Python\\Python39\\site-packages\\pyvisa\\ctwrapper\\functions.py\", line 2796, in write\n",
      "    ret = library.viWrite(session, data, len(data), byref(return_count))\n",
      "  File \"C:\\Users\\admin\\AppData\\Roaming\\Python\\Python39\\site-packages\\pyvisa\\ctwrapper\\highlevel.py\", line 226, in _return_handler\n",
      "    return self.handle_return_value(session, ret_value)  # type: ignore\n",
      "  File \"C:\\Users\\admin\\AppData\\Roaming\\Python\\Python39\\site-packages\\pyvisa\\highlevel.py\", line 251, in handle_return_value\n",
      "    raise errors.VisaIOError(rv)\n",
      "pyvisa.errors.VisaIOError: ('VI_ERROR_NLISTENERS (-1073807265): No listeners condition is detected (both NRFD and NDAC are deasserted).', \"asking 'OUTP? 0' to <SR860: SR860_1>\", 'getting SR860_1_X', 'getting meas_voltage_SR860_1')\n",
      "\n"
     ]
    },
    {
     "ename": "VisaIOError",
     "evalue": "('VI_ERROR_NLISTENERS (-1073807265): No listeners condition is detected (both NRFD and NDAC are deasserted).', \"asking 'OUTP? 0' to <SR860: SR860_1>\", 'getting SR860_1_X', 'getting meas_voltage_SR860_1')",
     "output_type": "error",
     "traceback": [
      "\u001b[1;31m---------------------------------------------------------------------------\u001b[0m",
      "\u001b[1;31mVisaIOError\u001b[0m                               Traceback (most recent call last)",
      "Cell \u001b[1;32mIn[172], line 2\u001b[0m\n\u001b[0;32m      1\u001b[0m exp \u001b[38;5;241m=\u001b[39m qc\u001b[38;5;241m.\u001b[39mnew_experiment(\u001b[38;5;124m'\u001b[39m\u001b[38;5;124mI-V\u001b[39m\u001b[38;5;124m'\u001b[39m, sample_name\u001b[38;5;241m=\u001b[39m\u001b[38;5;124m'\u001b[39m\u001b[38;5;124m020-1_21-20-30-31\u001b[39m\u001b[38;5;124m'\u001b[39m)\n\u001b[1;32m----> 2\u001b[0m dataid \u001b[38;5;241m=\u001b[39m \u001b[43mdo1d\u001b[49m\u001b[43m(\u001b[49m\u001b[43mappl_frequency_AC\u001b[49m\u001b[43m,\u001b[49m\u001b[43m \u001b[49m\u001b[38;5;241;43m100\u001b[39;49m\u001b[43m \u001b[49m\u001b[43m,\u001b[49m\u001b[38;5;241;43m1000\u001b[39;49m\u001b[43m,\u001b[49m\u001b[43m \u001b[49m\u001b[38;5;241;43m9001\u001b[39;49m\u001b[43m,\u001b[49m\u001b[43m \u001b[49m\u001b[38;5;241;43m0.15\u001b[39;49m\u001b[43m,\u001b[49m\u001b[43m \u001b[49m\u001b[43mmeas_voltage_K2\u001b[49m\u001b[43m,\u001b[49m\u001b[43m \u001b[49m\u001b[43mmeas_voltage_AC_L1\u001b[49m\u001b[43m,\u001b[49m\u001b[43m \u001b[49m\u001b[43mmeas_voltage_AC_L1_P\u001b[49m\u001b[43m \u001b[49m\u001b[43m)\u001b[49m \u001b[38;5;66;03m#meas_voltage_AC_L1, meas_voltage_AC_L1_P )\u001b[39;00m\n\u001b[0;32m      3\u001b[0m appl_current(\u001b[38;5;241m0\u001b[39m)\n\u001b[0;32m      4\u001b[0m plot_by_id(dataid)\n",
      "File \u001b[1;32mc:\\Users\\admin\\Documents\\GitHub\\QCoDeS_local\\sweeps_v2.py:23\u001b[0m, in \u001b[0;36mdo1d\u001b[1;34m(param_set, start, stop, num_points, delay, *param_meas)\u001b[0m\n\u001b[0;32m     21\u001b[0m         param_set\u001b[38;5;241m.\u001b[39mset(set_point)\n\u001b[0;32m     22\u001b[0m         \u001b[38;5;28;01mfor\u001b[39;00m i, parameter \u001b[38;5;129;01min\u001b[39;00m \u001b[38;5;28menumerate\u001b[39m(param_meas):\n\u001b[1;32m---> 23\u001b[0m             output[i][\u001b[38;5;241m1\u001b[39m] \u001b[38;5;241m=\u001b[39m \u001b[43mparameter\u001b[49m\u001b[38;5;241;43m.\u001b[39;49m\u001b[43mget\u001b[49m\u001b[43m(\u001b[49m\u001b[43m)\u001b[49m\n\u001b[0;32m     24\u001b[0m         datasaver\u001b[38;5;241m.\u001b[39madd_result((param_set, set_point),\n\u001b[0;32m     25\u001b[0m                              \u001b[38;5;241m*\u001b[39moutput)\n\u001b[0;32m     26\u001b[0m dataid \u001b[38;5;241m=\u001b[39m datasaver\u001b[38;5;241m.\u001b[39mrun_id  \u001b[38;5;66;03m# convenient to have for plotting\u001b[39;00m\n",
      "File \u001b[1;32m~\\AppData\\Roaming\\Python\\Python39\\site-packages\\qcodes\\parameters\\parameter_base.py:583\u001b[0m, in \u001b[0;36mParameterBase._wrap_get.<locals>.get_wrapper\u001b[1;34m(*args, **kwargs)\u001b[0m\n\u001b[0;32m    581\u001b[0m \u001b[38;5;28;01mexcept\u001b[39;00m \u001b[38;5;167;01mException\u001b[39;00m \u001b[38;5;28;01mas\u001b[39;00m e:\n\u001b[0;32m    582\u001b[0m     e\u001b[38;5;241m.\u001b[39margs \u001b[38;5;241m=\u001b[39m e\u001b[38;5;241m.\u001b[39margs \u001b[38;5;241m+\u001b[39m (\u001b[38;5;124mf\u001b[39m\u001b[38;5;124m\"\u001b[39m\u001b[38;5;124mgetting \u001b[39m\u001b[38;5;132;01m{\u001b[39;00m\u001b[38;5;28mself\u001b[39m\u001b[38;5;132;01m}\u001b[39;00m\u001b[38;5;124m\"\u001b[39m,)\n\u001b[1;32m--> 583\u001b[0m     \u001b[38;5;28;01mraise\u001b[39;00m e\n",
      "File \u001b[1;32m~\\AppData\\Roaming\\Python\\Python39\\site-packages\\qcodes\\parameters\\parameter_base.py:570\u001b[0m, in \u001b[0;36mParameterBase._wrap_get.<locals>.get_wrapper\u001b[1;34m(*args, **kwargs)\u001b[0m\n\u001b[0;32m    565\u001b[0m     \u001b[38;5;28;01mraise\u001b[39;00m \u001b[38;5;167;01mNotImplementedError\u001b[39;00m(\n\u001b[0;32m    566\u001b[0m         \u001b[38;5;124mf\u001b[39m\u001b[38;5;124m\"\u001b[39m\u001b[38;5;124mTrying to get an abstract parameter: \u001b[39m\u001b[38;5;132;01m{\u001b[39;00m\u001b[38;5;28mself\u001b[39m\u001b[38;5;241m.\u001b[39mfull_name\u001b[38;5;132;01m}\u001b[39;00m\u001b[38;5;124m\"\u001b[39m\n\u001b[0;32m    567\u001b[0m     )\n\u001b[0;32m    568\u001b[0m \u001b[38;5;28;01mtry\u001b[39;00m:\n\u001b[0;32m    569\u001b[0m     \u001b[38;5;66;03m# There might be cases where a .get also has args/kwargs\u001b[39;00m\n\u001b[1;32m--> 570\u001b[0m     raw_value \u001b[38;5;241m=\u001b[39m get_function(\u001b[38;5;241m*\u001b[39margs, \u001b[38;5;241m*\u001b[39m\u001b[38;5;241m*\u001b[39mkwargs)\n\u001b[0;32m    572\u001b[0m     value \u001b[38;5;241m=\u001b[39m \u001b[38;5;28mself\u001b[39m\u001b[38;5;241m.\u001b[39m_from_raw_value_to_value(raw_value)\n\u001b[0;32m    574\u001b[0m     \u001b[38;5;28;01mif\u001b[39;00m \u001b[38;5;28mself\u001b[39m\u001b[38;5;241m.\u001b[39m_validate_on_get:\n",
      "File \u001b[1;32m~\\AppData\\Roaming\\Python\\Python39\\site-packages\\qcodes\\parameters\\scaled_paramter.py:171\u001b[0m, in \u001b[0;36mScaledParameter.get_raw\u001b[1;34m(self)\u001b[0m\n\u001b[0;32m    166\u001b[0m \u001b[38;5;28;01mdef\u001b[39;00m \u001b[38;5;21mget_raw\u001b[39m(\u001b[38;5;28mself\u001b[39m) \u001b[38;5;241m-\u001b[39m\u001b[38;5;241m>\u001b[39m \u001b[38;5;28mfloat\u001b[39m:\n\u001b[0;32m    167\u001b[0m     \u001b[38;5;124;03m\"\"\"\u001b[39;00m\n\u001b[0;32m    168\u001b[0m \u001b[38;5;124;03m    Returns:\u001b[39;00m\n\u001b[0;32m    169\u001b[0m \u001b[38;5;124;03m        value at which was set at the sample\u001b[39;00m\n\u001b[0;32m    170\u001b[0m \u001b[38;5;124;03m    \"\"\"\u001b[39;00m\n\u001b[1;32m--> 171\u001b[0m     wrapped_value \u001b[38;5;241m=\u001b[39m cast(\u001b[38;5;28mfloat\u001b[39m, \u001b[38;5;28;43mself\u001b[39;49m\u001b[38;5;241;43m.\u001b[39;49m\u001b[43m_wrapped_parameter\u001b[49m\u001b[43m(\u001b[49m\u001b[43m)\u001b[49m)\n\u001b[0;32m    172\u001b[0m     multiplier \u001b[38;5;241m=\u001b[39m cast(\u001b[38;5;28mfloat\u001b[39m, \u001b[38;5;28mself\u001b[39m\u001b[38;5;241m.\u001b[39m_multiplier())\n\u001b[0;32m    174\u001b[0m     \u001b[38;5;28;01mif\u001b[39;00m \u001b[38;5;28mself\u001b[39m\u001b[38;5;241m.\u001b[39mrole \u001b[38;5;241m==\u001b[39m ScaledParameter\u001b[38;5;241m.\u001b[39mRole\u001b[38;5;241m.\u001b[39mGAIN:\n",
      "File \u001b[1;32m~\\AppData\\Roaming\\Python\\Python39\\site-packages\\qcodes\\parameters\\parameter_base.py:368\u001b[0m, in \u001b[0;36mParameterBase.__call__\u001b[1;34m(self, *args, **kwargs)\u001b[0m\n\u001b[0;32m    366\u001b[0m \u001b[38;5;28;01mif\u001b[39;00m \u001b[38;5;28mlen\u001b[39m(args) \u001b[38;5;241m==\u001b[39m \u001b[38;5;241m0\u001b[39m \u001b[38;5;129;01mand\u001b[39;00m \u001b[38;5;28mlen\u001b[39m(kwargs) \u001b[38;5;241m==\u001b[39m \u001b[38;5;241m0\u001b[39m:\n\u001b[0;32m    367\u001b[0m     \u001b[38;5;28;01mif\u001b[39;00m \u001b[38;5;28mself\u001b[39m\u001b[38;5;241m.\u001b[39mgettable:\n\u001b[1;32m--> 368\u001b[0m         \u001b[38;5;28;01mreturn\u001b[39;00m \u001b[38;5;28;43mself\u001b[39;49m\u001b[38;5;241;43m.\u001b[39;49m\u001b[43mget\u001b[49m\u001b[43m(\u001b[49m\u001b[43m)\u001b[49m\n\u001b[0;32m    369\u001b[0m     \u001b[38;5;28;01melse\u001b[39;00m:\n\u001b[0;32m    370\u001b[0m         \u001b[38;5;28;01mraise\u001b[39;00m \u001b[38;5;167;01mNotImplementedError\u001b[39;00m(\n\u001b[0;32m    371\u001b[0m             \u001b[38;5;124m\"\u001b[39m\u001b[38;5;124mno get cmd found in\u001b[39m\u001b[38;5;124m\"\u001b[39m \u001b[38;5;241m+\u001b[39m \u001b[38;5;124mf\u001b[39m\u001b[38;5;124m\"\u001b[39m\u001b[38;5;124m Parameter \u001b[39m\u001b[38;5;132;01m{\u001b[39;00m\u001b[38;5;28mself\u001b[39m\u001b[38;5;241m.\u001b[39mname\u001b[38;5;132;01m}\u001b[39;00m\u001b[38;5;124m\"\u001b[39m\n\u001b[0;32m    372\u001b[0m         )\n",
      "File \u001b[1;32m~\\AppData\\Roaming\\Python\\Python39\\site-packages\\qcodes\\parameters\\parameter_base.py:583\u001b[0m, in \u001b[0;36mParameterBase._wrap_get.<locals>.get_wrapper\u001b[1;34m(*args, **kwargs)\u001b[0m\n\u001b[0;32m    581\u001b[0m \u001b[38;5;28;01mexcept\u001b[39;00m \u001b[38;5;167;01mException\u001b[39;00m \u001b[38;5;28;01mas\u001b[39;00m e:\n\u001b[0;32m    582\u001b[0m     e\u001b[38;5;241m.\u001b[39margs \u001b[38;5;241m=\u001b[39m e\u001b[38;5;241m.\u001b[39margs \u001b[38;5;241m+\u001b[39m (\u001b[38;5;124mf\u001b[39m\u001b[38;5;124m\"\u001b[39m\u001b[38;5;124mgetting \u001b[39m\u001b[38;5;132;01m{\u001b[39;00m\u001b[38;5;28mself\u001b[39m\u001b[38;5;132;01m}\u001b[39;00m\u001b[38;5;124m\"\u001b[39m,)\n\u001b[1;32m--> 583\u001b[0m     \u001b[38;5;28;01mraise\u001b[39;00m e\n",
      "File \u001b[1;32m~\\AppData\\Roaming\\Python\\Python39\\site-packages\\qcodes\\parameters\\parameter_base.py:570\u001b[0m, in \u001b[0;36mParameterBase._wrap_get.<locals>.get_wrapper\u001b[1;34m(*args, **kwargs)\u001b[0m\n\u001b[0;32m    565\u001b[0m     \u001b[38;5;28;01mraise\u001b[39;00m \u001b[38;5;167;01mNotImplementedError\u001b[39;00m(\n\u001b[0;32m    566\u001b[0m         \u001b[38;5;124mf\u001b[39m\u001b[38;5;124m\"\u001b[39m\u001b[38;5;124mTrying to get an abstract parameter: \u001b[39m\u001b[38;5;132;01m{\u001b[39;00m\u001b[38;5;28mself\u001b[39m\u001b[38;5;241m.\u001b[39mfull_name\u001b[38;5;132;01m}\u001b[39;00m\u001b[38;5;124m\"\u001b[39m\n\u001b[0;32m    567\u001b[0m     )\n\u001b[0;32m    568\u001b[0m \u001b[38;5;28;01mtry\u001b[39;00m:\n\u001b[0;32m    569\u001b[0m     \u001b[38;5;66;03m# There might be cases where a .get also has args/kwargs\u001b[39;00m\n\u001b[1;32m--> 570\u001b[0m     raw_value \u001b[38;5;241m=\u001b[39m get_function(\u001b[38;5;241m*\u001b[39margs, \u001b[38;5;241m*\u001b[39m\u001b[38;5;241m*\u001b[39mkwargs)\n\u001b[0;32m    572\u001b[0m     value \u001b[38;5;241m=\u001b[39m \u001b[38;5;28mself\u001b[39m\u001b[38;5;241m.\u001b[39m_from_raw_value_to_value(raw_value)\n\u001b[0;32m    574\u001b[0m     \u001b[38;5;28;01mif\u001b[39;00m \u001b[38;5;28mself\u001b[39m\u001b[38;5;241m.\u001b[39m_validate_on_get:\n",
      "File \u001b[1;32m~\\AppData\\Roaming\\Python\\Python39\\site-packages\\qcodes\\parameters\\command.py:209\u001b[0m, in \u001b[0;36mCommand.__call__\u001b[1;34m(self, *args)\u001b[0m\n\u001b[0;32m    207\u001b[0m \u001b[38;5;28;01mif\u001b[39;00m \u001b[38;5;28mlen\u001b[39m(args) \u001b[38;5;241m!=\u001b[39m \u001b[38;5;28mself\u001b[39m\u001b[38;5;241m.\u001b[39marg_count:\n\u001b[0;32m    208\u001b[0m     \u001b[38;5;28;01mraise\u001b[39;00m \u001b[38;5;167;01mTypeError\u001b[39;00m(\u001b[38;5;124mf\u001b[39m\u001b[38;5;124m\"\u001b[39m\u001b[38;5;124mcommand takes exactly \u001b[39m\u001b[38;5;132;01m{\u001b[39;00m\u001b[38;5;28mself\u001b[39m\u001b[38;5;241m.\u001b[39marg_count\u001b[38;5;132;01m}\u001b[39;00m\u001b[38;5;124m args\u001b[39m\u001b[38;5;124m\"\u001b[39m)\n\u001b[1;32m--> 209\u001b[0m \u001b[38;5;28;01mreturn\u001b[39;00m \u001b[38;5;28;43mself\u001b[39;49m\u001b[38;5;241;43m.\u001b[39;49m\u001b[43mexec_function\u001b[49m\u001b[43m(\u001b[49m\u001b[38;5;241;43m*\u001b[39;49m\u001b[43margs\u001b[49m\u001b[43m)\u001b[49m\n",
      "File \u001b[1;32m~\\AppData\\Roaming\\Python\\Python39\\site-packages\\qcodes\\parameters\\command.py:157\u001b[0m, in \u001b[0;36mCommand.call_by_str\u001b[1;34m(self, *args)\u001b[0m\n\u001b[0;32m    155\u001b[0m \u001b[38;5;28;01mdef\u001b[39;00m \u001b[38;5;21mcall_by_str\u001b[39m(\u001b[38;5;28mself\u001b[39m, \u001b[38;5;241m*\u001b[39margs: Any) \u001b[38;5;241m-\u001b[39m\u001b[38;5;241m>\u001b[39m Output:\n\u001b[0;32m    156\u001b[0m     \u001b[38;5;124;03m\"\"\"Execute a formatted string.\"\"\"\u001b[39;00m\n\u001b[1;32m--> 157\u001b[0m     \u001b[38;5;28;01mreturn\u001b[39;00m \u001b[38;5;28;43mself\u001b[39;49m\u001b[38;5;241;43m.\u001b[39;49m\u001b[43mexec_str\u001b[49m\u001b[43m(\u001b[49m\u001b[38;5;28;43mself\u001b[39;49m\u001b[38;5;241;43m.\u001b[39;49m\u001b[43mcmd_str\u001b[49m\u001b[38;5;241;43m.\u001b[39;49m\u001b[43mformat\u001b[49m\u001b[43m(\u001b[49m\u001b[38;5;241;43m*\u001b[39;49m\u001b[43margs\u001b[49m\u001b[43m)\u001b[49m\u001b[43m)\u001b[49m\n",
      "File \u001b[1;32m~\\AppData\\Roaming\\Python\\Python39\\site-packages\\qcodes\\instrument\\instrument.py:424\u001b[0m, in \u001b[0;36mInstrument.ask\u001b[1;34m(self, cmd)\u001b[0m\n\u001b[0;32m    422\u001b[0m inst \u001b[38;5;241m=\u001b[39m \u001b[38;5;28mrepr\u001b[39m(\u001b[38;5;28mself\u001b[39m)\n\u001b[0;32m    423\u001b[0m e\u001b[38;5;241m.\u001b[39margs \u001b[38;5;241m=\u001b[39m e\u001b[38;5;241m.\u001b[39margs \u001b[38;5;241m+\u001b[39m (\u001b[38;5;124m\"\u001b[39m\u001b[38;5;124masking \u001b[39m\u001b[38;5;124m\"\u001b[39m \u001b[38;5;241m+\u001b[39m \u001b[38;5;28mrepr\u001b[39m(cmd) \u001b[38;5;241m+\u001b[39m \u001b[38;5;124m\"\u001b[39m\u001b[38;5;124m to \u001b[39m\u001b[38;5;124m\"\u001b[39m \u001b[38;5;241m+\u001b[39m inst,)\n\u001b[1;32m--> 424\u001b[0m \u001b[38;5;28;01mraise\u001b[39;00m e\n",
      "File \u001b[1;32m~\\AppData\\Roaming\\Python\\Python39\\site-packages\\qcodes\\instrument\\instrument.py:417\u001b[0m, in \u001b[0;36mInstrument.ask\u001b[1;34m(self, cmd)\u001b[0m\n\u001b[0;32m    399\u001b[0m \u001b[38;5;124;03m\"\"\"\u001b[39;00m\n\u001b[0;32m    400\u001b[0m \u001b[38;5;124;03mWrite a command string to the hardware and return a response.\u001b[39;00m\n\u001b[0;32m    401\u001b[0m \n\u001b[1;32m   (...)\u001b[0m\n\u001b[0;32m    414\u001b[0m \u001b[38;5;124;03m        including the command and the instrument.\u001b[39;00m\n\u001b[0;32m    415\u001b[0m \u001b[38;5;124;03m\"\"\"\u001b[39;00m\n\u001b[0;32m    416\u001b[0m \u001b[38;5;28;01mtry\u001b[39;00m:\n\u001b[1;32m--> 417\u001b[0m     answer \u001b[38;5;241m=\u001b[39m \u001b[38;5;28;43mself\u001b[39;49m\u001b[38;5;241;43m.\u001b[39;49m\u001b[43mask_raw\u001b[49m\u001b[43m(\u001b[49m\u001b[43mcmd\u001b[49m\u001b[43m)\u001b[49m\n\u001b[0;32m    419\u001b[0m     \u001b[38;5;28;01mreturn\u001b[39;00m answer\n\u001b[0;32m    421\u001b[0m \u001b[38;5;28;01mexcept\u001b[39;00m \u001b[38;5;167;01mException\u001b[39;00m \u001b[38;5;28;01mas\u001b[39;00m e:\n",
      "File \u001b[1;32m~\\AppData\\Roaming\\Python\\Python39\\site-packages\\qcodes\\instrument\\visa.py:265\u001b[0m, in \u001b[0;36mVisaInstrument.ask_raw\u001b[1;34m(self, cmd)\u001b[0m\n\u001b[0;32m    263\u001b[0m \u001b[38;5;28;01mwith\u001b[39;00m DelayedKeyboardInterrupt():\n\u001b[0;32m    264\u001b[0m     \u001b[38;5;28mself\u001b[39m\u001b[38;5;241m.\u001b[39mvisa_log\u001b[38;5;241m.\u001b[39mdebug(\u001b[38;5;124mf\u001b[39m\u001b[38;5;124m\"\u001b[39m\u001b[38;5;124mQuerying: \u001b[39m\u001b[38;5;132;01m{\u001b[39;00mcmd\u001b[38;5;132;01m}\u001b[39;00m\u001b[38;5;124m\"\u001b[39m)\n\u001b[1;32m--> 265\u001b[0m     response \u001b[38;5;241m=\u001b[39m \u001b[38;5;28;43mself\u001b[39;49m\u001b[38;5;241;43m.\u001b[39;49m\u001b[43mvisa_handle\u001b[49m\u001b[38;5;241;43m.\u001b[39;49m\u001b[43mquery\u001b[49m\u001b[43m(\u001b[49m\u001b[43mcmd\u001b[49m\u001b[43m)\u001b[49m\n\u001b[0;32m    266\u001b[0m     \u001b[38;5;28mself\u001b[39m\u001b[38;5;241m.\u001b[39mvisa_log\u001b[38;5;241m.\u001b[39mdebug(\u001b[38;5;124mf\u001b[39m\u001b[38;5;124m\"\u001b[39m\u001b[38;5;124mResponse: \u001b[39m\u001b[38;5;132;01m{\u001b[39;00mresponse\u001b[38;5;132;01m}\u001b[39;00m\u001b[38;5;124m\"\u001b[39m)\n\u001b[0;32m    267\u001b[0m \u001b[38;5;28;01mreturn\u001b[39;00m response\n",
      "File \u001b[1;32m~\\AppData\\Roaming\\Python\\Python39\\site-packages\\pyvisa\\resources\\messagebased.py:642\u001b[0m, in \u001b[0;36mMessageBasedResource.query\u001b[1;34m(self, message, delay)\u001b[0m\n\u001b[0;32m    625\u001b[0m \u001b[38;5;28;01mdef\u001b[39;00m \u001b[38;5;21mquery\u001b[39m(\u001b[38;5;28mself\u001b[39m, message: \u001b[38;5;28mstr\u001b[39m, delay: Optional[\u001b[38;5;28mfloat\u001b[39m] \u001b[38;5;241m=\u001b[39m \u001b[38;5;28;01mNone\u001b[39;00m) \u001b[38;5;241m-\u001b[39m\u001b[38;5;241m>\u001b[39m \u001b[38;5;28mstr\u001b[39m:\n\u001b[0;32m    626\u001b[0m     \u001b[38;5;124;03m\"\"\"A combination of write(message) and read()\u001b[39;00m\n\u001b[0;32m    627\u001b[0m \n\u001b[0;32m    628\u001b[0m \u001b[38;5;124;03m    Parameters\u001b[39;00m\n\u001b[1;32m   (...)\u001b[0m\n\u001b[0;32m    640\u001b[0m \n\u001b[0;32m    641\u001b[0m \u001b[38;5;124;03m    \"\"\"\u001b[39;00m\n\u001b[1;32m--> 642\u001b[0m     \u001b[38;5;28;43mself\u001b[39;49m\u001b[38;5;241;43m.\u001b[39;49m\u001b[43mwrite\u001b[49m\u001b[43m(\u001b[49m\u001b[43mmessage\u001b[49m\u001b[43m)\u001b[49m\n\u001b[0;32m    644\u001b[0m     delay \u001b[38;5;241m=\u001b[39m \u001b[38;5;28mself\u001b[39m\u001b[38;5;241m.\u001b[39mquery_delay \u001b[38;5;28;01mif\u001b[39;00m delay \u001b[38;5;129;01mis\u001b[39;00m \u001b[38;5;28;01mNone\u001b[39;00m \u001b[38;5;28;01melse\u001b[39;00m delay\n\u001b[0;32m    645\u001b[0m     \u001b[38;5;28;01mif\u001b[39;00m delay \u001b[38;5;241m>\u001b[39m \u001b[38;5;241m0.0\u001b[39m:\n",
      "File \u001b[1;32m~\\AppData\\Roaming\\Python\\Python39\\site-packages\\pyvisa\\resources\\messagebased.py:197\u001b[0m, in \u001b[0;36mMessageBasedResource.write\u001b[1;34m(self, message, termination, encoding)\u001b[0m\n\u001b[0;32m    191\u001b[0m         warnings\u001b[38;5;241m.\u001b[39mwarn(\n\u001b[0;32m    192\u001b[0m             \u001b[38;5;124m\"\u001b[39m\u001b[38;5;124mwrite message already ends with \u001b[39m\u001b[38;5;124m\"\u001b[39m \u001b[38;5;124m\"\u001b[39m\u001b[38;5;124mtermination characters\u001b[39m\u001b[38;5;124m\"\u001b[39m,\n\u001b[0;32m    193\u001b[0m             stacklevel\u001b[38;5;241m=\u001b[39m\u001b[38;5;241m2\u001b[39m,\n\u001b[0;32m    194\u001b[0m         )\n\u001b[0;32m    195\u001b[0m     message \u001b[38;5;241m+\u001b[39m\u001b[38;5;241m=\u001b[39m term\n\u001b[1;32m--> 197\u001b[0m count \u001b[38;5;241m=\u001b[39m \u001b[38;5;28;43mself\u001b[39;49m\u001b[38;5;241;43m.\u001b[39;49m\u001b[43mwrite_raw\u001b[49m\u001b[43m(\u001b[49m\u001b[43mmessage\u001b[49m\u001b[38;5;241;43m.\u001b[39;49m\u001b[43mencode\u001b[49m\u001b[43m(\u001b[49m\u001b[43menco\u001b[49m\u001b[43m)\u001b[49m\u001b[43m)\u001b[49m\n\u001b[0;32m    199\u001b[0m \u001b[38;5;28;01mreturn\u001b[39;00m count\n",
      "File \u001b[1;32m~\\AppData\\Roaming\\Python\\Python39\\site-packages\\pyvisa\\resources\\messagebased.py:157\u001b[0m, in \u001b[0;36mMessageBasedResource.write_raw\u001b[1;34m(self, message)\u001b[0m\n\u001b[0;32m    143\u001b[0m \u001b[38;5;28;01mdef\u001b[39;00m \u001b[38;5;21mwrite_raw\u001b[39m(\u001b[38;5;28mself\u001b[39m, message: \u001b[38;5;28mbytes\u001b[39m) \u001b[38;5;241m-\u001b[39m\u001b[38;5;241m>\u001b[39m \u001b[38;5;28mint\u001b[39m:\n\u001b[0;32m    144\u001b[0m     \u001b[38;5;124;03m\"\"\"Write a byte message to the device.\u001b[39;00m\n\u001b[0;32m    145\u001b[0m \n\u001b[0;32m    146\u001b[0m \u001b[38;5;124;03m    Parameters\u001b[39;00m\n\u001b[1;32m   (...)\u001b[0m\n\u001b[0;32m    155\u001b[0m \n\u001b[0;32m    156\u001b[0m \u001b[38;5;124;03m    \"\"\"\u001b[39;00m\n\u001b[1;32m--> 157\u001b[0m     \u001b[38;5;28;01mreturn\u001b[39;00m \u001b[38;5;28;43mself\u001b[39;49m\u001b[38;5;241;43m.\u001b[39;49m\u001b[43mvisalib\u001b[49m\u001b[38;5;241;43m.\u001b[39;49m\u001b[43mwrite\u001b[49m\u001b[43m(\u001b[49m\u001b[38;5;28;43mself\u001b[39;49m\u001b[38;5;241;43m.\u001b[39;49m\u001b[43msession\u001b[49m\u001b[43m,\u001b[49m\u001b[43m \u001b[49m\u001b[43mmessage\u001b[49m\u001b[43m)\u001b[49m[\u001b[38;5;241m0\u001b[39m]\n",
      "File \u001b[1;32m~\\AppData\\Roaming\\Python\\Python39\\site-packages\\pyvisa\\ctwrapper\\functions.py:2796\u001b[0m, in \u001b[0;36mwrite\u001b[1;34m(library, session, data)\u001b[0m\n\u001b[0;32m   2794\u001b[0m return_count \u001b[38;5;241m=\u001b[39m ViUInt32()\n\u001b[0;32m   2795\u001b[0m \u001b[38;5;66;03m# [ViSession, ViBuf, ViUInt32, ViPUInt32]\u001b[39;00m\n\u001b[1;32m-> 2796\u001b[0m ret \u001b[38;5;241m=\u001b[39m \u001b[43mlibrary\u001b[49m\u001b[38;5;241;43m.\u001b[39;49m\u001b[43mviWrite\u001b[49m\u001b[43m(\u001b[49m\u001b[43msession\u001b[49m\u001b[43m,\u001b[49m\u001b[43m \u001b[49m\u001b[43mdata\u001b[49m\u001b[43m,\u001b[49m\u001b[43m \u001b[49m\u001b[38;5;28;43mlen\u001b[39;49m\u001b[43m(\u001b[49m\u001b[43mdata\u001b[49m\u001b[43m)\u001b[49m\u001b[43m,\u001b[49m\u001b[43m \u001b[49m\u001b[43mbyref\u001b[49m\u001b[43m(\u001b[49m\u001b[43mreturn_count\u001b[49m\u001b[43m)\u001b[49m\u001b[43m)\u001b[49m\n\u001b[0;32m   2797\u001b[0m \u001b[38;5;28;01mreturn\u001b[39;00m return_count\u001b[38;5;241m.\u001b[39mvalue, ret\n",
      "File \u001b[1;32m~\\AppData\\Roaming\\Python\\Python39\\site-packages\\pyvisa\\ctwrapper\\highlevel.py:226\u001b[0m, in \u001b[0;36mIVIVisaLibrary._return_handler\u001b[1;34m(self, ret_value, func, arguments)\u001b[0m\n\u001b[0;32m    223\u001b[0m         \u001b[38;5;66;03m# Set session back to a safe value\u001b[39;00m\n\u001b[0;32m    224\u001b[0m         session \u001b[38;5;241m=\u001b[39m \u001b[38;5;28;01mNone\u001b[39;00m\n\u001b[1;32m--> 226\u001b[0m \u001b[38;5;28;01mreturn\u001b[39;00m \u001b[38;5;28;43mself\u001b[39;49m\u001b[38;5;241;43m.\u001b[39;49m\u001b[43mhandle_return_value\u001b[49m\u001b[43m(\u001b[49m\u001b[43msession\u001b[49m\u001b[43m,\u001b[49m\u001b[43m \u001b[49m\u001b[43mret_value\u001b[49m\u001b[43m)\u001b[49m\n",
      "File \u001b[1;32m~\\AppData\\Roaming\\Python\\Python39\\site-packages\\pyvisa\\highlevel.py:251\u001b[0m, in \u001b[0;36mVisaLibraryBase.handle_return_value\u001b[1;34m(self, session, status_code)\u001b[0m\n\u001b[0;32m    248\u001b[0m     \u001b[38;5;28mself\u001b[39m\u001b[38;5;241m.\u001b[39m_last_status_in_session[session] \u001b[38;5;241m=\u001b[39m rv\n\u001b[0;32m    250\u001b[0m \u001b[38;5;28;01mif\u001b[39;00m rv \u001b[38;5;241m<\u001b[39m \u001b[38;5;241m0\u001b[39m:\n\u001b[1;32m--> 251\u001b[0m     \u001b[38;5;28;01mraise\u001b[39;00m errors\u001b[38;5;241m.\u001b[39mVisaIOError(rv)\n\u001b[0;32m    253\u001b[0m \u001b[38;5;28;01mif\u001b[39;00m rv \u001b[38;5;129;01min\u001b[39;00m \u001b[38;5;28mself\u001b[39m\u001b[38;5;241m.\u001b[39missue_warning_on:\n\u001b[0;32m    254\u001b[0m     \u001b[38;5;28;01mif\u001b[39;00m session \u001b[38;5;129;01mand\u001b[39;00m rv \u001b[38;5;129;01mnot\u001b[39;00m \u001b[38;5;129;01min\u001b[39;00m \u001b[38;5;28mself\u001b[39m\u001b[38;5;241m.\u001b[39m_ignore_warning_in_session[session]:\n",
      "\u001b[1;31mVisaIOError\u001b[0m: ('VI_ERROR_NLISTENERS (-1073807265): No listeners condition is detected (both NRFD and NDAC are deasserted).', \"asking 'OUTP? 0' to <SR860: SR860_1>\", 'getting SR860_1_X', 'getting meas_voltage_SR860_1')"
     ]
    }
   ],
   "source": [
    "exp = qc.new_experiment('I-V', sample_name='020-1_21-20-30-31')\n",
    "dataid = do1d(appl_frequency_AC, 100 ,1000, 9001, 0.15, meas_voltage_K2, meas_voltage_AC_L1, meas_voltage_AC_L1_P ) #meas_voltage_AC_L1, meas_voltage_AC_L1_P )\n",
    "appl_current(0)\n",
    "plot_by_id(dataid)"
   ]
  },
  {
   "cell_type": "code",
   "execution_count": 166,
   "metadata": {},
   "outputs": [
    {
     "data": {
      "text/plain": [
       "160.917"
      ]
     },
     "execution_count": 166,
     "metadata": {},
     "output_type": "execute_result"
    }
   ],
   "source": [
    "SR860_1.frequency()"
   ]
  },
  {
   "cell_type": "code",
   "execution_count": 37,
   "metadata": {},
   "outputs": [],
   "source": [
    "SR860_1.auto_range()"
   ]
  },
  {
   "cell_type": "code",
   "execution_count": 153,
   "metadata": {},
   "outputs": [],
   "source": [
    "appl_current(-3e-6)"
   ]
  },
  {
   "cell_type": "code",
   "execution_count": 90,
   "metadata": {},
   "outputs": [],
   "source": [
    "SR860_1.sine_outdc(1000e-6)"
   ]
  },
  {
   "cell_type": "code",
   "execution_count": 143,
   "metadata": {},
   "outputs": [
    {
     "data": {
      "text/plain": [
       "0.15"
      ]
     },
     "execution_count": 143,
     "metadata": {},
     "output_type": "execute_result"
    }
   ],
   "source": [
    "150e-3"
   ]
  },
  {
   "cell_type": "code",
   "execution_count": 161,
   "metadata": {},
   "outputs": [
    {
     "name": "stderr",
     "output_type": "stream",
     "text": [
      "There is (are) already experiment(s) with the name of I-V and sample name of 020-1_21-20-30-31 in the database.\n"
     ]
    },
    {
     "name": "stdout",
     "output_type": "stream",
     "text": [
      "Starting experimental run with id: 53. \n"
     ]
    },
    {
     "name": "stderr",
     "output_type": "stream",
     "text": [
      "100%|██████████| 151/151 [02:37<00:00,  1.04s/it]\n",
      "Trying to mark a run completed that was already completed.\n"
     ]
    },
    {
     "data": {
      "text/plain": [
       "([<AxesSubplot:title={'center':'Run #53, Experiment I-V (020-1_21-20-30-31)'}, xlabel='appl_current (μA)', ylabel='meas_voltage_K2 (μV)'>,\n",
       "  <AxesSubplot:title={'center':'Run #53, Experiment I-V (020-1_21-20-30-31)'}, xlabel='appl_current (μA)', ylabel='meas_voltage_SR860_1 (nV)'>,\n",
       "  <AxesSubplot:title={'center':'Run #53, Experiment I-V (020-1_21-20-30-31)'}, xlabel='appl_current (μA)', ylabel='meas_voltage_SR860_1_P (degree)'>],\n",
       " [None, None, None])"
      ]
     },
     "execution_count": 161,
     "metadata": {},
     "output_type": "execute_result"
    },
    {
     "data": {
      "image/png": "[encoded data removed]",
      "text/plain": [
       "<Figure size 640x480 with 1 Axes>"
      ]
     },
     "metadata": {},
     "output_type": "display_data"
    },
    {
     "data": {
      "image/png": "[encoded data removed]",
      "text/plain": [
       "<Figure size 640x480 with 1 Axes>"
      ]
     },
     "metadata": {},
     "output_type": "display_data"
    },
    {
     "data": {
      "image/png": "[encoded data removed]",
      "text/plain": [
       "<Figure size 640x480 with 1 Axes>"
      ]
     },
     "metadata": {},
     "output_type": "display_data"
    }
   ],
   "source": [
    "exp = qc.new_experiment('I-V', sample_name='020-1_21-20-30-31')\n",
    "dataid = do1d(appl_current, -3e-6 ,3e-6, 151, 1, meas_voltage_K2, meas_voltage_AC_L1, meas_voltage_AC_L1_P ) #meas_voltage_AC_L1, meas_voltage_AC_L1_P )\n",
    "appl_current(0)\n",
    "plot_by_id(dataid)"
   ]
  },
  {
   "cell_type": "code",
   "execution_count": 58,
   "metadata": {},
   "outputs": [],
   "source": [
    "%matplotlib inline"
   ]
  },
  {
   "cell_type": "code",
   "execution_count": null,
   "metadata": {},
   "outputs": [],
   "source": [
    "plot_by_id(dataid)"
   ]
  },
  {
   "cell_type": "code",
   "execution_count": 165,
   "metadata": {},
   "outputs": [
    {
     "name": "stderr",
     "output_type": "stream",
     "text": [
      "Trying to mark a run completed that was already completed.\n"
     ]
    },
    {
     "data": {
      "application/vnd.plotly.v1+json": {
       "config": {
        "plotlyServerURL": "https://plot.ly"
       },
       "data": [
        {
         "mode": "lines",
         "name": "Voltage vs. Current",
         "type": "scatter",
         "x": [
          -0.00005,
          -0.0000499,
          -0.0000498,
          -0.0000497,
          -0.0000496,
          -0.0000495,
          -0.0000494,
          -0.0000493,
          -0.0000492,
          -0.0000491,
          -0.000049,
          -0.0000489,
          -0.0000488,
          -0.0000487,
          -0.0000486,
          -0.0000485,
          -0.0000484,
          -0.0000483,
          -0.0000482,
          -0.0000481,
          -0.000048,
          -0.0000479,
          -0.0000478,
          -0.0000477,
          -0.0000476,
          -0.0000475,
          -0.0000474,
          -0.0000473,
          -0.0000472,
          -0.0000471,
          -0.000047,
          -0.0000469,
          -0.0000468,
          -0.0000467,
          -0.0000466,
          -0.0000465,
          -0.0000464,
          -0.0000463,
          -0.0000462,
          -0.0000461,
          -0.000046,
          -0.0000459,
          -0.0000458,
          -0.0000457,
          -0.0000456,
          -0.0000455,
          -0.0000454,
          -0.0000453,
          -0.0000452,
          -0.0000451,
          -0.000045,
          -0.0000449,
          -0.0000448,
          -0.0000447,
          -0.0000446,
          -0.0000445,
          -0.0000444,
          -0.0000443,
          -0.0000442,
          -0.0000441,
          -0.000044,
          -0.0000439,
          -0.0000438,
          -0.0000437,
          -0.0000436,
          -0.0000435,
          -0.0000434,
          -0.0000433,
          -0.0000432,
          -0.0000431,
          -0.000043,
          -0.0000429,
          -0.0000428,
          -0.0000427,
          -0.0000426,
          -0.0000425,
          -0.0000424,
          -0.0000423,
          -0.0000422,
          -0.0000421,
          -0.000042,
          -0.0000419,
          -0.0000418,
          -0.0000417,
          -0.0000416,
          -0.0000415,
          -0.0000414,
          -0.0000413,
          -0.0000412,
          -0.0000411,
          -0.000041,
          -0.0000409,
          -0.0000408,
          -0.0000407,
          -0.0000406,
          -0.0000405,
          -0.0000404,
          -0.0000403,
          -0.0000402,
          -0.0000401,
          -0.00004,
          -0.0000399,
          -0.0000398,
          -0.0000397,
          -0.0000396,
          -0.0000395,
          -0.0000394,
          -0.0000393,
          -0.0000392,
          -0.0000391,
          -0.000039,
          -0.0000389,
          -0.0000388,
          -0.0000387,
          -0.0000386,
          -0.0000385,
          -0.0000384,
          -0.0000383,
          -0.0000382,
          -0.0000381,
          -0.000038,
          -0.0000379,
          -0.0000378,
          -0.0000377,
          -0.0000376,
          -0.0000375,
          -0.0000374,
          -0.0000373,
          -0.0000372,
          -0.0000371,
          -0.000037,
          -0.0000369,
          -0.0000368,
          -0.0000367,
          -0.0000366,
          -0.0000365,
          -0.0000364,
          -0.0000363,
          -0.0000362,
          -0.0000361,
          -0.000036,
          -0.0000359,
          -0.0000358,
          -0.0000357,
          -0.0000356,
          -0.0000355,
          -0.0000354,
          -0.0000353,
          -0.0000352,
          -0.0000351,
          -0.000035,
          -0.0000349,
          -0.0000348,
          -0.0000347,
          -0.0000346,
          -0.0000345,
          -0.0000344,
          -0.0000343,
          -0.0000342,
          -0.0000341,
          -0.000034,
          -0.0000339,
          -0.0000338,
          -0.0000337,
          -0.0000336,
          -0.0000335,
          -0.0000334,
          -0.0000333,
          -0.0000332,
          -0.0000331,
          -0.000033,
          -0.0000329,
          -0.0000328,
          -0.0000327,
          -0.0000326,
          -0.0000325,
          -0.0000324,
          -0.0000323,
          -0.0000322,
          -0.0000321,
          -0.000032,
          -0.0000319,
          -0.0000318,
          -0.0000317,
          -0.0000316,
          -0.0000315,
          -0.0000314,
          -0.0000313,
          -0.0000312,
          -0.0000311,
          -0.000031,
          -0.0000309,
          -0.0000308,
          -0.0000307,
          -0.0000306,
          -0.0000305,
          -0.0000304,
          -0.0000303,
          -0.0000302,
          -0.0000301,
          -0.00003,
          -0.0000299,
          -0.0000298,
          -0.0000297,
          -0.0000296,
          -0.0000295,
          -0.0000294,
          -0.0000293,
          -0.0000292,
          -0.0000291,
          -0.000029,
          -0.0000289,
          -0.0000288,
          -0.0000287,
          -0.0000286,
          -0.0000285,
          -0.0000284,
          -0.0000283,
          -0.0000282,
          -0.0000281,
          -0.000028,
          -0.0000279,
          -0.0000278,
          -0.0000277,
          -0.0000276,
          -0.0000275,
          -0.0000274,
          -0.0000273,
          -0.0000272,
          -0.0000271,
          -0.000027,
          -0.0000269,
          -0.0000268,
          -0.0000267,
          -0.0000266,
          -0.0000265,
          -0.0000264,
          -0.0000263,
          -0.0000262,
          -0.0000261,
          -0.000026,
          -0.0000259,
          -0.0000258,
          -0.0000257,
          -0.0000256,
          -0.0000255,
          -0.0000254,
          -0.0000253,
          -0.0000252,
          -0.0000251,
          -0.000025,
          -0.0000249,
          -0.0000248,
          -0.0000247,
          -0.0000246,
          -0.0000245,
          -0.0000244,
          -0.0000243,
          -0.0000242,
          -0.0000241,
          -0.000024,
          -0.0000239,
          -0.0000238,
          -0.0000237,
          -0.0000236,
          -0.0000235,
          -0.0000234,
          -0.0000233,
          -0.0000232,
          -0.0000231,
          -0.000023,
          -0.0000229,
          -0.0000228,
          -0.0000227,
          -0.0000226,
          -0.0000225,
          -0.0000224,
          -0.0000223,
          -0.0000222,
          -0.0000221,
          -0.000022,
          -0.0000219,
          -0.0000218,
          -0.0000217,
          -0.0000216,
          -0.0000215,
          -0.0000214,
          -0.0000213,
          -0.0000212,
          -0.0000211,
          -0.000021,
          -0.0000209,
          -0.0000208,
          -0.0000207,
          -0.0000206,
          -0.0000205,
          -0.0000204,
          -0.0000203,
          -0.0000202,
          -0.0000201,
          -0.00002,
          -0.0000199,
          -0.0000198,
          -0.0000197,
          -0.0000196,
          -0.0000195,
          -0.0000194,
          -0.0000193,
          -0.0000192,
          -0.0000191,
          -0.000019,
          -0.0000189,
          -0.0000188,
          -0.0000187,
          -0.0000186,
          -0.0000185,
          -0.0000184,
          -0.0000183,
          -0.0000182,
          -0.0000181,
          -0.000018,
          -0.0000179,
          -0.0000178,
          -0.0000177,
          -0.0000176,
          -0.0000175,
          -0.0000174,
          -0.0000173,
          -0.0000172,
          -0.0000171,
          -0.000017,
          -0.0000169,
          -0.0000168,
          -0.0000167,
          -0.0000166,
          -0.0000165,
          -0.0000164,
          -0.0000163,
          -0.0000162,
          -0.0000161,
          -0.000016,
          -0.0000159,
          -0.0000158,
          -0.0000157,
          -0.0000156,
          -0.0000155,
          -0.0000154,
          -0.0000153,
          -0.0000152,
          -0.0000151,
          -0.000015,
          -0.0000149,
          -0.0000148,
          -0.0000147,
          -0.0000146,
          -0.0000145,
          -0.0000144,
          -0.0000143,
          -0.0000142,
          -0.0000141,
          -0.000014,
          -0.0000139,
          -0.0000138,
          -0.0000137,
          -0.0000136,
          -0.0000135,
          -0.0000134,
          -0.0000133,
          -0.0000132,
          -0.0000131,
          -0.000013,
          -0.0000129,
          -0.0000128,
          -0.0000127,
          -0.0000126,
          -0.0000125,
          -0.0000124,
          -0.0000123,
          -0.0000122,
          -0.0000121,
          -0.000012,
          -0.0000119,
          -0.0000118,
          -0.0000117,
          -0.0000116,
          -0.0000115,
          -0.0000114,
          -0.0000113,
          -0.0000112,
          -0.0000111,
          -0.000011,
          -0.0000109,
          -0.0000108,
          -0.0000107,
          -0.0000106,
          -0.0000105,
          -0.0000104,
          -0.0000103,
          -0.0000102,
          -0.0000101,
          -0.00001,
          -0.0000099,
          -0.0000098,
          -0.0000097,
          -0.0000096,
          -0.0000095,
          -0.0000094,
          -0.0000093,
          -0.0000092,
          -0.0000091,
          -0.000009,
          -0.0000089,
          -0.0000088,
          -0.0000087,
          -0.0000086,
          -0.0000085,
          -0.0000084,
          -0.0000083,
          -0.0000082,
          -0.0000081,
          -0.000008,
          -0.0000079,
          -0.0000078,
          -0.0000077,
          -0.0000076,
          -0.0000075,
          -0.0000074,
          -0.0000073,
          -0.0000072,
          -0.0000071,
          -0.000007,
          -0.0000069,
          -0.0000068,
          -0.0000067,
          -0.0000066,
          -0.0000065,
          -0.0000064,
          -0.0000063,
          -0.0000062,
          -0.0000061,
          -0.000006,
          -0.0000059,
          -0.0000058,
          -0.0000057,
          -0.0000056,
          -0.0000055,
          -0.0000054,
          -0.0000053,
          -0.0000052,
          -0.00000509999999999999,
          -0.000005,
          -0.0000049,
          -0.0000048,
          -0.0000047,
          -0.0000046,
          -0.0000045,
          -0.0000044,
          -0.0000043,
          -0.0000042,
          -0.0000041,
          -0.000004,
          -0.0000039,
          -0.0000038,
          -0.00000369999999999999,
          -0.0000036,
          -0.0000035,
          -0.0000034,
          -0.0000033,
          -0.0000032,
          -0.0000031,
          -0.000003,
          -0.0000029,
          -0.0000028,
          -0.0000027,
          -0.0000026,
          -0.0000025,
          -0.0000024,
          -0.00000229999999999999,
          -0.0000022,
          -0.0000021,
          -0.000002,
          -0.0000019,
          -0.0000018,
          -0.0000017,
          -0.0000016,
          -0.0000015,
          -0.0000014,
          -0.0000013,
          -0.0000012,
          -0.0000011,
          -9.99999999999997e-7,
          -8.99999999999995e-7,
          -7.99999999999999e-7,
          -6.99999999999997e-7,
          -6.00000000000001e-7,
          -4.99999999999999e-7,
          -3.99999999999996e-7,
          -3.00000000000001e-7,
          -1.99999999999998e-7,
          -9.99999999999957e-8,
          0,
          1.00000000000002e-7,
          2.00000000000005e-7,
          3.00000000000001e-7,
          4.00000000000003e-7,
          5.00000000000005e-7,
          6.00000000000001e-7,
          7.00000000000004e-7,
          7.99999999999999e-7,
          9.00000000000001e-7,
          0.000001,
          0.0000011,
          0.0000012,
          0.0000013,
          0.0000014,
          0.0000015,
          0.0000016,
          0.0000017,
          0.0000018,
          0.0000019,
          0.000002,
          0.0000021,
          0.0000022,
          0.0000023,
          0.0000024,
          0.0000025,
          0.0000026,
          0.0000027,
          0.0000028,
          0.0000029,
          0.00000300000000000001,
          0.0000031,
          0.0000032,
          0.0000033,
          0.0000034,
          0.0000035,
          0.0000036,
          0.0000037,
          0.0000038,
          0.0000039,
          0.000004,
          0.00000410000000000001,
          0.0000042,
          0.0000043,
          0.00000440000000000001,
          0.0000045,
          0.0000046,
          0.0000047,
          0.0000048,
          0.0000049,
          0.000005,
          0.0000051,
          0.0000052,
          0.0000053,
          0.0000054,
          0.00000550000000000001,
          0.0000056,
          0.0000057,
          0.00000580000000000001,
          0.0000059,
          0.000006,
          0.0000061,
          0.0000062,
          0.0000063,
          0.0000064,
          0.0000065,
          0.00000660000000000001,
          0.0000067,
          0.0000068,
          0.00000690000000000001,
          0.000007,
          0.0000071,
          0.00000720000000000001,
          0.0000073,
          0.0000074,
          0.0000075,
          0.0000076,
          0.0000077,
          0.0000078,
          0.0000079,
          0.00000800000000000001,
          0.0000081,
          0.0000082,
          0.0000083,
          0.0000084,
          0.0000085,
          0.00000860000000000001,
          0.0000087,
          0.0000088,
          0.0000089,
          0.000009,
          0.0000091,
          0.0000092,
          0.0000093,
          0.00000940000000000001,
          0.0000095,
          0.00000960000000000001,
          0.00000970000000000001,
          0.0000098,
          0.0000099,
          0.00001,
          0.0000101,
          0.0000102,
          0.0000103,
          0.0000104,
          0.0000105,
          0.0000106,
          0.0000107,
          0.0000108,
          0.0000109,
          0.000011,
          0.0000111,
          0.0000112,
          0.0000113,
          0.0000114,
          0.0000115,
          0.0000116,
          0.0000117,
          0.0000118,
          0.0000119,
          0.000012,
          0.0000121,
          0.0000122,
          0.0000123,
          0.0000124,
          0.0000125,
          0.0000126,
          0.0000127,
          0.0000128,
          0.0000129,
          0.000013,
          0.0000131,
          0.0000132,
          0.0000133,
          0.0000134,
          0.0000135,
          0.0000136,
          0.0000137,
          0.0000138,
          0.0000139,
          0.000014,
          0.0000141,
          0.0000142,
          0.0000143,
          0.0000144,
          0.0000145,
          0.0000146,
          0.0000147,
          0.0000148,
          0.0000149,
          0.000015,
          0.0000151,
          0.0000152,
          0.0000153,
          0.0000154,
          0.0000155,
          0.0000156,
          0.0000157,
          0.0000158,
          0.0000159,
          0.000016,
          0.0000161,
          0.0000162,
          0.0000163,
          0.0000164,
          0.0000165,
          0.0000166,
          0.0000167,
          0.0000168,
          0.0000169,
          0.000017,
          0.0000171,
          0.0000172,
          0.0000173,
          0.0000174,
          0.0000175,
          0.0000176,
          0.0000177,
          0.0000178,
          0.0000179,
          0.000018,
          0.0000181,
          0.0000182,
          0.0000183,
          0.0000184,
          0.0000185,
          0.0000186,
          0.0000187,
          0.0000188,
          0.0000189,
          0.000019,
          0.0000191,
          0.0000192,
          0.0000193,
          0.0000194,
          0.0000195,
          0.0000196,
          0.0000197,
          0.0000198,
          0.0000199,
          0.00002,
          0.0000201,
          0.0000202,
          0.0000203,
          0.0000204,
          0.0000205,
          0.0000206,
          0.0000207,
          0.0000208,
          0.0000209,
          0.000021,
          0.0000211,
          0.0000212,
          0.0000213,
          0.0000214,
          0.0000215,
          0.0000216,
          0.0000217,
          0.0000218,
          0.0000219,
          0.000022,
          0.0000221,
          0.0000222,
          0.0000223,
          0.0000224,
          0.0000225,
          0.0000226,
          0.0000227,
          0.0000228,
          0.0000229,
          0.000023,
          0.0000231,
          0.0000232,
          0.0000233,
          0.0000234,
          0.0000235,
          0.0000236,
          0.0000237,
          0.0000238,
          0.0000239,
          0.000024,
          0.0000241,
          0.0000242,
          0.0000243,
          0.0000244,
          0.0000245,
          0.0000246,
          0.0000247,
          0.0000248,
          0.0000249,
          0.000025,
          0.0000251,
          0.0000252,
          0.0000253,
          0.0000254,
          0.0000255,
          0.0000256,
          0.0000257,
          0.0000258,
          0.0000259,
          0.000026,
          0.0000261,
          0.0000262,
          0.0000263,
          0.0000264,
          0.0000265,
          0.0000266,
          0.0000267,
          0.0000268,
          0.0000269,
          0.000027,
          0.0000271,
          0.0000272,
          0.0000273,
          0.0000274,
          0.0000275,
          0.0000276,
          0.0000277,
          0.0000278,
          0.0000279,
          0.000028,
          0.0000281,
          0.0000282,
          0.0000283,
          0.0000284,
          0.0000285,
          0.0000286,
          0.0000287,
          0.0000288,
          0.0000289,
          0.000029,
          0.0000291,
          0.0000292,
          0.0000293,
          0.0000294,
          0.0000295,
          0.0000296,
          0.0000297,
          0.0000298,
          0.0000299,
          0.00003,
          0.0000301,
          0.0000302,
          0.0000303,
          0.0000304,
          0.0000305,
          0.0000306,
          0.0000307,
          0.0000308,
          0.0000309,
          0.000031,
          0.0000311,
          0.0000312,
          0.0000313,
          0.0000314,
          0.0000315,
          0.0000316,
          0.0000317,
          0.0000318,
          0.0000319,
          0.000032,
          0.0000321,
          0.0000322,
          0.0000323,
          0.0000324,
          0.0000325,
          0.0000326,
          0.0000327,
          0.0000328,
          0.0000329,
          0.000033,
          0.0000331,
          0.0000332,
          0.0000333,
          0.0000334,
          0.0000335,
          0.0000336,
          0.0000337,
          0.0000338,
          0.0000339,
          0.000034,
          0.0000341,
          0.0000342,
          0.0000343,
          0.0000344,
          0.0000345,
          0.0000346,
          0.0000347,
          0.0000348,
          0.0000349,
          0.000035,
          0.0000351,
          0.0000352,
          0.0000353,
          0.0000354,
          0.0000355,
          0.0000356,
          0.0000357,
          0.0000358,
          0.0000359,
          0.000036,
          0.0000361,
          0.0000362,
          0.0000363,
          0.0000364,
          0.0000365,
          0.0000366,
          0.0000367,
          0.0000368,
          0.0000369,
          0.000037,
          0.0000371,
          0.0000372,
          0.0000373,
          0.0000374,
          0.0000375,
          0.0000376,
          0.0000377,
          0.0000378,
          0.0000379,
          0.000038,
          0.0000381,
          0.0000382,
          0.0000383,
          0.0000384,
          0.0000385,
          0.0000386,
          0.0000387,
          0.0000388,
          0.0000389,
          0.000039,
          0.0000391,
          0.0000392,
          0.0000393,
          0.0000394,
          0.0000395,
          0.0000396,
          0.0000397,
          0.0000398,
          0.0000399,
          0.00004,
          0.0000401,
          0.0000402,
          0.0000403,
          0.0000404,
          0.0000405,
          0.0000406,
          0.0000407,
          0.0000408,
          0.0000409,
          0.000041,
          0.0000411,
          0.0000412,
          0.0000413,
          0.0000414,
          0.0000415,
          0.0000416,
          0.0000417,
          0.0000418,
          0.0000419,
          0.000042,
          0.0000421,
          0.0000422,
          0.0000423,
          0.0000424,
          0.0000425,
          0.0000426,
          0.0000427,
          0.0000428,
          0.0000429,
          0.000043,
          0.0000431,
          0.0000432,
          0.0000433,
          0.0000434,
          0.0000435,
          0.0000436,
          0.0000437,
          0.0000438,
          0.0000439,
          0.000044,
          0.0000441,
          0.0000442,
          0.0000443,
          0.0000444,
          0.0000445,
          0.0000446,
          0.0000447,
          0.0000448,
          0.0000449,
          0.000045,
          0.0000451,
          0.0000452,
          0.0000453,
          0.0000454,
          0.0000455,
          0.0000456,
          0.0000457,
          0.0000458,
          0.0000459,
          0.000046,
          0.0000461,
          0.0000462,
          0.0000463,
          0.0000464,
          0.0000465,
          0.0000466,
          0.0000467,
          0.0000468,
          0.0000469,
          0.000047,
          0.0000471,
          0.0000472,
          0.0000473,
          0.0000474,
          0.0000475,
          0.0000476,
          0.0000477,
          0.0000478,
          0.0000479,
          0.000048,
          0.0000481,
          0.0000482,
          0.0000483,
          0.0000484,
          0.0000485,
          0.0000486,
          0.0000487,
          0.0000488,
          0.0000489,
          0.000049,
          0.0000491,
          0.0000492,
          0.0000493,
          0.0000494,
          0.0000495,
          0.0000496,
          0.0000497,
          0.0000498,
          0.0000499,
          0.00005
         ],
         "y": [
          -0.0009458914,
          -0.0009332264,
          -0.0009314663,
          -0.0009297225,
          -0.0009278289,
          -0.0009258986,
          -0.0009241144,
          -0.0009221496,
          -0.0009203889,
          -0.0009183969,
          -0.0009165381,
          -0.0009147573,
          -0.0009127752,
          -0.0009109265,
          -0.00090921,
          -0.0009073222,
          -0.0009053745,
          -0.0009034774,
          -0.0009016588,
          -0.0008996629,
          -0.000898001,
          -0.0008959414,
          -0.0008941931,
          -0.0008922619,
          -0.0008903102,
          -0.0008885747,
          -0.0008867114,
          -0.0008847753,
          -0.0008828168,
          -0.0008810831,
          -0.0008791679,
          -0.0008771519,
          -0.0008753724,
          -0.0008735735,
          -0.0008715859,
          -0.0008696538,
          -0.0008679632,
          -0.0008660582,
          -0.0008640527,
          -0.0008622852,
          -0.0008604478,
          -0.0008584314,
          -0.0008565179,
          -0.0008547519,
          -0.0008527691,
          -0.0008508926,
          -0.0008491157,
          -0.0008472596,
          -0.0008453506,
          -0.0008435664,
          -0.0008416218,
          -0.0008396704,
          -0.0008378988,
          -0.0008357998,
          -0.0008339883,
          -0.0008321514,
          -0.0008301089,
          -0.0008282891,
          -0.0008265093,
          -0.0008245501,
          -0.0008227505,
          -0.0008207691,
          -0.0008187366,
          -0.0008169943,
          -0.0008150047,
          -0.0008131777,
          -0.0008113241,
          -0.0008093631,
          -0.0008075414,
          -0.0008057211,
          -0.0008037349,
          -0.0008018888,
          -0.0008000774,
          -0.0007980637,
          -0.0007961365,
          -0.0007942526,
          -0.0007923226,
          -0.0007904736,
          -0.0007886987,
          -0.0007867477,
          -0.0007847715,
          -0.0007829406,
          -0.0007810136,
          -0.0007792264,
          -0.0007773612,
          -0.0007754272,
          -0.0007733867,
          -0.0007715262,
          -0.000769684,
          -0.0007678321,
          -0.0007658818,
          -0.0007638987,
          -0.0007621015,
          -0.0007601475,
          -0.0007583141,
          -0.0007564805,
          -0.0007545032,
          -0.0007527172,
          -0.0007508631,
          -0.0007488999,
          -0.0007468814,
          -0.0007452002,
          -0.000743146,
          -0.0007413435,
          -0.0007394483,
          -0.0007374587,
          -0.0007356892,
          -0.0007337486,
          -0.0007318144,
          -0.0007299136,
          -0.0007280892,
          -0.0007260534,
          -0.0007243858,
          -0.0007223393,
          -0.0007205436,
          -0.0007186003,
          -0.0007166272,
          -0.0007148821,
          -0.0007129607,
          -0.0007110996,
          -0.0007091168,
          -0.0007072321,
          -0.0007054518,
          -0.0007035188,
          -0.0007017799,
          -0.000699738,
          -0.0006977896,
          -0.0006960627,
          -0.0006942222,
          -0.0006922875,
          -0.0006903509,
          -0.0006885132,
          -0.0006865139,
          -0.000684848,
          -0.0006829281,
          -0.0006810398,
          -0.0006790886,
          -0.0006772998,
          -0.0006754062,
          -0.0006734283,
          -0.0006716156,
          -0.0006696973,
          -0.0006678781,
          -0.0006658989,
          -0.0006640725,
          -0.000662146,
          -0.000660322,
          -0.0006583477,
          -0.000656465,
          -0.000654689,
          -0.0006527072,
          -0.0006509579,
          -0.0006489587,
          -0.0006471298,
          -0.0006451767,
          -0.0006433724,
          -0.0006414707,
          -0.0006396834,
          -0.0006376181,
          -0.0006359036,
          -0.0006338197,
          -0.0006319599,
          -0.0006301455,
          -0.0006281919,
          -0.0006262678,
          -0.0006244478,
          -0.0006226544,
          -0.0006207316,
          -0.0006189506,
          -0.0006169776,
          -0.0006152011,
          -0.000613337,
          -0.0006112796,
          -0.00060945,
          -0.0006075785,
          -0.0006056031,
          -0.0006037549,
          -0.0006019972,
          -0.0006000372,
          -0.000598246,
          -0.0005962118,
          -0.0005944924,
          -0.0005925369,
          -0.0005907377,
          -0.0005885854,
          -0.0005868935,
          -0.000585032,
          -0.0005831047,
          -0.0005812133,
          -0.0005795551,
          -0.0005775357,
          -0.0005756868,
          -0.0005737757,
          -0.0005719897,
          -0.0005700727,
          -0.0005681635,
          -0.0005662241,
          -0.0005643599,
          -0.0005625717,
          -0.0005605366,
          -0.00055877,
          -0.0005568257,
          -0.0005548942,
          -0.0005530201,
          -0.000551226,
          -0.00054943,
          -0.0005473796,
          -0.0005455394,
          -0.0005437242,
          -0.0005419241,
          -0.000540053,
          -0.0005380756,
          -0.0005362991,
          -0.0005343133,
          -0.0005323958,
          -0.0005306531,
          -0.0005287527,
          -0.0005267505,
          -0.0005248903,
          -0.0005229412,
          -0.00052124,
          -0.0005193434,
          -0.0005173663,
          -0.0005155499,
          -0.0005136222,
          -0.0005118666,
          -0.0005100608,
          -0.0005080196,
          -0.0005062209,
          -0.00050424,
          -0.0005024416,
          -0.0005006292,
          -0.0004986686,
          -0.0004968643,
          -0.0004949404,
          -0.0004931035,
          -0.0004912053,
          -0.0004892918,
          -0.0004873834,
          -0.0004855868,
          -0.0004836481,
          -0.0004817573,
          -0.0004798882,
          -0.0004780863,
          -0.0004761801,
          -0.0004741514,
          -0.0004722478,
          -0.0004705753,
          -0.0004686705,
          -0.0004668146,
          -0.0004648498,
          -0.0004630497,
          -0.0004611314,
          -0.000459249,
          -0.0004573732,
          -0.0004555215,
          -0.0004535318,
          -0.0004518292,
          -0.0004498317,
          -0.0004478747,
          -0.0004460788,
          -0.0004442143,
          -0.0004423309,
          -0.0004404084,
          -0.0004386532,
          -0.0004365842,
          -0.0004348549,
          -0.0004329269,
          -0.0004310071,
          -0.0004291779,
          -0.0004273026,
          -0.0004254109,
          -0.0004235256,
          -0.0004216158,
          -0.0004197134,
          -0.0004179182,
          -0.0004159361,
          -0.0004140962,
          -0.0004122903,
          -0.0004104131,
          -0.0004085414,
          -0.0004066739,
          -0.0004048293,
          -0.0004028265,
          -0.0004010056,
          -0.0003990649,
          -0.0003972956,
          -0.0003954263,
          -0.0003934026,
          -0.0003917531,
          -0.0003897522,
          -0.00038792,
          -0.0003860525,
          -0.0003840902,
          -0.0003821417,
          -0.0003804407,
          -0.0003784441,
          -0.0003766733,
          -0.0003746221,
          -0.0003728835,
          -0.000371111,
          -0.0003690636,
          -0.0003671774,
          -0.0003652994,
          -0.0003634147,
          -0.0003615875,
          -0.0003596978,
          -0.0003578522,
          -0.0003559222,
          -0.0003540701,
          -0.0003521396,
          -0.0003504136,
          -0.00034833,
          -0.0003465789,
          -0.0003446712,
          -0.0003428899,
          -0.0003408318,
          -0.0003390794,
          -0.0003371332,
          -0.0003353448,
          -0.0003334717,
          -0.0003315638,
          -0.0003297345,
          -0.0003278408,
          -0.0003259618,
          -0.0003240144,
          -0.00032204,
          -0.0003203475,
          -0.0003184407,
          -0.0003165559,
          -0.0003145556,
          -0.0003127753,
          -0.0003107637,
          -0.000309004,
          -0.0003071592,
          -0.000305341,
          -0.0003032753,
          -0.0003015895,
          -0.0002996883,
          -0.0002977741,
          -0.0002957935,
          -0.0002938869,
          -0.0002921489,
          -0.0002901294,
          -0.0002882857,
          -0.0002864425,
          -0.0002846295,
          -0.0002826462,
          -0.0002808126,
          -0.0002789383,
          -0.0002770045,
          -0.0002752796,
          -0.0002734102,
          -0.0002714943,
          -0.000269572,
          -0.000267648,
          -0.0002659028,
          -0.0002640233,
          -0.0002620403,
          -0.0002602703,
          -0.0002583348,
          -0.0002564723,
          -0.0002545205,
          -0.0002527015,
          -0.0002507545,
          -0.0002488723,
          -0.0002470344,
          -0.0002450269,
          -0.0002433307,
          -0.0002414679,
          -0.0002394843,
          -0.0002376421,
          -0.0002358116,
          -0.0002338016,
          -0.0002320234,
          -0.0002301324,
          -0.0002282893,
          -0.0002263297,
          -0.00022436,
          -0.0002224665,
          -0.0002206282,
          -0.0002186874,
          -0.0002168184,
          -0.0002150533,
          -0.0002131845,
          -0.0002112347,
          -0.0002094135,
          -0.0002074535,
          -0.000205618,
          -0.0002038049,
          -0.0002018967,
          -0.0001999401,
          -0.0001980348,
          -0.0001962798,
          -0.0001943373,
          -0.0001924467,
          -0.0001906394,
          -0.0001885776,
          -0.0001868184,
          -0.0001848861,
          -0.0001830756,
          -0.0001811527,
          -0.000179281,
          -0.0001773714,
          -0.0001754892,
          -0.0001736124,
          -0.0001717162,
          -0.0001699404,
          -0.0001680385,
          -0.0001660245,
          -0.0001642097,
          -0.0001622644,
          -0.0001603783,
          -0.0001584887,
          -0.0001567049,
          -0.0001547502,
          -0.0001528623,
          -0.0001509724,
          -0.0001492472,
          -0.00014714,
          -0.000145334,
          -0.0001435337,
          -0.0001416536,
          -0.0001396759,
          -0.0001379336,
          -0.0001360124,
          -0.0001341672,
          -0.0001322621,
          -0.0001303295,
          -0.0001285026,
          -0.0001267263,
          -0.0001246966,
          -0.0001228559,
          -0.0001209423,
          -0.0001190677,
          -0.000117124,
          -0.0001151888,
          -0.0001133579,
          -0.0001114764,
          -0.0001098047,
          -0.0001076789,
          -0.0001058103,
          -0.0001040094,
          -0.0001021305,
          -0.0001002837,
          -0.00009843226,
          -0.00009639403,
          -0.00009457164,
          -0.00009280494,
          -0.00009085569,
          -0.00008889058,
          -0.00008706827,
          -0.00008514893,
          -0.00008330058,
          -0.00008149921,
          -0.00007965534,
          -0.00007775491,
          -0.00007584171,
          -0.00007392153,
          -0.0000721896,
          -0.00007018882,
          -0.00006833278,
          -0.00006651592,
          -0.00006463836,
          -0.0000626985,
          -0.00006080792,
          -0.0000589079,
          -0.0000570689,
          -0.00005519978,
          -0.00005324117,
          -0.00005141516,
          -0.00004949667,
          -0.00004767868,
          -0.00004571551,
          -0.00004397739,
          -0.00004207149,
          -0.00004031438,
          -0.00003827415,
          -0.00003642521,
          -0.00003456199,
          -0.00003275681,
          -0.00003085359,
          -0.00002908202,
          -0.00002719793,
          -0.00002538727,
          -0.00002352487,
          -0.00002170131,
          -0.00001976255,
          -0.00001796852,
          -0.00001603202,
          -0.00001419427,
          -0.00001236593,
          -0.0000106587,
          -0.000008723137,
          -0.000006884703,
          -0.000005251965,
          0.000002896526,
          0.00000296076,
          0.000002930466,
          0.000002904659,
          0.000002914895,
          0.000002854147,
          0.000002841912,
          0.000002938793,
          0.000002812932,
          0.000002810264,
          0.000002895612,
          0.00000282014,
          0.000002873989,
          0.000002866732,
          0.000002752866,
          0.000002830391,
          0.000002792669,
          0.000002846459,
          0.000002780302,
          0.00002929735,
          0.00003122737,
          0.00003321161,
          0.00003509056,
          0.00003690758,
          0.00003870906,
          0.00004048559,
          0.00004255855,
          0.00004428078,
          0.00004612277,
          0.00004812458,
          0.00004983758,
          0.00005173319,
          0.00005373457,
          0.00005556986,
          0.00005740083,
          0.00005924287,
          0.00006127017,
          0.00006297844,
          0.00006497097,
          0.00006692941,
          0.00006871556,
          0.00007068853,
          0.00007253023,
          0.00007452569,
          0.00007627472,
          0.0000782097,
          0.00008004157,
          0.00008188154,
          0.00008386806,
          0.00008562913,
          0.00008758225,
          0.00008960814,
          0.00009125777,
          0.00009327632,
          0.00009517604,
          0.00009684945,
          0.00009884349,
          0.0001007632,
          0.0001026397,
          0.0001044952,
          0.0001062938,
          0.0001082178,
          0.0001101353,
          0.0001120507,
          0.0001140046,
          0.0001158631,
          0.0001175428,
          0.0001195402,
          0.0001214613,
          0.0001233371,
          0.0001250739,
          0.0001270595,
          0.0001289873,
          0.0001309544,
          0.0001326262,
          0.0001346492,
          0.0001364761,
          0.0001383551,
          0.0001403076,
          0.0001420952,
          0.000144054,
          0.0001458715,
          0.0001476785,
          0.0001496632,
          0.0001515127,
          0.0001533562,
          0.0001552778,
          0.0001572581,
          0.0001590724,
          0.0001609251,
          0.000162859,
          0.0001646717,
          0.0001665114,
          0.000168423,
          0.0001703001,
          0.0001721753,
          0.0001740801,
          0.0001759718,
          0.0001778901,
          0.0001797877,
          0.0001815143,
          0.0001834756,
          0.0001852823,
          0.0001872166,
          0.0001891795,
          0.0001909193,
          0.0001929132,
          0.0001947053,
          0.000196614,
          0.0001985201,
          0.0002003982,
          0.0002023723,
          0.0002041709,
          0.0002059429,
          0.0002079161,
          0.0002098987,
          0.0002116077,
          0.0002136038,
          0.0002154287,
          0.0002172181,
          0.0002192159,
          0.0002209495,
          0.0002229428,
          0.0002249467,
          0.0002265868,
          0.0002285801,
          0.0002304447,
          0.0002322304,
          0.000234288,
          0.0002360541,
          0.0002379026,
          0.0002398693,
          0.000241796,
          0.0002435157,
          0.0002453364,
          0.0002474339,
          0.0002492418,
          0.0002511206,
          0.0002528551,
          0.0002547559,
          0.0002566413,
          0.000258629,
          0.0002605206,
          0.0002623861,
          0.000264218,
          0.0002660329,
          0.0002680179,
          0.0002698666,
          0.0002717614,
          0.0002735442,
          0.0002755795,
          0.0002773221,
          0.0002792233,
          0.0002812092,
          0.0002830399,
          0.0002848137,
          0.0002868492,
          0.0002886075,
          0.0002905617,
          0.0002924497,
          0.0002943543,
          0.000296226,
          0.0002981211,
          0.000299914,
          0.0003017751,
          0.0003036257,
          0.0003054746,
          0.0003072835,
          0.0003092813,
          0.0003110918,
          0.0003129391,
          0.0003149294,
          0.0003167062,
          0.0003185615,
          0.0003204233,
          0.0003223365,
          0.0003243573,
          0.0003261416,
          0.0003280949,
          0.0003298705,
          0.0003316747,
          0.0003337032,
          0.0003354672,
          0.0003372853,
          0.0003392156,
          0.0003411571,
          0.0003429349,
          0.0003449393,
          0.0003467744,
          0.0003486839,
          0.000350403,
          0.0003522352,
          0.0003541151,
          0.0003561275,
          0.0003579548,
          0.0003599022,
          0.0003617025,
          0.0003635988,
          0.0003653722,
          0.0003672475,
          0.0003691417,
          0.0003710991,
          0.0003729863,
          0.0003747462,
          0.0003766197,
          0.0003785668,
          0.0003803118,
          0.0003823564,
          0.0003841083,
          0.0003859413,
          0.0003878315,
          0.0003897206,
          0.0003917632,
          0.0003935051,
          0.0003954843,
          0.0003974036,
          0.000399186,
          0.0004010459,
          0.0004029901,
          0.0004047191,
          0.0004066489,
          0.00040856,
          0.0004104188,
          0.0004122479,
          0.000414043,
          0.0004160361,
          0.0004177934,
          0.0004197024,
          0.0004215945,
          0.0004233452,
          0.0004253627,
          0.0004271594,
          0.000429008,
          0.0004309393,
          0.0004327954,
          0.0004345823,
          0.0004365907,
          0.000438305,
          0.0004403467,
          0.000442075,
          0.0004440889,
          0.0004458194,
          0.0004476884,
          0.0004496181,
          0.0004513704,
          0.0004532457,
          0.0004552278,
          0.0004569257,
          0.0004589881,
          0.0004609476,
          0.0004626322,
          0.0004645041,
          0.0004664312,
          0.0004683813,
          0.0004701421,
          0.0004719512,
          0.0004738317,
          0.0004758076,
          0.0004775469,
          0.0004794428,
          0.00048139,
          0.0004831748,
          0.0004851238,
          0.0004870886,
          0.0004887409,
          0.0004908335,
          0.0004926548,
          0.0004944978,
          0.0004962873,
          0.0004981603,
          0.000500124,
          0.0005019087,
          0.0005036981,
          0.0005057077,
          0.0005074519,
          0.0005094555,
          0.0005113021,
          0.0005131323,
          0.0005150139,
          0.0005167412,
          0.0005186921,
          0.000520483,
          0.0005225367,
          0.0005242915,
          0.0005263085,
          0.0005281644,
          0.0005298944,
          0.0005317699,
          0.0005337166,
          0.0005355992,
          0.0005374618,
          0.0005392565,
          0.0005410958,
          0.0005430227,
          0.0005448029,
          0.0005467374,
          0.000548533,
          0.0005503744,
          0.0005524028,
          0.0005542804,
          0.0005561593,
          0.0005578763,
          0.0005598962,
          0.0005616981,
          0.0005635487,
          0.0005653265,
          0.0005671894,
          0.0005690508,
          0.0005710129,
          0.0005728683,
          0.0005746468,
          0.0005764453,
          0.0005785378,
          0.0005802577,
          0.0005822776,
          0.0005841408,
          0.000585877,
          0.0005877936,
          0.0005895932,
          0.0005914937,
          0.000593409,
          0.0005952525,
          0.0005971066,
          0.0005990391,
          0.0006008445,
          0.000602823,
          0.0006045574,
          0.0006065816,
          0.0006082984,
          0.000610256,
          0.0006120336,
          0.0006139085,
          0.00061591,
          0.0006176594,
          0.0006195086,
          0.0006214233,
          0.0006232043,
          0.0006250181,
          0.0006270502,
          0.0006289219,
          0.000630682,
          0.0006326057,
          0.0006344647,
          0.0006363054,
          0.0006381719,
          0.0006399992,
          0.0006418279,
          0.0006438493,
          0.0006455991,
          0.0006475969,
          0.0006493708,
          0.0006512679,
          0.0006530442,
          0.0006548673,
          0.000656773,
          0.0006586108,
          0.0006606438,
          0.0006624498,
          0.0006643527,
          0.00066617,
          0.0006679745,
          0.0006698639,
          0.0006717689,
          0.0006735717,
          0.0006754195,
          0.00067726,
          0.0006793,
          0.0006810556,
          0.0006829458,
          0.0006846841,
          0.0006867119,
          0.000688454,
          0.0006903984,
          0.0006921221,
          0.0006940911,
          0.000696013,
          0.0006978701,
          0.000699737,
          0.0007014831,
          0.0007033476,
          0.0007052167,
          0.0007070154,
          0.000709095,
          0.0007108285,
          0.0007127087,
          0.0007146289,
          0.0007164124,
          0.0007183448,
          0.0007202523,
          0.0007220439,
          0.0007237953,
          0.0007257094,
          0.0007276713,
          0.0007293754,
          0.0007312265,
          0.0007332688,
          0.0007351186,
          0.0007369588,
          0.0007388254,
          0.0007405766,
          0.0007425797,
          0.0007444844,
          0.0007461762,
          0.0007481174,
          0.0007500604,
          0.0007517444,
          0.0007536527,
          0.0007556104,
          0.0007574041,
          0.0007592528,
          0.0007610611,
          0.000762865,
          0.0007648682,
          0.0007666941,
          0.000768512,
          0.0007702979,
          0.0007722511,
          0.0007740788,
          0.000776029,
          0.0007778963,
          0.0007798166,
          0.0007816224,
          0.0007834176,
          0.0007853574,
          0.0007873,
          0.0007889708,
          0.0007909654,
          0.0007929143,
          0.0007945956,
          0.0007965077,
          0.0007984623,
          0.0008001515,
          0.0008020925,
          0.0008038483,
          0.0008058681,
          0.0008076082,
          0.0008096464,
          0.0008112438,
          0.0008133242,
          0.0008151063,
          0.0008169522,
          0.0008187814,
          0.0008207467,
          0.000822626,
          0.0008243562,
          0.0008262823,
          0.0008282169,
          0.0008299437,
          0.0008319574,
          0.0008337163,
          0.0008356252,
          0.0008374844,
          0.0008392212,
          0.0008412319,
          0.0008430731,
          0.0008449154,
          0.0008468425,
          0.0008487857,
          0.0008506002,
          0.0008523539,
          0.0008543056,
          0.0008560423,
          0.0008580351,
          0.0008598126,
          0.000861624,
          0.0008635105,
          0.000865429,
          0.000867334,
          0.0008691383,
          0.0008708853,
          0.0008729065,
          0.0008746158,
          0.0008764844,
          0.0008783752,
          0.0008803215,
          0.0008821965,
          0.0008839431,
          0.0008859436,
          0.0008878114,
          0.0008895703,
          0.0008913955,
          0.0008932925,
          0.0008950533,
          0.0008968926,
          0.0008987845,
          0.0009007515,
          0.0009026623,
          0.0009044959,
          0.0009063564,
          0.0009081579,
          0.000910116,
          0.0009118736,
          0.0009137228,
          0.000915696,
          0.0009175207,
          0.0009192762,
          0.0009210539,
          0.0009229616,
          0.0009248495,
          0.0009267611,
          0.0009285416,
          0.0009304466,
          0.0009322602,
          0.0009342648,
          0.0009360887
         ]
        }
       ],
       "layout": {
        "height": 960,
        "margin": {
         "b": 10,
         "l": 10,
         "r": 10,
         "t": 50
        },
        "template": {
         "data": {
          "bar": [
           {
            "error_x": {
             "color": "#2a3f5f"
            },
            "error_y": {
             "color": "#2a3f5f"
            },
            "marker": {
             "line": {
              "color": "#E5ECF6",
              "width": 0.5
             },
             "pattern": {
              "fillmode": "overlay",
              "size": 10,
              "solidity": 0.2
             }
            },
            "type": "bar"
           }
          ],
          "barpolar": [
           {
            "marker": {
             "line": {
              "color": "#E5ECF6",
              "width": 0.5
             },
             "pattern": {
              "fillmode": "overlay",
              "size": 10,
              "solidity": 0.2
             }
            },
            "type": "barpolar"
           }
          ],
          "carpet": [
           {
            "aaxis": {
             "endlinecolor": "#2a3f5f",
             "gridcolor": "white",
             "linecolor": "white",
             "minorgridcolor": "white",
             "startlinecolor": "#2a3f5f"
            },
            "baxis": {
             "endlinecolor": "#2a3f5f",
             "gridcolor": "white",
             "linecolor": "white",
             "minorgridcolor": "white",
             "startlinecolor": "#2a3f5f"
            },
            "type": "carpet"
           }
          ],
          "choropleth": [
           {
            "colorbar": {
             "outlinewidth": 0,
             "ticks": ""
            },
            "type": "choropleth"
           }
          ],
          "contour": [
           {
            "colorbar": {
             "outlinewidth": 0,
             "ticks": ""
            },
            "colorscale": [
             [
              0,
              "#0d0887"
             ],
             [
              0.1111111111111111,
              "#46039f"
             ],
             [
              0.2222222222222222,
              "#7201a8"
             ],
             [
              0.3333333333333333,
              "#9c179e"
             ],
             [
              0.4444444444444444,
              "#bd3786"
             ],
             [
              0.5555555555555556,
              "#d8576b"
             ],
             [
              0.6666666666666666,
              "#ed7953"
             ],
             [
              0.7777777777777778,
              "#fb9f3a"
             ],
             [
              0.8888888888888888,
              "#fdca26"
             ],
             [
              1,
              "#f0f921"
             ]
            ],
            "type": "contour"
           }
          ],
          "contourcarpet": [
           {
            "colorbar": {
             "outlinewidth": 0,
             "ticks": ""
            },
            "type": "contourcarpet"
           }
          ],
          "heatmap": [
           {
            "colorbar": {
             "outlinewidth": 0,
             "ticks": ""
            },
            "colorscale": [
             [
              0,
              "#0d0887"
             ],
             [
              0.1111111111111111,
              "#46039f"
             ],
             [
              0.2222222222222222,
              "#7201a8"
             ],
             [
              0.3333333333333333,
              "#9c179e"
             ],
             [
              0.4444444444444444,
              "#bd3786"
             ],
             [
              0.5555555555555556,
              "#d8576b"
             ],
             [
              0.6666666666666666,
              "#ed7953"
             ],
             [
              0.7777777777777778,
              "#fb9f3a"
             ],
             [
              0.8888888888888888,
              "#fdca26"
             ],
             [
              1,
              "#f0f921"
             ]
            ],
            "type": "heatmap"
           }
          ],
          "heatmapgl": [
           {
            "colorbar": {
             "outlinewidth": 0,
             "ticks": ""
            },
            "colorscale": [
             [
              0,
              "#0d0887"
             ],
             [
              0.1111111111111111,
              "#46039f"
             ],
             [
              0.2222222222222222,
              "#7201a8"
             ],
             [
              0.3333333333333333,
              "#9c179e"
             ],
             [
              0.4444444444444444,
              "#bd3786"
             ],
             [
              0.5555555555555556,
              "#d8576b"
             ],
             [
              0.6666666666666666,
              "#ed7953"
             ],
             [
              0.7777777777777778,
              "#fb9f3a"
             ],
             [
              0.8888888888888888,
              "#fdca26"
             ],
             [
              1,
              "#f0f921"
             ]
            ],
            "type": "heatmapgl"
           }
          ],
          "histogram": [
           {
            "marker": {
             "pattern": {
              "fillmode": "overlay",
              "size": 10,
              "solidity": 0.2
             }
            },
            "type": "histogram"
           }
          ],
          "histogram2d": [
           {
            "colorbar": {
             "outlinewidth": 0,
             "ticks": ""
            },
            "colorscale": [
             [
              0,
              "#0d0887"
             ],
             [
              0.1111111111111111,
              "#46039f"
             ],
             [
              0.2222222222222222,
              "#7201a8"
             ],
             [
              0.3333333333333333,
              "#9c179e"
             ],
             [
              0.4444444444444444,
              "#bd3786"
             ],
             [
              0.5555555555555556,
              "#d8576b"
             ],
             [
              0.6666666666666666,
              "#ed7953"
             ],
             [
              0.7777777777777778,
              "#fb9f3a"
             ],
             [
              0.8888888888888888,
              "#fdca26"
             ],
             [
              1,
              "#f0f921"
             ]
            ],
            "type": "histogram2d"
           }
          ],
          "histogram2dcontour": [
           {
            "colorbar": {
             "outlinewidth": 0,
             "ticks": ""
            },
            "colorscale": [
             [
              0,
              "#0d0887"
             ],
             [
              0.1111111111111111,
              "#46039f"
             ],
             [
              0.2222222222222222,
              "#7201a8"
             ],
             [
              0.3333333333333333,
              "#9c179e"
             ],
             [
              0.4444444444444444,
              "#bd3786"
             ],
             [
              0.5555555555555556,
              "#d8576b"
             ],
             [
              0.6666666666666666,
              "#ed7953"
             ],
             [
              0.7777777777777778,
              "#fb9f3a"
             ],
             [
              0.8888888888888888,
              "#fdca26"
             ],
             [
              1,
              "#f0f921"
             ]
            ],
            "type": "histogram2dcontour"
           }
          ],
          "mesh3d": [
           {
            "colorbar": {
             "outlinewidth": 0,
             "ticks": ""
            },
            "type": "mesh3d"
           }
          ],
          "parcoords": [
           {
            "line": {
             "colorbar": {
              "outlinewidth": 0,
              "ticks": ""
             }
            },
            "type": "parcoords"
           }
          ],
          "pie": [
           {
            "automargin": true,
            "type": "pie"
           }
          ],
          "scatter": [
           {
            "fillpattern": {
             "fillmode": "overlay",
             "size": 10,
             "solidity": 0.2
            },
            "type": "scatter"
           }
          ],
          "scatter3d": [
           {
            "line": {
             "colorbar": {
              "outlinewidth": 0,
              "ticks": ""
             }
            },
            "marker": {
             "colorbar": {
              "outlinewidth": 0,
              "ticks": ""
             }
            },
            "type": "scatter3d"
           }
          ],
          "scattercarpet": [
           {
            "marker": {
             "colorbar": {
              "outlinewidth": 0,
              "ticks": ""
             }
            },
            "type": "scattercarpet"
           }
          ],
          "scattergeo": [
           {
            "marker": {
             "colorbar": {
              "outlinewidth": 0,
              "ticks": ""
             }
            },
            "type": "scattergeo"
           }
          ],
          "scattergl": [
           {
            "marker": {
             "colorbar": {
              "outlinewidth": 0,
              "ticks": ""
             }
            },
            "type": "scattergl"
           }
          ],
          "scattermapbox": [
           {
            "marker": {
             "colorbar": {
              "outlinewidth": 0,
              "ticks": ""
             }
            },
            "type": "scattermapbox"
           }
          ],
          "scatterpolar": [
           {
            "marker": {
             "colorbar": {
              "outlinewidth": 0,
              "ticks": ""
             }
            },
            "type": "scatterpolar"
           }
          ],
          "scatterpolargl": [
           {
            "marker": {
             "colorbar": {
              "outlinewidth": 0,
              "ticks": ""
             }
            },
            "type": "scatterpolargl"
           }
          ],
          "scatterternary": [
           {
            "marker": {
             "colorbar": {
              "outlinewidth": 0,
              "ticks": ""
             }
            },
            "type": "scatterternary"
           }
          ],
          "surface": [
           {
            "colorbar": {
             "outlinewidth": 0,
             "ticks": ""
            },
            "colorscale": [
             [
              0,
              "#0d0887"
             ],
             [
              0.1111111111111111,
              "#46039f"
             ],
             [
              0.2222222222222222,
              "#7201a8"
             ],
             [
              0.3333333333333333,
              "#9c179e"
             ],
             [
              0.4444444444444444,
              "#bd3786"
             ],
             [
              0.5555555555555556,
              "#d8576b"
             ],
             [
              0.6666666666666666,
              "#ed7953"
             ],
             [
              0.7777777777777778,
              "#fb9f3a"
             ],
             [
              0.8888888888888888,
              "#fdca26"
             ],
             [
              1,
              "#f0f921"
             ]
            ],
            "type": "surface"
           }
          ],
          "table": [
           {
            "cells": {
             "fill": {
              "color": "#EBF0F8"
             },
             "line": {
              "color": "white"
             }
            },
            "header": {
             "fill": {
              "color": "#C8D4E3"
             },
             "line": {
              "color": "white"
             }
            },
            "type": "table"
           }
          ]
         },
         "layout": {
          "annotationdefaults": {
           "arrowcolor": "#2a3f5f",
           "arrowhead": 0,
           "arrowwidth": 1
          },
          "autotypenumbers": "strict",
          "coloraxis": {
           "colorbar": {
            "outlinewidth": 0,
            "ticks": ""
           }
          },
          "colorscale": {
           "diverging": [
            [
             0,
             "#8e0152"
            ],
            [
             0.1,
             "#c51b7d"
            ],
            [
             0.2,
             "#de77ae"
            ],
            [
             0.3,
             "#f1b6da"
            ],
            [
             0.4,
             "#fde0ef"
            ],
            [
             0.5,
             "#f7f7f7"
            ],
            [
             0.6,
             "#e6f5d0"
            ],
            [
             0.7,
             "#b8e186"
            ],
            [
             0.8,
             "#7fbc41"
            ],
            [
             0.9,
             "#4d9221"
            ],
            [
             1,
             "#276419"
            ]
           ],
           "sequential": [
            [
             0,
             "#0d0887"
            ],
            [
             0.1111111111111111,
             "#46039f"
            ],
            [
             0.2222222222222222,
             "#7201a8"
            ],
            [
             0.3333333333333333,
             "#9c179e"
            ],
            [
             0.4444444444444444,
             "#bd3786"
            ],
            [
             0.5555555555555556,
             "#d8576b"
            ],
            [
             0.6666666666666666,
             "#ed7953"
            ],
            [
             0.7777777777777778,
             "#fb9f3a"
            ],
            [
             0.8888888888888888,
             "#fdca26"
            ],
            [
             1,
             "#f0f921"
            ]
           ],
           "sequentialminus": [
            [
             0,
             "#0d0887"
            ],
            [
             0.1111111111111111,
             "#46039f"
            ],
            [
             0.2222222222222222,
             "#7201a8"
            ],
            [
             0.3333333333333333,
             "#9c179e"
            ],
            [
             0.4444444444444444,
             "#bd3786"
            ],
            [
             0.5555555555555556,
             "#d8576b"
            ],
            [
             0.6666666666666666,
             "#ed7953"
            ],
            [
             0.7777777777777778,
             "#fb9f3a"
            ],
            [
             0.8888888888888888,
             "#fdca26"
            ],
            [
             1,
             "#f0f921"
            ]
           ]
          },
          "colorway": [
           "#636efa",
           "#EF553B",
           "#00cc96",
           "#ab63fa",
           "#FFA15A",
           "#19d3f3",
           "#FF6692",
           "#B6E880",
           "#FF97FF",
           "#FECB52"
          ],
          "font": {
           "color": "#2a3f5f"
          },
          "geo": {
           "bgcolor": "white",
           "lakecolor": "white",
           "landcolor": "#E5ECF6",
           "showlakes": true,
           "showland": true,
           "subunitcolor": "white"
          },
          "hoverlabel": {
           "align": "left"
          },
          "hovermode": "closest",
          "mapbox": {
           "style": "light"
          },
          "paper_bgcolor": "white",
          "plot_bgcolor": "#E5ECF6",
          "polar": {
           "angularaxis": {
            "gridcolor": "white",
            "linecolor": "white",
            "ticks": ""
           },
           "bgcolor": "#E5ECF6",
           "radialaxis": {
            "gridcolor": "white",
            "linecolor": "white",
            "ticks": ""
           }
          },
          "scene": {
           "xaxis": {
            "backgroundcolor": "#E5ECF6",
            "gridcolor": "white",
            "gridwidth": 2,
            "linecolor": "white",
            "showbackground": true,
            "ticks": "",
            "zerolinecolor": "white"
           },
           "yaxis": {
            "backgroundcolor": "#E5ECF6",
            "gridcolor": "white",
            "gridwidth": 2,
            "linecolor": "white",
            "showbackground": true,
            "ticks": "",
            "zerolinecolor": "white"
           },
           "zaxis": {
            "backgroundcolor": "#E5ECF6",
            "gridcolor": "white",
            "gridwidth": 2,
            "linecolor": "white",
            "showbackground": true,
            "ticks": "",
            "zerolinecolor": "white"
           }
          },
          "shapedefaults": {
           "line": {
            "color": "#2a3f5f"
           }
          },
          "ternary": {
           "aaxis": {
            "gridcolor": "white",
            "linecolor": "white",
            "ticks": ""
           },
           "baxis": {
            "gridcolor": "white",
            "linecolor": "white",
            "ticks": ""
           },
           "bgcolor": "#E5ECF6",
           "caxis": {
            "gridcolor": "white",
            "linecolor": "white",
            "ticks": ""
           }
          },
          "title": {
           "x": 0.05
          },
          "xaxis": {
           "automargin": true,
           "gridcolor": "white",
           "linecolor": "white",
           "ticks": "",
           "title": {
            "standoff": 15
           },
           "zerolinecolor": "white",
           "zerolinewidth": 2
          },
          "yaxis": {
           "automargin": true,
           "gridcolor": "white",
           "linecolor": "white",
           "ticks": "",
           "title": {
            "standoff": 15
           },
           "zerolinecolor": "white",
           "zerolinewidth": 2
          }
         }
        },
        "title": {
         "font": {
          "size": 28
         },
         "text": "<b>#35 I-V</b> 020-1_21-20-30-31, R_fit=18.7075 Ω"
        },
        "width": 1080,
        "xaxis": {
         "tickfont": {
          "size": 16
         },
         "title": {
          "font": {
           "size": 20
          },
          "text": "appl_current"
         }
        },
        "yaxis": {
         "tickfont": {
          "size": 16
         },
         "title": {
          "font": {
           "size": 20
          },
          "text": "meas_voltage_K2"
         }
        }
       }
      }
     },
     "metadata": {},
     "output_type": "display_data"
    },
    {
     "data": {
      "application/vnd.plotly.v1+json": {
       "config": {
        "plotlyServerURL": "https://plot.ly"
       },
       "data": [
        {
         "mode": "lines",
         "name": "dV/dI",
         "type": "scatter",
         "x": [
          -50,
          -49.9,
          -49.8,
          -49.7,
          -49.6,
          -49.5,
          -49.4,
          -49.3,
          -49.2,
          -49.1,
          -49,
          -48.900000000000006,
          -48.8,
          -48.699999999999996,
          -48.6,
          -48.5,
          -48.4,
          -48.300000000000004,
          -48.2,
          -48.099999999999994,
          -48,
          -47.9,
          -47.800000000000004,
          -47.7,
          -47.6,
          -47.5,
          -47.4,
          -47.3,
          -47.2,
          -47.1,
          -47,
          -46.9,
          -46.8,
          -46.699999999999996,
          -46.6,
          -46.5,
          -46.400000000000006,
          -46.3,
          -46.199999999999996,
          -46.1,
          -46,
          -45.9,
          -45.800000000000004,
          -45.7,
          -45.599999999999994,
          -45.5,
          -45.4,
          -45.300000000000004,
          -45.2,
          -45.1,
          -45,
          -44.9,
          -44.8,
          -44.7,
          -44.6,
          -44.5,
          -44.4,
          -44.3,
          -44.199999999999996,
          -44.1,
          -44,
          -43.900000000000006,
          -43.800000000000004,
          -43.699999999999996,
          -43.6,
          -43.5,
          -43.4,
          -43.300000000000004,
          -43.2,
          -43.099999999999994,
          -43,
          -42.9,
          -42.8,
          -42.7,
          -42.6,
          -42.5,
          -42.4,
          -42.3,
          -42.2,
          -42.1,
          -42,
          -41.9,
          -41.8,
          -41.699999999999996,
          -41.6,
          -41.5,
          -41.4,
          -41.300000000000004,
          -41.199999999999996,
          -41.1,
          -41,
          -40.9,
          -40.800000000000004,
          -40.7,
          -40.599999999999994,
          -40.5,
          -40.4,
          -40.3,
          -40.2,
          -40.1,
          -40,
          -39.9,
          -39.8,
          -39.7,
          -39.6,
          -39.5,
          -39.400000000000006,
          -39.3,
          -39.199999999999996,
          -39.1,
          -39,
          -38.9,
          -38.800000000000004,
          -38.699999999999996,
          -38.6,
          -38.5,
          -38.4,
          -38.300000000000004,
          -38.2,
          -38.099999999999994,
          -38,
          -37.9,
          -37.8,
          -37.7,
          -37.6,
          -37.5,
          -37.4,
          -37.3,
          -37.2,
          -37.1,
          -37,
          -36.900000000000006,
          -36.8,
          -36.699999999999996,
          -36.6,
          -36.5,
          -36.4,
          -36.300000000000004,
          -36.199999999999996,
          -36.1,
          -36,
          -35.9,
          -35.800000000000004,
          -35.7,
          -35.6,
          -35.5,
          -35.4,
          -35.3,
          -35.2,
          -35.1,
          -35,
          -34.9,
          -34.8,
          -34.7,
          -34.6,
          -34.5,
          -34.400000000000006,
          -34.3,
          -34.199999999999996,
          -34.1,
          -34,
          -33.9,
          -33.800000000000004,
          -33.699999999999996,
          -33.599999999999994,
          -33.5,
          -33.4,
          -33.300000000000004,
          -33.2,
          -33.1,
          -33,
          -32.9,
          -32.8,
          -32.7,
          -32.6,
          -32.5,
          -32.4,
          -32.3,
          -32.199999999999996,
          -32.1,
          -32,
          -31.900000000000002,
          -31.8,
          -31.7,
          -31.6,
          -31.5,
          -31.4,
          -31.3,
          -31.2,
          -31.099999999999998,
          -31,
          -30.9,
          -30.800000000000004,
          -30.7,
          -30.599999999999998,
          -30.5,
          -30.4,
          -30.3,
          -30.2,
          -30.1,
          -30,
          -29.9,
          -29.8,
          -29.7,
          -29.6,
          -29.5,
          -29.4,
          -29.3,
          -29.200000000000003,
          -29.099999999999998,
          -29,
          -28.900000000000002,
          -28.799999999999997,
          -28.7,
          -28.6,
          -28.5,
          -28.4,
          -28.3,
          -28.2,
          -28.099999999999998,
          -28,
          -27.900000000000002,
          -27.8,
          -27.7,
          -27.6,
          -27.5,
          -27.4,
          -27.3,
          -27.2,
          -27.1,
          -27,
          -26.9,
          -26.8,
          -26.7,
          -26.599999999999998,
          -26.5,
          -26.400000000000002,
          -26.299999999999997,
          -26.2,
          -26.1,
          -26,
          -25.9,
          -25.8,
          -25.700000000000003,
          -25.599999999999998,
          -25.5,
          -25.400000000000002,
          -25.299999999999997,
          -25.2,
          -25.1,
          -25,
          -24.9,
          -24.8,
          -24.7,
          -24.6,
          -24.5,
          -24.4,
          -24.3,
          -24.2,
          -24.1,
          -24,
          -23.900000000000002,
          -23.8,
          -23.7,
          -23.6,
          -23.5,
          -23.4,
          -23.3,
          -23.200000000000003,
          -23.099999999999998,
          -23,
          -22.900000000000002,
          -22.799999999999997,
          -22.7,
          -22.6,
          -22.5,
          -22.4,
          -22.3,
          -22.2,
          -22.099999999999998,
          -22,
          -21.900000000000002,
          -21.8,
          -21.7,
          -21.6,
          -21.5,
          -21.4,
          -21.3,
          -21.2,
          -21.1,
          -21,
          -20.9,
          -20.8,
          -20.7,
          -20.599999999999998,
          -20.5,
          -20.400000000000002,
          -20.299999999999997,
          -20.2,
          -20.1,
          -20,
          -19.9,
          -19.8,
          -19.700000000000003,
          -19.599999999999998,
          -19.5,
          -19.400000000000002,
          -19.3,
          -19.2,
          -19.1,
          -19,
          -18.9,
          -18.8,
          -18.7,
          -18.6,
          -18.5,
          -18.4,
          -18.3,
          -18.2,
          -18.099999999999998,
          -18,
          -17.900000000000002,
          -17.8,
          -17.7,
          -17.6,
          -17.5,
          -17.4,
          -17.3,
          -17.200000000000003,
          -17.099999999999998,
          -17,
          -16.900000000000002,
          -16.799999999999997,
          -16.7,
          -16.6,
          -16.5,
          -16.4,
          -16.3,
          -16.2,
          -16.099999999999998,
          -16,
          -15.9,
          -15.8,
          -15.7,
          -15.6,
          -15.5,
          -15.400000000000002,
          -15.299999999999999,
          -15.2,
          -15.1,
          -15,
          -14.9,
          -14.8,
          -14.7,
          -14.600000000000001,
          -14.5,
          -14.399999999999999,
          -14.3,
          -14.2,
          -14.1,
          -14,
          -13.9,
          -13.8,
          -13.7,
          -13.6,
          -13.5,
          -13.4,
          -13.299999999999999,
          -13.200000000000001,
          -13.1,
          -13,
          -12.9,
          -12.799999999999999,
          -12.700000000000001,
          -12.6,
          -12.5,
          -12.4,
          -12.3,
          -12.2,
          -12.1,
          -12,
          -11.9,
          -11.8,
          -11.7,
          -11.600000000000001,
          -11.5,
          -11.399999999999999,
          -11.3,
          -11.2,
          -11.1,
          -11,
          -10.9,
          -10.8,
          -10.7,
          -10.6,
          -10.5,
          -10.4,
          -10.299999999999999,
          -10.200000000000001,
          -10.1,
          -10,
          -9.9,
          -9.799999999999999,
          -9.700000000000001,
          -9.6,
          -9.5,
          -9.4,
          -9.3,
          -9.2,
          -9.1,
          -9,
          -8.9,
          -8.8,
          -8.7,
          -8.600000000000001,
          -8.5,
          -8.399999999999999,
          -8.3,
          -8.2,
          -8.1,
          -8,
          -7.9,
          -7.8,
          -7.700000000000001,
          -7.6,
          -7.5,
          -7.4,
          -7.300000000000001,
          -7.199999999999999,
          -7.1,
          -7,
          -6.9,
          -6.8,
          -6.7,
          -6.6000000000000005,
          -6.5,
          -6.3999999999999995,
          -6.3,
          -6.2,
          -6.1,
          -6,
          -5.9,
          -5.800000000000001,
          -5.699999999999999,
          -5.6,
          -5.5,
          -5.4,
          -5.3,
          -5.2,
          -5.09999999999999,
          -5,
          -4.8999999999999995,
          -4.8,
          -4.7,
          -4.6,
          -4.5,
          -4.4,
          -4.300000000000001,
          -4.199999999999999,
          -4.1,
          -4,
          -3.9,
          -3.8,
          -3.69999999999999,
          -3.5999999999999996,
          -3.5,
          -3.4,
          -3.3000000000000003,
          -3.1999999999999997,
          -3.1,
          -3,
          -2.9000000000000004,
          -2.8,
          -2.7,
          -2.6,
          -2.5,
          -2.4,
          -2.29999999999999,
          -2.2,
          -2.0999999999999996,
          -2,
          -1.9,
          -1.7999999999999998,
          -1.7,
          -1.5999999999999999,
          -1.5,
          -1.4,
          -1.3,
          -1.2,
          -1.1,
          -0.999999999999997,
          -0.899999999999995,
          -0.799999999999999,
          -0.699999999999997,
          -0.600000000000001,
          -0.499999999999999,
          -0.399999999999996,
          -0.300000000000001,
          -0.199999999999998,
          -0.09999999999999569,
          0,
          0.10000000000000199,
          0.200000000000005,
          0.300000000000001,
          0.400000000000003,
          0.500000000000005,
          0.600000000000001,
          0.700000000000004,
          0.799999999999999,
          0.900000000000001,
          1,
          1.1,
          1.2,
          1.3,
          1.4,
          1.5,
          1.5999999999999999,
          1.7,
          1.7999999999999998,
          1.9,
          2,
          2.0999999999999996,
          2.2,
          2.3,
          2.4,
          2.5,
          2.6,
          2.7,
          2.8,
          2.9000000000000004,
          3.0000000000000098,
          3.1,
          3.1999999999999997,
          3.3000000000000003,
          3.4,
          3.5,
          3.5999999999999996,
          3.7,
          3.8,
          3.9,
          4,
          4.10000000000001,
          4.199999999999999,
          4.300000000000001,
          4.40000000000001,
          4.5,
          4.6,
          4.7,
          4.8,
          4.8999999999999995,
          5,
          5.1000000000000005,
          5.2,
          5.3,
          5.4,
          5.50000000000001,
          5.6,
          5.699999999999999,
          5.80000000000001,
          5.9,
          6,
          6.1,
          6.2,
          6.3,
          6.3999999999999995,
          6.5,
          6.600000000000009,
          6.7,
          6.8,
          6.90000000000001,
          7,
          7.1,
          7.20000000000001,
          7.300000000000001,
          7.4,
          7.5,
          7.6,
          7.700000000000001,
          7.8,
          7.9,
          8.00000000000001,
          8.1,
          8.2,
          8.3,
          8.399999999999999,
          8.5,
          8.60000000000001,
          8.7,
          8.8,
          8.9,
          9,
          9.1,
          9.2,
          9.3,
          9.40000000000001,
          9.5,
          9.60000000000001,
          9.70000000000001,
          9.799999999999999,
          9.9,
          10,
          10.1,
          10.200000000000001,
          10.299999999999999,
          10.4,
          10.5,
          10.6,
          10.7,
          10.8,
          10.9,
          11,
          11.1,
          11.2,
          11.3,
          11.399999999999999,
          11.5,
          11.600000000000001,
          11.7,
          11.8,
          11.9,
          12,
          12.1,
          12.2,
          12.3,
          12.4,
          12.5,
          12.6,
          12.700000000000001,
          12.799999999999999,
          12.9,
          13,
          13.1,
          13.200000000000001,
          13.299999999999999,
          13.4,
          13.5,
          13.6,
          13.7,
          13.8,
          13.9,
          14,
          14.1,
          14.2,
          14.3,
          14.399999999999999,
          14.5,
          14.600000000000001,
          14.7,
          14.8,
          14.9,
          15,
          15.1,
          15.2,
          15.299999999999999,
          15.400000000000002,
          15.5,
          15.6,
          15.7,
          15.8,
          15.9,
          16,
          16.099999999999998,
          16.2,
          16.3,
          16.4,
          16.5,
          16.6,
          16.7,
          16.799999999999997,
          16.900000000000002,
          17,
          17.099999999999998,
          17.200000000000003,
          17.3,
          17.4,
          17.5,
          17.6,
          17.7,
          17.8,
          17.900000000000002,
          18,
          18.099999999999998,
          18.2,
          18.3,
          18.4,
          18.5,
          18.6,
          18.7,
          18.8,
          18.9,
          19,
          19.1,
          19.2,
          19.3,
          19.400000000000002,
          19.5,
          19.599999999999998,
          19.700000000000003,
          19.8,
          19.9,
          20,
          20.1,
          20.2,
          20.299999999999997,
          20.400000000000002,
          20.5,
          20.599999999999998,
          20.7,
          20.8,
          20.9,
          21,
          21.1,
          21.2,
          21.3,
          21.4,
          21.5,
          21.6,
          21.7,
          21.8,
          21.900000000000002,
          22,
          22.099999999999998,
          22.2,
          22.3,
          22.4,
          22.5,
          22.6,
          22.7,
          22.799999999999997,
          22.900000000000002,
          23,
          23.099999999999998,
          23.200000000000003,
          23.3,
          23.4,
          23.5,
          23.6,
          23.7,
          23.8,
          23.900000000000002,
          24,
          24.1,
          24.2,
          24.3,
          24.4,
          24.5,
          24.6,
          24.7,
          24.8,
          24.9,
          25,
          25.1,
          25.2,
          25.299999999999997,
          25.400000000000002,
          25.5,
          25.599999999999998,
          25.700000000000003,
          25.8,
          25.9,
          26,
          26.1,
          26.2,
          26.299999999999997,
          26.400000000000002,
          26.5,
          26.599999999999998,
          26.7,
          26.8,
          26.9,
          27,
          27.1,
          27.2,
          27.3,
          27.4,
          27.5,
          27.6,
          27.7,
          27.8,
          27.900000000000002,
          28,
          28.099999999999998,
          28.2,
          28.3,
          28.4,
          28.5,
          28.6,
          28.7,
          28.799999999999997,
          28.900000000000002,
          29,
          29.099999999999998,
          29.200000000000003,
          29.3,
          29.4,
          29.5,
          29.6,
          29.7,
          29.8,
          29.9,
          30,
          30.1,
          30.2,
          30.3,
          30.4,
          30.5,
          30.599999999999998,
          30.7,
          30.800000000000004,
          30.9,
          31,
          31.099999999999998,
          31.2,
          31.3,
          31.4,
          31.5,
          31.6,
          31.7,
          31.8,
          31.900000000000002,
          32,
          32.1,
          32.199999999999996,
          32.3,
          32.4,
          32.5,
          32.6,
          32.7,
          32.8,
          32.9,
          33,
          33.1,
          33.2,
          33.300000000000004,
          33.4,
          33.5,
          33.599999999999994,
          33.699999999999996,
          33.800000000000004,
          33.9,
          34,
          34.1,
          34.199999999999996,
          34.3,
          34.400000000000006,
          34.5,
          34.6,
          34.7,
          34.8,
          34.9,
          35,
          35.1,
          35.2,
          35.3,
          35.4,
          35.5,
          35.6,
          35.7,
          35.800000000000004,
          35.9,
          36,
          36.1,
          36.199999999999996,
          36.300000000000004,
          36.4,
          36.5,
          36.6,
          36.699999999999996,
          36.8,
          36.900000000000006,
          37,
          37.1,
          37.2,
          37.3,
          37.4,
          37.5,
          37.6,
          37.7,
          37.8,
          37.9,
          38,
          38.099999999999994,
          38.2,
          38.300000000000004,
          38.4,
          38.5,
          38.6,
          38.699999999999996,
          38.800000000000004,
          38.9,
          39,
          39.1,
          39.199999999999996,
          39.3,
          39.400000000000006,
          39.5,
          39.6,
          39.7,
          39.8,
          39.9,
          40,
          40.1,
          40.2,
          40.3,
          40.4,
          40.5,
          40.599999999999994,
          40.7,
          40.800000000000004,
          40.9,
          41,
          41.1,
          41.199999999999996,
          41.300000000000004,
          41.4,
          41.5,
          41.6,
          41.699999999999996,
          41.8,
          41.9,
          42,
          42.1,
          42.2,
          42.3,
          42.4,
          42.5,
          42.6,
          42.7,
          42.8,
          42.9,
          43,
          43.099999999999994,
          43.2,
          43.300000000000004,
          43.4,
          43.5,
          43.6,
          43.699999999999996,
          43.800000000000004,
          43.900000000000006,
          44,
          44.1,
          44.199999999999996,
          44.3,
          44.4,
          44.5,
          44.6,
          44.7,
          44.8,
          44.9,
          45,
          45.1,
          45.2,
          45.300000000000004,
          45.4,
          45.5,
          45.599999999999994,
          45.7,
          45.800000000000004,
          45.9,
          46,
          46.1,
          46.199999999999996,
          46.3,
          46.400000000000006,
          46.5,
          46.6,
          46.699999999999996,
          46.8,
          46.9,
          47,
          47.1,
          47.2,
          47.3,
          47.4,
          47.5,
          47.6,
          47.7,
          47.800000000000004,
          47.9,
          48,
          48.099999999999994,
          48.2,
          48.300000000000004,
          48.4,
          48.5,
          48.6,
          48.699999999999996,
          48.8,
          48.900000000000006,
          49,
          49.1,
          49.2,
          49.3,
          49.4,
          49.5,
          49.6,
          49.7,
          49.8,
          49.9
         ],
         "y": [
          126.64999999999613,
          17.600999999999473,
          17.438000000001455,
          18.935999999999318,
          19.302999999999777,
          17.84200000000046,
          19.647999999999236,
          17.607000000000543,
          19.919999999999828,
          18.58799999999992,
          17.808000000000792,
          19.820999999999678,
          18.486999999999092,
          17.165000000000504,
          18.878000000000142,
          19.476999999999475,
          18.97100000000061,
          18.185999999999456,
          19.959000000000113,
          16.61899999999969,
          20.59600000000048,
          17.483000000000537,
          19.311999999999593,
          19.51699999999902,
          17.355000000001336,
          18.632999999999,
          19.361000000000036,
          19.585000000000765,
          17.336999999999442,
          19.151999999999244,
          20.16000000000063,
          17.794999999999487,
          17.989000000000587,
          19.876000000000264,
          19.320999999999408,
          16.90600000000108,
          19.04999999999916,
          20.05499999999924,
          17.675000000000967,
          18.37399999999959,
          20.163999999999543,
          19.135000000001252,
          17.65999999999899,
          19.827999999999896,
          18.76500000000083,
          17.768999999999295,
          18.561000000000643,
          19.08999999999979,
          17.84199999999925,
          19.446000000001064,
          19.514000000000166,
          17.715999999999656,
          20.990000000000723,
          18.114999999999096,
          18.369000000000053,
          20.425000000001017,
          18.197999999999208,
          17.797999999999426,
          19.592000000000986,
          17.99599999999972,
          19.814000000000803,
          20.324999999999147,
          17.422999999999494,
          19.89600000000058,
          18.269999999999907,
          18.535999999999536,
          19.610000000000618,
          18.21700000000027,
          18.202999999998745,
          19.86200000000091,
          18.460999999999984,
          18.11399999999984,
          20.137000000000373,
          19.272000000000048,
          18.839000000000045,
          19.299999999999837,
          18.490000000000112,
          17.749000000000184,
          19.509999999999888,
          19.761999999999077,
          18.309000000001436,
          19.269999999999367,
          17.871999999999723,
          18.65200000000024,
          19.33999999999938,
          20.405000000000403,
          18.605000000000473,
          18.421999999999695,
          18.519000000000414,
          19.502999999999666,
          19.830999999999836,
          17.972000000000342,
          19.539999999999274,
          18.334000000000046,
          18.336000000000887,
          19.772999999999577,
          17.859999999998884,
          18.541000000001414,
          19.631999999999202,
          20.185000000000482,
          16.812000000000406,
          20.541999999999412,
          18.02500000000107,
          18.951999999999355,
          19.895999999999233,
          17.6950000000002,
          19.4060000000002,
          19.34199999999898,
          19.008000000001307,
          18.243999999999716,
          20.357999999999556,
          16.6760000000007,
          20.46499999999918,
          17.95700000000065,
          19.43299999999965,
          19.730999999999348,
          17.451000000000466,
          19.213999999999785,
          18.61100000000017,
          19.828000000000156,
          18.847000000000413,
          17.802999999998963,
          19.330000000000535,
          17.38899999999983,
          20.418999999999755,
          19.484000000001014,
          17.268999999999025,
          18.405000000000566,
          19.3469999999996,
          19.365999999999573,
          18.377000000000777,
          19.992999999999782,
          16.658999999999192,
          19.199000000001394,
          18.88299999999968,
          19.511999999999485,
          17.888000000000968,
          18.935999999999318,
          19.779000000000792,
          18.126999999999935,
          19.182999999998973,
          18.192000000000565,
          19.79199999999955,
          18.26400000000003,
          19.265000000001134,
          18.239999999999437,
          19.742999999999103,
          18.827000000001377,
          17.75999999999948,
          19.817999999998655,
          17.49300000000178,
          19.99199999999944,
          18.289000000000037,
          19.53099999999946,
          18.042999999999484,
          19.017000000001122,
          17.873000000000065,
          20.652999999999317,
          17.145000000000188,
          20.838999999999853,
          18.598000000000077,
          18.144000000000457,
          19.535999999998992,
          19.24100000000032,
          18.200000000000042,
          17.934000000000264,
          19.228000000000442,
          17.80999999999918,
          19.730000000000093,
          17.76500000000022,
          18.64099999999956,
          20.573999999999483,
          18.29600000000134,
          18.714999999999858,
          19.753999999999603,
          18.482000000000806,
          17.57699999999888,
          19.600000000000218,
          17.912000000000482,
          20.341999999999523,
          17.19400000000064,
          19.554999999998966,
          17.992000000000523,
          21.523000000000355,
          16.91900000000003,
          18.61499999999937,
          19.27300000000061,
          18.913999999999408,
          16.582000000000043,
          20.194000000000297,
          18.488999999999773,
          19.111000000000654,
          17.859999999999967,
          19.16999999999888,
          19.092000000001118,
          19.39400000000002,
          18.64199999999945,
          17.88199999999988,
          20.351000000000028,
          17.66600000000055,
          19.44299999999981,
          19.315000000000186,
          18.740999999999598,
          17.941000000000006,
          17.960000000000456,
          20.50400000000016,
          18.402000000000005,
          18.152000000000402,
          18.000999999999255,
          18.71100000000021,
          19.773999999999504,
          17.7650000000001,
          19.857999999999958,
          19.17500000000015,
          17.427000000000366,
          19.00399999999974,
          20.021999999999505,
          18.602000000000988,
          19.490999999998827,
          17.012000000000874,
          18.965999999999347,
          19.771000000000647,
          18.163999999999543,
          19.27700000000024,
          17.5559999999999,
          18.058000000000263,
          20.41200000000023,
          17.98699999999943,
          19.809000000000594,
          17.983999999998883,
          18.124000000000613,
          19.60600000000076,
          18.042999999999484,
          19.23900000000029,
          18.36899999999959,
          18.98200000000047,
          19.13499999999887,
          19.084000000000557,
          17.9660000000004,
          19.386999999999144,
          18.908000000000172,
          18.691000000000436,
          18.01900000000004,
          19.061999999999458,
          20.28700000000043,
          19.03599999999991,
          16.725000000000012,
          19.048000000000208,
          18.558999999999877,
          19.648000000000444,
          18.000999999999255,
          19.183000000000167,
          18.824000000000257,
          18.758000000000518,
          18.51699999999902,
          19.897000000000247,
          17.026000000000227,
          19.974999999999607,
          19.57000000000041,
          17.95900000000018,
          18.64499999999993,
          18.833999999999776,
          19.224999999999852,
          17.552000000000167,
          20.689999999999465,
          17.293000000000205,
          19.280000000000175,
          19.198000000000402,
          18.291999999999277,
          18.753000000000437,
          18.916999999999987,
          18.85299999999975,
          19.09799999999991,
          19.024000000000154,
          17.952000000000503,
          19.820999999999678,
          18.399000000000065,
          18.05900000000013,
          18.771999999999235,
          18.71700000000063,
          18.67499999999986,
          18.44600000000037,
          20.02799999999925,
          18.209000000000326,
          19.407000000000117,
          17.6929999999994,
          18.693000000000577,
          20.237000000000183,
          16.49500000000021,
          20.008999999999276,
          18.32200000000037,
          18.67499999999986,
          19.622999999999927,
          19.485000000000152,
          17.01000000000019,
          19.965999999999926,
          17.70799999999964,
          20.512000000000178,
          17.385999999999935,
          17.725000000000612,
          20.47399999999954,
          18.86199999999966,
          18.78000000000043,
          18.84699999999933,
          18.272000000000666,
          18.89699999999967,
          18.45600000000053,
          19.299999999999294,
          18.52100000000047,
          19.305000000000028,
          17.25999999999975,
          20.83600000000008,
          17.51100000000028,
          19.076999999999796,
          17.81299999999966,
          20.581000000000397,
          17.523999999999834,
          19.461999999999783,
          17.884000000000082,
          18.731000000000524,
          19.078999999999937,
          18.29299999999962,
          18.937000000000303,
          18.790000000000045,
          19.47399999999954,
          19.744000000000113,
          16.924999999999937,
          19.068000000000524,
          18.847999999999672,
          20.003000000000075,
          17.803000000000107,
          20.11599999999944,
          17.59700000000033,
          18.44799999999997,
          18.182000000000333,
          20.656999999999595,
          16.85799999999986,
          19.0120000000004,
          19.14199999999963,
          19.806000000000115,
          19.06599999999984,
          17.3800000000006,
          20.194999999999272,
          18.437000000000015,
          18.43200000000048,
          18.129999999999946,
          19.832999999999434,
          18.336000000000265,
          18.742999999999963,
          19.338000000000438,
          17.248999999999544,
          18.694000000000376,
          19.15899999999979,
          19.223000000000255,
          19.23999999999976,
          17.45199999999992,
          18.795000000000126,
          19.82999999999983,
          17.70000000000022,
          19.354999999999947,
          18.625000000000156,
          19.51799999999969,
          18.190000000000044,
          19.469999999999917,
          18.821999999999797,
          18.379000000000293,
          20.074999999999893,
          16.962000000000085,
          18.62800000000005,
          19.83599999999971,
          18.42200000000032,
          18.304999999999684,
          20.100000000000357,
          17.781999999999694,
          18.91000000000031,
          18.430999999999823,
          19.59600000000033,
          19.696999999999743,
          18.934999999999842,
          18.3830000000003,
          19.40799999999986,
          18.690000000000097,
          17.650999999999744,
          18.688000000000226,
          19.49799999999992,
          18.211999999999954,
          19.60000000000007,
          18.35499999999993,
          18.131000000000018,
          19.082000000000093,
          19.566000000000127,
          19.05299999999969,
          17.55,
          19.425000000000292,
          18.90599999999971,
          18.073000000000295,
          20.617999999999657,
          17.592000000000255,
          19.322999999999876,
          18.105000000000096,
          19.228999999999807,
          18.71700000000004,
          19.096000000000043,
          18.822000000000067,
          18.768000000000132,
          18.961999999999833,
          17.758000000000212,
          19.018999999999753,
          20.13999999999983,
          18.148000000000124,
          19.453000000000024,
          18.861000000000136,
          18.895999999999823,
          17.838000000000118,
          19.546999999999823,
          18.87899999999999,
          18.899000000000083,
          17.252000000000027,
          21.072000000000056,
          18.059999999999896,
          18.003000000000277,
          18.800999999999682,
          19.777000000000253,
          17.42299999999979,
          19.212000000000135,
          18.452000000000094,
          19.050999999999984,
          19.325999999999816,
          18.26900000000003,
          17.76299999999987,
          20.297000000000143,
          18.40699999999993,
          19.136000000000102,
          18.746000000000063,
          19.436999999999856,
          19.352000000000036,
          18.308999999999983,
          18.81500000000001,
          16.717000000000013,
          21.258000000000017,
          18.686000000000064,
          18.009000000000004,
          18.788999999999927,
          18.467999999999993,
          18.514399999999988,
          20.38230000000001,
          18.223899999999993,
          17.667000000000066,
          19.49249999999799,
          19.651100000002085,
          18.223099999999782,
          19.193400000000054,
          18.483499999999992,
          18.01370000000006,
          18.438699999999976,
          19.004300000000107,
          19.13199999999996,
          19.201799999999935,
          17.319300000000002,
          20.00779999999997,
          18.560400000000087,
          18.16859999999992,
          18.77559999999819,
          19.39860000000193,
          18.905799999999992,
          19.00020000000002,
          18.390000000000025,
          18.69119999999994,
          19.586100000000012,
          18.26010000000002,
          19.184900000000003,
          18.179899999999954,
          19.63170000000002,
          17.381199999999993,
          19.05900000000007,
          17.571099999999923,
          20.402299999997982,
          18.48940000000188,
          18.632199999999948,
          18.051800000000014,
          19.032200000000024,
          17.71569999999998,
          18.84089999999999,
          18.106599999999982,
          18.62400000000003,
          18.235599999999994,
          19.387600000000017,
          17.94029999999997,
          19.36500000000003,
          18.377499999999433,
          18.283399999999634,
          17.072300000000688,
          19.355629999999604,
          18.384340000000748,
          16.327379999999675,
          81.48490999999756,
          0.6423400000000303,
          -0.3029399999999888,
          -0.2580699999999963,
          0.10236000000000507,
          -0.6074799999999854,
          -0.1223499999999961,
          0.9688100000000386,
          -1.258609999999978,
          -0.026679999999999027,
          0.8534800000000367,
          -0.754719999999978,
          0.5384900000000236,
          -0.07256999999999639,
          -1.1386600000000142,
          0.7752500000000008,
          -0.37721999999999883,
          0.537899999999999,
          -0.6615700000000025,
          265.17047999999977,
          19.300200000000036,
          19.842399999999945,
          18.789500000000054,
          18.170199999999927,
          18.01480000000007,
          17.765299999999964,
          20.729599999999962,
          17.222300000000057,
          18.419900000000016,
          20.01809999999993,
          17.12999999999997,
          18.956100000000056,
          20.013799999999982,
          18.352899999999995,
          18.309699999998248,
          18.420400000001777,
          20.273000000000025,
          17.08269999999991,
          19.925300000000025,
          19.58440000000003,
          17.861499999999985,
          19.729699999999948,
          18.417000000000083,
          19.954600000000042,
          17.490300000000037,
          19.34979999999805,
          18.318700000001847,
          18.399699999999804,
          19.865199999998005,
          17.61070000000185,
          19.531200000000105,
          20.25889999999992,
          16.496300000000026,
          20.18550000000007,
          18.997199999999854,
          16.73409999999999,
          19.940399999999997,
          19.19710000000004,
          18.765000000000036,
          18.554999999998095,
          17.986000000001848,
          19.240000000000062,
          19.174999999998036,
          19.15400000000179,
          19.539000000000108,
          18.585000000000047,
          16.79699999999992,
          19.974000000000043,
          19.211000000000066,
          18.758000000000088,
          17.36799999999812,
          19.85600000000204,
          19.277999999999874,
          19.67099999999799,
          16.71800000000165,
          20.230000000000064,
          18.268999999998176,
          18.790000000001907,
          19.525000000000077,
          17.875999999999916,
          19.587999999999877,
          18.17500000000008,
          18.070000000000086,
          19.846999999999937,
          18.494999999998125,
          18.435000000001708,
          19.216000000000307,
          19.80299999999984,
          18.143000000000313,
          18.526999999999763,
          19.338999999997945,
          18.12700000000185,
          18.396999999999885,
          19.11600000000036,
          18.770999999999752,
          18.7520000000001,
          19.047999999999885,
          18.916999999999938,
          19.182999999998216,
          18.976000000001928,
          17.265999999998186,
          19.612999999999833,
          18.067000000002256,
          19.34299999999965,
          19.628999999999866,
          17.398000000000234,
          19.938999999999865,
          17.921000000000234,
          19.086999999999904,
          19.061000000000032,
          18.78099999999991,
          19.741000000000174,
          17.98599999999987,
          17.719999999999963,
          19.732000000000088,
          19.825999999999823,
          17.090000000000096,
          19.961000000000052,
          18.24900000000014,
          17.893999999999938,
          19.977999999999614,
          17.336000000000233,
          19.93299999999999,
          20.039000000000154,
          16.40099999999986,
          19.933000000000057,
          18.645999999999955,
          17.85699999999979,
          20.57600000000032,
          17.660999999999902,
          18.48500000000012,
          19.666999999999813,
          19.26700000000008,
          17.196999999999974,
          18.207000000000185,
          20.974999999999962,
          18.078999999999596,
          18.788000000000448,
          17.344999999999754,
          19.00800000000012,
          18.853999999999868,
          19.877000000000475,
          18.91599999999987,
          18.65499999999977,
          18.31899999999989,
          18.149000000000157,
          19.84999999999994,
          18.486999999999945,
          18.94800000000026,
          17.82799999999966,
          20.352999999999824,
          17.426000000000567,
          19.011999999999535,
          19.8590000000003,
          18.306999999999825,
          17.73800000000017,
          20.35499999999996,
          17.582999999999895,
          19.541999999999955,
          18.87999999999984,
          19.046000000000067,
          18.71700000000063,
          18.950999999999556,
          17.928999999999707,
          18.61100000000026,
          18.506000000000235,
          18.488999999999773,
          18.08900000000006,
          19.978000000000222,
          18.10499999999948,
          18.473000000000365,
          19.903000000000127,
          17.7680000000001,
          18.55299999999937,
          18.61800000000048,
          19.132000000000122,
          20.207999999999366,
          17.843000000000195,
          19.53300000000026,
          17.756000000000345,
          18.041999999999142,
          20.285000000000288,
          17.64000000000036,
          18.180999999999376,
          19.30300000000043,
          19.415000000000134,
          17.778000000000258,
          20.043999999999283,
          18.351000000000504,
          19.09499999999997,
          17.190999999999534,
          18.32200000000037,
          18.79899999999986,
          20.124000000000137,
          18.272999999999847,
          19.474000000000196,
          18.003000000000007,
          18.96299999999985,
          17.733999999999888,
          18.753000000000437,
          18.941999999999837,
          19.573999999999483,
          18.872000000000362,
          17.59899999999993,
          18.73499999999963,
          19.47100000000026,
          17.450000000000077,
          20.44600000000044,
          17.518999999999703,
          18.329999999999846,
          18.902000000000292,
          18.891000000000336,
          20.425999999999433,
          17.418999999999805,
          19.79200000000022,
          19.192999999999675,
          17.824000000000222,
          18.598999999999965,
          19.442000000000668,
          17.28999999999914,
          19.29800000000035,
          19.111000000000008,
          18.58799999999992,
          18.2910000000001,
          17.951000000000164,
          19.930999999999916,
          17.572999999999684,
          19.090000000000437,
          18.921000000000266,
          17.506999999999405,
          20.175000000000182,
          17.967000000000198,
          18.48599999999992,
          19.312999999999935,
          18.561000000000014,
          17.868999999999847,
          20.08399999999991,
          17.14300000000001,
          20.417000000000307,
          17.283000000000047,
          20.13899999999969,
          17.30499999999996,
          18.690000000000097,
          19.296999999999898,
          17.523000000000035,
          18.752999999999897,
          19.82100000000035,
          16.978999999999346,
          20.624000000000425,
          19.59500000000026,
          16.84599999999953,
          18.71900000000023,
          19.27100000000036,
          19.50100000000019,
          17.60799999999915,
          18.0910000000002,
          18.80500000000028,
          19.75900000000035,
          17.392999999999564,
          18.959000000000216,
          19.472000000000058,
          17.847999999999672,
          19.490000000000233,
          19.647999999999904,
          16.523,
          20.926000000000247,
          18.21299999999952,
          18.43000000000088,
          17.89499999999889,
          18.730000000000185,
          19.637000000000487,
          17.847000000000477,
          17.893999999999636,
          20.095999999999805,
          17.442000000000057,
          20.035999999999266,
          18.466000000000147,
          18.302000000000596,
          18.816000000000237,
          17.272999999999303,
          19.509000000000206,
          17.908999999999935,
          20.53699999999988,
          17.548000000000428,
          20.170000000000105,
          18.559000000000417,
          17.299999999998754,
          18.755000000000038,
          19.46700000000106,
          18.825999999998675,
          18.6260000000005,
          17.946999999999882,
          18.39300000000019,
          19.26900000000011,
          17.80200000000031,
          19.344999999999573,
          17.956000000000177,
          18.41399999999976,
          20.28399999999995,
          18.776000000000693,
          18.788999999999067,
          17.170000000000545,
          20.199000000000236,
          18.019000000000585,
          18.505999999999066,
          17.777999999999714,
          18.62900000000044,
          18.61400000000011,
          19.62099999999937,
          18.55400000000088,
          17.784999999999933,
          17.98499999999922,
          20.924999999999905,
          17.199000000000176,
          20.19899999999955,
          18.632000000001007,
          17.361999999999295,
          19.16599999999968,
          17.99600000000094,
          19.005000000000077,
          19.152999999999587,
          18.434999999999956,
          18.541000000000157,
          19.324999999999687,
          18.05400000000012,
          19.785000000000416,
          17.343999999999753,
          20.242000000000118,
          17.16799999999928,
          19.57600000000095,
          17.775999999999513,
          18.748999999999523,
          20.01500000000105,
          17.49399999999985,
          18.491999999999713,
          19.146999999999924,
          17.810000000000265,
          18.13799999999935,
          20.321000000001327,
          18.716999999999455,
          17.601000000000667,
          19.236999999998954,
          18.589999999999517,
          18.40700000000125,
          18.664999999999072,
          18.272999999999847,
          18.28700000000044,
          20.21400000000033,
          17.497999999999045,
          19.97800000000144,
          17.738999999998825,
          18.97099999999933,
          17.763000000001707,
          18.23099999999962,
          19.05700000000067,
          18.377999999998785,
          20.329999999999767,
          18.060000000001082,
          19.028999999999588,
          18.17299999999936,
          18.045000000000304,
          18.894000000000176,
          19.04999999999916,
          18.02800000000101,
          18.477999999999273,
          18.40499999999932,
          20.400000000001164,
          17.555999999999308,
          18.902000000000932,
          17.38299999999995,
          20.277999999999384,
          17.421000000001076,
          19.443999999999065,
          17.23700000000004,
          19.690000000000797,
          19.218999999999323,
          18.570999999999543,
          18.669000000000615,
          17.46099999999944,
          18.645000000001104,
          18.690999999999264,
          17.986999999999902,
          20.796000000000696,
          17.334999999999845,
          18.801999999999165,
          19.202000000001334,
          17.83499999999903,
          19.32400000000043,
          19.075000000000305,
          17.915999999999546,
          17.514000000000166,
          19.141000000000044,
          19.61900000000019,
          17.041000000000498,
          18.510999999999687,
          20.422999999998954,
          18.498000000000843,
          18.40199999999938,
          18.66599999999941,
          17.512000000001755,
          20.030999999998645,
          19.047000000000306,
          16.918000000000834,
          19.411999999998997,
          19.429999999999712,
          16.840000000000252,
          19.08299999999957,
          19.57700000000129,
          17.936999999999117,
          18.487000000000176,
          18.083000000000254,
          18.03900000000029,
          20.031999999998984,
          18.259000000000647,
          18.178999999999235,
          17.858999999999625,
          19.532000000001123,
          18.277000000000125,
          19.50200000000065,
          18.67299999999963,
          19.20299999999929,
          18.0580000000004,
          17.951999999999895,
          19.397999999999644,
          19.426000000000748,
          16.70799999999964,
          19.945999999998936,
          19.489000000001635,
          16.81299999999966,
          19.120999999999515,
          19.546000000000475,
          16.891999999999495,
          19.410000000000714,
          17.55799999999999,
          20.197999999999208,
          17.40100000000076,
          20.38200000000015,
          15.973999999998725,
          20.804000000001256,
          17.820999999999678,
          18.4589999999993,
          18.29200000000106,
          19.652999999999857,
          18.79299999999935,
          17.302000000000607,
          19.260999999999548,
          19.346000000000572,
          17.26799999999977,
          20.13699999999901,
          17.58900000000091,
          19.088999999999448,
          18.5920000000002,
          17.36800000000035,
          20.106999999999623,
          18.411999999999537,
          18.423000000001284,
          19.270999999998622,
          19.432000000000393,
          18.1450000000008,
          17.536999999999335,
          19.517000000000344,
          17.366999999999916,
          19.9279999999993,
          17.775000000001462,
          18.113999999998757,
          18.865000000000045,
          19.185000000000954,
          19.04999999999916,
          18.042999999999484,
          17.47000000000044,
          20.211999999999648,
          17.093000000000885,
          18.685999999999726,
          18.90799999999953,
          19.463000000001443,
          18.74999999999878,
          17.46600000000006,
          20.00500000000089,
          18.677999999999166,
          17.588999999999718,
          18.25200000000043,
          18.97000000000007,
          17.60799999999969,
          18.39300000000081,
          18.91899999999894,
          19.670000000001565,
          19.10799999999942,
          18.335999999999643,
          18.605000000000473,
          18.014999999999695,
          19.580999999999158,
          17.576000000000814,
          18.491999999999713,
          19.73199999999969,
          18.24700000000089,
          17.554999999998966,
          17.776999999999855,
          19.077000000000986,
          18.878999999999397,
          19.116000000001275,
          17.80499999999856,
          19.050000000000242,
          18.136000000000983,
          20.045999999999424,
          18.238999999999095
         ]
        },
        {
         "marker": {
          "color": "red"
         },
         "mode": "markers",
         "name": "Top Two Peaks",
         "type": "scatter",
         "x": [
          1.4,
          -0.499999999999999
         ],
         "y": [
          265.17047999999977,
          81.48490999999756
         ]
        },
        {
         "marker": {
          "color": "blue",
          "symbol": "cross"
         },
         "mode": "markers",
         "name": "Center Points",
         "type": "scatter",
         "x": [
          0.45000000000000046
         ],
         "y": [
          0
         ]
        }
       ],
       "layout": {
        "annotations": [
         {
          "arrowcolor": "black",
          "arrowhead": 2,
          "arrowsize": 1,
          "arrowwidth": 2,
          "ax": -100,
          "ay": -200,
          "showarrow": true,
          "text": "Center Point: 0.5μA <br> Peak difference: 1.9 μA",
          "x": 0.45000000000000046,
          "y": 18.112085000000032
         }
        ],
        "height": 960,
        "legend": {
         "orientation": "h",
         "x": 1,
         "xanchor": "right",
         "y": -0.07,
         "yanchor": "bottom"
        },
        "margin": {
         "b": 10,
         "l": 10,
         "r": 10,
         "t": 50
        },
        "template": {
         "data": {
          "bar": [
           {
            "error_x": {
             "color": "#2a3f5f"
            },
            "error_y": {
             "color": "#2a3f5f"
            },
            "marker": {
             "line": {
              "color": "#E5ECF6",
              "width": 0.5
             },
             "pattern": {
              "fillmode": "overlay",
              "size": 10,
              "solidity": 0.2
             }
            },
            "type": "bar"
           }
          ],
          "barpolar": [
           {
            "marker": {
             "line": {
              "color": "#E5ECF6",
              "width": 0.5
             },
             "pattern": {
              "fillmode": "overlay",
              "size": 10,
              "solidity": 0.2
             }
            },
            "type": "barpolar"
           }
          ],
          "carpet": [
           {
            "aaxis": {
             "endlinecolor": "#2a3f5f",
             "gridcolor": "white",
             "linecolor": "white",
             "minorgridcolor": "white",
             "startlinecolor": "#2a3f5f"
            },
            "baxis": {
             "endlinecolor": "#2a3f5f",
             "gridcolor": "white",
             "linecolor": "white",
             "minorgridcolor": "white",
             "startlinecolor": "#2a3f5f"
            },
            "type": "carpet"
           }
          ],
          "choropleth": [
           {
            "colorbar": {
             "outlinewidth": 0,
             "ticks": ""
            },
            "type": "choropleth"
           }
          ],
          "contour": [
           {
            "colorbar": {
             "outlinewidth": 0,
             "ticks": ""
            },
            "colorscale": [
             [
              0,
              "#0d0887"
             ],
             [
              0.1111111111111111,
              "#46039f"
             ],
             [
              0.2222222222222222,
              "#7201a8"
             ],
             [
              0.3333333333333333,
              "#9c179e"
             ],
             [
              0.4444444444444444,
              "#bd3786"
             ],
             [
              0.5555555555555556,
              "#d8576b"
             ],
             [
              0.6666666666666666,
              "#ed7953"
             ],
             [
              0.7777777777777778,
              "#fb9f3a"
             ],
             [
              0.8888888888888888,
              "#fdca26"
             ],
             [
              1,
              "#f0f921"
             ]
            ],
            "type": "contour"
           }
          ],
          "contourcarpet": [
           {
            "colorbar": {
             "outlinewidth": 0,
             "ticks": ""
            },
            "type": "contourcarpet"
           }
          ],
          "heatmap": [
           {
            "colorbar": {
             "outlinewidth": 0,
             "ticks": ""
            },
            "colorscale": [
             [
              0,
              "#0d0887"
             ],
             [
              0.1111111111111111,
              "#46039f"
             ],
             [
              0.2222222222222222,
              "#7201a8"
             ],
             [
              0.3333333333333333,
              "#9c179e"
             ],
             [
              0.4444444444444444,
              "#bd3786"
             ],
             [
              0.5555555555555556,
              "#d8576b"
             ],
             [
              0.6666666666666666,
              "#ed7953"
             ],
             [
              0.7777777777777778,
              "#fb9f3a"
             ],
             [
              0.8888888888888888,
              "#fdca26"
             ],
             [
              1,
              "#f0f921"
             ]
            ],
            "type": "heatmap"
           }
          ],
          "heatmapgl": [
           {
            "colorbar": {
             "outlinewidth": 0,
             "ticks": ""
            },
            "colorscale": [
             [
              0,
              "#0d0887"
             ],
             [
              0.1111111111111111,
              "#46039f"
             ],
             [
              0.2222222222222222,
              "#7201a8"
             ],
             [
              0.3333333333333333,
              "#9c179e"
             ],
             [
              0.4444444444444444,
              "#bd3786"
             ],
             [
              0.5555555555555556,
              "#d8576b"
             ],
             [
              0.6666666666666666,
              "#ed7953"
             ],
             [
              0.7777777777777778,
              "#fb9f3a"
             ],
             [
              0.8888888888888888,
              "#fdca26"
             ],
             [
              1,
              "#f0f921"
             ]
            ],
            "type": "heatmapgl"
           }
          ],
          "histogram": [
           {
            "marker": {
             "pattern": {
              "fillmode": "overlay",
              "size": 10,
              "solidity": 0.2
             }
            },
            "type": "histogram"
           }
          ],
          "histogram2d": [
           {
            "colorbar": {
             "outlinewidth": 0,
             "ticks": ""
            },
            "colorscale": [
             [
              0,
              "#0d0887"
             ],
             [
              0.1111111111111111,
              "#46039f"
             ],
             [
              0.2222222222222222,
              "#7201a8"
             ],
             [
              0.3333333333333333,
              "#9c179e"
             ],
             [
              0.4444444444444444,
              "#bd3786"
             ],
             [
              0.5555555555555556,
              "#d8576b"
             ],
             [
              0.6666666666666666,
              "#ed7953"
             ],
             [
              0.7777777777777778,
              "#fb9f3a"
             ],
             [
              0.8888888888888888,
              "#fdca26"
             ],
             [
              1,
              "#f0f921"
             ]
            ],
            "type": "histogram2d"
           }
          ],
          "histogram2dcontour": [
           {
            "colorbar": {
             "outlinewidth": 0,
             "ticks": ""
            },
            "colorscale": [
             [
              0,
              "#0d0887"
             ],
             [
              0.1111111111111111,
              "#46039f"
             ],
             [
              0.2222222222222222,
              "#7201a8"
             ],
             [
              0.3333333333333333,
              "#9c179e"
             ],
             [
              0.4444444444444444,
              "#bd3786"
             ],
             [
              0.5555555555555556,
              "#d8576b"
             ],
             [
              0.6666666666666666,
              "#ed7953"
             ],
             [
              0.7777777777777778,
              "#fb9f3a"
             ],
             [
              0.8888888888888888,
              "#fdca26"
             ],
             [
              1,
              "#f0f921"
             ]
            ],
            "type": "histogram2dcontour"
           }
          ],
          "mesh3d": [
           {
            "colorbar": {
             "outlinewidth": 0,
             "ticks": ""
            },
            "type": "mesh3d"
           }
          ],
          "parcoords": [
           {
            "line": {
             "colorbar": {
              "outlinewidth": 0,
              "ticks": ""
             }
            },
            "type": "parcoords"
           }
          ],
          "pie": [
           {
            "automargin": true,
            "type": "pie"
           }
          ],
          "scatter": [
           {
            "fillpattern": {
             "fillmode": "overlay",
             "size": 10,
             "solidity": 0.2
            },
            "type": "scatter"
           }
          ],
          "scatter3d": [
           {
            "line": {
             "colorbar": {
              "outlinewidth": 0,
              "ticks": ""
             }
            },
            "marker": {
             "colorbar": {
              "outlinewidth": 0,
              "ticks": ""
             }
            },
            "type": "scatter3d"
           }
          ],
          "scattercarpet": [
           {
            "marker": {
             "colorbar": {
              "outlinewidth": 0,
              "ticks": ""
             }
            },
            "type": "scattercarpet"
           }
          ],
          "scattergeo": [
           {
            "marker": {
             "colorbar": {
              "outlinewidth": 0,
              "ticks": ""
             }
            },
            "type": "scattergeo"
           }
          ],
          "scattergl": [
           {
            "marker": {
             "colorbar": {
              "outlinewidth": 0,
              "ticks": ""
             }
            },
            "type": "scattergl"
           }
          ],
          "scattermapbox": [
           {
            "marker": {
             "colorbar": {
              "outlinewidth": 0,
              "ticks": ""
             }
            },
            "type": "scattermapbox"
           }
          ],
          "scatterpolar": [
           {
            "marker": {
             "colorbar": {
              "outlinewidth": 0,
              "ticks": ""
             }
            },
            "type": "scatterpolar"
           }
          ],
          "scatterpolargl": [
           {
            "marker": {
             "colorbar": {
              "outlinewidth": 0,
              "ticks": ""
             }
            },
            "type": "scatterpolargl"
           }
          ],
          "scatterternary": [
           {
            "marker": {
             "colorbar": {
              "outlinewidth": 0,
              "ticks": ""
             }
            },
            "type": "scatterternary"
           }
          ],
          "surface": [
           {
            "colorbar": {
             "outlinewidth": 0,
             "ticks": ""
            },
            "colorscale": [
             [
              0,
              "#0d0887"
             ],
             [
              0.1111111111111111,
              "#46039f"
             ],
             [
              0.2222222222222222,
              "#7201a8"
             ],
             [
              0.3333333333333333,
              "#9c179e"
             ],
             [
              0.4444444444444444,
              "#bd3786"
             ],
             [
              0.5555555555555556,
              "#d8576b"
             ],
             [
              0.6666666666666666,
              "#ed7953"
             ],
             [
              0.7777777777777778,
              "#fb9f3a"
             ],
             [
              0.8888888888888888,
              "#fdca26"
             ],
             [
              1,
              "#f0f921"
             ]
            ],
            "type": "surface"
           }
          ],
          "table": [
           {
            "cells": {
             "fill": {
              "color": "#EBF0F8"
             },
             "line": {
              "color": "white"
             }
            },
            "header": {
             "fill": {
              "color": "#C8D4E3"
             },
             "line": {
              "color": "white"
             }
            },
            "type": "table"
           }
          ]
         },
         "layout": {
          "annotationdefaults": {
           "arrowcolor": "#2a3f5f",
           "arrowhead": 0,
           "arrowwidth": 1
          },
          "autotypenumbers": "strict",
          "coloraxis": {
           "colorbar": {
            "outlinewidth": 0,
            "ticks": ""
           }
          },
          "colorscale": {
           "diverging": [
            [
             0,
             "#8e0152"
            ],
            [
             0.1,
             "#c51b7d"
            ],
            [
             0.2,
             "#de77ae"
            ],
            [
             0.3,
             "#f1b6da"
            ],
            [
             0.4,
             "#fde0ef"
            ],
            [
             0.5,
             "#f7f7f7"
            ],
            [
             0.6,
             "#e6f5d0"
            ],
            [
             0.7,
             "#b8e186"
            ],
            [
             0.8,
             "#7fbc41"
            ],
            [
             0.9,
             "#4d9221"
            ],
            [
             1,
             "#276419"
            ]
           ],
           "sequential": [
            [
             0,
             "#0d0887"
            ],
            [
             0.1111111111111111,
             "#46039f"
            ],
            [
             0.2222222222222222,
             "#7201a8"
            ],
            [
             0.3333333333333333,
             "#9c179e"
            ],
            [
             0.4444444444444444,
             "#bd3786"
            ],
            [
             0.5555555555555556,
             "#d8576b"
            ],
            [
             0.6666666666666666,
             "#ed7953"
            ],
            [
             0.7777777777777778,
             "#fb9f3a"
            ],
            [
             0.8888888888888888,
             "#fdca26"
            ],
            [
             1,
             "#f0f921"
            ]
           ],
           "sequentialminus": [
            [
             0,
             "#0d0887"
            ],
            [
             0.1111111111111111,
             "#46039f"
            ],
            [
             0.2222222222222222,
             "#7201a8"
            ],
            [
             0.3333333333333333,
             "#9c179e"
            ],
            [
             0.4444444444444444,
             "#bd3786"
            ],
            [
             0.5555555555555556,
             "#d8576b"
            ],
            [
             0.6666666666666666,
             "#ed7953"
            ],
            [
             0.7777777777777778,
             "#fb9f3a"
            ],
            [
             0.8888888888888888,
             "#fdca26"
            ],
            [
             1,
             "#f0f921"
            ]
           ]
          },
          "colorway": [
           "#636efa",
           "#EF553B",
           "#00cc96",
           "#ab63fa",
           "#FFA15A",
           "#19d3f3",
           "#FF6692",
           "#B6E880",
           "#FF97FF",
           "#FECB52"
          ],
          "font": {
           "color": "#2a3f5f"
          },
          "geo": {
           "bgcolor": "white",
           "lakecolor": "white",
           "landcolor": "#E5ECF6",
           "showlakes": true,
           "showland": true,
           "subunitcolor": "white"
          },
          "hoverlabel": {
           "align": "left"
          },
          "hovermode": "closest",
          "mapbox": {
           "style": "light"
          },
          "paper_bgcolor": "white",
          "plot_bgcolor": "#E5ECF6",
          "polar": {
           "angularaxis": {
            "gridcolor": "white",
            "linecolor": "white",
            "ticks": ""
           },
           "bgcolor": "#E5ECF6",
           "radialaxis": {
            "gridcolor": "white",
            "linecolor": "white",
            "ticks": ""
           }
          },
          "scene": {
           "xaxis": {
            "backgroundcolor": "#E5ECF6",
            "gridcolor": "white",
            "gridwidth": 2,
            "linecolor": "white",
            "showbackground": true,
            "ticks": "",
            "zerolinecolor": "white"
           },
           "yaxis": {
            "backgroundcolor": "#E5ECF6",
            "gridcolor": "white",
            "gridwidth": 2,
            "linecolor": "white",
            "showbackground": true,
            "ticks": "",
            "zerolinecolor": "white"
           },
           "zaxis": {
            "backgroundcolor": "#E5ECF6",
            "gridcolor": "white",
            "gridwidth": 2,
            "linecolor": "white",
            "showbackground": true,
            "ticks": "",
            "zerolinecolor": "white"
           }
          },
          "shapedefaults": {
           "line": {
            "color": "#2a3f5f"
           }
          },
          "ternary": {
           "aaxis": {
            "gridcolor": "white",
            "linecolor": "white",
            "ticks": ""
           },
           "baxis": {
            "gridcolor": "white",
            "linecolor": "white",
            "ticks": ""
           },
           "bgcolor": "#E5ECF6",
           "caxis": {
            "gridcolor": "white",
            "linecolor": "white",
            "ticks": ""
           }
          },
          "title": {
           "x": 0.05
          },
          "xaxis": {
           "automargin": true,
           "gridcolor": "white",
           "linecolor": "white",
           "ticks": "",
           "title": {
            "standoff": 15
           },
           "zerolinecolor": "white",
           "zerolinewidth": 2
          },
          "yaxis": {
           "automargin": true,
           "gridcolor": "white",
           "linecolor": "white",
           "ticks": "",
           "title": {
            "standoff": 15
           },
           "zerolinecolor": "white",
           "zerolinewidth": 2
          }
         }
        },
        "title": {
         "font": {
          "size": 28
         },
         "text": "<b>#35 I-dV/dI</b> 020-1_21-20-30-31"
        },
        "width": 1080,
        "xaxis": {
         "tickfont": {
          "size": 16
         },
         "title": {
          "font": {
           "size": 20
          },
          "text": "Current (μA)"
         }
        },
        "yaxis": {
         "tickfont": {
          "size": 16
         },
         "title": {
          "font": {
           "size": 20
          },
          "text": "dV/dI"
         }
        }
       }
      }
     },
     "metadata": {},
     "output_type": "display_data"
    },
    {
     "data": {
      "application/vnd.plotly.v1+json": {
       "config": {
        "plotlyServerURL": "https://plot.ly"
       },
       "data": [
        {
         "mode": "lines",
         "name": "IV",
         "type": "scatter",
         "x": [
          -0.00005,
          -0.0000499,
          -0.0000498,
          -0.0000497,
          -0.0000496,
          -0.0000495,
          -0.0000494,
          -0.0000493,
          -0.0000492,
          -0.0000491,
          -0.000049,
          -0.0000489,
          -0.0000488,
          -0.0000487,
          -0.0000486,
          -0.0000485,
          -0.0000484,
          -0.0000483,
          -0.0000482,
          -0.0000481,
          -0.000048,
          -0.0000479,
          -0.0000478,
          -0.0000477,
          -0.0000476,
          -0.0000475,
          -0.0000474,
          -0.0000473,
          -0.0000472,
          -0.0000471,
          -0.000047,
          -0.0000469,
          -0.0000468,
          -0.0000467,
          -0.0000466,
          -0.0000465,
          -0.0000464,
          -0.0000463,
          -0.0000462,
          -0.0000461,
          -0.000046,
          -0.0000459,
          -0.0000458,
          -0.0000457,
          -0.0000456,
          -0.0000455,
          -0.0000454,
          -0.0000453,
          -0.0000452,
          -0.0000451,
          -0.000045,
          -0.0000449,
          -0.0000448,
          -0.0000447,
          -0.0000446,
          -0.0000445,
          -0.0000444,
          -0.0000443,
          -0.0000442,
          -0.0000441,
          -0.000044,
          -0.0000439,
          -0.0000438,
          -0.0000437,
          -0.0000436,
          -0.0000435,
          -0.0000434,
          -0.0000433,
          -0.0000432,
          -0.0000431,
          -0.000043,
          -0.0000429,
          -0.0000428,
          -0.0000427,
          -0.0000426,
          -0.0000425,
          -0.0000424,
          -0.0000423,
          -0.0000422,
          -0.0000421,
          -0.000042,
          -0.0000419,
          -0.0000418,
          -0.0000417,
          -0.0000416,
          -0.0000415,
          -0.0000414,
          -0.0000413,
          -0.0000412,
          -0.0000411,
          -0.000041,
          -0.0000409,
          -0.0000408,
          -0.0000407,
          -0.0000406,
          -0.0000405,
          -0.0000404,
          -0.0000403,
          -0.0000402,
          -0.0000401,
          -0.00004,
          -0.0000399,
          -0.0000398,
          -0.0000397,
          -0.0000396,
          -0.0000395,
          -0.0000394,
          -0.0000393,
          -0.0000392,
          -0.0000391,
          -0.000039,
          -0.0000389,
          -0.0000388,
          -0.0000387,
          -0.0000386,
          -0.0000385,
          -0.0000384,
          -0.0000383,
          -0.0000382,
          -0.0000381,
          -0.000038,
          -0.0000379,
          -0.0000378,
          -0.0000377,
          -0.0000376,
          -0.0000375,
          -0.0000374,
          -0.0000373,
          -0.0000372,
          -0.0000371,
          -0.000037,
          -0.0000369,
          -0.0000368,
          -0.0000367,
          -0.0000366,
          -0.0000365,
          -0.0000364,
          -0.0000363,
          -0.0000362,
          -0.0000361,
          -0.000036,
          -0.0000359,
          -0.0000358,
          -0.0000357,
          -0.0000356,
          -0.0000355,
          -0.0000354,
          -0.0000353,
          -0.0000352,
          -0.0000351,
          -0.000035,
          -0.0000349,
          -0.0000348,
          -0.0000347,
          -0.0000346,
          -0.0000345,
          -0.0000344,
          -0.0000343,
          -0.0000342,
          -0.0000341,
          -0.000034,
          -0.0000339,
          -0.0000338,
          -0.0000337,
          -0.0000336,
          -0.0000335,
          -0.0000334,
          -0.0000333,
          -0.0000332,
          -0.0000331,
          -0.000033,
          -0.0000329,
          -0.0000328,
          -0.0000327,
          -0.0000326,
          -0.0000325,
          -0.0000324,
          -0.0000323,
          -0.0000322,
          -0.0000321,
          -0.000032,
          -0.0000319,
          -0.0000318,
          -0.0000317,
          -0.0000316,
          -0.0000315,
          -0.0000314,
          -0.0000313,
          -0.0000312,
          -0.0000311,
          -0.000031,
          -0.0000309,
          -0.0000308,
          -0.0000307,
          -0.0000306,
          -0.0000305,
          -0.0000304,
          -0.0000303,
          -0.0000302,
          -0.0000301,
          -0.00003,
          -0.0000299,
          -0.0000298,
          -0.0000297,
          -0.0000296,
          -0.0000295,
          -0.0000294,
          -0.0000293,
          -0.0000292,
          -0.0000291,
          -0.000029,
          -0.0000289,
          -0.0000288,
          -0.0000287,
          -0.0000286,
          -0.0000285,
          -0.0000284,
          -0.0000283,
          -0.0000282,
          -0.0000281,
          -0.000028,
          -0.0000279,
          -0.0000278,
          -0.0000277,
          -0.0000276,
          -0.0000275,
          -0.0000274,
          -0.0000273,
          -0.0000272,
          -0.0000271,
          -0.000027,
          -0.0000269,
          -0.0000268,
          -0.0000267,
          -0.0000266,
          -0.0000265,
          -0.0000264,
          -0.0000263,
          -0.0000262,
          -0.0000261,
          -0.000026,
          -0.0000259,
          -0.0000258,
          -0.0000257,
          -0.0000256,
          -0.0000255,
          -0.0000254,
          -0.0000253,
          -0.0000252,
          -0.0000251,
          -0.000025,
          -0.0000249,
          -0.0000248,
          -0.0000247,
          -0.0000246,
          -0.0000245,
          -0.0000244,
          -0.0000243,
          -0.0000242,
          -0.0000241,
          -0.000024,
          -0.0000239,
          -0.0000238,
          -0.0000237,
          -0.0000236,
          -0.0000235,
          -0.0000234,
          -0.0000233,
          -0.0000232,
          -0.0000231,
          -0.000023,
          -0.0000229,
          -0.0000228,
          -0.0000227,
          -0.0000226,
          -0.0000225,
          -0.0000224,
          -0.0000223,
          -0.0000222,
          -0.0000221,
          -0.000022,
          -0.0000219,
          -0.0000218,
          -0.0000217,
          -0.0000216,
          -0.0000215,
          -0.0000214,
          -0.0000213,
          -0.0000212,
          -0.0000211,
          -0.000021,
          -0.0000209,
          -0.0000208,
          -0.0000207,
          -0.0000206,
          -0.0000205,
          -0.0000204,
          -0.0000203,
          -0.0000202,
          -0.0000201,
          -0.00002,
          -0.0000199,
          -0.0000198,
          -0.0000197,
          -0.0000196,
          -0.0000195,
          -0.0000194,
          -0.0000193,
          -0.0000192,
          -0.0000191,
          -0.000019,
          -0.0000189,
          -0.0000188,
          -0.0000187,
          -0.0000186,
          -0.0000185,
          -0.0000184,
          -0.0000183,
          -0.0000182,
          -0.0000181,
          -0.000018,
          -0.0000179,
          -0.0000178,
          -0.0000177,
          -0.0000176,
          -0.0000175,
          -0.0000174,
          -0.0000173,
          -0.0000172,
          -0.0000171,
          -0.000017,
          -0.0000169,
          -0.0000168,
          -0.0000167,
          -0.0000166,
          -0.0000165,
          -0.0000164,
          -0.0000163,
          -0.0000162,
          -0.0000161,
          -0.000016,
          -0.0000159,
          -0.0000158,
          -0.0000157,
          -0.0000156,
          -0.0000155,
          -0.0000154,
          -0.0000153,
          -0.0000152,
          -0.0000151,
          -0.000015,
          -0.0000149,
          -0.0000148,
          -0.0000147,
          -0.0000146,
          -0.0000145,
          -0.0000144,
          -0.0000143,
          -0.0000142,
          -0.0000141,
          -0.000014,
          -0.0000139,
          -0.0000138,
          -0.0000137,
          -0.0000136,
          -0.0000135,
          -0.0000134,
          -0.0000133,
          -0.0000132,
          -0.0000131,
          -0.000013,
          -0.0000129,
          -0.0000128,
          -0.0000127,
          -0.0000126,
          -0.0000125,
          -0.0000124,
          -0.0000123,
          -0.0000122,
          -0.0000121,
          -0.000012,
          -0.0000119,
          -0.0000118,
          -0.0000117,
          -0.0000116,
          -0.0000115,
          -0.0000114,
          -0.0000113,
          -0.0000112,
          -0.0000111,
          -0.000011,
          -0.0000109,
          -0.0000108,
          -0.0000107,
          -0.0000106,
          -0.0000105,
          -0.0000104,
          -0.0000103,
          -0.0000102,
          -0.0000101,
          -0.00001,
          -0.0000099,
          -0.0000098,
          -0.0000097,
          -0.0000096,
          -0.0000095,
          -0.0000094,
          -0.0000093,
          -0.0000092,
          -0.0000091,
          -0.000009,
          -0.0000089,
          -0.0000088,
          -0.0000087,
          -0.0000086,
          -0.0000085,
          -0.0000084,
          -0.0000083,
          -0.0000082,
          -0.0000081,
          -0.000008,
          -0.0000079,
          -0.0000078,
          -0.0000077,
          -0.0000076,
          -0.0000075,
          -0.0000074,
          -0.0000073,
          -0.0000072,
          -0.0000071,
          -0.000007,
          -0.0000069,
          -0.0000068,
          -0.0000067,
          -0.0000066,
          -0.0000065,
          -0.0000064,
          -0.0000063,
          -0.0000062,
          -0.0000061,
          -0.000006,
          -0.0000059,
          -0.0000058,
          -0.0000057,
          -0.0000056,
          -0.0000055,
          -0.0000054,
          -0.0000053,
          -0.0000052,
          -0.00000509999999999999,
          -0.000005,
          -0.0000049,
          -0.0000048,
          -0.0000047,
          -0.0000046,
          -0.0000045,
          -0.0000044,
          -0.0000043,
          -0.0000042,
          -0.0000041,
          -0.000004,
          -0.0000039,
          -0.0000038,
          -0.00000369999999999999,
          -0.0000036,
          -0.0000035,
          -0.0000034,
          -0.0000033,
          -0.0000032,
          -0.0000031,
          -0.000003,
          -0.0000029,
          -0.0000028,
          -0.0000027,
          -0.0000026,
          -0.0000025,
          -0.0000024,
          -0.00000229999999999999,
          -0.0000022,
          -0.0000021,
          -0.000002,
          -0.0000019,
          -0.0000018,
          -0.0000017,
          -0.0000016,
          -0.0000015,
          -0.0000014,
          -0.0000013,
          -0.0000012,
          -0.0000011,
          -9.99999999999997e-7,
          -8.99999999999995e-7,
          -7.99999999999999e-7,
          -6.99999999999997e-7,
          -6.00000000000001e-7,
          -4.99999999999999e-7,
          -3.99999999999996e-7,
          -3.00000000000001e-7,
          -1.99999999999998e-7,
          -9.99999999999957e-8,
          0,
          1.00000000000002e-7,
          2.00000000000005e-7,
          3.00000000000001e-7,
          4.00000000000003e-7,
          5.00000000000005e-7,
          6.00000000000001e-7,
          7.00000000000004e-7,
          7.99999999999999e-7,
          9.00000000000001e-7,
          0.000001,
          0.0000011,
          0.0000012,
          0.0000013,
          0.0000014,
          0.0000015,
          0.0000016,
          0.0000017,
          0.0000018,
          0.0000019,
          0.000002,
          0.0000021,
          0.0000022,
          0.0000023,
          0.0000024,
          0.0000025,
          0.0000026,
          0.0000027,
          0.0000028,
          0.0000029,
          0.00000300000000000001,
          0.0000031,
          0.0000032,
          0.0000033,
          0.0000034,
          0.0000035,
          0.0000036,
          0.0000037,
          0.0000038,
          0.0000039,
          0.000004,
          0.00000410000000000001,
          0.0000042,
          0.0000043,
          0.00000440000000000001,
          0.0000045,
          0.0000046,
          0.0000047,
          0.0000048,
          0.0000049,
          0.000005,
          0.0000051,
          0.0000052,
          0.0000053,
          0.0000054,
          0.00000550000000000001,
          0.0000056,
          0.0000057,
          0.00000580000000000001,
          0.0000059,
          0.000006,
          0.0000061,
          0.0000062,
          0.0000063,
          0.0000064,
          0.0000065,
          0.00000660000000000001,
          0.0000067,
          0.0000068,
          0.00000690000000000001,
          0.000007,
          0.0000071,
          0.00000720000000000001,
          0.0000073,
          0.0000074,
          0.0000075,
          0.0000076,
          0.0000077,
          0.0000078,
          0.0000079,
          0.00000800000000000001,
          0.0000081,
          0.0000082,
          0.0000083,
          0.0000084,
          0.0000085,
          0.00000860000000000001,
          0.0000087,
          0.0000088,
          0.0000089,
          0.000009,
          0.0000091,
          0.0000092,
          0.0000093,
          0.00000940000000000001,
          0.0000095,
          0.00000960000000000001,
          0.00000970000000000001,
          0.0000098,
          0.0000099,
          0.00001,
          0.0000101,
          0.0000102,
          0.0000103,
          0.0000104,
          0.0000105,
          0.0000106,
          0.0000107,
          0.0000108,
          0.0000109,
          0.000011,
          0.0000111,
          0.0000112,
          0.0000113,
          0.0000114,
          0.0000115,
          0.0000116,
          0.0000117,
          0.0000118,
          0.0000119,
          0.000012,
          0.0000121,
          0.0000122,
          0.0000123,
          0.0000124,
          0.0000125,
          0.0000126,
          0.0000127,
          0.0000128,
          0.0000129,
          0.000013,
          0.0000131,
          0.0000132,
          0.0000133,
          0.0000134,
          0.0000135,
          0.0000136,
          0.0000137,
          0.0000138,
          0.0000139,
          0.000014,
          0.0000141,
          0.0000142,
          0.0000143,
          0.0000144,
          0.0000145,
          0.0000146,
          0.0000147,
          0.0000148,
          0.0000149,
          0.000015,
          0.0000151,
          0.0000152,
          0.0000153,
          0.0000154,
          0.0000155,
          0.0000156,
          0.0000157,
          0.0000158,
          0.0000159,
          0.000016,
          0.0000161,
          0.0000162,
          0.0000163,
          0.0000164,
          0.0000165,
          0.0000166,
          0.0000167,
          0.0000168,
          0.0000169,
          0.000017,
          0.0000171,
          0.0000172,
          0.0000173,
          0.0000174,
          0.0000175,
          0.0000176,
          0.0000177,
          0.0000178,
          0.0000179,
          0.000018,
          0.0000181,
          0.0000182,
          0.0000183,
          0.0000184,
          0.0000185,
          0.0000186,
          0.0000187,
          0.0000188,
          0.0000189,
          0.000019,
          0.0000191,
          0.0000192,
          0.0000193,
          0.0000194,
          0.0000195,
          0.0000196,
          0.0000197,
          0.0000198,
          0.0000199,
          0.00002,
          0.0000201,
          0.0000202,
          0.0000203,
          0.0000204,
          0.0000205,
          0.0000206,
          0.0000207,
          0.0000208,
          0.0000209,
          0.000021,
          0.0000211,
          0.0000212,
          0.0000213,
          0.0000214,
          0.0000215,
          0.0000216,
          0.0000217,
          0.0000218,
          0.0000219,
          0.000022,
          0.0000221,
          0.0000222,
          0.0000223,
          0.0000224,
          0.0000225,
          0.0000226,
          0.0000227,
          0.0000228,
          0.0000229,
          0.000023,
          0.0000231,
          0.0000232,
          0.0000233,
          0.0000234,
          0.0000235,
          0.0000236,
          0.0000237,
          0.0000238,
          0.0000239,
          0.000024,
          0.0000241,
          0.0000242,
          0.0000243,
          0.0000244,
          0.0000245,
          0.0000246,
          0.0000247,
          0.0000248,
          0.0000249,
          0.000025,
          0.0000251,
          0.0000252,
          0.0000253,
          0.0000254,
          0.0000255,
          0.0000256,
          0.0000257,
          0.0000258,
          0.0000259,
          0.000026,
          0.0000261,
          0.0000262,
          0.0000263,
          0.0000264,
          0.0000265,
          0.0000266,
          0.0000267,
          0.0000268,
          0.0000269,
          0.000027,
          0.0000271,
          0.0000272,
          0.0000273,
          0.0000274,
          0.0000275,
          0.0000276,
          0.0000277,
          0.0000278,
          0.0000279,
          0.000028,
          0.0000281,
          0.0000282,
          0.0000283,
          0.0000284,
          0.0000285,
          0.0000286,
          0.0000287,
          0.0000288,
          0.0000289,
          0.000029,
          0.0000291,
          0.0000292,
          0.0000293,
          0.0000294,
          0.0000295,
          0.0000296,
          0.0000297,
          0.0000298,
          0.0000299,
          0.00003,
          0.0000301,
          0.0000302,
          0.0000303,
          0.0000304,
          0.0000305,
          0.0000306,
          0.0000307,
          0.0000308,
          0.0000309,
          0.000031,
          0.0000311,
          0.0000312,
          0.0000313,
          0.0000314,
          0.0000315,
          0.0000316,
          0.0000317,
          0.0000318,
          0.0000319,
          0.000032,
          0.0000321,
          0.0000322,
          0.0000323,
          0.0000324,
          0.0000325,
          0.0000326,
          0.0000327,
          0.0000328,
          0.0000329,
          0.000033,
          0.0000331,
          0.0000332,
          0.0000333,
          0.0000334,
          0.0000335,
          0.0000336,
          0.0000337,
          0.0000338,
          0.0000339,
          0.000034,
          0.0000341,
          0.0000342,
          0.0000343,
          0.0000344,
          0.0000345,
          0.0000346,
          0.0000347,
          0.0000348,
          0.0000349,
          0.000035,
          0.0000351,
          0.0000352,
          0.0000353,
          0.0000354,
          0.0000355,
          0.0000356,
          0.0000357,
          0.0000358,
          0.0000359,
          0.000036,
          0.0000361,
          0.0000362,
          0.0000363,
          0.0000364,
          0.0000365,
          0.0000366,
          0.0000367,
          0.0000368,
          0.0000369,
          0.000037,
          0.0000371,
          0.0000372,
          0.0000373,
          0.0000374,
          0.0000375,
          0.0000376,
          0.0000377,
          0.0000378,
          0.0000379,
          0.000038,
          0.0000381,
          0.0000382,
          0.0000383,
          0.0000384,
          0.0000385,
          0.0000386,
          0.0000387,
          0.0000388,
          0.0000389,
          0.000039,
          0.0000391,
          0.0000392,
          0.0000393,
          0.0000394,
          0.0000395,
          0.0000396,
          0.0000397,
          0.0000398,
          0.0000399,
          0.00004,
          0.0000401,
          0.0000402,
          0.0000403,
          0.0000404,
          0.0000405,
          0.0000406,
          0.0000407,
          0.0000408,
          0.0000409,
          0.000041,
          0.0000411,
          0.0000412,
          0.0000413,
          0.0000414,
          0.0000415,
          0.0000416,
          0.0000417,
          0.0000418,
          0.0000419,
          0.000042,
          0.0000421,
          0.0000422,
          0.0000423,
          0.0000424,
          0.0000425,
          0.0000426,
          0.0000427,
          0.0000428,
          0.0000429,
          0.000043,
          0.0000431,
          0.0000432,
          0.0000433,
          0.0000434,
          0.0000435,
          0.0000436,
          0.0000437,
          0.0000438,
          0.0000439,
          0.000044,
          0.0000441,
          0.0000442,
          0.0000443,
          0.0000444,
          0.0000445,
          0.0000446,
          0.0000447,
          0.0000448,
          0.0000449,
          0.000045,
          0.0000451,
          0.0000452,
          0.0000453,
          0.0000454,
          0.0000455,
          0.0000456,
          0.0000457,
          0.0000458,
          0.0000459,
          0.000046,
          0.0000461,
          0.0000462,
          0.0000463,
          0.0000464,
          0.0000465,
          0.0000466,
          0.0000467,
          0.0000468,
          0.0000469,
          0.000047,
          0.0000471,
          0.0000472,
          0.0000473,
          0.0000474,
          0.0000475,
          0.0000476,
          0.0000477,
          0.0000478,
          0.0000479,
          0.000048,
          0.0000481,
          0.0000482,
          0.0000483,
          0.0000484,
          0.0000485,
          0.0000486,
          0.0000487,
          0.0000488,
          0.0000489,
          0.000049,
          0.0000491,
          0.0000492,
          0.0000493,
          0.0000494,
          0.0000495,
          0.0000496,
          0.0000497,
          0.0000498,
          0.0000499,
          0.00005
         ],
         "y": [
          -0.0009458914,
          -0.0009332264,
          -0.0009314663,
          -0.0009297225,
          -0.0009278289,
          -0.0009258986,
          -0.0009241144,
          -0.0009221496,
          -0.0009203889,
          -0.0009183969,
          -0.0009165381,
          -0.0009147573,
          -0.0009127752,
          -0.0009109265,
          -0.00090921,
          -0.0009073222,
          -0.0009053745,
          -0.0009034774,
          -0.0009016588,
          -0.0008996629,
          -0.000898001,
          -0.0008959414,
          -0.0008941931,
          -0.0008922619,
          -0.0008903102,
          -0.0008885747,
          -0.0008867114,
          -0.0008847753,
          -0.0008828168,
          -0.0008810831,
          -0.0008791679,
          -0.0008771519,
          -0.0008753724,
          -0.0008735735,
          -0.0008715859,
          -0.0008696538,
          -0.0008679632,
          -0.0008660582,
          -0.0008640527,
          -0.0008622852,
          -0.0008604478,
          -0.0008584314,
          -0.0008565179,
          -0.0008547519,
          -0.0008527691,
          -0.0008508926,
          -0.0008491157,
          -0.0008472596,
          -0.0008453506,
          -0.0008435664,
          -0.0008416218,
          -0.0008396704,
          -0.0008378988,
          -0.0008357998,
          -0.0008339883,
          -0.0008321514,
          -0.0008301089,
          -0.0008282891,
          -0.0008265093,
          -0.0008245501,
          -0.0008227505,
          -0.0008207691,
          -0.0008187366,
          -0.0008169943,
          -0.0008150047,
          -0.0008131777,
          -0.0008113241,
          -0.0008093631,
          -0.0008075414,
          -0.0008057211,
          -0.0008037349,
          -0.0008018888,
          -0.0008000774,
          -0.0007980637,
          -0.0007961365,
          -0.0007942526,
          -0.0007923226,
          -0.0007904736,
          -0.0007886987,
          -0.0007867477,
          -0.0007847715,
          -0.0007829406,
          -0.0007810136,
          -0.0007792264,
          -0.0007773612,
          -0.0007754272,
          -0.0007733867,
          -0.0007715262,
          -0.000769684,
          -0.0007678321,
          -0.0007658818,
          -0.0007638987,
          -0.0007621015,
          -0.0007601475,
          -0.0007583141,
          -0.0007564805,
          -0.0007545032,
          -0.0007527172,
          -0.0007508631,
          -0.0007488999,
          -0.0007468814,
          -0.0007452002,
          -0.000743146,
          -0.0007413435,
          -0.0007394483,
          -0.0007374587,
          -0.0007356892,
          -0.0007337486,
          -0.0007318144,
          -0.0007299136,
          -0.0007280892,
          -0.0007260534,
          -0.0007243858,
          -0.0007223393,
          -0.0007205436,
          -0.0007186003,
          -0.0007166272,
          -0.0007148821,
          -0.0007129607,
          -0.0007110996,
          -0.0007091168,
          -0.0007072321,
          -0.0007054518,
          -0.0007035188,
          -0.0007017799,
          -0.000699738,
          -0.0006977896,
          -0.0006960627,
          -0.0006942222,
          -0.0006922875,
          -0.0006903509,
          -0.0006885132,
          -0.0006865139,
          -0.000684848,
          -0.0006829281,
          -0.0006810398,
          -0.0006790886,
          -0.0006772998,
          -0.0006754062,
          -0.0006734283,
          -0.0006716156,
          -0.0006696973,
          -0.0006678781,
          -0.0006658989,
          -0.0006640725,
          -0.000662146,
          -0.000660322,
          -0.0006583477,
          -0.000656465,
          -0.000654689,
          -0.0006527072,
          -0.0006509579,
          -0.0006489587,
          -0.0006471298,
          -0.0006451767,
          -0.0006433724,
          -0.0006414707,
          -0.0006396834,
          -0.0006376181,
          -0.0006359036,
          -0.0006338197,
          -0.0006319599,
          -0.0006301455,
          -0.0006281919,
          -0.0006262678,
          -0.0006244478,
          -0.0006226544,
          -0.0006207316,
          -0.0006189506,
          -0.0006169776,
          -0.0006152011,
          -0.000613337,
          -0.0006112796,
          -0.00060945,
          -0.0006075785,
          -0.0006056031,
          -0.0006037549,
          -0.0006019972,
          -0.0006000372,
          -0.000598246,
          -0.0005962118,
          -0.0005944924,
          -0.0005925369,
          -0.0005907377,
          -0.0005885854,
          -0.0005868935,
          -0.000585032,
          -0.0005831047,
          -0.0005812133,
          -0.0005795551,
          -0.0005775357,
          -0.0005756868,
          -0.0005737757,
          -0.0005719897,
          -0.0005700727,
          -0.0005681635,
          -0.0005662241,
          -0.0005643599,
          -0.0005625717,
          -0.0005605366,
          -0.00055877,
          -0.0005568257,
          -0.0005548942,
          -0.0005530201,
          -0.000551226,
          -0.00054943,
          -0.0005473796,
          -0.0005455394,
          -0.0005437242,
          -0.0005419241,
          -0.000540053,
          -0.0005380756,
          -0.0005362991,
          -0.0005343133,
          -0.0005323958,
          -0.0005306531,
          -0.0005287527,
          -0.0005267505,
          -0.0005248903,
          -0.0005229412,
          -0.00052124,
          -0.0005193434,
          -0.0005173663,
          -0.0005155499,
          -0.0005136222,
          -0.0005118666,
          -0.0005100608,
          -0.0005080196,
          -0.0005062209,
          -0.00050424,
          -0.0005024416,
          -0.0005006292,
          -0.0004986686,
          -0.0004968643,
          -0.0004949404,
          -0.0004931035,
          -0.0004912053,
          -0.0004892918,
          -0.0004873834,
          -0.0004855868,
          -0.0004836481,
          -0.0004817573,
          -0.0004798882,
          -0.0004780863,
          -0.0004761801,
          -0.0004741514,
          -0.0004722478,
          -0.0004705753,
          -0.0004686705,
          -0.0004668146,
          -0.0004648498,
          -0.0004630497,
          -0.0004611314,
          -0.000459249,
          -0.0004573732,
          -0.0004555215,
          -0.0004535318,
          -0.0004518292,
          -0.0004498317,
          -0.0004478747,
          -0.0004460788,
          -0.0004442143,
          -0.0004423309,
          -0.0004404084,
          -0.0004386532,
          -0.0004365842,
          -0.0004348549,
          -0.0004329269,
          -0.0004310071,
          -0.0004291779,
          -0.0004273026,
          -0.0004254109,
          -0.0004235256,
          -0.0004216158,
          -0.0004197134,
          -0.0004179182,
          -0.0004159361,
          -0.0004140962,
          -0.0004122903,
          -0.0004104131,
          -0.0004085414,
          -0.0004066739,
          -0.0004048293,
          -0.0004028265,
          -0.0004010056,
          -0.0003990649,
          -0.0003972956,
          -0.0003954263,
          -0.0003934026,
          -0.0003917531,
          -0.0003897522,
          -0.00038792,
          -0.0003860525,
          -0.0003840902,
          -0.0003821417,
          -0.0003804407,
          -0.0003784441,
          -0.0003766733,
          -0.0003746221,
          -0.0003728835,
          -0.000371111,
          -0.0003690636,
          -0.0003671774,
          -0.0003652994,
          -0.0003634147,
          -0.0003615875,
          -0.0003596978,
          -0.0003578522,
          -0.0003559222,
          -0.0003540701,
          -0.0003521396,
          -0.0003504136,
          -0.00034833,
          -0.0003465789,
          -0.0003446712,
          -0.0003428899,
          -0.0003408318,
          -0.0003390794,
          -0.0003371332,
          -0.0003353448,
          -0.0003334717,
          -0.0003315638,
          -0.0003297345,
          -0.0003278408,
          -0.0003259618,
          -0.0003240144,
          -0.00032204,
          -0.0003203475,
          -0.0003184407,
          -0.0003165559,
          -0.0003145556,
          -0.0003127753,
          -0.0003107637,
          -0.000309004,
          -0.0003071592,
          -0.000305341,
          -0.0003032753,
          -0.0003015895,
          -0.0002996883,
          -0.0002977741,
          -0.0002957935,
          -0.0002938869,
          -0.0002921489,
          -0.0002901294,
          -0.0002882857,
          -0.0002864425,
          -0.0002846295,
          -0.0002826462,
          -0.0002808126,
          -0.0002789383,
          -0.0002770045,
          -0.0002752796,
          -0.0002734102,
          -0.0002714943,
          -0.000269572,
          -0.000267648,
          -0.0002659028,
          -0.0002640233,
          -0.0002620403,
          -0.0002602703,
          -0.0002583348,
          -0.0002564723,
          -0.0002545205,
          -0.0002527015,
          -0.0002507545,
          -0.0002488723,
          -0.0002470344,
          -0.0002450269,
          -0.0002433307,
          -0.0002414679,
          -0.0002394843,
          -0.0002376421,
          -0.0002358116,
          -0.0002338016,
          -0.0002320234,
          -0.0002301324,
          -0.0002282893,
          -0.0002263297,
          -0.00022436,
          -0.0002224665,
          -0.0002206282,
          -0.0002186874,
          -0.0002168184,
          -0.0002150533,
          -0.0002131845,
          -0.0002112347,
          -0.0002094135,
          -0.0002074535,
          -0.000205618,
          -0.0002038049,
          -0.0002018967,
          -0.0001999401,
          -0.0001980348,
          -0.0001962798,
          -0.0001943373,
          -0.0001924467,
          -0.0001906394,
          -0.0001885776,
          -0.0001868184,
          -0.0001848861,
          -0.0001830756,
          -0.0001811527,
          -0.000179281,
          -0.0001773714,
          -0.0001754892,
          -0.0001736124,
          -0.0001717162,
          -0.0001699404,
          -0.0001680385,
          -0.0001660245,
          -0.0001642097,
          -0.0001622644,
          -0.0001603783,
          -0.0001584887,
          -0.0001567049,
          -0.0001547502,
          -0.0001528623,
          -0.0001509724,
          -0.0001492472,
          -0.00014714,
          -0.000145334,
          -0.0001435337,
          -0.0001416536,
          -0.0001396759,
          -0.0001379336,
          -0.0001360124,
          -0.0001341672,
          -0.0001322621,
          -0.0001303295,
          -0.0001285026,
          -0.0001267263,
          -0.0001246966,
          -0.0001228559,
          -0.0001209423,
          -0.0001190677,
          -0.000117124,
          -0.0001151888,
          -0.0001133579,
          -0.0001114764,
          -0.0001098047,
          -0.0001076789,
          -0.0001058103,
          -0.0001040094,
          -0.0001021305,
          -0.0001002837,
          -0.00009843226,
          -0.00009639403,
          -0.00009457164,
          -0.00009280494,
          -0.00009085569,
          -0.00008889058,
          -0.00008706827,
          -0.00008514893,
          -0.00008330058,
          -0.00008149921,
          -0.00007965534,
          -0.00007775491,
          -0.00007584171,
          -0.00007392153,
          -0.0000721896,
          -0.00007018882,
          -0.00006833278,
          -0.00006651592,
          -0.00006463836,
          -0.0000626985,
          -0.00006080792,
          -0.0000589079,
          -0.0000570689,
          -0.00005519978,
          -0.00005324117,
          -0.00005141516,
          -0.00004949667,
          -0.00004767868,
          -0.00004571551,
          -0.00004397739,
          -0.00004207149,
          -0.00004031438,
          -0.00003827415,
          -0.00003642521,
          -0.00003456199,
          -0.00003275681,
          -0.00003085359,
          -0.00002908202,
          -0.00002719793,
          -0.00002538727,
          -0.00002352487,
          -0.00002170131,
          -0.00001976255,
          -0.00001796852,
          -0.00001603202,
          -0.00001419427,
          -0.00001236593,
          -0.0000106587,
          -0.000008723137,
          -0.000006884703,
          -0.000005251965,
          0.000002896526,
          0.00000296076,
          0.000002930466,
          0.000002904659,
          0.000002914895,
          0.000002854147,
          0.000002841912,
          0.000002938793,
          0.000002812932,
          0.000002810264,
          0.000002895612,
          0.00000282014,
          0.000002873989,
          0.000002866732,
          0.000002752866,
          0.000002830391,
          0.000002792669,
          0.000002846459,
          0.000002780302,
          0.00002929735,
          0.00003122737,
          0.00003321161,
          0.00003509056,
          0.00003690758,
          0.00003870906,
          0.00004048559,
          0.00004255855,
          0.00004428078,
          0.00004612277,
          0.00004812458,
          0.00004983758,
          0.00005173319,
          0.00005373457,
          0.00005556986,
          0.00005740083,
          0.00005924287,
          0.00006127017,
          0.00006297844,
          0.00006497097,
          0.00006692941,
          0.00006871556,
          0.00007068853,
          0.00007253023,
          0.00007452569,
          0.00007627472,
          0.0000782097,
          0.00008004157,
          0.00008188154,
          0.00008386806,
          0.00008562913,
          0.00008758225,
          0.00008960814,
          0.00009125777,
          0.00009327632,
          0.00009517604,
          0.00009684945,
          0.00009884349,
          0.0001007632,
          0.0001026397,
          0.0001044952,
          0.0001062938,
          0.0001082178,
          0.0001101353,
          0.0001120507,
          0.0001140046,
          0.0001158631,
          0.0001175428,
          0.0001195402,
          0.0001214613,
          0.0001233371,
          0.0001250739,
          0.0001270595,
          0.0001289873,
          0.0001309544,
          0.0001326262,
          0.0001346492,
          0.0001364761,
          0.0001383551,
          0.0001403076,
          0.0001420952,
          0.000144054,
          0.0001458715,
          0.0001476785,
          0.0001496632,
          0.0001515127,
          0.0001533562,
          0.0001552778,
          0.0001572581,
          0.0001590724,
          0.0001609251,
          0.000162859,
          0.0001646717,
          0.0001665114,
          0.000168423,
          0.0001703001,
          0.0001721753,
          0.0001740801,
          0.0001759718,
          0.0001778901,
          0.0001797877,
          0.0001815143,
          0.0001834756,
          0.0001852823,
          0.0001872166,
          0.0001891795,
          0.0001909193,
          0.0001929132,
          0.0001947053,
          0.000196614,
          0.0001985201,
          0.0002003982,
          0.0002023723,
          0.0002041709,
          0.0002059429,
          0.0002079161,
          0.0002098987,
          0.0002116077,
          0.0002136038,
          0.0002154287,
          0.0002172181,
          0.0002192159,
          0.0002209495,
          0.0002229428,
          0.0002249467,
          0.0002265868,
          0.0002285801,
          0.0002304447,
          0.0002322304,
          0.000234288,
          0.0002360541,
          0.0002379026,
          0.0002398693,
          0.000241796,
          0.0002435157,
          0.0002453364,
          0.0002474339,
          0.0002492418,
          0.0002511206,
          0.0002528551,
          0.0002547559,
          0.0002566413,
          0.000258629,
          0.0002605206,
          0.0002623861,
          0.000264218,
          0.0002660329,
          0.0002680179,
          0.0002698666,
          0.0002717614,
          0.0002735442,
          0.0002755795,
          0.0002773221,
          0.0002792233,
          0.0002812092,
          0.0002830399,
          0.0002848137,
          0.0002868492,
          0.0002886075,
          0.0002905617,
          0.0002924497,
          0.0002943543,
          0.000296226,
          0.0002981211,
          0.000299914,
          0.0003017751,
          0.0003036257,
          0.0003054746,
          0.0003072835,
          0.0003092813,
          0.0003110918,
          0.0003129391,
          0.0003149294,
          0.0003167062,
          0.0003185615,
          0.0003204233,
          0.0003223365,
          0.0003243573,
          0.0003261416,
          0.0003280949,
          0.0003298705,
          0.0003316747,
          0.0003337032,
          0.0003354672,
          0.0003372853,
          0.0003392156,
          0.0003411571,
          0.0003429349,
          0.0003449393,
          0.0003467744,
          0.0003486839,
          0.000350403,
          0.0003522352,
          0.0003541151,
          0.0003561275,
          0.0003579548,
          0.0003599022,
          0.0003617025,
          0.0003635988,
          0.0003653722,
          0.0003672475,
          0.0003691417,
          0.0003710991,
          0.0003729863,
          0.0003747462,
          0.0003766197,
          0.0003785668,
          0.0003803118,
          0.0003823564,
          0.0003841083,
          0.0003859413,
          0.0003878315,
          0.0003897206,
          0.0003917632,
          0.0003935051,
          0.0003954843,
          0.0003974036,
          0.000399186,
          0.0004010459,
          0.0004029901,
          0.0004047191,
          0.0004066489,
          0.00040856,
          0.0004104188,
          0.0004122479,
          0.000414043,
          0.0004160361,
          0.0004177934,
          0.0004197024,
          0.0004215945,
          0.0004233452,
          0.0004253627,
          0.0004271594,
          0.000429008,
          0.0004309393,
          0.0004327954,
          0.0004345823,
          0.0004365907,
          0.000438305,
          0.0004403467,
          0.000442075,
          0.0004440889,
          0.0004458194,
          0.0004476884,
          0.0004496181,
          0.0004513704,
          0.0004532457,
          0.0004552278,
          0.0004569257,
          0.0004589881,
          0.0004609476,
          0.0004626322,
          0.0004645041,
          0.0004664312,
          0.0004683813,
          0.0004701421,
          0.0004719512,
          0.0004738317,
          0.0004758076,
          0.0004775469,
          0.0004794428,
          0.00048139,
          0.0004831748,
          0.0004851238,
          0.0004870886,
          0.0004887409,
          0.0004908335,
          0.0004926548,
          0.0004944978,
          0.0004962873,
          0.0004981603,
          0.000500124,
          0.0005019087,
          0.0005036981,
          0.0005057077,
          0.0005074519,
          0.0005094555,
          0.0005113021,
          0.0005131323,
          0.0005150139,
          0.0005167412,
          0.0005186921,
          0.000520483,
          0.0005225367,
          0.0005242915,
          0.0005263085,
          0.0005281644,
          0.0005298944,
          0.0005317699,
          0.0005337166,
          0.0005355992,
          0.0005374618,
          0.0005392565,
          0.0005410958,
          0.0005430227,
          0.0005448029,
          0.0005467374,
          0.000548533,
          0.0005503744,
          0.0005524028,
          0.0005542804,
          0.0005561593,
          0.0005578763,
          0.0005598962,
          0.0005616981,
          0.0005635487,
          0.0005653265,
          0.0005671894,
          0.0005690508,
          0.0005710129,
          0.0005728683,
          0.0005746468,
          0.0005764453,
          0.0005785378,
          0.0005802577,
          0.0005822776,
          0.0005841408,
          0.000585877,
          0.0005877936,
          0.0005895932,
          0.0005914937,
          0.000593409,
          0.0005952525,
          0.0005971066,
          0.0005990391,
          0.0006008445,
          0.000602823,
          0.0006045574,
          0.0006065816,
          0.0006082984,
          0.000610256,
          0.0006120336,
          0.0006139085,
          0.00061591,
          0.0006176594,
          0.0006195086,
          0.0006214233,
          0.0006232043,
          0.0006250181,
          0.0006270502,
          0.0006289219,
          0.000630682,
          0.0006326057,
          0.0006344647,
          0.0006363054,
          0.0006381719,
          0.0006399992,
          0.0006418279,
          0.0006438493,
          0.0006455991,
          0.0006475969,
          0.0006493708,
          0.0006512679,
          0.0006530442,
          0.0006548673,
          0.000656773,
          0.0006586108,
          0.0006606438,
          0.0006624498,
          0.0006643527,
          0.00066617,
          0.0006679745,
          0.0006698639,
          0.0006717689,
          0.0006735717,
          0.0006754195,
          0.00067726,
          0.0006793,
          0.0006810556,
          0.0006829458,
          0.0006846841,
          0.0006867119,
          0.000688454,
          0.0006903984,
          0.0006921221,
          0.0006940911,
          0.000696013,
          0.0006978701,
          0.000699737,
          0.0007014831,
          0.0007033476,
          0.0007052167,
          0.0007070154,
          0.000709095,
          0.0007108285,
          0.0007127087,
          0.0007146289,
          0.0007164124,
          0.0007183448,
          0.0007202523,
          0.0007220439,
          0.0007237953,
          0.0007257094,
          0.0007276713,
          0.0007293754,
          0.0007312265,
          0.0007332688,
          0.0007351186,
          0.0007369588,
          0.0007388254,
          0.0007405766,
          0.0007425797,
          0.0007444844,
          0.0007461762,
          0.0007481174,
          0.0007500604,
          0.0007517444,
          0.0007536527,
          0.0007556104,
          0.0007574041,
          0.0007592528,
          0.0007610611,
          0.000762865,
          0.0007648682,
          0.0007666941,
          0.000768512,
          0.0007702979,
          0.0007722511,
          0.0007740788,
          0.000776029,
          0.0007778963,
          0.0007798166,
          0.0007816224,
          0.0007834176,
          0.0007853574,
          0.0007873,
          0.0007889708,
          0.0007909654,
          0.0007929143,
          0.0007945956,
          0.0007965077,
          0.0007984623,
          0.0008001515,
          0.0008020925,
          0.0008038483,
          0.0008058681,
          0.0008076082,
          0.0008096464,
          0.0008112438,
          0.0008133242,
          0.0008151063,
          0.0008169522,
          0.0008187814,
          0.0008207467,
          0.000822626,
          0.0008243562,
          0.0008262823,
          0.0008282169,
          0.0008299437,
          0.0008319574,
          0.0008337163,
          0.0008356252,
          0.0008374844,
          0.0008392212,
          0.0008412319,
          0.0008430731,
          0.0008449154,
          0.0008468425,
          0.0008487857,
          0.0008506002,
          0.0008523539,
          0.0008543056,
          0.0008560423,
          0.0008580351,
          0.0008598126,
          0.000861624,
          0.0008635105,
          0.000865429,
          0.000867334,
          0.0008691383,
          0.0008708853,
          0.0008729065,
          0.0008746158,
          0.0008764844,
          0.0008783752,
          0.0008803215,
          0.0008821965,
          0.0008839431,
          0.0008859436,
          0.0008878114,
          0.0008895703,
          0.0008913955,
          0.0008932925,
          0.0008950533,
          0.0008968926,
          0.0008987845,
          0.0009007515,
          0.0009026623,
          0.0009044959,
          0.0009063564,
          0.0009081579,
          0.000910116,
          0.0009118736,
          0.0009137228,
          0.000915696,
          0.0009175207,
          0.0009192762,
          0.0009210539,
          0.0009229616,
          0.0009248495,
          0.0009267611,
          0.0009285416,
          0.0009304466,
          0.0009322602,
          0.0009342648,
          0.0009360887
         ]
        },
        {
         "mode": "lines",
         "name": "dV/dI",
         "type": "scatter",
         "x": [
          -0.00005,
          -0.0000499,
          -0.0000498,
          -0.0000497,
          -0.0000496,
          -0.0000495,
          -0.0000494,
          -0.0000493,
          -0.0000492,
          -0.0000491,
          -0.000049,
          -0.0000489,
          -0.0000488,
          -0.0000487,
          -0.0000486,
          -0.0000485,
          -0.0000484,
          -0.0000483,
          -0.0000482,
          -0.0000481,
          -0.000048,
          -0.0000479,
          -0.0000478,
          -0.0000477,
          -0.0000476,
          -0.0000475,
          -0.0000474,
          -0.0000473,
          -0.0000472,
          -0.0000471,
          -0.000047,
          -0.0000469,
          -0.0000468,
          -0.0000467,
          -0.0000466,
          -0.0000465,
          -0.0000464,
          -0.0000463,
          -0.0000462,
          -0.0000461,
          -0.000046,
          -0.0000459,
          -0.0000458,
          -0.0000457,
          -0.0000456,
          -0.0000455,
          -0.0000454,
          -0.0000453,
          -0.0000452,
          -0.0000451,
          -0.000045,
          -0.0000449,
          -0.0000448,
          -0.0000447,
          -0.0000446,
          -0.0000445,
          -0.0000444,
          -0.0000443,
          -0.0000442,
          -0.0000441,
          -0.000044,
          -0.0000439,
          -0.0000438,
          -0.0000437,
          -0.0000436,
          -0.0000435,
          -0.0000434,
          -0.0000433,
          -0.0000432,
          -0.0000431,
          -0.000043,
          -0.0000429,
          -0.0000428,
          -0.0000427,
          -0.0000426,
          -0.0000425,
          -0.0000424,
          -0.0000423,
          -0.0000422,
          -0.0000421,
          -0.000042,
          -0.0000419,
          -0.0000418,
          -0.0000417,
          -0.0000416,
          -0.0000415,
          -0.0000414,
          -0.0000413,
          -0.0000412,
          -0.0000411,
          -0.000041,
          -0.0000409,
          -0.0000408,
          -0.0000407,
          -0.0000406,
          -0.0000405,
          -0.0000404,
          -0.0000403,
          -0.0000402,
          -0.0000401,
          -0.00004,
          -0.0000399,
          -0.0000398,
          -0.0000397,
          -0.0000396,
          -0.0000395,
          -0.0000394,
          -0.0000393,
          -0.0000392,
          -0.0000391,
          -0.000039,
          -0.0000389,
          -0.0000388,
          -0.0000387,
          -0.0000386,
          -0.0000385,
          -0.0000384,
          -0.0000383,
          -0.0000382,
          -0.0000381,
          -0.000038,
          -0.0000379,
          -0.0000378,
          -0.0000377,
          -0.0000376,
          -0.0000375,
          -0.0000374,
          -0.0000373,
          -0.0000372,
          -0.0000371,
          -0.000037,
          -0.0000369,
          -0.0000368,
          -0.0000367,
          -0.0000366,
          -0.0000365,
          -0.0000364,
          -0.0000363,
          -0.0000362,
          -0.0000361,
          -0.000036,
          -0.0000359,
          -0.0000358,
          -0.0000357,
          -0.0000356,
          -0.0000355,
          -0.0000354,
          -0.0000353,
          -0.0000352,
          -0.0000351,
          -0.000035,
          -0.0000349,
          -0.0000348,
          -0.0000347,
          -0.0000346,
          -0.0000345,
          -0.0000344,
          -0.0000343,
          -0.0000342,
          -0.0000341,
          -0.000034,
          -0.0000339,
          -0.0000338,
          -0.0000337,
          -0.0000336,
          -0.0000335,
          -0.0000334,
          -0.0000333,
          -0.0000332,
          -0.0000331,
          -0.000033,
          -0.0000329,
          -0.0000328,
          -0.0000327,
          -0.0000326,
          -0.0000325,
          -0.0000324,
          -0.0000323,
          -0.0000322,
          -0.0000321,
          -0.000032,
          -0.0000319,
          -0.0000318,
          -0.0000317,
          -0.0000316,
          -0.0000315,
          -0.0000314,
          -0.0000313,
          -0.0000312,
          -0.0000311,
          -0.000031,
          -0.0000309,
          -0.0000308,
          -0.0000307,
          -0.0000306,
          -0.0000305,
          -0.0000304,
          -0.0000303,
          -0.0000302,
          -0.0000301,
          -0.00003,
          -0.0000299,
          -0.0000298,
          -0.0000297,
          -0.0000296,
          -0.0000295,
          -0.0000294,
          -0.0000293,
          -0.0000292,
          -0.0000291,
          -0.000029,
          -0.0000289,
          -0.0000288,
          -0.0000287,
          -0.0000286,
          -0.0000285,
          -0.0000284,
          -0.0000283,
          -0.0000282,
          -0.0000281,
          -0.000028,
          -0.0000279,
          -0.0000278,
          -0.0000277,
          -0.0000276,
          -0.0000275,
          -0.0000274,
          -0.0000273,
          -0.0000272,
          -0.0000271,
          -0.000027,
          -0.0000269,
          -0.0000268,
          -0.0000267,
          -0.0000266,
          -0.0000265,
          -0.0000264,
          -0.0000263,
          -0.0000262,
          -0.0000261,
          -0.000026,
          -0.0000259,
          -0.0000258,
          -0.0000257,
          -0.0000256,
          -0.0000255,
          -0.0000254,
          -0.0000253,
          -0.0000252,
          -0.0000251,
          -0.000025,
          -0.0000249,
          -0.0000248,
          -0.0000247,
          -0.0000246,
          -0.0000245,
          -0.0000244,
          -0.0000243,
          -0.0000242,
          -0.0000241,
          -0.000024,
          -0.0000239,
          -0.0000238,
          -0.0000237,
          -0.0000236,
          -0.0000235,
          -0.0000234,
          -0.0000233,
          -0.0000232,
          -0.0000231,
          -0.000023,
          -0.0000229,
          -0.0000228,
          -0.0000227,
          -0.0000226,
          -0.0000225,
          -0.0000224,
          -0.0000223,
          -0.0000222,
          -0.0000221,
          -0.000022,
          -0.0000219,
          -0.0000218,
          -0.0000217,
          -0.0000216,
          -0.0000215,
          -0.0000214,
          -0.0000213,
          -0.0000212,
          -0.0000211,
          -0.000021,
          -0.0000209,
          -0.0000208,
          -0.0000207,
          -0.0000206,
          -0.0000205,
          -0.0000204,
          -0.0000203,
          -0.0000202,
          -0.0000201,
          -0.00002,
          -0.0000199,
          -0.0000198,
          -0.0000197,
          -0.0000196,
          -0.0000195,
          -0.0000194,
          -0.0000193,
          -0.0000192,
          -0.0000191,
          -0.000019,
          -0.0000189,
          -0.0000188,
          -0.0000187,
          -0.0000186,
          -0.0000185,
          -0.0000184,
          -0.0000183,
          -0.0000182,
          -0.0000181,
          -0.000018,
          -0.0000179,
          -0.0000178,
          -0.0000177,
          -0.0000176,
          -0.0000175,
          -0.0000174,
          -0.0000173,
          -0.0000172,
          -0.0000171,
          -0.000017,
          -0.0000169,
          -0.0000168,
          -0.0000167,
          -0.0000166,
          -0.0000165,
          -0.0000164,
          -0.0000163,
          -0.0000162,
          -0.0000161,
          -0.000016,
          -0.0000159,
          -0.0000158,
          -0.0000157,
          -0.0000156,
          -0.0000155,
          -0.0000154,
          -0.0000153,
          -0.0000152,
          -0.0000151,
          -0.000015,
          -0.0000149,
          -0.0000148,
          -0.0000147,
          -0.0000146,
          -0.0000145,
          -0.0000144,
          -0.0000143,
          -0.0000142,
          -0.0000141,
          -0.000014,
          -0.0000139,
          -0.0000138,
          -0.0000137,
          -0.0000136,
          -0.0000135,
          -0.0000134,
          -0.0000133,
          -0.0000132,
          -0.0000131,
          -0.000013,
          -0.0000129,
          -0.0000128,
          -0.0000127,
          -0.0000126,
          -0.0000125,
          -0.0000124,
          -0.0000123,
          -0.0000122,
          -0.0000121,
          -0.000012,
          -0.0000119,
          -0.0000118,
          -0.0000117,
          -0.0000116,
          -0.0000115,
          -0.0000114,
          -0.0000113,
          -0.0000112,
          -0.0000111,
          -0.000011,
          -0.0000109,
          -0.0000108,
          -0.0000107,
          -0.0000106,
          -0.0000105,
          -0.0000104,
          -0.0000103,
          -0.0000102,
          -0.0000101,
          -0.00001,
          -0.0000099,
          -0.0000098,
          -0.0000097,
          -0.0000096,
          -0.0000095,
          -0.0000094,
          -0.0000093,
          -0.0000092,
          -0.0000091,
          -0.000009,
          -0.0000089,
          -0.0000088,
          -0.0000087,
          -0.0000086,
          -0.0000085,
          -0.0000084,
          -0.0000083,
          -0.0000082,
          -0.0000081,
          -0.000008,
          -0.0000079,
          -0.0000078,
          -0.0000077,
          -0.0000076,
          -0.0000075,
          -0.0000074,
          -0.0000073,
          -0.0000072,
          -0.0000071,
          -0.000007,
          -0.0000069,
          -0.0000068,
          -0.0000067,
          -0.0000066,
          -0.0000065,
          -0.0000064,
          -0.0000063,
          -0.0000062,
          -0.0000061,
          -0.000006,
          -0.0000059,
          -0.0000058,
          -0.0000057,
          -0.0000056,
          -0.0000055,
          -0.0000054,
          -0.0000053,
          -0.0000052,
          -0.00000509999999999999,
          -0.000005,
          -0.0000049,
          -0.0000048,
          -0.0000047,
          -0.0000046,
          -0.0000045,
          -0.0000044,
          -0.0000043,
          -0.0000042,
          -0.0000041,
          -0.000004,
          -0.0000039,
          -0.0000038,
          -0.00000369999999999999,
          -0.0000036,
          -0.0000035,
          -0.0000034,
          -0.0000033,
          -0.0000032,
          -0.0000031,
          -0.000003,
          -0.0000029,
          -0.0000028,
          -0.0000027,
          -0.0000026,
          -0.0000025,
          -0.0000024,
          -0.00000229999999999999,
          -0.0000022,
          -0.0000021,
          -0.000002,
          -0.0000019,
          -0.0000018,
          -0.0000017,
          -0.0000016,
          -0.0000015,
          -0.0000014,
          -0.0000013,
          -0.0000012,
          -0.0000011,
          -9.99999999999997e-7,
          -8.99999999999995e-7,
          -7.99999999999999e-7,
          -6.99999999999997e-7,
          -6.00000000000001e-7,
          -4.99999999999999e-7,
          -3.99999999999996e-7,
          -3.00000000000001e-7,
          -1.99999999999998e-7,
          -9.99999999999957e-8,
          0,
          1.00000000000002e-7,
          2.00000000000005e-7,
          3.00000000000001e-7,
          4.00000000000003e-7,
          5.00000000000005e-7,
          6.00000000000001e-7,
          7.00000000000004e-7,
          7.99999999999999e-7,
          9.00000000000001e-7,
          0.000001,
          0.0000011,
          0.0000012,
          0.0000013,
          0.0000014,
          0.0000015,
          0.0000016,
          0.0000017,
          0.0000018,
          0.0000019,
          0.000002,
          0.0000021,
          0.0000022,
          0.0000023,
          0.0000024,
          0.0000025,
          0.0000026,
          0.0000027,
          0.0000028,
          0.0000029,
          0.00000300000000000001,
          0.0000031,
          0.0000032,
          0.0000033,
          0.0000034,
          0.0000035,
          0.0000036,
          0.0000037,
          0.0000038,
          0.0000039,
          0.000004,
          0.00000410000000000001,
          0.0000042,
          0.0000043,
          0.00000440000000000001,
          0.0000045,
          0.0000046,
          0.0000047,
          0.0000048,
          0.0000049,
          0.000005,
          0.0000051,
          0.0000052,
          0.0000053,
          0.0000054,
          0.00000550000000000001,
          0.0000056,
          0.0000057,
          0.00000580000000000001,
          0.0000059,
          0.000006,
          0.0000061,
          0.0000062,
          0.0000063,
          0.0000064,
          0.0000065,
          0.00000660000000000001,
          0.0000067,
          0.0000068,
          0.00000690000000000001,
          0.000007,
          0.0000071,
          0.00000720000000000001,
          0.0000073,
          0.0000074,
          0.0000075,
          0.0000076,
          0.0000077,
          0.0000078,
          0.0000079,
          0.00000800000000000001,
          0.0000081,
          0.0000082,
          0.0000083,
          0.0000084,
          0.0000085,
          0.00000860000000000001,
          0.0000087,
          0.0000088,
          0.0000089,
          0.000009,
          0.0000091,
          0.0000092,
          0.0000093,
          0.00000940000000000001,
          0.0000095,
          0.00000960000000000001,
          0.00000970000000000001,
          0.0000098,
          0.0000099,
          0.00001,
          0.0000101,
          0.0000102,
          0.0000103,
          0.0000104,
          0.0000105,
          0.0000106,
          0.0000107,
          0.0000108,
          0.0000109,
          0.000011,
          0.0000111,
          0.0000112,
          0.0000113,
          0.0000114,
          0.0000115,
          0.0000116,
          0.0000117,
          0.0000118,
          0.0000119,
          0.000012,
          0.0000121,
          0.0000122,
          0.0000123,
          0.0000124,
          0.0000125,
          0.0000126,
          0.0000127,
          0.0000128,
          0.0000129,
          0.000013,
          0.0000131,
          0.0000132,
          0.0000133,
          0.0000134,
          0.0000135,
          0.0000136,
          0.0000137,
          0.0000138,
          0.0000139,
          0.000014,
          0.0000141,
          0.0000142,
          0.0000143,
          0.0000144,
          0.0000145,
          0.0000146,
          0.0000147,
          0.0000148,
          0.0000149,
          0.000015,
          0.0000151,
          0.0000152,
          0.0000153,
          0.0000154,
          0.0000155,
          0.0000156,
          0.0000157,
          0.0000158,
          0.0000159,
          0.000016,
          0.0000161,
          0.0000162,
          0.0000163,
          0.0000164,
          0.0000165,
          0.0000166,
          0.0000167,
          0.0000168,
          0.0000169,
          0.000017,
          0.0000171,
          0.0000172,
          0.0000173,
          0.0000174,
          0.0000175,
          0.0000176,
          0.0000177,
          0.0000178,
          0.0000179,
          0.000018,
          0.0000181,
          0.0000182,
          0.0000183,
          0.0000184,
          0.0000185,
          0.0000186,
          0.0000187,
          0.0000188,
          0.0000189,
          0.000019,
          0.0000191,
          0.0000192,
          0.0000193,
          0.0000194,
          0.0000195,
          0.0000196,
          0.0000197,
          0.0000198,
          0.0000199,
          0.00002,
          0.0000201,
          0.0000202,
          0.0000203,
          0.0000204,
          0.0000205,
          0.0000206,
          0.0000207,
          0.0000208,
          0.0000209,
          0.000021,
          0.0000211,
          0.0000212,
          0.0000213,
          0.0000214,
          0.0000215,
          0.0000216,
          0.0000217,
          0.0000218,
          0.0000219,
          0.000022,
          0.0000221,
          0.0000222,
          0.0000223,
          0.0000224,
          0.0000225,
          0.0000226,
          0.0000227,
          0.0000228,
          0.0000229,
          0.000023,
          0.0000231,
          0.0000232,
          0.0000233,
          0.0000234,
          0.0000235,
          0.0000236,
          0.0000237,
          0.0000238,
          0.0000239,
          0.000024,
          0.0000241,
          0.0000242,
          0.0000243,
          0.0000244,
          0.0000245,
          0.0000246,
          0.0000247,
          0.0000248,
          0.0000249,
          0.000025,
          0.0000251,
          0.0000252,
          0.0000253,
          0.0000254,
          0.0000255,
          0.0000256,
          0.0000257,
          0.0000258,
          0.0000259,
          0.000026,
          0.0000261,
          0.0000262,
          0.0000263,
          0.0000264,
          0.0000265,
          0.0000266,
          0.0000267,
          0.0000268,
          0.0000269,
          0.000027,
          0.0000271,
          0.0000272,
          0.0000273,
          0.0000274,
          0.0000275,
          0.0000276,
          0.0000277,
          0.0000278,
          0.0000279,
          0.000028,
          0.0000281,
          0.0000282,
          0.0000283,
          0.0000284,
          0.0000285,
          0.0000286,
          0.0000287,
          0.0000288,
          0.0000289,
          0.000029,
          0.0000291,
          0.0000292,
          0.0000293,
          0.0000294,
          0.0000295,
          0.0000296,
          0.0000297,
          0.0000298,
          0.0000299,
          0.00003,
          0.0000301,
          0.0000302,
          0.0000303,
          0.0000304,
          0.0000305,
          0.0000306,
          0.0000307,
          0.0000308,
          0.0000309,
          0.000031,
          0.0000311,
          0.0000312,
          0.0000313,
          0.0000314,
          0.0000315,
          0.0000316,
          0.0000317,
          0.0000318,
          0.0000319,
          0.000032,
          0.0000321,
          0.0000322,
          0.0000323,
          0.0000324,
          0.0000325,
          0.0000326,
          0.0000327,
          0.0000328,
          0.0000329,
          0.000033,
          0.0000331,
          0.0000332,
          0.0000333,
          0.0000334,
          0.0000335,
          0.0000336,
          0.0000337,
          0.0000338,
          0.0000339,
          0.000034,
          0.0000341,
          0.0000342,
          0.0000343,
          0.0000344,
          0.0000345,
          0.0000346,
          0.0000347,
          0.0000348,
          0.0000349,
          0.000035,
          0.0000351,
          0.0000352,
          0.0000353,
          0.0000354,
          0.0000355,
          0.0000356,
          0.0000357,
          0.0000358,
          0.0000359,
          0.000036,
          0.0000361,
          0.0000362,
          0.0000363,
          0.0000364,
          0.0000365,
          0.0000366,
          0.0000367,
          0.0000368,
          0.0000369,
          0.000037,
          0.0000371,
          0.0000372,
          0.0000373,
          0.0000374,
          0.0000375,
          0.0000376,
          0.0000377,
          0.0000378,
          0.0000379,
          0.000038,
          0.0000381,
          0.0000382,
          0.0000383,
          0.0000384,
          0.0000385,
          0.0000386,
          0.0000387,
          0.0000388,
          0.0000389,
          0.000039,
          0.0000391,
          0.0000392,
          0.0000393,
          0.0000394,
          0.0000395,
          0.0000396,
          0.0000397,
          0.0000398,
          0.0000399,
          0.00004,
          0.0000401,
          0.0000402,
          0.0000403,
          0.0000404,
          0.0000405,
          0.0000406,
          0.0000407,
          0.0000408,
          0.0000409,
          0.000041,
          0.0000411,
          0.0000412,
          0.0000413,
          0.0000414,
          0.0000415,
          0.0000416,
          0.0000417,
          0.0000418,
          0.0000419,
          0.000042,
          0.0000421,
          0.0000422,
          0.0000423,
          0.0000424,
          0.0000425,
          0.0000426,
          0.0000427,
          0.0000428,
          0.0000429,
          0.000043,
          0.0000431,
          0.0000432,
          0.0000433,
          0.0000434,
          0.0000435,
          0.0000436,
          0.0000437,
          0.0000438,
          0.0000439,
          0.000044,
          0.0000441,
          0.0000442,
          0.0000443,
          0.0000444,
          0.0000445,
          0.0000446,
          0.0000447,
          0.0000448,
          0.0000449,
          0.000045,
          0.0000451,
          0.0000452,
          0.0000453,
          0.0000454,
          0.0000455,
          0.0000456,
          0.0000457,
          0.0000458,
          0.0000459,
          0.000046,
          0.0000461,
          0.0000462,
          0.0000463,
          0.0000464,
          0.0000465,
          0.0000466,
          0.0000467,
          0.0000468,
          0.0000469,
          0.000047,
          0.0000471,
          0.0000472,
          0.0000473,
          0.0000474,
          0.0000475,
          0.0000476,
          0.0000477,
          0.0000478,
          0.0000479,
          0.000048,
          0.0000481,
          0.0000482,
          0.0000483,
          0.0000484,
          0.0000485,
          0.0000486,
          0.0000487,
          0.0000488,
          0.0000489,
          0.000049,
          0.0000491,
          0.0000492,
          0.0000493,
          0.0000494,
          0.0000495,
          0.0000496,
          0.0000497,
          0.0000498,
          0.0000499,
          0.00005
         ],
         "y": [
          126.64999999999613,
          17.600999999999473,
          17.438000000001455,
          18.935999999999318,
          19.302999999999777,
          17.84200000000046,
          19.647999999999236,
          17.607000000000543,
          19.919999999999828,
          18.58799999999992,
          17.808000000000792,
          19.820999999999678,
          18.486999999999092,
          17.165000000000504,
          18.878000000000142,
          19.476999999999475,
          18.97100000000061,
          18.185999999999456,
          19.959000000000113,
          16.61899999999969,
          20.59600000000048,
          17.483000000000537,
          19.311999999999593,
          19.51699999999902,
          17.355000000001336,
          18.632999999999,
          19.361000000000036,
          19.585000000000765,
          17.336999999999442,
          19.151999999999244,
          20.16000000000063,
          17.794999999999487,
          17.989000000000587,
          19.876000000000264,
          19.320999999999408,
          16.90600000000108,
          19.04999999999916,
          20.05499999999924,
          17.675000000000967,
          18.37399999999959,
          20.163999999999543,
          19.135000000001252,
          17.65999999999899,
          19.827999999999896,
          18.76500000000083,
          17.768999999999295,
          18.561000000000643,
          19.08999999999979,
          17.84199999999925,
          19.446000000001064,
          19.514000000000166,
          17.715999999999656,
          20.990000000000723,
          18.114999999999096,
          18.369000000000053,
          20.425000000001017,
          18.197999999999208,
          17.797999999999426,
          19.592000000000986,
          17.99599999999972,
          19.814000000000803,
          20.324999999999147,
          17.422999999999494,
          19.89600000000058,
          18.269999999999907,
          18.535999999999536,
          19.610000000000618,
          18.21700000000027,
          18.202999999998745,
          19.86200000000091,
          18.460999999999984,
          18.11399999999984,
          20.137000000000373,
          19.272000000000048,
          18.839000000000045,
          19.299999999999837,
          18.490000000000112,
          17.749000000000184,
          19.509999999999888,
          19.761999999999077,
          18.309000000001436,
          19.269999999999367,
          17.871999999999723,
          18.65200000000024,
          19.33999999999938,
          20.405000000000403,
          18.605000000000473,
          18.421999999999695,
          18.519000000000414,
          19.502999999999666,
          19.830999999999836,
          17.972000000000342,
          19.539999999999274,
          18.334000000000046,
          18.336000000000887,
          19.772999999999577,
          17.859999999998884,
          18.541000000001414,
          19.631999999999202,
          20.185000000000482,
          16.812000000000406,
          20.541999999999412,
          18.02500000000107,
          18.951999999999355,
          19.895999999999233,
          17.6950000000002,
          19.4060000000002,
          19.34199999999898,
          19.008000000001307,
          18.243999999999716,
          20.357999999999556,
          16.6760000000007,
          20.46499999999918,
          17.95700000000065,
          19.43299999999965,
          19.730999999999348,
          17.451000000000466,
          19.213999999999785,
          18.61100000000017,
          19.828000000000156,
          18.847000000000413,
          17.802999999998963,
          19.330000000000535,
          17.38899999999983,
          20.418999999999755,
          19.484000000001014,
          17.268999999999025,
          18.405000000000566,
          19.3469999999996,
          19.365999999999573,
          18.377000000000777,
          19.992999999999782,
          16.658999999999192,
          19.199000000001394,
          18.88299999999968,
          19.511999999999485,
          17.888000000000968,
          18.935999999999318,
          19.779000000000792,
          18.126999999999935,
          19.182999999998973,
          18.192000000000565,
          19.79199999999955,
          18.26400000000003,
          19.265000000001134,
          18.239999999999437,
          19.742999999999103,
          18.827000000001377,
          17.75999999999948,
          19.817999999998655,
          17.49300000000178,
          19.99199999999944,
          18.289000000000037,
          19.53099999999946,
          18.042999999999484,
          19.017000000001122,
          17.873000000000065,
          20.652999999999317,
          17.145000000000188,
          20.838999999999853,
          18.598000000000077,
          18.144000000000457,
          19.535999999998992,
          19.24100000000032,
          18.200000000000042,
          17.934000000000264,
          19.228000000000442,
          17.80999999999918,
          19.730000000000093,
          17.76500000000022,
          18.64099999999956,
          20.573999999999483,
          18.29600000000134,
          18.714999999999858,
          19.753999999999603,
          18.482000000000806,
          17.57699999999888,
          19.600000000000218,
          17.912000000000482,
          20.341999999999523,
          17.19400000000064,
          19.554999999998966,
          17.992000000000523,
          21.523000000000355,
          16.91900000000003,
          18.61499999999937,
          19.27300000000061,
          18.913999999999408,
          16.582000000000043,
          20.194000000000297,
          18.488999999999773,
          19.111000000000654,
          17.859999999999967,
          19.16999999999888,
          19.092000000001118,
          19.39400000000002,
          18.64199999999945,
          17.88199999999988,
          20.351000000000028,
          17.66600000000055,
          19.44299999999981,
          19.315000000000186,
          18.740999999999598,
          17.941000000000006,
          17.960000000000456,
          20.50400000000016,
          18.402000000000005,
          18.152000000000402,
          18.000999999999255,
          18.71100000000021,
          19.773999999999504,
          17.7650000000001,
          19.857999999999958,
          19.17500000000015,
          17.427000000000366,
          19.00399999999974,
          20.021999999999505,
          18.602000000000988,
          19.490999999998827,
          17.012000000000874,
          18.965999999999347,
          19.771000000000647,
          18.163999999999543,
          19.27700000000024,
          17.5559999999999,
          18.058000000000263,
          20.41200000000023,
          17.98699999999943,
          19.809000000000594,
          17.983999999998883,
          18.124000000000613,
          19.60600000000076,
          18.042999999999484,
          19.23900000000029,
          18.36899999999959,
          18.98200000000047,
          19.13499999999887,
          19.084000000000557,
          17.9660000000004,
          19.386999999999144,
          18.908000000000172,
          18.691000000000436,
          18.01900000000004,
          19.061999999999458,
          20.28700000000043,
          19.03599999999991,
          16.725000000000012,
          19.048000000000208,
          18.558999999999877,
          19.648000000000444,
          18.000999999999255,
          19.183000000000167,
          18.824000000000257,
          18.758000000000518,
          18.51699999999902,
          19.897000000000247,
          17.026000000000227,
          19.974999999999607,
          19.57000000000041,
          17.95900000000018,
          18.64499999999993,
          18.833999999999776,
          19.224999999999852,
          17.552000000000167,
          20.689999999999465,
          17.293000000000205,
          19.280000000000175,
          19.198000000000402,
          18.291999999999277,
          18.753000000000437,
          18.916999999999987,
          18.85299999999975,
          19.09799999999991,
          19.024000000000154,
          17.952000000000503,
          19.820999999999678,
          18.399000000000065,
          18.05900000000013,
          18.771999999999235,
          18.71700000000063,
          18.67499999999986,
          18.44600000000037,
          20.02799999999925,
          18.209000000000326,
          19.407000000000117,
          17.6929999999994,
          18.693000000000577,
          20.237000000000183,
          16.49500000000021,
          20.008999999999276,
          18.32200000000037,
          18.67499999999986,
          19.622999999999927,
          19.485000000000152,
          17.01000000000019,
          19.965999999999926,
          17.70799999999964,
          20.512000000000178,
          17.385999999999935,
          17.725000000000612,
          20.47399999999954,
          18.86199999999966,
          18.78000000000043,
          18.84699999999933,
          18.272000000000666,
          18.89699999999967,
          18.45600000000053,
          19.299999999999294,
          18.52100000000047,
          19.305000000000028,
          17.25999999999975,
          20.83600000000008,
          17.51100000000028,
          19.076999999999796,
          17.81299999999966,
          20.581000000000397,
          17.523999999999834,
          19.461999999999783,
          17.884000000000082,
          18.731000000000524,
          19.078999999999937,
          18.29299999999962,
          18.937000000000303,
          18.790000000000045,
          19.47399999999954,
          19.744000000000113,
          16.924999999999937,
          19.068000000000524,
          18.847999999999672,
          20.003000000000075,
          17.803000000000107,
          20.11599999999944,
          17.59700000000033,
          18.44799999999997,
          18.182000000000333,
          20.656999999999595,
          16.85799999999986,
          19.0120000000004,
          19.14199999999963,
          19.806000000000115,
          19.06599999999984,
          17.3800000000006,
          20.194999999999272,
          18.437000000000015,
          18.43200000000048,
          18.129999999999946,
          19.832999999999434,
          18.336000000000265,
          18.742999999999963,
          19.338000000000438,
          17.248999999999544,
          18.694000000000376,
          19.15899999999979,
          19.223000000000255,
          19.23999999999976,
          17.45199999999992,
          18.795000000000126,
          19.82999999999983,
          17.70000000000022,
          19.354999999999947,
          18.625000000000156,
          19.51799999999969,
          18.190000000000044,
          19.469999999999917,
          18.821999999999797,
          18.379000000000293,
          20.074999999999893,
          16.962000000000085,
          18.62800000000005,
          19.83599999999971,
          18.42200000000032,
          18.304999999999684,
          20.100000000000357,
          17.781999999999694,
          18.91000000000031,
          18.430999999999823,
          19.59600000000033,
          19.696999999999743,
          18.934999999999842,
          18.3830000000003,
          19.40799999999986,
          18.690000000000097,
          17.650999999999744,
          18.688000000000226,
          19.49799999999992,
          18.211999999999954,
          19.60000000000007,
          18.35499999999993,
          18.131000000000018,
          19.082000000000093,
          19.566000000000127,
          19.05299999999969,
          17.55,
          19.425000000000292,
          18.90599999999971,
          18.073000000000295,
          20.617999999999657,
          17.592000000000255,
          19.322999999999876,
          18.105000000000096,
          19.228999999999807,
          18.71700000000004,
          19.096000000000043,
          18.822000000000067,
          18.768000000000132,
          18.961999999999833,
          17.758000000000212,
          19.018999999999753,
          20.13999999999983,
          18.148000000000124,
          19.453000000000024,
          18.861000000000136,
          18.895999999999823,
          17.838000000000118,
          19.546999999999823,
          18.87899999999999,
          18.899000000000083,
          17.252000000000027,
          21.072000000000056,
          18.059999999999896,
          18.003000000000277,
          18.800999999999682,
          19.777000000000253,
          17.42299999999979,
          19.212000000000135,
          18.452000000000094,
          19.050999999999984,
          19.325999999999816,
          18.26900000000003,
          17.76299999999987,
          20.297000000000143,
          18.40699999999993,
          19.136000000000102,
          18.746000000000063,
          19.436999999999856,
          19.352000000000036,
          18.308999999999983,
          18.81500000000001,
          16.717000000000013,
          21.258000000000017,
          18.686000000000064,
          18.009000000000004,
          18.788999999999927,
          18.467999999999993,
          18.514399999999988,
          20.38230000000001,
          18.223899999999993,
          17.667000000000066,
          19.49249999999799,
          19.651100000002085,
          18.223099999999782,
          19.193400000000054,
          18.483499999999992,
          18.01370000000006,
          18.438699999999976,
          19.004300000000107,
          19.13199999999996,
          19.201799999999935,
          17.319300000000002,
          20.00779999999997,
          18.560400000000087,
          18.16859999999992,
          18.77559999999819,
          19.39860000000193,
          18.905799999999992,
          19.00020000000002,
          18.390000000000025,
          18.69119999999994,
          19.586100000000012,
          18.26010000000002,
          19.184900000000003,
          18.179899999999954,
          19.63170000000002,
          17.381199999999993,
          19.05900000000007,
          17.571099999999923,
          20.402299999997982,
          18.48940000000188,
          18.632199999999948,
          18.051800000000014,
          19.032200000000024,
          17.71569999999998,
          18.84089999999999,
          18.106599999999982,
          18.62400000000003,
          18.235599999999994,
          19.387600000000017,
          17.94029999999997,
          19.36500000000003,
          18.377499999999433,
          18.283399999999634,
          17.072300000000688,
          19.355629999999604,
          18.384340000000748,
          16.327379999999675,
          81.48490999999756,
          0.6423400000000303,
          -0.3029399999999888,
          -0.2580699999999963,
          0.10236000000000507,
          -0.6074799999999854,
          -0.1223499999999961,
          0.9688100000000386,
          -1.258609999999978,
          -0.026679999999999027,
          0.8534800000000367,
          -0.754719999999978,
          0.5384900000000236,
          -0.07256999999999639,
          -1.1386600000000142,
          0.7752500000000008,
          -0.37721999999999883,
          0.537899999999999,
          -0.6615700000000025,
          265.17047999999977,
          19.300200000000036,
          19.842399999999945,
          18.789500000000054,
          18.170199999999927,
          18.01480000000007,
          17.765299999999964,
          20.729599999999962,
          17.222300000000057,
          18.419900000000016,
          20.01809999999993,
          17.12999999999997,
          18.956100000000056,
          20.013799999999982,
          18.352899999999995,
          18.309699999998248,
          18.420400000001777,
          20.273000000000025,
          17.08269999999991,
          19.925300000000025,
          19.58440000000003,
          17.861499999999985,
          19.729699999999948,
          18.417000000000083,
          19.954600000000042,
          17.490300000000037,
          19.34979999999805,
          18.318700000001847,
          18.399699999999804,
          19.865199999998005,
          17.61070000000185,
          19.531200000000105,
          20.25889999999992,
          16.496300000000026,
          20.18550000000007,
          18.997199999999854,
          16.73409999999999,
          19.940399999999997,
          19.19710000000004,
          18.765000000000036,
          18.554999999998095,
          17.986000000001848,
          19.240000000000062,
          19.174999999998036,
          19.15400000000179,
          19.539000000000108,
          18.585000000000047,
          16.79699999999992,
          19.974000000000043,
          19.211000000000066,
          18.758000000000088,
          17.36799999999812,
          19.85600000000204,
          19.277999999999874,
          19.67099999999799,
          16.71800000000165,
          20.230000000000064,
          18.268999999998176,
          18.790000000001907,
          19.525000000000077,
          17.875999999999916,
          19.587999999999877,
          18.17500000000008,
          18.070000000000086,
          19.846999999999937,
          18.494999999998125,
          18.435000000001708,
          19.216000000000307,
          19.80299999999984,
          18.143000000000313,
          18.526999999999763,
          19.338999999997945,
          18.12700000000185,
          18.396999999999885,
          19.11600000000036,
          18.770999999999752,
          18.7520000000001,
          19.047999999999885,
          18.916999999999938,
          19.182999999998216,
          18.976000000001928,
          17.265999999998186,
          19.612999999999833,
          18.067000000002256,
          19.34299999999965,
          19.628999999999866,
          17.398000000000234,
          19.938999999999865,
          17.921000000000234,
          19.086999999999904,
          19.061000000000032,
          18.78099999999991,
          19.741000000000174,
          17.98599999999987,
          17.719999999999963,
          19.732000000000088,
          19.825999999999823,
          17.090000000000096,
          19.961000000000052,
          18.24900000000014,
          17.893999999999938,
          19.977999999999614,
          17.336000000000233,
          19.93299999999999,
          20.039000000000154,
          16.40099999999986,
          19.933000000000057,
          18.645999999999955,
          17.85699999999979,
          20.57600000000032,
          17.660999999999902,
          18.48500000000012,
          19.666999999999813,
          19.26700000000008,
          17.196999999999974,
          18.207000000000185,
          20.974999999999962,
          18.078999999999596,
          18.788000000000448,
          17.344999999999754,
          19.00800000000012,
          18.853999999999868,
          19.877000000000475,
          18.91599999999987,
          18.65499999999977,
          18.31899999999989,
          18.149000000000157,
          19.84999999999994,
          18.486999999999945,
          18.94800000000026,
          17.82799999999966,
          20.352999999999824,
          17.426000000000567,
          19.011999999999535,
          19.8590000000003,
          18.306999999999825,
          17.73800000000017,
          20.35499999999996,
          17.582999999999895,
          19.541999999999955,
          18.87999999999984,
          19.046000000000067,
          18.71700000000063,
          18.950999999999556,
          17.928999999999707,
          18.61100000000026,
          18.506000000000235,
          18.488999999999773,
          18.08900000000006,
          19.978000000000222,
          18.10499999999948,
          18.473000000000365,
          19.903000000000127,
          17.7680000000001,
          18.55299999999937,
          18.61800000000048,
          19.132000000000122,
          20.207999999999366,
          17.843000000000195,
          19.53300000000026,
          17.756000000000345,
          18.041999999999142,
          20.285000000000288,
          17.64000000000036,
          18.180999999999376,
          19.30300000000043,
          19.415000000000134,
          17.778000000000258,
          20.043999999999283,
          18.351000000000504,
          19.09499999999997,
          17.190999999999534,
          18.32200000000037,
          18.79899999999986,
          20.124000000000137,
          18.272999999999847,
          19.474000000000196,
          18.003000000000007,
          18.96299999999985,
          17.733999999999888,
          18.753000000000437,
          18.941999999999837,
          19.573999999999483,
          18.872000000000362,
          17.59899999999993,
          18.73499999999963,
          19.47100000000026,
          17.450000000000077,
          20.44600000000044,
          17.518999999999703,
          18.329999999999846,
          18.902000000000292,
          18.891000000000336,
          20.425999999999433,
          17.418999999999805,
          19.79200000000022,
          19.192999999999675,
          17.824000000000222,
          18.598999999999965,
          19.442000000000668,
          17.28999999999914,
          19.29800000000035,
          19.111000000000008,
          18.58799999999992,
          18.2910000000001,
          17.951000000000164,
          19.930999999999916,
          17.572999999999684,
          19.090000000000437,
          18.921000000000266,
          17.506999999999405,
          20.175000000000182,
          17.967000000000198,
          18.48599999999992,
          19.312999999999935,
          18.561000000000014,
          17.868999999999847,
          20.08399999999991,
          17.14300000000001,
          20.417000000000307,
          17.283000000000047,
          20.13899999999969,
          17.30499999999996,
          18.690000000000097,
          19.296999999999898,
          17.523000000000035,
          18.752999999999897,
          19.82100000000035,
          16.978999999999346,
          20.624000000000425,
          19.59500000000026,
          16.84599999999953,
          18.71900000000023,
          19.27100000000036,
          19.50100000000019,
          17.60799999999915,
          18.0910000000002,
          18.80500000000028,
          19.75900000000035,
          17.392999999999564,
          18.959000000000216,
          19.472000000000058,
          17.847999999999672,
          19.490000000000233,
          19.647999999999904,
          16.523,
          20.926000000000247,
          18.21299999999952,
          18.43000000000088,
          17.89499999999889,
          18.730000000000185,
          19.637000000000487,
          17.847000000000477,
          17.893999999999636,
          20.095999999999805,
          17.442000000000057,
          20.035999999999266,
          18.466000000000147,
          18.302000000000596,
          18.816000000000237,
          17.272999999999303,
          19.509000000000206,
          17.908999999999935,
          20.53699999999988,
          17.548000000000428,
          20.170000000000105,
          18.559000000000417,
          17.299999999998754,
          18.755000000000038,
          19.46700000000106,
          18.825999999998675,
          18.6260000000005,
          17.946999999999882,
          18.39300000000019,
          19.26900000000011,
          17.80200000000031,
          19.344999999999573,
          17.956000000000177,
          18.41399999999976,
          20.28399999999995,
          18.776000000000693,
          18.788999999999067,
          17.170000000000545,
          20.199000000000236,
          18.019000000000585,
          18.505999999999066,
          17.777999999999714,
          18.62900000000044,
          18.61400000000011,
          19.62099999999937,
          18.55400000000088,
          17.784999999999933,
          17.98499999999922,
          20.924999999999905,
          17.199000000000176,
          20.19899999999955,
          18.632000000001007,
          17.361999999999295,
          19.16599999999968,
          17.99600000000094,
          19.005000000000077,
          19.152999999999587,
          18.434999999999956,
          18.541000000000157,
          19.324999999999687,
          18.05400000000012,
          19.785000000000416,
          17.343999999999753,
          20.242000000000118,
          17.16799999999928,
          19.57600000000095,
          17.775999999999513,
          18.748999999999523,
          20.01500000000105,
          17.49399999999985,
          18.491999999999713,
          19.146999999999924,
          17.810000000000265,
          18.13799999999935,
          20.321000000001327,
          18.716999999999455,
          17.601000000000667,
          19.236999999998954,
          18.589999999999517,
          18.40700000000125,
          18.664999999999072,
          18.272999999999847,
          18.28700000000044,
          20.21400000000033,
          17.497999999999045,
          19.97800000000144,
          17.738999999998825,
          18.97099999999933,
          17.763000000001707,
          18.23099999999962,
          19.05700000000067,
          18.377999999998785,
          20.329999999999767,
          18.060000000001082,
          19.028999999999588,
          18.17299999999936,
          18.045000000000304,
          18.894000000000176,
          19.04999999999916,
          18.02800000000101,
          18.477999999999273,
          18.40499999999932,
          20.400000000001164,
          17.555999999999308,
          18.902000000000932,
          17.38299999999995,
          20.277999999999384,
          17.421000000001076,
          19.443999999999065,
          17.23700000000004,
          19.690000000000797,
          19.218999999999323,
          18.570999999999543,
          18.669000000000615,
          17.46099999999944,
          18.645000000001104,
          18.690999999999264,
          17.986999999999902,
          20.796000000000696,
          17.334999999999845,
          18.801999999999165,
          19.202000000001334,
          17.83499999999903,
          19.32400000000043,
          19.075000000000305,
          17.915999999999546,
          17.514000000000166,
          19.141000000000044,
          19.61900000000019,
          17.041000000000498,
          18.510999999999687,
          20.422999999998954,
          18.498000000000843,
          18.40199999999938,
          18.66599999999941,
          17.512000000001755,
          20.030999999998645,
          19.047000000000306,
          16.918000000000834,
          19.411999999998997,
          19.429999999999712,
          16.840000000000252,
          19.08299999999957,
          19.57700000000129,
          17.936999999999117,
          18.487000000000176,
          18.083000000000254,
          18.03900000000029,
          20.031999999998984,
          18.259000000000647,
          18.178999999999235,
          17.858999999999625,
          19.532000000001123,
          18.277000000000125,
          19.50200000000065,
          18.67299999999963,
          19.20299999999929,
          18.0580000000004,
          17.951999999999895,
          19.397999999999644,
          19.426000000000748,
          16.70799999999964,
          19.945999999998936,
          19.489000000001635,
          16.81299999999966,
          19.120999999999515,
          19.546000000000475,
          16.891999999999495,
          19.410000000000714,
          17.55799999999999,
          20.197999999999208,
          17.40100000000076,
          20.38200000000015,
          15.973999999998725,
          20.804000000001256,
          17.820999999999678,
          18.4589999999993,
          18.29200000000106,
          19.652999999999857,
          18.79299999999935,
          17.302000000000607,
          19.260999999999548,
          19.346000000000572,
          17.26799999999977,
          20.13699999999901,
          17.58900000000091,
          19.088999999999448,
          18.5920000000002,
          17.36800000000035,
          20.106999999999623,
          18.411999999999537,
          18.423000000001284,
          19.270999999998622,
          19.432000000000393,
          18.1450000000008,
          17.536999999999335,
          19.517000000000344,
          17.366999999999916,
          19.9279999999993,
          17.775000000001462,
          18.113999999998757,
          18.865000000000045,
          19.185000000000954,
          19.04999999999916,
          18.042999999999484,
          17.47000000000044,
          20.211999999999648,
          17.093000000000885,
          18.685999999999726,
          18.90799999999953,
          19.463000000001443,
          18.74999999999878,
          17.46600000000006,
          20.00500000000089,
          18.677999999999166,
          17.588999999999718,
          18.25200000000043,
          18.97000000000007,
          17.60799999999969,
          18.39300000000081,
          18.91899999999894,
          19.670000000001565,
          19.10799999999942,
          18.335999999999643,
          18.605000000000473,
          18.014999999999695,
          19.580999999999158,
          17.576000000000814,
          18.491999999999713,
          19.73199999999969,
          18.24700000000089,
          17.554999999998966,
          17.776999999999855,
          19.077000000000986,
          18.878999999999397,
          19.116000000001275,
          17.80499999999856,
          19.050000000000242,
          18.136000000000983,
          20.045999999999424,
          18.238999999999095,
          null
         ],
         "yaxis": "y2"
        },
        {
         "line": {
          "dash": "dash"
         },
         "mode": "lines",
         "name": "Peak0",
         "type": "scatter",
         "x": [
          -0.0000317,
          -0.0000317
         ],
         "y": [
          -1.258609999999978,
          265.17047999999977
         ],
         "yaxis": "y2"
        },
        {
         "line": {
          "dash": "dash"
         },
         "mode": "lines",
         "name": "Peak1",
         "type": "scatter",
         "x": [
          -4.99999999999999e-7,
          -4.99999999999999e-7
         ],
         "y": [
          -1.258609999999978,
          265.17047999999977
         ],
         "yaxis": "y2"
        },
        {
         "line": {
          "dash": "dash"
         },
         "mode": "lines",
         "name": "I_0",
         "type": "scatter",
         "x": [
          0,
          0
         ],
         "y": [
          -1.258609999999978,
          265.17047999999977
         ],
         "yaxis": "y2"
        },
        {
         "line": {
          "dash": "dash"
         },
         "mode": "lines",
         "name": "Ic",
         "type": "scatter",
         "x": [
          0,
          -4.99999999999999e-7
         ],
         "y": [
          0,
          0
         ]
        },
        {
         "line": {
          "dash": "dash"
         },
         "mode": "lines",
         "name": "Ir",
         "type": "scatter",
         "x": [
          0,
          -0.0000317
         ],
         "y": [
          0,
          0
         ]
        },
        {
         "line": {
          "dash": "dash"
         },
         "mode": "lines",
         "name": "R_fit",
         "type": "scatter",
         "x": [
          -0.00005,
          0.00005
         ],
         "y": [
          -0.0009401538491598739,
          0.0009401538491598739
         ]
        }
       ],
       "layout": {
        "annotations": [
         {
          "align": "right",
          "bgcolor": "#ff7f0e",
          "font": {
           "color": "#ffffff",
           "size": 16
          },
          "opacity": 0.8,
          "showarrow": false,
          "text": "Ic = -0.500µA, Ir = 31.700µA ,IcRn = -9.402 µV",
          "x": 1,
          "xref": "paper",
          "y": 1,
          "yref": "paper"
         }
        ],
        "height": 1000,
        "legend": {
         "orientation": "h",
         "x": 0.5,
         "xanchor": "center",
         "y": 1.03,
         "yanchor": "top"
        },
        "margin": {
         "b": 10,
         "l": 10,
         "r": 10,
         "t": 50
        },
        "template": {
         "data": {
          "bar": [
           {
            "error_x": {
             "color": "#2a3f5f"
            },
            "error_y": {
             "color": "#2a3f5f"
            },
            "marker": {
             "line": {
              "color": "#E5ECF6",
              "width": 0.5
             },
             "pattern": {
              "fillmode": "overlay",
              "size": 10,
              "solidity": 0.2
             }
            },
            "type": "bar"
           }
          ],
          "barpolar": [
           {
            "marker": {
             "line": {
              "color": "#E5ECF6",
              "width": 0.5
             },
             "pattern": {
              "fillmode": "overlay",
              "size": 10,
              "solidity": 0.2
             }
            },
            "type": "barpolar"
           }
          ],
          "carpet": [
           {
            "aaxis": {
             "endlinecolor": "#2a3f5f",
             "gridcolor": "white",
             "linecolor": "white",
             "minorgridcolor": "white",
             "startlinecolor": "#2a3f5f"
            },
            "baxis": {
             "endlinecolor": "#2a3f5f",
             "gridcolor": "white",
             "linecolor": "white",
             "minorgridcolor": "white",
             "startlinecolor": "#2a3f5f"
            },
            "type": "carpet"
           }
          ],
          "choropleth": [
           {
            "colorbar": {
             "outlinewidth": 0,
             "ticks": ""
            },
            "type": "choropleth"
           }
          ],
          "contour": [
           {
            "colorbar": {
             "outlinewidth": 0,
             "ticks": ""
            },
            "colorscale": [
             [
              0,
              "#0d0887"
             ],
             [
              0.1111111111111111,
              "#46039f"
             ],
             [
              0.2222222222222222,
              "#7201a8"
             ],
             [
              0.3333333333333333,
              "#9c179e"
             ],
             [
              0.4444444444444444,
              "#bd3786"
             ],
             [
              0.5555555555555556,
              "#d8576b"
             ],
             [
              0.6666666666666666,
              "#ed7953"
             ],
             [
              0.7777777777777778,
              "#fb9f3a"
             ],
             [
              0.8888888888888888,
              "#fdca26"
             ],
             [
              1,
              "#f0f921"
             ]
            ],
            "type": "contour"
           }
          ],
          "contourcarpet": [
           {
            "colorbar": {
             "outlinewidth": 0,
             "ticks": ""
            },
            "type": "contourcarpet"
           }
          ],
          "heatmap": [
           {
            "colorbar": {
             "outlinewidth": 0,
             "ticks": ""
            },
            "colorscale": [
             [
              0,
              "#0d0887"
             ],
             [
              0.1111111111111111,
              "#46039f"
             ],
             [
              0.2222222222222222,
              "#7201a8"
             ],
             [
              0.3333333333333333,
              "#9c179e"
             ],
             [
              0.4444444444444444,
              "#bd3786"
             ],
             [
              0.5555555555555556,
              "#d8576b"
             ],
             [
              0.6666666666666666,
              "#ed7953"
             ],
             [
              0.7777777777777778,
              "#fb9f3a"
             ],
             [
              0.8888888888888888,
              "#fdca26"
             ],
             [
              1,
              "#f0f921"
             ]
            ],
            "type": "heatmap"
           }
          ],
          "heatmapgl": [
           {
            "colorbar": {
             "outlinewidth": 0,
             "ticks": ""
            },
            "colorscale": [
             [
              0,
              "#0d0887"
             ],
             [
              0.1111111111111111,
              "#46039f"
             ],
             [
              0.2222222222222222,
              "#7201a8"
             ],
             [
              0.3333333333333333,
              "#9c179e"
             ],
             [
              0.4444444444444444,
              "#bd3786"
             ],
             [
              0.5555555555555556,
              "#d8576b"
             ],
             [
              0.6666666666666666,
              "#ed7953"
             ],
             [
              0.7777777777777778,
              "#fb9f3a"
             ],
             [
              0.8888888888888888,
              "#fdca26"
             ],
             [
              1,
              "#f0f921"
             ]
            ],
            "type": "heatmapgl"
           }
          ],
          "histogram": [
           {
            "marker": {
             "pattern": {
              "fillmode": "overlay",
              "size": 10,
              "solidity": 0.2
             }
            },
            "type": "histogram"
           }
          ],
          "histogram2d": [
           {
            "colorbar": {
             "outlinewidth": 0,
             "ticks": ""
            },
            "colorscale": [
             [
              0,
              "#0d0887"
             ],
             [
              0.1111111111111111,
              "#46039f"
             ],
             [
              0.2222222222222222,
              "#7201a8"
             ],
             [
              0.3333333333333333,
              "#9c179e"
             ],
             [
              0.4444444444444444,
              "#bd3786"
             ],
             [
              0.5555555555555556,
              "#d8576b"
             ],
             [
              0.6666666666666666,
              "#ed7953"
             ],
             [
              0.7777777777777778,
              "#fb9f3a"
             ],
             [
              0.8888888888888888,
              "#fdca26"
             ],
             [
              1,
              "#f0f921"
             ]
            ],
            "type": "histogram2d"
           }
          ],
          "histogram2dcontour": [
           {
            "colorbar": {
             "outlinewidth": 0,
             "ticks": ""
            },
            "colorscale": [
             [
              0,
              "#0d0887"
             ],
             [
              0.1111111111111111,
              "#46039f"
             ],
             [
              0.2222222222222222,
              "#7201a8"
             ],
             [
              0.3333333333333333,
              "#9c179e"
             ],
             [
              0.4444444444444444,
              "#bd3786"
             ],
             [
              0.5555555555555556,
              "#d8576b"
             ],
             [
              0.6666666666666666,
              "#ed7953"
             ],
             [
              0.7777777777777778,
              "#fb9f3a"
             ],
             [
              0.8888888888888888,
              "#fdca26"
             ],
             [
              1,
              "#f0f921"
             ]
            ],
            "type": "histogram2dcontour"
           }
          ],
          "mesh3d": [
           {
            "colorbar": {
             "outlinewidth": 0,
             "ticks": ""
            },
            "type": "mesh3d"
           }
          ],
          "parcoords": [
           {
            "line": {
             "colorbar": {
              "outlinewidth": 0,
              "ticks": ""
             }
            },
            "type": "parcoords"
           }
          ],
          "pie": [
           {
            "automargin": true,
            "type": "pie"
           }
          ],
          "scatter": [
           {
            "fillpattern": {
             "fillmode": "overlay",
             "size": 10,
             "solidity": 0.2
            },
            "type": "scatter"
           }
          ],
          "scatter3d": [
           {
            "line": {
             "colorbar": {
              "outlinewidth": 0,
              "ticks": ""
             }
            },
            "marker": {
             "colorbar": {
              "outlinewidth": 0,
              "ticks": ""
             }
            },
            "type": "scatter3d"
           }
          ],
          "scattercarpet": [
           {
            "marker": {
             "colorbar": {
              "outlinewidth": 0,
              "ticks": ""
             }
            },
            "type": "scattercarpet"
           }
          ],
          "scattergeo": [
           {
            "marker": {
             "colorbar": {
              "outlinewidth": 0,
              "ticks": ""
             }
            },
            "type": "scattergeo"
           }
          ],
          "scattergl": [
           {
            "marker": {
             "colorbar": {
              "outlinewidth": 0,
              "ticks": ""
             }
            },
            "type": "scattergl"
           }
          ],
          "scattermapbox": [
           {
            "marker": {
             "colorbar": {
              "outlinewidth": 0,
              "ticks": ""
             }
            },
            "type": "scattermapbox"
           }
          ],
          "scatterpolar": [
           {
            "marker": {
             "colorbar": {
              "outlinewidth": 0,
              "ticks": ""
             }
            },
            "type": "scatterpolar"
           }
          ],
          "scatterpolargl": [
           {
            "marker": {
             "colorbar": {
              "outlinewidth": 0,
              "ticks": ""
             }
            },
            "type": "scatterpolargl"
           }
          ],
          "scatterternary": [
           {
            "marker": {
             "colorbar": {
              "outlinewidth": 0,
              "ticks": ""
             }
            },
            "type": "scatterternary"
           }
          ],
          "surface": [
           {
            "colorbar": {
             "outlinewidth": 0,
             "ticks": ""
            },
            "colorscale": [
             [
              0,
              "#0d0887"
             ],
             [
              0.1111111111111111,
              "#46039f"
             ],
             [
              0.2222222222222222,
              "#7201a8"
             ],
             [
              0.3333333333333333,
              "#9c179e"
             ],
             [
              0.4444444444444444,
              "#bd3786"
             ],
             [
              0.5555555555555556,
              "#d8576b"
             ],
             [
              0.6666666666666666,
              "#ed7953"
             ],
             [
              0.7777777777777778,
              "#fb9f3a"
             ],
             [
              0.8888888888888888,
              "#fdca26"
             ],
             [
              1,
              "#f0f921"
             ]
            ],
            "type": "surface"
           }
          ],
          "table": [
           {
            "cells": {
             "fill": {
              "color": "#EBF0F8"
             },
             "line": {
              "color": "white"
             }
            },
            "header": {
             "fill": {
              "color": "#C8D4E3"
             },
             "line": {
              "color": "white"
             }
            },
            "type": "table"
           }
          ]
         },
         "layout": {
          "annotationdefaults": {
           "arrowcolor": "#2a3f5f",
           "arrowhead": 0,
           "arrowwidth": 1
          },
          "autotypenumbers": "strict",
          "coloraxis": {
           "colorbar": {
            "outlinewidth": 0,
            "ticks": ""
           }
          },
          "colorscale": {
           "diverging": [
            [
             0,
             "#8e0152"
            ],
            [
             0.1,
             "#c51b7d"
            ],
            [
             0.2,
             "#de77ae"
            ],
            [
             0.3,
             "#f1b6da"
            ],
            [
             0.4,
             "#fde0ef"
            ],
            [
             0.5,
             "#f7f7f7"
            ],
            [
             0.6,
             "#e6f5d0"
            ],
            [
             0.7,
             "#b8e186"
            ],
            [
             0.8,
             "#7fbc41"
            ],
            [
             0.9,
             "#4d9221"
            ],
            [
             1,
             "#276419"
            ]
           ],
           "sequential": [
            [
             0,
             "#0d0887"
            ],
            [
             0.1111111111111111,
             "#46039f"
            ],
            [
             0.2222222222222222,
             "#7201a8"
            ],
            [
             0.3333333333333333,
             "#9c179e"
            ],
            [
             0.4444444444444444,
             "#bd3786"
            ],
            [
             0.5555555555555556,
             "#d8576b"
            ],
            [
             0.6666666666666666,
             "#ed7953"
            ],
            [
             0.7777777777777778,
             "#fb9f3a"
            ],
            [
             0.8888888888888888,
             "#fdca26"
            ],
            [
             1,
             "#f0f921"
            ]
           ],
           "sequentialminus": [
            [
             0,
             "#0d0887"
            ],
            [
             0.1111111111111111,
             "#46039f"
            ],
            [
             0.2222222222222222,
             "#7201a8"
            ],
            [
             0.3333333333333333,
             "#9c179e"
            ],
            [
             0.4444444444444444,
             "#bd3786"
            ],
            [
             0.5555555555555556,
             "#d8576b"
            ],
            [
             0.6666666666666666,
             "#ed7953"
            ],
            [
             0.7777777777777778,
             "#fb9f3a"
            ],
            [
             0.8888888888888888,
             "#fdca26"
            ],
            [
             1,
             "#f0f921"
            ]
           ]
          },
          "colorway": [
           "#636efa",
           "#EF553B",
           "#00cc96",
           "#ab63fa",
           "#FFA15A",
           "#19d3f3",
           "#FF6692",
           "#B6E880",
           "#FF97FF",
           "#FECB52"
          ],
          "font": {
           "color": "#2a3f5f"
          },
          "geo": {
           "bgcolor": "white",
           "lakecolor": "white",
           "landcolor": "#E5ECF6",
           "showlakes": true,
           "showland": true,
           "subunitcolor": "white"
          },
          "hoverlabel": {
           "align": "left"
          },
          "hovermode": "closest",
          "mapbox": {
           "style": "light"
          },
          "paper_bgcolor": "white",
          "plot_bgcolor": "#E5ECF6",
          "polar": {
           "angularaxis": {
            "gridcolor": "white",
            "linecolor": "white",
            "ticks": ""
           },
           "bgcolor": "#E5ECF6",
           "radialaxis": {
            "gridcolor": "white",
            "linecolor": "white",
            "ticks": ""
           }
          },
          "scene": {
           "xaxis": {
            "backgroundcolor": "#E5ECF6",
            "gridcolor": "white",
            "gridwidth": 2,
            "linecolor": "white",
            "showbackground": true,
            "ticks": "",
            "zerolinecolor": "white"
           },
           "yaxis": {
            "backgroundcolor": "#E5ECF6",
            "gridcolor": "white",
            "gridwidth": 2,
            "linecolor": "white",
            "showbackground": true,
            "ticks": "",
            "zerolinecolor": "white"
           },
           "zaxis": {
            "backgroundcolor": "#E5ECF6",
            "gridcolor": "white",
            "gridwidth": 2,
            "linecolor": "white",
            "showbackground": true,
            "ticks": "",
            "zerolinecolor": "white"
           }
          },
          "shapedefaults": {
           "line": {
            "color": "#2a3f5f"
           }
          },
          "ternary": {
           "aaxis": {
            "gridcolor": "white",
            "linecolor": "white",
            "ticks": ""
           },
           "baxis": {
            "gridcolor": "white",
            "linecolor": "white",
            "ticks": ""
           },
           "bgcolor": "#E5ECF6",
           "caxis": {
            "gridcolor": "white",
            "linecolor": "white",
            "ticks": ""
           }
          },
          "title": {
           "x": 0.05
          },
          "xaxis": {
           "automargin": true,
           "gridcolor": "white",
           "linecolor": "white",
           "ticks": "",
           "title": {
            "standoff": 15
           },
           "zerolinecolor": "white",
           "zerolinewidth": 2
          },
          "yaxis": {
           "automargin": true,
           "gridcolor": "white",
           "linecolor": "white",
           "ticks": "",
           "title": {
            "standoff": 15
           },
           "zerolinecolor": "white",
           "zerolinewidth": 2
          }
         }
        },
        "title": {
         "font": {
          "size": 25
         },
         "text": "<b>#35 I-V 020-1_21-20-30-31<br>R_fit=18.8031 Ω",
         "x": 0
        },
        "width": 1000,
        "xaxis": {
         "tickfont": {
          "size": 16
         },
         "title": {
          "font": {
           "size": 20
          },
          "text": "appl_current"
         }
        },
        "yaxis": {
         "tickfont": {
          "size": 16
         },
         "title": {
          "font": {
           "size": 20
          },
          "text": "meas_voltage_K2"
         }
        },
        "yaxis2": {
         "overlaying": "y",
         "side": "right",
         "tickfont": {
          "size": 16
         },
         "title": {
          "font": {
           "size": 20
          },
          "text": "dV/dI"
         }
        }
       }
      }
     },
     "metadata": {},
     "output_type": "display_data"
    },
    {
     "name": "stdout",
     "output_type": "stream",
     "text": [
      "Ic = -0.499999999999999 µA\n",
      " Ir = 31.7 µA\n",
      " R_fit = 18.803076983197478 Ω\n",
      " IcRn = -9.40153849159872 µV\n",
      " R_fit0 = 18.87621771635349 Ω\n",
      " R_fit1 = 18.72993625004147 Ω\n",
      "\n"
     ]
    },
    {
     "data": {
      "image/png": "[encoded data removed]",
      "text/plain": [
       "<Figure size 640x480 with 1 Axes>"
      ]
     },
     "metadata": {},
     "output_type": "display_data"
    },
    {
     "data": {
      "image/png": "[encoded data removed]",
      "text/plain": [
       "<Figure size 640x480 with 1 Axes>"
      ]
     },
     "metadata": {},
     "output_type": "display_data"
    },
    {
     "data": {
      "image/png": "[encoded data removed]",
      "text/plain": [
       "<Figure size 640x480 with 1 Axes>"
      ]
     },
     "metadata": {},
     "output_type": "display_data"
    },
    {
     "data": {
      "image/png": "[encoded data removed]",
      "text/plain": [
       "<Figure size 640x480 with 1 Axes>"
      ]
     },
     "metadata": {},
     "output_type": "display_data"
    },
    {
     "data": {
      "image/png": "[encoded data removed]",
      "text/plain": [
       "<Figure size 640x480 with 1 Axes>"
      ]
     },
     "metadata": {},
     "output_type": "display_data"
    }
   ],
   "source": [
    "id = 35\n",
    "\n",
    "plot_by_id(id)\n",
    "IV(id)\n",
    "IV_diff(id)\n",
    "plot_IV_and_dVdI(id)"
   ]
  },
  {
   "cell_type": "code",
   "execution_count": 157,
   "metadata": {},
   "outputs": [
    {
     "name": "stderr",
     "output_type": "stream",
     "text": [
      "Trying to mark a run completed that was already completed.\n"
     ]
    },
    {
     "data": {
      "application/vnd.plotly.v1+json": {
       "config": {
        "plotlyServerURL": "https://plot.ly"
       },
       "data": [
        {
         "mode": "lines",
         "name": "Voltage vs. Current",
         "type": "scatter",
         "x": [
          -0.000003,
          -0.00000296,
          -0.00000292,
          -0.00000288,
          -0.00000284,
          -0.0000028,
          -0.00000276,
          -0.00000272,
          -0.00000268,
          -0.00000264,
          -0.0000026,
          -0.00000256,
          -0.00000252,
          -0.00000248,
          -0.00000244,
          -0.0000024,
          -0.00000236,
          -0.00000232,
          -0.00000228,
          -0.00000224,
          -0.0000022,
          -0.00000216,
          -0.00000212,
          -0.00000208,
          -0.00000204,
          -0.000002,
          -0.00000196,
          -0.00000192,
          -0.00000188,
          -0.00000184,
          -0.0000018,
          -0.00000176,
          -0.00000172,
          -0.00000168,
          -0.00000164,
          -0.0000016,
          -0.00000156,
          -0.00000152,
          -0.00000148,
          -0.00000144,
          -0.0000014,
          -0.00000136,
          -0.00000132,
          -0.00000128,
          -0.00000124,
          -0.0000012,
          -0.00000116,
          -0.00000112,
          -0.00000108,
          -0.00000104,
          -0.000001,
          -9.6e-7,
          -9.2e-7,
          -8.8e-7,
          -8.4e-7,
          -8e-7,
          -7.6e-7,
          -7.2e-7,
          -6.8e-7,
          -6.4e-7,
          -6e-7,
          -5.6e-7,
          -5.2e-7,
          -4.8e-7,
          -4.4e-7,
          -4e-7,
          -3.6e-7,
          -3.2e-7,
          -2.8e-7,
          -2.4e-7,
          -2e-7,
          -1.6e-7,
          -1.2e-7,
          -8.00000000000001e-8,
          -4e-8,
          0,
          4e-8,
          8.00000000000001e-8,
          1.2e-7,
          1.6e-7,
          2e-7,
          2.4e-7,
          2.8e-7,
          3.2e-7,
          3.6e-7,
          4e-7,
          4.4e-7,
          4.8e-7,
          5.2e-7,
          5.6e-7,
          6e-7,
          6.4e-7,
          6.8e-7,
          7.2e-7,
          7.6e-7,
          8e-7,
          8.4e-7,
          8.8e-7,
          9.2e-7,
          9.6e-7,
          0.000001,
          0.00000104,
          0.00000108,
          0.00000112,
          0.00000116,
          0.0000012,
          0.00000124,
          0.00000128,
          0.00000132,
          0.00000136,
          0.0000014,
          0.00000144,
          0.00000148,
          0.00000152,
          0.00000156,
          0.0000016,
          0.00000164,
          0.00000168,
          0.00000172,
          0.00000176,
          0.0000018,
          0.00000184,
          0.00000188,
          0.00000192,
          0.00000196,
          0.000002,
          0.00000204,
          0.00000208,
          0.00000212,
          0.00000216,
          0.0000022,
          0.00000224,
          0.00000228,
          0.00000232,
          0.00000236,
          0.0000024,
          0.00000244,
          0.00000248,
          0.00000252,
          0.00000256,
          0.0000026,
          0.00000264,
          0.00000268,
          0.00000272,
          0.00000276,
          0.0000028,
          0.00000284,
          0.00000288,
          0.00000292,
          0.00000296,
          0.000003
         ],
         "y": [
          -0.00005758614,
          -0.00005550258,
          -0.00005474679,
          -0.00005401953,
          -0.00005325658,
          -0.00005231272,
          -0.00005157551,
          -0.00005084255,
          -0.0000500184,
          -0.00004916896,
          -0.00004836159,
          -0.00004760352,
          -0.00004683341,
          -0.00004605395,
          -0.00004529487,
          -0.00004448494,
          -0.00004376127,
          -0.00004288439,
          -0.00004223455,
          -0.00004124437,
          -0.00004048965,
          -0.00003979452,
          -0.00003893291,
          -0.00003835466,
          -0.00003741189,
          -0.00003667824,
          -0.00003598322,
          -0.00003507791,
          -0.00003429167,
          -0.00003362031,
          -0.00003269046,
          -0.00003197567,
          -0.00003123729,
          -0.00003034148,
          -0.00002962711,
          -0.00002881417,
          -0.00002809604,
          -0.00002725468,
          -0.00002638569,
          -0.00002576312,
          -0.00002485668,
          -0.00002414128,
          -0.00002336594,
          -0.00002257921,
          -0.00002183152,
          -0.00002088659,
          -0.00002019649,
          -0.00001930283,
          -0.0000186027,
          -0.00001783476,
          -0.0000170538,
          -0.00001623099,
          -0.0000155145,
          -0.00001482695,
          -0.0000138903,
          -0.00001316949,
          -0.0000125145,
          -0.00001167322,
          -0.00001103859,
          -0.00001026198,
          -0.000009424491,
          -0.000008750291,
          -0.000007935611,
          -0.000007138409,
          -0.000006412325,
          -0.00000565069,
          9.792445e-7,
          9.815838e-7,
          9.318621e-7,
          0.000001033511,
          9.604257e-7,
          0.000001004143,
          9.503827e-7,
          0.000001009134,
          9.404145e-7,
          9.337691e-7,
          9.467918e-7,
          9.46797e-7,
          9.482274e-7,
          9.196192e-7,
          9.846583e-7,
          0.00000101431,
          0.000001028373,
          0.000001006336,
          9.423697e-7,
          9.892306e-7,
          9.626487e-7,
          8.964182e-7,
          0.000001001345,
          9.922112e-7,
          9.983352e-7,
          9.644374e-7,
          0.000001031519,
          9.135549e-7,
          9.892923e-7,
          9.741985e-7,
          9.767613e-7,
          9.564258e-7,
          9.368024e-7,
          9.607618e-7,
          9.785525e-7,
          0.000001029809,
          9.834845e-7,
          9.971478e-7,
          9.595696e-7,
          9.667366e-7,
          9.746635e-7,
          9.776596e-7,
          9.83128e-7,
          9.673785e-7,
          9.625062e-7,
          0.0000245141,
          0.00002851474,
          0.0000292331,
          0.00002997412,
          0.000030822,
          0.00003160018,
          0.00003232613,
          0.00003326861,
          0.00003388699,
          0.0000347265,
          0.00003551741,
          0.0000364137,
          0.0000371376,
          0.00003782519,
          0.0000387897,
          0.00003948937,
          0.00004022514,
          0.00004104177,
          0.00004187788,
          0.00004251006,
          0.00004343098,
          0.0000441041,
          0.00004495968,
          0.00004577481,
          0.00004650019,
          0.00004734931,
          0.0000480802,
          0.00004890029,
          0.00004962128,
          0.00005040884,
          0.00005121781,
          0.00005208878,
          0.00005278751,
          0.00005369008,
          0.00005448227,
          0.00005504727,
          0.00005594473,
          0.00005681423,
          0.00005753254,
          0.00005830556
         ]
        }
       ],
       "layout": {
        "height": 960,
        "margin": {
         "b": 10,
         "l": 10,
         "r": 10,
         "t": 50
        },
        "template": {
         "data": {
          "bar": [
           {
            "error_x": {
             "color": "#2a3f5f"
            },
            "error_y": {
             "color": "#2a3f5f"
            },
            "marker": {
             "line": {
              "color": "#E5ECF6",
              "width": 0.5
             },
             "pattern": {
              "fillmode": "overlay",
              "size": 10,
              "solidity": 0.2
             }
            },
            "type": "bar"
           }
          ],
          "barpolar": [
           {
            "marker": {
             "line": {
              "color": "#E5ECF6",
              "width": 0.5
             },
             "pattern": {
              "fillmode": "overlay",
              "size": 10,
              "solidity": 0.2
             }
            },
            "type": "barpolar"
           }
          ],
          "carpet": [
           {
            "aaxis": {
             "endlinecolor": "#2a3f5f",
             "gridcolor": "white",
             "linecolor": "white",
             "minorgridcolor": "white",
             "startlinecolor": "#2a3f5f"
            },
            "baxis": {
             "endlinecolor": "#2a3f5f",
             "gridcolor": "white",
             "linecolor": "white",
             "minorgridcolor": "white",
             "startlinecolor": "#2a3f5f"
            },
            "type": "carpet"
           }
          ],
          "choropleth": [
           {
            "colorbar": {
             "outlinewidth": 0,
             "ticks": ""
            },
            "type": "choropleth"
           }
          ],
          "contour": [
           {
            "colorbar": {
             "outlinewidth": 0,
             "ticks": ""
            },
            "colorscale": [
             [
              0,
              "#0d0887"
             ],
             [
              0.1111111111111111,
              "#46039f"
             ],
             [
              0.2222222222222222,
              "#7201a8"
             ],
             [
              0.3333333333333333,
              "#9c179e"
             ],
             [
              0.4444444444444444,
              "#bd3786"
             ],
             [
              0.5555555555555556,
              "#d8576b"
             ],
             [
              0.6666666666666666,
              "#ed7953"
             ],
             [
              0.7777777777777778,
              "#fb9f3a"
             ],
             [
              0.8888888888888888,
              "#fdca26"
             ],
             [
              1,
              "#f0f921"
             ]
            ],
            "type": "contour"
           }
          ],
          "contourcarpet": [
           {
            "colorbar": {
             "outlinewidth": 0,
             "ticks": ""
            },
            "type": "contourcarpet"
           }
          ],
          "heatmap": [
           {
            "colorbar": {
             "outlinewidth": 0,
             "ticks": ""
            },
            "colorscale": [
             [
              0,
              "#0d0887"
             ],
             [
              0.1111111111111111,
              "#46039f"
             ],
             [
              0.2222222222222222,
              "#7201a8"
             ],
             [
              0.3333333333333333,
              "#9c179e"
             ],
             [
              0.4444444444444444,
              "#bd3786"
             ],
             [
              0.5555555555555556,
              "#d8576b"
             ],
             [
              0.6666666666666666,
              "#ed7953"
             ],
             [
              0.7777777777777778,
              "#fb9f3a"
             ],
             [
              0.8888888888888888,
              "#fdca26"
             ],
             [
              1,
              "#f0f921"
             ]
            ],
            "type": "heatmap"
           }
          ],
          "heatmapgl": [
           {
            "colorbar": {
             "outlinewidth": 0,
             "ticks": ""
            },
            "colorscale": [
             [
              0,
              "#0d0887"
             ],
             [
              0.1111111111111111,
              "#46039f"
             ],
             [
              0.2222222222222222,
              "#7201a8"
             ],
             [
              0.3333333333333333,
              "#9c179e"
             ],
             [
              0.4444444444444444,
              "#bd3786"
             ],
             [
              0.5555555555555556,
              "#d8576b"
             ],
             [
              0.6666666666666666,
              "#ed7953"
             ],
             [
              0.7777777777777778,
              "#fb9f3a"
             ],
             [
              0.8888888888888888,
              "#fdca26"
             ],
             [
              1,
              "#f0f921"
             ]
            ],
            "type": "heatmapgl"
           }
          ],
          "histogram": [
           {
            "marker": {
             "pattern": {
              "fillmode": "overlay",
              "size": 10,
              "solidity": 0.2
             }
            },
            "type": "histogram"
           }
          ],
          "histogram2d": [
           {
            "colorbar": {
             "outlinewidth": 0,
             "ticks": ""
            },
            "colorscale": [
             [
              0,
              "#0d0887"
             ],
             [
              0.1111111111111111,
              "#46039f"
             ],
             [
              0.2222222222222222,
              "#7201a8"
             ],
             [
              0.3333333333333333,
              "#9c179e"
             ],
             [
              0.4444444444444444,
              "#bd3786"
             ],
             [
              0.5555555555555556,
              "#d8576b"
             ],
             [
              0.6666666666666666,
              "#ed7953"
             ],
             [
              0.7777777777777778,
              "#fb9f3a"
             ],
             [
              0.8888888888888888,
              "#fdca26"
             ],
             [
              1,
              "#f0f921"
             ]
            ],
            "type": "histogram2d"
           }
          ],
          "histogram2dcontour": [
           {
            "colorbar": {
             "outlinewidth": 0,
             "ticks": ""
            },
            "colorscale": [
             [
              0,
              "#0d0887"
             ],
             [
              0.1111111111111111,
              "#46039f"
             ],
             [
              0.2222222222222222,
              "#7201a8"
             ],
             [
              0.3333333333333333,
              "#9c179e"
             ],
             [
              0.4444444444444444,
              "#bd3786"
             ],
             [
              0.5555555555555556,
              "#d8576b"
             ],
             [
              0.6666666666666666,
              "#ed7953"
             ],
             [
              0.7777777777777778,
              "#fb9f3a"
             ],
             [
              0.8888888888888888,
              "#fdca26"
             ],
             [
              1,
              "#f0f921"
             ]
            ],
            "type": "histogram2dcontour"
           }
          ],
          "mesh3d": [
           {
            "colorbar": {
             "outlinewidth": 0,
             "ticks": ""
            },
            "type": "mesh3d"
           }
          ],
          "parcoords": [
           {
            "line": {
             "colorbar": {
              "outlinewidth": 0,
              "ticks": ""
             }
            },
            "type": "parcoords"
           }
          ],
          "pie": [
           {
            "automargin": true,
            "type": "pie"
           }
          ],
          "scatter": [
           {
            "fillpattern": {
             "fillmode": "overlay",
             "size": 10,
             "solidity": 0.2
            },
            "type": "scatter"
           }
          ],
          "scatter3d": [
           {
            "line": {
             "colorbar": {
              "outlinewidth": 0,
              "ticks": ""
             }
            },
            "marker": {
             "colorbar": {
              "outlinewidth": 0,
              "ticks": ""
             }
            },
            "type": "scatter3d"
           }
          ],
          "scattercarpet": [
           {
            "marker": {
             "colorbar": {
              "outlinewidth": 0,
              "ticks": ""
             }
            },
            "type": "scattercarpet"
           }
          ],
          "scattergeo": [
           {
            "marker": {
             "colorbar": {
              "outlinewidth": 0,
              "ticks": ""
             }
            },
            "type": "scattergeo"
           }
          ],
          "scattergl": [
           {
            "marker": {
             "colorbar": {
              "outlinewidth": 0,
              "ticks": ""
             }
            },
            "type": "scattergl"
           }
          ],
          "scattermapbox": [
           {
            "marker": {
             "colorbar": {
              "outlinewidth": 0,
              "ticks": ""
             }
            },
            "type": "scattermapbox"
           }
          ],
          "scatterpolar": [
           {
            "marker": {
             "colorbar": {
              "outlinewidth": 0,
              "ticks": ""
             }
            },
            "type": "scatterpolar"
           }
          ],
          "scatterpolargl": [
           {
            "marker": {
             "colorbar": {
              "outlinewidth": 0,
              "ticks": ""
             }
            },
            "type": "scatterpolargl"
           }
          ],
          "scatterternary": [
           {
            "marker": {
             "colorbar": {
              "outlinewidth": 0,
              "ticks": ""
             }
            },
            "type": "scatterternary"
           }
          ],
          "surface": [
           {
            "colorbar": {
             "outlinewidth": 0,
             "ticks": ""
            },
            "colorscale": [
             [
              0,
              "#0d0887"
             ],
             [
              0.1111111111111111,
              "#46039f"
             ],
             [
              0.2222222222222222,
              "#7201a8"
             ],
             [
              0.3333333333333333,
              "#9c179e"
             ],
             [
              0.4444444444444444,
              "#bd3786"
             ],
             [
              0.5555555555555556,
              "#d8576b"
             ],
             [
              0.6666666666666666,
              "#ed7953"
             ],
             [
              0.7777777777777778,
              "#fb9f3a"
             ],
             [
              0.8888888888888888,
              "#fdca26"
             ],
             [
              1,
              "#f0f921"
             ]
            ],
            "type": "surface"
           }
          ],
          "table": [
           {
            "cells": {
             "fill": {
              "color": "#EBF0F8"
             },
             "line": {
              "color": "white"
             }
            },
            "header": {
             "fill": {
              "color": "#C8D4E3"
             },
             "line": {
              "color": "white"
             }
            },
            "type": "table"
           }
          ]
         },
         "layout": {
          "annotationdefaults": {
           "arrowcolor": "#2a3f5f",
           "arrowhead": 0,
           "arrowwidth": 1
          },
          "autotypenumbers": "strict",
          "coloraxis": {
           "colorbar": {
            "outlinewidth": 0,
            "ticks": ""
           }
          },
          "colorscale": {
           "diverging": [
            [
             0,
             "#8e0152"
            ],
            [
             0.1,
             "#c51b7d"
            ],
            [
             0.2,
             "#de77ae"
            ],
            [
             0.3,
             "#f1b6da"
            ],
            [
             0.4,
             "#fde0ef"
            ],
            [
             0.5,
             "#f7f7f7"
            ],
            [
             0.6,
             "#e6f5d0"
            ],
            [
             0.7,
             "#b8e186"
            ],
            [
             0.8,
             "#7fbc41"
            ],
            [
             0.9,
             "#4d9221"
            ],
            [
             1,
             "#276419"
            ]
           ],
           "sequential": [
            [
             0,
             "#0d0887"
            ],
            [
             0.1111111111111111,
             "#46039f"
            ],
            [
             0.2222222222222222,
             "#7201a8"
            ],
            [
             0.3333333333333333,
             "#9c179e"
            ],
            [
             0.4444444444444444,
             "#bd3786"
            ],
            [
             0.5555555555555556,
             "#d8576b"
            ],
            [
             0.6666666666666666,
             "#ed7953"
            ],
            [
             0.7777777777777778,
             "#fb9f3a"
            ],
            [
             0.8888888888888888,
             "#fdca26"
            ],
            [
             1,
             "#f0f921"
            ]
           ],
           "sequentialminus": [
            [
             0,
             "#0d0887"
            ],
            [
             0.1111111111111111,
             "#46039f"
            ],
            [
             0.2222222222222222,
             "#7201a8"
            ],
            [
             0.3333333333333333,
             "#9c179e"
            ],
            [
             0.4444444444444444,
             "#bd3786"
            ],
            [
             0.5555555555555556,
             "#d8576b"
            ],
            [
             0.6666666666666666,
             "#ed7953"
            ],
            [
             0.7777777777777778,
             "#fb9f3a"
            ],
            [
             0.8888888888888888,
             "#fdca26"
            ],
            [
             1,
             "#f0f921"
            ]
           ]
          },
          "colorway": [
           "#636efa",
           "#EF553B",
           "#00cc96",
           "#ab63fa",
           "#FFA15A",
           "#19d3f3",
           "#FF6692",
           "#B6E880",
           "#FF97FF",
           "#FECB52"
          ],
          "font": {
           "color": "#2a3f5f"
          },
          "geo": {
           "bgcolor": "white",
           "lakecolor": "white",
           "landcolor": "#E5ECF6",
           "showlakes": true,
           "showland": true,
           "subunitcolor": "white"
          },
          "hoverlabel": {
           "align": "left"
          },
          "hovermode": "closest",
          "mapbox": {
           "style": "light"
          },
          "paper_bgcolor": "white",
          "plot_bgcolor": "#E5ECF6",
          "polar": {
           "angularaxis": {
            "gridcolor": "white",
            "linecolor": "white",
            "ticks": ""
           },
           "bgcolor": "#E5ECF6",
           "radialaxis": {
            "gridcolor": "white",
            "linecolor": "white",
            "ticks": ""
           }
          },
          "scene": {
           "xaxis": {
            "backgroundcolor": "#E5ECF6",
            "gridcolor": "white",
            "gridwidth": 2,
            "linecolor": "white",
            "showbackground": true,
            "ticks": "",
            "zerolinecolor": "white"
           },
           "yaxis": {
            "backgroundcolor": "#E5ECF6",
            "gridcolor": "white",
            "gridwidth": 2,
            "linecolor": "white",
            "showbackground": true,
            "ticks": "",
            "zerolinecolor": "white"
           },
           "zaxis": {
            "backgroundcolor": "#E5ECF6",
            "gridcolor": "white",
            "gridwidth": 2,
            "linecolor": "white",
            "showbackground": true,
            "ticks": "",
            "zerolinecolor": "white"
           }
          },
          "shapedefaults": {
           "line": {
            "color": "#2a3f5f"
           }
          },
          "ternary": {
           "aaxis": {
            "gridcolor": "white",
            "linecolor": "white",
            "ticks": ""
           },
           "baxis": {
            "gridcolor": "white",
            "linecolor": "white",
            "ticks": ""
           },
           "bgcolor": "#E5ECF6",
           "caxis": {
            "gridcolor": "white",
            "linecolor": "white",
            "ticks": ""
           }
          },
          "title": {
           "x": 0.05
          },
          "xaxis": {
           "automargin": true,
           "gridcolor": "white",
           "linecolor": "white",
           "ticks": "",
           "title": {
            "standoff": 15
           },
           "zerolinecolor": "white",
           "zerolinewidth": 2
          },
          "yaxis": {
           "automargin": true,
           "gridcolor": "white",
           "linecolor": "white",
           "ticks": "",
           "title": {
            "standoff": 15
           },
           "zerolinecolor": "white",
           "zerolinewidth": 2
          }
         }
        },
        "title": {
         "font": {
          "size": 28
         },
         "text": "<b>#49 I-V</b> 020-1_21-20-30-31, R_fit=17.8958 Ω"
        },
        "width": 1080,
        "xaxis": {
         "tickfont": {
          "size": 16
         },
         "title": {
          "font": {
           "size": 20
          },
          "text": "appl_current"
         }
        },
        "yaxis": {
         "tickfont": {
          "size": 16
         },
         "title": {
          "font": {
           "size": 20
          },
          "text": "meas_voltage_K2"
         }
        }
       }
      }
     },
     "metadata": {},
     "output_type": "display_data"
    },
    {
     "data": {
      "application/vnd.plotly.v1+json": {
       "config": {
        "plotlyServerURL": "https://plot.ly"
       },
       "data": [
        {
         "mode": "lines",
         "name": "dV/dI",
         "type": "scatter",
         "x": [
          -3,
          -2.96,
          -2.92,
          -2.88,
          -2.84,
          -2.8,
          -2.76,
          -2.7199999999999998,
          -2.68,
          -2.64,
          -2.6,
          -2.56,
          -2.52,
          -2.48,
          -2.44,
          -2.4,
          -2.36,
          -2.32,
          -2.2800000000000002,
          -2.24,
          -2.2,
          -2.16,
          -2.12,
          -2.08,
          -2.04,
          -2,
          -1.96,
          -1.92,
          -1.88,
          -1.8399999999999999,
          -1.7999999999999998,
          -1.76,
          -1.72,
          -1.68,
          -1.64,
          -1.5999999999999999,
          -1.56,
          -1.52,
          -1.48,
          -1.44,
          -1.4,
          -1.3599999999999999,
          -1.32,
          -1.28,
          -1.24,
          -1.2,
          -1.16,
          -1.12,
          -1.08,
          -1.04,
          -1,
          -0.96,
          -0.9199999999999999,
          -0.88,
          -0.84,
          -0.7999999999999999,
          -0.76,
          -0.72,
          -0.6799999999999999,
          -0.64,
          -0.6,
          -0.56,
          -0.52,
          -0.48,
          -0.44,
          -0.39999999999999997,
          -0.36,
          -0.32,
          -0.28,
          -0.24,
          -0.19999999999999998,
          -0.16,
          -0.12,
          -0.0800000000000001,
          -0.04,
          0,
          0.04,
          0.0800000000000001,
          0.12,
          0.16,
          0.19999999999999998,
          0.24,
          0.28,
          0.32,
          0.36,
          0.39999999999999997,
          0.44,
          0.48,
          0.52,
          0.56,
          0.6,
          0.64,
          0.6799999999999999,
          0.72,
          0.76,
          0.7999999999999999,
          0.84,
          0.88,
          0.9199999999999999,
          0.96,
          1,
          1.04,
          1.08,
          1.12,
          1.16,
          1.2,
          1.24,
          1.28,
          1.32,
          1.3599999999999999,
          1.4,
          1.44,
          1.48,
          1.52,
          1.56,
          1.5999999999999999,
          1.64,
          1.68,
          1.72,
          1.76,
          1.7999999999999998,
          1.8399999999999999,
          1.88,
          1.92,
          1.96,
          2,
          2.04,
          2.08,
          2.12,
          2.16,
          2.2,
          2.24,
          2.2800000000000002,
          2.32,
          2.36,
          2.4,
          2.44,
          2.48,
          2.52,
          2.56,
          2.6,
          2.64,
          2.68,
          2.7199999999999998,
          2.76,
          2.8,
          2.84,
          2.88,
          2.92,
          2.96
         ],
         "y": [
          52.08899999999991,
          18.894749999999892,
          18.18149999999997,
          19.073750000000047,
          23.59649999999998,
          18.430249999999923,
          18.323999999999945,
          20.60375000000023,
          21.236000000000026,
          20.18424999999997,
          18.951749999999983,
          19.25275000000003,
          19.48649999999995,
          18.977000000000054,
          20.248249999999874,
          18.09174999999996,
          21.92200000000007,
          16.2460000000001,
          24.75450000000001,
          18.86799999999988,
          17.378250000000023,
          21.54024999999996,
          14.45625000000009,
          23.569249999999936,
          18.341249999999963,
          17.3755,
          22.632749999999984,
          19.656000000000052,
          16.783999999999956,
          23.246250000000042,
          17.86975000000011,
          18.459499999999935,
          22.395249999999972,
          17.859249999999957,
          20.32349999999997,
          17.953250000000107,
          21.033999999999953,
          21.724749999999993,
          15.56425000000001,
          22.660999999999927,
          17.88499999999998,
          19.383500000000133,
          19.668249999999958,
          18.692249999999955,
          23.623249999999988,
          17.25249999999995,
          22.341500000000142,
          17.50324999999996,
          19.198499999999964,
          19.524000000000033,
          20.570249999999955,
          17.91225000000007,
          17.18874999999998,
          23.41624999999999,
          18.020249999999997,
          16.374750000000002,
          21.031999999999982,
          15.865749999999968,
          19.415250000000057,
          20.937224999999977,
          16.85500000000001,
          20.366999999999965,
          19.93005000000001,
          18.152100000000033,
          19.040874999999968,
          165.74836250000004,
          0.05848250000000022,
          -1.2430424999999996,
          2.5412224999999986,
          -1.8271325000000012,
          1.0929324999999996,
          -1.3440074999999996,
          1.4687825000000072,
          -1.7179874999999982,
          -0.1661350000000003,
          0.32556749999999984,
          0.0001300000000004118,
          0.03575999999999882,
          -0.7152049999999978,
          1.6259774999999999,
          0.741292500000001,
          0.3515750000000006,
          -0.5509250000000036,
          -1.5991575,
          1.1715225000000022,
          -0.6645475000000013,
          -1.6557625000000025,
          2.623169999999999,
          -0.22834500000000102,
          0.1531000000000018,
          -0.8474450000000009,
          1.6770400000000059,
          -2.949102499999999,
          1.8934349999999982,
          -0.37734500000000143,
          0.06406999999999821,
          -0.5083874999999959,
          -0.49058500000000244,
          0.5989850000000038,
          0.44476749999999426,
          1.281412499999999,
          -1.158112499999994,
          0.3415824999999953,
          -0.9394550000000035,
          0.17917500000000117,
          0.19817249999999773,
          0.07490250000000127,
          0.13671000000000322,
          -0.39373750000000446,
          -0.12180750000000108,
          588.7898449999994,
          100.01599999999989,
          17.95899999999999,
          18.52549999999998,
          21.197000000000035,
          19.454500000000085,
          18.148749999999882,
          23.562000000000108,
          15.459499999999966,
          20.987750000000048,
          19.772749999999984,
          22.407249999999966,
          18.097500000000117,
          17.18974999999988,
          24.11275000000001,
          17.49175,
          18.394249999999946,
          20.415750000000074,
          20.90274999999992,
          15.804500000000045,
          23.02299999999984,
          16.827999999999985,
          21.389500000000314,
          20.37824999999999,
          18.1344999999999,
          21.227999999999973,
          18.27225000000005,
          20.502250000000025,
          18.024749999999848,
          19.689000000000057,
          20.22424999999989,
          21.77425000000007,
          17.468250000000236,
          22.564249999999937,
          19.80475000000002,
          14.124999999999956,
          22.436499999999977,
          21.73749999999987,
          17.957750000000072,
          19.32549999999987
         ]
        },
        {
         "marker": {
          "color": "red"
         },
         "mode": "markers",
         "name": "Top Two Peaks",
         "type": "scatter",
         "x": [
          1.4,
          -0.39999999999999997
         ],
         "y": [
          588.7898449999994,
          165.74836250000004
         ]
        },
        {
         "marker": {
          "color": "blue",
          "symbol": "cross"
         },
         "mode": "markers",
         "name": "Center Points",
         "type": "scatter",
         "x": [
          0.5
         ],
         "y": [
          0
         ]
        }
       ],
       "layout": {
        "annotations": [
         {
          "arrowcolor": "black",
          "arrowhead": 2,
          "arrowsize": 1,
          "arrowwidth": 2,
          "ax": -100,
          "ay": -200,
          "showarrow": true,
          "text": "Center Point: 0.5μA <br> Peak difference: 1.8 μA",
          "x": 0.5,
          "y": 15.57634625
         }
        ],
        "height": 960,
        "legend": {
         "orientation": "h",
         "x": 1,
         "xanchor": "right",
         "y": -0.07,
         "yanchor": "bottom"
        },
        "margin": {
         "b": 10,
         "l": 10,
         "r": 10,
         "t": 50
        },
        "template": {
         "data": {
          "bar": [
           {
            "error_x": {
             "color": "#2a3f5f"
            },
            "error_y": {
             "color": "#2a3f5f"
            },
            "marker": {
             "line": {
              "color": "#E5ECF6",
              "width": 0.5
             },
             "pattern": {
              "fillmode": "overlay",
              "size": 10,
              "solidity": 0.2
             }
            },
            "type": "bar"
           }
          ],
          "barpolar": [
           {
            "marker": {
             "line": {
              "color": "#E5ECF6",
              "width": 0.5
             },
             "pattern": {
              "fillmode": "overlay",
              "size": 10,
              "solidity": 0.2
             }
            },
            "type": "barpolar"
           }
          ],
          "carpet": [
           {
            "aaxis": {
             "endlinecolor": "#2a3f5f",
             "gridcolor": "white",
             "linecolor": "white",
             "minorgridcolor": "white",
             "startlinecolor": "#2a3f5f"
            },
            "baxis": {
             "endlinecolor": "#2a3f5f",
             "gridcolor": "white",
             "linecolor": "white",
             "minorgridcolor": "white",
             "startlinecolor": "#2a3f5f"
            },
            "type": "carpet"
           }
          ],
          "choropleth": [
           {
            "colorbar": {
             "outlinewidth": 0,
             "ticks": ""
            },
            "type": "choropleth"
           }
          ],
          "contour": [
           {
            "colorbar": {
             "outlinewidth": 0,
             "ticks": ""
            },
            "colorscale": [
             [
              0,
              "#0d0887"
             ],
             [
              0.1111111111111111,
              "#46039f"
             ],
             [
              0.2222222222222222,
              "#7201a8"
             ],
             [
              0.3333333333333333,
              "#9c179e"
             ],
             [
              0.4444444444444444,
              "#bd3786"
             ],
             [
              0.5555555555555556,
              "#d8576b"
             ],
             [
              0.6666666666666666,
              "#ed7953"
             ],
             [
              0.7777777777777778,
              "#fb9f3a"
             ],
             [
              0.8888888888888888,
              "#fdca26"
             ],
             [
              1,
              "#f0f921"
             ]
            ],
            "type": "contour"
           }
          ],
          "contourcarpet": [
           {
            "colorbar": {
             "outlinewidth": 0,
             "ticks": ""
            },
            "type": "contourcarpet"
           }
          ],
          "heatmap": [
           {
            "colorbar": {
             "outlinewidth": 0,
             "ticks": ""
            },
            "colorscale": [
             [
              0,
              "#0d0887"
             ],
             [
              0.1111111111111111,
              "#46039f"
             ],
             [
              0.2222222222222222,
              "#7201a8"
             ],
             [
              0.3333333333333333,
              "#9c179e"
             ],
             [
              0.4444444444444444,
              "#bd3786"
             ],
             [
              0.5555555555555556,
              "#d8576b"
             ],
             [
              0.6666666666666666,
              "#ed7953"
             ],
             [
              0.7777777777777778,
              "#fb9f3a"
             ],
             [
              0.8888888888888888,
              "#fdca26"
             ],
             [
              1,
              "#f0f921"
             ]
            ],
            "type": "heatmap"
           }
          ],
          "heatmapgl": [
           {
            "colorbar": {
             "outlinewidth": 0,
             "ticks": ""
            },
            "colorscale": [
             [
              0,
              "#0d0887"
             ],
             [
              0.1111111111111111,
              "#46039f"
             ],
             [
              0.2222222222222222,
              "#7201a8"
             ],
             [
              0.3333333333333333,
              "#9c179e"
             ],
             [
              0.4444444444444444,
              "#bd3786"
             ],
             [
              0.5555555555555556,
              "#d8576b"
             ],
             [
              0.6666666666666666,
              "#ed7953"
             ],
             [
              0.7777777777777778,
              "#fb9f3a"
             ],
             [
              0.8888888888888888,
              "#fdca26"
             ],
             [
              1,
              "#f0f921"
             ]
            ],
            "type": "heatmapgl"
           }
          ],
          "histogram": [
           {
            "marker": {
             "pattern": {
              "fillmode": "overlay",
              "size": 10,
              "solidity": 0.2
             }
            },
            "type": "histogram"
           }
          ],
          "histogram2d": [
           {
            "colorbar": {
             "outlinewidth": 0,
             "ticks": ""
            },
            "colorscale": [
             [
              0,
              "#0d0887"
             ],
             [
              0.1111111111111111,
              "#46039f"
             ],
             [
              0.2222222222222222,
              "#7201a8"
             ],
             [
              0.3333333333333333,
              "#9c179e"
             ],
             [
              0.4444444444444444,
              "#bd3786"
             ],
             [
              0.5555555555555556,
              "#d8576b"
             ],
             [
              0.6666666666666666,
              "#ed7953"
             ],
             [
              0.7777777777777778,
              "#fb9f3a"
             ],
             [
              0.8888888888888888,
              "#fdca26"
             ],
             [
              1,
              "#f0f921"
             ]
            ],
            "type": "histogram2d"
           }
          ],
          "histogram2dcontour": [
           {
            "colorbar": {
             "outlinewidth": 0,
             "ticks": ""
            },
            "colorscale": [
             [
              0,
              "#0d0887"
             ],
             [
              0.1111111111111111,
              "#46039f"
             ],
             [
              0.2222222222222222,
              "#7201a8"
             ],
             [
              0.3333333333333333,
              "#9c179e"
             ],
             [
              0.4444444444444444,
              "#bd3786"
             ],
             [
              0.5555555555555556,
              "#d8576b"
             ],
             [
              0.6666666666666666,
              "#ed7953"
             ],
             [
              0.7777777777777778,
              "#fb9f3a"
             ],
             [
              0.8888888888888888,
              "#fdca26"
             ],
             [
              1,
              "#f0f921"
             ]
            ],
            "type": "histogram2dcontour"
           }
          ],
          "mesh3d": [
           {
            "colorbar": {
             "outlinewidth": 0,
             "ticks": ""
            },
            "type": "mesh3d"
           }
          ],
          "parcoords": [
           {
            "line": {
             "colorbar": {
              "outlinewidth": 0,
              "ticks": ""
             }
            },
            "type": "parcoords"
           }
          ],
          "pie": [
           {
            "automargin": true,
            "type": "pie"
           }
          ],
          "scatter": [
           {
            "fillpattern": {
             "fillmode": "overlay",
             "size": 10,
             "solidity": 0.2
            },
            "type": "scatter"
           }
          ],
          "scatter3d": [
           {
            "line": {
             "colorbar": {
              "outlinewidth": 0,
              "ticks": ""
             }
            },
            "marker": {
             "colorbar": {
              "outlinewidth": 0,
              "ticks": ""
             }
            },
            "type": "scatter3d"
           }
          ],
          "scattercarpet": [
           {
            "marker": {
             "colorbar": {
              "outlinewidth": 0,
              "ticks": ""
             }
            },
            "type": "scattercarpet"
           }
          ],
          "scattergeo": [
           {
            "marker": {
             "colorbar": {
              "outlinewidth": 0,
              "ticks": ""
             }
            },
            "type": "scattergeo"
           }
          ],
          "scattergl": [
           {
            "marker": {
             "colorbar": {
              "outlinewidth": 0,
              "ticks": ""
             }
            },
            "type": "scattergl"
           }
          ],
          "scattermapbox": [
           {
            "marker": {
             "colorbar": {
              "outlinewidth": 0,
              "ticks": ""
             }
            },
            "type": "scattermapbox"
           }
          ],
          "scatterpolar": [
           {
            "marker": {
             "colorbar": {
              "outlinewidth": 0,
              "ticks": ""
             }
            },
            "type": "scatterpolar"
           }
          ],
          "scatterpolargl": [
           {
            "marker": {
             "colorbar": {
              "outlinewidth": 0,
              "ticks": ""
             }
            },
            "type": "scatterpolargl"
           }
          ],
          "scatterternary": [
           {
            "marker": {
             "colorbar": {
              "outlinewidth": 0,
              "ticks": ""
             }
            },
            "type": "scatterternary"
           }
          ],
          "surface": [
           {
            "colorbar": {
             "outlinewidth": 0,
             "ticks": ""
            },
            "colorscale": [
             [
              0,
              "#0d0887"
             ],
             [
              0.1111111111111111,
              "#46039f"
             ],
             [
              0.2222222222222222,
              "#7201a8"
             ],
             [
              0.3333333333333333,
              "#9c179e"
             ],
             [
              0.4444444444444444,
              "#bd3786"
             ],
             [
              0.5555555555555556,
              "#d8576b"
             ],
             [
              0.6666666666666666,
              "#ed7953"
             ],
             [
              0.7777777777777778,
              "#fb9f3a"
             ],
             [
              0.8888888888888888,
              "#fdca26"
             ],
             [
              1,
              "#f0f921"
             ]
            ],
            "type": "surface"
           }
          ],
          "table": [
           {
            "cells": {
             "fill": {
              "color": "#EBF0F8"
             },
             "line": {
              "color": "white"
             }
            },
            "header": {
             "fill": {
              "color": "#C8D4E3"
             },
             "line": {
              "color": "white"
             }
            },
            "type": "table"
           }
          ]
         },
         "layout": {
          "annotationdefaults": {
           "arrowcolor": "#2a3f5f",
           "arrowhead": 0,
           "arrowwidth": 1
          },
          "autotypenumbers": "strict",
          "coloraxis": {
           "colorbar": {
            "outlinewidth": 0,
            "ticks": ""
           }
          },
          "colorscale": {
           "diverging": [
            [
             0,
             "#8e0152"
            ],
            [
             0.1,
             "#c51b7d"
            ],
            [
             0.2,
             "#de77ae"
            ],
            [
             0.3,
             "#f1b6da"
            ],
            [
             0.4,
             "#fde0ef"
            ],
            [
             0.5,
             "#f7f7f7"
            ],
            [
             0.6,
             "#e6f5d0"
            ],
            [
             0.7,
             "#b8e186"
            ],
            [
             0.8,
             "#7fbc41"
            ],
            [
             0.9,
             "#4d9221"
            ],
            [
             1,
             "#276419"
            ]
           ],
           "sequential": [
            [
             0,
             "#0d0887"
            ],
            [
             0.1111111111111111,
             "#46039f"
            ],
            [
             0.2222222222222222,
             "#7201a8"
            ],
            [
             0.3333333333333333,
             "#9c179e"
            ],
            [
             0.4444444444444444,
             "#bd3786"
            ],
            [
             0.5555555555555556,
             "#d8576b"
            ],
            [
             0.6666666666666666,
             "#ed7953"
            ],
            [
             0.7777777777777778,
             "#fb9f3a"
            ],
            [
             0.8888888888888888,
             "#fdca26"
            ],
            [
             1,
             "#f0f921"
            ]
           ],
           "sequentialminus": [
            [
             0,
             "#0d0887"
            ],
            [
             0.1111111111111111,
             "#46039f"
            ],
            [
             0.2222222222222222,
             "#7201a8"
            ],
            [
             0.3333333333333333,
             "#9c179e"
            ],
            [
             0.4444444444444444,
             "#bd3786"
            ],
            [
             0.5555555555555556,
             "#d8576b"
            ],
            [
             0.6666666666666666,
             "#ed7953"
            ],
            [
             0.7777777777777778,
             "#fb9f3a"
            ],
            [
             0.8888888888888888,
             "#fdca26"
            ],
            [
             1,
             "#f0f921"
            ]
           ]
          },
          "colorway": [
           "#636efa",
           "#EF553B",
           "#00cc96",
           "#ab63fa",
           "#FFA15A",
           "#19d3f3",
           "#FF6692",
           "#B6E880",
           "#FF97FF",
           "#FECB52"
          ],
          "font": {
           "color": "#2a3f5f"
          },
          "geo": {
           "bgcolor": "white",
           "lakecolor": "white",
           "landcolor": "#E5ECF6",
           "showlakes": true,
           "showland": true,
           "subunitcolor": "white"
          },
          "hoverlabel": {
           "align": "left"
          },
          "hovermode": "closest",
          "mapbox": {
           "style": "light"
          },
          "paper_bgcolor": "white",
          "plot_bgcolor": "#E5ECF6",
          "polar": {
           "angularaxis": {
            "gridcolor": "white",
            "linecolor": "white",
            "ticks": ""
           },
           "bgcolor": "#E5ECF6",
           "radialaxis": {
            "gridcolor": "white",
            "linecolor": "white",
            "ticks": ""
           }
          },
          "scene": {
           "xaxis": {
            "backgroundcolor": "#E5ECF6",
            "gridcolor": "white",
            "gridwidth": 2,
            "linecolor": "white",
            "showbackground": true,
            "ticks": "",
            "zerolinecolor": "white"
           },
           "yaxis": {
            "backgroundcolor": "#E5ECF6",
            "gridcolor": "white",
            "gridwidth": 2,
            "linecolor": "white",
            "showbackground": true,
            "ticks": "",
            "zerolinecolor": "white"
           },
           "zaxis": {
            "backgroundcolor": "#E5ECF6",
            "gridcolor": "white",
            "gridwidth": 2,
            "linecolor": "white",
            "showbackground": true,
            "ticks": "",
            "zerolinecolor": "white"
           }
          },
          "shapedefaults": {
           "line": {
            "color": "#2a3f5f"
           }
          },
          "ternary": {
           "aaxis": {
            "gridcolor": "white",
            "linecolor": "white",
            "ticks": ""
           },
           "baxis": {
            "gridcolor": "white",
            "linecolor": "white",
            "ticks": ""
           },
           "bgcolor": "#E5ECF6",
           "caxis": {
            "gridcolor": "white",
            "linecolor": "white",
            "ticks": ""
           }
          },
          "title": {
           "x": 0.05
          },
          "xaxis": {
           "automargin": true,
           "gridcolor": "white",
           "linecolor": "white",
           "ticks": "",
           "title": {
            "standoff": 15
           },
           "zerolinecolor": "white",
           "zerolinewidth": 2
          },
          "yaxis": {
           "automargin": true,
           "gridcolor": "white",
           "linecolor": "white",
           "ticks": "",
           "title": {
            "standoff": 15
           },
           "zerolinecolor": "white",
           "zerolinewidth": 2
          }
         }
        },
        "title": {
         "font": {
          "size": 28
         },
         "text": "<b>#49 I-dV/dI</b> 020-1_21-20-30-31"
        },
        "width": 1080,
        "xaxis": {
         "tickfont": {
          "size": 16
         },
         "title": {
          "font": {
           "size": 20
          },
          "text": "Current (μA)"
         }
        },
        "yaxis": {
         "tickfont": {
          "size": 16
         },
         "title": {
          "font": {
           "size": 20
          },
          "text": "dV/dI"
         }
        }
       }
      }
     },
     "metadata": {},
     "output_type": "display_data"
    },
    {
     "data": {
      "application/vnd.plotly.v1+json": {
       "config": {
        "plotlyServerURL": "https://plot.ly"
       },
       "data": [
        {
         "mode": "lines",
         "name": "IV",
         "type": "scatter",
         "x": [
          -0.000003,
          -0.00000296,
          -0.00000292,
          -0.00000288,
          -0.00000284,
          -0.0000028,
          -0.00000276,
          -0.00000272,
          -0.00000268,
          -0.00000264,
          -0.0000026,
          -0.00000256,
          -0.00000252,
          -0.00000248,
          -0.00000244,
          -0.0000024,
          -0.00000236,
          -0.00000232,
          -0.00000228,
          -0.00000224,
          -0.0000022,
          -0.00000216,
          -0.00000212,
          -0.00000208,
          -0.00000204,
          -0.000002,
          -0.00000196,
          -0.00000192,
          -0.00000188,
          -0.00000184,
          -0.0000018,
          -0.00000176,
          -0.00000172,
          -0.00000168,
          -0.00000164,
          -0.0000016,
          -0.00000156,
          -0.00000152,
          -0.00000148,
          -0.00000144,
          -0.0000014,
          -0.00000136,
          -0.00000132,
          -0.00000128,
          -0.00000124,
          -0.0000012,
          -0.00000116,
          -0.00000112,
          -0.00000108,
          -0.00000104,
          -0.000001,
          -9.6e-7,
          -9.2e-7,
          -8.8e-7,
          -8.4e-7,
          -8e-7,
          -7.6e-7,
          -7.2e-7,
          -6.8e-7,
          -6.4e-7,
          -6e-7,
          -5.6e-7,
          -5.2e-7,
          -4.8e-7,
          -4.4e-7,
          -4e-7,
          -3.6e-7,
          -3.2e-7,
          -2.8e-7,
          -2.4e-7,
          -2e-7,
          -1.6e-7,
          -1.2e-7,
          -8.00000000000001e-8,
          -4e-8,
          0,
          4e-8,
          8.00000000000001e-8,
          1.2e-7,
          1.6e-7,
          2e-7,
          2.4e-7,
          2.8e-7,
          3.2e-7,
          3.6e-7,
          4e-7,
          4.4e-7,
          4.8e-7,
          5.2e-7,
          5.6e-7,
          6e-7,
          6.4e-7,
          6.8e-7,
          7.2e-7,
          7.6e-7,
          8e-7,
          8.4e-7,
          8.8e-7,
          9.2e-7,
          9.6e-7,
          0.000001,
          0.00000104,
          0.00000108,
          0.00000112,
          0.00000116,
          0.0000012,
          0.00000124,
          0.00000128,
          0.00000132,
          0.00000136,
          0.0000014,
          0.00000144,
          0.00000148,
          0.00000152,
          0.00000156,
          0.0000016,
          0.00000164,
          0.00000168,
          0.00000172,
          0.00000176,
          0.0000018,
          0.00000184,
          0.00000188,
          0.00000192,
          0.00000196,
          0.000002,
          0.00000204,
          0.00000208,
          0.00000212,
          0.00000216,
          0.0000022,
          0.00000224,
          0.00000228,
          0.00000232,
          0.00000236,
          0.0000024,
          0.00000244,
          0.00000248,
          0.00000252,
          0.00000256,
          0.0000026,
          0.00000264,
          0.00000268,
          0.00000272,
          0.00000276,
          0.0000028,
          0.00000284,
          0.00000288,
          0.00000292,
          0.00000296,
          0.000003
         ],
         "y": [
          -0.00005758614,
          -0.00005550258,
          -0.00005474679,
          -0.00005401953,
          -0.00005325658,
          -0.00005231272,
          -0.00005157551,
          -0.00005084255,
          -0.0000500184,
          -0.00004916896,
          -0.00004836159,
          -0.00004760352,
          -0.00004683341,
          -0.00004605395,
          -0.00004529487,
          -0.00004448494,
          -0.00004376127,
          -0.00004288439,
          -0.00004223455,
          -0.00004124437,
          -0.00004048965,
          -0.00003979452,
          -0.00003893291,
          -0.00003835466,
          -0.00003741189,
          -0.00003667824,
          -0.00003598322,
          -0.00003507791,
          -0.00003429167,
          -0.00003362031,
          -0.00003269046,
          -0.00003197567,
          -0.00003123729,
          -0.00003034148,
          -0.00002962711,
          -0.00002881417,
          -0.00002809604,
          -0.00002725468,
          -0.00002638569,
          -0.00002576312,
          -0.00002485668,
          -0.00002414128,
          -0.00002336594,
          -0.00002257921,
          -0.00002183152,
          -0.00002088659,
          -0.00002019649,
          -0.00001930283,
          -0.0000186027,
          -0.00001783476,
          -0.0000170538,
          -0.00001623099,
          -0.0000155145,
          -0.00001482695,
          -0.0000138903,
          -0.00001316949,
          -0.0000125145,
          -0.00001167322,
          -0.00001103859,
          -0.00001026198,
          -0.000009424491,
          -0.000008750291,
          -0.000007935611,
          -0.000007138409,
          -0.000006412325,
          -0.00000565069,
          9.792445e-7,
          9.815838e-7,
          9.318621e-7,
          0.000001033511,
          9.604257e-7,
          0.000001004143,
          9.503827e-7,
          0.000001009134,
          9.404145e-7,
          9.337691e-7,
          9.467918e-7,
          9.46797e-7,
          9.482274e-7,
          9.196192e-7,
          9.846583e-7,
          0.00000101431,
          0.000001028373,
          0.000001006336,
          9.423697e-7,
          9.892306e-7,
          9.626487e-7,
          8.964182e-7,
          0.000001001345,
          9.922112e-7,
          9.983352e-7,
          9.644374e-7,
          0.000001031519,
          9.135549e-7,
          9.892923e-7,
          9.741985e-7,
          9.767613e-7,
          9.564258e-7,
          9.368024e-7,
          9.607618e-7,
          9.785525e-7,
          0.000001029809,
          9.834845e-7,
          9.971478e-7,
          9.595696e-7,
          9.667366e-7,
          9.746635e-7,
          9.776596e-7,
          9.83128e-7,
          9.673785e-7,
          9.625062e-7,
          0.0000245141,
          0.00002851474,
          0.0000292331,
          0.00002997412,
          0.000030822,
          0.00003160018,
          0.00003232613,
          0.00003326861,
          0.00003388699,
          0.0000347265,
          0.00003551741,
          0.0000364137,
          0.0000371376,
          0.00003782519,
          0.0000387897,
          0.00003948937,
          0.00004022514,
          0.00004104177,
          0.00004187788,
          0.00004251006,
          0.00004343098,
          0.0000441041,
          0.00004495968,
          0.00004577481,
          0.00004650019,
          0.00004734931,
          0.0000480802,
          0.00004890029,
          0.00004962128,
          0.00005040884,
          0.00005121781,
          0.00005208878,
          0.00005278751,
          0.00005369008,
          0.00005448227,
          0.00005504727,
          0.00005594473,
          0.00005681423,
          0.00005753254,
          0.00005830556
         ]
        },
        {
         "mode": "lines",
         "name": "dV/dI",
         "type": "scatter",
         "x": [
          -0.000003,
          -0.00000296,
          -0.00000292,
          -0.00000288,
          -0.00000284,
          -0.0000028,
          -0.00000276,
          -0.00000272,
          -0.00000268,
          -0.00000264,
          -0.0000026,
          -0.00000256,
          -0.00000252,
          -0.00000248,
          -0.00000244,
          -0.0000024,
          -0.00000236,
          -0.00000232,
          -0.00000228,
          -0.00000224,
          -0.0000022,
          -0.00000216,
          -0.00000212,
          -0.00000208,
          -0.00000204,
          -0.000002,
          -0.00000196,
          -0.00000192,
          -0.00000188,
          -0.00000184,
          -0.0000018,
          -0.00000176,
          -0.00000172,
          -0.00000168,
          -0.00000164,
          -0.0000016,
          -0.00000156,
          -0.00000152,
          -0.00000148,
          -0.00000144,
          -0.0000014,
          -0.00000136,
          -0.00000132,
          -0.00000128,
          -0.00000124,
          -0.0000012,
          -0.00000116,
          -0.00000112,
          -0.00000108,
          -0.00000104,
          -0.000001,
          -9.6e-7,
          -9.2e-7,
          -8.8e-7,
          -8.4e-7,
          -8e-7,
          -7.6e-7,
          -7.2e-7,
          -6.8e-7,
          -6.4e-7,
          -6e-7,
          -5.6e-7,
          -5.2e-7,
          -4.8e-7,
          -4.4e-7,
          -4e-7,
          -3.6e-7,
          -3.2e-7,
          -2.8e-7,
          -2.4e-7,
          -2e-7,
          -1.6e-7,
          -1.2e-7,
          -8.00000000000001e-8,
          -4e-8,
          0,
          4e-8,
          8.00000000000001e-8,
          1.2e-7,
          1.6e-7,
          2e-7,
          2.4e-7,
          2.8e-7,
          3.2e-7,
          3.6e-7,
          4e-7,
          4.4e-7,
          4.8e-7,
          5.2e-7,
          5.6e-7,
          6e-7,
          6.4e-7,
          6.8e-7,
          7.2e-7,
          7.6e-7,
          8e-7,
          8.4e-7,
          8.8e-7,
          9.2e-7,
          9.6e-7,
          0.000001,
          0.00000104,
          0.00000108,
          0.00000112,
          0.00000116,
          0.0000012,
          0.00000124,
          0.00000128,
          0.00000132,
          0.00000136,
          0.0000014,
          0.00000144,
          0.00000148,
          0.00000152,
          0.00000156,
          0.0000016,
          0.00000164,
          0.00000168,
          0.00000172,
          0.00000176,
          0.0000018,
          0.00000184,
          0.00000188,
          0.00000192,
          0.00000196,
          0.000002,
          0.00000204,
          0.00000208,
          0.00000212,
          0.00000216,
          0.0000022,
          0.00000224,
          0.00000228,
          0.00000232,
          0.00000236,
          0.0000024,
          0.00000244,
          0.00000248,
          0.00000252,
          0.00000256,
          0.0000026,
          0.00000264,
          0.00000268,
          0.00000272,
          0.00000276,
          0.0000028,
          0.00000284,
          0.00000288,
          0.00000292,
          0.00000296,
          0.000003
         ],
         "y": [
          52.08899999999991,
          18.894749999999892,
          18.18149999999997,
          19.073750000000047,
          23.59649999999998,
          18.430249999999923,
          18.323999999999945,
          20.60375000000023,
          21.236000000000026,
          20.18424999999997,
          18.951749999999983,
          19.25275000000003,
          19.48649999999995,
          18.977000000000054,
          20.248249999999874,
          18.09174999999996,
          21.92200000000007,
          16.2460000000001,
          24.75450000000001,
          18.86799999999988,
          17.378250000000023,
          21.54024999999996,
          14.45625000000009,
          23.569249999999936,
          18.341249999999963,
          17.3755,
          22.632749999999984,
          19.656000000000052,
          16.783999999999956,
          23.246250000000042,
          17.86975000000011,
          18.459499999999935,
          22.395249999999972,
          17.859249999999957,
          20.32349999999997,
          17.953250000000107,
          21.033999999999953,
          21.724749999999993,
          15.56425000000001,
          22.660999999999927,
          17.88499999999998,
          19.383500000000133,
          19.668249999999958,
          18.692249999999955,
          23.623249999999988,
          17.25249999999995,
          22.341500000000142,
          17.50324999999996,
          19.198499999999964,
          19.524000000000033,
          20.570249999999955,
          17.91225000000007,
          17.18874999999998,
          23.41624999999999,
          18.020249999999997,
          16.374750000000002,
          21.031999999999982,
          15.865749999999968,
          19.415250000000057,
          20.937224999999977,
          16.85500000000001,
          20.366999999999965,
          19.93005000000001,
          18.152100000000033,
          19.040874999999968,
          165.74836250000004,
          0.05848250000000022,
          -1.2430424999999996,
          2.5412224999999986,
          -1.8271325000000012,
          1.0929324999999996,
          -1.3440074999999996,
          1.4687825000000072,
          -1.7179874999999982,
          -0.1661350000000003,
          0.32556749999999984,
          0.0001300000000004118,
          0.03575999999999882,
          -0.7152049999999978,
          1.6259774999999999,
          0.741292500000001,
          0.3515750000000006,
          -0.5509250000000036,
          -1.5991575,
          1.1715225000000022,
          -0.6645475000000013,
          -1.6557625000000025,
          2.623169999999999,
          -0.22834500000000102,
          0.1531000000000018,
          -0.8474450000000009,
          1.6770400000000059,
          -2.949102499999999,
          1.8934349999999982,
          -0.37734500000000143,
          0.06406999999999821,
          -0.5083874999999959,
          -0.49058500000000244,
          0.5989850000000038,
          0.44476749999999426,
          1.281412499999999,
          -1.158112499999994,
          0.3415824999999953,
          -0.9394550000000035,
          0.17917500000000117,
          0.19817249999999773,
          0.07490250000000127,
          0.13671000000000322,
          -0.39373750000000446,
          -0.12180750000000108,
          588.7898449999994,
          100.01599999999989,
          17.95899999999999,
          18.52549999999998,
          21.197000000000035,
          19.454500000000085,
          18.148749999999882,
          23.562000000000108,
          15.459499999999966,
          20.987750000000048,
          19.772749999999984,
          22.407249999999966,
          18.097500000000117,
          17.18974999999988,
          24.11275000000001,
          17.49175,
          18.394249999999946,
          20.415750000000074,
          20.90274999999992,
          15.804500000000045,
          23.02299999999984,
          16.827999999999985,
          21.389500000000314,
          20.37824999999999,
          18.1344999999999,
          21.227999999999973,
          18.27225000000005,
          20.502250000000025,
          18.024749999999848,
          19.689000000000057,
          20.22424999999989,
          21.77425000000007,
          17.468250000000236,
          22.564249999999937,
          19.80475000000002,
          14.124999999999956,
          22.436499999999977,
          21.73749999999987,
          17.957750000000072,
          19.32549999999987,
          null
         ],
         "yaxis": "y2"
        },
        {
         "line": {
          "dash": "dash"
         },
         "mode": "lines",
         "name": "Peak0",
         "type": "scatter",
         "x": [
          -4e-7,
          -4e-7
         ],
         "y": [
          -2.949102499999999,
          588.7898449999994
         ],
         "yaxis": "y2"
        },
        {
         "line": {
          "dash": "dash"
         },
         "mode": "lines",
         "name": "Peak1",
         "type": "scatter",
         "x": [
          0.00000144,
          0.00000144
         ],
         "y": [
          -2.949102499999999,
          588.7898449999994
         ],
         "yaxis": "y2"
        },
        {
         "line": {
          "dash": "dash"
         },
         "mode": "lines",
         "name": "I_0",
         "type": "scatter",
         "x": [
          0,
          0
         ],
         "y": [
          -2.949102499999999,
          588.7898449999994
         ],
         "yaxis": "y2"
        },
        {
         "line": {
          "dash": "dash"
         },
         "mode": "lines",
         "name": "Ic",
         "type": "scatter",
         "x": [
          0,
          0.00000144
         ],
         "y": [
          0,
          0
         ]
        },
        {
         "line": {
          "dash": "dash"
         },
         "mode": "lines",
         "name": "Ir",
         "type": "scatter",
         "x": [
          0,
          -4e-7
         ],
         "y": [
          0,
          0
         ]
        },
        {
         "line": {
          "dash": "dash"
         },
         "mode": "lines",
         "name": "R_fit",
         "type": "scatter",
         "x": [
          -0.000003,
          0.000003
         ],
         "y": [
          -0.000058843337288887086,
          0.000058843337288887086
         ]
        }
       ],
       "layout": {
        "annotations": [
         {
          "align": "right",
          "bgcolor": "#ff7f0e",
          "font": {
           "color": "#ffffff",
           "size": 16
          },
          "opacity": 0.8,
          "showarrow": false,
          "text": "Ic = 1.440µA, Ir = 0.400µA ,IcRn = 28.245 µV",
          "x": 1,
          "xref": "paper",
          "y": 1,
          "yref": "paper"
         }
        ],
        "height": 1000,
        "legend": {
         "orientation": "h",
         "x": 0.5,
         "xanchor": "center",
         "y": 1.03,
         "yanchor": "top"
        },
        "margin": {
         "b": 10,
         "l": 10,
         "r": 10,
         "t": 50
        },
        "template": {
         "data": {
          "bar": [
           {
            "error_x": {
             "color": "#2a3f5f"
            },
            "error_y": {
             "color": "#2a3f5f"
            },
            "marker": {
             "line": {
              "color": "#E5ECF6",
              "width": 0.5
             },
             "pattern": {
              "fillmode": "overlay",
              "size": 10,
              "solidity": 0.2
             }
            },
            "type": "bar"
           }
          ],
          "barpolar": [
           {
            "marker": {
             "line": {
              "color": "#E5ECF6",
              "width": 0.5
             },
             "pattern": {
              "fillmode": "overlay",
              "size": 10,
              "solidity": 0.2
             }
            },
            "type": "barpolar"
           }
          ],
          "carpet": [
           {
            "aaxis": {
             "endlinecolor": "#2a3f5f",
             "gridcolor": "white",
             "linecolor": "white",
             "minorgridcolor": "white",
             "startlinecolor": "#2a3f5f"
            },
            "baxis": {
             "endlinecolor": "#2a3f5f",
             "gridcolor": "white",
             "linecolor": "white",
             "minorgridcolor": "white",
             "startlinecolor": "#2a3f5f"
            },
            "type": "carpet"
           }
          ],
          "choropleth": [
           {
            "colorbar": {
             "outlinewidth": 0,
             "ticks": ""
            },
            "type": "choropleth"
           }
          ],
          "contour": [
           {
            "colorbar": {
             "outlinewidth": 0,
             "ticks": ""
            },
            "colorscale": [
             [
              0,
              "#0d0887"
             ],
             [
              0.1111111111111111,
              "#46039f"
             ],
             [
              0.2222222222222222,
              "#7201a8"
             ],
             [
              0.3333333333333333,
              "#9c179e"
             ],
             [
              0.4444444444444444,
              "#bd3786"
             ],
             [
              0.5555555555555556,
              "#d8576b"
             ],
             [
              0.6666666666666666,
              "#ed7953"
             ],
             [
              0.7777777777777778,
              "#fb9f3a"
             ],
             [
              0.8888888888888888,
              "#fdca26"
             ],
             [
              1,
              "#f0f921"
             ]
            ],
            "type": "contour"
           }
          ],
          "contourcarpet": [
           {
            "colorbar": {
             "outlinewidth": 0,
             "ticks": ""
            },
            "type": "contourcarpet"
           }
          ],
          "heatmap": [
           {
            "colorbar": {
             "outlinewidth": 0,
             "ticks": ""
            },
            "colorscale": [
             [
              0,
              "#0d0887"
             ],
             [
              0.1111111111111111,
              "#46039f"
             ],
             [
              0.2222222222222222,
              "#7201a8"
             ],
             [
              0.3333333333333333,
              "#9c179e"
             ],
             [
              0.4444444444444444,
              "#bd3786"
             ],
             [
              0.5555555555555556,
              "#d8576b"
             ],
             [
              0.6666666666666666,
              "#ed7953"
             ],
             [
              0.7777777777777778,
              "#fb9f3a"
             ],
             [
              0.8888888888888888,
              "#fdca26"
             ],
             [
              1,
              "#f0f921"
             ]
            ],
            "type": "heatmap"
           }
          ],
          "heatmapgl": [
           {
            "colorbar": {
             "outlinewidth": 0,
             "ticks": ""
            },
            "colorscale": [
             [
              0,
              "#0d0887"
             ],
             [
              0.1111111111111111,
              "#46039f"
             ],
             [
              0.2222222222222222,
              "#7201a8"
             ],
             [
              0.3333333333333333,
              "#9c179e"
             ],
             [
              0.4444444444444444,
              "#bd3786"
             ],
             [
              0.5555555555555556,
              "#d8576b"
             ],
             [
              0.6666666666666666,
              "#ed7953"
             ],
             [
              0.7777777777777778,
              "#fb9f3a"
             ],
             [
              0.8888888888888888,
              "#fdca26"
             ],
             [
              1,
              "#f0f921"
             ]
            ],
            "type": "heatmapgl"
           }
          ],
          "histogram": [
           {
            "marker": {
             "pattern": {
              "fillmode": "overlay",
              "size": 10,
              "solidity": 0.2
             }
            },
            "type": "histogram"
           }
          ],
          "histogram2d": [
           {
            "colorbar": {
             "outlinewidth": 0,
             "ticks": ""
            },
            "colorscale": [
             [
              0,
              "#0d0887"
             ],
             [
              0.1111111111111111,
              "#46039f"
             ],
             [
              0.2222222222222222,
              "#7201a8"
             ],
             [
              0.3333333333333333,
              "#9c179e"
             ],
             [
              0.4444444444444444,
              "#bd3786"
             ],
             [
              0.5555555555555556,
              "#d8576b"
             ],
             [
              0.6666666666666666,
              "#ed7953"
             ],
             [
              0.7777777777777778,
              "#fb9f3a"
             ],
             [
              0.8888888888888888,
              "#fdca26"
             ],
             [
              1,
              "#f0f921"
             ]
            ],
            "type": "histogram2d"
           }
          ],
          "histogram2dcontour": [
           {
            "colorbar": {
             "outlinewidth": 0,
             "ticks": ""
            },
            "colorscale": [
             [
              0,
              "#0d0887"
             ],
             [
              0.1111111111111111,
              "#46039f"
             ],
             [
              0.2222222222222222,
              "#7201a8"
             ],
             [
              0.3333333333333333,
              "#9c179e"
             ],
             [
              0.4444444444444444,
              "#bd3786"
             ],
             [
              0.5555555555555556,
              "#d8576b"
             ],
             [
              0.6666666666666666,
              "#ed7953"
             ],
             [
              0.7777777777777778,
              "#fb9f3a"
             ],
             [
              0.8888888888888888,
              "#fdca26"
             ],
             [
              1,
              "#f0f921"
             ]
            ],
            "type": "histogram2dcontour"
           }
          ],
          "mesh3d": [
           {
            "colorbar": {
             "outlinewidth": 0,
             "ticks": ""
            },
            "type": "mesh3d"
           }
          ],
          "parcoords": [
           {
            "line": {
             "colorbar": {
              "outlinewidth": 0,
              "ticks": ""
             }
            },
            "type": "parcoords"
           }
          ],
          "pie": [
           {
            "automargin": true,
            "type": "pie"
           }
          ],
          "scatter": [
           {
            "fillpattern": {
             "fillmode": "overlay",
             "size": 10,
             "solidity": 0.2
            },
            "type": "scatter"
           }
          ],
          "scatter3d": [
           {
            "line": {
             "colorbar": {
              "outlinewidth": 0,
              "ticks": ""
             }
            },
            "marker": {
             "colorbar": {
              "outlinewidth": 0,
              "ticks": ""
             }
            },
            "type": "scatter3d"
           }
          ],
          "scattercarpet": [
           {
            "marker": {
             "colorbar": {
              "outlinewidth": 0,
              "ticks": ""
             }
            },
            "type": "scattercarpet"
           }
          ],
          "scattergeo": [
           {
            "marker": {
             "colorbar": {
              "outlinewidth": 0,
              "ticks": ""
             }
            },
            "type": "scattergeo"
           }
          ],
          "scattergl": [
           {
            "marker": {
             "colorbar": {
              "outlinewidth": 0,
              "ticks": ""
             }
            },
            "type": "scattergl"
           }
          ],
          "scattermapbox": [
           {
            "marker": {
             "colorbar": {
              "outlinewidth": 0,
              "ticks": ""
             }
            },
            "type": "scattermapbox"
           }
          ],
          "scatterpolar": [
           {
            "marker": {
             "colorbar": {
              "outlinewidth": 0,
              "ticks": ""
             }
            },
            "type": "scatterpolar"
           }
          ],
          "scatterpolargl": [
           {
            "marker": {
             "colorbar": {
              "outlinewidth": 0,
              "ticks": ""
             }
            },
            "type": "scatterpolargl"
           }
          ],
          "scatterternary": [
           {
            "marker": {
             "colorbar": {
              "outlinewidth": 0,
              "ticks": ""
             }
            },
            "type": "scatterternary"
           }
          ],
          "surface": [
           {
            "colorbar": {
             "outlinewidth": 0,
             "ticks": ""
            },
            "colorscale": [
             [
              0,
              "#0d0887"
             ],
             [
              0.1111111111111111,
              "#46039f"
             ],
             [
              0.2222222222222222,
              "#7201a8"
             ],
             [
              0.3333333333333333,
              "#9c179e"
             ],
             [
              0.4444444444444444,
              "#bd3786"
             ],
             [
              0.5555555555555556,
              "#d8576b"
             ],
             [
              0.6666666666666666,
              "#ed7953"
             ],
             [
              0.7777777777777778,
              "#fb9f3a"
             ],
             [
              0.8888888888888888,
              "#fdca26"
             ],
             [
              1,
              "#f0f921"
             ]
            ],
            "type": "surface"
           }
          ],
          "table": [
           {
            "cells": {
             "fill": {
              "color": "#EBF0F8"
             },
             "line": {
              "color": "white"
             }
            },
            "header": {
             "fill": {
              "color": "#C8D4E3"
             },
             "line": {
              "color": "white"
             }
            },
            "type": "table"
           }
          ]
         },
         "layout": {
          "annotationdefaults": {
           "arrowcolor": "#2a3f5f",
           "arrowhead": 0,
           "arrowwidth": 1
          },
          "autotypenumbers": "strict",
          "coloraxis": {
           "colorbar": {
            "outlinewidth": 0,
            "ticks": ""
           }
          },
          "colorscale": {
           "diverging": [
            [
             0,
             "#8e0152"
            ],
            [
             0.1,
             "#c51b7d"
            ],
            [
             0.2,
             "#de77ae"
            ],
            [
             0.3,
             "#f1b6da"
            ],
            [
             0.4,
             "#fde0ef"
            ],
            [
             0.5,
             "#f7f7f7"
            ],
            [
             0.6,
             "#e6f5d0"
            ],
            [
             0.7,
             "#b8e186"
            ],
            [
             0.8,
             "#7fbc41"
            ],
            [
             0.9,
             "#4d9221"
            ],
            [
             1,
             "#276419"
            ]
           ],
           "sequential": [
            [
             0,
             "#0d0887"
            ],
            [
             0.1111111111111111,
             "#46039f"
            ],
            [
             0.2222222222222222,
             "#7201a8"
            ],
            [
             0.3333333333333333,
             "#9c179e"
            ],
            [
             0.4444444444444444,
             "#bd3786"
            ],
            [
             0.5555555555555556,
             "#d8576b"
            ],
            [
             0.6666666666666666,
             "#ed7953"
            ],
            [
             0.7777777777777778,
             "#fb9f3a"
            ],
            [
             0.8888888888888888,
             "#fdca26"
            ],
            [
             1,
             "#f0f921"
            ]
           ],
           "sequentialminus": [
            [
             0,
             "#0d0887"
            ],
            [
             0.1111111111111111,
             "#46039f"
            ],
            [
             0.2222222222222222,
             "#7201a8"
            ],
            [
             0.3333333333333333,
             "#9c179e"
            ],
            [
             0.4444444444444444,
             "#bd3786"
            ],
            [
             0.5555555555555556,
             "#d8576b"
            ],
            [
             0.6666666666666666,
             "#ed7953"
            ],
            [
             0.7777777777777778,
             "#fb9f3a"
            ],
            [
             0.8888888888888888,
             "#fdca26"
            ],
            [
             1,
             "#f0f921"
            ]
           ]
          },
          "colorway": [
           "#636efa",
           "#EF553B",
           "#00cc96",
           "#ab63fa",
           "#FFA15A",
           "#19d3f3",
           "#FF6692",
           "#B6E880",
           "#FF97FF",
           "#FECB52"
          ],
          "font": {
           "color": "#2a3f5f"
          },
          "geo": {
           "bgcolor": "white",
           "lakecolor": "white",
           "landcolor": "#E5ECF6",
           "showlakes": true,
           "showland": true,
           "subunitcolor": "white"
          },
          "hoverlabel": {
           "align": "left"
          },
          "hovermode": "closest",
          "mapbox": {
           "style": "light"
          },
          "paper_bgcolor": "white",
          "plot_bgcolor": "#E5ECF6",
          "polar": {
           "angularaxis": {
            "gridcolor": "white",
            "linecolor": "white",
            "ticks": ""
           },
           "bgcolor": "#E5ECF6",
           "radialaxis": {
            "gridcolor": "white",
            "linecolor": "white",
            "ticks": ""
           }
          },
          "scene": {
           "xaxis": {
            "backgroundcolor": "#E5ECF6",
            "gridcolor": "white",
            "gridwidth": 2,
            "linecolor": "white",
            "showbackground": true,
            "ticks": "",
            "zerolinecolor": "white"
           },
           "yaxis": {
            "backgroundcolor": "#E5ECF6",
            "gridcolor": "white",
            "gridwidth": 2,
            "linecolor": "white",
            "showbackground": true,
            "ticks": "",
            "zerolinecolor": "white"
           },
           "zaxis": {
            "backgroundcolor": "#E5ECF6",
            "gridcolor": "white",
            "gridwidth": 2,
            "linecolor": "white",
            "showbackground": true,
            "ticks": "",
            "zerolinecolor": "white"
           }
          },
          "shapedefaults": {
           "line": {
            "color": "#2a3f5f"
           }
          },
          "ternary": {
           "aaxis": {
            "gridcolor": "white",
            "linecolor": "white",
            "ticks": ""
           },
           "baxis": {
            "gridcolor": "white",
            "linecolor": "white",
            "ticks": ""
           },
           "bgcolor": "#E5ECF6",
           "caxis": {
            "gridcolor": "white",
            "linecolor": "white",
            "ticks": ""
           }
          },
          "title": {
           "x": 0.05
          },
          "xaxis": {
           "automargin": true,
           "gridcolor": "white",
           "linecolor": "white",
           "ticks": "",
           "title": {
            "standoff": 15
           },
           "zerolinecolor": "white",
           "zerolinewidth": 2
          },
          "yaxis": {
           "automargin": true,
           "gridcolor": "white",
           "linecolor": "white",
           "ticks": "",
           "title": {
            "standoff": 15
           },
           "zerolinecolor": "white",
           "zerolinewidth": 2
          }
         }
        },
        "title": {
         "font": {
          "size": 25
         },
         "text": "<b>#49 I-V 020-1_21-20-30-31<br>R_fit=19.6144 Ω",
         "x": 0
        },
        "width": 1000,
        "xaxis": {
         "tickfont": {
          "size": 16
         },
         "title": {
          "font": {
           "size": 20
          },
          "text": "appl_current"
         }
        },
        "yaxis": {
         "tickfont": {
          "size": 16
         },
         "title": {
          "font": {
           "size": 20
          },
          "text": "meas_voltage_K2"
         }
        },
        "yaxis2": {
         "overlaying": "y",
         "side": "right",
         "tickfont": {
          "size": 16
         },
         "title": {
          "font": {
           "size": 20
          },
          "text": "dV/dI"
         }
        }
       }
      }
     },
     "metadata": {},
     "output_type": "display_data"
    },
    {
     "name": "stdout",
     "output_type": "stream",
     "text": [
      "Ic = 1.44 µA\n",
      " Ir = 0.39999999999999997 µA\n",
      " R_fit = 19.61444576296236 Ω\n",
      " IcRn = 28.2448018986658 µV\n",
      " R_fit0 = 19.586792082604887 Ω\n",
      " R_fit1 = 19.64209944331984 Ω\n",
      "\n"
     ]
    },
    {
     "data": {
      "image/png": "[encoded data removed]",
      "text/plain": [
       "<Figure size 640x480 with 1 Axes>"
      ]
     },
     "metadata": {},
     "output_type": "display_data"
    },
    {
     "data": {
      "image/png": "[encoded data removed]",
      "text/plain": [
       "<Figure size 640x480 with 1 Axes>"
      ]
     },
     "metadata": {},
     "output_type": "display_data"
    },
    {
     "data": {
      "image/png": "[encoded data removed]",
      "text/plain": [
       "<Figure size 640x480 with 1 Axes>"
      ]
     },
     "metadata": {},
     "output_type": "display_data"
    }
   ],
   "source": [
    "plot_by_id(dataid)\n",
    "IV(dataid)\n",
    "IV_diff(dataid)\n",
    "plot_IV_and_dVdI(dataid)\n"
   ]
  },
  {
   "cell_type": "code",
   "execution_count": null,
   "metadata": {},
   "outputs": [],
   "source": [
    "def plot_IV_and_dVdI(run_id=1):\n",
    "    def R_fitting(run_id):\n",
    "        import numpy as np\n",
    "        from scipy.signal import find_peaks\n",
    "        import pandas as pd\n",
    "        dataset = qc.load_by_id(run_id)\n",
    "        df = dataset.to_pandas_dataframe().reset_index()\n",
    "        para_list = dataset.parameters.split(\",\")\n",
    "        run_id, exp_name, sample_name, sample_junction, name, description = get_detaset_info(dataset)\n",
    "        df['dV/dI'] = pd.DataFrame(np.diff(df['meas_voltage_K2']) / np.diff(df['appl_current']), columns=['r']).reindex(df.index, method=None)\n",
    "        current_0_index = df['appl_current'].abs().idxmin()\n",
    "        \n",
    "        dVdI_values = df['dV/dI'].values\n",
    "        peaks1, _ = find_peaks(dVdI_values[dVdI_values > dVdI_values[current_0_index]])\n",
    "        peaks0, _ = find_peaks(dVdI_values[dVdI_values < dVdI_values[current_0_index]])\n",
    "        \n",
    "        # Extract peak current and peak differential voltage values\n",
    "        peak_current = [df['appl_current'].iloc[i] for i in peaks1]\n",
    "        peak_R = [dVdI_values[i] for i in peaks1]\n",
    "\n",
    "        # Sort the peaks based on their values\n",
    "        sorted_peak_indices = np.argsort(peak_R)[::-1]  # Sort in descending order\n",
    "        top_two_peak_indices = sorted_peak_indices[:2]  # Select the top two indices\n",
    "\n",
    "        # Extract the top two peaks\n",
    "        top_two_peak_current = [peak_current[i] for i in top_two_peak_indices]\n",
    "        top_two_peak_R = [peak_R[i] for i in top_two_peak_indices]\n",
    "        # Ensure peak0 is less than peak1\n",
    "        peak0, peak1 = top_two_peak_current\n",
    "        if peak1 < peak0:\n",
    "            peak0, peak1 = peak1, peak0\n",
    "            top_two_peak_current = peak0, peak1\n",
    "        df_0 = df[df['appl_current'] < peak0]\n",
    "        df_1 = df[df['appl_current'] > peak1]\n",
    "\n",
    "        fit_0 = np.polyfit(df_0['appl_current'], df_0['meas_voltage_K2'], 1)\n",
    "        fit_1 = np.polyfit(df_1['appl_current'], df_1['meas_voltage_K2'], 1)\n",
    "        R_fit0 = fit_0[0]\n",
    "        R_fit1 = fit_1[0]\n",
    "        R_fit = (R_fit0 + R_fit1) / 2\n",
    "        Ic = top_two_peak_current[1] - df['appl_current'].iloc[current_0_index]\n",
    "        Ir = df['appl_current'].iloc[current_0_index] - top_two_peak_current[0]\n",
    "        IcRn = Ic * R_fit\n",
    "        return R_fit, R_fit0, R_fit1, top_two_peak_current, Ic, Ir, IcRn, current_0_index\n",
    "    \n",
    "    dataset = qc.load_by_id(run_id)\n",
    "    run_id, exp_name, sample_name, sample_junction, name, description = get_detaset_info(dataset)\n",
    "    df = dataset.to_pandas_dataframe().reset_index()\n",
    "    df['dV/dI'] = pd.DataFrame(np.diff(df['meas_voltage_K2']) / np.diff(df['appl_current']), columns=['r']).reindex(df.index, method=None)\n",
    "    para_list = dataset.parameters.split(\",\")\n",
    "    R_fit, R_fit0, R_fit1, top_two_peak_current, Ic, Ir, IcRn, current_0_index = R_fitting(run_id)\n",
    "    # Create traces\n",
    "    # Trace1 IV\n",
    "    trace1 = go.Scatter(x=df['appl_current'], y=df['meas_voltage_K2'], mode='lines', name='IV')\n",
    "    # Trace2 dV/dI\n",
    "    trace2 = go.Scatter(x=df['appl_current'], y=df['dV/dI'], mode='lines', name='dV/dI', yaxis='y2')\n",
    "    # Trace3 Peak0\n",
    "    trace3 = go.Scatter(x=[top_two_peak_current[0], top_two_peak_current[0]], y=[df['dV/dI'].min(), df['dV/dI'].max()], mode='lines', line=dict(dash='dash'), name='Peak0', yaxis='y2')\n",
    "    # Trace4 Peak1\n",
    "    trace4 = go.Scatter(x=[top_two_peak_current[1], top_two_peak_current[1]], y=[df['dV/dI'].min(), df['dV/dI'].max()], mode='lines', line=dict(dash='dash'), name='Peak1', yaxis='y2')\n",
    "    # Trace5 I_0\n",
    "    trace5 = go.Scatter(x=[df['appl_current'].iloc[current_0_index], df['appl_current'].iloc[current_0_index]], y=[df['dV/dI'].min(), df['dV/dI'].max()], mode='lines', line=dict(dash='dash'), name='I_0', yaxis='y2')\n",
    "    # Trace6 Ic\n",
    "    trace6 = go.Scatter(x=[df['appl_current'].iloc[current_0_index], top_two_peak_current[1]], y=[0, 0], mode='lines', line=dict(dash='dash'), name='Ic')\n",
    "    # Trace7 I_r\n",
    "    trace7 = go.Scatter(x=[df['appl_current'].iloc[current_0_index], top_two_peak_current[0]], y=[0, 0], mode='lines', line=dict(dash='dash'), name='Ir')\n",
    "    # Trace8 R_fit \n",
    "    trace8 = go.Scatter(x=[df['appl_current'].min(), df['appl_current'].max()], y=[R_fit * df['appl_current'].min(), R_fit * df['appl_current'].max()], mode='lines', line=dict(dash='dash'), name='R_fit') \n",
    "    \n",
    "    # Create layout\n",
    "    layout = go.Layout(\n",
    "        title=f'<b>#{run_id} {exp_name} {sample_name}<br>R_fit={R_fit:.4f} Ω', \n",
    "        title_font=dict(size=25), title_x=0,\n",
    "        xaxis=dict(title=para_list[0], tickfont=dict(size=16), title_font=dict(size=20)),\n",
    "        yaxis=dict(title=f\"{para_list[1]}\", tickfont=dict(size=16), title_font=dict(size=20)),\n",
    "        yaxis2=dict(title='dV/dI', tickfont=dict(size=16), title_font=dict(size=20), overlaying='y', side='right'),\n",
    "        width=1000, height=1000, margin=dict(l=10, r=10, t=50, b=10),\n",
    "        legend=dict(orientation=\"h\",\n",
    "                    x=0.5, y=1.03,\n",
    "                    xanchor=\"center\", yanchor=\"top\",)\n",
    "    )\n",
    "\n",
    "    fig = go.Figure(data=[trace1, trace2, trace3, trace4, trace5, trace6, trace7, trace8], layout=layout)\n",
    "    fig.update_layout(\n",
    "        annotations=[\n",
    "            go.layout.Annotation(\n",
    "                x=1,\n",
    "                y=1,\n",
    "                xref=\"paper\",\n",
    "                yref=\"paper\",\n",
    "                text=f\"Ic = {Ic*1e6:.3f}µA, Ir = {Ir*1e6:.3f}µA ,IcRn = {IcRn*1e6:.3f} µV\",\n",
    "                showarrow=False,\n",
    "                font=dict(\n",
    "                    size=16,\n",
    "                    color=\"#ffffff\"\n",
    "                ),\n",
    "                align=\"right\",\n",
    "                bgcolor=\"#ff7f0e\",\n",
    "                opacity=0.8\n",
    "            )\n",
    "        ]\n",
    "    )\n",
    "    fig.show()\n",
    "    print(f\"Ic = {Ic*1e6} µA\\n\", \n",
    "          f\"Ir = {Ir*1e6} µA\\n\",\n",
    "          f\"R_fit = {R_fit} Ω\\n\", \n",
    "          f\"IcRn = {Ic*1e6*R_fit} µV\\n\",\n",
    "          f\"R_fit0 = {R_fit0} Ω\\n\", \n",
    "          f\"R_fit1 = {R_fit1} Ω\\n\",\n",
    "          )\n",
    "    return \n",
    "\n",
    "plot_by_id(dataid)\n",
    "IV(dataid)\n",
    "IV_diff(dataid)\n",
    "plot_IV_and_dVdI(dataid)"
   ]
  },
  {
   "cell_type": "code",
   "execution_count": null,
   "metadata": {},
   "outputs": [],
   "source": [
    "dataset = qc.load_by_id(dataid)\n",
    "\n",
    "def _display_time(run_time):\n",
    "    total_seconds = int(run_time.total_seconds())\n",
    "\n",
    "    if total_seconds < 60:\n",
    "        display_time = f\"{total_seconds} sec\"\n",
    "    elif total_seconds < 3600:\n",
    "        minutes, seconds = divmod(total_seconds, 60)\n",
    "        display_time = f\"{minutes} min {seconds} sec\" if seconds else f\"{minutes} min\"\n",
    "    else:\n",
    "        hours, remainder = divmod(total_seconds, 3600)\n",
    "        minutes, seconds = divmod(remainder, 60)\n",
    "        display_time = f\"{hours} hr {minutes} min\" if minutes else f\"{hours} hr\"\n",
    "    return display_time \n",
    "\n",
    "# 獲取數據集信息\n",
    "run_id, exp_name, sample_name, description, start_time, completed_time, run_time, display_time = get_dataset_info(dataset)\n",
    "\n",
    "# Get parameters and auto-detect voltmeter\n",
    "parameters = dataset.get_parameters()\n",
    "voltage_param = next((p for p in parameters if p.name.startswith('meas_voltage')), None)\n",
    "\n",
    "if voltage_param is None:\n",
    "    raise ValueError(\"No voltage measurement parameter found\")\n",
    "\n",
    "voltmeter = voltage_param.name.split('_')[-1]  # e.g., 'K1' or 'K2'\n",
    "voltage_unit = voltage_param.unit\n",
    "\n",
    "# Extract data from the dataset\n",
    "data = dataset.get_parameter_data()\n",
    "appl_current = data[voltage_param.name]['appl_current']\n",
    "meas_voltage = data[voltage_param.name][voltage_param.name]\n",
    "meas_voltage_avg = np.mean(meas_voltage)\n",
    "\n",
    "# Calculate dV/dI\n",
    "dV = np.diff(meas_voltage)\n",
    "dI = np.diff(appl_current)\n",
    "dVdI = dV / dI\n",
    "\n",
    "\n",
    "# 計算 meas_voltage 的平均值和標準差\n",
    "meas_voltage_mean = np.mean(meas_voltage)\n",
    "meas_voltage_std = np.std(meas_voltage)\n",
    "\n",
    "# 計算 +-0.8 個標準差的範圍\n",
    "lower_bound = meas_voltage_mean - 0.8 * meas_voltage_std\n",
    "upper_bound = meas_voltage_mean + 0.8 * meas_voltage_std\n",
    "\n",
    "# 過濾出在這個範圍內的 appl_current 和 meas_voltage 數據\n",
    "filtered_indices = (meas_voltage >= lower_bound) & (meas_voltage <= upper_bound)\n",
    "filtered_appl_current = appl_current[filtered_indices]\n",
    "filtered_meas_voltage = meas_voltage[filtered_indices]\n",
    "\n",
    "# 計算過濾後的 dV/dI\n",
    "filtered_dVdI = np.diff(filtered_meas_voltage) / np.diff(filtered_appl_current)\n",
    "\n",
    "# 計算Savitzky-Golay平滑過濾後的 dV/dI\n",
    "filtered_dVdI_smooth = savgol_filter(filtered_dVdI, window_length=6, polyorder=3)\n",
    "\n",
    "# 對平滑過濾後的 dV/dI 數據進行峰值檢測\n",
    "filtered_dVdI_smooth_peaks, properties = find_peaks(filtered_dVdI_smooth, height=np.mean(filtered_dVdI_smooth))\n",
    "\n",
    "# 如果找到峰值，提取數值最大的兩個峰值\n",
    "if len(filtered_dVdI_smooth_peaks) > 0:\n",
    "    peak_heights = properties['peak_heights']\n",
    "    top_two_peaks_indices = np.argsort(peak_heights)[-2:]  # 取數值最大的兩個峰值索引\n",
    "    smooth_peak_indices = filtered_dVdI_smooth_peaks[top_two_peaks_indices]\n",
    "    smooth_peak_currents = filtered_appl_current[1:][smooth_peak_indices]\n",
    "    smooth_peak_dvdi = filtered_dVdI_smooth[smooth_peak_indices]\n",
    "\n",
    "    # 分辨出 >0 和 <0 的峰值\n",
    "    positive_peak_index = smooth_peak_indices[smooth_peak_currents > 0][0]\n",
    "    negative_peak_index = smooth_peak_indices[smooth_peak_currents < 0][0]\n",
    "\n",
    "    positive_peak_current = smooth_peak_currents[smooth_peak_currents > 0][0]\n",
    "    negative_peak_current = smooth_peak_currents[smooth_peak_currents < 0][0]\n",
    "\n",
    "    positive_peak_dvdi = smooth_peak_dvdi[smooth_peak_currents > 0][0]\n",
    "    negative_peak_dvdi = smooth_peak_dvdi[smooth_peak_currents < 0][0]\n",
    "\n",
    "# Ic = positive_peak_current \n",
    "# Ir = negative_peak_current \n",
    "Ic = appl_current[int(np.where(appl_current == positive_peak_current)[0][0])]\n",
    "Ir = appl_current[int(np.where(appl_current == negative_peak_current)[0][0])]\n",
    "\n",
    "\n",
    "# # Apply Savitzky-Golay filter to smooth dV/dI\n",
    "dVdI_smooth = savgol_filter(dVdI, window_length=6, polyorder=3)\n",
    "# # dVdI_smooth = dVdI \n",
    "# Auto-select appropriate units for dV/dI\n",
    "dVdI_avg, dVdI_unit = auto_select_unit(np.mean(dVdI), 'Ω')\n",
    "\n",
    "# # Find peaks for positive and negative current regions\n",
    "# positive_current_mask = appl_current[1:] > 0\n",
    "# negative_current_mask = appl_current[1:] < 0\n",
    "\n",
    "# # Find peaks in positive current region\n",
    "# positive_peaks, _ = find_peaks(dVdI_smooth[positive_current_mask], height=np.mean(dVdI_smooth[positive_current_mask]))\n",
    "# if len(positive_peaks) > 0:\n",
    "#     positive_peak_index = positive_peaks[0]  # Take the first peak\n",
    "#     positive_peak_current = appl_current[1:][positive_current_mask][positive_peak_index]\n",
    "#     positive_peak_dvdi = dVdI_smooth[positive_current_mask][positive_peak_index]\n",
    "\n",
    "# # Find peaks in negative current region\n",
    "# negative_peaks, _ = find_peaks(dVdI_smooth[negative_current_mask], height=np.mean(dVdI_smooth[negative_current_mask]))\n",
    "# if len(negative_peaks) > 0:\n",
    "#     negative_peak_index = negative_peaks[0]  # Take the first peak\n",
    "#     negative_peak_current = appl_current[1:][negative_current_mask][negative_peak_index]\n",
    "#     negative_peak_dvdi = dVdI_smooth[negative_current_mask][negative_peak_index]\n",
    "\n",
    "# Get current unit\n",
    "current_param = next(p for p in parameters if p.name == 'appl_current')\n",
    "current_unit = current_param.unit\n",
    "\n",
    "# Calculate the step size and number of points\n",
    "current_step = (appl_current[len(appl_current)-1]-appl_current[0])/(len(appl_current)-1)\n",
    "current_points = len(appl_current)\n",
    "\n",
    "# Auto-select appropriate units for step sizes\n",
    "auto_current_step, auto_current_unit = auto_select_unit(current_step, current_unit)\n",
    "\n",
    "# Create hover text\n",
    "hover_text = [f'{voltmeter}<br>Current: {i:.2e} {current_unit}<br>Voltage: {v:.2e} {voltage_unit}' for i, v in zip(appl_current, meas_voltage)]\n",
    "\n",
    "# Calculate average IV curve\n",
    "avg_current = np.mean(appl_current)\n",
    "avg_voltage = np.mean(meas_voltage)\n",
    "\n",
    "\n",
    "data = meas_voltage\n",
    "\n",
    "# 計算標準差\n",
    "std_dev = np.std(data)\n",
    "\n",
    "# 定義你想要的標準差倍數\n",
    "std_multiples = [0, 0.1, 0.2, 0.5]\n",
    "\n",
    "# 計算標準差倍數對應的值\n",
    "std_values = [meas_voltage_avg + multiple * std_dev for multiple in std_multiples] + [meas_voltage_avg - multiple * std_dev for multiple in std_multiples]\n",
    "\n",
    "# # 定義你想要的分位數\n",
    "# percentiles = [10, 20, 30, 40, 50, 60, 70, 80, 90]\n",
    "\n",
    "# # 計算分位數\n",
    "# quantiles = np.percentile(data, percentiles)\n",
    "\n",
    "# Create the traces\n",
    "# IV \n",
    "trace1 = go.Scatter(\n",
    "    x=appl_current,\n",
    "    y=meas_voltage,\n",
    "    mode='markers',\n",
    "    name='IV',\n",
    "    hovertext=hover_text,\n",
    "    hoverinfo='text'\n",
    ")\n",
    "\n",
    "trace2 = go.Scatter(\n",
    "    x=appl_current,\n",
    "    y=dVdI_smooth,\n",
    "    mode='lines',\n",
    "    name='dV/dI (smoothed)',\n",
    "    yaxis='y2',\n",
    "    hovertext=hover_text,\n",
    "    hoverinfo='text'\n",
    ")\n",
    "\n",
    "trace3 = go.Scatter(\n",
    "    x=appl_current,\n",
    "    y=dVdI,\n",
    "    mode='lines',\n",
    "    name='dV/dI',\n",
    "    yaxis='y2',\n",
    "    hovertext=hover_text,\n",
    "    hoverinfo='text'\n",
    ")\n",
    "\n",
    "# 繪製平滑過濾後的峰值\n",
    "trace4 = go.Scatter(\n",
    "    x=[positive_peak_current],\n",
    "    y=[positive_peak_dvdi],\n",
    "    mode='markers',\n",
    "    name='Positive Peak',\n",
    "    marker=dict(size=10, color='red', symbol='star'),\n",
    "    yaxis='y2'\n",
    ")\n",
    "\n",
    "trace5 = go.Scatter(\n",
    "    x=[negative_peak_current],\n",
    "    y=[negative_peak_dvdi],\n",
    "    mode='markers',\n",
    "    name='Negative Peak',\n",
    "    marker=dict(size=10, color='green', symbol='star'),\n",
    "    yaxis='y2'\n",
    ")\n",
    "\n",
    "trace6 = go.Scatter(x=[Ir, Ir], y=[min(dVdI), max(dVdI)], mode='lines', line=dict(dash='dash'), name='Peak0',yaxis='y2')\n",
    "trace7 = go.Scatter(x=[Ic, Ic], y=[min(dVdI), max(dVdI)], mode='lines', line=dict(dash='dash'), name='Peak1',yaxis='y2')\n",
    "\n",
    "#trace for filtered_dVdI_smooth\n",
    "trace8 = go.Scatter(\n",
    "    x=filtered_appl_current[1:],\n",
    "    y=filtered_dVdI_smooth,\n",
    "    mode='lines',\n",
    "    name='filtered_dV/dI (smoothed)',\n",
    "    yaxis='y2',\n",
    ")    \n",
    "    \n",
    "\n",
    "# trace4 = go.Scatter(\n",
    "#     x=appl_current,\n",
    "#     y=np.array([meas_voltage_avg]),\n",
    "#     mode='lines',\n",
    "#     name='Average Voltage',\n",
    "#     yaxis='y1',\n",
    "#     # hovertext=hover_text,\n",
    "#     # hoverinfo='text'\n",
    "# )\n",
    "\n",
    "# trace5 = go.Scatter(\n",
    "#     x=[positive_peak_current] if 'positive_peak_current' in locals() else [],\n",
    "#     y=[positive_peak_dvdi] if 'positive_peak_dvdi' in locals() else [],\n",
    "#     mode='markers',\n",
    "#     name='Positive Current Peak',\n",
    "#     marker=dict(size=10, color='red', symbol='star'),\n",
    "#     yaxis='y2'\n",
    "# )\n",
    "\n",
    "# trace6 = go.Scatter(\n",
    "#     x=[negative_peak_current] if 'negative_peak_current' in locals() else [],\n",
    "#     y=[negative_peak_dvdi] if 'negative_peak_dvdi' in locals() else [],\n",
    "#     mode='markers',\n",
    "#     name='Negative Current Peak',\n",
    "#     marker=dict(size=10, color='blue', symbol='star'),\n",
    "#     yaxis='y2'\n",
    "# )\n",
    "\n",
    "# Add average IV curve trace\n",
    "# trace7 = go.Scatter(\n",
    "#     x=appl_current,\n",
    "#     y=[avg_voltage] * len(appl_current),  # Create a list of avg_voltage with the same length as appl_current\n",
    "#     mode='lines',  # Change mode to 'lines' to draw a line\n",
    "#     name='Average IV',\n",
    "#     marker=dict(size=10, color='green', symbol='diamond'),\n",
    "#     hovertext=f'Average Current: {avg_current:.2e} {current_unit}<br>Average Voltage: {avg_voltage:.2e} {voltage_unit}',\n",
    "#     hoverinfo='text'\n",
    "# )\n",
    "\n",
    "# Update layout\n",
    "layout = go.Layout(\n",
    "    title=f'<b>#{run_id}|{exp_name}|</b> {sample_name}',\n",
    "    xaxis_title=f'Applied Current ({current_unit})',\n",
    "    yaxis_title=f'Measured Voltage ({voltage_unit})',\n",
    "    yaxis2=dict(\n",
    "        title=f'dV/dI (Ω)',\n",
    "        overlaying='y',\n",
    "        side='right'\n",
    "    ),\n",
    "    legend=dict(orientation=\"h\",\n",
    "                x=0.5, y=1,\n",
    "                xanchor=\"center\", yanchor=\"bottom\",),\n",
    "    font=dict(size=14),\n",
    "    width=1200, height=1000\n",
    ")\n",
    "\n",
    "# Create the figure\n",
    "fig = go.Figure(data=[trace1, trace2, trace3, trace4, trace5, trace6, trace7, trace8], layout=layout)\n",
    "\n",
    "# Add description as annotation\n",
    "fig.add_annotation(\n",
    "    xref='paper', yref='paper',\n",
    "    x=0.01, y=0.99,\n",
    "    text=f'{start_time}<br>{current_points} pt, {display_time}',\n",
    "    showarrow=False,\n",
    "    font=dict(size=12),\n",
    "    align='left',\n",
    ")\n",
    "\n",
    "fig.add_annotation(\n",
    "    xref='paper', yref='paper',\n",
    "    x=0.99, y=0.01,\n",
    "    text=f'Step size: {auto_current_step:.1f} {auto_current_unit}',\n",
    "    showarrow=False,\n",
    "    font=dict(size=12),\n",
    "    align='right',\n",
    ")\n",
    "\n",
    "# # 添加分位數作為水平線\n",
    "# for p, q in zip(percentiles, quantiles):\n",
    "#     fig.add_shape(\n",
    "#         type=\"line\",\n",
    "#         x0=min(appl_current), y0=q, x1=max(appl_current), y1=q,\n",
    "#         line=dict(color=\"Red\", width=2, dash=\"dash\"),\n",
    "#         xref='x', yref='y'\n",
    "#     )\n",
    "#     fig.add_annotation(\n",
    "#         x=max(appl_current), y=q,\n",
    "#         text=f'{p}th',\n",
    "#         showarrow=True,\n",
    "#         arrowhead=2,\n",
    "#         ax=40,\n",
    "#         ay=0\n",
    "#     )\n",
    "\n",
    "# 添加標準差倍數作為水平線\n",
    "for multiple, value in zip(std_multiples + [-m for m in std_multiples], std_values):\n",
    "    fig.add_shape(\n",
    "        type=\"line\",\n",
    "        x0=min(appl_current),\n",
    "        y0=value,\n",
    "        x1=max(appl_current),\n",
    "        y1=value,\n",
    "        line=dict(color=\"Gray\", width=0.5, dash=\"dash\"),\n",
    "        xref='x',\n",
    "        yref='y'\n",
    "    )\n",
    "    fig.add_annotation(\n",
    "        xref='paper',\n",
    "        x=0.01,\n",
    "        y=value,\n",
    "        text=f'{multiple}σ',\n",
    "        showarrow=True,\n",
    "        arrowhead=1,\n",
    "        ax=-40,\n",
    "        ay=0\n",
    "    )\n",
    "\n",
    "\n",
    "# Show the plot\n",
    "fig.show()"
   ]
  },
  {
   "cell_type": "code",
   "execution_count": 107,
   "metadata": {},
   "outputs": [],
   "source": [
    "def IV_diff(run_id=1):\n",
    "    dataset = qc.load_by_id(run_id)\n",
    "    run_id, exp_name, sample_name, sample_junction, name, description = get_detaset_info(\n",
    "        dataset)\n",
    "    df = dataset.to_pandas_dataframe().reset_index()\n",
    "    para_list = dataset.parameters.split(\",\")\n",
    "\n",
    "    current = df[para_list[0]].tolist()\n",
    "    current_array = np.array(current)\n",
    "    voltage = df[para_list[1]].tolist()\n",
    "\n",
    "    differential_voltage = np.diff(voltage) / np.diff(current)\n",
    "    current = current[:-1]\n",
    "\n",
    "    peaks, _ = find_peaks(differential_voltage)\n",
    "\n",
    "    # Extract peak current and peak differential voltage values\n",
    "    peak_current = [current[i] for i in peaks]\n",
    "    peak_voltage_diff = [differential_voltage[i] for i in peaks]\n",
    "\n",
    "    # Sort the peaks based on their values\n",
    "    sorted_peak_indices = np.argsort(peak_voltage_diff)[::-1]  # Sort in descending order\n",
    "    top_two_peak_indices = sorted_peak_indices[:2]  # Select the top two indices\n",
    "\n",
    "    # Extract the top two peaks\n",
    "    top_two_peak_current = [peak_current[i] for i in top_two_peak_indices]\n",
    "    top_two_peak_voltage_diff = [peak_voltage_diff[i] for i in top_two_peak_indices]\n",
    "\n",
    "    # Calculate the center points of the top two peaks\n",
    "    center_points = [(top_two_peak_current[i] + top_two_peak_current[i+1]) / 2 for i in range(len(top_two_peak_current) - 1)]\n",
    "\n",
    "    # Calculate the difference between the top two biggest peaks\n",
    "    peak_difference = abs(top_two_peak_current[0] - top_two_peak_current[1])\n",
    "    current_array = np.array(current)\n",
    "    indices = [np.argmin(np.abs(current_array - cp)) for cp in center_points]\n",
    "    # indices = [np.argmin(np.abs(current  - cp)) for cp in center_points]\n",
    "\n",
    "\n",
    "    # Determine the appropriate unit for current\n",
    "    if peak_difference >= 1e-3:\n",
    "        unit = \"mA\"\n",
    "        conversion_factor = 1e3\n",
    "    elif peak_difference >= 1e-6:\n",
    "        unit = \"μA\"\n",
    "        conversion_factor = 1e6\n",
    "    else:\n",
    "        unit = \"nA\"\n",
    "        conversion_factor = 1e9\n",
    "\n",
    "    # Determine the appropriate unit for current\n",
    "    if peak_difference >= 1e-3:\n",
    "        unit = \"mA\"\n",
    "    elif peak_difference >= 1e-6:\n",
    "        unit = \"μA\"\n",
    "    elif peak_difference >= 1e-9:\n",
    "        unit = \"nA\"\n",
    "    else:\n",
    "        unit = \"pA\"\n",
    "\n",
    "    # Create a Plotly trace for the differential\n",
    "    trace_diff = go.Scatter(x=[c * conversion_factor for c in current], y=differential_voltage, mode='lines', name='dV/dI')\n",
    "    # Add markers for the top two peaks\n",
    "    trace_top_two_peaks = go.Scatter(x=[p * conversion_factor for p in top_two_peak_current], y=top_two_peak_voltage_diff, mode='markers', marker=dict(color='red'), name='Top Two Peaks')\n",
    "    # Add markers for the center points\n",
    "    trace_center_points = go.Scatter(x=[cp * conversion_factor for cp in center_points], y=[0]*len(center_points), mode='markers', marker=dict(color='blue', symbol='cross'), name='Center Points')\n",
    "\n",
    "    # Create layout\n",
    "    layout = go.Layout(title=f\"<b>#{run_id} I-dV/dI</b> {sample_name}\",title_font=dict(size=28),\n",
    "                    xaxis=dict(title=f'Current ({unit})',tickfont=dict(size=16),title_font=dict(size=20)),\n",
    "                    yaxis=dict(title='dV/dI',tickfont=dict(size=16),title_font=dict(size=20)),\n",
    "                    legend=dict(orientation=\"h\", yanchor=\"bottom\", y=-0.07, xanchor=\"right\", x=1),\n",
    "                    width=1080, height=960,\n",
    "                    margin=dict(l=10, r=10, t=50, b=10))\n",
    "\n",
    "    # Create the figure\n",
    "    fig = go.Figure(data=[trace_diff, trace_top_two_peaks, trace_center_points], layout=layout)\n",
    "\n",
    "    # Add annotation for the current value of center points\n",
    "    for i, center_point in enumerate(center_points):\n",
    "        fig.add_annotation(\n",
    "            x=center_point * conversion_factor,\n",
    "            y=1.5 * min(differential_voltage)+20,\n",
    "            text=f'Center Point: {center_point * conversion_factor:.1f}{unit} <br> Peak difference: {peak_difference*conversion_factor:.1f} {unit}',\n",
    "            showarrow=True,\n",
    "            arrowhead=2,\n",
    "            arrowsize=1,\n",
    "            arrowwidth=2,\n",
    "            arrowcolor='black',\n",
    "            ax=-100,\n",
    "            ay=-200 - 30 * i\n",
    "        )\n",
    "\n",
    "    # Plot the figure\n",
    "    fig.show()\n",
    "    # pio.write_image(fig, r\"Test/104_IV_diff_{}.svg\".format(run_id))"
   ]
  },
  {
   "cell_type": "code",
   "execution_count": 53,
   "metadata": {},
   "outputs": [],
   "source": [
    "def get_detaset_info(dataset):\n",
    "    run_id = dataset.captured_run_id\n",
    "    exp_name = dataset.exp_name\n",
    "    sample_name = dataset.sample_name\n",
    "    name = dataset.name\n",
    "    description = dataset.description\n",
    "    sample_junction = extract_sample_junction(sample_name)\n",
    "    return run_id, exp_name, sample_name, sample_junction, name, description\n",
    "\n",
    "def extract_sample_junction(sample_name):\n",
    "    \"\"\"Extracts the complete sample junction from the provided sample name.\n",
    "\n",
    "    Args:\n",
    "      sample_name: The name of the sample containing the junction information.\n",
    "\n",
    "    Returns:\n",
    "      The extracted sample junction, or None if not found.\n",
    "    \"\"\"\n",
    "\n",
    "    delimiter = \"_J\"\n",
    "    if delimiter in sample_name:\n",
    "        # +3 to include \"_J\"\n",
    "        return sample_name[:sample_name.find(delimiter) + 3]\n",
    "    else:\n",
    "        return None"
   ]
  },
  {
   "cell_type": "code",
   "execution_count": 54,
   "metadata": {},
   "outputs": [],
   "source": [
    "def IV(run_id=1):\n",
    "    dataset = qc.load_by_id(run_id)\n",
    "    R = get_R_from_IV(run_id)\n",
    "    run_id, exp_name, sample_name, sample_junction, name, description = get_detaset_info(\n",
    "        dataset)\n",
    "    df = dataset.to_pandas_dataframe().reset_index()\n",
    "    para_list = dataset.parameters.split(\",\")\n",
    "\n",
    "    # Create a Plotly trace\n",
    "    trace = go.Scatter(x=df[para_list[0]], y=df[para_list[1]], mode='lines', name='Voltage vs. Current')\n",
    "\n",
    "    # Create layout with micro-scale y-axis\n",
    "    layout = go.Layout(title=f'<b>#{run_id} {exp_name}</b> {sample_name}, R_fit={R:.4f} Ω', title_font=dict(size=28),\n",
    "                       xaxis=dict(title=para_list[0], tickfont=dict(size=16),title_font=dict(size=20)),\n",
    "                       yaxis=dict(title=f\"{para_list[1]}\", tickfont=dict(size=16),title_font=dict(size=20)), \n",
    "                       width=1080, height=960,\n",
    "                       margin=dict(l=10, r=10, t=50, b=10))\n",
    "    # Create the figure\n",
    "    fig = go.Figure(data=[trace], layout=layout)\n",
    "    # pio.write_image(fig, r\"Test/104_IV_{}.svg\".format(run_id))\n",
    "    # svg_to_png(r\"Test/104_IV_{}.svg\".format(run_id), r\"Test/104_IV_{}.jpg\".format(run_id), 2160)\n",
    "    # Plot the figure\n",
    "    fig.show()"
   ]
  },
  {
   "cell_type": "code",
   "execution_count": null,
   "metadata": {},
   "outputs": [],
   "source": [
    "IV(dataid)"
   ]
  }
 ],
 "metadata": {
  "kernelspec": {
   "display_name": "py3.11",
   "language": "python",
   "name": "python3"
  },
  "language_info": {
   "codemirror_mode": {
    "name": "ipython",
    "version": 3
   },
   "file_extension": ".py",
   "mimetype": "text/x-python",
   "name": "python",
   "nbconvert_exporter": "python",
   "pygments_lexer": "ipython3",
   "version": "3.9.13"
  }
 },
 "nbformat": 4,
 "nbformat_minor": 2
}
