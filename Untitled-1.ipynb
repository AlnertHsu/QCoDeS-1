{
 "cells": [
  {
   "cell_type": "code",
   "execution_count": 1,
   "metadata": {},
   "outputs": [
    {
     "name": "stdout",
     "output_type": "stream",
     "text": [
      "Users/albert-mac/Code/GitHub\n"
     ]
    }
   ],
   "source": [
    "import sys\n",
    "import runpy\n",
    "import os\n",
    "\n",
    "dirpath = os.getcwd()\n",
    "code_path = os.path.join(*dirpath.split(os.sep)[:-1])\n",
    "\n",
    "sys.path.append(os.path.join(code_path, 'drivers'))\n",
    "print(code_path)"
   ]
  },
  {
   "cell_type": "code",
   "execution_count": null,
   "metadata": {},
   "outputs": [],
   "source": []
  }
 ],
 "metadata": {
  "kernelspec": {
   "display_name": "py3.11",
   "language": "python",
   "name": "python3"
  },
  "language_info": {
   "codemirror_mode": {
    "name": "ipython",
    "version": 3
   },
   "file_extension": ".py",
   "mimetype": "text/x-python",
   "name": "python",
   "nbconvert_exporter": "python",
   "pygments_lexer": "ipython3",
   "version": "3.11.8"
  }
 },
 "nbformat": 4,
 "nbformat_minor": 2
}
