{
 "cells": [
  {
   "cell_type": "markdown",
   "metadata": {},
   "source": [
    "# Module import"
   ]
  },
  {
   "cell_type": "code",
   "execution_count": null,
   "metadata": {},
   "outputs": [],
   "source": [
    "from Analysis_functions_v3 import *"
   ]
  },
  {
   "cell_type": "markdown",
   "metadata": {},
   "source": [
    "# .db file import"
   ]
  },
  {
   "cell_type": "code",
   "execution_count": 200,
   "metadata": {},
   "outputs": [
    {
     "data": {
      "text/plain": [
       "[I vs V#100KOhm_100mKIV_standard1K#1@/Users/albert-mac/Library/CloudStorage/SynologyDrive-KeLab/00 Users/Albert/10_Data/03_Data analysis/PtTe2/PtTe2_NbTi_B7_2024-07-02_01.db\n",
       " ----------------------------------------------------------------------------------------------------------------------------------------------------------------------------\n",
       " 1-results-1-appl_current,meas_voltage_K2-101,\n",
       " I vs V#100KOhm_100mKIV_standard1K#2@/Users/albert-mac/Library/CloudStorage/SynologyDrive-KeLab/00 Users/Albert/10_Data/03_Data analysis/PtTe2/PtTe2_NbTi_B7_2024-07-02_01.db\n",
       " ----------------------------------------------------------------------------------------------------------------------------------------------------------------------------\n",
       " 2-results-1-appl_current,meas_voltage_K2-101,\n",
       " I vs V#100KOhm_100mKIV_standard1K#3@/Users/albert-mac/Library/CloudStorage/SynologyDrive-KeLab/00 Users/Albert/10_Data/03_Data analysis/PtTe2/PtTe2_NbTi_B7_2024-07-02_01.db\n",
       " ----------------------------------------------------------------------------------------------------------------------------------------------------------------------------\n",
       " 3-results-1-appl_current,meas_voltage_K2-101,\n",
       " I vs V#100KOhm_100mKIV_standard1K#4@/Users/albert-mac/Library/CloudStorage/SynologyDrive-KeLab/00 Users/Albert/10_Data/03_Data analysis/PtTe2/PtTe2_NbTi_B7_2024-07-02_01.db\n",
       " ----------------------------------------------------------------------------------------------------------------------------------------------------------------------------\n",
       " 4-results-1-appl_current,meas_voltage_K2-101,\n",
       " I vs V#L01_100KOhm_100mKIV_19_18_21_20#5@/Users/albert-mac/Library/CloudStorage/SynologyDrive-KeLab/00 Users/Albert/10_Data/03_Data analysis/PtTe2/PtTe2_NbTi_B7_2024-07-02_01.db\n",
       " ---------------------------------------------------------------------------------------------------------------------------------------------------------------------------------\n",
       " 5-results-1-appl_current,meas_voltage_K2-101,\n",
       " I vs V#L01_100KOhm_100mKIV_20_21_23_22#6@/Users/albert-mac/Library/CloudStorage/SynologyDrive-KeLab/00 Users/Albert/10_Data/03_Data analysis/PtTe2/PtTe2_NbTi_B7_2024-07-02_01.db\n",
       " ---------------------------------------------------------------------------------------------------------------------------------------------------------------------------------\n",
       " 6-results-1-appl_current,meas_voltage_K2-101,\n",
       " I vs V#L01_100KOhm_100mKIV_20_21_23_22#7@/Users/albert-mac/Library/CloudStorage/SynologyDrive-KeLab/00 Users/Albert/10_Data/03_Data analysis/PtTe2/PtTe2_NbTi_B7_2024-07-02_01.db\n",
       " ---------------------------------------------------------------------------------------------------------------------------------------------------------------------------------\n",
       " 7-results-1-appl_current,meas_voltage_K2-101,\n",
       " I vs V#L02_100KOhm_100mKIV_17_16_26_27#8@/Users/albert-mac/Library/CloudStorage/SynologyDrive-KeLab/00 Users/Albert/10_Data/03_Data analysis/PtTe2/PtTe2_NbTi_B7_2024-07-02_01.db\n",
       " ---------------------------------------------------------------------------------------------------------------------------------------------------------------------------------\n",
       " 8-results-1-appl_current,meas_voltage_K2-101,\n",
       " I vs V#L02_100KOhm_100mKIV_17_16_26_27#9@/Users/albert-mac/Library/CloudStorage/SynologyDrive-KeLab/00 Users/Albert/10_Data/03_Data analysis/PtTe2/PtTe2_NbTi_B7_2024-07-02_01.db\n",
       " ---------------------------------------------------------------------------------------------------------------------------------------------------------------------------------\n",
       " 9-results-1-appl_current,meas_voltage_K2-101,\n",
       " I vs V#L02_100KOhm_100mKIV_17_16_26_27#10@/Users/albert-mac/Library/CloudStorage/SynologyDrive-KeLab/00 Users/Albert/10_Data/03_Data analysis/PtTe2/PtTe2_NbTi_B7_2024-07-02_01.db\n",
       " ----------------------------------------------------------------------------------------------------------------------------------------------------------------------------------\n",
       " 10-results-1-appl_current,meas_voltage_K2-101,\n",
       " I vs V#L02_100KOhm_100mKIV_17_16_26_27#11@/Users/albert-mac/Library/CloudStorage/SynologyDrive-KeLab/00 Users/Albert/10_Data/03_Data analysis/PtTe2/PtTe2_NbTi_B7_2024-07-02_01.db\n",
       " ----------------------------------------------------------------------------------------------------------------------------------------------------------------------------------\n",
       " 11-results-1-appl_current,meas_voltage_K2-101,\n",
       " I vs V#L01_100KOhm_100mKIV_20_21_23_22#12@/Users/albert-mac/Library/CloudStorage/SynologyDrive-KeLab/00 Users/Albert/10_Data/03_Data analysis/PtTe2/PtTe2_NbTi_B7_2024-07-02_01.db\n",
       " ----------------------------------------------------------------------------------------------------------------------------------------------------------------------------------\n",
       " 12-results-1-appl_current,meas_voltage_K2-101,\n",
       " I vs V#L01_100KOhm_100mKIV_19_18_21_20#13@/Users/albert-mac/Library/CloudStorage/SynologyDrive-KeLab/00 Users/Albert/10_Data/03_Data analysis/PtTe2/PtTe2_NbTi_B7_2024-07-02_01.db\n",
       " ----------------------------------------------------------------------------------------------------------------------------------------------------------------------------------\n",
       " 13-results-1-appl_current,meas_voltage_K2-101,\n",
       " I vs V#L01_100KOhm_100mKIV_19_18_21_20#14@/Users/albert-mac/Library/CloudStorage/SynologyDrive-KeLab/00 Users/Albert/10_Data/03_Data analysis/PtTe2/PtTe2_NbTi_B7_2024-07-02_01.db\n",
       " ----------------------------------------------------------------------------------------------------------------------------------------------------------------------------------\n",
       " 14-results-1-appl_current,meas_voltage_K2-101,\n",
       " I vs V#L02_100KOhm_100mKIV_27_26_14_15#15@/Users/albert-mac/Library/CloudStorage/SynologyDrive-KeLab/00 Users/Albert/10_Data/03_Data analysis/PtTe2/PtTe2_NbTi_B7_2024-07-02_01.db\n",
       " ----------------------------------------------------------------------------------------------------------------------------------------------------------------------------------\n",
       " 15-results-1-appl_current,meas_voltage_K2-101,\n",
       " I vs V#L02_100KOhm_125mKIV_15_14_25_24#16@/Users/albert-mac/Library/CloudStorage/SynologyDrive-KeLab/00 Users/Albert/10_Data/03_Data analysis/PtTe2/PtTe2_NbTi_B7_2024-07-02_01.db\n",
       " ----------------------------------------------------------------------------------------------------------------------------------------------------------------------------------\n",
       " 16-results-1-appl_current,meas_voltage_K2-101,\n",
       " I vs V#L02_100KOhm_125mKIV_25_24_12_13#17@/Users/albert-mac/Library/CloudStorage/SynologyDrive-KeLab/00 Users/Albert/10_Data/03_Data analysis/PtTe2/PtTe2_NbTi_B7_2024-07-02_01.db\n",
       " ----------------------------------------------------------------------------------------------------------------------------------------------------------------------------------\n",
       " 17-results-1-appl_current,meas_voltage_K2-101,\n",
       " I vs V#L03_100KOhm_125mKIV_32_33_6_7#18@/Users/albert-mac/Library/CloudStorage/SynologyDrive-KeLab/00 Users/Albert/10_Data/03_Data analysis/PtTe2/PtTe2_NbTi_B7_2024-07-02_01.db\n",
       " --------------------------------------------------------------------------------------------------------------------------------------------------------------------------------\n",
       " 18-results-1-appl_current,meas_voltage_K2-101,\n",
       " I vs V#L03_100KOhm_115mKIV_32_33_6_7#19@/Users/albert-mac/Library/CloudStorage/SynologyDrive-KeLab/00 Users/Albert/10_Data/03_Data analysis/PtTe2/PtTe2_NbTi_B7_2024-07-02_01.db\n",
       " --------------------------------------------------------------------------------------------------------------------------------------------------------------------------------\n",
       " 19-results-1-appl_current,meas_voltage_K2-101,\n",
       " I vs V#L03_100KOhm_115mKIV_32_33_6_7#20@/Users/albert-mac/Library/CloudStorage/SynologyDrive-KeLab/00 Users/Albert/10_Data/03_Data analysis/PtTe2/PtTe2_NbTi_B7_2024-07-02_01.db\n",
       " --------------------------------------------------------------------------------------------------------------------------------------------------------------------------------\n",
       " 20-results-1-appl_current,meas_voltage_K2-101,\n",
       " I vs V#L03_100KOhm_120mKIV_7_6_37_36#21@/Users/albert-mac/Library/CloudStorage/SynologyDrive-KeLab/00 Users/Albert/10_Data/03_Data analysis/PtTe2/PtTe2_NbTi_B7_2024-07-02_01.db\n",
       " --------------------------------------------------------------------------------------------------------------------------------------------------------------------------------\n",
       " 21-results-1-appl_current,meas_voltage_K2-101,\n",
       " I vs V#L04_100KOhm_114mKIV_31_30_28_29#22@/Users/albert-mac/Library/CloudStorage/SynologyDrive-KeLab/00 Users/Albert/10_Data/03_Data analysis/PtTe2/PtTe2_NbTi_B7_2024-07-02_01.db\n",
       " ----------------------------------------------------------------------------------------------------------------------------------------------------------------------------------\n",
       " 22-results-1-appl_current,meas_voltage_K2-101,\n",
       " I vs V#L04_100KOhm_114mKIV_31_30_28_29#23@/Users/albert-mac/Library/CloudStorage/SynologyDrive-KeLab/00 Users/Albert/10_Data/03_Data analysis/PtTe2/PtTe2_NbTi_B7_2024-07-02_01.db\n",
       " ----------------------------------------------------------------------------------------------------------------------------------------------------------------------------------\n",
       " 23-results-1-appl_current,meas_voltage_K2-101,\n",
       " I vs V#L04_100KOhm_114mKIV_31_30_28_29#24@/Users/albert-mac/Library/CloudStorage/SynologyDrive-KeLab/00 Users/Albert/10_Data/03_Data analysis/PtTe2/PtTe2_NbTi_B7_2024-07-02_01.db\n",
       " ----------------------------------------------------------------------------------------------------------------------------------------------------------------------------------\n",
       " 24-results-1-appl_current,meas_voltage_K2-101,\n",
       " I vs V#L04_100KOhm_114mKIV_31_30_28_29#25@/Users/albert-mac/Library/CloudStorage/SynologyDrive-KeLab/00 Users/Albert/10_Data/03_Data analysis/PtTe2/PtTe2_NbTi_B7_2024-07-02_01.db\n",
       " ----------------------------------------------------------------------------------------------------------------------------------------------------------------------------------\n",
       " 25-results-1-appl_current,meas_voltage_K2-101,\n",
       " I vs V#L04_100KOhm_114mKIV_31_30_28_29#26@/Users/albert-mac/Library/CloudStorage/SynologyDrive-KeLab/00 Users/Albert/10_Data/03_Data analysis/PtTe2/PtTe2_NbTi_B7_2024-07-02_01.db\n",
       " ----------------------------------------------------------------------------------------------------------------------------------------------------------------------------------\n",
       " 26-results-1-appl_current,meas_voltage_K2-101,\n",
       " I vs V#L04_100KOhm_150mKIV_31_30_28_29#27@/Users/albert-mac/Library/CloudStorage/SynologyDrive-KeLab/00 Users/Albert/10_Data/03_Data analysis/PtTe2/PtTe2_NbTi_B7_2024-07-02_01.db\n",
       " ----------------------------------------------------------------------------------------------------------------------------------------------------------------------------------\n",
       " 27-results-1-appl_current,meas_voltage_K2-101,\n",
       " I vs V#L04_100KOhm_120mKIV_31_30_28_29#28@/Users/albert-mac/Library/CloudStorage/SynologyDrive-KeLab/00 Users/Albert/10_Data/03_Data analysis/PtTe2/PtTe2_NbTi_B7_2024-07-02_01.db\n",
       " ----------------------------------------------------------------------------------------------------------------------------------------------------------------------------------\n",
       " 28-results-1-appl_current,meas_voltage_K2-101,\n",
       " I vs V#L04_100KOhm_120mKIV_31_30_28_29#29@/Users/albert-mac/Library/CloudStorage/SynologyDrive-KeLab/00 Users/Albert/10_Data/03_Data analysis/PtTe2/PtTe2_NbTi_B7_2024-07-02_01.db\n",
       " ----------------------------------------------------------------------------------------------------------------------------------------------------------------------------------\n",
       " 29-results-1-appl_current,meas_voltage_K2-101,\n",
       " I vs V#L04_100KOhm_134mKIV_11_10_8_9#30@/Users/albert-mac/Library/CloudStorage/SynologyDrive-KeLab/00 Users/Albert/10_Data/03_Data analysis/PtTe2/PtTe2_NbTi_B7_2024-07-02_01.db\n",
       " --------------------------------------------------------------------------------------------------------------------------------------------------------------------------------\n",
       " 30-results-1-appl_current,meas_voltage_K2-101,\n",
       " I vs V#IV10_100KOhm_120mKIV_38_39_42_43#31@/Users/albert-mac/Library/CloudStorage/SynologyDrive-KeLab/00 Users/Albert/10_Data/03_Data analysis/PtTe2/PtTe2_NbTi_B7_2024-07-02_01.db\n",
       " -----------------------------------------------------------------------------------------------------------------------------------------------------------------------------------\n",
       " 31-results-1-appl_current,meas_voltage_K2-101,\n",
       " I vs V#IV10_100KOhm_120mKIV_38_39_42_43#32@/Users/albert-mac/Library/CloudStorage/SynologyDrive-KeLab/00 Users/Albert/10_Data/03_Data analysis/PtTe2/PtTe2_NbTi_B7_2024-07-02_01.db\n",
       " -----------------------------------------------------------------------------------------------------------------------------------------------------------------------------------\n",
       " 32-results-1-appl_current,meas_voltage_K2-101,\n",
       " I vs V#IV10_100KOhm_129mKIV_43_42_41_40#33@/Users/albert-mac/Library/CloudStorage/SynologyDrive-KeLab/00 Users/Albert/10_Data/03_Data analysis/PtTe2/PtTe2_NbTi_B7_2024-07-02_01.db\n",
       " -----------------------------------------------------------------------------------------------------------------------------------------------------------------------------------\n",
       " 33-results-1-appl_current,meas_voltage_K2-101,\n",
       " I vs V#IV10_100KOhm_129mKIV_43_42_41_40#34@/Users/albert-mac/Library/CloudStorage/SynologyDrive-KeLab/00 Users/Albert/10_Data/03_Data analysis/PtTe2/PtTe2_NbTi_B7_2024-07-02_01.db\n",
       " -----------------------------------------------------------------------------------------------------------------------------------------------------------------------------------\n",
       " 34-results-1-appl_current,meas_voltage_K2-101,\n",
       " I vs V#IV11_100KOhm_129mKIV_1_48_2_3#35@/Users/albert-mac/Library/CloudStorage/SynologyDrive-KeLab/00 Users/Albert/10_Data/03_Data analysis/PtTe2/PtTe2_NbTi_B7_2024-07-02_01.db\n",
       " --------------------------------------------------------------------------------------------------------------------------------------------------------------------------------\n",
       " 35-results-1-appl_current,meas_voltage_K2-101,\n",
       " I vs V#IV11_100KOhm_129mKIV_1_48_2_3#36@/Users/albert-mac/Library/CloudStorage/SynologyDrive-KeLab/00 Users/Albert/10_Data/03_Data analysis/PtTe2/PtTe2_NbTi_B7_2024-07-02_01.db\n",
       " --------------------------------------------------------------------------------------------------------------------------------------------------------------------------------\n",
       " 36-results-1-appl_current,meas_voltage_K2-101,\n",
       " I vs V#IV11_100KOhm_133mKIV_3_2_47_46#37@/Users/albert-mac/Library/CloudStorage/SynologyDrive-KeLab/00 Users/Albert/10_Data/03_Data analysis/PtTe2/PtTe2_NbTi_B7_2024-07-02_01.db\n",
       " ---------------------------------------------------------------------------------------------------------------------------------------------------------------------------------\n",
       " 37-results-1-appl_current,meas_voltage_K2-101,\n",
       " I vs V#IV11_100KOhm_133mKIV_3_2_47_46#38@/Users/albert-mac/Library/CloudStorage/SynologyDrive-KeLab/00 Users/Albert/10_Data/03_Data analysis/PtTe2/PtTe2_NbTi_B7_2024-07-02_01.db\n",
       " ---------------------------------------------------------------------------------------------------------------------------------------------------------------------------------\n",
       " 38-results-1-appl_current,meas_voltage_K2-101,\n",
       " I vs V#IV11_100KOhm_133mKIV_3_2_47_46#39@/Users/albert-mac/Library/CloudStorage/SynologyDrive-KeLab/00 Users/Albert/10_Data/03_Data analysis/PtTe2/PtTe2_NbTi_B7_2024-07-02_01.db\n",
       " ---------------------------------------------------------------------------------------------------------------------------------------------------------------------------------\n",
       " 39-results-1-appl_current,meas_voltage_K2-101,\n",
       " I vs V#IV11_100KOhm_133mKIV_46_47_45_44#40@/Users/albert-mac/Library/CloudStorage/SynologyDrive-KeLab/00 Users/Albert/10_Data/03_Data analysis/PtTe2/PtTe2_NbTi_B7_2024-07-02_01.db\n",
       " -----------------------------------------------------------------------------------------------------------------------------------------------------------------------------------\n",
       " 40-results-1-appl_current,meas_voltage_K2-101,\n",
       " I vs V#100KOhm_92KIV_standard1k#41@/Users/albert-mac/Library/CloudStorage/SynologyDrive-KeLab/00 Users/Albert/10_Data/03_Data analysis/PtTe2/PtTe2_NbTi_B7_2024-07-02_01.db\n",
       " ---------------------------------------------------------------------------------------------------------------------------------------------------------------------------\n",
       " 41-results-1-appl_current,meas_voltage_K2-101,\n",
       " I vs V#R05_100KOhm_89KIV_16_15_17_18#42@/Users/albert-mac/Library/CloudStorage/SynologyDrive-KeLab/00 Users/Albert/10_Data/03_Data analysis/PtTe2/PtTe2_NbTi_B7_2024-07-02_01.db\n",
       " --------------------------------------------------------------------------------------------------------------------------------------------------------------------------------\n",
       " 42-results-1-appl_current,meas_voltage_K2-101,\n",
       " I vs V#R05_100KOhm_89KIV_18_17_13_14#43@/Users/albert-mac/Library/CloudStorage/SynologyDrive-KeLab/00 Users/Albert/10_Data/03_Data analysis/PtTe2/PtTe2_NbTi_B7_2024-07-02_01.db\n",
       " --------------------------------------------------------------------------------------------------------------------------------------------------------------------------------\n",
       " 43-results-1-appl_current,meas_voltage_K2-101,\n",
       " I vs V#R05_100KOhm_89KIV_14_13_21_22#44@/Users/albert-mac/Library/CloudStorage/SynologyDrive-KeLab/00 Users/Albert/10_Data/03_Data analysis/PtTe2/PtTe2_NbTi_B7_2024-07-02_01.db\n",
       " --------------------------------------------------------------------------------------------------------------------------------------------------------------------------------\n",
       " 44-results-1-appl_current,meas_voltage_K2-101,\n",
       " I vs V#R06_100KOhm_89KIV_11_12_9_10#45@/Users/albert-mac/Library/CloudStorage/SynologyDrive-KeLab/00 Users/Albert/10_Data/03_Data analysis/PtTe2/PtTe2_NbTi_B7_2024-07-02_01.db\n",
       " -------------------------------------------------------------------------------------------------------------------------------------------------------------------------------\n",
       " 45-results-1-appl_current,meas_voltage_K2-101,\n",
       " I vs V#R06_100KOhm_89KIV_11_12_9_10#46@/Users/albert-mac/Library/CloudStorage/SynologyDrive-KeLab/00 Users/Albert/10_Data/03_Data analysis/PtTe2/PtTe2_NbTi_B7_2024-07-02_01.db\n",
       " -------------------------------------------------------------------------------------------------------------------------------------------------------------------------------\n",
       " 46-results-1-appl_current,meas_voltage_K2-101,\n",
       " I vs V#R06_100KOhm_89KIV_11_12_9_10#47@/Users/albert-mac/Library/CloudStorage/SynologyDrive-KeLab/00 Users/Albert/10_Data/03_Data analysis/PtTe2/PtTe2_NbTi_B7_2024-07-02_01.db\n",
       " -------------------------------------------------------------------------------------------------------------------------------------------------------------------------------\n",
       " 47-results-1-appl_current,meas_voltage_K2-101,\n",
       " I vs V#R06_100KOhm_89KIV_11_12_9_10#48@/Users/albert-mac/Library/CloudStorage/SynologyDrive-KeLab/00 Users/Albert/10_Data/03_Data analysis/PtTe2/PtTe2_NbTi_B7_2024-07-02_01.db\n",
       " -------------------------------------------------------------------------------------------------------------------------------------------------------------------------------\n",
       " 48-results-1-appl_current,meas_voltage_K2-101,\n",
       " I vs V#II01_100KOhm_94KIV_30_29_44_43#49@/Users/albert-mac/Library/CloudStorage/SynologyDrive-KeLab/00 Users/Albert/10_Data/03_Data analysis/PtTe2/PtTe2_NbTi_B7_2024-07-02_01.db\n",
       " ---------------------------------------------------------------------------------------------------------------------------------------------------------------------------------\n",
       " 49-results-1-appl_current,meas_voltage_K2-101,\n",
       " I vs V#II01_100KOhm_94KIV_30_29_44_43#50@/Users/albert-mac/Library/CloudStorage/SynologyDrive-KeLab/00 Users/Albert/10_Data/03_Data analysis/PtTe2/PtTe2_NbTi_B7_2024-07-02_01.db\n",
       " ---------------------------------------------------------------------------------------------------------------------------------------------------------------------------------\n",
       " 50-results-1-appl_current,meas_voltage_K2-101,\n",
       " I vs V#II02_100KOhm_91KIV_40_39_41_42#51@/Users/albert-mac/Library/CloudStorage/SynologyDrive-KeLab/00 Users/Albert/10_Data/03_Data analysis/PtTe2/PtTe2_NbTi_B7_2024-07-02_01.db\n",
       " ---------------------------------------------------------------------------------------------------------------------------------------------------------------------------------\n",
       " 51-results-1-appl_current,meas_voltage_K2-101,\n",
       " I vs V#II02_100KOhm_91KIV_40_39_41_42#52@/Users/albert-mac/Library/CloudStorage/SynologyDrive-KeLab/00 Users/Albert/10_Data/03_Data analysis/PtTe2/PtTe2_NbTi_B7_2024-07-02_01.db\n",
       " ---------------------------------------------------------------------------------------------------------------------------------------------------------------------------------\n",
       " 52-results-1-appl_current,meas_voltage_K2-101,\n",
       " I vs V#III03_100KOhm_89KIV_1_2_3_4#53@/Users/albert-mac/Library/CloudStorage/SynologyDrive-KeLab/00 Users/Albert/10_Data/03_Data analysis/PtTe2/PtTe2_NbTi_B7_2024-07-02_01.db\n",
       " ------------------------------------------------------------------------------------------------------------------------------------------------------------------------------\n",
       " 53-results-1-appl_current,meas_voltage_K2-101,\n",
       " I vs V#III03_100KOhm_89KIV_1_2_3_4#54@/Users/albert-mac/Library/CloudStorage/SynologyDrive-KeLab/00 Users/Albert/10_Data/03_Data analysis/PtTe2/PtTe2_NbTi_B7_2024-07-02_01.db\n",
       " ------------------------------------------------------------------------------------------------------------------------------------------------------------------------------\n",
       " 54-results-1-appl_current,meas_voltage_K2-101,\n",
       " I vs V#III04_100KOhm_88KIV_6_5_7_8#55@/Users/albert-mac/Library/CloudStorage/SynologyDrive-KeLab/00 Users/Albert/10_Data/03_Data analysis/PtTe2/PtTe2_NbTi_B7_2024-07-02_01.db\n",
       " ------------------------------------------------------------------------------------------------------------------------------------------------------------------------------\n",
       " 55-results-1-appl_current,meas_voltage_K2-101,\n",
       " I vs V#III04_100KOhm_88KIV_6_5_7_8#56@/Users/albert-mac/Library/CloudStorage/SynologyDrive-KeLab/00 Users/Albert/10_Data/03_Data analysis/PtTe2/PtTe2_NbTi_B7_2024-07-02_01.db\n",
       " ------------------------------------------------------------------------------------------------------------------------------------------------------------------------------\n",
       " 56-results-1-appl_current,meas_voltage_K2-101,\n",
       " I vs V#III04_100KOhm_88KIV_6_5_7_8#57@/Users/albert-mac/Library/CloudStorage/SynologyDrive-KeLab/00 Users/Albert/10_Data/03_Data analysis/PtTe2/PtTe2_NbTi_B7_2024-07-02_01.db\n",
       " ------------------------------------------------------------------------------------------------------------------------------------------------------------------------------\n",
       " 57-results-1-appl_current,meas_voltage_K2-101,\n",
       " I vs V#III04_100KOhm_88KIV_6_5_7_8#58@/Users/albert-mac/Library/CloudStorage/SynologyDrive-KeLab/00 Users/Albert/10_Data/03_Data analysis/PtTe2/PtTe2_NbTi_B7_2024-07-02_01.db\n",
       " ------------------------------------------------------------------------------------------------------------------------------------------------------------------------------\n",
       " 58-results-1-appl_current,meas_voltage_K2-101,\n",
       " I vs V#III05_100KOhm_91KIV_45_46_48_47#59@/Users/albert-mac/Library/CloudStorage/SynologyDrive-KeLab/00 Users/Albert/10_Data/03_Data analysis/PtTe2/PtTe2_NbTi_B7_2024-07-02_01.db\n",
       " ----------------------------------------------------------------------------------------------------------------------------------------------------------------------------------\n",
       " 59-results-1-appl_current,meas_voltage_K2-101,\n",
       " I vs V#III05_100KOhm_91KIV_45_46_48_47#60@/Users/albert-mac/Library/CloudStorage/SynologyDrive-KeLab/00 Users/Albert/10_Data/03_Data analysis/PtTe2/PtTe2_NbTi_B7_2024-07-02_01.db\n",
       " ----------------------------------------------------------------------------------------------------------------------------------------------------------------------------------\n",
       " 60-results-1-appl_current,meas_voltage_K2-101,\n",
       " I vs V#III05_100KOhm_91KIV_45_46_48_47#61@/Users/albert-mac/Library/CloudStorage/SynologyDrive-KeLab/00 Users/Albert/10_Data/03_Data analysis/PtTe2/PtTe2_NbTi_B7_2024-07-02_01.db\n",
       " ----------------------------------------------------------------------------------------------------------------------------------------------------------------------------------\n",
       " 61-results-1-appl_current,meas_voltage_K2-101,\n",
       " I vs V#III03_100KOhm_91KIVb_1_2_3_4#62@/Users/albert-mac/Library/CloudStorage/SynologyDrive-KeLab/00 Users/Albert/10_Data/03_Data analysis/PtTe2/PtTe2_NbTi_B7_2024-07-02_01.db\n",
       " -------------------------------------------------------------------------------------------------------------------------------------------------------------------------------\n",
       " 62-results-1-appl_current,meas_voltage_K2-101,\n",
       " I vs V#III03_100KOhm_91KIVb_1_2_3_4#63@/Users/albert-mac/Library/CloudStorage/SynologyDrive-KeLab/00 Users/Albert/10_Data/03_Data analysis/PtTe2/PtTe2_NbTi_B7_2024-07-02_01.db\n",
       " -------------------------------------------------------------------------------------------------------------------------------------------------------------------------------\n",
       " 63-results-1-appl_current,meas_voltage_K2-101,\n",
       " I vs V#III03_100KOhm_91KIVb_1_2_3_4#64@/Users/albert-mac/Library/CloudStorage/SynologyDrive-KeLab/00 Users/Albert/10_Data/03_Data analysis/PtTe2/PtTe2_NbTi_B7_2024-07-02_01.db\n",
       " -------------------------------------------------------------------------------------------------------------------------------------------------------------------------------\n",
       " 64-results-1-appl_current,meas_voltage_K2-101,\n",
       " I vs V#III03_100KOhm_91KIVb_1_2_3_4#65@/Users/albert-mac/Library/CloudStorage/SynologyDrive-KeLab/00 Users/Albert/10_Data/03_Data analysis/PtTe2/PtTe2_NbTi_B7_2024-07-02_01.db\n",
       " -------------------------------------------------------------------------------------------------------------------------------------------------------------------------------\n",
       " 65-results-1-appl_current,meas_voltage_K2-101,\n",
       " I vs V#III03_100KOhm_89KIVb_1_2_3_4#66@/Users/albert-mac/Library/CloudStorage/SynologyDrive-KeLab/00 Users/Albert/10_Data/03_Data analysis/PtTe2/PtTe2_NbTi_B7_2024-07-02_01.db\n",
       " -------------------------------------------------------------------------------------------------------------------------------------------------------------------------------\n",
       " 66-results-1-appl_current,meas_voltage_K2-101,\n",
       " IV vs By#III03_100KOhm_89mKIV_1_2_3_4#67@/Users/albert-mac/Library/CloudStorage/SynologyDrive-KeLab/00 Users/Albert/10_Data/03_Data analysis/PtTe2/PtTe2_NbTi_B7_2024-07-02_01.db\n",
       " ---------------------------------------------------------------------------------------------------------------------------------------------------------------------------------\n",
       " 67-results-1-y_field,appl_current,meas_voltage_K2-10201,\n",
       " IV vs By#III03_100KOhm_89mKIV_1_2_3_4#68@/Users/albert-mac/Library/CloudStorage/SynologyDrive-KeLab/00 Users/Albert/10_Data/03_Data analysis/PtTe2/PtTe2_NbTi_B7_2024-07-02_01.db\n",
       " ---------------------------------------------------------------------------------------------------------------------------------------------------------------------------------\n",
       " 68-results-1-y_field,appl_current,meas_voltage_K2-10201,\n",
       " IV vs By#II02_100KOhm_91mKIV_40_39_41_42#69@/Users/albert-mac/Library/CloudStorage/SynologyDrive-KeLab/00 Users/Albert/10_Data/03_Data analysis/PtTe2/PtTe2_NbTi_B7_2024-07-02_01.db\n",
       " ------------------------------------------------------------------------------------------------------------------------------------------------------------------------------------\n",
       " 69-results-1-y_field,appl_current,meas_voltage_K2-10201,\n",
       " IV vs Byb#II02_100KOhm_91mKIV_40_39_41_42#70@/Users/albert-mac/Library/CloudStorage/SynologyDrive-KeLab/00 Users/Albert/10_Data/03_Data analysis/PtTe2/PtTe2_NbTi_B7_2024-07-02_01.db\n",
       " -------------------------------------------------------------------------------------------------------------------------------------------------------------------------------------\n",
       " 70-results-1-y_field,appl_current,meas_voltage_K2-10201,\n",
       " IV vs By#II01_100KOhm_90mKIV_30_29_44_43#71@/Users/albert-mac/Library/CloudStorage/SynologyDrive-KeLab/00 Users/Albert/10_Data/03_Data analysis/PtTe2/PtTe2_NbTi_B7_2024-07-02_01.db\n",
       " ------------------------------------------------------------------------------------------------------------------------------------------------------------------------------------\n",
       " 71-results-1-y_field,appl_current,meas_voltage_K2-10201,\n",
       " I vs V#L02_100KOhm_87KIV_27_26_14_15#72@/Users/albert-mac/Library/CloudStorage/SynologyDrive-KeLab/00 Users/Albert/10_Data/03_Data analysis/PtTe2/PtTe2_NbTi_B7_2024-07-02_01.db\n",
       " --------------------------------------------------------------------------------------------------------------------------------------------------------------------------------\n",
       " 72-results-1-appl_current,meas_voltage_K2-101,\n",
       " IV vs Byb#L02_100KOhm_90mKIV_27_26_14_15#73@/Users/albert-mac/Library/CloudStorage/SynologyDrive-KeLab/00 Users/Albert/10_Data/03_Data analysis/PtTe2/PtTe2_NbTi_B7_2024-07-02_01.db\n",
       " ------------------------------------------------------------------------------------------------------------------------------------------------------------------------------------\n",
       " 73-results-1-y_field,appl_current,meas_voltage_K2-10201,\n",
       " IV vs By#L02HD_100KOhm_90mKIV_27_26_14_15#74@/Users/albert-mac/Library/CloudStorage/SynologyDrive-KeLab/00 Users/Albert/10_Data/03_Data analysis/PtTe2/PtTe2_NbTi_B7_2024-07-02_01.db\n",
       " -------------------------------------------------------------------------------------------------------------------------------------------------------------------------------------\n",
       " 74-results-1-y_field,appl_current,meas_voltage_K2-412,\n",
       " IV vs By#L02HD_100KOhm_90mKIV_27_26_14_15#75@/Users/albert-mac/Library/CloudStorage/SynologyDrive-KeLab/00 Users/Albert/10_Data/03_Data analysis/PtTe2/PtTe2_NbTi_B7_2024-07-02_01.db\n",
       " -------------------------------------------------------------------------------------------------------------------------------------------------------------------------------------\n",
       " 75-results-1-y_field,appl_current,meas_voltage_K2-206,\n",
       " IV vs By#L02HD_100KOhm_90mKIV_27_26_14_15#76@/Users/albert-mac/Library/CloudStorage/SynologyDrive-KeLab/00 Users/Albert/10_Data/03_Data analysis/PtTe2/PtTe2_NbTi_B7_2024-07-02_01.db\n",
       " -------------------------------------------------------------------------------------------------------------------------------------------------------------------------------------\n",
       " 76-results-1-y_field,appl_current,meas_voltage_K2-18128,\n",
       " IV vs By#L02HD_100KOhm_90mKIV_27_26_14_15#77@/Users/albert-mac/Library/CloudStorage/SynologyDrive-KeLab/00 Users/Albert/10_Data/03_Data analysis/PtTe2/PtTe2_NbTi_B7_2024-07-02_01.db\n",
       " -------------------------------------------------------------------------------------------------------------------------------------------------------------------------------------\n",
       " 77-results-1-y_field,appl_current,meas_voltage_K2-50601,\n",
       " IV vs Byb#L02HD_100KOhm_90mKIV_27_26_14_15#78@/Users/albert-mac/Library/CloudStorage/SynologyDrive-KeLab/00 Users/Albert/10_Data/03_Data analysis/PtTe2/PtTe2_NbTi_B7_2024-07-02_01.db\n",
       " --------------------------------------------------------------------------------------------------------------------------------------------------------------------------------------\n",
       " 78-results-1-y_field,appl_current,meas_voltage_K2-50601,\n",
       " IVb vs By#L02HD_100KOhm_90mK_27_26_14_15#79@/Users/albert-mac/Library/CloudStorage/SynologyDrive-KeLab/00 Users/Albert/10_Data/03_Data analysis/PtTe2/PtTe2_NbTi_B7_2024-07-02_01.db\n",
       " ------------------------------------------------------------------------------------------------------------------------------------------------------------------------------------\n",
       " 79-results-1-y_field,appl_current,meas_voltage_K2-50601,\n",
       " IVb vs Byb#L02HD_100KOhm_90mK_27_26_14_15#80@/Users/albert-mac/Library/CloudStorage/SynologyDrive-KeLab/00 Users/Albert/10_Data/03_Data analysis/PtTe2/PtTe2_NbTi_B7_2024-07-02_01.db\n",
       " -------------------------------------------------------------------------------------------------------------------------------------------------------------------------------------\n",
       " 80-results-1-y_field,appl_current,meas_voltage_K2-50601,\n",
       " IV vs By#L02_100KOhm_86mKIV_15_14_25_24#81@/Users/albert-mac/Library/CloudStorage/SynologyDrive-KeLab/00 Users/Albert/10_Data/03_Data analysis/PtTe2/PtTe2_NbTi_B7_2024-07-02_01.db\n",
       " -----------------------------------------------------------------------------------------------------------------------------------------------------------------------------------\n",
       " 81-results-1-y_field,appl_current,meas_voltage_K2-10201,\n",
       " IV vs Byb#L02HD_100KOhm_88mKIV_15_14_25_24#82@/Users/albert-mac/Library/CloudStorage/SynologyDrive-KeLab/00 Users/Albert/10_Data/03_Data analysis/PtTe2/PtTe2_NbTi_B7_2024-07-02_01.db\n",
       " --------------------------------------------------------------------------------------------------------------------------------------------------------------------------------------\n",
       " 82-results-1-y_field,appl_current,meas_voltage_K2-23132,\n",
       " IV vs By#L02HD_100KOhm_90mKIV_15_14_25_24#83@/Users/albert-mac/Library/CloudStorage/SynologyDrive-KeLab/00 Users/Albert/10_Data/03_Data analysis/PtTe2/PtTe2_NbTi_B7_2024-07-02_01.db\n",
       " -------------------------------------------------------------------------------------------------------------------------------------------------------------------------------------\n",
       " 83-results-1-y_field,appl_current,meas_voltage_K2-30401,\n",
       " IV vs Byb#L02HD_100KOhm_90mKIV_15_14_25_24#84@/Users/albert-mac/Library/CloudStorage/SynologyDrive-KeLab/00 Users/Albert/10_Data/03_Data analysis/PtTe2/PtTe2_NbTi_B7_2024-07-02_01.db\n",
       " --------------------------------------------------------------------------------------------------------------------------------------------------------------------------------------\n",
       " 84-results-1-y_field,appl_current,meas_voltage_K2-30401,\n",
       " IV vs Byb#L02_100KOhm_94mKIV_17_16_26_27#85@/Users/albert-mac/Library/CloudStorage/SynologyDrive-KeLab/00 Users/Albert/10_Data/03_Data analysis/PtTe2/PtTe2_NbTi_B7_2024-07-02_01.db\n",
       " ------------------------------------------------------------------------------------------------------------------------------------------------------------------------------------\n",
       " 85-results-1-y_field,appl_current,meas_voltage_K2-10201,\n",
       " IV vs Byb#L02_100KOhm_94mKIV_17_16_26_27#86@/Users/albert-mac/Library/CloudStorage/SynologyDrive-KeLab/00 Users/Albert/10_Data/03_Data analysis/PtTe2/PtTe2_NbTi_B7_2024-07-02_01.db\n",
       " ------------------------------------------------------------------------------------------------------------------------------------------------------------------------------------\n",
       " 86-results-1-y_field,appl_current,meas_voltage_K2-0,\n",
       " IV vs By#L02_100KOhm_112mKIV_17_16_26_27#87@/Users/albert-mac/Library/CloudStorage/SynologyDrive-KeLab/00 Users/Albert/10_Data/03_Data analysis/PtTe2/PtTe2_NbTi_B7_2024-07-02_01.db\n",
       " ------------------------------------------------------------------------------------------------------------------------------------------------------------------------------------\n",
       " 87-results-1-y_field,appl_current,meas_voltage_K2-5040,\n",
       " IV vs Byb#L02_100KOhm_97mKIV_17_16_26_27#88@/Users/albert-mac/Library/CloudStorage/SynologyDrive-KeLab/00 Users/Albert/10_Data/03_Data analysis/PtTe2/PtTe2_NbTi_B7_2024-07-02_01.db\n",
       " ------------------------------------------------------------------------------------------------------------------------------------------------------------------------------------\n",
       " 88-results-1-y_field,appl_current,meas_voltage_K2-2871,\n",
       " IV vs Byb#L02_100KOhm_97mKIV_17_16_26_27#89@/Users/albert-mac/Library/CloudStorage/SynologyDrive-KeLab/00 Users/Albert/10_Data/03_Data analysis/PtTe2/PtTe2_NbTi_B7_2024-07-02_01.db\n",
       " ------------------------------------------------------------------------------------------------------------------------------------------------------------------------------------\n",
       " 89-results-1-y_field,appl_current,meas_voltage_K2-707,\n",
       " IV vs Byb#L02_100KOhm_97mKIV_17_16_26_27#90@/Users/albert-mac/Library/CloudStorage/SynologyDrive-KeLab/00 Users/Albert/10_Data/03_Data analysis/PtTe2/PtTe2_NbTi_B7_2024-07-02_01.db\n",
       " ------------------------------------------------------------------------------------------------------------------------------------------------------------------------------------\n",
       " 90-results-1-y_field,appl_current,meas_voltage_K2-3357,\n",
       " IV vs By#L02_1MOhm_97mKIV_17_16_26_27#91@/Users/albert-mac/Library/CloudStorage/SynologyDrive-KeLab/00 Users/Albert/10_Data/03_Data analysis/PtTe2/PtTe2_NbTi_B7_2024-07-02_01.db\n",
       " ---------------------------------------------------------------------------------------------------------------------------------------------------------------------------------\n",
       " 91-results-1-y_field,appl_current,meas_voltage_K2-303,\n",
       " I vs V#L02_100KOhm_87KIV_24_25_12_13#92@/Users/albert-mac/Library/CloudStorage/SynologyDrive-KeLab/00 Users/Albert/10_Data/03_Data analysis/PtTe2/PtTe2_NbTi_B7_2024-07-02_01.db\n",
       " --------------------------------------------------------------------------------------------------------------------------------------------------------------------------------\n",
       " 92-results-1-appl_current,meas_voltage_K2-101,\n",
       " I vs V#L02_100KOhm_87KIV_24_25_12_13#93@/Users/albert-mac/Library/CloudStorage/SynologyDrive-KeLab/00 Users/Albert/10_Data/03_Data analysis/PtTe2/PtTe2_NbTi_B7_2024-07-02_01.db\n",
       " --------------------------------------------------------------------------------------------------------------------------------------------------------------------------------\n",
       " 93-results-1-appl_current,meas_voltage_K2-101,\n",
       " I vs V#L02_100KOhm_87KIV_27_26_16_17#94@/Users/albert-mac/Library/CloudStorage/SynologyDrive-KeLab/00 Users/Albert/10_Data/03_Data analysis/PtTe2/PtTe2_NbTi_B7_2024-07-02_01.db\n",
       " --------------------------------------------------------------------------------------------------------------------------------------------------------------------------------\n",
       " 94-results-1-appl_current,meas_voltage_K2-101,\n",
       " I vs V#L02_100KOhm_87KIV_27_26_16_17#95@/Users/albert-mac/Library/CloudStorage/SynologyDrive-KeLab/00 Users/Albert/10_Data/03_Data analysis/PtTe2/PtTe2_NbTi_B7_2024-07-02_01.db\n",
       " --------------------------------------------------------------------------------------------------------------------------------------------------------------------------------\n",
       " 95-results-1-appl_current,meas_voltage_K2-101,\n",
       " I vs V#L02_100KOhm_99KIV_27_26_16_17#96@/Users/albert-mac/Library/CloudStorage/SynologyDrive-KeLab/00 Users/Albert/10_Data/03_Data analysis/PtTe2/PtTe2_NbTi_B7_2024-07-02_01.db\n",
       " --------------------------------------------------------------------------------------------------------------------------------------------------------------------------------\n",
       " 96-results-1-appl_current,meas_voltage_K2-101,\n",
       " I vs V#L02_100KOhm_99KIV_27_26_16_17#97@/Users/albert-mac/Library/CloudStorage/SynologyDrive-KeLab/00 Users/Albert/10_Data/03_Data analysis/PtTe2/PtTe2_NbTi_B7_2024-07-02_01.db\n",
       " --------------------------------------------------------------------------------------------------------------------------------------------------------------------------------\n",
       " 97-results-1-appl_current,meas_voltage_K2-101,\n",
       " I vs V#L02_100KOhm_87KIV_25_24_12_13#98@/Users/albert-mac/Library/CloudStorage/SynologyDrive-KeLab/00 Users/Albert/10_Data/03_Data analysis/PtTe2/PtTe2_NbTi_B7_2024-07-02_01.db\n",
       " --------------------------------------------------------------------------------------------------------------------------------------------------------------------------------\n",
       " 98-results-1-appl_current,meas_voltage_K2-101,\n",
       " IV vs By#L02_100KOhm_87mKIV_25_24_12_13#99@/Users/albert-mac/Library/CloudStorage/SynologyDrive-KeLab/00 Users/Albert/10_Data/03_Data analysis/PtTe2/PtTe2_NbTi_B7_2024-07-02_01.db\n",
       " -----------------------------------------------------------------------------------------------------------------------------------------------------------------------------------\n",
       " 99-results-1-y_field,appl_current,meas_voltage_K2-5858,\n",
       " IV vs By#L02_100KOhm_87mKIV_25_24_12_13#100@/Users/albert-mac/Library/CloudStorage/SynologyDrive-KeLab/00 Users/Albert/10_Data/03_Data analysis/PtTe2/PtTe2_NbTi_B7_2024-07-02_01.db\n",
       " ------------------------------------------------------------------------------------------------------------------------------------------------------------------------------------\n",
       " 100-results-1-y_field,appl_current,meas_voltage_K2-10201,\n",
       " IV vs Byb#L02_100KOhm_87mKIV_25_24_12_13#101@/Users/albert-mac/Library/CloudStorage/SynologyDrive-KeLab/00 Users/Albert/10_Data/03_Data analysis/PtTe2/PtTe2_NbTi_B7_2024-07-02_01.db\n",
       " -------------------------------------------------------------------------------------------------------------------------------------------------------------------------------------\n",
       " 101-results-1-y_field,appl_current,meas_voltage_K2-30401,\n",
       " I vs V#IV11_100KOhm_87KIV_1_48_2_3#102@/Users/albert-mac/Library/CloudStorage/SynologyDrive-KeLab/00 Users/Albert/10_Data/03_Data analysis/PtTe2/PtTe2_NbTi_B7_2024-07-02_01.db\n",
       " -------------------------------------------------------------------------------------------------------------------------------------------------------------------------------\n",
       " 102-results-1-appl_current,meas_voltage_K2-101,\n",
       " I vs V#IV11_100KOhm_87KIV_1_48_2_3#103@/Users/albert-mac/Library/CloudStorage/SynologyDrive-KeLab/00 Users/Albert/10_Data/03_Data analysis/PtTe2/PtTe2_NbTi_B7_2024-07-02_01.db\n",
       " -------------------------------------------------------------------------------------------------------------------------------------------------------------------------------\n",
       " 103-results-1-appl_current,meas_voltage_K2-101,\n",
       " I vs V#IV11_100KOhm_87KIV_3_2_47_46#104@/Users/albert-mac/Library/CloudStorage/SynologyDrive-KeLab/00 Users/Albert/10_Data/03_Data analysis/PtTe2/PtTe2_NbTi_B7_2024-07-02_01.db\n",
       " --------------------------------------------------------------------------------------------------------------------------------------------------------------------------------\n",
       " 104-results-1-appl_current,meas_voltage_K2-101,\n",
       " I vs V#IV11_100KOhm_87KIV_3_2_47_46#105@/Users/albert-mac/Library/CloudStorage/SynologyDrive-KeLab/00 Users/Albert/10_Data/03_Data analysis/PtTe2/PtTe2_NbTi_B7_2024-07-02_01.db\n",
       " --------------------------------------------------------------------------------------------------------------------------------------------------------------------------------\n",
       " 105-results-1-appl_current,meas_voltage_K2-101,\n",
       " I vs V#IV11_100KOhm_87KIV_3_2_47_46#106@/Users/albert-mac/Library/CloudStorage/SynologyDrive-KeLab/00 Users/Albert/10_Data/03_Data analysis/PtTe2/PtTe2_NbTi_B7_2024-07-02_01.db\n",
       " --------------------------------------------------------------------------------------------------------------------------------------------------------------------------------\n",
       " 106-results-1-appl_current,meas_voltage_K2-201,\n",
       " I vs V#IV11_100KOhm_87KIV_46_47_45_44#107@/Users/albert-mac/Library/CloudStorage/SynologyDrive-KeLab/00 Users/Albert/10_Data/03_Data analysis/PtTe2/PtTe2_NbTi_B7_2024-07-02_01.db\n",
       " ----------------------------------------------------------------------------------------------------------------------------------------------------------------------------------\n",
       " 107-results-1-appl_current,meas_voltage_K2-201,\n",
       " I vs V#IV11_100KOhm_87KIV_46_47_45_44#108@/Users/albert-mac/Library/CloudStorage/SynologyDrive-KeLab/00 Users/Albert/10_Data/03_Data analysis/PtTe2/PtTe2_NbTi_B7_2024-07-02_01.db\n",
       " ----------------------------------------------------------------------------------------------------------------------------------------------------------------------------------\n",
       " 108-results-1-appl_current,meas_voltage_K2-201,\n",
       " IV vs By#L02_100KOhm_87mKIV_46_47_45_44#109@/Users/albert-mac/Library/CloudStorage/SynologyDrive-KeLab/00 Users/Albert/10_Data/03_Data analysis/PtTe2/PtTe2_NbTi_B7_2024-07-02_01.db\n",
       " ------------------------------------------------------------------------------------------------------------------------------------------------------------------------------------\n",
       " 109-results-1-y_field,appl_current,meas_voltage_K2-60501,\n",
       " IV vs Byb#IV11_100KOhm_87mKIV_3_2_47_46#110@/Users/albert-mac/Library/CloudStorage/SynologyDrive-KeLab/00 Users/Albert/10_Data/03_Data analysis/PtTe2/PtTe2_NbTi_B7_2024-07-02_01.db\n",
       " ------------------------------------------------------------------------------------------------------------------------------------------------------------------------------------\n",
       " 110-results-1-y_field,appl_current,meas_voltage_K2-1015,\n",
       " IV vs Byb#IV11_100KOhm_87mKIV_3_2_47_46#111@/Users/albert-mac/Library/CloudStorage/SynologyDrive-KeLab/00 Users/Albert/10_Data/03_Data analysis/PtTe2/PtTe2_NbTi_B7_2024-07-02_01.db\n",
       " ------------------------------------------------------------------------------------------------------------------------------------------------------------------------------------\n",
       " 111-results-1-y_field,appl_current,meas_voltage_K2-14905,\n",
       " IV vs Byb#IV11_100KOhm_87mKIV_3_2_47_46#112@/Users/albert-mac/Library/CloudStorage/SynologyDrive-KeLab/00 Users/Albert/10_Data/03_Data analysis/PtTe2/PtTe2_NbTi_B7_2024-07-02_01.db\n",
       " ------------------------------------------------------------------------------------------------------------------------------------------------------------------------------------\n",
       " 112-results-1-y_field,appl_current,meas_voltage_K2-2542,\n",
       " IV vs By#IV11_100KOhm_87mKIV_3_2_47_46#113@/Users/albert-mac/Library/CloudStorage/SynologyDrive-KeLab/00 Users/Albert/10_Data/03_Data analysis/PtTe2/PtTe2_NbTi_B7_2024-07-02_01.db\n",
       " -----------------------------------------------------------------------------------------------------------------------------------------------------------------------------------\n",
       " 113-results-1-y_field,appl_current,meas_voltage_K2-5151,\n",
       " IV vs Byb#IV11_100KOhm_80mKIV_1_48_2_3#114@/Users/albert-mac/Library/CloudStorage/SynologyDrive-KeLab/00 Users/Albert/10_Data/03_Data analysis/PtTe2/PtTe2_NbTi_B7_2024-07-02_01.db\n",
       " -----------------------------------------------------------------------------------------------------------------------------------------------------------------------------------\n",
       " 114-results-1-y_field,appl_current,meas_voltage_K2-5151,\n",
       " IV vs By#IV11_100KOhm_80mKIV_1_48_2_3#115@/Users/albert-mac/Library/CloudStorage/SynologyDrive-KeLab/00 Users/Albert/10_Data/03_Data analysis/PtTe2/PtTe2_NbTi_B7_2024-07-02_01.db\n",
       " ----------------------------------------------------------------------------------------------------------------------------------------------------------------------------------\n",
       " 115-results-1-y_field,appl_current,meas_voltage_K2-5151,\n",
       " I vs V#IV11_100KOhm_89mKIV_1_48_2_3#116@/Users/albert-mac/Library/CloudStorage/SynologyDrive-KeLab/00 Users/Albert/10_Data/03_Data analysis/PtTe2/PtTe2_NbTi_B7_2024-07-02_01.db\n",
       " --------------------------------------------------------------------------------------------------------------------------------------------------------------------------------\n",
       " 116-results-1-appl_current,meas_voltage_K2-201,\n",
       " I vs V#IV11_100KOhm_89mKIV_1_48_2_3#117@/Users/albert-mac/Library/CloudStorage/SynologyDrive-KeLab/00 Users/Albert/10_Data/03_Data analysis/PtTe2/PtTe2_NbTi_B7_2024-07-02_01.db\n",
       " --------------------------------------------------------------------------------------------------------------------------------------------------------------------------------\n",
       " 117-results-1-appl_current,meas_voltage_K2-201,\n",
       " I vs V#IV10_100KOhm_89mKIV_38_39_42_43#118@/Users/albert-mac/Library/CloudStorage/SynologyDrive-KeLab/00 Users/Albert/10_Data/03_Data analysis/PtTe2/PtTe2_NbTi_B7_2024-07-02_01.db\n",
       " -----------------------------------------------------------------------------------------------------------------------------------------------------------------------------------\n",
       " 118-results-1-appl_current,meas_voltage_K2-101,\n",
       " I vs V#L01_100KOhm_83mKIV_20_21_23_22#119@/Users/albert-mac/Library/CloudStorage/SynologyDrive-KeLab/00 Users/Albert/10_Data/03_Data analysis/PtTe2/PtTe2_NbTi_B7_2024-07-02_01.db\n",
       " ----------------------------------------------------------------------------------------------------------------------------------------------------------------------------------\n",
       " 119-results-1-appl_current,meas_voltage_K2-101,\n",
       " I vs V#L01_100KOhm_83mKIV_20_21_23_22#120@/Users/albert-mac/Library/CloudStorage/SynologyDrive-KeLab/00 Users/Albert/10_Data/03_Data analysis/PtTe2/PtTe2_NbTi_B7_2024-07-02_01.db\n",
       " ----------------------------------------------------------------------------------------------------------------------------------------------------------------------------------\n",
       " 120-results-1-appl_current,meas_voltage_K2-101,\n",
       " I vs V#L01_100KOhm_83mKIV_20_21_23_22#121@/Users/albert-mac/Library/CloudStorage/SynologyDrive-KeLab/00 Users/Albert/10_Data/03_Data analysis/PtTe2/PtTe2_NbTi_B7_2024-07-02_01.db\n",
       " ----------------------------------------------------------------------------------------------------------------------------------------------------------------------------------\n",
       " 121-results-1-appl_current,meas_voltage_K2-101,\n",
       " IV vs Byb#L01_100KOhm_89mKIV_20_21_23_22#122@/Users/albert-mac/Library/CloudStorage/SynologyDrive-KeLab/00 Users/Albert/10_Data/03_Data analysis/PtTe2/PtTe2_NbTi_B7_2024-07-02_01.db\n",
       " -------------------------------------------------------------------------------------------------------------------------------------------------------------------------------------\n",
       " 122-results-1-y_field,appl_current,meas_voltage_K2-5151,\n",
       " I vs V#L03_100KOhm_83mKIV_32_33_6_7#123@/Users/albert-mac/Library/CloudStorage/SynologyDrive-KeLab/00 Users/Albert/10_Data/03_Data analysis/PtTe2/PtTe2_NbTi_B7_2024-07-02_01.db\n",
       " --------------------------------------------------------------------------------------------------------------------------------------------------------------------------------\n",
       " 123-results-1-appl_current,meas_voltage_K2-101,\n",
       " I vs V#L04_100KOhm_90mKIV_31_30_28_29#124@/Users/albert-mac/Library/CloudStorage/SynologyDrive-KeLab/00 Users/Albert/10_Data/03_Data analysis/PtTe2/PtTe2_NbTi_B7_2024-07-02_01.db\n",
       " ----------------------------------------------------------------------------------------------------------------------------------------------------------------------------------\n",
       " 124-results-1-appl_current,meas_voltage_K2-101,\n",
       " IV vs Byb#L04_100KOhm_91mKIV_31_30_28_29#125@/Users/albert-mac/Library/CloudStorage/SynologyDrive-KeLab/00 Users/Albert/10_Data/03_Data analysis/PtTe2/PtTe2_NbTi_B7_2024-07-02_01.db\n",
       " -------------------------------------------------------------------------------------------------------------------------------------------------------------------------------------\n",
       " 125-results-1-y_field,appl_current,meas_voltage_K2-10201,\n",
       " IV vs By#L04_100KOhm_95mKIV_29_28_10_11#126@/Users/albert-mac/Library/CloudStorage/SynologyDrive-KeLab/00 Users/Albert/10_Data/03_Data analysis/PtTe2/PtTe2_NbTi_B7_2024-07-02_01.db\n",
       " ------------------------------------------------------------------------------------------------------------------------------------------------------------------------------------\n",
       " 126-results-1-y_field,appl_current,meas_voltage_K2-10201,\n",
       " IV vs Byb#L04_100KOhm_82mKIV_11_10_8_9#127@/Users/albert-mac/Library/CloudStorage/SynologyDrive-KeLab/00 Users/Albert/10_Data/03_Data analysis/PtTe2/PtTe2_NbTi_B7_2024-07-02_01.db\n",
       " -----------------------------------------------------------------------------------------------------------------------------------------------------------------------------------\n",
       " 127-results-1-y_field,appl_current,meas_voltage_K2-10201,\n",
       " IV vs By#IV11HD_100KOhm_84mKIV_3_2_47_46#128@/Users/albert-mac/Library/CloudStorage/SynologyDrive-KeLab/00 Users/Albert/10_Data/03_Data analysis/PtTe2/PtTe2_NbTi_B7_2024-07-02_01.db\n",
       " -------------------------------------------------------------------------------------------------------------------------------------------------------------------------------------\n",
       " 128-results-1-y_field,appl_current,meas_voltage_K2-30401,\n",
       " IV vs Byb#IV11HD_100KOhm_78mKIV_3_2_47_46#129@/Users/albert-mac/Library/CloudStorage/SynologyDrive-KeLab/00 Users/Albert/10_Data/03_Data analysis/PtTe2/PtTe2_NbTi_B7_2024-07-02_01.db\n",
       " --------------------------------------------------------------------------------------------------------------------------------------------------------------------------------------\n",
       " 129-results-1-y_field,appl_current,meas_voltage_K2-3379,\n",
       " IV vs Byb#IV11HD_100KOhm_78mKIV_3_2_47_46#130@/Users/albert-mac/Library/CloudStorage/SynologyDrive-KeLab/00 Users/Albert/10_Data/03_Data analysis/PtTe2/PtTe2_NbTi_B7_2024-07-02_01.db\n",
       " --------------------------------------------------------------------------------------------------------------------------------------------------------------------------------------\n",
       " 130-results-1-y_field,appl_current,meas_voltage_K2-1070,\n",
       " I vs V#IV11_100KOhm_90mKIV_3_2_47_46#131@/Users/albert-mac/Library/CloudStorage/SynologyDrive-KeLab/00 Users/Albert/10_Data/03_Data analysis/PtTe2/PtTe2_NbTi_B7_2024-07-02_01.db\n",
       " ---------------------------------------------------------------------------------------------------------------------------------------------------------------------------------\n",
       " 131-results-1-appl_current,meas_voltage_K2-101,\n",
       " IV vs Byb#IV11_100KOhm_78mKIV_3_2_47_46#132@/Users/albert-mac/Library/CloudStorage/SynologyDrive-KeLab/00 Users/Albert/10_Data/03_Data analysis/PtTe2/PtTe2_NbTi_B7_2024-07-02_01.db\n",
       " ------------------------------------------------------------------------------------------------------------------------------------------------------------------------------------\n",
       " 132-results-1-y_field,appl_current,meas_voltage_K2-10201,\n",
       " IV vs By#IV11_100KOhm_83mKIV_3_2_47_46#133@/Users/albert-mac/Library/CloudStorage/SynologyDrive-KeLab/00 Users/Albert/10_Data/03_Data analysis/PtTe2/PtTe2_NbTi_B7_2024-07-02_01.db\n",
       " -----------------------------------------------------------------------------------------------------------------------------------------------------------------------------------\n",
       " 133-results-1-y_field,appl_current,meas_voltage_K2-5151,\n",
       " IV vs By#IV11_100KOhm_83mKIV_46_47_45_44#134@/Users/albert-mac/Library/CloudStorage/SynologyDrive-KeLab/00 Users/Albert/10_Data/03_Data analysis/PtTe2/PtTe2_NbTi_B7_2024-07-02_01.db\n",
       " -------------------------------------------------------------------------------------------------------------------------------------------------------------------------------------\n",
       " 134-results-1-y_field,appl_current,meas_voltage_K2-3001,\n",
       " I vs V#L04_100KOhm_100mKIV_11_10_8_9#135@/Users/albert-mac/Library/CloudStorage/SynologyDrive-KeLab/00 Users/Albert/10_Data/03_Data analysis/PtTe2/PtTe2_NbTi_B7_2024-07-02_01.db\n",
       " ---------------------------------------------------------------------------------------------------------------------------------------------------------------------------------\n",
       " 135-results-1-appl_current,meas_voltage_K2-101,\n",
       " IV vs By#L04_100KOhm_100mKIV_11_10_8_9#136@/Users/albert-mac/Library/CloudStorage/SynologyDrive-KeLab/00 Users/Albert/10_Data/03_Data analysis/PtTe2/PtTe2_NbTi_B7_2024-07-02_01.db\n",
       " -----------------------------------------------------------------------------------------------------------------------------------------------------------------------------------\n",
       " 136-results-1-y_field,appl_current,meas_voltage_K2-5151,\n",
       " IV vs By#L04_100KOhm_120mKIV_11_10_8_9#137@/Users/albert-mac/Library/CloudStorage/SynologyDrive-KeLab/00 Users/Albert/10_Data/03_Data analysis/PtTe2/PtTe2_NbTi_B7_2024-07-02_01.db\n",
       " -----------------------------------------------------------------------------------------------------------------------------------------------------------------------------------\n",
       " 137-results-1-y_field,appl_current,meas_voltage_K2-454,\n",
       " IV vs By#L04_100KOhm_100mKIV_11_10_8_9#138@/Users/albert-mac/Library/CloudStorage/SynologyDrive-KeLab/00 Users/Albert/10_Data/03_Data analysis/PtTe2/PtTe2_NbTi_B7_2024-07-02_01.db\n",
       " -----------------------------------------------------------------------------------------------------------------------------------------------------------------------------------\n",
       " 138-results-1-y_field,appl_current,meas_voltage_K2-887,\n",
       " IV vs Byb#L04_100KOhm_105mKIV_3_2_47_46#139@/Users/albert-mac/Library/CloudStorage/SynologyDrive-KeLab/00 Users/Albert/10_Data/03_Data analysis/PtTe2/PtTe2_NbTi_B7_2024-07-02_01.db\n",
       " ------------------------------------------------------------------------------------------------------------------------------------------------------------------------------------\n",
       " 139-results-1-y_field,appl_current,meas_voltage_K2-10201,\n",
       " IV vs By#L04_100KOhm_105mKIV_3_2_47_46#140@/Users/albert-mac/Library/CloudStorage/SynologyDrive-KeLab/00 Users/Albert/10_Data/03_Data analysis/PtTe2/PtTe2_NbTi_B7_2024-07-02_01.db\n",
       " -----------------------------------------------------------------------------------------------------------------------------------------------------------------------------------\n",
       " 140-results-1-y_field,appl_current,meas_voltage_K2-10201,\n",
       " IV vs By#IV11_100KOhm_100mKIV_3_2_47_46#141@/Users/albert-mac/Library/CloudStorage/SynologyDrive-KeLab/00 Users/Albert/10_Data/03_Data analysis/PtTe2/PtTe2_NbTi_B7_2024-07-02_01.db\n",
       " ------------------------------------------------------------------------------------------------------------------------------------------------------------------------------------\n",
       " 141-results-1-y_field,appl_current,meas_voltage_K2-30401,\n",
       " IV vs By#IV11_100KOhm_100mKIV_1_48_2_3#142@/Users/albert-mac/Library/CloudStorage/SynologyDrive-KeLab/00 Users/Albert/10_Data/03_Data analysis/PtTe2/PtTe2_NbTi_B7_2024-07-02_01.db\n",
       " -----------------------------------------------------------------------------------------------------------------------------------------------------------------------------------\n",
       " 142-results-1-y_field,appl_current,meas_voltage_K2-30401,\n",
       " IV vs Byb#IV11_100KOhm_100mKIV_1_48_2_3#143@/Users/albert-mac/Library/CloudStorage/SynologyDrive-KeLab/00 Users/Albert/10_Data/03_Data analysis/PtTe2/PtTe2_NbTi_B7_2024-07-02_01.db\n",
       " ------------------------------------------------------------------------------------------------------------------------------------------------------------------------------------\n",
       " 143-results-1-y_field,appl_current,meas_voltage_K2-14645,\n",
       " IV vs Byb#IV11_100KOhm_100mKIV_1_48_2_3#144@/Users/albert-mac/Library/CloudStorage/SynologyDrive-KeLab/00 Users/Albert/10_Data/03_Data analysis/PtTe2/PtTe2_NbTi_B7_2024-07-02_01.db\n",
       " ------------------------------------------------------------------------------------------------------------------------------------------------------------------------------------\n",
       " 144-results-1-y_field,appl_current,meas_voltage_K2-10201,\n",
       " IV vs Byb#IV11_100KOhm_100mKIV_1_48_2_3#145@/Users/albert-mac/Library/CloudStorage/SynologyDrive-KeLab/00 Users/Albert/10_Data/03_Data analysis/PtTe2/PtTe2_NbTi_B7_2024-07-02_01.db\n",
       " ------------------------------------------------------------------------------------------------------------------------------------------------------------------------------------\n",
       " 145-results-1-y_field,appl_current,meas_voltage_K2-5050,\n",
       " IV vs Byb#IV11_100KOhm_100mKIV_1_48_2_3#146@/Users/albert-mac/Library/CloudStorage/SynologyDrive-KeLab/00 Users/Albert/10_Data/03_Data analysis/PtTe2/PtTe2_NbTi_B7_2024-07-02_01.db\n",
       " ------------------------------------------------------------------------------------------------------------------------------------------------------------------------------------\n",
       " 146-results-1-y_field,appl_current,meas_voltage_K2-10201,\n",
       " I vs V#IV11_100KOhm_100mKIV_1_48_2_3#147@/Users/albert-mac/Library/CloudStorage/SynologyDrive-KeLab/00 Users/Albert/10_Data/03_Data analysis/PtTe2/PtTe2_NbTi_B7_2024-07-02_01.db\n",
       " ---------------------------------------------------------------------------------------------------------------------------------------------------------------------------------\n",
       " 147-results-1-appl_current,meas_voltage_K2-101,\n",
       " IV vs Byb#IV11_100KOhm_100mKIV_1_48_2_3#148@/Users/albert-mac/Library/CloudStorage/SynologyDrive-KeLab/00 Users/Albert/10_Data/03_Data analysis/PtTe2/PtTe2_NbTi_B7_2024-07-02_01.db\n",
       " ------------------------------------------------------------------------------------------------------------------------------------------------------------------------------------\n",
       " 148-results-1-y_field,appl_current,meas_voltage_K2-20301,\n",
       " IV vs Byb#IV11_100KOhm_100mKIV_1_48_2_3#149@/Users/albert-mac/Library/CloudStorage/SynologyDrive-KeLab/00 Users/Albert/10_Data/03_Data analysis/PtTe2/PtTe2_NbTi_B7_2024-07-02_01.db\n",
       " ------------------------------------------------------------------------------------------------------------------------------------------------------------------------------------\n",
       " 149-results-1-y_field,appl_current,meas_voltage_K2-20700,\n",
       " IV vs Byb#IV11_100KOhm_100mKIV_1_48_2_3#150@/Users/albert-mac/Library/CloudStorage/SynologyDrive-KeLab/00 Users/Albert/10_Data/03_Data analysis/PtTe2/PtTe2_NbTi_B7_2024-07-02_01.db\n",
       " ------------------------------------------------------------------------------------------------------------------------------------------------------------------------------------\n",
       " 150-results-1-y_field,appl_current,meas_voltage_K2-18072,\n",
       " IV vs Byb#IV11_100KOhm_100mKIV_1_48_2_3#151@/Users/albert-mac/Library/CloudStorage/SynologyDrive-KeLab/00 Users/Albert/10_Data/03_Data analysis/PtTe2/PtTe2_NbTi_B7_2024-07-02_01.db\n",
       " ------------------------------------------------------------------------------------------------------------------------------------------------------------------------------------\n",
       " 151-results-1-y_field,appl_current,meas_voltage_K2-20100,\n",
       " IV vs Byb#IV11_100KOhm_100mKIV_1_48_2_3#152@/Users/albert-mac/Library/CloudStorage/SynologyDrive-KeLab/00 Users/Albert/10_Data/03_Data analysis/PtTe2/PtTe2_NbTi_B7_2024-07-02_01.db\n",
       " ------------------------------------------------------------------------------------------------------------------------------------------------------------------------------------\n",
       " 152-results-1-y_field,appl_current,meas_voltage_K2-48521,\n",
       " IV vs By#L02HD_100KOhm_100mKIV_15_14_25_24#153@/Users/albert-mac/Library/CloudStorage/SynologyDrive-KeLab/00 Users/Albert/10_Data/03_Data analysis/PtTe2/PtTe2_NbTi_B7_2024-07-02_01.db\n",
       " ---------------------------------------------------------------------------------------------------------------------------------------------------------------------------------------\n",
       " 153-results-1-y_field,appl_current,meas_voltage_K2-48521,\n",
       " IV vs Byb#L02HD_100KOhm_100mKIV_15_14_25_24#154@/Users/albert-mac/Library/CloudStorage/SynologyDrive-KeLab/00 Users/Albert/10_Data/03_Data analysis/PtTe2/PtTe2_NbTi_B7_2024-07-02_01.db\n",
       " ----------------------------------------------------------------------------------------------------------------------------------------------------------------------------------------\n",
       " 154-results-1-y_field,appl_current,meas_voltage_K2-48521,\n",
       " IV vs By#L02HD_100KOhm_100mKIV_15_14_25_24#155@/Users/albert-mac/Library/CloudStorage/SynologyDrive-KeLab/00 Users/Albert/10_Data/03_Data analysis/PtTe2/PtTe2_NbTi_B7_2024-07-02_01.db\n",
       " ---------------------------------------------------------------------------------------------------------------------------------------------------------------------------------------\n",
       " 155-results-1-y_field,appl_current,meas_voltage_K2-48521,\n",
       " IV vs Byb#L02_100KOhm_100mKIV_17_16_26_27#156@/Users/albert-mac/Library/CloudStorage/SynologyDrive-KeLab/00 Users/Albert/10_Data/03_Data analysis/PtTe2/PtTe2_NbTi_B7_2024-07-02_01.db\n",
       " --------------------------------------------------------------------------------------------------------------------------------------------------------------------------------------\n",
       " 156-results-1-y_field,appl_current,meas_voltage_K2-12221,\n",
       " IV vs Byb#L02HD_100KOhm_100mKIV_17_16_26_27#157@/Users/albert-mac/Library/CloudStorage/SynologyDrive-KeLab/00 Users/Albert/10_Data/03_Data analysis/PtTe2/PtTe2_NbTi_B7_2024-07-02_01.db\n",
       " ----------------------------------------------------------------------------------------------------------------------------------------------------------------------------------------\n",
       " 157-results-1-y_field,appl_current,meas_voltage_K2-36421,\n",
       " IV vs Byb#L02HD_100KOhm_IV_17_16_26_27#158@/Users/albert-mac/Library/CloudStorage/SynologyDrive-KeLab/00 Users/Albert/10_Data/03_Data analysis/PtTe2/PtTe2_NbTi_B7_2024-07-02_01.db\n",
       " -----------------------------------------------------------------------------------------------------------------------------------------------------------------------------------\n",
       " 158-results-1-y_field,appl_current,meas_voltage_K2-56541,\n",
       " IV vs By#L02HD_100KOhm_IV_24_25_12_13#159@/Users/albert-mac/Library/CloudStorage/SynologyDrive-KeLab/00 Users/Albert/10_Data/03_Data analysis/PtTe2/PtTe2_NbTi_B7_2024-07-02_01.db\n",
       " ----------------------------------------------------------------------------------------------------------------------------------------------------------------------------------\n",
       " 159-results-1-y_field,appl_current,meas_voltage_K2-36421,\n",
       " IV vs Byb#L01HD_100KOhm_IV_20_21_23_22#160@/Users/albert-mac/Library/CloudStorage/SynologyDrive-KeLab/00 Users/Albert/10_Data/03_Data analysis/PtTe2/PtTe2_NbTi_B7_2024-07-02_01.db\n",
       " -----------------------------------------------------------------------------------------------------------------------------------------------------------------------------------\n",
       " 160-results-1-y_field,appl_current,meas_voltage_K2-20301,\n",
       " IV vs By#L04_100KOhm_IV_31_30_28_29#161@/Users/albert-mac/Library/CloudStorage/SynologyDrive-KeLab/00 Users/Albert/10_Data/03_Data analysis/PtTe2/PtTe2_NbTi_B7_2024-07-02_01.db\n",
       " --------------------------------------------------------------------------------------------------------------------------------------------------------------------------------\n",
       " 161-results-1-y_field,appl_current,meas_voltage_K2-12221,\n",
       " I vs V#L02HD_100KOhm_100mKIV_15_14_25_24#162@/Users/albert-mac/Library/CloudStorage/SynologyDrive-KeLab/00 Users/Albert/10_Data/03_Data analysis/PtTe2/PtTe2_NbTi_B7_2024-07-02_01.db\n",
       " -------------------------------------------------------------------------------------------------------------------------------------------------------------------------------------\n",
       " 162-results-1-appl_current,meas_voltage_K2-121,\n",
       " I vs V#L02HD_100KOhm_100mKIV_15_14_25_24#163@/Users/albert-mac/Library/CloudStorage/SynologyDrive-KeLab/00 Users/Albert/10_Data/03_Data analysis/PtTe2/PtTe2_NbTi_B7_2024-07-02_01.db\n",
       " -------------------------------------------------------------------------------------------------------------------------------------------------------------------------------------\n",
       " 163-results-1-appl_current,meas_voltage_K2-121,\n",
       " I vs V#L02HD_100KOhm_100mKIV_15_14_25_24#164@/Users/albert-mac/Library/CloudStorage/SynologyDrive-KeLab/00 Users/Albert/10_Data/03_Data analysis/PtTe2/PtTe2_NbTi_B7_2024-07-02_01.db\n",
       " -------------------------------------------------------------------------------------------------------------------------------------------------------------------------------------\n",
       " 164-results-1-appl_current,meas_voltage_K2-121,\n",
       " I vs V#L02HD_100KOhm_100mKIV_15_14_25_24#165@/Users/albert-mac/Library/CloudStorage/SynologyDrive-KeLab/00 Users/Albert/10_Data/03_Data analysis/PtTe2/PtTe2_NbTi_B7_2024-07-02_01.db\n",
       " -------------------------------------------------------------------------------------------------------------------------------------------------------------------------------------\n",
       " 165-results-1-appl_current,meas_voltage_K2-121,\n",
       " I vs V#L02HD_100KOhm_100mKIV_15_14_25_24#166@/Users/albert-mac/Library/CloudStorage/SynologyDrive-KeLab/00 Users/Albert/10_Data/03_Data analysis/PtTe2/PtTe2_NbTi_B7_2024-07-02_01.db\n",
       " -------------------------------------------------------------------------------------------------------------------------------------------------------------------------------------\n",
       " 166-results-1-appl_current,meas_voltage_K2-121,\n",
       " I vs V#L02HD_100KOhm_100mKIV_25_24_15_14#167@/Users/albert-mac/Library/CloudStorage/SynologyDrive-KeLab/00 Users/Albert/10_Data/03_Data analysis/PtTe2/PtTe2_NbTi_B7_2024-07-02_01.db\n",
       " -------------------------------------------------------------------------------------------------------------------------------------------------------------------------------------\n",
       " 167-results-1-appl_current,meas_voltage_K2-121,\n",
       " IV vs By#L02HD_100KOhm_100mKIV_25_24_15_14#168@/Users/albert-mac/Library/CloudStorage/SynologyDrive-KeLab/00 Users/Albert/10_Data/03_Data analysis/PtTe2/PtTe2_NbTi_B7_2024-07-02_01.db\n",
       " ---------------------------------------------------------------------------------------------------------------------------------------------------------------------------------------\n",
       " 168-results-1-y_field,appl_current,meas_voltage_K2-20301,\n",
       " IV vs Byb#L02HD_100KOhm_100mKIV_25_24_15_14#169@/Users/albert-mac/Library/CloudStorage/SynologyDrive-KeLab/00 Users/Albert/10_Data/03_Data analysis/PtTe2/PtTe2_NbTi_B7_2024-07-02_01.db\n",
       " ----------------------------------------------------------------------------------------------------------------------------------------------------------------------------------------\n",
       " 169-results-1-y_field,appl_current,meas_voltage_K2-974,\n",
       " IV vs Byb#L02HD_1MOhm_100mKIV_25_24_15_14#170@/Users/albert-mac/Library/CloudStorage/SynologyDrive-KeLab/00 Users/Albert/10_Data/03_Data analysis/PtTe2/PtTe2_NbTi_B7_2024-07-02_01.db\n",
       " --------------------------------------------------------------------------------------------------------------------------------------------------------------------------------------\n",
       " 170-results-1-y_field,appl_current,meas_voltage_K2-382,\n",
       " IV vs Byb#L02HD_1MOhm_100mKIV_25_24_15_14#171@/Users/albert-mac/Library/CloudStorage/SynologyDrive-KeLab/00 Users/Albert/10_Data/03_Data analysis/PtTe2/PtTe2_NbTi_B7_2024-07-02_01.db\n",
       " --------------------------------------------------------------------------------------------------------------------------------------------------------------------------------------\n",
       " 171-results-1-y_field,appl_current,meas_voltage_K2-18598,\n",
       " IV vs By#II01_1MOhm_92mKIV_30_29_44_43#172@/Users/albert-mac/Library/CloudStorage/SynologyDrive-KeLab/00 Users/Albert/10_Data/03_Data analysis/PtTe2/PtTe2_NbTi_B7_2024-07-02_01.db\n",
       " -----------------------------------------------------------------------------------------------------------------------------------------------------------------------------------\n",
       " 172-results-1-y_field,appl_current,meas_voltage_K2-38391,\n",
       " IV vs Byb#II02_1MOhm_80mKIV_40_39_41_42#173@/Users/albert-mac/Library/CloudStorage/SynologyDrive-KeLab/00 Users/Albert/10_Data/03_Data analysis/PtTe2/PtTe2_NbTi_B7_2024-07-02_01.db\n",
       " ------------------------------------------------------------------------------------------------------------------------------------------------------------------------------------\n",
       " 173-results-1-y_field,appl_current,meas_voltage_K2-2715,\n",
       " IV vs Byb#II02_1MOhm_80mKIV_40_39_41_42#174@/Users/albert-mac/Library/CloudStorage/SynologyDrive-KeLab/00 Users/Albert/10_Data/03_Data analysis/PtTe2/PtTe2_NbTi_B7_2024-07-02_01.db\n",
       " ------------------------------------------------------------------------------------------------------------------------------------------------------------------------------------\n",
       " 174-results-1-y_field,appl_current,meas_voltage_K2-2402,\n",
       " IV vs Byb#II02_1MOhm_80mKIV_40_39_41_42#175@/Users/albert-mac/Library/CloudStorage/SynologyDrive-KeLab/00 Users/Albert/10_Data/03_Data analysis/PtTe2/PtTe2_NbTi_B7_2024-07-02_01.db\n",
       " ------------------------------------------------------------------------------------------------------------------------------------------------------------------------------------\n",
       " 175-results-1-y_field,appl_current,meas_voltage_K2-29141,\n",
       " IV vs By#II02HD_1MOhm_80mKIV_40_39_41_42#176@/Users/albert-mac/Library/CloudStorage/SynologyDrive-KeLab/00 Users/Albert/10_Data/03_Data analysis/PtTe2/PtTe2_NbTi_B7_2024-07-02_01.db\n",
       " -------------------------------------------------------------------------------------------------------------------------------------------------------------------------------------\n",
       " 176-results-1-y_field,appl_current,meas_voltage_K2-96641,\n",
       " IV vs Byb#III04_1MOhm_80mKIV_6_5_7_8#177@/Users/albert-mac/Library/CloudStorage/SynologyDrive-KeLab/00 Users/Albert/10_Data/03_Data analysis/PtTe2/PtTe2_NbTi_B7_2024-07-02_01.db\n",
       " ---------------------------------------------------------------------------------------------------------------------------------------------------------------------------------\n",
       " 177-results-1-y_field,appl_current,meas_voltage_K2-10201,\n",
       " I vs V#III04_1MOhm_80mKIV_6_5_7_8#178@/Users/albert-mac/Library/CloudStorage/SynologyDrive-KeLab/00 Users/Albert/10_Data/03_Data analysis/PtTe2/PtTe2_NbTi_B7_2024-07-02_01.db\n",
       " ------------------------------------------------------------------------------------------------------------------------------------------------------------------------------\n",
       " 178-results-1-appl_current,meas_voltage_K2-101,\n",
       " I vs V#III05_1MOhm_80mKIV_45_46_48_47#179@/Users/albert-mac/Library/CloudStorage/SynologyDrive-KeLab/00 Users/Albert/10_Data/03_Data analysis/PtTe2/PtTe2_NbTi_B7_2024-07-02_01.db\n",
       " ----------------------------------------------------------------------------------------------------------------------------------------------------------------------------------\n",
       " 179-results-1-appl_current,meas_voltage_K2-101,\n",
       " I vs V#III05_100KOhm_80mKIV_45_46_48_47#180@/Users/albert-mac/Library/CloudStorage/SynologyDrive-KeLab/00 Users/Albert/10_Data/03_Data analysis/PtTe2/PtTe2_NbTi_B7_2024-07-02_01.db\n",
       " ------------------------------------------------------------------------------------------------------------------------------------------------------------------------------------\n",
       " 180-results-1-appl_current,meas_voltage_K2-101,\n",
       " I vs V#III05_100KOhm_80mKIV_45_46_48_47#181@/Users/albert-mac/Library/CloudStorage/SynologyDrive-KeLab/00 Users/Albert/10_Data/03_Data analysis/PtTe2/PtTe2_NbTi_B7_2024-07-02_01.db\n",
       " ------------------------------------------------------------------------------------------------------------------------------------------------------------------------------------\n",
       " 181-results-1-appl_current,meas_voltage_K2-101,\n",
       " I vs V#III05_100KOhm_80mKIV_45_46_48_47#182@/Users/albert-mac/Library/CloudStorage/SynologyDrive-KeLab/00 Users/Albert/10_Data/03_Data analysis/PtTe2/PtTe2_NbTi_B7_2024-07-02_01.db\n",
       " ------------------------------------------------------------------------------------------------------------------------------------------------------------------------------------\n",
       " 182-results-1-appl_current,meas_voltage_K2-101,\n",
       " I vs V#III05_100KOhm_80mKIV_45_46_48_47#183@/Users/albert-mac/Library/CloudStorage/SynologyDrive-KeLab/00 Users/Albert/10_Data/03_Data analysis/PtTe2/PtTe2_NbTi_B7_2024-07-02_01.db\n",
       " ------------------------------------------------------------------------------------------------------------------------------------------------------------------------------------\n",
       " 183-results-1-appl_current,meas_voltage_K2-101,\n",
       " IV vs By#III05_100KOhm_IV_45_46_48_47#184@/Users/albert-mac/Library/CloudStorage/SynologyDrive-KeLab/00 Users/Albert/10_Data/03_Data analysis/PtTe2/PtTe2_NbTi_B7_2024-07-02_01.db\n",
       " ----------------------------------------------------------------------------------------------------------------------------------------------------------------------------------\n",
       " 184-results-1-y_field,appl_current,meas_voltage_K2-10201,\n",
       " IV vs Byb#III05HD_100KOhm_IV_45_46_48_47#185@/Users/albert-mac/Library/CloudStorage/SynologyDrive-KeLab/00 Users/Albert/10_Data/03_Data analysis/PtTe2/PtTe2_NbTi_B7_2024-07-02_01.db\n",
       " -------------------------------------------------------------------------------------------------------------------------------------------------------------------------------------\n",
       " 185-results-1-y_field,appl_current,meas_voltage_K2-64561,\n",
       " IV vs By#III04_100KOhm_IV_6_5_7_8#186@/Users/albert-mac/Library/CloudStorage/SynologyDrive-KeLab/00 Users/Albert/10_Data/03_Data analysis/PtTe2/PtTe2_NbTi_B7_2024-07-02_01.db\n",
       " ------------------------------------------------------------------------------------------------------------------------------------------------------------------------------\n",
       " 186-results-1-y_field,appl_current,meas_voltage_K2-4641,\n",
       " IV vs By#III04_100KOhm_IV_6_5_7_8#187@/Users/albert-mac/Library/CloudStorage/SynologyDrive-KeLab/00 Users/Albert/10_Data/03_Data analysis/PtTe2/PtTe2_NbTi_B7_2024-07-02_01.db\n",
       " ------------------------------------------------------------------------------------------------------------------------------------------------------------------------------\n",
       " 187-results-1-y_field,appl_current,meas_voltage_K2-4641,\n",
       " IV vs Byb#R06_100KOhm_IV_11_12_9_10#188@/Users/albert-mac/Library/CloudStorage/SynologyDrive-KeLab/00 Users/Albert/10_Data/03_Data analysis/PtTe2/PtTe2_NbTi_B7_2024-07-02_01.db\n",
       " --------------------------------------------------------------------------------------------------------------------------------------------------------------------------------\n",
       " 188-results-1-y_field,appl_current,meas_voltage_K2-5151,\n",
       " IV vs By#R06HD_100KOhm_IV_11_12_9_10#189@/Users/albert-mac/Library/CloudStorage/SynologyDrive-KeLab/00 Users/Albert/10_Data/03_Data analysis/PtTe2/PtTe2_NbTi_B7_2024-07-02_01.db\n",
       " ---------------------------------------------------------------------------------------------------------------------------------------------------------------------------------\n",
       " 189-results-1-y_field,appl_current,meas_voltage_K2-40501,\n",
       " IV vs By#R06HD_100KOhm_IV_11_12_9_10#190@/Users/albert-mac/Library/CloudStorage/SynologyDrive-KeLab/00 Users/Albert/10_Data/03_Data analysis/PtTe2/PtTe2_NbTi_B7_2024-07-02_01.db\n",
       " ---------------------------------------------------------------------------------------------------------------------------------------------------------------------------------\n",
       " 190-results-1-y_field,appl_current,meas_voltage_K2-7125,\n",
       " IV vs Byb#II01_100KOhm_30_29_44_43#191@/Users/albert-mac/Library/CloudStorage/SynologyDrive-KeLab/00 Users/Albert/10_Data/03_Data analysis/PtTe2/PtTe2_NbTi_B7_2024-07-02_01.db\n",
       " -------------------------------------------------------------------------------------------------------------------------------------------------------------------------------\n",
       " 191-results-1-y_field,appl_current,meas_voltage_K2-20301,\n",
       " IV vs By#R06_100KOhm_11_12_9_10#192@/Users/albert-mac/Library/CloudStorage/SynologyDrive-KeLab/00 Users/Albert/10_Data/03_Data analysis/PtTe2/PtTe2_NbTi_B7_2024-07-02_01.db\n",
       " ----------------------------------------------------------------------------------------------------------------------------------------------------------------------------\n",
       " 192-results-1-y_field,appl_current,meas_voltage_K2-40501,\n",
       " IV vs By#R06_100KOhm_11_12_9_10#193@/Users/albert-mac/Library/CloudStorage/SynologyDrive-KeLab/00 Users/Albert/10_Data/03_Data analysis/PtTe2/PtTe2_NbTi_B7_2024-07-02_01.db\n",
       " ----------------------------------------------------------------------------------------------------------------------------------------------------------------------------\n",
       " 193-results-1-y_field,appl_current,meas_voltage_K2-6451,\n",
       " IV vs Byb#IV11_100KOhm_1_48_2_3#194@/Users/albert-mac/Library/CloudStorage/SynologyDrive-KeLab/00 Users/Albert/10_Data/03_Data analysis/PtTe2/PtTe2_NbTi_B7_2024-07-02_01.db\n",
       " ----------------------------------------------------------------------------------------------------------------------------------------------------------------------------\n",
       " 194-results-1-y_field,appl_current,meas_voltage_K2-30351,\n",
       " IV vs By#IV11_100KOhm_1_48_2_3#195@/Users/albert-mac/Library/CloudStorage/SynologyDrive-KeLab/00 Users/Albert/10_Data/03_Data analysis/PtTe2/PtTe2_NbTi_B7_2024-07-02_01.db\n",
       " ---------------------------------------------------------------------------------------------------------------------------------------------------------------------------\n",
       " 195-results-1-y_field,appl_current,meas_voltage_K2-10201,\n",
       " IV vs Byb#IV11_100KOhm_1_48_2_3#196@/Users/albert-mac/Library/CloudStorage/SynologyDrive-KeLab/00 Users/Albert/10_Data/03_Data analysis/PtTe2/PtTe2_NbTi_B7_2024-07-02_01.db\n",
       " ----------------------------------------------------------------------------------------------------------------------------------------------------------------------------\n",
       " 196-results-1-y_field,appl_current,meas_voltage_K2-10201,\n",
       " IV vs By#L02_100KOhm_15_14_25_24#197@/Users/albert-mac/Library/CloudStorage/SynologyDrive-KeLab/00 Users/Albert/10_Data/03_Data analysis/PtTe2/PtTe2_NbTi_B7_2024-07-02_01.db\n",
       " -----------------------------------------------------------------------------------------------------------------------------------------------------------------------------\n",
       " 197-results-1-y_field,appl_current,meas_voltage_K2-10201,\n",
       " IV vs Byb#L02_100KOhm_26_27_14_15#198@/Users/albert-mac/Library/CloudStorage/SynologyDrive-KeLab/00 Users/Albert/10_Data/03_Data analysis/PtTe2/PtTe2_NbTi_B7_2024-07-02_01.db\n",
       " ------------------------------------------------------------------------------------------------------------------------------------------------------------------------------\n",
       " 198-results-1-y_field,appl_current,meas_voltage_K2-10201,\n",
       " IV vs By#L02_100KOhm_26_27_14_15#199@/Users/albert-mac/Library/CloudStorage/SynologyDrive-KeLab/00 Users/Albert/10_Data/03_Data analysis/PtTe2/PtTe2_NbTi_B7_2024-07-02_01.db\n",
       " -----------------------------------------------------------------------------------------------------------------------------------------------------------------------------\n",
       " 199-results-1-y_field,appl_current,meas_voltage_K2-20301,\n",
       " IV vs Byb#L02_100KOhm_26_27_14_15#200@/Users/albert-mac/Library/CloudStorage/SynologyDrive-KeLab/00 Users/Albert/10_Data/03_Data analysis/PtTe2/PtTe2_NbTi_B7_2024-07-02_01.db\n",
       " ------------------------------------------------------------------------------------------------------------------------------------------------------------------------------\n",
       " 200-results-1-y_field,appl_current,meas_voltage_K2-20301,\n",
       " IV vs Bx#L02_100KOhm_26_27_14_15#201@/Users/albert-mac/Library/CloudStorage/SynologyDrive-KeLab/00 Users/Albert/10_Data/03_Data analysis/PtTe2/PtTe2_NbTi_B7_2024-07-02_01.db\n",
       " -----------------------------------------------------------------------------------------------------------------------------------------------------------------------------\n",
       " 201-results-1-x_field,appl_current,meas_voltage_K2-100701,\n",
       " IV vs Bxb#L02_100KOhm_26_27_14_15#202@/Users/albert-mac/Library/CloudStorage/SynologyDrive-KeLab/00 Users/Albert/10_Data/03_Data analysis/PtTe2/PtTe2_NbTi_B7_2024-07-02_01.db\n",
       " ------------------------------------------------------------------------------------------------------------------------------------------------------------------------------\n",
       " 202-results-1-x_field,appl_current,meas_voltage_K2-11658,\n",
       " IV vs Bxb#L02_100KOhm_26_27_14_15#203@/Users/albert-mac/Library/CloudStorage/SynologyDrive-KeLab/00 Users/Albert/10_Data/03_Data analysis/PtTe2/PtTe2_NbTi_B7_2024-07-02_01.db\n",
       " ------------------------------------------------------------------------------------------------------------------------------------------------------------------------------\n",
       " 203-results-1-x_field,appl_current,meas_voltage_K2-20301,\n",
       " IV vs Bx#L02_100KOhm_26_27_14_15#204@/Users/albert-mac/Library/CloudStorage/SynologyDrive-KeLab/00 Users/Albert/10_Data/03_Data analysis/PtTe2/PtTe2_NbTi_B7_2024-07-02_01.db\n",
       " -----------------------------------------------------------------------------------------------------------------------------------------------------------------------------\n",
       " 204-results-1-x_field,appl_current,meas_voltage_K2-40401,\n",
       " IV vs By_x0#L02_100KOhm_26_27_14_15#205@/Users/albert-mac/Library/CloudStorage/SynologyDrive-KeLab/00 Users/Albert/10_Data/03_Data analysis/PtTe2/PtTe2_NbTi_B7_2024-07-02_01.db\n",
       " --------------------------------------------------------------------------------------------------------------------------------------------------------------------------------\n",
       " 205-results-1-y_field,appl_current,meas_voltage_K2-20301,\n",
       " IV vs Byb_x-10#L02_100KOhm_26_27_14_15#206@/Users/albert-mac/Library/CloudStorage/SynologyDrive-KeLab/00 Users/Albert/10_Data/03_Data analysis/PtTe2/PtTe2_NbTi_B7_2024-07-02_01.db\n",
       " -----------------------------------------------------------------------------------------------------------------------------------------------------------------------------------\n",
       " 206-results-1-y_field,appl_current,meas_voltage_K2-60621,\n",
       " IVb vs By_x-10#L02_100KOhm_26_27_14_15#207@/Users/albert-mac/Library/CloudStorage/SynologyDrive-KeLab/00 Users/Albert/10_Data/03_Data analysis/PtTe2/PtTe2_NbTi_B7_2024-07-02_01.db\n",
       " -----------------------------------------------------------------------------------------------------------------------------------------------------------------------------------\n",
       " 207-results-1-y_field,appl_current,meas_voltage_K2-60621,\n",
       " IV vs Byb_x-5#L02_100KOhm_26_27_14_15#208@/Users/albert-mac/Library/CloudStorage/SynologyDrive-KeLab/00 Users/Albert/10_Data/03_Data analysis/PtTe2/PtTe2_NbTi_B7_2024-07-02_01.db\n",
       " ----------------------------------------------------------------------------------------------------------------------------------------------------------------------------------\n",
       " 208-results-1-y_field,appl_current,meas_voltage_K2-60621,\n",
       " IVb vs By_x-5#L02_100KOhm_26_27_14_15#209@/Users/albert-mac/Library/CloudStorage/SynologyDrive-KeLab/00 Users/Albert/10_Data/03_Data analysis/PtTe2/PtTe2_NbTi_B7_2024-07-02_01.db\n",
       " ----------------------------------------------------------------------------------------------------------------------------------------------------------------------------------\n",
       " 209-results-1-y_field,appl_current,meas_voltage_K2-60621,\n",
       " IV vs Byb_x0#L02_100KOhm_26_27_14_15#210@/Users/albert-mac/Library/CloudStorage/SynologyDrive-KeLab/00 Users/Albert/10_Data/03_Data analysis/PtTe2/PtTe2_NbTi_B7_2024-07-02_01.db\n",
       " ---------------------------------------------------------------------------------------------------------------------------------------------------------------------------------\n",
       " 210-results-1-y_field,appl_current,meas_voltage_K2-60621,\n",
       " IVb vs By_x0#L02_100KOhm_26_27_14_15#211@/Users/albert-mac/Library/CloudStorage/SynologyDrive-KeLab/00 Users/Albert/10_Data/03_Data analysis/PtTe2/PtTe2_NbTi_B7_2024-07-02_01.db\n",
       " ---------------------------------------------------------------------------------------------------------------------------------------------------------------------------------\n",
       " 211-results-1-y_field,appl_current,meas_voltage_K2-60621,\n",
       " IV vs Byb_x5#L02_100KOhm_26_27_14_15#212@/Users/albert-mac/Library/CloudStorage/SynologyDrive-KeLab/00 Users/Albert/10_Data/03_Data analysis/PtTe2/PtTe2_NbTi_B7_2024-07-02_01.db\n",
       " ---------------------------------------------------------------------------------------------------------------------------------------------------------------------------------\n",
       " 212-results-1-y_field,appl_current,meas_voltage_K2-60621,\n",
       " IVb vs By_x5#L02_100KOhm_26_27_14_15#213@/Users/albert-mac/Library/CloudStorage/SynologyDrive-KeLab/00 Users/Albert/10_Data/03_Data analysis/PtTe2/PtTe2_NbTi_B7_2024-07-02_01.db\n",
       " ---------------------------------------------------------------------------------------------------------------------------------------------------------------------------------\n",
       " 213-results-1-y_field,appl_current,meas_voltage_K2-60621,\n",
       " IV vs Byb_x10#L02_100KOhm_26_27_14_15#214@/Users/albert-mac/Library/CloudStorage/SynologyDrive-KeLab/00 Users/Albert/10_Data/03_Data analysis/PtTe2/PtTe2_NbTi_B7_2024-07-02_01.db\n",
       " ----------------------------------------------------------------------------------------------------------------------------------------------------------------------------------\n",
       " 214-results-1-y_field,appl_current,meas_voltage_K2-60621,\n",
       " IVb vs By_x10#L02_100KOhm_26_27_14_15#215@/Users/albert-mac/Library/CloudStorage/SynologyDrive-KeLab/00 Users/Albert/10_Data/03_Data analysis/PtTe2/PtTe2_NbTi_B7_2024-07-02_01.db\n",
       " ----------------------------------------------------------------------------------------------------------------------------------------------------------------------------------\n",
       " 215-results-1-y_field,appl_current,meas_voltage_K2-60621,\n",
       " IV vs By_x10#L02_100KOhm_26_27_14_15#216@/Users/albert-mac/Library/CloudStorage/SynologyDrive-KeLab/00 Users/Albert/10_Data/03_Data analysis/PtTe2/PtTe2_NbTi_B7_2024-07-02_01.db\n",
       " ---------------------------------------------------------------------------------------------------------------------------------------------------------------------------------\n",
       " 216-results-1-y_field,appl_current,meas_voltage_K2-48521,\n",
       " IVb vs Byb_x10#L02_100KOhm_26_27_14_15#217@/Users/albert-mac/Library/CloudStorage/SynologyDrive-KeLab/00 Users/Albert/10_Data/03_Data analysis/PtTe2/PtTe2_NbTi_B7_2024-07-02_01.db\n",
       " -----------------------------------------------------------------------------------------------------------------------------------------------------------------------------------\n",
       " 217-results-1-y_field,appl_current,meas_voltage_K2-60621,\n",
       " IV vs By_x20#L02_100KOhm_26_27_14_15#218@/Users/albert-mac/Library/CloudStorage/SynologyDrive-KeLab/00 Users/Albert/10_Data/03_Data analysis/PtTe2/PtTe2_NbTi_B7_2024-07-02_01.db\n",
       " ---------------------------------------------------------------------------------------------------------------------------------------------------------------------------------\n",
       " 218-results-1-y_field,appl_current,meas_voltage_K2-48521,\n",
       " IVb vs By_x20#L02_100KOhm_26_27_14_15#219@/Users/albert-mac/Library/CloudStorage/SynologyDrive-KeLab/00 Users/Albert/10_Data/03_Data analysis/PtTe2/PtTe2_NbTi_B7_2024-07-02_01.db\n",
       " ----------------------------------------------------------------------------------------------------------------------------------------------------------------------------------\n",
       " 219-results-1-y_field,appl_current,meas_voltage_K2-48521,\n",
       " IV vs By_x-20#L02_100KOhm_26_27_14_15#220@/Users/albert-mac/Library/CloudStorage/SynologyDrive-KeLab/00 Users/Albert/10_Data/03_Data analysis/PtTe2/PtTe2_NbTi_B7_2024-07-02_01.db\n",
       " ----------------------------------------------------------------------------------------------------------------------------------------------------------------------------------\n",
       " 220-results-1-y_field,appl_current,meas_voltage_K2-48521,\n",
       " IVb vs Byb_x-20#L02_100KOhm_26_27_14_15#221@/Users/albert-mac/Library/CloudStorage/SynologyDrive-KeLab/00 Users/Albert/10_Data/03_Data analysis/PtTe2/PtTe2_NbTi_B7_2024-07-02_01.db\n",
       " ------------------------------------------------------------------------------------------------------------------------------------------------------------------------------------\n",
       " 221-results-1-y_field,appl_current,meas_voltage_K2-48521,\n",
       " IV vs By_x0z0#L02_100KOhm_26_27_14_15#222@/Users/albert-mac/Library/CloudStorage/SynologyDrive-KeLab/00 Users/Albert/10_Data/03_Data analysis/PtTe2/PtTe2_NbTi_B7_2024-07-02_01.db\n",
       " ----------------------------------------------------------------------------------------------------------------------------------------------------------------------------------\n",
       " 222-results-1-y_field,appl_current,meas_voltage_K2-48521,\n",
       " IV vs Byb_x0z10#L02_100KOhm_26_27_14_15#223@/Users/albert-mac/Library/CloudStorage/SynologyDrive-KeLab/00 Users/Albert/10_Data/03_Data analysis/PtTe2/PtTe2_NbTi_B7_2024-07-02_01.db\n",
       " ------------------------------------------------------------------------------------------------------------------------------------------------------------------------------------\n",
       " 223-results-1-y_field,appl_current,meas_voltage_K2-48521,\n",
       " IVb vs By_x0z10#L02_100KOhm_26_27_14_15#224@/Users/albert-mac/Library/CloudStorage/SynologyDrive-KeLab/00 Users/Albert/10_Data/03_Data analysis/PtTe2/PtTe2_NbTi_B7_2024-07-02_01.db\n",
       " ------------------------------------------------------------------------------------------------------------------------------------------------------------------------------------\n",
       " 224-results-1-y_field,appl_current,meas_voltage_K2-48521,\n",
       " IV vs Byb_x0z20#L02_100KOhm_26_27_14_15#225@/Users/albert-mac/Library/CloudStorage/SynologyDrive-KeLab/00 Users/Albert/10_Data/03_Data analysis/PtTe2/PtTe2_NbTi_B7_2024-07-02_01.db\n",
       " ------------------------------------------------------------------------------------------------------------------------------------------------------------------------------------\n",
       " 225-results-1-y_field,appl_current,meas_voltage_K2-48521,\n",
       " IV vs By_x0z20#L02_100KOhm_26_27_14_15#226@/Users/albert-mac/Library/CloudStorage/SynologyDrive-KeLab/00 Users/Albert/10_Data/03_Data analysis/PtTe2/PtTe2_NbTi_B7_2024-07-02_01.db\n",
       " -----------------------------------------------------------------------------------------------------------------------------------------------------------------------------------\n",
       " 226-results-1-y_field,appl_current,meas_voltage_K2-48521,\n",
       " IV vs Byb_x0z-10#L02_100KOhm_26_27_14_15#227@/Users/albert-mac/Library/CloudStorage/SynologyDrive-KeLab/00 Users/Albert/10_Data/03_Data analysis/PtTe2/PtTe2_NbTi_B7_2024-07-02_01.db\n",
       " -------------------------------------------------------------------------------------------------------------------------------------------------------------------------------------\n",
       " 227-results-1-y_field,appl_current,meas_voltage_K2-48521,\n",
       " IV vs By_x0z-20#L02_100KOhm_26_27_14_15#228@/Users/albert-mac/Library/CloudStorage/SynologyDrive-KeLab/00 Users/Albert/10_Data/03_Data analysis/PtTe2/PtTe2_NbTi_B7_2024-07-02_01.db\n",
       " ------------------------------------------------------------------------------------------------------------------------------------------------------------------------------------\n",
       " 228-results-1-y_field,appl_current,meas_voltage_K2-46828]"
      ]
     },
     "execution_count": 200,
     "metadata": {},
     "output_type": "execute_result"
    }
   ],
   "source": [
    "db_path = r\"/Users/albert-mac/Library/CloudStorage/SynologyDrive-KeLab/00 Users/Albert/10_Data/03_Data analysis/PtTe2/PtTe2_NbTi_B7_2024-07-02_01.db\"\n",
    "initialise_or_create_database_at(rf\"{db_path}\")\n",
    "qc.experiments()"
   ]
  },
  {
   "cell_type": "code",
   "execution_count": null,
   "metadata": {},
   "outputs": [],
   "source": [
    "open_plottr(db_path)"
   ]
  },
  {
   "cell_type": "markdown",
   "metadata": {},
   "source": [
    "# Function define"
   ]
  },
  {
   "cell_type": "markdown",
   "metadata": {},
   "source": [
    "### Plot_by_id"
   ]
  },
  {
   "cell_type": "code",
   "execution_count": 201,
   "metadata": {},
   "outputs": [
    {
     "data": {
      "text/plain": [
       "([<Axes: title={'center': 'Run #66, Experiment I vs V (III03_100KOhm_89KIVb_1_2_3_4)'}, xlabel='appl_current (μA)', ylabel='meas_voltage_K2 (μV)'>],\n",
       " [None])"
      ]
     },
     "execution_count": 201,
     "metadata": {},
     "output_type": "execute_result"
    },
    {
     "data": {
      "image/png": "[encoded data removed]",
      "text/plain": [
       "<Figure size 640x480 with 1 Axes>"
      ]
     },
     "metadata": {},
     "output_type": "display_data"
    }
   ],
   "source": [
    "plot_by_id(66)"
   ]
  },
  {
   "cell_type": "code",
   "execution_count": 202,
   "metadata": {},
   "outputs": [
    {
     "data": {
      "application/vnd.plotly.v1+json": {
       "config": {
        "plotlyServerURL": "https://plot.ly"
       },
       "data": [
        {
         "hoverinfo": "text",
         "hovertext": [
          "K2<br>Current: 2.00e-06 A<br>Voltage: 3.83e-05 V",
          "K2<br>Current: 1.96e-06 A<br>Voltage: 3.72e-05 V",
          "K2<br>Current: 1.92e-06 A<br>Voltage: 3.61e-05 V",
          "K2<br>Current: 1.88e-06 A<br>Voltage: 3.50e-05 V",
          "K2<br>Current: 1.84e-06 A<br>Voltage: 3.39e-05 V",
          "K2<br>Current: 1.80e-06 A<br>Voltage: 3.28e-05 V",
          "K2<br>Current: 1.76e-06 A<br>Voltage: 3.17e-05 V",
          "K2<br>Current: 1.72e-06 A<br>Voltage: 3.05e-05 V",
          "K2<br>Current: 1.68e-06 A<br>Voltage: 2.94e-05 V",
          "K2<br>Current: 1.64e-06 A<br>Voltage: 2.83e-05 V",
          "K2<br>Current: 1.60e-06 A<br>Voltage: 2.71e-05 V",
          "K2<br>Current: 1.56e-06 A<br>Voltage: 2.57e-05 V",
          "K2<br>Current: 1.52e-06 A<br>Voltage: 2.45e-05 V",
          "K2<br>Current: 1.48e-06 A<br>Voltage: 2.33e-05 V",
          "K2<br>Current: 1.44e-06 A<br>Voltage: 2.20e-05 V",
          "K2<br>Current: 1.40e-06 A<br>Voltage: 2.07e-05 V",
          "K2<br>Current: 1.36e-06 A<br>Voltage: 1.93e-05 V",
          "K2<br>Current: 1.32e-06 A<br>Voltage: 1.79e-05 V",
          "K2<br>Current: 1.28e-06 A<br>Voltage: 6.22e-06 V",
          "K2<br>Current: 1.24e-06 A<br>Voltage: 6.19e-06 V",
          "K2<br>Current: 1.20e-06 A<br>Voltage: 5.73e-06 V",
          "K2<br>Current: 1.16e-06 A<br>Voltage: 5.56e-06 V",
          "K2<br>Current: 1.12e-06 A<br>Voltage: 5.36e-06 V",
          "K2<br>Current: 1.08e-06 A<br>Voltage: 5.19e-06 V",
          "K2<br>Current: 1.04e-06 A<br>Voltage: 4.97e-06 V",
          "K2<br>Current: 1.00e-06 A<br>Voltage: 4.79e-06 V",
          "K2<br>Current: 9.60e-07 A<br>Voltage: 4.60e-06 V",
          "K2<br>Current: 9.20e-07 A<br>Voltage: 4.42e-06 V",
          "K2<br>Current: 8.80e-07 A<br>Voltage: 4.22e-06 V",
          "K2<br>Current: 8.40e-07 A<br>Voltage: 4.04e-06 V",
          "K2<br>Current: 8.00e-07 A<br>Voltage: 3.85e-06 V",
          "K2<br>Current: 7.60e-07 A<br>Voltage: 3.62e-06 V",
          "K2<br>Current: 7.20e-07 A<br>Voltage: 3.44e-06 V",
          "K2<br>Current: 6.80e-07 A<br>Voltage: 3.28e-06 V",
          "K2<br>Current: 6.40e-07 A<br>Voltage: 3.10e-06 V",
          "K2<br>Current: 6.00e-07 A<br>Voltage: 2.88e-06 V",
          "K2<br>Current: 5.60e-07 A<br>Voltage: 2.69e-06 V",
          "K2<br>Current: 5.20e-07 A<br>Voltage: 2.48e-06 V",
          "K2<br>Current: 4.80e-07 A<br>Voltage: 2.27e-06 V",
          "K2<br>Current: 4.40e-07 A<br>Voltage: 1.99e-06 V",
          "K2<br>Current: 4.00e-07 A<br>Voltage: 1.76e-06 V",
          "K2<br>Current: 3.60e-07 A<br>Voltage: 1.40e-06 V",
          "K2<br>Current: 3.20e-07 A<br>Voltage: 3.20e-07 V",
          "K2<br>Current: 2.80e-07 A<br>Voltage: 3.08e-07 V",
          "K2<br>Current: 2.40e-07 A<br>Voltage: 3.27e-07 V",
          "K2<br>Current: 2.00e-07 A<br>Voltage: 3.21e-07 V",
          "K2<br>Current: 1.60e-07 A<br>Voltage: 2.98e-07 V",
          "K2<br>Current: 1.20e-07 A<br>Voltage: 2.87e-07 V",
          "K2<br>Current: 8.00e-08 A<br>Voltage: 3.09e-07 V",
          "K2<br>Current: 4.00e-08 A<br>Voltage: 2.87e-07 V",
          "K2<br>Current: 0.00e+00 A<br>Voltage: 3.02e-07 V",
          "K2<br>Current: -4.00e-08 A<br>Voltage: 2.98e-07 V",
          "K2<br>Current: -8.00e-08 A<br>Voltage: 2.98e-07 V",
          "K2<br>Current: -1.20e-07 A<br>Voltage: 2.99e-07 V",
          "K2<br>Current: -1.60e-07 A<br>Voltage: 2.87e-07 V",
          "K2<br>Current: -2.00e-07 A<br>Voltage: 3.10e-07 V",
          "K2<br>Current: -2.40e-07 A<br>Voltage: 2.95e-07 V",
          "K2<br>Current: -2.80e-07 A<br>Voltage: 2.76e-07 V",
          "K2<br>Current: -3.20e-07 A<br>Voltage: 2.91e-07 V",
          "K2<br>Current: -3.60e-07 A<br>Voltage: 2.88e-07 V",
          "K2<br>Current: -4.00e-07 A<br>Voltage: 2.92e-07 V",
          "K2<br>Current: -4.40e-07 A<br>Voltage: 2.88e-07 V",
          "K2<br>Current: -4.80e-07 A<br>Voltage: -1.55e-06 V",
          "K2<br>Current: -5.20e-07 A<br>Voltage: -1.76e-06 V",
          "K2<br>Current: -5.60e-07 A<br>Voltage: -1.99e-06 V",
          "K2<br>Current: -6.00e-07 A<br>Voltage: -2.18e-06 V",
          "K2<br>Current: -6.40e-07 A<br>Voltage: -2.37e-06 V",
          "K2<br>Current: -6.80e-07 A<br>Voltage: -2.56e-06 V",
          "K2<br>Current: -7.20e-07 A<br>Voltage: -2.75e-06 V",
          "K2<br>Current: -7.60e-07 A<br>Voltage: -2.96e-06 V",
          "K2<br>Current: -8.00e-07 A<br>Voltage: -3.12e-06 V",
          "K2<br>Current: -8.40e-07 A<br>Voltage: -3.33e-06 V",
          "K2<br>Current: -8.80e-07 A<br>Voltage: -3.49e-06 V",
          "K2<br>Current: -9.20e-07 A<br>Voltage: -3.71e-06 V",
          "K2<br>Current: -9.60e-07 A<br>Voltage: -3.92e-06 V",
          "K2<br>Current: -1.00e-06 A<br>Voltage: -4.09e-06 V",
          "K2<br>Current: -1.04e-06 A<br>Voltage: -4.27e-06 V",
          "K2<br>Current: -1.08e-06 A<br>Voltage: -4.47e-06 V",
          "K2<br>Current: -1.12e-06 A<br>Voltage: -4.67e-06 V",
          "K2<br>Current: -1.16e-06 A<br>Voltage: -4.85e-06 V",
          "K2<br>Current: -1.20e-06 A<br>Voltage: -5.04e-06 V",
          "K2<br>Current: -1.24e-06 A<br>Voltage: -5.19e-06 V",
          "K2<br>Current: -1.28e-06 A<br>Voltage: -5.40e-06 V",
          "K2<br>Current: -1.32e-06 A<br>Voltage: -5.56e-06 V",
          "K2<br>Current: -1.36e-06 A<br>Voltage: -5.75e-06 V",
          "K2<br>Current: -1.40e-06 A<br>Voltage: -5.94e-06 V",
          "K2<br>Current: -1.44e-06 A<br>Voltage: -6.13e-06 V",
          "K2<br>Current: -1.48e-06 A<br>Voltage: -6.32e-06 V",
          "K2<br>Current: -1.52e-06 A<br>Voltage: -6.53e-06 V",
          "K2<br>Current: -1.56e-06 A<br>Voltage: -6.73e-06 V",
          "K2<br>Current: -1.60e-06 A<br>Voltage: -6.93e-06 V",
          "K2<br>Current: -1.64e-06 A<br>Voltage: -7.08e-06 V",
          "K2<br>Current: -1.68e-06 A<br>Voltage: -7.27e-06 V",
          "K2<br>Current: -1.72e-06 A<br>Voltage: -7.45e-06 V",
          "K2<br>Current: -1.76e-06 A<br>Voltage: -7.59e-06 V",
          "K2<br>Current: -1.80e-06 A<br>Voltage: -7.82e-06 V",
          "K2<br>Current: -1.84e-06 A<br>Voltage: -3.23e-05 V",
          "K2<br>Current: -1.88e-06 A<br>Voltage: -3.34e-05 V",
          "K2<br>Current: -1.92e-06 A<br>Voltage: -3.46e-05 V",
          "K2<br>Current: -1.96e-06 A<br>Voltage: -3.57e-05 V",
          "K2<br>Current: -2.00e-06 A<br>Voltage: -3.69e-05 V"
         ],
         "mode": "markers",
         "name": "IV Curve",
         "type": "scatter",
         "x": [
          0.000002,
          0.00000196,
          0.00000192,
          0.00000188,
          0.00000184,
          0.0000018,
          0.00000176,
          0.00000172,
          0.00000168,
          0.00000164,
          0.0000016,
          0.00000156,
          0.00000152,
          0.00000148,
          0.00000144,
          0.0000014,
          0.00000136,
          0.00000132,
          0.00000128,
          0.00000124,
          0.0000012,
          0.00000116,
          0.00000112,
          0.00000108,
          0.00000104,
          0.000001,
          9.6e-7,
          9.2e-7,
          8.8e-7,
          8.4e-7,
          8e-7,
          7.6e-7,
          7.2e-7,
          6.8e-7,
          6.4e-7,
          6e-7,
          5.6e-7,
          5.2e-7,
          4.8e-7,
          4.4e-7,
          4e-7,
          3.6e-7,
          3.2e-7,
          2.8e-7,
          2.4e-7,
          2e-7,
          1.6e-7,
          1.2e-7,
          7.99999999999997e-8,
          4e-8,
          0,
          -4e-8,
          -8.00000000000001e-8,
          -1.2e-7,
          -1.6e-7,
          -2e-7,
          -2.4e-7,
          -2.8e-7,
          -3.2e-7,
          -3.6e-7,
          -4e-7,
          -4.4e-7,
          -4.8e-7,
          -5.2e-7,
          -5.6e-7,
          -6e-7,
          -6.4e-7,
          -6.8e-7,
          -7.2e-7,
          -7.6e-7,
          -8e-7,
          -8.4e-7,
          -8.8e-7,
          -9.2e-7,
          -9.6e-7,
          -0.000001,
          -0.00000104,
          -0.00000108,
          -0.00000112,
          -0.00000116,
          -0.0000012,
          -0.00000124,
          -0.00000128,
          -0.00000132,
          -0.00000136,
          -0.0000014,
          -0.00000144,
          -0.00000148,
          -0.00000152,
          -0.00000156,
          -0.0000016,
          -0.00000164,
          -0.00000168,
          -0.00000172,
          -0.00000176,
          -0.0000018,
          -0.00000184,
          -0.00000188,
          -0.00000192,
          -0.00000196,
          -0.000002
         ],
         "y": [
          0.00003827529,
          0.00003720967,
          0.0000361412,
          0.0000350381,
          0.00003389155,
          0.00003282012,
          0.00003169032,
          0.00003054936,
          0.00002941215,
          0.00002827554,
          0.00002710956,
          0.0000257438,
          0.0000245035,
          0.00002327,
          0.00002198508,
          0.00002066448,
          0.00001930252,
          0.00001785315,
          0.000006221778,
          0.000006185497,
          0.000005729573,
          0.000005561487,
          0.000005357751,
          0.000005188711,
          0.000004974867,
          0.000004785504,
          0.000004601802,
          0.000004423524,
          0.000004224983,
          0.000004041549,
          0.000003847359,
          0.000003624012,
          0.000003443529,
          0.000003280404,
          0.000003104972,
          0.000002884334,
          0.000002686388,
          0.000002478414,
          0.000002274255,
          0.00000198627,
          0.000001756945,
          0.000001400762,
          3.195474e-7,
          3.076572e-7,
          3.273103e-7,
          3.206202e-7,
          2.975104e-7,
          2.871922e-7,
          3.090355e-7,
          2.868793e-7,
          3.020772e-7,
          2.979052e-7,
          2.98084e-7,
          2.992611e-7,
          2.870134e-7,
          3.095086e-7,
          2.950705e-7,
          2.758198e-7,
          2.91271e-7,
          2.882612e-7,
          2.92016e-7,
          2.878887e-7,
          -0.000001551972,
          -0.000001756344,
          -0.000001987606,
          -0.000002179979,
          -0.000002370102,
          -0.000002561984,
          -0.000002745462,
          -0.000002963954,
          -0.000003116068,
          -0.000003332178,
          -0.000003487614,
          -0.000003710279,
          -0.000003921664,
          -0.000004091866,
          -0.000004272319,
          -0.000004474869,
          -0.000004667436,
          -0.000004854912,
          -0.000005042175,
          -0.000005193022,
          -0.000005404422,
          -0.000005561855,
          -0.000005751367,
          -0.00000594377,
          -0.000006133745,
          -0.000006317858,
          -0.000006525266,
          -0.000006730617,
          -0.000006925836,
          -0.000007083313,
          -0.000007269503,
          -0.000007451342,
          -0.000007585784,
          -0.000007824419,
          -0.00003230735,
          -0.00003344672,
          -0.00003461774,
          -0.00003573049,
          -0.00003687274
         ]
        },
        {
         "hoverinfo": "text",
         "hovertext": [
          "K2<br>Current: 2.00e-06 A<br>Voltage: 3.83e-05 V",
          "K2<br>Current: 1.96e-06 A<br>Voltage: 3.72e-05 V",
          "K2<br>Current: 1.92e-06 A<br>Voltage: 3.61e-05 V",
          "K2<br>Current: 1.88e-06 A<br>Voltage: 3.50e-05 V",
          "K2<br>Current: 1.84e-06 A<br>Voltage: 3.39e-05 V",
          "K2<br>Current: 1.80e-06 A<br>Voltage: 3.28e-05 V",
          "K2<br>Current: 1.76e-06 A<br>Voltage: 3.17e-05 V",
          "K2<br>Current: 1.72e-06 A<br>Voltage: 3.05e-05 V",
          "K2<br>Current: 1.68e-06 A<br>Voltage: 2.94e-05 V",
          "K2<br>Current: 1.64e-06 A<br>Voltage: 2.83e-05 V",
          "K2<br>Current: 1.60e-06 A<br>Voltage: 2.71e-05 V",
          "K2<br>Current: 1.56e-06 A<br>Voltage: 2.57e-05 V",
          "K2<br>Current: 1.52e-06 A<br>Voltage: 2.45e-05 V",
          "K2<br>Current: 1.48e-06 A<br>Voltage: 2.33e-05 V",
          "K2<br>Current: 1.44e-06 A<br>Voltage: 2.20e-05 V",
          "K2<br>Current: 1.40e-06 A<br>Voltage: 2.07e-05 V",
          "K2<br>Current: 1.36e-06 A<br>Voltage: 1.93e-05 V",
          "K2<br>Current: 1.32e-06 A<br>Voltage: 1.79e-05 V",
          "K2<br>Current: 1.28e-06 A<br>Voltage: 6.22e-06 V",
          "K2<br>Current: 1.24e-06 A<br>Voltage: 6.19e-06 V",
          "K2<br>Current: 1.20e-06 A<br>Voltage: 5.73e-06 V",
          "K2<br>Current: 1.16e-06 A<br>Voltage: 5.56e-06 V",
          "K2<br>Current: 1.12e-06 A<br>Voltage: 5.36e-06 V",
          "K2<br>Current: 1.08e-06 A<br>Voltage: 5.19e-06 V",
          "K2<br>Current: 1.04e-06 A<br>Voltage: 4.97e-06 V",
          "K2<br>Current: 1.00e-06 A<br>Voltage: 4.79e-06 V",
          "K2<br>Current: 9.60e-07 A<br>Voltage: 4.60e-06 V",
          "K2<br>Current: 9.20e-07 A<br>Voltage: 4.42e-06 V",
          "K2<br>Current: 8.80e-07 A<br>Voltage: 4.22e-06 V",
          "K2<br>Current: 8.40e-07 A<br>Voltage: 4.04e-06 V",
          "K2<br>Current: 8.00e-07 A<br>Voltage: 3.85e-06 V",
          "K2<br>Current: 7.60e-07 A<br>Voltage: 3.62e-06 V",
          "K2<br>Current: 7.20e-07 A<br>Voltage: 3.44e-06 V",
          "K2<br>Current: 6.80e-07 A<br>Voltage: 3.28e-06 V",
          "K2<br>Current: 6.40e-07 A<br>Voltage: 3.10e-06 V",
          "K2<br>Current: 6.00e-07 A<br>Voltage: 2.88e-06 V",
          "K2<br>Current: 5.60e-07 A<br>Voltage: 2.69e-06 V",
          "K2<br>Current: 5.20e-07 A<br>Voltage: 2.48e-06 V",
          "K2<br>Current: 4.80e-07 A<br>Voltage: 2.27e-06 V",
          "K2<br>Current: 4.40e-07 A<br>Voltage: 1.99e-06 V",
          "K2<br>Current: 4.00e-07 A<br>Voltage: 1.76e-06 V",
          "K2<br>Current: 3.60e-07 A<br>Voltage: 1.40e-06 V",
          "K2<br>Current: 3.20e-07 A<br>Voltage: 3.20e-07 V",
          "K2<br>Current: 2.80e-07 A<br>Voltage: 3.08e-07 V",
          "K2<br>Current: 2.40e-07 A<br>Voltage: 3.27e-07 V",
          "K2<br>Current: 2.00e-07 A<br>Voltage: 3.21e-07 V",
          "K2<br>Current: 1.60e-07 A<br>Voltage: 2.98e-07 V",
          "K2<br>Current: 1.20e-07 A<br>Voltage: 2.87e-07 V",
          "K2<br>Current: 8.00e-08 A<br>Voltage: 3.09e-07 V",
          "K2<br>Current: 4.00e-08 A<br>Voltage: 2.87e-07 V",
          "K2<br>Current: 0.00e+00 A<br>Voltage: 3.02e-07 V",
          "K2<br>Current: -4.00e-08 A<br>Voltage: 2.98e-07 V",
          "K2<br>Current: -8.00e-08 A<br>Voltage: 2.98e-07 V",
          "K2<br>Current: -1.20e-07 A<br>Voltage: 2.99e-07 V",
          "K2<br>Current: -1.60e-07 A<br>Voltage: 2.87e-07 V",
          "K2<br>Current: -2.00e-07 A<br>Voltage: 3.10e-07 V",
          "K2<br>Current: -2.40e-07 A<br>Voltage: 2.95e-07 V",
          "K2<br>Current: -2.80e-07 A<br>Voltage: 2.76e-07 V",
          "K2<br>Current: -3.20e-07 A<br>Voltage: 2.91e-07 V",
          "K2<br>Current: -3.60e-07 A<br>Voltage: 2.88e-07 V",
          "K2<br>Current: -4.00e-07 A<br>Voltage: 2.92e-07 V",
          "K2<br>Current: -4.40e-07 A<br>Voltage: 2.88e-07 V",
          "K2<br>Current: -4.80e-07 A<br>Voltage: -1.55e-06 V",
          "K2<br>Current: -5.20e-07 A<br>Voltage: -1.76e-06 V",
          "K2<br>Current: -5.60e-07 A<br>Voltage: -1.99e-06 V",
          "K2<br>Current: -6.00e-07 A<br>Voltage: -2.18e-06 V",
          "K2<br>Current: -6.40e-07 A<br>Voltage: -2.37e-06 V",
          "K2<br>Current: -6.80e-07 A<br>Voltage: -2.56e-06 V",
          "K2<br>Current: -7.20e-07 A<br>Voltage: -2.75e-06 V",
          "K2<br>Current: -7.60e-07 A<br>Voltage: -2.96e-06 V",
          "K2<br>Current: -8.00e-07 A<br>Voltage: -3.12e-06 V",
          "K2<br>Current: -8.40e-07 A<br>Voltage: -3.33e-06 V",
          "K2<br>Current: -8.80e-07 A<br>Voltage: -3.49e-06 V",
          "K2<br>Current: -9.20e-07 A<br>Voltage: -3.71e-06 V",
          "K2<br>Current: -9.60e-07 A<br>Voltage: -3.92e-06 V",
          "K2<br>Current: -1.00e-06 A<br>Voltage: -4.09e-06 V",
          "K2<br>Current: -1.04e-06 A<br>Voltage: -4.27e-06 V",
          "K2<br>Current: -1.08e-06 A<br>Voltage: -4.47e-06 V",
          "K2<br>Current: -1.12e-06 A<br>Voltage: -4.67e-06 V",
          "K2<br>Current: -1.16e-06 A<br>Voltage: -4.85e-06 V",
          "K2<br>Current: -1.20e-06 A<br>Voltage: -5.04e-06 V",
          "K2<br>Current: -1.24e-06 A<br>Voltage: -5.19e-06 V",
          "K2<br>Current: -1.28e-06 A<br>Voltage: -5.40e-06 V",
          "K2<br>Current: -1.32e-06 A<br>Voltage: -5.56e-06 V",
          "K2<br>Current: -1.36e-06 A<br>Voltage: -5.75e-06 V",
          "K2<br>Current: -1.40e-06 A<br>Voltage: -5.94e-06 V",
          "K2<br>Current: -1.44e-06 A<br>Voltage: -6.13e-06 V",
          "K2<br>Current: -1.48e-06 A<br>Voltage: -6.32e-06 V",
          "K2<br>Current: -1.52e-06 A<br>Voltage: -6.53e-06 V",
          "K2<br>Current: -1.56e-06 A<br>Voltage: -6.73e-06 V",
          "K2<br>Current: -1.60e-06 A<br>Voltage: -6.93e-06 V",
          "K2<br>Current: -1.64e-06 A<br>Voltage: -7.08e-06 V",
          "K2<br>Current: -1.68e-06 A<br>Voltage: -7.27e-06 V",
          "K2<br>Current: -1.72e-06 A<br>Voltage: -7.45e-06 V",
          "K2<br>Current: -1.76e-06 A<br>Voltage: -7.59e-06 V",
          "K2<br>Current: -1.80e-06 A<br>Voltage: -7.82e-06 V",
          "K2<br>Current: -1.84e-06 A<br>Voltage: -3.23e-05 V",
          "K2<br>Current: -1.88e-06 A<br>Voltage: -3.34e-05 V",
          "K2<br>Current: -1.92e-06 A<br>Voltage: -3.46e-05 V",
          "K2<br>Current: -1.96e-06 A<br>Voltage: -3.57e-05 V",
          "K2<br>Current: -2.00e-06 A<br>Voltage: -3.69e-05 V"
         ],
         "mode": "lines",
         "name": "dV/dI (smoothed)",
         "type": "scatter",
         "x": [
          0.00000196,
          0.00000192,
          0.00000188,
          0.00000184,
          0.0000018,
          0.00000176,
          0.00000172,
          0.00000168,
          0.00000164,
          0.0000016,
          0.00000156,
          0.00000152,
          0.00000148,
          0.00000144,
          0.0000014,
          0.00000136,
          0.00000132,
          0.00000128,
          0.00000124,
          0.0000012,
          0.00000116,
          0.00000112,
          0.00000108,
          0.00000104,
          0.000001,
          9.6e-7,
          9.2e-7,
          8.8e-7,
          8.4e-7,
          8e-7,
          7.6e-7,
          7.2e-7,
          6.8e-7,
          6.4e-7,
          6e-7,
          5.6e-7,
          5.2e-7,
          4.8e-7,
          4.4e-7,
          4e-7,
          3.6e-7,
          3.2e-7,
          2.8e-7,
          2.4e-7,
          2e-7,
          1.6e-7,
          1.2e-7,
          7.99999999999997e-8,
          4e-8,
          0,
          -4e-8,
          -8.00000000000001e-8,
          -1.2e-7,
          -1.6e-7,
          -2e-7,
          -2.4e-7,
          -2.8e-7,
          -3.2e-7,
          -3.6e-7,
          -4e-7,
          -4.4e-7,
          -4.8e-7,
          -5.2e-7,
          -5.6e-7,
          -6e-7,
          -6.4e-7,
          -6.8e-7,
          -7.2e-7,
          -7.6e-7,
          -8e-7,
          -8.4e-7,
          -8.8e-7,
          -9.2e-7,
          -9.6e-7,
          -0.000001,
          -0.00000104,
          -0.00000108,
          -0.00000112,
          -0.00000116,
          -0.0000012,
          -0.00000124,
          -0.00000128,
          -0.00000132,
          -0.00000136,
          -0.0000014,
          -0.00000144,
          -0.00000148,
          -0.00000152,
          -0.00000156,
          -0.0000016,
          -0.00000164,
          -0.00000168,
          -0.00000172,
          -0.00000176,
          -0.0000018,
          -0.00000184,
          -0.00000188,
          -0.00000192,
          -0.00000196,
          -0.000002
         ],
         "y": [
          26.442950396825353,
          27.208390873015972,
          27.56643253968259,
          27.826382812499986,
          27.89562499999999,
          28.015718750000026,
          28.508343749999973,
          28.08417187499989,
          29.69382031249998,
          31.17743749999999,
          31.878507812499997,
          31.859859374999967,
          31.22201562499991,
          32.31675781249989,
          9.950104687499984,
          94.09075078124988,
          126.1148585937498,
          116.21777812499977,
          65.2682406249998,
          -20.494528906249975,
          6.31737265624999,
          4.071063281249999,
          4.914794531249995,
          4.813778124999981,
          4.780383593749993,
          4.583792187499997,
          4.6415007812499995,
          4.6639289062499945,
          5.0065789062499935,
          5.056925781249998,
          4.898880468749993,
          4.429894531249996,
          4.380196874999989,
          4.777317187499996,
          5.160154687499998,
          5.0424749999999925,
          5.466581249999997,
          5.706589062499989,
          4.892615781249992,
          12.47058249999999,
          14.165845234374983,
          11.535094999999988,
          4.987734140624992,
          -2.4884018749999988,
          0.2516514062499996,
          0.2246517968750002,
          0.15944078125000233,
          -0.08769414062499718,
          -0.055170078124997524,
          0.07077515625000054,
          -0.13274867187500028,
          0.16542687499999975,
          -0.06382898437500008,
          -0.06824898437500011,
          0.13569414062499993,
          0.07255335937499957,
          0.19256195312499946,
          -0.07540757812499964,
          -4.426204296875006,
          9.638907109375012,
          17.83543828125001,
          20.009892890625,
          14.74257265624999,
          1.3670757031249847,
          4.990945312499997,
          4.582621093749998,
          4.94622187499999,
          4.697588281249994,
          4.845651562499989,
          4.545121093749991,
          4.525292187499993,
          5.127132031249995,
          4.920607031250001,
          4.942899999999998,
          4.577897656249994,
          4.639715624999984,
          4.878524999999994,
          4.918208593749994,
          4.4210281249999985,
          4.530821874999994,
          4.397556249999984,
          4.42930546875,
          4.66210546875,
          4.553357031250002,
          4.772959374999991,
          4.768081249999987,
          4.923959374999989,
          5.129746874999993,
          4.882910937499995,
          4.535467187499998,
          4.4875242187499955,
          4.029858593749985,
          -52.46256015624992,
          135.2762765624998,
          235.5600773437495,
          244.9950164062495,
          158.39983749999962,
          38.54401230158756,
          -103.21796686507894,
          80.0440855158741
         ],
         "yaxis": "y2"
        },
        {
         "hoverinfo": "text",
         "hovertext": [
          "K2<br>Current: 2.00e-06 A<br>Voltage: 3.83e-05 V",
          "K2<br>Current: 1.96e-06 A<br>Voltage: 3.72e-05 V",
          "K2<br>Current: 1.92e-06 A<br>Voltage: 3.61e-05 V",
          "K2<br>Current: 1.88e-06 A<br>Voltage: 3.50e-05 V",
          "K2<br>Current: 1.84e-06 A<br>Voltage: 3.39e-05 V",
          "K2<br>Current: 1.80e-06 A<br>Voltage: 3.28e-05 V",
          "K2<br>Current: 1.76e-06 A<br>Voltage: 3.17e-05 V",
          "K2<br>Current: 1.72e-06 A<br>Voltage: 3.05e-05 V",
          "K2<br>Current: 1.68e-06 A<br>Voltage: 2.94e-05 V",
          "K2<br>Current: 1.64e-06 A<br>Voltage: 2.83e-05 V",
          "K2<br>Current: 1.60e-06 A<br>Voltage: 2.71e-05 V",
          "K2<br>Current: 1.56e-06 A<br>Voltage: 2.57e-05 V",
          "K2<br>Current: 1.52e-06 A<br>Voltage: 2.45e-05 V",
          "K2<br>Current: 1.48e-06 A<br>Voltage: 2.33e-05 V",
          "K2<br>Current: 1.44e-06 A<br>Voltage: 2.20e-05 V",
          "K2<br>Current: 1.40e-06 A<br>Voltage: 2.07e-05 V",
          "K2<br>Current: 1.36e-06 A<br>Voltage: 1.93e-05 V",
          "K2<br>Current: 1.32e-06 A<br>Voltage: 1.79e-05 V",
          "K2<br>Current: 1.28e-06 A<br>Voltage: 6.22e-06 V",
          "K2<br>Current: 1.24e-06 A<br>Voltage: 6.19e-06 V",
          "K2<br>Current: 1.20e-06 A<br>Voltage: 5.73e-06 V",
          "K2<br>Current: 1.16e-06 A<br>Voltage: 5.56e-06 V",
          "K2<br>Current: 1.12e-06 A<br>Voltage: 5.36e-06 V",
          "K2<br>Current: 1.08e-06 A<br>Voltage: 5.19e-06 V",
          "K2<br>Current: 1.04e-06 A<br>Voltage: 4.97e-06 V",
          "K2<br>Current: 1.00e-06 A<br>Voltage: 4.79e-06 V",
          "K2<br>Current: 9.60e-07 A<br>Voltage: 4.60e-06 V",
          "K2<br>Current: 9.20e-07 A<br>Voltage: 4.42e-06 V",
          "K2<br>Current: 8.80e-07 A<br>Voltage: 4.22e-06 V",
          "K2<br>Current: 8.40e-07 A<br>Voltage: 4.04e-06 V",
          "K2<br>Current: 8.00e-07 A<br>Voltage: 3.85e-06 V",
          "K2<br>Current: 7.60e-07 A<br>Voltage: 3.62e-06 V",
          "K2<br>Current: 7.20e-07 A<br>Voltage: 3.44e-06 V",
          "K2<br>Current: 6.80e-07 A<br>Voltage: 3.28e-06 V",
          "K2<br>Current: 6.40e-07 A<br>Voltage: 3.10e-06 V",
          "K2<br>Current: 6.00e-07 A<br>Voltage: 2.88e-06 V",
          "K2<br>Current: 5.60e-07 A<br>Voltage: 2.69e-06 V",
          "K2<br>Current: 5.20e-07 A<br>Voltage: 2.48e-06 V",
          "K2<br>Current: 4.80e-07 A<br>Voltage: 2.27e-06 V",
          "K2<br>Current: 4.40e-07 A<br>Voltage: 1.99e-06 V",
          "K2<br>Current: 4.00e-07 A<br>Voltage: 1.76e-06 V",
          "K2<br>Current: 3.60e-07 A<br>Voltage: 1.40e-06 V",
          "K2<br>Current: 3.20e-07 A<br>Voltage: 3.20e-07 V",
          "K2<br>Current: 2.80e-07 A<br>Voltage: 3.08e-07 V",
          "K2<br>Current: 2.40e-07 A<br>Voltage: 3.27e-07 V",
          "K2<br>Current: 2.00e-07 A<br>Voltage: 3.21e-07 V",
          "K2<br>Current: 1.60e-07 A<br>Voltage: 2.98e-07 V",
          "K2<br>Current: 1.20e-07 A<br>Voltage: 2.87e-07 V",
          "K2<br>Current: 8.00e-08 A<br>Voltage: 3.09e-07 V",
          "K2<br>Current: 4.00e-08 A<br>Voltage: 2.87e-07 V",
          "K2<br>Current: 0.00e+00 A<br>Voltage: 3.02e-07 V",
          "K2<br>Current: -4.00e-08 A<br>Voltage: 2.98e-07 V",
          "K2<br>Current: -8.00e-08 A<br>Voltage: 2.98e-07 V",
          "K2<br>Current: -1.20e-07 A<br>Voltage: 2.99e-07 V",
          "K2<br>Current: -1.60e-07 A<br>Voltage: 2.87e-07 V",
          "K2<br>Current: -2.00e-07 A<br>Voltage: 3.10e-07 V",
          "K2<br>Current: -2.40e-07 A<br>Voltage: 2.95e-07 V",
          "K2<br>Current: -2.80e-07 A<br>Voltage: 2.76e-07 V",
          "K2<br>Current: -3.20e-07 A<br>Voltage: 2.91e-07 V",
          "K2<br>Current: -3.60e-07 A<br>Voltage: 2.88e-07 V",
          "K2<br>Current: -4.00e-07 A<br>Voltage: 2.92e-07 V",
          "K2<br>Current: -4.40e-07 A<br>Voltage: 2.88e-07 V",
          "K2<br>Current: -4.80e-07 A<br>Voltage: -1.55e-06 V",
          "K2<br>Current: -5.20e-07 A<br>Voltage: -1.76e-06 V",
          "K2<br>Current: -5.60e-07 A<br>Voltage: -1.99e-06 V",
          "K2<br>Current: -6.00e-07 A<br>Voltage: -2.18e-06 V",
          "K2<br>Current: -6.40e-07 A<br>Voltage: -2.37e-06 V",
          "K2<br>Current: -6.80e-07 A<br>Voltage: -2.56e-06 V",
          "K2<br>Current: -7.20e-07 A<br>Voltage: -2.75e-06 V",
          "K2<br>Current: -7.60e-07 A<br>Voltage: -2.96e-06 V",
          "K2<br>Current: -8.00e-07 A<br>Voltage: -3.12e-06 V",
          "K2<br>Current: -8.40e-07 A<br>Voltage: -3.33e-06 V",
          "K2<br>Current: -8.80e-07 A<br>Voltage: -3.49e-06 V",
          "K2<br>Current: -9.20e-07 A<br>Voltage: -3.71e-06 V",
          "K2<br>Current: -9.60e-07 A<br>Voltage: -3.92e-06 V",
          "K2<br>Current: -1.00e-06 A<br>Voltage: -4.09e-06 V",
          "K2<br>Current: -1.04e-06 A<br>Voltage: -4.27e-06 V",
          "K2<br>Current: -1.08e-06 A<br>Voltage: -4.47e-06 V",
          "K2<br>Current: -1.12e-06 A<br>Voltage: -4.67e-06 V",
          "K2<br>Current: -1.16e-06 A<br>Voltage: -4.85e-06 V",
          "K2<br>Current: -1.20e-06 A<br>Voltage: -5.04e-06 V",
          "K2<br>Current: -1.24e-06 A<br>Voltage: -5.19e-06 V",
          "K2<br>Current: -1.28e-06 A<br>Voltage: -5.40e-06 V",
          "K2<br>Current: -1.32e-06 A<br>Voltage: -5.56e-06 V",
          "K2<br>Current: -1.36e-06 A<br>Voltage: -5.75e-06 V",
          "K2<br>Current: -1.40e-06 A<br>Voltage: -5.94e-06 V",
          "K2<br>Current: -1.44e-06 A<br>Voltage: -6.13e-06 V",
          "K2<br>Current: -1.48e-06 A<br>Voltage: -6.32e-06 V",
          "K2<br>Current: -1.52e-06 A<br>Voltage: -6.53e-06 V",
          "K2<br>Current: -1.56e-06 A<br>Voltage: -6.73e-06 V",
          "K2<br>Current: -1.60e-06 A<br>Voltage: -6.93e-06 V",
          "K2<br>Current: -1.64e-06 A<br>Voltage: -7.08e-06 V",
          "K2<br>Current: -1.68e-06 A<br>Voltage: -7.27e-06 V",
          "K2<br>Current: -1.72e-06 A<br>Voltage: -7.45e-06 V",
          "K2<br>Current: -1.76e-06 A<br>Voltage: -7.59e-06 V",
          "K2<br>Current: -1.80e-06 A<br>Voltage: -7.82e-06 V",
          "K2<br>Current: -1.84e-06 A<br>Voltage: -3.23e-05 V",
          "K2<br>Current: -1.88e-06 A<br>Voltage: -3.34e-05 V",
          "K2<br>Current: -1.92e-06 A<br>Voltage: -3.46e-05 V",
          "K2<br>Current: -1.96e-06 A<br>Voltage: -3.57e-05 V",
          "K2<br>Current: -2.00e-06 A<br>Voltage: -3.69e-05 V"
         ],
         "mode": "lines",
         "name": "dV/dI",
         "type": "scatter",
         "x": [
          0.00000196,
          0.00000192,
          0.00000188,
          0.00000184,
          0.0000018,
          0.00000176,
          0.00000172,
          0.00000168,
          0.00000164,
          0.0000016,
          0.00000156,
          0.00000152,
          0.00000148,
          0.00000144,
          0.0000014,
          0.00000136,
          0.00000132,
          0.00000128,
          0.00000124,
          0.0000012,
          0.00000116,
          0.00000112,
          0.00000108,
          0.00000104,
          0.000001,
          9.6e-7,
          9.2e-7,
          8.8e-7,
          8.4e-7,
          8e-7,
          7.6e-7,
          7.2e-7,
          6.8e-7,
          6.4e-7,
          6e-7,
          5.6e-7,
          5.2e-7,
          4.8e-7,
          4.4e-7,
          4e-7,
          3.6e-7,
          3.2e-7,
          2.8e-7,
          2.4e-7,
          2e-7,
          1.6e-7,
          1.2e-7,
          7.99999999999997e-8,
          4e-8,
          0,
          -4e-8,
          -8.00000000000001e-8,
          -1.2e-7,
          -1.6e-7,
          -2e-7,
          -2.4e-7,
          -2.8e-7,
          -3.2e-7,
          -3.6e-7,
          -4e-7,
          -4.4e-7,
          -4.8e-7,
          -5.2e-7,
          -5.6e-7,
          -6e-7,
          -6.4e-7,
          -6.8e-7,
          -7.2e-7,
          -7.6e-7,
          -8e-7,
          -8.4e-7,
          -8.8e-7,
          -9.2e-7,
          -9.6e-7,
          -0.000001,
          -0.00000104,
          -0.00000108,
          -0.00000112,
          -0.00000116,
          -0.0000012,
          -0.00000124,
          -0.00000128,
          -0.00000132,
          -0.00000136,
          -0.0000014,
          -0.00000144,
          -0.00000148,
          -0.00000152,
          -0.00000156,
          -0.0000016,
          -0.00000164,
          -0.00000168,
          -0.00000172,
          -0.00000176,
          -0.0000018,
          -0.00000184,
          -0.00000188,
          -0.00000192,
          -0.00000196,
          -0.000002
         ],
         "y": [
          26.640499999999978,
          26.71175000000005,
          27.57750000000011,
          28.663749999999887,
          26.78574999999997,
          28.24500000000022,
          28.523999999999937,
          28.430249999999987,
          28.415249999999954,
          29.149499999999986,
          34.144000000000155,
          31.007499999999943,
          30.837499999999995,
          32.12299999999996,
          33.01499999999994,
          34.048999999999936,
          36.23425000000019,
          290.7842999999997,
          0.9070250000000118,
          11.398099999999987,
          4.202149999999979,
          5.093400000000032,
          4.225999999999991,
          5.346099999999993,
          4.734074999999992,
          4.5925499999999975,
          4.456950000000015,
          4.963524999999996,
          4.585850000000003,
          4.854749999999993,
          5.583675000000016,
          4.512074999999994,
          4.078124999999991,
          4.3858000000000095,
          5.51594999999999,
          4.948650000000015,
          5.199349999999997,
          5.103974999999996,
          7.199625000000007,
          5.733124999999992,
          8.904575000000003,
          27.030365000000007,
          0.2972550000000006,
          -0.4913274999999999,
          0.16725250000000025,
          0.5777450000000006,
          0.25795499999999955,
          -0.5460824999999959,
          0.5539050000000045,
          -0.3799475000000009,
          0.10430000000000048,
          -0.0044699999999994995,
          -0.02942750000000082,
          0.3061924999999996,
          -0.5623799999999989,
          0.3609524999999989,
          0.4812674999999999,
          -0.38628000000000035,
          0.07524500000000103,
          -0.09387000000000033,
          0.10318249999999918,
          45.99651750000008,
          5.109299999999994,
          5.781549999999995,
          4.8093250000000065,
          4.753074999999997,
          4.797050000000012,
          4.586949999999991,
          5.462299999999992,
          3.8028500000000105,
          5.4027499999999895,
          3.885899999999995,
          5.566625000000012,
          5.284625000000009,
          4.255049999999999,
          4.511324999999995,
          5.063750000000002,
          4.814174999999979,
          4.6869000000000325,
          4.681574999999983,
          3.77117500000001,
          5.284999999999979,
          3.935825000000013,
          4.7378000000000196,
          4.810074999999993,
          4.749374999999991,
          4.602825000000001,
          5.185199999999998,
          5.133774999999992,
          4.880475000000014,
          3.9369250000000005,
          4.654749999999999,
          4.545974999999988,
          3.361049999999992,
          5.9658750000000165,
          612.0732749999994,
          28.484250000000035,
          29.275500000000147,
          27.8187499999999,
          28.55624999999999
         ],
         "yaxis": "y2"
        },
        {
         "mode": "lines",
         "name": "Average Voltage",
         "type": "scatter",
         "x": [
          0.000002,
          0.00000196,
          0.00000192,
          0.00000188,
          0.00000184,
          0.0000018,
          0.00000176,
          0.00000172,
          0.00000168,
          0.00000164,
          0.0000016,
          0.00000156,
          0.00000152,
          0.00000148,
          0.00000144,
          0.0000014,
          0.00000136,
          0.00000132,
          0.00000128,
          0.00000124,
          0.0000012,
          0.00000116,
          0.00000112,
          0.00000108,
          0.00000104,
          0.000001,
          9.6e-7,
          9.2e-7,
          8.8e-7,
          8.4e-7,
          8e-7,
          7.6e-7,
          7.2e-7,
          6.8e-7,
          6.4e-7,
          6e-7,
          5.6e-7,
          5.2e-7,
          4.8e-7,
          4.4e-7,
          4e-7,
          3.6e-7,
          3.2e-7,
          2.8e-7,
          2.4e-7,
          2e-7,
          1.6e-7,
          1.2e-7,
          7.99999999999997e-8,
          4e-8,
          0,
          -4e-8,
          -8.00000000000001e-8,
          -1.2e-7,
          -1.6e-7,
          -2e-7,
          -2.4e-7,
          -2.8e-7,
          -3.2e-7,
          -3.6e-7,
          -4e-7,
          -4.4e-7,
          -4.8e-7,
          -5.2e-7,
          -5.6e-7,
          -6e-7,
          -6.4e-7,
          -6.8e-7,
          -7.2e-7,
          -7.6e-7,
          -8e-7,
          -8.4e-7,
          -8.8e-7,
          -9.2e-7,
          -9.6e-7,
          -0.000001,
          -0.00000104,
          -0.00000108,
          -0.00000112,
          -0.00000116,
          -0.0000012,
          -0.00000124,
          -0.00000128,
          -0.00000132,
          -0.00000136,
          -0.0000014,
          -0.00000144,
          -0.00000148,
          -0.00000152,
          -0.00000156,
          -0.0000016,
          -0.00000164,
          -0.00000168,
          -0.00000172,
          -0.00000176,
          -0.0000018,
          -0.00000184,
          -0.00000188,
          -0.00000192,
          -0.00000196,
          -0.000002
         ],
         "y": [
          0.0000027724163089108905
         ],
         "yaxis": "y"
        },
        {
         "marker": {
          "color": "red",
          "size": 10,
          "symbol": "star"
         },
         "mode": "markers",
         "name": "Positive Current Peak",
         "type": "scatter",
         "x": [
          0.00000172
         ],
         "y": [
          28.508343749999973
         ],
         "yaxis": "y2"
        },
        {
         "marker": {
          "color": "blue",
          "size": 10,
          "symbol": "star"
         },
         "mode": "markers",
         "name": "Negative Current Peak",
         "type": "scatter",
         "x": [
          -4.8e-7
         ],
         "y": [
          20.009892890625
         ],
         "yaxis": "y2"
        }
       ],
       "layout": {
        "annotations": [
         {
          "align": "left",
          "font": {
           "size": 12
          },
          "showarrow": false,
          "text": "2024-07-02 22:10:02<br>101 pt, 12 sec",
          "x": 0.01,
          "xref": "paper",
          "y": 0.99,
          "yref": "paper"
         },
         {
          "align": "right",
          "font": {
           "size": 12
          },
          "showarrow": false,
          "text": "Step size: -40.0 nA",
          "x": 0.99,
          "xref": "paper",
          "y": 0.01,
          "yref": "paper"
         }
        ],
        "font": {
         "size": 14
        },
        "height": 800,
        "legend": {
         "orientation": "h",
         "x": 0.5,
         "xanchor": "center",
         "y": 1,
         "yanchor": "bottom"
        },
        "template": {
         "data": {
          "bar": [
           {
            "error_x": {
             "color": "#2a3f5f"
            },
            "error_y": {
             "color": "#2a3f5f"
            },
            "marker": {
             "line": {
              "color": "#E5ECF6",
              "width": 0.5
             },
             "pattern": {
              "fillmode": "overlay",
              "size": 10,
              "solidity": 0.2
             }
            },
            "type": "bar"
           }
          ],
          "barpolar": [
           {
            "marker": {
             "line": {
              "color": "#E5ECF6",
              "width": 0.5
             },
             "pattern": {
              "fillmode": "overlay",
              "size": 10,
              "solidity": 0.2
             }
            },
            "type": "barpolar"
           }
          ],
          "carpet": [
           {
            "aaxis": {
             "endlinecolor": "#2a3f5f",
             "gridcolor": "white",
             "linecolor": "white",
             "minorgridcolor": "white",
             "startlinecolor": "#2a3f5f"
            },
            "baxis": {
             "endlinecolor": "#2a3f5f",
             "gridcolor": "white",
             "linecolor": "white",
             "minorgridcolor": "white",
             "startlinecolor": "#2a3f5f"
            },
            "type": "carpet"
           }
          ],
          "choropleth": [
           {
            "colorbar": {
             "outlinewidth": 0,
             "ticks": ""
            },
            "type": "choropleth"
           }
          ],
          "contour": [
           {
            "colorbar": {
             "outlinewidth": 0,
             "ticks": ""
            },
            "colorscale": [
             [
              0,
              "#0d0887"
             ],
             [
              0.1111111111111111,
              "#46039f"
             ],
             [
              0.2222222222222222,
              "#7201a8"
             ],
             [
              0.3333333333333333,
              "#9c179e"
             ],
             [
              0.4444444444444444,
              "#bd3786"
             ],
             [
              0.5555555555555556,
              "#d8576b"
             ],
             [
              0.6666666666666666,
              "#ed7953"
             ],
             [
              0.7777777777777778,
              "#fb9f3a"
             ],
             [
              0.8888888888888888,
              "#fdca26"
             ],
             [
              1,
              "#f0f921"
             ]
            ],
            "type": "contour"
           }
          ],
          "contourcarpet": [
           {
            "colorbar": {
             "outlinewidth": 0,
             "ticks": ""
            },
            "type": "contourcarpet"
           }
          ],
          "heatmap": [
           {
            "colorbar": {
             "outlinewidth": 0,
             "ticks": ""
            },
            "colorscale": [
             [
              0,
              "#0d0887"
             ],
             [
              0.1111111111111111,
              "#46039f"
             ],
             [
              0.2222222222222222,
              "#7201a8"
             ],
             [
              0.3333333333333333,
              "#9c179e"
             ],
             [
              0.4444444444444444,
              "#bd3786"
             ],
             [
              0.5555555555555556,
              "#d8576b"
             ],
             [
              0.6666666666666666,
              "#ed7953"
             ],
             [
              0.7777777777777778,
              "#fb9f3a"
             ],
             [
              0.8888888888888888,
              "#fdca26"
             ],
             [
              1,
              "#f0f921"
             ]
            ],
            "type": "heatmap"
           }
          ],
          "heatmapgl": [
           {
            "colorbar": {
             "outlinewidth": 0,
             "ticks": ""
            },
            "colorscale": [
             [
              0,
              "#0d0887"
             ],
             [
              0.1111111111111111,
              "#46039f"
             ],
             [
              0.2222222222222222,
              "#7201a8"
             ],
             [
              0.3333333333333333,
              "#9c179e"
             ],
             [
              0.4444444444444444,
              "#bd3786"
             ],
             [
              0.5555555555555556,
              "#d8576b"
             ],
             [
              0.6666666666666666,
              "#ed7953"
             ],
             [
              0.7777777777777778,
              "#fb9f3a"
             ],
             [
              0.8888888888888888,
              "#fdca26"
             ],
             [
              1,
              "#f0f921"
             ]
            ],
            "type": "heatmapgl"
           }
          ],
          "histogram": [
           {
            "marker": {
             "pattern": {
              "fillmode": "overlay",
              "size": 10,
              "solidity": 0.2
             }
            },
            "type": "histogram"
           }
          ],
          "histogram2d": [
           {
            "colorbar": {
             "outlinewidth": 0,
             "ticks": ""
            },
            "colorscale": [
             [
              0,
              "#0d0887"
             ],
             [
              0.1111111111111111,
              "#46039f"
             ],
             [
              0.2222222222222222,
              "#7201a8"
             ],
             [
              0.3333333333333333,
              "#9c179e"
             ],
             [
              0.4444444444444444,
              "#bd3786"
             ],
             [
              0.5555555555555556,
              "#d8576b"
             ],
             [
              0.6666666666666666,
              "#ed7953"
             ],
             [
              0.7777777777777778,
              "#fb9f3a"
             ],
             [
              0.8888888888888888,
              "#fdca26"
             ],
             [
              1,
              "#f0f921"
             ]
            ],
            "type": "histogram2d"
           }
          ],
          "histogram2dcontour": [
           {
            "colorbar": {
             "outlinewidth": 0,
             "ticks": ""
            },
            "colorscale": [
             [
              0,
              "#0d0887"
             ],
             [
              0.1111111111111111,
              "#46039f"
             ],
             [
              0.2222222222222222,
              "#7201a8"
             ],
             [
              0.3333333333333333,
              "#9c179e"
             ],
             [
              0.4444444444444444,
              "#bd3786"
             ],
             [
              0.5555555555555556,
              "#d8576b"
             ],
             [
              0.6666666666666666,
              "#ed7953"
             ],
             [
              0.7777777777777778,
              "#fb9f3a"
             ],
             [
              0.8888888888888888,
              "#fdca26"
             ],
             [
              1,
              "#f0f921"
             ]
            ],
            "type": "histogram2dcontour"
           }
          ],
          "mesh3d": [
           {
            "colorbar": {
             "outlinewidth": 0,
             "ticks": ""
            },
            "type": "mesh3d"
           }
          ],
          "parcoords": [
           {
            "line": {
             "colorbar": {
              "outlinewidth": 0,
              "ticks": ""
             }
            },
            "type": "parcoords"
           }
          ],
          "pie": [
           {
            "automargin": true,
            "type": "pie"
           }
          ],
          "scatter": [
           {
            "fillpattern": {
             "fillmode": "overlay",
             "size": 10,
             "solidity": 0.2
            },
            "type": "scatter"
           }
          ],
          "scatter3d": [
           {
            "line": {
             "colorbar": {
              "outlinewidth": 0,
              "ticks": ""
             }
            },
            "marker": {
             "colorbar": {
              "outlinewidth": 0,
              "ticks": ""
             }
            },
            "type": "scatter3d"
           }
          ],
          "scattercarpet": [
           {
            "marker": {
             "colorbar": {
              "outlinewidth": 0,
              "ticks": ""
             }
            },
            "type": "scattercarpet"
           }
          ],
          "scattergeo": [
           {
            "marker": {
             "colorbar": {
              "outlinewidth": 0,
              "ticks": ""
             }
            },
            "type": "scattergeo"
           }
          ],
          "scattergl": [
           {
            "marker": {
             "colorbar": {
              "outlinewidth": 0,
              "ticks": ""
             }
            },
            "type": "scattergl"
           }
          ],
          "scattermapbox": [
           {
            "marker": {
             "colorbar": {
              "outlinewidth": 0,
              "ticks": ""
             }
            },
            "type": "scattermapbox"
           }
          ],
          "scatterpolar": [
           {
            "marker": {
             "colorbar": {
              "outlinewidth": 0,
              "ticks": ""
             }
            },
            "type": "scatterpolar"
           }
          ],
          "scatterpolargl": [
           {
            "marker": {
             "colorbar": {
              "outlinewidth": 0,
              "ticks": ""
             }
            },
            "type": "scatterpolargl"
           }
          ],
          "scatterternary": [
           {
            "marker": {
             "colorbar": {
              "outlinewidth": 0,
              "ticks": ""
             }
            },
            "type": "scatterternary"
           }
          ],
          "surface": [
           {
            "colorbar": {
             "outlinewidth": 0,
             "ticks": ""
            },
            "colorscale": [
             [
              0,
              "#0d0887"
             ],
             [
              0.1111111111111111,
              "#46039f"
             ],
             [
              0.2222222222222222,
              "#7201a8"
             ],
             [
              0.3333333333333333,
              "#9c179e"
             ],
             [
              0.4444444444444444,
              "#bd3786"
             ],
             [
              0.5555555555555556,
              "#d8576b"
             ],
             [
              0.6666666666666666,
              "#ed7953"
             ],
             [
              0.7777777777777778,
              "#fb9f3a"
             ],
             [
              0.8888888888888888,
              "#fdca26"
             ],
             [
              1,
              "#f0f921"
             ]
            ],
            "type": "surface"
           }
          ],
          "table": [
           {
            "cells": {
             "fill": {
              "color": "#EBF0F8"
             },
             "line": {
              "color": "white"
             }
            },
            "header": {
             "fill": {
              "color": "#C8D4E3"
             },
             "line": {
              "color": "white"
             }
            },
            "type": "table"
           }
          ]
         },
         "layout": {
          "annotationdefaults": {
           "arrowcolor": "#2a3f5f",
           "arrowhead": 0,
           "arrowwidth": 1
          },
          "autotypenumbers": "strict",
          "coloraxis": {
           "colorbar": {
            "outlinewidth": 0,
            "ticks": ""
           }
          },
          "colorscale": {
           "diverging": [
            [
             0,
             "#8e0152"
            ],
            [
             0.1,
             "#c51b7d"
            ],
            [
             0.2,
             "#de77ae"
            ],
            [
             0.3,
             "#f1b6da"
            ],
            [
             0.4,
             "#fde0ef"
            ],
            [
             0.5,
             "#f7f7f7"
            ],
            [
             0.6,
             "#e6f5d0"
            ],
            [
             0.7,
             "#b8e186"
            ],
            [
             0.8,
             "#7fbc41"
            ],
            [
             0.9,
             "#4d9221"
            ],
            [
             1,
             "#276419"
            ]
           ],
           "sequential": [
            [
             0,
             "#0d0887"
            ],
            [
             0.1111111111111111,
             "#46039f"
            ],
            [
             0.2222222222222222,
             "#7201a8"
            ],
            [
             0.3333333333333333,
             "#9c179e"
            ],
            [
             0.4444444444444444,
             "#bd3786"
            ],
            [
             0.5555555555555556,
             "#d8576b"
            ],
            [
             0.6666666666666666,
             "#ed7953"
            ],
            [
             0.7777777777777778,
             "#fb9f3a"
            ],
            [
             0.8888888888888888,
             "#fdca26"
            ],
            [
             1,
             "#f0f921"
            ]
           ],
           "sequentialminus": [
            [
             0,
             "#0d0887"
            ],
            [
             0.1111111111111111,
             "#46039f"
            ],
            [
             0.2222222222222222,
             "#7201a8"
            ],
            [
             0.3333333333333333,
             "#9c179e"
            ],
            [
             0.4444444444444444,
             "#bd3786"
            ],
            [
             0.5555555555555556,
             "#d8576b"
            ],
            [
             0.6666666666666666,
             "#ed7953"
            ],
            [
             0.7777777777777778,
             "#fb9f3a"
            ],
            [
             0.8888888888888888,
             "#fdca26"
            ],
            [
             1,
             "#f0f921"
            ]
           ]
          },
          "colorway": [
           "#636efa",
           "#EF553B",
           "#00cc96",
           "#ab63fa",
           "#FFA15A",
           "#19d3f3",
           "#FF6692",
           "#B6E880",
           "#FF97FF",
           "#FECB52"
          ],
          "font": {
           "color": "#2a3f5f"
          },
          "geo": {
           "bgcolor": "white",
           "lakecolor": "white",
           "landcolor": "#E5ECF6",
           "showlakes": true,
           "showland": true,
           "subunitcolor": "white"
          },
          "hoverlabel": {
           "align": "left"
          },
          "hovermode": "closest",
          "mapbox": {
           "style": "light"
          },
          "paper_bgcolor": "white",
          "plot_bgcolor": "#E5ECF6",
          "polar": {
           "angularaxis": {
            "gridcolor": "white",
            "linecolor": "white",
            "ticks": ""
           },
           "bgcolor": "#E5ECF6",
           "radialaxis": {
            "gridcolor": "white",
            "linecolor": "white",
            "ticks": ""
           }
          },
          "scene": {
           "xaxis": {
            "backgroundcolor": "#E5ECF6",
            "gridcolor": "white",
            "gridwidth": 2,
            "linecolor": "white",
            "showbackground": true,
            "ticks": "",
            "zerolinecolor": "white"
           },
           "yaxis": {
            "backgroundcolor": "#E5ECF6",
            "gridcolor": "white",
            "gridwidth": 2,
            "linecolor": "white",
            "showbackground": true,
            "ticks": "",
            "zerolinecolor": "white"
           },
           "zaxis": {
            "backgroundcolor": "#E5ECF6",
            "gridcolor": "white",
            "gridwidth": 2,
            "linecolor": "white",
            "showbackground": true,
            "ticks": "",
            "zerolinecolor": "white"
           }
          },
          "shapedefaults": {
           "line": {
            "color": "#2a3f5f"
           }
          },
          "ternary": {
           "aaxis": {
            "gridcolor": "white",
            "linecolor": "white",
            "ticks": ""
           },
           "baxis": {
            "gridcolor": "white",
            "linecolor": "white",
            "ticks": ""
           },
           "bgcolor": "#E5ECF6",
           "caxis": {
            "gridcolor": "white",
            "linecolor": "white",
            "ticks": ""
           }
          },
          "title": {
           "x": 0.05
          },
          "xaxis": {
           "automargin": true,
           "gridcolor": "white",
           "linecolor": "white",
           "ticks": "",
           "title": {
            "standoff": 15
           },
           "zerolinecolor": "white",
           "zerolinewidth": 2
          },
          "yaxis": {
           "automargin": true,
           "gridcolor": "white",
           "linecolor": "white",
           "ticks": "",
           "title": {
            "standoff": 15
           },
           "zerolinecolor": "white",
           "zerolinewidth": 2
          }
         }
        },
        "title": {
         "text": "<b>#66|I vs V|</b> III03_100KOhm_89KIVb_1_2_3_4"
        },
        "width": 800,
        "xaxis": {
         "title": {
          "text": "Applied Current (A)"
         }
        },
        "yaxis": {
         "title": {
          "text": "Measured Voltage (V)"
         }
        },
        "yaxis2": {
         "overlaying": "y",
         "side": "right",
         "title": {
          "text": "dV/dI (Ω)"
         }
        }
       }
      }
     },
     "metadata": {},
     "output_type": "display_data"
    }
   ],
   "source": [
    "dataset = qc.load_by_id(66)\n",
    "\n",
    "def _display_time(run_time):\n",
    "    total_seconds = int(run_time.total_seconds())\n",
    "\n",
    "    if total_seconds < 60:\n",
    "        display_time = f\"{total_seconds} sec\"\n",
    "    elif total_seconds < 3600:\n",
    "        minutes, seconds = divmod(total_seconds, 60)\n",
    "        display_time = f\"{minutes} min {seconds} sec\" if seconds else f\"{minutes} min\"\n",
    "    else:\n",
    "        hours, remainder = divmod(total_seconds, 3600)\n",
    "        minutes, seconds = divmod(remainder, 60)\n",
    "        display_time = f\"{hours} hr {minutes} min\" if minutes else f\"{hours} hr\"\n",
    "    return display_time \n",
    "\n",
    "# 獲取數據集信息\n",
    "run_id, exp_name, sample_name, description, start_time, completed_time, run_time, display_time = get_dataset_info(dataset)\n",
    "\n",
    "# Get parameters and auto-detect voltmeter\n",
    "parameters = dataset.get_parameters()\n",
    "voltage_param = next((p for p in parameters if p.name.startswith('meas_voltage')), None)\n",
    "\n",
    "if voltage_param is None:\n",
    "    raise ValueError(\"No voltage measurement parameter found\")\n",
    "\n",
    "voltmeter = voltage_param.name.split('_')[-1]  # e.g., 'K1' or 'K2'\n",
    "voltage_unit = voltage_param.unit\n",
    "\n",
    "# Extract data from the dataset\n",
    "data = dataset.get_parameter_data()\n",
    "appl_current = data[voltage_param.name]['appl_current']\n",
    "meas_voltage = data[voltage_param.name][voltage_param.name]\n",
    "meas_voltage_avg = np.mean(meas_voltage)\n",
    "\n",
    "\n",
    "\n",
    "# Calculate dV/dI\n",
    "dV = np.diff(meas_voltage)\n",
    "dI = np.diff(appl_current)\n",
    "dVdI = dV / dI\n",
    "\n",
    "# Apply Savitzky-Golay filter to smooth dV/dI\n",
    "dVdI_smooth = savgol_filter(dVdI, window_length=6, polyorder=3)\n",
    "# dVdI_smooth = dVdI \n",
    "# Auto-select appropriate units for dV/dI\n",
    "dVdI_avg, dVdI_unit = auto_select_unit(np.mean(dVdI), 'Ω')\n",
    "\n",
    "\n",
    "# Find peaks for positive and negative current regions\n",
    "positive_current_mask = appl_current[1:] > 0\n",
    "negative_current_mask = appl_current[1:] < 0\n",
    "\n",
    "# Find peaks in positive current region\n",
    "positive_peaks, _ = find_peaks(dVdI_smooth[positive_current_mask], height=np.mean(dVdI_smooth[positive_current_mask]))\n",
    "if len(positive_peaks) > 0:\n",
    "    positive_peak_index = positive_peaks[0]  # Take the first peak\n",
    "    positive_peak_current = appl_current[1:][positive_current_mask][positive_peak_index]\n",
    "    positive_peak_dvdi = dVdI_smooth[positive_current_mask][positive_peak_index]\n",
    "\n",
    "# Find peaks in negative current region\n",
    "negative_peaks, _ = find_peaks(dVdI_smooth[negative_current_mask], height=np.mean(dVdI_smooth[negative_current_mask]))\n",
    "if len(negative_peaks) > 0:\n",
    "    negative_peak_index = negative_peaks[0]  # Take the first peak\n",
    "    negative_peak_current = appl_current[1:][negative_current_mask][negative_peak_index]\n",
    "    negative_peak_dvdi = dVdI_smooth[negative_current_mask][negative_peak_index]\n",
    "\n",
    "# Get current unit\n",
    "current_param = next(p for p in parameters if p.name == 'appl_current')\n",
    "current_unit = current_param.unit\n",
    "\n",
    "# Calculate the step size and number of points\n",
    "current_step = (appl_current[len(appl_current)-1]-appl_current[0])/(len(appl_current)-1)\n",
    "current_points = len(appl_current)\n",
    "\n",
    "# Auto-select appropriate units for step sizes\n",
    "auto_current_step, auto_current_unit = auto_select_unit(current_step, current_unit)\n",
    "\n",
    "# Create hover text\n",
    "hover_text = [f'{voltmeter}<br>Current: {i:.2e} {current_unit}<br>Voltage: {v:.2e} {voltage_unit}' for i, v in zip(appl_current, meas_voltage)]\n",
    "# Create the scatter plot\n",
    "fig = go.Figure(data=go.Scatter(\n",
    "    x=appl_current,\n",
    "    y=meas_voltage,\n",
    "    mode='markers',\n",
    "    name='IV Curve',\n",
    "    hovertext=hover_text,\n",
    "    hoverinfo='text'\n",
    "))\n",
    "\n",
    "fig.add_trace(go.Scatter(\n",
    "    x=appl_current[1:],\n",
    "    y=dVdI_smooth,\n",
    "    mode='lines',\n",
    "    name='dV/dI (smoothed)',\n",
    "    yaxis='y2',\n",
    "    hovertext=hover_text,\n",
    "    hoverinfo='text'\n",
    "))\n",
    "\n",
    "fig.add_trace(go.Scatter(\n",
    "    x=appl_current[1:],\n",
    "    y=dVdI,\n",
    "    mode='lines',\n",
    "    name='dV/dI',\n",
    "    yaxis='y2',\n",
    "    hovertext=hover_text,\n",
    "    hoverinfo='text'\n",
    "))\n",
    "\n",
    "fig.add_trace(go.Scatter(\n",
    "    x=appl_current,\n",
    "    y=np.array([meas_voltage_avg]),\n",
    "    mode='lines',\n",
    "    name='Average Voltage',\n",
    "    yaxis='y1',\n",
    "    # hovertext=hover_text,\n",
    "    # hoverinfo='text'\n",
    "))\n",
    "\n",
    "\n",
    "# Add peak markers\n",
    "if 'positive_peak_current' in locals():\n",
    "    fig.add_trace(go.Scatter(\n",
    "        x=[positive_peak_current],\n",
    "        y=[positive_peak_dvdi],\n",
    "        mode='markers',\n",
    "        name='Positive Current Peak',\n",
    "        marker=dict(size=10, color='red', symbol='star'),\n",
    "        yaxis='y2'\n",
    "    ))\n",
    "\n",
    "if 'negative_peak_current' in locals():\n",
    "    fig.add_trace(go.Scatter(\n",
    "        x=[negative_peak_current],\n",
    "        y=[negative_peak_dvdi],\n",
    "        mode='markers',\n",
    "        name='Negative Current Peak',\n",
    "        marker=dict(size=10, color='blue', symbol='star'),\n",
    "        yaxis='y2'\n",
    "    ))\n",
    "\n",
    "# Update layout\n",
    "fig.update_layout(\n",
    "    title=f'<b>#{run_id}|{exp_name}|</b> {sample_name}',\n",
    "    xaxis_title=f'Applied Current ({current_unit})',\n",
    "    yaxis_title=f'Measured Voltage ({voltage_unit})',\n",
    "    yaxis2=dict(\n",
    "        title=f'dV/dI (Ω)',\n",
    "        overlaying='y',\n",
    "        side='right'\n",
    "    ),\n",
    "    legend=dict(orientation=\"h\",\n",
    "                    x=0.5, y=1,\n",
    "                    xanchor=\"center\", yanchor=\"bottom\",),\n",
    "    font=dict(size=14),\n",
    "    width=800, height=800\n",
    ")\n",
    "# Add description as annotation\n",
    "fig.add_annotation(\n",
    "    xref='paper', yref='paper',\n",
    "    x=0.01, y=0.99,\n",
    "    text=f'{start_time}<br>{current_points} pt, {display_time}',\n",
    "    showarrow=False,\n",
    "    font=dict(size=12),\n",
    "    align='left',\n",
    ")\n",
    "\n",
    "fig.add_annotation(\n",
    "    xref='paper', yref='paper',\n",
    "    x=0.99, y=0.01,\n",
    "    text=f'Step size: {auto_current_step:.1f} {auto_current_unit}',\n",
    "    showarrow=False,\n",
    "    font=dict(size=12),\n",
    "    align='right',\n",
    ")\n",
    "\n",
    "# Show the plot\n",
    "fig.show()"
   ]
  },
  {
   "cell_type": "code",
   "execution_count": 215,
   "metadata": {},
   "outputs": [
    {
     "data": {
      "application/vnd.plotly.v1+json": {
       "config": {
        "plotlyServerURL": "https://plot.ly"
       },
       "data": [
        {
         "hoverinfo": "text",
         "hovertext": [
          "K2<br>Current: 2.00e-06 A<br>Voltage: 3.83e-05 V",
          "K2<br>Current: 1.96e-06 A<br>Voltage: 3.72e-05 V",
          "K2<br>Current: 1.92e-06 A<br>Voltage: 3.61e-05 V",
          "K2<br>Current: 1.88e-06 A<br>Voltage: 3.50e-05 V",
          "K2<br>Current: 1.84e-06 A<br>Voltage: 3.39e-05 V",
          "K2<br>Current: 1.80e-06 A<br>Voltage: 3.28e-05 V",
          "K2<br>Current: 1.76e-06 A<br>Voltage: 3.17e-05 V",
          "K2<br>Current: 1.72e-06 A<br>Voltage: 3.05e-05 V",
          "K2<br>Current: 1.68e-06 A<br>Voltage: 2.94e-05 V",
          "K2<br>Current: 1.64e-06 A<br>Voltage: 2.83e-05 V",
          "K2<br>Current: 1.60e-06 A<br>Voltage: 2.71e-05 V",
          "K2<br>Current: 1.56e-06 A<br>Voltage: 2.57e-05 V",
          "K2<br>Current: 1.52e-06 A<br>Voltage: 2.45e-05 V",
          "K2<br>Current: 1.48e-06 A<br>Voltage: 2.33e-05 V",
          "K2<br>Current: 1.44e-06 A<br>Voltage: 2.20e-05 V",
          "K2<br>Current: 1.40e-06 A<br>Voltage: 2.07e-05 V",
          "K2<br>Current: 1.36e-06 A<br>Voltage: 1.93e-05 V",
          "K2<br>Current: 1.32e-06 A<br>Voltage: 1.79e-05 V",
          "K2<br>Current: 1.28e-06 A<br>Voltage: 6.22e-06 V",
          "K2<br>Current: 1.24e-06 A<br>Voltage: 6.19e-06 V",
          "K2<br>Current: 1.20e-06 A<br>Voltage: 5.73e-06 V",
          "K2<br>Current: 1.16e-06 A<br>Voltage: 5.56e-06 V",
          "K2<br>Current: 1.12e-06 A<br>Voltage: 5.36e-06 V",
          "K2<br>Current: 1.08e-06 A<br>Voltage: 5.19e-06 V",
          "K2<br>Current: 1.04e-06 A<br>Voltage: 4.97e-06 V",
          "K2<br>Current: 1.00e-06 A<br>Voltage: 4.79e-06 V",
          "K2<br>Current: 9.60e-07 A<br>Voltage: 4.60e-06 V",
          "K2<br>Current: 9.20e-07 A<br>Voltage: 4.42e-06 V",
          "K2<br>Current: 8.80e-07 A<br>Voltage: 4.22e-06 V",
          "K2<br>Current: 8.40e-07 A<br>Voltage: 4.04e-06 V",
          "K2<br>Current: 8.00e-07 A<br>Voltage: 3.85e-06 V",
          "K2<br>Current: 7.60e-07 A<br>Voltage: 3.62e-06 V",
          "K2<br>Current: 7.20e-07 A<br>Voltage: 3.44e-06 V",
          "K2<br>Current: 6.80e-07 A<br>Voltage: 3.28e-06 V",
          "K2<br>Current: 6.40e-07 A<br>Voltage: 3.10e-06 V",
          "K2<br>Current: 6.00e-07 A<br>Voltage: 2.88e-06 V",
          "K2<br>Current: 5.60e-07 A<br>Voltage: 2.69e-06 V",
          "K2<br>Current: 5.20e-07 A<br>Voltage: 2.48e-06 V",
          "K2<br>Current: 4.80e-07 A<br>Voltage: 2.27e-06 V",
          "K2<br>Current: 4.40e-07 A<br>Voltage: 1.99e-06 V",
          "K2<br>Current: 4.00e-07 A<br>Voltage: 1.76e-06 V",
          "K2<br>Current: 3.60e-07 A<br>Voltage: 1.40e-06 V",
          "K2<br>Current: 3.20e-07 A<br>Voltage: 3.20e-07 V",
          "K2<br>Current: 2.80e-07 A<br>Voltage: 3.08e-07 V",
          "K2<br>Current: 2.40e-07 A<br>Voltage: 3.27e-07 V",
          "K2<br>Current: 2.00e-07 A<br>Voltage: 3.21e-07 V",
          "K2<br>Current: 1.60e-07 A<br>Voltage: 2.98e-07 V",
          "K2<br>Current: 1.20e-07 A<br>Voltage: 2.87e-07 V",
          "K2<br>Current: 8.00e-08 A<br>Voltage: 3.09e-07 V",
          "K2<br>Current: 4.00e-08 A<br>Voltage: 2.87e-07 V",
          "K2<br>Current: 0.00e+00 A<br>Voltage: 3.02e-07 V",
          "K2<br>Current: -4.00e-08 A<br>Voltage: 2.98e-07 V",
          "K2<br>Current: -8.00e-08 A<br>Voltage: 2.98e-07 V",
          "K2<br>Current: -1.20e-07 A<br>Voltage: 2.99e-07 V",
          "K2<br>Current: -1.60e-07 A<br>Voltage: 2.87e-07 V",
          "K2<br>Current: -2.00e-07 A<br>Voltage: 3.10e-07 V",
          "K2<br>Current: -2.40e-07 A<br>Voltage: 2.95e-07 V",
          "K2<br>Current: -2.80e-07 A<br>Voltage: 2.76e-07 V",
          "K2<br>Current: -3.20e-07 A<br>Voltage: 2.91e-07 V",
          "K2<br>Current: -3.60e-07 A<br>Voltage: 2.88e-07 V",
          "K2<br>Current: -4.00e-07 A<br>Voltage: 2.92e-07 V",
          "K2<br>Current: -4.40e-07 A<br>Voltage: 2.88e-07 V",
          "K2<br>Current: -4.80e-07 A<br>Voltage: -1.55e-06 V",
          "K2<br>Current: -5.20e-07 A<br>Voltage: -1.76e-06 V",
          "K2<br>Current: -5.60e-07 A<br>Voltage: -1.99e-06 V",
          "K2<br>Current: -6.00e-07 A<br>Voltage: -2.18e-06 V",
          "K2<br>Current: -6.40e-07 A<br>Voltage: -2.37e-06 V",
          "K2<br>Current: -6.80e-07 A<br>Voltage: -2.56e-06 V",
          "K2<br>Current: -7.20e-07 A<br>Voltage: -2.75e-06 V",
          "K2<br>Current: -7.60e-07 A<br>Voltage: -2.96e-06 V",
          "K2<br>Current: -8.00e-07 A<br>Voltage: -3.12e-06 V",
          "K2<br>Current: -8.40e-07 A<br>Voltage: -3.33e-06 V",
          "K2<br>Current: -8.80e-07 A<br>Voltage: -3.49e-06 V",
          "K2<br>Current: -9.20e-07 A<br>Voltage: -3.71e-06 V",
          "K2<br>Current: -9.60e-07 A<br>Voltage: -3.92e-06 V",
          "K2<br>Current: -1.00e-06 A<br>Voltage: -4.09e-06 V",
          "K2<br>Current: -1.04e-06 A<br>Voltage: -4.27e-06 V",
          "K2<br>Current: -1.08e-06 A<br>Voltage: -4.47e-06 V",
          "K2<br>Current: -1.12e-06 A<br>Voltage: -4.67e-06 V",
          "K2<br>Current: -1.16e-06 A<br>Voltage: -4.85e-06 V",
          "K2<br>Current: -1.20e-06 A<br>Voltage: -5.04e-06 V",
          "K2<br>Current: -1.24e-06 A<br>Voltage: -5.19e-06 V",
          "K2<br>Current: -1.28e-06 A<br>Voltage: -5.40e-06 V",
          "K2<br>Current: -1.32e-06 A<br>Voltage: -5.56e-06 V",
          "K2<br>Current: -1.36e-06 A<br>Voltage: -5.75e-06 V",
          "K2<br>Current: -1.40e-06 A<br>Voltage: -5.94e-06 V",
          "K2<br>Current: -1.44e-06 A<br>Voltage: -6.13e-06 V",
          "K2<br>Current: -1.48e-06 A<br>Voltage: -6.32e-06 V",
          "K2<br>Current: -1.52e-06 A<br>Voltage: -6.53e-06 V",
          "K2<br>Current: -1.56e-06 A<br>Voltage: -6.73e-06 V",
          "K2<br>Current: -1.60e-06 A<br>Voltage: -6.93e-06 V",
          "K2<br>Current: -1.64e-06 A<br>Voltage: -7.08e-06 V",
          "K2<br>Current: -1.68e-06 A<br>Voltage: -7.27e-06 V",
          "K2<br>Current: -1.72e-06 A<br>Voltage: -7.45e-06 V",
          "K2<br>Current: -1.76e-06 A<br>Voltage: -7.59e-06 V",
          "K2<br>Current: -1.80e-06 A<br>Voltage: -7.82e-06 V",
          "K2<br>Current: -1.84e-06 A<br>Voltage: -3.23e-05 V",
          "K2<br>Current: -1.88e-06 A<br>Voltage: -3.34e-05 V",
          "K2<br>Current: -1.92e-06 A<br>Voltage: -3.46e-05 V",
          "K2<br>Current: -1.96e-06 A<br>Voltage: -3.57e-05 V",
          "K2<br>Current: -2.00e-06 A<br>Voltage: -3.69e-05 V"
         ],
         "mode": "markers",
         "name": "IV",
         "type": "scatter",
         "x": [
          0.000002,
          0.00000196,
          0.00000192,
          0.00000188,
          0.00000184,
          0.0000018,
          0.00000176,
          0.00000172,
          0.00000168,
          0.00000164,
          0.0000016,
          0.00000156,
          0.00000152,
          0.00000148,
          0.00000144,
          0.0000014,
          0.00000136,
          0.00000132,
          0.00000128,
          0.00000124,
          0.0000012,
          0.00000116,
          0.00000112,
          0.00000108,
          0.00000104,
          0.000001,
          9.6e-7,
          9.2e-7,
          8.8e-7,
          8.4e-7,
          8e-7,
          7.6e-7,
          7.2e-7,
          6.8e-7,
          6.4e-7,
          6e-7,
          5.6e-7,
          5.2e-7,
          4.8e-7,
          4.4e-7,
          4e-7,
          3.6e-7,
          3.2e-7,
          2.8e-7,
          2.4e-7,
          2e-7,
          1.6e-7,
          1.2e-7,
          7.99999999999997e-8,
          4e-8,
          0,
          -4e-8,
          -8.00000000000001e-8,
          -1.2e-7,
          -1.6e-7,
          -2e-7,
          -2.4e-7,
          -2.8e-7,
          -3.2e-7,
          -3.6e-7,
          -4e-7,
          -4.4e-7,
          -4.8e-7,
          -5.2e-7,
          -5.6e-7,
          -6e-7,
          -6.4e-7,
          -6.8e-7,
          -7.2e-7,
          -7.6e-7,
          -8e-7,
          -8.4e-7,
          -8.8e-7,
          -9.2e-7,
          -9.6e-7,
          -0.000001,
          -0.00000104,
          -0.00000108,
          -0.00000112,
          -0.00000116,
          -0.0000012,
          -0.00000124,
          -0.00000128,
          -0.00000132,
          -0.00000136,
          -0.0000014,
          -0.00000144,
          -0.00000148,
          -0.00000152,
          -0.00000156,
          -0.0000016,
          -0.00000164,
          -0.00000168,
          -0.00000172,
          -0.00000176,
          -0.0000018,
          -0.00000184,
          -0.00000188,
          -0.00000192,
          -0.00000196,
          -0.000002
         ],
         "y": [
          0.00003827529,
          0.00003720967,
          0.0000361412,
          0.0000350381,
          0.00003389155,
          0.00003282012,
          0.00003169032,
          0.00003054936,
          0.00002941215,
          0.00002827554,
          0.00002710956,
          0.0000257438,
          0.0000245035,
          0.00002327,
          0.00002198508,
          0.00002066448,
          0.00001930252,
          0.00001785315,
          0.000006221778,
          0.000006185497,
          0.000005729573,
          0.000005561487,
          0.000005357751,
          0.000005188711,
          0.000004974867,
          0.000004785504,
          0.000004601802,
          0.000004423524,
          0.000004224983,
          0.000004041549,
          0.000003847359,
          0.000003624012,
          0.000003443529,
          0.000003280404,
          0.000003104972,
          0.000002884334,
          0.000002686388,
          0.000002478414,
          0.000002274255,
          0.00000198627,
          0.000001756945,
          0.000001400762,
          3.195474e-7,
          3.076572e-7,
          3.273103e-7,
          3.206202e-7,
          2.975104e-7,
          2.871922e-7,
          3.090355e-7,
          2.868793e-7,
          3.020772e-7,
          2.979052e-7,
          2.98084e-7,
          2.992611e-7,
          2.870134e-7,
          3.095086e-7,
          2.950705e-7,
          2.758198e-7,
          2.91271e-7,
          2.882612e-7,
          2.92016e-7,
          2.878887e-7,
          -0.000001551972,
          -0.000001756344,
          -0.000001987606,
          -0.000002179979,
          -0.000002370102,
          -0.000002561984,
          -0.000002745462,
          -0.000002963954,
          -0.000003116068,
          -0.000003332178,
          -0.000003487614,
          -0.000003710279,
          -0.000003921664,
          -0.000004091866,
          -0.000004272319,
          -0.000004474869,
          -0.000004667436,
          -0.000004854912,
          -0.000005042175,
          -0.000005193022,
          -0.000005404422,
          -0.000005561855,
          -0.000005751367,
          -0.00000594377,
          -0.000006133745,
          -0.000006317858,
          -0.000006525266,
          -0.000006730617,
          -0.000006925836,
          -0.000007083313,
          -0.000007269503,
          -0.000007451342,
          -0.000007585784,
          -0.000007824419,
          -0.00003230735,
          -0.00003344672,
          -0.00003461774,
          -0.00003573049,
          -0.00003687274
         ]
        },
        {
         "hoverinfo": "text",
         "hovertext": [
          "K2<br>Current: 2.00e-06 A<br>Voltage: 3.83e-05 V",
          "K2<br>Current: 1.96e-06 A<br>Voltage: 3.72e-05 V",
          "K2<br>Current: 1.92e-06 A<br>Voltage: 3.61e-05 V",
          "K2<br>Current: 1.88e-06 A<br>Voltage: 3.50e-05 V",
          "K2<br>Current: 1.84e-06 A<br>Voltage: 3.39e-05 V",
          "K2<br>Current: 1.80e-06 A<br>Voltage: 3.28e-05 V",
          "K2<br>Current: 1.76e-06 A<br>Voltage: 3.17e-05 V",
          "K2<br>Current: 1.72e-06 A<br>Voltage: 3.05e-05 V",
          "K2<br>Current: 1.68e-06 A<br>Voltage: 2.94e-05 V",
          "K2<br>Current: 1.64e-06 A<br>Voltage: 2.83e-05 V",
          "K2<br>Current: 1.60e-06 A<br>Voltage: 2.71e-05 V",
          "K2<br>Current: 1.56e-06 A<br>Voltage: 2.57e-05 V",
          "K2<br>Current: 1.52e-06 A<br>Voltage: 2.45e-05 V",
          "K2<br>Current: 1.48e-06 A<br>Voltage: 2.33e-05 V",
          "K2<br>Current: 1.44e-06 A<br>Voltage: 2.20e-05 V",
          "K2<br>Current: 1.40e-06 A<br>Voltage: 2.07e-05 V",
          "K2<br>Current: 1.36e-06 A<br>Voltage: 1.93e-05 V",
          "K2<br>Current: 1.32e-06 A<br>Voltage: 1.79e-05 V",
          "K2<br>Current: 1.28e-06 A<br>Voltage: 6.22e-06 V",
          "K2<br>Current: 1.24e-06 A<br>Voltage: 6.19e-06 V",
          "K2<br>Current: 1.20e-06 A<br>Voltage: 5.73e-06 V",
          "K2<br>Current: 1.16e-06 A<br>Voltage: 5.56e-06 V",
          "K2<br>Current: 1.12e-06 A<br>Voltage: 5.36e-06 V",
          "K2<br>Current: 1.08e-06 A<br>Voltage: 5.19e-06 V",
          "K2<br>Current: 1.04e-06 A<br>Voltage: 4.97e-06 V",
          "K2<br>Current: 1.00e-06 A<br>Voltage: 4.79e-06 V",
          "K2<br>Current: 9.60e-07 A<br>Voltage: 4.60e-06 V",
          "K2<br>Current: 9.20e-07 A<br>Voltage: 4.42e-06 V",
          "K2<br>Current: 8.80e-07 A<br>Voltage: 4.22e-06 V",
          "K2<br>Current: 8.40e-07 A<br>Voltage: 4.04e-06 V",
          "K2<br>Current: 8.00e-07 A<br>Voltage: 3.85e-06 V",
          "K2<br>Current: 7.60e-07 A<br>Voltage: 3.62e-06 V",
          "K2<br>Current: 7.20e-07 A<br>Voltage: 3.44e-06 V",
          "K2<br>Current: 6.80e-07 A<br>Voltage: 3.28e-06 V",
          "K2<br>Current: 6.40e-07 A<br>Voltage: 3.10e-06 V",
          "K2<br>Current: 6.00e-07 A<br>Voltage: 2.88e-06 V",
          "K2<br>Current: 5.60e-07 A<br>Voltage: 2.69e-06 V",
          "K2<br>Current: 5.20e-07 A<br>Voltage: 2.48e-06 V",
          "K2<br>Current: 4.80e-07 A<br>Voltage: 2.27e-06 V",
          "K2<br>Current: 4.40e-07 A<br>Voltage: 1.99e-06 V",
          "K2<br>Current: 4.00e-07 A<br>Voltage: 1.76e-06 V",
          "K2<br>Current: 3.60e-07 A<br>Voltage: 1.40e-06 V",
          "K2<br>Current: 3.20e-07 A<br>Voltage: 3.20e-07 V",
          "K2<br>Current: 2.80e-07 A<br>Voltage: 3.08e-07 V",
          "K2<br>Current: 2.40e-07 A<br>Voltage: 3.27e-07 V",
          "K2<br>Current: 2.00e-07 A<br>Voltage: 3.21e-07 V",
          "K2<br>Current: 1.60e-07 A<br>Voltage: 2.98e-07 V",
          "K2<br>Current: 1.20e-07 A<br>Voltage: 2.87e-07 V",
          "K2<br>Current: 8.00e-08 A<br>Voltage: 3.09e-07 V",
          "K2<br>Current: 4.00e-08 A<br>Voltage: 2.87e-07 V",
          "K2<br>Current: 0.00e+00 A<br>Voltage: 3.02e-07 V",
          "K2<br>Current: -4.00e-08 A<br>Voltage: 2.98e-07 V",
          "K2<br>Current: -8.00e-08 A<br>Voltage: 2.98e-07 V",
          "K2<br>Current: -1.20e-07 A<br>Voltage: 2.99e-07 V",
          "K2<br>Current: -1.60e-07 A<br>Voltage: 2.87e-07 V",
          "K2<br>Current: -2.00e-07 A<br>Voltage: 3.10e-07 V",
          "K2<br>Current: -2.40e-07 A<br>Voltage: 2.95e-07 V",
          "K2<br>Current: -2.80e-07 A<br>Voltage: 2.76e-07 V",
          "K2<br>Current: -3.20e-07 A<br>Voltage: 2.91e-07 V",
          "K2<br>Current: -3.60e-07 A<br>Voltage: 2.88e-07 V",
          "K2<br>Current: -4.00e-07 A<br>Voltage: 2.92e-07 V",
          "K2<br>Current: -4.40e-07 A<br>Voltage: 2.88e-07 V",
          "K2<br>Current: -4.80e-07 A<br>Voltage: -1.55e-06 V",
          "K2<br>Current: -5.20e-07 A<br>Voltage: -1.76e-06 V",
          "K2<br>Current: -5.60e-07 A<br>Voltage: -1.99e-06 V",
          "K2<br>Current: -6.00e-07 A<br>Voltage: -2.18e-06 V",
          "K2<br>Current: -6.40e-07 A<br>Voltage: -2.37e-06 V",
          "K2<br>Current: -6.80e-07 A<br>Voltage: -2.56e-06 V",
          "K2<br>Current: -7.20e-07 A<br>Voltage: -2.75e-06 V",
          "K2<br>Current: -7.60e-07 A<br>Voltage: -2.96e-06 V",
          "K2<br>Current: -8.00e-07 A<br>Voltage: -3.12e-06 V",
          "K2<br>Current: -8.40e-07 A<br>Voltage: -3.33e-06 V",
          "K2<br>Current: -8.80e-07 A<br>Voltage: -3.49e-06 V",
          "K2<br>Current: -9.20e-07 A<br>Voltage: -3.71e-06 V",
          "K2<br>Current: -9.60e-07 A<br>Voltage: -3.92e-06 V",
          "K2<br>Current: -1.00e-06 A<br>Voltage: -4.09e-06 V",
          "K2<br>Current: -1.04e-06 A<br>Voltage: -4.27e-06 V",
          "K2<br>Current: -1.08e-06 A<br>Voltage: -4.47e-06 V",
          "K2<br>Current: -1.12e-06 A<br>Voltage: -4.67e-06 V",
          "K2<br>Current: -1.16e-06 A<br>Voltage: -4.85e-06 V",
          "K2<br>Current: -1.20e-06 A<br>Voltage: -5.04e-06 V",
          "K2<br>Current: -1.24e-06 A<br>Voltage: -5.19e-06 V",
          "K2<br>Current: -1.28e-06 A<br>Voltage: -5.40e-06 V",
          "K2<br>Current: -1.32e-06 A<br>Voltage: -5.56e-06 V",
          "K2<br>Current: -1.36e-06 A<br>Voltage: -5.75e-06 V",
          "K2<br>Current: -1.40e-06 A<br>Voltage: -5.94e-06 V",
          "K2<br>Current: -1.44e-06 A<br>Voltage: -6.13e-06 V",
          "K2<br>Current: -1.48e-06 A<br>Voltage: -6.32e-06 V",
          "K2<br>Current: -1.52e-06 A<br>Voltage: -6.53e-06 V",
          "K2<br>Current: -1.56e-06 A<br>Voltage: -6.73e-06 V",
          "K2<br>Current: -1.60e-06 A<br>Voltage: -6.93e-06 V",
          "K2<br>Current: -1.64e-06 A<br>Voltage: -7.08e-06 V",
          "K2<br>Current: -1.68e-06 A<br>Voltage: -7.27e-06 V",
          "K2<br>Current: -1.72e-06 A<br>Voltage: -7.45e-06 V",
          "K2<br>Current: -1.76e-06 A<br>Voltage: -7.59e-06 V",
          "K2<br>Current: -1.80e-06 A<br>Voltage: -7.82e-06 V",
          "K2<br>Current: -1.84e-06 A<br>Voltage: -3.23e-05 V",
          "K2<br>Current: -1.88e-06 A<br>Voltage: -3.34e-05 V",
          "K2<br>Current: -1.92e-06 A<br>Voltage: -3.46e-05 V",
          "K2<br>Current: -1.96e-06 A<br>Voltage: -3.57e-05 V",
          "K2<br>Current: -2.00e-06 A<br>Voltage: -3.69e-05 V"
         ],
         "mode": "lines",
         "name": "dV/dI (smoothed)",
         "type": "scatter",
         "x": [
          0.000002,
          0.00000196,
          0.00000192,
          0.00000188,
          0.00000184,
          0.0000018,
          0.00000176,
          0.00000172,
          0.00000168,
          0.00000164,
          0.0000016,
          0.00000156,
          0.00000152,
          0.00000148,
          0.00000144,
          0.0000014,
          0.00000136,
          0.00000132,
          0.00000128,
          0.00000124,
          0.0000012,
          0.00000116,
          0.00000112,
          0.00000108,
          0.00000104,
          0.000001,
          9.6e-7,
          9.2e-7,
          8.8e-7,
          8.4e-7,
          8e-7,
          7.6e-7,
          7.2e-7,
          6.8e-7,
          6.4e-7,
          6e-7,
          5.6e-7,
          5.2e-7,
          4.8e-7,
          4.4e-7,
          4e-7,
          3.6e-7,
          3.2e-7,
          2.8e-7,
          2.4e-7,
          2e-7,
          1.6e-7,
          1.2e-7,
          7.99999999999997e-8,
          4e-8,
          0,
          -4e-8,
          -8.00000000000001e-8,
          -1.2e-7,
          -1.6e-7,
          -2e-7,
          -2.4e-7,
          -2.8e-7,
          -3.2e-7,
          -3.6e-7,
          -4e-7,
          -4.4e-7,
          -4.8e-7,
          -5.2e-7,
          -5.6e-7,
          -6e-7,
          -6.4e-7,
          -6.8e-7,
          -7.2e-7,
          -7.6e-7,
          -8e-7,
          -8.4e-7,
          -8.8e-7,
          -9.2e-7,
          -9.6e-7,
          -0.000001,
          -0.00000104,
          -0.00000108,
          -0.00000112,
          -0.00000116,
          -0.0000012,
          -0.00000124,
          -0.00000128,
          -0.00000132,
          -0.00000136,
          -0.0000014,
          -0.00000144,
          -0.00000148,
          -0.00000152,
          -0.00000156,
          -0.0000016,
          -0.00000164,
          -0.00000168,
          -0.00000172,
          -0.00000176,
          -0.0000018,
          -0.00000184,
          -0.00000188,
          -0.00000192,
          -0.00000196,
          -0.000002
         ],
         "y": [
          26.442950396825353,
          27.208390873015972,
          27.56643253968259,
          27.826382812499986,
          27.89562499999999,
          28.015718750000026,
          28.508343749999973,
          28.08417187499989,
          29.69382031249998,
          31.17743749999999,
          31.878507812499997,
          31.859859374999967,
          31.22201562499991,
          32.31675781249989,
          9.950104687499984,
          94.09075078124988,
          126.1148585937498,
          116.21777812499977,
          65.2682406249998,
          -20.494528906249975,
          6.31737265624999,
          4.071063281249999,
          4.914794531249995,
          4.813778124999981,
          4.780383593749993,
          4.583792187499997,
          4.6415007812499995,
          4.6639289062499945,
          5.0065789062499935,
          5.056925781249998,
          4.898880468749993,
          4.429894531249996,
          4.380196874999989,
          4.777317187499996,
          5.160154687499998,
          5.0424749999999925,
          5.466581249999997,
          5.706589062499989,
          4.892615781249992,
          12.47058249999999,
          14.165845234374983,
          11.535094999999988,
          4.987734140624992,
          -2.4884018749999988,
          0.2516514062499996,
          0.2246517968750002,
          0.15944078125000233,
          -0.08769414062499718,
          -0.055170078124997524,
          0.07077515625000054,
          -0.13274867187500028,
          0.16542687499999975,
          -0.06382898437500008,
          -0.06824898437500011,
          0.13569414062499993,
          0.07255335937499957,
          0.19256195312499946,
          -0.07540757812499964,
          -4.426204296875006,
          9.638907109375012,
          17.83543828125001,
          20.009892890625,
          14.74257265624999,
          1.3670757031249847,
          4.990945312499997,
          4.582621093749998,
          4.94622187499999,
          4.697588281249994,
          4.845651562499989,
          4.545121093749991,
          4.525292187499993,
          5.127132031249995,
          4.920607031250001,
          4.942899999999998,
          4.577897656249994,
          4.639715624999984,
          4.878524999999994,
          4.918208593749994,
          4.4210281249999985,
          4.530821874999994,
          4.397556249999984,
          4.42930546875,
          4.66210546875,
          4.553357031250002,
          4.772959374999991,
          4.768081249999987,
          4.923959374999989,
          5.129746874999993,
          4.882910937499995,
          4.535467187499998,
          4.4875242187499955,
          4.029858593749985,
          -52.46256015624992,
          135.2762765624998,
          235.5600773437495,
          244.9950164062495,
          158.39983749999962,
          38.54401230158756,
          -103.21796686507894,
          80.0440855158741
         ],
         "yaxis": "y2"
        },
        {
         "hoverinfo": "text",
         "hovertext": [
          "K2<br>Current: 2.00e-06 A<br>Voltage: 3.83e-05 V",
          "K2<br>Current: 1.96e-06 A<br>Voltage: 3.72e-05 V",
          "K2<br>Current: 1.92e-06 A<br>Voltage: 3.61e-05 V",
          "K2<br>Current: 1.88e-06 A<br>Voltage: 3.50e-05 V",
          "K2<br>Current: 1.84e-06 A<br>Voltage: 3.39e-05 V",
          "K2<br>Current: 1.80e-06 A<br>Voltage: 3.28e-05 V",
          "K2<br>Current: 1.76e-06 A<br>Voltage: 3.17e-05 V",
          "K2<br>Current: 1.72e-06 A<br>Voltage: 3.05e-05 V",
          "K2<br>Current: 1.68e-06 A<br>Voltage: 2.94e-05 V",
          "K2<br>Current: 1.64e-06 A<br>Voltage: 2.83e-05 V",
          "K2<br>Current: 1.60e-06 A<br>Voltage: 2.71e-05 V",
          "K2<br>Current: 1.56e-06 A<br>Voltage: 2.57e-05 V",
          "K2<br>Current: 1.52e-06 A<br>Voltage: 2.45e-05 V",
          "K2<br>Current: 1.48e-06 A<br>Voltage: 2.33e-05 V",
          "K2<br>Current: 1.44e-06 A<br>Voltage: 2.20e-05 V",
          "K2<br>Current: 1.40e-06 A<br>Voltage: 2.07e-05 V",
          "K2<br>Current: 1.36e-06 A<br>Voltage: 1.93e-05 V",
          "K2<br>Current: 1.32e-06 A<br>Voltage: 1.79e-05 V",
          "K2<br>Current: 1.28e-06 A<br>Voltage: 6.22e-06 V",
          "K2<br>Current: 1.24e-06 A<br>Voltage: 6.19e-06 V",
          "K2<br>Current: 1.20e-06 A<br>Voltage: 5.73e-06 V",
          "K2<br>Current: 1.16e-06 A<br>Voltage: 5.56e-06 V",
          "K2<br>Current: 1.12e-06 A<br>Voltage: 5.36e-06 V",
          "K2<br>Current: 1.08e-06 A<br>Voltage: 5.19e-06 V",
          "K2<br>Current: 1.04e-06 A<br>Voltage: 4.97e-06 V",
          "K2<br>Current: 1.00e-06 A<br>Voltage: 4.79e-06 V",
          "K2<br>Current: 9.60e-07 A<br>Voltage: 4.60e-06 V",
          "K2<br>Current: 9.20e-07 A<br>Voltage: 4.42e-06 V",
          "K2<br>Current: 8.80e-07 A<br>Voltage: 4.22e-06 V",
          "K2<br>Current: 8.40e-07 A<br>Voltage: 4.04e-06 V",
          "K2<br>Current: 8.00e-07 A<br>Voltage: 3.85e-06 V",
          "K2<br>Current: 7.60e-07 A<br>Voltage: 3.62e-06 V",
          "K2<br>Current: 7.20e-07 A<br>Voltage: 3.44e-06 V",
          "K2<br>Current: 6.80e-07 A<br>Voltage: 3.28e-06 V",
          "K2<br>Current: 6.40e-07 A<br>Voltage: 3.10e-06 V",
          "K2<br>Current: 6.00e-07 A<br>Voltage: 2.88e-06 V",
          "K2<br>Current: 5.60e-07 A<br>Voltage: 2.69e-06 V",
          "K2<br>Current: 5.20e-07 A<br>Voltage: 2.48e-06 V",
          "K2<br>Current: 4.80e-07 A<br>Voltage: 2.27e-06 V",
          "K2<br>Current: 4.40e-07 A<br>Voltage: 1.99e-06 V",
          "K2<br>Current: 4.00e-07 A<br>Voltage: 1.76e-06 V",
          "K2<br>Current: 3.60e-07 A<br>Voltage: 1.40e-06 V",
          "K2<br>Current: 3.20e-07 A<br>Voltage: 3.20e-07 V",
          "K2<br>Current: 2.80e-07 A<br>Voltage: 3.08e-07 V",
          "K2<br>Current: 2.40e-07 A<br>Voltage: 3.27e-07 V",
          "K2<br>Current: 2.00e-07 A<br>Voltage: 3.21e-07 V",
          "K2<br>Current: 1.60e-07 A<br>Voltage: 2.98e-07 V",
          "K2<br>Current: 1.20e-07 A<br>Voltage: 2.87e-07 V",
          "K2<br>Current: 8.00e-08 A<br>Voltage: 3.09e-07 V",
          "K2<br>Current: 4.00e-08 A<br>Voltage: 2.87e-07 V",
          "K2<br>Current: 0.00e+00 A<br>Voltage: 3.02e-07 V",
          "K2<br>Current: -4.00e-08 A<br>Voltage: 2.98e-07 V",
          "K2<br>Current: -8.00e-08 A<br>Voltage: 2.98e-07 V",
          "K2<br>Current: -1.20e-07 A<br>Voltage: 2.99e-07 V",
          "K2<br>Current: -1.60e-07 A<br>Voltage: 2.87e-07 V",
          "K2<br>Current: -2.00e-07 A<br>Voltage: 3.10e-07 V",
          "K2<br>Current: -2.40e-07 A<br>Voltage: 2.95e-07 V",
          "K2<br>Current: -2.80e-07 A<br>Voltage: 2.76e-07 V",
          "K2<br>Current: -3.20e-07 A<br>Voltage: 2.91e-07 V",
          "K2<br>Current: -3.60e-07 A<br>Voltage: 2.88e-07 V",
          "K2<br>Current: -4.00e-07 A<br>Voltage: 2.92e-07 V",
          "K2<br>Current: -4.40e-07 A<br>Voltage: 2.88e-07 V",
          "K2<br>Current: -4.80e-07 A<br>Voltage: -1.55e-06 V",
          "K2<br>Current: -5.20e-07 A<br>Voltage: -1.76e-06 V",
          "K2<br>Current: -5.60e-07 A<br>Voltage: -1.99e-06 V",
          "K2<br>Current: -6.00e-07 A<br>Voltage: -2.18e-06 V",
          "K2<br>Current: -6.40e-07 A<br>Voltage: -2.37e-06 V",
          "K2<br>Current: -6.80e-07 A<br>Voltage: -2.56e-06 V",
          "K2<br>Current: -7.20e-07 A<br>Voltage: -2.75e-06 V",
          "K2<br>Current: -7.60e-07 A<br>Voltage: -2.96e-06 V",
          "K2<br>Current: -8.00e-07 A<br>Voltage: -3.12e-06 V",
          "K2<br>Current: -8.40e-07 A<br>Voltage: -3.33e-06 V",
          "K2<br>Current: -8.80e-07 A<br>Voltage: -3.49e-06 V",
          "K2<br>Current: -9.20e-07 A<br>Voltage: -3.71e-06 V",
          "K2<br>Current: -9.60e-07 A<br>Voltage: -3.92e-06 V",
          "K2<br>Current: -1.00e-06 A<br>Voltage: -4.09e-06 V",
          "K2<br>Current: -1.04e-06 A<br>Voltage: -4.27e-06 V",
          "K2<br>Current: -1.08e-06 A<br>Voltage: -4.47e-06 V",
          "K2<br>Current: -1.12e-06 A<br>Voltage: -4.67e-06 V",
          "K2<br>Current: -1.16e-06 A<br>Voltage: -4.85e-06 V",
          "K2<br>Current: -1.20e-06 A<br>Voltage: -5.04e-06 V",
          "K2<br>Current: -1.24e-06 A<br>Voltage: -5.19e-06 V",
          "K2<br>Current: -1.28e-06 A<br>Voltage: -5.40e-06 V",
          "K2<br>Current: -1.32e-06 A<br>Voltage: -5.56e-06 V",
          "K2<br>Current: -1.36e-06 A<br>Voltage: -5.75e-06 V",
          "K2<br>Current: -1.40e-06 A<br>Voltage: -5.94e-06 V",
          "K2<br>Current: -1.44e-06 A<br>Voltage: -6.13e-06 V",
          "K2<br>Current: -1.48e-06 A<br>Voltage: -6.32e-06 V",
          "K2<br>Current: -1.52e-06 A<br>Voltage: -6.53e-06 V",
          "K2<br>Current: -1.56e-06 A<br>Voltage: -6.73e-06 V",
          "K2<br>Current: -1.60e-06 A<br>Voltage: -6.93e-06 V",
          "K2<br>Current: -1.64e-06 A<br>Voltage: -7.08e-06 V",
          "K2<br>Current: -1.68e-06 A<br>Voltage: -7.27e-06 V",
          "K2<br>Current: -1.72e-06 A<br>Voltage: -7.45e-06 V",
          "K2<br>Current: -1.76e-06 A<br>Voltage: -7.59e-06 V",
          "K2<br>Current: -1.80e-06 A<br>Voltage: -7.82e-06 V",
          "K2<br>Current: -1.84e-06 A<br>Voltage: -3.23e-05 V",
          "K2<br>Current: -1.88e-06 A<br>Voltage: -3.34e-05 V",
          "K2<br>Current: -1.92e-06 A<br>Voltage: -3.46e-05 V",
          "K2<br>Current: -1.96e-06 A<br>Voltage: -3.57e-05 V",
          "K2<br>Current: -2.00e-06 A<br>Voltage: -3.69e-05 V"
         ],
         "mode": "lines",
         "name": "dV/dI",
         "type": "scatter",
         "x": [
          0.000002,
          0.00000196,
          0.00000192,
          0.00000188,
          0.00000184,
          0.0000018,
          0.00000176,
          0.00000172,
          0.00000168,
          0.00000164,
          0.0000016,
          0.00000156,
          0.00000152,
          0.00000148,
          0.00000144,
          0.0000014,
          0.00000136,
          0.00000132,
          0.00000128,
          0.00000124,
          0.0000012,
          0.00000116,
          0.00000112,
          0.00000108,
          0.00000104,
          0.000001,
          9.6e-7,
          9.2e-7,
          8.8e-7,
          8.4e-7,
          8e-7,
          7.6e-7,
          7.2e-7,
          6.8e-7,
          6.4e-7,
          6e-7,
          5.6e-7,
          5.2e-7,
          4.8e-7,
          4.4e-7,
          4e-7,
          3.6e-7,
          3.2e-7,
          2.8e-7,
          2.4e-7,
          2e-7,
          1.6e-7,
          1.2e-7,
          7.99999999999997e-8,
          4e-8,
          0,
          -4e-8,
          -8.00000000000001e-8,
          -1.2e-7,
          -1.6e-7,
          -2e-7,
          -2.4e-7,
          -2.8e-7,
          -3.2e-7,
          -3.6e-7,
          -4e-7,
          -4.4e-7,
          -4.8e-7,
          -5.2e-7,
          -5.6e-7,
          -6e-7,
          -6.4e-7,
          -6.8e-7,
          -7.2e-7,
          -7.6e-7,
          -8e-7,
          -8.4e-7,
          -8.8e-7,
          -9.2e-7,
          -9.6e-7,
          -0.000001,
          -0.00000104,
          -0.00000108,
          -0.00000112,
          -0.00000116,
          -0.0000012,
          -0.00000124,
          -0.00000128,
          -0.00000132,
          -0.00000136,
          -0.0000014,
          -0.00000144,
          -0.00000148,
          -0.00000152,
          -0.00000156,
          -0.0000016,
          -0.00000164,
          -0.00000168,
          -0.00000172,
          -0.00000176,
          -0.0000018,
          -0.00000184,
          -0.00000188,
          -0.00000192,
          -0.00000196,
          -0.000002
         ],
         "y": [
          26.640499999999978,
          26.71175000000005,
          27.57750000000011,
          28.663749999999887,
          26.78574999999997,
          28.24500000000022,
          28.523999999999937,
          28.430249999999987,
          28.415249999999954,
          29.149499999999986,
          34.144000000000155,
          31.007499999999943,
          30.837499999999995,
          32.12299999999996,
          33.01499999999994,
          34.048999999999936,
          36.23425000000019,
          290.7842999999997,
          0.9070250000000118,
          11.398099999999987,
          4.202149999999979,
          5.093400000000032,
          4.225999999999991,
          5.346099999999993,
          4.734074999999992,
          4.5925499999999975,
          4.456950000000015,
          4.963524999999996,
          4.585850000000003,
          4.854749999999993,
          5.583675000000016,
          4.512074999999994,
          4.078124999999991,
          4.3858000000000095,
          5.51594999999999,
          4.948650000000015,
          5.199349999999997,
          5.103974999999996,
          7.199625000000007,
          5.733124999999992,
          8.904575000000003,
          27.030365000000007,
          0.2972550000000006,
          -0.4913274999999999,
          0.16725250000000025,
          0.5777450000000006,
          0.25795499999999955,
          -0.5460824999999959,
          0.5539050000000045,
          -0.3799475000000009,
          0.10430000000000048,
          -0.0044699999999994995,
          -0.02942750000000082,
          0.3061924999999996,
          -0.5623799999999989,
          0.3609524999999989,
          0.4812674999999999,
          -0.38628000000000035,
          0.07524500000000103,
          -0.09387000000000033,
          0.10318249999999918,
          45.99651750000008,
          5.109299999999994,
          5.781549999999995,
          4.8093250000000065,
          4.753074999999997,
          4.797050000000012,
          4.586949999999991,
          5.462299999999992,
          3.8028500000000105,
          5.4027499999999895,
          3.885899999999995,
          5.566625000000012,
          5.284625000000009,
          4.255049999999999,
          4.511324999999995,
          5.063750000000002,
          4.814174999999979,
          4.6869000000000325,
          4.681574999999983,
          3.77117500000001,
          5.284999999999979,
          3.935825000000013,
          4.7378000000000196,
          4.810074999999993,
          4.749374999999991,
          4.602825000000001,
          5.185199999999998,
          5.133774999999992,
          4.880475000000014,
          3.9369250000000005,
          4.654749999999999,
          4.545974999999988,
          3.361049999999992,
          5.9658750000000165,
          612.0732749999994,
          28.484250000000035,
          29.275500000000147,
          27.8187499999999,
          28.55624999999999
         ],
         "yaxis": "y2"
        },
        {
         "marker": {
          "color": "red",
          "size": 10,
          "symbol": "star"
         },
         "mode": "markers",
         "name": "Positive Peak",
         "type": "scatter",
         "x": [
          3.6e-7
         ],
         "y": [
          14.165845234374983
         ],
         "yaxis": "y2"
        },
        {
         "marker": {
          "color": "green",
          "size": 10,
          "symbol": "star"
         },
         "mode": "markers",
         "name": "Negative Peak",
         "type": "scatter",
         "x": [
          -4.8e-7
         ],
         "y": [
          20.009892890625
         ],
         "yaxis": "y2"
        },
        {
         "line": {
          "dash": "dash"
         },
         "mode": "lines",
         "name": "Peak0",
         "type": "scatter",
         "x": [
          -4.8e-7,
          -4.8e-7
         ],
         "y": [
          -0.5623799999999989,
          612.0732749999994
         ],
         "yaxis": "y2"
        },
        {
         "line": {
          "dash": "dash"
         },
         "mode": "lines",
         "name": "Peak1",
         "type": "scatter",
         "x": [
          3.6e-7,
          3.6e-7
         ],
         "y": [
          -0.5623799999999989,
          612.0732749999994
         ],
         "yaxis": "y2"
        },
        {
         "mode": "lines",
         "name": "filtered_dV/dI (smoothed)",
         "type": "scatter",
         "x": [
          0.00000124,
          0.0000012,
          0.00000116,
          0.00000112,
          0.00000108,
          0.00000104,
          0.000001,
          9.6e-7,
          9.2e-7,
          8.8e-7,
          8.4e-7,
          8e-7,
          7.6e-7,
          7.2e-7,
          6.8e-7,
          6.4e-7,
          6e-7,
          5.6e-7,
          5.2e-7,
          4.8e-7,
          4.4e-7,
          4e-7,
          3.6e-7,
          3.2e-7,
          2.8e-7,
          2.4e-7,
          2e-7,
          1.6e-7,
          1.2e-7,
          7.99999999999997e-8,
          4e-8,
          0,
          -4e-8,
          -8.00000000000001e-8,
          -1.2e-7,
          -1.6e-7,
          -2e-7,
          -2.4e-7,
          -2.8e-7,
          -3.2e-7,
          -3.6e-7,
          -4e-7,
          -4.4e-7,
          -4.8e-7,
          -5.2e-7,
          -5.6e-7,
          -6e-7,
          -6.4e-7,
          -6.8e-7,
          -7.2e-7,
          -7.6e-7,
          -8e-7,
          -8.4e-7,
          -8.8e-7,
          -9.2e-7,
          -9.6e-7,
          -0.000001,
          -0.00000104,
          -0.00000108,
          -0.00000112,
          -0.00000116,
          -0.0000012,
          -0.00000124,
          -0.00000128,
          -0.00000132,
          -0.00000136,
          -0.0000014,
          -0.00000144,
          -0.00000148,
          -0.00000152,
          -0.00000156,
          -0.0000016,
          -0.00000164,
          -0.00000168,
          -0.00000172,
          -0.00000176,
          -0.0000018
         ],
         "y": [
          1.889027976190491,
          8.061519047619043,
          7.728444047619046,
          4.071063281249999,
          4.914794531249995,
          4.813778124999981,
          4.780383593749993,
          4.583792187499997,
          4.6415007812499995,
          4.6639289062499945,
          5.0065789062499935,
          5.056925781249998,
          4.898880468749993,
          4.429894531249996,
          4.380196874999989,
          4.777317187499996,
          5.160154687499998,
          5.0424749999999925,
          5.466581249999997,
          5.706589062499989,
          4.892615781249992,
          12.47058249999999,
          14.165845234374983,
          11.535094999999988,
          4.987734140624992,
          -2.4884018749999988,
          0.2516514062499996,
          0.2246517968750002,
          0.15944078125000233,
          -0.08769414062499718,
          -0.055170078124997524,
          0.07077515625000054,
          -0.13274867187500028,
          0.16542687499999975,
          -0.06382898437500008,
          -0.06824898437500011,
          0.13569414062499993,
          0.07255335937499957,
          0.19256195312499946,
          -0.07540757812499964,
          -4.426204296875006,
          9.638907109375012,
          17.83543828125001,
          20.009892890625,
          14.74257265624999,
          1.3670757031249847,
          4.990945312499997,
          4.582621093749998,
          4.94622187499999,
          4.697588281249994,
          4.845651562499989,
          4.545121093749991,
          4.525292187499993,
          5.127132031249995,
          4.920607031250001,
          4.942899999999998,
          4.577897656249994,
          4.639715624999984,
          4.878524999999994,
          4.918208593749994,
          4.4210281249999985,
          4.530821874999994,
          4.397556249999984,
          4.42930546875,
          4.66210546875,
          4.553357031250002,
          4.772959374999991,
          4.768081249999987,
          4.923959374999989,
          5.129746874999993,
          4.882910937499995,
          4.535467187499998,
          4.4875242187499955,
          4.029858593749985,
          3.906530555555543,
          4.206049007936502,
          5.6918198412698615
         ],
         "yaxis": "y2"
        }
       ],
       "layout": {
        "annotations": [
         {
          "align": "left",
          "font": {
           "size": 12
          },
          "showarrow": false,
          "text": "2024-07-02 22:10:02<br>101 pt, 12 sec",
          "x": 0.01,
          "xref": "paper",
          "y": 0.99,
          "yref": "paper"
         },
         {
          "align": "right",
          "font": {
           "size": 12
          },
          "showarrow": false,
          "text": "Step size: -40.0 nA",
          "x": 0.99,
          "xref": "paper",
          "y": 0.01,
          "yref": "paper"
         },
         {
          "arrowhead": 1,
          "ax": -40,
          "ay": 0,
          "showarrow": true,
          "text": "0σ",
          "x": 0.01,
          "xref": "paper",
          "y": 0.0000027724163089108905
         },
         {
          "arrowhead": 1,
          "ax": -40,
          "ay": 0,
          "showarrow": true,
          "text": "0.1σ",
          "x": 0.01,
          "xref": "paper",
          "y": 0.000004243826643260499
         },
         {
          "arrowhead": 1,
          "ax": -40,
          "ay": 0,
          "showarrow": true,
          "text": "0.2σ",
          "x": 0.01,
          "xref": "paper",
          "y": 0.000005715236977610107
         },
         {
          "arrowhead": 1,
          "ax": -40,
          "ay": 0,
          "showarrow": true,
          "text": "0.5σ",
          "x": 0.01,
          "xref": "paper",
          "y": 0.000010129467980658932
         },
         {
          "arrowhead": 1,
          "ax": -40,
          "ay": 0,
          "showarrow": true,
          "text": "0σ",
          "x": 0.01,
          "xref": "paper",
          "y": 0.0000027724163089108905
         },
         {
          "arrowhead": 1,
          "ax": -40,
          "ay": 0,
          "showarrow": true,
          "text": "-0.1σ",
          "x": 0.01,
          "xref": "paper",
          "y": 0.0000013010059745612821
         },
         {
          "arrowhead": 1,
          "ax": -40,
          "ay": 0,
          "showarrow": true,
          "text": "-0.2σ",
          "x": 0.01,
          "xref": "paper",
          "y": -1.7040435978832629e-7
         },
         {
          "arrowhead": 1,
          "ax": -40,
          "ay": 0,
          "showarrow": true,
          "text": "-0.5σ",
          "x": 0.01,
          "xref": "paper",
          "y": -0.000004584635362837152
         }
        ],
        "font": {
         "size": 14
        },
        "height": 1000,
        "legend": {
         "orientation": "h",
         "x": 0.5,
         "xanchor": "center",
         "y": 1,
         "yanchor": "bottom"
        },
        "shapes": [
         {
          "line": {
           "color": "Gray",
           "dash": "dash",
           "width": 0.5
          },
          "type": "line",
          "x0": -0.000002,
          "x1": 0.000002,
          "xref": "x",
          "y0": 0.0000027724163089108905,
          "y1": 0.0000027724163089108905,
          "yref": "y"
         },
         {
          "line": {
           "color": "Gray",
           "dash": "dash",
           "width": 0.5
          },
          "type": "line",
          "x0": -0.000002,
          "x1": 0.000002,
          "xref": "x",
          "y0": 0.000004243826643260499,
          "y1": 0.000004243826643260499,
          "yref": "y"
         },
         {
          "line": {
           "color": "Gray",
           "dash": "dash",
           "width": 0.5
          },
          "type": "line",
          "x0": -0.000002,
          "x1": 0.000002,
          "xref": "x",
          "y0": 0.000005715236977610107,
          "y1": 0.000005715236977610107,
          "yref": "y"
         },
         {
          "line": {
           "color": "Gray",
           "dash": "dash",
           "width": 0.5
          },
          "type": "line",
          "x0": -0.000002,
          "x1": 0.000002,
          "xref": "x",
          "y0": 0.000010129467980658932,
          "y1": 0.000010129467980658932,
          "yref": "y"
         },
         {
          "line": {
           "color": "Gray",
           "dash": "dash",
           "width": 0.5
          },
          "type": "line",
          "x0": -0.000002,
          "x1": 0.000002,
          "xref": "x",
          "y0": 0.0000027724163089108905,
          "y1": 0.0000027724163089108905,
          "yref": "y"
         },
         {
          "line": {
           "color": "Gray",
           "dash": "dash",
           "width": 0.5
          },
          "type": "line",
          "x0": -0.000002,
          "x1": 0.000002,
          "xref": "x",
          "y0": 0.0000013010059745612821,
          "y1": 0.0000013010059745612821,
          "yref": "y"
         },
         {
          "line": {
           "color": "Gray",
           "dash": "dash",
           "width": 0.5
          },
          "type": "line",
          "x0": -0.000002,
          "x1": 0.000002,
          "xref": "x",
          "y0": -1.7040435978832629e-7,
          "y1": -1.7040435978832629e-7,
          "yref": "y"
         },
         {
          "line": {
           "color": "Gray",
           "dash": "dash",
           "width": 0.5
          },
          "type": "line",
          "x0": -0.000002,
          "x1": 0.000002,
          "xref": "x",
          "y0": -0.000004584635362837152,
          "y1": -0.000004584635362837152,
          "yref": "y"
         }
        ],
        "template": {
         "data": {
          "bar": [
           {
            "error_x": {
             "color": "#2a3f5f"
            },
            "error_y": {
             "color": "#2a3f5f"
            },
            "marker": {
             "line": {
              "color": "#E5ECF6",
              "width": 0.5
             },
             "pattern": {
              "fillmode": "overlay",
              "size": 10,
              "solidity": 0.2
             }
            },
            "type": "bar"
           }
          ],
          "barpolar": [
           {
            "marker": {
             "line": {
              "color": "#E5ECF6",
              "width": 0.5
             },
             "pattern": {
              "fillmode": "overlay",
              "size": 10,
              "solidity": 0.2
             }
            },
            "type": "barpolar"
           }
          ],
          "carpet": [
           {
            "aaxis": {
             "endlinecolor": "#2a3f5f",
             "gridcolor": "white",
             "linecolor": "white",
             "minorgridcolor": "white",
             "startlinecolor": "#2a3f5f"
            },
            "baxis": {
             "endlinecolor": "#2a3f5f",
             "gridcolor": "white",
             "linecolor": "white",
             "minorgridcolor": "white",
             "startlinecolor": "#2a3f5f"
            },
            "type": "carpet"
           }
          ],
          "choropleth": [
           {
            "colorbar": {
             "outlinewidth": 0,
             "ticks": ""
            },
            "type": "choropleth"
           }
          ],
          "contour": [
           {
            "colorbar": {
             "outlinewidth": 0,
             "ticks": ""
            },
            "colorscale": [
             [
              0,
              "#0d0887"
             ],
             [
              0.1111111111111111,
              "#46039f"
             ],
             [
              0.2222222222222222,
              "#7201a8"
             ],
             [
              0.3333333333333333,
              "#9c179e"
             ],
             [
              0.4444444444444444,
              "#bd3786"
             ],
             [
              0.5555555555555556,
              "#d8576b"
             ],
             [
              0.6666666666666666,
              "#ed7953"
             ],
             [
              0.7777777777777778,
              "#fb9f3a"
             ],
             [
              0.8888888888888888,
              "#fdca26"
             ],
             [
              1,
              "#f0f921"
             ]
            ],
            "type": "contour"
           }
          ],
          "contourcarpet": [
           {
            "colorbar": {
             "outlinewidth": 0,
             "ticks": ""
            },
            "type": "contourcarpet"
           }
          ],
          "heatmap": [
           {
            "colorbar": {
             "outlinewidth": 0,
             "ticks": ""
            },
            "colorscale": [
             [
              0,
              "#0d0887"
             ],
             [
              0.1111111111111111,
              "#46039f"
             ],
             [
              0.2222222222222222,
              "#7201a8"
             ],
             [
              0.3333333333333333,
              "#9c179e"
             ],
             [
              0.4444444444444444,
              "#bd3786"
             ],
             [
              0.5555555555555556,
              "#d8576b"
             ],
             [
              0.6666666666666666,
              "#ed7953"
             ],
             [
              0.7777777777777778,
              "#fb9f3a"
             ],
             [
              0.8888888888888888,
              "#fdca26"
             ],
             [
              1,
              "#f0f921"
             ]
            ],
            "type": "heatmap"
           }
          ],
          "heatmapgl": [
           {
            "colorbar": {
             "outlinewidth": 0,
             "ticks": ""
            },
            "colorscale": [
             [
              0,
              "#0d0887"
             ],
             [
              0.1111111111111111,
              "#46039f"
             ],
             [
              0.2222222222222222,
              "#7201a8"
             ],
             [
              0.3333333333333333,
              "#9c179e"
             ],
             [
              0.4444444444444444,
              "#bd3786"
             ],
             [
              0.5555555555555556,
              "#d8576b"
             ],
             [
              0.6666666666666666,
              "#ed7953"
             ],
             [
              0.7777777777777778,
              "#fb9f3a"
             ],
             [
              0.8888888888888888,
              "#fdca26"
             ],
             [
              1,
              "#f0f921"
             ]
            ],
            "type": "heatmapgl"
           }
          ],
          "histogram": [
           {
            "marker": {
             "pattern": {
              "fillmode": "overlay",
              "size": 10,
              "solidity": 0.2
             }
            },
            "type": "histogram"
           }
          ],
          "histogram2d": [
           {
            "colorbar": {
             "outlinewidth": 0,
             "ticks": ""
            },
            "colorscale": [
             [
              0,
              "#0d0887"
             ],
             [
              0.1111111111111111,
              "#46039f"
             ],
             [
              0.2222222222222222,
              "#7201a8"
             ],
             [
              0.3333333333333333,
              "#9c179e"
             ],
             [
              0.4444444444444444,
              "#bd3786"
             ],
             [
              0.5555555555555556,
              "#d8576b"
             ],
             [
              0.6666666666666666,
              "#ed7953"
             ],
             [
              0.7777777777777778,
              "#fb9f3a"
             ],
             [
              0.8888888888888888,
              "#fdca26"
             ],
             [
              1,
              "#f0f921"
             ]
            ],
            "type": "histogram2d"
           }
          ],
          "histogram2dcontour": [
           {
            "colorbar": {
             "outlinewidth": 0,
             "ticks": ""
            },
            "colorscale": [
             [
              0,
              "#0d0887"
             ],
             [
              0.1111111111111111,
              "#46039f"
             ],
             [
              0.2222222222222222,
              "#7201a8"
             ],
             [
              0.3333333333333333,
              "#9c179e"
             ],
             [
              0.4444444444444444,
              "#bd3786"
             ],
             [
              0.5555555555555556,
              "#d8576b"
             ],
             [
              0.6666666666666666,
              "#ed7953"
             ],
             [
              0.7777777777777778,
              "#fb9f3a"
             ],
             [
              0.8888888888888888,
              "#fdca26"
             ],
             [
              1,
              "#f0f921"
             ]
            ],
            "type": "histogram2dcontour"
           }
          ],
          "mesh3d": [
           {
            "colorbar": {
             "outlinewidth": 0,
             "ticks": ""
            },
            "type": "mesh3d"
           }
          ],
          "parcoords": [
           {
            "line": {
             "colorbar": {
              "outlinewidth": 0,
              "ticks": ""
             }
            },
            "type": "parcoords"
           }
          ],
          "pie": [
           {
            "automargin": true,
            "type": "pie"
           }
          ],
          "scatter": [
           {
            "fillpattern": {
             "fillmode": "overlay",
             "size": 10,
             "solidity": 0.2
            },
            "type": "scatter"
           }
          ],
          "scatter3d": [
           {
            "line": {
             "colorbar": {
              "outlinewidth": 0,
              "ticks": ""
             }
            },
            "marker": {
             "colorbar": {
              "outlinewidth": 0,
              "ticks": ""
             }
            },
            "type": "scatter3d"
           }
          ],
          "scattercarpet": [
           {
            "marker": {
             "colorbar": {
              "outlinewidth": 0,
              "ticks": ""
             }
            },
            "type": "scattercarpet"
           }
          ],
          "scattergeo": [
           {
            "marker": {
             "colorbar": {
              "outlinewidth": 0,
              "ticks": ""
             }
            },
            "type": "scattergeo"
           }
          ],
          "scattergl": [
           {
            "marker": {
             "colorbar": {
              "outlinewidth": 0,
              "ticks": ""
             }
            },
            "type": "scattergl"
           }
          ],
          "scattermapbox": [
           {
            "marker": {
             "colorbar": {
              "outlinewidth": 0,
              "ticks": ""
             }
            },
            "type": "scattermapbox"
           }
          ],
          "scatterpolar": [
           {
            "marker": {
             "colorbar": {
              "outlinewidth": 0,
              "ticks": ""
             }
            },
            "type": "scatterpolar"
           }
          ],
          "scatterpolargl": [
           {
            "marker": {
             "colorbar": {
              "outlinewidth": 0,
              "ticks": ""
             }
            },
            "type": "scatterpolargl"
           }
          ],
          "scatterternary": [
           {
            "marker": {
             "colorbar": {
              "outlinewidth": 0,
              "ticks": ""
             }
            },
            "type": "scatterternary"
           }
          ],
          "surface": [
           {
            "colorbar": {
             "outlinewidth": 0,
             "ticks": ""
            },
            "colorscale": [
             [
              0,
              "#0d0887"
             ],
             [
              0.1111111111111111,
              "#46039f"
             ],
             [
              0.2222222222222222,
              "#7201a8"
             ],
             [
              0.3333333333333333,
              "#9c179e"
             ],
             [
              0.4444444444444444,
              "#bd3786"
             ],
             [
              0.5555555555555556,
              "#d8576b"
             ],
             [
              0.6666666666666666,
              "#ed7953"
             ],
             [
              0.7777777777777778,
              "#fb9f3a"
             ],
             [
              0.8888888888888888,
              "#fdca26"
             ],
             [
              1,
              "#f0f921"
             ]
            ],
            "type": "surface"
           }
          ],
          "table": [
           {
            "cells": {
             "fill": {
              "color": "#EBF0F8"
             },
             "line": {
              "color": "white"
             }
            },
            "header": {
             "fill": {
              "color": "#C8D4E3"
             },
             "line": {
              "color": "white"
             }
            },
            "type": "table"
           }
          ]
         },
         "layout": {
          "annotationdefaults": {
           "arrowcolor": "#2a3f5f",
           "arrowhead": 0,
           "arrowwidth": 1
          },
          "autotypenumbers": "strict",
          "coloraxis": {
           "colorbar": {
            "outlinewidth": 0,
            "ticks": ""
           }
          },
          "colorscale": {
           "diverging": [
            [
             0,
             "#8e0152"
            ],
            [
             0.1,
             "#c51b7d"
            ],
            [
             0.2,
             "#de77ae"
            ],
            [
             0.3,
             "#f1b6da"
            ],
            [
             0.4,
             "#fde0ef"
            ],
            [
             0.5,
             "#f7f7f7"
            ],
            [
             0.6,
             "#e6f5d0"
            ],
            [
             0.7,
             "#b8e186"
            ],
            [
             0.8,
             "#7fbc41"
            ],
            [
             0.9,
             "#4d9221"
            ],
            [
             1,
             "#276419"
            ]
           ],
           "sequential": [
            [
             0,
             "#0d0887"
            ],
            [
             0.1111111111111111,
             "#46039f"
            ],
            [
             0.2222222222222222,
             "#7201a8"
            ],
            [
             0.3333333333333333,
             "#9c179e"
            ],
            [
             0.4444444444444444,
             "#bd3786"
            ],
            [
             0.5555555555555556,
             "#d8576b"
            ],
            [
             0.6666666666666666,
             "#ed7953"
            ],
            [
             0.7777777777777778,
             "#fb9f3a"
            ],
            [
             0.8888888888888888,
             "#fdca26"
            ],
            [
             1,
             "#f0f921"
            ]
           ],
           "sequentialminus": [
            [
             0,
             "#0d0887"
            ],
            [
             0.1111111111111111,
             "#46039f"
            ],
            [
             0.2222222222222222,
             "#7201a8"
            ],
            [
             0.3333333333333333,
             "#9c179e"
            ],
            [
             0.4444444444444444,
             "#bd3786"
            ],
            [
             0.5555555555555556,
             "#d8576b"
            ],
            [
             0.6666666666666666,
             "#ed7953"
            ],
            [
             0.7777777777777778,
             "#fb9f3a"
            ],
            [
             0.8888888888888888,
             "#fdca26"
            ],
            [
             1,
             "#f0f921"
            ]
           ]
          },
          "colorway": [
           "#636efa",
           "#EF553B",
           "#00cc96",
           "#ab63fa",
           "#FFA15A",
           "#19d3f3",
           "#FF6692",
           "#B6E880",
           "#FF97FF",
           "#FECB52"
          ],
          "font": {
           "color": "#2a3f5f"
          },
          "geo": {
           "bgcolor": "white",
           "lakecolor": "white",
           "landcolor": "#E5ECF6",
           "showlakes": true,
           "showland": true,
           "subunitcolor": "white"
          },
          "hoverlabel": {
           "align": "left"
          },
          "hovermode": "closest",
          "mapbox": {
           "style": "light"
          },
          "paper_bgcolor": "white",
          "plot_bgcolor": "#E5ECF6",
          "polar": {
           "angularaxis": {
            "gridcolor": "white",
            "linecolor": "white",
            "ticks": ""
           },
           "bgcolor": "#E5ECF6",
           "radialaxis": {
            "gridcolor": "white",
            "linecolor": "white",
            "ticks": ""
           }
          },
          "scene": {
           "xaxis": {
            "backgroundcolor": "#E5ECF6",
            "gridcolor": "white",
            "gridwidth": 2,
            "linecolor": "white",
            "showbackground": true,
            "ticks": "",
            "zerolinecolor": "white"
           },
           "yaxis": {
            "backgroundcolor": "#E5ECF6",
            "gridcolor": "white",
            "gridwidth": 2,
            "linecolor": "white",
            "showbackground": true,
            "ticks": "",
            "zerolinecolor": "white"
           },
           "zaxis": {
            "backgroundcolor": "#E5ECF6",
            "gridcolor": "white",
            "gridwidth": 2,
            "linecolor": "white",
            "showbackground": true,
            "ticks": "",
            "zerolinecolor": "white"
           }
          },
          "shapedefaults": {
           "line": {
            "color": "#2a3f5f"
           }
          },
          "ternary": {
           "aaxis": {
            "gridcolor": "white",
            "linecolor": "white",
            "ticks": ""
           },
           "baxis": {
            "gridcolor": "white",
            "linecolor": "white",
            "ticks": ""
           },
           "bgcolor": "#E5ECF6",
           "caxis": {
            "gridcolor": "white",
            "linecolor": "white",
            "ticks": ""
           }
          },
          "title": {
           "x": 0.05
          },
          "xaxis": {
           "automargin": true,
           "gridcolor": "white",
           "linecolor": "white",
           "ticks": "",
           "title": {
            "standoff": 15
           },
           "zerolinecolor": "white",
           "zerolinewidth": 2
          },
          "yaxis": {
           "automargin": true,
           "gridcolor": "white",
           "linecolor": "white",
           "ticks": "",
           "title": {
            "standoff": 15
           },
           "zerolinecolor": "white",
           "zerolinewidth": 2
          }
         }
        },
        "title": {
         "text": "<b>#66|I vs V|</b> III03_100KOhm_89KIVb_1_2_3_4"
        },
        "width": 1200,
        "xaxis": {
         "title": {
          "text": "Applied Current (A)"
         }
        },
        "yaxis": {
         "title": {
          "text": "Measured Voltage (V)"
         }
        },
        "yaxis2": {
         "overlaying": "y",
         "side": "right",
         "title": {
          "text": "dV/dI (Ω)"
         }
        }
       }
      }
     },
     "metadata": {},
     "output_type": "display_data"
    }
   ],
   "source": [
    "dataset = qc.load_by_id(66)\n",
    "\n",
    "def _display_time(run_time):\n",
    "    total_seconds = int(run_time.total_seconds())\n",
    "\n",
    "    if total_seconds < 60:\n",
    "        display_time = f\"{total_seconds} sec\"\n",
    "    elif total_seconds < 3600:\n",
    "        minutes, seconds = divmod(total_seconds, 60)\n",
    "        display_time = f\"{minutes} min {seconds} sec\" if seconds else f\"{minutes} min\"\n",
    "    else:\n",
    "        hours, remainder = divmod(total_seconds, 3600)\n",
    "        minutes, seconds = divmod(remainder, 60)\n",
    "        display_time = f\"{hours} hr {minutes} min\" if minutes else f\"{hours} hr\"\n",
    "    return display_time \n",
    "\n",
    "# 獲取數據集信息\n",
    "run_id, exp_name, sample_name, description, start_time, completed_time, run_time, display_time = get_dataset_info(dataset)\n",
    "\n",
    "# Get parameters and auto-detect voltmeter\n",
    "parameters = dataset.get_parameters()\n",
    "voltage_param = next((p for p in parameters if p.name.startswith('meas_voltage')), None)\n",
    "\n",
    "if voltage_param is None:\n",
    "    raise ValueError(\"No voltage measurement parameter found\")\n",
    "\n",
    "voltmeter = voltage_param.name.split('_')[-1]  # e.g., 'K1' or 'K2'\n",
    "voltage_unit = voltage_param.unit\n",
    "\n",
    "# Extract data from the dataset\n",
    "data = dataset.get_parameter_data()\n",
    "appl_current = data[voltage_param.name]['appl_current']\n",
    "meas_voltage = data[voltage_param.name][voltage_param.name]\n",
    "meas_voltage_avg = np.mean(meas_voltage)\n",
    "\n",
    "# Calculate dV/dI\n",
    "dV = np.diff(meas_voltage)\n",
    "dI = np.diff(appl_current)\n",
    "dVdI = dV / dI\n",
    "\n",
    "\n",
    "# 計算 meas_voltage 的平均值和標準差\n",
    "meas_voltage_mean = np.mean(meas_voltage)\n",
    "meas_voltage_std = np.std(meas_voltage)\n",
    "\n",
    "# 計算 +-0.8 個標準差的範圍\n",
    "lower_bound = meas_voltage_mean - 0.8 * meas_voltage_std\n",
    "upper_bound = meas_voltage_mean + 0.8 * meas_voltage_std\n",
    "\n",
    "# 過濾出在這個範圍內的 appl_current 和 meas_voltage 數據\n",
    "filtered_indices = (meas_voltage >= lower_bound) & (meas_voltage <= upper_bound)\n",
    "filtered_appl_current = appl_current[filtered_indices]\n",
    "filtered_meas_voltage = meas_voltage[filtered_indices]\n",
    "\n",
    "# 計算過濾後的 dV/dI\n",
    "filtered_dVdI = np.diff(filtered_meas_voltage) / np.diff(filtered_appl_current)\n",
    "\n",
    "# 計算Savitzky-Golay平滑過濾後的 dV/dI\n",
    "filtered_dVdI_smooth = savgol_filter(filtered_dVdI, window_length=6, polyorder=3)\n",
    "\n",
    "# 對平滑過濾後的 dV/dI 數據進行峰值檢測\n",
    "filtered_dVdI_smooth_peaks, properties = find_peaks(filtered_dVdI_smooth, height=np.mean(filtered_dVdI_smooth))\n",
    "\n",
    "# 如果找到峰值，提取數值最大的兩個峰值\n",
    "if len(filtered_dVdI_smooth_peaks) > 0:\n",
    "    peak_heights = properties['peak_heights']\n",
    "    top_two_peaks_indices = np.argsort(peak_heights)[-2:]  # 取數值最大的兩個峰值索引\n",
    "    smooth_peak_indices = filtered_dVdI_smooth_peaks[top_two_peaks_indices]\n",
    "    smooth_peak_currents = filtered_appl_current[1:][smooth_peak_indices]\n",
    "    smooth_peak_dvdi = filtered_dVdI_smooth[smooth_peak_indices]\n",
    "\n",
    "    # 分辨出 >0 和 <0 的峰值\n",
    "    positive_peak_index = smooth_peak_indices[smooth_peak_currents > 0][0]\n",
    "    negative_peak_index = smooth_peak_indices[smooth_peak_currents < 0][0]\n",
    "\n",
    "    positive_peak_current = smooth_peak_currents[smooth_peak_currents > 0][0]\n",
    "    negative_peak_current = smooth_peak_currents[smooth_peak_currents < 0][0]\n",
    "\n",
    "    positive_peak_dvdi = smooth_peak_dvdi[smooth_peak_currents > 0][0]\n",
    "    negative_peak_dvdi = smooth_peak_dvdi[smooth_peak_currents < 0][0]\n",
    "\n",
    "# Ic = positive_peak_current \n",
    "# Ir = negative_peak_current \n",
    "Ic = appl_current[int(np.where(appl_current == positive_peak_current)[0][0])]\n",
    "Ir = appl_current[int(np.where(appl_current == negative_peak_current)[0][0])]\n",
    "\n",
    "\n",
    "# # Apply Savitzky-Golay filter to smooth dV/dI\n",
    "dVdI_smooth = savgol_filter(dVdI, window_length=6, polyorder=3)\n",
    "# # dVdI_smooth = dVdI \n",
    "# Auto-select appropriate units for dV/dI\n",
    "dVdI_avg, dVdI_unit = auto_select_unit(np.mean(dVdI), 'Ω')\n",
    "\n",
    "# # Find peaks for positive and negative current regions\n",
    "# positive_current_mask = appl_current[1:] > 0\n",
    "# negative_current_mask = appl_current[1:] < 0\n",
    "\n",
    "# # Find peaks in positive current region\n",
    "# positive_peaks, _ = find_peaks(dVdI_smooth[positive_current_mask], height=np.mean(dVdI_smooth[positive_current_mask]))\n",
    "# if len(positive_peaks) > 0:\n",
    "#     positive_peak_index = positive_peaks[0]  # Take the first peak\n",
    "#     positive_peak_current = appl_current[1:][positive_current_mask][positive_peak_index]\n",
    "#     positive_peak_dvdi = dVdI_smooth[positive_current_mask][positive_peak_index]\n",
    "\n",
    "# # Find peaks in negative current region\n",
    "# negative_peaks, _ = find_peaks(dVdI_smooth[negative_current_mask], height=np.mean(dVdI_smooth[negative_current_mask]))\n",
    "# if len(negative_peaks) > 0:\n",
    "#     negative_peak_index = negative_peaks[0]  # Take the first peak\n",
    "#     negative_peak_current = appl_current[1:][negative_current_mask][negative_peak_index]\n",
    "#     negative_peak_dvdi = dVdI_smooth[negative_current_mask][negative_peak_index]\n",
    "\n",
    "# Get current unit\n",
    "current_param = next(p for p in parameters if p.name == 'appl_current')\n",
    "current_unit = current_param.unit\n",
    "\n",
    "# Calculate the step size and number of points\n",
    "current_step = (appl_current[len(appl_current)-1]-appl_current[0])/(len(appl_current)-1)\n",
    "current_points = len(appl_current)\n",
    "\n",
    "# Auto-select appropriate units for step sizes\n",
    "auto_current_step, auto_current_unit = auto_select_unit(current_step, current_unit)\n",
    "\n",
    "# Create hover text\n",
    "hover_text = [f'{voltmeter}<br>Current: {i:.2e} {current_unit}<br>Voltage: {v:.2e} {voltage_unit}' for i, v in zip(appl_current, meas_voltage)]\n",
    "\n",
    "# Calculate average IV curve\n",
    "avg_current = np.mean(appl_current)\n",
    "avg_voltage = np.mean(meas_voltage)\n",
    "\n",
    "\n",
    "data = meas_voltage\n",
    "\n",
    "# 計算標準差\n",
    "std_dev = np.std(data)\n",
    "\n",
    "# 定義你想要的標準差倍數\n",
    "std_multiples = [0, 0.1, 0.2, 0.5]\n",
    "\n",
    "# 計算標準差倍數對應的值\n",
    "std_values = [meas_voltage_avg + multiple * std_dev for multiple in std_multiples] + [meas_voltage_avg - multiple * std_dev for multiple in std_multiples]\n",
    "\n",
    "# # 定義你想要的分位數\n",
    "# percentiles = [10, 20, 30, 40, 50, 60, 70, 80, 90]\n",
    "\n",
    "# # 計算分位數\n",
    "# quantiles = np.percentile(data, percentiles)\n",
    "\n",
    "# Create the traces\n",
    "# IV \n",
    "trace1 = go.Scatter(\n",
    "    x=appl_current,\n",
    "    y=meas_voltage,\n",
    "    mode='markers',\n",
    "    name='IV',\n",
    "    hovertext=hover_text,\n",
    "    hoverinfo='text'\n",
    ")\n",
    "\n",
    "trace2 = go.Scatter(\n",
    "    x=appl_current,\n",
    "    y=dVdI_smooth,\n",
    "    mode='lines',\n",
    "    name='dV/dI (smoothed)',\n",
    "    yaxis='y2',\n",
    "    hovertext=hover_text,\n",
    "    hoverinfo='text'\n",
    ")\n",
    "\n",
    "trace3 = go.Scatter(\n",
    "    x=appl_current,\n",
    "    y=dVdI,\n",
    "    mode='lines',\n",
    "    name='dV/dI',\n",
    "    yaxis='y2',\n",
    "    hovertext=hover_text,\n",
    "    hoverinfo='text'\n",
    ")\n",
    "\n",
    "# 繪製平滑過濾後的峰值\n",
    "trace4 = go.Scatter(\n",
    "    x=[positive_peak_current],\n",
    "    y=[positive_peak_dvdi],\n",
    "    mode='markers',\n",
    "    name='Positive Peak',\n",
    "    marker=dict(size=10, color='red', symbol='star'),\n",
    "    yaxis='y2'\n",
    ")\n",
    "\n",
    "trace5 = go.Scatter(\n",
    "    x=[negative_peak_current],\n",
    "    y=[negative_peak_dvdi],\n",
    "    mode='markers',\n",
    "    name='Negative Peak',\n",
    "    marker=dict(size=10, color='green', symbol='star'),\n",
    "    yaxis='y2'\n",
    ")\n",
    "\n",
    "trace6 = go.Scatter(x=[Ir, Ir], y=[min(dVdI), max(dVdI)], mode='lines', line=dict(dash='dash'), name='Peak0',yaxis='y2')\n",
    "trace7 = go.Scatter(x=[Ic, Ic], y=[min(dVdI), max(dVdI)], mode='lines', line=dict(dash='dash'), name='Peak1',yaxis='y2')\n",
    "\n",
    "#trace for filtered_dVdI_smooth\n",
    "trace8 = go.Scatter(\n",
    "    x=filtered_appl_current[1:],\n",
    "    y=filtered_dVdI_smooth,\n",
    "    mode='lines',\n",
    "    name='filtered_dV/dI (smoothed)',\n",
    "    yaxis='y2',\n",
    ")    \n",
    "    \n",
    "\n",
    "# trace4 = go.Scatter(\n",
    "#     x=appl_current,\n",
    "#     y=np.array([meas_voltage_avg]),\n",
    "#     mode='lines',\n",
    "#     name='Average Voltage',\n",
    "#     yaxis='y1',\n",
    "#     # hovertext=hover_text,\n",
    "#     # hoverinfo='text'\n",
    "# )\n",
    "\n",
    "# trace5 = go.Scatter(\n",
    "#     x=[positive_peak_current] if 'positive_peak_current' in locals() else [],\n",
    "#     y=[positive_peak_dvdi] if 'positive_peak_dvdi' in locals() else [],\n",
    "#     mode='markers',\n",
    "#     name='Positive Current Peak',\n",
    "#     marker=dict(size=10, color='red', symbol='star'),\n",
    "#     yaxis='y2'\n",
    "# )\n",
    "\n",
    "# trace6 = go.Scatter(\n",
    "#     x=[negative_peak_current] if 'negative_peak_current' in locals() else [],\n",
    "#     y=[negative_peak_dvdi] if 'negative_peak_dvdi' in locals() else [],\n",
    "#     mode='markers',\n",
    "#     name='Negative Current Peak',\n",
    "#     marker=dict(size=10, color='blue', symbol='star'),\n",
    "#     yaxis='y2'\n",
    "# )\n",
    "\n",
    "# Add average IV curve trace\n",
    "# trace7 = go.Scatter(\n",
    "#     x=appl_current,\n",
    "#     y=[avg_voltage] * len(appl_current),  # Create a list of avg_voltage with the same length as appl_current\n",
    "#     mode='lines',  # Change mode to 'lines' to draw a line\n",
    "#     name='Average IV',\n",
    "#     marker=dict(size=10, color='green', symbol='diamond'),\n",
    "#     hovertext=f'Average Current: {avg_current:.2e} {current_unit}<br>Average Voltage: {avg_voltage:.2e} {voltage_unit}',\n",
    "#     hoverinfo='text'\n",
    "# )\n",
    "\n",
    "# Update layout\n",
    "layout = go.Layout(\n",
    "    title=f'<b>#{run_id}|{exp_name}|</b> {sample_name}',\n",
    "    xaxis_title=f'Applied Current ({current_unit})',\n",
    "    yaxis_title=f'Measured Voltage ({voltage_unit})',\n",
    "    yaxis2=dict(\n",
    "        title=f'dV/dI (Ω)',\n",
    "        overlaying='y',\n",
    "        side='right'\n",
    "    ),\n",
    "    legend=dict(orientation=\"h\",\n",
    "                x=0.5, y=1,\n",
    "                xanchor=\"center\", yanchor=\"bottom\",),\n",
    "    font=dict(size=14),\n",
    "    width=1200, height=1000\n",
    ")\n",
    "\n",
    "# Create the figure\n",
    "fig = go.Figure(data=[trace1, trace2, trace3, trace4, trace5, trace6, trace7, trace8], layout=layout)\n",
    "\n",
    "# Add description as annotation\n",
    "fig.add_annotation(\n",
    "    xref='paper', yref='paper',\n",
    "    x=0.01, y=0.99,\n",
    "    text=f'{start_time}<br>{current_points} pt, {display_time}',\n",
    "    showarrow=False,\n",
    "    font=dict(size=12),\n",
    "    align='left',\n",
    ")\n",
    "\n",
    "fig.add_annotation(\n",
    "    xref='paper', yref='paper',\n",
    "    x=0.99, y=0.01,\n",
    "    text=f'Step size: {auto_current_step:.1f} {auto_current_unit}',\n",
    "    showarrow=False,\n",
    "    font=dict(size=12),\n",
    "    align='right',\n",
    ")\n",
    "\n",
    "# # 添加分位數作為水平線\n",
    "# for p, q in zip(percentiles, quantiles):\n",
    "#     fig.add_shape(\n",
    "#         type=\"line\",\n",
    "#         x0=min(appl_current), y0=q, x1=max(appl_current), y1=q,\n",
    "#         line=dict(color=\"Red\", width=2, dash=\"dash\"),\n",
    "#         xref='x', yref='y'\n",
    "#     )\n",
    "#     fig.add_annotation(\n",
    "#         x=max(appl_current), y=q,\n",
    "#         text=f'{p}th',\n",
    "#         showarrow=True,\n",
    "#         arrowhead=2,\n",
    "#         ax=40,\n",
    "#         ay=0\n",
    "#     )\n",
    "\n",
    "# 添加標準差倍數作為水平線\n",
    "for multiple, value in zip(std_multiples + [-m for m in std_multiples], std_values):\n",
    "    fig.add_shape(\n",
    "        type=\"line\",\n",
    "        x0=min(appl_current),\n",
    "        y0=value,\n",
    "        x1=max(appl_current),\n",
    "        y1=value,\n",
    "        line=dict(color=\"Gray\", width=0.5, dash=\"dash\"),\n",
    "        xref='x',\n",
    "        yref='y'\n",
    "    )\n",
    "    fig.add_annotation(\n",
    "        xref='paper',\n",
    "        x=0.01,\n",
    "        y=value,\n",
    "        text=f'{multiple}σ',\n",
    "        showarrow=True,\n",
    "        arrowhead=1,\n",
    "        ax=-40,\n",
    "        ay=0\n",
    "    )\n",
    "\n",
    "\n",
    "# Show the plot\n",
    "fig.show()"
   ]
  },
  {
   "cell_type": "code",
   "execution_count": 190,
   "metadata": {},
   "outputs": [
    {
     "data": {
      "text/plain": [
       "array([ 1,  6,  9, 11, 16, 18, 22, 24, 29, 31, 38, 44, 50])"
      ]
     },
     "execution_count": 190,
     "metadata": {},
     "output_type": "execute_result"
    }
   ],
   "source": [
    "filtered_dVdI_smooth_peaks"
   ]
  },
  {
   "cell_type": "code",
   "execution_count": 141,
   "metadata": {},
   "outputs": [
    {
     "ename": "IndexError",
     "evalue": "index 27 is out of bounds for axis 0 with size 2",
     "output_type": "error",
     "traceback": [
      "\u001b[0;31m---------------------------------------------------------------------------\u001b[0m",
      "\u001b[0;31mIndexError\u001b[0m                                Traceback (most recent call last)",
      "Cell \u001b[0;32mIn[141], line 1\u001b[0m\n\u001b[0;32m----> 1\u001b[0m \u001b[43msmooth_peak_currents\u001b[49m\u001b[43m[\u001b[49m\u001b[43mpositive_peak_index\u001b[49m\u001b[43m]\u001b[49m\n",
      "\u001b[0;31mIndexError\u001b[0m: index 27 is out of bounds for axis 0 with size 2"
     ]
    }
   ],
   "source": [
    "smooth_peak_currents[positive_peak_index]"
   ]
  },
  {
   "cell_type": "code",
   "execution_count": 166,
   "metadata": {},
   "outputs": [
    {
     "name": "stdout",
     "output_type": "stream",
     "text": [
      "[54]\n"
     ]
    }
   ],
   "source": [
    "# 找出等於 positive_peak_current 的索引\n",
    "indices = np.where(appl_current == positive_peak_current)[0]\n",
    "\n",
    "print(indices)"
   ]
  },
  {
   "cell_type": "code",
   "execution_count": 175,
   "metadata": {},
   "outputs": [
    {
     "data": {
      "text/plain": [
       "53"
      ]
     },
     "execution_count": 175,
     "metadata": {},
     "output_type": "execute_result"
    }
   ],
   "source": [
    "int(np.where(appl_current == positive_peak_current)[0][0])-1"
   ]
  },
  {
   "cell_type": "code",
   "execution_count": 167,
   "metadata": {},
   "outputs": [
    {
     "data": {
      "text/plain": [
       "array([8.e-08])"
      ]
     },
     "execution_count": 167,
     "metadata": {},
     "output_type": "execute_result"
    }
   ],
   "source": [
    "appl_current[indices]"
   ]
  },
  {
   "cell_type": "code",
   "execution_count": 177,
   "metadata": {},
   "outputs": [],
   "source": [
    "Ic = appl_current[int(np.where(appl_current == positive_peak_current)[0][0])-1]\n",
    "Ir = appl_current[int(np.where(appl_current == negative_peak_current)[0][0])+1]"
   ]
  },
  {
   "cell_type": "code",
   "execution_count": 165,
   "metadata": {},
   "outputs": [
    {
     "data": {
      "text/plain": [
       "'[6.00000000000001e-08]'"
      ]
     },
     "execution_count": 165,
     "metadata": {},
     "output_type": "execute_result"
    }
   ],
   "source": [
    "Ic"
   ]
  },
  {
   "cell_type": "code",
   "execution_count": 153,
   "metadata": {},
   "outputs": [
    {
     "data": {
      "text/plain": [
       "6.00000000000001e-08"
      ]
     },
     "execution_count": 153,
     "metadata": {},
     "output_type": "execute_result"
    }
   ],
   "source": [
    "Ic = appl_current[np.where(appl_current == positive_peak_current)[0]-1]\n",
    "Ir = appl_current[np.where(appl_current == negative_peak_current)[0]+1]\n"
   ]
  },
  {
   "cell_type": "code",
   "execution_count": 147,
   "metadata": {},
   "outputs": [
    {
     "data": {
      "text/plain": [
       "array([ 8.e-08, -8.e-08])"
      ]
     },
     "execution_count": 147,
     "metadata": {},
     "output_type": "execute_result"
    }
   ],
   "source": [
    "smooth_peak_currents"
   ]
  },
  {
   "cell_type": "code",
   "execution_count": 148,
   "metadata": {},
   "outputs": [
    {
     "data": {
      "text/plain": [
       "8.00000000000001e-08"
      ]
     },
     "execution_count": 148,
     "metadata": {},
     "output_type": "execute_result"
    }
   ],
   "source": [
    "positive_peak_current"
   ]
  },
  {
   "cell_type": "code",
   "execution_count": 120,
   "metadata": {},
   "outputs": [
    {
     "name": "stdout",
     "output_type": "stream",
     "text": [
      "37 10 -0.99999944 0.9999994 5.62296476562499 6.663937812499994\n"
     ]
    }
   ],
   "source": [
    "\n",
    "positive_peak_index = smooth_peak_indices[smooth_peak_currents > 0][0]-1\n",
    "negative_peak_index = smooth_peak_indices[smooth_peak_currents < 0][0]+1\n",
    "\n",
    "positive_peak_current = smooth_peak_currents[smooth_peak_currents > 0][0]-1\n",
    "negative_peak_current = smooth_peak_currents[smooth_peak_currents < 0][0]+1\n",
    "\n",
    "positive_peak_dvdi = smooth_peak_dvdi[smooth_peak_currents > 0][0]-1\n",
    "negative_peak_dvdi = smooth_peak_dvdi[smooth_peak_currents < 0][0]+1\n",
    "\n",
    "print(\n",
    "    positive_peak_index,\n",
    "    negative_peak_index,\n",
    "    positive_peak_current,\n",
    "    negative_peak_current, \n",
    "    positive_peak_dvdi,\n",
    "    negative_peak_dvdi\n",
    "    )"
   ]
  },
  {
   "cell_type": "code",
   "execution_count": 118,
   "metadata": {},
   "outputs": [
    {
     "data": {
      "text/plain": [
       "9"
      ]
     },
     "execution_count": 118,
     "metadata": {},
     "output_type": "execute_result"
    }
   ],
   "source": [
    "negative_peak_index"
   ]
  },
  {
   "cell_type": "code",
   "execution_count": null,
   "metadata": {},
   "outputs": [],
   "source": []
  },
  {
   "cell_type": "code",
   "execution_count": 128,
   "metadata": {},
   "outputs": [
    {
     "data": {
      "application/vnd.plotly.v1+json": {
       "config": {
        "plotlyServerURL": "https://plot.ly"
       },
       "data": [
        {
         "hoverinfo": "text",
         "hovertext": [
          "K2<br>Current: -2.00e-06 A<br>Voltage: -5.12e-06 V",
          "K2<br>Current: -1.96e-06 A<br>Voltage: -5.08e-06 V",
          "K2<br>Current: -1.92e-06 A<br>Voltage: -4.96e-06 V",
          "K2<br>Current: -1.88e-06 A<br>Voltage: -4.73e-06 V",
          "K2<br>Current: -1.84e-06 A<br>Voltage: -4.61e-06 V",
          "K2<br>Current: -1.80e-06 A<br>Voltage: -4.63e-06 V",
          "K2<br>Current: -1.76e-06 A<br>Voltage: -4.36e-06 V",
          "K2<br>Current: -1.72e-06 A<br>Voltage: -4.25e-06 V",
          "K2<br>Current: -1.68e-06 A<br>Voltage: -4.17e-06 V",
          "K2<br>Current: -1.64e-06 A<br>Voltage: -4.09e-06 V",
          "K2<br>Current: -1.60e-06 A<br>Voltage: -3.90e-06 V",
          "K2<br>Current: -1.56e-06 A<br>Voltage: -3.76e-06 V",
          "K2<br>Current: -1.52e-06 A<br>Voltage: -3.68e-06 V",
          "K2<br>Current: -1.48e-06 A<br>Voltage: -3.48e-06 V",
          "K2<br>Current: -1.44e-06 A<br>Voltage: -3.34e-06 V",
          "K2<br>Current: -1.40e-06 A<br>Voltage: -3.31e-06 V",
          "K2<br>Current: -1.36e-06 A<br>Voltage: -3.14e-06 V",
          "K2<br>Current: -1.32e-06 A<br>Voltage: -2.99e-06 V",
          "K2<br>Current: -1.28e-06 A<br>Voltage: -2.99e-06 V",
          "K2<br>Current: -1.24e-06 A<br>Voltage: -2.78e-06 V",
          "K2<br>Current: -1.20e-06 A<br>Voltage: -2.61e-06 V",
          "K2<br>Current: -1.16e-06 A<br>Voltage: -2.49e-06 V",
          "K2<br>Current: -1.12e-06 A<br>Voltage: -2.36e-06 V",
          "K2<br>Current: -1.08e-06 A<br>Voltage: -2.19e-06 V",
          "K2<br>Current: -1.04e-06 A<br>Voltage: -2.10e-06 V",
          "K2<br>Current: -1.00e-06 A<br>Voltage: -1.97e-06 V",
          "K2<br>Current: -9.60e-07 A<br>Voltage: -1.85e-06 V",
          "K2<br>Current: -9.20e-07 A<br>Voltage: -1.67e-06 V",
          "K2<br>Current: -8.80e-07 A<br>Voltage: -1.65e-06 V",
          "K2<br>Current: -8.40e-07 A<br>Voltage: -1.44e-06 V",
          "K2<br>Current: -8.00e-07 A<br>Voltage: -1.36e-06 V",
          "K2<br>Current: -7.60e-07 A<br>Voltage: -1.18e-06 V",
          "K2<br>Current: -7.20e-07 A<br>Voltage: -1.02e-06 V",
          "K2<br>Current: -6.80e-07 A<br>Voltage: -9.30e-07 V",
          "K2<br>Current: -6.40e-07 A<br>Voltage: -7.38e-07 V",
          "K2<br>Current: -6.00e-07 A<br>Voltage: -4.63e-07 V",
          "K2<br>Current: -5.60e-07 A<br>Voltage: -2.48e-07 V",
          "K2<br>Current: -5.20e-07 A<br>Voltage: -1.07e-07 V",
          "K2<br>Current: -4.80e-07 A<br>Voltage: 1.25e-07 V",
          "K2<br>Current: -4.40e-07 A<br>Voltage: 2.34e-07 V",
          "K2<br>Current: -4.00e-07 A<br>Voltage: 3.16e-07 V",
          "K2<br>Current: -3.60e-07 A<br>Voltage: 3.57e-07 V",
          "K2<br>Current: -3.20e-07 A<br>Voltage: 4.11e-07 V",
          "K2<br>Current: -2.80e-07 A<br>Voltage: 4.51e-07 V",
          "K2<br>Current: -2.40e-07 A<br>Voltage: 4.40e-07 V",
          "K2<br>Current: -2.00e-07 A<br>Voltage: 4.36e-07 V",
          "K2<br>Current: -1.60e-07 A<br>Voltage: 4.53e-07 V",
          "K2<br>Current: -1.20e-07 A<br>Voltage: 4.25e-07 V",
          "K2<br>Current: -8.00e-08 A<br>Voltage: 5.10e-07 V",
          "K2<br>Current: -4.00e-08 A<br>Voltage: 4.92e-07 V",
          "K2<br>Current: 0.00e+00 A<br>Voltage: 4.68e-07 V",
          "K2<br>Current: 4.00e-08 A<br>Voltage: 5.06e-07 V",
          "K2<br>Current: 8.00e-08 A<br>Voltage: 4.84e-07 V",
          "K2<br>Current: 1.20e-07 A<br>Voltage: 5.25e-07 V",
          "K2<br>Current: 1.60e-07 A<br>Voltage: 5.35e-07 V",
          "K2<br>Current: 2.00e-07 A<br>Voltage: 5.90e-07 V",
          "K2<br>Current: 2.40e-07 A<br>Voltage: 5.60e-07 V",
          "K2<br>Current: 2.80e-07 A<br>Voltage: 5.48e-07 V",
          "K2<br>Current: 3.20e-07 A<br>Voltage: 5.72e-07 V",
          "K2<br>Current: 3.60e-07 A<br>Voltage: 5.79e-07 V",
          "K2<br>Current: 4.00e-07 A<br>Voltage: 6.00e-07 V",
          "K2<br>Current: 4.40e-07 A<br>Voltage: 6.24e-07 V",
          "K2<br>Current: 4.80e-07 A<br>Voltage: 7.39e-07 V",
          "K2<br>Current: 5.20e-07 A<br>Voltage: 8.51e-07 V",
          "K2<br>Current: 5.60e-07 A<br>Voltage: 1.19e-06 V",
          "K2<br>Current: 6.00e-07 A<br>Voltage: 1.43e-06 V",
          "K2<br>Current: 6.40e-07 A<br>Voltage: 1.65e-06 V",
          "K2<br>Current: 6.80e-07 A<br>Voltage: 1.80e-06 V",
          "K2<br>Current: 7.20e-07 A<br>Voltage: 1.95e-06 V",
          "K2<br>Current: 7.60e-07 A<br>Voltage: 2.14e-06 V",
          "K2<br>Current: 8.00e-07 A<br>Voltage: 2.23e-06 V",
          "K2<br>Current: 8.40e-07 A<br>Voltage: 2.40e-06 V",
          "K2<br>Current: 8.80e-07 A<br>Voltage: 2.50e-06 V",
          "K2<br>Current: 9.20e-07 A<br>Voltage: 2.66e-06 V",
          "K2<br>Current: 9.60e-07 A<br>Voltage: 2.74e-06 V",
          "K2<br>Current: 1.00e-06 A<br>Voltage: 2.92e-06 V",
          "K2<br>Current: 1.04e-06 A<br>Voltage: 3.01e-06 V",
          "K2<br>Current: 1.08e-06 A<br>Voltage: 3.16e-06 V",
          "K2<br>Current: 1.12e-06 A<br>Voltage: 3.29e-06 V",
          "K2<br>Current: 1.16e-06 A<br>Voltage: 3.39e-06 V",
          "K2<br>Current: 1.20e-06 A<br>Voltage: 3.48e-06 V",
          "K2<br>Current: 1.24e-06 A<br>Voltage: 3.63e-06 V",
          "K2<br>Current: 1.28e-06 A<br>Voltage: 3.73e-06 V",
          "K2<br>Current: 1.32e-06 A<br>Voltage: 3.88e-06 V",
          "K2<br>Current: 1.36e-06 A<br>Voltage: 3.96e-06 V",
          "K2<br>Current: 1.40e-06 A<br>Voltage: 4.11e-06 V",
          "K2<br>Current: 1.44e-06 A<br>Voltage: 4.25e-06 V",
          "K2<br>Current: 1.48e-06 A<br>Voltage: 4.41e-06 V",
          "K2<br>Current: 1.52e-06 A<br>Voltage: 4.51e-06 V",
          "K2<br>Current: 1.56e-06 A<br>Voltage: 4.62e-06 V",
          "K2<br>Current: 1.60e-06 A<br>Voltage: 4.75e-06 V",
          "K2<br>Current: 1.64e-06 A<br>Voltage: 4.86e-06 V",
          "K2<br>Current: 1.68e-06 A<br>Voltage: 4.95e-06 V",
          "K2<br>Current: 1.72e-06 A<br>Voltage: 5.07e-06 V",
          "K2<br>Current: 1.76e-06 A<br>Voltage: 5.21e-06 V",
          "K2<br>Current: 1.80e-06 A<br>Voltage: 5.33e-06 V",
          "K2<br>Current: 1.84e-06 A<br>Voltage: 5.47e-06 V",
          "K2<br>Current: 1.88e-06 A<br>Voltage: 5.58e-06 V",
          "K2<br>Current: 1.92e-06 A<br>Voltage: 5.68e-06 V",
          "K2<br>Current: 1.96e-06 A<br>Voltage: 5.83e-06 V",
          "K2<br>Current: 2.00e-06 A<br>Voltage: 5.92e-06 V"
         ],
         "mode": "markers",
         "name": "IV",
         "type": "scatter",
         "x": [
          -0.000002,
          -0.00000196,
          -0.00000192,
          -0.00000188,
          -0.00000184,
          -0.0000018,
          -0.00000176,
          -0.00000172,
          -0.00000168,
          -0.00000164,
          -0.0000016,
          -0.00000156,
          -0.00000152,
          -0.00000148,
          -0.00000144,
          -0.0000014,
          -0.00000136,
          -0.00000132,
          -0.00000128,
          -0.00000124,
          -0.0000012,
          -0.00000116,
          -0.00000112,
          -0.00000108,
          -0.00000104,
          -0.000001,
          -9.6e-7,
          -9.2e-7,
          -8.8e-7,
          -8.4e-7,
          -8e-7,
          -7.6e-7,
          -7.2e-7,
          -6.8e-7,
          -6.4e-7,
          -6e-7,
          -5.6e-7,
          -5.2e-7,
          -4.8e-7,
          -4.4e-7,
          -4e-7,
          -3.6e-7,
          -3.2e-7,
          -2.8e-7,
          -2.4e-7,
          -2e-7,
          -1.6e-7,
          -1.2e-7,
          -7.99999999999997e-8,
          -4e-8,
          0,
          4e-8,
          8.00000000000001e-8,
          1.2e-7,
          1.6e-7,
          2e-7,
          2.4e-7,
          2.8e-7,
          3.2e-7,
          3.6e-7,
          4e-7,
          4.4e-7,
          4.8e-7,
          5.2e-7,
          5.6e-7,
          6e-7,
          6.4e-7,
          6.8e-7,
          7.2e-7,
          7.6e-7,
          8e-7,
          8.4e-7,
          8.8e-7,
          9.2e-7,
          9.6e-7,
          0.000001,
          0.00000104,
          0.00000108,
          0.00000112,
          0.00000116,
          0.0000012,
          0.00000124,
          0.00000128,
          0.00000132,
          0.00000136,
          0.0000014,
          0.00000144,
          0.00000148,
          0.00000152,
          0.00000156,
          0.0000016,
          0.00000164,
          0.00000168,
          0.00000172,
          0.00000176,
          0.0000018,
          0.00000184,
          0.00000188,
          0.00000192,
          0.00000196,
          0.000002
         ],
         "y": [
          -0.000005117941,
          -0.00000508461,
          -0.000004955097,
          -0.000004731946,
          -0.0000046148,
          -0.000004627062,
          -0.000004356156,
          -0.000004253328,
          -0.000004172454,
          -0.000004086956,
          -0.000003899121,
          -0.000003756629,
          -0.000003678492,
          -0.00000348145,
          -0.000003341447,
          -0.00000330877,
          -0.000003138147,
          -0.000002992689,
          -0.000002994319,
          -0.000002777922,
          -0.000002614795,
          -0.000002490198,
          -0.000002359391,
          -0.000002193655,
          -0.000002101928,
          -0.000001972872,
          -0.000001850034,
          -0.000001669252,
          -0.00000164726,
          -0.000001437442,
          -0.000001360198,
          -0.00000117572,
          -0.000001019042,
          -9.303057e-7,
          -7.379422e-7,
          -4.633047e-7,
          -2.478606e-7,
          -1.072914e-7,
          1.245282e-7,
          2.341067e-7,
          3.161927e-7,
          3.574271e-7,
          4.111221e-7,
          4.508464e-7,
          4.39909e-7,
          4.355134e-7,
          4.526023e-7,
          4.250665e-7,
          5.095374e-7,
          4.922381e-7,
          4.683743e-7,
          5.056698e-7,
          4.835673e-7,
          5.252436e-7,
          5.347095e-7,
          5.902729e-7,
          5.602502e-7,
          5.476631e-7,
          5.715334e-7,
          5.788673e-7,
          6.002642e-7,
          6.244413e-7,
          7.392336e-7,
          8.510264e-7,
          0.000001190158,
          0.000001431662,
          0.000001650369,
          0.000001803487,
          0.000001954935,
          0.000002142528,
          0.000002226059,
          0.000002399084,
          0.000002497501,
          0.000002655608,
          0.000002738682,
          0.000002920928,
          0.00000300943,
          0.000003157629,
          0.000003291046,
          0.000003386289,
          0.000003480474,
          0.000003632755,
          0.000003734702,
          0.000003880025,
          0.000003961515,
          0.000004111308,
          0.000004251659,
          0.000004407039,
          0.000004505933,
          0.000004616434,
          0.000004749216,
          0.000004860969,
          0.00000495243,
          0.000005074096,
          0.000005210092,
          0.000005331113,
          0.000005467049,
          0.000005584331,
          0.000005676668,
          0.000005827939,
          0.000005917445
         ]
        },
        {
         "hoverinfo": "text",
         "hovertext": [
          "K2<br>Current: -2.00e-06 A<br>Voltage: -5.12e-06 V",
          "K2<br>Current: -1.96e-06 A<br>Voltage: -5.08e-06 V",
          "K2<br>Current: -1.92e-06 A<br>Voltage: -4.96e-06 V",
          "K2<br>Current: -1.88e-06 A<br>Voltage: -4.73e-06 V",
          "K2<br>Current: -1.84e-06 A<br>Voltage: -4.61e-06 V",
          "K2<br>Current: -1.80e-06 A<br>Voltage: -4.63e-06 V",
          "K2<br>Current: -1.76e-06 A<br>Voltage: -4.36e-06 V",
          "K2<br>Current: -1.72e-06 A<br>Voltage: -4.25e-06 V",
          "K2<br>Current: -1.68e-06 A<br>Voltage: -4.17e-06 V",
          "K2<br>Current: -1.64e-06 A<br>Voltage: -4.09e-06 V",
          "K2<br>Current: -1.60e-06 A<br>Voltage: -3.90e-06 V",
          "K2<br>Current: -1.56e-06 A<br>Voltage: -3.76e-06 V",
          "K2<br>Current: -1.52e-06 A<br>Voltage: -3.68e-06 V",
          "K2<br>Current: -1.48e-06 A<br>Voltage: -3.48e-06 V",
          "K2<br>Current: -1.44e-06 A<br>Voltage: -3.34e-06 V",
          "K2<br>Current: -1.40e-06 A<br>Voltage: -3.31e-06 V",
          "K2<br>Current: -1.36e-06 A<br>Voltage: -3.14e-06 V",
          "K2<br>Current: -1.32e-06 A<br>Voltage: -2.99e-06 V",
          "K2<br>Current: -1.28e-06 A<br>Voltage: -2.99e-06 V",
          "K2<br>Current: -1.24e-06 A<br>Voltage: -2.78e-06 V",
          "K2<br>Current: -1.20e-06 A<br>Voltage: -2.61e-06 V",
          "K2<br>Current: -1.16e-06 A<br>Voltage: -2.49e-06 V",
          "K2<br>Current: -1.12e-06 A<br>Voltage: -2.36e-06 V",
          "K2<br>Current: -1.08e-06 A<br>Voltage: -2.19e-06 V",
          "K2<br>Current: -1.04e-06 A<br>Voltage: -2.10e-06 V",
          "K2<br>Current: -1.00e-06 A<br>Voltage: -1.97e-06 V",
          "K2<br>Current: -9.60e-07 A<br>Voltage: -1.85e-06 V",
          "K2<br>Current: -9.20e-07 A<br>Voltage: -1.67e-06 V",
          "K2<br>Current: -8.80e-07 A<br>Voltage: -1.65e-06 V",
          "K2<br>Current: -8.40e-07 A<br>Voltage: -1.44e-06 V",
          "K2<br>Current: -8.00e-07 A<br>Voltage: -1.36e-06 V",
          "K2<br>Current: -7.60e-07 A<br>Voltage: -1.18e-06 V",
          "K2<br>Current: -7.20e-07 A<br>Voltage: -1.02e-06 V",
          "K2<br>Current: -6.80e-07 A<br>Voltage: -9.30e-07 V",
          "K2<br>Current: -6.40e-07 A<br>Voltage: -7.38e-07 V",
          "K2<br>Current: -6.00e-07 A<br>Voltage: -4.63e-07 V",
          "K2<br>Current: -5.60e-07 A<br>Voltage: -2.48e-07 V",
          "K2<br>Current: -5.20e-07 A<br>Voltage: -1.07e-07 V",
          "K2<br>Current: -4.80e-07 A<br>Voltage: 1.25e-07 V",
          "K2<br>Current: -4.40e-07 A<br>Voltage: 2.34e-07 V",
          "K2<br>Current: -4.00e-07 A<br>Voltage: 3.16e-07 V",
          "K2<br>Current: -3.60e-07 A<br>Voltage: 3.57e-07 V",
          "K2<br>Current: -3.20e-07 A<br>Voltage: 4.11e-07 V",
          "K2<br>Current: -2.80e-07 A<br>Voltage: 4.51e-07 V",
          "K2<br>Current: -2.40e-07 A<br>Voltage: 4.40e-07 V",
          "K2<br>Current: -2.00e-07 A<br>Voltage: 4.36e-07 V",
          "K2<br>Current: -1.60e-07 A<br>Voltage: 4.53e-07 V",
          "K2<br>Current: -1.20e-07 A<br>Voltage: 4.25e-07 V",
          "K2<br>Current: -8.00e-08 A<br>Voltage: 5.10e-07 V",
          "K2<br>Current: -4.00e-08 A<br>Voltage: 4.92e-07 V",
          "K2<br>Current: 0.00e+00 A<br>Voltage: 4.68e-07 V",
          "K2<br>Current: 4.00e-08 A<br>Voltage: 5.06e-07 V",
          "K2<br>Current: 8.00e-08 A<br>Voltage: 4.84e-07 V",
          "K2<br>Current: 1.20e-07 A<br>Voltage: 5.25e-07 V",
          "K2<br>Current: 1.60e-07 A<br>Voltage: 5.35e-07 V",
          "K2<br>Current: 2.00e-07 A<br>Voltage: 5.90e-07 V",
          "K2<br>Current: 2.40e-07 A<br>Voltage: 5.60e-07 V",
          "K2<br>Current: 2.80e-07 A<br>Voltage: 5.48e-07 V",
          "K2<br>Current: 3.20e-07 A<br>Voltage: 5.72e-07 V",
          "K2<br>Current: 3.60e-07 A<br>Voltage: 5.79e-07 V",
          "K2<br>Current: 4.00e-07 A<br>Voltage: 6.00e-07 V",
          "K2<br>Current: 4.40e-07 A<br>Voltage: 6.24e-07 V",
          "K2<br>Current: 4.80e-07 A<br>Voltage: 7.39e-07 V",
          "K2<br>Current: 5.20e-07 A<br>Voltage: 8.51e-07 V",
          "K2<br>Current: 5.60e-07 A<br>Voltage: 1.19e-06 V",
          "K2<br>Current: 6.00e-07 A<br>Voltage: 1.43e-06 V",
          "K2<br>Current: 6.40e-07 A<br>Voltage: 1.65e-06 V",
          "K2<br>Current: 6.80e-07 A<br>Voltage: 1.80e-06 V",
          "K2<br>Current: 7.20e-07 A<br>Voltage: 1.95e-06 V",
          "K2<br>Current: 7.60e-07 A<br>Voltage: 2.14e-06 V",
          "K2<br>Current: 8.00e-07 A<br>Voltage: 2.23e-06 V",
          "K2<br>Current: 8.40e-07 A<br>Voltage: 2.40e-06 V",
          "K2<br>Current: 8.80e-07 A<br>Voltage: 2.50e-06 V",
          "K2<br>Current: 9.20e-07 A<br>Voltage: 2.66e-06 V",
          "K2<br>Current: 9.60e-07 A<br>Voltage: 2.74e-06 V",
          "K2<br>Current: 1.00e-06 A<br>Voltage: 2.92e-06 V",
          "K2<br>Current: 1.04e-06 A<br>Voltage: 3.01e-06 V",
          "K2<br>Current: 1.08e-06 A<br>Voltage: 3.16e-06 V",
          "K2<br>Current: 1.12e-06 A<br>Voltage: 3.29e-06 V",
          "K2<br>Current: 1.16e-06 A<br>Voltage: 3.39e-06 V",
          "K2<br>Current: 1.20e-06 A<br>Voltage: 3.48e-06 V",
          "K2<br>Current: 1.24e-06 A<br>Voltage: 3.63e-06 V",
          "K2<br>Current: 1.28e-06 A<br>Voltage: 3.73e-06 V",
          "K2<br>Current: 1.32e-06 A<br>Voltage: 3.88e-06 V",
          "K2<br>Current: 1.36e-06 A<br>Voltage: 3.96e-06 V",
          "K2<br>Current: 1.40e-06 A<br>Voltage: 4.11e-06 V",
          "K2<br>Current: 1.44e-06 A<br>Voltage: 4.25e-06 V",
          "K2<br>Current: 1.48e-06 A<br>Voltage: 4.41e-06 V",
          "K2<br>Current: 1.52e-06 A<br>Voltage: 4.51e-06 V",
          "K2<br>Current: 1.56e-06 A<br>Voltage: 4.62e-06 V",
          "K2<br>Current: 1.60e-06 A<br>Voltage: 4.75e-06 V",
          "K2<br>Current: 1.64e-06 A<br>Voltage: 4.86e-06 V",
          "K2<br>Current: 1.68e-06 A<br>Voltage: 4.95e-06 V",
          "K2<br>Current: 1.72e-06 A<br>Voltage: 5.07e-06 V",
          "K2<br>Current: 1.76e-06 A<br>Voltage: 5.21e-06 V",
          "K2<br>Current: 1.80e-06 A<br>Voltage: 5.33e-06 V",
          "K2<br>Current: 1.84e-06 A<br>Voltage: 5.47e-06 V",
          "K2<br>Current: 1.88e-06 A<br>Voltage: 5.58e-06 V",
          "K2<br>Current: 1.92e-06 A<br>Voltage: 5.68e-06 V",
          "K2<br>Current: 1.96e-06 A<br>Voltage: 5.83e-06 V",
          "K2<br>Current: 2.00e-06 A<br>Voltage: 5.92e-06 V"
         ],
         "mode": "lines",
         "name": "dV/dI (smoothed)",
         "type": "scatter",
         "x": [
          -0.000002,
          -0.00000196,
          -0.00000192,
          -0.00000188,
          -0.00000184,
          -0.0000018,
          -0.00000176,
          -0.00000172,
          -0.00000168,
          -0.00000164,
          -0.0000016,
          -0.00000156,
          -0.00000152,
          -0.00000148,
          -0.00000144,
          -0.0000014,
          -0.00000136,
          -0.00000132,
          -0.00000128,
          -0.00000124,
          -0.0000012,
          -0.00000116,
          -0.00000112,
          -0.00000108,
          -0.00000104,
          -0.000001,
          -9.6e-7,
          -9.2e-7,
          -8.8e-7,
          -8.4e-7,
          -8e-7,
          -7.6e-7,
          -7.2e-7,
          -6.8e-7,
          -6.4e-7,
          -6e-7,
          -5.6e-7,
          -5.2e-7,
          -4.8e-7,
          -4.4e-7,
          -4e-7,
          -3.6e-7,
          -3.2e-7,
          -2.8e-7,
          -2.4e-7,
          -2e-7,
          -1.6e-7,
          -1.2e-7,
          -7.99999999999997e-8,
          -4e-8,
          0,
          4e-8,
          8.00000000000001e-8,
          1.2e-7,
          1.6e-7,
          2e-7,
          2.4e-7,
          2.8e-7,
          3.2e-7,
          3.6e-7,
          4e-7,
          4.4e-7,
          4.8e-7,
          5.2e-7,
          5.6e-7,
          6e-7,
          6.4e-7,
          6.8e-7,
          7.2e-7,
          7.6e-7,
          8e-7,
          8.4e-7,
          8.8e-7,
          9.2e-7,
          9.6e-7,
          0.000001,
          0.00000104,
          0.00000108,
          0.00000112,
          0.00000116,
          0.0000012,
          0.00000124,
          0.00000128,
          0.00000132,
          0.00000136,
          0.0000014,
          0.00000144,
          0.00000148,
          0.00000152,
          0.00000156,
          0.0000016,
          0.00000164,
          0.00000168,
          0.00000172,
          0.00000176,
          0.0000018,
          0.00000184,
          0.00000188,
          0.00000192,
          0.00000196,
          0.000002
         ],
         "y": [
          1.2518253968253765,
          3.7594765873015854,
          4.228489682539687,
          4.546531249999998,
          1.0914234375000031,
          -2.521928124999991,
          2.3659968749999942,
          1.5155249999999911,
          6.726139062500005,
          5.516081250000018,
          3.1601906250000233,
          6.939439062499996,
          3.2800203124999845,
          5.61851874999999,
          0.8977296874999892,
          2.4371140624999854,
          4.6311015624999765,
          5.230266406249979,
          7.332333593749983,
          3.476948906249999,
          5.971223593749999,
          7.527005156249993,
          4.779236249999992,
          4.805359531249985,
          3.308502968749991,
          5.362863906249996,
          4.9882610937499985,
          2.452199687500003,
          0.48151390625000073,
          -0.4508290625000019,
          1.0740810937499965,
          0.7244440624999973,
          0.8621796874999978,
          -0.6099395312499992,
          0.7495770312499979,
          -0.0034382812500016735,
          -0.03172703124999943,
          -0.19514749999999817,
          -0.434181406249997,
          0.8046662499999999,
          0.6467667187499995,
          0.9139253124999993,
          0.2965399999999983,
          0.521699531250001,
          0.8972104687500041,
          2.2550723906249988,
          0.9548090937499834,
          0.3410074218749766,
          -0.9186749687500173,
          0.0816029218749953,
          1.3392611875000036,
          0.07659681250000305,
          -0.23163110937499737,
          -1.6221577968749972,
          -0.40386896875000133,
          1.1280720156249986,
          1.0936383124999987,
          0.19973440624999927,
          -0.18192384375000004,
          -0.44423962500000036,
          0.6790829218749983,
          -0.850041343749999,
          -1.7279740312499958,
          -1.3417054062499958,
          -0.6266529374999972,
          1.4594182031249985,
          0.5256567499999987,
          0.5656547656249997,
          0.41129668750000015,
          0.412552453125,
          0.9289421562499971,
          3.5226502343750012,
          5.6501160625,
          5.402047109374999,
          3.935389093749995,
          3.2326048124999853,
          6.521483124999996,
          9.282562343749998,
          6.571909531249999,
          3.5827140625000005,
          2.274801874999987,
          2.7438315625000005,
          6.148283437499996,
          5.1532826562499965,
          4.217901718749994,
          3.311160937499987,
          2.1580812499999933,
          2.654534375,
          6.0420406249999985,
          5.389420312499995,
          5.142559374999993,
          3.322401562499987,
          1.880448437499998,
          4.261604687500001,
          3.446765624999997,
          3.5633703125,
          2.3294421874999958,
          1.9798079365079349,
          2.588642460317459,
          6.063672222222211
         ],
         "yaxis": "y2"
        },
        {
         "hoverinfo": "text",
         "hovertext": [
          "K2<br>Current: -2.00e-06 A<br>Voltage: -5.12e-06 V",
          "K2<br>Current: -1.96e-06 A<br>Voltage: -5.08e-06 V",
          "K2<br>Current: -1.92e-06 A<br>Voltage: -4.96e-06 V",
          "K2<br>Current: -1.88e-06 A<br>Voltage: -4.73e-06 V",
          "K2<br>Current: -1.84e-06 A<br>Voltage: -4.61e-06 V",
          "K2<br>Current: -1.80e-06 A<br>Voltage: -4.63e-06 V",
          "K2<br>Current: -1.76e-06 A<br>Voltage: -4.36e-06 V",
          "K2<br>Current: -1.72e-06 A<br>Voltage: -4.25e-06 V",
          "K2<br>Current: -1.68e-06 A<br>Voltage: -4.17e-06 V",
          "K2<br>Current: -1.64e-06 A<br>Voltage: -4.09e-06 V",
          "K2<br>Current: -1.60e-06 A<br>Voltage: -3.90e-06 V",
          "K2<br>Current: -1.56e-06 A<br>Voltage: -3.76e-06 V",
          "K2<br>Current: -1.52e-06 A<br>Voltage: -3.68e-06 V",
          "K2<br>Current: -1.48e-06 A<br>Voltage: -3.48e-06 V",
          "K2<br>Current: -1.44e-06 A<br>Voltage: -3.34e-06 V",
          "K2<br>Current: -1.40e-06 A<br>Voltage: -3.31e-06 V",
          "K2<br>Current: -1.36e-06 A<br>Voltage: -3.14e-06 V",
          "K2<br>Current: -1.32e-06 A<br>Voltage: -2.99e-06 V",
          "K2<br>Current: -1.28e-06 A<br>Voltage: -2.99e-06 V",
          "K2<br>Current: -1.24e-06 A<br>Voltage: -2.78e-06 V",
          "K2<br>Current: -1.20e-06 A<br>Voltage: -2.61e-06 V",
          "K2<br>Current: -1.16e-06 A<br>Voltage: -2.49e-06 V",
          "K2<br>Current: -1.12e-06 A<br>Voltage: -2.36e-06 V",
          "K2<br>Current: -1.08e-06 A<br>Voltage: -2.19e-06 V",
          "K2<br>Current: -1.04e-06 A<br>Voltage: -2.10e-06 V",
          "K2<br>Current: -1.00e-06 A<br>Voltage: -1.97e-06 V",
          "K2<br>Current: -9.60e-07 A<br>Voltage: -1.85e-06 V",
          "K2<br>Current: -9.20e-07 A<br>Voltage: -1.67e-06 V",
          "K2<br>Current: -8.80e-07 A<br>Voltage: -1.65e-06 V",
          "K2<br>Current: -8.40e-07 A<br>Voltage: -1.44e-06 V",
          "K2<br>Current: -8.00e-07 A<br>Voltage: -1.36e-06 V",
          "K2<br>Current: -7.60e-07 A<br>Voltage: -1.18e-06 V",
          "K2<br>Current: -7.20e-07 A<br>Voltage: -1.02e-06 V",
          "K2<br>Current: -6.80e-07 A<br>Voltage: -9.30e-07 V",
          "K2<br>Current: -6.40e-07 A<br>Voltage: -7.38e-07 V",
          "K2<br>Current: -6.00e-07 A<br>Voltage: -4.63e-07 V",
          "K2<br>Current: -5.60e-07 A<br>Voltage: -2.48e-07 V",
          "K2<br>Current: -5.20e-07 A<br>Voltage: -1.07e-07 V",
          "K2<br>Current: -4.80e-07 A<br>Voltage: 1.25e-07 V",
          "K2<br>Current: -4.40e-07 A<br>Voltage: 2.34e-07 V",
          "K2<br>Current: -4.00e-07 A<br>Voltage: 3.16e-07 V",
          "K2<br>Current: -3.60e-07 A<br>Voltage: 3.57e-07 V",
          "K2<br>Current: -3.20e-07 A<br>Voltage: 4.11e-07 V",
          "K2<br>Current: -2.80e-07 A<br>Voltage: 4.51e-07 V",
          "K2<br>Current: -2.40e-07 A<br>Voltage: 4.40e-07 V",
          "K2<br>Current: -2.00e-07 A<br>Voltage: 4.36e-07 V",
          "K2<br>Current: -1.60e-07 A<br>Voltage: 4.53e-07 V",
          "K2<br>Current: -1.20e-07 A<br>Voltage: 4.25e-07 V",
          "K2<br>Current: -8.00e-08 A<br>Voltage: 5.10e-07 V",
          "K2<br>Current: -4.00e-08 A<br>Voltage: 4.92e-07 V",
          "K2<br>Current: 0.00e+00 A<br>Voltage: 4.68e-07 V",
          "K2<br>Current: 4.00e-08 A<br>Voltage: 5.06e-07 V",
          "K2<br>Current: 8.00e-08 A<br>Voltage: 4.84e-07 V",
          "K2<br>Current: 1.20e-07 A<br>Voltage: 5.25e-07 V",
          "K2<br>Current: 1.60e-07 A<br>Voltage: 5.35e-07 V",
          "K2<br>Current: 2.00e-07 A<br>Voltage: 5.90e-07 V",
          "K2<br>Current: 2.40e-07 A<br>Voltage: 5.60e-07 V",
          "K2<br>Current: 2.80e-07 A<br>Voltage: 5.48e-07 V",
          "K2<br>Current: 3.20e-07 A<br>Voltage: 5.72e-07 V",
          "K2<br>Current: 3.60e-07 A<br>Voltage: 5.79e-07 V",
          "K2<br>Current: 4.00e-07 A<br>Voltage: 6.00e-07 V",
          "K2<br>Current: 4.40e-07 A<br>Voltage: 6.24e-07 V",
          "K2<br>Current: 4.80e-07 A<br>Voltage: 7.39e-07 V",
          "K2<br>Current: 5.20e-07 A<br>Voltage: 8.51e-07 V",
          "K2<br>Current: 5.60e-07 A<br>Voltage: 1.19e-06 V",
          "K2<br>Current: 6.00e-07 A<br>Voltage: 1.43e-06 V",
          "K2<br>Current: 6.40e-07 A<br>Voltage: 1.65e-06 V",
          "K2<br>Current: 6.80e-07 A<br>Voltage: 1.80e-06 V",
          "K2<br>Current: 7.20e-07 A<br>Voltage: 1.95e-06 V",
          "K2<br>Current: 7.60e-07 A<br>Voltage: 2.14e-06 V",
          "K2<br>Current: 8.00e-07 A<br>Voltage: 2.23e-06 V",
          "K2<br>Current: 8.40e-07 A<br>Voltage: 2.40e-06 V",
          "K2<br>Current: 8.80e-07 A<br>Voltage: 2.50e-06 V",
          "K2<br>Current: 9.20e-07 A<br>Voltage: 2.66e-06 V",
          "K2<br>Current: 9.60e-07 A<br>Voltage: 2.74e-06 V",
          "K2<br>Current: 1.00e-06 A<br>Voltage: 2.92e-06 V",
          "K2<br>Current: 1.04e-06 A<br>Voltage: 3.01e-06 V",
          "K2<br>Current: 1.08e-06 A<br>Voltage: 3.16e-06 V",
          "K2<br>Current: 1.12e-06 A<br>Voltage: 3.29e-06 V",
          "K2<br>Current: 1.16e-06 A<br>Voltage: 3.39e-06 V",
          "K2<br>Current: 1.20e-06 A<br>Voltage: 3.48e-06 V",
          "K2<br>Current: 1.24e-06 A<br>Voltage: 3.63e-06 V",
          "K2<br>Current: 1.28e-06 A<br>Voltage: 3.73e-06 V",
          "K2<br>Current: 1.32e-06 A<br>Voltage: 3.88e-06 V",
          "K2<br>Current: 1.36e-06 A<br>Voltage: 3.96e-06 V",
          "K2<br>Current: 1.40e-06 A<br>Voltage: 4.11e-06 V",
          "K2<br>Current: 1.44e-06 A<br>Voltage: 4.25e-06 V",
          "K2<br>Current: 1.48e-06 A<br>Voltage: 4.41e-06 V",
          "K2<br>Current: 1.52e-06 A<br>Voltage: 4.51e-06 V",
          "K2<br>Current: 1.56e-06 A<br>Voltage: 4.62e-06 V",
          "K2<br>Current: 1.60e-06 A<br>Voltage: 4.75e-06 V",
          "K2<br>Current: 1.64e-06 A<br>Voltage: 4.86e-06 V",
          "K2<br>Current: 1.68e-06 A<br>Voltage: 4.95e-06 V",
          "K2<br>Current: 1.72e-06 A<br>Voltage: 5.07e-06 V",
          "K2<br>Current: 1.76e-06 A<br>Voltage: 5.21e-06 V",
          "K2<br>Current: 1.80e-06 A<br>Voltage: 5.33e-06 V",
          "K2<br>Current: 1.84e-06 A<br>Voltage: 5.47e-06 V",
          "K2<br>Current: 1.88e-06 A<br>Voltage: 5.58e-06 V",
          "K2<br>Current: 1.92e-06 A<br>Voltage: 5.68e-06 V",
          "K2<br>Current: 1.96e-06 A<br>Voltage: 5.83e-06 V",
          "K2<br>Current: 2.00e-06 A<br>Voltage: 5.92e-06 V"
         ],
         "mode": "lines",
         "name": "dV/dI",
         "type": "scatter",
         "x": [
          -0.000002,
          -0.00000196,
          -0.00000192,
          -0.00000188,
          -0.00000184,
          -0.0000018,
          -0.00000176,
          -0.00000172,
          -0.00000168,
          -0.00000164,
          -0.0000016,
          -0.00000156,
          -0.00000152,
          -0.00000148,
          -0.00000144,
          -0.0000014,
          -0.00000136,
          -0.00000132,
          -0.00000128,
          -0.00000124,
          -0.0000012,
          -0.00000116,
          -0.00000112,
          -0.00000108,
          -0.00000104,
          -0.000001,
          -9.6e-7,
          -9.2e-7,
          -8.8e-7,
          -8.4e-7,
          -8e-7,
          -7.6e-7,
          -7.2e-7,
          -6.8e-7,
          -6.4e-7,
          -6e-7,
          -5.6e-7,
          -5.2e-7,
          -4.8e-7,
          -4.4e-7,
          -4e-7,
          -3.6e-7,
          -3.2e-7,
          -2.8e-7,
          -2.4e-7,
          -2e-7,
          -1.6e-7,
          -1.2e-7,
          -7.99999999999997e-8,
          -4e-8,
          0,
          4e-8,
          8.00000000000001e-8,
          1.2e-7,
          1.6e-7,
          2e-7,
          2.4e-7,
          2.8e-7,
          3.2e-7,
          3.6e-7,
          4e-7,
          4.4e-7,
          4.8e-7,
          5.2e-7,
          5.6e-7,
          6e-7,
          6.4e-7,
          6.8e-7,
          7.2e-7,
          7.6e-7,
          8e-7,
          8.4e-7,
          8.8e-7,
          9.2e-7,
          9.6e-7,
          0.000001,
          0.00000104,
          0.00000108,
          0.00000112,
          0.00000116,
          0.0000012,
          0.00000124,
          0.00000128,
          0.00000132,
          0.00000136,
          0.0000014,
          0.00000144,
          0.00000148,
          0.00000152,
          0.00000156,
          0.0000016,
          0.00000164,
          0.00000168,
          0.00000172,
          0.00000176,
          0.0000018,
          0.00000184,
          0.00000188,
          0.00000192,
          0.00000196,
          0.000002
         ],
         "y": [
          0.8332749999999984,
          3.2378249999999946,
          5.5787750000000225,
          2.9286499999999998,
          -0.3065500000000019,
          6.772650000000028,
          2.570699999999998,
          2.0218499999999997,
          2.137450000000014,
          4.6958749999999965,
          3.5623000000000076,
          1.9534250000000009,
          4.926049999999992,
          3.5000749999999914,
          0.8169250000000023,
          4.265574999999998,
          3.636450000000011,
          -0.04075000000000249,
          5.409925000000002,
          4.078174999999993,
          3.1149250000000013,
          3.270175000000005,
          4.143399999999998,
          2.293174999999998,
          3.2264000000000026,
          3.0709499999999945,
          4.519550000000006,
          0.5497999999999996,
          5.245449999999994,
          1.9310999999999987,
          4.611950000000011,
          3.9169499999999946,
          2.2184074999999965,
          4.8090875000000075,
          6.865937499999995,
          5.386102500000008,
          3.5142299999999964,
          5.795489999999994,
          2.739462500000004,
          2.0521499999999975,
          1.0308600000000012,
          1.3423749999999999,
          0.9931075000000008,
          -0.27343499999999993,
          -0.1098899999999997,
          0.4272224999999997,
          -0.6883949999999999,
          2.1117724999999847,
          -0.43248250000000404,
          -0.5965949999999992,
          0.9323875000000008,
          -0.5525624999999996,
          1.0419075000000044,
          0.23664749999999846,
          1.3890850000000017,
          -0.7505675000000003,
          -0.3146774999999996,
          0.5967574999999986,
          0.1833475000000017,
          0.5349225000000001,
          0.6044274999999983,
          2.869807500000004,
          2.7948199999999987,
          8.478289999999989,
          6.037600000000011,
          5.467674999999997,
          3.8279500000000044,
          3.786199999999996,
          4.689824999999999,
          2.0882750000000017,
          4.325624999999993,
          2.460424999999998,
          3.952675000000001,
          2.076850000000009,
          4.556149999999999,
          2.2125499999999905,
          3.7049749999999935,
          3.3354249999999994,
          2.381075000000012,
          2.354625,
          3.8070249999999937,
          2.548674999999999,
          3.6330749999999994,
          2.0372500000000118,
          3.744824999999992,
          3.508774999999988,
          3.8845000000000094,
          2.472349999999983,
          2.762525000000004,
          3.3195500000000076,
          2.793825,
          2.2865249999999944,
          3.041650000000006,
          3.3998999999999953,
          3.0255250000000165,
          3.398399999999996,
          2.932049999999988,
          2.3084250000000184,
          3.781774999999985,
          2.2376500000000057
         ],
         "yaxis": "y2"
        },
        {
         "marker": {
          "color": "red",
          "size": 10,
          "symbol": "star"
         },
         "mode": "markers",
         "name": "Positive Peak",
         "type": "scatter",
         "x": [
          5.6e-7
         ],
         "y": [
          6.62296476562499
         ],
         "yaxis": "y2"
        },
        {
         "marker": {
          "color": "green",
          "size": 10,
          "symbol": "star"
         },
         "mode": "markers",
         "name": "Negative Peak",
         "type": "scatter",
         "x": [
          -6e-7
         ],
         "y": [
          5.663937812499994
         ],
         "yaxis": "y2"
        },
        {
         "marker": {
          "color": "purple",
          "size": 10,
          "symbol": "star"
         },
         "mode": "markers",
         "name": "Filtered Peaks",
         "type": "scatter",
         "x": [
          -8.4e-7,
          -7.6e-7,
          -6e-7,
          -4.8e-7,
          4.8e-7,
          5.6e-7,
          7.6e-7,
          8.4e-7
         ],
         "y": [
          5.245449999999994,
          4.611950000000011,
          6.865937499999995,
          5.795489999999994,
          2.869807500000004,
          8.478289999999989,
          4.689824999999999,
          4.325624999999993
         ],
         "yaxis": "y2"
        }
       ],
       "layout": {
        "annotations": [
         {
          "align": "left",
          "font": {
           "size": 12
          },
          "showarrow": false,
          "text": "2024-07-19 14:49:25<br>101 pt, 54 sec",
          "x": 0.01,
          "xref": "paper",
          "y": 0.99,
          "yref": "paper"
         },
         {
          "align": "right",
          "font": {
           "size": 12
          },
          "showarrow": false,
          "text": "Step size: 40.0 nA",
          "x": 0.99,
          "xref": "paper",
          "y": 0.01,
          "yref": "paper"
         },
         {
          "arrowhead": 1,
          "ax": -40,
          "ay": 0,
          "showarrow": true,
          "text": "0σ",
          "x": 0.01,
          "xref": "paper",
          "y": 4.43276893069307e-7
         },
         {
          "arrowhead": 1,
          "ax": -40,
          "ay": 0,
          "showarrow": true,
          "text": "0.1σ",
          "x": 0.01,
          "xref": "paper",
          "y": 7.484593483571729e-7
         },
         {
          "arrowhead": 1,
          "ax": -40,
          "ay": 0,
          "showarrow": true,
          "text": "0.2σ",
          "x": 0.01,
          "xref": "paper",
          "y": 0.0000010536418036450388
         },
         {
          "arrowhead": 1,
          "ax": -40,
          "ay": 0,
          "showarrow": true,
          "text": "0.5σ",
          "x": 0.01,
          "xref": "paper",
          "y": 0.0000019691891695086362
         },
         {
          "arrowhead": 1,
          "ax": -40,
          "ay": 0,
          "showarrow": true,
          "text": "0σ",
          "x": 0.01,
          "xref": "paper",
          "y": 4.43276893069307e-7
         },
         {
          "arrowhead": 1,
          "ax": -40,
          "ay": 0,
          "showarrow": true,
          "text": "-0.1σ",
          "x": 0.01,
          "xref": "paper",
          "y": 1.380944377814411e-7
         },
         {
          "arrowhead": 1,
          "ax": -40,
          "ay": 0,
          "showarrow": true,
          "text": "-0.2σ",
          "x": 0.01,
          "xref": "paper",
          "y": -1.670880175064248e-7
         },
         {
          "arrowhead": 1,
          "ax": -40,
          "ay": 0,
          "showarrow": true,
          "text": "-0.5σ",
          "x": 0.01,
          "xref": "paper",
          "y": -0.0000010826353833700225
         }
        ],
        "font": {
         "size": 14
        },
        "height": 1000,
        "legend": {
         "orientation": "h",
         "x": 0.5,
         "xanchor": "center",
         "y": 1,
         "yanchor": "bottom"
        },
        "shapes": [
         {
          "line": {
           "color": "Gray",
           "dash": "dash",
           "width": 0.5
          },
          "type": "line",
          "x0": -0.000002,
          "x1": 0.000002,
          "xref": "x",
          "y0": 4.43276893069307e-7,
          "y1": 4.43276893069307e-7,
          "yref": "y"
         },
         {
          "line": {
           "color": "Gray",
           "dash": "dash",
           "width": 0.5
          },
          "type": "line",
          "x0": -0.000002,
          "x1": 0.000002,
          "xref": "x",
          "y0": 7.484593483571729e-7,
          "y1": 7.484593483571729e-7,
          "yref": "y"
         },
         {
          "line": {
           "color": "Gray",
           "dash": "dash",
           "width": 0.5
          },
          "type": "line",
          "x0": -0.000002,
          "x1": 0.000002,
          "xref": "x",
          "y0": 0.0000010536418036450388,
          "y1": 0.0000010536418036450388,
          "yref": "y"
         },
         {
          "line": {
           "color": "Gray",
           "dash": "dash",
           "width": 0.5
          },
          "type": "line",
          "x0": -0.000002,
          "x1": 0.000002,
          "xref": "x",
          "y0": 0.0000019691891695086362,
          "y1": 0.0000019691891695086362,
          "yref": "y"
         },
         {
          "line": {
           "color": "Gray",
           "dash": "dash",
           "width": 0.5
          },
          "type": "line",
          "x0": -0.000002,
          "x1": 0.000002,
          "xref": "x",
          "y0": 4.43276893069307e-7,
          "y1": 4.43276893069307e-7,
          "yref": "y"
         },
         {
          "line": {
           "color": "Gray",
           "dash": "dash",
           "width": 0.5
          },
          "type": "line",
          "x0": -0.000002,
          "x1": 0.000002,
          "xref": "x",
          "y0": 1.380944377814411e-7,
          "y1": 1.380944377814411e-7,
          "yref": "y"
         },
         {
          "line": {
           "color": "Gray",
           "dash": "dash",
           "width": 0.5
          },
          "type": "line",
          "x0": -0.000002,
          "x1": 0.000002,
          "xref": "x",
          "y0": -1.670880175064248e-7,
          "y1": -1.670880175064248e-7,
          "yref": "y"
         },
         {
          "line": {
           "color": "Gray",
           "dash": "dash",
           "width": 0.5
          },
          "type": "line",
          "x0": -0.000002,
          "x1": 0.000002,
          "xref": "x",
          "y0": -0.0000010826353833700225,
          "y1": -0.0000010826353833700225,
          "yref": "y"
         }
        ],
        "template": {
         "data": {
          "bar": [
           {
            "error_x": {
             "color": "#2a3f5f"
            },
            "error_y": {
             "color": "#2a3f5f"
            },
            "marker": {
             "line": {
              "color": "#E5ECF6",
              "width": 0.5
             },
             "pattern": {
              "fillmode": "overlay",
              "size": 10,
              "solidity": 0.2
             }
            },
            "type": "bar"
           }
          ],
          "barpolar": [
           {
            "marker": {
             "line": {
              "color": "#E5ECF6",
              "width": 0.5
             },
             "pattern": {
              "fillmode": "overlay",
              "size": 10,
              "solidity": 0.2
             }
            },
            "type": "barpolar"
           }
          ],
          "carpet": [
           {
            "aaxis": {
             "endlinecolor": "#2a3f5f",
             "gridcolor": "white",
             "linecolor": "white",
             "minorgridcolor": "white",
             "startlinecolor": "#2a3f5f"
            },
            "baxis": {
             "endlinecolor": "#2a3f5f",
             "gridcolor": "white",
             "linecolor": "white",
             "minorgridcolor": "white",
             "startlinecolor": "#2a3f5f"
            },
            "type": "carpet"
           }
          ],
          "choropleth": [
           {
            "colorbar": {
             "outlinewidth": 0,
             "ticks": ""
            },
            "type": "choropleth"
           }
          ],
          "contour": [
           {
            "colorbar": {
             "outlinewidth": 0,
             "ticks": ""
            },
            "colorscale": [
             [
              0,
              "#0d0887"
             ],
             [
              0.1111111111111111,
              "#46039f"
             ],
             [
              0.2222222222222222,
              "#7201a8"
             ],
             [
              0.3333333333333333,
              "#9c179e"
             ],
             [
              0.4444444444444444,
              "#bd3786"
             ],
             [
              0.5555555555555556,
              "#d8576b"
             ],
             [
              0.6666666666666666,
              "#ed7953"
             ],
             [
              0.7777777777777778,
              "#fb9f3a"
             ],
             [
              0.8888888888888888,
              "#fdca26"
             ],
             [
              1,
              "#f0f921"
             ]
            ],
            "type": "contour"
           }
          ],
          "contourcarpet": [
           {
            "colorbar": {
             "outlinewidth": 0,
             "ticks": ""
            },
            "type": "contourcarpet"
           }
          ],
          "heatmap": [
           {
            "colorbar": {
             "outlinewidth": 0,
             "ticks": ""
            },
            "colorscale": [
             [
              0,
              "#0d0887"
             ],
             [
              0.1111111111111111,
              "#46039f"
             ],
             [
              0.2222222222222222,
              "#7201a8"
             ],
             [
              0.3333333333333333,
              "#9c179e"
             ],
             [
              0.4444444444444444,
              "#bd3786"
             ],
             [
              0.5555555555555556,
              "#d8576b"
             ],
             [
              0.6666666666666666,
              "#ed7953"
             ],
             [
              0.7777777777777778,
              "#fb9f3a"
             ],
             [
              0.8888888888888888,
              "#fdca26"
             ],
             [
              1,
              "#f0f921"
             ]
            ],
            "type": "heatmap"
           }
          ],
          "heatmapgl": [
           {
            "colorbar": {
             "outlinewidth": 0,
             "ticks": ""
            },
            "colorscale": [
             [
              0,
              "#0d0887"
             ],
             [
              0.1111111111111111,
              "#46039f"
             ],
             [
              0.2222222222222222,
              "#7201a8"
             ],
             [
              0.3333333333333333,
              "#9c179e"
             ],
             [
              0.4444444444444444,
              "#bd3786"
             ],
             [
              0.5555555555555556,
              "#d8576b"
             ],
             [
              0.6666666666666666,
              "#ed7953"
             ],
             [
              0.7777777777777778,
              "#fb9f3a"
             ],
             [
              0.8888888888888888,
              "#fdca26"
             ],
             [
              1,
              "#f0f921"
             ]
            ],
            "type": "heatmapgl"
           }
          ],
          "histogram": [
           {
            "marker": {
             "pattern": {
              "fillmode": "overlay",
              "size": 10,
              "solidity": 0.2
             }
            },
            "type": "histogram"
           }
          ],
          "histogram2d": [
           {
            "colorbar": {
             "outlinewidth": 0,
             "ticks": ""
            },
            "colorscale": [
             [
              0,
              "#0d0887"
             ],
             [
              0.1111111111111111,
              "#46039f"
             ],
             [
              0.2222222222222222,
              "#7201a8"
             ],
             [
              0.3333333333333333,
              "#9c179e"
             ],
             [
              0.4444444444444444,
              "#bd3786"
             ],
             [
              0.5555555555555556,
              "#d8576b"
             ],
             [
              0.6666666666666666,
              "#ed7953"
             ],
             [
              0.7777777777777778,
              "#fb9f3a"
             ],
             [
              0.8888888888888888,
              "#fdca26"
             ],
             [
              1,
              "#f0f921"
             ]
            ],
            "type": "histogram2d"
           }
          ],
          "histogram2dcontour": [
           {
            "colorbar": {
             "outlinewidth": 0,
             "ticks": ""
            },
            "colorscale": [
             [
              0,
              "#0d0887"
             ],
             [
              0.1111111111111111,
              "#46039f"
             ],
             [
              0.2222222222222222,
              "#7201a8"
             ],
             [
              0.3333333333333333,
              "#9c179e"
             ],
             [
              0.4444444444444444,
              "#bd3786"
             ],
             [
              0.5555555555555556,
              "#d8576b"
             ],
             [
              0.6666666666666666,
              "#ed7953"
             ],
             [
              0.7777777777777778,
              "#fb9f3a"
             ],
             [
              0.8888888888888888,
              "#fdca26"
             ],
             [
              1,
              "#f0f921"
             ]
            ],
            "type": "histogram2dcontour"
           }
          ],
          "mesh3d": [
           {
            "colorbar": {
             "outlinewidth": 0,
             "ticks": ""
            },
            "type": "mesh3d"
           }
          ],
          "parcoords": [
           {
            "line": {
             "colorbar": {
              "outlinewidth": 0,
              "ticks": ""
             }
            },
            "type": "parcoords"
           }
          ],
          "pie": [
           {
            "automargin": true,
            "type": "pie"
           }
          ],
          "scatter": [
           {
            "fillpattern": {
             "fillmode": "overlay",
             "size": 10,
             "solidity": 0.2
            },
            "type": "scatter"
           }
          ],
          "scatter3d": [
           {
            "line": {
             "colorbar": {
              "outlinewidth": 0,
              "ticks": ""
             }
            },
            "marker": {
             "colorbar": {
              "outlinewidth": 0,
              "ticks": ""
             }
            },
            "type": "scatter3d"
           }
          ],
          "scattercarpet": [
           {
            "marker": {
             "colorbar": {
              "outlinewidth": 0,
              "ticks": ""
             }
            },
            "type": "scattercarpet"
           }
          ],
          "scattergeo": [
           {
            "marker": {
             "colorbar": {
              "outlinewidth": 0,
              "ticks": ""
             }
            },
            "type": "scattergeo"
           }
          ],
          "scattergl": [
           {
            "marker": {
             "colorbar": {
              "outlinewidth": 0,
              "ticks": ""
             }
            },
            "type": "scattergl"
           }
          ],
          "scattermapbox": [
           {
            "marker": {
             "colorbar": {
              "outlinewidth": 0,
              "ticks": ""
             }
            },
            "type": "scattermapbox"
           }
          ],
          "scatterpolar": [
           {
            "marker": {
             "colorbar": {
              "outlinewidth": 0,
              "ticks": ""
             }
            },
            "type": "scatterpolar"
           }
          ],
          "scatterpolargl": [
           {
            "marker": {
             "colorbar": {
              "outlinewidth": 0,
              "ticks": ""
             }
            },
            "type": "scatterpolargl"
           }
          ],
          "scatterternary": [
           {
            "marker": {
             "colorbar": {
              "outlinewidth": 0,
              "ticks": ""
             }
            },
            "type": "scatterternary"
           }
          ],
          "surface": [
           {
            "colorbar": {
             "outlinewidth": 0,
             "ticks": ""
            },
            "colorscale": [
             [
              0,
              "#0d0887"
             ],
             [
              0.1111111111111111,
              "#46039f"
             ],
             [
              0.2222222222222222,
              "#7201a8"
             ],
             [
              0.3333333333333333,
              "#9c179e"
             ],
             [
              0.4444444444444444,
              "#bd3786"
             ],
             [
              0.5555555555555556,
              "#d8576b"
             ],
             [
              0.6666666666666666,
              "#ed7953"
             ],
             [
              0.7777777777777778,
              "#fb9f3a"
             ],
             [
              0.8888888888888888,
              "#fdca26"
             ],
             [
              1,
              "#f0f921"
             ]
            ],
            "type": "surface"
           }
          ],
          "table": [
           {
            "cells": {
             "fill": {
              "color": "#EBF0F8"
             },
             "line": {
              "color": "white"
             }
            },
            "header": {
             "fill": {
              "color": "#C8D4E3"
             },
             "line": {
              "color": "white"
             }
            },
            "type": "table"
           }
          ]
         },
         "layout": {
          "annotationdefaults": {
           "arrowcolor": "#2a3f5f",
           "arrowhead": 0,
           "arrowwidth": 1
          },
          "autotypenumbers": "strict",
          "coloraxis": {
           "colorbar": {
            "outlinewidth": 0,
            "ticks": ""
           }
          },
          "colorscale": {
           "diverging": [
            [
             0,
             "#8e0152"
            ],
            [
             0.1,
             "#c51b7d"
            ],
            [
             0.2,
             "#de77ae"
            ],
            [
             0.3,
             "#f1b6da"
            ],
            [
             0.4,
             "#fde0ef"
            ],
            [
             0.5,
             "#f7f7f7"
            ],
            [
             0.6,
             "#e6f5d0"
            ],
            [
             0.7,
             "#b8e186"
            ],
            [
             0.8,
             "#7fbc41"
            ],
            [
             0.9,
             "#4d9221"
            ],
            [
             1,
             "#276419"
            ]
           ],
           "sequential": [
            [
             0,
             "#0d0887"
            ],
            [
             0.1111111111111111,
             "#46039f"
            ],
            [
             0.2222222222222222,
             "#7201a8"
            ],
            [
             0.3333333333333333,
             "#9c179e"
            ],
            [
             0.4444444444444444,
             "#bd3786"
            ],
            [
             0.5555555555555556,
             "#d8576b"
            ],
            [
             0.6666666666666666,
             "#ed7953"
            ],
            [
             0.7777777777777778,
             "#fb9f3a"
            ],
            [
             0.8888888888888888,
             "#fdca26"
            ],
            [
             1,
             "#f0f921"
            ]
           ],
           "sequentialminus": [
            [
             0,
             "#0d0887"
            ],
            [
             0.1111111111111111,
             "#46039f"
            ],
            [
             0.2222222222222222,
             "#7201a8"
            ],
            [
             0.3333333333333333,
             "#9c179e"
            ],
            [
             0.4444444444444444,
             "#bd3786"
            ],
            [
             0.5555555555555556,
             "#d8576b"
            ],
            [
             0.6666666666666666,
             "#ed7953"
            ],
            [
             0.7777777777777778,
             "#fb9f3a"
            ],
            [
             0.8888888888888888,
             "#fdca26"
            ],
            [
             1,
             "#f0f921"
            ]
           ]
          },
          "colorway": [
           "#636efa",
           "#EF553B",
           "#00cc96",
           "#ab63fa",
           "#FFA15A",
           "#19d3f3",
           "#FF6692",
           "#B6E880",
           "#FF97FF",
           "#FECB52"
          ],
          "font": {
           "color": "#2a3f5f"
          },
          "geo": {
           "bgcolor": "white",
           "lakecolor": "white",
           "landcolor": "#E5ECF6",
           "showlakes": true,
           "showland": true,
           "subunitcolor": "white"
          },
          "hoverlabel": {
           "align": "left"
          },
          "hovermode": "closest",
          "mapbox": {
           "style": "light"
          },
          "paper_bgcolor": "white",
          "plot_bgcolor": "#E5ECF6",
          "polar": {
           "angularaxis": {
            "gridcolor": "white",
            "linecolor": "white",
            "ticks": ""
           },
           "bgcolor": "#E5ECF6",
           "radialaxis": {
            "gridcolor": "white",
            "linecolor": "white",
            "ticks": ""
           }
          },
          "scene": {
           "xaxis": {
            "backgroundcolor": "#E5ECF6",
            "gridcolor": "white",
            "gridwidth": 2,
            "linecolor": "white",
            "showbackground": true,
            "ticks": "",
            "zerolinecolor": "white"
           },
           "yaxis": {
            "backgroundcolor": "#E5ECF6",
            "gridcolor": "white",
            "gridwidth": 2,
            "linecolor": "white",
            "showbackground": true,
            "ticks": "",
            "zerolinecolor": "white"
           },
           "zaxis": {
            "backgroundcolor": "#E5ECF6",
            "gridcolor": "white",
            "gridwidth": 2,
            "linecolor": "white",
            "showbackground": true,
            "ticks": "",
            "zerolinecolor": "white"
           }
          },
          "shapedefaults": {
           "line": {
            "color": "#2a3f5f"
           }
          },
          "ternary": {
           "aaxis": {
            "gridcolor": "white",
            "linecolor": "white",
            "ticks": ""
           },
           "baxis": {
            "gridcolor": "white",
            "linecolor": "white",
            "ticks": ""
           },
           "bgcolor": "#E5ECF6",
           "caxis": {
            "gridcolor": "white",
            "linecolor": "white",
            "ticks": ""
           }
          },
          "title": {
           "x": 0.05
          },
          "xaxis": {
           "automargin": true,
           "gridcolor": "white",
           "linecolor": "white",
           "ticks": "",
           "title": {
            "standoff": 15
           },
           "zerolinecolor": "white",
           "zerolinewidth": 2
          },
          "yaxis": {
           "automargin": true,
           "gridcolor": "white",
           "linecolor": "white",
           "ticks": "",
           "title": {
            "standoff": 15
           },
           "zerolinecolor": "white",
           "zerolinewidth": 2
          }
         }
        },
        "title": {
         "text": "<b>#38|IV|</b> 106-1_08-09-45-44G_Wait0.5"
        },
        "width": 1200,
        "xaxis": {
         "title": {
          "text": "Applied Current (A)"
         }
        },
        "yaxis": {
         "title": {
          "text": "Measured Voltage (V)"
         }
        },
        "yaxis2": {
         "overlaying": "y",
         "side": "right",
         "title": {
          "text": "dV/dI (Ω)"
         }
        }
       }
      }
     },
     "metadata": {},
     "output_type": "display_data"
    }
   ],
   "source": [
    "import numpy as np\n",
    "from scipy.signal import find_peaks\n",
    "import plotly.graph_objects as go\n",
    "\n",
    "# 假設 meas_voltage 和 appl_current 已經定義\n",
    "# 計算 meas_voltage 的平均值和標準差\n",
    "meas_voltage_mean = np.mean(meas_voltage)\n",
    "meas_voltage_std = np.std(meas_voltage)\n",
    "\n",
    "# 計算 +-0.5 個標準差的範圍\n",
    "lower_bound = meas_voltage_mean - 0.7 * meas_voltage_std\n",
    "upper_bound = meas_voltage_mean + 0.7 * meas_voltage_std\n",
    "\n",
    "# 過濾出在這個範圍內的 appl_current 和 meas_voltage 數據\n",
    "filtered_indices = (meas_voltage >= lower_bound) & (meas_voltage <= upper_bound)\n",
    "filtered_appl_current = appl_current[filtered_indices]\n",
    "filtered_meas_voltage = meas_voltage[filtered_indices]\n",
    "\n",
    "# 計算過濾後的 dV/dI\n",
    "filtered_dVdI = np.diff(filtered_meas_voltage) / np.diff(filtered_appl_current)\n",
    "\n",
    "# 對過濾後的 dV/dI 數據進行峰值檢測\n",
    "filtered_peaks, _ = find_peaks(filtered_dVdI, height=np.mean(filtered_dVdI))\n",
    "\n",
    "# 計算Savitzky-Golay平滑過濾後的 dV/dI\n",
    "filtered_dVdI_smooth = savgol_filter(filtered_dVdI, window_length=6, polyorder=3)\n",
    "\n",
    "# 對平滑過濾後的 dV/dI 數據進行峰值檢測\n",
    "filtered_dVdI_smooth_peaks, _ = find_peaks(filtered_dVdI_smooth, height=np.mean(filtered_dVdI_smooth))\n",
    "\n",
    "# 如果找到峰值，提取峰值信息\n",
    "if len(filtered_peaks) > 0:\n",
    "    filtered_peak_indices = filtered_peaks\n",
    "    filtered_peak_currents = filtered_appl_current[1:][filtered_peak_indices]\n",
    "    filtered_peak_dvdi = filtered_dVdI[filtered_peak_indices]\n",
    "\n",
    "# 繪製過濾後的峰值\n",
    "trace_filtered_peaks = go.Scatter(\n",
    "    x=filtered_peak_currents,\n",
    "    y=filtered_peak_dvdi,\n",
    "    mode='markers',\n",
    "    name='Filtered Peaks',\n",
    "    marker=dict(size=10, color='purple', symbol='star'),\n",
    "    yaxis='y2'\n",
    ")\n",
    "\n",
    "# 更新圖表\n",
    "fig.add_trace(trace_filtered_peaks)\n",
    "\n",
    "# 顯示圖表"
   ]
  },
  {
   "cell_type": "code",
   "execution_count": 88,
   "metadata": {},
   "outputs": [
    {
     "data": {
      "application/vnd.plotly.v1+json": {
       "config": {
        "plotlyServerURL": "https://plot.ly"
       },
       "data": [
        {
         "hoverinfo": "text",
         "hovertext": [
          "K2<br>Current: -1.00e-06 A<br>Voltage: -2.51e-06 V",
          "K2<br>Current: -9.80e-07 A<br>Voltage: -2.48e-06 V",
          "K2<br>Current: -9.60e-07 A<br>Voltage: -2.41e-06 V",
          "K2<br>Current: -9.40e-07 A<br>Voltage: -2.32e-06 V",
          "K2<br>Current: -9.20e-07 A<br>Voltage: -2.25e-06 V",
          "K2<br>Current: -9.00e-07 A<br>Voltage: -2.19e-06 V",
          "K2<br>Current: -8.80e-07 A<br>Voltage: -2.12e-06 V",
          "K2<br>Current: -8.60e-07 A<br>Voltage: -2.27e-06 V",
          "K2<br>Current: -8.40e-07 A<br>Voltage: -2.25e-06 V",
          "K2<br>Current: -8.20e-07 A<br>Voltage: -1.92e-06 V",
          "K2<br>Current: -8.00e-07 A<br>Voltage: -2.09e-06 V",
          "K2<br>Current: -7.80e-07 A<br>Voltage: -1.82e-06 V",
          "K2<br>Current: -7.60e-07 A<br>Voltage: -1.77e-06 V",
          "K2<br>Current: -7.40e-07 A<br>Voltage: -1.67e-06 V",
          "K2<br>Current: -7.20e-07 A<br>Voltage: -1.59e-06 V",
          "K2<br>Current: -7.00e-07 A<br>Voltage: -1.50e-06 V",
          "K2<br>Current: -6.80e-07 A<br>Voltage: -1.42e-06 V",
          "K2<br>Current: -6.60e-07 A<br>Voltage: -1.55e-06 V",
          "K2<br>Current: -6.40e-07 A<br>Voltage: -1.25e-06 V",
          "K2<br>Current: -6.20e-07 A<br>Voltage: -1.15e-06 V",
          "K2<br>Current: -6.00e-07 A<br>Voltage: -1.13e-06 V",
          "K2<br>Current: -5.80e-07 A<br>Voltage: -9.73e-07 V",
          "K2<br>Current: -5.60e-07 A<br>Voltage: -8.63e-07 V",
          "K2<br>Current: -5.40e-07 A<br>Voltage: -7.04e-07 V",
          "K2<br>Current: -5.20e-07 A<br>Voltage: -6.10e-07 V",
          "K2<br>Current: -5.00e-07 A<br>Voltage: -5.88e-07 V",
          "K2<br>Current: -4.80e-07 A<br>Voltage: -4.39e-07 V",
          "K2<br>Current: -4.60e-07 A<br>Voltage: -3.89e-07 V",
          "K2<br>Current: -4.40e-07 A<br>Voltage: -2.34e-07 V",
          "K2<br>Current: -4.20e-07 A<br>Voltage: -2.63e-07 V",
          "K2<br>Current: -4.00e-07 A<br>Voltage: -2.52e-07 V",
          "K2<br>Current: -3.80e-07 A<br>Voltage: -2.79e-07 V",
          "K2<br>Current: -3.60e-07 A<br>Voltage: -2.03e-07 V",
          "K2<br>Current: -3.40e-07 A<br>Voltage: -2.15e-07 V",
          "K2<br>Current: -3.20e-07 A<br>Voltage: -2.20e-07 V",
          "K2<br>Current: -3.00e-07 A<br>Voltage: -2.04e-07 V",
          "K2<br>Current: -2.80e-07 A<br>Voltage: -2.17e-07 V",
          "K2<br>Current: -2.60e-07 A<br>Voltage: -1.76e-07 V",
          "K2<br>Current: -2.40e-07 A<br>Voltage: -2.29e-07 V",
          "K2<br>Current: -2.20e-07 A<br>Voltage: -1.99e-07 V",
          "K2<br>Current: -2.00e-07 A<br>Voltage: -2.16e-07 V",
          "K2<br>Current: -1.80e-07 A<br>Voltage: -1.98e-07 V",
          "K2<br>Current: -1.60e-07 A<br>Voltage: -1.73e-07 V",
          "K2<br>Current: -1.40e-07 A<br>Voltage: -1.59e-07 V",
          "K2<br>Current: -1.20e-07 A<br>Voltage: -1.63e-07 V",
          "K2<br>Current: -1.00e-07 A<br>Voltage: -1.52e-07 V",
          "K2<br>Current: -8.00e-08 A<br>Voltage: -1.10e-07 V",
          "K2<br>Current: -6.00e-08 A<br>Voltage: -8.63e-08 V",
          "K2<br>Current: -4.00e-08 A<br>Voltage: -3.37e-08 V",
          "K2<br>Current: -2.00e-08 A<br>Voltage: -9.99e-08 V",
          "K2<br>Current: 0.00e+00 A<br>Voltage: -6.59e-08 V",
          "K2<br>Current: 2.00e-08 A<br>Voltage: -1.01e-07 V",
          "K2<br>Current: 4.00e-08 A<br>Voltage: -1.78e-08 V",
          "K2<br>Current: 6.00e-08 A<br>Voltage: -5.30e-08 V",
          "K2<br>Current: 8.00e-08 A<br>Voltage: -8.29e-08 V",
          "K2<br>Current: 1.00e-07 A<br>Voltage: -9.21e-08 V",
          "K2<br>Current: 1.20e-07 A<br>Voltage: -9.39e-08 V",
          "K2<br>Current: 1.40e-07 A<br>Voltage: -7.42e-08 V",
          "K2<br>Current: 1.60e-07 A<br>Voltage: -2.07e-08 V",
          "K2<br>Current: 1.80e-07 A<br>Voltage: -5.66e-08 V",
          "K2<br>Current: 2.00e-07 A<br>Voltage: -7.59e-08 V",
          "K2<br>Current: 2.20e-07 A<br>Voltage: -4.54e-08 V",
          "K2<br>Current: 2.40e-07 A<br>Voltage: -5.11e-08 V",
          "K2<br>Current: 2.60e-07 A<br>Voltage: -6.21e-08 V",
          "K2<br>Current: 2.80e-07 A<br>Voltage: -1.43e-07 V",
          "K2<br>Current: 3.00e-07 A<br>Voltage: -1.25e-07 V",
          "K2<br>Current: 3.20e-07 A<br>Voltage: -1.26e-07 V",
          "K2<br>Current: 3.40e-07 A<br>Voltage: -1.15e-07 V",
          "K2<br>Current: 3.60e-07 A<br>Voltage: -6.62e-08 V",
          "K2<br>Current: 3.80e-07 A<br>Voltage: -1.01e-07 V",
          "K2<br>Current: 4.00e-07 A<br>Voltage: -7.51e-08 V",
          "K2<br>Current: 4.20e-07 A<br>Voltage: -5.32e-08 V",
          "K2<br>Current: 4.40e-07 A<br>Voltage: -2.29e-08 V",
          "K2<br>Current: 4.60e-07 A<br>Voltage: 2.18e-08 V",
          "K2<br>Current: 4.80e-07 A<br>Voltage: 2.33e-07 V",
          "K2<br>Current: 5.00e-07 A<br>Voltage: 3.00e-07 V",
          "K2<br>Current: 5.20e-07 A<br>Voltage: 3.25e-07 V",
          "K2<br>Current: 5.40e-07 A<br>Voltage: 4.17e-07 V",
          "K2<br>Current: 5.60e-07 A<br>Voltage: 6.09e-07 V",
          "K2<br>Current: 5.80e-07 A<br>Voltage: 7.79e-07 V",
          "K2<br>Current: 6.00e-07 A<br>Voltage: 9.13e-07 V",
          "K2<br>Current: 6.20e-07 A<br>Voltage: 8.82e-07 V",
          "K2<br>Current: 6.40e-07 A<br>Voltage: 9.79e-07 V",
          "K2<br>Current: 6.60e-07 A<br>Voltage: 1.06e-06 V",
          "K2<br>Current: 6.80e-07 A<br>Voltage: 1.16e-06 V",
          "K2<br>Current: 7.00e-07 A<br>Voltage: 1.31e-06 V",
          "K2<br>Current: 7.20e-07 A<br>Voltage: 1.33e-06 V",
          "K2<br>Current: 7.40e-07 A<br>Voltage: 1.39e-06 V",
          "K2<br>Current: 7.60e-07 A<br>Voltage: 1.47e-06 V",
          "K2<br>Current: 7.80e-07 A<br>Voltage: 1.51e-06 V",
          "K2<br>Current: 8.00e-07 A<br>Voltage: 1.60e-06 V",
          "K2<br>Current: 8.20e-07 A<br>Voltage: 1.85e-06 V",
          "K2<br>Current: 8.40e-07 A<br>Voltage: 1.80e-06 V",
          "K2<br>Current: 8.60e-07 A<br>Voltage: 1.89e-06 V",
          "K2<br>Current: 8.80e-07 A<br>Voltage: 1.95e-06 V",
          "K2<br>Current: 9.00e-07 A<br>Voltage: 2.04e-06 V",
          "K2<br>Current: 9.20e-07 A<br>Voltage: 2.09e-06 V",
          "K2<br>Current: 9.40e-07 A<br>Voltage: 2.17e-06 V",
          "K2<br>Current: 9.60e-07 A<br>Voltage: 2.22e-06 V",
          "K2<br>Current: 9.80e-07 A<br>Voltage: 2.25e-06 V",
          "K2<br>Current: 1.00e-06 A<br>Voltage: 2.38e-06 V"
         ],
         "mode": "markers",
         "name": "IV",
         "type": "scatter",
         "x": [
          -0.000001,
          -9.8e-7,
          -9.6e-7,
          -9.4e-7,
          -9.2e-7,
          -9e-7,
          -8.8e-7,
          -8.6e-7,
          -8.4e-7,
          -8.2e-7,
          -8e-7,
          -7.8e-7,
          -7.6e-7,
          -7.4e-7,
          -7.2e-7,
          -7e-7,
          -6.8e-7,
          -6.6e-7,
          -6.4e-7,
          -6.2e-7,
          -6e-7,
          -5.8e-7,
          -5.6e-7,
          -5.4e-7,
          -5.2e-7,
          -5e-7,
          -4.8e-7,
          -4.6e-7,
          -4.4e-7,
          -4.2e-7,
          -4e-7,
          -3.8e-7,
          -3.6e-7,
          -3.4e-7,
          -3.2e-7,
          -3e-7,
          -2.8e-7,
          -2.6e-7,
          -2.4e-7,
          -2.2e-7,
          -2e-7,
          -1.8e-7,
          -1.6e-7,
          -1.4e-7,
          -1.2e-7,
          -9.99999999999999e-8,
          -8e-8,
          -6e-8,
          -3.99999999999998e-8,
          -2e-8,
          0,
          2e-8,
          4e-8,
          6.00000000000001e-8,
          8.00000000000001e-8,
          1e-7,
          1.2e-7,
          1.4e-7,
          1.6e-7,
          1.8e-7,
          2e-7,
          2.2e-7,
          2.4e-7,
          2.6e-7,
          2.8e-7,
          3e-7,
          3.2e-7,
          3.4e-7,
          3.6e-7,
          3.8e-7,
          4e-7,
          4.2e-7,
          4.4e-7,
          4.6e-7,
          4.8e-7,
          5e-7,
          5.2e-7,
          5.4e-7,
          5.6e-7,
          5.8e-7,
          6e-7,
          6.2e-7,
          6.4e-7,
          6.6e-7,
          6.8e-7,
          7e-7,
          7.2e-7,
          7.4e-7,
          7.6e-7,
          7.8e-7,
          8e-7,
          8.2e-7,
          8.4e-7,
          8.6e-7,
          8.8e-7,
          9e-7,
          9.2e-7,
          9.4e-7,
          9.6e-7,
          9.8e-7,
          0.000001
         ],
         "y": [
          -0.000002507458,
          -0.000002482515,
          -0.000002408281,
          -0.000002318954,
          -0.000002253318,
          -0.000002186833,
          -0.000002119468,
          -0.00000226953,
          -0.000002253288,
          -0.000001918671,
          -0.000002087224,
          -0.0000018179,
          -0.000001772171,
          -0.000001674619,
          -0.000001588867,
          -0.000001499093,
          -0.000001418765,
          -0.000001545954,
          -0.0000012513,
          -0.000001147415,
          -0.000001125467,
          -9.729915e-7,
          -8.633995e-7,
          -7.039956e-7,
          -6.103172e-7,
          -5.876836e-7,
          -4.388739e-7,
          -3.891962e-7,
          -2.341433e-7,
          -2.633479e-7,
          -2.521429e-7,
          -2.786357e-7,
          -2.030612e-7,
          -2.14892e-7,
          -2.199581e-7,
          -2.043738e-7,
          -2.166964e-7,
          -1.764356e-7,
          -2.293468e-7,
          -1.988905e-7,
          -2.15996e-7,
          -1.978325e-7,
          -1.731427e-7,
          -1.589874e-7,
          -1.628912e-7,
          -1.521034e-7,
          -1.097417e-7,
          -8.63184e-8,
          -3.37351e-8,
          -9.990751e-8,
          -6.591984e-8,
          -1.014273e-7,
          -1.776194e-8,
          -5.301614e-8,
          -8.287642e-8,
          -9.208483e-8,
          -9.388777e-8,
          -7.423422e-8,
          -2.068241e-8,
          -5.660712e-8,
          -7.591796e-8,
          -4.541697e-8,
          -5.10791e-8,
          -6.213515e-8,
          -1.425821e-7,
          -1.253424e-7,
          -1.262066e-7,
          -1.149569e-7,
          -6.617314e-8,
          -1.01472e-7,
          -7.509844e-8,
          -5.318005e-8,
          -2.290256e-8,
          2.175376e-8,
          2.333982e-7,
          3.002411e-7,
          3.247819e-7,
          4.17477e-7,
          6.089314e-7,
          7.793019e-7,
          9.126003e-7,
          8.823973e-7,
          9.786237e-7,
          0.000001057298,
          0.000001160333,
          0.000001311228,
          0.000001333251,
          0.000001388338,
          0.000001470468,
          0.000001513217,
          0.000001601934,
          0.000001848669,
          0.000001797829,
          0.000001888885,
          0.000001952107,
          0.000002038708,
          0.000002091365,
          0.000002167685,
          0.000002223949,
          0.000002249801,
          0.000002379776
         ]
        },
        {
         "hoverinfo": "text",
         "hovertext": [
          "K2<br>Current: -1.00e-06 A<br>Voltage: -2.51e-06 V",
          "K2<br>Current: -9.80e-07 A<br>Voltage: -2.48e-06 V",
          "K2<br>Current: -9.60e-07 A<br>Voltage: -2.41e-06 V",
          "K2<br>Current: -9.40e-07 A<br>Voltage: -2.32e-06 V",
          "K2<br>Current: -9.20e-07 A<br>Voltage: -2.25e-06 V",
          "K2<br>Current: -9.00e-07 A<br>Voltage: -2.19e-06 V",
          "K2<br>Current: -8.80e-07 A<br>Voltage: -2.12e-06 V",
          "K2<br>Current: -8.60e-07 A<br>Voltage: -2.27e-06 V",
          "K2<br>Current: -8.40e-07 A<br>Voltage: -2.25e-06 V",
          "K2<br>Current: -8.20e-07 A<br>Voltage: -1.92e-06 V",
          "K2<br>Current: -8.00e-07 A<br>Voltage: -2.09e-06 V",
          "K2<br>Current: -7.80e-07 A<br>Voltage: -1.82e-06 V",
          "K2<br>Current: -7.60e-07 A<br>Voltage: -1.77e-06 V",
          "K2<br>Current: -7.40e-07 A<br>Voltage: -1.67e-06 V",
          "K2<br>Current: -7.20e-07 A<br>Voltage: -1.59e-06 V",
          "K2<br>Current: -7.00e-07 A<br>Voltage: -1.50e-06 V",
          "K2<br>Current: -6.80e-07 A<br>Voltage: -1.42e-06 V",
          "K2<br>Current: -6.60e-07 A<br>Voltage: -1.55e-06 V",
          "K2<br>Current: -6.40e-07 A<br>Voltage: -1.25e-06 V",
          "K2<br>Current: -6.20e-07 A<br>Voltage: -1.15e-06 V",
          "K2<br>Current: -6.00e-07 A<br>Voltage: -1.13e-06 V",
          "K2<br>Current: -5.80e-07 A<br>Voltage: -9.73e-07 V",
          "K2<br>Current: -5.60e-07 A<br>Voltage: -8.63e-07 V",
          "K2<br>Current: -5.40e-07 A<br>Voltage: -7.04e-07 V",
          "K2<br>Current: -5.20e-07 A<br>Voltage: -6.10e-07 V",
          "K2<br>Current: -5.00e-07 A<br>Voltage: -5.88e-07 V",
          "K2<br>Current: -4.80e-07 A<br>Voltage: -4.39e-07 V",
          "K2<br>Current: -4.60e-07 A<br>Voltage: -3.89e-07 V",
          "K2<br>Current: -4.40e-07 A<br>Voltage: -2.34e-07 V",
          "K2<br>Current: -4.20e-07 A<br>Voltage: -2.63e-07 V",
          "K2<br>Current: -4.00e-07 A<br>Voltage: -2.52e-07 V",
          "K2<br>Current: -3.80e-07 A<br>Voltage: -2.79e-07 V",
          "K2<br>Current: -3.60e-07 A<br>Voltage: -2.03e-07 V",
          "K2<br>Current: -3.40e-07 A<br>Voltage: -2.15e-07 V",
          "K2<br>Current: -3.20e-07 A<br>Voltage: -2.20e-07 V",
          "K2<br>Current: -3.00e-07 A<br>Voltage: -2.04e-07 V",
          "K2<br>Current: -2.80e-07 A<br>Voltage: -2.17e-07 V",
          "K2<br>Current: -2.60e-07 A<br>Voltage: -1.76e-07 V",
          "K2<br>Current: -2.40e-07 A<br>Voltage: -2.29e-07 V",
          "K2<br>Current: -2.20e-07 A<br>Voltage: -1.99e-07 V",
          "K2<br>Current: -2.00e-07 A<br>Voltage: -2.16e-07 V",
          "K2<br>Current: -1.80e-07 A<br>Voltage: -1.98e-07 V",
          "K2<br>Current: -1.60e-07 A<br>Voltage: -1.73e-07 V",
          "K2<br>Current: -1.40e-07 A<br>Voltage: -1.59e-07 V",
          "K2<br>Current: -1.20e-07 A<br>Voltage: -1.63e-07 V",
          "K2<br>Current: -1.00e-07 A<br>Voltage: -1.52e-07 V",
          "K2<br>Current: -8.00e-08 A<br>Voltage: -1.10e-07 V",
          "K2<br>Current: -6.00e-08 A<br>Voltage: -8.63e-08 V",
          "K2<br>Current: -4.00e-08 A<br>Voltage: -3.37e-08 V",
          "K2<br>Current: -2.00e-08 A<br>Voltage: -9.99e-08 V",
          "K2<br>Current: 0.00e+00 A<br>Voltage: -6.59e-08 V",
          "K2<br>Current: 2.00e-08 A<br>Voltage: -1.01e-07 V",
          "K2<br>Current: 4.00e-08 A<br>Voltage: -1.78e-08 V",
          "K2<br>Current: 6.00e-08 A<br>Voltage: -5.30e-08 V",
          "K2<br>Current: 8.00e-08 A<br>Voltage: -8.29e-08 V",
          "K2<br>Current: 1.00e-07 A<br>Voltage: -9.21e-08 V",
          "K2<br>Current: 1.20e-07 A<br>Voltage: -9.39e-08 V",
          "K2<br>Current: 1.40e-07 A<br>Voltage: -7.42e-08 V",
          "K2<br>Current: 1.60e-07 A<br>Voltage: -2.07e-08 V",
          "K2<br>Current: 1.80e-07 A<br>Voltage: -5.66e-08 V",
          "K2<br>Current: 2.00e-07 A<br>Voltage: -7.59e-08 V",
          "K2<br>Current: 2.20e-07 A<br>Voltage: -4.54e-08 V",
          "K2<br>Current: 2.40e-07 A<br>Voltage: -5.11e-08 V",
          "K2<br>Current: 2.60e-07 A<br>Voltage: -6.21e-08 V",
          "K2<br>Current: 2.80e-07 A<br>Voltage: -1.43e-07 V",
          "K2<br>Current: 3.00e-07 A<br>Voltage: -1.25e-07 V",
          "K2<br>Current: 3.20e-07 A<br>Voltage: -1.26e-07 V",
          "K2<br>Current: 3.40e-07 A<br>Voltage: -1.15e-07 V",
          "K2<br>Current: 3.60e-07 A<br>Voltage: -6.62e-08 V",
          "K2<br>Current: 3.80e-07 A<br>Voltage: -1.01e-07 V",
          "K2<br>Current: 4.00e-07 A<br>Voltage: -7.51e-08 V",
          "K2<br>Current: 4.20e-07 A<br>Voltage: -5.32e-08 V",
          "K2<br>Current: 4.40e-07 A<br>Voltage: -2.29e-08 V",
          "K2<br>Current: 4.60e-07 A<br>Voltage: 2.18e-08 V",
          "K2<br>Current: 4.80e-07 A<br>Voltage: 2.33e-07 V",
          "K2<br>Current: 5.00e-07 A<br>Voltage: 3.00e-07 V",
          "K2<br>Current: 5.20e-07 A<br>Voltage: 3.25e-07 V",
          "K2<br>Current: 5.40e-07 A<br>Voltage: 4.17e-07 V",
          "K2<br>Current: 5.60e-07 A<br>Voltage: 6.09e-07 V",
          "K2<br>Current: 5.80e-07 A<br>Voltage: 7.79e-07 V",
          "K2<br>Current: 6.00e-07 A<br>Voltage: 9.13e-07 V",
          "K2<br>Current: 6.20e-07 A<br>Voltage: 8.82e-07 V",
          "K2<br>Current: 6.40e-07 A<br>Voltage: 9.79e-07 V",
          "K2<br>Current: 6.60e-07 A<br>Voltage: 1.06e-06 V",
          "K2<br>Current: 6.80e-07 A<br>Voltage: 1.16e-06 V",
          "K2<br>Current: 7.00e-07 A<br>Voltage: 1.31e-06 V",
          "K2<br>Current: 7.20e-07 A<br>Voltage: 1.33e-06 V",
          "K2<br>Current: 7.40e-07 A<br>Voltage: 1.39e-06 V",
          "K2<br>Current: 7.60e-07 A<br>Voltage: 1.47e-06 V",
          "K2<br>Current: 7.80e-07 A<br>Voltage: 1.51e-06 V",
          "K2<br>Current: 8.00e-07 A<br>Voltage: 1.60e-06 V",
          "K2<br>Current: 8.20e-07 A<br>Voltage: 1.85e-06 V",
          "K2<br>Current: 8.40e-07 A<br>Voltage: 1.80e-06 V",
          "K2<br>Current: 8.60e-07 A<br>Voltage: 1.89e-06 V",
          "K2<br>Current: 8.80e-07 A<br>Voltage: 1.95e-06 V",
          "K2<br>Current: 9.00e-07 A<br>Voltage: 2.04e-06 V",
          "K2<br>Current: 9.20e-07 A<br>Voltage: 2.09e-06 V",
          "K2<br>Current: 9.40e-07 A<br>Voltage: 2.17e-06 V",
          "K2<br>Current: 9.60e-07 A<br>Voltage: 2.22e-06 V",
          "K2<br>Current: 9.80e-07 A<br>Voltage: 2.25e-06 V",
          "K2<br>Current: 1.00e-06 A<br>Voltage: 2.38e-06 V"
         ],
         "mode": "lines",
         "name": "dV/dI (smoothed)",
         "type": "scatter",
         "x": [
          -9.8e-7,
          -9.6e-7,
          -9.4e-7,
          -9.2e-7,
          -9e-7,
          -8.8e-7,
          -8.6e-7,
          -8.4e-7,
          -8.2e-7,
          -8e-7,
          -7.8e-7,
          -7.6e-7,
          -7.4e-7,
          -7.2e-7,
          -7e-7,
          -6.8e-7,
          -6.6e-7,
          -6.4e-7,
          -6.2e-7,
          -6e-7,
          -5.8e-7,
          -5.6e-7,
          -5.4e-7,
          -5.2e-7,
          -5e-7,
          -4.8e-7,
          -4.6e-7,
          -4.4e-7,
          -4.2e-7,
          -4e-7,
          -3.8e-7,
          -3.6e-7,
          -3.4e-7,
          -3.2e-7,
          -3e-7,
          -2.8e-7,
          -2.6e-7,
          -2.4e-7,
          -2.2e-7,
          -2e-7,
          -1.8e-7,
          -1.6e-7,
          -1.4e-7,
          -1.2e-7,
          -9.99999999999999e-8,
          -8e-8,
          -6e-8,
          -3.99999999999998e-8,
          -2e-8,
          0,
          2e-8,
          4e-8,
          6.00000000000001e-8,
          8.00000000000001e-8,
          1e-7,
          1.2e-7,
          1.4e-7,
          1.6e-7,
          1.8e-7,
          2e-7,
          2.2e-7,
          2.4e-7,
          2.6e-7,
          2.8e-7,
          3e-7,
          3.2e-7,
          3.4e-7,
          3.6e-7,
          3.8e-7,
          4e-7,
          4.2e-7,
          4.4e-7,
          4.6e-7,
          4.8e-7,
          5e-7,
          5.2e-7,
          5.4e-7,
          5.6e-7,
          5.8e-7,
          6e-7,
          6.2e-7,
          6.4e-7,
          6.6e-7,
          6.8e-7,
          7e-7,
          7.2e-7,
          7.4e-7,
          7.6e-7,
          7.8e-7,
          8e-7,
          8.2e-7,
          8.4e-7,
          8.6e-7,
          8.8e-7,
          9e-7,
          9.2e-7,
          9.4e-7,
          9.6e-7,
          9.8e-7,
          0.000001
         ],
         "y": [
          1.2518253968253765,
          3.7594765873015854,
          4.228489682539687,
          4.546531249999998,
          1.0914234375000031,
          -2.521928124999991,
          2.3659968749999942,
          1.5155249999999911,
          6.726139062500005,
          5.516081250000018,
          3.1601906250000233,
          6.939439062499996,
          3.2800203124999845,
          5.61851874999999,
          0.8977296874999892,
          2.4371140624999854,
          4.6311015624999765,
          5.230266406249979,
          7.332333593749983,
          3.476948906249999,
          5.971223593749999,
          7.527005156249993,
          4.779236249999992,
          4.805359531249985,
          3.308502968749991,
          5.362863906249996,
          4.9882610937499985,
          2.452199687500003,
          0.48151390625000073,
          -0.4508290625000019,
          1.0740810937499965,
          0.7244440624999973,
          0.8621796874999978,
          -0.6099395312499992,
          0.7495770312499979,
          -0.0034382812500016735,
          -0.03172703124999943,
          -0.19514749999999817,
          -0.434181406249997,
          0.8046662499999999,
          0.6467667187499995,
          0.9139253124999993,
          0.2965399999999983,
          0.521699531250001,
          0.8972104687500041,
          2.2550723906249988,
          0.9548090937499834,
          0.3410074218749766,
          -0.9186749687500173,
          0.0816029218749953,
          1.3392611875000036,
          0.07659681250000305,
          -0.23163110937499737,
          -1.6221577968749972,
          -0.40386896875000133,
          1.1280720156249986,
          1.0936383124999987,
          0.19973440624999927,
          -0.18192384375000004,
          -0.44423962500000036,
          0.6790829218749983,
          -0.850041343749999,
          -1.7279740312499958,
          -1.3417054062499958,
          -0.6266529374999972,
          1.4594182031249985,
          0.5256567499999987,
          0.5656547656249997,
          0.41129668750000015,
          0.412552453125,
          0.9289421562499971,
          3.5226502343750012,
          5.6501160625,
          5.402047109374999,
          3.935389093749995,
          3.2326048124999853,
          6.521483124999996,
          9.282562343749998,
          6.571909531249999,
          3.5827140625000005,
          2.274801874999987,
          2.7438315625000005,
          6.148283437499996,
          5.1532826562499965,
          4.217901718749994,
          3.311160937499987,
          2.1580812499999933,
          2.654534375,
          6.0420406249999985,
          5.389420312499995,
          5.142559374999993,
          3.322401562499987,
          1.880448437499998,
          4.261604687500001,
          3.446765624999997,
          3.5633703125,
          2.3294421874999958,
          1.9798079365079349,
          2.588642460317459,
          6.063672222222211
         ],
         "yaxis": "y2"
        },
        {
         "hoverinfo": "text",
         "hovertext": [
          "K2<br>Current: -1.00e-06 A<br>Voltage: -2.51e-06 V",
          "K2<br>Current: -9.80e-07 A<br>Voltage: -2.48e-06 V",
          "K2<br>Current: -9.60e-07 A<br>Voltage: -2.41e-06 V",
          "K2<br>Current: -9.40e-07 A<br>Voltage: -2.32e-06 V",
          "K2<br>Current: -9.20e-07 A<br>Voltage: -2.25e-06 V",
          "K2<br>Current: -9.00e-07 A<br>Voltage: -2.19e-06 V",
          "K2<br>Current: -8.80e-07 A<br>Voltage: -2.12e-06 V",
          "K2<br>Current: -8.60e-07 A<br>Voltage: -2.27e-06 V",
          "K2<br>Current: -8.40e-07 A<br>Voltage: -2.25e-06 V",
          "K2<br>Current: -8.20e-07 A<br>Voltage: -1.92e-06 V",
          "K2<br>Current: -8.00e-07 A<br>Voltage: -2.09e-06 V",
          "K2<br>Current: -7.80e-07 A<br>Voltage: -1.82e-06 V",
          "K2<br>Current: -7.60e-07 A<br>Voltage: -1.77e-06 V",
          "K2<br>Current: -7.40e-07 A<br>Voltage: -1.67e-06 V",
          "K2<br>Current: -7.20e-07 A<br>Voltage: -1.59e-06 V",
          "K2<br>Current: -7.00e-07 A<br>Voltage: -1.50e-06 V",
          "K2<br>Current: -6.80e-07 A<br>Voltage: -1.42e-06 V",
          "K2<br>Current: -6.60e-07 A<br>Voltage: -1.55e-06 V",
          "K2<br>Current: -6.40e-07 A<br>Voltage: -1.25e-06 V",
          "K2<br>Current: -6.20e-07 A<br>Voltage: -1.15e-06 V",
          "K2<br>Current: -6.00e-07 A<br>Voltage: -1.13e-06 V",
          "K2<br>Current: -5.80e-07 A<br>Voltage: -9.73e-07 V",
          "K2<br>Current: -5.60e-07 A<br>Voltage: -8.63e-07 V",
          "K2<br>Current: -5.40e-07 A<br>Voltage: -7.04e-07 V",
          "K2<br>Current: -5.20e-07 A<br>Voltage: -6.10e-07 V",
          "K2<br>Current: -5.00e-07 A<br>Voltage: -5.88e-07 V",
          "K2<br>Current: -4.80e-07 A<br>Voltage: -4.39e-07 V",
          "K2<br>Current: -4.60e-07 A<br>Voltage: -3.89e-07 V",
          "K2<br>Current: -4.40e-07 A<br>Voltage: -2.34e-07 V",
          "K2<br>Current: -4.20e-07 A<br>Voltage: -2.63e-07 V",
          "K2<br>Current: -4.00e-07 A<br>Voltage: -2.52e-07 V",
          "K2<br>Current: -3.80e-07 A<br>Voltage: -2.79e-07 V",
          "K2<br>Current: -3.60e-07 A<br>Voltage: -2.03e-07 V",
          "K2<br>Current: -3.40e-07 A<br>Voltage: -2.15e-07 V",
          "K2<br>Current: -3.20e-07 A<br>Voltage: -2.20e-07 V",
          "K2<br>Current: -3.00e-07 A<br>Voltage: -2.04e-07 V",
          "K2<br>Current: -2.80e-07 A<br>Voltage: -2.17e-07 V",
          "K2<br>Current: -2.60e-07 A<br>Voltage: -1.76e-07 V",
          "K2<br>Current: -2.40e-07 A<br>Voltage: -2.29e-07 V",
          "K2<br>Current: -2.20e-07 A<br>Voltage: -1.99e-07 V",
          "K2<br>Current: -2.00e-07 A<br>Voltage: -2.16e-07 V",
          "K2<br>Current: -1.80e-07 A<br>Voltage: -1.98e-07 V",
          "K2<br>Current: -1.60e-07 A<br>Voltage: -1.73e-07 V",
          "K2<br>Current: -1.40e-07 A<br>Voltage: -1.59e-07 V",
          "K2<br>Current: -1.20e-07 A<br>Voltage: -1.63e-07 V",
          "K2<br>Current: -1.00e-07 A<br>Voltage: -1.52e-07 V",
          "K2<br>Current: -8.00e-08 A<br>Voltage: -1.10e-07 V",
          "K2<br>Current: -6.00e-08 A<br>Voltage: -8.63e-08 V",
          "K2<br>Current: -4.00e-08 A<br>Voltage: -3.37e-08 V",
          "K2<br>Current: -2.00e-08 A<br>Voltage: -9.99e-08 V",
          "K2<br>Current: 0.00e+00 A<br>Voltage: -6.59e-08 V",
          "K2<br>Current: 2.00e-08 A<br>Voltage: -1.01e-07 V",
          "K2<br>Current: 4.00e-08 A<br>Voltage: -1.78e-08 V",
          "K2<br>Current: 6.00e-08 A<br>Voltage: -5.30e-08 V",
          "K2<br>Current: 8.00e-08 A<br>Voltage: -8.29e-08 V",
          "K2<br>Current: 1.00e-07 A<br>Voltage: -9.21e-08 V",
          "K2<br>Current: 1.20e-07 A<br>Voltage: -9.39e-08 V",
          "K2<br>Current: 1.40e-07 A<br>Voltage: -7.42e-08 V",
          "K2<br>Current: 1.60e-07 A<br>Voltage: -2.07e-08 V",
          "K2<br>Current: 1.80e-07 A<br>Voltage: -5.66e-08 V",
          "K2<br>Current: 2.00e-07 A<br>Voltage: -7.59e-08 V",
          "K2<br>Current: 2.20e-07 A<br>Voltage: -4.54e-08 V",
          "K2<br>Current: 2.40e-07 A<br>Voltage: -5.11e-08 V",
          "K2<br>Current: 2.60e-07 A<br>Voltage: -6.21e-08 V",
          "K2<br>Current: 2.80e-07 A<br>Voltage: -1.43e-07 V",
          "K2<br>Current: 3.00e-07 A<br>Voltage: -1.25e-07 V",
          "K2<br>Current: 3.20e-07 A<br>Voltage: -1.26e-07 V",
          "K2<br>Current: 3.40e-07 A<br>Voltage: -1.15e-07 V",
          "K2<br>Current: 3.60e-07 A<br>Voltage: -6.62e-08 V",
          "K2<br>Current: 3.80e-07 A<br>Voltage: -1.01e-07 V",
          "K2<br>Current: 4.00e-07 A<br>Voltage: -7.51e-08 V",
          "K2<br>Current: 4.20e-07 A<br>Voltage: -5.32e-08 V",
          "K2<br>Current: 4.40e-07 A<br>Voltage: -2.29e-08 V",
          "K2<br>Current: 4.60e-07 A<br>Voltage: 2.18e-08 V",
          "K2<br>Current: 4.80e-07 A<br>Voltage: 2.33e-07 V",
          "K2<br>Current: 5.00e-07 A<br>Voltage: 3.00e-07 V",
          "K2<br>Current: 5.20e-07 A<br>Voltage: 3.25e-07 V",
          "K2<br>Current: 5.40e-07 A<br>Voltage: 4.17e-07 V",
          "K2<br>Current: 5.60e-07 A<br>Voltage: 6.09e-07 V",
          "K2<br>Current: 5.80e-07 A<br>Voltage: 7.79e-07 V",
          "K2<br>Current: 6.00e-07 A<br>Voltage: 9.13e-07 V",
          "K2<br>Current: 6.20e-07 A<br>Voltage: 8.82e-07 V",
          "K2<br>Current: 6.40e-07 A<br>Voltage: 9.79e-07 V",
          "K2<br>Current: 6.60e-07 A<br>Voltage: 1.06e-06 V",
          "K2<br>Current: 6.80e-07 A<br>Voltage: 1.16e-06 V",
          "K2<br>Current: 7.00e-07 A<br>Voltage: 1.31e-06 V",
          "K2<br>Current: 7.20e-07 A<br>Voltage: 1.33e-06 V",
          "K2<br>Current: 7.40e-07 A<br>Voltage: 1.39e-06 V",
          "K2<br>Current: 7.60e-07 A<br>Voltage: 1.47e-06 V",
          "K2<br>Current: 7.80e-07 A<br>Voltage: 1.51e-06 V",
          "K2<br>Current: 8.00e-07 A<br>Voltage: 1.60e-06 V",
          "K2<br>Current: 8.20e-07 A<br>Voltage: 1.85e-06 V",
          "K2<br>Current: 8.40e-07 A<br>Voltage: 1.80e-06 V",
          "K2<br>Current: 8.60e-07 A<br>Voltage: 1.89e-06 V",
          "K2<br>Current: 8.80e-07 A<br>Voltage: 1.95e-06 V",
          "K2<br>Current: 9.00e-07 A<br>Voltage: 2.04e-06 V",
          "K2<br>Current: 9.20e-07 A<br>Voltage: 2.09e-06 V",
          "K2<br>Current: 9.40e-07 A<br>Voltage: 2.17e-06 V",
          "K2<br>Current: 9.60e-07 A<br>Voltage: 2.22e-06 V",
          "K2<br>Current: 9.80e-07 A<br>Voltage: 2.25e-06 V",
          "K2<br>Current: 1.00e-06 A<br>Voltage: 2.38e-06 V"
         ],
         "mode": "lines",
         "name": "dV/dI",
         "type": "scatter",
         "x": [
          -9.8e-7,
          -9.6e-7,
          -9.4e-7,
          -9.2e-7,
          -9e-7,
          -8.8e-7,
          -8.6e-7,
          -8.4e-7,
          -8.2e-7,
          -8e-7,
          -7.8e-7,
          -7.6e-7,
          -7.4e-7,
          -7.2e-7,
          -7e-7,
          -6.8e-7,
          -6.6e-7,
          -6.4e-7,
          -6.2e-7,
          -6e-7,
          -5.8e-7,
          -5.6e-7,
          -5.4e-7,
          -5.2e-7,
          -5e-7,
          -4.8e-7,
          -4.6e-7,
          -4.4e-7,
          -4.2e-7,
          -4e-7,
          -3.8e-7,
          -3.6e-7,
          -3.4e-7,
          -3.2e-7,
          -3e-7,
          -2.8e-7,
          -2.6e-7,
          -2.4e-7,
          -2.2e-7,
          -2e-7,
          -1.8e-7,
          -1.6e-7,
          -1.4e-7,
          -1.2e-7,
          -9.99999999999999e-8,
          -8e-8,
          -6e-8,
          -3.99999999999998e-8,
          -2e-8,
          0,
          2e-8,
          4e-8,
          6.00000000000001e-8,
          8.00000000000001e-8,
          1e-7,
          1.2e-7,
          1.4e-7,
          1.6e-7,
          1.8e-7,
          2e-7,
          2.2e-7,
          2.4e-7,
          2.6e-7,
          2.8e-7,
          3e-7,
          3.2e-7,
          3.4e-7,
          3.6e-7,
          3.8e-7,
          4e-7,
          4.2e-7,
          4.4e-7,
          4.6e-7,
          4.8e-7,
          5e-7,
          5.2e-7,
          5.4e-7,
          5.6e-7,
          5.8e-7,
          6e-7,
          6.2e-7,
          6.4e-7,
          6.6e-7,
          6.8e-7,
          7e-7,
          7.2e-7,
          7.4e-7,
          7.6e-7,
          7.8e-7,
          8e-7,
          8.2e-7,
          8.4e-7,
          8.6e-7,
          8.8e-7,
          9e-7,
          9.2e-7,
          9.4e-7,
          9.6e-7,
          9.8e-7,
          0.000001
         ],
         "y": [
          1.2471499999999822,
          3.7117000000000044,
          4.466350000000011,
          3.2817999999999965,
          3.324250000000014,
          3.368249999999997,
          -7.503099999999985,
          0.8120999999999909,
          16.730849999999982,
          -8.427649999999977,
          13.466200000000054,
          2.2864499999999977,
          4.877599999999999,
          4.287599999999987,
          4.488700000000001,
          4.016399999999997,
          -6.359450000000024,
          14.73269999999998,
          5.194249999999994,
          1.0973999999999993,
          7.623774999999997,
          5.479600000000022,
          7.970194999999991,
          4.6839199999999925,
          1.1316799999999998,
          7.440484999999992,
          2.4838850000000052,
          7.752645000000012,
          -1.4602299999999975,
          0.5602499999999981,
          -1.3246400000000003,
          3.778724999999995,
          -0.5915399999999986,
          -0.2533050000000014,
          0.7792150000000001,
          -0.6161300000000011,
          2.013039999999997,
          -2.6455599999999975,
          1.5228150000000036,
          -0.8552749999999995,
          0.9081749999999997,
          1.2344900000000008,
          0.7077650000000009,
          -0.1951900000000009,
          0.5393899999999986,
          2.11808500000001,
          1.1711649999999996,
          2.6291649999999747,
          -3.308620500000033,
          1.6993835000000004,
          -1.775373,
          4.183268,
          -1.7627099999999913,
          -1.493014,
          -0.46042050000000245,
          -0.09014700000000005,
          0.9826774999999988,
          2.677590500000001,
          -1.7962355,
          -0.9655420000000007,
          1.5250494999999988,
          -0.2831065000000006,
          -0.5528024999999991,
          -4.022347499999996,
          0.8619850000000007,
          -0.04320999999999919,
          0.5624850000000007,
          2.4391879999999975,
          -1.7649429999999982,
          1.3186780000000022,
          1.0959194999999988,
          1.5138744999999987,
          2.2328160000000032,
          10.582222000000018,
          3.3421449999999977,
          1.2270399999999972,
          4.634754999999995,
          9.572719999999991,
          8.518525000000038,
          6.664919999999992,
          -1.5101499999999997,
          4.811319999999999,
          3.9337149999999927,
          5.151750000000023,
          7.544749999999991,
          1.1011499999999967,
          2.7543499999999956,
          4.106499999999996,
          2.1374500000000034,
          4.435850000000015,
          12.336749999999988,
          -2.542,
          4.552800000000001,
          3.161099999999989,
          4.330050000000017,
          2.632850000000009,
          3.815999999999982,
          2.8132000000000152,
          1.292599999999998,
          6.498749999999992
         ],
         "yaxis": "y2"
        },
        {
         "line": {
          "color": "blue"
         },
         "mode": "lines",
         "name": "Smooth dV/dI",
         "type": "scatter",
         "x": [
          -5.6e-7,
          -5.4e-7,
          -5.2e-7,
          -5e-7,
          -4.8e-7,
          -4.6e-7,
          -4.4e-7,
          -4.2e-7,
          -4e-7,
          -3.8e-7,
          -3.6e-7,
          -3.4e-7,
          -3.2e-7,
          -3e-7,
          -2.8e-7,
          -2.6e-7,
          -2.4e-7,
          -2.2e-7,
          -2e-7,
          -1.8e-7,
          -1.6e-7,
          -1.4e-7,
          -1.2e-7,
          -9.99999999999999e-8,
          -8e-8,
          -6e-8,
          -3.99999999999998e-8,
          -2e-8,
          0,
          2e-8,
          4e-8,
          6.00000000000001e-8,
          8.00000000000001e-8,
          1e-7,
          1.2e-7,
          1.4e-7,
          1.6e-7,
          1.8e-7,
          2e-7,
          2.2e-7,
          2.4e-7,
          2.6e-7,
          2.8e-7,
          3e-7,
          3.2e-7,
          3.4e-7,
          3.6e-7,
          3.8e-7,
          4e-7,
          4.2e-7,
          4.4e-7,
          4.6e-7,
          4.8e-7,
          5e-7,
          5.2e-7,
          5.4e-7,
          5.6e-7,
          5.8e-7
         ],
         "y": [
          6.288594563492078,
          5.827890396825395,
          5.163192777777768,
          3.308502968749991,
          5.362863906249996,
          4.9882610937499985,
          2.452199687500003,
          0.48151390625000073,
          -0.4508290625000019,
          1.0740810937499965,
          0.7244440624999973,
          0.8621796874999978,
          -0.6099395312499992,
          0.7495770312499979,
          -0.0034382812500016735,
          -0.03172703124999943,
          -0.19514749999999817,
          -0.434181406249997,
          0.8046662499999999,
          0.6467667187499995,
          0.9139253124999993,
          0.2965399999999983,
          0.521699531250001,
          0.8972104687500041,
          2.2550723906249988,
          0.9548090937499834,
          0.3410074218749766,
          -0.9186749687500173,
          0.0816029218749953,
          1.3392611875000036,
          0.07659681250000305,
          -0.23163110937499737,
          -1.6221577968749972,
          -0.40386896875000133,
          1.1280720156249986,
          1.0936383124999987,
          0.19973440624999927,
          -0.18192384375000004,
          -0.44423962500000036,
          0.6790829218749983,
          -0.850041343749999,
          -1.7279740312499958,
          -1.3417054062499958,
          -0.6266529374999972,
          1.4594182031249985,
          0.5256567499999987,
          0.5656547656249997,
          0.41129668750000015,
          0.412552453125,
          0.9289421562499971,
          3.5226502343750012,
          5.6501160625,
          5.402047109374999,
          3.935389093749995,
          3.2326048124999853,
          5.16633779365077,
          8.741195888888864,
          8.79797636507936
         ]
        },
        {
         "marker": {
          "color": "red",
          "size": 10,
          "symbol": "star"
         },
         "mode": "markers",
         "name": "Smooth Peaks",
         "type": "scatter",
         "x": [
          -4.8e-7,
          4.6e-7
         ],
         "y": [
          5.362863906249996,
          5.6501160625
         ],
         "yaxis": "y2"
        }
       ],
       "layout": {
        "annotations": [
         {
          "align": "left",
          "font": {
           "size": 12
          },
          "showarrow": false,
          "text": "2024-07-19 14:46:04<br>101 pt, 2 sec",
          "x": 0.01,
          "xref": "paper",
          "y": 0.99,
          "yref": "paper"
         },
         {
          "align": "right",
          "font": {
           "size": 12
          },
          "showarrow": false,
          "text": "Step size: 20.0 nA",
          "x": 0.99,
          "xref": "paper",
          "y": 0.01,
          "yref": "paper"
         },
         {
          "arrowhead": 2,
          "ax": 40,
          "ay": 0,
          "showarrow": true,
          "text": "0σ",
          "x": 0.000001,
          "y": -1.295321030693069e-7
         },
         {
          "arrowhead": 2,
          "ax": 40,
          "ay": 0,
          "showarrow": true,
          "text": "0.1σ",
          "x": 0.000001,
          "y": -1.0472355173072687e-8
         },
         {
          "arrowhead": 2,
          "ax": 40,
          "ay": 0,
          "showarrow": true,
          "text": "0.2σ",
          "x": 0.000001,
          "y": 1.0858739272316154e-7
         },
         {
          "arrowhead": 2,
          "ax": 40,
          "ay": 0,
          "showarrow": true,
          "text": "0.3σ",
          "x": 0.000001,
          "y": 2.276471406193957e-7
         },
         {
          "arrowhead": 2,
          "ax": 40,
          "ay": 0,
          "showarrow": true,
          "text": "0.5σ",
          "x": 0.000001,
          "y": 4.6576663641186415e-7
         },
         {
          "arrowhead": 2,
          "ax": 40,
          "ay": 0,
          "showarrow": true,
          "text": "0σ",
          "x": 0.000001,
          "y": -1.295321030693069e-7
         },
         {
          "arrowhead": 2,
          "ax": 40,
          "ay": 0,
          "showarrow": true,
          "text": "-0.1σ",
          "x": 0.000001,
          "y": -2.4859185096554113e-7
         },
         {
          "arrowhead": 2,
          "ax": 40,
          "ay": 0,
          "showarrow": true,
          "text": "-0.2σ",
          "x": 0.000001,
          "y": -3.6765159886177536e-7
         },
         {
          "arrowhead": 2,
          "ax": 40,
          "ay": 0,
          "showarrow": true,
          "text": "-0.3σ",
          "x": 0.000001,
          "y": -4.867113467580096e-7
         },
         {
          "arrowhead": 2,
          "ax": 40,
          "ay": 0,
          "showarrow": true,
          "text": "-0.5σ",
          "x": 0.000001,
          "y": -7.248308425504779e-7
         }
        ],
        "font": {
         "size": 14
        },
        "height": 1000,
        "legend": {
         "orientation": "h",
         "x": 0.5,
         "xanchor": "center",
         "y": 1,
         "yanchor": "bottom"
        },
        "shapes": [
         {
          "line": {
           "color": "Red",
           "dash": "dash",
           "width": 2
          },
          "type": "line",
          "x0": -0.000001,
          "x1": 0.000001,
          "xref": "x",
          "y0": -1.295321030693069e-7,
          "y1": -1.295321030693069e-7,
          "yref": "y"
         },
         {
          "line": {
           "color": "Red",
           "dash": "dash",
           "width": 2
          },
          "type": "line",
          "x0": -0.000001,
          "x1": 0.000001,
          "xref": "x",
          "y0": -1.0472355173072687e-8,
          "y1": -1.0472355173072687e-8,
          "yref": "y"
         },
         {
          "line": {
           "color": "Red",
           "dash": "dash",
           "width": 2
          },
          "type": "line",
          "x0": -0.000001,
          "x1": 0.000001,
          "xref": "x",
          "y0": 1.0858739272316154e-7,
          "y1": 1.0858739272316154e-7,
          "yref": "y"
         },
         {
          "line": {
           "color": "Red",
           "dash": "dash",
           "width": 2
          },
          "type": "line",
          "x0": -0.000001,
          "x1": 0.000001,
          "xref": "x",
          "y0": 2.276471406193957e-7,
          "y1": 2.276471406193957e-7,
          "yref": "y"
         },
         {
          "line": {
           "color": "Red",
           "dash": "dash",
           "width": 2
          },
          "type": "line",
          "x0": -0.000001,
          "x1": 0.000001,
          "xref": "x",
          "y0": 4.6576663641186415e-7,
          "y1": 4.6576663641186415e-7,
          "yref": "y"
         },
         {
          "line": {
           "color": "Red",
           "dash": "dash",
           "width": 2
          },
          "type": "line",
          "x0": -0.000001,
          "x1": 0.000001,
          "xref": "x",
          "y0": -1.295321030693069e-7,
          "y1": -1.295321030693069e-7,
          "yref": "y"
         },
         {
          "line": {
           "color": "Red",
           "dash": "dash",
           "width": 2
          },
          "type": "line",
          "x0": -0.000001,
          "x1": 0.000001,
          "xref": "x",
          "y0": -2.4859185096554113e-7,
          "y1": -2.4859185096554113e-7,
          "yref": "y"
         },
         {
          "line": {
           "color": "Red",
           "dash": "dash",
           "width": 2
          },
          "type": "line",
          "x0": -0.000001,
          "x1": 0.000001,
          "xref": "x",
          "y0": -3.6765159886177536e-7,
          "y1": -3.6765159886177536e-7,
          "yref": "y"
         },
         {
          "line": {
           "color": "Red",
           "dash": "dash",
           "width": 2
          },
          "type": "line",
          "x0": -0.000001,
          "x1": 0.000001,
          "xref": "x",
          "y0": -4.867113467580096e-7,
          "y1": -4.867113467580096e-7,
          "yref": "y"
         },
         {
          "line": {
           "color": "Red",
           "dash": "dash",
           "width": 2
          },
          "type": "line",
          "x0": -0.000001,
          "x1": 0.000001,
          "xref": "x",
          "y0": -7.248308425504779e-7,
          "y1": -7.248308425504779e-7,
          "yref": "y"
         }
        ],
        "template": {
         "data": {
          "bar": [
           {
            "error_x": {
             "color": "#2a3f5f"
            },
            "error_y": {
             "color": "#2a3f5f"
            },
            "marker": {
             "line": {
              "color": "#E5ECF6",
              "width": 0.5
             },
             "pattern": {
              "fillmode": "overlay",
              "size": 10,
              "solidity": 0.2
             }
            },
            "type": "bar"
           }
          ],
          "barpolar": [
           {
            "marker": {
             "line": {
              "color": "#E5ECF6",
              "width": 0.5
             },
             "pattern": {
              "fillmode": "overlay",
              "size": 10,
              "solidity": 0.2
             }
            },
            "type": "barpolar"
           }
          ],
          "carpet": [
           {
            "aaxis": {
             "endlinecolor": "#2a3f5f",
             "gridcolor": "white",
             "linecolor": "white",
             "minorgridcolor": "white",
             "startlinecolor": "#2a3f5f"
            },
            "baxis": {
             "endlinecolor": "#2a3f5f",
             "gridcolor": "white",
             "linecolor": "white",
             "minorgridcolor": "white",
             "startlinecolor": "#2a3f5f"
            },
            "type": "carpet"
           }
          ],
          "choropleth": [
           {
            "colorbar": {
             "outlinewidth": 0,
             "ticks": ""
            },
            "type": "choropleth"
           }
          ],
          "contour": [
           {
            "colorbar": {
             "outlinewidth": 0,
             "ticks": ""
            },
            "colorscale": [
             [
              0,
              "#0d0887"
             ],
             [
              0.1111111111111111,
              "#46039f"
             ],
             [
              0.2222222222222222,
              "#7201a8"
             ],
             [
              0.3333333333333333,
              "#9c179e"
             ],
             [
              0.4444444444444444,
              "#bd3786"
             ],
             [
              0.5555555555555556,
              "#d8576b"
             ],
             [
              0.6666666666666666,
              "#ed7953"
             ],
             [
              0.7777777777777778,
              "#fb9f3a"
             ],
             [
              0.8888888888888888,
              "#fdca26"
             ],
             [
              1,
              "#f0f921"
             ]
            ],
            "type": "contour"
           }
          ],
          "contourcarpet": [
           {
            "colorbar": {
             "outlinewidth": 0,
             "ticks": ""
            },
            "type": "contourcarpet"
           }
          ],
          "heatmap": [
           {
            "colorbar": {
             "outlinewidth": 0,
             "ticks": ""
            },
            "colorscale": [
             [
              0,
              "#0d0887"
             ],
             [
              0.1111111111111111,
              "#46039f"
             ],
             [
              0.2222222222222222,
              "#7201a8"
             ],
             [
              0.3333333333333333,
              "#9c179e"
             ],
             [
              0.4444444444444444,
              "#bd3786"
             ],
             [
              0.5555555555555556,
              "#d8576b"
             ],
             [
              0.6666666666666666,
              "#ed7953"
             ],
             [
              0.7777777777777778,
              "#fb9f3a"
             ],
             [
              0.8888888888888888,
              "#fdca26"
             ],
             [
              1,
              "#f0f921"
             ]
            ],
            "type": "heatmap"
           }
          ],
          "heatmapgl": [
           {
            "colorbar": {
             "outlinewidth": 0,
             "ticks": ""
            },
            "colorscale": [
             [
              0,
              "#0d0887"
             ],
             [
              0.1111111111111111,
              "#46039f"
             ],
             [
              0.2222222222222222,
              "#7201a8"
             ],
             [
              0.3333333333333333,
              "#9c179e"
             ],
             [
              0.4444444444444444,
              "#bd3786"
             ],
             [
              0.5555555555555556,
              "#d8576b"
             ],
             [
              0.6666666666666666,
              "#ed7953"
             ],
             [
              0.7777777777777778,
              "#fb9f3a"
             ],
             [
              0.8888888888888888,
              "#fdca26"
             ],
             [
              1,
              "#f0f921"
             ]
            ],
            "type": "heatmapgl"
           }
          ],
          "histogram": [
           {
            "marker": {
             "pattern": {
              "fillmode": "overlay",
              "size": 10,
              "solidity": 0.2
             }
            },
            "type": "histogram"
           }
          ],
          "histogram2d": [
           {
            "colorbar": {
             "outlinewidth": 0,
             "ticks": ""
            },
            "colorscale": [
             [
              0,
              "#0d0887"
             ],
             [
              0.1111111111111111,
              "#46039f"
             ],
             [
              0.2222222222222222,
              "#7201a8"
             ],
             [
              0.3333333333333333,
              "#9c179e"
             ],
             [
              0.4444444444444444,
              "#bd3786"
             ],
             [
              0.5555555555555556,
              "#d8576b"
             ],
             [
              0.6666666666666666,
              "#ed7953"
             ],
             [
              0.7777777777777778,
              "#fb9f3a"
             ],
             [
              0.8888888888888888,
              "#fdca26"
             ],
             [
              1,
              "#f0f921"
             ]
            ],
            "type": "histogram2d"
           }
          ],
          "histogram2dcontour": [
           {
            "colorbar": {
             "outlinewidth": 0,
             "ticks": ""
            },
            "colorscale": [
             [
              0,
              "#0d0887"
             ],
             [
              0.1111111111111111,
              "#46039f"
             ],
             [
              0.2222222222222222,
              "#7201a8"
             ],
             [
              0.3333333333333333,
              "#9c179e"
             ],
             [
              0.4444444444444444,
              "#bd3786"
             ],
             [
              0.5555555555555556,
              "#d8576b"
             ],
             [
              0.6666666666666666,
              "#ed7953"
             ],
             [
              0.7777777777777778,
              "#fb9f3a"
             ],
             [
              0.8888888888888888,
              "#fdca26"
             ],
             [
              1,
              "#f0f921"
             ]
            ],
            "type": "histogram2dcontour"
           }
          ],
          "mesh3d": [
           {
            "colorbar": {
             "outlinewidth": 0,
             "ticks": ""
            },
            "type": "mesh3d"
           }
          ],
          "parcoords": [
           {
            "line": {
             "colorbar": {
              "outlinewidth": 0,
              "ticks": ""
             }
            },
            "type": "parcoords"
           }
          ],
          "pie": [
           {
            "automargin": true,
            "type": "pie"
           }
          ],
          "scatter": [
           {
            "fillpattern": {
             "fillmode": "overlay",
             "size": 10,
             "solidity": 0.2
            },
            "type": "scatter"
           }
          ],
          "scatter3d": [
           {
            "line": {
             "colorbar": {
              "outlinewidth": 0,
              "ticks": ""
             }
            },
            "marker": {
             "colorbar": {
              "outlinewidth": 0,
              "ticks": ""
             }
            },
            "type": "scatter3d"
           }
          ],
          "scattercarpet": [
           {
            "marker": {
             "colorbar": {
              "outlinewidth": 0,
              "ticks": ""
             }
            },
            "type": "scattercarpet"
           }
          ],
          "scattergeo": [
           {
            "marker": {
             "colorbar": {
              "outlinewidth": 0,
              "ticks": ""
             }
            },
            "type": "scattergeo"
           }
          ],
          "scattergl": [
           {
            "marker": {
             "colorbar": {
              "outlinewidth": 0,
              "ticks": ""
             }
            },
            "type": "scattergl"
           }
          ],
          "scattermapbox": [
           {
            "marker": {
             "colorbar": {
              "outlinewidth": 0,
              "ticks": ""
             }
            },
            "type": "scattermapbox"
           }
          ],
          "scatterpolar": [
           {
            "marker": {
             "colorbar": {
              "outlinewidth": 0,
              "ticks": ""
             }
            },
            "type": "scatterpolar"
           }
          ],
          "scatterpolargl": [
           {
            "marker": {
             "colorbar": {
              "outlinewidth": 0,
              "ticks": ""
             }
            },
            "type": "scatterpolargl"
           }
          ],
          "scatterternary": [
           {
            "marker": {
             "colorbar": {
              "outlinewidth": 0,
              "ticks": ""
             }
            },
            "type": "scatterternary"
           }
          ],
          "surface": [
           {
            "colorbar": {
             "outlinewidth": 0,
             "ticks": ""
            },
            "colorscale": [
             [
              0,
              "#0d0887"
             ],
             [
              0.1111111111111111,
              "#46039f"
             ],
             [
              0.2222222222222222,
              "#7201a8"
             ],
             [
              0.3333333333333333,
              "#9c179e"
             ],
             [
              0.4444444444444444,
              "#bd3786"
             ],
             [
              0.5555555555555556,
              "#d8576b"
             ],
             [
              0.6666666666666666,
              "#ed7953"
             ],
             [
              0.7777777777777778,
              "#fb9f3a"
             ],
             [
              0.8888888888888888,
              "#fdca26"
             ],
             [
              1,
              "#f0f921"
             ]
            ],
            "type": "surface"
           }
          ],
          "table": [
           {
            "cells": {
             "fill": {
              "color": "#EBF0F8"
             },
             "line": {
              "color": "white"
             }
            },
            "header": {
             "fill": {
              "color": "#C8D4E3"
             },
             "line": {
              "color": "white"
             }
            },
            "type": "table"
           }
          ]
         },
         "layout": {
          "annotationdefaults": {
           "arrowcolor": "#2a3f5f",
           "arrowhead": 0,
           "arrowwidth": 1
          },
          "autotypenumbers": "strict",
          "coloraxis": {
           "colorbar": {
            "outlinewidth": 0,
            "ticks": ""
           }
          },
          "colorscale": {
           "diverging": [
            [
             0,
             "#8e0152"
            ],
            [
             0.1,
             "#c51b7d"
            ],
            [
             0.2,
             "#de77ae"
            ],
            [
             0.3,
             "#f1b6da"
            ],
            [
             0.4,
             "#fde0ef"
            ],
            [
             0.5,
             "#f7f7f7"
            ],
            [
             0.6,
             "#e6f5d0"
            ],
            [
             0.7,
             "#b8e186"
            ],
            [
             0.8,
             "#7fbc41"
            ],
            [
             0.9,
             "#4d9221"
            ],
            [
             1,
             "#276419"
            ]
           ],
           "sequential": [
            [
             0,
             "#0d0887"
            ],
            [
             0.1111111111111111,
             "#46039f"
            ],
            [
             0.2222222222222222,
             "#7201a8"
            ],
            [
             0.3333333333333333,
             "#9c179e"
            ],
            [
             0.4444444444444444,
             "#bd3786"
            ],
            [
             0.5555555555555556,
             "#d8576b"
            ],
            [
             0.6666666666666666,
             "#ed7953"
            ],
            [
             0.7777777777777778,
             "#fb9f3a"
            ],
            [
             0.8888888888888888,
             "#fdca26"
            ],
            [
             1,
             "#f0f921"
            ]
           ],
           "sequentialminus": [
            [
             0,
             "#0d0887"
            ],
            [
             0.1111111111111111,
             "#46039f"
            ],
            [
             0.2222222222222222,
             "#7201a8"
            ],
            [
             0.3333333333333333,
             "#9c179e"
            ],
            [
             0.4444444444444444,
             "#bd3786"
            ],
            [
             0.5555555555555556,
             "#d8576b"
            ],
            [
             0.6666666666666666,
             "#ed7953"
            ],
            [
             0.7777777777777778,
             "#fb9f3a"
            ],
            [
             0.8888888888888888,
             "#fdca26"
            ],
            [
             1,
             "#f0f921"
            ]
           ]
          },
          "colorway": [
           "#636efa",
           "#EF553B",
           "#00cc96",
           "#ab63fa",
           "#FFA15A",
           "#19d3f3",
           "#FF6692",
           "#B6E880",
           "#FF97FF",
           "#FECB52"
          ],
          "font": {
           "color": "#2a3f5f"
          },
          "geo": {
           "bgcolor": "white",
           "lakecolor": "white",
           "landcolor": "#E5ECF6",
           "showlakes": true,
           "showland": true,
           "subunitcolor": "white"
          },
          "hoverlabel": {
           "align": "left"
          },
          "hovermode": "closest",
          "mapbox": {
           "style": "light"
          },
          "paper_bgcolor": "white",
          "plot_bgcolor": "#E5ECF6",
          "polar": {
           "angularaxis": {
            "gridcolor": "white",
            "linecolor": "white",
            "ticks": ""
           },
           "bgcolor": "#E5ECF6",
           "radialaxis": {
            "gridcolor": "white",
            "linecolor": "white",
            "ticks": ""
           }
          },
          "scene": {
           "xaxis": {
            "backgroundcolor": "#E5ECF6",
            "gridcolor": "white",
            "gridwidth": 2,
            "linecolor": "white",
            "showbackground": true,
            "ticks": "",
            "zerolinecolor": "white"
           },
           "yaxis": {
            "backgroundcolor": "#E5ECF6",
            "gridcolor": "white",
            "gridwidth": 2,
            "linecolor": "white",
            "showbackground": true,
            "ticks": "",
            "zerolinecolor": "white"
           },
           "zaxis": {
            "backgroundcolor": "#E5ECF6",
            "gridcolor": "white",
            "gridwidth": 2,
            "linecolor": "white",
            "showbackground": true,
            "ticks": "",
            "zerolinecolor": "white"
           }
          },
          "shapedefaults": {
           "line": {
            "color": "#2a3f5f"
           }
          },
          "ternary": {
           "aaxis": {
            "gridcolor": "white",
            "linecolor": "white",
            "ticks": ""
           },
           "baxis": {
            "gridcolor": "white",
            "linecolor": "white",
            "ticks": ""
           },
           "bgcolor": "#E5ECF6",
           "caxis": {
            "gridcolor": "white",
            "linecolor": "white",
            "ticks": ""
           }
          },
          "title": {
           "x": 0.05
          },
          "xaxis": {
           "automargin": true,
           "gridcolor": "white",
           "linecolor": "white",
           "ticks": "",
           "title": {
            "standoff": 15
           },
           "zerolinecolor": "white",
           "zerolinewidth": 2
          },
          "yaxis": {
           "automargin": true,
           "gridcolor": "white",
           "linecolor": "white",
           "ticks": "",
           "title": {
            "standoff": 15
           },
           "zerolinecolor": "white",
           "zerolinewidth": 2
          }
         }
        },
        "title": {
         "text": "<b>#33|IV|</b> 106-1_08-09-45-44G_Wait0.001"
        },
        "width": 1200,
        "xaxis": {
         "title": {
          "text": "Applied Current (A)"
         }
        },
        "yaxis": {
         "title": {
          "text": "Measured Voltage (V)"
         }
        },
        "yaxis2": {
         "overlaying": "y",
         "side": "right",
         "title": {
          "text": "dV/dI (Ω)"
         }
        }
       }
      }
     },
     "metadata": {},
     "output_type": "display_data"
    }
   ],
   "source": [
    "import numpy as np\n",
    "from scipy.signal import find_peaks, savgol_filter\n",
    "import plotly.graph_objects as go\n",
    "\n",
    "# 假設 meas_voltage 和 appl_current 已經定義\n",
    "# 計算 meas_voltage 的平均值和標準差\n",
    "meas_voltage_mean = np.mean(meas_voltage)\n",
    "meas_voltage_std = np.std(meas_voltage)\n",
    "\n",
    "# 計算 +-0.5 個標準差的範圍\n",
    "lower_bound = meas_voltage_mean - 0.8 * meas_voltage_std\n",
    "upper_bound = meas_voltage_mean + 0.8 * meas_voltage_std\n",
    "\n",
    "# 過濾出在這個範圍內的 appl_current 和 meas_voltage 數據\n",
    "filtered_indices = (meas_voltage >= lower_bound) & (meas_voltage <= upper_bound)\n",
    "filtered_appl_current = appl_current[filtered_indices]\n",
    "filtered_meas_voltage = meas_voltage[filtered_indices]\n",
    "\n",
    "# 計算過濾後的 dV/dI\n",
    "filtered_dVdI = np.diff(filtered_meas_voltage) / np.diff(filtered_appl_current)\n",
    "\n",
    "# 對過濾後的 dV/dI 數據進行峰值檢測\n",
    "filtered_peaks, _ = find_peaks(filtered_dVdI, height=np.mean(filtered_dVdI))\n",
    "\n",
    "# 計算Savitzky-Golay平滑過濾後的 dV/dI\n",
    "filtered_dVdI_smooth = savgol_filter(filtered_dVdI, window_length=6, polyorder=3)\n",
    "\n",
    "# # 對平滑過濾後的 dV/dI 數據進行峰值檢測\n",
    "# filtered_dVdI_smooth_peaks, _ = find_peaks(filtered_dVdI_smooth, height=np.mean(filtered_dVdI_smooth))\n",
    "\n",
    "# # 如果找到峰值，提取峰值信息\n",
    "# if len(filtered_dVdI_smooth_peaks) > 0:\n",
    "# \tsmooth_peak_indices = filtered_dVdI_smooth_peaks[:2]\n",
    "# \tsmooth_peak_currents = filtered_appl_current[1:][smooth_peak_indices]\n",
    "# \tsmooth_peak_dvdi = filtered_dVdI_smooth[smooth_peak_indices]\n",
    " \n",
    "filtered_dVdI_smooth_peaks, properties = find_peaks(filtered_dVdI_smooth, height=np.mean(filtered_dVdI_smooth))\n",
    "if len(filtered_dVdI_smooth_peaks) > 0:\n",
    "    peak_heights = properties['peak_heights']\n",
    "    top_two_peaks_indices = np.argsort(peak_heights)[-2:]  # 取數值最大的兩個峰值索引\n",
    "    smooth_peak_indices = filtered_dVdI_smooth_peaks[top_two_peaks_indices]\n",
    "    smooth_peak_currents = filtered_appl_current[1:][smooth_peak_indices]\n",
    "    smooth_peak_dvdi = filtered_dVdI_smooth[smooth_peak_indices]\n",
    "\n",
    "# 繪製平滑過濾後的峰值\n",
    "trace_smooth_peaks = go.Scatter(\n",
    "\tx=smooth_peak_currents,\n",
    "\ty=smooth_peak_dvdi,\n",
    "\tmode='markers',\n",
    "\tname='Smooth Peaks',\n",
    "\tmarker=dict(size=10, color='red', symbol='star'),\n",
    "\tyaxis='y2'\n",
    ")\n",
    "\n",
    "# 繪製平滑過濾後的 dV/dI 數據\n",
    "trace_smooth_dVdI = go.Scatter(\n",
    "\tx=filtered_appl_current[1:],\n",
    "\ty=filtered_dVdI_smooth,\n",
    "\tmode='lines',\n",
    "\tname='Smooth dV/dI',\n",
    "\tline=dict(color='blue')\n",
    ")\n",
    "\n",
    "# 初始化圖表\n",
    "# fig = go.Figure()\n",
    "\n",
    "# 添加平滑過濾後的 dV/dI 數據和峰值\n",
    "fig.add_trace(trace_smooth_dVdI)\n",
    "fig.add_trace(trace_smooth_peaks)\n",
    "\n",
    "# 顯示圖表\n",
    "fig.show()"
   ]
  },
  {
   "cell_type": "code",
   "execution_count": 92,
   "metadata": {},
   "outputs": [
    {
     "data": {
      "application/vnd.plotly.v1+json": {
       "config": {
        "plotlyServerURL": "https://plot.ly"
       },
       "data": [
        {
         "hoverinfo": "text",
         "hovertext": [
          "K2<br>Current: -1.00e-06 A<br>Voltage: -2.51e-06 V",
          "K2<br>Current: -9.80e-07 A<br>Voltage: -2.48e-06 V",
          "K2<br>Current: -9.60e-07 A<br>Voltage: -2.41e-06 V",
          "K2<br>Current: -9.40e-07 A<br>Voltage: -2.32e-06 V",
          "K2<br>Current: -9.20e-07 A<br>Voltage: -2.25e-06 V",
          "K2<br>Current: -9.00e-07 A<br>Voltage: -2.19e-06 V",
          "K2<br>Current: -8.80e-07 A<br>Voltage: -2.12e-06 V",
          "K2<br>Current: -8.60e-07 A<br>Voltage: -2.27e-06 V",
          "K2<br>Current: -8.40e-07 A<br>Voltage: -2.25e-06 V",
          "K2<br>Current: -8.20e-07 A<br>Voltage: -1.92e-06 V",
          "K2<br>Current: -8.00e-07 A<br>Voltage: -2.09e-06 V",
          "K2<br>Current: -7.80e-07 A<br>Voltage: -1.82e-06 V",
          "K2<br>Current: -7.60e-07 A<br>Voltage: -1.77e-06 V",
          "K2<br>Current: -7.40e-07 A<br>Voltage: -1.67e-06 V",
          "K2<br>Current: -7.20e-07 A<br>Voltage: -1.59e-06 V",
          "K2<br>Current: -7.00e-07 A<br>Voltage: -1.50e-06 V",
          "K2<br>Current: -6.80e-07 A<br>Voltage: -1.42e-06 V",
          "K2<br>Current: -6.60e-07 A<br>Voltage: -1.55e-06 V",
          "K2<br>Current: -6.40e-07 A<br>Voltage: -1.25e-06 V",
          "K2<br>Current: -6.20e-07 A<br>Voltage: -1.15e-06 V",
          "K2<br>Current: -6.00e-07 A<br>Voltage: -1.13e-06 V",
          "K2<br>Current: -5.80e-07 A<br>Voltage: -9.73e-07 V",
          "K2<br>Current: -5.60e-07 A<br>Voltage: -8.63e-07 V",
          "K2<br>Current: -5.40e-07 A<br>Voltage: -7.04e-07 V",
          "K2<br>Current: -5.20e-07 A<br>Voltage: -6.10e-07 V",
          "K2<br>Current: -5.00e-07 A<br>Voltage: -5.88e-07 V",
          "K2<br>Current: -4.80e-07 A<br>Voltage: -4.39e-07 V",
          "K2<br>Current: -4.60e-07 A<br>Voltage: -3.89e-07 V",
          "K2<br>Current: -4.40e-07 A<br>Voltage: -2.34e-07 V",
          "K2<br>Current: -4.20e-07 A<br>Voltage: -2.63e-07 V",
          "K2<br>Current: -4.00e-07 A<br>Voltage: -2.52e-07 V",
          "K2<br>Current: -3.80e-07 A<br>Voltage: -2.79e-07 V",
          "K2<br>Current: -3.60e-07 A<br>Voltage: -2.03e-07 V",
          "K2<br>Current: -3.40e-07 A<br>Voltage: -2.15e-07 V",
          "K2<br>Current: -3.20e-07 A<br>Voltage: -2.20e-07 V",
          "K2<br>Current: -3.00e-07 A<br>Voltage: -2.04e-07 V",
          "K2<br>Current: -2.80e-07 A<br>Voltage: -2.17e-07 V",
          "K2<br>Current: -2.60e-07 A<br>Voltage: -1.76e-07 V",
          "K2<br>Current: -2.40e-07 A<br>Voltage: -2.29e-07 V",
          "K2<br>Current: -2.20e-07 A<br>Voltage: -1.99e-07 V",
          "K2<br>Current: -2.00e-07 A<br>Voltage: -2.16e-07 V",
          "K2<br>Current: -1.80e-07 A<br>Voltage: -1.98e-07 V",
          "K2<br>Current: -1.60e-07 A<br>Voltage: -1.73e-07 V",
          "K2<br>Current: -1.40e-07 A<br>Voltage: -1.59e-07 V",
          "K2<br>Current: -1.20e-07 A<br>Voltage: -1.63e-07 V",
          "K2<br>Current: -1.00e-07 A<br>Voltage: -1.52e-07 V",
          "K2<br>Current: -8.00e-08 A<br>Voltage: -1.10e-07 V",
          "K2<br>Current: -6.00e-08 A<br>Voltage: -8.63e-08 V",
          "K2<br>Current: -4.00e-08 A<br>Voltage: -3.37e-08 V",
          "K2<br>Current: -2.00e-08 A<br>Voltage: -9.99e-08 V",
          "K2<br>Current: 0.00e+00 A<br>Voltage: -6.59e-08 V",
          "K2<br>Current: 2.00e-08 A<br>Voltage: -1.01e-07 V",
          "K2<br>Current: 4.00e-08 A<br>Voltage: -1.78e-08 V",
          "K2<br>Current: 6.00e-08 A<br>Voltage: -5.30e-08 V",
          "K2<br>Current: 8.00e-08 A<br>Voltage: -8.29e-08 V",
          "K2<br>Current: 1.00e-07 A<br>Voltage: -9.21e-08 V",
          "K2<br>Current: 1.20e-07 A<br>Voltage: -9.39e-08 V",
          "K2<br>Current: 1.40e-07 A<br>Voltage: -7.42e-08 V",
          "K2<br>Current: 1.60e-07 A<br>Voltage: -2.07e-08 V",
          "K2<br>Current: 1.80e-07 A<br>Voltage: -5.66e-08 V",
          "K2<br>Current: 2.00e-07 A<br>Voltage: -7.59e-08 V",
          "K2<br>Current: 2.20e-07 A<br>Voltage: -4.54e-08 V",
          "K2<br>Current: 2.40e-07 A<br>Voltage: -5.11e-08 V",
          "K2<br>Current: 2.60e-07 A<br>Voltage: -6.21e-08 V",
          "K2<br>Current: 2.80e-07 A<br>Voltage: -1.43e-07 V",
          "K2<br>Current: 3.00e-07 A<br>Voltage: -1.25e-07 V",
          "K2<br>Current: 3.20e-07 A<br>Voltage: -1.26e-07 V",
          "K2<br>Current: 3.40e-07 A<br>Voltage: -1.15e-07 V",
          "K2<br>Current: 3.60e-07 A<br>Voltage: -6.62e-08 V",
          "K2<br>Current: 3.80e-07 A<br>Voltage: -1.01e-07 V",
          "K2<br>Current: 4.00e-07 A<br>Voltage: -7.51e-08 V",
          "K2<br>Current: 4.20e-07 A<br>Voltage: -5.32e-08 V",
          "K2<br>Current: 4.40e-07 A<br>Voltage: -2.29e-08 V",
          "K2<br>Current: 4.60e-07 A<br>Voltage: 2.18e-08 V",
          "K2<br>Current: 4.80e-07 A<br>Voltage: 2.33e-07 V",
          "K2<br>Current: 5.00e-07 A<br>Voltage: 3.00e-07 V",
          "K2<br>Current: 5.20e-07 A<br>Voltage: 3.25e-07 V",
          "K2<br>Current: 5.40e-07 A<br>Voltage: 4.17e-07 V",
          "K2<br>Current: 5.60e-07 A<br>Voltage: 6.09e-07 V",
          "K2<br>Current: 5.80e-07 A<br>Voltage: 7.79e-07 V",
          "K2<br>Current: 6.00e-07 A<br>Voltage: 9.13e-07 V",
          "K2<br>Current: 6.20e-07 A<br>Voltage: 8.82e-07 V",
          "K2<br>Current: 6.40e-07 A<br>Voltage: 9.79e-07 V",
          "K2<br>Current: 6.60e-07 A<br>Voltage: 1.06e-06 V",
          "K2<br>Current: 6.80e-07 A<br>Voltage: 1.16e-06 V",
          "K2<br>Current: 7.00e-07 A<br>Voltage: 1.31e-06 V",
          "K2<br>Current: 7.20e-07 A<br>Voltage: 1.33e-06 V",
          "K2<br>Current: 7.40e-07 A<br>Voltage: 1.39e-06 V",
          "K2<br>Current: 7.60e-07 A<br>Voltage: 1.47e-06 V",
          "K2<br>Current: 7.80e-07 A<br>Voltage: 1.51e-06 V",
          "K2<br>Current: 8.00e-07 A<br>Voltage: 1.60e-06 V",
          "K2<br>Current: 8.20e-07 A<br>Voltage: 1.85e-06 V",
          "K2<br>Current: 8.40e-07 A<br>Voltage: 1.80e-06 V",
          "K2<br>Current: 8.60e-07 A<br>Voltage: 1.89e-06 V",
          "K2<br>Current: 8.80e-07 A<br>Voltage: 1.95e-06 V",
          "K2<br>Current: 9.00e-07 A<br>Voltage: 2.04e-06 V",
          "K2<br>Current: 9.20e-07 A<br>Voltage: 2.09e-06 V",
          "K2<br>Current: 9.40e-07 A<br>Voltage: 2.17e-06 V",
          "K2<br>Current: 9.60e-07 A<br>Voltage: 2.22e-06 V",
          "K2<br>Current: 9.80e-07 A<br>Voltage: 2.25e-06 V",
          "K2<br>Current: 1.00e-06 A<br>Voltage: 2.38e-06 V"
         ],
         "mode": "markers",
         "name": "IV",
         "type": "scatter",
         "x": [
          -0.000001,
          -9.8e-7,
          -9.6e-7,
          -9.4e-7,
          -9.2e-7,
          -9e-7,
          -8.8e-7,
          -8.6e-7,
          -8.4e-7,
          -8.2e-7,
          -8e-7,
          -7.8e-7,
          -7.6e-7,
          -7.4e-7,
          -7.2e-7,
          -7e-7,
          -6.8e-7,
          -6.6e-7,
          -6.4e-7,
          -6.2e-7,
          -6e-7,
          -5.8e-7,
          -5.6e-7,
          -5.4e-7,
          -5.2e-7,
          -5e-7,
          -4.8e-7,
          -4.6e-7,
          -4.4e-7,
          -4.2e-7,
          -4e-7,
          -3.8e-7,
          -3.6e-7,
          -3.4e-7,
          -3.2e-7,
          -3e-7,
          -2.8e-7,
          -2.6e-7,
          -2.4e-7,
          -2.2e-7,
          -2e-7,
          -1.8e-7,
          -1.6e-7,
          -1.4e-7,
          -1.2e-7,
          -9.99999999999999e-8,
          -8e-8,
          -6e-8,
          -3.99999999999998e-8,
          -2e-8,
          0,
          2e-8,
          4e-8,
          6.00000000000001e-8,
          8.00000000000001e-8,
          1e-7,
          1.2e-7,
          1.4e-7,
          1.6e-7,
          1.8e-7,
          2e-7,
          2.2e-7,
          2.4e-7,
          2.6e-7,
          2.8e-7,
          3e-7,
          3.2e-7,
          3.4e-7,
          3.6e-7,
          3.8e-7,
          4e-7,
          4.2e-7,
          4.4e-7,
          4.6e-7,
          4.8e-7,
          5e-7,
          5.2e-7,
          5.4e-7,
          5.6e-7,
          5.8e-7,
          6e-7,
          6.2e-7,
          6.4e-7,
          6.6e-7,
          6.8e-7,
          7e-7,
          7.2e-7,
          7.4e-7,
          7.6e-7,
          7.8e-7,
          8e-7,
          8.2e-7,
          8.4e-7,
          8.6e-7,
          8.8e-7,
          9e-7,
          9.2e-7,
          9.4e-7,
          9.6e-7,
          9.8e-7,
          0.000001
         ],
         "y": [
          -0.000002507458,
          -0.000002482515,
          -0.000002408281,
          -0.000002318954,
          -0.000002253318,
          -0.000002186833,
          -0.000002119468,
          -0.00000226953,
          -0.000002253288,
          -0.000001918671,
          -0.000002087224,
          -0.0000018179,
          -0.000001772171,
          -0.000001674619,
          -0.000001588867,
          -0.000001499093,
          -0.000001418765,
          -0.000001545954,
          -0.0000012513,
          -0.000001147415,
          -0.000001125467,
          -9.729915e-7,
          -8.633995e-7,
          -7.039956e-7,
          -6.103172e-7,
          -5.876836e-7,
          -4.388739e-7,
          -3.891962e-7,
          -2.341433e-7,
          -2.633479e-7,
          -2.521429e-7,
          -2.786357e-7,
          -2.030612e-7,
          -2.14892e-7,
          -2.199581e-7,
          -2.043738e-7,
          -2.166964e-7,
          -1.764356e-7,
          -2.293468e-7,
          -1.988905e-7,
          -2.15996e-7,
          -1.978325e-7,
          -1.731427e-7,
          -1.589874e-7,
          -1.628912e-7,
          -1.521034e-7,
          -1.097417e-7,
          -8.63184e-8,
          -3.37351e-8,
          -9.990751e-8,
          -6.591984e-8,
          -1.014273e-7,
          -1.776194e-8,
          -5.301614e-8,
          -8.287642e-8,
          -9.208483e-8,
          -9.388777e-8,
          -7.423422e-8,
          -2.068241e-8,
          -5.660712e-8,
          -7.591796e-8,
          -4.541697e-8,
          -5.10791e-8,
          -6.213515e-8,
          -1.425821e-7,
          -1.253424e-7,
          -1.262066e-7,
          -1.149569e-7,
          -6.617314e-8,
          -1.01472e-7,
          -7.509844e-8,
          -5.318005e-8,
          -2.290256e-8,
          2.175376e-8,
          2.333982e-7,
          3.002411e-7,
          3.247819e-7,
          4.17477e-7,
          6.089314e-7,
          7.793019e-7,
          9.126003e-7,
          8.823973e-7,
          9.786237e-7,
          0.000001057298,
          0.000001160333,
          0.000001311228,
          0.000001333251,
          0.000001388338,
          0.000001470468,
          0.000001513217,
          0.000001601934,
          0.000001848669,
          0.000001797829,
          0.000001888885,
          0.000001952107,
          0.000002038708,
          0.000002091365,
          0.000002167685,
          0.000002223949,
          0.000002249801,
          0.000002379776
         ]
        },
        {
         "hoverinfo": "text",
         "hovertext": [
          "K2<br>Current: -1.00e-06 A<br>Voltage: -2.51e-06 V",
          "K2<br>Current: -9.80e-07 A<br>Voltage: -2.48e-06 V",
          "K2<br>Current: -9.60e-07 A<br>Voltage: -2.41e-06 V",
          "K2<br>Current: -9.40e-07 A<br>Voltage: -2.32e-06 V",
          "K2<br>Current: -9.20e-07 A<br>Voltage: -2.25e-06 V",
          "K2<br>Current: -9.00e-07 A<br>Voltage: -2.19e-06 V",
          "K2<br>Current: -8.80e-07 A<br>Voltage: -2.12e-06 V",
          "K2<br>Current: -8.60e-07 A<br>Voltage: -2.27e-06 V",
          "K2<br>Current: -8.40e-07 A<br>Voltage: -2.25e-06 V",
          "K2<br>Current: -8.20e-07 A<br>Voltage: -1.92e-06 V",
          "K2<br>Current: -8.00e-07 A<br>Voltage: -2.09e-06 V",
          "K2<br>Current: -7.80e-07 A<br>Voltage: -1.82e-06 V",
          "K2<br>Current: -7.60e-07 A<br>Voltage: -1.77e-06 V",
          "K2<br>Current: -7.40e-07 A<br>Voltage: -1.67e-06 V",
          "K2<br>Current: -7.20e-07 A<br>Voltage: -1.59e-06 V",
          "K2<br>Current: -7.00e-07 A<br>Voltage: -1.50e-06 V",
          "K2<br>Current: -6.80e-07 A<br>Voltage: -1.42e-06 V",
          "K2<br>Current: -6.60e-07 A<br>Voltage: -1.55e-06 V",
          "K2<br>Current: -6.40e-07 A<br>Voltage: -1.25e-06 V",
          "K2<br>Current: -6.20e-07 A<br>Voltage: -1.15e-06 V",
          "K2<br>Current: -6.00e-07 A<br>Voltage: -1.13e-06 V",
          "K2<br>Current: -5.80e-07 A<br>Voltage: -9.73e-07 V",
          "K2<br>Current: -5.60e-07 A<br>Voltage: -8.63e-07 V",
          "K2<br>Current: -5.40e-07 A<br>Voltage: -7.04e-07 V",
          "K2<br>Current: -5.20e-07 A<br>Voltage: -6.10e-07 V",
          "K2<br>Current: -5.00e-07 A<br>Voltage: -5.88e-07 V",
          "K2<br>Current: -4.80e-07 A<br>Voltage: -4.39e-07 V",
          "K2<br>Current: -4.60e-07 A<br>Voltage: -3.89e-07 V",
          "K2<br>Current: -4.40e-07 A<br>Voltage: -2.34e-07 V",
          "K2<br>Current: -4.20e-07 A<br>Voltage: -2.63e-07 V",
          "K2<br>Current: -4.00e-07 A<br>Voltage: -2.52e-07 V",
          "K2<br>Current: -3.80e-07 A<br>Voltage: -2.79e-07 V",
          "K2<br>Current: -3.60e-07 A<br>Voltage: -2.03e-07 V",
          "K2<br>Current: -3.40e-07 A<br>Voltage: -2.15e-07 V",
          "K2<br>Current: -3.20e-07 A<br>Voltage: -2.20e-07 V",
          "K2<br>Current: -3.00e-07 A<br>Voltage: -2.04e-07 V",
          "K2<br>Current: -2.80e-07 A<br>Voltage: -2.17e-07 V",
          "K2<br>Current: -2.60e-07 A<br>Voltage: -1.76e-07 V",
          "K2<br>Current: -2.40e-07 A<br>Voltage: -2.29e-07 V",
          "K2<br>Current: -2.20e-07 A<br>Voltage: -1.99e-07 V",
          "K2<br>Current: -2.00e-07 A<br>Voltage: -2.16e-07 V",
          "K2<br>Current: -1.80e-07 A<br>Voltage: -1.98e-07 V",
          "K2<br>Current: -1.60e-07 A<br>Voltage: -1.73e-07 V",
          "K2<br>Current: -1.40e-07 A<br>Voltage: -1.59e-07 V",
          "K2<br>Current: -1.20e-07 A<br>Voltage: -1.63e-07 V",
          "K2<br>Current: -1.00e-07 A<br>Voltage: -1.52e-07 V",
          "K2<br>Current: -8.00e-08 A<br>Voltage: -1.10e-07 V",
          "K2<br>Current: -6.00e-08 A<br>Voltage: -8.63e-08 V",
          "K2<br>Current: -4.00e-08 A<br>Voltage: -3.37e-08 V",
          "K2<br>Current: -2.00e-08 A<br>Voltage: -9.99e-08 V",
          "K2<br>Current: 0.00e+00 A<br>Voltage: -6.59e-08 V",
          "K2<br>Current: 2.00e-08 A<br>Voltage: -1.01e-07 V",
          "K2<br>Current: 4.00e-08 A<br>Voltage: -1.78e-08 V",
          "K2<br>Current: 6.00e-08 A<br>Voltage: -5.30e-08 V",
          "K2<br>Current: 8.00e-08 A<br>Voltage: -8.29e-08 V",
          "K2<br>Current: 1.00e-07 A<br>Voltage: -9.21e-08 V",
          "K2<br>Current: 1.20e-07 A<br>Voltage: -9.39e-08 V",
          "K2<br>Current: 1.40e-07 A<br>Voltage: -7.42e-08 V",
          "K2<br>Current: 1.60e-07 A<br>Voltage: -2.07e-08 V",
          "K2<br>Current: 1.80e-07 A<br>Voltage: -5.66e-08 V",
          "K2<br>Current: 2.00e-07 A<br>Voltage: -7.59e-08 V",
          "K2<br>Current: 2.20e-07 A<br>Voltage: -4.54e-08 V",
          "K2<br>Current: 2.40e-07 A<br>Voltage: -5.11e-08 V",
          "K2<br>Current: 2.60e-07 A<br>Voltage: -6.21e-08 V",
          "K2<br>Current: 2.80e-07 A<br>Voltage: -1.43e-07 V",
          "K2<br>Current: 3.00e-07 A<br>Voltage: -1.25e-07 V",
          "K2<br>Current: 3.20e-07 A<br>Voltage: -1.26e-07 V",
          "K2<br>Current: 3.40e-07 A<br>Voltage: -1.15e-07 V",
          "K2<br>Current: 3.60e-07 A<br>Voltage: -6.62e-08 V",
          "K2<br>Current: 3.80e-07 A<br>Voltage: -1.01e-07 V",
          "K2<br>Current: 4.00e-07 A<br>Voltage: -7.51e-08 V",
          "K2<br>Current: 4.20e-07 A<br>Voltage: -5.32e-08 V",
          "K2<br>Current: 4.40e-07 A<br>Voltage: -2.29e-08 V",
          "K2<br>Current: 4.60e-07 A<br>Voltage: 2.18e-08 V",
          "K2<br>Current: 4.80e-07 A<br>Voltage: 2.33e-07 V",
          "K2<br>Current: 5.00e-07 A<br>Voltage: 3.00e-07 V",
          "K2<br>Current: 5.20e-07 A<br>Voltage: 3.25e-07 V",
          "K2<br>Current: 5.40e-07 A<br>Voltage: 4.17e-07 V",
          "K2<br>Current: 5.60e-07 A<br>Voltage: 6.09e-07 V",
          "K2<br>Current: 5.80e-07 A<br>Voltage: 7.79e-07 V",
          "K2<br>Current: 6.00e-07 A<br>Voltage: 9.13e-07 V",
          "K2<br>Current: 6.20e-07 A<br>Voltage: 8.82e-07 V",
          "K2<br>Current: 6.40e-07 A<br>Voltage: 9.79e-07 V",
          "K2<br>Current: 6.60e-07 A<br>Voltage: 1.06e-06 V",
          "K2<br>Current: 6.80e-07 A<br>Voltage: 1.16e-06 V",
          "K2<br>Current: 7.00e-07 A<br>Voltage: 1.31e-06 V",
          "K2<br>Current: 7.20e-07 A<br>Voltage: 1.33e-06 V",
          "K2<br>Current: 7.40e-07 A<br>Voltage: 1.39e-06 V",
          "K2<br>Current: 7.60e-07 A<br>Voltage: 1.47e-06 V",
          "K2<br>Current: 7.80e-07 A<br>Voltage: 1.51e-06 V",
          "K2<br>Current: 8.00e-07 A<br>Voltage: 1.60e-06 V",
          "K2<br>Current: 8.20e-07 A<br>Voltage: 1.85e-06 V",
          "K2<br>Current: 8.40e-07 A<br>Voltage: 1.80e-06 V",
          "K2<br>Current: 8.60e-07 A<br>Voltage: 1.89e-06 V",
          "K2<br>Current: 8.80e-07 A<br>Voltage: 1.95e-06 V",
          "K2<br>Current: 9.00e-07 A<br>Voltage: 2.04e-06 V",
          "K2<br>Current: 9.20e-07 A<br>Voltage: 2.09e-06 V",
          "K2<br>Current: 9.40e-07 A<br>Voltage: 2.17e-06 V",
          "K2<br>Current: 9.60e-07 A<br>Voltage: 2.22e-06 V",
          "K2<br>Current: 9.80e-07 A<br>Voltage: 2.25e-06 V",
          "K2<br>Current: 1.00e-06 A<br>Voltage: 2.38e-06 V"
         ],
         "mode": "lines",
         "name": "dV/dI (smoothed)",
         "type": "scatter",
         "x": [
          -9.8e-7,
          -9.6e-7,
          -9.4e-7,
          -9.2e-7,
          -9e-7,
          -8.8e-7,
          -8.6e-7,
          -8.4e-7,
          -8.2e-7,
          -8e-7,
          -7.8e-7,
          -7.6e-7,
          -7.4e-7,
          -7.2e-7,
          -7e-7,
          -6.8e-7,
          -6.6e-7,
          -6.4e-7,
          -6.2e-7,
          -6e-7,
          -5.8e-7,
          -5.6e-7,
          -5.4e-7,
          -5.2e-7,
          -5e-7,
          -4.8e-7,
          -4.6e-7,
          -4.4e-7,
          -4.2e-7,
          -4e-7,
          -3.8e-7,
          -3.6e-7,
          -3.4e-7,
          -3.2e-7,
          -3e-7,
          -2.8e-7,
          -2.6e-7,
          -2.4e-7,
          -2.2e-7,
          -2e-7,
          -1.8e-7,
          -1.6e-7,
          -1.4e-7,
          -1.2e-7,
          -9.99999999999999e-8,
          -8e-8,
          -6e-8,
          -3.99999999999998e-8,
          -2e-8,
          0,
          2e-8,
          4e-8,
          6.00000000000001e-8,
          8.00000000000001e-8,
          1e-7,
          1.2e-7,
          1.4e-7,
          1.6e-7,
          1.8e-7,
          2e-7,
          2.2e-7,
          2.4e-7,
          2.6e-7,
          2.8e-7,
          3e-7,
          3.2e-7,
          3.4e-7,
          3.6e-7,
          3.8e-7,
          4e-7,
          4.2e-7,
          4.4e-7,
          4.6e-7,
          4.8e-7,
          5e-7,
          5.2e-7,
          5.4e-7,
          5.6e-7,
          5.8e-7,
          6e-7,
          6.2e-7,
          6.4e-7,
          6.6e-7,
          6.8e-7,
          7e-7,
          7.2e-7,
          7.4e-7,
          7.6e-7,
          7.8e-7,
          8e-7,
          8.2e-7,
          8.4e-7,
          8.6e-7,
          8.8e-7,
          9e-7,
          9.2e-7,
          9.4e-7,
          9.6e-7,
          9.8e-7,
          0.000001
         ],
         "y": [
          1.2518253968253765,
          3.7594765873015854,
          4.228489682539687,
          4.546531249999998,
          1.0914234375000031,
          -2.521928124999991,
          2.3659968749999942,
          1.5155249999999911,
          6.726139062500005,
          5.516081250000018,
          3.1601906250000233,
          6.939439062499996,
          3.2800203124999845,
          5.61851874999999,
          0.8977296874999892,
          2.4371140624999854,
          4.6311015624999765,
          5.230266406249979,
          7.332333593749983,
          3.476948906249999,
          5.971223593749999,
          7.527005156249993,
          4.779236249999992,
          4.805359531249985,
          3.308502968749991,
          5.362863906249996,
          4.9882610937499985,
          2.452199687500003,
          0.48151390625000073,
          -0.4508290625000019,
          1.0740810937499965,
          0.7244440624999973,
          0.8621796874999978,
          -0.6099395312499992,
          0.7495770312499979,
          -0.0034382812500016735,
          -0.03172703124999943,
          -0.19514749999999817,
          -0.434181406249997,
          0.8046662499999999,
          0.6467667187499995,
          0.9139253124999993,
          0.2965399999999983,
          0.521699531250001,
          0.8972104687500041,
          2.2550723906249988,
          0.9548090937499834,
          0.3410074218749766,
          -0.9186749687500173,
          0.0816029218749953,
          1.3392611875000036,
          0.07659681250000305,
          -0.23163110937499737,
          -1.6221577968749972,
          -0.40386896875000133,
          1.1280720156249986,
          1.0936383124999987,
          0.19973440624999927,
          -0.18192384375000004,
          -0.44423962500000036,
          0.6790829218749983,
          -0.850041343749999,
          -1.7279740312499958,
          -1.3417054062499958,
          -0.6266529374999972,
          1.4594182031249985,
          0.5256567499999987,
          0.5656547656249997,
          0.41129668750000015,
          0.412552453125,
          0.9289421562499971,
          3.5226502343750012,
          5.6501160625,
          5.402047109374999,
          3.935389093749995,
          3.2326048124999853,
          6.521483124999996,
          9.282562343749998,
          6.571909531249999,
          3.5827140625000005,
          2.274801874999987,
          2.7438315625000005,
          6.148283437499996,
          5.1532826562499965,
          4.217901718749994,
          3.311160937499987,
          2.1580812499999933,
          2.654534375,
          6.0420406249999985,
          5.389420312499995,
          5.142559374999993,
          3.322401562499987,
          1.880448437499998,
          4.261604687500001,
          3.446765624999997,
          3.5633703125,
          2.3294421874999958,
          1.9798079365079349,
          2.588642460317459,
          6.063672222222211
         ],
         "yaxis": "y2"
        },
        {
         "hoverinfo": "text",
         "hovertext": [
          "K2<br>Current: -1.00e-06 A<br>Voltage: -2.51e-06 V",
          "K2<br>Current: -9.80e-07 A<br>Voltage: -2.48e-06 V",
          "K2<br>Current: -9.60e-07 A<br>Voltage: -2.41e-06 V",
          "K2<br>Current: -9.40e-07 A<br>Voltage: -2.32e-06 V",
          "K2<br>Current: -9.20e-07 A<br>Voltage: -2.25e-06 V",
          "K2<br>Current: -9.00e-07 A<br>Voltage: -2.19e-06 V",
          "K2<br>Current: -8.80e-07 A<br>Voltage: -2.12e-06 V",
          "K2<br>Current: -8.60e-07 A<br>Voltage: -2.27e-06 V",
          "K2<br>Current: -8.40e-07 A<br>Voltage: -2.25e-06 V",
          "K2<br>Current: -8.20e-07 A<br>Voltage: -1.92e-06 V",
          "K2<br>Current: -8.00e-07 A<br>Voltage: -2.09e-06 V",
          "K2<br>Current: -7.80e-07 A<br>Voltage: -1.82e-06 V",
          "K2<br>Current: -7.60e-07 A<br>Voltage: -1.77e-06 V",
          "K2<br>Current: -7.40e-07 A<br>Voltage: -1.67e-06 V",
          "K2<br>Current: -7.20e-07 A<br>Voltage: -1.59e-06 V",
          "K2<br>Current: -7.00e-07 A<br>Voltage: -1.50e-06 V",
          "K2<br>Current: -6.80e-07 A<br>Voltage: -1.42e-06 V",
          "K2<br>Current: -6.60e-07 A<br>Voltage: -1.55e-06 V",
          "K2<br>Current: -6.40e-07 A<br>Voltage: -1.25e-06 V",
          "K2<br>Current: -6.20e-07 A<br>Voltage: -1.15e-06 V",
          "K2<br>Current: -6.00e-07 A<br>Voltage: -1.13e-06 V",
          "K2<br>Current: -5.80e-07 A<br>Voltage: -9.73e-07 V",
          "K2<br>Current: -5.60e-07 A<br>Voltage: -8.63e-07 V",
          "K2<br>Current: -5.40e-07 A<br>Voltage: -7.04e-07 V",
          "K2<br>Current: -5.20e-07 A<br>Voltage: -6.10e-07 V",
          "K2<br>Current: -5.00e-07 A<br>Voltage: -5.88e-07 V",
          "K2<br>Current: -4.80e-07 A<br>Voltage: -4.39e-07 V",
          "K2<br>Current: -4.60e-07 A<br>Voltage: -3.89e-07 V",
          "K2<br>Current: -4.40e-07 A<br>Voltage: -2.34e-07 V",
          "K2<br>Current: -4.20e-07 A<br>Voltage: -2.63e-07 V",
          "K2<br>Current: -4.00e-07 A<br>Voltage: -2.52e-07 V",
          "K2<br>Current: -3.80e-07 A<br>Voltage: -2.79e-07 V",
          "K2<br>Current: -3.60e-07 A<br>Voltage: -2.03e-07 V",
          "K2<br>Current: -3.40e-07 A<br>Voltage: -2.15e-07 V",
          "K2<br>Current: -3.20e-07 A<br>Voltage: -2.20e-07 V",
          "K2<br>Current: -3.00e-07 A<br>Voltage: -2.04e-07 V",
          "K2<br>Current: -2.80e-07 A<br>Voltage: -2.17e-07 V",
          "K2<br>Current: -2.60e-07 A<br>Voltage: -1.76e-07 V",
          "K2<br>Current: -2.40e-07 A<br>Voltage: -2.29e-07 V",
          "K2<br>Current: -2.20e-07 A<br>Voltage: -1.99e-07 V",
          "K2<br>Current: -2.00e-07 A<br>Voltage: -2.16e-07 V",
          "K2<br>Current: -1.80e-07 A<br>Voltage: -1.98e-07 V",
          "K2<br>Current: -1.60e-07 A<br>Voltage: -1.73e-07 V",
          "K2<br>Current: -1.40e-07 A<br>Voltage: -1.59e-07 V",
          "K2<br>Current: -1.20e-07 A<br>Voltage: -1.63e-07 V",
          "K2<br>Current: -1.00e-07 A<br>Voltage: -1.52e-07 V",
          "K2<br>Current: -8.00e-08 A<br>Voltage: -1.10e-07 V",
          "K2<br>Current: -6.00e-08 A<br>Voltage: -8.63e-08 V",
          "K2<br>Current: -4.00e-08 A<br>Voltage: -3.37e-08 V",
          "K2<br>Current: -2.00e-08 A<br>Voltage: -9.99e-08 V",
          "K2<br>Current: 0.00e+00 A<br>Voltage: -6.59e-08 V",
          "K2<br>Current: 2.00e-08 A<br>Voltage: -1.01e-07 V",
          "K2<br>Current: 4.00e-08 A<br>Voltage: -1.78e-08 V",
          "K2<br>Current: 6.00e-08 A<br>Voltage: -5.30e-08 V",
          "K2<br>Current: 8.00e-08 A<br>Voltage: -8.29e-08 V",
          "K2<br>Current: 1.00e-07 A<br>Voltage: -9.21e-08 V",
          "K2<br>Current: 1.20e-07 A<br>Voltage: -9.39e-08 V",
          "K2<br>Current: 1.40e-07 A<br>Voltage: -7.42e-08 V",
          "K2<br>Current: 1.60e-07 A<br>Voltage: -2.07e-08 V",
          "K2<br>Current: 1.80e-07 A<br>Voltage: -5.66e-08 V",
          "K2<br>Current: 2.00e-07 A<br>Voltage: -7.59e-08 V",
          "K2<br>Current: 2.20e-07 A<br>Voltage: -4.54e-08 V",
          "K2<br>Current: 2.40e-07 A<br>Voltage: -5.11e-08 V",
          "K2<br>Current: 2.60e-07 A<br>Voltage: -6.21e-08 V",
          "K2<br>Current: 2.80e-07 A<br>Voltage: -1.43e-07 V",
          "K2<br>Current: 3.00e-07 A<br>Voltage: -1.25e-07 V",
          "K2<br>Current: 3.20e-07 A<br>Voltage: -1.26e-07 V",
          "K2<br>Current: 3.40e-07 A<br>Voltage: -1.15e-07 V",
          "K2<br>Current: 3.60e-07 A<br>Voltage: -6.62e-08 V",
          "K2<br>Current: 3.80e-07 A<br>Voltage: -1.01e-07 V",
          "K2<br>Current: 4.00e-07 A<br>Voltage: -7.51e-08 V",
          "K2<br>Current: 4.20e-07 A<br>Voltage: -5.32e-08 V",
          "K2<br>Current: 4.40e-07 A<br>Voltage: -2.29e-08 V",
          "K2<br>Current: 4.60e-07 A<br>Voltage: 2.18e-08 V",
          "K2<br>Current: 4.80e-07 A<br>Voltage: 2.33e-07 V",
          "K2<br>Current: 5.00e-07 A<br>Voltage: 3.00e-07 V",
          "K2<br>Current: 5.20e-07 A<br>Voltage: 3.25e-07 V",
          "K2<br>Current: 5.40e-07 A<br>Voltage: 4.17e-07 V",
          "K2<br>Current: 5.60e-07 A<br>Voltage: 6.09e-07 V",
          "K2<br>Current: 5.80e-07 A<br>Voltage: 7.79e-07 V",
          "K2<br>Current: 6.00e-07 A<br>Voltage: 9.13e-07 V",
          "K2<br>Current: 6.20e-07 A<br>Voltage: 8.82e-07 V",
          "K2<br>Current: 6.40e-07 A<br>Voltage: 9.79e-07 V",
          "K2<br>Current: 6.60e-07 A<br>Voltage: 1.06e-06 V",
          "K2<br>Current: 6.80e-07 A<br>Voltage: 1.16e-06 V",
          "K2<br>Current: 7.00e-07 A<br>Voltage: 1.31e-06 V",
          "K2<br>Current: 7.20e-07 A<br>Voltage: 1.33e-06 V",
          "K2<br>Current: 7.40e-07 A<br>Voltage: 1.39e-06 V",
          "K2<br>Current: 7.60e-07 A<br>Voltage: 1.47e-06 V",
          "K2<br>Current: 7.80e-07 A<br>Voltage: 1.51e-06 V",
          "K2<br>Current: 8.00e-07 A<br>Voltage: 1.60e-06 V",
          "K2<br>Current: 8.20e-07 A<br>Voltage: 1.85e-06 V",
          "K2<br>Current: 8.40e-07 A<br>Voltage: 1.80e-06 V",
          "K2<br>Current: 8.60e-07 A<br>Voltage: 1.89e-06 V",
          "K2<br>Current: 8.80e-07 A<br>Voltage: 1.95e-06 V",
          "K2<br>Current: 9.00e-07 A<br>Voltage: 2.04e-06 V",
          "K2<br>Current: 9.20e-07 A<br>Voltage: 2.09e-06 V",
          "K2<br>Current: 9.40e-07 A<br>Voltage: 2.17e-06 V",
          "K2<br>Current: 9.60e-07 A<br>Voltage: 2.22e-06 V",
          "K2<br>Current: 9.80e-07 A<br>Voltage: 2.25e-06 V",
          "K2<br>Current: 1.00e-06 A<br>Voltage: 2.38e-06 V"
         ],
         "mode": "lines",
         "name": "dV/dI",
         "type": "scatter",
         "x": [
          -9.8e-7,
          -9.6e-7,
          -9.4e-7,
          -9.2e-7,
          -9e-7,
          -8.8e-7,
          -8.6e-7,
          -8.4e-7,
          -8.2e-7,
          -8e-7,
          -7.8e-7,
          -7.6e-7,
          -7.4e-7,
          -7.2e-7,
          -7e-7,
          -6.8e-7,
          -6.6e-7,
          -6.4e-7,
          -6.2e-7,
          -6e-7,
          -5.8e-7,
          -5.6e-7,
          -5.4e-7,
          -5.2e-7,
          -5e-7,
          -4.8e-7,
          -4.6e-7,
          -4.4e-7,
          -4.2e-7,
          -4e-7,
          -3.8e-7,
          -3.6e-7,
          -3.4e-7,
          -3.2e-7,
          -3e-7,
          -2.8e-7,
          -2.6e-7,
          -2.4e-7,
          -2.2e-7,
          -2e-7,
          -1.8e-7,
          -1.6e-7,
          -1.4e-7,
          -1.2e-7,
          -9.99999999999999e-8,
          -8e-8,
          -6e-8,
          -3.99999999999998e-8,
          -2e-8,
          0,
          2e-8,
          4e-8,
          6.00000000000001e-8,
          8.00000000000001e-8,
          1e-7,
          1.2e-7,
          1.4e-7,
          1.6e-7,
          1.8e-7,
          2e-7,
          2.2e-7,
          2.4e-7,
          2.6e-7,
          2.8e-7,
          3e-7,
          3.2e-7,
          3.4e-7,
          3.6e-7,
          3.8e-7,
          4e-7,
          4.2e-7,
          4.4e-7,
          4.6e-7,
          4.8e-7,
          5e-7,
          5.2e-7,
          5.4e-7,
          5.6e-7,
          5.8e-7,
          6e-7,
          6.2e-7,
          6.4e-7,
          6.6e-7,
          6.8e-7,
          7e-7,
          7.2e-7,
          7.4e-7,
          7.6e-7,
          7.8e-7,
          8e-7,
          8.2e-7,
          8.4e-7,
          8.6e-7,
          8.8e-7,
          9e-7,
          9.2e-7,
          9.4e-7,
          9.6e-7,
          9.8e-7,
          0.000001
         ],
         "y": [
          1.2471499999999822,
          3.7117000000000044,
          4.466350000000011,
          3.2817999999999965,
          3.324250000000014,
          3.368249999999997,
          -7.503099999999985,
          0.8120999999999909,
          16.730849999999982,
          -8.427649999999977,
          13.466200000000054,
          2.2864499999999977,
          4.877599999999999,
          4.287599999999987,
          4.488700000000001,
          4.016399999999997,
          -6.359450000000024,
          14.73269999999998,
          5.194249999999994,
          1.0973999999999993,
          7.623774999999997,
          5.479600000000022,
          7.970194999999991,
          4.6839199999999925,
          1.1316799999999998,
          7.440484999999992,
          2.4838850000000052,
          7.752645000000012,
          -1.4602299999999975,
          0.5602499999999981,
          -1.3246400000000003,
          3.778724999999995,
          -0.5915399999999986,
          -0.2533050000000014,
          0.7792150000000001,
          -0.6161300000000011,
          2.013039999999997,
          -2.6455599999999975,
          1.5228150000000036,
          -0.8552749999999995,
          0.9081749999999997,
          1.2344900000000008,
          0.7077650000000009,
          -0.1951900000000009,
          0.5393899999999986,
          2.11808500000001,
          1.1711649999999996,
          2.6291649999999747,
          -3.308620500000033,
          1.6993835000000004,
          -1.775373,
          4.183268,
          -1.7627099999999913,
          -1.493014,
          -0.46042050000000245,
          -0.09014700000000005,
          0.9826774999999988,
          2.677590500000001,
          -1.7962355,
          -0.9655420000000007,
          1.5250494999999988,
          -0.2831065000000006,
          -0.5528024999999991,
          -4.022347499999996,
          0.8619850000000007,
          -0.04320999999999919,
          0.5624850000000007,
          2.4391879999999975,
          -1.7649429999999982,
          1.3186780000000022,
          1.0959194999999988,
          1.5138744999999987,
          2.2328160000000032,
          10.582222000000018,
          3.3421449999999977,
          1.2270399999999972,
          4.634754999999995,
          9.572719999999991,
          8.518525000000038,
          6.664919999999992,
          -1.5101499999999997,
          4.811319999999999,
          3.9337149999999927,
          5.151750000000023,
          7.544749999999991,
          1.1011499999999967,
          2.7543499999999956,
          4.106499999999996,
          2.1374500000000034,
          4.435850000000015,
          12.336749999999988,
          -2.542,
          4.552800000000001,
          3.161099999999989,
          4.330050000000017,
          2.632850000000009,
          3.815999999999982,
          2.8132000000000152,
          1.292599999999998,
          6.498749999999992
         ],
         "yaxis": "y2"
        },
        {
         "line": {
          "color": "blue"
         },
         "mode": "lines",
         "name": "Smooth dV/dI",
         "type": "scatter",
         "x": [
          -5.6e-7,
          -5.4e-7,
          -5.2e-7,
          -5e-7,
          -4.8e-7,
          -4.6e-7,
          -4.4e-7,
          -4.2e-7,
          -4e-7,
          -3.8e-7,
          -3.6e-7,
          -3.4e-7,
          -3.2e-7,
          -3e-7,
          -2.8e-7,
          -2.6e-7,
          -2.4e-7,
          -2.2e-7,
          -2e-7,
          -1.8e-7,
          -1.6e-7,
          -1.4e-7,
          -1.2e-7,
          -9.99999999999999e-8,
          -8e-8,
          -6e-8,
          -3.99999999999998e-8,
          -2e-8,
          0,
          2e-8,
          4e-8,
          6.00000000000001e-8,
          8.00000000000001e-8,
          1e-7,
          1.2e-7,
          1.4e-7,
          1.6e-7,
          1.8e-7,
          2e-7,
          2.2e-7,
          2.4e-7,
          2.6e-7,
          2.8e-7,
          3e-7,
          3.2e-7,
          3.4e-7,
          3.6e-7,
          3.8e-7,
          4e-7,
          4.2e-7,
          4.4e-7,
          4.6e-7,
          4.8e-7,
          5e-7,
          5.2e-7,
          5.4e-7,
          5.6e-7,
          5.8e-7
         ],
         "y": [
          6.288594563492078,
          5.827890396825395,
          5.163192777777768,
          3.308502968749991,
          5.362863906249996,
          4.9882610937499985,
          2.452199687500003,
          0.48151390625000073,
          -0.4508290625000019,
          1.0740810937499965,
          0.7244440624999973,
          0.8621796874999978,
          -0.6099395312499992,
          0.7495770312499979,
          -0.0034382812500016735,
          -0.03172703124999943,
          -0.19514749999999817,
          -0.434181406249997,
          0.8046662499999999,
          0.6467667187499995,
          0.9139253124999993,
          0.2965399999999983,
          0.521699531250001,
          0.8972104687500041,
          2.2550723906249988,
          0.9548090937499834,
          0.3410074218749766,
          -0.9186749687500173,
          0.0816029218749953,
          1.3392611875000036,
          0.07659681250000305,
          -0.23163110937499737,
          -1.6221577968749972,
          -0.40386896875000133,
          1.1280720156249986,
          1.0936383124999987,
          0.19973440624999927,
          -0.18192384375000004,
          -0.44423962500000036,
          0.6790829218749983,
          -0.850041343749999,
          -1.7279740312499958,
          -1.3417054062499958,
          -0.6266529374999972,
          1.4594182031249985,
          0.5256567499999987,
          0.5656547656249997,
          0.41129668750000015,
          0.412552453125,
          0.9289421562499971,
          3.5226502343750012,
          5.6501160625,
          5.402047109374999,
          3.935389093749995,
          3.2326048124999853,
          5.16633779365077,
          8.741195888888864,
          8.79797636507936
         ]
        },
        {
         "marker": {
          "color": "red",
          "size": 10,
          "symbol": "star"
         },
         "mode": "markers",
         "name": "Positive Peak",
         "type": "scatter",
         "x": [
          4.6e-7
         ],
         "y": [
          5.6501160625
         ],
         "yaxis": "y2"
        },
        {
         "marker": {
          "color": "green",
          "size": 10,
          "symbol": "star"
         },
         "mode": "markers",
         "name": "Negative Peak",
         "type": "scatter",
         "x": [
          -4.8e-7
         ],
         "y": [
          5.362863906249996
         ],
         "yaxis": "y2"
        }
       ],
       "layout": {
        "annotations": [
         {
          "align": "left",
          "font": {
           "size": 12
          },
          "showarrow": false,
          "text": "2024-07-19 14:46:04<br>101 pt, 2 sec",
          "x": 0.01,
          "xref": "paper",
          "y": 0.99,
          "yref": "paper"
         },
         {
          "align": "right",
          "font": {
           "size": 12
          },
          "showarrow": false,
          "text": "Step size: 20.0 nA",
          "x": 0.99,
          "xref": "paper",
          "y": 0.01,
          "yref": "paper"
         },
         {
          "arrowhead": 2,
          "ax": 40,
          "ay": 0,
          "showarrow": true,
          "text": "0σ",
          "x": 0.000001,
          "y": -1.295321030693069e-7
         },
         {
          "arrowhead": 2,
          "ax": 40,
          "ay": 0,
          "showarrow": true,
          "text": "0.1σ",
          "x": 0.000001,
          "y": -1.0472355173072687e-8
         },
         {
          "arrowhead": 2,
          "ax": 40,
          "ay": 0,
          "showarrow": true,
          "text": "0.2σ",
          "x": 0.000001,
          "y": 1.0858739272316154e-7
         },
         {
          "arrowhead": 2,
          "ax": 40,
          "ay": 0,
          "showarrow": true,
          "text": "0.3σ",
          "x": 0.000001,
          "y": 2.276471406193957e-7
         },
         {
          "arrowhead": 2,
          "ax": 40,
          "ay": 0,
          "showarrow": true,
          "text": "0.5σ",
          "x": 0.000001,
          "y": 4.6576663641186415e-7
         },
         {
          "arrowhead": 2,
          "ax": 40,
          "ay": 0,
          "showarrow": true,
          "text": "0σ",
          "x": 0.000001,
          "y": -1.295321030693069e-7
         },
         {
          "arrowhead": 2,
          "ax": 40,
          "ay": 0,
          "showarrow": true,
          "text": "-0.1σ",
          "x": 0.000001,
          "y": -2.4859185096554113e-7
         },
         {
          "arrowhead": 2,
          "ax": 40,
          "ay": 0,
          "showarrow": true,
          "text": "-0.2σ",
          "x": 0.000001,
          "y": -3.6765159886177536e-7
         },
         {
          "arrowhead": 2,
          "ax": 40,
          "ay": 0,
          "showarrow": true,
          "text": "-0.3σ",
          "x": 0.000001,
          "y": -4.867113467580096e-7
         },
         {
          "arrowhead": 2,
          "ax": 40,
          "ay": 0,
          "showarrow": true,
          "text": "-0.5σ",
          "x": 0.000001,
          "y": -7.248308425504779e-7
         }
        ],
        "font": {
         "size": 14
        },
        "height": 1000,
        "legend": {
         "orientation": "h",
         "x": 0.5,
         "xanchor": "center",
         "y": 1,
         "yanchor": "bottom"
        },
        "shapes": [
         {
          "line": {
           "color": "Red",
           "dash": "dash",
           "width": 2
          },
          "type": "line",
          "x0": -0.000001,
          "x1": 0.000001,
          "xref": "x",
          "y0": -1.295321030693069e-7,
          "y1": -1.295321030693069e-7,
          "yref": "y"
         },
         {
          "line": {
           "color": "Red",
           "dash": "dash",
           "width": 2
          },
          "type": "line",
          "x0": -0.000001,
          "x1": 0.000001,
          "xref": "x",
          "y0": -1.0472355173072687e-8,
          "y1": -1.0472355173072687e-8,
          "yref": "y"
         },
         {
          "line": {
           "color": "Red",
           "dash": "dash",
           "width": 2
          },
          "type": "line",
          "x0": -0.000001,
          "x1": 0.000001,
          "xref": "x",
          "y0": 1.0858739272316154e-7,
          "y1": 1.0858739272316154e-7,
          "yref": "y"
         },
         {
          "line": {
           "color": "Red",
           "dash": "dash",
           "width": 2
          },
          "type": "line",
          "x0": -0.000001,
          "x1": 0.000001,
          "xref": "x",
          "y0": 2.276471406193957e-7,
          "y1": 2.276471406193957e-7,
          "yref": "y"
         },
         {
          "line": {
           "color": "Red",
           "dash": "dash",
           "width": 2
          },
          "type": "line",
          "x0": -0.000001,
          "x1": 0.000001,
          "xref": "x",
          "y0": 4.6576663641186415e-7,
          "y1": 4.6576663641186415e-7,
          "yref": "y"
         },
         {
          "line": {
           "color": "Red",
           "dash": "dash",
           "width": 2
          },
          "type": "line",
          "x0": -0.000001,
          "x1": 0.000001,
          "xref": "x",
          "y0": -1.295321030693069e-7,
          "y1": -1.295321030693069e-7,
          "yref": "y"
         },
         {
          "line": {
           "color": "Red",
           "dash": "dash",
           "width": 2
          },
          "type": "line",
          "x0": -0.000001,
          "x1": 0.000001,
          "xref": "x",
          "y0": -2.4859185096554113e-7,
          "y1": -2.4859185096554113e-7,
          "yref": "y"
         },
         {
          "line": {
           "color": "Red",
           "dash": "dash",
           "width": 2
          },
          "type": "line",
          "x0": -0.000001,
          "x1": 0.000001,
          "xref": "x",
          "y0": -3.6765159886177536e-7,
          "y1": -3.6765159886177536e-7,
          "yref": "y"
         },
         {
          "line": {
           "color": "Red",
           "dash": "dash",
           "width": 2
          },
          "type": "line",
          "x0": -0.000001,
          "x1": 0.000001,
          "xref": "x",
          "y0": -4.867113467580096e-7,
          "y1": -4.867113467580096e-7,
          "yref": "y"
         },
         {
          "line": {
           "color": "Red",
           "dash": "dash",
           "width": 2
          },
          "type": "line",
          "x0": -0.000001,
          "x1": 0.000001,
          "xref": "x",
          "y0": -7.248308425504779e-7,
          "y1": -7.248308425504779e-7,
          "yref": "y"
         }
        ],
        "template": {
         "data": {
          "bar": [
           {
            "error_x": {
             "color": "#2a3f5f"
            },
            "error_y": {
             "color": "#2a3f5f"
            },
            "marker": {
             "line": {
              "color": "#E5ECF6",
              "width": 0.5
             },
             "pattern": {
              "fillmode": "overlay",
              "size": 10,
              "solidity": 0.2
             }
            },
            "type": "bar"
           }
          ],
          "barpolar": [
           {
            "marker": {
             "line": {
              "color": "#E5ECF6",
              "width": 0.5
             },
             "pattern": {
              "fillmode": "overlay",
              "size": 10,
              "solidity": 0.2
             }
            },
            "type": "barpolar"
           }
          ],
          "carpet": [
           {
            "aaxis": {
             "endlinecolor": "#2a3f5f",
             "gridcolor": "white",
             "linecolor": "white",
             "minorgridcolor": "white",
             "startlinecolor": "#2a3f5f"
            },
            "baxis": {
             "endlinecolor": "#2a3f5f",
             "gridcolor": "white",
             "linecolor": "white",
             "minorgridcolor": "white",
             "startlinecolor": "#2a3f5f"
            },
            "type": "carpet"
           }
          ],
          "choropleth": [
           {
            "colorbar": {
             "outlinewidth": 0,
             "ticks": ""
            },
            "type": "choropleth"
           }
          ],
          "contour": [
           {
            "colorbar": {
             "outlinewidth": 0,
             "ticks": ""
            },
            "colorscale": [
             [
              0,
              "#0d0887"
             ],
             [
              0.1111111111111111,
              "#46039f"
             ],
             [
              0.2222222222222222,
              "#7201a8"
             ],
             [
              0.3333333333333333,
              "#9c179e"
             ],
             [
              0.4444444444444444,
              "#bd3786"
             ],
             [
              0.5555555555555556,
              "#d8576b"
             ],
             [
              0.6666666666666666,
              "#ed7953"
             ],
             [
              0.7777777777777778,
              "#fb9f3a"
             ],
             [
              0.8888888888888888,
              "#fdca26"
             ],
             [
              1,
              "#f0f921"
             ]
            ],
            "type": "contour"
           }
          ],
          "contourcarpet": [
           {
            "colorbar": {
             "outlinewidth": 0,
             "ticks": ""
            },
            "type": "contourcarpet"
           }
          ],
          "heatmap": [
           {
            "colorbar": {
             "outlinewidth": 0,
             "ticks": ""
            },
            "colorscale": [
             [
              0,
              "#0d0887"
             ],
             [
              0.1111111111111111,
              "#46039f"
             ],
             [
              0.2222222222222222,
              "#7201a8"
             ],
             [
              0.3333333333333333,
              "#9c179e"
             ],
             [
              0.4444444444444444,
              "#bd3786"
             ],
             [
              0.5555555555555556,
              "#d8576b"
             ],
             [
              0.6666666666666666,
              "#ed7953"
             ],
             [
              0.7777777777777778,
              "#fb9f3a"
             ],
             [
              0.8888888888888888,
              "#fdca26"
             ],
             [
              1,
              "#f0f921"
             ]
            ],
            "type": "heatmap"
           }
          ],
          "heatmapgl": [
           {
            "colorbar": {
             "outlinewidth": 0,
             "ticks": ""
            },
            "colorscale": [
             [
              0,
              "#0d0887"
             ],
             [
              0.1111111111111111,
              "#46039f"
             ],
             [
              0.2222222222222222,
              "#7201a8"
             ],
             [
              0.3333333333333333,
              "#9c179e"
             ],
             [
              0.4444444444444444,
              "#bd3786"
             ],
             [
              0.5555555555555556,
              "#d8576b"
             ],
             [
              0.6666666666666666,
              "#ed7953"
             ],
             [
              0.7777777777777778,
              "#fb9f3a"
             ],
             [
              0.8888888888888888,
              "#fdca26"
             ],
             [
              1,
              "#f0f921"
             ]
            ],
            "type": "heatmapgl"
           }
          ],
          "histogram": [
           {
            "marker": {
             "pattern": {
              "fillmode": "overlay",
              "size": 10,
              "solidity": 0.2
             }
            },
            "type": "histogram"
           }
          ],
          "histogram2d": [
           {
            "colorbar": {
             "outlinewidth": 0,
             "ticks": ""
            },
            "colorscale": [
             [
              0,
              "#0d0887"
             ],
             [
              0.1111111111111111,
              "#46039f"
             ],
             [
              0.2222222222222222,
              "#7201a8"
             ],
             [
              0.3333333333333333,
              "#9c179e"
             ],
             [
              0.4444444444444444,
              "#bd3786"
             ],
             [
              0.5555555555555556,
              "#d8576b"
             ],
             [
              0.6666666666666666,
              "#ed7953"
             ],
             [
              0.7777777777777778,
              "#fb9f3a"
             ],
             [
              0.8888888888888888,
              "#fdca26"
             ],
             [
              1,
              "#f0f921"
             ]
            ],
            "type": "histogram2d"
           }
          ],
          "histogram2dcontour": [
           {
            "colorbar": {
             "outlinewidth": 0,
             "ticks": ""
            },
            "colorscale": [
             [
              0,
              "#0d0887"
             ],
             [
              0.1111111111111111,
              "#46039f"
             ],
             [
              0.2222222222222222,
              "#7201a8"
             ],
             [
              0.3333333333333333,
              "#9c179e"
             ],
             [
              0.4444444444444444,
              "#bd3786"
             ],
             [
              0.5555555555555556,
              "#d8576b"
             ],
             [
              0.6666666666666666,
              "#ed7953"
             ],
             [
              0.7777777777777778,
              "#fb9f3a"
             ],
             [
              0.8888888888888888,
              "#fdca26"
             ],
             [
              1,
              "#f0f921"
             ]
            ],
            "type": "histogram2dcontour"
           }
          ],
          "mesh3d": [
           {
            "colorbar": {
             "outlinewidth": 0,
             "ticks": ""
            },
            "type": "mesh3d"
           }
          ],
          "parcoords": [
           {
            "line": {
             "colorbar": {
              "outlinewidth": 0,
              "ticks": ""
             }
            },
            "type": "parcoords"
           }
          ],
          "pie": [
           {
            "automargin": true,
            "type": "pie"
           }
          ],
          "scatter": [
           {
            "fillpattern": {
             "fillmode": "overlay",
             "size": 10,
             "solidity": 0.2
            },
            "type": "scatter"
           }
          ],
          "scatter3d": [
           {
            "line": {
             "colorbar": {
              "outlinewidth": 0,
              "ticks": ""
             }
            },
            "marker": {
             "colorbar": {
              "outlinewidth": 0,
              "ticks": ""
             }
            },
            "type": "scatter3d"
           }
          ],
          "scattercarpet": [
           {
            "marker": {
             "colorbar": {
              "outlinewidth": 0,
              "ticks": ""
             }
            },
            "type": "scattercarpet"
           }
          ],
          "scattergeo": [
           {
            "marker": {
             "colorbar": {
              "outlinewidth": 0,
              "ticks": ""
             }
            },
            "type": "scattergeo"
           }
          ],
          "scattergl": [
           {
            "marker": {
             "colorbar": {
              "outlinewidth": 0,
              "ticks": ""
             }
            },
            "type": "scattergl"
           }
          ],
          "scattermapbox": [
           {
            "marker": {
             "colorbar": {
              "outlinewidth": 0,
              "ticks": ""
             }
            },
            "type": "scattermapbox"
           }
          ],
          "scatterpolar": [
           {
            "marker": {
             "colorbar": {
              "outlinewidth": 0,
              "ticks": ""
             }
            },
            "type": "scatterpolar"
           }
          ],
          "scatterpolargl": [
           {
            "marker": {
             "colorbar": {
              "outlinewidth": 0,
              "ticks": ""
             }
            },
            "type": "scatterpolargl"
           }
          ],
          "scatterternary": [
           {
            "marker": {
             "colorbar": {
              "outlinewidth": 0,
              "ticks": ""
             }
            },
            "type": "scatterternary"
           }
          ],
          "surface": [
           {
            "colorbar": {
             "outlinewidth": 0,
             "ticks": ""
            },
            "colorscale": [
             [
              0,
              "#0d0887"
             ],
             [
              0.1111111111111111,
              "#46039f"
             ],
             [
              0.2222222222222222,
              "#7201a8"
             ],
             [
              0.3333333333333333,
              "#9c179e"
             ],
             [
              0.4444444444444444,
              "#bd3786"
             ],
             [
              0.5555555555555556,
              "#d8576b"
             ],
             [
              0.6666666666666666,
              "#ed7953"
             ],
             [
              0.7777777777777778,
              "#fb9f3a"
             ],
             [
              0.8888888888888888,
              "#fdca26"
             ],
             [
              1,
              "#f0f921"
             ]
            ],
            "type": "surface"
           }
          ],
          "table": [
           {
            "cells": {
             "fill": {
              "color": "#EBF0F8"
             },
             "line": {
              "color": "white"
             }
            },
            "header": {
             "fill": {
              "color": "#C8D4E3"
             },
             "line": {
              "color": "white"
             }
            },
            "type": "table"
           }
          ]
         },
         "layout": {
          "annotationdefaults": {
           "arrowcolor": "#2a3f5f",
           "arrowhead": 0,
           "arrowwidth": 1
          },
          "autotypenumbers": "strict",
          "coloraxis": {
           "colorbar": {
            "outlinewidth": 0,
            "ticks": ""
           }
          },
          "colorscale": {
           "diverging": [
            [
             0,
             "#8e0152"
            ],
            [
             0.1,
             "#c51b7d"
            ],
            [
             0.2,
             "#de77ae"
            ],
            [
             0.3,
             "#f1b6da"
            ],
            [
             0.4,
             "#fde0ef"
            ],
            [
             0.5,
             "#f7f7f7"
            ],
            [
             0.6,
             "#e6f5d0"
            ],
            [
             0.7,
             "#b8e186"
            ],
            [
             0.8,
             "#7fbc41"
            ],
            [
             0.9,
             "#4d9221"
            ],
            [
             1,
             "#276419"
            ]
           ],
           "sequential": [
            [
             0,
             "#0d0887"
            ],
            [
             0.1111111111111111,
             "#46039f"
            ],
            [
             0.2222222222222222,
             "#7201a8"
            ],
            [
             0.3333333333333333,
             "#9c179e"
            ],
            [
             0.4444444444444444,
             "#bd3786"
            ],
            [
             0.5555555555555556,
             "#d8576b"
            ],
            [
             0.6666666666666666,
             "#ed7953"
            ],
            [
             0.7777777777777778,
             "#fb9f3a"
            ],
            [
             0.8888888888888888,
             "#fdca26"
            ],
            [
             1,
             "#f0f921"
            ]
           ],
           "sequentialminus": [
            [
             0,
             "#0d0887"
            ],
            [
             0.1111111111111111,
             "#46039f"
            ],
            [
             0.2222222222222222,
             "#7201a8"
            ],
            [
             0.3333333333333333,
             "#9c179e"
            ],
            [
             0.4444444444444444,
             "#bd3786"
            ],
            [
             0.5555555555555556,
             "#d8576b"
            ],
            [
             0.6666666666666666,
             "#ed7953"
            ],
            [
             0.7777777777777778,
             "#fb9f3a"
            ],
            [
             0.8888888888888888,
             "#fdca26"
            ],
            [
             1,
             "#f0f921"
            ]
           ]
          },
          "colorway": [
           "#636efa",
           "#EF553B",
           "#00cc96",
           "#ab63fa",
           "#FFA15A",
           "#19d3f3",
           "#FF6692",
           "#B6E880",
           "#FF97FF",
           "#FECB52"
          ],
          "font": {
           "color": "#2a3f5f"
          },
          "geo": {
           "bgcolor": "white",
           "lakecolor": "white",
           "landcolor": "#E5ECF6",
           "showlakes": true,
           "showland": true,
           "subunitcolor": "white"
          },
          "hoverlabel": {
           "align": "left"
          },
          "hovermode": "closest",
          "mapbox": {
           "style": "light"
          },
          "paper_bgcolor": "white",
          "plot_bgcolor": "#E5ECF6",
          "polar": {
           "angularaxis": {
            "gridcolor": "white",
            "linecolor": "white",
            "ticks": ""
           },
           "bgcolor": "#E5ECF6",
           "radialaxis": {
            "gridcolor": "white",
            "linecolor": "white",
            "ticks": ""
           }
          },
          "scene": {
           "xaxis": {
            "backgroundcolor": "#E5ECF6",
            "gridcolor": "white",
            "gridwidth": 2,
            "linecolor": "white",
            "showbackground": true,
            "ticks": "",
            "zerolinecolor": "white"
           },
           "yaxis": {
            "backgroundcolor": "#E5ECF6",
            "gridcolor": "white",
            "gridwidth": 2,
            "linecolor": "white",
            "showbackground": true,
            "ticks": "",
            "zerolinecolor": "white"
           },
           "zaxis": {
            "backgroundcolor": "#E5ECF6",
            "gridcolor": "white",
            "gridwidth": 2,
            "linecolor": "white",
            "showbackground": true,
            "ticks": "",
            "zerolinecolor": "white"
           }
          },
          "shapedefaults": {
           "line": {
            "color": "#2a3f5f"
           }
          },
          "ternary": {
           "aaxis": {
            "gridcolor": "white",
            "linecolor": "white",
            "ticks": ""
           },
           "baxis": {
            "gridcolor": "white",
            "linecolor": "white",
            "ticks": ""
           },
           "bgcolor": "#E5ECF6",
           "caxis": {
            "gridcolor": "white",
            "linecolor": "white",
            "ticks": ""
           }
          },
          "title": {
           "x": 0.05
          },
          "xaxis": {
           "automargin": true,
           "gridcolor": "white",
           "linecolor": "white",
           "ticks": "",
           "title": {
            "standoff": 15
           },
           "zerolinecolor": "white",
           "zerolinewidth": 2
          },
          "yaxis": {
           "automargin": true,
           "gridcolor": "white",
           "linecolor": "white",
           "ticks": "",
           "title": {
            "standoff": 15
           },
           "zerolinecolor": "white",
           "zerolinewidth": 2
          }
         }
        },
        "title": {
         "text": "<b>#33|IV|</b> 106-1_08-09-45-44G_Wait0.001"
        },
        "width": 1200,
        "xaxis": {
         "title": {
          "text": "Applied Current (A)"
         }
        },
        "yaxis": {
         "title": {
          "text": "Measured Voltage (V)"
         }
        },
        "yaxis2": {
         "overlaying": "y",
         "side": "right",
         "title": {
          "text": "dV/dI (Ω)"
         }
        }
       }
      }
     },
     "metadata": {},
     "output_type": "display_data"
    }
   ],
   "source": [
    "import numpy as np\n",
    "from scipy.signal import find_peaks, savgol_filter\n",
    "import plotly.graph_objects as go\n",
    "\n",
    "# 假設 meas_voltage 和 appl_current 已經定義\n",
    "# 計算 meas_voltage 的平均值和標準差\n",
    "meas_voltage_mean = np.mean(meas_voltage)\n",
    "meas_voltage_std = np.std(meas_voltage)\n",
    "\n",
    "# 計算 +-0.5 個標準差的範圍\n",
    "lower_bound = meas_voltage_mean - 0.8 * meas_voltage_std\n",
    "upper_bound = meas_voltage_mean + 0.8 * meas_voltage_std\n",
    "\n",
    "# 過濾出在這個範圍內的 appl_current 和 meas_voltage 數據\n",
    "filtered_indices = (meas_voltage >= lower_bound) & (meas_voltage <= upper_bound)\n",
    "filtered_appl_current = appl_current[filtered_indices]\n",
    "filtered_meas_voltage = meas_voltage[filtered_indices]\n",
    "\n",
    "# 計算過濾後的 dV/dI\n",
    "filtered_dVdI = np.diff(filtered_meas_voltage) / np.diff(filtered_appl_current)\n",
    "\n",
    "# 計算Savitzky-Golay平滑過濾後的 dV/dI\n",
    "filtered_dVdI_smooth = savgol_filter(filtered_dVdI, window_length=6, polyorder=3)\n",
    "\n",
    "# 對平滑過濾後的 dV/dI 數據進行峰值檢測\n",
    "filtered_dVdI_smooth_peaks, properties = find_peaks(filtered_dVdI_smooth, height=np.mean(filtered_dVdI_smooth))\n",
    "\n",
    "# 如果找到峰值，提取數值最大的兩個峰值\n",
    "if len(filtered_dVdI_smooth_peaks) > 0:\n",
    "    peak_heights = properties['peak_heights']\n",
    "    top_two_peaks_indices = np.argsort(peak_heights)[-2:]  # 取數值最大的兩個峰值索引\n",
    "    smooth_peak_indices = filtered_dVdI_smooth_peaks[top_two_peaks_indices]\n",
    "    smooth_peak_currents = filtered_appl_current[1:][smooth_peak_indices]\n",
    "    smooth_peak_dvdi = filtered_dVdI_smooth[smooth_peak_indices]\n",
    "\n",
    "    # 分辨出 >0 和 <0 的峰值\n",
    "    positive_peak_index = smooth_peak_indices[smooth_peak_currents > 0][0]\n",
    "    negative_peak_index = smooth_peak_indices[smooth_peak_currents < 0][0]\n",
    "\n",
    "    positive_peak_current = smooth_peak_currents[smooth_peak_currents > 0][0]\n",
    "    negative_peak_current = smooth_peak_currents[smooth_peak_currents < 0][0]\n",
    "\n",
    "    positive_peak_dvdi = smooth_peak_dvdi[smooth_peak_currents > 0][0]\n",
    "    negative_peak_dvdi = smooth_peak_dvdi[smooth_peak_currents < 0][0]\n",
    "\n",
    "# 繪製平滑過濾後的峰值\n",
    "trace_positive_peak = go.Scatter(\n",
    "    x=[positive_peak_current],\n",
    "    y=[positive_peak_dvdi],\n",
    "    mode='markers',\n",
    "    name='Positive Peak',\n",
    "    marker=dict(size=10, color='red', symbol='star'),\n",
    "    yaxis='y2'\n",
    ")\n",
    "\n",
    "trace_negative_peak = go.Scatter(\n",
    "    x=[negative_peak_current],\n",
    "    y=[negative_peak_dvdi],\n",
    "    mode='markers',\n",
    "    name='Negative Peak',\n",
    "    marker=dict(size=10, color='green', symbol='star'),\n",
    "    yaxis='y2'\n",
    ")\n",
    "\n",
    "# # 繪製平滑過濾後的 dV/dI 數據\n",
    "# trace_smooth_dVdI = go.Scatter(\n",
    "#     x=filtered_appl_current[1:],\n",
    "#     y=filtered_dVdI_smooth,\n",
    "#     mode='lines',\n",
    "#     name='Smooth dV/dI',\n",
    "#     line=dict(color='blue')\n",
    "# )\n",
    "\n",
    "# # 初始化圖表\n",
    "# fig = go.Figure()\n",
    "\n",
    "# 添加平滑過濾後的 dV/dI 數據和峰值\n",
    "fig.add_trace(trace_smooth_dVdI)\n",
    "fig.add_trace(trace_positive_peak)\n",
    "fig.add_trace(trace_negative_peak)\n",
    "\n",
    "# 顯示圖表\n",
    "fig.show()"
   ]
  },
  {
   "cell_type": "code",
   "execution_count": 211,
   "metadata": {},
   "outputs": [
    {
     "name": "stdout",
     "output_type": "stream",
     "text": [
      "Mean Voltage: 2.77\n",
      "Median Voltage: 0.30\n",
      "Standard Deviation: 14.71\n",
      "Min Voltage: -36.87\n",
      "Max Voltage: 38.28\n",
      "25th Percentile: -4.09\n",
      "50th Percentile: 0.30\n",
      "75th Percentile: 4.79\n"
     ]
    },
    {
     "data": {
      "application/vnd.jupyter.widget-view+json": {
       "model_id": "f879f11fb4474832bd097bcd5bb45cf3",
       "version_major": 2,
       "version_minor": 0
      },
      "image/png": "[encoded data removed]",
      "text/html": [
       "\n",
       "            <div style=\"display: inline-block;\">\n",
       "                <div class=\"jupyter-widgets widget-label\" style=\"text-align: center;\">\n",
       "                    Figure\n",
       "                </div>\n",
       "                <img src='data:image/png;base64,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' width=1000.0/>\n",
       "            </div>\n",
       "        "
      ],
      "text/plain": [
       "Canvas(toolbar=Toolbar(toolitems=[('Home', 'Reset original view', 'home', 'home'), ('Back', 'Back to previous …"
      ]
     },
     "metadata": {},
     "output_type": "display_data"
    }
   ],
   "source": [
    "\n",
    "mean_voltage = np.mean(meas_voltage)\n",
    "median_voltage = np.median(meas_voltage)\n",
    "std_voltage = np.std(meas_voltage)\n",
    "min_voltage = np.min(meas_voltage)\n",
    "max_voltage = np.max(meas_voltage)\n",
    "quantiles = np.percentile(meas_voltage, [25, 50, 75])\n",
    "\n",
    "# 打印統計量\n",
    "print(f\"Mean Voltage: {mean_voltage*1e6:.2f}\")\n",
    "print(f\"Median Voltage: {median_voltage*1e6:.2f}\")\n",
    "print(f\"Standard Deviation: {std_voltage*1e6:.2f}\")\n",
    "print(f\"Min Voltage: {min_voltage*1e6:.2f}\")\n",
    "print(f\"Max Voltage: {max_voltage*1e6:.2f}\")\n",
    "print(f\"25th Percentile: {quantiles[0]*1e6:.2f}\")\n",
    "print(f\"50th Percentile: {quantiles[1]*1e6:.2f}\")\n",
    "print(f\"75th Percentile: {quantiles[2]*1e6:.2f}\")\n",
    "\n",
    "# 繪製直方圖\n",
    "plt.figure(figsize=(10, 6))\n",
    "plt.hist(meas_voltage, bins=1001, alpha=0.7, color='blue', edgecolor='black')\n",
    "plt.xlabel('Measured Voltage')\n",
    "plt.ylabel('Frequency')\n",
    "plt.title('Histogram of Measured Voltage')\n",
    "plt.grid(True)\n",
    "\n",
    "# 標註一個和兩個標準差的位置\n",
    "plt.axvline(mean_voltage, color='red', linestyle='dashed', linewidth=1, label='Mean')\n",
    "plt.axvline(mean_voltage + std_voltage, color='green', linestyle='dashed', linewidth=1, label='+1 Std Dev')\n",
    "plt.axvline(mean_voltage - std_voltage, color='green', linestyle='dashed', linewidth=1, label='-1 Std Dev')\n",
    "plt.axvline(mean_voltage + 0.5 * std_voltage, color='orange', linestyle='dashed', linewidth=1, label='+0.5 Std Dev')\n",
    "plt.axvline(mean_voltage - 0.5 * std_voltage, color='orange', linestyle='dashed', linewidth=1, label='-0.5 Std Dev')\n",
    "plt.axvline(mean_voltage + 0.1 * std_voltage, color='gray', linestyle='dashed', linewidth=1, label='+0.1 Std Dev')\n",
    "plt.axvline(mean_voltage - 0.1 * std_voltage, color='gray', linestyle='dashed', linewidth=1, label='-0.1 Std Dev')\n",
    "\n",
    "# 添加圖例\n",
    "plt.legend()\n",
    "\n",
    "plt.show()"
   ]
  },
  {
   "cell_type": "code",
   "execution_count": 210,
   "metadata": {},
   "outputs": [],
   "source": [
    "%matplotlib ipympl"
   ]
  },
  {
   "cell_type": "code",
   "execution_count": null,
   "metadata": {},
   "outputs": [],
   "source": [
    "meas_voltage_avg = np.mean(meas_voltage)\n",
    "meas_voltage_avg"
   ]
  },
  {
   "cell_type": "code",
   "execution_count": null,
   "metadata": {},
   "outputs": [],
   "source": [
    "print(f\"{meas_voltage_avg:.2f} {voltage_unit} is the average voltage.\")"
   ]
  },
  {
   "cell_type": "code",
   "execution_count": null,
   "metadata": {},
   "outputs": [],
   "source": [
    "from Analysis_functions import *"
   ]
  },
  {
   "cell_type": "code",
   "execution_count": null,
   "metadata": {},
   "outputs": [],
   "source": [
    "plot_IV_and_dVdI(run_id=15)"
   ]
  }
 ],
 "metadata": {
  "kernelspec": {
   "display_name": "py3.11",
   "language": "python",
   "name": "python3"
  },
  "language_info": {
   "codemirror_mode": {
    "name": "ipython",
    "version": 3
   },
   "file_extension": ".py",
   "mimetype": "text/x-python",
   "name": "python",
   "nbconvert_exporter": "python",
   "pygments_lexer": "ipython3",
   "version": "3.9.13"
  }
 },
 "nbformat": 4,
 "nbformat_minor": 2
}
